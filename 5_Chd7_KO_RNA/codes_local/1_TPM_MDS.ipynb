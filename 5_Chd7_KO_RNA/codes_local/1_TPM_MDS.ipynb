{
 "cells": [
  {
   "cell_type": "code",
   "execution_count": 1,
   "metadata": {},
   "outputs": [
    {
     "data": {
      "text/plain": [
       "'/media/pipkin/ROCKET-PRO/CD8_DEV_SC/5_Chd7_KO_RNA'"
      ]
     },
     "execution_count": 1,
     "metadata": {},
     "output_type": "execute_result"
    }
   ],
   "source": [
    "import os\n",
    "import pandas as pd\n",
    "from sklearn.decomposition import PCA\n",
    "from sklearn.manifold import MDS\n",
    "from sklearn.metrics.pairwise import cosine_distances\n",
    "from scipy.stats import zscore\n",
    "import matplotlib.pyplot as plt\n",
    "import numpy as np\n",
    "import seaborn as sns\n",
    "from scipy import spatial\n",
    "\n",
    "%matplotlib inline\n",
    "\n",
    "try:\n",
    "    code_dir\n",
    "except NameError:\n",
    "    code_dir = os.getcwd()\n",
    "    base_dir = code_dir.replace(\"/codes_local\", \"\")\n",
    "    salmon_dir = base_dir + \"/0_salmon_DE_out/1_salmon_nonTrim\"\n",
    "    deseq2_dir = base_dir + \"/0_salmon_DE_out/2_DEseq\"\n",
    "    deseq2_compile_dir = base_dir + \"/0_salmon_DE_out/2_DEseq_compiled\"\n",
    "    root_dir = \"/\".join(base_dir.split(\"/\")[:-1])\n",
    "base_dir"
   ]
  },
  {
   "cell_type": "markdown",
   "metadata": {},
   "source": [
    "### 0. Preprocessing"
   ]
  },
  {
   "cell_type": "code",
   "execution_count": 3,
   "metadata": {},
   "outputs": [
    {
     "data": {
      "text/plain": [
       "(5716, 24)"
      ]
     },
     "execution_count": 3,
     "metadata": {},
     "output_type": "execute_result"
    }
   ],
   "source": [
    "tpm_file = deseq2_compile_dir + '/gene_tpm_bysample.csv'\n",
    "tpm_df = pd.read_csv(tpm_file, index_col=0)\n",
    "\n",
    "tpm_he_df = tpm_df[tpm_df.max(axis=1) > 20]\n",
    "tpm_he_z_df = tpm_he_df.transpose().apply(zscore).transpose()\n",
    "tpm_he_z_df_maxz = tpm_he_z_df.abs().max(axis=1)\n",
    "tpm_he_hv_z_df = tpm_he_z_df[tpm_he_z_df_maxz > 1.5]\n",
    "tpm_he_hv_z_df.shape"
   ]
  },
  {
   "cell_type": "markdown",
   "metadata": {},
   "source": [
    "### 1. MDS"
   ]
  },
  {
   "cell_type": "code",
   "execution_count": 4,
   "metadata": {},
   "outputs": [],
   "source": [
    "plot_out_dir = root_dir + '/9_Figures/5_Chd7_RNA_meta'"
   ]
  },
  {
   "cell_type": "code",
   "execution_count": 38,
   "metadata": {},
   "outputs": [
    {
     "name": "stdout",
     "output_type": "stream",
     "text": [
      "(24, 24)\n"
     ]
    }
   ],
   "source": [
    "cos_dist_mtx = cosine_distances(tpm_he_hv_z_df.T, tpm_he_hv_z_df.T)\n",
    "print(cos_dist_mtx.shape)\n",
    "\n",
    "embedding = MDS(n_components=2, dissimilarity='precomputed', \n",
    "                random_state=0, max_iter=5000, n_init=10)\n",
    "X_transformed = embedding.fit_transform(cos_dist_mtx)\n",
    "mds_out_df = pd.DataFrame(X_transformed)\n",
    "mds_out_df['types'] = tpm_df.columns.tolist()\n",
    "mds_out_df['conds'] = [\"_\".join(x.split(\"_\")[:-1]) for x in mds_out_df['types']]\n",
    "mds_out_df['conds_simp'] = [x.split(\"_\")[1] for x in mds_out_df['types']]\n",
    "mds_out_df['conds_simp'] = pd.Categorical(mds_out_df['conds_simp'].tolist(), \n",
    "                                          categories=['Naive', '48h','EE', 'MP', 'DP', 'TE'])\n",
    "mds_out_df['KO_WT'] = [x.split(\"_\")[0] for x in mds_out_df['types']]"
   ]
  },
  {
   "cell_type": "code",
   "execution_count": 69,
   "metadata": {},
   "outputs": [
    {
     "data": {
      "image/png": "[encoded data removed]",
      "text/plain": [
       "<Figure size 360x360 with 1 Axes>"
      ]
     },
     "metadata": {},
     "output_type": "display_data"
    }
   ],
   "source": [
    "# conditions\n",
    "outname = plot_out_dir + \"/Chd7KO_conditions.png\"\n",
    "\n",
    "sns.set(rc={'figure.figsize':(5,5)}, style='ticks')\n",
    "fig, ax = plt.subplots(1)\n",
    "sns.scatterplot(data=mds_out_df, x=0, y=1, \n",
    "                style='KO_WT', markers = ['^','o'],\n",
    "                hue='conds_simp', \n",
    "                palette=['silver','cornflowerblue', 'gold','darkviolet','limegreen','orangered'],\n",
    "                linewidth=1, edgecolor='white',\n",
    "                s=100, ax = ax)\n",
    "ax.legend(bbox_to_anchor=(1.05, 1), loc=2, borderaxespad=0.)\n",
    "ax.set_xlabel(\"\")\n",
    "ax.set_ylabel(\"\")\n",
    "plt.show()\n",
    "fig.savefig(outname)\n",
    "\n",
    "ax.get_legend().remove()\n",
    "fig.savefig(outname.replace(\".png\", '_no_leg.png'))"
   ]
  },
  {
   "cell_type": "markdown",
   "metadata": {},
   "source": [
    "### 2. Sample cosine similarity heatmap"
   ]
  },
  {
   "cell_type": "code",
   "execution_count": 25,
   "metadata": {},
   "outputs": [],
   "source": [
    "conds = ['Naive','48h','EE','DP','MP','TE']\n",
    "ordered_sps = []\n",
    "for i in conds:\n",
    "    ordered_sps += [\"WT_%s_1\"%i,\"WT_%s_2\"%i,\"KO_%s_1\"%i,\"KO_%s_2\"%i]"
   ]
  },
  {
   "cell_type": "code",
   "execution_count": 26,
   "metadata": {},
   "outputs": [],
   "source": [
    "dist_df = pd.DataFrame(cos_dist_mtx)\n",
    "dist_df.columns = tpm_he_hv_z_df.columns\n",
    "dist_df.index = tpm_he_hv_z_df.columns\n",
    "dist_df = dist_df[ordered_sps]\n",
    "dist_df = dist_df.loc[ordered_sps]"
   ]
  },
  {
   "cell_type": "code",
   "execution_count": 34,
   "metadata": {},
   "outputs": [
    {
     "data": {
      "image/png": "[encoded data removed]",
      "text/plain": [
       "<Figure size 360x288 with 2 Axes>"
      ]
     },
     "metadata": {},
     "output_type": "display_data"
    }
   ],
   "source": [
    "outname = plot_out_dir + \"/Chd7KO_cosine_distance_heatmap.png\"\n",
    "sns.set(rc={'figure.figsize':(5,4)})\n",
    "\n",
    "hm = sns.heatmap(dist_df, cmap=\"YlGnBu\")\n",
    "\n",
    "hm.set(xticklabels=[])\n",
    "hm.set(yticklabels=[])\n",
    "\n",
    "plt.savefig(outname)"
   ]
  },
  {
   "cell_type": "code",
   "execution_count": null,
   "metadata": {},
   "outputs": [],
   "source": []
  }
 ],
 "metadata": {
  "kernelspec": {
   "display_name": "Python 3",
   "language": "python",
   "name": "python3"
  },
  "language_info": {
   "codemirror_mode": {
    "name": "ipython",
    "version": 3
   },
   "file_extension": ".py",
   "mimetype": "text/x-python",
   "name": "python",
   "nbconvert_exporter": "python",
   "pygments_lexer": "ipython3",
   "version": "3.8.3"
  }
 },
 "nbformat": 4,
 "nbformat_minor": 4
}
