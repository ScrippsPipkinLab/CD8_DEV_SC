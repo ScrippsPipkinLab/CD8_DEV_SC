{
 "cells": [
  {
   "cell_type": "code",
   "execution_count": 2,
   "metadata": {},
   "outputs": [
    {
     "data": {
      "text/html": [
       "'/media/pipkin/ROCKET-PRO/CD8_DEV_SC/5_Chd7_KO_RNA'"
      ],
      "text/latex": [
       "'/media/pipkin/ROCKET-PRO/CD8\\_DEV\\_SC/5\\_Chd7\\_KO\\_RNA'"
      ],
      "text/markdown": [
       "'/media/pipkin/ROCKET-PRO/CD8_DEV_SC/5_Chd7_KO_RNA'"
      ],
      "text/plain": [
       "[1] \"/media/pipkin/ROCKET-PRO/CD8_DEV_SC/5_Chd7_KO_RNA\""
      ]
     },
     "metadata": {},
     "output_type": "display_data"
    }
   ],
   "source": [
    "##########----- Reused code -----##########\n",
    "# Last update: Sept 13, 2020\n",
    "# By: Huitian Diao\n",
    "###########################################\n",
    "\n",
    "library(stringr)\n",
    "\n",
    "code_dir <- getwd()\n",
    "tool_dir <- unlist(strsplit(code_dir,\"/\"))\n",
    "tool_dir <- head(tool_dir, length(tool_dir)-2)\n",
    "tool_dir <- paste(c(tool_dir, \"tools\"), collapse=\"/\")\n",
    "source(file.path(tool_dir, \"function_GSEA.R\"))\n",
    "base_dir <- gsub(\"/codes_local\", \"\", code_dir)\n",
    "base_dir"
   ]
  },
  {
   "cell_type": "markdown",
   "metadata": {},
   "source": [
    "## 1. GO term analysis for each set of comparison"
   ]
  },
  {
   "cell_type": "code",
   "execution_count": 3,
   "metadata": {},
   "outputs": [],
   "source": [
    "###----- Create reverse comparison for each, because GO term is one sided\n",
    "if (FALSE) {\n",
    "    ###----- Find all de files\n",
    "    de.out.dir <- '/media/pipkin/ROCKET-PRO/CD8_DEV_SC/5_Chd7_KO_RNA/0_salmon_DE_out/2_DEseq/gene_name'\n",
    "    de.files <- list.files(de.out.dir, pattern=\"*gn.csv\", full.names=TRUE,recursive=TRUE)\n",
    "\n",
    "    use.cols <- c(\"gene_name\", \"log2FoldChange\", \"padj\")\n",
    "\n",
    "    for (de.file in de.files) {\n",
    "        reverse.name <- gsub(\".csv\",\"_rev.csv\", de.file)\n",
    "        print(reverse.name)\n",
    "        de.df <- read_csv(de.file)\n",
    "        de.df$log2FoldChange <- -de.df$log2FoldChange\n",
    "        de.df$stat <- -de.df$stat\n",
    "        write_csv(de.df, reverse.name)\n",
    "    }\n",
    "}"
   ]
  },
  {
   "cell_type": "code",
   "execution_count": 9,
   "metadata": {
    "scrolled": true
   },
   "outputs": [
    {
     "data": {
      "text/html": [
       "<style>\n",
       ".list-inline {list-style: none; margin:0; padding: 0}\n",
       ".list-inline>li {display: inline-block}\n",
       ".list-inline>li:not(:last-child)::after {content: \"\\00b7\"; padding: 0 .5ex}\n",
       "</style>\n",
       "<ol class=list-inline><li>'/media/pipkin/ROCKET-PRO/CD8_DEV_SC/5_Chd7_shRNA_RNA/1_DEseq2_merge_shChd7/Chd7_vs_Ctrl_gn.csv'</li><li>'/media/pipkin/ROCKET-PRO/CD8_DEV_SC/5_Chd7_shRNA_RNA/1_DEseq2_merge_shChd7/Ctrl_vs_Chd7_gn.csv'</li><li>'/media/pipkin/ROCKET-PRO/CD8_DEV_SC/5_Chd7_shRNA_RNA/1_DEseq2/Chd7_1_vs_Chd7_2_gn.csv'</li><li>'/media/pipkin/ROCKET-PRO/CD8_DEV_SC/5_Chd7_shRNA_RNA/1_DEseq2/Chd7_1_vs_Chd7_3_gn.csv'</li><li>'/media/pipkin/ROCKET-PRO/CD8_DEV_SC/5_Chd7_shRNA_RNA/1_DEseq2/Chd7_1_vs_Ctrl_gn.csv'</li><li>'/media/pipkin/ROCKET-PRO/CD8_DEV_SC/5_Chd7_shRNA_RNA/1_DEseq2/Chd7_2_vs_Chd7_1_gn.csv'</li><li>'/media/pipkin/ROCKET-PRO/CD8_DEV_SC/5_Chd7_shRNA_RNA/1_DEseq2/Chd7_2_vs_Chd7_3_gn.csv'</li><li>'/media/pipkin/ROCKET-PRO/CD8_DEV_SC/5_Chd7_shRNA_RNA/1_DEseq2/Chd7_2_vs_Ctrl_gn.csv'</li><li>'/media/pipkin/ROCKET-PRO/CD8_DEV_SC/5_Chd7_shRNA_RNA/1_DEseq2/Chd7_3_vs_Chd7_1_gn.csv'</li><li>'/media/pipkin/ROCKET-PRO/CD8_DEV_SC/5_Chd7_shRNA_RNA/1_DEseq2/Chd7_3_vs_Chd7_2_gn.csv'</li><li>'/media/pipkin/ROCKET-PRO/CD8_DEV_SC/5_Chd7_shRNA_RNA/1_DEseq2/Chd7_3_vs_Ctrl_gn.csv'</li><li>'/media/pipkin/ROCKET-PRO/CD8_DEV_SC/5_Chd7_shRNA_RNA/1_DEseq2/Ctrl_vs_Chd7_1_gn.csv'</li><li>'/media/pipkin/ROCKET-PRO/CD8_DEV_SC/5_Chd7_shRNA_RNA/1_DEseq2/Ctrl_vs_Chd7_2_gn.csv'</li><li>'/media/pipkin/ROCKET-PRO/CD8_DEV_SC/5_Chd7_shRNA_RNA/1_DEseq2/Ctrl_vs_Chd7_3_gn.csv'</li></ol>\n"
      ],
      "text/latex": [
       "\\begin{enumerate*}\n",
       "\\item '/media/pipkin/ROCKET-PRO/CD8\\_DEV\\_SC/5\\_Chd7\\_shRNA\\_RNA/1\\_DEseq2\\_merge\\_shChd7/Chd7\\_vs\\_Ctrl\\_gn.csv'\n",
       "\\item '/media/pipkin/ROCKET-PRO/CD8\\_DEV\\_SC/5\\_Chd7\\_shRNA\\_RNA/1\\_DEseq2\\_merge\\_shChd7/Ctrl\\_vs\\_Chd7\\_gn.csv'\n",
       "\\item '/media/pipkin/ROCKET-PRO/CD8\\_DEV\\_SC/5\\_Chd7\\_shRNA\\_RNA/1\\_DEseq2/Chd7\\_1\\_vs\\_Chd7\\_2\\_gn.csv'\n",
       "\\item '/media/pipkin/ROCKET-PRO/CD8\\_DEV\\_SC/5\\_Chd7\\_shRNA\\_RNA/1\\_DEseq2/Chd7\\_1\\_vs\\_Chd7\\_3\\_gn.csv'\n",
       "\\item '/media/pipkin/ROCKET-PRO/CD8\\_DEV\\_SC/5\\_Chd7\\_shRNA\\_RNA/1\\_DEseq2/Chd7\\_1\\_vs\\_Ctrl\\_gn.csv'\n",
       "\\item '/media/pipkin/ROCKET-PRO/CD8\\_DEV\\_SC/5\\_Chd7\\_shRNA\\_RNA/1\\_DEseq2/Chd7\\_2\\_vs\\_Chd7\\_1\\_gn.csv'\n",
       "\\item '/media/pipkin/ROCKET-PRO/CD8\\_DEV\\_SC/5\\_Chd7\\_shRNA\\_RNA/1\\_DEseq2/Chd7\\_2\\_vs\\_Chd7\\_3\\_gn.csv'\n",
       "\\item '/media/pipkin/ROCKET-PRO/CD8\\_DEV\\_SC/5\\_Chd7\\_shRNA\\_RNA/1\\_DEseq2/Chd7\\_2\\_vs\\_Ctrl\\_gn.csv'\n",
       "\\item '/media/pipkin/ROCKET-PRO/CD8\\_DEV\\_SC/5\\_Chd7\\_shRNA\\_RNA/1\\_DEseq2/Chd7\\_3\\_vs\\_Chd7\\_1\\_gn.csv'\n",
       "\\item '/media/pipkin/ROCKET-PRO/CD8\\_DEV\\_SC/5\\_Chd7\\_shRNA\\_RNA/1\\_DEseq2/Chd7\\_3\\_vs\\_Chd7\\_2\\_gn.csv'\n",
       "\\item '/media/pipkin/ROCKET-PRO/CD8\\_DEV\\_SC/5\\_Chd7\\_shRNA\\_RNA/1\\_DEseq2/Chd7\\_3\\_vs\\_Ctrl\\_gn.csv'\n",
       "\\item '/media/pipkin/ROCKET-PRO/CD8\\_DEV\\_SC/5\\_Chd7\\_shRNA\\_RNA/1\\_DEseq2/Ctrl\\_vs\\_Chd7\\_1\\_gn.csv'\n",
       "\\item '/media/pipkin/ROCKET-PRO/CD8\\_DEV\\_SC/5\\_Chd7\\_shRNA\\_RNA/1\\_DEseq2/Ctrl\\_vs\\_Chd7\\_2\\_gn.csv'\n",
       "\\item '/media/pipkin/ROCKET-PRO/CD8\\_DEV\\_SC/5\\_Chd7\\_shRNA\\_RNA/1\\_DEseq2/Ctrl\\_vs\\_Chd7\\_3\\_gn.csv'\n",
       "\\end{enumerate*}\n"
      ],
      "text/markdown": [
       "1. '/media/pipkin/ROCKET-PRO/CD8_DEV_SC/5_Chd7_shRNA_RNA/1_DEseq2_merge_shChd7/Chd7_vs_Ctrl_gn.csv'\n",
       "2. '/media/pipkin/ROCKET-PRO/CD8_DEV_SC/5_Chd7_shRNA_RNA/1_DEseq2_merge_shChd7/Ctrl_vs_Chd7_gn.csv'\n",
       "3. '/media/pipkin/ROCKET-PRO/CD8_DEV_SC/5_Chd7_shRNA_RNA/1_DEseq2/Chd7_1_vs_Chd7_2_gn.csv'\n",
       "4. '/media/pipkin/ROCKET-PRO/CD8_DEV_SC/5_Chd7_shRNA_RNA/1_DEseq2/Chd7_1_vs_Chd7_3_gn.csv'\n",
       "5. '/media/pipkin/ROCKET-PRO/CD8_DEV_SC/5_Chd7_shRNA_RNA/1_DEseq2/Chd7_1_vs_Ctrl_gn.csv'\n",
       "6. '/media/pipkin/ROCKET-PRO/CD8_DEV_SC/5_Chd7_shRNA_RNA/1_DEseq2/Chd7_2_vs_Chd7_1_gn.csv'\n",
       "7. '/media/pipkin/ROCKET-PRO/CD8_DEV_SC/5_Chd7_shRNA_RNA/1_DEseq2/Chd7_2_vs_Chd7_3_gn.csv'\n",
       "8. '/media/pipkin/ROCKET-PRO/CD8_DEV_SC/5_Chd7_shRNA_RNA/1_DEseq2/Chd7_2_vs_Ctrl_gn.csv'\n",
       "9. '/media/pipkin/ROCKET-PRO/CD8_DEV_SC/5_Chd7_shRNA_RNA/1_DEseq2/Chd7_3_vs_Chd7_1_gn.csv'\n",
       "10. '/media/pipkin/ROCKET-PRO/CD8_DEV_SC/5_Chd7_shRNA_RNA/1_DEseq2/Chd7_3_vs_Chd7_2_gn.csv'\n",
       "11. '/media/pipkin/ROCKET-PRO/CD8_DEV_SC/5_Chd7_shRNA_RNA/1_DEseq2/Chd7_3_vs_Ctrl_gn.csv'\n",
       "12. '/media/pipkin/ROCKET-PRO/CD8_DEV_SC/5_Chd7_shRNA_RNA/1_DEseq2/Ctrl_vs_Chd7_1_gn.csv'\n",
       "13. '/media/pipkin/ROCKET-PRO/CD8_DEV_SC/5_Chd7_shRNA_RNA/1_DEseq2/Ctrl_vs_Chd7_2_gn.csv'\n",
       "14. '/media/pipkin/ROCKET-PRO/CD8_DEV_SC/5_Chd7_shRNA_RNA/1_DEseq2/Ctrl_vs_Chd7_3_gn.csv'\n",
       "\n",
       "\n"
      ],
      "text/plain": [
       " [1] \"/media/pipkin/ROCKET-PRO/CD8_DEV_SC/5_Chd7_shRNA_RNA/1_DEseq2_merge_shChd7/Chd7_vs_Ctrl_gn.csv\"\n",
       " [2] \"/media/pipkin/ROCKET-PRO/CD8_DEV_SC/5_Chd7_shRNA_RNA/1_DEseq2_merge_shChd7/Ctrl_vs_Chd7_gn.csv\"\n",
       " [3] \"/media/pipkin/ROCKET-PRO/CD8_DEV_SC/5_Chd7_shRNA_RNA/1_DEseq2/Chd7_1_vs_Chd7_2_gn.csv\"         \n",
       " [4] \"/media/pipkin/ROCKET-PRO/CD8_DEV_SC/5_Chd7_shRNA_RNA/1_DEseq2/Chd7_1_vs_Chd7_3_gn.csv\"         \n",
       " [5] \"/media/pipkin/ROCKET-PRO/CD8_DEV_SC/5_Chd7_shRNA_RNA/1_DEseq2/Chd7_1_vs_Ctrl_gn.csv\"           \n",
       " [6] \"/media/pipkin/ROCKET-PRO/CD8_DEV_SC/5_Chd7_shRNA_RNA/1_DEseq2/Chd7_2_vs_Chd7_1_gn.csv\"         \n",
       " [7] \"/media/pipkin/ROCKET-PRO/CD8_DEV_SC/5_Chd7_shRNA_RNA/1_DEseq2/Chd7_2_vs_Chd7_3_gn.csv\"         \n",
       " [8] \"/media/pipkin/ROCKET-PRO/CD8_DEV_SC/5_Chd7_shRNA_RNA/1_DEseq2/Chd7_2_vs_Ctrl_gn.csv\"           \n",
       " [9] \"/media/pipkin/ROCKET-PRO/CD8_DEV_SC/5_Chd7_shRNA_RNA/1_DEseq2/Chd7_3_vs_Chd7_1_gn.csv\"         \n",
       "[10] \"/media/pipkin/ROCKET-PRO/CD8_DEV_SC/5_Chd7_shRNA_RNA/1_DEseq2/Chd7_3_vs_Chd7_2_gn.csv\"         \n",
       "[11] \"/media/pipkin/ROCKET-PRO/CD8_DEV_SC/5_Chd7_shRNA_RNA/1_DEseq2/Chd7_3_vs_Ctrl_gn.csv\"           \n",
       "[12] \"/media/pipkin/ROCKET-PRO/CD8_DEV_SC/5_Chd7_shRNA_RNA/1_DEseq2/Ctrl_vs_Chd7_1_gn.csv\"           \n",
       "[13] \"/media/pipkin/ROCKET-PRO/CD8_DEV_SC/5_Chd7_shRNA_RNA/1_DEseq2/Ctrl_vs_Chd7_2_gn.csv\"           \n",
       "[14] \"/media/pipkin/ROCKET-PRO/CD8_DEV_SC/5_Chd7_shRNA_RNA/1_DEseq2/Ctrl_vs_Chd7_3_gn.csv\"           "
      ]
     },
     "metadata": {},
     "output_type": "display_data"
    }
   ],
   "source": [
    "##########----- Parameters-----##########\n",
    "genome <- \"mm\"\n",
    "#########################################\n",
    "sum.dir <- '/media/pipkin/ROCKET-PRO/CD8_DEV_SC/5_Chd7_shRNA_RNA/2_DE_GO'\n",
    "dir.create(sum.dir, showWarnings = FALSE, recursive=TRUE)\n",
    "setwd(sum.dir)\n",
    "\n",
    "###----- Find all de files\n",
    "de.out.dir1 <- '/media/pipkin/ROCKET-PRO/CD8_DEV_SC/5_Chd7_shRNA_RNA/1_DEseq2_merge_shChd7'\n",
    "de.out.dir2 <- '/media/pipkin/ROCKET-PRO/CD8_DEV_SC/5_Chd7_shRNA_RNA/1_DEseq2'\n",
    "de.files1 <- list.files(de.out.dir1, pattern=\"*gn.csv\", full.names=TRUE, recursive=TRUE)\n",
    "de.files2 <- list.files(de.out.dir2, pattern=\"*gn.csv\", full.names=TRUE, recursive=TRUE)\n",
    "de.files <- c(de.files1, de.files2)\n",
    "\n",
    "use.cols <- c(\"gene_name\", \"log2FoldChange\", \"padj\")\n",
    "\n",
    "de.files"
   ]
  },
  {
   "cell_type": "code",
   "execution_count": 20,
   "metadata": {},
   "outputs": [
    {
     "data": {
      "text/html": [
       "<style>\n",
       ".list-inline {list-style: none; margin:0; padding: 0}\n",
       ".list-inline>li {display: inline-block}\n",
       ".list-inline>li:not(:last-child)::after {content: \"\\00b7\"; padding: 0 .5ex}\n",
       "</style>\n",
       "<ol class=list-inline><li>'/media/pipkin/ROCKET-PRO/CD8_DEV_SC/5_Chd7_shRNA_RNA/1_DEseq2_merge_shChd7/Ctrl_vs_Chd7_gn.csv'</li><li>'/media/pipkin/ROCKET-PRO/CD8_DEV_SC/5_Chd7_shRNA_RNA/1_DEseq2/Chd7_1_vs_Chd7_2_gn.csv'</li><li>'/media/pipkin/ROCKET-PRO/CD8_DEV_SC/5_Chd7_shRNA_RNA/1_DEseq2/Chd7_1_vs_Chd7_3_gn.csv'</li><li>'/media/pipkin/ROCKET-PRO/CD8_DEV_SC/5_Chd7_shRNA_RNA/1_DEseq2/Chd7_1_vs_Ctrl_gn.csv'</li><li>'/media/pipkin/ROCKET-PRO/CD8_DEV_SC/5_Chd7_shRNA_RNA/1_DEseq2/Chd7_2_vs_Chd7_1_gn.csv'</li><li>'/media/pipkin/ROCKET-PRO/CD8_DEV_SC/5_Chd7_shRNA_RNA/1_DEseq2/Chd7_2_vs_Chd7_3_gn.csv'</li><li>'/media/pipkin/ROCKET-PRO/CD8_DEV_SC/5_Chd7_shRNA_RNA/1_DEseq2/Chd7_2_vs_Ctrl_gn.csv'</li><li>'/media/pipkin/ROCKET-PRO/CD8_DEV_SC/5_Chd7_shRNA_RNA/1_DEseq2/Chd7_3_vs_Chd7_1_gn.csv'</li><li>'/media/pipkin/ROCKET-PRO/CD8_DEV_SC/5_Chd7_shRNA_RNA/1_DEseq2/Chd7_3_vs_Chd7_2_gn.csv'</li><li>'/media/pipkin/ROCKET-PRO/CD8_DEV_SC/5_Chd7_shRNA_RNA/1_DEseq2/Chd7_3_vs_Ctrl_gn.csv'</li><li>'/media/pipkin/ROCKET-PRO/CD8_DEV_SC/5_Chd7_shRNA_RNA/1_DEseq2/Ctrl_vs_Chd7_1_gn.csv'</li><li>'/media/pipkin/ROCKET-PRO/CD8_DEV_SC/5_Chd7_shRNA_RNA/1_DEseq2/Ctrl_vs_Chd7_2_gn.csv'</li><li>'/media/pipkin/ROCKET-PRO/CD8_DEV_SC/5_Chd7_shRNA_RNA/1_DEseq2/Ctrl_vs_Chd7_3_gn.csv'</li></ol>\n"
      ],
      "text/latex": [
       "\\begin{enumerate*}\n",
       "\\item '/media/pipkin/ROCKET-PRO/CD8\\_DEV\\_SC/5\\_Chd7\\_shRNA\\_RNA/1\\_DEseq2\\_merge\\_shChd7/Ctrl\\_vs\\_Chd7\\_gn.csv'\n",
       "\\item '/media/pipkin/ROCKET-PRO/CD8\\_DEV\\_SC/5\\_Chd7\\_shRNA\\_RNA/1\\_DEseq2/Chd7\\_1\\_vs\\_Chd7\\_2\\_gn.csv'\n",
       "\\item '/media/pipkin/ROCKET-PRO/CD8\\_DEV\\_SC/5\\_Chd7\\_shRNA\\_RNA/1\\_DEseq2/Chd7\\_1\\_vs\\_Chd7\\_3\\_gn.csv'\n",
       "\\item '/media/pipkin/ROCKET-PRO/CD8\\_DEV\\_SC/5\\_Chd7\\_shRNA\\_RNA/1\\_DEseq2/Chd7\\_1\\_vs\\_Ctrl\\_gn.csv'\n",
       "\\item '/media/pipkin/ROCKET-PRO/CD8\\_DEV\\_SC/5\\_Chd7\\_shRNA\\_RNA/1\\_DEseq2/Chd7\\_2\\_vs\\_Chd7\\_1\\_gn.csv'\n",
       "\\item '/media/pipkin/ROCKET-PRO/CD8\\_DEV\\_SC/5\\_Chd7\\_shRNA\\_RNA/1\\_DEseq2/Chd7\\_2\\_vs\\_Chd7\\_3\\_gn.csv'\n",
       "\\item '/media/pipkin/ROCKET-PRO/CD8\\_DEV\\_SC/5\\_Chd7\\_shRNA\\_RNA/1\\_DEseq2/Chd7\\_2\\_vs\\_Ctrl\\_gn.csv'\n",
       "\\item '/media/pipkin/ROCKET-PRO/CD8\\_DEV\\_SC/5\\_Chd7\\_shRNA\\_RNA/1\\_DEseq2/Chd7\\_3\\_vs\\_Chd7\\_1\\_gn.csv'\n",
       "\\item '/media/pipkin/ROCKET-PRO/CD8\\_DEV\\_SC/5\\_Chd7\\_shRNA\\_RNA/1\\_DEseq2/Chd7\\_3\\_vs\\_Chd7\\_2\\_gn.csv'\n",
       "\\item '/media/pipkin/ROCKET-PRO/CD8\\_DEV\\_SC/5\\_Chd7\\_shRNA\\_RNA/1\\_DEseq2/Chd7\\_3\\_vs\\_Ctrl\\_gn.csv'\n",
       "\\item '/media/pipkin/ROCKET-PRO/CD8\\_DEV\\_SC/5\\_Chd7\\_shRNA\\_RNA/1\\_DEseq2/Ctrl\\_vs\\_Chd7\\_1\\_gn.csv'\n",
       "\\item '/media/pipkin/ROCKET-PRO/CD8\\_DEV\\_SC/5\\_Chd7\\_shRNA\\_RNA/1\\_DEseq2/Ctrl\\_vs\\_Chd7\\_2\\_gn.csv'\n",
       "\\item '/media/pipkin/ROCKET-PRO/CD8\\_DEV\\_SC/5\\_Chd7\\_shRNA\\_RNA/1\\_DEseq2/Ctrl\\_vs\\_Chd7\\_3\\_gn.csv'\n",
       "\\end{enumerate*}\n"
      ],
      "text/markdown": [
       "1. '/media/pipkin/ROCKET-PRO/CD8_DEV_SC/5_Chd7_shRNA_RNA/1_DEseq2_merge_shChd7/Ctrl_vs_Chd7_gn.csv'\n",
       "2. '/media/pipkin/ROCKET-PRO/CD8_DEV_SC/5_Chd7_shRNA_RNA/1_DEseq2/Chd7_1_vs_Chd7_2_gn.csv'\n",
       "3. '/media/pipkin/ROCKET-PRO/CD8_DEV_SC/5_Chd7_shRNA_RNA/1_DEseq2/Chd7_1_vs_Chd7_3_gn.csv'\n",
       "4. '/media/pipkin/ROCKET-PRO/CD8_DEV_SC/5_Chd7_shRNA_RNA/1_DEseq2/Chd7_1_vs_Ctrl_gn.csv'\n",
       "5. '/media/pipkin/ROCKET-PRO/CD8_DEV_SC/5_Chd7_shRNA_RNA/1_DEseq2/Chd7_2_vs_Chd7_1_gn.csv'\n",
       "6. '/media/pipkin/ROCKET-PRO/CD8_DEV_SC/5_Chd7_shRNA_RNA/1_DEseq2/Chd7_2_vs_Chd7_3_gn.csv'\n",
       "7. '/media/pipkin/ROCKET-PRO/CD8_DEV_SC/5_Chd7_shRNA_RNA/1_DEseq2/Chd7_2_vs_Ctrl_gn.csv'\n",
       "8. '/media/pipkin/ROCKET-PRO/CD8_DEV_SC/5_Chd7_shRNA_RNA/1_DEseq2/Chd7_3_vs_Chd7_1_gn.csv'\n",
       "9. '/media/pipkin/ROCKET-PRO/CD8_DEV_SC/5_Chd7_shRNA_RNA/1_DEseq2/Chd7_3_vs_Chd7_2_gn.csv'\n",
       "10. '/media/pipkin/ROCKET-PRO/CD8_DEV_SC/5_Chd7_shRNA_RNA/1_DEseq2/Chd7_3_vs_Ctrl_gn.csv'\n",
       "11. '/media/pipkin/ROCKET-PRO/CD8_DEV_SC/5_Chd7_shRNA_RNA/1_DEseq2/Ctrl_vs_Chd7_1_gn.csv'\n",
       "12. '/media/pipkin/ROCKET-PRO/CD8_DEV_SC/5_Chd7_shRNA_RNA/1_DEseq2/Ctrl_vs_Chd7_2_gn.csv'\n",
       "13. '/media/pipkin/ROCKET-PRO/CD8_DEV_SC/5_Chd7_shRNA_RNA/1_DEseq2/Ctrl_vs_Chd7_3_gn.csv'\n",
       "\n",
       "\n"
      ],
      "text/plain": [
       " [1] \"/media/pipkin/ROCKET-PRO/CD8_DEV_SC/5_Chd7_shRNA_RNA/1_DEseq2_merge_shChd7/Ctrl_vs_Chd7_gn.csv\"\n",
       " [2] \"/media/pipkin/ROCKET-PRO/CD8_DEV_SC/5_Chd7_shRNA_RNA/1_DEseq2/Chd7_1_vs_Chd7_2_gn.csv\"         \n",
       " [3] \"/media/pipkin/ROCKET-PRO/CD8_DEV_SC/5_Chd7_shRNA_RNA/1_DEseq2/Chd7_1_vs_Chd7_3_gn.csv\"         \n",
       " [4] \"/media/pipkin/ROCKET-PRO/CD8_DEV_SC/5_Chd7_shRNA_RNA/1_DEseq2/Chd7_1_vs_Ctrl_gn.csv\"           \n",
       " [5] \"/media/pipkin/ROCKET-PRO/CD8_DEV_SC/5_Chd7_shRNA_RNA/1_DEseq2/Chd7_2_vs_Chd7_1_gn.csv\"         \n",
       " [6] \"/media/pipkin/ROCKET-PRO/CD8_DEV_SC/5_Chd7_shRNA_RNA/1_DEseq2/Chd7_2_vs_Chd7_3_gn.csv\"         \n",
       " [7] \"/media/pipkin/ROCKET-PRO/CD8_DEV_SC/5_Chd7_shRNA_RNA/1_DEseq2/Chd7_2_vs_Ctrl_gn.csv\"           \n",
       " [8] \"/media/pipkin/ROCKET-PRO/CD8_DEV_SC/5_Chd7_shRNA_RNA/1_DEseq2/Chd7_3_vs_Chd7_1_gn.csv\"         \n",
       " [9] \"/media/pipkin/ROCKET-PRO/CD8_DEV_SC/5_Chd7_shRNA_RNA/1_DEseq2/Chd7_3_vs_Chd7_2_gn.csv\"         \n",
       "[10] \"/media/pipkin/ROCKET-PRO/CD8_DEV_SC/5_Chd7_shRNA_RNA/1_DEseq2/Chd7_3_vs_Ctrl_gn.csv\"           \n",
       "[11] \"/media/pipkin/ROCKET-PRO/CD8_DEV_SC/5_Chd7_shRNA_RNA/1_DEseq2/Ctrl_vs_Chd7_1_gn.csv\"           \n",
       "[12] \"/media/pipkin/ROCKET-PRO/CD8_DEV_SC/5_Chd7_shRNA_RNA/1_DEseq2/Ctrl_vs_Chd7_2_gn.csv\"           \n",
       "[13] \"/media/pipkin/ROCKET-PRO/CD8_DEV_SC/5_Chd7_shRNA_RNA/1_DEseq2/Ctrl_vs_Chd7_3_gn.csv\"           "
      ]
     },
     "metadata": {},
     "output_type": "display_data"
    }
   ],
   "source": []
  },
  {
   "cell_type": "code",
   "execution_count": 21,
   "metadata": {
    "scrolled": true
   },
   "outputs": [
    {
     "name": "stderr",
     "output_type": "stream",
     "text": [
      "\n",
      "\u001b[36m──\u001b[39m \u001b[1m\u001b[1mColumn specification\u001b[1m\u001b[22m \u001b[36m───────────────────────────────────\u001b[39m\n",
      "cols(\n",
      "  gene_name = \u001b[31mcol_character()\u001b[39m,\n",
      "  baseMean = \u001b[32mcol_double()\u001b[39m,\n",
      "  log2FoldChange = \u001b[32mcol_double()\u001b[39m,\n",
      "  lfcSE = \u001b[32mcol_double()\u001b[39m,\n",
      "  stat = \u001b[32mcol_double()\u001b[39m,\n",
      "  pvalue = \u001b[32mcol_double()\u001b[39m,\n",
      "  padj = \u001b[32mcol_double()\u001b[39m\n",
      ")\n",
      "\n",
      "\n",
      "Warning message:\n",
      "“Unknown columns: `gene_names`”\n"
     ]
    },
    {
     "name": "stdout",
     "output_type": "stream",
     "text": [
      "[1] \"Ctrl_vs_Chd7_gn    Gene number: 1790\"\n"
     ]
    },
    {
     "name": "stderr",
     "output_type": "stream",
     "text": [
      "'select()' returned many:many mapping between keys and columns\n",
      "\n",
      "/media/pipkin/ROCKET-PRO/CD8_DEV_SC/5_Chd7_shRNA_RNA/1_DEseq2_merge_shChd7/Ctrl_vs_Chd7_gn.csv; failed\n",
      "\n"
     ]
    },
    {
     "data": {
      "text/html": [
       "'no'"
      ],
      "text/latex": [
       "'no'"
      ],
      "text/markdown": [
       "'no'"
      ],
      "text/plain": [
       "[1] \"no\""
      ]
     },
     "metadata": {},
     "output_type": "display_data"
    }
   ],
   "source": [
    "for (file.i in de.files[2:length(de.files)]) {\n",
    "    \n",
    "    ###----- Create output names & output directory\n",
    "    file.i.outpath <- gsub(de.out.dir1, \"\", file.i)\n",
    "    file.i.outpath <- gsub(de.out.dir2, \"\", file.i.outpath)\n",
    "    file.i.outpath <- gsub(\".csv\", \"\", file.i.outpath)\n",
    "    file.i.outpath <- gsub(\"^/\", \"\",file.i.outpath)\n",
    "\n",
    "    file.i.simp.name <- tail(unlist(strsplit( file.i.outpath, \"/\")), 1)\n",
    "    file.i.simp.name <- gsub(\"_differential\", \"\", file.i.simp.name)\n",
    "    file.i.simp.vec <- unlist(strsplit(file.i.simp.name, \"_vs_\"))\n",
    "\n",
    "    # Create output directory\n",
    "    wk.dir <- file.path(sum.dir, file.i.outpath)\n",
    "    dir.create(wk.dir, showWarnings = FALSE, recursive=TRUE)\n",
    "    setwd(wk.dir)\n",
    "    \n",
    "    # Run GO\n",
    "    useGroup <- \"log2FoldChange\"\n",
    "    outName <- file.i.simp.name\n",
    "\n",
    "    success <- \"yes\"\n",
    "    #gsea <- tryCatch({\n",
    "    GO_run(file.i, useGroup, outName, 1, FALSE)\n",
    "    #message(paste(file.i, \"failed\",sep='; '))\n",
    "    #return(\"no\")\n",
    "    #})\n",
    "}"
   ]
  },
  {
   "cell_type": "code",
   "execution_count": null,
   "metadata": {},
   "outputs": [],
   "source": []
  }
 ],
 "metadata": {
  "kernelspec": {
   "display_name": "R",
   "language": "R",
   "name": "ir"
  },
  "language_info": {
   "codemirror_mode": "r",
   "file_extension": ".r",
   "mimetype": "text/x-r-source",
   "name": "R",
   "pygments_lexer": "r",
   "version": "3.6.3"
  }
 },
 "nbformat": 4,
 "nbformat_minor": 4
}
