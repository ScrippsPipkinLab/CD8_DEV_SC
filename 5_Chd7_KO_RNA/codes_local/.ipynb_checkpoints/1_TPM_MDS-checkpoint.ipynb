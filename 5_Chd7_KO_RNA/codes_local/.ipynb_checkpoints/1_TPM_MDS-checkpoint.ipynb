{
 "cells": [
  {
   "cell_type": "code",
   "execution_count": 8,
   "metadata": {},
   "outputs": [
    {
     "data": {
      "text/plain": [
       "'/media/pipkin/ROCKET-PRO/CD8_DEV_SC/5_Chd7_KO_RNA'"
      ]
     },
     "execution_count": 8,
     "metadata": {},
     "output_type": "execute_result"
    }
   ],
   "source": [
    "import os\n",
    "import pandas as pd\n",
    "from sklearn.decomposition import PCA\n",
    "from sklearn.manifold import MDS\n",
    "from sklearn.metrics.pairwise import cosine_distances\n",
    "from scipy.stats import zscore\n",
    "import matplotlib.pyplot as plt\n",
    "import numpy as np\n",
    "import seaborn as sns\n",
    "from scipy import spatial\n",
    "\n",
    "%matplotlib inline\n",
    "\n",
    "try:\n",
    "    code_dir\n",
    "except NameError:\n",
    "    code_dir = os.getcwd()\n",
    "    base_dir = code_dir.replace(\"/codes_local\", \"\")\n",
    "    salmon_dir = base_dir + \"/0_salmon_DE_out/1_salmon_nonTrim\"\n",
    "    deseq2_dir = base_dir + \"/0_salmon_DE_out/2_DEseq\"\n",
    "    deseq2_compile_dir = base_dir + \"/0_salmon_DE_out/2_DEseq_compiled\"\n",
    "base_dir"
   ]
  },
  {
   "cell_type": "markdown",
   "metadata": {},
   "source": [
    "### 0. Preprocessing"
   ]
  },
  {
   "cell_type": "code",
   "execution_count": 11,
   "metadata": {},
   "outputs": [
    {
     "data": {
      "text/plain": [
       "(5716, 24)"
      ]
     },
     "execution_count": 11,
     "metadata": {},
     "output_type": "execute_result"
    }
   ],
   "source": [
    "tpm_file = deseq2_compile_dir + '/gene_tpm_bysample.csv'\n",
    "tpm_df = pd.read_csv(tpm_file, index_col=0)\n",
    "\n",
    "tpm_he_df = tpm_df[tpm_df.max(axis=1) > 20]\n",
    "tpm_he_z_df = tpm_he_df.transpose().apply(zscore).transpose()\n",
    "tpm_he_z_df_maxz = tpm_he_z_df.abs().max(axis=1)\n",
    "tpm_he_hv_z_df = tpm_he_z_df[tpm_he_z_df_maxz > 1.5]\n",
    "tpm_he_hv_z_df.shape"
   ]
  },
  {
   "cell_type": "markdown",
   "metadata": {},
   "source": [
    "### 1. MDS"
   ]
  },
  {
   "cell_type": "code",
   "execution_count": 14,
   "metadata": {},
   "outputs": [],
   "source": [
    "cos_dist_mtx = cosine_distances(tpm_z_he_hv_df, tpm_z_he_hv_df)"
   ]
  },
  {
   "cell_type": "code",
   "execution_count": null,
   "metadata": {},
   "outputs": [],
   "source": [
    "embedding = MDS(n_components=2, dissimilarity='precomputed', random_state=0, max_iter=2000)\n",
    "X_transformed = embedding.fit_transform(cos_dist_mtx)\n",
    "mds_out_df = pd.DataFrame(X_transformed)\n",
    "mds_out_df['types'] = tpm_df.columns.tolist()\n",
    "mds_out_df['conds'] = [\"_\".join(x.split(\"_\")[:-1]) for x in mds_out_df['types']]\n",
    "mds_out_df['conds_simp'] = [x.split(\"_\")[1] for x in mds_out_df['types']]\n",
    "mds_out_df['KO_WT'] = [x.split(\"_\")[0] for x in mds_out_df['types']]\n",
    "\n",
    "sns.scatterplot(data=mds_out_df, x=0, y=1, hue='conds_simp')\n",
    "plt.show()\n",
    "plt.close()"
   ]
  },
  {
   "cell_type": "code",
   "execution_count": 107,
   "metadata": {},
   "outputs": [
    {
     "data": {
      "text/plain": [
       "<AxesSubplot:xlabel='0', ylabel='1'>"
      ]
     },
     "execution_count": 107,
     "metadata": {},
     "output_type": "execute_result"
    },
    {
     "data": {
      "image/png": "[encoded data removed]",
      "text/plain": [
       "<Figure size 432x288 with 1 Axes>"
      ]
     },
     "metadata": {
      "needs_background": "light"
     },
     "output_type": "display_data"
    }
   ],
   "source": [
    "sns.scatterplot(data=mds_out_df, x=0, y=1, hue='KO_WT')"
   ]
  },
  {
   "cell_type": "markdown",
   "metadata": {},
   "source": [
    "### 2. Sample similarity"
   ]
  },
  {
   "cell_type": "code",
   "execution_count": 148,
   "metadata": {},
   "outputs": [],
   "source": [
    "sp_order = ['Cd4_1_1', 'Cd4_1_2', 'Cd19_1_1',  \n",
    "            'Chd7_1_1',  'Chd7_1_2',  'Chd7_2_1','Chd7_2_2','Chd7_3_1','Chd7_3_2']\n",
    "\n",
    "dist_df = pd.DataFrame({\"sample\": sp_order}).set_index(\"sample\")\n",
    "for i in sp_order:\n",
    "    i_col = []\n",
    "    for j in sp_order:\n",
    "        i_col.append(spatial.distance.cosine(tpm_hv_he_df_z[i], tpm_hv_he_df_z[j]))\n",
    "    dist_df[i] = i_col"
   ]
  },
  {
   "cell_type": "code",
   "execution_count": 149,
   "metadata": {},
   "outputs": [
    {
     "data": {
      "text/plain": [
       "<AxesSubplot:ylabel='sample'>"
      ]
     },
     "execution_count": 149,
     "metadata": {},
     "output_type": "execute_result"
    },
    {
     "data": {
      "image/png": "[encoded data removed]",
      "text/plain": [
       "<Figure size 432x288 with 2 Axes>"
      ]
     },
     "metadata": {
      "needs_background": "light"
     },
     "output_type": "display_data"
    }
   ],
   "source": [
    "sns.heatmap(dist_df, cmap=\"YlGnBu\", vmin=0, vmax=1)"
   ]
  },
  {
   "cell_type": "code",
   "execution_count": null,
   "metadata": {},
   "outputs": [],
   "source": []
  },
  {
   "cell_type": "code",
   "execution_count": null,
   "metadata": {},
   "outputs": [],
   "source": []
  },
  {
   "cell_type": "code",
   "execution_count": null,
   "metadata": {},
   "outputs": [],
   "source": []
  }
 ],
 "metadata": {
  "kernelspec": {
   "display_name": "Python 3",
   "language": "python",
   "name": "python3"
  },
  "language_info": {
   "codemirror_mode": {
    "name": "ipython",
    "version": 3
   },
   "file_extension": ".py",
   "mimetype": "text/x-python",
   "name": "python",
   "nbconvert_exporter": "python",
   "pygments_lexer": "ipython3",
   "version": "3.8.3"
  }
 },
 "nbformat": 4,
 "nbformat_minor": 4
}
