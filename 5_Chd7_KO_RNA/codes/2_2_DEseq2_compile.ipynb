{
 "cells": [
  {
   "cell_type": "code",
   "execution_count": 40,
   "metadata": {},
   "outputs": [
    {
     "data": {
      "text/plain": [
       "'/media/pipkin/ROCKET-PRO/CD8_DEV_SC/5_Chd7_KO_RNA'"
      ]
     },
     "execution_count": 40,
     "metadata": {},
     "output_type": "execute_result"
    }
   ],
   "source": [
    "import pandas as pd\n",
    "import os\n",
    "import glob\n",
    "try:\n",
    "    code_dir\n",
    "except NameError:\n",
    "    code_dir = os.getcwd()\n",
    "    base_dir = code_dir.replace(\"/codes\", \"\")\n",
    "    salmon_dir = base_dir + \"/0_salmon_DE_out/1_salmon_nonTrim\"\n",
    "    deseq2_dir = base_dir + \"/0_salmon_DE_out/2_DEseq\"\n",
    "    deseq2_compile_dir = base_dir + \"/0_salmon_DE_out/2_DEseq_compiled\"\n",
    "base_dir"
   ]
  },
  {
   "cell_type": "code",
   "execution_count": 105,
   "metadata": {},
   "outputs": [],
   "source": [
    "tx2genes = '/home/pipkin/references/GRCm38.102/tx2gene.csv'\n",
    "tx2genes_df = pd.read_csv(tx2genes)\n",
    "tx2genes_df = tx2genes_df.set_index(\"GENEID\")\n",
    "\n",
    "id2gn = '/home/pipkin/references/mm_BioMart_GeneStableID_GeneName.txt'\n",
    "id2gn_df = pd.read_csv(id2gn, index_col=0)\n",
    "\n",
    "tx2gn_df = tx2genes_df.join(id2gn_df)\n",
    "tx2gn_df = tx2gn_df[[True if str(x) != 'nan' else False for x in tx2gn_df['gene_name']]]\n",
    "tx2gn_df = tx2gn_df.set_index('TXNAME')"
   ]
  },
  {
   "cell_type": "markdown",
   "metadata": {},
   "source": [
    "# TPM"
   ]
  },
  {
   "cell_type": "code",
   "execution_count": 164,
   "metadata": {},
   "outputs": [],
   "source": [
    "###----- Compile TPM and calculate average TPM\n",
    "# Per transcript tpm compilation\n",
    "quant_sf_files = glob.glob(\"%s/*/quant.sf\"%salmon_dir)\n",
    "\n",
    "tx_tpm_file = deseq2_compile_dir + \"/transcript_tpm_bysample.csv\"\n",
    "tx_tpm_df = pd.read_csv(quant_sf_files[0], sep=\"\\t\", index_col=0)[[]]\n",
    "for quant_sf_file in quant_sf_files:\n",
    "    quant_sf_sp = quant_sf_file.split(\"/\")[-2]\n",
    "    quant_sf_sp = quant_sf_sp.replace(\"naive\",\"Naive\")\n",
    "    quant_sf_df = pd.read_csv(quant_sf_file, sep=\"\\t\", index_col=0)[['TPM']]\n",
    "    quant_sf_df.columns = [quant_sf_sp]\n",
    "    tx_tpm_df = tx_tpm_df.join(quant_sf_df)\n",
    "tx_tpm_df.index = [x.split(\".\")[0] for x in tx_tpm_df.index]\n",
    "tx_tpm_df_gn = tx2gn_df.join(tx_tpm_df, how='inner')\n",
    "tx_tpm_df_gn.to_csv(tx_tpm_file)\n",
    "\n",
    "# Per gene tpm\n",
    "gn_tpm_file = deseq2_compile_dir + \"/gene_tpm_bysample.csv\"\n",
    "tx_tpm_df_gn = tx2gn_df.join(tx_tpm_df, how='inner')\n",
    "gn_tpm_df = tx_tpm_df_gn.groupby(\"gene_name\").sum()\n",
    "gn_tpm_df.to_csv(gn_tpm_file)\n",
    "\n",
    "# Per condition average - transcript tpm\n",
    "tx_tpm_file = deseq2_compile_dir + \"/transcript_tpm.csv\"\n",
    "tx_tpm_df_t = tx_tpm_df.copy().transpose()\n",
    "tx_tpm_df_t['cond'] = [\"_\".join(x.split(\"_\")[:-1]) for x in tx_tpm_df_t.index]\n",
    "tx_tpm_cond_df = tx_tpm_df_t.groupby(\"cond\").mean().transpose()\n",
    "tx_tpm_cond_df.columns.name = ''\n",
    "tx_tpm_cond_df_gn = tx2gn_df.join(tx_tpm_cond_df, how='inner')\n",
    "tx_tpm_cond_df_gn.to_csv(tx_tpm_file)\n",
    "\n",
    "# Per condition average - gene tpm\n",
    "gn_tpm_file = deseq2_compile_dir + \"/gene_tpm.csv\"\n",
    "gn_tpm_df_t = gn_tpm_df.copy().transpose()\n",
    "gn_tpm_df_t['cond'] = [\"_\".join(x.split(\"_\")[:-1]) for x in gn_tpm_df_t.index]\n",
    "gn_tpm_cond_df = gn_tpm_df_t.groupby(\"cond\").mean().transpose()\n",
    "gn_tpm_cond_df.columns.name = ''\n",
    "gn_tpm_cond_df.to_csv(gn_tpm_file)"
   ]
  },
  {
   "cell_type": "markdown",
   "metadata": {},
   "source": [
    "# Normalized counts"
   ]
  },
  {
   "cell_type": "code",
   "execution_count": 20,
   "metadata": {},
   "outputs": [],
   "source": [
    "###----- Calculate averge normalized count\n",
    "norm_count_file = deseq2_compile_dir + \"/DESeq2_normalized_counts_bysample_gn.csv\"\n",
    "avg_norm_count_file = deseq2_compile_dir + \"/DESeq2_normalized_counts_gn.csv\"\n",
    "\n",
    "norm_count_df = pd.read_csv(norm_count_file, index_col=0)\n",
    "all_genes = norm_count_df.index.tolist()\n",
    "\n",
    "# Create empty df for average normalized count\n",
    "avg_norm_df = pd.DataFrame({\"gene_name\": all_genes}).set_index(\"gene_name\")\n",
    "conds = [\"_\".join(x.split(\"_\")[:-1]) for x in norm_count_df.columns]\n",
    "# Calculate averge for each condition    \n",
    "for cond in conds:\n",
    "    cond_reps = [x for x in norm_count_df.columns if cond+\"_\" in x]\n",
    "    cond_df = norm_count_df[cond_reps]\n",
    "    avg_norm_df[cond] = cond_df.mean(axis=1).tolist()\n",
    "avg_norm_df.to_csv(avg_norm_count_file)"
   ]
  },
  {
   "cell_type": "markdown",
   "metadata": {},
   "source": [
    "# Compile DESEQ outputs"
   ]
  },
  {
   "cell_type": "code",
   "execution_count": 21,
   "metadata": {},
   "outputs": [],
   "source": [
    "###----- Compile DEseq output\n",
    "deseq2_files = glob.glob(\"%s/gene_name/*.csv\"%deseq2_dir)\n",
    "all_genes = pd.read_csv(deseq2_files[0])['gene_name']\n",
    "all_genes = [x for x in all_genes if str(x) != 'nan']\n",
    "all_genes = list(set(all_genes))"
   ]
  },
  {
   "cell_type": "code",
   "execution_count": 39,
   "metadata": {},
   "outputs": [],
   "source": [
    "for i in ['log2FoldChange','stat', 'pvalue', 'padj']:\n",
    "    i_df = pd.DataFrame({\"gene_name\": all_genes}).set_index(\"gene_name\")\n",
    "    for deseq2_file in deseq2_files:\n",
    "        # Label name\n",
    "        deseq2_file_name_simp = deseq2_file.split(\"/\")[-1].replace(\".csv\",\"\").replace(\"-Salmon_gn\",\"\")\n",
    "        # Uniform dataframe\n",
    "        deseq2_df = pd.read_csv(deseq2_file)\n",
    "        deseq2_df.columns = [\"gene_name\"] + deseq2_df.columns.tolist()[1:]\n",
    "        deseq2_i_df = deseq2_df[['gene_name', i]]\n",
    "        deseq2_i_df.columns = ['gene_name', deseq2_file_name_simp]\n",
    "        # Remove none gene name match\n",
    "        deseq2_i_df =  deseq2_i_df[[True if str(x) != 'nan' else False for x in deseq2_i_df['gene_name']]]\n",
    "        # Remove duplicated genes\n",
    "        deseq2_i_df = deseq2_i_df.drop_duplicates(subset=['gene_name'])\n",
    "        # Reduce float point precision\n",
    "        deseq2_i_df = deseq2_i_df.round(3)\n",
    "        deseq2_i_df = deseq2_i_df.set_index(\"gene_name\")\n",
    "\n",
    "        i_df = i_df.join(deseq2_i_df)\n",
    "        del deseq2_df\n",
    "        del deseq2_i_df\n",
    "    i_df_name = deseq2_compile_dir + \"/DESeq2_%s.csv\"%i\n",
    "    i_df.to_csv(i_df_name)"
   ]
  },
  {
   "cell_type": "code",
   "execution_count": null,
   "metadata": {},
   "outputs": [],
   "source": []
  },
  {
   "cell_type": "code",
   "execution_count": null,
   "metadata": {},
   "outputs": [],
   "source": []
  },
  {
   "cell_type": "code",
   "execution_count": null,
   "metadata": {},
   "outputs": [],
   "source": []
  }
 ],
 "metadata": {
  "kernelspec": {
   "display_name": "Python 3",
   "language": "python",
   "name": "python3"
  },
  "language_info": {
   "codemirror_mode": {
    "name": "ipython",
    "version": 3
   },
   "file_extension": ".py",
   "mimetype": "text/x-python",
   "name": "python",
   "nbconvert_exporter": "python",
   "pygments_lexer": "ipython3",
   "version": "3.8.3"
  }
 },
 "nbformat": 4,
 "nbformat_minor": 4
}
