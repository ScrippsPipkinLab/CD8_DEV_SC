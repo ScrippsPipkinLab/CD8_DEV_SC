{
 "cells": [
  {
   "cell_type": "code",
   "execution_count": 102,
   "metadata": {},
   "outputs": [
    {
     "data": {
      "text/plain": [
       "'/media/pipkin/ROCKET-PRO/CD8_DEV_SC/5_Chd7_RNA_meta'"
      ]
     },
     "execution_count": 102,
     "metadata": {},
     "output_type": "execute_result"
    }
   ],
   "source": [
    "import os\n",
    "import pandas as pd\n",
    "from sklearn.decomposition import PCA\n",
    "from sklearn.manifold import MDS\n",
    "from sklearn.metrics.pairwise import cosine_distances\n",
    "from scipy.stats import zscore\n",
    "import matplotlib.pyplot as plt\n",
    "import numpy as np\n",
    "import seaborn as sns\n",
    "from scipy import spatial\n",
    "import glob\n",
    "import math\n",
    "\n",
    "%matplotlib inline\n",
    "\n",
    "try:\n",
    "    code_dir\n",
    "except NameError:\n",
    "    code_dir = os.getcwd()\n",
    "    base_dir = code_dir.replace(\"/codes_local\", \"\")\n",
    "    root_dir = \"/\".join(base_dir.split(\"/\")[:-1])\n",
    "base_dir"
   ]
  },
  {
   "cell_type": "code",
   "execution_count": 103,
   "metadata": {},
   "outputs": [],
   "source": [
    "def sigmoid(x):  \n",
    "    return np.exp(-np.logaddexp(0, -x))\n",
    "\n",
    "def compile_log2fc(de_file_list, pval_cutoff=0.05, basemean_cutoff=50):\n",
    "    print([x.split(\"/\")[-1] for x in de_file_list])\n",
    "    ###----- Compile log2fc dataframe\n",
    "    df = pd.read_csv(de_file_list[0], index_col=0)\n",
    "    df.index = [str(x).replace('\\t', '') for x in df.index]\n",
    "    de_log2fc_df = pd.DataFrame({'gene_name': [x for x in df.index if str(x) != 'nan']}).set_index('gene_name')\n",
    "\n",
    "    for file in de_file_list:\n",
    "        cp_type = file.split(\"/\")[-1].split(\"---\")[0].replace(\"WangDapeng_\",\"\")\n",
    "        cp_type = cp_type.replace(\"-Salmon\",\"\").replace(\"_gn\",\"\").replace(\".csv\", \"\")\n",
    "\n",
    "        df = pd.read_csv(file, index_col=0)\n",
    "        df.index = [str(x).replace('\\t', '') for x in df.index]\n",
    "        df = df[df['pvalue'] < pval_cutoff]\n",
    "        df = df[df['baseMean'] > basemean_cutoff]\n",
    "        df = df[['log2FoldChange']]\n",
    "        # df['log2FoldChange'] = (sigmoid(2**df['log2FoldChange']) - 0.5)*2\n",
    "        df.columns = [cp_type]\n",
    "\n",
    "        de_log2fc_df = de_log2fc_df.join(df, how='left')\n",
    "    de_log2fc_df = de_log2fc_df.fillna(0)\n",
    "    print(de_log2fc_df.head())\n",
    "    print(de_log2fc_df.shape)\n",
    "    return(de_log2fc_df)"
   ]
  },
  {
   "cell_type": "code",
   "execution_count": 104,
   "metadata": {},
   "outputs": [
    {
     "name": "stdout",
     "output_type": "stream",
     "text": [
      "['KO_48h-WT_48h-Salmon_gn.csv', 'KO_EE-WT_EE-Salmon_gn.csv', 'KO_DP-WT_DP-Salmon_gn.csv', 'KO_MP-WT_MP-Salmon_gn.csv', 'KO_TE-WT_TE-Salmon_gn.csv']\n",
      "               KO_48h-WT_48h  KO_EE-WT_EE  KO_DP-WT_DP  KO_MP-WT_MP  \\\n",
      "0610009B22Rik            0.0          0.0          0.0          0.0   \n",
      "0610010F05Rik            0.0          0.0          0.0          0.0   \n",
      "0610010K14Rik            0.0          0.0          0.0          0.0   \n",
      "0610012G03Rik            0.0          0.0          0.0          0.0   \n",
      "0610030E20Rik            0.0          0.0          0.0          0.0   \n",
      "\n",
      "               KO_TE-WT_TE  \n",
      "0610009B22Rik          0.0  \n",
      "0610010F05Rik          0.0  \n",
      "0610010K14Rik          0.0  \n",
      "0610012G03Rik          0.0  \n",
      "0610030E20Rik          0.0  \n",
      "(34029, 5)\n",
      "['Chd7_1_vs_Ctrl_gn.csv', 'Chd7_2_vs_Ctrl_gn.csv', 'Chd7_3_vs_Ctrl_gn.csv']\n",
      "               Chd7_1_vs_Ctrl  Chd7_2_vs_Ctrl  Chd7_3_vs_Ctrl\n",
      "0610009B22Rik             0.0             0.0             0.0\n",
      "0610010F05Rik             0.0             0.0             0.0\n",
      "0610010K14Rik             0.0             0.0             0.0\n",
      "0610012G03Rik             0.0             0.0             0.0\n",
      "0610030E20Rik             0.0             0.0             0.0\n",
      "(35582, 3)\n",
      "['WT_6h_vs_KO_6h.csv', 'WT_24h_vs_KO_24h.csv', 'WT_48h_vs_KO_48h.csv']\n",
      "           WT_6h_vs_KO_6h  WT_24h_vs_KO_24h  WT_48h_vs_KO_48h\n",
      "gene_name                                                    \n",
      "Xkr4                  0.0               0.0               0.0\n",
      "Rp1                   0.0               0.0               0.0\n",
      "Mrpl15                0.0               0.0               0.0\n",
      "Lypla1                0.0               0.0               0.0\n",
      "Gm37988               0.0               0.0               0.0\n",
      "(16600, 3)\n",
      "['shBrg1_vs_shCd19_gn.csv', 'shCcnt1_vs_shCd19_gn.csv']\n",
      "               shBrg1_vs_shCd19  shCcnt1_vs_shCd19\n",
      "0610009B22Rik          0.000000                0.0\n",
      "0610010F05Rik         -0.403029                0.0\n",
      "0610010K14Rik          0.000000                0.0\n",
      "0610012G03Rik          0.000000                0.0\n",
      "0610030E20Rik          0.000000                0.0\n",
      "(33939, 2)\n",
      "['WangDapeng_D5EEC---Runx3KO_vs_WT_gn.csv', 'WangDapeng_D5SLEC---Runx3KO_vs_WT_gn.csv', 'WangDapeng_D8EEC---Runx3KO_vs_WT_gn.csv', 'WangDapeng_D8MPEC---Runx3KO_vs_WT_gn.csv', 'WangDapeng_D8SLEC---Runx3KO_vs_WT_gn.csv']\n",
      "              D5EEC    D5SLEC     D8EEC    D8MPEC    D8SLEC\n",
      "gene_name                                                  \n",
      "Gm10036    5.507895  5.103303  4.427386  4.832994  4.462372\n",
      "Gm13225    6.277307  4.840403  6.751958  7.661883  5.915394\n",
      "Klk1b9     5.748996  6.331258  4.670591  4.147736  3.371581\n",
      "Sell       3.887976  2.003660  2.592916  1.980058  2.103930\n",
      "P2rx7      3.933533  4.860744  3.298087  4.189898  5.004477\n",
      "(37411, 5)\n"
     ]
    }
   ],
   "source": [
    "###----- Chd7KO versus WT deseq\n",
    "Chd7KO_de_dir = root_dir + '/5_Chd7_KO_RNA/0_salmon_DE_out/2_DEseq/gene_name'\n",
    "conds = ['48h','EE','DP','MP','TE']\n",
    "Chd7KO_v_ctrl_files = [\"%s/KO_%s-WT_%s-Salmon_gn.csv\"%(Chd7KO_de_dir, i, i) for i in conds]\n",
    "\n",
    "Chd7KO_v_ctrl_log2fc_df = compile_log2fc(Chd7KO_v_ctrl_files)\n",
    "\n",
    "###----- Chd7 RNAi\n",
    "Chd7RNAi_de_dir = root_dir + '/5_Chd7_shRNA_RNA/1_DEseq2'\n",
    "Chd7RNAi_v_ctrl_files = [x for x in glob.glob(\"%s/*gn.csv\"%Chd7RNAi_de_dir) if \"_vs_Ctrl\" in x]\n",
    "\n",
    "Chd7RNAi_v_ctrl_log2fc_df = compile_log2fc(Chd7RNAi_v_ctrl_files)\n",
    "\n",
    "###----- Il2raKO Nascent\n",
    "Il2rako_nascent_de_dir = '/media/pipkin/ROCKET-PRO/CD8_DEV_SC/2_IL2RAKO_Nascent/3_DEseq2'\n",
    "\n",
    "conds = ['6h','24h','48h']\n",
    "Il2rako_nascent_files = [\"%s/WT_%s_vs_KO_%s.csv\"%(Il2rako_nascent_de_dir, i, i) for i in conds]\n",
    "il2rako_v_wt_nascent_log2fc_df = - compile_log2fc(Il2rako_nascent_files)\n",
    "\n",
    "###----- Brg1 versus control deseq\n",
    "brg1_deseq_dir = root_dir + '/4_Runx3_Brg1_Meta/1_Brg1_RNA'\n",
    "brg1_v_ctrl_files = glob.glob(\"%s/*gn.csv\"%brg1_deseq_dir)\n",
    "brg1_v_ctrl_files = [x for x in brg1_v_ctrl_files if \"shCd19\" in x]\n",
    "\n",
    "brg1_v_ctrl_log2fc_df = compile_log2fc(brg1_v_ctrl_files)\n",
    "\n",
    "###----- Runx3KO versus WT deseq\n",
    "runx3_deseq_dir = root_dir + '/4_Runx3_Brg1_Meta/1_Runx3KO_RNA/DEseq2'\n",
    "runx3_v_ctrl_files = glob.glob(\"%s/*gn.csv\"%runx3_deseq_dir)\n",
    "\n",
    "runx3_v_ctrl_log2fc_df = compile_log2fc(runx3_v_ctrl_files)"
   ]
  },
  {
   "cell_type": "markdown",
   "metadata": {},
   "source": [
    "## Compile"
   ]
  },
  {
   "cell_type": "code",
   "execution_count": 105,
   "metadata": {},
   "outputs": [],
   "source": [
    "all_dfs = {\"Chd7KO\":Chd7KO_v_ctrl_log2fc_df, \"Chd7RNAi\":Chd7RNAi_v_ctrl_log2fc_df,\n",
    "           \"Il2raKO_nascent\": il2rako_v_wt_nascent_log2fc_df, \"Brg1RNAi\":brg1_v_ctrl_log2fc_df\n",
    "          }\n",
    "          # \"Runx3KO\":runx3_v_ctrl_log2fc_df, \n",
    "          # "
   ]
  },
  {
   "cell_type": "code",
   "execution_count": 106,
   "metadata": {},
   "outputs": [],
   "source": [
    "all_genes = set()\n",
    "for keys, df in all_dfs.items():\n",
    "    all_genes = all_genes.union(set(df.index))\n",
    "all_genes = [x for x in all_genes if str(x) != 'nan']"
   ]
  },
  {
   "cell_type": "code",
   "execution_count": 107,
   "metadata": {},
   "outputs": [],
   "source": [
    "compiled_df = pd.DataFrame({\"gene_name\": all_genes}).set_index(\"gene_name\")\n",
    "for keys, df in all_dfs.items():\n",
    "    df_newkey = df.copy()\n",
    "    df_newkey.columns = [keys+\"|\"+x for x in df_newkey.columns]\n",
    "    compiled_df = compiled_df.join(df_newkey, how='left')\n"
   ]
  },
  {
   "cell_type": "code",
   "execution_count": 108,
   "metadata": {},
   "outputs": [
    {
     "data": {
      "text/plain": [
       "(5331, 14)"
      ]
     },
     "execution_count": 108,
     "metadata": {},
     "output_type": "execute_result"
    }
   ],
   "source": [
    "compiled_df = compiled_df.fillna(0)\n",
    "compiled_df['Ctrl|WT'] = [0 for x in range(len(compiled_df))]\n",
    "compiled_df_rowabsmax = compiled_df.abs().max(axis=1)\n",
    "compiled_df_rowabssum = compiled_df.abs().sum(axis=1)\n",
    "\n",
    "compiled_df_sqrt = np.sqrt(compiled_df.abs()) * compiled_df.abs() / compiled_df\n",
    "compiled_df_sqrt = compiled_df_sqrt.fillna(0)\n",
    "\n",
    "compiled_slt_df = compiled_df[compiled_df_rowabsmax > 0.5]\n",
    "compiled_slt_df.shape"
   ]
  },
  {
   "cell_type": "code",
   "execution_count": 109,
   "metadata": {},
   "outputs": [
    {
     "name": "stdout",
     "output_type": "stream",
     "text": [
      "[0.24354793 0.20834343 0.20345461 0.06836387]\n"
     ]
    },
    {
     "data": {
      "text/plain": [
       "0.7237098336304413"
      ]
     },
     "execution_count": 109,
     "metadata": {},
     "output_type": "execute_result"
    }
   ],
   "source": [
    "pca = PCA(n_components=4)\n",
    "pca.fit(compiled_slt_df)\n",
    "X_new = pca.fit_transform(compiled_slt_df)\n",
    "\n",
    "print(pca.explained_variance_ratio_)\n",
    "sum(pca.explained_variance_ratio_)"
   ]
  },
  {
   "cell_type": "code",
   "execution_count": 110,
   "metadata": {},
   "outputs": [
    {
     "data": {
      "text/plain": [
       "(4, 14)"
      ]
     },
     "execution_count": 110,
     "metadata": {},
     "output_type": "execute_result"
    }
   ],
   "source": [
    "pca.components_.shape"
   ]
  },
  {
   "cell_type": "code",
   "execution_count": 111,
   "metadata": {},
   "outputs": [
    {
     "data": {
      "text/html": [
       "<div>\n",
       "<style scoped>\n",
       "    .dataframe tbody tr th:only-of-type {\n",
       "        vertical-align: middle;\n",
       "    }\n",
       "\n",
       "    .dataframe tbody tr th {\n",
       "        vertical-align: top;\n",
       "    }\n",
       "\n",
       "    .dataframe thead th {\n",
       "        text-align: right;\n",
       "    }\n",
       "</style>\n",
       "<table border=\"1\" class=\"dataframe\">\n",
       "  <thead>\n",
       "    <tr style=\"text-align: right;\">\n",
       "      <th></th>\n",
       "      <th>0</th>\n",
       "      <th>1</th>\n",
       "      <th>2</th>\n",
       "      <th>3</th>\n",
       "      <th>exps</th>\n",
       "      <th>comparisons</th>\n",
       "    </tr>\n",
       "  </thead>\n",
       "  <tbody>\n",
       "    <tr>\n",
       "      <th>0</th>\n",
       "      <td>-0.002470</td>\n",
       "      <td>0.107326</td>\n",
       "      <td>0.240552</td>\n",
       "      <td>0.019216</td>\n",
       "      <td>Chd7KO</td>\n",
       "      <td>Chd7KO|KO_48h-WT_48h</td>\n",
       "    </tr>\n",
       "    <tr>\n",
       "      <th>1</th>\n",
       "      <td>0.002616</td>\n",
       "      <td>0.197003</td>\n",
       "      <td>0.412534</td>\n",
       "      <td>-0.001140</td>\n",
       "      <td>Chd7KO</td>\n",
       "      <td>Chd7KO|KO_EE-WT_EE</td>\n",
       "    </tr>\n",
       "    <tr>\n",
       "      <th>2</th>\n",
       "      <td>0.000614</td>\n",
       "      <td>0.189029</td>\n",
       "      <td>0.435134</td>\n",
       "      <td>-0.024594</td>\n",
       "      <td>Chd7KO</td>\n",
       "      <td>Chd7KO|KO_DP-WT_DP</td>\n",
       "    </tr>\n",
       "    <tr>\n",
       "      <th>3</th>\n",
       "      <td>0.013570</td>\n",
       "      <td>0.175753</td>\n",
       "      <td>0.424521</td>\n",
       "      <td>0.001136</td>\n",
       "      <td>Chd7KO</td>\n",
       "      <td>Chd7KO|KO_MP-WT_MP</td>\n",
       "    </tr>\n",
       "    <tr>\n",
       "      <th>4</th>\n",
       "      <td>-0.004061</td>\n",
       "      <td>0.225408</td>\n",
       "      <td>0.484214</td>\n",
       "      <td>-0.023153</td>\n",
       "      <td>Chd7KO</td>\n",
       "      <td>Chd7KO|KO_TE-WT_TE</td>\n",
       "    </tr>\n",
       "    <tr>\n",
       "      <th>5</th>\n",
       "      <td>-0.015391</td>\n",
       "      <td>0.001103</td>\n",
       "      <td>0.008072</td>\n",
       "      <td>0.009642</td>\n",
       "      <td>Chd7RNAi</td>\n",
       "      <td>Chd7RNAi|Chd7_1_vs_Ctrl</td>\n",
       "    </tr>\n",
       "    <tr>\n",
       "      <th>6</th>\n",
       "      <td>-0.000826</td>\n",
       "      <td>0.009483</td>\n",
       "      <td>0.004158</td>\n",
       "      <td>-0.009449</td>\n",
       "      <td>Chd7RNAi</td>\n",
       "      <td>Chd7RNAi|Chd7_2_vs_Ctrl</td>\n",
       "    </tr>\n",
       "    <tr>\n",
       "      <th>7</th>\n",
       "      <td>-0.009398</td>\n",
       "      <td>-0.000327</td>\n",
       "      <td>0.001899</td>\n",
       "      <td>0.003744</td>\n",
       "      <td>Chd7RNAi</td>\n",
       "      <td>Chd7RNAi|Chd7_3_vs_Ctrl</td>\n",
       "    </tr>\n",
       "    <tr>\n",
       "      <th>8</th>\n",
       "      <td>-0.032406</td>\n",
       "      <td>-0.222308</td>\n",
       "      <td>0.104061</td>\n",
       "      <td>0.029356</td>\n",
       "      <td>Il2raKO_nascent</td>\n",
       "      <td>Il2raKO_nascent|WT_6h_vs_KO_6h</td>\n",
       "    </tr>\n",
       "    <tr>\n",
       "      <th>9</th>\n",
       "      <td>-0.050967</td>\n",
       "      <td>-0.432907</td>\n",
       "      <td>0.188410</td>\n",
       "      <td>0.012497</td>\n",
       "      <td>Il2raKO_nascent</td>\n",
       "      <td>Il2raKO_nascent|WT_24h_vs_KO_24h</td>\n",
       "    </tr>\n",
       "    <tr>\n",
       "      <th>10</th>\n",
       "      <td>-0.112287</td>\n",
       "      <td>-0.762117</td>\n",
       "      <td>0.345181</td>\n",
       "      <td>0.007145</td>\n",
       "      <td>Il2raKO_nascent</td>\n",
       "      <td>Il2raKO_nascent|WT_48h_vs_KO_48h</td>\n",
       "    </tr>\n",
       "    <tr>\n",
       "      <th>11</th>\n",
       "      <td>-0.886981</td>\n",
       "      <td>0.116697</td>\n",
       "      <td>-0.038567</td>\n",
       "      <td>0.444119</td>\n",
       "      <td>Brg1RNAi</td>\n",
       "      <td>Brg1RNAi|shBrg1_vs_shCd19</td>\n",
       "    </tr>\n",
       "    <tr>\n",
       "      <th>12</th>\n",
       "      <td>-0.443248</td>\n",
       "      <td>0.029668</td>\n",
       "      <td>-0.029611</td>\n",
       "      <td>-0.894416</td>\n",
       "      <td>Brg1RNAi</td>\n",
       "      <td>Brg1RNAi|shCcnt1_vs_shCd19</td>\n",
       "    </tr>\n",
       "    <tr>\n",
       "      <th>13</th>\n",
       "      <td>-0.000000</td>\n",
       "      <td>-0.000000</td>\n",
       "      <td>0.000000</td>\n",
       "      <td>-0.000000</td>\n",
       "      <td>Ctrl</td>\n",
       "      <td>Ctrl|WT</td>\n",
       "    </tr>\n",
       "  </tbody>\n",
       "</table>\n",
       "</div>"
      ],
      "text/plain": [
       "           0         1         2         3             exps  \\\n",
       "0  -0.002470  0.107326  0.240552  0.019216           Chd7KO   \n",
       "1   0.002616  0.197003  0.412534 -0.001140           Chd7KO   \n",
       "2   0.000614  0.189029  0.435134 -0.024594           Chd7KO   \n",
       "3   0.013570  0.175753  0.424521  0.001136           Chd7KO   \n",
       "4  -0.004061  0.225408  0.484214 -0.023153           Chd7KO   \n",
       "5  -0.015391  0.001103  0.008072  0.009642         Chd7RNAi   \n",
       "6  -0.000826  0.009483  0.004158 -0.009449         Chd7RNAi   \n",
       "7  -0.009398 -0.000327  0.001899  0.003744         Chd7RNAi   \n",
       "8  -0.032406 -0.222308  0.104061  0.029356  Il2raKO_nascent   \n",
       "9  -0.050967 -0.432907  0.188410  0.012497  Il2raKO_nascent   \n",
       "10 -0.112287 -0.762117  0.345181  0.007145  Il2raKO_nascent   \n",
       "11 -0.886981  0.116697 -0.038567  0.444119         Brg1RNAi   \n",
       "12 -0.443248  0.029668 -0.029611 -0.894416         Brg1RNAi   \n",
       "13 -0.000000 -0.000000  0.000000 -0.000000             Ctrl   \n",
       "\n",
       "                         comparisons  \n",
       "0               Chd7KO|KO_48h-WT_48h  \n",
       "1                 Chd7KO|KO_EE-WT_EE  \n",
       "2                 Chd7KO|KO_DP-WT_DP  \n",
       "3                 Chd7KO|KO_MP-WT_MP  \n",
       "4                 Chd7KO|KO_TE-WT_TE  \n",
       "5            Chd7RNAi|Chd7_1_vs_Ctrl  \n",
       "6            Chd7RNAi|Chd7_2_vs_Ctrl  \n",
       "7            Chd7RNAi|Chd7_3_vs_Ctrl  \n",
       "8     Il2raKO_nascent|WT_6h_vs_KO_6h  \n",
       "9   Il2raKO_nascent|WT_24h_vs_KO_24h  \n",
       "10  Il2raKO_nascent|WT_48h_vs_KO_48h  \n",
       "11         Brg1RNAi|shBrg1_vs_shCd19  \n",
       "12        Brg1RNAi|shCcnt1_vs_shCd19  \n",
       "13                           Ctrl|WT  "
      ]
     },
     "execution_count": 111,
     "metadata": {},
     "output_type": "execute_result"
    }
   ],
   "source": [
    "pca_df = pd.DataFrame(pca.components_.T)\n",
    "pca_df['exps'] = [x.split(\"|\")[0] for x in compiled_df.columns]\n",
    "pca_df['comparisons'] = compiled_df.columns\n",
    "pca_df"
   ]
  },
  {
   "cell_type": "code",
   "execution_count": 114,
   "metadata": {},
   "outputs": [
    {
     "data": {
      "image/png": "[encoded data removed]",
      "text/plain": [
       "<Figure size 432x288 with 1 Axes>"
      ]
     },
     "metadata": {
      "needs_background": "light"
     },
     "output_type": "display_data"
    }
   ],
   "source": [
    "sns.scatterplot(data=pca_df, x=0, y=1, hue='exps', s=100)\n",
    "plt.show()\n",
    "plt.close()"
   ]
  },
  {
   "cell_type": "code",
   "execution_count": 116,
   "metadata": {},
   "outputs": [
    {
     "data": {
      "image/png": "[encoded data removed]",
      "text/plain": [
       "<Figure size 432x288 with 1 Axes>"
      ]
     },
     "metadata": {
      "needs_background": "light"
     },
     "output_type": "display_data"
    }
   ],
   "source": [
    "sns.scatterplot(data=pca_df, x=2, y=3, hue='exps', s=100)\n",
    "plt.show()\n",
    "plt.close()"
   ]
  },
  {
   "cell_type": "code",
   "execution_count": null,
   "metadata": {},
   "outputs": [],
   "source": []
  }
 ],
 "metadata": {
  "kernelspec": {
   "display_name": "Python 3",
   "language": "python",
   "name": "python3"
  },
  "language_info": {
   "codemirror_mode": {
    "name": "ipython",
    "version": 3
   },
   "file_extension": ".py",
   "mimetype": "text/x-python",
   "name": "python",
   "nbconvert_exporter": "python",
   "pygments_lexer": "ipython3",
   "version": "3.8.3"
  }
 },
 "nbformat": 4,
 "nbformat_minor": 4
}
