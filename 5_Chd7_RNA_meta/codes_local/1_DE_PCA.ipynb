{
 "cells": [
  {
   "cell_type": "code",
   "execution_count": 7,
   "metadata": {},
   "outputs": [
    {
     "data": {
      "text/plain": [
       "'/media/pipkin/ROCKET-PRO/CD8_DEV_SC/5_Chd7_RNA_meta'"
      ]
     },
     "execution_count": 7,
     "metadata": {},
     "output_type": "execute_result"
    }
   ],
   "source": [
    "import os\n",
    "import pandas as pd\n",
    "from sklearn.decomposition import PCA\n",
    "from sklearn.manifold import MDS\n",
    "from sklearn.metrics.pairwise import cosine_distances\n",
    "from scipy.stats import zscore\n",
    "import matplotlib.pyplot as plt\n",
    "import numpy as np\n",
    "import seaborn as sns\n",
    "from scipy import spatial\n",
    "import glob\n",
    "\n",
    "%matplotlib inline\n",
    "\n",
    "try:\n",
    "    code_dir\n",
    "except NameError:\n",
    "    code_dir = os.getcwd()\n",
    "    base_dir = code_dir.replace(\"/codes_local\", \"\")\n",
    "    root_dir = \"/\".join(base_dir.split(\"/\")[:-1])\n",
    "base_dir"
   ]
  },
  {
   "cell_type": "code",
   "execution_count": 545,
   "metadata": {},
   "outputs": [],
   "source": [
    "def compile_log2fc(de_file_list, pval_cutoff=0.05, basemean_cutoff=50):\n",
    "    print([x.split(\"/\")[-1] for x in de_file_list])\n",
    "    ###----- Compile log2fc dataframe\n",
    "    df = pd.read_csv(de_file_list[0], index_col=0)\n",
    "    df.index = [str(x).replace('\\t', '') for x in df.index]\n",
    "    de_log2fc_df = pd.DataFrame({'gene_name': [x for x in df.index if str(x) != 'nan']}).set_index('gene_name')\n",
    "\n",
    "    for file in de_file_list:\n",
    "        cp_type = file.split(\"/\")[-1].split(\"---\")[0].replace(\"WangDapeng_\",\"\")\n",
    "        cp_type = cp_type.replace(\"-Salmon\",\"\").replace(\"_gn\",\"\").replace(\".csv\", \"\")\n",
    "\n",
    "        df = pd.read_csv(file, index_col=0)\n",
    "        df.index = [str(x).replace('\\t', '') for x in df.index]\n",
    "        df = df[df['pvalue'] < pval_cutoff]\n",
    "        df = df[df['baseMean'] > basemean_cutoff]\n",
    "        df = df[['log2FoldChange']]\n",
    "        df['log2FoldChange'] = (sigmoid(2**df['log2FoldChange']) - 0.5)*2\n",
    "        df.columns = [cp_type]\n",
    "\n",
    "        de_log2fc_df = de_log2fc_df.join(df, how='left')\n",
    "    de_log2fc_df = de_log2fc_df.fillna(0)\n",
    "    print(de_log2fc_df.head())\n",
    "    print(de_log2fc_df.shape)\n",
    "    return(de_log2fc_df)"
   ]
  },
  {
   "cell_type": "code",
   "execution_count": 546,
   "metadata": {},
   "outputs": [],
   "source": [
    "import math\n",
    "\n",
    "def sigmoid(x):  \n",
    "    return np.exp(-np.logaddexp(0, -x))"
   ]
  },
  {
   "cell_type": "code",
   "execution_count": 547,
   "metadata": {},
   "outputs": [
    {
     "name": "stdout",
     "output_type": "stream",
     "text": [
      "['KO_48h-WT_48h-Salmon_gn.csv', 'KO_EE-WT_EE-Salmon_gn.csv', 'KO_DP-WT_DP-Salmon_gn.csv', 'KO_MP-WT_MP-Salmon_gn.csv', 'KO_TE-WT_TE-Salmon_gn.csv']\n",
      "               KO_48h-WT_48h  KO_EE-WT_EE  KO_DP-WT_DP  KO_MP-WT_MP  \\\n",
      "0610009B22Rik            0.0          0.0          0.0          0.0   \n",
      "0610010F05Rik            0.0          0.0          0.0          0.0   \n",
      "0610010K14Rik            0.0          0.0          0.0          0.0   \n",
      "0610012G03Rik            0.0          0.0          0.0          0.0   \n",
      "0610030E20Rik            0.0          0.0          0.0          0.0   \n",
      "\n",
      "               KO_TE-WT_TE  \n",
      "0610009B22Rik          0.0  \n",
      "0610010F05Rik          0.0  \n",
      "0610010K14Rik          0.0  \n",
      "0610012G03Rik          0.0  \n",
      "0610030E20Rik          0.0  \n",
      "(34029, 5)\n",
      "['Chd7_1_vs_Ctrl_gn.csv', 'Chd7_2_vs_Ctrl_gn.csv', 'Chd7_3_vs_Ctrl_gn.csv']\n",
      "               Chd7_1_vs_Ctrl  Chd7_2_vs_Ctrl  Chd7_3_vs_Ctrl\n",
      "0610009B22Rik             0.0             0.0             0.0\n",
      "0610010F05Rik             0.0             0.0             0.0\n",
      "0610010K14Rik             0.0             0.0             0.0\n",
      "0610012G03Rik             0.0             0.0             0.0\n",
      "0610030E20Rik             0.0             0.0             0.0\n",
      "(35582, 3)\n",
      "['WT_6h_vs_KO_6h.csv', 'WT_24h_vs_KO_24h.csv', 'WT_48h_vs_KO_48h.csv']\n",
      "           WT_6h_vs_KO_6h  WT_24h_vs_KO_24h  WT_48h_vs_KO_48h\n",
      "gene_name                                                    \n",
      "Xkr4                  0.0               0.0               0.0\n",
      "Rp1                   0.0               0.0               0.0\n",
      "Mrpl15                0.0               0.0               0.0\n",
      "Lypla1                0.0               0.0               0.0\n",
      "Gm37988               0.0               0.0               0.0\n",
      "(16600, 3)\n",
      "['shCcnt1_vs_shCd19_gn.csv', 'shBrg1_vs_shCd19_gn.csv']\n",
      "               shCcnt1_vs_shCd19  shBrg1_vs_shCd19\n",
      "0610009B22Rik                0.0          0.000000\n",
      "0610010F05Rik                0.0          0.361086\n",
      "0610010K14Rik                0.0          0.000000\n",
      "0610012G03Rik                0.0          0.000000\n",
      "0610030E20Rik                0.0          0.000000\n",
      "(33939, 2)\n",
      "['WangDapeng_D8SLEC---Runx3KO_vs_WT_gn.csv', 'WangDapeng_D8MPEC---Runx3KO_vs_WT_gn.csv', 'WangDapeng_D8EEC---Runx3KO_vs_WT_gn.csv', 'WangDapeng_D5EEC---Runx3KO_vs_WT_gn.csv', 'WangDapeng_D5SLEC---Runx3KO_vs_WT_gn.csv']\n",
      "             D8SLEC    D8MPEC     D8EEC     D5EEC    D5SLEC\n",
      "gene_name                                                  \n",
      "Gm10036    1.000000  1.000000  1.000000  1.000000  1.000000\n",
      "Gm13225    1.000000  1.000000  1.000000  1.000000  1.000000\n",
      "P2rx7      1.000000  1.000000  0.999893  1.000000  1.000000\n",
      "Gm13157    0.097748  0.112999  0.147459  0.198729  0.101878\n",
      "Cd81       1.000000  0.954370  0.984261  0.000000  0.986437\n",
      "(37411, 5)\n"
     ]
    }
   ],
   "source": [
    "###----- Chd7KO versus WT deseq\n",
    "Chd7KO_de_dir = root_dir + '/5_Chd7_KO_RNA/0_salmon_DE_out/2_DEseq/gene_name'\n",
    "conds = ['48h','EE','DP','MP','TE']\n",
    "Chd7KO_v_ctrl_files = [\"%s/KO_%s-WT_%s-Salmon_gn.csv\"%(Chd7KO_de_dir, i, i) for i in conds]\n",
    "\n",
    "Chd7KO_v_ctrl_log2fc_df = compile_log2fc(Chd7KO_v_ctrl_files)\n",
    "\n",
    "###----- Chd7 RNAi\n",
    "Chd7RNAi_de_dir = root_dir + '/5_Chd7_shRNA_RNA/1_DEseq2'\n",
    "Chd7RNAi_v_ctrl_files = [x for x in glob.glob(\"%s/*gn.csv\"%Chd7RNAi_de_dir) if \"_vs_Ctrl\" in x]\n",
    "\n",
    "Chd7RNAi_v_ctrl_log2fc_df = compile_log2fc(Chd7RNAi_v_ctrl_files)\n",
    "\n",
    "###----- Il2raKO Nascent\n",
    "Il2rako_nascent_de_dir = '/media/pipkin/ROCKET-PRO/CD8_DEV_SC/2_IL2RAKO_Nascent/3_DEseq2'\n",
    "\n",
    "conds = ['6h','24h','48h']\n",
    "Il2rako_nascent_files = [\"%s/WT_%s_vs_KO_%s.csv\"%(Il2rako_nascent_de_dir, i, i) for i in conds]\n",
    "il2rako_v_wt_nascent_log2fc_df = - compile_log2fc(Il2rako_nascent_files)\n",
    "\n",
    "###----- Brg1 versus control deseq\n",
    "brg1_deseq_dir = root_dir + '/4_Runx3_Brg1_Meta/1_Brg1_RNA'\n",
    "brg1_v_ctrl_files = glob.glob(\"%s/*gn.csv\"%brg1_deseq_dir)\n",
    "brg1_v_ctrl_files = [x for x in brg1_v_ctrl_files if \"shCd19\" in x]\n",
    "\n",
    "brg1_v_ctrl_log2fc_df = compile_log2fc(brg1_v_ctrl_files)\n",
    "\n",
    "###----- Runx3KO versus WT deseq\n",
    "runx3_deseq_dir = root_dir + '/4_Runx3_Brg1_Meta/1_Runx3KO_RNA/DEseq2'\n",
    "runx3_v_ctrl_files = glob.glob(\"%s/*gn.csv\"%runx3_deseq_dir)\n",
    "\n",
    "runx3_v_ctrl_log2fc_df = compile_log2fc(runx3_v_ctrl_files)"
   ]
  },
  {
   "cell_type": "code",
   "execution_count": null,
   "metadata": {},
   "outputs": [],
   "source": []
  },
  {
   "cell_type": "code",
   "execution_count": null,
   "metadata": {},
   "outputs": [],
   "source": []
  },
  {
   "cell_type": "code",
   "execution_count": null,
   "metadata": {},
   "outputs": [],
   "source": []
  },
  {
   "cell_type": "markdown",
   "metadata": {},
   "source": [
    "## Compile"
   ]
  },
  {
   "cell_type": "code",
   "execution_count": 548,
   "metadata": {},
   "outputs": [],
   "source": [
    "all_dfs = {\"Chd7KO\":Chd7KO_v_ctrl_log2fc_df, \"Chd7RNAi\":Chd7RNAi_v_ctrl_log2fc_df,\n",
    "          \"Il2raKO_nascent\": il2rako_v_wt_nascent_log2fc_df, \"Brg1RNAi\":brg1_v_ctrl_log2fc_df,\n",
    "          \"Runx3KO\":runx3_v_ctrl_log2fc_df}"
   ]
  },
  {
   "cell_type": "code",
   "execution_count": 549,
   "metadata": {},
   "outputs": [],
   "source": [
    "all_genes = set()\n",
    "for keys, df in all_dfs.items():\n",
    "    all_genes = all_genes.union(set(df.index))\n",
    "all_genes = [x for x in all_genes if str(x) != 'nan']"
   ]
  },
  {
   "cell_type": "code",
   "execution_count": 550,
   "metadata": {},
   "outputs": [],
   "source": [
    "compiled_df = pd.DataFrame({\"gene_name\": all_genes}).set_index(\"gene_name\")\n",
    "for keys, df in all_dfs.items():\n",
    "    df_newkey = df.copy()\n",
    "    df_newkey.columns = [keys+\"|\"+x for x in df_newkey.columns]\n",
    "    compiled_df = compiled_df.join(df_newkey, how='left')\n"
   ]
  },
  {
   "cell_type": "code",
   "execution_count": 567,
   "metadata": {},
   "outputs": [
    {
     "data": {
      "text/plain": [
       "(4302, 19)"
      ]
     },
     "execution_count": 567,
     "metadata": {},
     "output_type": "execute_result"
    }
   ],
   "source": [
    "compiled_df = compiled_df.fillna(0)\n",
    "compiled_df['Ctrl|WT'] = [0 for x in range(len(compiled_df))]\n",
    "compiled_df_rowabsmax = compiled_df.abs().max(axis=1)\n",
    "compiled_df_rowabssum = compiled_df.abs().sum(axis=1)\n",
    "\n",
    "compiled_df_sqrt = np.sqrt(compiled_df.abs()) * compiled_df.abs() / compiled_df\n",
    "compiled_df_sqrt = compiled_df_sqrt.fillna(0)\n",
    "\n",
    "compiled_slt_df = compiled_df[compiled_df_rowabssum > 1]\n",
    "compiled_slt_df.shape"
   ]
  },
  {
   "cell_type": "code",
   "execution_count": 568,
   "metadata": {},
   "outputs": [
    {
     "name": "stdout",
     "output_type": "stream",
     "text": [
      "[0.16315892 0.12374828 0.10616821 0.10044882 0.0788649  0.06309459]\n"
     ]
    },
    {
     "data": {
      "text/plain": [
       "0.6354837162439047"
      ]
     },
     "execution_count": 568,
     "metadata": {},
     "output_type": "execute_result"
    }
   ],
   "source": [
    "pca = PCA(n_components=6)\n",
    "pca.fit(compiled_slt_df)\n",
    "X_new = pca.fit_transform(compiled_slt_df)\n",
    "\n",
    "print(pca.explained_variance_ratio_)\n",
    "sum(pca.explained_variance_ratio_)"
   ]
  },
  {
   "cell_type": "code",
   "execution_count": 569,
   "metadata": {},
   "outputs": [
    {
     "data": {
      "text/plain": [
       "(6, 19)"
      ]
     },
     "execution_count": 569,
     "metadata": {},
     "output_type": "execute_result"
    }
   ],
   "source": [
    "pca.components_.shape"
   ]
  },
  {
   "cell_type": "code",
   "execution_count": 570,
   "metadata": {},
   "outputs": [],
   "source": [
    "pca_df = pd.DataFrame(pca.components_.T)\n",
    "pca_df['exps'] = [x.split(\"|\")[0] for x in compiled_df.columns]\n",
    "pca_df['comparisons'] = compiled_df.columns"
   ]
  },
  {
   "cell_type": "code",
   "execution_count": 571,
   "metadata": {},
   "outputs": [
    {
     "data": {
      "image/png": "[encoded data removed]",
      "text/plain": [
       "<Figure size 432x288 with 1 Axes>"
      ]
     },
     "metadata": {
      "needs_background": "light"
     },
     "output_type": "display_data"
    }
   ],
   "source": [
    "sns.scatterplot(data=pca_df, x=0, y=1, hue='exps')\n",
    "plt.show()\n",
    "plt.close()"
   ]
  },
  {
   "cell_type": "code",
   "execution_count": 572,
   "metadata": {},
   "outputs": [
    {
     "data": {
      "image/png": "[encoded data removed]",
      "text/plain": [
       "<Figure size 432x288 with 1 Axes>"
      ]
     },
     "metadata": {
      "needs_background": "light"
     },
     "output_type": "display_data"
    }
   ],
   "source": [
    "sns.scatterplot(data=pca_df, x=2, y=3, hue='exps')\n",
    "plt.show()\n",
    "plt.close()"
   ]
  },
  {
   "cell_type": "code",
   "execution_count": 573,
   "metadata": {},
   "outputs": [
    {
     "data": {
      "image/png": "[encoded data removed]",
      "text/plain": [
       "<Figure size 432x288 with 1 Axes>"
      ]
     },
     "metadata": {
      "needs_background": "light"
     },
     "output_type": "display_data"
    }
   ],
   "source": [
    "sns.scatterplot(data=pca_df, x=4, y=5, hue='exps')\n",
    "plt.show()\n",
    "plt.close()"
   ]
  },
  {
   "cell_type": "code",
   "execution_count": 574,
   "metadata": {},
   "outputs": [],
   "source": [
    "embedding = MDS(n_components=2)\n",
    "X_transformed = embedding.fit_transform(compiled_slt_df.T)"
   ]
  },
  {
   "cell_type": "code",
   "execution_count": 578,
   "metadata": {},
   "outputs": [],
   "source": [
    "mds_df = pd.DataFrame(X_transformed)\n",
    "mds_df['exps'] = [x.split(\"|\")[0] for x in compiled_df.columns]\n",
    "mds_df['comparisons'] = compiled_df.columns"
   ]
  },
  {
   "cell_type": "code",
   "execution_count": 581,
   "metadata": {},
   "outputs": [
    {
     "data": {
      "image/png": "[encoded data removed]",
      "text/plain": [
       "<Figure size 432x288 with 1 Axes>"
      ]
     },
     "metadata": {
      "needs_background": "light"
     },
     "output_type": "display_data"
    }
   ],
   "source": [
    "sns.scatterplot(data=mds_df, x=0, y=1, hue='exps')\n",
    "plt.legend(bbox_to_anchor=(1.05, 1), loc=2, borderaxespad=0.)\n",
    "\n",
    "plt.show()\n",
    "plt.close()"
   ]
  },
  {
   "cell_type": "code",
   "execution_count": 582,
   "metadata": {},
   "outputs": [
    {
     "data": {
      "text/html": [
       "<div>\n",
       "<style scoped>\n",
       "    .dataframe tbody tr th:only-of-type {\n",
       "        vertical-align: middle;\n",
       "    }\n",
       "\n",
       "    .dataframe tbody tr th {\n",
       "        vertical-align: top;\n",
       "    }\n",
       "\n",
       "    .dataframe thead th {\n",
       "        text-align: right;\n",
       "    }\n",
       "</style>\n",
       "<table border=\"1\" class=\"dataframe\">\n",
       "  <thead>\n",
       "    <tr style=\"text-align: right;\">\n",
       "      <th></th>\n",
       "      <th>0</th>\n",
       "      <th>1</th>\n",
       "      <th>exps</th>\n",
       "      <th>comparisons</th>\n",
       "    </tr>\n",
       "  </thead>\n",
       "  <tbody>\n",
       "    <tr>\n",
       "      <th>0</th>\n",
       "      <td>5.022310</td>\n",
       "      <td>4.800360</td>\n",
       "      <td>Chd7KO</td>\n",
       "      <td>Chd7KO|KO_48h-WT_48h</td>\n",
       "    </tr>\n",
       "    <tr>\n",
       "      <th>1</th>\n",
       "      <td>-1.189979</td>\n",
       "      <td>10.114230</td>\n",
       "      <td>Chd7KO</td>\n",
       "      <td>Chd7KO|KO_EE-WT_EE</td>\n",
       "    </tr>\n",
       "    <tr>\n",
       "      <th>2</th>\n",
       "      <td>2.827346</td>\n",
       "      <td>13.313184</td>\n",
       "      <td>Chd7KO</td>\n",
       "      <td>Chd7KO|KO_DP-WT_DP</td>\n",
       "    </tr>\n",
       "    <tr>\n",
       "      <th>3</th>\n",
       "      <td>-12.329865</td>\n",
       "      <td>-3.918102</td>\n",
       "      <td>Chd7KO</td>\n",
       "      <td>Chd7KO|KO_MP-WT_MP</td>\n",
       "    </tr>\n",
       "    <tr>\n",
       "      <th>4</th>\n",
       "      <td>-12.800839</td>\n",
       "      <td>-10.156830</td>\n",
       "      <td>Chd7KO</td>\n",
       "      <td>Chd7KO|KO_TE-WT_TE</td>\n",
       "    </tr>\n",
       "    <tr>\n",
       "      <th>5</th>\n",
       "      <td>-0.140643</td>\n",
       "      <td>1.000058</td>\n",
       "      <td>Chd7RNAi</td>\n",
       "      <td>Chd7RNAi|Chd7_1_vs_Ctrl</td>\n",
       "    </tr>\n",
       "    <tr>\n",
       "      <th>6</th>\n",
       "      <td>-2.938335</td>\n",
       "      <td>-2.897623</td>\n",
       "      <td>Chd7RNAi</td>\n",
       "      <td>Chd7RNAi|Chd7_2_vs_Ctrl</td>\n",
       "    </tr>\n",
       "    <tr>\n",
       "      <th>7</th>\n",
       "      <td>-4.053676</td>\n",
       "      <td>1.064867</td>\n",
       "      <td>Chd7RNAi</td>\n",
       "      <td>Chd7RNAi|Chd7_3_vs_Ctrl</td>\n",
       "    </tr>\n",
       "    <tr>\n",
       "      <th>8</th>\n",
       "      <td>-12.846256</td>\n",
       "      <td>5.441392</td>\n",
       "      <td>Il2raKO_nascent</td>\n",
       "      <td>Il2raKO_nascent|WT_6h_vs_KO_6h</td>\n",
       "    </tr>\n",
       "    <tr>\n",
       "      <th>9</th>\n",
       "      <td>-10.561362</td>\n",
       "      <td>10.732318</td>\n",
       "      <td>Il2raKO_nascent</td>\n",
       "      <td>Il2raKO_nascent|WT_24h_vs_KO_24h</td>\n",
       "    </tr>\n",
       "    <tr>\n",
       "      <th>10</th>\n",
       "      <td>-17.441869</td>\n",
       "      <td>18.402608</td>\n",
       "      <td>Il2raKO_nascent</td>\n",
       "      <td>Il2raKO_nascent|WT_48h_vs_KO_48h</td>\n",
       "    </tr>\n",
       "    <tr>\n",
       "      <th>11</th>\n",
       "      <td>10.327319</td>\n",
       "      <td>7.814887</td>\n",
       "      <td>Brg1RNAi</td>\n",
       "      <td>Brg1RNAi|shCcnt1_vs_shCd19</td>\n",
       "    </tr>\n",
       "    <tr>\n",
       "      <th>12</th>\n",
       "      <td>21.416428</td>\n",
       "      <td>7.604780</td>\n",
       "      <td>Brg1RNAi</td>\n",
       "      <td>Brg1RNAi|shBrg1_vs_shCd19</td>\n",
       "    </tr>\n",
       "    <tr>\n",
       "      <th>13</th>\n",
       "      <td>2.527182</td>\n",
       "      <td>-8.111301</td>\n",
       "      <td>Runx3KO</td>\n",
       "      <td>Runx3KO|D8SLEC</td>\n",
       "    </tr>\n",
       "    <tr>\n",
       "      <th>14</th>\n",
       "      <td>18.916198</td>\n",
       "      <td>-7.873472</td>\n",
       "      <td>Runx3KO</td>\n",
       "      <td>Runx3KO|D8MPEC</td>\n",
       "    </tr>\n",
       "    <tr>\n",
       "      <th>15</th>\n",
       "      <td>11.159827</td>\n",
       "      <td>-8.158740</td>\n",
       "      <td>Runx3KO</td>\n",
       "      <td>Runx3KO|D8EEC</td>\n",
       "    </tr>\n",
       "    <tr>\n",
       "      <th>16</th>\n",
       "      <td>8.704025</td>\n",
       "      <td>-17.893364</td>\n",
       "      <td>Runx3KO</td>\n",
       "      <td>Runx3KO|D5EEC</td>\n",
       "    </tr>\n",
       "    <tr>\n",
       "      <th>17</th>\n",
       "      <td>-3.736206</td>\n",
       "      <td>-24.776340</td>\n",
       "      <td>Runx3KO</td>\n",
       "      <td>Runx3KO|D5SLEC</td>\n",
       "    </tr>\n",
       "    <tr>\n",
       "      <th>18</th>\n",
       "      <td>-2.861603</td>\n",
       "      <td>3.497087</td>\n",
       "      <td>Ctrl</td>\n",
       "      <td>Ctrl|WT</td>\n",
       "    </tr>\n",
       "  </tbody>\n",
       "</table>\n",
       "</div>"
      ],
      "text/plain": [
       "            0          1             exps                       comparisons\n",
       "0    5.022310   4.800360           Chd7KO              Chd7KO|KO_48h-WT_48h\n",
       "1   -1.189979  10.114230           Chd7KO                Chd7KO|KO_EE-WT_EE\n",
       "2    2.827346  13.313184           Chd7KO                Chd7KO|KO_DP-WT_DP\n",
       "3  -12.329865  -3.918102           Chd7KO                Chd7KO|KO_MP-WT_MP\n",
       "4  -12.800839 -10.156830           Chd7KO                Chd7KO|KO_TE-WT_TE\n",
       "5   -0.140643   1.000058         Chd7RNAi           Chd7RNAi|Chd7_1_vs_Ctrl\n",
       "6   -2.938335  -2.897623         Chd7RNAi           Chd7RNAi|Chd7_2_vs_Ctrl\n",
       "7   -4.053676   1.064867         Chd7RNAi           Chd7RNAi|Chd7_3_vs_Ctrl\n",
       "8  -12.846256   5.441392  Il2raKO_nascent    Il2raKO_nascent|WT_6h_vs_KO_6h\n",
       "9  -10.561362  10.732318  Il2raKO_nascent  Il2raKO_nascent|WT_24h_vs_KO_24h\n",
       "10 -17.441869  18.402608  Il2raKO_nascent  Il2raKO_nascent|WT_48h_vs_KO_48h\n",
       "11  10.327319   7.814887         Brg1RNAi        Brg1RNAi|shCcnt1_vs_shCd19\n",
       "12  21.416428   7.604780         Brg1RNAi         Brg1RNAi|shBrg1_vs_shCd19\n",
       "13   2.527182  -8.111301          Runx3KO                    Runx3KO|D8SLEC\n",
       "14  18.916198  -7.873472          Runx3KO                    Runx3KO|D8MPEC\n",
       "15  11.159827  -8.158740          Runx3KO                     Runx3KO|D8EEC\n",
       "16   8.704025 -17.893364          Runx3KO                     Runx3KO|D5EEC\n",
       "17  -3.736206 -24.776340          Runx3KO                    Runx3KO|D5SLEC\n",
       "18  -2.861603   3.497087             Ctrl                           Ctrl|WT"
      ]
     },
     "execution_count": 582,
     "metadata": {},
     "output_type": "execute_result"
    }
   ],
   "source": [
    "mds_df"
   ]
  },
  {
   "cell_type": "code",
   "execution_count": null,
   "metadata": {},
   "outputs": [],
   "source": []
  }
 ],
 "metadata": {
  "kernelspec": {
   "display_name": "Python 3",
   "language": "python",
   "name": "python3"
  },
  "language_info": {
   "codemirror_mode": {
    "name": "ipython",
    "version": 3
   },
   "file_extension": ".py",
   "mimetype": "text/x-python",
   "name": "python",
   "nbconvert_exporter": "python",
   "pygments_lexer": "ipython3",
   "version": "3.8.3"
  }
 },
 "nbformat": 4,
 "nbformat_minor": 4
}
