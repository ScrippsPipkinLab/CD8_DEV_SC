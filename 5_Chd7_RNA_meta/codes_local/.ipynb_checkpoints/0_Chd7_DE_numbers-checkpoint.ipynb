{
 "cells": [
  {
   "cell_type": "code",
   "execution_count": 3,
   "metadata": {},
   "outputs": [],
   "source": [
    "import os\n",
    "import pandas as pd\n",
    "import numpy as np\n",
    "import matplotlib.pyplot as plt\n",
    "import seaborn as sns\n",
    "import glob\n",
    "\n",
    "%matplotlib inline\n",
    "\n",
    "###----- Get dir & load / reload packages\n",
    "try:\n",
    "    code_dir\n",
    "except NameError:\n",
    "    code_dir = os.getcwd()\n",
    "    base_dir = code_dir.replace(\"/codes_local\", \"\")\n",
    "    root_dir = base_dir.replace(\"/5_Chd7_RNA_meta\", \"\")"
   ]
  },
  {
   "cell_type": "code",
   "execution_count": 15,
   "metadata": {},
   "outputs": [],
   "source": [
    "Chd7KO_de_dir = root_dir + '/5_Chd7_KO_RNA/0_salmon_DE_out/2_DEseq/gene_name'\n",
    "Chd7RNAi_de_dir = root_dir + '/media/pipkin/ROCKET-PRO/CD8_DEV_SC/5_Chd7_shRNA_RNA/1_DEseq2'"
   ]
  },
  {
   "cell_type": "code",
   "execution_count": 16,
   "metadata": {},
   "outputs": [
    {
     "data": {
      "text/plain": [
       "['/media/pipkin/ROCKET-PRO/CD8_DEV_SC/5_Chd7_KO_RNA/0_salmon_DE_out/2_DEseq/gene_name/KO_48h-KO_NAV-Salmon_gn.csv',\n",
       " '/media/pipkin/ROCKET-PRO/CD8_DEV_SC/5_Chd7_KO_RNA/0_salmon_DE_out/2_DEseq/gene_name/KO_48h-WT_48h-Salmon_gn.csv',\n",
       " '/media/pipkin/ROCKET-PRO/CD8_DEV_SC/5_Chd7_KO_RNA/0_salmon_DE_out/2_DEseq/gene_name/KO_48h-WT_NAV-Salmon_gn.csv',\n",
       " '/media/pipkin/ROCKET-PRO/CD8_DEV_SC/5_Chd7_KO_RNA/0_salmon_DE_out/2_DEseq/gene_name/KO_DP-KO_NAV-Salmon_gn.csv',\n",
       " '/media/pipkin/ROCKET-PRO/CD8_DEV_SC/5_Chd7_KO_RNA/0_salmon_DE_out/2_DEseq/gene_name/KO_DP-WT_DP-Salmon_gn.csv',\n",
       " '/media/pipkin/ROCKET-PRO/CD8_DEV_SC/5_Chd7_KO_RNA/0_salmon_DE_out/2_DEseq/gene_name/KO_DP-WT_NAV-Salmon_gn.csv',\n",
       " '/media/pipkin/ROCKET-PRO/CD8_DEV_SC/5_Chd7_KO_RNA/0_salmon_DE_out/2_DEseq/gene_name/KO_EE-KO_NAV-Salmon_gn.csv',\n",
       " '/media/pipkin/ROCKET-PRO/CD8_DEV_SC/5_Chd7_KO_RNA/0_salmon_DE_out/2_DEseq/gene_name/KO_EE-WT_EE-Salmon_gn.csv',\n",
       " '/media/pipkin/ROCKET-PRO/CD8_DEV_SC/5_Chd7_KO_RNA/0_salmon_DE_out/2_DEseq/gene_name/KO_EE-WT_NAV-Salmon_gn.csv',\n",
       " '/media/pipkin/ROCKET-PRO/CD8_DEV_SC/5_Chd7_KO_RNA/0_salmon_DE_out/2_DEseq/gene_name/KO_MP-KO_NAV-Salmon_gn.csv',\n",
       " '/media/pipkin/ROCKET-PRO/CD8_DEV_SC/5_Chd7_KO_RNA/0_salmon_DE_out/2_DEseq/gene_name/KO_MP-WT_MP-Salmon_gn.csv',\n",
       " '/media/pipkin/ROCKET-PRO/CD8_DEV_SC/5_Chd7_KO_RNA/0_salmon_DE_out/2_DEseq/gene_name/KO_MP-WT_NAV-Salmon_gn.csv',\n",
       " '/media/pipkin/ROCKET-PRO/CD8_DEV_SC/5_Chd7_KO_RNA/0_salmon_DE_out/2_DEseq/gene_name/KO_NAV-WT_NAV-Salmon_gn.csv',\n",
       " '/media/pipkin/ROCKET-PRO/CD8_DEV_SC/5_Chd7_KO_RNA/0_salmon_DE_out/2_DEseq/gene_name/KO_TE-KO_NAV-Salmon_gn.csv',\n",
       " '/media/pipkin/ROCKET-PRO/CD8_DEV_SC/5_Chd7_KO_RNA/0_salmon_DE_out/2_DEseq/gene_name/KO_TE-WT_NAV-Salmon_gn.csv',\n",
       " '/media/pipkin/ROCKET-PRO/CD8_DEV_SC/5_Chd7_KO_RNA/0_salmon_DE_out/2_DEseq/gene_name/KO_TE-WT_TE-Salmon_gn.csv',\n",
       " '/media/pipkin/ROCKET-PRO/CD8_DEV_SC/5_Chd7_KO_RNA/0_salmon_DE_out/2_DEseq/gene_name/WT_48h-WT_NAV-Salmon_gn.csv',\n",
       " '/media/pipkin/ROCKET-PRO/CD8_DEV_SC/5_Chd7_KO_RNA/0_salmon_DE_out/2_DEseq/gene_name/WT_DP-WT_NAV-Salmon_gn.csv',\n",
       " '/media/pipkin/ROCKET-PRO/CD8_DEV_SC/5_Chd7_KO_RNA/0_salmon_DE_out/2_DEseq/gene_name/WT_EE-WT_NAV-Salmon_gn.csv',\n",
       " '/media/pipkin/ROCKET-PRO/CD8_DEV_SC/5_Chd7_KO_RNA/0_salmon_DE_out/2_DEseq/gene_name/WT_MP-WT_NAV-Salmon_gn.csv',\n",
       " '/media/pipkin/ROCKET-PRO/CD8_DEV_SC/5_Chd7_KO_RNA/0_salmon_DE_out/2_DEseq/gene_name/WT_MP-WT_TE-Salmon_gn.csv',\n",
       " '/media/pipkin/ROCKET-PRO/CD8_DEV_SC/5_Chd7_KO_RNA/0_salmon_DE_out/2_DEseq/gene_name/WT_TE-WT_NAV-Salmon_gn.csv']"
      ]
     },
     "execution_count": 16,
     "metadata": {},
     "output_type": "execute_result"
    }
   ],
   "source": [
    "glob.glob(\"%s/*.csv\"%Chd7KO_de_dir)"
   ]
  },
  {
   "cell_type": "code",
   "execution_count": 40,
   "metadata": {},
   "outputs": [],
   "source": [
    "Chd7KO_timepoints = [\"48h\", \"EE\", \"TE\", \"DP\",\"MP\"]\n",
    "Chd7_KO_dict = {}\n",
    "Chd7_KO_dict_n = {}\n",
    "for t in Chd7KO_timepoints:\n",
    "    t_file = Chd7KO_de_dir + \"/KO_%s-WT_%s-Salmon_gn.csv\"%(t,t)\n",
    "    t_df = pd.read_csv(t_file, index_col=0)\n",
    "    t_df_sig = t_df[t_df['pvalue'] < 0.05]\n",
    "    Chd7_KO_dict[t+\"_repr\"] = set(t_df_sig[t_df_sig['log2FoldChange'] > 0].index)\n",
    "    Chd7_KO_dict[t+\"_prom\"] = set(t_df_sig[t_df_sig['log2FoldChange'] < 0].index)\n",
    "    Chd7_KO_dict_n[t+\"_repr\"] = len(set(t_df_sig[t_df_sig['log2FoldChange'] > 0].index))\n",
    "    Chd7_KO_dict_n[t+\"_prom\"] = len(set(t_df_sig[t_df_sig['log2FoldChange'] < 0].index))"
   ]
  },
  {
   "cell_type": "code",
   "execution_count": 41,
   "metadata": {},
   "outputs": [
    {
     "data": {
      "text/plain": [
       "{'48h_repr': 397,\n",
       " '48h_prom': 571,\n",
       " 'EE_repr': 535,\n",
       " 'EE_prom': 511,\n",
       " 'TE_repr': 886,\n",
       " 'TE_prom': 578,\n",
       " 'DP_repr': 633,\n",
       " 'DP_prom': 645,\n",
       " 'MP_repr': 626,\n",
       " 'MP_prom': 595}"
      ]
     },
     "execution_count": 41,
     "metadata": {},
     "output_type": "execute_result"
    }
   ],
   "source": [
    "Chd7_KO_dict_n"
   ]
  },
  {
   "cell_type": "code",
   "execution_count": null,
   "metadata": {},
   "outputs": [],
   "source": []
  }
 ],
 "metadata": {
  "kernelspec": {
   "display_name": "Python 3",
   "language": "python",
   "name": "python3"
  },
  "language_info": {
   "codemirror_mode": {
    "name": "ipython",
    "version": 3
   },
   "file_extension": ".py",
   "mimetype": "text/x-python",
   "name": "python",
   "nbconvert_exporter": "python",
   "pygments_lexer": "ipython3",
   "version": "3.8.3"
  }
 },
 "nbformat": 4,
 "nbformat_minor": 4
}
