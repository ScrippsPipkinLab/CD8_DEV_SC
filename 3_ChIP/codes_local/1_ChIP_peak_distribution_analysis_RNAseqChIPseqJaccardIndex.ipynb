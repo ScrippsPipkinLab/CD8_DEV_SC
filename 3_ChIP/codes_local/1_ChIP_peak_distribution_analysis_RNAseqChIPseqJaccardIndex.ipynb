{
 "cells": [
  {
   "cell_type": "code",
   "execution_count": 16,
   "metadata": {},
   "outputs": [],
   "source": [
    "import pandas as pd\n",
    "import glob\n",
    "import os\n",
    "import csv\n",
    "import numpy as np\n",
    "from scipy.stats import chi2_contingency\n",
    "import seaborn as sns\n",
    "import matplotlib.pyplot as plt\n",
    "%matplotlib inline\n",
    "\n",
    "try:\n",
    "    code_dir\n",
    "except NameError:\n",
    "    code_dir = os.getcwd()\n",
    "    source_dir = code_dir.replace(\"codes_local\", \"0_sources\")\n",
    "    out_dir = code_dir.replace(\"codes_local\", \"1_ChIP_peak_distribution_RNAseqChIPseqJaccardIndex\")"
   ]
  },
  {
   "cell_type": "code",
   "execution_count": 2,
   "metadata": {},
   "outputs": [
    {
     "name": "stdout",
     "output_type": "stream",
     "text": [
      "{'sc_P6_cl13_up', 'sc_d8_cl13_up', 'd5_KLRG1lo_Runx3_repressed', 'sc_P5_arm_up', 'd5_KLRG1hi_all', 'nascent_Il2_promoted', 'sc_P4_arm_up', 'sc_P3_arm_up', 'sc_P2_arm_up', 'nascent_48h_up', 'sc_P7_arm_up', 'd5_KLRG1lo_all', 'sc_all', 'd5_KLRG1hi_Runx3_repressed', 'nascent_48h_dn', 'sc_P3_cl13_up', 'd5_KLRG1hi_Runx3_promoted', 'sc_P7_cl13_up', 'd5_KLRG1lo_Runx3_promoted', 'sc_P9_cl13_up', 'sc_d8_arm_up', 'nascent_all', 'sc_d5_cl13_up', 'sc_P9_arm_up', 'sc_P6_arm_up', 'sc_P2_cl13_up', 'sc_d5_arm_up', 'nascent_Il2_repressed', 'sc_P5_cl13_up', 'sc_P4_cl13_up'}\n"
     ]
    }
   ],
   "source": [
    "gene_list_file = source_dir + \"/gene_list.csv\"\n",
    "gene_list_df = pd.read_csv(gene_list_file)\n",
    "print(set(gene_list_df['labels']))\n",
    "\n",
    "chip_anno_dir = '/media/pipkin/Rocket2/T_Cell_ChIP/202012_ChIP/3_peak_annotations'\n",
    "chip_anno_files = glob.glob(\"%s/*annoDf.csv\"%chip_anno_dir)\n",
    "chip_names = [x.split(\"/\")[-1].replace(\"_annoDf.csv\", \"\") for x in chip_anno_files]\n",
    "\n",
    "out_file = out_dir + \"/ChIP_peak_chisq\"\n",
    "out_sum_pval_file = out_dir + \"/sum_ChIP_peak_chisq.csv\""
   ]
  },
  {
   "cell_type": "code",
   "execution_count": 3,
   "metadata": {},
   "outputs": [],
   "source": [
    "chip_df = pd.DataFrame({\"ChIP\": chip_names})\n",
    "chip_genes_n = []\n",
    "for chip_i_file in chip_anno_files:\n",
    "    chip_i_df = pd.read_csv(chip_i_file)\n",
    "    chip_i_genes = set(x for x in chip_i_df['SYMBOL'] if str(x) != 'nan')\n",
    "    chip_genes_n.append(len(chip_i_genes))\n",
    "chip_df[\"ChIP gene #\"] = chip_genes_n"
   ]
  },
  {
   "cell_type": "code",
   "execution_count": 26,
   "metadata": {},
   "outputs": [
    {
     "name": "stdout",
     "output_type": "stream",
     "text": [
      "sc_P6_cl13_up\n",
      "sc_d8_cl13_up\n",
      "d5_KLRG1lo_Runx3_repressed\n",
      "sc_P5_arm_up\n",
      "d5_KLRG1hi_all\n",
      "nascent_Il2_promoted\n",
      "sc_P4_arm_up\n"
     ]
    },
    {
     "name": "stderr",
     "output_type": "stream",
     "text": [
      "<ipython-input-26-f6ee624dbf35>:17: DeprecationWarning: The default dtype for empty Series will be 'object' instead of 'float64' in a future version. Specify a dtype explicitly to silence this warning.\n",
      "  genes_df[chip_i_name] = pd.Series(list(intersect_genes))\n"
     ]
    },
    {
     "name": "stdout",
     "output_type": "stream",
     "text": [
      "sc_P3_arm_up\n",
      "sc_P2_arm_up\n",
      "nascent_48h_up\n",
      "sc_P7_arm_up\n",
      "d5_KLRG1lo_all\n",
      "sc_all\n",
      "d5_KLRG1hi_Runx3_repressed\n",
      "nascent_48h_dn\n",
      "sc_P3_cl13_up\n",
      "d5_KLRG1hi_Runx3_promoted\n",
      "sc_P7_cl13_up\n",
      "d5_KLRG1lo_Runx3_promoted\n",
      "sc_P9_cl13_up\n",
      "sc_d8_arm_up\n",
      "nascent_all\n",
      "sc_d5_cl13_up\n",
      "sc_P9_arm_up\n",
      "sc_P6_arm_up\n",
      "sc_P2_cl13_up\n",
      "sc_d5_arm_up\n",
      "nascent_Il2_repressed\n",
      "sc_P5_cl13_up\n",
      "sc_P4_cl13_up\n"
     ]
    }
   ],
   "source": [
    "jaccard_df = chip_df.copy()\n",
    "for gene_list_label in set(gene_list_df['labels']):\n",
    "    print(gene_list_label)\n",
    "    genes_df = pd.DataFrame()\n",
    "    gene_set = set(gene_list_df[gene_list_df['labels'] == gene_list_label]['gene_names'].tolist())\n",
    "    jaccard_list = []\n",
    "    overlap_list = []\n",
    "    for chip_i_file in chip_anno_files:\n",
    "        chip_i_name = chip_i_file.split(\"/\")[-1].replace(\"_annoDf.csv\", \"\")\n",
    "        chip_i_df = pd.read_csv(chip_i_file)\n",
    "        chip_i_genes = set(x for x in chip_i_df['SYMBOL'] if str(x) != 'nan')\n",
    "        \n",
    "        intersect_genes = gene_set & chip_i_genes\n",
    "        union_genes = gene_set | chip_i_genes\n",
    "        \n",
    "        jaccard_list.append(len(intersect_genes)/ len(union_genes))\n",
    "        genes_df[chip_i_name] = pd.Series(list(intersect_genes))\n",
    "        overlap_list.append(\"|\".join(list(intersect_genes)))\n",
    "    jaccard_df[gene_list_label] = [\"{:.4f}\".format(x) for x in jaccard_list]\n",
    "    genes_df.to_csv(\"%s/%s_RNAseq_ChIPseq_interseqGenes.csv\"%(out_dir, gene_list_label), index=False)\n",
    "jaccard_df.to_csv(\"%s/RNAseq_ChIPseq_Jaccard.csv\"%out_dir, index=False)"
   ]
  },
  {
   "cell_type": "markdown",
   "metadata": {},
   "source": [
    "### Cluster heatmap"
   ]
  },
  {
   "cell_type": "code",
   "execution_count": 21,
   "metadata": {},
   "outputs": [],
   "source": [
    "jaccard_df = pd.read_csv(\"%s/RNAseq_ChIPseq_Jaccard.csv\"%out_dir)\n",
    "jaccard_heatmap_df = jaccard_df[list(set(gene_list_df['labels']))]\n",
    "jaccard_heatmap_df.index = jaccard_df['ChIP']\n",
    "\n",
    "jaccard_clustermap = sns.clustermap(jaccard_heatmap_df, figsize=(30,30))\n",
    "jaccard_clustermap.savefig(\"%s/RNAseq_ChIPseq_Jaccard.jpg\"%out_dir)\n",
    "plt.close()"
   ]
  },
  {
   "cell_type": "markdown",
   "metadata": {},
   "source": [
    "### Cl13 key genes"
   ]
  },
  {
   "cell_type": "code",
   "execution_count": 33,
   "metadata": {},
   "outputs": [],
   "source": [
    "cl13_d5_genes = gene_list_df[gene_list_df['labels'] == 'sc_d5_cl13_up']['gene_names'].tolist()"
   ]
  },
  {
   "cell_type": "code",
   "execution_count": 34,
   "metadata": {},
   "outputs": [],
   "source": [
    "cl13_d5_chip_intersection_df = pd.read_csv(\"%s/sc_d5_cl13_up_RNAseq_ChIPseq_interseqGenes.csv\"%out_dir)"
   ]
  },
  {
   "cell_type": "code",
   "execution_count": 90,
   "metadata": {},
   "outputs": [],
   "source": [
    "nfat1_genes = cl13_d5_chip_intersection_df['2015_IMMUNITY_Martinez___Nfat1_invitro-CD8-PI-1h-WT'].tolist()\n",
    "nfat1_genes = set(x for x in nfat1_genes if str(x) != 'nan')\n",
    "\n",
    "tbet_genes = cl13_d5_chip_intersection_df['2015_JEM_Dominguez___Tbet_LCMVarm-D8-CD8-Il12-WT'].tolist()\n",
    "tbet_genes = set(x for x in tbet_genes if str(x) != 'nan')\n",
    "\n",
    "jund_genes = cl13_d5_chip_intersection_df['2016_NAT_IMMUNOL_Roychoudhuri___JunD_invitro-stim-CD8-WT'].tolist()\n",
    "jund_genes = set(x for x in jund_genes if str(x) != 'nan')\n",
    "\n",
    "tcf1_genes = cl13_d5_chip_intersection_df['2016_NAT_IMMUNOL_Xing___Tcf1_naive-CD8-WT'].tolist()\n",
    "tcf1_genes = set(x for x in tcf1_genes if str(x) != 'nan')\n",
    "\n",
    "brd4_genes = cl13_d5_chip_intersection_df['2021_GoldrathLab_Brd4___BRD4_NAV-CD8'].tolist()\n",
    "brd4_genes = set(x for x in brd4_genes if str(x) != 'nan')\n",
    "\n",
    "cbfb_genes = cl13_d5_chip_intersection_df['2017_NAT_IMMUNOL_Shan___CBFb_Naive_P14-CD8-WT'].tolist()\n",
    "cbfb_genes = set(x for x in cbfb_genes if str(x) != 'nan')"
   ]
  },
  {
   "cell_type": "code",
   "execution_count": 92,
   "metadata": {},
   "outputs": [],
   "source": [
    "il2_repressed_genes = gene_list_df[gene_list_df['labels'] == 'nascent_Il2_repressed']['gene_names'].tolist()\n",
    "il2_promoted_genes = gene_list_df[gene_list_df['labels'] == 'nascent_Il2_promoted']['gene_names'].tolist()"
   ]
  },
  {
   "cell_type": "code",
   "execution_count": 93,
   "metadata": {},
   "outputs": [
    {
     "data": {
      "text/plain": [
       "151"
      ]
     },
     "execution_count": 93,
     "metadata": {},
     "output_type": "execute_result"
    }
   ],
   "source": [
    "len(nfat1_genes & tbet_genes & jund_genes & set(il2_repressed_genes))"
   ]
  },
  {
   "cell_type": "code",
   "execution_count": 94,
   "metadata": {},
   "outputs": [
    {
     "data": {
      "text/plain": [
       "{'A630001G21Rik',\n",
       " 'Abhd2',\n",
       " 'Adora2a',\n",
       " 'Aff3',\n",
       " 'Aftph',\n",
       " 'Aim2',\n",
       " 'Ap1s3',\n",
       " 'Arhgap30',\n",
       " 'Arhgef3',\n",
       " 'Arid5b',\n",
       " 'Arl5c',\n",
       " 'Asap1',\n",
       " 'Atg16l2',\n",
       " 'B4galnt1',\n",
       " 'Bcl2a1d',\n",
       " 'Bin2',\n",
       " 'Ccdc148',\n",
       " 'Ccr6',\n",
       " 'Cd226',\n",
       " 'Cd274',\n",
       " 'Cd3d',\n",
       " 'Cd3e',\n",
       " 'Cd44',\n",
       " 'Cd52',\n",
       " 'Cd84',\n",
       " 'Cd9',\n",
       " 'Cdkn1b',\n",
       " 'Celf2',\n",
       " 'Chst12',\n",
       " 'Commd3',\n",
       " 'Coq8a',\n",
       " 'Csf1',\n",
       " 'Cstad',\n",
       " 'Ctsw',\n",
       " 'Cxcr3',\n",
       " 'Dnajc1',\n",
       " 'Dnajc15',\n",
       " 'Dock2',\n",
       " 'Elk3',\n",
       " 'Emb',\n",
       " 'Ephx1',\n",
       " 'Ets1',\n",
       " 'Evl',\n",
       " 'Fam129a',\n",
       " 'Fam3c',\n",
       " 'Fam53b',\n",
       " 'Flnb',\n",
       " 'Frmd4a',\n",
       " 'Fryl',\n",
       " 'Fyco1',\n",
       " 'Galm',\n",
       " 'Gata3',\n",
       " 'Gfod1',\n",
       " 'Gimap4',\n",
       " 'Gimap5',\n",
       " 'Gimap8',\n",
       " 'Gnptab',\n",
       " 'Gpr18',\n",
       " 'Gramd1b',\n",
       " 'Gramd3',\n",
       " 'Haao',\n",
       " 'Heg1',\n",
       " 'Hmox2',\n",
       " 'Id3',\n",
       " 'Ifi211',\n",
       " 'Ifi213',\n",
       " 'Ifi27l2a',\n",
       " 'Ifih1',\n",
       " 'Ifnar1',\n",
       " 'Ikzf2',\n",
       " 'Ikzf3',\n",
       " 'Il6st',\n",
       " 'Inpp4b',\n",
       " 'Ipcef1',\n",
       " 'Irf9',\n",
       " 'Kif13b',\n",
       " 'Lax1',\n",
       " 'Lbh',\n",
       " 'Lclat1',\n",
       " 'Lcp1',\n",
       " 'Lgals3bp',\n",
       " 'Limd2',\n",
       " 'Lrch1',\n",
       " 'Lsp1',\n",
       " 'Ly6e',\n",
       " 'Lyst',\n",
       " 'Mast4',\n",
       " 'Mcoln2',\n",
       " 'Mcoln3',\n",
       " 'Mgat5',\n",
       " 'Mmd',\n",
       " 'Ms4a4b',\n",
       " 'Ms4a6b',\n",
       " 'Ms4a6d',\n",
       " 'Myl12b',\n",
       " 'Myo1e',\n",
       " 'Ncoa7',\n",
       " 'Nfia',\n",
       " 'Nfkbie',\n",
       " 'Nfkbiz',\n",
       " 'Nrip1',\n",
       " 'Nsmaf',\n",
       " 'Pacsin1',\n",
       " 'Parp14',\n",
       " 'Pecam1',\n",
       " 'Pip4k2a',\n",
       " 'Plxdc2',\n",
       " 'Pou2f2',\n",
       " 'Ppp1r16b',\n",
       " 'Prkcb',\n",
       " 'Psmb9',\n",
       " 'Ptk2b',\n",
       " 'Ptprk',\n",
       " 'Rab37',\n",
       " 'Rasa3',\n",
       " 'Rasgef1b',\n",
       " 'Rbl2',\n",
       " 'Resf1',\n",
       " 'Ripor2',\n",
       " 'Rnasel',\n",
       " 'Rora',\n",
       " 'Sec11c',\n",
       " 'Serpinb6b',\n",
       " 'Serpinb9',\n",
       " 'Sfxn3',\n",
       " 'Sla',\n",
       " 'Smg6',\n",
       " 'Spry2',\n",
       " 'Sptlc1',\n",
       " 'Stat1',\n",
       " 'Stat4',\n",
       " 'Stim2',\n",
       " 'Synpo',\n",
       " 'Tapbp',\n",
       " 'Tbc1d4',\n",
       " 'Tcf12',\n",
       " 'Tmem38b',\n",
       " 'Tnfsf8',\n",
       " 'Tnip1',\n",
       " 'Tns1',\n",
       " 'Tox2',\n",
       " 'Traf1',\n",
       " 'Tspan13',\n",
       " 'Usp3',\n",
       " 'Vsir',\n",
       " 'Xcl1',\n",
       " 'Xdh',\n",
       " 'Zap70',\n",
       " 'Zbp1',\n",
       " 'Zdhhc18',\n",
       " 'Zfpm1'}"
      ]
     },
     "execution_count": 94,
     "metadata": {},
     "output_type": "execute_result"
    }
   ],
   "source": [
    "nfat1_genes & tbet_genes & jund_genes & set(il2_repressed_genes)"
   ]
  },
  {
   "cell_type": "code",
   "execution_count": 97,
   "metadata": {},
   "outputs": [
    {
     "data": {
      "text/plain": [
       "56"
      ]
     },
     "execution_count": 97,
     "metadata": {},
     "output_type": "execute_result"
    }
   ],
   "source": [
    "len(cbfb_genes & brd4_genes & tcf1_genes & set(il2_promoted_genes))"
   ]
  },
  {
   "cell_type": "code",
   "execution_count": 98,
   "metadata": {},
   "outputs": [
    {
     "data": {
      "text/plain": [
       "{'Abtb2',\n",
       " 'Aebp2',\n",
       " 'BC004004',\n",
       " 'Bcl2',\n",
       " 'Cap1',\n",
       " 'Chsy1',\n",
       " 'Clic4',\n",
       " 'Clptm1l',\n",
       " 'Crem',\n",
       " 'Csrnp1',\n",
       " 'Cytip',\n",
       " 'Dock10',\n",
       " 'Eif1',\n",
       " 'Eif2a',\n",
       " 'Ell2',\n",
       " 'Ern1',\n",
       " 'Fam49b',\n",
       " 'Fam71b',\n",
       " 'Fndc3a',\n",
       " 'Gadd45b',\n",
       " 'Glud1',\n",
       " 'Gpd2',\n",
       " 'Gpr146',\n",
       " 'Gxylt1',\n",
       " 'Hivep3',\n",
       " 'Ifng',\n",
       " 'Il18r1',\n",
       " 'Kpna1',\n",
       " 'Kras',\n",
       " 'Lin54',\n",
       " 'Mfhas1',\n",
       " 'Ndfip1',\n",
       " 'Nktr',\n",
       " 'Nr4a3',\n",
       " 'Odc1',\n",
       " 'Osbpl3',\n",
       " 'Otulin',\n",
       " 'P2rx7',\n",
       " 'Pfkp',\n",
       " 'Pim1',\n",
       " 'Prag1',\n",
       " 'Ptger4',\n",
       " 'Ptprk',\n",
       " 'Rasa2',\n",
       " 'Rbpj',\n",
       " 'Rnf19b',\n",
       " 'Rnf216',\n",
       " 'Skil',\n",
       " 'Slc38a1',\n",
       " 'Srgn',\n",
       " 'Tcf4',\n",
       " 'Tes',\n",
       " 'Themis',\n",
       " 'Tmem131l',\n",
       " 'Tnfrsf1b',\n",
       " 'Zfp608'}"
      ]
     },
     "execution_count": 98,
     "metadata": {},
     "output_type": "execute_result"
    }
   ],
   "source": [
    "cbfb_genes & brd4_genes & tcf1_genes & set(il2_promoted_genes)"
   ]
  },
  {
   "cell_type": "code",
   "execution_count": null,
   "metadata": {},
   "outputs": [],
   "source": []
  }
 ],
 "metadata": {
  "kernelspec": {
   "display_name": "Python 3",
   "language": "python",
   "name": "python3"
  },
  "language_info": {
   "codemirror_mode": {
    "name": "ipython",
    "version": 3
   },
   "file_extension": ".py",
   "mimetype": "text/x-python",
   "name": "python",
   "nbconvert_exporter": "python",
   "pygments_lexer": "ipython3",
   "version": "3.8.3"
  }
 },
 "nbformat": 4,
 "nbformat_minor": 4
}
