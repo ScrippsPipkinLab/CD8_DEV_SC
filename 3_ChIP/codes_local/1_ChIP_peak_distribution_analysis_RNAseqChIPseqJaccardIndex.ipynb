{
 "cells": [
  {
   "cell_type": "code",
   "execution_count": 16,
   "metadata": {},
   "outputs": [],
   "source": [
    "import pandas as pd\n",
    "import glob\n",
    "import os\n",
    "import csv\n",
    "import numpy as np\n",
    "from scipy.stats import chi2_contingency\n",
    "import seaborn as sns\n",
    "import matplotlib.pyplot as plt\n",
    "%matplotlib inline\n",
    "\n",
    "try:\n",
    "    code_dir\n",
    "except NameError:\n",
    "    code_dir = os.getcwd()\n",
    "    source_dir = code_dir.replace(\"codes_local\", \"0_sources\")\n",
    "    out_dir = code_dir.replace(\"codes_local\", \"1_ChIP_peak_distribution_RNAseqChIPseqJaccardIndex\")"
   ]
  },
  {
   "cell_type": "code",
   "execution_count": 2,
   "metadata": {},
   "outputs": [
    {
     "name": "stdout",
     "output_type": "stream",
     "text": [
      "{'sc_P6_cl13_up', 'sc_d8_cl13_up', 'd5_KLRG1lo_Runx3_repressed', 'sc_P5_arm_up', 'd5_KLRG1hi_all', 'nascent_Il2_promoted', 'sc_P4_arm_up', 'sc_P3_arm_up', 'sc_P2_arm_up', 'nascent_48h_up', 'sc_P7_arm_up', 'd5_KLRG1lo_all', 'sc_all', 'd5_KLRG1hi_Runx3_repressed', 'nascent_48h_dn', 'sc_P3_cl13_up', 'd5_KLRG1hi_Runx3_promoted', 'sc_P7_cl13_up', 'd5_KLRG1lo_Runx3_promoted', 'sc_P9_cl13_up', 'sc_d8_arm_up', 'nascent_all', 'sc_d5_cl13_up', 'sc_P9_arm_up', 'sc_P6_arm_up', 'sc_P2_cl13_up', 'sc_d5_arm_up', 'nascent_Il2_repressed', 'sc_P5_cl13_up', 'sc_P4_cl13_up'}\n"
     ]
    }
   ],
   "source": [
    "gene_list_file = source_dir + \"/gene_list.csv\"\n",
    "gene_list_df = pd.read_csv(gene_list_file)\n",
    "print(set(gene_list_df['labels']))\n",
    "\n",
    "chip_anno_dir = '/media/pipkin/Rocket2/T_Cell_ChIP/202012_ChIP/3_peak_annotations'\n",
    "chip_anno_files = glob.glob(\"%s/*annoDf.csv\"%chip_anno_dir)\n",
    "chip_names = [x.split(\"/\")[-1].replace(\"_annoDf.csv\", \"\") for x in chip_anno_files]\n",
    "\n",
    "out_file = out_dir + \"/ChIP_peak_chisq\"\n",
    "out_sum_pval_file = out_dir + \"/sum_ChIP_peak_chisq.csv\""
   ]
  },
  {
   "cell_type": "code",
   "execution_count": 3,
   "metadata": {},
   "outputs": [],
   "source": [
    "chip_df = pd.DataFrame({\"ChIP\": chip_names})\n",
    "chip_genes_n = []\n",
    "for chip_i_file in chip_anno_files:\n",
    "    chip_i_df = pd.read_csv(chip_i_file)\n",
    "    chip_i_genes = set(x for x in chip_i_df['SYMBOL'] if str(x) != 'nan')\n",
    "    chip_genes_n.append(len(chip_i_genes))\n",
    "chip_df[\"ChIP gene #\"] = chip_genes_n"
   ]
  },
  {
   "cell_type": "code",
   "execution_count": 4,
   "metadata": {},
   "outputs": [
    {
     "name": "stdout",
     "output_type": "stream",
     "text": [
      "sc_P6_cl13_up\n",
      "sc_d8_cl13_up\n",
      "d5_KLRG1lo_Runx3_repressed\n",
      "sc_P5_arm_up\n",
      "d5_KLRG1hi_all\n",
      "nascent_Il2_promoted\n",
      "sc_P4_arm_up\n",
      "sc_P3_arm_up\n",
      "sc_P2_arm_up\n",
      "nascent_48h_up\n",
      "sc_P7_arm_up\n",
      "d5_KLRG1lo_all\n",
      "sc_all\n",
      "d5_KLRG1hi_Runx3_repressed\n",
      "nascent_48h_dn\n",
      "sc_P3_cl13_up\n",
      "d5_KLRG1hi_Runx3_promoted\n",
      "sc_P7_cl13_up\n",
      "d5_KLRG1lo_Runx3_promoted\n",
      "sc_P9_cl13_up\n",
      "sc_d8_arm_up\n",
      "nascent_all\n",
      "sc_d5_cl13_up\n",
      "sc_P9_arm_up\n",
      "sc_P6_arm_up\n",
      "sc_P2_cl13_up\n",
      "sc_d5_arm_up\n",
      "nascent_Il2_repressed\n",
      "sc_P5_cl13_up\n",
      "sc_P4_cl13_up\n"
     ]
    }
   ],
   "source": [
    "jaccard_df = chip_df.copy()\n",
    "genes_df = chip_df.copy()\n",
    "for gene_list_label in set(gene_list_df['labels']):\n",
    "    print(gene_list_label)\n",
    "    gene_set = set(gene_list_df[gene_list_df['labels'] == gene_list_label]['gene_names'].tolist())\n",
    "    jaccard_list = []\n",
    "    overlap_list = []\n",
    "    for chip_i_file in chip_anno_files:\n",
    "        chip_i_name = chip_i_file.split(\"/\")[-1].replace(\"_annoDf.csv\", \"\")\n",
    "        chip_i_df = pd.read_csv(chip_i_file)\n",
    "        chip_i_genes = set(x for x in chip_i_df['SYMBOL'] if str(x) != 'nan')\n",
    "        \n",
    "        intersect_genes = gene_set & chip_i_genes\n",
    "        union_genes = gene_set | chip_i_genes\n",
    "        \n",
    "        jaccard_list.append(len(intersect_genes)/ len(union_genes))\n",
    "        overlap_list.append(\"|\".join(list(intersect_genes)))\n",
    "    jaccard_df[gene_list_label] = [\"{:.4f}\".format(x) for x in jaccard_list]\n",
    "    genes_df[gene_list_label] = overlap_list\n",
    "jaccard_df.to_csv(\"%s/RNAseq_ChIPseq_Jaccard.csv\"%out_dir, index=False)\n",
    "genes_df.to_csv(\"%s/RNAseq_ChIPseq_interseqGenes.csv\"%out_dir, index=False)"
   ]
  },
  {
   "cell_type": "markdown",
   "metadata": {},
   "source": [
    "### Cluster heatmap"
   ]
  },
  {
   "cell_type": "code",
   "execution_count": 21,
   "metadata": {},
   "outputs": [],
   "source": [
    "jaccard_df = pd.read_csv(\"%s/RNAseq_ChIPseq_Jaccard.csv\"%out_dir)\n",
    "jaccard_heatmap_df = jaccard_df[list(set(gene_list_df['labels']))]\n",
    "jaccard_heatmap_df.index = jaccard_df['ChIP']\n",
    "\n",
    "jaccard_clustermap = sns.clustermap(jaccard_heatmap_df, figsize=(30,30))\n",
    "jaccard_clustermap.savefig(\"%s/RNAseq_ChIPseq_Jaccard.jpg\"%out_dir)\n",
    "plt.close()"
   ]
  },
  {
   "cell_type": "code",
   "execution_count": null,
   "metadata": {},
   "outputs": [],
   "source": []
  },
  {
   "cell_type": "code",
   "execution_count": null,
   "metadata": {},
   "outputs": [],
   "source": []
  }
 ],
 "metadata": {
  "kernelspec": {
   "display_name": "Python 3",
   "language": "python",
   "name": "python3"
  },
  "language_info": {
   "codemirror_mode": {
    "name": "ipython",
    "version": 3
   },
   "file_extension": ".py",
   "mimetype": "text/x-python",
   "name": "python",
   "nbconvert_exporter": "python",
   "pygments_lexer": "ipython3",
   "version": "3.8.3"
  }
 },
 "nbformat": 4,
 "nbformat_minor": 4
}
