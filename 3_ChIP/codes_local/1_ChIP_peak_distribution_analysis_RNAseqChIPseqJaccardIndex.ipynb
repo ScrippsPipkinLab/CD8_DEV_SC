{
 "cells": [
  {
   "cell_type": "code",
   "execution_count": 16,
   "metadata": {},
   "outputs": [],
   "source": [
    "import pandas as pd\n",
    "import glob\n",
    "import os\n",
    "import csv\n",
    "import numpy as np\n",
    "from scipy.stats import chi2_contingency\n",
    "import seaborn as sns\n",
    "import matplotlib.pyplot as plt\n",
    "%matplotlib inline\n",
    "\n",
    "try:\n",
    "    code_dir\n",
    "except NameError:\n",
    "    code_dir = os.getcwd()\n",
    "    source_dir = code_dir.replace(\"codes_local\", \"0_sources\")\n",
    "    out_dir = code_dir.replace(\"codes_local\", \"1_ChIP_peak_distribution_RNAseqChIPseqJaccardIndex\")"
   ]
  },
  {
   "cell_type": "code",
   "execution_count": 2,
   "metadata": {},
   "outputs": [
    {
     "name": "stdout",
     "output_type": "stream",
     "text": [
      "{'sc_P6_cl13_up', 'sc_d8_cl13_up', 'd5_KLRG1lo_Runx3_repressed', 'sc_P5_arm_up', 'd5_KLRG1hi_all', 'nascent_Il2_promoted', 'sc_P4_arm_up', 'sc_P3_arm_up', 'sc_P2_arm_up', 'nascent_48h_up', 'sc_P7_arm_up', 'd5_KLRG1lo_all', 'sc_all', 'd5_KLRG1hi_Runx3_repressed', 'nascent_48h_dn', 'sc_P3_cl13_up', 'd5_KLRG1hi_Runx3_promoted', 'sc_P7_cl13_up', 'd5_KLRG1lo_Runx3_promoted', 'sc_P9_cl13_up', 'sc_d8_arm_up', 'nascent_all', 'sc_d5_cl13_up', 'sc_P9_arm_up', 'sc_P6_arm_up', 'sc_P2_cl13_up', 'sc_d5_arm_up', 'nascent_Il2_repressed', 'sc_P5_cl13_up', 'sc_P4_cl13_up'}\n"
     ]
    }
   ],
   "source": [
    "gene_list_file = source_dir + \"/gene_list.csv\"\n",
    "gene_list_df = pd.read_csv(gene_list_file)\n",
    "print(set(gene_list_df['labels']))\n",
    "\n",
    "chip_anno_dir = '/media/pipkin/Rocket2/T_Cell_ChIP/202012_ChIP/3_peak_annotations'\n",
    "chip_anno_files = glob.glob(\"%s/*annoDf.csv\"%chip_anno_dir)\n",
    "chip_names = [x.split(\"/\")[-1].replace(\"_annoDf.csv\", \"\") for x in chip_anno_files]\n",
    "\n",
    "out_file = out_dir + \"/ChIP_peak_chisq\"\n",
    "out_sum_pval_file = out_dir + \"/sum_ChIP_peak_chisq.csv\""
   ]
  },
  {
   "cell_type": "code",
   "execution_count": 3,
   "metadata": {},
   "outputs": [],
   "source": [
    "chip_df = pd.DataFrame({\"ChIP\": chip_names})\n",
    "chip_genes_n = []\n",
    "for chip_i_file in chip_anno_files:\n",
    "    chip_i_df = pd.read_csv(chip_i_file)\n",
    "    chip_i_genes = set(x for x in chip_i_df['SYMBOL'] if str(x) != 'nan')\n",
    "    chip_genes_n.append(len(chip_i_genes))\n",
    "chip_df[\"ChIP gene #\"] = chip_genes_n"
   ]
  },
  {
   "cell_type": "code",
   "execution_count": 26,
   "metadata": {},
   "outputs": [
    {
     "name": "stdout",
     "output_type": "stream",
     "text": [
      "sc_P6_cl13_up\n",
      "sc_d8_cl13_up\n",
      "d5_KLRG1lo_Runx3_repressed\n",
      "sc_P5_arm_up\n",
      "d5_KLRG1hi_all\n",
      "nascent_Il2_promoted\n",
      "sc_P4_arm_up\n"
     ]
    },
    {
     "name": "stderr",
     "output_type": "stream",
     "text": [
      "<ipython-input-26-f6ee624dbf35>:17: DeprecationWarning: The default dtype for empty Series will be 'object' instead of 'float64' in a future version. Specify a dtype explicitly to silence this warning.\n",
      "  genes_df[chip_i_name] = pd.Series(list(intersect_genes))\n"
     ]
    },
    {
     "name": "stdout",
     "output_type": "stream",
     "text": [
      "sc_P3_arm_up\n",
      "sc_P2_arm_up\n",
      "nascent_48h_up\n",
      "sc_P7_arm_up\n",
      "d5_KLRG1lo_all\n",
      "sc_all\n",
      "d5_KLRG1hi_Runx3_repressed\n",
      "nascent_48h_dn\n",
      "sc_P3_cl13_up\n",
      "d5_KLRG1hi_Runx3_promoted\n",
      "sc_P7_cl13_up\n",
      "d5_KLRG1lo_Runx3_promoted\n",
      "sc_P9_cl13_up\n",
      "sc_d8_arm_up\n",
      "nascent_all\n",
      "sc_d5_cl13_up\n",
      "sc_P9_arm_up\n",
      "sc_P6_arm_up\n",
      "sc_P2_cl13_up\n",
      "sc_d5_arm_up\n",
      "nascent_Il2_repressed\n",
      "sc_P5_cl13_up\n",
      "sc_P4_cl13_up\n"
     ]
    }
   ],
   "source": [
    "jaccard_df = chip_df.copy()\n",
    "for gene_list_label in set(gene_list_df['labels']):\n",
    "    print(gene_list_label)\n",
    "    genes_df = pd.DataFrame()\n",
    "    gene_set = set(gene_list_df[gene_list_df['labels'] == gene_list_label]['gene_names'].tolist())\n",
    "    jaccard_list = []\n",
    "    overlap_list = []\n",
    "    for chip_i_file in chip_anno_files:\n",
    "        chip_i_name = chip_i_file.split(\"/\")[-1].replace(\"_annoDf.csv\", \"\")\n",
    "        chip_i_df = pd.read_csv(chip_i_file)\n",
    "        chip_i_genes = set(x for x in chip_i_df['SYMBOL'] if str(x) != 'nan')\n",
    "        \n",
    "        intersect_genes = gene_set & chip_i_genes\n",
    "        union_genes = gene_set | chip_i_genes\n",
    "        \n",
    "        jaccard_list.append(len(intersect_genes)/ len(union_genes))\n",
    "        genes_df[chip_i_name] = pd.Series(list(intersect_genes))\n",
    "        overlap_list.append(\"|\".join(list(intersect_genes)))\n",
    "    jaccard_df[gene_list_label] = [\"{:.4f}\".format(x) for x in jaccard_list]\n",
    "    genes_df.to_csv(\"%s/%s_RNAseq_ChIPseq_interseqGenes.csv\"%(out_dir, gene_list_label), index=False)\n",
    "jaccard_df.to_csv(\"%s/RNAseq_ChIPseq_Jaccard.csv\"%out_dir, index=False)"
   ]
  },
  {
   "cell_type": "markdown",
   "metadata": {},
   "source": [
    "### Cluster heatmap"
   ]
  },
  {
   "cell_type": "code",
   "execution_count": 21,
   "metadata": {},
   "outputs": [],
   "source": [
    "jaccard_df = pd.read_csv(\"%s/RNAseq_ChIPseq_Jaccard.csv\"%out_dir)\n",
    "jaccard_heatmap_df = jaccard_df[list(set(gene_list_df['labels']))]\n",
    "jaccard_heatmap_df.index = jaccard_df['ChIP']\n",
    "\n",
    "jaccard_clustermap = sns.clustermap(jaccard_heatmap_df, figsize=(30,30))\n",
    "jaccard_clustermap.savefig(\"%s/RNAseq_ChIPseq_Jaccard.jpg\"%out_dir)\n",
    "plt.close()"
   ]
  },
  {
   "cell_type": "markdown",
   "metadata": {},
   "source": [
    "### Cl13 & Arm key genes"
   ]
  },
  {
   "cell_type": "code",
   "execution_count": 122,
   "metadata": {},
   "outputs": [],
   "source": [
    "cl13_d5_chip_intersection_df = pd.read_csv(\"%s/sc_d5_cl13_up_RNAseq_ChIPseq_interseqGenes.csv\"%out_dir)\n",
    "arm_d5_chip_intersection_df = pd.read_csv(\"%s/sc_d5_arm_up_RNAseq_ChIPseq_interseqGenes.csv\"%out_dir)\n",
    "\n",
    "il2_repressed_genes = gene_list_df[gene_list_df['labels'] == 'nascent_Il2_repressed']['gene_names'].tolist()\n",
    "il2_promoted_genes = gene_list_df[gene_list_df['labels'] == 'nascent_Il2_promoted']['gene_names'].tolist()\n",
    "\n",
    "nfat1_genes = cl13_d5_chip_intersection_df['2015_IMMUNITY_Martinez___Nfat1_invitro-CD8-PI-1h-WT'].tolist()\n",
    "nfat1_genes = set(x for x in nfat1_genes if str(x) != 'nan')\n",
    "\n",
    "tbet_genes = cl13_d5_chip_intersection_df['2015_JEM_Dominguez___Tbet_LCMVarm-D8-CD8-Il12-WT'].tolist()\n",
    "tbet_genes = set(x for x in tbet_genes if str(x) != 'nan')\n",
    "\n",
    "jund_genes = cl13_d5_chip_intersection_df['2016_NAT_IMMUNOL_Roychoudhuri___JunD_invitro-stim-CD8-WT'].tolist()\n",
    "jund_genes = set(x for x in jund_genes if str(x) != 'nan')\n",
    "\n",
    "tcf1_genes = arm_d5_chip_intersection_df['2016_NAT_IMMUNOL_Xing___Tcf1_naive-CD8-WT'].tolist()\n",
    "tcf1_genes = set(x for x in tcf1_genes if str(x) != 'nan')\n",
    "\n",
    "brd4_genes = arm_d5_chip_intersection_df['2021_GoldrathLab_Brd4___BRD4_NAV-CD8'].tolist()\n",
    "brd4_genes = set(x for x in brd4_genes if str(x) != 'nan')\n",
    "\n",
    "cbfb_genes = arm_d5_chip_intersection_df['2017_NAT_IMMUNOL_Shan___CBFb_Naive_P14-CD8-WT'].tolist()\n",
    "cbfb_genes = set(x for x in cbfb_genes if str(x) != 'nan')\n",
    "\n",
    "avg_expr_file = '/media/pipkin/ROCKET-PRO/CD8_DEV_SC/0_Acute-Chronic/1_Scanpy/0_Scanpy_out_resampled/1_avg_expr/cell_type_simp_mean_scaled_expr.csv'\n",
    "avg_expr_df = pd.read_csv(avg_expr_file).set_index(\"gene_name\")"
   ]
  },
  {
   "cell_type": "code",
   "execution_count": 129,
   "metadata": {},
   "outputs": [],
   "source": [
    "cl13_key_genes = nfat1_genes & tbet_genes & jund_genes & set(il2_repressed_genes)\n",
    "arm_key_genes = cbfb_genes & brd4_genes & tcf1_genes & set(il2_promoted_genes)\n",
    "\n",
    "key_genes_df = pd.DataFrame()\n",
    "key_genes_df['Cl13'] = pd.Series(list(cl13_key_genes))\n",
    "key_genes_df['Arm'] = pd.Series(list(arm_key_genes))\n",
    "key_genes_df.to_csv(\"/media/pipkin/ROCKET-PRO/CD8_DEV_SC/3_ChIP/chip_regulated_key_genes_Cl13-Arm-d5.csv\",\n",
    "                   index=False)"
   ]
  },
  {
   "cell_type": "code",
   "execution_count": 124,
   "metadata": {
    "scrolled": false
   },
   "outputs": [
    {
     "data": {
      "text/plain": [
       "['Cd9',\n",
       " 'Ifi27l2a',\n",
       " 'Nfkbiz',\n",
       " 'Traf1',\n",
       " 'Serpinb6b',\n",
       " 'Xcl1',\n",
       " 'Bcl2a1d',\n",
       " 'Ikzf2',\n",
       " 'Cd226',\n",
       " 'Asap1',\n",
       " 'Ly6e',\n",
       " 'Tnfsf8',\n",
       " 'Pou2f2',\n",
       " 'Ifih1',\n",
       " 'Emb',\n",
       " 'Serpinb9',\n",
       " 'Cd52',\n",
       " 'Gpr18',\n",
       " 'Lsp1',\n",
       " 'Tspan13',\n",
       " 'Lgals3bp',\n",
       " 'Zbp1',\n",
       " 'Smg6',\n",
       " 'Rora',\n",
       " 'Ccr6',\n",
       " 'Myo1e',\n",
       " 'Cxcr3',\n",
       " 'Sla',\n",
       " 'Ppp1r16b',\n",
       " 'Gimap4',\n",
       " 'Ms4a4b',\n",
       " 'Inpp4b',\n",
       " 'Cd274',\n",
       " 'Gimap5',\n",
       " 'Ms4a6d',\n",
       " 'Ets1',\n",
       " 'Tnip1',\n",
       " 'Aff3',\n",
       " 'Id3',\n",
       " 'Stat4',\n",
       " 'Pecam1',\n",
       " 'Rasa3',\n",
       " 'Mast4',\n",
       " 'Cd44',\n",
       " 'Resf1',\n",
       " 'Ipcef1',\n",
       " 'Irf9',\n",
       " 'Fam129a',\n",
       " 'Nrip1',\n",
       " 'Aftph',\n",
       " 'Nfkbie',\n",
       " 'Gfod1',\n",
       " 'Gramd1b',\n",
       " 'Gata3',\n",
       " 'Rasgef1b',\n",
       " 'Gramd3',\n",
       " 'Elk3',\n",
       " 'Arl5c',\n",
       " 'Aim2',\n",
       " 'Lyst',\n",
       " 'Ncoa7',\n",
       " 'Frmd4a',\n",
       " 'Dnajc1',\n",
       " 'Nsmaf',\n",
       " 'Lrch1',\n",
       " 'Ephx1',\n",
       " 'Coq8a',\n",
       " 'Ripor2',\n",
       " 'Usp3',\n",
       " 'Tbc1d4',\n",
       " 'Mgat5',\n",
       " 'A630001G21Rik',\n",
       " 'Abhd2',\n",
       " 'Stat1',\n",
       " 'Spry2',\n",
       " 'Prkcb',\n",
       " 'Ifi213',\n",
       " 'Haao',\n",
       " 'Ifnar1',\n",
       " 'Parp14',\n",
       " 'Kif13b',\n",
       " 'Heg1',\n",
       " 'Il6st',\n",
       " 'Pacsin1',\n",
       " 'Arid5b',\n",
       " 'Lax1',\n",
       " 'Ctsw',\n",
       " 'Cstad',\n",
       " 'Rnasel',\n",
       " 'Ikzf3',\n",
       " 'Nfia',\n",
       " 'Csf1',\n",
       " 'Xdh',\n",
       " 'Gimap8',\n",
       " 'Arhgef3',\n",
       " 'Rab37',\n",
       " 'Vsir',\n",
       " 'Tcf12',\n",
       " 'Rbl2',\n",
       " 'Cd84',\n",
       " 'Zdhhc18',\n",
       " 'Arhgap30',\n",
       " 'Sfxn3',\n",
       " 'Cdkn1b',\n",
       " 'Fam53b',\n",
       " 'Evl',\n",
       " 'Fryl',\n",
       " 'Dock2',\n",
       " 'Fyco1']"
      ]
     },
     "execution_count": 124,
     "metadata": {},
     "output_type": "execute_result"
    }
   ],
   "source": [
    "cl13_avg_expr_df = avg_expr_df.loc[[x for x in cl13_key_genes if x in avg_expr_df.index]]\n",
    "cl13_avg_expr_df.sort_values(\"C5\", ascending=False).index.tolist()"
   ]
  },
  {
   "cell_type": "code",
   "execution_count": 125,
   "metadata": {},
   "outputs": [
    {
     "data": {
      "text/plain": [
       "['Nme1',\n",
       " 'Ppa1',\n",
       " 'Hsp90aa1',\n",
       " 'Ldha',\n",
       " 'Hnrnpab',\n",
       " 'Manf',\n",
       " 'Hsp90ab1',\n",
       " 'Vim',\n",
       " 'Susd1',\n",
       " 'Tgm2',\n",
       " 'Pcgf5',\n",
       " 'Selp',\n",
       " 'Amd2',\n",
       " 'Hspa9',\n",
       " 'Rev3l',\n",
       " 'Ciart',\n",
       " 'Rps20',\n",
       " 'Elovl6',\n",
       " 'Rgs1',\n",
       " 'Fgd2',\n",
       " 'Klf6',\n",
       " 'Setbp1',\n",
       " 'Wwp1',\n",
       " 'Abl2',\n",
       " 'Tnfrsf10b',\n",
       " 'Trio',\n",
       " 'Prf1',\n",
       " 'Slc3a2',\n",
       " 'Tgfbr3',\n",
       " 'Camsap2',\n",
       " 'Atp2b4',\n",
       " 'Rffl',\n",
       " 'Gadd45g',\n",
       " 'Slc16a6',\n",
       " 'Irs2',\n",
       " 'Malt1',\n",
       " 'Chd7',\n",
       " 'Znrf3',\n",
       " 'Rplp1',\n",
       " 'Crim1',\n",
       " 'Klf7',\n",
       " 'Rap2a',\n",
       " 'Rps19',\n",
       " 'Gzmb',\n",
       " 'Tsc22d3',\n",
       " 'Rps7',\n",
       " 'Rps9',\n",
       " 'Il7r',\n",
       " 'Hspa8']"
      ]
     },
     "execution_count": 125,
     "metadata": {},
     "output_type": "execute_result"
    }
   ],
   "source": [
    "arm_avg_expr_df = avg_expr_df.loc[[x for x in arm_key_genes if x in avg_expr_df.index]]\n",
    "arm_avg_expr_df.sort_values(\"C5\", ascending=False).index.tolist()"
   ]
  },
  {
   "cell_type": "code",
   "execution_count": null,
   "metadata": {},
   "outputs": [],
   "source": []
  }
 ],
 "metadata": {
  "kernelspec": {
   "display_name": "Python 3",
   "language": "python",
   "name": "python3"
  },
  "language_info": {
   "codemirror_mode": {
    "name": "ipython",
    "version": 3
   },
   "file_extension": ".py",
   "mimetype": "text/x-python",
   "name": "python",
   "nbconvert_exporter": "python",
   "pygments_lexer": "ipython3",
   "version": "3.8.3"
  }
 },
 "nbformat": 4,
 "nbformat_minor": 4
}
