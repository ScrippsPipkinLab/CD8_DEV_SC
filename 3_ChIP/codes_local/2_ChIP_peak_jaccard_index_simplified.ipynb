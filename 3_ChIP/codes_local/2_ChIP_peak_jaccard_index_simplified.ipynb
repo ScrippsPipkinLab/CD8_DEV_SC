{
 "cells": [
  {
   "cell_type": "code",
   "execution_count": 3,
   "metadata": {},
   "outputs": [],
   "source": [
    "import pandas as pd\n",
    "import glob\n",
    "import os\n",
    "import csv\n",
    "import numpy as np\n",
    "from scipy.stats import chi2_contingency\n",
    "import seaborn as sns\n",
    "import matplotlib.pyplot as plt\n",
    "import itertools\n",
    "%matplotlib inline\n",
    "\n",
    "try:\n",
    "    code_dir\n",
    "except NameError:\n",
    "    code_dir = os.getcwd()\n",
    "    source_dir = code_dir.replace(\"codes_local\", \"0_sources\")\n",
    "    out_dir = code_dir.replace(\"codes_local\", \"2_ChIP_peak_jaccard\")\n",
    "    out_dir_simp = code_dir.replace(\"codes_local\", \"2_ChIP_peak_jaccard_simp\")"
   ]
  },
  {
   "cell_type": "code",
   "execution_count": 4,
   "metadata": {},
   "outputs": [
    {
     "name": "stdout",
     "output_type": "stream",
     "text": [
      "{'sc_d8_cl13_up', 'nascent_Il2_repressed', 'sc_P4_arm_up', 'nascent_Il2_promoted', 'nascent_all', 'sc_P2_cl13_up', 'sc_P9_cl13_up', 'sc_d8_arm_up', 'd5_KLRG1hi_Runx3_promoted', 'sc_P9_arm_up', 'sc_P3_arm_up', 'd5_KLRG1lo_all', 'nascent_48h_up', 'nascent_48h_dn', 'sc_P4_cl13_up', 'sc_P5_arm_up', 'd5_KLRG1lo_Runx3_repressed', 'sc_P2_arm_up', 'd5_KLRG1hi_all', 'sc_all', 'sc_P6_arm_up', 'sc_P6_cl13_up', 'd5_KLRG1lo_Runx3_promoted', 'sc_P7_arm_up', 'sc_d5_arm_up', 'sc_P3_cl13_up', 'd5_KLRG1hi_Runx3_repressed', 'sc_d5_cl13_up', 'sc_P7_cl13_up', 'sc_P5_cl13_up'}\n"
     ]
    }
   ],
   "source": [
    "gene_list_file = source_dir + \"/gene_list.csv\"\n",
    "gene_list_df = pd.read_csv(gene_list_file)\n",
    "gene_list_labels_uniq = set(gene_list_df['labels'])\n",
    "print(gene_list_labels_uniq)\n",
    "\n",
    "chip_anno_dir = '/media/pipkin/Rocket2/T_Cell_ChIP/202012_ChIP/3_peak_annotations'\n",
    "chip_anno_files = glob.glob(\"%s/*annoDf.csv\"%chip_anno_dir)\n",
    "chip_names = [x.split(\"/\")[-1].replace(\"_annoDf.csv\", \"\") for x in chip_anno_files]"
   ]
  },
  {
   "cell_type": "code",
   "execution_count": 19,
   "metadata": {},
   "outputs": [],
   "source": [
    "chip_df = pd.DataFrame({\"ChIP\": chip_names})\n",
    "chip_genes_n = []\n",
    "for chip_i_file in chip_anno_files:\n",
    "    chip_i_df = pd.read_csv(chip_i_file)\n",
    "    chip_i_genes = set(x for x in chip_i_df['SYMBOL'] if str(x) != 'nan')\n",
    "    chip_genes_n.append(len(chip_i_genes))\n",
    "chip_df[\"ChIP gene #\"] = chip_genes_n\n",
    "\n",
    "chip_df['type'] = [\"Histone\" if x.split(\"___\")[1].startswith(\"H3\") else \"TF\" for x in chip_names]\n",
    "chip_df['CD4_CD8'] = [\"CD8\" if \"CD8\" in x else \"CD4\" if \"CD4\" in x else \"\" for x in chip_names]\n",
    "chip_df.to_csv(\"%s/chip_sum.csv\"%out_dir_simp, index=False)"
   ]
  },
  {
   "cell_type": "markdown",
   "metadata": {},
   "source": [
    "## Manually annotate datasets to be used in simplified plots"
   ]
  },
  {
   "cell_type": "markdown",
   "metadata": {},
   "source": [
    "## 3. Summarize jaccard index between ChIPs for different RNAseq association"
   ]
  },
  {
   "cell_type": "code",
   "execution_count": 6,
   "metadata": {},
   "outputs": [],
   "source": [
    "# Use only non redudant combinations for ChIP experiment comparisons\n",
    "uniq_chip_cbs = list(itertools.combinations(chip_names,2))\n",
    "uniq_chip_cbs = [\"---\".join(x) for x in uniq_chip_cbs]"
   ]
  },
  {
   "cell_type": "code",
   "execution_count": 8,
   "metadata": {},
   "outputs": [],
   "source": [
    "jaccard_files = glob.glob(\"%s/*jaccard.csv\"%out_dir)\n",
    "jaccard_all_df = pd.DataFrame({\"ChIP_combination\": uniq_chip_cbs})\n",
    "for jaccard_file in jaccard_files:\n",
    "    jaccard_name = jaccard_file.split(\"/\")[-1].replace(\"_jaccard.csv\", \"\")\n",
    "    jaccard_df = pd.read_csv(jaccard_file)\n",
    "    \n",
    "    jaccard_df_melt = pd.melt(jaccard_df, id_vars=['ChIP', 'ChIP gene #'])\n",
    "    jaccard_df_melt.columns = ['ChIP_1', 'ChIP gene #', 'ChIP_2', 'jaccard_index']\n",
    "    jaccard_df_melt['ChIP_combination'] = [\"---\".join([x,y]) for index, (x, y) in \n",
    "                                           enumerate(zip(jaccard_df_melt['ChIP_1'].tolist(), \n",
    "                                                         jaccard_df_melt['ChIP_2'].tolist()))]\n",
    "    jaccard_df_melt = jaccard_df_melt[['ChIP_combination', 'jaccard_index']]\n",
    "    jaccard_df_melt = jaccard_df_melt.set_index(\"ChIP_combination\")\n",
    "    jaccard_df_melt = jaccard_df_melt.loc[uniq_chip_cbs]\n",
    "    \n",
    "    jaccard_all_df[jaccard_name] = jaccard_df_melt['jaccard_index'].tolist()\n",
    "jaccard_all_df.to_csv(\"%s/All_jaccard_index.csv\"%out_dir, index=False)"
   ]
  },
  {
   "cell_type": "code",
   "execution_count": 10,
   "metadata": {},
   "outputs": [],
   "source": [
    "jaccard_all_clustermap_df = jaccard_all_df.set_index(\"ChIP_combination\") "
   ]
  },
  {
   "cell_type": "code",
   "execution_count": 11,
   "metadata": {
    "scrolled": true
   },
   "outputs": [
    {
     "name": "stderr",
     "output_type": "stream",
     "text": [
      "/home/pipkin/anaconda3/lib/python3.7/site-packages/seaborn/matrix.py:659: UserWarning: Clustering large matrix with scipy. Installing `fastcluster` may give better performance.\n",
      "  warnings.warn(msg)\n"
     ]
    }
   ],
   "source": [
    "jaccard_all_clustermap = sns.clustermap(jaccard_all_clustermap_df, figsize=(30,30))\n",
    "jaccard_all_clustermap.savefig(\"%s/All_jaccard_index_clustermap.jpg\"%out_dir)\n",
    "plt.close()\n",
    "\n",
    "jaccard_all_dgram = jaccard_all_clustermap.dendrogram_col.dendrogram\n",
    "jaccard_all_order = [jaccard_all_clustermap_df.columns.tolist()[int(x)] for x in jaccard_all_dgram['ivl']]\n",
    "jaccard_all_order_df = pd.DataFrame({\"ChIP\": jaccard_all_order})\n",
    "jaccard_all_order_df.to_csv(\"%s/All_jaccard_index_clustermapColOrder.csv\"%out_dir)\n",
    "\n",
    "jaccard_all_dgram = jaccard_all_clustermap.dendrogram_row.dendrogram\n",
    "jaccard_all_order = [jaccard_all_clustermap_df.index.tolist()[int(x)] for x in jaccard_all_dgram['ivl']]\n",
    "jaccard_all_order_df = pd.DataFrame({\"ChIP\": jaccard_all_order})\n",
    "jaccard_all_order_df.to_csv(\"%s/All_jaccard_index_clustermapRowOrder.csv\"%out_dir)"
   ]
  },
  {
   "cell_type": "code",
   "execution_count": null,
   "metadata": {},
   "outputs": [],
   "source": []
  }
 ],
 "metadata": {
  "kernelspec": {
   "display_name": "Python 3",
   "language": "python",
   "name": "python3"
  },
  "language_info": {
   "codemirror_mode": {
    "name": "ipython",
    "version": 3
   },
   "file_extension": ".py",
   "mimetype": "text/x-python",
   "name": "python",
   "nbconvert_exporter": "python",
   "pygments_lexer": "ipython3",
   "version": "3.8.3"
  }
 },
 "nbformat": 4,
 "nbformat_minor": 4
}
