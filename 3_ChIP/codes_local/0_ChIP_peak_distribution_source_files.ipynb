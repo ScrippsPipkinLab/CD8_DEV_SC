{
 "cells": [
  {
   "cell_type": "code",
   "execution_count": 1,
   "metadata": {},
   "outputs": [],
   "source": [
    "import pandas as pd\n",
    "import glob\n",
    "import os\n",
    "\n",
    "try:\n",
    "    code_dir\n",
    "except NameError:\n",
    "    code_dir = os.getcwd()\n",
    "    source_dir = code_dir.replace(\"codes_local\", \"0_sources\")"
   ]
  },
  {
   "cell_type": "markdown",
   "metadata": {},
   "source": [
    "### Lists of genes to be analyzed against ChIP"
   ]
  },
  {
   "cell_type": "code",
   "execution_count": 2,
   "metadata": {},
   "outputs": [],
   "source": [
    "genes_list = []\n",
    "labels_list = []"
   ]
  },
  {
   "cell_type": "code",
   "execution_count": 3,
   "metadata": {},
   "outputs": [
    {
     "name": "stdout",
     "output_type": "stream",
     "text": [
      "23423 5458 5738\n"
     ]
    }
   ],
   "source": [
    "###----- Nascent RNAseq - 48h up / dn\n",
    "de_file = '/media/pipkin/ROCKET-PRO/CD8_DEV_SC/2_IL2RAKO_Nascent/2_DE/0_original_GN/nondupr_WT_48h_vs_WT_0h_addGN.csv'\n",
    "de_df = pd.read_csv(de_file)\n",
    "de_sig_df = de_df[de_df['pvalue'] < 0.05]\n",
    "de_sig_df_up = de_sig_df[de_sig_df['log2FoldChange'] > 0]\n",
    "de_sig_df_dn = de_sig_df[de_sig_df['log2FoldChange'] < 0]\n",
    "\n",
    "nascent_all_genes = set(de_df['gene_name'])\n",
    "nascent_48h_vs_0h_sig_up = set(x for x in de_sig_df_up['gene_name'] if str(x) != 'nan')\n",
    "nascent_48h_vs_0h_sig_dn = set(x for x in de_sig_df_dn['gene_name'] if str(x) != 'nan')\n",
    "\n",
    "genes_list = genes_list + \\\n",
    "            list(nascent_all_genes) + \\\n",
    "            list(nascent_48h_vs_0h_sig_up) + \\\n",
    "            list(nascent_48h_vs_0h_sig_dn)\n",
    "labels_list = labels_list + \\\n",
    "            [\"nascent_all\" for x in nascent_all_genes] + \\\n",
    "            [\"nascent_48h_up\" for x in nascent_48h_vs_0h_sig_up] + \\\n",
    "            [\"nascent_48h_dn\" for x in nascent_48h_vs_0h_sig_dn]\n",
    "\n",
    "print(len(nascent_all_genes), len(nascent_48h_vs_0h_sig_up), len(nascent_48h_vs_0h_sig_dn))"
   ]
  },
  {
   "cell_type": "code",
   "execution_count": 4,
   "metadata": {},
   "outputs": [
    {
     "name": "stdout",
     "output_type": "stream",
     "text": [
      "1862 1827\n"
     ]
    }
   ],
   "source": [
    "###----- Nascent RNAseq - Il2 dependent\n",
    "de_file = '/media/pipkin/ROCKET-PRO/CD8_DEV_SC/2_IL2RAKO_Nascent/2_DE/0_original_GN/nondupr_WT_48h_vs_KO_48h_addGN.csv'\n",
    "de_df = pd.read_csv(de_file)\n",
    "de_sig_df = de_df[de_df['pvalue'] < 0.05]\n",
    "de_sig_df_up = de_sig_df[de_sig_df['log2FoldChange'] > 0]\n",
    "de_sig_df_dn = de_sig_df[de_sig_df['log2FoldChange'] < 0]\n",
    "\n",
    "il2_promoted = set(x for x in de_sig_df_up['gene_name'] if str(x) != 'nan')\n",
    "il2_repressed = set(x for x in de_sig_df_dn['gene_name'] if str(x) != 'nan')\n",
    "\n",
    "genes_list = genes_list + \\\n",
    "            list(il2_promoted) + \\\n",
    "            list(il2_repressed)\n",
    "labels_list = labels_list + \\\n",
    "            [\"nascent_Il2_promoted\" for x in il2_promoted] + \\\n",
    "            [\"nascent_Il2_repressed\" for x in il2_repressed]\n",
    "\n",
    "print(len(il2_promoted), len(il2_repressed))"
   ]
  },
  {
   "cell_type": "code",
   "execution_count": 5,
   "metadata": {},
   "outputs": [
    {
     "name": "stdout",
     "output_type": "stream",
     "text": [
      "14513 1949 1927\n"
     ]
    }
   ],
   "source": [
    "###----- Day5 Arm v.s. Cl13\n",
    "de_file = '/media/pipkin/ROCKET-PRO/CD8_DEV_SC/0_Acute-Chronic/1_Scanpy/0_Scanpy_out_resampled/2_DE/perTimepoint_Arm_vs_Cl13/D5/A/A_vs_C_differential.csv'\n",
    "de_df = pd.read_csv(de_file)\n",
    "de_sig_df = de_df[de_df['t-test_padj'] < 0.05]\n",
    "de_sig_df_up = de_sig_df[de_sig_df['t-test_logfc'] > 0]\n",
    "de_sig_df_dn = de_sig_df[de_sig_df['t-test_logfc'] < 0]\n",
    "\n",
    "sc_d5_all_genes = set(x for x in de_df['gene_names'] if str(x) != 'nan')\n",
    "sc_d5_arm_up = set(x for x in de_sig_df_up['gene_names'] if str(x) != 'nan')\n",
    "sc_d5_cl13_up = set(x for x in de_sig_df_dn['gene_names'] if str(x) != 'nan')\n",
    "\n",
    "genes_list = genes_list + \\\n",
    "            list(sc_d5_all_genes) + \\\n",
    "            list(sc_d5_arm_up) +\\\n",
    "            list(sc_d5_cl13_up)\n",
    "labels_list = labels_list + \\\n",
    "            [\"sc_all\" for x in sc_d5_all_genes] + \\\n",
    "            [\"sc_d5_arm_up\" for x in sc_d5_arm_up] + \\\n",
    "            [\"sc_d5_cl13_up\" for x in sc_d5_cl13_up]\n",
    "\n",
    "print(len(sc_d5_all_genes), len(sc_d5_arm_up), len(sc_d5_cl13_up))"
   ]
  },
  {
   "cell_type": "code",
   "execution_count": 6,
   "metadata": {},
   "outputs": [
    {
     "name": "stdout",
     "output_type": "stream",
     "text": [
      "14513 1479 6006\n"
     ]
    }
   ],
   "source": [
    "###----- Day8 Arm v.s. Cl13\n",
    "de_file = '/media/pipkin/ROCKET-PRO/CD8_DEV_SC/0_Acute-Chronic/1_Scanpy/0_Scanpy_out_resampled/2_DE/perTimepoint_Arm_vs_Cl13/D8/A/A_vs_C_differential.csv'\n",
    "de_df = pd.read_csv(de_file)\n",
    "de_sig_df = de_df[de_df['t-test_overestim_var_padj'] < 0.05]\n",
    "de_sig_df_up = de_sig_df[de_sig_df['t-test_overestim_var_logfc'] > 0]\n",
    "de_sig_df_dn = de_sig_df[de_sig_df['t-test_overestim_var_logfc'] < 0]\n",
    "\n",
    "sc_d8_all_genes = set(x for x in de_df['gene_names'] if str(x) != 'nan')\n",
    "sc_d8_arm_up = set(x for x in de_sig_df_up['gene_names'] if str(x) != 'nan')\n",
    "sc_d8_cl13_up = set(x for x in de_sig_df_dn['gene_names'] if str(x) != 'nan')\n",
    "\n",
    "genes_list = genes_list + \\\n",
    "            list(sc_d8_all_genes) + \\\n",
    "            list(sc_d8_arm_up) +\\\n",
    "            list(sc_d8_cl13_up)\n",
    "labels_list = labels_list + \\\n",
    "            [\"sc_all\" for x in sc_d8_all_genes] + \\\n",
    "            [\"sc_d8_arm_up\" for x in sc_d8_arm_up] + \\\n",
    "            [\"sc_d8_cl13_up\" for x in sc_d8_cl13_up]\n",
    "\n",
    "print(len(sc_d8_all_genes), len(sc_d8_arm_up), len(sc_d8_cl13_up))"
   ]
  },
  {
   "cell_type": "code",
   "execution_count": 7,
   "metadata": {},
   "outputs": [
    {
     "name": "stdout",
     "output_type": "stream",
     "text": [
      "P3 Arm up: 575 Cl13 up: 733\n",
      "P9 Arm up: 1282 Cl13 up: 101\n",
      "P5 Arm up: 341 Cl13 up: 322\n",
      "P6 Arm up: 501 Cl13 up: 334\n",
      "P2 Arm up: 246 Cl13 up: 59\n",
      "P7 Arm up: 46 Cl13 up: 189\n",
      "P4 Arm up: 148 Cl13 up: 158\n"
     ]
    }
   ],
   "source": [
    "###----- Arm v.s. Cl13 in each cluster in single cell\n",
    "order_file = '/media/pipkin/ROCKET-PRO/CD8_DEV_SC/0_Acute-Chronic/2_scVelo/0_scVelo_out_resampledNoDyn/pt_ordered_cluster_avg.csv'\n",
    "order_df = pd.read_csv(order_file)\n",
    "louvain_new_ordered = order_df['louvain_new_label'].tolist()\n",
    "louvain_old_ordered = order_df['louvain'].tolist()\n",
    "\n",
    "de_dir = '/media/pipkin/ROCKET-PRO/CD8_DEV_SC/0_Acute-Chronic/1_Scanpy/0_Scanpy_out_resampled/2_DE/perCluster_Arm_vs_Cl13'\n",
    "de_files = glob.glob(\"%s/*/A/A_vs_C_differential.csv\"%de_dir)\n",
    "for de_file in de_files:\n",
    "    louvain_old = de_file.split(\"/\")[-3]\n",
    "    louvain_new = louvain_new_ordered[louvain_old_ordered.index(int(louvain_old))]\n",
    "    de_df = pd.read_csv(de_file)\n",
    "    de_sig_df = de_df[de_df['t-test_padj'] < 0.05]\n",
    "    de_sig_df_up = de_sig_df[de_sig_df['t-test_logfc'] > 0]\n",
    "    de_sig_df_dn = de_sig_df[de_sig_df['t-test_logfc'] < 0]\n",
    "    \n",
    "    arm_up = set(x for x in de_sig_df_up['gene_names'] if str(x) != 'nan')\n",
    "    cl13_up = set(x for x in de_sig_df_dn['gene_names'] if str(x) != 'nan')\n",
    "    \n",
    "    print(louvain_new, \"Arm up:\", len(arm_up), \"Cl13 up:\", len(cl13_up))\n",
    "    \n",
    "    genes_list = genes_list + list(arm_up) + list(cl13_up)\n",
    "    labels_list = labels_list + [\"sc_%s_arm_up\"%louvain_new for x in arm_up] + [\"sc_%s_cl13_up\"%louvain_new for x in cl13_up]"
   ]
  },
  {
   "cell_type": "code",
   "execution_count": 8,
   "metadata": {},
   "outputs": [
    {
     "name": "stdout",
     "output_type": "stream",
     "text": [
      "37411 1135 1132\n"
     ]
    }
   ],
   "source": [
    "###----- Runx3 promoted v.s. repressed\n",
    "de_file = '/media/pipkin/ROCKET-PRO/CD8_DEV_SC/2_IL2RAKO_Nascent/Runx3KO_RNA/DEseq2/WangDapeng_D5EEC---Runx3KO_vs_WT_gn.csv'\n",
    "de_df = pd.read_csv(de_file)\n",
    "de_sig_df = de_df[de_df['pvalue'] < 0.05]\n",
    "de_sig_df_up = de_sig_df[de_sig_df['log2FoldChange'] > 0]\n",
    "de_sig_df_dn = de_sig_df[de_sig_df['log2FoldChange'] < 0]\n",
    "\n",
    "d5EEC_genes = set(de_df['gene_name'])\n",
    "d5EEC_Runx3_repressed = set(x for x in de_sig_df_up['gene_name'] if str(x) != 'nan')\n",
    "d5EEC_Runx3_promoted = set(x for x in de_sig_df_dn['gene_name'] if str(x) != 'nan')\n",
    "\n",
    "genes_list = genes_list + \\\n",
    "            list(d5EEC_genes) + \\\n",
    "            list(d5EEC_Runx3_repressed) + \\\n",
    "            list(d5EEC_Runx3_promoted)\n",
    "labels_list = labels_list + \\\n",
    "            [\"d5_KLRG1lo_all\" for x in d5EEC_genes] + \\\n",
    "            [\"d5_KLRG1lo_Runx3_repressed\" for x in d5EEC_Runx3_repressed] + \\\n",
    "            [\"d5_KLRG1lo_Runx3_promoted\" for x in d5EEC_Runx3_promoted]\n",
    "\n",
    "print(len(d5EEC_genes), len(d5EEC_Runx3_repressed), len(d5EEC_Runx3_promoted))"
   ]
  },
  {
   "cell_type": "code",
   "execution_count": 9,
   "metadata": {},
   "outputs": [
    {
     "name": "stdout",
     "output_type": "stream",
     "text": [
      "37411 1945 2097\n"
     ]
    }
   ],
   "source": [
    "###----- Runx3 promoted v.s. repressed\n",
    "de_file = '/media/pipkin/ROCKET-PRO/CD8_DEV_SC/2_IL2RAKO_Nascent/Runx3KO_RNA/DEseq2/WangDapeng_D5SLEC---Runx3KO_vs_WT_gn.csv'\n",
    "de_df = pd.read_csv(de_file)\n",
    "de_sig_df = de_df[de_df['pvalue'] < 0.05]\n",
    "de_sig_df_up = de_sig_df[de_sig_df['log2FoldChange'] > 0]\n",
    "de_sig_df_dn = de_sig_df[de_sig_df['log2FoldChange'] < 0]\n",
    "\n",
    "d5SLEC_genes = set(de_df['gene_name'])\n",
    "d5SLEC_Runx3_repressed = set(x for x in de_sig_df_up['gene_name'] if str(x) != 'nan')\n",
    "d5SLEC_Runx3_promoted = set(x for x in de_sig_df_dn['gene_name'] if str(x) != 'nan')\n",
    "\n",
    "genes_list = genes_list + \\\n",
    "            list(d5SLEC_genes) + \\\n",
    "            list(d5SLEC_Runx3_repressed) + \\\n",
    "            list(d5SLEC_Runx3_promoted)\n",
    "labels_list = labels_list + \\\n",
    "            [\"d5_KLRG1hi_all\" for x in d5SLEC_genes] + \\\n",
    "            [\"d5_KLRG1hi_Runx3_repressed\" for x in d5SLEC_Runx3_repressed] + \\\n",
    "            [\"d5_KLRG1hi_Runx3_promoted\" for x in d5SLEC_Runx3_promoted]\n",
    "\n",
    "print(len(d5SLEC_genes), len(d5SLEC_Runx3_repressed), len(d5SLEC_Runx3_promoted))"
   ]
  },
  {
   "cell_type": "code",
   "execution_count": 10,
   "metadata": {},
   "outputs": [],
   "source": [
    "genes_list = [x.replace(\"\\t\", \"\") for x in genes_list]\n",
    "genes_df = pd.DataFrame({\"gene_names\":genes_list, \"labels\":labels_list})\n",
    "genes_df.to_csv(\"%s/gene_list.csv\"%source_dir, index=False)"
   ]
  },
  {
   "cell_type": "code",
   "execution_count": null,
   "metadata": {},
   "outputs": [],
   "source": []
  }
 ],
 "metadata": {
  "kernelspec": {
   "display_name": "Python 3",
   "language": "python",
   "name": "python3"
  },
  "language_info": {
   "codemirror_mode": {
    "name": "ipython",
    "version": 3
   },
   "file_extension": ".py",
   "mimetype": "text/x-python",
   "name": "python",
   "nbconvert_exporter": "python",
   "pygments_lexer": "ipython3",
   "version": "3.7.6"
  }
 },
 "nbformat": 4,
 "nbformat_minor": 4
}
