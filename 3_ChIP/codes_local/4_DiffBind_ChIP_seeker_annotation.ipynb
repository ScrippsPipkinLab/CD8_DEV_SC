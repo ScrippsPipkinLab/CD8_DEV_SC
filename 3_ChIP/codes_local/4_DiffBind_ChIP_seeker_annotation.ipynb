{
 "cells": [
  {
   "cell_type": "code",
   "execution_count": 2,
   "metadata": {},
   "outputs": [],
   "source": [
    "library(ChIPseeker)\n",
    "library(clusterProfiler)\n",
    "library(GenomicFeatures)\n",
    "library(AnnotationDbi)\n",
    "library(TxDb.Mmusculus.UCSC.mm10.knownGene)\n",
    "library(ReactomePA)\n",
    "library(tidyverse)\n",
    "\n",
    "txdb <- TxDb.Mmusculus.UCSC.mm10.knownGene\n",
    "promoter <- getPromoters(TxDb=txdb, upstream=5000, downstream=5000)\n",
    "\n",
    "if (! exists(\"code.dir\")) {\n",
    "    code.dir <- getwd()\n",
    "    out.dir <- gsub(\"codes_local\", \"4_DiffBind\", code.dir)\n",
    "}"
   ]
  },
  {
   "cell_type": "code",
   "execution_count": 3,
   "metadata": {},
   "outputs": [
    {
     "data": {
      "text/html": [
       "'/media/pipkin/ROCKET-PRO/CD8_DEV_SC/3_ChIP/4_DiffBind/2017_PNAS_Li_CD8-IL2_vs_CD8-noIL2_rpkmFoldChange_IL2promoted.bed'"
      ],
      "text/latex": [
       "'/media/pipkin/ROCKET-PRO/CD8\\_DEV\\_SC/3\\_ChIP/4\\_DiffBind/2017\\_PNAS\\_Li\\_CD8-IL2\\_vs\\_CD8-noIL2\\_rpkmFoldChange\\_IL2promoted.bed'"
      ],
      "text/markdown": [
       "'/media/pipkin/ROCKET-PRO/CD8_DEV_SC/3_ChIP/4_DiffBind/2017_PNAS_Li_CD8-IL2_vs_CD8-noIL2_rpkmFoldChange_IL2promoted.bed'"
      ],
      "text/plain": [
       "[1] \"/media/pipkin/ROCKET-PRO/CD8_DEV_SC/3_ChIP/4_DiffBind/2017_PNAS_Li_CD8-IL2_vs_CD8-noIL2_rpkmFoldChange_IL2promoted.bed\""
      ]
     },
     "metadata": {},
     "output_type": "display_data"
    }
   ],
   "source": [
    "input.dir <- '/media/pipkin/ROCKET-PRO/CD8_DEV_SC/3_ChIP/4_DiffBind'\n",
    "input.peak.files <- list.files(path=input.dir, patter='.bed',full.name=TRUE)\n",
    "\n",
    "bp.range <- c(-10000, 10000)\n",
    "attempted <- c()"
   ]
  },
  {
   "cell_type": "code",
   "execution_count": 4,
   "metadata": {
    "scrolled": true
   },
   "outputs": [
    {
     "name": "stdout",
     "output_type": "stream",
     "text": [
      "[1] \"-----------\"\n",
      "[1] \"2017_PNAS_Li_CD8-IL2_vs_CD8-noIL2_rpkmFoldChange_IL2promoted\"\n",
      "[1] \"Peak Annotation\"\n",
      ">> loading peak file...\t\t\t\t 2021-02-12 11:19:58 AM \n",
      ">> preparing features information...\t\t 2021-02-12 11:19:58 AM \n",
      ">> identifying nearest features...\t\t 2021-02-12 11:19:59 AM \n"
     ]
    },
    {
     "name": "stderr",
     "output_type": "stream",
     "text": [
      "Warning message in .Seqinfo.mergexy(x, y):\n",
      "“Each of the 2 combined objects has sequence levels not in the other:\n",
      "  - in 'x': chrCHR_CAST_EI_MMCHR11_CTG5, chrCHR_MG184_PATCH, chrCHR_MG190_MG3751_PATCH, chrCHR_MG3530_PATCH, chrCHR_MG3618_PATCH, chrCHR_MG3829_PATCH, chrCHR_MG3836_PATCH, chrCHR_MG4138_PATCH, chrCHR_MG4151_PATCH, chrCHR_MG4200_PATCH, chrCHR_MG4310_MG4311_PATCH, chrCHR_MMCHR1_CHORI29_IDD5_1, chrCHR_WSB_EIJ_MMCHR11_CTG1, chrCHR_WSB_EIJ_MMCHR11_CTG3\n",
      "  - in 'y': chrY, chrM, chr1_GL456210_random, chr1_GL456211_random, chr1_GL456212_random, chr1_GL456213_random, chr1_GL456221_random, chr4_GL456216_random, chr4_GL456350_random, chr4_JH584292_random, chr4_JH584293_random, chr4_JH584294_random, chr4_JH584295_random, chr5_GL456354_random, chr5_JH584296_random, chr5_JH584297_random, chr5_JH584298_random, chr5_JH584299_random, chr7_GL456219_random, chrX_GL456233_random, chrY_JH584300_random, chrY_JH584301_random, chrY_JH584302_random, chrY_JH584303_random, chrUn_GL456239, chrUn_GL456359, chrUn_GL456360, chrUn_GL456366, chrUn_GL456367, chrUn_GL456368, chrUn_GL456370, chrUn_GL456372, chrUn_GL456378, chrUn_GL456379, chrUn_GL456381, chrUn_GL456382, chrUn_GL456383, chrUn_GL456385, chrUn_GL456387, chrUn_GL456389, chrUn_GL456390, chrUn_GL456392, chrUn_GL456393, chrUn_GL456394, chrUn_GL456396, chrUn_JH584304\n",
      "  Make sure to always combine/compare objects based on the same reference\n",
      "  genome (use suppressWarnings() to suppress this warning).”\n"
     ]
    },
    {
     "name": "stdout",
     "output_type": "stream",
     "text": [
      ">> calculating distance from peak to TSS...\t 2021-02-12 11:19:59 AM \n",
      ">> assigning genomic annotation...\t\t 2021-02-12 11:19:59 AM \n"
     ]
    },
    {
     "name": "stderr",
     "output_type": "stream",
     "text": [
      "Warning message in .Seqinfo.mergexy(x, y):\n",
      "“Each of the 2 combined objects has sequence levels not in the other:\n",
      "  - in 'x': chrCHR_CAST_EI_MMCHR11_CTG5, chrCHR_MG184_PATCH, chrCHR_MG190_MG3751_PATCH, chrCHR_MG3530_PATCH, chrCHR_MG3618_PATCH, chrCHR_MG3829_PATCH, chrCHR_MG3836_PATCH, chrCHR_MG4138_PATCH, chrCHR_MG4151_PATCH, chrCHR_MG4200_PATCH, chrCHR_MG4310_MG4311_PATCH, chrCHR_MMCHR1_CHORI29_IDD5_1, chrCHR_WSB_EIJ_MMCHR11_CTG1, chrCHR_WSB_EIJ_MMCHR11_CTG3\n",
      "  - in 'y': chrY, chrM, chr1_GL456210_random, chr1_GL456211_random, chr1_GL456212_random, chr1_GL456213_random, chr1_GL456221_random, chr4_GL456216_random, chr4_GL456350_random, chr4_JH584292_random, chr4_JH584293_random, chr4_JH584294_random, chr4_JH584295_random, chr5_GL456354_random, chr5_JH584296_random, chr5_JH584297_random, chr5_JH584298_random, chr5_JH584299_random, chr7_GL456219_random, chrX_GL456233_random, chrY_JH584300_random, chrY_JH584301_random, chrY_JH584302_random, chrY_JH584303_random, chrUn_GL456239, chrUn_GL456359, chrUn_GL456360, chrUn_GL456366, chrUn_GL456367, chrUn_GL456368, chrUn_GL456370, chrUn_GL456372, chrUn_GL456378, chrUn_GL456379, chrUn_GL456381, chrUn_GL456382, chrUn_GL456383, chrUn_GL456385, chrUn_GL456387, chrUn_GL456389, chrUn_GL456390, chrUn_GL456392, chrUn_GL456393, chrUn_GL456394, chrUn_GL456396, chrUn_JH584304\n",
      "  Make sure to always combine/compare objects based on the same reference\n",
      "  genome (use suppressWarnings() to suppress this warning).”\n",
      "Warning message in .Seqinfo.mergexy(x, y):\n",
      "“Each of the 2 combined objects has sequence levels not in the other:\n",
      "  - in 'x': chrCHR_CAST_EI_MMCHR11_CTG5, chrCHR_MG184_PATCH, chrCHR_MG190_MG3751_PATCH, chrCHR_MG3530_PATCH, chrCHR_MG3618_PATCH, chrCHR_MG3829_PATCH, chrCHR_MG3836_PATCH, chrCHR_MG4138_PATCH, chrCHR_MG4151_PATCH, chrCHR_MG4200_PATCH, chrCHR_MG4310_MG4311_PATCH, chrCHR_MMCHR1_CHORI29_IDD5_1, chrCHR_WSB_EIJ_MMCHR11_CTG1, chrCHR_WSB_EIJ_MMCHR11_CTG3\n",
      "  - in 'y': chrY, chrM, chr1_GL456210_random, chr1_GL456211_random, chr1_GL456212_random, chr1_GL456213_random, chr1_GL456221_random, chr4_GL456216_random, chr4_GL456350_random, chr4_JH584292_random, chr4_JH584293_random, chr4_JH584294_random, chr4_JH584295_random, chr5_GL456354_random, chr5_JH584296_random, chr5_JH584297_random, chr5_JH584298_random, chr5_JH584299_random, chr7_GL456219_random, chrX_GL456233_random, chrY_JH584300_random, chrY_JH584301_random, chrY_JH584302_random, chrY_JH584303_random, chrUn_GL456239, chrUn_GL456359, chrUn_GL456360, chrUn_GL456366, chrUn_GL456367, chrUn_GL456368, chrUn_GL456370, chrUn_GL456372, chrUn_GL456378, chrUn_GL456379, chrUn_GL456381, chrUn_GL456382, chrUn_GL456383, chrUn_GL456385, chrUn_GL456387, chrUn_GL456389, chrUn_GL456390, chrUn_GL456392, chrUn_GL456393, chrUn_GL456394, chrUn_GL456396, chrUn_JH584304\n",
      "  Make sure to always combine/compare objects based on the same reference\n",
      "  genome (use suppressWarnings() to suppress this warning).”\n",
      "Warning message in .Seqinfo.mergexy(x, y):\n",
      "“Each of the 2 combined objects has sequence levels not in the other:\n",
      "  - in 'x': chrCHR_CAST_EI_MMCHR11_CTG5, chrCHR_MG184_PATCH, chrCHR_MG190_MG3751_PATCH, chrCHR_MG3530_PATCH, chrCHR_MG3618_PATCH, chrCHR_MG3829_PATCH, chrCHR_MG3836_PATCH, chrCHR_MG4138_PATCH, chrCHR_MG4151_PATCH, chrCHR_MG4200_PATCH, chrCHR_MG4310_MG4311_PATCH, chrCHR_MMCHR1_CHORI29_IDD5_1, chrCHR_WSB_EIJ_MMCHR11_CTG1, chrCHR_WSB_EIJ_MMCHR11_CTG3\n",
      "  - in 'y': chrY, chrM, chr1_GL456210_random, chr1_GL456211_random, chr1_GL456212_random, chr1_GL456213_random, chr1_GL456221_random, chr4_GL456216_random, chr4_GL456350_random, chr4_JH584292_random, chr4_JH584293_random, chr4_JH584294_random, chr4_JH584295_random, chr5_GL456354_random, chr5_JH584296_random, chr5_JH584297_random, chr5_JH584298_random, chr5_JH584299_random, chr7_GL456219_random, chrX_GL456233_random, chrY_JH584300_random, chrY_JH584301_random, chrY_JH584302_random, chrY_JH584303_random, chrUn_GL456239, chrUn_GL456359, chrUn_GL456360, chrUn_GL456366, chrUn_GL456367, chrUn_GL456368, chrUn_GL456370, chrUn_GL456372, chrUn_GL456378, chrUn_GL456379, chrUn_GL456381, chrUn_GL456382, chrUn_GL456383, chrUn_GL456385, chrUn_GL456387, chrUn_GL456389, chrUn_GL456390, chrUn_GL456392, chrUn_GL456393, chrUn_GL456394, chrUn_GL456396, chrUn_JH584304\n",
      "  Make sure to always combine/compare objects based on the same reference\n",
      "  genome (use suppressWarnings() to suppress this warning).”\n",
      "Warning message in .Seqinfo.mergexy(x, y):\n",
      "“Each of the 2 combined objects has sequence levels not in the other:\n",
      "  - in 'x': chrCHR_CAST_EI_MMCHR11_CTG5, chrCHR_MG184_PATCH, chrCHR_MG190_MG3751_PATCH, chrCHR_MG3530_PATCH, chrCHR_MG3618_PATCH, chrCHR_MG3829_PATCH, chrCHR_MG3836_PATCH, chrCHR_MG4138_PATCH, chrCHR_MG4151_PATCH, chrCHR_MG4200_PATCH, chrCHR_MG4310_MG4311_PATCH, chrCHR_MMCHR1_CHORI29_IDD5_1, chrCHR_WSB_EIJ_MMCHR11_CTG1, chrCHR_WSB_EIJ_MMCHR11_CTG3\n",
      "  - in 'y': chrY, chrM, chr1_GL456210_random, chr1_GL456211_random, chr1_GL456212_random, chr1_GL456213_random, chr1_GL456221_random, chr4_GL456216_random, chr4_GL456350_random, chr4_JH584292_random, chr4_JH584293_random, chr4_JH584294_random, chr4_JH584295_random, chr5_GL456354_random, chr5_JH584296_random, chr5_JH584297_random, chr5_JH584298_random, chr5_JH584299_random, chr7_GL456219_random, chrX_GL456233_random, chrY_JH584300_random, chrY_JH584301_random, chrY_JH584302_random, chrY_JH584303_random, chrUn_GL456239, chrUn_GL456359, chrUn_GL456360, chrUn_GL456366, chrUn_GL456367, chrUn_GL456368, chrUn_GL456370, chrUn_GL456372, chrUn_GL456378, chrUn_GL456379, chrUn_GL456381, chrUn_GL456382, chrUn_GL456383, chrUn_GL456385, chrUn_GL456387, chrUn_GL456389, chrUn_GL456390, chrUn_GL456392, chrUn_GL456393, chrUn_GL456394, chrUn_GL456396, chrUn_JH584304\n",
      "  Make sure to always combine/compare objects based on the same reference\n",
      "  genome (use suppressWarnings() to suppress this warning).”\n"
     ]
    },
    {
     "name": "stdout",
     "output_type": "stream",
     "text": [
      ">> adding gene annotation...\t\t\t 2021-02-12 11:20:15 AM \n"
     ]
    },
    {
     "name": "stderr",
     "output_type": "stream",
     "text": [
      "Loading required package: org.Mm.eg.db\n",
      "\n",
      "\n",
      "\n",
      "'select()' returned 1:many mapping between keys and columns\n",
      "\n"
     ]
    },
    {
     "name": "stdout",
     "output_type": "stream",
     "text": [
      ">> assigning chromosome lengths\t\t\t 2021-02-12 11:20:15 AM \n",
      ">> done...\t\t\t\t\t 2021-02-12 11:20:15 AM \n",
      "[1] \"Annotation Pie Chart\"\n",
      "[1] \"Pathway analysis\"\n"
     ]
    },
    {
     "name": "stderr",
     "output_type": "stream",
     "text": [
      "Saving 13.3 x 13.3 in image\n",
      "\n"
     ]
    }
   ],
   "source": [
    "for (file.i in input.peak.files){\n",
    "    if (!(file.i %in% attempted)) {\n",
    "        attempted <- c(attempted, file.i)\n",
    "        i <- gsub(\".bed\",\"\", basename(file.i))\n",
    "        print(\"-----------\")\n",
    "        print(i)\n",
    "        peak.i <- readPeakFile(file.i)\n",
    "        \n",
    "        if (length(peak.i@ranges@start) > 200) {\n",
    "            #----- Coverage\n",
    "            #print(\"Coverage\")\n",
    "            #covplot.i <- covplot(peak.i, weightCol=\"V5\")\n",
    "            #plot.name.i <- file.path(out.dir, paste(i, \"covPlot.png\", sep=\"_\"))\n",
    "            #ggsave(plot.name.i, covplot.i, device='png', scale=2)\n",
    "\n",
    "            #----- TagMatrix\n",
    "            #print(\"TagMatrix\")\n",
    "            #tagMatrix.i <- getTagMatrix(peak.i, windows=promoter)\n",
    "\n",
    "            #plot.name.i <- file.path(out.dir, paste(i, \"tagMatrix.jpg\", sep=\"_\"))\n",
    "            #jpeg(filename=plot.name.i,width=400,height=600)\n",
    "            #tagHeatmap(tagMatrix.i, xlim=bp.range, color=NULL)\n",
    "            #dev.off()\n",
    "\n",
    "            #----- Average Prof\n",
    "            #avgprof.plot.i <- plotAvgProf(tagMatrix.i, xlim=bp.range, conf=0.95, resample = 1000)\n",
    "            #plot.name.i <- file.path(out.dir, paste(i, \"avgProfPlot.png\", sep=\"_\"))\n",
    "            #ggsave(plot.name.i, avgprof.plot.i, device='png', scale=1)\n",
    "\n",
    "            #----- Peak Annotation\n",
    "            print(\"Peak Annotation\")\n",
    "            peakAnno <- annotatePeak(file.i, tssRegion=bp.range, TxDb=txdb, annoDb=\"org.Mm.eg.db\")\n",
    "            peakAnno.df <- as.data.frame(peakAnno)\n",
    "            df.name.i <- file.path(out.dir, paste(i, \"annoDf.csv\", sep=\"_\"))\n",
    "            write_csv(peakAnno.df, df.name.i)\n",
    "\n",
    "            #----- Annotation Pie Chart\n",
    "            print(\"Annotation Pie Chart\")\n",
    "            plot.name.i <- file.path(out.dir, paste(i, \"annoPiePlot.jpg\", sep=\"_\"))\n",
    "            jpeg(filename=plot.name.i,width=480,height=480)\n",
    "            plotAnnoPie(peakAnno)\n",
    "            dev.off()\n",
    "\n",
    "            #----- Pathway Analysis\n",
    "            print(\"Pathway analysis\")\n",
    "            pathway.i <- enrichPathway(peakAnno.df$geneId, organism='mouse')\n",
    "            df.name.i <- file.path(out.dir, paste(i, \"pathway.csv\", sep=\"_\"))\n",
    "            write_csv(as.data.frame(pathway.i), df.name.i)\n",
    "\n",
    "            pathway.plot.i <- dotplot(pathway.i)\n",
    "            plot.name.i <- file.path(out.dir, paste(i, \"pathwayDotPlot.png\", sep=\"_\"))\n",
    "            ggsave(plot.name.i, pathway.plot.i, device='png', scale=2)\n",
    "        }    \n",
    "    }\n",
    "}"
   ]
  },
  {
   "cell_type": "code",
   "execution_count": null,
   "metadata": {},
   "outputs": [],
   "source": []
  }
 ],
 "metadata": {
  "kernelspec": {
   "display_name": "R",
   "language": "R",
   "name": "ir"
  },
  "language_info": {
   "codemirror_mode": "r",
   "file_extension": ".r",
   "mimetype": "text/x-r-source",
   "name": "R",
   "pygments_lexer": "r",
   "version": "3.6.3"
  }
 },
 "nbformat": 4,
 "nbformat_minor": 4
}
