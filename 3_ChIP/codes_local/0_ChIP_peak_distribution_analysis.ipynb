{
 "cells": [
  {
   "cell_type": "code",
   "execution_count": 33,
   "metadata": {},
   "outputs": [],
   "source": [
    "import pandas as pd\n",
    "import glob\n",
    "import os\n",
    "import csv\n",
    "import numpy as np\n",
    "from scipy.stats import chi2_contingency\n",
    "\n",
    "try:\n",
    "    code_dir\n",
    "except NameError:\n",
    "    code_dir = os.getcwd()\n",
    "    source_dir = code_dir.replace(\"codes_local\", \"0_sources\")\n",
    "    out_dir = code_dir.replace(\"codes_local\", \"1_ChIP_peak_distribution\")"
   ]
  },
  {
   "cell_type": "code",
   "execution_count": 49,
   "metadata": {},
   "outputs": [
    {
     "name": "stdout",
     "output_type": "stream",
     "text": [
      "{'sc_d8_arm_up', 'sc_d5_cl13_up', 'd5_KLRG1lo_all', 'd5_KLRG1hi_all', 'nascent_48h_up', 'nascent_all', 'd5_KLRG1hi_Runx3_promoted', 'sc_d8_cl13_up', 'd5_KLRG1lo_Runx3_repressed', 'd5_KLRG1lo_Runx3_promoted', 'd5_KLRG1hi_Runx3_repressed', 'sc_all', 'nascent_48h_dn', 'sc_d5_arm_up', 'nascent_Il2_repressed', 'nascent_Il2_promoted'}\n"
     ]
    }
   ],
   "source": [
    "gene_list_file = source_dir + \"/gene_list.csv\"\n",
    "gene_list_df = pd.read_csv(gene_list_file)\n",
    "print(set(gene_list_df['labels']))\n",
    "\n",
    "chip_anno_dir = '/media/pipkin/Rocket2/T_Cell_ChIP/202012_ChIP/3_peak_annotations'\n",
    "chip_anno_files = glob.glob(\"%s/*annoDf.csv\"%chip_anno_dir)\n",
    "\n",
    "out_file = out_dir + \"/ChIP_peak_chisq.csv\"\n",
    "out_sum_pval_file = out_dir + \"/ChIP_peak_chisq_pval.csv\""
   ]
  },
  {
   "cell_type": "code",
   "execution_count": 50,
   "metadata": {},
   "outputs": [],
   "source": [
    "label_combinations = [[\"nascent_48h_up\", \"nascent_all\"], [\"nascent_48h_dn\", \"nascent_all\"],\n",
    "                      ['nascent_Il2_promoted', \"nascent_48h_up\"], ['nascent_Il2_repressed', \"nascent_48h_dn\"],\n",
    "                      ['sc_d5_arm_up', 'sc_all'], ['sc_d5_cl13_up', 'sc_all'], \n",
    "                      ['sc_d8_arm_up', 'sc_all'], ['sc_d8_cl13_up', 'sc_all'], \n",
    "                      ['d5_KLRG1hi_Runx3_promoted', 'd5_KLRG1hi_all'], \n",
    "                      ['d5_KLRG1hi_Runx3_repressed', 'd5_KLRG1hi_all'],\n",
    "                      ['d5_KLRG1lo_Runx3_promoted', 'd5_KLRG1lo_all'], \n",
    "                      ['d5_KLRG1lo_Runx3_repressed', 'd5_KLRG1lo_all']]\n",
    "\n",
    "\n",
    "out_sum_pval_file_df = pd.DataFrame({\"ChIP\": [x.split(\"/\")[-1].replace(\"_annoDf.csv\", \"\") \n",
    "                                              for x in chip_anno_files]})\n",
    "chip_genes_n = []\n",
    "for chip_i_file in chip_anno_files:\n",
    "    chip_i_df = pd.read_csv(chip_i_file)\n",
    "    chip_i_genes = set(x for x in chip_i_df['SYMBOL'] if str(x) != 'nan')\n",
    "    chip_genes_n.append(len(chip_i_genes))\n",
    "out_sum_pval_file_df[\"ChIP gene #\"] = chip_genes_n\n",
    "    \n",
    "\n",
    "with open(out_file, \"w\") as fout:\n",
    "    for label_target, label_source in label_combinations:\n",
    "        cp_name = \"%s__in__%s\"%(label_target, label_source)\n",
    "        cp_p_list = []\n",
    "        for chip_i_file in chip_anno_files:\n",
    "            chip_i_name = chip_i_file.split(\"/\")[-1].replace(\"_annoDf.csv\", \"\")\n",
    "            chip_i_df = pd.read_csv(chip_i_file)\n",
    "            chip_i_genes = set(x for x in chip_i_df['SYMBOL'] if str(x) != 'nan')\n",
    "\n",
    "            # Calculate contingency table\n",
    "            target_genes = set(gene_list_df[gene_list_df['labels'] == label_target]['gene_names'].tolist())\n",
    "            source_genes = set(gene_list_df[gene_list_df['labels'] == label_source]['gene_names'].tolist())\n",
    "\n",
    "            target_chip_genes = target_genes & chip_i_genes\n",
    "            target_non_chip_genes = target_genes - target_chip_genes\n",
    "\n",
    "            non_target_genes = source_genes - target_genes\n",
    "            non_target_chip_genes = non_target_genes & chip_i_genes\n",
    "            non_target_non_chip_genes = non_target_genes - non_target_chip_genes\n",
    "\n",
    "            chisq_array = np.array([[len(target_chip_genes), len(target_non_chip_genes)], \n",
    "                                    [len(non_target_chip_genes), len(non_target_non_chip_genes)]])\n",
    "\n",
    "            # Perform chisq test\n",
    "            chi2, p, dof, expected = chi2_contingency(chisq_array, correction=True)\n",
    "\n",
    "            # Append pval\n",
    "            cp_p_list.append(p)\n",
    "\n",
    "            # Write test result\n",
    "            wfout = csv.writer(fout, delimiter = \",\")\n",
    "            wfout.writerow([\"ChIP\", chip_i_name])\n",
    "            wfout.writerow([\"Target genes\", label_target])\n",
    "            wfout.writerow([\"Source genes\", label_source])\n",
    "            wfout.writerow([])\n",
    "            wfout.writerow([\"\", \"ChIP\", \"None ChIP\"])\n",
    "            wfout.writerow([\"Target\", len(target_chip_genes), len(target_non_chip_genes)])\n",
    "            wfout.writerow([\"Other\", len(non_target_chip_genes), len(non_target_non_chip_genes)])\n",
    "            wfout.writerow([\"chisq\", chi2])\n",
    "            wfout.writerow([\"p-value\", p])\n",
    "            wfout.writerow([])\n",
    "            wfout.writerow([])\n",
    "        out_sum_pval_file_df[cp_name] = [\"{:.4f}\".format(x) for x in cp_p_list]\n",
    "    out_sum_pval_file_df.to_csv(out_sum_pval_file, index=False)"
   ]
  },
  {
   "cell_type": "code",
   "execution_count": 47,
   "metadata": {},
   "outputs": [],
   "source": []
  },
  {
   "cell_type": "code",
   "execution_count": null,
   "metadata": {},
   "outputs": [],
   "source": []
  },
  {
   "cell_type": "code",
   "execution_count": 25,
   "metadata": {},
   "outputs": [],
   "source": []
  },
  {
   "cell_type": "code",
   "execution_count": 26,
   "metadata": {},
   "outputs": [],
   "source": []
  },
  {
   "cell_type": "code",
   "execution_count": 31,
   "metadata": {},
   "outputs": [],
   "source": []
  },
  {
   "cell_type": "code",
   "execution_count": 36,
   "metadata": {},
   "outputs": [],
   "source": [
    "\n"
   ]
  },
  {
   "cell_type": "code",
   "execution_count": null,
   "metadata": {},
   "outputs": [],
   "source": []
  }
 ],
 "metadata": {
  "kernelspec": {
   "display_name": "Python 3",
   "language": "python",
   "name": "python3"
  },
  "language_info": {
   "codemirror_mode": {
    "name": "ipython",
    "version": 3
   },
   "file_extension": ".py",
   "mimetype": "text/x-python",
   "name": "python",
   "nbconvert_exporter": "python",
   "pygments_lexer": "ipython3",
   "version": "3.7.6"
  }
 },
 "nbformat": 4,
 "nbformat_minor": 4
}
