{
 "cells": [
  {
   "cell_type": "code",
   "execution_count": 2,
   "metadata": {},
   "outputs": [],
   "source": [
    "library(DiffBind)\n",
    "library(tidyverse)"
   ]
  },
  {
   "cell_type": "code",
   "execution_count": 31,
   "metadata": {},
   "outputs": [],
   "source": [
    "wkdir <- '/media/pipkin/ROCKET-PRO/CD8_DEV_SC/3_ChIP/4_DiffBind'\n",
    "setwd(wkdir)"
   ]
  },
  {
   "cell_type": "code",
   "execution_count": 32,
   "metadata": {},
   "outputs": [],
   "source": [
    "samples.sheet <- '2017_PNAS_Li_simplified.csv'\n",
    "\n",
    "dbObj <- dba(sampleSheet=samples.sheet)\n",
    "dbObj <- dba.count(dbObj, bUseSummarizeOverlaps=TRUE)\n",
    "dbObj <- dba.contrast(dbObj, categories=DBA_FACTOR, minMembers=2)\n",
    "dbObj <- dba.analyze(dbObj, method=DBA_EDGER)\n",
    "dba.show(dbObj, bContrasts=T)\n",
    "\n",
    "# Write normalized rpkm dfs\n",
    "for (i in c(1:4)) {\n",
    "    i_name <- colnames(dbObj$class)[i]\n",
    "    i_df <- dbObj$peaks[[i]]\n",
    "    write_csv(i_df, paste(i_name, \"norm.csv\", sep=\"_\"))\n",
    "}\n",
    "\n",
    "# Write differential outputs\n",
    "res_edger <- dba.report(dbObj, method=DBA_EDGER, contrast = 1, th=1)\n",
    "res_edger <- as.data.frame(res_edger)\n",
    "res_edger$`p.value` <- NULL\n",
    "res_edger$FDR <- NULL\n",
    "write_csv(res_edger, \"2017_PNAS_Li_CD8-IL2_DE.csv\")"
   ]
  },
  {
   "cell_type": "code",
   "execution_count": 100,
   "metadata": {},
   "outputs": [
    {
     "name": "stderr",
     "output_type": "stream",
     "text": [
      "\n",
      "\u001b[36m──\u001b[39m \u001b[1m\u001b[1mColumn specification\u001b[1m\u001b[22m \u001b[36m────────────────────────────────────────────────────────────────────────────────────────────────────────────────────\u001b[39m\n",
      "cols(\n",
      "  Chr = \u001b[32mcol_double()\u001b[39m,\n",
      "  Start = \u001b[32mcol_double()\u001b[39m,\n",
      "  End = \u001b[32mcol_double()\u001b[39m,\n",
      "  Score = \u001b[32mcol_double()\u001b[39m,\n",
      "  RPKM = \u001b[32mcol_double()\u001b[39m,\n",
      "  Reads = \u001b[32mcol_double()\u001b[39m,\n",
      "  cRPKM = \u001b[32mcol_double()\u001b[39m,\n",
      "  cReads = \u001b[32mcol_double()\u001b[39m\n",
      ")\n",
      "\n",
      "\n",
      "Warning message:\n",
      "“179 parsing failures.\n",
      " row col expected                   actual                        file\n",
      "3565 Chr a double CHR_CAST_EI_MMCHR11_CTG5 'STAT5B-IL2-CD8_1_norm.csv'\n",
      "3566 Chr a double CHR_CAST_EI_MMCHR11_CTG5 'STAT5B-IL2-CD8_1_norm.csv'\n",
      "3567 Chr a double CHR_CAST_EI_MMCHR11_CTG5 'STAT5B-IL2-CD8_1_norm.csv'\n",
      "3568 Chr a double CHR_MG171_PATCH          'STAT5B-IL2-CD8_1_norm.csv'\n",
      "3569 Chr a double CHR_MG184_PATCH          'STAT5B-IL2-CD8_1_norm.csv'\n",
      ".... ... ........ ........................ ...........................\n",
      "See problems(...) for more details.\n",
      "”\n",
      "\n",
      "\u001b[36m──\u001b[39m \u001b[1m\u001b[1mColumn specification\u001b[1m\u001b[22m \u001b[36m────────────────────────────────────────────────────────────────────────────────────────────────────────────────────\u001b[39m\n",
      "cols(\n",
      "  Chr = \u001b[32mcol_double()\u001b[39m,\n",
      "  Start = \u001b[32mcol_double()\u001b[39m,\n",
      "  End = \u001b[32mcol_double()\u001b[39m,\n",
      "  Score = \u001b[32mcol_double()\u001b[39m,\n",
      "  RPKM = \u001b[32mcol_double()\u001b[39m,\n",
      "  Reads = \u001b[32mcol_double()\u001b[39m,\n",
      "  cRPKM = \u001b[32mcol_double()\u001b[39m,\n",
      "  cReads = \u001b[32mcol_double()\u001b[39m\n",
      ")\n",
      "\n",
      "\n",
      "Warning message:\n",
      "“179 parsing failures.\n",
      " row col expected                   actual                          file\n",
      "3565 Chr a double CHR_CAST_EI_MMCHR11_CTG5 'STAT5B-noIL2-CD8_1_norm.csv'\n",
      "3566 Chr a double CHR_CAST_EI_MMCHR11_CTG5 'STAT5B-noIL2-CD8_1_norm.csv'\n",
      "3567 Chr a double CHR_CAST_EI_MMCHR11_CTG5 'STAT5B-noIL2-CD8_1_norm.csv'\n",
      "3568 Chr a double CHR_MG171_PATCH          'STAT5B-noIL2-CD8_1_norm.csv'\n",
      "3569 Chr a double CHR_MG184_PATCH          'STAT5B-noIL2-CD8_1_norm.csv'\n",
      ".... ... ........ ........................ .............................\n",
      "See problems(...) for more details.\n",
      "”\n"
     ]
    }
   ],
   "source": [
    "il2_df <- read_csv(\"STAT5B-IL2-CD8_1_norm.csv\")\n",
    "noil2_df <- read_csv(\"STAT5B-noIL2-CD8_1_norm.csv\")\n",
    "\n",
    "il2_df$noil2_RPKM <- noil2_df$RPKM\n",
    "il2_df$noil2_Reads <- noil2_df$Reads\n",
    "il2_df$log2FoldChange <- log2((il2_df$RPKM + 0.1) / (il2_df$noil2_RPKM + 0.1))\n",
    "\n",
    "il2_df$noil2_RPKM <- noil2_df$RPKM\n",
    "il2_df$noil2_Reads <- noil2_df$Reads\n",
    "il2_df$log2FoldChange <- log2((il2_df$RPKM + 0.1) / (il2_df$noil2_RPKM + 0.1))\n",
    "\n",
    "write_csv(il2_df, \"2017_PNAS_Li_CD8-IL2_vs_CD8-noIL2_rpkmFoldChange.csv\")"
   ]
  },
  {
   "cell_type": "code",
   "execution_count": null,
   "metadata": {},
   "outputs": [],
   "source": []
  },
  {
   "cell_type": "code",
   "execution_count": null,
   "metadata": {},
   "outputs": [],
   "source": []
  },
  {
   "cell_type": "code",
   "execution_count": null,
   "metadata": {},
   "outputs": [],
   "source": []
  },
  {
   "cell_type": "code",
   "execution_count": null,
   "metadata": {},
   "outputs": [],
   "source": []
  },
  {
   "cell_type": "code",
   "execution_count": null,
   "metadata": {},
   "outputs": [],
   "source": []
  },
  {
   "cell_type": "code",
   "execution_count": null,
   "metadata": {},
   "outputs": [],
   "source": []
  }
 ],
 "metadata": {
  "kernelspec": {
   "display_name": "R",
   "language": "R",
   "name": "ir"
  },
  "language_info": {
   "codemirror_mode": "r",
   "file_extension": ".r",
   "mimetype": "text/x-r-source",
   "name": "R",
   "pygments_lexer": "r",
   "version": "3.6.3"
  }
 },
 "nbformat": 4,
 "nbformat_minor": 4
}
