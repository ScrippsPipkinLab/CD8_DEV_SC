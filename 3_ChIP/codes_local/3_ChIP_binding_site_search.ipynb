{
 "cells": [
  {
   "cell_type": "code",
   "execution_count": 1,
   "metadata": {},
   "outputs": [
    {
     "name": "stdout",
     "output_type": "stream",
     "text": [
      "/Volumes/Huitian/Projects/CD8_DEV_SC/3_ChIP/codes_local\n"
     ]
    }
   ],
   "source": [
    "import csv\n",
    "import glob\n",
    "import os\n",
    "try:\n",
    "    code_dir\n",
    "except NameError:\n",
    "    code_dir = os.getcwd()\n",
    "    out_dir = code_dir.replace(\"codes_local\", \"3_ChIP_peak_search\")\n",
    "    print(code_dir)"
   ]
  },
  {
   "cell_type": "code",
   "execution_count": 2,
   "metadata": {},
   "outputs": [],
   "source": [
    "peaks_dir = \"/Volumes/Huitian/Projects/T_Cell_ChIP/202012_ChIP/2_MACS2\"\n",
    "peaks_files = glob.glob(\"%s/*peaks.xls\"%peaks_dir)"
   ]
  },
  {
   "cell_type": "code",
   "execution_count": 9,
   "metadata": {},
   "outputs": [],
   "source": [
    "search_dict = {\"chd7_region1\": [\"4\", 8868977, 8875485],\n",
    "              \"chd7_region2\": [\"4\", 8593648, 8595285],\n",
    "              \"chd7_region3\": [\"4\", 9006987, 9020087],\n",
    "               \"chd7_region4\": [\"4\", 8915702, 8918956],\n",
    "               \"irf4_region1\": [\"13\", 30765801, 30766419],\n",
    "               \"nfatc1_region1\": [\"18\", 80737497, 80793360]\n",
    "              }"
   ]
  },
  {
   "cell_type": "code",
   "execution_count": 10,
   "metadata": {},
   "outputs": [],
   "source": [
    "search_name = \"nfatc1_region1\"\n",
    "search_chr, search_s, search_e = search_dict[search_name]\n",
    "\n",
    "search_len = search_e - search_s\n",
    "search_outname = out_dir + \"/\" + search_name + \".csv\"\n",
    "\n",
    "with open(search_outname, \"w\") as fout:\n",
    "    wfout = csv.writer(fout, delimiter = \",\")\n",
    "    wfout.writerow([\"chr\", \"start\", \"end\", \"length\", \n",
    "                    \"abs_summit\", \"pileup\", \"-log10pval\",\n",
    "                    \"fold_enrichment\", \"-log10qval\", \"name\"])\n",
    "    for peaks_file in peaks_files:\n",
    "        with open(peaks_file, \"r\") as fin:\n",
    "            rfin = csv.reader(fin, delimiter = \"\\t\")\n",
    "            start_flag = False\n",
    "            for row in rfin:\n",
    "                if not start_flag:\n",
    "                    if len(row) > 1 and row[0] == \"chr\":\n",
    "                        start_flag = True\n",
    "                else:\n",
    "                    if str(row[0]) == search_chr:\n",
    "                        row_s = int(row[1])\n",
    "                        row_e = int(row[2])\n",
    "                        row_len = row_e - row_s\n",
    "                        if (search_len + row_len) > (max(row_e, search_e) - min(row_s, search_s)):\n",
    "                            wfout.writerow(row)"
   ]
  },
  {
   "cell_type": "code",
   "execution_count": null,
   "metadata": {},
   "outputs": [],
   "source": []
  }
 ],
 "metadata": {
  "kernelspec": {
   "display_name": "Python 3",
   "language": "python",
   "name": "python3"
  },
  "language_info": {
   "codemirror_mode": {
    "name": "ipython",
    "version": 3
   },
   "file_extension": ".py",
   "mimetype": "text/x-python",
   "name": "python",
   "nbconvert_exporter": "python",
   "pygments_lexer": "ipython3",
   "version": "3.8.5"
  }
 },
 "nbformat": 4,
 "nbformat_minor": 4
}
