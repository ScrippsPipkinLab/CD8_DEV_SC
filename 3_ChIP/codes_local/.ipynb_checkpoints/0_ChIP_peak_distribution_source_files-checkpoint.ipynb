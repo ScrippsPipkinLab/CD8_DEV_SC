{
 "cells": [
  {
   "cell_type": "code",
   "execution_count": 41,
   "metadata": {},
   "outputs": [],
   "source": [
    "import pandas as pd\n",
    "import glob\n",
    "import os\n",
    "\n",
    "try:\n",
    "    code_dir\n",
    "except NameError:\n",
    "    code_dir = os.getcwd()\n",
    "    source_dir = code_dir.replace(\"codes_local\", \"0_sources\")"
   ]
  },
  {
   "cell_type": "code",
   "execution_count": 26,
   "metadata": {},
   "outputs": [],
   "source": [
    "chip_anno_dir = '/media/pipkin/Rocket2/T_Cell_ChIP/202012_ChIP/3_peak_annotations'\n",
    "chip_anno_files = glob.glob(\"%s/*annoDf.csv\"%chip_anno_dir)"
   ]
  },
  {
   "cell_type": "markdown",
   "metadata": {},
   "source": [
    "### Lists of genes to be analyzed against ChIP"
   ]
  },
  {
   "cell_type": "code",
   "execution_count": 64,
   "metadata": {},
   "outputs": [],
   "source": [
    "genes_list = []\n",
    "labels_list = []"
   ]
  },
  {
   "cell_type": "code",
   "execution_count": 65,
   "metadata": {},
   "outputs": [
    {
     "name": "stdout",
     "output_type": "stream",
     "text": [
      "23423 5458 5738\n"
     ]
    }
   ],
   "source": [
    "###----- Nascent RNAseq - 48h up / dn\n",
    "de_file = '/media/pipkin/ROCKET-PRO/CD8_DEV_SC/2_IL2RAKO_Nascent/2_DE/0_original_GN/nondupr_WT_48h_vs_WT_0h_addGN.csv'\n",
    "de_df = pd.read_csv(de_file)\n",
    "de_sig_df = de_df[de_df['pvalue'] < 0.05]\n",
    "de_sig_df_up = de_sig_df[de_sig_df['log2FoldChange'] > 0]\n",
    "de_sig_df_dn = de_sig_df[de_sig_df['log2FoldChange'] < 0]\n",
    "\n",
    "nascent_all_genes = set(de_df['gene_name'])\n",
    "nascent_48h_vs_0h_sig_up = set(x for x in de_sig_df_up['gene_name'] if str(x) != 'nan')\n",
    "nascent_48h_vs_0h_sig_dn = set(x for x in de_sig_df_dn['gene_name'] if str(x) != 'nan')\n",
    "\n",
    "genes_list = genes_list + \\\n",
    "            list(nascent_all_genes) + \\\n",
    "            list(nascent_48h_vs_0h_sig_up) + \\\n",
    "            list(nascent_48h_vs_0h_sig_dn)\n",
    "labels_list = labels_list + \\\n",
    "            [\"nascent_all\" for x in nascent_all_genes] + \\\n",
    "            [\"nascent_48h_up\" for x in nascent_48h_vs_0h_sig_up] + \\\n",
    "            [\"nascent_48h_dn\" for x in nascent_48h_vs_0h_sig_dn]\n",
    "\n",
    "print(len(nascent_all_genes), len(nascent_48h_vs_0h_sig_up), len(nascent_48h_vs_0h_sig_dn))"
   ]
  },
  {
   "cell_type": "code",
   "execution_count": 66,
   "metadata": {},
   "outputs": [
    {
     "name": "stdout",
     "output_type": "stream",
     "text": [
      "1862 1827\n"
     ]
    }
   ],
   "source": [
    "###----- Nascent RNAseq - Il2 dependent\n",
    "de_file = '/media/pipkin/ROCKET-PRO/CD8_DEV_SC/2_IL2RAKO_Nascent/2_DE/0_original_GN/nondupr_WT_48h_vs_KO_48h_addGN.csv'\n",
    "de_df = pd.read_csv(de_file)\n",
    "de_sig_df = de_df[de_df['pvalue'] < 0.05]\n",
    "de_sig_df_up = de_sig_df[de_sig_df['log2FoldChange'] > 0]\n",
    "de_sig_df_dn = de_sig_df[de_sig_df['log2FoldChange'] < 0]\n",
    "\n",
    "il2_promoted = set(x for x in de_sig_df_up['gene_name'] if str(x) != 'nan')\n",
    "il2_repressed = set(x for x in de_sig_df_dn['gene_name'] if str(x) != 'nan')\n",
    "\n",
    "genes_list = genes_list + \\\n",
    "            list(il2_promoted) + \\\n",
    "            list(il2_repressed)\n",
    "labels_list = labels_list + \\\n",
    "            [\"nascent_Il2_promoted\" for x in il2_promoted] + \\\n",
    "            [\"nascent_Il2_repressed\" for x in il2_repressed]\n",
    "\n",
    "print(len(il2_promoted), len(il2_repressed))"
   ]
  },
  {
   "cell_type": "code",
   "execution_count": 57,
   "metadata": {},
   "outputs": [
    {
     "name": "stdout",
     "output_type": "stream",
     "text": [
      "14513 2497 2451\n"
     ]
    }
   ],
   "source": [
    "###----- Day5 Arm v.s. Cl13\n",
    "de_file = '/media/pipkin/ROCKET-PRO/CD8_DEV_SC/0_Acute-Chronic/1_Scanpy/0_Scanpy_out_resampled/2_DE/perTimepoint_Arm_vs_Cl13/D5/A/A_vs_C_differential.csv'\n",
    "de_df = pd.read_csv(de_file)\n",
    "de_sig_df = de_df[de_df['t-test_overestim_var_padj'] < 0.05]\n",
    "de_sig_df_up = de_sig_df[de_sig_df['t-test_overestim_var_logfc'] > 0]\n",
    "de_sig_df_dn = de_sig_df[de_sig_df['t-test_overestim_var_logfc'] < 0]\n",
    "\n",
    "sc_d5_all_genes = set(x for x in de_df['gene_names'] if str(x) != 'nan')\n",
    "sc_d5_arm_up = set(x for x in de_sig_df_up['gene_names'] if str(x) != 'nan')\n",
    "sc_d5_cl13_up = set(x for x in de_sig_df_dn['gene_names'] if str(x) != 'nan')\n",
    "\n",
    "genes_list = genes_list + \\\n",
    "            list(sc_d5_all_genes) + \\\n",
    "            list(sc_d5_arm_up) +\\\n",
    "            list(sc_d5_arm_dn)\n",
    "labels_list = labels_list + \\\n",
    "            [\"sc_all\" for x in sc_d5_all_genes] + \\\n",
    "            [\"sc_d5_arm_up\" for x in sc_d5_arm_up] + \\\n",
    "            [\"sc_d5_cl13_up\" for x in sc_d5_cl13_up]\n",
    "\n",
    "print(len(sc_d5_all_genes), len(sc_d5_arm_up), len(sc_d5_cl13_up))"
   ]
  },
  {
   "cell_type": "code",
   "execution_count": null,
   "metadata": {},
   "outputs": [],
   "source": []
  },
  {
   "cell_type": "code",
   "execution_count": 35,
   "metadata": {},
   "outputs": [],
   "source": [
    "chip_i_file = chip_anno_files[0]\n",
    "chip_i_df = pd.read_csv(chip_i_file)\n",
    "chip_i_genes = set(x for x in chip_i_df['SYMBOL'] if str(x) != 'nan')"
   ]
  },
  {
   "cell_type": "code",
   "execution_count": null,
   "metadata": {},
   "outputs": [],
   "source": []
  }
 ],
 "metadata": {
  "kernelspec": {
   "display_name": "Python 3",
   "language": "python",
   "name": "python3"
  },
  "language_info": {
   "codemirror_mode": {
    "name": "ipython",
    "version": 3
   },
   "file_extension": ".py",
   "mimetype": "text/x-python",
   "name": "python",
   "nbconvert_exporter": "python",
   "pygments_lexer": "ipython3",
   "version": "3.7.6"
  }
 },
 "nbformat": 4,
 "nbformat_minor": 4
}
