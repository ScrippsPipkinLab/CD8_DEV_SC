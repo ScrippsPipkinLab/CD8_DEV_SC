{
 "cells": [
  {
   "cell_type": "code",
   "execution_count": 1,
   "metadata": {},
   "outputs": [],
   "source": [
    "import pandas as pd\n",
    "import glob\n",
    "import os\n",
    "import csv\n",
    "import numpy as np\n",
    "from scipy.stats import chi2_contingency\n",
    "\n",
    "try:\n",
    "    code_dir\n",
    "except NameError:\n",
    "    code_dir = os.getcwd()\n",
    "    source_dir = code_dir.replace(\"codes_local\", \"0_sources\")\n",
    "    out_dir = code_dir.replace(\"codes_local\", \"2_ChIP_peak_jaccard\")"
   ]
  },
  {
   "cell_type": "code",
   "execution_count": 2,
   "metadata": {},
   "outputs": [
    {
     "name": "stdout",
     "output_type": "stream",
     "text": [
      "{'d5_KLRG1lo_all', 'nascent_all', 'sc_P6_arm_up', 'sc_d8_arm_up', 'sc_P5_arm_up', 'sc_all', 'd5_KLRG1lo_Runx3_repressed', 'sc_P9_cl13_up', 'sc_d5_cl13_up', 'sc_d5_arm_up', 'd5_KLRG1hi_all', 'd5_KLRG1hi_Runx3_repressed', 'sc_P7_arm_up', 'sc_P3_cl13_up', 'sc_P7_cl13_up', 'sc_P4_arm_up', 'nascent_Il2_repressed', 'd5_KLRG1lo_Runx3_promoted', 'sc_P2_cl13_up', 'sc_P2_arm_up', 'sc_P5_cl13_up', 'sc_P6_cl13_up', 'sc_P4_cl13_up', 'd5_KLRG1hi_Runx3_promoted', 'nascent_Il2_promoted', 'nascent_48h_dn', 'sc_P9_arm_up', 'sc_d8_cl13_up', 'sc_P3_arm_up', 'nascent_48h_up'}\n"
     ]
    }
   ],
   "source": [
    "gene_list_file = source_dir + \"/gene_list.csv\"\n",
    "gene_list_df = pd.read_csv(gene_list_file)\n",
    "gene_list_labels_uniq = set(gene_list_df['labels'])\n",
    "print(gene_list_labels_uniq)\n",
    "\n",
    "chip_anno_dir = '/media/pipkin/Rocket2/T_Cell_ChIP/202012_ChIP/3_peak_annotations'\n",
    "chip_anno_files = glob.glob(\"%s/*annoDf.csv\"%chip_anno_dir)"
   ]
  },
  {
   "cell_type": "code",
   "execution_count": 3,
   "metadata": {},
   "outputs": [
    {
     "data": {
      "text/html": [
       "<div>\n",
       "<style scoped>\n",
       "    .dataframe tbody tr th:only-of-type {\n",
       "        vertical-align: middle;\n",
       "    }\n",
       "\n",
       "    .dataframe tbody tr th {\n",
       "        vertical-align: top;\n",
       "    }\n",
       "\n",
       "    .dataframe thead th {\n",
       "        text-align: right;\n",
       "    }\n",
       "</style>\n",
       "<table border=\"1\" class=\"dataframe\">\n",
       "  <thead>\n",
       "    <tr style=\"text-align: right;\">\n",
       "      <th></th>\n",
       "      <th>ChIP</th>\n",
       "      <th>ChIP gene #</th>\n",
       "    </tr>\n",
       "  </thead>\n",
       "  <tbody>\n",
       "    <tr>\n",
       "      <th>0</th>\n",
       "      <td>2020_PNAS_KwesiMaliepaard___H3K79me2_naive-CD8</td>\n",
       "      <td>8091</td>\n",
       "    </tr>\n",
       "    <tr>\n",
       "      <th>1</th>\n",
       "      <td>2020_PNAS_KwesiMaliepaard___H3K79me2_mem-CD8</td>\n",
       "      <td>7425</td>\n",
       "    </tr>\n",
       "    <tr>\n",
       "      <th>2</th>\n",
       "      <td>2020_PNAS_KwesiMaliepaard___H3K4me3_mem-CD8</td>\n",
       "      <td>14161</td>\n",
       "    </tr>\n",
       "    <tr>\n",
       "      <th>3</th>\n",
       "      <td>2019_IMMUNITY_Veeken___Eomes_LCMV-d07-CD8</td>\n",
       "      <td>821</td>\n",
       "    </tr>\n",
       "    <tr>\n",
       "      <th>4</th>\n",
       "      <td>2018_SCIENCE_Pace_native___H3K9me3_native_invi...</td>\n",
       "      <td>214</td>\n",
       "    </tr>\n",
       "    <tr>\n",
       "      <th>...</th>\n",
       "      <td>...</td>\n",
       "      <td>...</td>\n",
       "    </tr>\n",
       "    <tr>\n",
       "      <th>77</th>\n",
       "      <td>2013_PLOS_ONE_Lotem___Runx3_invitro-Il2-CD8</td>\n",
       "      <td>2698</td>\n",
       "    </tr>\n",
       "    <tr>\n",
       "      <th>78</th>\n",
       "      <td>2013_PLOS_ONE_Lotem___H3K4me1_invitro-NAV-CD8</td>\n",
       "      <td>15785</td>\n",
       "    </tr>\n",
       "    <tr>\n",
       "      <th>79</th>\n",
       "      <td>2013_PLOS_ONE_Lotem___H3K4me1_invitro-Il2-CD8</td>\n",
       "      <td>3264</td>\n",
       "    </tr>\n",
       "    <tr>\n",
       "      <th>80</th>\n",
       "      <td>2013_IMMUNITY_KIM___Foxo1_naive-CD8-WT</td>\n",
       "      <td>2178</td>\n",
       "    </tr>\n",
       "    <tr>\n",
       "      <th>81</th>\n",
       "      <td>2013_IMMUNITY_KIM___Foxo1_Biotin_naive-CD8-WT</td>\n",
       "      <td>1271</td>\n",
       "    </tr>\n",
       "  </tbody>\n",
       "</table>\n",
       "<p>82 rows × 2 columns</p>\n",
       "</div>"
      ],
      "text/plain": [
       "                                                 ChIP  ChIP gene #\n",
       "0      2020_PNAS_KwesiMaliepaard___H3K79me2_naive-CD8         8091\n",
       "1        2020_PNAS_KwesiMaliepaard___H3K79me2_mem-CD8         7425\n",
       "2         2020_PNAS_KwesiMaliepaard___H3K4me3_mem-CD8        14161\n",
       "3           2019_IMMUNITY_Veeken___Eomes_LCMV-d07-CD8          821\n",
       "4   2018_SCIENCE_Pace_native___H3K9me3_native_invi...          214\n",
       "..                                                ...          ...\n",
       "77        2013_PLOS_ONE_Lotem___Runx3_invitro-Il2-CD8         2698\n",
       "78      2013_PLOS_ONE_Lotem___H3K4me1_invitro-NAV-CD8        15785\n",
       "79      2013_PLOS_ONE_Lotem___H3K4me1_invitro-Il2-CD8         3264\n",
       "80             2013_IMMUNITY_KIM___Foxo1_naive-CD8-WT         2178\n",
       "81      2013_IMMUNITY_KIM___Foxo1_Biotin_naive-CD8-WT         1271\n",
       "\n",
       "[82 rows x 2 columns]"
      ]
     },
     "execution_count": 3,
     "metadata": {},
     "output_type": "execute_result"
    }
   ],
   "source": [
    "jaccard_df = pd.DataFrame({\"ChIP\": [x.split(\"/\")[-1].replace(\"_annoDf.csv\", \"\") \n",
    "                                              for x in chip_anno_files]})\n",
    "chip_genes_n = []\n",
    "for chip_i_file in chip_anno_files:\n",
    "    chip_i_df = pd.read_csv(chip_i_file)\n",
    "    chip_i_genes = set(x for x in chip_i_df['SYMBOL'] if str(x) != 'nan')\n",
    "    chip_genes_n.append(len(chip_i_genes))\n",
    "jaccard_df[\"ChIP gene #\"] = chip_genes_n\n",
    "jaccard_df"
   ]
  },
  {
   "cell_type": "code",
   "execution_count": null,
   "metadata": {},
   "outputs": [
    {
     "name": "stdout",
     "output_type": "stream",
     "text": [
      "----- d5_KLRG1lo_all -----\n",
      "----- nascent_all -----\n",
      "----- sc_P6_arm_up -----\n",
      "----- sc_d8_arm_up -----\n",
      "----- sc_P5_arm_up -----\n"
     ]
    }
   ],
   "source": [
    "for gene_list_label_x in gene_list_labels_uniq:\n",
    "    print(\"-----\", gene_list_label_x, \"-----\")\n",
    "    jaccard_df_x = jaccard_df.copy()\n",
    "    gene_list = set(gene_list_df[gene_list_df['labels'] == gene_list_label_x]['gene_names'].tolist())\n",
    "    for chip_i_file in chip_anno_files:\n",
    "        chip_i_jaccard = []\n",
    "        chip_i_name = chip_i_file.split(\"/\")[-1].replace(\"_annoDf.csv\", \"\")\n",
    "        chip_i_df = pd.read_csv(chip_i_file)\n",
    "        chip_i_genes = set(x for x in chip_i_df['SYMBOL'] if str(x) != 'nan')\n",
    "        for chip_j_file in chip_anno_files:\n",
    "            chip_j_name = chip_j_file.split(\"/\")[-1].replace(\"_annoDf.csv\", \"\")\n",
    "            chip_j_df = pd.read_csv(chip_j_file)\n",
    "            chip_j_genes = set(x for x in chip_j_df['SYMBOL'] if str(x) != 'nan')\n",
    "            chip_i_overlap = gene_list & chip_i_genes\n",
    "            chip_j_overlap = gene_list & chip_j_genes\n",
    "            ij_jaccard = len(chip_i_overlap & chip_j_overlap) / len(chip_i_overlap | chip_j_overlap)\n",
    "            chip_i_jaccard.append(ij_jaccard)\n",
    "        jaccard_df_x[chip_i_name] = [\"{:.4f}\".format(x) for x in chip_i_jaccard]\n",
    "    jaccard_df_x.to_csv(\"%s/%s_jaccard.csv\"%(out_dir, gene_list_label_x))         "
   ]
  },
  {
   "cell_type": "code",
   "execution_count": null,
   "metadata": {},
   "outputs": [],
   "source": []
  }
 ],
 "metadata": {
  "kernelspec": {
   "display_name": "Python 3",
   "language": "python",
   "name": "python3"
  },
  "language_info": {
   "codemirror_mode": {
    "name": "ipython",
    "version": 3
   },
   "file_extension": ".py",
   "mimetype": "text/x-python",
   "name": "python",
   "nbconvert_exporter": "python",
   "pygments_lexer": "ipython3",
   "version": "3.8.3"
  }
 },
 "nbformat": 4,
 "nbformat_minor": 4
}
