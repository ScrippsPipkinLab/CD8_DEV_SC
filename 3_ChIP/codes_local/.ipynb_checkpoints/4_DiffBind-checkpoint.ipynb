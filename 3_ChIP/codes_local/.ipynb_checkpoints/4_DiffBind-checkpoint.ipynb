{
 "cells": [
  {
   "cell_type": "code",
   "execution_count": 2,
   "metadata": {},
   "outputs": [],
   "source": [
    "library(DiffBind)\n",
    "library(tidyverse)"
   ]
  },
  {
   "cell_type": "code",
   "execution_count": 3,
   "metadata": {},
   "outputs": [],
   "source": [
    "wkdir <- '/media/pipkin/ROCKET-PRO/CD8_DEV_SC/3_ChIP/4_DiffBind'\n",
    "setwd(wkdir)"
   ]
  },
  {
   "cell_type": "code",
   "execution_count": 4,
   "metadata": {},
   "outputs": [],
   "source": [
    "samples.sheet <- '2017_PNAS_Li_simplified.csv'"
   ]
  },
  {
   "cell_type": "code",
   "execution_count": 16,
   "metadata": {},
   "outputs": [
    {
     "name": "stderr",
     "output_type": "stream",
     "text": [
      "STAT5B-noIL2-CD8_1 Spleen STAT5B_noIL2 noIL2 invitro 1 bed\n",
      "\n",
      "STAT5B-IL2-CD8_1 Spleen STAT5B_IL2 IL2 invitro 1 bed\n",
      "\n"
     ]
    }
   ],
   "source": [
    "dbObj <- dba(sampleSheet=samples.sheet)"
   ]
  },
  {
   "cell_type": "code",
   "execution_count": 17,
   "metadata": {},
   "outputs": [
    {
     "name": "stderr",
     "output_type": "stream",
     "text": [
      "Warning message:\n",
      "“fragmentSize ignored when bUseSummarizeOverlaps is TRUE in dba.count”\n"
     ]
    }
   ],
   "source": [
    "dbObj <- dba.count(dbObj, bUseSummarizeOverlaps=TRUE)"
   ]
  },
  {
   "cell_type": "code",
   "execution_count": 18,
   "metadata": {},
   "outputs": [
    {
     "data": {
      "text/plain": [
       "2 Samples, 356 sites in matrix:\n",
       "                  ID Tissue       Factor Condition Treatment Replicate Caller\n",
       "1 STAT5B-noIL2-CD8_1 Spleen STAT5B_noIL2     noIL2   invitro         1 counts\n",
       "2   STAT5B-IL2-CD8_1 Spleen   STAT5B_IL2       IL2   invitro         1 counts\n",
       "  Intervals FRiP\n",
       "1       356 0.01\n",
       "2       356 0.01"
      ]
     },
     "metadata": {},
     "output_type": "display_data"
    }
   ],
   "source": [
    "dbObj"
   ]
  },
  {
   "cell_type": "code",
   "execution_count": 20,
   "metadata": {},
   "outputs": [
    {
     "ename": "ERROR",
     "evalue": "Error in dba.contrast(dbObj, categories = DBA_FACTOR, minMembers = 1): minMembers must be at least 2. Use of replicates strongly advised.\n",
     "output_type": "error",
     "traceback": [
      "Error in dba.contrast(dbObj, categories = DBA_FACTOR, minMembers = 1): minMembers must be at least 2. Use of replicates strongly advised.\nTraceback:\n",
      "1. dba.contrast(dbObj, categories = DBA_FACTOR, minMembers = 1)",
      "2. stop(\"minMembers must be at least 2. Use of replicates strongly advised.\")"
     ]
    }
   ],
   "source": [
    "dbObj <- dba.contrast(dbObj, categories=DBA_FACTOR, minMembers=1)"
   ]
  }
 ],
 "metadata": {
  "kernelspec": {
   "display_name": "R",
   "language": "R",
   "name": "ir"
  },
  "language_info": {
   "codemirror_mode": "r",
   "file_extension": ".r",
   "mimetype": "text/x-r-source",
   "name": "R",
   "pygments_lexer": "r",
   "version": "3.6.3"
  }
 },
 "nbformat": 4,
 "nbformat_minor": 4
}
