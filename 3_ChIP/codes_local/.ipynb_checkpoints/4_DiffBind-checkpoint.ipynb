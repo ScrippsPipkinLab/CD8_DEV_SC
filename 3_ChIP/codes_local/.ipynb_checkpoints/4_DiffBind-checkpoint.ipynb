{
 "cells": [
  {
   "cell_type": "code",
   "execution_count": 2,
   "metadata": {},
   "outputs": [],
   "source": [
    "library(DiffBind)\n",
    "library(tidyverse)\n",
    "\n",
    "if (! exists(\"code.dir\")) {\n",
    "    code.dir <- getwd()\n",
    "    out.dir <- gsub(\"codes_local\", \"4_DiffBind\", code.dir)\n",
    "    setwd(out.dir)\n",
    "}"
   ]
  },
  {
   "cell_type": "code",
   "execution_count": 118,
   "metadata": {},
   "outputs": [
    {
     "name": "stderr",
     "output_type": "stream",
     "text": [
      "STAT5B-noIL2-CD8_1 Spleen STAT5B_noIL2 noIL2 invitro 1 bed\n",
      "\n",
      "STAT5B-IL2-CD8_1 Spleen STAT5B_IL2 IL2 invitro 1 bed\n",
      "\n",
      "STAT5B-noIL2-CD8_2 Spleen STAT5B_noIL2 noIL2 invitro 2 bed\n",
      "\n",
      "STAT5B-IL2-CD8_2 Spleen STAT5B_IL2 IL2 invitro 2 bed\n",
      "\n",
      "Warning message:\n",
      "“fragmentSize ignored when bUseSummarizeOverlaps is TRUE in dba.count”\n"
     ]
    },
    {
     "data": {
      "text/html": [
       "<table class=\"dataframe\">\n",
       "<caption>A data.frame: 1 × 5</caption>\n",
       "<thead>\n",
       "\t<tr><th></th><th scope=col>Group1</th><th scope=col>Members1</th><th scope=col>Group2</th><th scope=col>Members2</th><th scope=col>DB.edgeR</th></tr>\n",
       "\t<tr><th></th><th scope=col>&lt;fct&gt;</th><th scope=col>&lt;fct&gt;</th><th scope=col>&lt;fct&gt;</th><th scope=col>&lt;fct&gt;</th><th scope=col>&lt;fct&gt;</th></tr>\n",
       "</thead>\n",
       "<tbody>\n",
       "\t<tr><th scope=row>1</th><td>STAT5B_noIL2</td><td>2</td><td>STAT5B_IL2</td><td>2</td><td>666</td></tr>\n",
       "</tbody>\n",
       "</table>\n"
      ],
      "text/latex": [
       "A data.frame: 1 × 5\n",
       "\\begin{tabular}{r|lllll}\n",
       "  & Group1 & Members1 & Group2 & Members2 & DB.edgeR\\\\\n",
       "  & <fct> & <fct> & <fct> & <fct> & <fct>\\\\\n",
       "\\hline\n",
       "\t1 & STAT5B\\_noIL2 & 2 & STAT5B\\_IL2 & 2 & 666\\\\\n",
       "\\end{tabular}\n"
      ],
      "text/markdown": [
       "\n",
       "A data.frame: 1 × 5\n",
       "\n",
       "| <!--/--> | Group1 &lt;fct&gt; | Members1 &lt;fct&gt; | Group2 &lt;fct&gt; | Members2 &lt;fct&gt; | DB.edgeR &lt;fct&gt; |\n",
       "|---|---|---|---|---|---|\n",
       "| 1 | STAT5B_noIL2 | 2 | STAT5B_IL2 | 2 | 666 |\n",
       "\n"
      ],
      "text/plain": [
       "  Group1       Members1 Group2     Members2 DB.edgeR\n",
       "1 STAT5B_noIL2 2        STAT5B_IL2 2        666     "
      ]
     },
     "metadata": {},
     "output_type": "display_data"
    }
   ],
   "source": [
    "samples.sheet <- '2017_PNAS_Li_simplified.csv'\n",
    "\n",
    "dbObj <- dba(sampleSheet=samples.sheet)\n",
    "dbObj <- dba.count(dbObj, bUseSummarizeOverlaps=TRUE)\n",
    "dbObj <- dba.contrast(dbObj, categories=DBA_FACTOR, minMembers=2)\n",
    "dbObj <- dba.analyze(dbObj, method=DBA_EDGER)\n",
    "dba.show(dbObj, bContrasts=T)\n",
    "\n",
    "# Write normalized rpkm dfs\n",
    "for (i in c(1:4)) {\n",
    "    i_name <- colnames(dbObj$class)[i]\n",
    "    i_df <- dbObj$peaks[[i]]\n",
    "    i_df$Chr <- paste(\"chr\", i_df$Chr, sep=\"\")\n",
    "    write_csv(i_df, paste(i_name, \"norm.csv\", sep=\"_\"))\n",
    "}\n",
    "\n",
    "# Write differential outputs\n",
    "res_edger <- dba.report(dbObj, method=DBA_EDGER, contrast = 1, th=1)\n",
    "res_edger <- as.data.frame(res_edger)\n",
    "res_edger$`p.value` <- NULL\n",
    "res_edger$FDR <- NULL\n",
    "write_csv(res_edger, \"2017_PNAS_Li_CD8-IL2_DE.csv\")"
   ]
  },
  {
   "cell_type": "code",
   "execution_count": 119,
   "metadata": {},
   "outputs": [
    {
     "name": "stderr",
     "output_type": "stream",
     "text": [
      "\n",
      "\u001b[36m──\u001b[39m \u001b[1m\u001b[1mColumn specification\u001b[1m\u001b[22m \u001b[36m────────────────────────────────────────────────────────────────────────────────────────────────────────────────────\u001b[39m\n",
      "cols(\n",
      "  Chr = \u001b[31mcol_character()\u001b[39m,\n",
      "  Start = \u001b[32mcol_double()\u001b[39m,\n",
      "  End = \u001b[32mcol_double()\u001b[39m,\n",
      "  Score = \u001b[32mcol_double()\u001b[39m,\n",
      "  RPKM = \u001b[32mcol_double()\u001b[39m,\n",
      "  Reads = \u001b[32mcol_double()\u001b[39m,\n",
      "  cRPKM = \u001b[32mcol_double()\u001b[39m,\n",
      "  cReads = \u001b[32mcol_double()\u001b[39m\n",
      ")\n",
      "\n",
      "\n",
      "\n",
      "\u001b[36m──\u001b[39m \u001b[1m\u001b[1mColumn specification\u001b[1m\u001b[22m \u001b[36m────────────────────────────────────────────────────────────────────────────────────────────────────────────────────\u001b[39m\n",
      "cols(\n",
      "  Chr = \u001b[31mcol_character()\u001b[39m,\n",
      "  Start = \u001b[32mcol_double()\u001b[39m,\n",
      "  End = \u001b[32mcol_double()\u001b[39m,\n",
      "  Score = \u001b[32mcol_double()\u001b[39m,\n",
      "  RPKM = \u001b[32mcol_double()\u001b[39m,\n",
      "  Reads = \u001b[32mcol_double()\u001b[39m,\n",
      "  cRPKM = \u001b[32mcol_double()\u001b[39m,\n",
      "  cReads = \u001b[32mcol_double()\u001b[39m\n",
      ")\n",
      "\n",
      "\n"
     ]
    }
   ],
   "source": [
    "il2_df <- read_csv(\"STAT5B-IL2-CD8_1_norm.csv\")\n",
    "noil2_df <- read_csv(\"STAT5B-noIL2-CD8_1_norm.csv\")\n",
    "\n",
    "il2_df$noil2_RPKM <- noil2_df$RPKM\n",
    "il2_df$noil2_Reads <- noil2_df$Reads\n",
    "il2_df$log2FoldChange <- log2((il2_df$RPKM + 0.1) / (il2_df$noil2_RPKM + 0.1))\n",
    "\n",
    "il2_df$noil2_RPKM <- noil2_df$RPKM\n",
    "il2_df$noil2_Reads <- noil2_df$Reads\n",
    "il2_df$log2FoldChange <- log2((il2_df$RPKM + 0.1) / (il2_df$noil2_RPKM + 0.1))\n",
    "\n",
    "write_csv(il2_df, \"2017_PNAS_Li_CD8-IL2_vs_CD8-noIL2_rpkmFoldChange.csv\")"
   ]
  },
  {
   "cell_type": "code",
   "execution_count": 124,
   "metadata": {},
   "outputs": [],
   "source": [
    "il2_promoted_df <- il2_df %>% filter(log2FoldChange > 2) %>%\n",
    "                   filter(RPKM > 10) %>% select(one_of(c(\"Chr\", \"Start\", \"End\")))\n",
    "write_delim(il2_promoted_df, \"2017_PNAS_Li_CD8-IL2_vs_CD8-noIL2_rpkmFoldChange_IL2promoted.bed\", \n",
    "            delim=\"\\t\", col_names=FALSE)"
   ]
  },
  {
   "cell_type": "code",
   "execution_count": null,
   "metadata": {},
   "outputs": [],
   "source": []
  },
  {
   "cell_type": "code",
   "execution_count": 111,
   "metadata": {},
   "outputs": [],
   "source": []
  },
  {
   "cell_type": "code",
   "execution_count": null,
   "metadata": {},
   "outputs": [],
   "source": []
  },
  {
   "cell_type": "code",
   "execution_count": null,
   "metadata": {},
   "outputs": [],
   "source": []
  },
  {
   "cell_type": "code",
   "execution_count": null,
   "metadata": {},
   "outputs": [],
   "source": []
  },
  {
   "cell_type": "code",
   "execution_count": null,
   "metadata": {},
   "outputs": [],
   "source": []
  }
 ],
 "metadata": {
  "kernelspec": {
   "display_name": "R",
   "language": "R",
   "name": "ir"
  },
  "language_info": {
   "codemirror_mode": "r",
   "file_extension": ".r",
   "mimetype": "text/x-r-source",
   "name": "R",
   "pygments_lexer": "r",
   "version": "3.6.3"
  }
 },
 "nbformat": 4,
 "nbformat_minor": 4
}
