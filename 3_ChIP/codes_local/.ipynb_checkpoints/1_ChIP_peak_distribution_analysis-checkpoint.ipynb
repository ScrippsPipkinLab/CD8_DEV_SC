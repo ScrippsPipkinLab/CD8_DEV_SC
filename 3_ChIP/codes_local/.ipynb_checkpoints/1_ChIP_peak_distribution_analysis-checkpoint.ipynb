{
 "cells": [
  {
   "cell_type": "code",
   "execution_count": 1,
   "metadata": {},
   "outputs": [],
   "source": [
    "import pandas as pd\n",
    "import glob\n",
    "import os\n",
    "import csv\n",
    "import numpy as np\n",
    "from scipy.stats import chi2_contingency\n",
    "\n",
    "try:\n",
    "    code_dir\n",
    "except NameError:\n",
    "    code_dir = os.getcwd()\n",
    "    source_dir = code_dir.replace(\"codes_local\", \"0_sources\")\n",
    "    out_dir = code_dir.replace(\"codes_local\", \"1_ChIP_peak_distribution\")"
   ]
  },
  {
   "cell_type": "code",
   "execution_count": 2,
   "metadata": {},
   "outputs": [
    {
     "name": "stdout",
     "output_type": "stream",
     "text": [
      "{'sc_P3_cl13_up', 'd5_KLRG1lo_Runx3_promoted', 'sc_P5_cl13_up', 'sc_P6_arm_up', 'sc_P3_arm_up', 'sc_P5_arm_up', 'sc_P4_arm_up', 'sc_P7_arm_up', 'sc_P2_cl13_up', 'sc_P6_cl13_up', 'd5_KLRG1hi_Runx3_promoted', 'sc_P9_arm_up', 'nascent_Il2_repressed', 'sc_d5_arm_up', 'd5_KLRG1lo_Runx3_repressed', 'sc_all', 'nascent_48h_up', 'd5_KLRG1hi_Runx3_repressed', 'sc_d8_arm_up', 'nascent_48h_dn', 'nascent_Il2_promoted', 'sc_P7_cl13_up', 'sc_d8_cl13_up', 'sc_P4_cl13_up', 'nascent_all', 'sc_d5_cl13_up', 'sc_P9_cl13_up', 'sc_P2_arm_up', 'd5_KLRG1hi_all', 'd5_KLRG1lo_all'}\n",
      "['sc_P6_arm_up', 'sc_P3_arm_up', 'sc_P5_arm_up', 'sc_P4_arm_up', 'sc_P7_arm_up', 'sc_P9_arm_up', 'sc_P2_arm_up']\n"
     ]
    }
   ],
   "source": [
    "gene_list_file = source_dir + \"/gene_list.csv\"\n",
    "gene_list_df = pd.read_csv(gene_list_file)\n",
    "print(set(gene_list_df['labels']))\n",
    "print([x for x in set(gene_list_df['labels']) if 'sc_P' in x and 'arm' in x])\n",
    "\n",
    "chip_anno_dir = '/media/pipkin/Rocket2/T_Cell_ChIP/202012_ChIP/3_peak_annotations'\n",
    "chip_anno_files = glob.glob(\"%s/*annoDf.csv\"%chip_anno_dir)\n",
    "\n",
    "out_file = out_dir + \"/ChIP_peak_chisq\"\n",
    "out_sum_pval_file = out_dir + \"/sum_ChIP_peak_chisq.csv\""
   ]
  },
  {
   "cell_type": "code",
   "execution_count": 3,
   "metadata": {},
   "outputs": [
    {
     "data": {
      "text/plain": [
       "[['nascent_48h_up', 'nascent_48h_dn'],\n",
       " ['nascent_Il2_promoted', 'nascent_Il2_repressed'],\n",
       " ['sc_d5_arm_up', 'sc_d5_cl13_up'],\n",
       " ['sc_d8_arm_up', 'sc_d8_cl13_up'],\n",
       " ['d5_KLRG1hi_Runx3_promoted', 'd5_KLRG1hi_Runx3_repressed'],\n",
       " ['d5_KLRG1lo_Runx3_promoted', 'd5_KLRG1lo_Runx3_repressed'],\n",
       " ['sc_P2_arm_up', 'sc_P2_cl13_up'],\n",
       " ['sc_P3_arm_up', 'sc_P3_cl13_up'],\n",
       " ['sc_P4_arm_up', 'sc_P4_cl13_up'],\n",
       " ['sc_P5_arm_up', 'sc_P5_cl13_up'],\n",
       " ['sc_P6_arm_up', 'sc_P6_cl13_up'],\n",
       " ['sc_P9_arm_up', 'sc_P9_cl13_up']]"
      ]
     },
     "execution_count": 3,
     "metadata": {},
     "output_type": "execute_result"
    }
   ],
   "source": [
    "label_combinations = [[\"nascent_48h_up\", \"nascent_48h_dn\"], \n",
    "                      ['nascent_Il2_promoted','nascent_Il2_repressed'], \n",
    "                      ['sc_d5_arm_up', 'sc_d5_cl13_up'],\n",
    "                      ['sc_d8_arm_up', 'sc_d8_cl13_up'],\n",
    "                      ['d5_KLRG1hi_Runx3_promoted', 'd5_KLRG1hi_Runx3_repressed'], \n",
    "                      ['d5_KLRG1lo_Runx3_promoted', 'd5_KLRG1lo_Runx3_repressed']]\n",
    "\n",
    "for i in [2,3,4,5,6,9]:\n",
    "    label_combinations.append(['sc_P%s_arm_up'%i, 'sc_P%s_cl13_up'%i])\n",
    "label_combinations"
   ]
  },
  {
   "cell_type": "code",
   "execution_count": 4,
   "metadata": {},
   "outputs": [],
   "source": [
    "out_sum_pval_file_df = pd.DataFrame({\"ChIP\": [x.split(\"/\")[-1].replace(\"_annoDf.csv\", \"\") \n",
    "                                              for x in chip_anno_files]})\n",
    "chip_genes_n = []\n",
    "for chip_i_file in chip_anno_files:\n",
    "    chip_i_df = pd.read_csv(chip_i_file)\n",
    "    chip_i_genes = set(x for x in chip_i_df['SYMBOL'] if str(x) != 'nan')\n",
    "    chip_genes_n.append(len(chip_i_genes))\n",
    "out_sum_pval_file_df[\"ChIP gene #\"] = chip_genes_n\n",
    "\n",
    "for label_target1, label_target2 in label_combinations:\n",
    "    cp_name = \"%s__in__%s\"%(label_target1, label_target2)\n",
    "    out_file_cp = out_file + \"--\" + cp_name + \".csv\"\n",
    "    cp_p_list = []\n",
    "    cp_1_pctg = []\n",
    "    cp_2_pctg = []\n",
    "    with open(out_file_cp, \"w\") as fout:\n",
    "        wfout = csv.writer(fout, delimiter=\",\")\n",
    "        for chip_i_file in chip_anno_files:\n",
    "            chip_i_name = chip_i_file.split(\"/\")[-1].replace(\"_annoDf.csv\", \"\")\n",
    "            chip_i_df = pd.read_csv(chip_i_file)\n",
    "            chip_i_genes = set(x for x in chip_i_df['SYMBOL'] if str(x) != 'nan')\n",
    "\n",
    "            # Calculate contingency table\n",
    "            target1_genes = set(gene_list_df[gene_list_df['labels'] == label_target1]['gene_names'].tolist())\n",
    "            target2_genes = set(gene_list_df[gene_list_df['labels'] == label_target2]['gene_names'].tolist())\n",
    "\n",
    "            target1_chip_genes = target1_genes & chip_i_genes\n",
    "            target2_chip_genes = target2_genes & chip_i_genes\n",
    "            target1_non_chip_genes = target1_genes - target1_chip_genes\n",
    "            target2_non_chip_genes = target2_genes - target2_chip_genes\n",
    "\n",
    "            target1_chip_n = len(target1_chip_genes)\n",
    "            target1_non_chip_n = len(target1_non_chip_genes)\n",
    "            target2_chip_n = len(target2_chip_genes)\n",
    "            target2_non_chip_n = len(target2_non_chip_genes)\n",
    "            \n",
    "            chisq_array = np.array([[target1_chip_n, target1_non_chip_n], \n",
    "                                    [target2_chip_n, target2_non_chip_n]])\n",
    "            target1_chip_pctg = target1_chip_n / len(target1_genes)*100\n",
    "            target1_nonchip_pctg = target1_non_chip_n / len(target1_genes)*100\n",
    "            target2_chip_pctg = target2_chip_n / len(target2_genes)*100\n",
    "            target2_nonchip_pctg = target2_non_chip_n / len(target2_genes)*100            \n",
    "\n",
    "            # Perform chisq test\n",
    "            chi2, p, dof, expected = chi2_contingency(chisq_array, correction=True)\n",
    "\n",
    "            # Append pval\n",
    "            cp_p_list.append(p)\n",
    "            cp_1_pctg.append(target1_chip_pctg)\n",
    "            cp_2_pctg.append(target2_chip_pctg)\n",
    "\n",
    "            # Write test result\n",
    "            wfout = csv.writer(fout, delimiter = \",\")\n",
    "            wfout.writerow([\"ChIP\", chip_i_name])\n",
    "            wfout.writerow([\"Target1 genes\", label_target1])\n",
    "            wfout.writerow([\"Target2 genes\", label_target2])\n",
    "            wfout.writerow([])\n",
    "            wfout.writerow([\"\", \"ChIP\", \"None ChIP\"])\n",
    "            wfout.writerow([\"Target1\",\n",
    "                            \"{} ({:.1f}%)\".format(target1_chip_n, target1_chip_pctg), \n",
    "                            \"{} ({:.1f}%)\".format(target1_non_chip_n, target1_nonchip_pctg)])\n",
    "            wfout.writerow([\"Target2\",\n",
    "                            \"{} ({:.1f}%)\".format(target2_chip_n, target2_chip_pctg), \n",
    "                            \"{} ({:.1f}%)\".format(target2_non_chip_n, target2_nonchip_pctg)])           \n",
    "            wfout.writerow([\"chisq\", chi2])\n",
    "            wfout.writerow([\"p-value\", p])\n",
    "            wfout.writerow([])\n",
    "            wfout.writerow([])\n",
    "        out_sum_pval_file_df[\"%s_pval\"%cp_name] = [\"{:.4f}\".format(x) for x in cp_p_list]\n",
    "        out_sum_pval_file_df[\"%s_chip_pctg\"%label_target1] = [\"{:.4f}\".format(x) for x in cp_1_pctg]\n",
    "        out_sum_pval_file_df[\"%s_chip_pctg\"%label_target2] = [\"{:.4f}\".format(x) for x in cp_2_pctg]\n",
    "\n",
    "        out_sum_pval_file_df.to_csv(out_sum_pval_file, index=False)"
   ]
  },
  {
   "cell_type": "code",
   "execution_count": null,
   "metadata": {},
   "outputs": [],
   "source": []
  }
 ],
 "metadata": {
  "kernelspec": {
   "display_name": "Python 3",
   "language": "python",
   "name": "python3"
  },
  "language_info": {
   "codemirror_mode": {
    "name": "ipython",
    "version": 3
   },
   "file_extension": ".py",
   "mimetype": "text/x-python",
   "name": "python",
   "nbconvert_exporter": "python",
   "pygments_lexer": "ipython3",
   "version": "3.8.3"
  }
 },
 "nbformat": 4,
 "nbformat_minor": 4
}
