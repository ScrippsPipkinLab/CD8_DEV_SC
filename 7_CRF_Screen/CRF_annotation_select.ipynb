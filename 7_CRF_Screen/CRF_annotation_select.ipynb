{
 "cells": [
  {
   "cell_type": "code",
   "execution_count": 1,
   "metadata": {},
   "outputs": [],
   "source": [
    "import pandas as pd\n",
    "import numpy as np\n",
    "import csv\n",
    "import os"
   ]
  },
  {
   "cell_type": "markdown",
   "metadata": {},
   "source": [
    "### CRF genes in complexes: annotation"
   ]
  },
  {
   "cell_type": "code",
   "execution_count": 6,
   "metadata": {},
   "outputs": [],
   "source": [
    "go_use_file = '/Volumes/Yolanda1TB/CRF_Screen/Ref/GO_terms/complex_count_rank_select_for_plotting.csv'\n",
    "go_use_df = pd.read_csv(go_use_file)\n",
    "\n",
    "crf_go_file = 'https://raw.githubusercontent.com/ScrippsPipkinLab/CRF_Screen/master/Ref/GO_terms/CRM_complexes_count.csv'\n",
    "crf_go_df = pd.read_csv(crf_go_file)\n",
    "\n",
    "crf_anno_file = 'https://raw.githubusercontent.com/ScrippsPipkinLab/CRF_Screen/master/Ref/HGSCore_only-CRF_anno.csv'\n",
    "crf_anno_df = pd.read_csv(crf_anno_file)"
   ]
  },
  {
   "cell_type": "markdown",
   "metadata": {},
   "source": [
    "*Find alternative gene names*"
   ]
  },
  {
   "cell_type": "code",
   "execution_count": 7,
   "metadata": {},
   "outputs": [],
   "source": [
    "crf_alt_names_file = 'https://raw.githubusercontent.com/ScrippsPipkinLab/CRF_Screen/master/Ref/CRF_alternative_gn.csv'\n",
    "crf_alt_names_df = pd.read_csv(crf_alt_names_file)\n",
    "alt_names_dict = {crf_alt_names_df['gene_name'][i]:crf_alt_names_df['Alternative'][i] \n",
    "                  for i in range(len(crf_alt_names_df))}\n",
    "alt_names_dict_rev = {crf_alt_names_df['Alternative'][i]:crf_alt_names_df['gene_name'][i] \n",
    "                  for i in range(len(crf_alt_names_df))}\n",
    "\n",
    "def alt_genes(in_list):\n",
    "    out_list = []\n",
    "    for i in in_list:\n",
    "        if i in alt_names_dict.keys():\n",
    "            out_list.append(alt_names_dict[i])\n",
    "        elif i in alt_names_dict_rev.keys():\n",
    "            out_list.append(alt_names_dict_rev[i])\n",
    "    return(out_list)"
   ]
  },
  {
   "cell_type": "markdown",
   "metadata": {},
   "source": [
    "## Other crfs to be annotated\n",
    "- Chd"
   ]
  },
  {
   "cell_type": "code",
   "execution_count": 8,
   "metadata": {},
   "outputs": [],
   "source": [
    "all_complexes_dict = {}"
   ]
  },
  {
   "cell_type": "code",
   "execution_count": 9,
   "metadata": {},
   "outputs": [],
   "source": [
    "uniq_complexes = [x for x in np.unique(crf_anno_df['complexNames'].tolist()) if str(x) != 'nan']\n",
    "\n",
    "for i in uniq_complexes:\n",
    "    i_crfs = crf_anno_df[crf_anno_df['complexNames'] == i]['gene_name'].tolist()\n",
    "    i_crfs = [x.capitalize() for x in i_crfs]\n",
    "    i_crfs += alt_genes(i_crfs)\n",
    "    all_complexes_dict[i] = i_crfs"
   ]
  },
  {
   "cell_type": "code",
   "execution_count": 23,
   "metadata": {},
   "outputs": [],
   "source": [
    "go_use_terms = go_use_df[go_use_df['use'] == 'yes']['complex'].tolist()\n",
    "\n",
    "for i in go_use_terms:\n",
    "    i_simp_name = go_use_df[go_use_df['complex'] == i]['abbr'].tolist()[0]\n",
    "    i_crfs = crf_go_df[crf_go_df[i] == 'Yes']['gene_name'].tolist()\n",
    "    i_crfs = [x.capitalize() for x in i_crfs]\n",
    "    i_crfs += alt_genes(i_crfs)\n",
    "    if i_simp_name not in all_complexes_dict.keys():\n",
    "        all_complexes_dict[i_simp_name] = i_crfs\n",
    "    else:\n",
    "        all_complexes_dict[i_simp_name] += i_crfs"
   ]
  },
  {
   "cell_type": "code",
   "execution_count": 24,
   "metadata": {},
   "outputs": [],
   "source": [
    "all_complexes_dict['Chd'] = [x for x in crf_go_df['gene_name'] if 'Chd' in x]"
   ]
  },
  {
   "cell_type": "code",
   "execution_count": 29,
   "metadata": {},
   "outputs": [],
   "source": [
    "all_complexes_dict['ISWI / Ino80'] = all_complexes_dict['ISWI'] + all_complexes_dict['Ino80']"
   ]
  },
  {
   "cell_type": "code",
   "execution_count": 30,
   "metadata": {},
   "outputs": [
    {
     "data": {
      "text/plain": [
       "dict_keys(['BAF', 'CAF1', 'E2F6_COM-1', 'FACT', 'HBO1', 'HDAC', 'ISWI', 'L3MBTL', 'MOZ-MORF', 'NU4A', 'PRC1', 'PRC2', 'SAGA', 'SEC', 'SET-MLL', 'Bromodomain', 'Histone Methylation', 'Histone Acetylation', 'Chromodomain', 'DNA Methylation / Demethylation', 'Histone Demethylation', 'Histone Ubiquitination', 'Arginine Methylation', 'Ino80', 'Chd', 'ISWI / Ino80'])"
      ]
     },
     "execution_count": 30,
     "metadata": {},
     "output_type": "execute_result"
    }
   ],
   "source": [
    "all_complexes_dict.keys()"
   ]
  },
  {
   "cell_type": "markdown",
   "metadata": {},
   "source": [
    "### Write only selected"
   ]
  },
  {
   "cell_type": "code",
   "execution_count": 32,
   "metadata": {},
   "outputs": [],
   "source": [
    "use_complexes = ['BAF', 'ISWI / Ino80', 'Chd',\n",
    "                 'Histone Acetylation', 'Histone Methylation', \n",
    "                 'Histone Ubiquitination', 'Arginine Methylation', \n",
    "                 'DNA Methylation / Demethylation', \n",
    "                 'HDAC', 'Histone Demethylation', \n",
    "                 'Bromodomain', 'Chromodomain']"
   ]
  },
  {
   "cell_type": "code",
   "execution_count": 33,
   "metadata": {},
   "outputs": [],
   "source": [
    "out_file = 'CRF_complexes.csv'\n",
    "with open(out_file, \"w\") as fout:\n",
    "    wfout = csv.writer(fout, delimiter=\",\")\n",
    "    wfout.writerow(['complex', 'gene_name'])\n",
    "    \n",
    "    for i in all_complexes_dict.keys():\n",
    "        if i in use_complexes:\n",
    "            i_genes = all_complexes_dict[i]\n",
    "            for g in i_genes:\n",
    "                wfout.writerow([i, g])"
   ]
  },
  {
   "cell_type": "code",
   "execution_count": null,
   "metadata": {},
   "outputs": [],
   "source": []
  },
  {
   "cell_type": "code",
   "execution_count": null,
   "metadata": {},
   "outputs": [],
   "source": []
  }
 ],
 "metadata": {
  "kernelspec": {
   "display_name": "Python 3",
   "language": "python",
   "name": "python3"
  },
  "language_info": {
   "codemirror_mode": {
    "name": "ipython",
    "version": 3
   },
   "file_extension": ".py",
   "mimetype": "text/x-python",
   "name": "python",
   "nbconvert_exporter": "python",
   "pygments_lexer": "ipython3",
   "version": "3.8.5"
  }
 },
 "nbformat": 4,
 "nbformat_minor": 4
}
