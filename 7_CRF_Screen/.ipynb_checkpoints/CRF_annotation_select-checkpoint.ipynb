{
 "cells": [
  {
   "cell_type": "code",
   "execution_count": 1,
   "metadata": {},
   "outputs": [],
   "source": [
    "import pandas as pd\n",
    "import numpy as np\n",
    "import csv\n",
    "import os"
   ]
  },
  {
   "cell_type": "markdown",
   "metadata": {},
   "source": [
    "### CRF genes in complexes: annotation"
   ]
  },
  {
   "cell_type": "code",
   "execution_count": 2,
   "metadata": {},
   "outputs": [],
   "source": [
    "go_use_file = '/Volumes/Yolanda1TB/CRF_Screen/Ref/GO_terms/complex_count_rank_select_for_plotting.csv'\n",
    "go_use_df = pd.read_csv(go_use_file)\n",
    "\n",
    "crf_go_file = 'https://raw.githubusercontent.com/ScrippsPipkinLab/CRF_Screen/master/Ref/GO_terms/CRM_complexes_count.csv'\n",
    "crf_go_df = pd.read_csv(crf_go_file)\n",
    "\n",
    "crf_anno_file = 'https://raw.githubusercontent.com/ScrippsPipkinLab/CRF_Screen/master/Ref/HGSCore_only-CRF_anno.csv'\n",
    "crf_anno_df = pd.read_csv(crf_anno_file)"
   ]
  },
  {
   "cell_type": "markdown",
   "metadata": {},
   "source": [
    "*Find alternative gene names*"
   ]
  },
  {
   "cell_type": "code",
   "execution_count": 3,
   "metadata": {},
   "outputs": [],
   "source": [
    "crf_alt_names_file = 'https://raw.githubusercontent.com/ScrippsPipkinLab/CRF_Screen/master/Ref/CRF_alternative_gn.csv'\n",
    "crf_alt_names_df = pd.read_csv(crf_alt_names_file)\n",
    "alt_names_dict = {crf_alt_names_df['gene_name'][i]:crf_alt_names_df['Alternative'][i] \n",
    "                  for i in range(len(crf_alt_names_df))}\n",
    "alt_names_dict_rev = {crf_alt_names_df['Alternative'][i]:crf_alt_names_df['gene_name'][i] \n",
    "                  for i in range(len(crf_alt_names_df))}\n",
    "\n",
    "def alt_genes(in_list):\n",
    "    out_list = []\n",
    "    for i in in_list:\n",
    "        if i in alt_names_dict.keys():\n",
    "            out_list.append(alt_names_dict[i])\n",
    "        elif i in alt_names_dict_rev.keys():\n",
    "            out_list.append(alt_names_dict_rev[i])\n",
    "    return(out_list)"
   ]
  },
  {
   "cell_type": "markdown",
   "metadata": {},
   "source": [
    "## Compile"
   ]
  },
  {
   "cell_type": "code",
   "execution_count": 4,
   "metadata": {},
   "outputs": [],
   "source": [
    "def remove_genes_from_dict(genes_list, keep_key, in_dict):\n",
    "    for key in in_dict.keys():\n",
    "        if key != keep_key:\n",
    "            in_dict[key] = list(set(in_dict[key]) - set(genes_list))\n",
    "    return(in_dict)"
   ]
  },
  {
   "cell_type": "code",
   "execution_count": 5,
   "metadata": {},
   "outputs": [],
   "source": [
    "all_complexes_dict = {}"
   ]
  },
  {
   "cell_type": "code",
   "execution_count": 6,
   "metadata": {},
   "outputs": [],
   "source": [
    "uniq_complexes = [x for x in np.unique(crf_anno_df['complexNames'].tolist()) if str(x) != 'nan']\n",
    "\n",
    "for i in uniq_complexes:\n",
    "    i_crfs = crf_anno_df[crf_anno_df['complexNames'] == i]['gene_name'].tolist()\n",
    "    i_crfs = [x.capitalize() for x in i_crfs]\n",
    "    i_crfs += alt_genes(i_crfs)\n",
    "    all_complexes_dict[i] = i_crfs"
   ]
  },
  {
   "cell_type": "code",
   "execution_count": 7,
   "metadata": {},
   "outputs": [],
   "source": [
    "go_use_terms = go_use_df[go_use_df['use'] == 'yes']['complex'].tolist()\n",
    "\n",
    "for i in go_use_terms:\n",
    "    i_simp_name = go_use_df[go_use_df['complex'] == i]['abbr'].tolist()[0]\n",
    "    i_crfs = crf_go_df[crf_go_df[i] == 'Yes']['gene_name'].tolist()\n",
    "    i_crfs = [x.capitalize() for x in i_crfs]\n",
    "    i_crfs += alt_genes(i_crfs)\n",
    "    if i_simp_name not in all_complexes_dict.keys():\n",
    "        all_complexes_dict[i_simp_name] = i_crfs\n",
    "    else:\n",
    "        all_complexes_dict[i_simp_name] += i_crfs"
   ]
  },
  {
   "cell_type": "markdown",
   "metadata": {},
   "source": [
    "### Special cases"
   ]
  },
  {
   "cell_type": "code",
   "execution_count": 8,
   "metadata": {},
   "outputs": [],
   "source": [
    "def reserve_genes_for_key(genes_list, keep_key, in_dict):\n",
    "    # Add genes_list to specific category\n",
    "    if keep_key not in in_dict.keys():\n",
    "        in_dict[keep_key] = genes_list\n",
    "    else:\n",
    "        in_dict[keep_key] = list(set(in_dict[keep_key] + genes_list))\n",
    "    \n",
    "    # Remove genes_list from other categories\n",
    "    for key in in_dict.keys():\n",
    "        if key != keep_key:\n",
    "            in_dict[key] = list(set(in_dict[key]) - set(genes_list))\n",
    "    return(in_dict)"
   ]
  },
  {
   "cell_type": "code",
   "execution_count": 9,
   "metadata": {},
   "outputs": [],
   "source": [
    "chd_genes = [x for x in crf_go_df['gene_name'] if 'Chd' in x]\n",
    "all_complexes_dict = reserve_genes_for_key(chd_genes, 'Chd', all_complexes_dict)"
   ]
  },
  {
   "cell_type": "code",
   "execution_count": 10,
   "metadata": {},
   "outputs": [],
   "source": [
    "bromo_genes = ['Bptf', 'Brdt', 'Brpf1','Brpf3','Brwd1', 'Brwd3'] + ['Brd%s'%x for x in range(1,10)]\n",
    "all_complexes_dict = reserve_genes_for_key(bromo_genes, 'Bromodomain', all_complexes_dict)"
   ]
  },
  {
   "cell_type": "code",
   "execution_count": 11,
   "metadata": {},
   "outputs": [],
   "source": [
    "cbx_genes = ['Cbx%s'%x for x in range(1,9)]\n",
    "all_complexes_dict = reserve_genes_for_key(cbx_genes, 'Chromodomain', all_complexes_dict)"
   ]
  },
  {
   "cell_type": "code",
   "execution_count": 12,
   "metadata": {},
   "outputs": [],
   "source": [
    "hdac_genes = [x for x in crf_go_df['gene_name'] if 'Hdac' in x] + ['Sirt']\n",
    "all_complexes_dict = reserve_genes_for_key(hdac_genes, 'HDAC', all_complexes_dict)"
   ]
  },
  {
   "cell_type": "code",
   "execution_count": 13,
   "metadata": {},
   "outputs": [],
   "source": [
    "mbd_genes = [x for x in crf_go_df['gene_name'] if 'Mbd' in x]\n",
    "all_complexes_dict = reserve_genes_for_key(mbd_genes , 'DNA Methylation - Demethylation', all_complexes_dict)"
   ]
  },
  {
   "cell_type": "code",
   "execution_count": 14,
   "metadata": {},
   "outputs": [],
   "source": [
    "hdm_genes = [x for x in crf_go_df['gene_name'] if 'Kdm' in x] + [x for x in crf_go_df['gene_name'] if 'Jmj' in x]\n",
    "all_complexes_dict = reserve_genes_for_key(hdm_genes, 'Histone Demethylation', all_complexes_dict)"
   ]
  },
  {
   "cell_type": "code",
   "execution_count": 15,
   "metadata": {},
   "outputs": [],
   "source": [
    "all_complexes_dict['ISWI - Ino80'] = all_complexes_dict['ISWI'] + all_complexes_dict['Ino80']"
   ]
  },
  {
   "cell_type": "markdown",
   "metadata": {},
   "source": [
    "### Write only selected"
   ]
  },
  {
   "cell_type": "code",
   "execution_count": 16,
   "metadata": {},
   "outputs": [],
   "source": [
    "use_complexes = ['BAF', 'ISWI - Ino80', 'Chd',\n",
    "                 'Histone Acetylation', 'Histone Methylation', \n",
    "                 'Histone Ubiquitination', 'Arginine Methylation', \n",
    "                 'DNA Methylation - Demethylation', \n",
    "                 'HDAC', 'Histone Demethylation', \n",
    "                 'Bromodomain', 'Chromodomain']"
   ]
  },
  {
   "cell_type": "code",
   "execution_count": 17,
   "metadata": {},
   "outputs": [],
   "source": [
    "out_file = 'CRF_complexes.csv'\n",
    "with open(out_file, \"w\") as fout:\n",
    "    wfout = csv.writer(fout, delimiter=\",\")\n",
    "    wfout.writerow(['complex', 'gene_name'])\n",
    "    \n",
    "    for i in all_complexes_dict.keys():\n",
    "        if i in use_complexes:\n",
    "            i_genes = all_complexes_dict[i]\n",
    "            for g in i_genes:\n",
    "                wfout.writerow([i, g])"
   ]
  }
 ],
 "metadata": {
  "kernelspec": {
   "display_name": "Python 3",
   "language": "python",
   "name": "python3"
  },
  "language_info": {
   "codemirror_mode": {
    "name": "ipython",
    "version": 3
   },
   "file_extension": ".py",
   "mimetype": "text/x-python",
   "name": "python",
   "nbconvert_exporter": "python",
   "pygments_lexer": "ipython3",
   "version": "3.8.5"
  }
 },
 "nbformat": 4,
 "nbformat_minor": 4
}
