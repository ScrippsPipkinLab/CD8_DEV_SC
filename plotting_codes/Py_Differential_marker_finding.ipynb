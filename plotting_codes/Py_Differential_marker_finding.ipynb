{
 "cells": [
  {
   "cell_type": "code",
   "execution_count": 1,
   "metadata": {},
   "outputs": [],
   "source": [
    "import pandas as pd\n",
    "import os\n",
    "from pathlib import Path\n",
    "from os import listdir\n",
    "from os.path import isdir, join"
   ]
  },
  {
   "cell_type": "code",
   "execution_count": 4,
   "metadata": {},
   "outputs": [
    {
     "name": "stdout",
     "output_type": "stream",
     "text": [
      "Reload\n"
     ]
    }
   ],
   "source": [
    "###----- Get dir & load / reload packages\n",
    "try:\n",
    "    code_dir\n",
    "except NameError:\n",
    "    print(\"Start\")\n",
    "    code_dir = os.getcwd()\n",
    "    base_dir = code_dir.replace(\"/plotting_codes\",\"\")\n",
    "    tools_dir = base_dir + \"/tools\"\n",
    "\n",
    "else:\n",
    "    print(\"Reload\")"
   ]
  },
  {
   "cell_type": "code",
   "execution_count": 32,
   "metadata": {},
   "outputs": [],
   "source": [
    "genome = \"mm\""
   ]
  },
  {
   "cell_type": "code",
   "execution_count": 35,
   "metadata": {},
   "outputs": [],
   "source": [
    "if genome == \"hs\":\n",
    "    markers_file = 'https://raw.githubusercontent.com/Yolanda-HT/SurfaceMarkers_Cytokines/master/2_compiled/HS_MARKERS.csv'\n",
    "    markers_df = pd.read_csv(markers_file)\n",
    "    markers = markers_df['gene_name'].tolist()\n",
    "\n",
    "    cts_file = 'https://raw.githubusercontent.com/Yolanda-HT/SurfaceMarkers_Cytokines/master/1_cytokine_source/Human_cytokines.csv'\n",
    "    cts_df = pd.read_csv(cts_file)\n",
    "    cts = cts_df['Gene Symbol'].tolist()\n",
    "elif genome == \"mm\":\n",
    "    markers_file = 'https://raw.githubusercontent.com/Yolanda-HT/SurfaceMarkers_Cytokines/master/2_compiled/MM_MARKERS.csv'\n",
    "    markers_df = pd.read_csv(markers_file)\n",
    "    markers = markers_df['gene_name'].tolist() \n",
    "    \n",
    "    cts_file = 'https://raw.githubusercontent.com/Yolanda-HT/SurfaceMarkers_Cytokines/master/1_cytokine_source/Mouse_cytokines.txt'\n",
    "    cts_df = pd.read_csv(cts_file, sep=\"\\t\", names=None)\n",
    "    cts = list(set(cts_df.iloc[:,0].tolist()))"
   ]
  },
  {
   "cell_type": "code",
   "execution_count": 117,
   "metadata": {},
   "outputs": [],
   "source": [
    "def marker_cytokine_select(de_dir, use_key, label_file, log2fc_c, pval_c):\n",
    "    input_dir = de_dir + \"/\" + use_key\n",
    "    diff_files = [str(x) for x in list(Path(input_dir).rglob(\"*differential.csv\"))]\n",
    "    \n",
    "    ###----- Read label conversion\n",
    "    label_df = pd.read_csv(label_file)\n",
    "    old_labels = [str(x) for x in list(label_df['old_label'])]\n",
    "    new_labels = [str(x) for x in list(label_df['new_label'])]\n",
    "    \n",
    "    markers_df = pd.DataFrame()\n",
    "    cytokines_df = pd.DataFrame()\n",
    "\n",
    "    #####---------- One versus all comparison\n",
    "    if \"each\" in use_key.lower() and \"all\" in use_key.lower():\n",
    "        for file_i in diff_files:\n",
    "            i_base = file_i.split(\"/\")[-1].replace(\"_differential.csv\", \"\")\n",
    "            if i_base in old_labels:\n",
    "                i_base_newlabel = new_labels[old_labels.index(i_base)]\n",
    "            else:\n",
    "                i_base_newlabel = i_base\n",
    "\n",
    "            # Select sig diff genes\n",
    "            i_df = pd.read_csv(file_i)\n",
    "            i_df_sig = i_df[i_df['t-test_overestim_var_padj'] <= pval_c]\n",
    "            i_df_sig_up = i_df_sig[i_df_sig['t-test_overestim_var_logfc'] > log2fc_c]\n",
    "            i_df_sig_up_genes = i_df_sig_up['gene_names'].tolist()\n",
    "\n",
    "            # Select surface marker genes / cytokine genes\n",
    "            i_markers = pd.Series(list(set(markers) & set(i_df_sig_up_genes)))\n",
    "            i_cytokines = pd.Series(list(set(cts) & set(i_df_sig_up_genes)))\n",
    "\n",
    "            markers_df[i_base_newlabel] = i_markers\n",
    "            cytokines_df[i_base_newlabel] = i_markers\n",
    "    \n",
    "    #####---------- One versus Another comparison\n",
    "    elif \"per\" in use_key.lower():\n",
    "        groups = list(set([x.split(\"/\")[-3] for x in diff_files]))\n",
    "        groups.sort()\n",
    "        conds = list(set([x.split(\"/\")[-2] for x in diff_files]))\n",
    "        conds.sort()\n",
    "\n",
    "        for group in groups:\n",
    "            if group in old_labels:\n",
    "                group_newlabel = new_labels[old_labels.index(group)]\n",
    "            else:\n",
    "                group_newlabel = group\n",
    "            for cond in conds:\n",
    "                other_cond = [x for x in conds if x != cond][0]\n",
    "                ij_file = input_dir + \"/%s/%s/%s_vs_%s_differential.csv\"%(group, cond, cond, other_cond)\n",
    "\n",
    "                # Select sig diff genes\n",
    "                ij_df = pd.read_csv(ij_file)\n",
    "                ij_df_sig = ij_df[ij_df['t-test_overestim_var_padj'] <= pval_c]\n",
    "                ij_df_sig_up = ij_df_sig[ij_df_sig['t-test_overestim_var_logfc'] > log2fc_c]\n",
    "                ij_df_sig_up = ij_df_sig_up.sort_values(cond, ascending=False) # Sort by expression values\n",
    "                ij_df_sig_up_genes = ij_df_sig_up['gene_names'].tolist()\n",
    "\n",
    "                # Select surface marker genes / cytokine genes\n",
    "                # Output is ranked by expression value in target cluster\n",
    "                ij_markers = list(set(markers) & set(ij_df_sig_up_genes))\n",
    "                ij_markers = [x for x in ij_df_sig_up_genes if x in ij_markers] # Rank by expr\n",
    "                ij_cytokines = list(set(cts) & set(ij_df_sig_up_genes))\n",
    "                ij_cytokines = [x for x in ij_df_sig_up_genes if x in ij_cytokines] # Rank by expr\n",
    "                ij_markers = pd.Series(ij_markers)\n",
    "                ij_cytokines = pd.Series(ij_cytokines)\n",
    "                \n",
    "                ij_colname = '%s_%s-vs-%s'%(group_newlabel, cond, other_cond)\n",
    "                markers_df[ij_colname] = ij_markers\n",
    "                cytokines_df[ij_colname] = ij_cytokines        \n",
    "    \n",
    "    #####---------- One versus one comparison\n",
    "    else:\n",
    "        labels_uniq = list(set([x.split(\"/\")[-2] for x in diff_files]))\n",
    "        labels_uniq.sort()\n",
    "        labels_uniq\n",
    "        \n",
    "        for i in labels_uniq:\n",
    "            if i in old_labels:\n",
    "                i_newlabel = new_labels[old_labels.index(i)]\n",
    "            else:\n",
    "                i_newlabel = i\n",
    "            i_markers_list = []\n",
    "            i_cytokines_list = []\n",
    "            for j in labels_uniq:\n",
    "                if j == i:\n",
    "                    i_markers_list.append(\"\")\n",
    "                    i_cytokines_list.append(\"\")\n",
    "                else:\n",
    "                    ij_file = input_dir + \"/%s/%s_vs_%s_differential.csv\"%(i, i, j)\n",
    "\n",
    "                    # Select sig diff genes\n",
    "                    ij_df = pd.read_csv(ij_file)\n",
    "                    ij_df_sig = ij_df[ij_df['t-test_overestim_var_padj'] <= pval_c]\n",
    "                    ij_df_sig_up = ij_df_sig[ij_df_sig['t-test_overestim_var_logfc'] > log2fc_c]\n",
    "                    ij_df_sig_up = ij_df_sig_up.sort_values(i, ascending=False) # Sort by expression values\n",
    "                    ij_df_sig_up_genes = ij_df_sig_up['gene_names'].tolist()\n",
    "\n",
    "                    # Select surface marker genes / cytokine genes\n",
    "                    # Output is ranked by expression value in target cluster\n",
    "                    ij_markers = list(set(markers) & set(ij_df_sig_up_genes))\n",
    "                    ij_markers = [x for x in ij_df_sig_up_genes if x in ij_markers] # Rank by expr\n",
    "                    ij_cytokines = list(set(cts) & set(ij_df_sig_up_genes))\n",
    "                    ij_cytokines = [x for x in ij_df_sig_up_genes if x in ij_cytokines] # Rank by expr\n",
    "\n",
    "                    i_markers_list.append(\"|\".join(ij_markers))\n",
    "                    i_cytokines_list.append(\"|\".join(ij_cytokines))\n",
    "            markers_df[i_newlabel] = i_markers_list\n",
    "            cytokines_df[i_newlabel] = i_cytokines_list\n",
    "        \n",
    "        if i in old_labels:\n",
    "            labels_uniq_new = [new_labels[old_labels.index(x)] for x in labels_uniq]\n",
    "        else:\n",
    "            labels_uniq_new = labels_uniq\n",
    "        markers_df.index = labels_uniq_new\n",
    "        cytokines_df.index = labels_uniq_new\n",
    "\n",
    "    markers_df.to_csv(\"%s/%s_markers_p%s-log2fc%s.csv\"%(de_dir, use_key, pval_c, log2fc_c))\n",
    "    cytokines_df.to_csv(\"%s/%s_cytokines_p%s-log2fc%s.csv\"%(de_dir, use_key, pval_c, log2fc_c))"
   ]
  },
  {
   "cell_type": "code",
   "execution_count": 128,
   "metadata": {},
   "outputs": [
    {
     "name": "stderr",
     "output_type": "stream",
     "text": [
      "/home/pipkin/anaconda3/lib/python3.7/site-packages/ipykernel_launcher.py:64: DeprecationWarning: The default dtype for empty Series will be 'object' instead of 'float64' in a future version. Specify a dtype explicitly to silence this warning.\n",
      "/home/pipkin/anaconda3/lib/python3.7/site-packages/ipykernel_launcher.py:65: DeprecationWarning: The default dtype for empty Series will be 'object' instead of 'float64' in a future version. Specify a dtype explicitly to silence this warning.\n",
      "/home/pipkin/anaconda3/lib/python3.7/site-packages/ipykernel_launcher.py:30: DeprecationWarning: The default dtype for empty Series will be 'object' instead of 'float64' in a future version. Specify a dtype explicitly to silence this warning.\n",
      "/home/pipkin/anaconda3/lib/python3.7/site-packages/ipykernel_launcher.py:29: DeprecationWarning: The default dtype for empty Series will be 'object' instead of 'float64' in a future version. Specify a dtype explicitly to silence this warning.\n"
     ]
    }
   ],
   "source": [
    "de__dir = \"/media/pipkin/ROCKET-PRO/CD8_DEV_SC/0_Acute-Chronic/1_Scanpy/0_Scanpy_out_resampled/2_DE\"\n",
    "label__file = '/media/pipkin/ROCKET-PRO/CD8_DEV_SC/6_Harmony/0_Combined/Exp391_newLabels.csv'\n",
    "\n",
    "sub_dirs = [f for f in listdir(de__dir) if isdir(join(de__dir, f))]\n",
    "for use__key in sub_dirs:\n",
    "    marker_cytokine_select(de__dir, use__key, label__file, 2, 0.01)"
   ]
  },
  {
   "cell_type": "code",
   "execution_count": 129,
   "metadata": {},
   "outputs": [
    {
     "name": "stderr",
     "output_type": "stream",
     "text": [
      "/home/pipkin/anaconda3/lib/python3.7/site-packages/ipykernel_launcher.py:30: DeprecationWarning: The default dtype for empty Series will be 'object' instead of 'float64' in a future version. Specify a dtype explicitly to silence this warning.\n",
      "/home/pipkin/anaconda3/lib/python3.7/site-packages/ipykernel_launcher.py:29: DeprecationWarning: The default dtype for empty Series will be 'object' instead of 'float64' in a future version. Specify a dtype explicitly to silence this warning.\n"
     ]
    }
   ],
   "source": [
    "de__dir = '/media/pipkin/ROCKET-PRO/CD8_DEV_SC/0_Acute-Chronic/1_Scanpy/1_Scanpy_out_resampled_ARM-NAV/2_DE'\n",
    "label__file = '/media/pipkin/ROCKET-PRO/CD8_DEV_SC/6_Harmony/0_Combined/Exp391_newLabels.csv'\n",
    "\n",
    "sub_dirs = [f for f in listdir(de__dir) if isdir(join(de__dir, f))]\n",
    "for use__key in sub_dirs:\n",
    "    marker_cytokine_select(de__dir, use__key, label__file, 2, 0.01)"
   ]
  },
  {
   "cell_type": "code",
   "execution_count": 130,
   "metadata": {},
   "outputs": [
    {
     "name": "stderr",
     "output_type": "stream",
     "text": [
      "/home/pipkin/anaconda3/lib/python3.7/site-packages/ipykernel_launcher.py:29: DeprecationWarning: The default dtype for empty Series will be 'object' instead of 'float64' in a future version. Specify a dtype explicitly to silence this warning.\n",
      "/home/pipkin/anaconda3/lib/python3.7/site-packages/ipykernel_launcher.py:30: DeprecationWarning: The default dtype for empty Series will be 'object' instead of 'float64' in a future version. Specify a dtype explicitly to silence this warning.\n"
     ]
    }
   ],
   "source": [
    "de__dir = '/media/pipkin/ROCKET-PRO/CD8_DEV_SC/0_Acute-Chronic/1_Scanpy/1_Scanpy_out_resampled_Cl13-NAV/2_DE'\n",
    "label__file = '/media/pipkin/ROCKET-PRO/CD8_DEV_SC/6_Harmony/0_Combined/Exp391_newLabels.csv'\n",
    "\n",
    "sub_dirs = [f for f in listdir(de__dir) if isdir(join(de__dir, f))]\n",
    "for use__key in sub_dirs:\n",
    "    marker_cytokine_select(de__dir, use__key, label__file, 2, 0.01)"
   ]
  },
  {
   "cell_type": "code",
   "execution_count": 131,
   "metadata": {},
   "outputs": [
    {
     "name": "stderr",
     "output_type": "stream",
     "text": [
      "/home/pipkin/anaconda3/lib/python3.7/site-packages/ipykernel_launcher.py:30: DeprecationWarning: The default dtype for empty Series will be 'object' instead of 'float64' in a future version. Specify a dtype explicitly to silence this warning.\n",
      "/home/pipkin/anaconda3/lib/python3.7/site-packages/ipykernel_launcher.py:29: DeprecationWarning: The default dtype for empty Series will be 'object' instead of 'float64' in a future version. Specify a dtype explicitly to silence this warning.\n",
      "/home/pipkin/anaconda3/lib/python3.7/site-packages/ipykernel_launcher.py:65: DeprecationWarning: The default dtype for empty Series will be 'object' instead of 'float64' in a future version. Specify a dtype explicitly to silence this warning.\n",
      "/home/pipkin/anaconda3/lib/python3.7/site-packages/ipykernel_launcher.py:64: DeprecationWarning: The default dtype for empty Series will be 'object' instead of 'float64' in a future version. Specify a dtype explicitly to silence this warning.\n"
     ]
    }
   ],
   "source": [
    "de__dir = '/media/pipkin/ROCKET-PRO/CD8_DEV_SC/1_IL2RAKO/1_Scanpy/0-all_Scanpy_out/2_DE'\n",
    "label__file = '/media/pipkin/ROCKET-PRO/CD8_DEV_SC/6_Harmony/0_Combined/Exp334_newLabels.csv'\n",
    "\n",
    "sub_dirs = [f for f in listdir(de__dir) if isdir(join(de__dir, f))]\n",
    "for use__key in sub_dirs:\n",
    "    marker_cytokine_select(de__dir, use__key, label__file, 2, 0.01)"
   ]
  },
  {
   "cell_type": "code",
   "execution_count": null,
   "metadata": {},
   "outputs": [],
   "source": []
  }
 ],
 "metadata": {
  "kernelspec": {
   "display_name": "Python 3",
   "language": "python",
   "name": "python3"
  },
  "language_info": {
   "codemirror_mode": {
    "name": "ipython",
    "version": 3
   },
   "file_extension": ".py",
   "mimetype": "text/x-python",
   "name": "python",
   "nbconvert_exporter": "python",
   "pygments_lexer": "ipython3",
   "version": "3.8.3"
  }
 },
 "nbformat": 4,
 "nbformat_minor": 4
}
