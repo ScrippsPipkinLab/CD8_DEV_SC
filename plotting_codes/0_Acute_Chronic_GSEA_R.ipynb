{
 "cells": [
  {
   "cell_type": "code",
   "execution_count": 4,
   "metadata": {},
   "outputs": [
    {
     "data": {
      "text/html": [
       "'/media/pipkin/ROCKET-PRO/CD8_DEV_SC'"
      ],
      "text/latex": [
       "'/media/pipkin/ROCKET-PRO/CD8\\_DEV\\_SC'"
      ],
      "text/markdown": [
       "'/media/pipkin/ROCKET-PRO/CD8_DEV_SC'"
      ],
      "text/plain": [
       "[1] \"/media/pipkin/ROCKET-PRO/CD8_DEV_SC\""
      ]
     },
     "metadata": {},
     "output_type": "display_data"
    }
   ],
   "source": [
    "##########----- Reused code -----##########\n",
    "# Last update: Sept 13, 2020\n",
    "# By: Huitian Diao\n",
    "###########################################\n",
    "\n",
    "library(stringr)\n",
    "library(cowplot)\n",
    "library(ggpubr)\n",
    "\n",
    "code_dir <- getwd()\n",
    "tool_dir <- unlist(strsplit(code_dir,\"/\"))\n",
    "tool_dir <- head(tool_dir, length(tool_dir)-1)\n",
    "tool_dir <- paste(c(tool_dir, \"tools\"), collapse=\"/\")\n",
    "source(file.path(tool_dir, \"function_GSEA.R\"))\n",
    "base_dir <- gsub(\"/plotting_codes\", \"\", code_dir)\n",
    "base_dir"
   ]
  },
  {
   "cell_type": "markdown",
   "metadata": {},
   "source": [
    "## All louvain clusters - GSEA summary plots"
   ]
  },
  {
   "cell_type": "code",
   "execution_count": 12,
   "metadata": {},
   "outputs": [],
   "source": [
    "exp_name <- \"0_Acute-Chronic\"\n",
    "analysis_name <- c(\"0\", \"resampled\") "
   ]
  },
  {
   "cell_type": "code",
   "execution_count": 6,
   "metadata": {},
   "outputs": [
    {
     "name": "stderr",
     "output_type": "stream",
     "text": [
      "Parsed with column specification:\n",
      "cols(\n",
      "  louvain = \u001b[32mcol_double()\u001b[39m,\n",
      "  initial_size_spliced = \u001b[32mcol_double()\u001b[39m,\n",
      "  initial_size_unspliced = \u001b[32mcol_double()\u001b[39m,\n",
      "  initial_size = \u001b[32mcol_double()\u001b[39m,\n",
      "  n_counts = \u001b[32mcol_double()\u001b[39m,\n",
      "  dpt_pseudotime = \u001b[32mcol_double()\u001b[39m,\n",
      "  velocity_self_transition = \u001b[32mcol_double()\u001b[39m,\n",
      "  root_cells = \u001b[32mcol_double()\u001b[39m,\n",
      "  end_points = \u001b[32mcol_double()\u001b[39m,\n",
      "  velocity_pseudotime = \u001b[32mcol_double()\u001b[39m,\n",
      "  louvain_new_label = \u001b[31mcol_character()\u001b[39m\n",
      ")\n",
      "\n"
     ]
    }
   ],
   "source": [
    "new_names <- file.path(base_dir,'/0_Acute-Chronic/2_scVelo/0_scVelo_out_resampled/pt_ordered_cluster_avg.csv')\n",
    "new_names_df <- read_csv(new_names) %>% select(one_of('louvain', 'louvain_new_label'))\n",
    "colnames(new_names_df) <- c('comparison', 'louvain_new_label')\n",
    "cp_order <- new_names_df$louvain_new_label"
   ]
  },
  {
   "cell_type": "code",
   "execution_count": 13,
   "metadata": {},
   "outputs": [
    {
     "name": "stderr",
     "output_type": "stream",
     "text": [
      "Parsed with column specification:\n",
      "cols(\n",
      "  comparison = \u001b[32mcol_double()\u001b[39m,\n",
      "  pathway = \u001b[31mcol_character()\u001b[39m,\n",
      "  NES = \u001b[32mcol_double()\u001b[39m,\n",
      "  padj = \u001b[32mcol_double()\u001b[39m,\n",
      "  leadingEdge_signal = \u001b[32mcol_double()\u001b[39m,\n",
      "  mlog10padj = \u001b[32mcol_double()\u001b[39m\n",
      ")\n",
      "\n",
      "Parsed with column specification:\n",
      "cols(\n",
      "  comparison = \u001b[32mcol_double()\u001b[39m,\n",
      "  pathway = \u001b[31mcol_character()\u001b[39m,\n",
      "  NES = \u001b[32mcol_double()\u001b[39m,\n",
      "  padj = \u001b[32mcol_double()\u001b[39m,\n",
      "  leadingEdge_signal = \u001b[32mcol_double()\u001b[39m,\n",
      "  mlog10padj = \u001b[32mcol_double()\u001b[39m\n",
      ")\n",
      "\n",
      "Parsed with column specification:\n",
      "cols(\n",
      "  comparison = \u001b[32mcol_double()\u001b[39m,\n",
      "  pathway = \u001b[31mcol_character()\u001b[39m,\n",
      "  NES = \u001b[32mcol_double()\u001b[39m,\n",
      "  padj = \u001b[32mcol_double()\u001b[39m,\n",
      "  leadingEdge_signal = \u001b[32mcol_double()\u001b[39m,\n",
      "  mlog10padj = \u001b[32mcol_double()\u001b[39m\n",
      ")\n",
      "\n",
      "Parsed with column specification:\n",
      "cols(\n",
      "  comparison = \u001b[32mcol_double()\u001b[39m,\n",
      "  pathway = \u001b[31mcol_character()\u001b[39m,\n",
      "  NES = \u001b[32mcol_double()\u001b[39m,\n",
      "  padj = \u001b[32mcol_double()\u001b[39m,\n",
      "  leadingEdge_signal = \u001b[32mcol_double()\u001b[39m,\n",
      "  mlog10padj = \u001b[32mcol_double()\u001b[39m\n",
      ")\n",
      "\n"
     ]
    }
   ],
   "source": [
    "###----- Find all GSEA outputs for Louvain clusters\n",
    "sum.dir <- '/media/pipkin/ROCKET-PRO/CD8_DEV_SC/0_Acute-Chronic/1_Scanpy/0_Scanpy_out_resampled/3_GSEA'\n",
    "use.key <- 'louvain'\n",
    "use.path <- file.path(base_dir, '9_Figures', exp_name, \n",
    "                      paste(analysis_name, collapse=\"_\"),\n",
    "                      paste(use.key, 'sum', 'plot', sep=\"_\"))\n",
    "dir.create(use.path, showWarnings = FALSE, recursive=TRUE)\n",
    "setwd(use.path)\n",
    "\n",
    "input.path <- sum.dir\n",
    "input.files <- list.files(input.path, pattern='.csv', full.name=TRUE)\n",
    "input.files <- input.files[grepl(paste(use.key, 'gsea', sep=\"_\"), input.files)]\n",
    "\n",
    "out.name <- paste(use.key, 'gsea', 'all.csv', sep=\"_\")\n",
    "\n",
    "###----- Combine all leiden cluster GSEA outputs\n",
    "df_all <- read_csv(input.files[1])\n",
    "for (file in input.files[2:length(input.files)]){\n",
    "    df_all <- df_all %>% bind_rows(read_csv(file))\n",
    "}\n",
    "\n",
    "###----- Rename\n",
    "df_all <- df_all %>% left_join(new_names_df, by=\"comparison\")\n",
    "df_all$old_names <- df_all$comparison\n",
    "df_all$comparison <- df_all$louvain_new_label\n",
    "df_all$louvain_new_label <- NULL\n",
    "\n",
    "write_csv(df_all, out.name)"
   ]
  },
  {
   "cell_type": "code",
   "execution_count": 14,
   "metadata": {},
   "outputs": [
    {
     "name": "stderr",
     "output_type": "stream",
     "text": [
      "Parsed with column specification:\n",
      "cols(\n",
      "  gs_name = \u001b[31mcol_character()\u001b[39m,\n",
      "  type = \u001b[31mcol_character()\u001b[39m,\n",
      "  use = \u001b[31mcol_character()\u001b[39m,\n",
      "  plot_use = \u001b[31mcol_character()\u001b[39m,\n",
      "  abbr = \u001b[31mcol_character()\u001b[39m,\n",
      "  order = \u001b[32mcol_double()\u001b[39m\n",
      ")\n",
      "\n"
     ]
    },
    {
     "name": "stdout",
     "output_type": "stream",
     "text": [
      "[1] \"Effector\" \"Best\"    \n"
     ]
    }
   ],
   "source": [
    "gs.dir <- file.path('/media/pipkin/ROCKET-PRO/T_cell_signature_Reference/X_GeneSignatures_mm')\n",
    "\n",
    "plot.use.gs <- file.path(gs.dir, 'all_T_cell_gs_signatures_summary_annotated_plotUse_new.csv')\n",
    "plot.use.gs.df <- read_csv(plot.use.gs)\n",
    "\n",
    "use.types <- unique(plot.use.gs.df$plot_use)\n",
    "use.types <- use.types[!is.na(use.types)]\n",
    "print(use.types)"
   ]
  },
  {
   "cell_type": "code",
   "execution_count": 19,
   "metadata": {},
   "outputs": [
    {
     "name": "stdout",
     "output_type": "stream",
     "text": [
      "[1] \"Effector\"\n",
      "[1] \"Best\"\n"
     ]
    }
   ],
   "source": [
    "\n",
    "###----- For each subset of Gene signatures, plot heatmap\n",
    "\n",
    "for (use_type in use.types) {\n",
    "    print(use_type)\n",
    "    use_type_gs_df <- plot.use.gs.df %>% filter(plot_use == use_type) %>% select(one_of(c(\"gs_name\", \"abbr\", 'order')))\n",
    "    colnames(use_type_gs_df) <- c(\"pathway\", \"abbr\", 'order')\n",
    "    \n",
    "\n",
    "    df_plot <- df_all %>% filter(pathway %in% use_type_gs_df$pathway) %>% left_join(use_type_gs_df, by='pathway')\n",
    "    df_plot$comparison <- factor(df_plot$comparison, levels=cp_order)\n",
    "    padding <- 50 - max(nchar(as.character(df_plot$abbr)))\n",
    "    padding <- paste(rep(\" \", padding), collapse=\"\")\n",
    "    df_plot$abbr <- paste(padding, df_plot$abbr)\n",
    "    use_type_gs_df$abbr <- paste(padding, use_type_gs_df$abbr)\n",
    "    gs_abbr_order <- use_type_gs_df %>% arrange(order) %>% .$abbr\n",
    "    df_plot$abbr <- factor(df_plot$abbr, levels=gs_abbr_order)\n",
    "    \n",
    "    #--- Plotting\n",
    "    \n",
    "    font_size = 10\n",
    "    bbplot <- ggplot(df_plot, aes(comparison, abbr)) +\n",
    "        geom_point(aes(size=mlog10padj, color=NES)) +\n",
    "        scale_color_gradient2(low=\"blue\", mid=\"white\", high=\"red\", midpoint=0, limits=c(-3,3)) +\n",
    "        scale_size(range=c(0,5), breaks = c(0,1,2,3,4),labels=c('0','1','2', '3','>= 4')) +\n",
    "        theme(axis.title.x=element_blank(), axis.title.y=element_blank(), text=element_text(size=font_size))\n",
    "    leg <- get_legend(bbplot)\n",
    "    bbplot_leg <- as_ggplot(leg)\n",
    "    \n",
    "    bbplot <- bbplot + theme(legend.position='none')\n",
    "    \n",
    "    #--- Save output plot\n",
    "    wid = length(unique(df_plot$comparison)) * 1.2\n",
    "    hei = length(unique(df_plot$abbr)) * 0.4 + 0.2*font_size\n",
    "    \n",
    "    outname_pdf = paste(use.key, \"_\",use_type, \".pdf\", sep=\"\")\n",
    "    outname_pdf_leg = paste(use.key, \"_\",use_type, \"_legend.pdf\", sep=\"\")\n",
    "    ggsave(outname_pdf, bbplot, device=\"pdf\", width=wid, height=hei, units=\"cm\")\n",
    "    ggsave(outname_pdf_leg, bbplot_leg, device=\"pdf\", width=5, height=10, units=\"cm\")\n",
    "    \n",
    "    outname_pdf = paste(use.key, \"_\",use_type, \".png\", sep=\"\")\n",
    "    outname_pdf_leg = paste(use.key, \"_\",use_type, \"_legend.png\", sep=\"\")    \n",
    "    ggsave(outname_pdf, bbplot, device=\"png\", width=wid, height=hei, units=\"cm\")\n",
    "    ggsave(outname_pdf_leg, bbplot_leg, device=\"png\", width=5, height=10, units=\"cm\")\n",
    "}"
   ]
  },
  {
   "cell_type": "code",
   "execution_count": 22,
   "metadata": {},
   "outputs": [
    {
     "data": {
      "text/html": [
       "<table>\n",
       "<caption>A spec_tbl_df: 10 × 9</caption>\n",
       "<thead>\n",
       "\t<tr><th scope=col>comparison</th><th scope=col>pathway</th><th scope=col>NES</th><th scope=col>padj</th><th scope=col>leadingEdge_signal</th><th scope=col>mlog10padj</th><th scope=col>old_names</th><th scope=col>abbr</th><th scope=col>order</th></tr>\n",
       "\t<tr><th scope=col>&lt;fct&gt;</th><th scope=col>&lt;chr&gt;</th><th scope=col>&lt;dbl&gt;</th><th scope=col>&lt;dbl&gt;</th><th scope=col>&lt;dbl&gt;</th><th scope=col>&lt;dbl&gt;</th><th scope=col>&lt;dbl&gt;</th><th scope=col>&lt;fct&gt;</th><th scope=col>&lt;dbl&gt;</th></tr>\n",
       "</thead>\n",
       "<tbody>\n",
       "\t<tr><td>P9</td><td>Exp391_CD8---best_cluster_8 </td><td> 2.7986706</td><td>0.0005493417</td><td>57</td><td>3.26015744</td><td>0</td><td>                                            Best_8 </td><td>7</td></tr>\n",
       "\t<tr><td>P9</td><td>Exp391_CD8---best_cluster_10</td><td> 2.3313491</td><td>0.0005493417</td><td>48</td><td>3.26015744</td><td>0</td><td>                                            Best_10</td><td>9</td></tr>\n",
       "\t<tr><td>P9</td><td>Exp391_CD8---best_cluster_6 </td><td> 2.5972802</td><td>0.0005493417</td><td>55</td><td>3.26015744</td><td>0</td><td>                                            Best_6 </td><td>5</td></tr>\n",
       "\t<tr><td>P9</td><td>Exp391_CD8---best_cluster_4 </td><td>-2.7613449</td><td>0.0006357610</td><td>69</td><td>3.19670609</td><td>0</td><td>                                            Best_4 </td><td>3</td></tr>\n",
       "\t<tr><td>P9</td><td>Exp391_CD8---best_cluster_3 </td><td>-3.3311379</td><td>0.0006357610</td><td>88</td><td>3.19670609</td><td>0</td><td>                                            Best_3 </td><td>2</td></tr>\n",
       "\t<tr><td>P9</td><td>Exp391_CD8---best_cluster_2 </td><td>-3.0762849</td><td>0.0006357610</td><td>70</td><td>3.19670609</td><td>0</td><td>                                            Best_2 </td><td>1</td></tr>\n",
       "\t<tr><td>P9</td><td>Exp391_CD8---best_cluster_5 </td><td>-1.9807686</td><td>0.0007989574</td><td>53</td><td>3.09747636</td><td>0</td><td>                                            Best_5 </td><td>4</td></tr>\n",
       "\t<tr><td>P9</td><td>Exp391_CD8---best_cluster_9 </td><td> 1.3416245</td><td>0.1320354451</td><td>31</td><td>0.87930947</td><td>0</td><td>                                            Best_9 </td><td>8</td></tr>\n",
       "\t<tr><td>P9</td><td>Exp391_CD8---best_cluster_1 </td><td> 1.2580424</td><td>0.2060706708</td><td>27</td><td>0.68598382</td><td>0</td><td>                                            Best_1 </td><td>0</td></tr>\n",
       "\t<tr><td>P9</td><td>Exp391_CD8---best_cluster_7 </td><td> 0.8120938</td><td>0.8297877817</td><td>14</td><td>0.08103296</td><td>0</td><td>                                            Best_7 </td><td>6</td></tr>\n",
       "</tbody>\n",
       "</table>\n"
      ],
      "text/latex": [
       "A spec\\_tbl\\_df: 10 × 9\n",
       "\\begin{tabular}{lllllllll}\n",
       " comparison & pathway & NES & padj & leadingEdge\\_signal & mlog10padj & old\\_names & abbr & order\\\\\n",
       " <fct> & <chr> & <dbl> & <dbl> & <dbl> & <dbl> & <dbl> & <fct> & <dbl>\\\\\n",
       "\\hline\n",
       "\t P9 & Exp391\\_CD8---best\\_cluster\\_8  &  2.7986706 & 0.0005493417 & 57 & 3.26015744 & 0 &                                             Best\\_8  & 7\\\\\n",
       "\t P9 & Exp391\\_CD8---best\\_cluster\\_10 &  2.3313491 & 0.0005493417 & 48 & 3.26015744 & 0 &                                             Best\\_10 & 9\\\\\n",
       "\t P9 & Exp391\\_CD8---best\\_cluster\\_6  &  2.5972802 & 0.0005493417 & 55 & 3.26015744 & 0 &                                             Best\\_6  & 5\\\\\n",
       "\t P9 & Exp391\\_CD8---best\\_cluster\\_4  & -2.7613449 & 0.0006357610 & 69 & 3.19670609 & 0 &                                             Best\\_4  & 3\\\\\n",
       "\t P9 & Exp391\\_CD8---best\\_cluster\\_3  & -3.3311379 & 0.0006357610 & 88 & 3.19670609 & 0 &                                             Best\\_3  & 2\\\\\n",
       "\t P9 & Exp391\\_CD8---best\\_cluster\\_2  & -3.0762849 & 0.0006357610 & 70 & 3.19670609 & 0 &                                             Best\\_2  & 1\\\\\n",
       "\t P9 & Exp391\\_CD8---best\\_cluster\\_5  & -1.9807686 & 0.0007989574 & 53 & 3.09747636 & 0 &                                             Best\\_5  & 4\\\\\n",
       "\t P9 & Exp391\\_CD8---best\\_cluster\\_9  &  1.3416245 & 0.1320354451 & 31 & 0.87930947 & 0 &                                             Best\\_9  & 8\\\\\n",
       "\t P9 & Exp391\\_CD8---best\\_cluster\\_1  &  1.2580424 & 0.2060706708 & 27 & 0.68598382 & 0 &                                             Best\\_1  & 0\\\\\n",
       "\t P9 & Exp391\\_CD8---best\\_cluster\\_7  &  0.8120938 & 0.8297877817 & 14 & 0.08103296 & 0 &                                             Best\\_7  & 6\\\\\n",
       "\\end{tabular}\n"
      ],
      "text/markdown": [
       "\n",
       "A spec_tbl_df: 10 × 9\n",
       "\n",
       "| comparison &lt;fct&gt; | pathway &lt;chr&gt; | NES &lt;dbl&gt; | padj &lt;dbl&gt; | leadingEdge_signal &lt;dbl&gt; | mlog10padj &lt;dbl&gt; | old_names &lt;dbl&gt; | abbr &lt;fct&gt; | order &lt;dbl&gt; |\n",
       "|---|---|---|---|---|---|---|---|---|\n",
       "| P9 | Exp391_CD8---best_cluster_8  |  2.7986706 | 0.0005493417 | 57 | 3.26015744 | 0 |                                             Best_8  | 7 |\n",
       "| P9 | Exp391_CD8---best_cluster_10 |  2.3313491 | 0.0005493417 | 48 | 3.26015744 | 0 |                                             Best_10 | 9 |\n",
       "| P9 | Exp391_CD8---best_cluster_6  |  2.5972802 | 0.0005493417 | 55 | 3.26015744 | 0 |                                             Best_6  | 5 |\n",
       "| P9 | Exp391_CD8---best_cluster_4  | -2.7613449 | 0.0006357610 | 69 | 3.19670609 | 0 |                                             Best_4  | 3 |\n",
       "| P9 | Exp391_CD8---best_cluster_3  | -3.3311379 | 0.0006357610 | 88 | 3.19670609 | 0 |                                             Best_3  | 2 |\n",
       "| P9 | Exp391_CD8---best_cluster_2  | -3.0762849 | 0.0006357610 | 70 | 3.19670609 | 0 |                                             Best_2  | 1 |\n",
       "| P9 | Exp391_CD8---best_cluster_5  | -1.9807686 | 0.0007989574 | 53 | 3.09747636 | 0 |                                             Best_5  | 4 |\n",
       "| P9 | Exp391_CD8---best_cluster_9  |  1.3416245 | 0.1320354451 | 31 | 0.87930947 | 0 |                                             Best_9  | 8 |\n",
       "| P9 | Exp391_CD8---best_cluster_1  |  1.2580424 | 0.2060706708 | 27 | 0.68598382 | 0 |                                             Best_1  | 0 |\n",
       "| P9 | Exp391_CD8---best_cluster_7  |  0.8120938 | 0.8297877817 | 14 | 0.08103296 | 0 |                                             Best_7  | 6 |\n",
       "\n"
      ],
      "text/plain": [
       "   comparison pathway                      NES        padj        \n",
       "1  P9         Exp391_CD8---best_cluster_8   2.7986706 0.0005493417\n",
       "2  P9         Exp391_CD8---best_cluster_10  2.3313491 0.0005493417\n",
       "3  P9         Exp391_CD8---best_cluster_6   2.5972802 0.0005493417\n",
       "4  P9         Exp391_CD8---best_cluster_4  -2.7613449 0.0006357610\n",
       "5  P9         Exp391_CD8---best_cluster_3  -3.3311379 0.0006357610\n",
       "6  P9         Exp391_CD8---best_cluster_2  -3.0762849 0.0006357610\n",
       "7  P9         Exp391_CD8---best_cluster_5  -1.9807686 0.0007989574\n",
       "8  P9         Exp391_CD8---best_cluster_9   1.3416245 0.1320354451\n",
       "9  P9         Exp391_CD8---best_cluster_1   1.2580424 0.2060706708\n",
       "10 P9         Exp391_CD8---best_cluster_7   0.8120938 0.8297877817\n",
       "   leadingEdge_signal mlog10padj old_names\n",
       "1  57                 3.26015744 0        \n",
       "2  48                 3.26015744 0        \n",
       "3  55                 3.26015744 0        \n",
       "4  69                 3.19670609 0        \n",
       "5  88                 3.19670609 0        \n",
       "6  70                 3.19670609 0        \n",
       "7  53                 3.09747636 0        \n",
       "8  31                 0.87930947 0        \n",
       "9  27                 0.68598382 0        \n",
       "10 14                 0.08103296 0        \n",
       "   abbr                                                order\n",
       "1                                              Best_8  7    \n",
       "2                                              Best_10 9    \n",
       "3                                              Best_6  5    \n",
       "4                                              Best_4  3    \n",
       "5                                              Best_3  2    \n",
       "6                                              Best_2  1    \n",
       "7                                              Best_5  4    \n",
       "8                                              Best_9  8    \n",
       "9                                              Best_1  0    \n",
       "10                                             Best_7  6    "
      ]
     },
     "metadata": {},
     "output_type": "display_data"
    }
   ],
   "source": [
    "df_plot %>% filter(comparison == 'P9')"
   ]
  },
  {
   "cell_type": "code",
   "execution_count": null,
   "metadata": {},
   "outputs": [],
   "source": []
  }
 ],
 "metadata": {
  "kernelspec": {
   "display_name": "R",
   "language": "R",
   "name": "ir"
  },
  "language_info": {
   "codemirror_mode": "r",
   "file_extension": ".r",
   "mimetype": "text/x-r-source",
   "name": "R",
   "pygments_lexer": "r",
   "version": "3.6.3"
  }
 },
 "nbformat": 4,
 "nbformat_minor": 4
}
