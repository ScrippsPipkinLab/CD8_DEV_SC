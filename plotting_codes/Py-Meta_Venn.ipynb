{
 "cells": [
  {
   "cell_type": "code",
   "execution_count": 112,
   "metadata": {},
   "outputs": [],
   "source": [
    "import matplotlib.pyplot as plt\n",
    "from matplotlib_venn import venn2\n",
    "from matplotlib_venn import venn3, venn3_circles\n",
    "import pandas as pd\n",
    "import numpy as np\n",
    "\n",
    "%matplotlib inline"
   ]
  },
  {
   "cell_type": "markdown",
   "metadata": {},
   "source": [
    "## ChIP-seq peak annotated genes\n",
    "- CD4 - Stat3 - IL21 (in vitro)\n",
    "- CD8 - Stat5 - Il2 (in vitro)"
   ]
  },
  {
   "cell_type": "code",
   "execution_count": 2,
   "metadata": {},
   "outputs": [],
   "source": [
    "stat3_cd4_file = '/media/pipkin/Rocket2/T_Cell_ChIP/202012_ChIP/3_peak_annotations/2017_PNAS_Li___STAT3_IL21-CD4_annoDf.csv'\n",
    "stat3_cd4_df = pd.read_csv(stat3_cd4_file, index_col=0)\n",
    "stat3_cd4_genes = set([x for x in stat3_cd4_df['SYMBOL'] if str(x) != 'nan'])\n",
    "\n",
    "stat5_cd8_file = '/media/pipkin/Rocket2/T_Cell_ChIP/202012_ChIP/3_peak_annotations/2017_PNAS_Li___STAT5B_IL2-CD8_annoDf.csv'\n",
    "stat5_cd8_df = pd.read_csv(stat5_cd8_file, index_col=0)\n",
    "stat5_cd8_genes = set([x for x in stat5_cd8_df['SYMBOL'] if str(x) != 'nan'])"
   ]
  },
  {
   "cell_type": "code",
   "execution_count": 3,
   "metadata": {},
   "outputs": [
    {
     "data": {
      "text/plain": [
       "<matplotlib_venn._common.VennDiagram at 0x7fe7f7eb8e50>"
      ]
     },
     "execution_count": 3,
     "metadata": {},
     "output_type": "execute_result"
    },
    {
     "data": {
      "image/png": "[encoded data removed]",
      "text/plain": [
       "<Figure size 432x288 with 1 Axes>"
      ]
     },
     "metadata": {},
     "output_type": "display_data"
    }
   ],
   "source": [
    "venn2([stat3_cd4_genes, stat5_cd8_genes])"
   ]
  },
  {
   "cell_type": "code",
   "execution_count": 133,
   "metadata": {},
   "outputs": [],
   "source": [
    "il2_48h_file = '/media/pipkin/ROCKET-PRO/CD8_DEV_SC/2_IL2RAKO_Nascent/3_DEseq2/WT_48h_vs_KO_48h.csv'\n",
    "il2_48h_df = pd.read_csv(il2_48h_file, index_col=0)\n",
    "il2_48h_df_sig = il2_48h_df[il2_48h_df['padj'] < 0.05]\n",
    "il2_48h_promoted = set(il2_48h_df_sig[il2_48h_df_sig['log2FoldChange'] > 0].index.tolist())\n",
    "il2_48h_repressed = set(il2_48h_df_sig[il2_48h_df_sig['log2FoldChange'] < 0].index.tolist())"
   ]
  },
  {
   "cell_type": "markdown",
   "metadata": {},
   "source": [
    "## IL2-Stat5 promoted / repressed genes"
   ]
  },
  {
   "cell_type": "code",
   "execution_count": 5,
   "metadata": {},
   "outputs": [],
   "source": [
    "il2_stat5_repressed_file = '/media/pipkin/ROCKET-PRO/CD8_DEV_SC/9_Figures/9_Meta/Il2-stat5_direct_repressed.csv'\n",
    "il2_stat5_promoted_file = '/media/pipkin/ROCKET-PRO/CD8_DEV_SC/9_Figures/9_Meta/Il2-stat5_direct_promoted.csv'\n",
    "\n",
    "il2_stat5_repressed_df = pd.read_csv(il2_stat5_repressed_file, index_col=0)\n",
    "il2_stat5_promoted_df = pd.read_csv(il2_stat5_promoted_file, index_col=0)\n",
    "\n",
    "il2_stat5_repressed = set([x for x in il2_stat5_repressed_df['gene_name'] if str(x) != 'nan'])\n",
    "il2_stat5_promoted = set([x for x in il2_stat5_promoted_df['gene_name'] if str(x) != 'nan'])"
   ]
  },
  {
   "cell_type": "markdown",
   "metadata": {},
   "source": [
    "## Arm v.s. Cl13 all up / down regulated\n",
    "- Arm uprgulated & promoted by IL2-Stat5\n",
    "- Cl13 upregulated & repressed by IL2-Stat5"
   ]
  },
  {
   "cell_type": "code",
   "execution_count": 6,
   "metadata": {},
   "outputs": [
    {
     "name": "stderr",
     "output_type": "stream",
     "text": [
      "<ipython-input-6-813462d7c12d>:4: UserWarning: Boolean Series key will be reindexed to match DataFrame index.\n",
      "  a_genes = set(avc_df_sig[avc_df['t-test_logfc'] > 0]['gene_names'].tolist())\n",
      "<ipython-input-6-813462d7c12d>:5: UserWarning: Boolean Series key will be reindexed to match DataFrame index.\n",
      "  c_genes = set(avc_df_sig[avc_df['t-test_logfc'] < 0]['gene_names'].tolist())\n"
     ]
    }
   ],
   "source": [
    "avc_file = '/media/pipkin/ROCKET-PRO/CD8_DEV_SC/0_Acute-Chronic/1_Scanpy/0_Scanpy_out_resampled/2_DE/Arm_vs_Cl13/A/A_vs_C_differential.csv'\n",
    "avc_df = pd.read_csv(avc_file)\n",
    "avc_df_sig = avc_df[avc_df['t-test_padj'] <= 0.05]\n",
    "a_genes = set(avc_df_sig[avc_df['t-test_logfc'] > 0]['gene_names'].tolist())\n",
    "c_genes = set(avc_df_sig[avc_df['t-test_logfc'] < 0]['gene_names'].tolist())\n",
    "\n",
    "il2_stat5_promoted_a_genes = il2_stat5_promoted & a_genes\n",
    "il2_stat5_repressed_c_genes = il2_stat5_repressed & c_genes"
   ]
  },
  {
   "cell_type": "markdown",
   "metadata": {},
   "source": [
    "## Type I Interferon regulated genes from GO terms"
   ]
  },
  {
   "cell_type": "code",
   "execution_count": 8,
   "metadata": {},
   "outputs": [
    {
     "data": {
      "text/plain": [
       "{'Adar',\n",
       " 'Cactin',\n",
       " 'Cdc37',\n",
       " 'Cnot7',\n",
       " 'Dcst1',\n",
       " 'Fadd',\n",
       " 'Gm45717',\n",
       " 'Hsp84-2',\n",
       " 'Ifitm1',\n",
       " 'Ifitm2',\n",
       " 'Ifitm3',\n",
       " 'Ifitm6',\n",
       " 'Ifitm7',\n",
       " 'Ifna1',\n",
       " 'Ifnar1',\n",
       " 'Ifnar2',\n",
       " 'Ifnb1',\n",
       " 'Ikbke',\n",
       " 'Irak1',\n",
       " 'Irf3',\n",
       " 'Irf7',\n",
       " 'Isg15',\n",
       " 'Lsm14a',\n",
       " 'Mavs',\n",
       " 'Mettl3',\n",
       " 'Mmp12',\n",
       " 'Mul1',\n",
       " 'Myd88',\n",
       " 'Nlrc5',\n",
       " 'Oas2',\n",
       " 'Oas3',\n",
       " 'Ptpn2',\n",
       " 'Samhd1',\n",
       " 'Setd2',\n",
       " 'Shfl',\n",
       " 'Shmt2',\n",
       " 'Smpd1',\n",
       " 'Stat1',\n",
       " 'Stat2',\n",
       " 'Tbk1',\n",
       " 'Trex1',\n",
       " 'Trim56',\n",
       " 'Trim6',\n",
       " 'Ttll12',\n",
       " 'Ube2k',\n",
       " 'Usp18',\n",
       " 'Wnt5a',\n",
       " 'Ythdf2',\n",
       " 'Ythdf3',\n",
       " 'Zbp1'}"
      ]
     },
     "execution_count": 8,
     "metadata": {},
     "output_type": "execute_result"
    }
   ],
   "source": [
    "go_type1_ifn_file1 = '/media/pipkin/ROCKET-PRO/CD8_DEV_SC/9_Figures/9_Meta/GO_term_0034340.txt'\n",
    "go_type1_ifn_file2 = '/media/pipkin/ROCKET-PRO/CD8_DEV_SC/9_Figures/9_Meta/GO_term_0060337.txt'\n",
    "go_type1_ifn_df1 = pd.read_csv(go_type1_ifn_file1, sep='\\t')\n",
    "go_type1_ifn_df2 = pd.read_csv(go_type1_ifn_file2, sep='\\t')\n",
    "type1_ifn_genes = go_type1_ifn_df1.iloc[:, 0].tolist() + go_type1_ifn_df2.iloc[:, 0].tolist()\n",
    "type1_ifn_genes = set(type1_ifn_genes)\n",
    "type1_ifn_genes"
   ]
  },
  {
   "cell_type": "markdown",
   "metadata": {},
   "source": [
    "## Stat3 binding genes & Il2-stat5 promoted overlap"
   ]
  },
  {
   "cell_type": "code",
   "execution_count": 9,
   "metadata": {
    "scrolled": true
   },
   "outputs": [
    {
     "data": {
      "text/plain": [
       "<matplotlib_venn._common.VennDiagram at 0x7fe7f5da1e20>"
      ]
     },
     "execution_count": 9,
     "metadata": {},
     "output_type": "execute_result"
    },
    {
     "data": {
      "image/png": "[encoded data removed]",
      "text/plain": [
       "<Figure size 432x288 with 1 Axes>"
      ]
     },
     "metadata": {},
     "output_type": "display_data"
    }
   ],
   "source": [
    "venn2([stat3_cd4_genes, il2_stat5_promoted])"
   ]
  },
  {
   "cell_type": "markdown",
   "metadata": {},
   "source": [
    "## Stat3 binding genes & Il2-stat5 repressed overlap"
   ]
  },
  {
   "cell_type": "code",
   "execution_count": 7,
   "metadata": {},
   "outputs": [
    {
     "data": {
      "text/plain": [
       "<matplotlib_venn._common.VennDiagram at 0x7fbaf39b5e20>"
      ]
     },
     "execution_count": 7,
     "metadata": {},
     "output_type": "execute_result"
    },
    {
     "data": {
      "image/png": "[encoded data removed]",
      "text/plain": [
       "<Figure size 432x288 with 1 Axes>"
      ]
     },
     "metadata": {},
     "output_type": "display_data"
    }
   ],
   "source": [
    "venn2([stat3_cd4_genes, il2_stat5_repressed])"
   ]
  },
  {
   "cell_type": "markdown",
   "metadata": {},
   "source": [
    "## Stat3 binding genes & Il2-stat5 promoted in Arm overlap"
   ]
  },
  {
   "cell_type": "code",
   "execution_count": 10,
   "metadata": {},
   "outputs": [
    {
     "name": "stdout",
     "output_type": "stream",
     "text": [
      "Il2 stat5 promoted in Arm & Stat3 binding Overlap:\n",
      "{'Eps8', 'Wwp1', 'Il7r', 'Slc4a7', 'Chd7', 'Dpy19l3', 'Tgfbr3', 'Znrf2', 'Slco3a1', 'Spef2', 'Treml2', 'Rap1gds1', 'Atp11b', 'Crim1', 'Ccr5', 'Batf3', 'Diaph1', 'Atp2b4', 'Gng12', 'Gzmb', 'Slc2a3', 'Rgs1', 'F2rl2', 'Klf7'}\n",
      "----------\n",
      "Il2 stat5 promoted in Arm but not Stat3 binding:\n",
      "{'Lamc1', 'Ctla2a', 'Emilin2', 'Fnip1', 'Pde7a', 'Acsl4', 'Nedd4l', 'Tmem108', 'Notch2', 'Rhoq', 'Dipk2a', 'Ankib1', 'Rev3l', 'Tle1', 'Golim4'}\n"
     ]
    },
    {
     "data": {
      "image/png": "[encoded data removed]",
      "text/plain": [
       "<Figure size 432x288 with 1 Axes>"
      ]
     },
     "metadata": {},
     "output_type": "display_data"
    }
   ],
   "source": [
    "venn2([stat3_cd4_genes, il2_stat5_promoted_a_genes])\n",
    "print(\"Il2 stat5 promoted in Arm & Stat3 binding Overlap:\")\n",
    "print(stat3_cd4_genes & il2_stat5_promoted_a_genes)\n",
    "print(\"----------\")\n",
    "print(\"Il2 stat5 promoted in Arm but not Stat3 binding:\")\n",
    "print(il2_stat5_promoted_a_genes - stat3_cd4_genes)"
   ]
  },
  {
   "cell_type": "markdown",
   "metadata": {},
   "source": [
    "## Stat3 binding genes & Il2-stat5 repressed in Cl13 overlap"
   ]
  },
  {
   "cell_type": "code",
   "execution_count": 11,
   "metadata": {},
   "outputs": [
    {
     "name": "stdout",
     "output_type": "stream",
     "text": [
      "Il2 stat5 repressed and highly expressed in Cl13 & Stat3 binding Overlap:\n",
      "{'Bcl6', 'Traf1', 'Tnfsf8', 'Ifit3b', 'Id3', 'Irf9', 'Bcl3', 'Ifit3', 'Gbp4', 'Adora2a', 'Serpinb9', 'Il6st', 'Ppp1r16b', 'Myo1e', 'Ifi213', 'Slamf6', 'Slfn2', 'Gpr18', 'Tox2', 'Bcl2l11', 'Ttc39b'}\n",
      "----------\n",
      "Il2 stat5 repressed and highly expressed in Cl13 but not Stat3 binding:\n",
      "{'Gfod1', 'Rasgef1b', 'Nrip1', 'Atg16l2', 'Frmd4a', 'Tnfsf11', 'Atp9a', 'Mcoln2', 'Pou2f2', 'Wars'}\n"
     ]
    },
    {
     "data": {
      "image/png": "[encoded data removed]",
      "text/plain": [
       "<Figure size 432x288 with 1 Axes>"
      ]
     },
     "metadata": {},
     "output_type": "display_data"
    }
   ],
   "source": [
    "venn2([stat3_cd4_genes, il2_stat5_repressed_c_genes])\n",
    "print(\"Il2 stat5 repressed and highly expressed in Cl13 & Stat3 binding Overlap:\")\n",
    "print(stat3_cd4_genes & il2_stat5_repressed_c_genes)\n",
    "print(\"----------\")\n",
    "print(\"Il2 stat5 repressed and highly expressed in Cl13 but not Stat3 binding:\")\n",
    "print(il2_stat5_repressed_c_genes - stat3_cd4_genes)"
   ]
  },
  {
   "cell_type": "markdown",
   "metadata": {},
   "source": [
    "## Type1 interferon related genes & Il2-stat5 promoted overlap"
   ]
  },
  {
   "cell_type": "code",
   "execution_count": 12,
   "metadata": {
    "scrolled": true
   },
   "outputs": [
    {
     "data": {
      "text/plain": [
       "<matplotlib_venn._common.VennDiagram at 0x7fe7f5b28760>"
      ]
     },
     "execution_count": 12,
     "metadata": {},
     "output_type": "execute_result"
    },
    {
     "data": {
      "image/png": "[encoded data removed]",
      "text/plain": [
       "<Figure size 432x288 with 1 Axes>"
      ]
     },
     "metadata": {},
     "output_type": "display_data"
    }
   ],
   "source": [
    "venn2([type1_ifn_genes, il2_stat5_promoted])"
   ]
  },
  {
   "cell_type": "markdown",
   "metadata": {},
   "source": [
    "## Type1 interferon related genes & Il2-stat5 repressed overlap"
   ]
  },
  {
   "cell_type": "code",
   "execution_count": 13,
   "metadata": {},
   "outputs": [
    {
     "data": {
      "text/plain": [
       "<matplotlib_venn._common.VennDiagram at 0x7fe7f5aecd90>"
      ]
     },
     "execution_count": 13,
     "metadata": {},
     "output_type": "execute_result"
    },
    {
     "data": {
      "image/png": "[encoded data removed]",
      "text/plain": [
       "<Figure size 432x288 with 1 Axes>"
      ]
     },
     "metadata": {},
     "output_type": "display_data"
    }
   ],
   "source": [
    "venn2([type1_ifn_genes, il2_stat5_repressed])"
   ]
  },
  {
   "cell_type": "markdown",
   "metadata": {},
   "source": [
    "### To do\n",
    "*Tstem Cl13 > Arm genes -- IL2 repressed -- Stat3 binding*"
   ]
  },
  {
   "cell_type": "code",
   "execution_count": 14,
   "metadata": {},
   "outputs": [],
   "source": [
    "tstem_cl13_arm = '/media/pipkin/ROCKET-PRO/CD8_DEV_SC/0_Acute-Chronic/1_Scanpy/0_Scanpy_out_resampled/2_DE/perCluster_Arm_vs_Cl13/P7/A/A_vs_C_differential.csv'\n",
    "tstem_cl13_arm_df = pd.read_csv(tstem_cl13_arm)"
   ]
  },
  {
   "cell_type": "code",
   "execution_count": 43,
   "metadata": {},
   "outputs": [],
   "source": [
    "tstem_cl13_arm_df_sig = tstem_cl13_arm_df[tstem_cl13_arm_df['t-test_padj'] <= 0.3]\n",
    "tstem_cl13_genes = tstem_cl13_arm_df_sig[tstem_cl13_arm_df_sig['t-test_logfc'] <  0]['gene_names'].tolist()\n",
    "tstem_cl13_genes = set(tstem_cl13_genes)\n",
    "tstem_arm_genes = tstem_cl13_arm_df_sig[tstem_cl13_arm_df_sig['t-test_logfc'] >  0]['gene_names'].tolist()\n",
    "tstem_arm_genes = set(tstem_arm_genes)"
   ]
  },
  {
   "cell_type": "code",
   "execution_count": 228,
   "metadata": {},
   "outputs": [
    {
     "data": {
      "text/plain": [
       "{'Adora2a',\n",
       " 'Bcl2l11',\n",
       " 'Bcl6',\n",
       " 'Id3',\n",
       " 'Ifit3',\n",
       " 'Myo1e',\n",
       " 'Pou2f2',\n",
       " 'Serpinb9',\n",
       " 'Slamf6',\n",
       " 'Tnfsf8',\n",
       " 'Tox2'}"
      ]
     },
     "execution_count": 228,
     "metadata": {},
     "output_type": "execute_result"
    }
   ],
   "source": [
    "tstem_cl13_il2_repressed = tstem_cl13_genes  & il2_stat5_repressed\n",
    "tstem_cl13_il2_repressed"
   ]
  },
  {
   "cell_type": "code",
   "execution_count": 45,
   "metadata": {},
   "outputs": [
    {
     "data": {
      "text/plain": [
       "{'Adora2a',\n",
       " 'Bcl2l11',\n",
       " 'Bcl6',\n",
       " 'Id3',\n",
       " 'Ifit3',\n",
       " 'Myo1e',\n",
       " 'Serpinb9',\n",
       " 'Slamf6',\n",
       " 'Tnfsf8',\n",
       " 'Tox2'}"
      ]
     },
     "execution_count": 45,
     "metadata": {},
     "output_type": "execute_result"
    }
   ],
   "source": [
    "tstem_cl13_il2_repressed & stat3_cd4_genes"
   ]
  },
  {
   "cell_type": "markdown",
   "metadata": {},
   "source": [
    "## EMP Il-2 stat5 promoted genes -- Arm versus Cl13"
   ]
  },
  {
   "cell_type": "code",
   "execution_count": 246,
   "metadata": {},
   "outputs": [],
   "source": [
    "emp_cl13_arm = '/media/pipkin/ROCKET-PRO/CD8_DEV_SC/0_Acute-Chronic/1_Scanpy/0_Scanpy_out_resampled/2_DE/perTimepoint_Arm_vs_Cl13/D5/A/A_vs_C_differential.csv'\n",
    "emp_cl13_arm_df = pd.read_csv(emp_cl13_arm)"
   ]
  },
  {
   "cell_type": "code",
   "execution_count": 247,
   "metadata": {},
   "outputs": [],
   "source": [
    "emp_cl13_arm_df_sig = emp_cl13_arm_df[emp_cl13_arm_df['t-test_padj'] <= 0.3]\n",
    "emp_cl13_genes = emp_cl13_arm_df_sig[emp_cl13_arm_df_sig['t-test_logfc'] <  0]['gene_names'].tolist()\n",
    "emp_cl13_genes = set(emp_cl13_genes)\n",
    "emp_arm_genes = emp_cl13_arm_df_sig[emp_cl13_arm_df_sig['t-test_logfc'] >  0]['gene_names'].tolist()\n",
    "emp_arm_genes = set(emp_arm_genes)"
   ]
  },
  {
   "cell_type": "code",
   "execution_count": 250,
   "metadata": {},
   "outputs": [
    {
     "data": {
      "text/plain": [
       "70"
      ]
     },
     "execution_count": 250,
     "metadata": {},
     "output_type": "execute_result"
    }
   ],
   "source": [
    "emp_arm_il2_promoted = emp_arm_genes  & il2_stat5_promoted\n",
    "len(emp_arm_il2_promoted)"
   ]
  },
  {
   "cell_type": "code",
   "execution_count": 251,
   "metadata": {},
   "outputs": [
    {
     "data": {
      "text/plain": [
       "40"
      ]
     },
     "execution_count": 251,
     "metadata": {},
     "output_type": "execute_result"
    }
   ],
   "source": [
    "len(emp_arm_il2_promoted & stat3_cd4_genes)"
   ]
  },
  {
   "cell_type": "code",
   "execution_count": 255,
   "metadata": {},
   "outputs": [
    {
     "data": {
      "text/plain": [
       "32"
      ]
     },
     "execution_count": 255,
     "metadata": {},
     "output_type": "execute_result"
    }
   ],
   "source": [
    "emp_cl13_il2_repressed = emp_cl13_genes  & il2_stat5_repressed\n",
    "len(emp_cl13_il2_repressed)"
   ]
  },
  {
   "cell_type": "code",
   "execution_count": 257,
   "metadata": {},
   "outputs": [
    {
     "data": {
      "text/plain": [
       "23"
      ]
     },
     "execution_count": 257,
     "metadata": {},
     "output_type": "execute_result"
    }
   ],
   "source": [
    "len(emp_cl13_il2_repressed & stat3_cd4_genes)"
   ]
  },
  {
   "cell_type": "markdown",
   "metadata": {},
   "source": [
    "## Stat3 Cd4"
   ]
  },
  {
   "cell_type": "code",
   "execution_count": 46,
   "metadata": {},
   "outputs": [
    {
     "data": {
      "text/plain": [
       "<matplotlib_venn._common.VennDiagram at 0x7fe7f577ce80>"
      ]
     },
     "execution_count": 46,
     "metadata": {},
     "output_type": "execute_result"
    },
    {
     "data": {
      "image/png": "[encoded data removed]",
      "text/plain": [
       "<Figure size 432x288 with 1 Axes>"
      ]
     },
     "metadata": {},
     "output_type": "display_data"
    }
   ],
   "source": [
    "venn2([tstem_cl13_genes, stat3_cd4_genes])"
   ]
  },
  {
   "cell_type": "code",
   "execution_count": 47,
   "metadata": {},
   "outputs": [
    {
     "data": {
      "text/plain": [
       "<matplotlib_venn._common.VennDiagram at 0x7fe7f56db670>"
      ]
     },
     "execution_count": 47,
     "metadata": {},
     "output_type": "execute_result"
    },
    {
     "data": {
      "image/png": "[encoded data removed]",
      "text/plain": [
       "<Figure size 432x288 with 1 Axes>"
      ]
     },
     "metadata": {},
     "output_type": "display_data"
    }
   ],
   "source": [
    "venn2([tstem_arm_genes, stat3_cd4_genes])"
   ]
  },
  {
   "cell_type": "markdown",
   "metadata": {},
   "source": [
    "## P2 -> P7 Arm / Cl13 upregulated genes"
   ]
  },
  {
   "cell_type": "code",
   "execution_count": 160,
   "metadata": {},
   "outputs": [],
   "source": [
    "arm_p7_p2_file = '/media/pipkin/ROCKET-PRO/CD8_DEV_SC/0_Acute-Chronic/1_Scanpy/1_Scanpy_out_resampled_ARM-NAV/2_DE/Cluster_vs_Cluster/P7/P7_vs_P2_differential.csv'\n",
    "cl13_p7_p2_file = '/media/pipkin/ROCKET-PRO/CD8_DEV_SC/0_Acute-Chronic/1_Scanpy/1_Scanpy_out_resampled_Cl13-NAV/2_DE/Cluster_vs_Cluster/P7/P7_vs_P2_differential.csv'\n",
    "arm_p7_p2_df = pd.read_csv(arm_p7_p2_file)\n",
    "cl13_p7_p2_df = pd.read_csv(cl13_p7_p2_file)"
   ]
  },
  {
   "cell_type": "code",
   "execution_count": 194,
   "metadata": {},
   "outputs": [],
   "source": [
    "arm_p7_p2_sig_df = arm_p7_p2_df[arm_p7_p2_df['t-test_overestim_var_padj'] < 0.05]\n",
    "cl13_p7_p2_sig_df = cl13_p7_p2_df[cl13_p7_p2_df['t-test_overestim_var_padj'] < 0.05]\n",
    "arm_p7_p2_up = set(arm_p7_p2_sig_df[arm_p7_p2_sig_df['t-test_logfc'] > 1]['gene_names'].tolist())\n",
    "cl13_p7_p2_up = set(cl13_p7_p2_sig_df[cl13_p7_p2_sig_df['t-test_logfc'] > 1]['gene_names'].tolist())\n",
    "arm_p7_p2_dn = set(arm_p7_p2_sig_df[arm_p7_p2_sig_df['t-test_logfc'] < -1]['gene_names'].tolist())\n",
    "cl13_p7_p2_dn = set(cl13_p7_p2_sig_df[cl13_p7_p2_sig_df['t-test_logfc'] < -1]['gene_names'].tolist())"
   ]
  },
  {
   "cell_type": "code",
   "execution_count": 224,
   "metadata": {},
   "outputs": [
    {
     "data": {
      "text/plain": [
       "<matplotlib_venn._common.VennDiagram at 0x7fe7f41bf040>"
      ]
     },
     "execution_count": 224,
     "metadata": {},
     "output_type": "execute_result"
    },
    {
     "data": {
      "image/png": "[encoded data removed]",
      "text/plain": [
       "<Figure size 432x288 with 1 Axes>"
      ]
     },
     "metadata": {},
     "output_type": "display_data"
    }
   ],
   "source": [
    "venn2([arm_p7_p2_dn, stat3_cd4_genes])"
   ]
  },
  {
   "cell_type": "code",
   "execution_count": 225,
   "metadata": {},
   "outputs": [
    {
     "data": {
      "text/plain": [
       "<matplotlib_venn._common.VennDiagram at 0x7fe7f3d534c0>"
      ]
     },
     "execution_count": 225,
     "metadata": {},
     "output_type": "execute_result"
    },
    {
     "data": {
      "image/png": "[encoded data removed]",
      "text/plain": [
       "<Figure size 432x288 with 1 Axes>"
      ]
     },
     "metadata": {},
     "output_type": "display_data"
    }
   ],
   "source": [
    "venn2([arm_p7_p2_up, stat3_cd4_genes])"
   ]
  },
  {
   "cell_type": "code",
   "execution_count": 213,
   "metadata": {},
   "outputs": [
    {
     "data": {
      "text/plain": [
       "<matplotlib_venn._common.VennDiagram at 0x7fe7f37e3940>"
      ]
     },
     "execution_count": 213,
     "metadata": {},
     "output_type": "execute_result"
    },
    {
     "data": {
      "image/png": "[encoded data removed]",
      "text/plain": [
       "<Figure size 432x288 with 1 Axes>"
      ]
     },
     "metadata": {},
     "output_type": "display_data"
    }
   ],
   "source": [
    "venn2([cl13_p7_p2_dn, stat3_cd4_genes])"
   ]
  },
  {
   "cell_type": "code",
   "execution_count": 214,
   "metadata": {},
   "outputs": [
    {
     "data": {
      "text/plain": [
       "<matplotlib_venn._common.VennDiagram at 0x7fe7f37b7f70>"
      ]
     },
     "execution_count": 214,
     "metadata": {},
     "output_type": "execute_result"
    },
    {
     "data": {
      "image/png": "[encoded data removed]",
      "text/plain": [
       "<Figure size 432x288 with 1 Axes>"
      ]
     },
     "metadata": {},
     "output_type": "display_data"
    }
   ],
   "source": [
    "venn2([cl13_p7_p2_up, stat3_cd4_genes])"
   ]
  },
  {
   "cell_type": "code",
   "execution_count": null,
   "metadata": {},
   "outputs": [],
   "source": []
  },
  {
   "cell_type": "code",
   "execution_count": null,
   "metadata": {},
   "outputs": [],
   "source": []
  },
  {
   "cell_type": "code",
   "execution_count": null,
   "metadata": {},
   "outputs": [],
   "source": []
  }
 ],
 "metadata": {
  "kernelspec": {
   "display_name": "Python 3",
   "language": "python",
   "name": "python3"
  },
  "language_info": {
   "codemirror_mode": {
    "name": "ipython",
    "version": 3
   },
   "file_extension": ".py",
   "mimetype": "text/x-python",
   "name": "python",
   "nbconvert_exporter": "python",
   "pygments_lexer": "ipython3",
   "version": "3.8.3"
  }
 },
 "nbformat": 4,
 "nbformat_minor": 4
}
