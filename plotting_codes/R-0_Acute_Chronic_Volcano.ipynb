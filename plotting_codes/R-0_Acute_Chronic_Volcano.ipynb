{
 "cells": [
  {
   "cell_type": "code",
   "execution_count": 1,
   "metadata": {},
   "outputs": [],
   "source": [
    "volcano_plot <- function(comp_df, h_genes, log2fc_c, nlog10p_c) {\n",
    "    #--- Assign categories for plotting\n",
    "    volcano_df <- comp_df %>% mutate(highlight = ifelse(gene_name %in% h_genes, \"yes\", \"no\")) %>%\n",
    "        mutate(log2fc_sig = ifelse(abs(log2fc) >= log2fc_c, TRUE, FALSE)) %>%\n",
    "        mutate(pval_sig = ifelse(nlog10pval >= nlog10p_c, TRUE, FALSE)) %>% \n",
    "        mutate(both_sig = ifelse(log2fc_sig & pval_sig, TRUE, FALSE)) %>%\n",
    "        mutate(category = ifelse(log2fc > 0, \"G1\", \"G2\")) %>%\n",
    "        unite(new_cat, c(highlight, both_sig, category), remove = FALSE)\n",
    "    \n",
    "    volcano_df$new_cat <- mapvalues(volcano_df$new_cat, from=c(\"yes_FALSE_G1\", \"yes_FALSE_G2\", \"yes_TRUE_G1\", \"yes_TRUE_G2\",\n",
    "                                                     \"no_FALSE_G1\", \"no_FALSE_G2\", \"no_TRUE_G1\", \"no_TRUE_G2\"), \n",
    "                             to=c(\"HL_nonesig\", \"HL_nonesig\", \"HL_G1\", \"HL_G2\",\n",
    "                                  \"noHL_nonesig\",  \"noHL_nonesig\",  \"HL_G1\", \"HL_G2\"))\n",
    "    h_df <- volcano_df %>% filter(new_cat != \"noHL_nonesig\")\n",
    "    \n",
    "    #--- Plotting\n",
    "    ggplot(volcano_df, aes(alpha=factor(new_cat), size=factor(new_cat), color=factor(new_cat))) +\n",
    "      geom_point(aes(x=log2fc, y=nlog10pval)) +\n",
    "      scale_alpha_manual(values = c(\"HL_nonesig\"=0.8, \"HL_G1\"=0.8, \"HL_G2\"=0.8, \"noHL_nonesig\"=0.5), guide = 'none') +\n",
    "      scale_size_manual(values = c(\"HL_nonesig\"=2, \"HL_G1\"=2, \"HL_G2\"=2, \"noHL_nonesig\"=1), guide = 'none') +\n",
    "      scale_color_manual(values = c(\"HL_nonesig\"=\"black\", \"HL_G1\"=\"firebrick3\", \"HL_G2\"=\"dodgerblue2\", \"noHL_nonesig\"=\"grey\"), guide = 'none') +\n",
    "      geom_vline(xintercept=0) +\n",
    "      geom_hline(yintercept=0) +\n",
    "      geom_text_repel(data=h_df, size=7.5, aes(x=log2fc, y=nlog10pval, label=gene_name)) +\n",
    "      theme(plot.title = element_text(hjust = 0.5),\n",
    "            panel.grid.major = element_line(color=\"gray25\", size=0.2),\n",
    "            panel.grid.minor = element_line(color=\"gray25\", size=0.1),\n",
    "            panel.background = element_rect(fill = 'white', colour = 'white')) +\n",
    "      ggtitle(\"G1 v.s. G2 \\n Differential gene expression\") \n",
    "}"
   ]
  },
  {
   "cell_type": "code",
   "execution_count": null,
   "metadata": {},
   "outputs": [],
   "source": []
  }
 ],
 "metadata": {
  "kernelspec": {
   "display_name": "R",
   "language": "R",
   "name": "ir"
  },
  "language_info": {
   "codemirror_mode": "r",
   "file_extension": ".r",
   "mimetype": "text/x-r-source",
   "name": "R",
   "pygments_lexer": "r",
   "version": "3.6.3"
  }
 },
 "nbformat": 4,
 "nbformat_minor": 4
}
