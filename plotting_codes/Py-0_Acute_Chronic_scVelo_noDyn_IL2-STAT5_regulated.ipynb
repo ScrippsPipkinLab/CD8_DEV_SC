{
 "cells": [
  {
   "cell_type": "code",
   "execution_count": 1,
   "metadata": {},
   "outputs": [
    {
     "data": {
      "text/html": [
       "<style>.container { width:90% !important; }</style>"
      ],
      "text/plain": [
       "<IPython.core.display.HTML object>"
      ]
     },
     "metadata": {},
     "output_type": "display_data"
    },
    {
     "name": "stdout",
     "output_type": "stream",
     "text": [
      "Running scvelo 0.2.2 (python 3.8.3) on 2021-02-12 16:53.\n"
     ]
    }
   ],
   "source": [
    "import os\n",
    "import pandas as pd\n",
    "import numpy as np\n",
    "import matplotlib.pyplot as plt\n",
    "import copy\n",
    "import sys\n",
    "from importlib import reload\n",
    "from pathlib import Path\n",
    "import scanpy as sc\n",
    "from pylab import rcParams\n",
    "from matplotlib.patches import Patch\n",
    "import re\n",
    "import seaborn as sns\n",
    "import glob\n",
    "\n",
    "from IPython.core.display import display, HTML\n",
    "display(HTML(\"<style>.container { width:90% !important; }</style>\"))\n",
    "\n",
    "import scvelo as scv\n",
    "scv.logging.print_version()\n",
    "\n",
    "\n",
    "scv.settings.verbosity = 3  # show errors(0), warnings(1), info(2), hints(3)\n",
    "scv.settings.set_figure_params('scvelo')  # for beautified visualization\n",
    "\n",
    "%matplotlib inline"
   ]
  },
  {
   "cell_type": "code",
   "execution_count": 2,
   "metadata": {},
   "outputs": [],
   "source": [
    "def adata_louvain_name_convert(inputAdata, orderDf, louvainNewOrdered, louvainOldOrdered):\n",
    "    inputAdata.obs[\"louvain_celltype\"] = [\"%s_%s\"%(x,y) for index, (x,y) in enumerate(zip(inputAdata.obs['louvain'], inputAdata.obs['cell_type']))]\n",
    "    inputAdata.obs[\"celltype_general\"] = [x[0] for x in inputAdata.obs['cell_type']]\n",
    "    \n",
    "    #--- Match old & new louvain levels\n",
    "    inputAdata.obs['louvain_old'] = inputAdata.obs['louvain']\n",
    "    inputAdata.uns['louvain_old_colors'] = inputAdata.uns['louvain_colors']\n",
    "    inputAdata.obs['louvain'] = [ louvainNewOrdered[louvainOldOrdered.index(int(x))] for x in inputAdata.obs['louvain'] ]\n",
    "    category_order = orderDf.sort_values('louvain')['louvain_new_label'].tolist()\n",
    "    category_order = [x for x in category_order if x in np.unique(inputAdata.obs['louvain'])]\n",
    "    inputAdata.obs['louvain'] = pd.Categorical(inputAdata.obs['louvain'].tolist(), categories=category_order) # The key is to set categories according to original order...\n",
    "\n",
    "    inputAdata.obs['Infection type'] = [ 'Armstrong' if 'A' in x else 'Clone13' if 'C' in x else 'Naive' for x in inputAdata.obs['cell_type']]\n",
    "    inputAdata.obs['cell_id'] = inputAdata.obs.index.tolist()"
   ]
  },
  {
   "cell_type": "code",
   "execution_count": 3,
   "metadata": {},
   "outputs": [
    {
     "name": "stdout",
     "output_type": "stream",
     "text": [
      "Start\n"
     ]
    }
   ],
   "source": [
    "###----- Get dir & load / reload packages\n",
    "try:\n",
    "    code_dir\n",
    "except NameError:\n",
    "    print(\"Start\")\n",
    "    code_dir = os.getcwd()\n",
    "    base_dir = code_dir.replace(\"/plotting_codes\",\"\")\n",
    "    tools_dir = base_dir + \"/tools\"\n",
    "\n",
    "    sys.path.insert(1, tools_dir)\n",
    "    import sc_addons\n",
    "    import sc_pl_addons\n",
    "else:\n",
    "    print(\"Reload\")\n",
    "    reload(sc_addons)\n",
    "    reload(sc_pl_addons)"
   ]
  },
  {
   "cell_type": "code",
   "execution_count": 4,
   "metadata": {},
   "outputs": [
    {
     "name": "stdout",
     "output_type": "stream",
     "text": [
      "0_Acute-Chronic\n"
     ]
    }
   ],
   "source": [
    "## ----- Setup working dir\n",
    "sp_name = \"0_Acute-Chronic\"\n",
    "analysis_name = [\"0\", \"resampled\"] \n",
    "\n",
    "wk_dir = base_dir + \"/9_Figures/%s/%s_%s/scVelo\"%(sp_name, analysis_name[0], analysis_name[1])\n",
    "Path(wk_dir).mkdir(parents=True, exist_ok=True)\n",
    "os.chdir(wk_dir)\n",
    "\n",
    "print(sp_name)"
   ]
  },
  {
   "cell_type": "code",
   "execution_count": 5,
   "metadata": {},
   "outputs": [],
   "source": [
    "###----- old - new cluster names\n",
    "order_file ='%s/%s/2_scVelo'%(base_dir, sp_name) + '/%s_scVelo_out_%sNoDyn/pt_ordered_cluster_avg.csv'%(analysis_name[0], analysis_name[1])\n",
    "order_df = pd.read_csv(order_file)\n",
    "louvain_new_ordered = order_df['louvain_new_label'].tolist()\n",
    "louvain_old_ordered = order_df['louvain'].tolist()"
   ]
  },
  {
   "cell_type": "code",
   "execution_count": 6,
   "metadata": {},
   "outputs": [],
   "source": [
    "resampled_h5ad = '/media/pipkin/ROCKET-PRO/CD8_DEV_SC/0_Acute-Chronic/2_scVelo/0_scVelo_out_resampledNoDyn/0_Acute-Chronic_scVelo_postPT.h5ad'\n",
    "adata = scv.read(resampled_h5ad)\n",
    "\n",
    "act_h5ad = '/media/pipkin/ROCKET-PRO/CD8_DEV_SC/0_Acute-Chronic/2_scVelo/1_scVelo_out_ACTonlyNoDyn/0_Acute-Chronic_scVelo_postPT.h5ad'\n",
    "adata_act = scv.read(act_h5ad)\n",
    "\n",
    "act_arm_h5ad = '/media/pipkin/ROCKET-PRO/CD8_DEV_SC/0_Acute-Chronic/2_scVelo/2_scVelo_out_actARMonlyNoDyn/0_Acute-Chronic_scVelo_postPT.h5ad'\n",
    "adata_act_arm = scv.read(act_arm_h5ad)\n",
    "\n",
    "act_cl13_h5ad = '/media/pipkin/ROCKET-PRO/CD8_DEV_SC/0_Acute-Chronic/2_scVelo/3_scVelo_out_actCL13onlyNoDyn/0_Acute-Chronic_scVelo_postPT.h5ad'\n",
    "adata_act_cl13 = scv.read(act_cl13_h5ad)\n",
    "\n",
    "arm_h5ad = '/media/pipkin/ROCKET-PRO/CD8_DEV_SC/0_Acute-Chronic/2_scVelo/2_scVelo_out_ARMonlyNoDyn/0_Acute-Chronic_scVelo_postPT.h5ad'\n",
    "adata_arm = scv.read(arm_h5ad)\n",
    "\n",
    "cl13_h5ad = '/media/pipkin/ROCKET-PRO/CD8_DEV_SC/0_Acute-Chronic/2_scVelo/3_scVelo_out_CL13onlyNoDyn/0_Acute-Chronic_scVelo_postPT.h5ad'\n",
    "adata_cl13 = scv.read(cl13_h5ad)\n",
    "\n",
    "adata_louvain_name_convert(adata, order_df, louvain_new_ordered, louvain_old_ordered)\n",
    "adata_louvain_name_convert(adata_act, order_df, louvain_new_ordered, louvain_old_ordered)\n",
    "adata_louvain_name_convert(adata_act_arm, order_df, louvain_new_ordered, louvain_old_ordered)\n",
    "adata_louvain_name_convert(adata_act_cl13, order_df, louvain_new_ordered, louvain_old_ordered)\n",
    "adata_louvain_name_convert(adata_arm, order_df, louvain_new_ordered, louvain_old_ordered)\n",
    "adata_louvain_name_convert(adata_cl13, order_df, louvain_new_ordered, louvain_old_ordered)\n",
    "\n",
    "adata_act.obs['velocity_pseudotime'] = adata.obs['velocity_pseudotime'][adata_act.obs.index.tolist()]\n",
    "adata_act_arm.obs['velocity_pseudotime'] = adata.obs['velocity_pseudotime'][adata_act_arm.obs.index.tolist()]\n",
    "adata_act_cl13.obs['velocity_pseudotime'] = adata.obs['velocity_pseudotime'][adata_act_cl13.obs.index.tolist()]\n",
    "adata_arm.obs['velocity_pseudotime'] = adata.obs['velocity_pseudotime'][adata_arm.obs.index.tolist()]\n",
    "adata_cl13.obs['velocity_pseudotime'] = adata.obs['velocity_pseudotime'][adata_cl13.obs.index.tolist()]"
   ]
  },
  {
   "cell_type": "code",
   "execution_count": 7,
   "metadata": {},
   "outputs": [],
   "source": [
    "paga_xmax, paga_ymax = np.amax(adata.obsm['paga'], axis=0)\n",
    "paga_xmin, paga_ymin = np.amin(adata.obsm['paga'], axis=0)\n",
    "paga_dx, paga_dy = paga_xmax - paga_xmin, paga_ymax - paga_ymin\n",
    "paga_xmax, paga_xmin = paga_xmax + paga_dx*0.1, paga_xmin - paga_dx*0.1\n",
    "paga_ymax, paga_ymin = paga_ymax + paga_dy*0.1, paga_ymin - paga_dy*0.1"
   ]
  },
  {
   "cell_type": "code",
   "execution_count": 8,
   "metadata": {},
   "outputs": [],
   "source": [
    "# Calculate radius of louvain cluster circles\n",
    "nodeplot_size_col_df = pd.DataFrame()\n",
    "nodeplot_size_col_df['colors'] = adata.uns['louvain_colors'].tolist()\n",
    "nodeplot_size_col_df.index = adata.obs['louvain'].cat.categories.tolist()\n",
    "nodeplot_size_col_df.index.name = 'louvain'\n",
    "#--- all\n",
    "size_series = adata.obs.groupby('louvain').count()['cell_type']\n",
    "nodeplot_size_col_df['all'] = size_series\n",
    "#--- Act\n",
    "size_series = adata_act.obs.groupby('louvain').count()['cell_type']\n",
    "nodeplot_size_col_df['act'] = size_series\n",
    "#--- Act Arm\n",
    "size_series = adata_act_arm.obs.groupby('louvain').count()['cell_type']\n",
    "nodeplot_size_col_df['act_Arm'] = size_series\n",
    "#--- Act Cl13\n",
    "size_series = adata_act_cl13.obs.groupby('louvain').count()['cell_type']\n",
    "nodeplot_size_col_df['act_Cl13'] = size_series\n",
    "#--- Arm\n",
    "size_series = adata_arm.obs.groupby('louvain').count()['cell_type']\n",
    "nodeplot_size_col_df['Arm'] = size_series\n",
    "#--- Cl13\n",
    "size_series = adata_cl13.obs.groupby('louvain').count()['cell_type']\n",
    "nodeplot_size_col_df['Cl13'] = size_series\n",
    "\n",
    "nodeplot_size_col_df = nodeplot_size_col_df.loc[louvain_new_ordered]\n",
    "nodeplot_size_col_df.to_csv('/media/pipkin/ROCKET-PRO/CD8_DEV_SC/9_Figures/0_Acute-Chronic/nodeplot_size_color.csv')"
   ]
  },
  {
   "cell_type": "code",
   "execution_count": 22,
   "metadata": {},
   "outputs": [],
   "source": [
    "def avg_v_u(driver_genes, adata_use):\n",
    "    driver_genes = [x for x in driver_genes if x in adata_act_arm.var.index.tolist()]\n",
    "    velocity_df = pd.DataFrame(adata_use.layers['velocity'])\n",
    "    velocity_df.index = adata_use.obs.index\n",
    "    velocity_df.columns = adata_use.var.index\n",
    "\n",
    "    expr_df = pd.DataFrame(adata_use.layers['Mu']) #pd.DataFrame.sparse.from_spmatrix(adata_use.X).sparse.to_dense()\n",
    "    expr_df.index = adata_use.obs.index\n",
    "    expr_df.columns = adata_use.var.index\n",
    "    \n",
    "    v_avg_df = pd.DataFrame(index=louvain_new_ordered)\n",
    "    e_avg_df = pd.DataFrame(index=louvain_new_ordered)\n",
    "    for gene_i in driver_genes:\n",
    "        gene_i_act_v_df = pd.DataFrame(velocity_df[gene_i])\n",
    "        gene_i_act_v_df['louvain'] = adata_act.obs['louvain']\n",
    "        gene_i_act_v_avg = gene_i_act_v_df.groupby('louvain').mean()\n",
    "        gene_i_act_v_avg.columns = [gene_i]\n",
    "\n",
    "        gene_i_act_e_df = pd.DataFrame(expr_df[gene_i])\n",
    "        gene_i_act_e_df['louvain'] = adata_act.obs['louvain']\n",
    "        gene_i_act_e_avg = gene_i_act_e_df.groupby('louvain').mean()\n",
    "        gene_i_act_e_avg.columns = [gene_i]\n",
    "\n",
    "        v_avg_df = v_avg_df.join(gene_i_act_v_avg)\n",
    "        e_avg_df = e_avg_df.join(gene_i_act_e_avg)\n",
    "    e_z_df = e_avg_df.copy()\n",
    "    for col in e_z_df.columns:\n",
    "        e_z_df[col] = (e_z_df[col] - e_z_df[col].mean())/e_z_df[col].std(ddof=0)\n",
    "        \n",
    "    return(v_avg_df, e_avg_df, e_z_df)"
   ]
  },
  {
   "cell_type": "markdown",
   "metadata": {},
   "source": [
    "## Velocity embedding stream"
   ]
  },
  {
   "cell_type": "code",
   "execution_count": 23,
   "metadata": {},
   "outputs": [
    {
     "data": {
      "text/plain": [
       "['Arid5a',\n",
       " 'Il18r1',\n",
       " 'Ctla4',\n",
       " 'Icos',\n",
       " 'Selp',\n",
       " 'Cd48',\n",
       " 'Ptpn14',\n",
       " 'Batf3',\n",
       " 'Il2ra',\n",
       " 'Vim',\n",
       " 'Gpd2',\n",
       " 'Gm13546',\n",
       " 'Agps',\n",
       " 'Trp53i11',\n",
       " 'Abtb2',\n",
       " 'Spred1',\n",
       " 'a',\n",
       " 'Atp11b',\n",
       " 'Spata5',\n",
       " 'Lrba',\n",
       " 'She',\n",
       " 'Gm5544',\n",
       " 'Pigk',\n",
       " 'Chd7',\n",
       " 'Tctex1d1',\n",
       " 'Faf1',\n",
       " 'Ptch2',\n",
       " 'Rnf19b',\n",
       " 'Cdk6',\n",
       " 'Fam133b',\n",
       " 'Ppp1cb',\n",
       " 'Rbpj',\n",
       " 'Bmp2k',\n",
       " 'Aff1',\n",
       " 'Tes',\n",
       " 'Ahcyl2',\n",
       " 'Znrf2',\n",
       " 'Tnip3',\n",
       " 'Ndnf',\n",
       " 'Gng12',\n",
       " 'Chl1',\n",
       " 'Emp1',\n",
       " 'Aebp2',\n",
       " 'Brsk1',\n",
       " 'Rexo5',\n",
       " '9530052E02Rik',\n",
       " 'Ppp1r3b',\n",
       " 'Acsl1',\n",
       " 'AW046200',\n",
       " 'Naf1',\n",
       " 'Chd9',\n",
       " 'Clpx',\n",
       " 'Map4',\n",
       " 'Ptprk',\n",
       " 'Themis',\n",
       " 'Rev3l',\n",
       " 'Tmcc3',\n",
       " 'Lif',\n",
       " 'Xbp1',\n",
       " 'Spred2',\n",
       " 'Fam71b',\n",
       " 'Fnip1',\n",
       " 'Tnfrsf13b',\n",
       " 'Trim16',\n",
       " 'Coro6',\n",
       " 'Cuedc1',\n",
       " 'Cog5',\n",
       " 'Atxn7l1',\n",
       " 'Klf6',\n",
       " 'Dip2c',\n",
       " 'Gpld1',\n",
       " 'Ell2',\n",
       " 'F2rl2',\n",
       " 'Gcnt4',\n",
       " 'Slc4a7',\n",
       " 'Tsc22d1',\n",
       " '5430437J10Rik',\n",
       " 'Pkhd1l1',\n",
       " 'Vps8',\n",
       " 'B4galt4',\n",
       " 'Crim1',\n",
       " 'Rhoq',\n",
       " 'Ttc39c',\n",
       " 'Ndfip1',\n",
       " 'Tnfaip8',\n",
       " 'Isoc1',\n",
       " 'Nedd4l',\n",
       " 'Pcx',\n",
       " 'Gnaq',\n",
       " 'Pcgf5',\n",
       " 'Sh2d1a',\n",
       " 'Slc39a10',\n",
       " 'Nabp1',\n",
       " 'Gm17767',\n",
       " 'Klf7',\n",
       " 'Dock10',\n",
       " 'Lamc1',\n",
       " 'Rabgap1l',\n",
       " 'Slamf7',\n",
       " 'Fbxo28',\n",
       " 'Atf3',\n",
       " 'Gtdc1',\n",
       " 'Neb',\n",
       " 'Cytip',\n",
       " 'Stk39',\n",
       " 'Ptprj',\n",
       " 'Slc30a4',\n",
       " 'Gyg',\n",
       " 'Phc3',\n",
       " 'Tet2',\n",
       " 'Nfkb1',\n",
       " 'Rap1gds1',\n",
       " 'Asph',\n",
       " 'Osgin2',\n",
       " 'Wwp1',\n",
       " 'Wdr78',\n",
       " 'Maco1',\n",
       " 'Rcan3',\n",
       " 'Tnfrsf8',\n",
       " 'Fam126a',\n",
       " 'Tec',\n",
       " 'Tgfbr3',\n",
       " 'Lncpint',\n",
       " 'Hipk2',\n",
       " 'Osbpl3',\n",
       " 'Il12rb2',\n",
       " 'Frmd4b',\n",
       " 'Foxp1',\n",
       " 'Eif4e3',\n",
       " 'Eps8',\n",
       " 'Dpy19l3',\n",
       " 'Slco3a1',\n",
       " 'Dennd5a',\n",
       " 'Peak1',\n",
       " 'Zfp609',\n",
       " 'Tent5a',\n",
       " 'Ccr4',\n",
       " 'Cnksr3',\n",
       " 'Tab2',\n",
       " 'Enpp1',\n",
       " 'Srgn',\n",
       " 'Cfap54',\n",
       " 'Vezt',\n",
       " 'Gm29684',\n",
       " 'Cradd',\n",
       " 'Socs2',\n",
       " 'Mtmr3',\n",
       " 'Nf2',\n",
       " 'Sec24a',\n",
       " 'Fam20a',\n",
       " 'Pik3cg',\n",
       " 'Arl4a',\n",
       " 'Egln3',\n",
       " 'Tmed10',\n",
       " 'Sel1l',\n",
       " 'Auh',\n",
       " 'Nfil3',\n",
       " 'Ctla2a',\n",
       " 'Hmgcr',\n",
       " 'Fhit',\n",
       " 'Kcnk5',\n",
       " 'Ankrd28',\n",
       " 'Gzmb',\n",
       " 'Fndc3a',\n",
       " 'Il7r',\n",
       " 'Spef2',\n",
       " 'Otulin',\n",
       " 'Lrp12',\n",
       " 'Fam49b',\n",
       " 'Zfp944',\n",
       " 'Emilin2',\n",
       " 'Crem',\n",
       " 'Stard4',\n",
       " 'Pfdn1',\n",
       " 'Zfp608',\n",
       " 'Alpk2',\n",
       " 'Ptpn2',\n",
       " 'Slc14a1',\n",
       " 'Setbp1',\n",
       " 'Cysltr1']"
      ]
     },
     "execution_count": 23,
     "metadata": {},
     "output_type": "execute_result"
    }
   ],
   "source": [
    "il2_stat5_promoted = pd.read_csv('/media/pipkin/ROCKET-PRO/CD8_DEV_SC/9_Figures/9_Meta/Il2-stat5_direct_promote.csv')['gene_name'].tolist()\n",
    "il2_stat5_promoted"
   ]
  },
  {
   "cell_type": "code",
   "execution_count": 27,
   "metadata": {},
   "outputs": [],
   "source": [
    "arm_v_avg_df, arm_u_avg_df, arm_u_z_df = avg_v_u(il2_stat5_promoted, adata_act_arm)\n",
    "cl13_v_avg_df, cl13_u_avg_df, cl13_u_z_df = avg_v_u(il2_stat5_promoted, adata_act_cl13)"
   ]
  },
  {
   "cell_type": "code",
   "execution_count": 32,
   "metadata": {},
   "outputs": [
    {
     "data": {
      "text/plain": [
       "P0     1.113975\n",
       "P1     1.123547\n",
       "P2     2.559455\n",
       "P3     3.242968\n",
       "P4     3.155059\n",
       "P5     3.250017\n",
       "P6     3.103123\n",
       "P7     0.802951\n",
       "P8     2.418203\n",
       "P9     1.147523\n",
       "P10    0.073898\n",
       "Name: Chd7, dtype: float32"
      ]
     },
     "execution_count": 32,
     "metadata": {},
     "output_type": "execute_result"
    }
   ],
   "source": [
    "arm_v_avg_df['Chd7']"
   ]
  },
  {
   "cell_type": "code",
   "execution_count": 33,
   "metadata": {},
   "outputs": [
    {
     "data": {
      "text/plain": [
       "P0    -3.250977\n",
       "P1          NaN\n",
       "P2     0.774041\n",
       "P3     0.476203\n",
       "P4     0.911695\n",
       "P5     0.986414\n",
       "P6     0.761136\n",
       "P7    -0.548059\n",
       "P8    -1.441754\n",
       "P9    -0.113356\n",
       "P10    0.720530\n",
       "Name: Chd7, dtype: float32"
      ]
     },
     "execution_count": 33,
     "metadata": {},
     "output_type": "execute_result"
    }
   ],
   "source": [
    "cl13_v_avg_df['Chd7']"
   ]
  },
  {
   "cell_type": "code",
   "execution_count": null,
   "metadata": {},
   "outputs": [],
   "source": []
  }
 ],
 "metadata": {
  "kernelspec": {
   "display_name": "Python 3",
   "language": "python",
   "name": "python3"
  },
  "language_info": {
   "codemirror_mode": {
    "name": "ipython",
    "version": 3
   },
   "file_extension": ".py",
   "mimetype": "text/x-python",
   "name": "python",
   "nbconvert_exporter": "python",
   "pygments_lexer": "ipython3",
   "version": "3.8.3"
  }
 },
 "nbformat": 4,
 "nbformat_minor": 4
}
