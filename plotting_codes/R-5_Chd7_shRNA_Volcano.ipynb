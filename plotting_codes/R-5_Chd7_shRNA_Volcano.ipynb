{
 "cells": [
  {
   "cell_type": "code",
   "execution_count": 5,
   "metadata": {},
   "outputs": [],
   "source": [
    "library(tidyverse)\n",
    "library(plyr)\n",
    "library(ggrepel)"
   ]
  },
  {
   "cell_type": "code",
   "execution_count": 6,
   "metadata": {},
   "outputs": [
    {
     "name": "stderr",
     "output_type": "stream",
     "text": [
      "\n",
      "\u001b[36m──\u001b[39m \u001b[1m\u001b[1mColumn specification\u001b[1m\u001b[22m \u001b[36m───────────────────────────────────\u001b[39m\n",
      "cols(\n",
      "  gs_name = \u001b[31mcol_character()\u001b[39m,\n",
      "  type = \u001b[31mcol_character()\u001b[39m,\n",
      "  use = \u001b[31mcol_character()\u001b[39m,\n",
      "  plot_use = \u001b[31mcol_character()\u001b[39m,\n",
      "  abbr = \u001b[31mcol_character()\u001b[39m,\n",
      "  order = \u001b[32mcol_double()\u001b[39m\n",
      ")\n",
      "\n",
      "\n",
      "\n",
      "\u001b[36m──\u001b[39m \u001b[1m\u001b[1mColumn specification\u001b[1m\u001b[22m \u001b[36m───────────────────────────────────\u001b[39m\n",
      "cols(\n",
      "  gs_name = \u001b[31mcol_character()\u001b[39m,\n",
      "  gene_symbol = \u001b[31mcol_character()\u001b[39m\n",
      ")\n",
      "\n",
      "\n"
     ]
    },
    {
     "data": {
      "text/html": [
       "'/media/pipkin/ROCKET-PRO/CD8_DEV_SC'"
      ],
      "text/latex": [
       "'/media/pipkin/ROCKET-PRO/CD8\\_DEV\\_SC'"
      ],
      "text/markdown": [
       "'/media/pipkin/ROCKET-PRO/CD8_DEV_SC'"
      ],
      "text/plain": [
       "[1] \"/media/pipkin/ROCKET-PRO/CD8_DEV_SC\""
      ]
     },
     "metadata": {},
     "output_type": "display_data"
    }
   ],
   "source": [
    "code_dir <- getwd()\n",
    "tool_dir <- unlist(strsplit(code_dir,\"/\"))\n",
    "tool_dir <- head(tool_dir, length(tool_dir)-1)\n",
    "tool_dir <- paste(c(tool_dir, \"tools\"), collapse=\"/\")\n",
    "source(file.path(tool_dir, \"pl_functions.R\"))\n",
    "base_dir <- gsub(\"/plotting_codes\", \"\", code_dir)\n",
    "base_dir"
   ]
  },
  {
   "cell_type": "code",
   "execution_count": 7,
   "metadata": {},
   "outputs": [],
   "source": [
    "exp_name <- \"5_Chd7_RNA_meta\"\n",
    "\n",
    "use.path <- file.path(base_dir, '9_Figures', exp_name, \n",
    "                      'volcano_plots')\n",
    "dir.create(use.path, showWarnings = FALSE, recursive=TRUE)\n",
    "setwd(use.path)"
   ]
  },
  {
   "cell_type": "markdown",
   "metadata": {},
   "source": [
    "# Merged Ctrl versus RNAi"
   ]
  },
  {
   "cell_type": "code",
   "execution_count": 9,
   "metadata": {},
   "outputs": [],
   "source": [
    "de.dir <- '/media/pipkin/ROCKET-PRO/CD8_DEV_SC/5_Chd7_shRNA_RNA/1_DEseq2_merge_shChd7'"
   ]
  },
  {
   "cell_type": "code",
   "execution_count": 28,
   "metadata": {},
   "outputs": [
    {
     "name": "stderr",
     "output_type": "stream",
     "text": [
      "\n",
      "\u001b[36m──\u001b[39m \u001b[1m\u001b[1mColumn specification\u001b[1m\u001b[22m \u001b[36m───────────────────────────────────\u001b[39m\n",
      "cols(\n",
      "  gene_name = \u001b[31mcol_character()\u001b[39m,\n",
      "  baseMean = \u001b[32mcol_double()\u001b[39m,\n",
      "  log2FoldChange = \u001b[32mcol_double()\u001b[39m,\n",
      "  lfcSE = \u001b[32mcol_double()\u001b[39m,\n",
      "  stat = \u001b[32mcol_double()\u001b[39m,\n",
      "  pvalue = \u001b[32mcol_double()\u001b[39m,\n",
      "  padj = \u001b[32mcol_double()\u001b[39m\n",
      ")\n",
      "\n",
      "\n"
     ]
    },
    {
     "ename": "ERROR",
     "evalue": "Error: Problem with `filter()` input `..1`.\n\u001b[31m✖\u001b[39m Input `..1` must be of size 65025 or 1, not size 0.\n\u001b[34mℹ\u001b[39m Input `..1` is `gs_name == gs_fullname_i`.\n",
     "output_type": "error",
     "traceback": [
      "Error: Problem with `filter()` input `..1`.\n\u001b[31m✖\u001b[39m Input `..1` must be of size 65025 or 1, not size 0.\n\u001b[34mℹ\u001b[39m Input `..1` is `gs_name == gs_fullname_i`.\nTraceback:\n",
      "1. volcano_plot_highlightGSEA(de.df, use.genes, gs.vec, gs.col.vec, \n .     log2fc.c, nlog10p.c, log2fc.range, nlog10pval.max)",
      "2. get_gs_genes(gs_vec)",
      "3. all.gs.df %>% filter(gs_name == gs_fullname_i) %>% .$gene_symbol",
      "4. withVisible(eval(quote(`_fseq`(`_lhs`)), env, env))",
      "5. eval(quote(`_fseq`(`_lhs`)), env, env)",
      "6. eval(quote(`_fseq`(`_lhs`)), env, env)",
      "7. `_fseq`(`_lhs`)",
      "8. freduce(value, `_function_list`)",
      "9. function_list[[i]](value)",
      "10. filter(., gs_name == gs_fullname_i)",
      "11. filter.data.frame(., gs_name == gs_fullname_i)",
      "12. filter_rows(.data, ...)",
      "13. withCallingHandlers(mask$eval_all_filter(dots, env_filter), error = function(e) {\n  .     local_call_step(dots = dots, .index = env_filter$current_expression, \n  .         .fn = \"filter\")\n  .     abort(c(cnd_bullet_header(), x = conditionMessage(e), i = cnd_bullet_input_info(), \n  .         i = cnd_bullet_cur_group_label()), class = \"dplyr_error\")\n  . })",
      "14. mask$eval_all_filter(dots, env_filter)",
      "15. abort_glue(\"Input `..{index}` must be of size {or_1(expected_size)}, not size {size}.\", \n  .     list(index = 1L, size = 0L, expected_size = 65025L), \"dplyr:::filter_incompatible_size\")",
      "16. exec(abort, message = message, class = class, !!!data)",
      "17. (function (message = NULL, class = NULL, ..., trace = NULL, parent = NULL, \n  .     .subclass = deprecated()) \n  . {\n  .     validate_signal_args(.subclass)\n  .     if (is_null(trace) && is_null(peek_option(\"rlang:::disable_trace_capture\"))) {\n  .         with_options(`rlang:::disable_trace_capture` = TRUE, \n  .             {\n  .                 trace <- trace_back()\n  .                 if (is_null(parent)) {\n  .                   context <- trace_length(trace)\n  .                 }\n  .                 else {\n  .                   context <- trace_capture_depth(trace)\n  .                 }\n  .                 trace <- trace_trim_context(trace, context)\n  .             })\n  .     }\n  .     message <- validate_signal_message(message, class)\n  .     message <- collapse_cnd_message(message)\n  .     cnd <- error_cnd(class, ..., message = message, parent = parent, \n  .         trace = trace)\n  .     signal_abort(cnd)\n  . })(message = structure(\"Input `..1` must be of size 65025 or 1, not size 0.\", class = c(\"glue\", \n  . \"character\")), class = \"dplyr:::filter_incompatible_size\", index = 1L, \n  .     size = 0L, expected_size = 65025L)",
      "18. signal_abort(cnd)",
      "19. signalCondition(cnd)",
      "20. (function (e) \n  . {\n  .     local_call_step(dots = dots, .index = env_filter$current_expression, \n  .         .fn = \"filter\")\n  .     abort(c(cnd_bullet_header(), x = conditionMessage(e), i = cnd_bullet_input_info(), \n  .         i = cnd_bullet_cur_group_label()), class = \"dplyr_error\")\n  . })(structure(list(message = structure(\"Input `..1` must be of size 65025 or 1, not size 0.\", class = c(\"glue\", \n  . \"character\")), trace = structure(list(calls = list(IRkernel::main(), \n  .     kernel$run(), IRkernel:::handle_shell(), executor$execute(msg), \n  .     base::tryCatch(evaluate(request$content$code, envir = .GlobalEnv, \n  .         output_handler = oh, stop_on_error = 1L), interrupt = function(cond) {\n  .         log_debug(\"Interrupt during execution\")\n  .         interrupted <<- TRUE\n  .     }, error = .self$handle_error), base:::tryCatchList(expr, \n  .         classes, parentenv, handlers), base:::tryCatchOne(tryCatchList(expr, \n  .         names[-nh], parentenv, handlers[-nh]), names[nh], parentenv, \n  .         handlers[[nh]]), base:::doTryCatch(return(expr), name, \n  .         parentenv, handler), base:::tryCatchList(expr, names[-nh], \n  .         parentenv, handlers[-nh]), base:::tryCatchOne(expr, names, \n  .         parentenv, handlers[[1L]]), base:::doTryCatch(return(expr), \n  .         name, parentenv, handler), evaluate::evaluate(request$content$code, \n  .         envir = .GlobalEnv, output_handler = oh, stop_on_error = 1L), \n  .     evaluate:::evaluate_call(expr, parsed$src[[i]], envir = envir, \n  .         enclos = enclos, debug = debug, last = i == length(out), \n  .         use_try = stop_on_error != 2L, keep_warning = keep_warning, \n  .         keep_message = keep_message, output_handler = output_handler, \n  .         include_timing = include_timing), evaluate:::timing_fn(handle(ev <- withCallingHandlers(withVisible(eval(expr, \n  .         envir, enclos)), warning = wHandler, error = eHandler, \n  .         message = mHandler))), evaluate:::handle(ev <- withCallingHandlers(withVisible(eval(expr, \n  .         envir, enclos)), warning = wHandler, error = eHandler, \n  .         message = mHandler)), base::try(f, silent = TRUE), base::tryCatch(expr, \n  .         error = function(e) {\n  .             call <- conditionCall(e)\n  .             if (!is.null(call)) {\n  .                 if (identical(call[[1L]], quote(doTryCatch))) \n  .                   call <- sys.call(-4L)\n  .                 dcall <- deparse(call)[1L]\n  .                 prefix <- paste(\"Error in\", dcall, \": \")\n  .                 LONG <- 75L\n  .                 sm <- strsplit(conditionMessage(e), \"\\n\")[[1L]]\n  .                 w <- 14L + nchar(dcall, type = \"w\") + nchar(sm[1L], \n  .                   type = \"w\")\n  .                 if (is.na(w)) \n  .                   w <- 14L + nchar(dcall, type = \"b\") + nchar(sm[1L], \n  .                     type = \"b\")\n  .                 if (w > LONG) \n  .                   prefix <- paste0(prefix, \"\\n  \")\n  .             }\n  .             else prefix <- \"Error : \"\n  .             msg <- paste0(prefix, conditionMessage(e), \"\\n\")\n  .             .Internal(seterrmessage(msg[1L]))\n  .             if (!silent && isTRUE(getOption(\"show.error.messages\"))) {\n  .                 cat(msg, file = outFile)\n  .                 .Internal(printDeferredWarnings())\n  .             }\n  .             invisible(structure(msg, class = \"try-error\", condition = e))\n  .         }), base:::tryCatchList(expr, classes, parentenv, handlers), \n  .     base:::tryCatchOne(expr, names, parentenv, handlers[[1L]]), \n  .     base:::doTryCatch(return(expr), name, parentenv, handler), \n  .     base::withCallingHandlers(withVisible(eval(expr, envir, enclos)), \n  .         warning = wHandler, error = eHandler, message = mHandler), \n  .     base::withVisible(eval(expr, envir, enclos)), base::eval(expr, \n  .         envir, enclos), base::eval(expr, envir, enclos), global::volcano_plot_highlightGSEA(de.df, \n  .         use.genes, gs.vec, gs.col.vec, log2fc.c, nlog10p.c, log2fc.range, \n  .         nlog10pval.max), global::get_gs_genes(gs_vec), all.gs.df %>% \n  .         filter(gs_name == gs_fullname_i) %>% .$gene_symbol, base::withVisible(eval(quote(`_fseq`(`_lhs`)), \n  .         env, env)), base::eval(quote(`_fseq`(`_lhs`)), env, env), \n  .     base::eval(quote(`_fseq`(`_lhs`)), env, env), `_fseq`(`_lhs`), \n  .     magrittr::freduce(value, `_function_list`), function_list[[i]](value), \n  .     dplyr::filter(., gs_name == gs_fullname_i), dplyr:::filter.data.frame(., \n  .         gs_name == gs_fullname_i), dplyr:::filter_rows(.data, \n  .         ...), base::withCallingHandlers(mask$eval_all_filter(dots, \n  .         env_filter), error = function(e) {\n  .         local_call_step(dots = dots, .index = env_filter$current_expression, \n  .             .fn = \"filter\")\n  .         abort(c(cnd_bullet_header(), x = conditionMessage(e), \n  .             i = cnd_bullet_input_info(), i = cnd_bullet_cur_group_label()), \n  .             class = \"dplyr_error\")\n  .     }), mask$eval_all_filter(dots, env_filter), dplyr:::abort_glue(\"Input `..{index}` must be of size {or_1(expected_size)}, not size {size}.\", \n  .         list(index = 1L, size = 0L, expected_size = 65025L), \n  .         \"dplyr:::filter_incompatible_size\"), rlang::exec(abort, \n  .         message = message, class = class, !!!data)), parents = c(0L, \n  . 1L, 2L, 3L, 4L, 5L, 6L, 7L, 6L, 9L, 10L, 4L, 12L, 13L, 13L, 15L, \n  . 16L, 17L, 18L, 19L, 13L, 13L, 13L, 23L, 0L, 25L, 26L, 27L, 27L, \n  . 29L, 30L, 31L, 32L, 33L, 33L, 35L, 36L, 36L, 0L, 39L), indices = 1:40), class = \"rlang_trace\", version = 1L), \n  .     parent = NULL, index = 1L, size = 0L, expected_size = 65025L), class = c(\"dplyr:::filter_incompatible_size\", \n  . \"rlang_error\", \"error\", \"condition\")))",
      "21. abort(c(cnd_bullet_header(), x = conditionMessage(e), i = cnd_bullet_input_info(), \n  .     i = cnd_bullet_cur_group_label()), class = \"dplyr_error\")",
      "22. signal_abort(cnd)"
     ]
    }
   ],
   "source": [
    "###----- Setup\n",
    "de.file <- file.path(de.dir, 'Ctrl_vs_Chd7_gn.csv')\n",
    "outname.base <- \"Ctrl_vs_shChd7\"\n",
    "use.genes <- c(\"Il10ra\", 'Itga1', 'Klrg1','Gzma','Polr2a','Il12rb2','Eomes','Sell')\n",
    "log2fc.c <- 0\n",
    "nlog10p.c <- 1.3\n",
    "gs.vec <- c(\"TE_up\", \"Tstem\")\n",
    "gs.col.vec <- c(\"orange2\", \"limegreen\")\n",
    "log2fc.range <- c(-5,5)\n",
    "nlog10pval.max <- 12\n",
    "\n",
    "\n",
    "de.df <- read_csv(de.file)\n",
    "colnames(de.df) <- c('gene_name', 'baseMean', 'log2fc', 'lfcSE', 'stat', 'pvalue','padj','gene_name')\n",
    "de.df$nlog10pval <- -log10(de.df$pvalue)\n",
    "\n",
    "# Plot \n",
    "vol_plot_out <- volcano_plot_highlightGSEA(de.df, use.genes, gs.vec, gs.col.vec, \n",
    "                                           log2fc.c, nlog10p.c,log2fc.range, nlog10pval.max) # With label\n",
    "vol_plot <- vol_plot_out$plot\n",
    "vol_plot\n",
    "ggsave(paste(outname.base, \".png\", sep=\"\"), vol_plot, device='png', width=10, height=10, units='cm')\n",
    "\n",
    "# Save simplified plot\n",
    "vol_plot <- vol_plot + theme(axis.text.x=element_blank(), axis.text.y=element_blank()) # Without label\n",
    "ggsave(paste(outname.base, \"_nolabel.png\", sep=\"\"), vol_plot, device='png', width=10, height=10, units='cm')\n",
    "\n",
    "# Save summary\n",
    "write_csv(vol_plot_out$sum, paste(outname.base, \"_sum.csv\", sep=\"\"))"
   ]
  },
  {
   "cell_type": "code",
   "execution_count": null,
   "metadata": {},
   "outputs": [],
   "source": []
  }
 ],
 "metadata": {
  "kernelspec": {
   "display_name": "R",
   "language": "R",
   "name": "ir"
  },
  "language_info": {
   "codemirror_mode": "r",
   "file_extension": ".r",
   "mimetype": "text/x-r-source",
   "name": "R",
   "pygments_lexer": "r",
   "version": "3.6.3"
  }
 },
 "nbformat": 4,
 "nbformat_minor": 4
}
