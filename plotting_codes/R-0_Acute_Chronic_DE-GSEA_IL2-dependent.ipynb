{
 "cells": [
  {
   "cell_type": "code",
   "execution_count": 2,
   "metadata": {},
   "outputs": [
    {
     "data": {
      "text/html": [
       "'/media/pipkin/ROCKET-PRO/CD8_DEV_SC'"
      ],
      "text/latex": [
       "'/media/pipkin/ROCKET-PRO/CD8\\_DEV\\_SC'"
      ],
      "text/markdown": [
       "'/media/pipkin/ROCKET-PRO/CD8_DEV_SC'"
      ],
      "text/plain": [
       "[1] \"/media/pipkin/ROCKET-PRO/CD8_DEV_SC\""
      ]
     },
     "metadata": {},
     "output_type": "display_data"
    }
   ],
   "source": [
    "##########----- Reused code -----##########\n",
    "# Last update: Sept 13, 2020\n",
    "# By: Huitian Diao\n",
    "###########################################\n",
    "\n",
    "library(stringr)\n",
    "library(cowplot)\n",
    "library(ggpubr)\n",
    "\n",
    "code_dir <- getwd()\n",
    "tool_dir <- unlist(strsplit(code_dir,\"/\"))\n",
    "tool_dir <- head(tool_dir, length(tool_dir)-1)\n",
    "tool_dir <- paste(c(tool_dir, \"tools\"), collapse=\"/\")\n",
    "source(file.path(tool_dir, \"function_GSEA.R\"))\n",
    "base_dir <- gsub(\"/plotting_codes\", \"\", code_dir)\n",
    "base_dir"
   ]
  },
  {
   "cell_type": "code",
   "execution_count": 27,
   "metadata": {},
   "outputs": [],
   "source": [
    "source(file.path(tool_dir, \"function_GSEA.R\"))"
   ]
  },
  {
   "cell_type": "markdown",
   "metadata": {},
   "source": [
    "## Per cluster Arm v.s. Cl13 - IL2 dependent"
   ]
  },
  {
   "cell_type": "code",
   "execution_count": 17,
   "metadata": {},
   "outputs": [
    {
     "name": "stderr",
     "output_type": "stream",
     "text": [
      "Parsed with column specification:\n",
      "cols(\n",
      "  louvain = \u001b[32mcol_double()\u001b[39m,\n",
      "  initial_size_spliced = \u001b[32mcol_double()\u001b[39m,\n",
      "  initial_size_unspliced = \u001b[32mcol_double()\u001b[39m,\n",
      "  initial_size = \u001b[32mcol_double()\u001b[39m,\n",
      "  n_counts = \u001b[32mcol_double()\u001b[39m,\n",
      "  dpt_pseudotime = \u001b[32mcol_double()\u001b[39m,\n",
      "  velocity_self_transition = \u001b[32mcol_double()\u001b[39m,\n",
      "  root_cells = \u001b[32mcol_double()\u001b[39m,\n",
      "  end_points = \u001b[32mcol_double()\u001b[39m,\n",
      "  velocity_pseudotime = \u001b[32mcol_double()\u001b[39m,\n",
      "  louvain_new_label = \u001b[31mcol_character()\u001b[39m\n",
      ")\n",
      "\n"
     ]
    }
   ],
   "source": [
    "new_names <- file.path(base_dir,'/0_Acute-Chronic/2_scVelo/0_scVelo_out_resampledNoDyn/pt_ordered_cluster_avg.csv')\n",
    "new_names_df <- read_csv(new_names) %>% select(one_of('louvain', 'louvain_new_label'))\n",
    "colnames(new_names_df) <- c('comparison', 'louvain_new_label')"
   ]
  },
  {
   "cell_type": "code",
   "execution_count": 3,
   "metadata": {},
   "outputs": [],
   "source": [
    "use.path <- file.path(base_dir, '9_Figures/0_Acute-Chronic/0_resampled', 'perCluster_Arm_vs_Cl13_sum_plot')\n",
    "dir.create(use.path, showWarnings = FALSE, recursive=TRUE)\n",
    "setwd(use.path)"
   ]
  },
  {
   "cell_type": "code",
   "execution_count": 25,
   "metadata": {},
   "outputs": [
    {
     "name": "stderr",
     "output_type": "stream",
     "text": [
      "Joining, by = \"comparison\"\n",
      "\n"
     ]
    }
   ],
   "source": [
    "# Input gsea files path\n",
    "gs.out.dir <- file.path(base_dir,\n",
    "                        '/0_Acute-Chronic/1_Scanpy/0_Scanpy_out_resampled/4_DE_GSEA/perCluster_Arm_vs_Cl13')\n",
    "# Base of output names\n",
    "gsea.sum.name <- \"IL2_dependent\"\n",
    "\n",
    "# Find all input files\n",
    "input.files <- list.files(gs.out.dir, pattern='A_vs_C---IL2_dependent_mm_sigs.csv', \n",
    "                          full.name=TRUE, recursive=TRUE)\n",
    "\n",
    "# Get new louvain names corresponding to input files\n",
    "simp.filenames <- gsub('/media/pipkin/ROCKET-PRO/CD8_DEV_SC//0_Acute-Chronic/1_Scanpy/0_Scanpy_out_resampled/4_DE_GSEA/perCluster_Arm_vs_Cl13/',\n",
    "                       \"\",input.files)\n",
    "simp.filenames <- gsub('/A/A_vs_C_differential_sep/IL2_dependent/A_vs_C---IL2_dependent_mm_sigs.csv',\n",
    "                       \"\",simp.filenames)\n",
    "simp.filenames <- as.numeric(simp.filenames)\n",
    "simp.filenames.df <- data.frame(\"comparison\" = simp.filenames) %>% left_join(new_names_df)\n",
    "simp.filenames.new <- simp.filenames.df$louvain_new_label\n",
    "\n",
    "# Specify order of comparison & path\n",
    "comp.order <- sort(simp.filenames.new)\n",
    "path.order <- c(\"48h_IL2_promoted\", \"48h_IL2_repressed\")"
   ]
  },
  {
   "cell_type": "code",
   "execution_count": 28,
   "metadata": {},
   "outputs": [
    {
     "name": "stderr",
     "output_type": "stream",
     "text": [
      "Parsed with column specification:\n",
      "cols(\n",
      "  ID = \u001b[31mcol_character()\u001b[39m,\n",
      "  Description = \u001b[31mcol_character()\u001b[39m,\n",
      "  setSize = \u001b[32mcol_double()\u001b[39m,\n",
      "  enrichmentScore = \u001b[32mcol_double()\u001b[39m,\n",
      "  NES = \u001b[32mcol_double()\u001b[39m,\n",
      "  pvalue = \u001b[32mcol_double()\u001b[39m,\n",
      "  p.adjust = \u001b[32mcol_double()\u001b[39m,\n",
      "  qvalues = \u001b[32mcol_double()\u001b[39m,\n",
      "  rank = \u001b[32mcol_double()\u001b[39m,\n",
      "  leading_edge = \u001b[31mcol_character()\u001b[39m,\n",
      "  core_enrichment = \u001b[31mcol_character()\u001b[39m\n",
      ")\n",
      "\n",
      "Parsed with column specification:\n",
      "cols(\n",
      "  ID = \u001b[31mcol_character()\u001b[39m,\n",
      "  Description = \u001b[31mcol_character()\u001b[39m,\n",
      "  setSize = \u001b[32mcol_double()\u001b[39m,\n",
      "  enrichmentScore = \u001b[32mcol_double()\u001b[39m,\n",
      "  NES = \u001b[32mcol_double()\u001b[39m,\n",
      "  pvalue = \u001b[32mcol_double()\u001b[39m,\n",
      "  p.adjust = \u001b[32mcol_double()\u001b[39m,\n",
      "  qvalues = \u001b[32mcol_double()\u001b[39m,\n",
      "  rank = \u001b[32mcol_double()\u001b[39m,\n",
      "  leading_edge = \u001b[31mcol_character()\u001b[39m,\n",
      "  core_enrichment = \u001b[31mcol_character()\u001b[39m\n",
      ")\n",
      "\n",
      "Parsed with column specification:\n",
      "cols(\n",
      "  ID = \u001b[31mcol_character()\u001b[39m,\n",
      "  Description = \u001b[31mcol_character()\u001b[39m,\n",
      "  setSize = \u001b[32mcol_double()\u001b[39m,\n",
      "  enrichmentScore = \u001b[32mcol_double()\u001b[39m,\n",
      "  NES = \u001b[32mcol_double()\u001b[39m,\n",
      "  pvalue = \u001b[32mcol_double()\u001b[39m,\n",
      "  p.adjust = \u001b[32mcol_double()\u001b[39m,\n",
      "  qvalues = \u001b[32mcol_double()\u001b[39m,\n",
      "  rank = \u001b[32mcol_double()\u001b[39m,\n",
      "  leading_edge = \u001b[31mcol_character()\u001b[39m,\n",
      "  core_enrichment = \u001b[31mcol_character()\u001b[39m\n",
      ")\n",
      "\n",
      "Parsed with column specification:\n",
      "cols(\n",
      "  ID = \u001b[31mcol_character()\u001b[39m,\n",
      "  Description = \u001b[31mcol_character()\u001b[39m,\n",
      "  setSize = \u001b[32mcol_double()\u001b[39m,\n",
      "  enrichmentScore = \u001b[32mcol_double()\u001b[39m,\n",
      "  NES = \u001b[32mcol_double()\u001b[39m,\n",
      "  pvalue = \u001b[32mcol_double()\u001b[39m,\n",
      "  p.adjust = \u001b[32mcol_double()\u001b[39m,\n",
      "  qvalues = \u001b[32mcol_double()\u001b[39m,\n",
      "  rank = \u001b[32mcol_double()\u001b[39m,\n",
      "  leading_edge = \u001b[31mcol_character()\u001b[39m,\n",
      "  core_enrichment = \u001b[31mcol_character()\u001b[39m\n",
      ")\n",
      "\n",
      "Parsed with column specification:\n",
      "cols(\n",
      "  ID = \u001b[31mcol_character()\u001b[39m,\n",
      "  Description = \u001b[31mcol_character()\u001b[39m,\n",
      "  setSize = \u001b[32mcol_double()\u001b[39m,\n",
      "  enrichmentScore = \u001b[32mcol_double()\u001b[39m,\n",
      "  NES = \u001b[32mcol_double()\u001b[39m,\n",
      "  pvalue = \u001b[32mcol_double()\u001b[39m,\n",
      "  p.adjust = \u001b[32mcol_double()\u001b[39m,\n",
      "  qvalues = \u001b[32mcol_double()\u001b[39m,\n",
      "  rank = \u001b[32mcol_double()\u001b[39m,\n",
      "  leading_edge = \u001b[31mcol_character()\u001b[39m,\n",
      "  core_enrichment = \u001b[31mcol_character()\u001b[39m\n",
      ")\n",
      "\n",
      "Parsed with column specification:\n",
      "cols(\n",
      "  ID = \u001b[31mcol_character()\u001b[39m,\n",
      "  Description = \u001b[31mcol_character()\u001b[39m,\n",
      "  setSize = \u001b[32mcol_double()\u001b[39m,\n",
      "  enrichmentScore = \u001b[32mcol_double()\u001b[39m,\n",
      "  NES = \u001b[32mcol_double()\u001b[39m,\n",
      "  pvalue = \u001b[32mcol_double()\u001b[39m,\n",
      "  p.adjust = \u001b[32mcol_double()\u001b[39m,\n",
      "  qvalues = \u001b[32mcol_double()\u001b[39m,\n",
      "  rank = \u001b[32mcol_double()\u001b[39m,\n",
      "  leading_edge = \u001b[31mcol_character()\u001b[39m,\n",
      "  core_enrichment = \u001b[31mcol_character()\u001b[39m\n",
      ")\n",
      "\n",
      "Parsed with column specification:\n",
      "cols(\n",
      "  ID = \u001b[31mcol_character()\u001b[39m,\n",
      "  Description = \u001b[31mcol_character()\u001b[39m,\n",
      "  setSize = \u001b[32mcol_double()\u001b[39m,\n",
      "  enrichmentScore = \u001b[32mcol_double()\u001b[39m,\n",
      "  NES = \u001b[32mcol_double()\u001b[39m,\n",
      "  pvalue = \u001b[32mcol_double()\u001b[39m,\n",
      "  p.adjust = \u001b[32mcol_double()\u001b[39m,\n",
      "  qvalues = \u001b[32mcol_double()\u001b[39m,\n",
      "  rank = \u001b[32mcol_double()\u001b[39m,\n",
      "  leading_edge = \u001b[31mcol_character()\u001b[39m,\n",
      "  core_enrichment = \u001b[31mcol_character()\u001b[39m\n",
      ")\n",
      "\n"
     ]
    },
    {
     "name": "stdout",
     "output_type": "stream",
     "text": [
      "\u001b[38;5;246m# A tibble: 6 x 8\u001b[39m\n",
      "  comparison pathway      NES  padj  pval leadingEdge_sig… mlog10padj mlog10pval\n",
      "  \u001b[3m\u001b[38;5;246m<chr>\u001b[39m\u001b[23m      \u001b[3m\u001b[38;5;246m<chr>\u001b[39m\u001b[23m      \u001b[3m\u001b[38;5;246m<dbl>\u001b[39m\u001b[23m \u001b[3m\u001b[38;5;246m<dbl>\u001b[39m\u001b[23m \u001b[3m\u001b[38;5;246m<dbl>\u001b[39m\u001b[23m            \u001b[3m\u001b[38;5;246m<dbl>\u001b[39m\u001b[23m      \u001b[3m\u001b[38;5;246m<dbl>\u001b[39m\u001b[23m      \u001b[3m\u001b[38;5;246m<dbl>\u001b[39m\u001b[23m\n",
      "\u001b[38;5;250m1\u001b[39m P9         48h_IL2_…  1.02  0.505 0.252               24      0.297      0.598\n",
      "\u001b[38;5;250m2\u001b[39m P9         48h_IL2_…  0.998 0.581 0.581               25      0.235      0.235\n",
      "\u001b[38;5;250m3\u001b[39m P2         48h_IL2_… -\u001b[31m1\u001b[39m\u001b[31m.\u001b[39m\u001b[31m0\u001b[39m\u001b[31m6\u001b[39m  0.496 0.248               19      0.305      0.606\n",
      "\u001b[38;5;250m4\u001b[39m P2         48h_IL2_…  0.936 0.592 0.592               10      0.228      0.228\n",
      "\u001b[38;5;250m5\u001b[39m P5         48h_IL2_…  1.08  0.455 0.228               17      0.342      0.643\n",
      "\u001b[38;5;250m6\u001b[39m P5         48h_IL2_…  0.938 0.794 0.794               16      0.100      0.100\n"
     ]
    },
    {
     "data": {
      "text/html": [
       "<table>\n",
       "<caption>A tibble: 14 × 8</caption>\n",
       "<thead>\n",
       "\t<tr><th scope=col>comparison</th><th scope=col>pathway</th><th scope=col>NES</th><th scope=col>padj</th><th scope=col>pval</th><th scope=col>leadingEdge_signal</th><th scope=col>mlog10padj</th><th scope=col>mlog10pval</th></tr>\n",
       "\t<tr><th scope=col>&lt;fct&gt;</th><th scope=col>&lt;fct&gt;</th><th scope=col>&lt;dbl&gt;</th><th scope=col>&lt;dbl&gt;</th><th scope=col>&lt;dbl&gt;</th><th scope=col>&lt;dbl&gt;</th><th scope=col>&lt;dbl&gt;</th><th scope=col>&lt;dbl&gt;</th></tr>\n",
       "</thead>\n",
       "<tbody>\n",
       "\t<tr><td>P9</td><td>48h_IL2_repressed</td><td> 1.0221468</td><td>0.5047495</td><td>0.2523748</td><td>24</td><td>0.2969241</td><td>0.5979541</td></tr>\n",
       "\t<tr><td>P9</td><td>48h_IL2_promoted </td><td> 0.9976796</td><td>0.5814419</td><td>0.5814419</td><td>25</td><td>0.2354937</td><td>0.2354937</td></tr>\n",
       "\t<tr><td>P2</td><td>48h_IL2_repressed</td><td>-1.0649237</td><td>0.4959217</td><td>0.2479608</td><td>19</td><td>0.3045869</td><td>0.6056169</td></tr>\n",
       "\t<tr><td>P2</td><td>48h_IL2_promoted </td><td> 0.9358783</td><td>0.5920506</td><td>0.5920506</td><td>10</td><td>0.2276412</td><td>0.2276412</td></tr>\n",
       "\t<tr><td>P5</td><td>48h_IL2_promoted </td><td> 1.0838603</td><td>0.4552097</td><td>0.2276048</td><td>17</td><td>0.3417885</td><td>0.6428185</td></tr>\n",
       "\t<tr><td>P5</td><td>48h_IL2_repressed</td><td> 0.9376727</td><td>0.7941206</td><td>0.7941206</td><td>16</td><td>0.1001135</td><td>0.1001135</td></tr>\n",
       "\t<tr><td>P4</td><td>48h_IL2_repressed</td><td> 1.0265155</td><td>0.4440650</td><td>0.4355457</td><td>10</td><td>0.3525535</td><td>0.3609663</td></tr>\n",
       "\t<tr><td>P4</td><td>48h_IL2_promoted </td><td> 1.0275293</td><td>0.4440650</td><td>0.4440650</td><td>19</td><td>0.3525535</td><td>0.3525535</td></tr>\n",
       "\t<tr><td>P6</td><td>48h_IL2_promoted </td><td> 1.1552341</td><td>0.3502198</td><td>0.1751099</td><td>17</td><td>0.4556593</td><td>0.7566893</td></tr>\n",
       "\t<tr><td>P6</td><td>48h_IL2_repressed</td><td> 1.0182739</td><td>0.4608379</td><td>0.4608379</td><td> 9</td><td>0.3364518</td><td>0.3364518</td></tr>\n",
       "\t<tr><td>P3</td><td>48h_IL2_promoted </td><td> 1.1265877</td><td>0.1120000</td><td>0.0560000</td><td>23</td><td>0.9507820</td><td>1.2518120</td></tr>\n",
       "\t<tr><td>P3</td><td>48h_IL2_repressed</td><td> 0.9063791</td><td>0.9060094</td><td>0.9060094</td><td>14</td><td>0.0428673</td><td>0.0428673</td></tr>\n",
       "\t<tr><td>P7</td><td>48h_IL2_promoted </td><td>-1.0456919</td><td>0.4530453</td><td>0.3873684</td><td>17</td><td>0.3438584</td><td>0.4118758</td></tr>\n",
       "\t<tr><td>P7</td><td>48h_IL2_repressed</td><td>-1.0175967</td><td>0.4530453</td><td>0.4530453</td><td>16</td><td>0.3438584</td><td>0.3438584</td></tr>\n",
       "</tbody>\n",
       "</table>\n"
      ],
      "text/latex": [
       "A tibble: 14 × 8\n",
       "\\begin{tabular}{llllllll}\n",
       " comparison & pathway & NES & padj & pval & leadingEdge\\_signal & mlog10padj & mlog10pval\\\\\n",
       " <fct> & <fct> & <dbl> & <dbl> & <dbl> & <dbl> & <dbl> & <dbl>\\\\\n",
       "\\hline\n",
       "\t P9 & 48h\\_IL2\\_repressed &  1.0221468 & 0.5047495 & 0.2523748 & 24 & 0.2969241 & 0.5979541\\\\\n",
       "\t P9 & 48h\\_IL2\\_promoted  &  0.9976796 & 0.5814419 & 0.5814419 & 25 & 0.2354937 & 0.2354937\\\\\n",
       "\t P2 & 48h\\_IL2\\_repressed & -1.0649237 & 0.4959217 & 0.2479608 & 19 & 0.3045869 & 0.6056169\\\\\n",
       "\t P2 & 48h\\_IL2\\_promoted  &  0.9358783 & 0.5920506 & 0.5920506 & 10 & 0.2276412 & 0.2276412\\\\\n",
       "\t P5 & 48h\\_IL2\\_promoted  &  1.0838603 & 0.4552097 & 0.2276048 & 17 & 0.3417885 & 0.6428185\\\\\n",
       "\t P5 & 48h\\_IL2\\_repressed &  0.9376727 & 0.7941206 & 0.7941206 & 16 & 0.1001135 & 0.1001135\\\\\n",
       "\t P4 & 48h\\_IL2\\_repressed &  1.0265155 & 0.4440650 & 0.4355457 & 10 & 0.3525535 & 0.3609663\\\\\n",
       "\t P4 & 48h\\_IL2\\_promoted  &  1.0275293 & 0.4440650 & 0.4440650 & 19 & 0.3525535 & 0.3525535\\\\\n",
       "\t P6 & 48h\\_IL2\\_promoted  &  1.1552341 & 0.3502198 & 0.1751099 & 17 & 0.4556593 & 0.7566893\\\\\n",
       "\t P6 & 48h\\_IL2\\_repressed &  1.0182739 & 0.4608379 & 0.4608379 &  9 & 0.3364518 & 0.3364518\\\\\n",
       "\t P3 & 48h\\_IL2\\_promoted  &  1.1265877 & 0.1120000 & 0.0560000 & 23 & 0.9507820 & 1.2518120\\\\\n",
       "\t P3 & 48h\\_IL2\\_repressed &  0.9063791 & 0.9060094 & 0.9060094 & 14 & 0.0428673 & 0.0428673\\\\\n",
       "\t P7 & 48h\\_IL2\\_promoted  & -1.0456919 & 0.4530453 & 0.3873684 & 17 & 0.3438584 & 0.4118758\\\\\n",
       "\t P7 & 48h\\_IL2\\_repressed & -1.0175967 & 0.4530453 & 0.4530453 & 16 & 0.3438584 & 0.3438584\\\\\n",
       "\\end{tabular}\n"
      ],
      "text/markdown": [
       "\n",
       "A tibble: 14 × 8\n",
       "\n",
       "| comparison &lt;fct&gt; | pathway &lt;fct&gt; | NES &lt;dbl&gt; | padj &lt;dbl&gt; | pval &lt;dbl&gt; | leadingEdge_signal &lt;dbl&gt; | mlog10padj &lt;dbl&gt; | mlog10pval &lt;dbl&gt; |\n",
       "|---|---|---|---|---|---|---|---|\n",
       "| P9 | 48h_IL2_repressed |  1.0221468 | 0.5047495 | 0.2523748 | 24 | 0.2969241 | 0.5979541 |\n",
       "| P9 | 48h_IL2_promoted  |  0.9976796 | 0.5814419 | 0.5814419 | 25 | 0.2354937 | 0.2354937 |\n",
       "| P2 | 48h_IL2_repressed | -1.0649237 | 0.4959217 | 0.2479608 | 19 | 0.3045869 | 0.6056169 |\n",
       "| P2 | 48h_IL2_promoted  |  0.9358783 | 0.5920506 | 0.5920506 | 10 | 0.2276412 | 0.2276412 |\n",
       "| P5 | 48h_IL2_promoted  |  1.0838603 | 0.4552097 | 0.2276048 | 17 | 0.3417885 | 0.6428185 |\n",
       "| P5 | 48h_IL2_repressed |  0.9376727 | 0.7941206 | 0.7941206 | 16 | 0.1001135 | 0.1001135 |\n",
       "| P4 | 48h_IL2_repressed |  1.0265155 | 0.4440650 | 0.4355457 | 10 | 0.3525535 | 0.3609663 |\n",
       "| P4 | 48h_IL2_promoted  |  1.0275293 | 0.4440650 | 0.4440650 | 19 | 0.3525535 | 0.3525535 |\n",
       "| P6 | 48h_IL2_promoted  |  1.1552341 | 0.3502198 | 0.1751099 | 17 | 0.4556593 | 0.7566893 |\n",
       "| P6 | 48h_IL2_repressed |  1.0182739 | 0.4608379 | 0.4608379 |  9 | 0.3364518 | 0.3364518 |\n",
       "| P3 | 48h_IL2_promoted  |  1.1265877 | 0.1120000 | 0.0560000 | 23 | 0.9507820 | 1.2518120 |\n",
       "| P3 | 48h_IL2_repressed |  0.9063791 | 0.9060094 | 0.9060094 | 14 | 0.0428673 | 0.0428673 |\n",
       "| P7 | 48h_IL2_promoted  | -1.0456919 | 0.4530453 | 0.3873684 | 17 | 0.3438584 | 0.4118758 |\n",
       "| P7 | 48h_IL2_repressed | -1.0175967 | 0.4530453 | 0.4530453 | 16 | 0.3438584 | 0.3438584 |\n",
       "\n"
      ],
      "text/plain": [
       "   comparison pathway           NES        padj      pval     \n",
       "1  P9         48h_IL2_repressed  1.0221468 0.5047495 0.2523748\n",
       "2  P9         48h_IL2_promoted   0.9976796 0.5814419 0.5814419\n",
       "3  P2         48h_IL2_repressed -1.0649237 0.4959217 0.2479608\n",
       "4  P2         48h_IL2_promoted   0.9358783 0.5920506 0.5920506\n",
       "5  P5         48h_IL2_promoted   1.0838603 0.4552097 0.2276048\n",
       "6  P5         48h_IL2_repressed  0.9376727 0.7941206 0.7941206\n",
       "7  P4         48h_IL2_repressed  1.0265155 0.4440650 0.4355457\n",
       "8  P4         48h_IL2_promoted   1.0275293 0.4440650 0.4440650\n",
       "9  P6         48h_IL2_promoted   1.1552341 0.3502198 0.1751099\n",
       "10 P6         48h_IL2_repressed  1.0182739 0.4608379 0.4608379\n",
       "11 P3         48h_IL2_promoted   1.1265877 0.1120000 0.0560000\n",
       "12 P3         48h_IL2_repressed  0.9063791 0.9060094 0.9060094\n",
       "13 P7         48h_IL2_promoted  -1.0456919 0.4530453 0.3873684\n",
       "14 P7         48h_IL2_repressed -1.0175967 0.4530453 0.4530453\n",
       "   leadingEdge_signal mlog10padj mlog10pval\n",
       "1  24                 0.2969241  0.5979541 \n",
       "2  25                 0.2354937  0.2354937 \n",
       "3  19                 0.3045869  0.6056169 \n",
       "4  10                 0.2276412  0.2276412 \n",
       "5  17                 0.3417885  0.6428185 \n",
       "6  16                 0.1001135  0.1001135 \n",
       "7  10                 0.3525535  0.3609663 \n",
       "8  19                 0.3525535  0.3525535 \n",
       "9  17                 0.4556593  0.7566893 \n",
       "10  9                 0.3364518  0.3364518 \n",
       "11 23                 0.9507820  1.2518120 \n",
       "12 14                 0.0428673  0.0428673 \n",
       "13 17                 0.3438584  0.4118758 \n",
       "14 16                 0.3438584  0.3438584 "
      ]
     },
     "metadata": {},
     "output_type": "display_data"
    }
   ],
   "source": [
    "GSEA_sum(input.files, gsea.sum.name, 50, 15, \n",
    "         TRUE, comp.order, TRUE, path.order, TRUE, simp.filenames.new, TRUE)"
   ]
  },
  {
   "cell_type": "code",
   "execution_count": null,
   "metadata": {},
   "outputs": [],
   "source": []
  },
  {
   "cell_type": "code",
   "execution_count": null,
   "metadata": {},
   "outputs": [],
   "source": []
  }
 ],
 "metadata": {
  "kernelspec": {
   "display_name": "R",
   "language": "R",
   "name": "ir"
  },
  "language_info": {
   "codemirror_mode": "r",
   "file_extension": ".r",
   "mimetype": "text/x-r-source",
   "name": "R",
   "pygments_lexer": "r",
   "version": "3.6.3"
  }
 },
 "nbformat": 4,
 "nbformat_minor": 4
}
