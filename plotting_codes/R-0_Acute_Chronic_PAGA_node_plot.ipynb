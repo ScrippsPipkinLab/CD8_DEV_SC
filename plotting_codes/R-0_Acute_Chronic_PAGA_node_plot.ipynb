{
 "cells": [
  {
   "cell_type": "code",
   "execution_count": 2,
   "metadata": {},
   "outputs": [],
   "source": [
    "library(dplyr)\n",
    "library(tidyverse)\n",
    "library(reshape2)\n",
    "library(gridExtra)\n",
    "library(grid)"
   ]
  },
  {
   "cell_type": "code",
   "execution_count": 3,
   "metadata": {},
   "outputs": [
    {
     "data": {
      "text/html": [
       "'/media/pipkin/ROCKET-PRO/CD8_DEV_SC'"
      ],
      "text/latex": [
       "'/media/pipkin/ROCKET-PRO/CD8\\_DEV\\_SC'"
      ],
      "text/markdown": [
       "'/media/pipkin/ROCKET-PRO/CD8_DEV_SC'"
      ],
      "text/plain": [
       "[1] \"/media/pipkin/ROCKET-PRO/CD8_DEV_SC\""
      ]
     },
     "metadata": {},
     "output_type": "display_data"
    }
   ],
   "source": [
    "code_dir <- getwd()\n",
    "tool_dir <- unlist(strsplit(code_dir,\"/\"))\n",
    "tool_dir <- head(tool_dir, length(tool_dir)-1)\n",
    "tool_dir <- paste(c(tool_dir, \"tools\"), collapse=\"/\")\n",
    "source(file.path(tool_dir, \"pl_functions.R\"))\n",
    "base_dir <- gsub(\"/plotting_codes\", \"\", code_dir)\n",
    "base_dir"
   ]
  },
  {
   "cell_type": "code",
   "execution_count": 4,
   "metadata": {},
   "outputs": [],
   "source": [
    "exp_name <- \"0_Acute-Chronic\"\n",
    "analysis_name <- c(\"0\", \"resampled\") \n",
    "\n",
    "use.path <- file.path(base_dir, '9_Figures', exp_name, \n",
    "                      paste(analysis_name, collapse=\"_\"),\n",
    "                      'node_plots')\n",
    "dir.create(use.path, showWarnings = FALSE, recursive=TRUE)\n",
    "setwd(use.path)"
   ]
  },
  {
   "cell_type": "markdown",
   "metadata": {},
   "source": [
    "## Proprocess"
   ]
  },
  {
   "cell_type": "code",
   "execution_count": 5,
   "metadata": {},
   "outputs": [],
   "source": [
    "#####---------- Pre-process paga connection file\n",
    "if (FALSE) {\n",
    "  paga.out.dir <- '/media/pipkin/ROCKET-PRO/CD8_DEV_SC/0_Acute-Chronic/1_Scanpy/0_Scanpy_out_resampled/0_Acute-Chronic_paga'\n",
    "  paga.conn.file <- \"paga_connect.csv\"\n",
    "  paga.conn.file <- file.path(paga.out.dir, paga.conn.file)\n",
    "  paga.conn.file.long <- gsub(\".csv\", \"_long.csv\", basename(paga.conn.file))\n",
    "    \n",
    "  new_names <- file.path(base_dir,'/0_Acute-Chronic/2_scVelo/0_scVelo_out_resampled/pt_ordered_cluster_avg.csv')\n",
    "  new_names_df <- read_csv(new_names) %>% dplyr::select(one_of(c('louvain', 'louvain_new_label')))\n",
    "    \n",
    "  #--- Read input\n",
    "  paga.conn.tb <- read_csv(paga.conn.file)\n",
    "  paga.conn.tb <- paga.conn.tb %>% melt(id.vars=\"X1\") # Melt wide to long\n",
    "  colnames(paga.conn.tb) <- c(\"From\", \"To\", \"Conn\")\n",
    "  #--- Remove duplicates (x_y & y_x keep one only)\n",
    "  paga.conn.tb$From <- as.numeric(paga.conn.tb$From)\n",
    "  paga.conn.tb$To <- as.numeric(as.character(paga.conn.tb$To))\n",
    "  paga.conn.tb <- paga.conn.tb %>% rowwise() %>% mutate(fromto = paste(as.character(sort(c(From, To))), collapse=\"_\"))\n",
    "  paga.conn.tb$From <- NULL\n",
    "  paga.conn.tb$To <- NULL\n",
    "  paga.conn.tb <- paga.conn.tb %>% distinct()\n",
    "  #--- Separate x_y into x y\n",
    "  paga.conn.tb <- paga.conn.tb %>% separate(fromto, c(\"node1\", \"node2\"), sep=\"_\")\n",
    "  paga.conn.tb$node1 <- as.numeric(paga.conn.tb$node1)\n",
    "  paga.conn.tb$node2 <- as.numeric(paga.conn.tb$node2)\n",
    "  paga.conn.tb <- paga.conn.tb %>% filter(Conn > 0)\n",
    "  #--- Convert new names\n",
    "  node1_df <- new_names_df\n",
    "  colnames(node1_df) <- c(\"node1\", \"node1_new\") \n",
    "  node2_df <- new_names_df\n",
    "  colnames(node2_df) <- c(\"node2\", \"node2_new\") \n",
    "  paga.conn.tb <- paga.conn.tb %>% \n",
    "    left_join(node1_df) %>% left_join(node2_df) \n",
    "  colnames(paga.conn.tb) <- c(\"Conn\", \"node1_old\", \"node2_old\", \"node1\", \"node2\")\n",
    "  \n",
    "  #--- Save\n",
    "  write_csv(paga.conn.tb, paga.conn.file.long)\n",
    "}\n",
    "\n",
    "# Get coordinates for edges\n",
    "if (FALSE) {\n",
    "  paga.out.dir <- '/media/pipkin/ROCKET-PRO/CD8_DEV_SC/0_Acute-Chronic/1_Scanpy/0_Scanpy_out_resampled/0_Acute-Chronic_paga'\n",
    "  paga.pos.file <- \"paga_pos.csv\"\n",
    "  paga.pos.file <- file.path(paga.out.dir, paga.pos.file)\n",
    "  paga.conn.file.coor <- gsub(\".csv\", \"_coor.csv\", paga.conn.file.long)\n",
    "\n",
    "  new_names <- file.path(base_dir,'/0_Acute-Chronic/2_scVelo/0_scVelo_out_resampled/pt_ordered_cluster_avg.csv')\n",
    "  new_names_df <- read_csv(new_names) %>% dplyr::select(one_of(c('louvain', 'louvain_new_label')))\n",
    "    \n",
    "  paga.conn.file.long <- \"paga_connect_long.csv\"\n",
    "  paga.pos.tb <- read_csv(paga.pos.file)\n",
    "  paga.conn.tb <- read_csv(paga.conn.file.long)\n",
    "  \n",
    "  #--- Merge dataframe with connection & coordinates\n",
    "  colnames(paga.pos.tb) <- c(\"node1_old\", \"x1\", \"y1\")\n",
    "  paga.conn.tb <- paga.conn.tb %>% left_join(paga.pos.tb)\n",
    "  colnames(paga.pos.tb) <- c(\"node2_old\", \"x2\", \"y2\")\n",
    "  paga.conn.tb <- paga.conn.tb %>% left_join(paga.pos.tb)\n",
    "  write_csv(paga.conn.tb, paga.conn.file.coor)\n",
    "    \n",
    "  #--- Convert node position dataframe to new name\n",
    "  paga.pos.file.new <- \"paga_pos_new.csv\"\n",
    "  colnames(paga.pos.tb) <- c('louvain', 'x', 'y')\n",
    "  paga.pos.tb <- paga.pos.tb %>% left_join(new_names_df)\n",
    "  colnames(paga.pos.tb) <- c(\"louvain_old\", \"x\", \"y\", \"louvain\")\n",
    "  write_csv(paga.pos.tb, paga.pos.file.new)\n",
    "}"
   ]
  },
  {
   "cell_type": "markdown",
   "metadata": {},
   "source": [
    "# 1. Plot "
   ]
  },
  {
   "cell_type": "code",
   "execution_count": 6,
   "metadata": {},
   "outputs": [
    {
     "name": "stderr",
     "output_type": "stream",
     "text": [
      "Parsed with column specification:\n",
      "cols(\n",
      "  Conn = \u001b[32mcol_double()\u001b[39m,\n",
      "  node1_old = \u001b[32mcol_double()\u001b[39m,\n",
      "  node2_old = \u001b[32mcol_double()\u001b[39m,\n",
      "  node1 = \u001b[31mcol_character()\u001b[39m,\n",
      "  node2 = \u001b[31mcol_character()\u001b[39m,\n",
      "  x1 = \u001b[32mcol_double()\u001b[39m,\n",
      "  y1 = \u001b[32mcol_double()\u001b[39m,\n",
      "  x2 = \u001b[32mcol_double()\u001b[39m,\n",
      "  y2 = \u001b[32mcol_double()\u001b[39m\n",
      ")\n",
      "\n",
      "Parsed with column specification:\n",
      "cols(\n",
      "  louvain_old = \u001b[32mcol_double()\u001b[39m,\n",
      "  x = \u001b[32mcol_double()\u001b[39m,\n",
      "  y = \u001b[32mcol_double()\u001b[39m,\n",
      "  louvain = \u001b[31mcol_character()\u001b[39m\n",
      ")\n",
      "\n"
     ]
    }
   ],
   "source": [
    "paga.conn.tb <- read_csv('/media/pipkin/ROCKET-PRO/CD8_DEV_SC/9_Figures/0_Acute-Chronic/0_resampled/node_plots/paga_connect_long_coor.csv')\n",
    "paga.pos.tb <- read_csv('/media/pipkin/ROCKET-PRO/CD8_DEV_SC/9_Figures/0_Acute-Chronic/0_resampled/node_plots/paga_pos_new.csv')\n",
    "paga.conn.tb <- paga.conn.tb %>% filter(Conn > 0.25)"
   ]
  },
  {
   "cell_type": "markdown",
   "metadata": {},
   "source": [
    "## Seperate ARM / Cl13 GSEA output"
   ]
  },
  {
   "cell_type": "code",
   "execution_count": 31,
   "metadata": {},
   "outputs": [],
   "source": [
    "wk_dir <- file.path(base_dir, '/9_Figures/0_Acute-Chronic/0_resampled/louvain_celltype_general_withNAV_sum_plot')\n",
    "setwd(wk_dir)\n",
    "source(file.path(tool_dir, \"pl_functions.R\"))"
   ]
  },
  {
   "cell_type": "code",
   "execution_count": 32,
   "metadata": {},
   "outputs": [
    {
     "name": "stderr",
     "output_type": "stream",
     "text": [
      "Parsed with column specification:\n",
      "cols(\n",
      "  comparison = \u001b[31mcol_character()\u001b[39m,\n",
      "  pathway = \u001b[31mcol_character()\u001b[39m,\n",
      "  NES = \u001b[32mcol_double()\u001b[39m,\n",
      "  padj = \u001b[32mcol_double()\u001b[39m,\n",
      "  leadingEdge_signal = \u001b[32mcol_double()\u001b[39m,\n",
      "  mlog10padj = \u001b[32mcol_double()\u001b[39m,\n",
      "  old_names = \u001b[31mcol_character()\u001b[39m\n",
      ")\n",
      "\n",
      "Parsed with column specification:\n",
      "cols(\n",
      "  gs_name = \u001b[31mcol_character()\u001b[39m,\n",
      "  type = \u001b[31mcol_character()\u001b[39m,\n",
      "  use = \u001b[31mcol_character()\u001b[39m,\n",
      "  plot_use = \u001b[31mcol_character()\u001b[39m,\n",
      "  abbr = \u001b[31mcol_character()\u001b[39m,\n",
      "  order = \u001b[32mcol_double()\u001b[39m\n",
      ")\n",
      "\n"
     ]
    }
   ],
   "source": [
    "gsea.out.file <- 'louvain_celltype_general_withNAV_gsea_all.csv'\n",
    "gsea.out.df <- read_csv(gsea.out.file)\n",
    "\n",
    "gs.use.df <- read_csv('/media/pipkin/ROCKET-PRO/T_cell_signature_Reference/Y_annotated/anno_plotuse_gs_20200928.csv')\n",
    "gs.use.df <- gs.use.df %>% drop_na(plot_use)"
   ]
  },
  {
   "cell_type": "code",
   "execution_count": 33,
   "metadata": {},
   "outputs": [
    {
     "name": "stderr",
     "output_type": "stream",
     "text": [
      "Joining, by = \"louvain\"\n",
      "\n",
      "Joining, by = \"louvain\"\n",
      "\n",
      "Joining, by = \"louvain\"\n",
      "\n",
      "Joining, by = \"louvain\"\n",
      "\n",
      "Joining, by = \"louvain\"\n",
      "\n",
      "Joining, by = \"louvain\"\n",
      "\n",
      "Joining, by = \"louvain\"\n",
      "\n",
      "Joining, by = \"louvain\"\n",
      "\n",
      "Joining, by = \"louvain\"\n",
      "\n",
      "Joining, by = \"louvain\"\n",
      "\n",
      "Joining, by = \"louvain\"\n",
      "\n",
      "Joining, by = \"louvain\"\n",
      "\n",
      "Joining, by = \"louvain\"\n",
      "\n",
      "Joining, by = \"louvain\"\n",
      "\n",
      "Joining, by = \"louvain\"\n",
      "\n",
      "Joining, by = \"louvain\"\n",
      "\n",
      "Joining, by = \"louvain\"\n",
      "\n",
      "Joining, by = \"louvain\"\n",
      "\n",
      "Joining, by = \"louvain\"\n",
      "\n",
      "Joining, by = \"louvain\"\n",
      "\n",
      "Joining, by = \"louvain\"\n",
      "\n",
      "Joining, by = \"louvain\"\n",
      "\n",
      "Joining, by = \"louvain\"\n",
      "\n",
      "Joining, by = \"louvain\"\n",
      "\n",
      "Joining, by = \"louvain\"\n",
      "\n",
      "Joining, by = \"louvain\"\n",
      "\n",
      "Joining, by = \"louvain\"\n",
      "\n",
      "Joining, by = \"louvain\"\n",
      "\n",
      "Joining, by = \"louvain\"\n",
      "\n",
      "Joining, by = \"louvain\"\n",
      "\n",
      "Joining, by = \"louvain\"\n",
      "\n",
      "Joining, by = \"louvain\"\n",
      "\n",
      "Joining, by = \"louvain\"\n",
      "\n",
      "Joining, by = \"louvain\"\n",
      "\n",
      "Joining, by = \"louvain\"\n",
      "\n",
      "Joining, by = \"louvain\"\n",
      "\n",
      "Joining, by = \"louvain\"\n",
      "\n",
      "Joining, by = \"louvain\"\n",
      "\n",
      "Joining, by = \"louvain\"\n",
      "\n",
      "Joining, by = \"louvain\"\n",
      "\n",
      "Joining, by = \"louvain\"\n",
      "\n",
      "Joining, by = \"louvain\"\n",
      "\n",
      "Joining, by = \"louvain\"\n",
      "\n",
      "Joining, by = \"louvain\"\n",
      "\n",
      "Joining, by = \"louvain\"\n",
      "\n",
      "Joining, by = \"louvain\"\n",
      "\n",
      "Joining, by = \"louvain\"\n",
      "\n",
      "Joining, by = \"louvain\"\n",
      "\n",
      "Joining, by = \"louvain\"\n",
      "\n",
      "Joining, by = \"louvain\"\n",
      "\n",
      "Joining, by = \"louvain\"\n",
      "\n",
      "Joining, by = \"louvain\"\n",
      "\n",
      "Joining, by = \"louvain\"\n",
      "\n",
      "Joining, by = \"louvain\"\n",
      "\n",
      "Joining, by = \"louvain\"\n",
      "\n",
      "Joining, by = \"louvain\"\n",
      "\n",
      "Joining, by = \"louvain\"\n",
      "\n",
      "Joining, by = \"louvain\"\n",
      "\n",
      "Joining, by = \"louvain\"\n",
      "\n",
      "Joining, by = \"louvain\"\n",
      "\n",
      "Joining, by = \"louvain\"\n",
      "\n",
      "Joining, by = \"louvain\"\n",
      "\n",
      "Joining, by = \"louvain\"\n",
      "\n",
      "Joining, by = \"louvain\"\n",
      "\n",
      "Joining, by = \"louvain\"\n",
      "\n",
      "Joining, by = \"louvain\"\n",
      "\n",
      "Joining, by = \"louvain\"\n",
      "\n",
      "Joining, by = \"louvain\"\n",
      "\n",
      "Joining, by = \"louvain\"\n",
      "\n",
      "Joining, by = \"louvain\"\n",
      "\n"
     ]
    }
   ],
   "source": [
    "for (i in c(1: nrow(gs.use.df))) {\n",
    "    gs_i <- gs.use.df$gs_name[i]\n",
    "    gs_abbr_i <- gs.use.df$abbr[i]\n",
    "\n",
    "    plot.i.df <- gsea.out.df %>% filter(pathway == gs_i) %>% separate(comparison, c(\"louvain\", \"celltype\"))\n",
    "    plot.i.df$nlog10padj <- -log10(plot.i.df$padj)\n",
    "\n",
    "    plot.i.a.df <- plot.i.df %>% filter(celltype == 'A') %>% select(one_of(c(\"louvain\", \"NES\", \"nlog10padj\")))\n",
    "    colnames(plot.i.a.df) <- c(\"louvain\", \"val\", \"size\")\n",
    "    plot.i.a.df <- paga.pos.tb %>% left_join(plot.i.a.df)\n",
    "\n",
    "    plot.i.c.df <- plot.i.df %>% filter(celltype == 'C') %>% select(one_of(c(\"louvain\", \"NES\", \"nlog10padj\")))\n",
    "    colnames(plot.i.c.df) <- c(\"louvain\", \"val\", \"size\")\n",
    "    plot.i.c.df <- paga.pos.tb %>% left_join(plot.i.c.df)\n",
    "\n",
    "    conn_plot(plot.i.a.df, paga.conn.tb, paste(gs_abbr_i, \"(Arm)\"), \"NES\" , \"white\", mute=FALSE)\n",
    "    conn_plot(plot.i.c.df, paga.conn.tb, paste(gs_abbr_i, \"(Cl13)\"), \"NES\" , \"white\", mute=FALSE)    \n",
    "}"
   ]
  },
  {
   "cell_type": "code",
   "execution_count": null,
   "metadata": {},
   "outputs": [],
   "source": []
  },
  {
   "cell_type": "code",
   "execution_count": null,
   "metadata": {},
   "outputs": [],
   "source": []
  }
 ],
 "metadata": {
  "kernelspec": {
   "display_name": "R",
   "language": "R",
   "name": "ir"
  },
  "language_info": {
   "codemirror_mode": "r",
   "file_extension": ".r",
   "mimetype": "text/x-r-source",
   "name": "R",
   "pygments_lexer": "r",
   "version": "3.6.3"
  }
 },
 "nbformat": 4,
 "nbformat_minor": 4
}
