{
 "cells": [
  {
   "cell_type": "code",
   "execution_count": 1,
   "metadata": {},
   "outputs": [
    {
     "data": {
      "text/html": [
       "<style>.container { width:90% !important; }</style>"
      ],
      "text/plain": [
       "<IPython.core.display.HTML object>"
      ]
     },
     "metadata": {},
     "output_type": "display_data"
    },
    {
     "name": "stdout",
     "output_type": "stream",
     "text": [
      "Running scvelo 0.2.2 (python 3.8.3) on 2020-12-01 22:03.\n"
     ]
    }
   ],
   "source": [
    "import os\n",
    "import pandas as pd\n",
    "import numpy as np\n",
    "import matplotlib.pyplot as plt\n",
    "import copy\n",
    "import sys\n",
    "from importlib import reload\n",
    "from pathlib import Path\n",
    "import scanpy as sc\n",
    "from pylab import rcParams\n",
    "from matplotlib.patches import Patch\n",
    "import re\n",
    "import seaborn as sns\n",
    "import glob\n",
    "\n",
    "from IPython.core.display import display, HTML\n",
    "display(HTML(\"<style>.container { width:90% !important; }</style>\"))\n",
    "\n",
    "import scvelo as scv\n",
    "scv.logging.print_version()\n",
    "\n",
    "\n",
    "scv.settings.verbosity = 3  # show errors(0), warnings(1), info(2), hints(3)\n",
    "scv.settings.set_figure_params('scvelo')  # for beautified visualization\n",
    "\n",
    "%matplotlib inline"
   ]
  },
  {
   "cell_type": "code",
   "execution_count": 2,
   "metadata": {},
   "outputs": [],
   "source": [
    "def adata_louvain_name_convert(inputAdata, orderDf, louvainNewOrdered, louvainOldOrdered):\n",
    "    inputAdata.obs[\"louvain_celltype\"] = [\"%s_%s\"%(x,y) for index, (x,y) in enumerate(zip(inputAdata.obs['louvain'], inputAdata.obs['cell_type']))]\n",
    "    inputAdata.obs[\"celltype_general\"] = [x[0] for x in inputAdata.obs['cell_type']]\n",
    "    \n",
    "    #--- Match old & new louvain levels\n",
    "    inputAdata.obs['louvain_old'] = inputAdata.obs['louvain']\n",
    "    inputAdata.uns['louvain_old_colors'] = inputAdata.uns['louvain_colors']\n",
    "    inputAdata.obs['louvain'] = [ louvainNewOrdered[louvainOldOrdered.index(int(x))] for x in inputAdata.obs['louvain'] ]\n",
    "    category_order = orderDf.sort_values('louvain')['louvain_new_label'].tolist()\n",
    "    category_order = [x for x in category_order if x in np.unique(inputAdata.obs['louvain'])]\n",
    "    inputAdata.obs['louvain'] = pd.Categorical(inputAdata.obs['louvain'].tolist(), categories=category_order) # The key is to set categories according to original order...\n",
    "\n",
    "    inputAdata.obs['Infection type'] = [ 'Armstrong' if 'A' in x else 'Clone13' if 'C' in x else 'Naive' for x in inputAdata.obs['cell_type']]\n",
    "    inputAdata.obs['cell_id'] = inputAdata.obs.index.tolist()"
   ]
  },
  {
   "cell_type": "code",
   "execution_count": 3,
   "metadata": {},
   "outputs": [
    {
     "name": "stdout",
     "output_type": "stream",
     "text": [
      "Start\n"
     ]
    }
   ],
   "source": [
    "###----- Get dir & load / reload packages\n",
    "try:\n",
    "    code_dir\n",
    "except NameError:\n",
    "    print(\"Start\")\n",
    "    code_dir = os.getcwd()\n",
    "    base_dir = code_dir.replace(\"/plotting_codes\",\"\")\n",
    "    tools_dir = base_dir + \"/tools\"\n",
    "\n",
    "    sys.path.insert(1, tools_dir)\n",
    "    import sc_addons\n",
    "    import sc_pl_addons\n",
    "else:\n",
    "    print(\"Reload\")\n",
    "    reload(sc_addons)\n",
    "    reload(sc_pl_addons)"
   ]
  },
  {
   "cell_type": "code",
   "execution_count": 4,
   "metadata": {},
   "outputs": [
    {
     "name": "stdout",
     "output_type": "stream",
     "text": [
      "0_Acute-Chronic\n"
     ]
    }
   ],
   "source": [
    "## ----- Setup working dir\n",
    "sp_name = \"0_Acute-Chronic\"\n",
    "analysis_name = [\"0\", \"resampled\"] \n",
    "\n",
    "wk_dir = base_dir + \"/9_Figures/%s/%s_%s/scVelo\"%(sp_name, analysis_name[0], analysis_name[1])\n",
    "Path(wk_dir).mkdir(parents=True, exist_ok=True)\n",
    "os.chdir(wk_dir)\n",
    "\n",
    "print(sp_name)"
   ]
  },
  {
   "cell_type": "code",
   "execution_count": 5,
   "metadata": {},
   "outputs": [],
   "source": [
    "###----- old - new cluster names\n",
    "order_file ='%s/%s/2_scVelo'%(base_dir, sp_name) + '/%s_scVelo_out_%sNoDyn/pt_ordered_cluster_avg.csv'%(analysis_name[0], analysis_name[1])\n",
    "order_df = pd.read_csv(order_file)\n",
    "louvain_new_ordered = order_df['louvain_new_label'].tolist()\n",
    "louvain_old_ordered = order_df['louvain'].tolist()"
   ]
  },
  {
   "cell_type": "code",
   "execution_count": 6,
   "metadata": {},
   "outputs": [],
   "source": [
    "resampled_h5ad = '/media/pipkin/ROCKET-PRO/CD8_DEV_SC/0_Acute-Chronic/2_scVelo/0_scVelo_out_resampled/0_Acute-Chronic_scVelo_postPT.h5ad'\n",
    "adata = scv.read(resampled_h5ad)\n",
    "\n",
    "act_h5ad = '/media/pipkin/ROCKET-PRO/CD8_DEV_SC/0_Acute-Chronic/2_scVelo/1_scVelo_out_ACTonly/0_Acute-Chronic_scVelo_postPT.h5ad'\n",
    "adata_act = scv.read(act_h5ad)\n",
    "\n",
    "act_arm_h5ad = '/media/pipkin/ROCKET-PRO/CD8_DEV_SC/0_Acute-Chronic/2_scVelo/2_scVelo_out_actARMonly/0_Acute-Chronic_scVelo_postPT.h5ad'\n",
    "adata_act_arm = scv.read(act_arm_h5ad)\n",
    "\n",
    "act_cl13_h5ad = '/media/pipkin/ROCKET-PRO/CD8_DEV_SC/0_Acute-Chronic/2_scVelo/3_scVelo_out_actCL13only/0_Acute-Chronic_scVelo_postPT.h5ad'\n",
    "adata_act_cl13 = scv.read(act_cl13_h5ad)\n",
    "\n",
    "arm_h5ad = '/media/pipkin/ROCKET-PRO/CD8_DEV_SC/0_Acute-Chronic/2_scVelo/2_scVelo_out_ARMonly/0_Acute-Chronic_scVelo_postPT.h5ad'\n",
    "adata_arm = scv.read(arm_h5ad)\n",
    "\n",
    "cl13_h5ad = '/media/pipkin/ROCKET-PRO/CD8_DEV_SC/0_Acute-Chronic/2_scVelo/3_scVelo_out_CL13only/0_Acute-Chronic_scVelo_postPT.h5ad'\n",
    "adata_cl13 = scv.read(cl13_h5ad)\n",
    "\n",
    "adata_louvain_name_convert(adata, order_df, louvain_new_ordered, louvain_old_ordered)\n",
    "adata_louvain_name_convert(adata_act, order_df, louvain_new_ordered, louvain_old_ordered)\n",
    "adata_louvain_name_convert(adata_act_arm, order_df, louvain_new_ordered, louvain_old_ordered)\n",
    "adata_louvain_name_convert(adata_act_cl13, order_df, louvain_new_ordered, louvain_old_ordered)\n",
    "adata_louvain_name_convert(adata_arm, order_df, louvain_new_ordered, louvain_old_ordered)\n",
    "adata_louvain_name_convert(adata_cl13, order_df, louvain_new_ordered, louvain_old_ordered)\n",
    "\n",
    "adata_act.obs['velocity_pseudotime'] = adata.obs['velocity_pseudotime'][adata_act.obs.index.tolist()]\n",
    "adata_act_arm.obs['velocity_pseudotime'] = adata.obs['velocity_pseudotime'][adata_act_arm.obs.index.tolist()]\n",
    "adata_act_cl13.obs['velocity_pseudotime'] = adata.obs['velocity_pseudotime'][adata_act_cl13.obs.index.tolist()]\n",
    "adata_arm.obs['velocity_pseudotime'] = adata.obs['velocity_pseudotime'][adata_arm.obs.index.tolist()]\n",
    "adata_cl13.obs['velocity_pseudotime'] = adata.obs['velocity_pseudotime'][adata_cl13.obs.index.tolist()]"
   ]
  },
  {
   "cell_type": "code",
   "execution_count": 7,
   "metadata": {},
   "outputs": [],
   "source": [
    "paga_xmax, paga_ymax = np.amax(adata.obsm['paga'], axis=0)\n",
    "paga_xmin, paga_ymin = np.amin(adata.obsm['paga'], axis=0)\n",
    "paga_dx, paga_dy = paga_xmax - paga_xmin, paga_ymax - paga_ymin\n",
    "paga_xmax, paga_xmin = paga_xmax + paga_dx*0.1, paga_xmin - paga_dx*0.1\n",
    "paga_ymax, paga_ymin = paga_ymax + paga_dy*0.1, paga_ymin - paga_dy*0.1"
   ]
  },
  {
   "cell_type": "code",
   "execution_count": 9,
   "metadata": {},
   "outputs": [],
   "source": [
    "### Intersect chromatin regulators & TF & cell surface receptors\n",
    "surface_df = pd.read_csv('https://raw.githubusercontent.com/Yolanda-HT/SurfaceMarkerSelect/master/MM_MARKERS.csv')\n",
    "surface_genes = surface_df['gene_name'].tolist()\n",
    "crf_df = pd.read_csv('https://raw.githubusercontent.com/ScrippsPipkinLab/CRF_Screen/master/Ref/CRF_all.csv?token=AGIX2O5YDPWAIG2IKP6YP3S72A7RQ')\n",
    "crf_genes = crf_df['gene_name'].tolist() + [x for x in crf_df['Alternative'].tolist() if str(x) != 'nan']\n",
    "tf_df = pd.read_csv('https://raw.githubusercontent.com/Yolanda-HT/TFclassDataCollection/master/Ravasi_TF.csv')\n",
    "tf_genes = tf_df['symbol'].tolist()\n",
    "all_genes = list(set(surface_genes + crf_genes + tf_genes))\n",
    "\n",
    "### Gene signature genes\n",
    "gs_plot_use_file = '/media/pipkin/ROCKET-PRO/T_cell_signature_Reference/Y_annotated/anno_plotuse_gs_20200928.csv'\n",
    "gs_plot_use_df = pd.read_csv(gs_plot_use_file)\n",
    "gs_use = gs_plot_use_df[gs_plot_use_df['plot_use'].notnull()]['gs_name'].tolist()\n",
    "\n",
    "gs_file = '/media/pipkin/ROCKET-PRO/T_cell_signature_Reference/X_GeneSignatures_mm/all_mouse_T_cell_signatures.csv'\n",
    "gs_df = pd.read_csv(gs_file)\n",
    "gs_df_use = gs_df[[True if x in gs_use else False for x in gs_df['gs_name']]]\n",
    "genes_use = list(set(gs_df_use['gene_symbol'].tolist()))\n",
    "\n",
    "genes_use = [i for i in genes_use if i in all_genes]"
   ]
  },
  {
   "cell_type": "code",
   "execution_count": 10,
   "metadata": {},
   "outputs": [],
   "source": [
    "out_dir = wk_dir + '/trajectory_drivers'\n",
    "Path(out_dir).mkdir(parents=True, exist_ok=True)\n",
    "\n",
    "out_dir = wk_dir + '/likelihood_genes_drivers'\n",
    "Path(out_dir).mkdir(parents=True, exist_ok=True)\n",
    "\n",
    "out_dir = wk_dir + '/pairwise_transition_prob'\n",
    "Path(out_dir).mkdir(parents=True, exist_ok=True)"
   ]
  },
  {
   "cell_type": "markdown",
   "metadata": {},
   "source": [
    "## Extract likelihood genes for all activated cells ARM v.s. CL13"
   ]
  },
  {
   "cell_type": "code",
   "execution_count": 11,
   "metadata": {},
   "outputs": [],
   "source": [
    "# Armstrong\n",
    "adata_ij_file = '/media/pipkin/ROCKET-PRO/CD8_DEV_SC/0_Acute-Chronic/2_scVelo/2_scVelo_out_actARMonly/0_Acute-Chronic_scVelo_postPT.h5ad'\n",
    "adata_ij = scv.read(adata_ij_file)\n",
    "top_genes = adata_ij.var['fit_likelihood'].sort_values(ascending=False)\n",
    "top_genes = top_genes[top_genes > 0]\n",
    "top_genes = top_genes[[True if x in genes_use else False for x in top_genes.index]]\n",
    "\n",
    "arm_top_genes = top_genes.index.tolist()\n",
    "arm_top_genes_score = top_genes.tolist()\n",
    "\n",
    "# Cl13\n",
    "adata_ij_file = '/media/pipkin/ROCKET-PRO/CD8_DEV_SC/0_Acute-Chronic/2_scVelo/3_scVelo_out_actCL13only/0_Acute-Chronic_scVelo_postPT.h5ad'\n",
    "adata_ij = scv.read(adata_ij_file)\n",
    "top_genes = adata_ij.var['fit_likelihood'].sort_values(ascending=False)\n",
    "top_genes = top_genes[top_genes > 0]\n",
    "top_genes = top_genes[[True if x in genes_use else False for x in top_genes.index]]\n",
    "\n",
    "cl13_top_genes = top_genes.index.tolist()\n",
    "cl13_top_genes_score = top_genes.tolist()\n",
    "\n",
    "# All\n",
    "adata_ij_file = '/media/pipkin/ROCKET-PRO/CD8_DEV_SC/0_Acute-Chronic/2_scVelo/1_scVelo_out_ACTonly/0_Acute-Chronic_scVelo_postPT.h5ad'\n",
    "adata_ij = scv.read(adata_ij_file)\n",
    "top_genes = adata_ij.var['fit_likelihood'].sort_values(ascending=False)\n",
    "top_genes = top_genes[top_genes > 0]\n",
    "top_genes = top_genes[[True if x in genes_use else False for x in top_genes.index]]\n",
    "\n",
    "all_top_genes = top_genes.index.tolist()\n",
    "all_top_genes_score = top_genes.tolist()\n",
    "\n",
    "#Create output df\n",
    "out_df = pd.DataFrame()\n",
    "\n",
    "out_df['All_ranked'] = pd.Series(all_top_genes)\n",
    "out_df['All_ranked_likelihood'] = pd.Series(all_top_genes_score)\n",
    "out_df['Arm_ranked'] = pd.Series(arm_top_genes)\n",
    "out_df['Arm_ranked_likelihood'] = pd.Series(arm_top_genes_score)\n",
    "out_df['Cl13_ranked'] = pd.Series(cl13_top_genes)\n",
    "out_df['Cl13_ranked_likelihood'] = pd.Series(cl13_top_genes_score)\n",
    "\n",
    "arm_uniq = list(set(arm_top_genes) - (set(cl13_top_genes) & set(arm_top_genes)))\n",
    "cl13_uniq = list(set(cl13_top_genes) - (set(cl13_top_genes) & set(arm_top_genes)))\n",
    "common = list(set(cl13_top_genes) & set(arm_top_genes))\n",
    "\n",
    "out_df['Arm_unique'] = pd.Series(arm_uniq)\n",
    "out_df['Cl13_unique'] = pd.Series(cl13_uniq)\n",
    "out_df['Arm-Cl13_common'] = pd.Series(common)\n",
    "out_df.to_csv(\"likelihood_genes/act_Arm-Cl13_likelihood_genes.csv\", index=False)"
   ]
  },
  {
   "cell_type": "markdown",
   "metadata": {},
   "source": [
    "## Extract likelihood genes for pairwise clusters"
   ]
  },
  {
   "cell_type": "code",
   "execution_count": 11,
   "metadata": {},
   "outputs": [],
   "source": [
    "cluster_vs_cluster_scvelo_dir = '/media/pipkin/ROCKET-PRO/CD8_DEV_SC/0_Acute-Chronic/2_scVelo/4_scVelo_out_LouvainCluster'"
   ]
  },
  {
   "cell_type": "code",
   "execution_count": null,
   "metadata": {},
   "outputs": [],
   "source": [
    "cp_use = [ [\"P2\", \"P5\"], [\"P5\",\"P6\"], [\"P5\",\"P3\"],\n",
    "           [\"P2\", \"P7\"], [\"P7\",\"P8\"],\n",
    "           [\"P2\", \"P4\"], [\"P4\",\"P9\"], [\"P9\",\"P10\"] ]\n",
    "\n",
    "for cp_ij in cp_use:\n",
    "    cp_ij_old = [louvain_old_ordered[louvain_new_ordered.index(x)] for x in cp_ij]\n",
    "    if cp_ij_old[1] < cp_ij_old[0]:\n",
    "        cp_ij_old = [cp_ij_old[1], cp_ij_old[0]]\n",
    "        cp_ij = [cp_ij[1], cp_ij[0]]\n",
    "    \n",
    "    # Armstrong\n",
    "    use_type = \"ARM\"\n",
    "    adata_ij_file = cluster_vs_cluster_scvelo_dir + \"/%s-louvain--%s_%s_scVelo.h5ad\"%(use_type,cp_ij_old[0], cp_ij_old[1])\n",
    "    if os.path.exists(adata_ij_file):\n",
    "        adata_ij = scv.read(adata_ij_file)\n",
    "        top_genes = adata_ij.var['fit_likelihood'].sort_values(ascending=False)\n",
    "        top_genes = top_genes[top_genes > 0]\n",
    "        top_genes = top_genes[[True if x in genes_use else False for x in top_genes.index]]\n",
    "\n",
    "        arm_top_genes = top_genes.index.tolist()\n",
    "        arm_top_genes_score = top_genes.tolist()\n",
    "    else:\n",
    "        arm_top_genes = []\n",
    "        arm_top_genes_score = []\n",
    "    \n",
    "    # Cl13\n",
    "    use_type = \"CL13\"\n",
    "    adata_ij_file = cluster_vs_cluster_scvelo_dir + \"/%s-louvain--%s_%s_scVelo.h5ad\"%(use_type,cp_ij_old[0], cp_ij_old[1])\n",
    "    if os.path.exists(adata_ij_file):\n",
    "        adata_ij = scv.read(adata_ij_file)\n",
    "        top_genes = adata_ij.var['fit_likelihood'].sort_values(ascending=False)\n",
    "        top_genes = top_genes[top_genes > 0]\n",
    "        top_genes = top_genes[[True if x in genes_use else False for x in top_genes.index]]\n",
    "\n",
    "        cl13_top_genes = top_genes.index.tolist()\n",
    "        cl13_top_genes_score = top_genes.tolist()\n",
    "    else:\n",
    "        cl13_top_genes = []\n",
    "        cl13_top_genes_score = []\n",
    "    \n",
    "    # All\n",
    "    adata_ij_file = cluster_vs_cluster_scvelo_dir + \"/louvain--%s_%s_scVelo.h5ad\"%(cp_ij_old[0], cp_ij_old[1])\n",
    "    adata_ij = scv.read(adata_ij_file)\n",
    "    top_genes = adata_ij.var['fit_likelihood'].sort_values(ascending=False)\n",
    "    top_genes = top_genes[top_genes > 0]\n",
    "    top_genes = top_genes[[True if x in genes_use else False for x in top_genes.index]]\n",
    "\n",
    "    all_top_genes = top_genes.index.tolist()\n",
    "    all_top_genes_score = top_genes.tolist()\n",
    "    \n",
    "    #Create output df\n",
    "    out_df = pd.DataFrame()\n",
    "\n",
    "    out_df['All_ranked'] = pd.Series(all_top_genes)\n",
    "    out_df['All_ranked_likelihood'] = pd.Series(all_top_genes_score)\n",
    "    out_df['Arm_ranked'] = pd.Series(arm_top_genes)\n",
    "    out_df['Arm_ranked_likelihood'] = pd.Series(arm_top_genes_score)\n",
    "    out_df['Cl13_ranked'] = pd.Series(cl13_top_genes)\n",
    "    out_df['Cl13_ranked_likelihood'] = pd.Series(cl13_top_genes_score)\n",
    "\n",
    "    arm_uniq = list(set(arm_top_genes) - (set(cl13_top_genes) & set(arm_top_genes)))\n",
    "    cl13_uniq = list(set(cl13_top_genes) - (set(cl13_top_genes) & set(arm_top_genes)))\n",
    "    common = list(set(cl13_top_genes) & set(arm_top_genes))\n",
    "\n",
    "    out_df['Arm_unique'] = pd.Series(arm_uniq)\n",
    "    out_df['Cl13_unique'] = pd.Series(cl13_uniq)\n",
    "    out_df['Arm-Cl13_common'] = pd.Series(common)\n",
    "    out_df.to_csv(\"likelihood_genes/%s-%s_Arm-Cl13_likelihood_genes.csv\"%(cp_ij[0], cp_ij[1]), index=False)"
   ]
  },
  {
   "cell_type": "markdown",
   "metadata": {},
   "source": [
    "-----\n",
    "# Extract & plot driver genes for each trajectory / diverging point"
   ]
  },
  {
   "cell_type": "code",
   "execution_count": 24,
   "metadata": {},
   "outputs": [],
   "source": [
    "def avg_v_e(driver_genes, adata_use):\n",
    "    velocity_df = pd.DataFrame(adata_use.layers['velocity'])\n",
    "    velocity_df.index = adata_use.obs.index\n",
    "    velocity_df.columns = adata_use.var.index\n",
    "\n",
    "    expr_df = pd.DataFrame(adata_use.layers['Ms']) #pd.DataFrame.sparse.from_spmatrix(adata_use.X).sparse.to_dense()\n",
    "    expr_df.index = adata_use.obs.index\n",
    "    expr_df.columns = adata_use.var.index\n",
    "    \n",
    "    v_avg_df = pd.DataFrame(index=louvain_new_ordered)\n",
    "    e_avg_df = pd.DataFrame(index=louvain_new_ordered)\n",
    "    for gene_i in driver_genes:\n",
    "        gene_i_act_v_df = pd.DataFrame(velocity_df[gene_i])\n",
    "        gene_i_act_v_df['louvain'] = adata_act.obs['louvain']\n",
    "        gene_i_act_v_avg = gene_i_act_v_df.groupby('louvain').mean()\n",
    "        gene_i_act_v_avg.columns = [gene_i]\n",
    "\n",
    "        gene_i_act_e_df = pd.DataFrame(expr_df[gene_i])\n",
    "        gene_i_act_e_df['louvain'] = adata_act.obs['louvain']\n",
    "        gene_i_act_e_avg = gene_i_act_e_df.groupby('louvain').mean()\n",
    "        gene_i_act_e_avg.columns = [gene_i]\n",
    "\n",
    "        v_avg_df = v_avg_df.join(gene_i_act_v_avg)\n",
    "        e_avg_df = e_avg_df.join(gene_i_act_e_avg)\n",
    "    e_z_df = e_avg_df.copy()\n",
    "    for col in e_z_df.columns:\n",
    "        e_z_df[col] = (e_z_df[col] - e_z_df[col].mean())/e_z_df[col].std(ddof=0)\n",
    "        \n",
    "    return(v_avg_df, e_avg_df, e_z_df)"
   ]
  },
  {
   "cell_type": "markdown",
   "metadata": {},
   "source": [
    "## P2 signature & driver gene"
   ]
  },
  {
   "cell_type": "code",
   "execution_count": 14,
   "metadata": {},
   "outputs": [],
   "source": [
    "###----- Find driver gene files & identify files with P2 in comparison\n",
    "driver_gene_dir = base_dir + '/9_Figures/0_Acute-Chronic/0_resampled/scVelo/likelihood_genes'\n",
    "dg_files = glob.glob(\"%s/*.csv\"%driver_gene_dir)\n",
    "\n",
    "p2_dg_files = [x  for x in dg_files if \"P2\" in x]\n",
    "\n",
    "all_drivers_file = base_dir + '/9_Figures/0_Acute-Chronic/0_resampled/scVelo/likelihood_genes/act_Arm-Cl13_likelihood_genes.csv'\n",
    "all_drivers_df = pd.read_csv(all_drivers_file)\n",
    "all_drivers  = all_drivers_df[all_drivers_df['All_ranked_likelihood'] > 0.25]['All_ranked'].tolist()\n",
    "\n",
    "# Get all the genes that are driver genes in All & in all P2 comparisons\n",
    "for i in p2_dg_files:\n",
    "    i_drivers_df = pd.read_csv(i)\n",
    "    i_drivers  = i_drivers_df[i_drivers_df['All_ranked_likelihood'] > 0.25]['All_ranked'].tolist()\n",
    "    all_drivers = list(set(all_drivers) & set(i_drivers))\n",
    "\n",
    "    \n",
    "###----- Read signature gene spreadsheet & intersect signature and driver genes\n",
    "sig_genes_file = base_dir + '/9_Figures/0_Acute-Chronic/0_resampled/louvain_signature_genes_neworder.csv'\n",
    "sig_genes_df = pd.read_csv(sig_genes_file)\n",
    "\n",
    "# Intersect the genes that are expressed higher in P2 & driver genes\n",
    "p2_sig_genes = sig_genes_df['P2'].tolist()\n",
    "p2_sig_driver_genes = list(set(p2_sig_genes) & set(all_drivers))\n",
    "\n",
    "\n",
    "###----- Likelihood\n",
    "p2_sig_driver_genes_likelihood = all_drivers_df[['All_ranked', 'All_ranked_likelihood']].set_index('All_ranked').loc[p2_sig_driver_genes]\n",
    "p2_sig_driver_genes_likelihood.to_csv(\"trajectory_drivers/p2_sig_driver_genes.csv\")"
   ]
  },
  {
   "cell_type": "code",
   "execution_count": 15,
   "metadata": {},
   "outputs": [],
   "source": [
    "use_genes = p2_sig_driver_genes \n",
    "use_v_avg_df, use_e_avg_df, use_e_z_df = avg_v_e(use_genes, adata_act)"
   ]
  },
  {
   "cell_type": "code",
   "execution_count": 16,
   "metadata": {},
   "outputs": [
    {
     "data": {
      "text/plain": [
       "<AxesSubplot:>"
      ]
     },
     "execution_count": 16,
     "metadata": {},
     "output_type": "execute_result"
    },
    {
     "data": {
      "image/png": "[encoded data removed]",
      "text/plain": [
       "<Figure size 216x216 with 2 Axes>"
      ]
     },
     "metadata": {
      "image/png": {
       "height": 211,
       "width": 255
      },
      "needs_background": "light"
     },
     "output_type": "display_data"
    }
   ],
   "source": [
    "### Plot\n",
    "rcParams['figure.figsize'] = 3,3\n",
    "sns.heatmap(use_v_avg_df.T, cmap='vlag', center=0)\n",
    "\n",
    "#corr_plot.figure.savefig(save_name + \".png\")"
   ]
  },
  {
   "cell_type": "code",
   "execution_count": 17,
   "metadata": {},
   "outputs": [
    {
     "data": {
      "image/png": "[encoded data removed]",
      "text/plain": [
       "<Figure size 216x252 with 4 Axes>"
      ]
     },
     "metadata": {
      "image/png": {
       "height": 250,
       "width": 215
      },
      "needs_background": "light"
     },
     "output_type": "display_data"
    },
    {
     "data": {
      "image/png": "[encoded data removed]",
      "text/plain": [
       "<Figure size 216x252 with 3 Axes>"
      ]
     },
     "metadata": {
      "image/png": {
       "height": 244,
       "width": 208
      },
      "needs_background": "light"
     },
     "output_type": "display_data"
    }
   ],
   "source": [
    "save_name = \"trajectory_drivers/p2_sig_driver_genes_expr\"\n",
    "\n",
    "### Plot\n",
    "rcParams['figure.figsize'] = 3,3\n",
    "\n",
    "clustermap = sns.clustermap(use_e_avg_df.loc[louvain_new_ordered[2:]].T, cmap='viridis_r', \n",
    "               col_cluster=False, figsize=(3,3.5), vmin=0, vmax=2.5)\n",
    "\n",
    "clustermap.savefig(save_name + \".png\")\n",
    "\n",
    "### Plot\n",
    "clustermap = sns.clustermap(use_e_avg_df.loc[louvain_new_ordered[2:]].T, cmap='viridis_r', \n",
    "               col_cluster=False, figsize=(3,3.5), cbar_pos=None, vmin=0, vmax=2.5)\n",
    "\n",
    "clustermap.savefig(save_name + \"_nolegend.png\")"
   ]
  },
  {
   "cell_type": "code",
   "execution_count": 18,
   "metadata": {},
   "outputs": [
    {
     "data": {
      "text/plain": [
       "<AxesSubplot:>"
      ]
     },
     "execution_count": 18,
     "metadata": {},
     "output_type": "execute_result"
    },
    {
     "data": {
      "image/png": "[encoded data removed]",
      "text/plain": [
       "<Figure size 216x216 with 2 Axes>"
      ]
     },
     "metadata": {
      "image/png": {
       "height": 211,
       "width": 245
      },
      "needs_background": "light"
     },
     "output_type": "display_data"
    }
   ],
   "source": [
    "rcParams['figure.figsize'] = 3,3\n",
    "sns.heatmap(use_e_z_df.T, cmap='vlag', center=0)"
   ]
  },
  {
   "cell_type": "markdown",
   "metadata": {},
   "source": [
    "## Trajectory specific, Arm / Cl13 -- common / specific drivers"
   ]
  },
  {
   "cell_type": "code",
   "execution_count": 70,
   "metadata": {},
   "outputs": [],
   "source": [
    "cp = [\"P2\", \"P5\"]\n",
    "cp_old = [louvain_old_ordered[louvain_new_ordered.index(x)] for x in cp]\n",
    "\n",
    "###----- Find driver gene files & identify files with P2 in comparison\n",
    "driver_gene_dir = base_dir + '/9_Figures/0_Acute-Chronic/0_resampled/scVelo/likelihood_genes'\n",
    "dg_files = glob.glob(\"%s/*.csv\"%driver_gene_dir)\n",
    "\n",
    "use_dg_file = [x  for x in dg_files if (cp[0] in x) & (cp[1] in x)][0]\n",
    "use_dg_df = pd.read_csv(use_dg_file)\n",
    "\n",
    "all_df = use_dg_df[['All_ranked', 'All_ranked_likelihood']]\n",
    "all_sig = all_df[all_df['All_ranked_likelihood'] > 0.25]['All_ranked'].tolist()\n",
    "\n",
    "arm_df = use_dg_df[['Arm_ranked', 'Arm_ranked_likelihood']]\n",
    "arm_sig = arm_df[arm_df['Arm_ranked_likelihood'] > 0.25]['Arm_ranked'].tolist()\n",
    "\n",
    "cl13_df = use_dg_df[['Cl13_ranked', 'Cl13_ranked_likelihood']]\n",
    "cl13_sig = cl13_df[cl13_df['Cl13_ranked_likelihood'] > 0.25]['Cl13_ranked'].tolist()\n",
    "\n",
    "common_drivers = set(arm_sig) & set(cl13_sig)\n",
    "arm_drivers = set(arm_sig) # - set(cl13_df[cl13_df['Cl13_ranked_likelihood'] > 0]['Cl13_ranked'].tolist())\n",
    "cl13_drivers = set(cl13_sig) # - set(arm_df[arm_df['Arm_ranked_likelihood'] > 0]['Arm_ranked'].tolist())"
   ]
  },
  {
   "cell_type": "code",
   "execution_count": 71,
   "metadata": {},
   "outputs": [
    {
     "name": "stdout",
     "output_type": "stream",
     "text": [
      "21\n"
     ]
    }
   ],
   "source": [
    "arm_de_dir = '/media/pipkin/ROCKET-PRO/CD8_DEV_SC/0_Acute-Chronic/1_Scanpy/1_Scanpy_out_resampled_ARM-NAV/2_DE/Cluster_vs_Cluster'\n",
    "arm_de_file = arm_de_dir + \"/%s/%s_vs_%s_differential.csv\"%(cp_old[0], cp_old[0], cp_old[1])\n",
    "arm_de_df = pd.read_csv(arm_de_file)\n",
    "\n",
    "cl13_de_dir = '/media/pipkin/ROCKET-PRO/CD8_DEV_SC/0_Acute-Chronic/1_Scanpy/1_Scanpy_out_resampled_CL13-NAV/2_DE/Cluster_vs_Cluster'\n",
    "cl13_de_file = cl13_de_dir + \"/%s/%s_vs_%s_differential.csv\"%(cp_old[0], cp_old[0], cp_old[1])\n",
    "cl13_de_df = pd.read_csv(cl13_de_file)\n",
    "\n",
    "arm_sig_df = arm_de_df[arm_de_df['t-test_logfc'] < 0]\n",
    "arm_sig_df = arm_sig_df[arm_sig_df['t-test_padj'] <= 0.05]\n",
    "\n",
    "cl13_sig_df = cl13_de_df[cl13_de_df['t-test_logfc'] < 0]\n",
    "cl13_sig_df = cl13_sig_df[cl13_sig_df['t-test_padj'] <= 0.05]\n",
    "\n",
    "arm_drivers_sig = list(set(arm_sig_df['gene_names']) & arm_drivers)\n",
    "cl13_drivers_sig = list(set(cl13_sig_df['gene_names']) & cl13_drivers)\n",
    "\n",
    "arm_drivers_sig_df = arm_df[[True if x in arm_drivers_sig else  False for x in arm_df['Arm_ranked']]].reset_index(drop=True)\n",
    "cl13_drivers_sig_df = cl13_df[[True if x in cl13_drivers_sig else  False for x in cl13_df['Cl13_ranked']]].reset_index(drop=True)\n",
    "\n",
    "driver_df = pd.DataFrame()\n",
    "driver_df['Arm_ranked'] = arm_drivers_sig_df['Arm_ranked']\n",
    "driver_df['Arm_ranked_likelihood'] = arm_drivers_sig_df['Arm_ranked_likelihood']\n",
    "driver_df['Cl13_ranked'] = cl13_drivers_sig_df['Cl13_ranked']\n",
    "driver_df['Cl13_ranked_likelihood'] = cl13_drivers_sig_df['Cl13_ranked_likelihood']\n",
    "driver_df.to_csv(\"trajectory_drivers/P2-P5_drivers.csv\", index=False)\n",
    "\n",
    "print(len(driver_df))"
   ]
  },
  {
   "cell_type": "code",
   "execution_count": 72,
   "metadata": {},
   "outputs": [],
   "source": [
    "use_genes = arm_drivers_sig\n",
    "use_adata = adata_act_arm\n",
    "\n",
    "use_genes_10 = arm_de_df[[True if x in use_genes else False for x in arm_de_df['gene_names']]].sort_values(str(cp_old[1]), ascending=False)['gene_names'].tolist()[:10]\n",
    "use_v_avg_df, use_e_avg_df, use_e_z_df = avg_v_e(use_genes_10, use_adata)"
   ]
  },
  {
   "cell_type": "code",
   "execution_count": 74,
   "metadata": {},
   "outputs": [
    {
     "data": {
      "image/png": "[encoded data removed]",
      "text/plain": [
       "<Figure size 216x216 with 4 Axes>"
      ]
     },
     "metadata": {
      "image/png": {
       "height": 219,
       "width": 215
      },
      "needs_background": "light"
     },
     "output_type": "display_data"
    },
    {
     "data": {
      "image/png": "[encoded data removed]",
      "text/plain": [
       "<Figure size 216x216 with 3 Axes>"
      ]
     },
     "metadata": {
      "image/png": {
       "height": 208,
       "width": 208
      },
      "needs_background": "light"
     },
     "output_type": "display_data"
    }
   ],
   "source": [
    "save_name = \"trajectory_drivers/p2-p5_sig_driver_genes_expr\"\n",
    "\n",
    "### Plot\n",
    "rcParams['figure.figsize'] = 3,3\n",
    "\n",
    "clustermap = sns.clustermap(use_e_avg_df.loc[louvain_new_ordered[2:]].T, cmap='viridis_r', \n",
    "               col_cluster=False, figsize=(3,3), vmin=0, vmax=10)\n",
    "\n",
    "clustermap.savefig(save_name + \".png\")\n",
    "\n",
    "### Plot\n",
    "clustermap = sns.clustermap(use_e_avg_df.loc[louvain_new_ordered[2:]].T, cmap='viridis_r', \n",
    "               col_cluster=False, figsize=(3,3), cbar_pos=None, vmin=0, vmax=10)\n",
    "\n",
    "clustermap.savefig(save_name + \"_nolegend.png\")"
   ]
  },
  {
   "cell_type": "markdown",
   "metadata": {},
   "source": [
    "*P2 v.s. P7*"
   ]
  },
  {
   "cell_type": "code",
   "execution_count": 65,
   "metadata": {},
   "outputs": [],
   "source": [
    "cp = [\"P2\", \"P7\"]\n",
    "cp_old = [louvain_old_ordered[louvain_new_ordered.index(x)] for x in cp]\n",
    "\n",
    "###----- Find driver gene files & identify files with P2 in comparison\n",
    "driver_gene_dir = base_dir + '/9_Figures/0_Acute-Chronic/0_resampled/scVelo/likelihood_genes'\n",
    "dg_files = glob.glob(\"%s/*.csv\"%driver_gene_dir)\n",
    "\n",
    "use_dg_file = [x  for x in dg_files if (cp[0] in x) & (cp[1] in x)][0]\n",
    "use_dg_df = pd.read_csv(use_dg_file)\n",
    "\n",
    "all_df = use_dg_df[['All_ranked', 'All_ranked_likelihood']]\n",
    "all_sig = all_df[all_df['All_ranked_likelihood'] > 0.25]['All_ranked'].tolist()\n",
    "\n",
    "arm_df = use_dg_df[['Arm_ranked', 'Arm_ranked_likelihood']]\n",
    "arm_sig = arm_df[arm_df['Arm_ranked_likelihood'] > 0.25]['Arm_ranked'].tolist()\n",
    "\n",
    "cl13_df = use_dg_df[['Cl13_ranked', 'Cl13_ranked_likelihood']]\n",
    "cl13_sig = cl13_df[cl13_df['Cl13_ranked_likelihood'] > 0.25]['Cl13_ranked'].tolist()\n",
    "\n",
    "common_drivers = set(arm_sig) & set(cl13_sig)\n",
    "arm_drivers = set(arm_sig) # - set(cl13_sig)\n",
    "cl13_drivers = set(cl13_sig) # - set(arm_sig)"
   ]
  },
  {
   "cell_type": "code",
   "execution_count": 66,
   "metadata": {},
   "outputs": [
    {
     "name": "stdout",
     "output_type": "stream",
     "text": [
      "49\n"
     ]
    }
   ],
   "source": [
    "arm_de_dir = '/media/pipkin/ROCKET-PRO/CD8_DEV_SC/0_Acute-Chronic/1_Scanpy/1_Scanpy_out_resampled_ARM-NAV/2_DE/Cluster_vs_Cluster'\n",
    "arm_de_file = arm_de_dir + \"/%s/%s_vs_%s_differential.csv\"%(cp_old[0], cp_old[0], cp_old[1])\n",
    "arm_de_df = pd.read_csv(arm_de_file)\n",
    "\n",
    "cl13_de_dir = '/media/pipkin/ROCKET-PRO/CD8_DEV_SC/0_Acute-Chronic/1_Scanpy/1_Scanpy_out_resampled_CL13-NAV/2_DE/Cluster_vs_Cluster'\n",
    "cl13_de_file = cl13_de_dir + \"/%s/%s_vs_%s_differential.csv\"%(cp_old[0], cp_old[0], cp_old[1])\n",
    "cl13_de_df = pd.read_csv(cl13_de_file)\n",
    "\n",
    "arm_sig_df = arm_de_df[arm_de_df['t-test_logfc'] < 0]\n",
    "arm_sig_df = arm_sig_df[arm_sig_df['t-test_padj'] <= 0.05]\n",
    "\n",
    "cl13_sig_df = cl13_de_df[cl13_de_df['t-test_logfc'] < 0]\n",
    "cl13_sig_df = cl13_sig_df[cl13_sig_df['t-test_padj'] <= 0.05]\n",
    "\n",
    "arm_drivers_sig = list( set(arm_sig_df['gene_names']) & arm_drivers)\n",
    "cl13_drivers_sig = list(set(cl13_sig_df['gene_names']) & cl13_drivers)\n",
    "\n",
    "arm_drivers_sig_df = arm_df[[True if x in arm_drivers_sig else  False for x in arm_df['Arm_ranked']]].reset_index(drop=True)\n",
    "cl13_drivers_sig_df = cl13_df[[True if x in cl13_drivers_sig else  False for x in cl13_df['Cl13_ranked']]].reset_index(drop=True)\n",
    "\n",
    "driver_df = pd.DataFrame()\n",
    "driver_df['Arm_ranked'] = arm_drivers_sig_df['Arm_ranked']\n",
    "driver_df['Arm_ranked_likelihood'] = arm_drivers_sig_df['Arm_ranked_likelihood']\n",
    "driver_df['Cl13_ranked'] = cl13_drivers_sig_df['Cl13_ranked']\n",
    "driver_df['Cl13_ranked_likelihood'] = cl13_drivers_sig_df['Cl13_ranked_likelihood']\n",
    "driver_df.to_csv(\"trajectory_drivers/P2-P7_drivers.csv\", index=False)\n",
    "\n",
    "print(len(driver_df))"
   ]
  },
  {
   "cell_type": "code",
   "execution_count": 67,
   "metadata": {},
   "outputs": [],
   "source": [
    "use_genes = arm_drivers_sig\n",
    "use_adata = adata_act_arm\n",
    "\n",
    "use_genes_10 = arm_de_df[[True if x in use_genes else False for x in arm_de_df['gene_names']]].sort_values(str(cp_old[1]), ascending=False)['gene_names'].tolist()[:10]\n",
    "use_v_avg_df, use_e_avg_df, use_e_z_df = avg_v_e(use_genes_10, use_adata)"
   ]
  },
  {
   "cell_type": "code",
   "execution_count": 69,
   "metadata": {},
   "outputs": [
    {
     "data": {
      "image/png": "[encoded data removed]",
      "text/plain": [
       "<Figure size 216x216 with 4 Axes>"
      ]
     },
     "metadata": {
      "image/png": {
       "height": 219,
       "width": 215
      },
      "needs_background": "light"
     },
     "output_type": "display_data"
    },
    {
     "data": {
      "image/png": "[encoded data removed]",
      "text/plain": [
       "<Figure size 216x216 with 3 Axes>"
      ]
     },
     "metadata": {
      "image/png": {
       "height": 208,
       "width": 208
      },
      "needs_background": "light"
     },
     "output_type": "display_data"
    }
   ],
   "source": [
    "save_name = \"trajectory_drivers/p2-p7_sig_driver_genes_expr\"\n",
    "\n",
    "### Plot\n",
    "rcParams['figure.figsize'] = 3,3\n",
    "\n",
    "clustermap = sns.clustermap(use_e_avg_df.loc[louvain_new_ordered[2:]].T, cmap='viridis_r', \n",
    "               col_cluster=False, figsize=(3,3), vmin=0, vmax=10)\n",
    "\n",
    "clustermap.savefig(save_name + \".png\")\n",
    "\n",
    "### Plot\n",
    "clustermap = sns.clustermap(use_e_avg_df.loc[louvain_new_ordered[2:]].T, cmap='viridis_r', \n",
    "               col_cluster=False, figsize=(3,3), cbar_pos=None, vmin=0, vmax=10)\n",
    "\n",
    "clustermap.savefig(save_name + \"_nolegend.png\")"
   ]
  },
  {
   "cell_type": "markdown",
   "metadata": {},
   "source": [
    "*P2 v.s. P4*"
   ]
  },
  {
   "cell_type": "code",
   "execution_count": 32,
   "metadata": {},
   "outputs": [],
   "source": [
    "cp = [\"P2\", \"P4\"]\n",
    "cp_old = [louvain_old_ordered[louvain_new_ordered.index(x)] for x in cp]\n",
    "\n",
    "###----- Find driver gene files & identify files with P2 in comparison\n",
    "driver_gene_dir = base_dir + '/9_Figures/0_Acute-Chronic/0_resampled/scVelo/likelihood_genes'\n",
    "dg_files = glob.glob(\"%s/*.csv\"%driver_gene_dir)\n",
    "\n",
    "use_dg_file = [x  for x in dg_files if (cp[0] in x) & (cp[1] in x)][0]\n",
    "use_dg_df = pd.read_csv(use_dg_file)\n",
    "\n",
    "all_df = use_dg_df[['All_ranked', 'All_ranked_likelihood']]\n",
    "all_sig = all_df[all_df['All_ranked_likelihood'] > 0.25]['All_ranked'].tolist()\n",
    "\n",
    "arm_df = use_dg_df[['Arm_ranked', 'Arm_ranked_likelihood']]\n",
    "arm_sig = arm_df[arm_df['Arm_ranked_likelihood'] > 0.25]['Arm_ranked'].tolist()\n",
    "\n",
    "cl13_df = use_dg_df[['Cl13_ranked', 'Cl13_ranked_likelihood']]\n",
    "cl13_sig = cl13_df[cl13_df['Cl13_ranked_likelihood'] > 0.25]['Cl13_ranked'].tolist()\n",
    "\n",
    "common_drivers = set(arm_sig) & set(cl13_sig)\n",
    "arm_drivers = set(arm_sig) # - set(cl13_sig)\n",
    "cl13_drivers = set(cl13_sig) #- set(arm_sig)"
   ]
  },
  {
   "cell_type": "code",
   "execution_count": 33,
   "metadata": {},
   "outputs": [
    {
     "name": "stdout",
     "output_type": "stream",
     "text": [
      "29\n"
     ]
    }
   ],
   "source": [
    "arm_de_dir = '/media/pipkin/ROCKET-PRO/CD8_DEV_SC/0_Acute-Chronic/1_Scanpy/1_Scanpy_out_resampled_ARM-NAV/2_DE/Cluster_vs_Cluster'\n",
    "arm_de_file = arm_de_dir + \"/%s/%s_vs_%s_differential.csv\"%(cp_old[0], cp_old[0], cp_old[1])\n",
    "arm_de_df = pd.read_csv(arm_de_file)\n",
    "\n",
    "cl13_de_dir = '/media/pipkin/ROCKET-PRO/CD8_DEV_SC/0_Acute-Chronic/1_Scanpy/1_Scanpy_out_resampled_CL13-NAV/2_DE/Cluster_vs_Cluster'\n",
    "cl13_de_file = cl13_de_dir + \"/%s/%s_vs_%s_differential.csv\"%(cp_old[0], cp_old[0], cp_old[1])\n",
    "cl13_de_df = pd.read_csv(cl13_de_file)\n",
    "\n",
    "arm_sig_df = arm_de_df[arm_de_df['t-test_logfc'] < 0]\n",
    "arm_sig_df = arm_sig_df[arm_sig_df['t-test_padj'] <= 0.05]\n",
    "\n",
    "cl13_sig_df = cl13_de_df[cl13_de_df['t-test_logfc'] < 0]\n",
    "cl13_sig_df = cl13_sig_df[cl13_sig_df['t-test_padj'] <= 0.05]\n",
    "\n",
    "arm_drivers_sig = list( set(arm_sig_df['gene_names']) & arm_drivers)\n",
    "cl13_drivers_sig = list(set(cl13_sig_df['gene_names']) & cl13_drivers)\n",
    "\n",
    "arm_drivers_sig_df = arm_df[[True if x in arm_drivers_sig else  False for x in arm_df['Arm_ranked']]].reset_index(drop=True)\n",
    "cl13_drivers_sig_df = cl13_df[[True if x in cl13_drivers_sig else  False for x in cl13_df['Cl13_ranked']]].reset_index(drop=True)\n",
    "\n",
    "driver_df = pd.DataFrame()\n",
    "driver_df['Arm_ranked'] = arm_drivers_sig_df['Arm_ranked']\n",
    "driver_df['Arm_ranked_likelihood'] = arm_drivers_sig_df['Arm_ranked_likelihood']\n",
    "driver_df['Cl13_ranked'] = cl13_drivers_sig_df['Cl13_ranked']\n",
    "driver_df['Cl13_ranked_likelihood'] = cl13_drivers_sig_df['Cl13_ranked_likelihood']\n",
    "driver_df.to_csv(\"trajectory_drivers/P2-P4_drivers.csv\", index=False)\n",
    "\n",
    "print(len(driver_df))"
   ]
  },
  {
   "cell_type": "code",
   "execution_count": 60,
   "metadata": {},
   "outputs": [],
   "source": [
    "use_genes = arm_drivers_sig\n",
    "use_adata = adata_act_arm\n",
    "\n",
    "use_genes_10 = arm_de_df[[True if x in use_genes else False for x in arm_de_df['gene_names']]].sort_values(str(cp_old[1]), ascending=False)['gene_names'].tolist()[:10]\n",
    "use_v_avg_df, use_e_avg_df, use_e_z_df = avg_v_e(use_genes_10, use_adata)"
   ]
  },
  {
   "cell_type": "code",
   "execution_count": 64,
   "metadata": {},
   "outputs": [
    {
     "data": {
      "image/png": "[encoded data removed]",
      "text/plain": [
       "<Figure size 216x216 with 4 Axes>"
      ]
     },
     "metadata": {
      "image/png": {
       "height": 219,
       "width": 215
      },
      "needs_background": "light"
     },
     "output_type": "display_data"
    },
    {
     "data": {
      "image/png": "[encoded data removed]",
      "text/plain": [
       "<Figure size 216x216 with 3 Axes>"
      ]
     },
     "metadata": {
      "image/png": {
       "height": 208,
       "width": 208
      },
      "needs_background": "light"
     },
     "output_type": "display_data"
    }
   ],
   "source": [
    "save_name = \"trajectory_drivers/p2-p4_sig_driver_genes_expr\"\n",
    "\n",
    "### Plot\n",
    "rcParams['figure.figsize'] = 3,3\n",
    "\n",
    "clustermap = sns.clustermap(use_e_avg_df.loc[louvain_new_ordered[2:]].T, cmap='viridis_r', \n",
    "               col_cluster=False, figsize=(3,3), vmin=0, vmax=10)\n",
    "\n",
    "clustermap.savefig(save_name + \".png\")\n",
    "\n",
    "### Plot\n",
    "clustermap = sns.clustermap(use_e_avg_df.loc[louvain_new_ordered[2:]].T, cmap='viridis_r', \n",
    "               col_cluster=False, figsize=(3,3), cbar_pos=None, vmin=0, vmax=10)\n",
    "\n",
    "clustermap.savefig(save_name + \"_nolegend.png\")"
   ]
  },
  {
   "cell_type": "markdown",
   "metadata": {},
   "source": [
    "## Overlapping driver genes in 3 main paths"
   ]
  },
  {
   "cell_type": "code",
   "execution_count": 81,
   "metadata": {},
   "outputs": [],
   "source": [
    "p2_p4_file = \"trajectory_drivers/P2-P4_drivers.csv\"\n",
    "p2_p5_file = \"trajectory_drivers/P2-P5_drivers.csv\"\n",
    "p2_p7_file = \"trajectory_drivers/P2-P7_drivers.csv\"\n",
    "\n",
    "p4_df = pd.read_csv(p2_p4_file)\n",
    "p5_df = pd.read_csv(p2_p5_file)\n",
    "p7_df = pd.read_csv(p2_p7_file)"
   ]
  },
  {
   "cell_type": "code",
   "execution_count": 79,
   "metadata": {},
   "outputs": [
    {
     "data": {
      "text/plain": [
       "'/media/pipkin/ROCKET-PRO/CD8_DEV_SC/0_Acute-Chronic/1_Scanpy/1_Scanpy_out_resampled_ARM-NAV/2_DE/Cluster_vs_Cluster'"
      ]
     },
     "execution_count": 79,
     "metadata": {},
     "output_type": "execute_result"
    }
   ],
   "source": [
    "arm_de_dir = '/media/pipkin/ROCKET-PRO/CD8_DEV_SC/0_Acute-Chronic/1_Scanpy/1_Scanpy_out_resampled_ARM-NAV/2_DE/Cluster_vs_Cluster'\n",
    "cl13_de_dir = '/media/pipkin/ROCKET-PRO/CD8_DEV_SC/0_Acute-Chronic/1_Scanpy/1_Scanpy_out_resampled_CL13-NAV/2_DE/Cluster_vs_Cluster'\n",
    "\n",
    "#--- get diff outputs for selecting top expressed genes\n",
    "cp = [\"P2\", \"P4\"]\n",
    "cp_old = [louvain_old_ordered[louvain_new_ordered.index(x)] for x in cp]\n",
    "\n",
    "arm_de_file = arm_de_dir + \"/%s/%s_vs_%s_differential.csv\"%(cp_old[0], cp_old[0], cp_old[1])\n",
    "cl13_de_file = cl13_de_dir + \"/%s/%s_vs_%s_differential.csv\"%(cp_old[0], cp_old[0], cp_old[1])\n",
    "\n",
    "p4_arm_de_df = pd.read_csv(arm_de_file)\n",
    "p4_arm_de_df = pd.read_csv(arm_de_file)"
   ]
  },
  {
   "cell_type": "code",
   "execution_count": 77,
   "metadata": {},
   "outputs": [
    {
     "data": {
      "text/plain": [
       "'/media/pipkin/ROCKET-PRO/CD8_DEV_SC/0_Acute-Chronic/1_Scanpy/1_Scanpy_out_resampled_ARM-NAV/2_DE/Cluster_vs_Cluster/6/6_vs_4_differential.csv'"
      ]
     },
     "execution_count": 77,
     "metadata": {},
     "output_type": "execute_result"
    }
   ],
   "source": [
    "arm_de_file"
   ]
  },
  {
   "cell_type": "code",
   "execution_count": 82,
   "metadata": {},
   "outputs": [],
   "source": [
    "from matplotlib_venn import venn3, venn3_circles"
   ]
  },
  {
   "cell_type": "code",
   "execution_count": 113,
   "metadata": {},
   "outputs": [
    {
     "name": "stdout",
     "output_type": "stream",
     "text": [
      "trajectory_drivers/Arm_trajectory-from-P2___all_overlap___driver_genes_expr\n"
     ]
    },
    {
     "ename": "NameError",
     "evalue": "name 'use_genes_top' is not defined",
     "output_type": "error",
     "traceback": [
      "\u001b[0;31m---------------------------------------------------------------------------\u001b[0m",
      "\u001b[0;31mNameError\u001b[0m                                 Traceback (most recent call last)",
      "\u001b[0;32m<ipython-input-113-119e32d4450a>\u001b[0m in \u001b[0;36m<module>\u001b[0;34m\u001b[0m\n\u001b[1;32m     41\u001b[0m             \u001b[0;32mif\u001b[0m \u001b[0;34m(\u001b[0m\u001b[0mlen\u001b[0m\u001b[0;34m(\u001b[0m\u001b[0mval\u001b[0m\u001b[0;34m)\u001b[0m \u001b[0;34m>\u001b[0m \u001b[0;36m2\u001b[0m\u001b[0;34m)\u001b[0m\u001b[0;34m:\u001b[0m\u001b[0;34m\u001b[0m\u001b[0;34m\u001b[0m\u001b[0m\n\u001b[1;32m     42\u001b[0m                 clustermap = sns.clustermap(use_e_avg_df.loc[louvain_new_ordered[2:]].T, cmap='viridis_r', \n\u001b[0;32m---> 43\u001b[0;31m                                col_cluster=False, figsize=(3,(0.27*len(use_genes_top) + 0.5)), cbar_pos=None, vmin=0, vmax=10)\n\u001b[0m\u001b[1;32m     44\u001b[0m \u001b[0;34m\u001b[0m\u001b[0m\n\u001b[1;32m     45\u001b[0m                 \u001b[0mclustermap\u001b[0m\u001b[0;34m.\u001b[0m\u001b[0msavefig\u001b[0m\u001b[0;34m(\u001b[0m\u001b[0msave_name\u001b[0m \u001b[0;34m+\u001b[0m \u001b[0;34m\"_nolegend.png\"\u001b[0m\u001b[0;34m)\u001b[0m\u001b[0;34m\u001b[0m\u001b[0;34m\u001b[0m\u001b[0m\n",
      "\u001b[0;31mNameError\u001b[0m: name 'use_genes_top' is not defined"
     ]
    }
   ],
   "source": [
    "###----- Arm\n",
    "for use, use_data in zip(['Arm', 'Cl13'], [adata_act_arm, adata_act_cl13]):\n",
    "    #use = 'Arm'\n",
    "    #use_data = adata_act_arm\n",
    "\n",
    "    p4_list = [x for x in p4_df['%s_ranked'%use].tolist() if str(x) != 'nan']\n",
    "    p5_list = [x for x in p5_df['%s_ranked'%use].tolist() if str(x) != 'nan']\n",
    "    p7_list = [x for x in p7_df['%s_ranked'%use].tolist() if str(x) != 'nan']\n",
    "    \n",
    "    plt.figure(figsize=(4,4))\n",
    "    venn3([set(p4_list),set(p7_list),set(p5_list)], (\"P4\", \"P7\", \"P5\"))\n",
    "    plt.savefig(\"trajectory_drivers/%s_venn3.png\"%use)\n",
    "    plt.close()\n",
    "\n",
    "\n",
    "    all_overlap = (set(p4_list) & set(p5_list) )& set(p7_list)\n",
    "    p4_p5_overlap = (set(p4_list) & set(p5_list) ) - all_overlap \n",
    "    p4_p7_overlap = (set(p4_list) & set(p7_list) ) - all_overlap \n",
    "    p5_p7_overlap = (set(p5_list) & set(p7_list) ) - all_overlap\n",
    "    p4_sp = set(p4_list) - p4_p5_overlap - p4_p7_overlap - all_overlap\n",
    "    p5_sp = set(p5_list) - p4_p5_overlap - p5_p7_overlap - all_overlap\n",
    "    p7_sp = set(p7_list) - p4_p7_overlap - p5_p7_overlap - all_overlap\n",
    "\n",
    "    plot_dict = {\"all_overlap\": all_overlap, \n",
    "                 \"p4_p5_overlap\": p4_p5_overlap, \"p4_p7_overlap\": p4_p7_overlap, \"p5_p7_overlap\": p5_p7_overlap, \n",
    "                \"p4_sp\": p4_sp, \"p5_sp\": p5_sp, \"p7_sp\": p7_sp}\n",
    "\n",
    "    for key, val in plot_dict.items():\n",
    "        #key = \"p4_sp\"\n",
    "        #val = plot_dict[key]\n",
    "        save_name = \"trajectory_drivers/%s_trajectory-from-P2___%s___driver_genes_expr\"%(use, key)\n",
    "        print(save_name)\n",
    "\n",
    "        ### Plot\n",
    "        if (len(val) > 0):\n",
    "            use_v_avg_df, use_e_avg_df, use_e_z_df = avg_v_e(val, use_adata)\n",
    "            val_n = len(val)\n",
    "            if 'sp' in key:\n",
    "                cluster_name = key.replace(\"_sp\",\"\").replace(\"p\",\"P\")\n",
    "                use_genes_top = use_e_avg_df.loc[cluster_name].sort_values(ascending=False).index.tolist()[:10]\n",
    "                use_e_avg_df = use_e_avg_df[use_genes_top]\n",
    "                val_n = len(use_genes_top)\n",
    "            if (len(val) > 2):\n",
    "                clustermap = sns.clustermap(use_e_avg_df.loc[louvain_new_ordered[2:]].T, cmap='viridis_r', \n",
    "                               col_cluster=False, figsize=(3,(0.27*val_n + 0.5)), cbar_pos=None, vmin=0, vmax=10)\n",
    "\n",
    "                clustermap.savefig(save_name + \"_nolegend.png\")\n",
    "                plt.close()\n",
    "            else:\n",
    "                rcParams['figure.figsize'] = 3, ( 0.3*len(val) + 0.3 )\n",
    "                heatmap = sns.heatmap(use_e_avg_df.loc[louvain_new_ordered[2:]].T, cmap='viridis_r', \n",
    "                                       vmin=0, vmax=2.5, cbar=False)\n",
    "                rcParams['figure.figsize'] = 3, ( 0.3*len(val) + 0.3 )\n",
    "                heatmap = heatmap.get_figure()    \n",
    "                heatmap.savefig(save_name + \"_nolegend.png\")\n",
    "                plt.close()"
   ]
  },
  {
   "cell_type": "code",
   "execution_count": 111,
   "metadata": {},
   "outputs": [
    {
     "data": {
      "text/html": [
       "<div>\n",
       "<style scoped>\n",
       "    .dataframe tbody tr th:only-of-type {\n",
       "        vertical-align: middle;\n",
       "    }\n",
       "\n",
       "    .dataframe tbody tr th {\n",
       "        vertical-align: top;\n",
       "    }\n",
       "\n",
       "    .dataframe thead th {\n",
       "        text-align: right;\n",
       "    }\n",
       "</style>\n",
       "<table border=\"1\" class=\"dataframe\">\n",
       "  <thead>\n",
       "    <tr style=\"text-align: right;\">\n",
       "      <th></th>\n",
       "      <th>Smad3</th>\n",
       "      <th>Mxd1</th>\n",
       "      <th>Ifngr1</th>\n",
       "      <th>Ctla4</th>\n",
       "      <th>Igf2r</th>\n",
       "      <th>Hmgb2</th>\n",
       "      <th>Entpd1</th>\n",
       "      <th>Klf3</th>\n",
       "      <th>Il17ra</th>\n",
       "      <th>Runx3</th>\n",
       "    </tr>\n",
       "  </thead>\n",
       "  <tbody>\n",
       "    <tr>\n",
       "      <th>P0</th>\n",
       "      <td>0.130943</td>\n",
       "      <td>0.126102</td>\n",
       "      <td>1.658336</td>\n",
       "      <td>0.796951</td>\n",
       "      <td>0.291665</td>\n",
       "      <td>2.368761</td>\n",
       "      <td>0.021466</td>\n",
       "      <td>1.258028</td>\n",
       "      <td>0.719809</td>\n",
       "      <td>2.134824</td>\n",
       "    </tr>\n",
       "    <tr>\n",
       "      <th>P1</th>\n",
       "      <td>0.193459</td>\n",
       "      <td>0.215483</td>\n",
       "      <td>3.013644</td>\n",
       "      <td>0.639100</td>\n",
       "      <td>0.401248</td>\n",
       "      <td>1.771012</td>\n",
       "      <td>0.014121</td>\n",
       "      <td>1.626146</td>\n",
       "      <td>0.926342</td>\n",
       "      <td>2.404097</td>\n",
       "    </tr>\n",
       "    <tr>\n",
       "      <th>P2</th>\n",
       "      <td>0.142883</td>\n",
       "      <td>0.043868</td>\n",
       "      <td>1.662085</td>\n",
       "      <td>1.034757</td>\n",
       "      <td>0.303553</td>\n",
       "      <td>17.673990</td>\n",
       "      <td>0.030145</td>\n",
       "      <td>0.392139</td>\n",
       "      <td>0.442121</td>\n",
       "      <td>2.428792</td>\n",
       "    </tr>\n",
       "    <tr>\n",
       "      <th>P3</th>\n",
       "      <td>0.247322</td>\n",
       "      <td>0.100931</td>\n",
       "      <td>4.081687</td>\n",
       "      <td>1.395637</td>\n",
       "      <td>0.541690</td>\n",
       "      <td>27.352617</td>\n",
       "      <td>0.079337</td>\n",
       "      <td>0.832188</td>\n",
       "      <td>0.654687</td>\n",
       "      <td>2.644410</td>\n",
       "    </tr>\n",
       "    <tr>\n",
       "      <th>P4</th>\n",
       "      <td>0.217157</td>\n",
       "      <td>0.090135</td>\n",
       "      <td>2.902536</td>\n",
       "      <td>1.335029</td>\n",
       "      <td>0.501289</td>\n",
       "      <td>20.904215</td>\n",
       "      <td>0.050366</td>\n",
       "      <td>0.728634</td>\n",
       "      <td>0.571980</td>\n",
       "      <td>2.900155</td>\n",
       "    </tr>\n",
       "    <tr>\n",
       "      <th>P5</th>\n",
       "      <td>0.193372</td>\n",
       "      <td>0.068490</td>\n",
       "      <td>2.373724</td>\n",
       "      <td>1.302476</td>\n",
       "      <td>0.574675</td>\n",
       "      <td>20.693998</td>\n",
       "      <td>0.054717</td>\n",
       "      <td>0.489931</td>\n",
       "      <td>0.482540</td>\n",
       "      <td>2.573548</td>\n",
       "    </tr>\n",
       "    <tr>\n",
       "      <th>P6</th>\n",
       "      <td>0.191720</td>\n",
       "      <td>0.098901</td>\n",
       "      <td>2.850988</td>\n",
       "      <td>1.328490</td>\n",
       "      <td>0.560561</td>\n",
       "      <td>22.706522</td>\n",
       "      <td>0.072914</td>\n",
       "      <td>0.750258</td>\n",
       "      <td>0.577263</td>\n",
       "      <td>2.301308</td>\n",
       "    </tr>\n",
       "    <tr>\n",
       "      <th>P7</th>\n",
       "      <td>0.295679</td>\n",
       "      <td>0.087683</td>\n",
       "      <td>2.842199</td>\n",
       "      <td>2.583493</td>\n",
       "      <td>0.677644</td>\n",
       "      <td>7.885876</td>\n",
       "      <td>0.010091</td>\n",
       "      <td>0.933661</td>\n",
       "      <td>0.634400</td>\n",
       "      <td>2.002903</td>\n",
       "    </tr>\n",
       "    <tr>\n",
       "      <th>P8</th>\n",
       "      <td>0.235711</td>\n",
       "      <td>0.145732</td>\n",
       "      <td>4.823930</td>\n",
       "      <td>2.963247</td>\n",
       "      <td>0.760531</td>\n",
       "      <td>5.369320</td>\n",
       "      <td>0.185523</td>\n",
       "      <td>0.747456</td>\n",
       "      <td>0.803624</td>\n",
       "      <td>1.902347</td>\n",
       "    </tr>\n",
       "    <tr>\n",
       "      <th>P9</th>\n",
       "      <td>0.330225</td>\n",
       "      <td>0.228861</td>\n",
       "      <td>4.521863</td>\n",
       "      <td>2.084582</td>\n",
       "      <td>0.994556</td>\n",
       "      <td>4.190288</td>\n",
       "      <td>0.079778</td>\n",
       "      <td>1.583610</td>\n",
       "      <td>0.852937</td>\n",
       "      <td>1.868236</td>\n",
       "    </tr>\n",
       "    <tr>\n",
       "      <th>P10</th>\n",
       "      <td>0.487696</td>\n",
       "      <td>0.178883</td>\n",
       "      <td>3.700345</td>\n",
       "      <td>0.467599</td>\n",
       "      <td>0.671654</td>\n",
       "      <td>3.929084</td>\n",
       "      <td>0.096886</td>\n",
       "      <td>2.536284</td>\n",
       "      <td>1.243140</td>\n",
       "      <td>2.503121</td>\n",
       "    </tr>\n",
       "  </tbody>\n",
       "</table>\n",
       "</div>"
      ],
      "text/plain": [
       "        Smad3      Mxd1    Ifngr1     Ctla4     Igf2r      Hmgb2    Entpd1  \\\n",
       "P0   0.130943  0.126102  1.658336  0.796951  0.291665   2.368761  0.021466   \n",
       "P1   0.193459  0.215483  3.013644  0.639100  0.401248   1.771012  0.014121   \n",
       "P2   0.142883  0.043868  1.662085  1.034757  0.303553  17.673990  0.030145   \n",
       "P3   0.247322  0.100931  4.081687  1.395637  0.541690  27.352617  0.079337   \n",
       "P4   0.217157  0.090135  2.902536  1.335029  0.501289  20.904215  0.050366   \n",
       "P5   0.193372  0.068490  2.373724  1.302476  0.574675  20.693998  0.054717   \n",
       "P6   0.191720  0.098901  2.850988  1.328490  0.560561  22.706522  0.072914   \n",
       "P7   0.295679  0.087683  2.842199  2.583493  0.677644   7.885876  0.010091   \n",
       "P8   0.235711  0.145732  4.823930  2.963247  0.760531   5.369320  0.185523   \n",
       "P9   0.330225  0.228861  4.521863  2.084582  0.994556   4.190288  0.079778   \n",
       "P10  0.487696  0.178883  3.700345  0.467599  0.671654   3.929084  0.096886   \n",
       "\n",
       "         Klf3    Il17ra     Runx3  \n",
       "P0   1.258028  0.719809  2.134824  \n",
       "P1   1.626146  0.926342  2.404097  \n",
       "P2   0.392139  0.442121  2.428792  \n",
       "P3   0.832188  0.654687  2.644410  \n",
       "P4   0.728634  0.571980  2.900155  \n",
       "P5   0.489931  0.482540  2.573548  \n",
       "P6   0.750258  0.577263  2.301308  \n",
       "P7   0.933661  0.634400  2.002903  \n",
       "P8   0.747456  0.803624  1.902347  \n",
       "P9   1.583610  0.852937  1.868236  \n",
       "P10  2.536284  1.243140  2.503121  "
      ]
     },
     "execution_count": 111,
     "metadata": {},
     "output_type": "execute_result"
    }
   ],
   "source": [
    "use_e_avg_df"
   ]
  },
  {
   "cell_type": "code",
   "execution_count": 104,
   "metadata": {},
   "outputs": [
    {
     "name": "stdout",
     "output_type": "stream",
     "text": [
      "P4\n"
     ]
    }
   ],
   "source": []
  },
  {
   "cell_type": "code",
   "execution_count": 89,
   "metadata": {},
   "outputs": [
    {
     "data": {
      "text/html": [
       "<div>\n",
       "<style scoped>\n",
       "    .dataframe tbody tr th:only-of-type {\n",
       "        vertical-align: middle;\n",
       "    }\n",
       "\n",
       "    .dataframe tbody tr th {\n",
       "        vertical-align: top;\n",
       "    }\n",
       "\n",
       "    .dataframe thead th {\n",
       "        text-align: right;\n",
       "    }\n",
       "</style>\n",
       "<table border=\"1\" class=\"dataframe\">\n",
       "  <thead>\n",
       "    <tr style=\"text-align: right;\">\n",
       "      <th></th>\n",
       "      <th>initial_size_spliced</th>\n",
       "      <th>initial_size_unspliced</th>\n",
       "      <th>initial_size</th>\n",
       "      <th>n_counts</th>\n",
       "      <th>scanpy_paga</th>\n",
       "      <th>cell_type</th>\n",
       "      <th>louvain</th>\n",
       "      <th>dpt_pseudotime</th>\n",
       "      <th>velocity_self_transition</th>\n",
       "      <th>root_cells</th>\n",
       "      <th>end_points</th>\n",
       "      <th>velocity_pseudotime</th>\n",
       "      <th>latent_time</th>\n",
       "      <th>louvain_celltype</th>\n",
       "      <th>celltype_general</th>\n",
       "      <th>louvain_old</th>\n",
       "      <th>Infection type</th>\n",
       "      <th>cell_id</th>\n",
       "    </tr>\n",
       "  </thead>\n",
       "  <tbody>\n",
       "    <tr>\n",
       "      <th>Exp391:AAACGAAGTCAAAGTAx</th>\n",
       "      <td>13553</td>\n",
       "      <td>6195</td>\n",
       "      <td>13553.0</td>\n",
       "      <td>2955.693848</td>\n",
       "      <td>Use</td>\n",
       "      <td>A5P</td>\n",
       "      <td>P3</td>\n",
       "      <td>0.950097</td>\n",
       "      <td>0.203285</td>\n",
       "      <td>0.014483</td>\n",
       "      <td>5.654799e-08</td>\n",
       "      <td>0.612657</td>\n",
       "      <td>0.138033</td>\n",
       "      <td>1_A5P</td>\n",
       "      <td>A</td>\n",
       "      <td>1</td>\n",
       "      <td>Armstrong</td>\n",
       "      <td>Exp391:AAACGAAGTCAAAGTAx</td>\n",
       "    </tr>\n",
       "    <tr>\n",
       "      <th>Exp391:AAACGAATCGACCATAx</th>\n",
       "      <td>10150</td>\n",
       "      <td>3023</td>\n",
       "      <td>10150.0</td>\n",
       "      <td>2779.387695</td>\n",
       "      <td>Use</td>\n",
       "      <td>A5T</td>\n",
       "      <td>P6</td>\n",
       "      <td>0.935370</td>\n",
       "      <td>0.020070</td>\n",
       "      <td>0.008974</td>\n",
       "      <td>6.172704e-07</td>\n",
       "      <td>0.718390</td>\n",
       "      <td>0.205511</td>\n",
       "      <td>5_A5T</td>\n",
       "      <td>A</td>\n",
       "      <td>5</td>\n",
       "      <td>Armstrong</td>\n",
       "      <td>Exp391:AAACGAATCGACCATAx</td>\n",
       "    </tr>\n",
       "    <tr>\n",
       "      <th>Exp391:AAAGAACCAAGAGGTCx</th>\n",
       "      <td>9874</td>\n",
       "      <td>4537</td>\n",
       "      <td>9874.0</td>\n",
       "      <td>2908.851318</td>\n",
       "      <td>Use</td>\n",
       "      <td>A8P</td>\n",
       "      <td>P10</td>\n",
       "      <td>0.930741</td>\n",
       "      <td>0.128884</td>\n",
       "      <td>0.001542</td>\n",
       "      <td>3.979158e-03</td>\n",
       "      <td>0.916788</td>\n",
       "      <td>0.636850</td>\n",
       "      <td>2_A8P</td>\n",
       "      <td>A</td>\n",
       "      <td>2</td>\n",
       "      <td>Armstrong</td>\n",
       "      <td>Exp391:AAAGAACCAAGAGGTCx</td>\n",
       "    </tr>\n",
       "    <tr>\n",
       "      <th>Exp391:AAACGAAGTTACCGTAx</th>\n",
       "      <td>12993</td>\n",
       "      <td>2620</td>\n",
       "      <td>12993.0</td>\n",
       "      <td>2976.219482</td>\n",
       "      <td>Use</td>\n",
       "      <td>A5T</td>\n",
       "      <td>P3</td>\n",
       "      <td>0.959151</td>\n",
       "      <td>0.203556</td>\n",
       "      <td>0.001513</td>\n",
       "      <td>6.574427e-07</td>\n",
       "      <td>0.621698</td>\n",
       "      <td>0.195835</td>\n",
       "      <td>1_A5T</td>\n",
       "      <td>A</td>\n",
       "      <td>1</td>\n",
       "      <td>Armstrong</td>\n",
       "      <td>Exp391:AAACGAAGTTACCGTAx</td>\n",
       "    </tr>\n",
       "    <tr>\n",
       "      <th>Exp391:AAACGCTAGATTCGCTx</th>\n",
       "      <td>37345</td>\n",
       "      <td>9169</td>\n",
       "      <td>37345.0</td>\n",
       "      <td>3365.644531</td>\n",
       "      <td>Use</td>\n",
       "      <td>A5P</td>\n",
       "      <td>P2</td>\n",
       "      <td>0.811422</td>\n",
       "      <td>0.069549</td>\n",
       "      <td>0.001235</td>\n",
       "      <td>9.090163e-08</td>\n",
       "      <td>0.572046</td>\n",
       "      <td>0.065008</td>\n",
       "      <td>6_A5P</td>\n",
       "      <td>A</td>\n",
       "      <td>6</td>\n",
       "      <td>Armstrong</td>\n",
       "      <td>Exp391:AAACGCTAGATTCGCTx</td>\n",
       "    </tr>\n",
       "    <tr>\n",
       "      <th>...</th>\n",
       "      <td>...</td>\n",
       "      <td>...</td>\n",
       "      <td>...</td>\n",
       "      <td>...</td>\n",
       "      <td>...</td>\n",
       "      <td>...</td>\n",
       "      <td>...</td>\n",
       "      <td>...</td>\n",
       "      <td>...</td>\n",
       "      <td>...</td>\n",
       "      <td>...</td>\n",
       "      <td>...</td>\n",
       "      <td>...</td>\n",
       "      <td>...</td>\n",
       "      <td>...</td>\n",
       "      <td>...</td>\n",
       "      <td>...</td>\n",
       "      <td>...</td>\n",
       "    </tr>\n",
       "    <tr>\n",
       "      <th>Exp391:TTTGACTGTATACGGGx</th>\n",
       "      <td>2820</td>\n",
       "      <td>2545</td>\n",
       "      <td>2820.0</td>\n",
       "      <td>2361.379639</td>\n",
       "      <td>Use</td>\n",
       "      <td>A8P</td>\n",
       "      <td>P10</td>\n",
       "      <td>0.955259</td>\n",
       "      <td>0.486844</td>\n",
       "      <td>0.000005</td>\n",
       "      <td>5.613867e-01</td>\n",
       "      <td>0.970407</td>\n",
       "      <td>0.696327</td>\n",
       "      <td>2_A8P</td>\n",
       "      <td>A</td>\n",
       "      <td>2</td>\n",
       "      <td>Armstrong</td>\n",
       "      <td>Exp391:TTTGACTGTATACGGGx</td>\n",
       "    </tr>\n",
       "    <tr>\n",
       "      <th>Exp391:TTTGGAGAGCGTACAGx</th>\n",
       "      <td>13856</td>\n",
       "      <td>4641</td>\n",
       "      <td>13856.0</td>\n",
       "      <td>3126.095703</td>\n",
       "      <td>Use</td>\n",
       "      <td>A8P</td>\n",
       "      <td>P9</td>\n",
       "      <td>0.938823</td>\n",
       "      <td>0.176358</td>\n",
       "      <td>0.195907</td>\n",
       "      <td>3.962669e-07</td>\n",
       "      <td>0.709298</td>\n",
       "      <td>0.197942</td>\n",
       "      <td>0_A8P</td>\n",
       "      <td>A</td>\n",
       "      <td>0</td>\n",
       "      <td>Armstrong</td>\n",
       "      <td>Exp391:TTTGGAGAGCGTACAGx</td>\n",
       "    </tr>\n",
       "    <tr>\n",
       "      <th>Exp391:TTTGTTGCACACGGTCx</th>\n",
       "      <td>4654</td>\n",
       "      <td>2953</td>\n",
       "      <td>4654.0</td>\n",
       "      <td>2697.948730</td>\n",
       "      <td>Use</td>\n",
       "      <td>A8P</td>\n",
       "      <td>P9</td>\n",
       "      <td>0.934500</td>\n",
       "      <td>0.150275</td>\n",
       "      <td>0.003640</td>\n",
       "      <td>3.567155e-04</td>\n",
       "      <td>0.904972</td>\n",
       "      <td>0.643876</td>\n",
       "      <td>0_A8P</td>\n",
       "      <td>A</td>\n",
       "      <td>0</td>\n",
       "      <td>Armstrong</td>\n",
       "      <td>Exp391:TTTGTTGCACACGGTCx</td>\n",
       "    </tr>\n",
       "    <tr>\n",
       "      <th>Exp391:TTTGGTTTCCGCGATGx</th>\n",
       "      <td>3360</td>\n",
       "      <td>2084</td>\n",
       "      <td>3360.0</td>\n",
       "      <td>2292.282959</td>\n",
       "      <td>Use</td>\n",
       "      <td>A8P</td>\n",
       "      <td>P10</td>\n",
       "      <td>0.947714</td>\n",
       "      <td>0.060019</td>\n",
       "      <td>0.003915</td>\n",
       "      <td>1.207058e-01</td>\n",
       "      <td>0.948867</td>\n",
       "      <td>0.618368</td>\n",
       "      <td>2_A8P</td>\n",
       "      <td>A</td>\n",
       "      <td>2</td>\n",
       "      <td>Armstrong</td>\n",
       "      <td>Exp391:TTTGGTTTCCGCGATGx</td>\n",
       "    </tr>\n",
       "    <tr>\n",
       "      <th>Exp391:TTTGGTTGTCACTTAGx</th>\n",
       "      <td>3861</td>\n",
       "      <td>2454</td>\n",
       "      <td>3861.0</td>\n",
       "      <td>2359.498535</td>\n",
       "      <td>Use</td>\n",
       "      <td>A8P</td>\n",
       "      <td>P10</td>\n",
       "      <td>0.949120</td>\n",
       "      <td>0.238325</td>\n",
       "      <td>0.000019</td>\n",
       "      <td>4.083173e-01</td>\n",
       "      <td>0.942542</td>\n",
       "      <td>0.666665</td>\n",
       "      <td>2_A8P</td>\n",
       "      <td>A</td>\n",
       "      <td>2</td>\n",
       "      <td>Armstrong</td>\n",
       "      <td>Exp391:TTTGGTTGTCACTTAGx</td>\n",
       "    </tr>\n",
       "  </tbody>\n",
       "</table>\n",
       "<p>4882 rows × 18 columns</p>\n",
       "</div>"
      ],
      "text/plain": [
       "                          initial_size_spliced  initial_size_unspliced  \\\n",
       "Exp391:AAACGAAGTCAAAGTAx                 13553                    6195   \n",
       "Exp391:AAACGAATCGACCATAx                 10150                    3023   \n",
       "Exp391:AAAGAACCAAGAGGTCx                  9874                    4537   \n",
       "Exp391:AAACGAAGTTACCGTAx                 12993                    2620   \n",
       "Exp391:AAACGCTAGATTCGCTx                 37345                    9169   \n",
       "...                                        ...                     ...   \n",
       "Exp391:TTTGACTGTATACGGGx                  2820                    2545   \n",
       "Exp391:TTTGGAGAGCGTACAGx                 13856                    4641   \n",
       "Exp391:TTTGTTGCACACGGTCx                  4654                    2953   \n",
       "Exp391:TTTGGTTTCCGCGATGx                  3360                    2084   \n",
       "Exp391:TTTGGTTGTCACTTAGx                  3861                    2454   \n",
       "\n",
       "                          initial_size     n_counts scanpy_paga cell_type  \\\n",
       "Exp391:AAACGAAGTCAAAGTAx       13553.0  2955.693848         Use       A5P   \n",
       "Exp391:AAACGAATCGACCATAx       10150.0  2779.387695         Use       A5T   \n",
       "Exp391:AAAGAACCAAGAGGTCx        9874.0  2908.851318         Use       A8P   \n",
       "Exp391:AAACGAAGTTACCGTAx       12993.0  2976.219482         Use       A5T   \n",
       "Exp391:AAACGCTAGATTCGCTx       37345.0  3365.644531         Use       A5P   \n",
       "...                                ...          ...         ...       ...   \n",
       "Exp391:TTTGACTGTATACGGGx        2820.0  2361.379639         Use       A8P   \n",
       "Exp391:TTTGGAGAGCGTACAGx       13856.0  3126.095703         Use       A8P   \n",
       "Exp391:TTTGTTGCACACGGTCx        4654.0  2697.948730         Use       A8P   \n",
       "Exp391:TTTGGTTTCCGCGATGx        3360.0  2292.282959         Use       A8P   \n",
       "Exp391:TTTGGTTGTCACTTAGx        3861.0  2359.498535         Use       A8P   \n",
       "\n",
       "                         louvain  dpt_pseudotime  velocity_self_transition  \\\n",
       "Exp391:AAACGAAGTCAAAGTAx      P3        0.950097                  0.203285   \n",
       "Exp391:AAACGAATCGACCATAx      P6        0.935370                  0.020070   \n",
       "Exp391:AAAGAACCAAGAGGTCx     P10        0.930741                  0.128884   \n",
       "Exp391:AAACGAAGTTACCGTAx      P3        0.959151                  0.203556   \n",
       "Exp391:AAACGCTAGATTCGCTx      P2        0.811422                  0.069549   \n",
       "...                          ...             ...                       ...   \n",
       "Exp391:TTTGACTGTATACGGGx     P10        0.955259                  0.486844   \n",
       "Exp391:TTTGGAGAGCGTACAGx      P9        0.938823                  0.176358   \n",
       "Exp391:TTTGTTGCACACGGTCx      P9        0.934500                  0.150275   \n",
       "Exp391:TTTGGTTTCCGCGATGx     P10        0.947714                  0.060019   \n",
       "Exp391:TTTGGTTGTCACTTAGx     P10        0.949120                  0.238325   \n",
       "\n",
       "                          root_cells    end_points  velocity_pseudotime  \\\n",
       "Exp391:AAACGAAGTCAAAGTAx    0.014483  5.654799e-08             0.612657   \n",
       "Exp391:AAACGAATCGACCATAx    0.008974  6.172704e-07             0.718390   \n",
       "Exp391:AAAGAACCAAGAGGTCx    0.001542  3.979158e-03             0.916788   \n",
       "Exp391:AAACGAAGTTACCGTAx    0.001513  6.574427e-07             0.621698   \n",
       "Exp391:AAACGCTAGATTCGCTx    0.001235  9.090163e-08             0.572046   \n",
       "...                              ...           ...                  ...   \n",
       "Exp391:TTTGACTGTATACGGGx    0.000005  5.613867e-01             0.970407   \n",
       "Exp391:TTTGGAGAGCGTACAGx    0.195907  3.962669e-07             0.709298   \n",
       "Exp391:TTTGTTGCACACGGTCx    0.003640  3.567155e-04             0.904972   \n",
       "Exp391:TTTGGTTTCCGCGATGx    0.003915  1.207058e-01             0.948867   \n",
       "Exp391:TTTGGTTGTCACTTAGx    0.000019  4.083173e-01             0.942542   \n",
       "\n",
       "                          latent_time louvain_celltype celltype_general  \\\n",
       "Exp391:AAACGAAGTCAAAGTAx     0.138033            1_A5P                A   \n",
       "Exp391:AAACGAATCGACCATAx     0.205511            5_A5T                A   \n",
       "Exp391:AAAGAACCAAGAGGTCx     0.636850            2_A8P                A   \n",
       "Exp391:AAACGAAGTTACCGTAx     0.195835            1_A5T                A   \n",
       "Exp391:AAACGCTAGATTCGCTx     0.065008            6_A5P                A   \n",
       "...                               ...              ...              ...   \n",
       "Exp391:TTTGACTGTATACGGGx     0.696327            2_A8P                A   \n",
       "Exp391:TTTGGAGAGCGTACAGx     0.197942            0_A8P                A   \n",
       "Exp391:TTTGTTGCACACGGTCx     0.643876            0_A8P                A   \n",
       "Exp391:TTTGGTTTCCGCGATGx     0.618368            2_A8P                A   \n",
       "Exp391:TTTGGTTGTCACTTAGx     0.666665            2_A8P                A   \n",
       "\n",
       "                         louvain_old Infection type                   cell_id  \n",
       "Exp391:AAACGAAGTCAAAGTAx           1      Armstrong  Exp391:AAACGAAGTCAAAGTAx  \n",
       "Exp391:AAACGAATCGACCATAx           5      Armstrong  Exp391:AAACGAATCGACCATAx  \n",
       "Exp391:AAAGAACCAAGAGGTCx           2      Armstrong  Exp391:AAAGAACCAAGAGGTCx  \n",
       "Exp391:AAACGAAGTTACCGTAx           1      Armstrong  Exp391:AAACGAAGTTACCGTAx  \n",
       "Exp391:AAACGCTAGATTCGCTx           6      Armstrong  Exp391:AAACGCTAGATTCGCTx  \n",
       "...                              ...            ...                       ...  \n",
       "Exp391:TTTGACTGTATACGGGx           2      Armstrong  Exp391:TTTGACTGTATACGGGx  \n",
       "Exp391:TTTGGAGAGCGTACAGx           0      Armstrong  Exp391:TTTGGAGAGCGTACAGx  \n",
       "Exp391:TTTGTTGCACACGGTCx           0      Armstrong  Exp391:TTTGTTGCACACGGTCx  \n",
       "Exp391:TTTGGTTTCCGCGATGx           2      Armstrong  Exp391:TTTGGTTTCCGCGATGx  \n",
       "Exp391:TTTGGTTGTCACTTAGx           2      Armstrong  Exp391:TTTGGTTGTCACTTAGx  \n",
       "\n",
       "[4882 rows x 18 columns]"
      ]
     },
     "execution_count": 89,
     "metadata": {},
     "output_type": "execute_result"
    }
   ],
   "source": [
    "use_adata[]"
   ]
  },
  {
   "cell_type": "code",
   "execution_count": 84,
   "metadata": {},
   "outputs": [
    {
     "name": "stdout",
     "output_type": "stream",
     "text": [
      "trajectory_drivers/Cl13_trajectory-from-P2___all_overlap___driver_genes_expr\n"
     ]
    },
    {
     "data": {
      "image/png": "[encoded data removed]",
      "text/plain": [
       "<Figure size 216x28.8 with 1 Axes>"
      ]
     },
     "metadata": {
      "image/png": {
       "height": 54,
       "width": 200
      },
      "needs_background": "light"
     },
     "output_type": "display_data"
    }
   ],
   "source": [
    "key = 'all_overlap'\n",
    "val = plot_dict[key]\n",
    "\n",
    "save_name = \"trajectory_drivers/%s_trajectory-from-P2___%s___driver_genes_expr\"%(use, key)\n",
    "print(save_name)\n",
    "\n",
    "use_v_avg_df, use_e_avg_df, use_e_z_df = avg_v_e(val, use_adata)\n",
    "\n",
    "rcParams['figure.figsize'] = 3, 0.4\n",
    "heatmap = sns.heatmap(use_e_avg_df.loc[louvain_new_ordered[2:]].T, cmap='viridis_r', \n",
    "                       vmin=0, vmax=10, cbar=False)\n",
    "heatmap = heatmap.get_figure()    \n",
    "heatmap.savefig(save_name + \"_nolegend.png\")"
   ]
  },
  {
   "cell_type": "code",
   "execution_count": 85,
   "metadata": {},
   "outputs": [
    {
     "name": "stdout",
     "output_type": "stream",
     "text": [
      "trajectory_drivers/Cl13_trajectory-from-P2___p5_p7_overlap___driver_genes_expr\n"
     ]
    },
    {
     "data": {
      "image/png": "[encoded data removed]",
      "text/plain": [
       "<Figure size 216x28.8 with 1 Axes>"
      ]
     },
     "metadata": {
      "image/png": {
       "height": 54,
       "width": 200
      },
      "needs_background": "light"
     },
     "output_type": "display_data"
    }
   ],
   "source": [
    "key = 'p5_p7_overlap'\n",
    "val = plot_dict[key]\n",
    "\n",
    "save_name = \"trajectory_drivers/%s_trajectory-from-P2___%s___driver_genes_expr\"%(use, key)\n",
    "print(save_name)\n",
    "\n",
    "use_v_avg_df, use_e_avg_df, use_e_z_df = avg_v_e(val, use_adata)\n",
    "\n",
    "rcParams['figure.figsize'] = 3, 0.4\n",
    "heatmap = sns.heatmap(use_e_avg_df.loc[louvain_new_ordered[2:]].T, cmap='viridis_r', \n",
    "                       vmin=0, vmax=10, cbar=False)\n",
    "heatmap = heatmap.get_figure()    \n",
    "heatmap.savefig(save_name + \"_nolegend.png\")"
   ]
  },
  {
   "cell_type": "code",
   "execution_count": null,
   "metadata": {},
   "outputs": [],
   "source": []
  },
  {
   "cell_type": "code",
   "execution_count": null,
   "metadata": {},
   "outputs": [],
   "source": []
  }
 ],
 "metadata": {
  "kernelspec": {
   "display_name": "Python 3",
   "language": "python",
   "name": "python3"
  },
  "language_info": {
   "codemirror_mode": {
    "name": "ipython",
    "version": 3
   },
   "file_extension": ".py",
   "mimetype": "text/x-python",
   "name": "python",
   "nbconvert_exporter": "python",
   "pygments_lexer": "ipython3",
   "version": "3.8.3"
  }
 },
 "nbformat": 4,
 "nbformat_minor": 4
}
