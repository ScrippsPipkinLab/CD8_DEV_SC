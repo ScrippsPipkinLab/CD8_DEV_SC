{
 "cells": [
  {
   "cell_type": "code",
   "execution_count": 2,
   "metadata": {},
   "outputs": [],
   "source": [
    "library(dplyr)\n",
    "library(tidyverse)\n",
    "library(magrittr)\n",
    "library(RColorBrewer)\n",
    "library(ggrepel)\n",
    "library(ggpubr)"
   ]
  },
  {
   "cell_type": "code",
   "execution_count": 3,
   "metadata": {},
   "outputs": [],
   "source": [
    "in_vec <- function(refvec, vecx){\n",
    "  out_vec <- numeric(length(vecx))\n",
    "  for (x in c(1:length(vecx))){\n",
    "    if (vecx[x] %in% refvec){\n",
    "      out_vec[x] <- 1\n",
    "    }\n",
    "    else {\n",
    "      out_vec[x] <- 0\n",
    "    }\n",
    "  }\n",
    "  return(out_vec)\n",
    "}\n",
    "\n",
    "in_vec_name <- function(refvec, vecx){\n",
    "  out_vec <- character(length(vecx))\n",
    "  for (x in c(1:length(vecx))){\n",
    "    if (vecx[x] %in% refvec){\n",
    "      out_vec[x] <- vecx[x]\n",
    "    }\n",
    "    else {\n",
    "      out_vec[x] <- \"\"\n",
    "    }\n",
    "  }\n",
    "  return(out_vec)\n",
    "}"
   ]
  },
  {
   "cell_type": "code",
   "execution_count": 12,
   "metadata": {},
   "outputs": [
    {
     "name": "stderr",
     "output_type": "stream",
     "text": [
      "\n",
      "\u001b[36m──\u001b[39m \u001b[1m\u001b[1mColumn specification\u001b[1m\u001b[22m \u001b[36m───────────────────────────────────────────\u001b[39m\n",
      "cols(\n",
      "  gene_name = \u001b[31mcol_character()\u001b[39m,\n",
      "  Q4minusQ1 = \u001b[32mcol_double()\u001b[39m,\n",
      "  Q3minusOther = \u001b[32mcol_double()\u001b[39m,\n",
      "  InputMinusAvg = \u001b[32mcol_double()\u001b[39m\n",
      ")\n",
      "\n",
      "\n",
      "\n",
      "\u001b[36m──\u001b[39m \u001b[1m\u001b[1mColumn specification\u001b[1m\u001b[22m \u001b[36m───────────────────────────────────────────\u001b[39m\n",
      "cols(\n",
      "  complex = \u001b[31mcol_character()\u001b[39m,\n",
      "  gene_name = \u001b[31mcol_character()\u001b[39m\n",
      ")\n",
      "\n",
      "\n"
     ]
    }
   ],
   "source": [
    "wk.dir <- '/media/pipkin/ROCKET-PRO/CD8_DEV_SC/9_Figures/7_CRF_Screen'\n",
    "setwd(wk.dir)\n",
    "\n",
    "z.p.file <- '/media/pipkin/ROCKET-PRO/CD8_DEV_SC/7_CRF_Screen/5_zscore_div_sqrt_pval/all_z-score_div_sqrt-p_sqrt.csv'\n",
    "z.p.tb <- read_csv(z.p.file)\n",
    "\n",
    "crf.file <- '/media/pipkin/ROCKET-PRO/CD8_DEV_SC/7_CRF_Screen/CRF_complexes.csv'\n",
    "crf.tb <- read_csv(crf.file)\n",
    "crf.complex.vec <- unique(crf.tb$complex)"
   ]
  },
  {
   "cell_type": "code",
   "execution_count": 9,
   "metadata": {},
   "outputs": [
    {
     "data": {
      "text/html": [
       "27"
      ],
      "text/latex": [
       "27"
      ],
      "text/markdown": [
       "27"
      ],
      "text/plain": [
       "[1] 27"
      ]
     },
     "metadata": {},
     "output_type": "display_data"
    }
   ],
   "source": [
    "length(crf.complex.vec)"
   ]
  },
  {
   "cell_type": "code",
   "execution_count": null,
   "metadata": {},
   "outputs": [],
   "source": [
    "use_cols <- c('Q4minusQ1', 'Q3minusOther','InputMinusAvg') \n",
    "#anno.vec <- c(\"Tbx21\", \"Id2\", \"Runx3\", \"Mbd2\", \"Suv39h1\", \"Rpa3\", \"Bop1\", \"Chd7\", \"Smarca4\", \"Smarcc2\")\n",
    "#name.root <- \"Baf\"\n",
    "\n",
    "for (use_col in use_cols){\n",
    "    n <- 1\n",
    "    barplot.list <- list()\n",
    "    for (complex.i in crf.complex.vec){\n",
    "        name.root <- complex.i\n",
    "        crf.genes <- crf.tb %>% filter(complex == complex.i) %>% .$gene_name\n",
    "        anno.vec <- str_to_title(crf.genes)\n",
    "\n",
    "        dir.create(file.path(wk.dir, name.root), showWarnings = FALSE)\n",
    "        setwd(file.path(wk.dir, name.root))\n",
    "    \n",
    "        out.name <- paste(name.root, paste(use_col, \"bar\", sep=\".\"), sep=\"_\")\n",
    "\n",
    "        z.p.tb.use <- z.p.tb %>% select(one_of(c('gene_name', use_col)))\n",
    "        colnames(z.p.tb.use) <- c('gene_name', 'val')\n",
    "\n",
    "        # Rank order\n",
    "        z.p.tb.use <- z.p.tb.use %>% arrange(val)\n",
    "        z.p.tb.use$gene_name <- factor(z.p.tb.use$gene_name, levels=z.p.tb.use$gene_name)\n",
    "\n",
    "        # Set color for top and bottom quarter\n",
    "        col_panel <- c( \"deepskyblue\", \"snow2\", \"tomato\")\n",
    "        qt <- as.integer(floor(nrow(z.p.tb.use)/4))\n",
    "        col.vec <- rep(col_panel[1], qt)\n",
    "        col.vec <- c(col.vec, rep(col_panel[2], nrow(z.p.tb.use)-2*qt))\n",
    "        col.vec <- c(col.vec, rep(col_panel[3], qt))\n",
    "        z.p.tb.use$color_use <- col.vec\n",
    "\n",
    "        # Select annotations\n",
    "        z.p.tb.use <- z.p.tb.use %>% \n",
    "        mutate(pointsize = in_vec(anno.vec, as.character(z.p.tb.use$gene_name))) %>%\n",
    "        mutate(annoname = in_vec_name(anno.vec, as.character(z.p.tb.use$gene_name)))\n",
    "\n",
    "        # Plot\n",
    "        bar.plot <- ggplot(z.p.tb.use, aes(gene_name, val, fill=col.vec)) +\n",
    "            geom_col(alpha=0.7) +\n",
    "            geom_point(size=z.p.tb.use$pointsize, stroke = 0) +\n",
    "            scale_fill_manual(values=col_panel) +\n",
    "            coord_flip() +\n",
    "            scale_y_continuous(position = \"right\", limits=c(-5.2, 5.2)) +\n",
    "            geom_hline(yintercept=0, size=0.25) +\n",
    "            theme(panel.grid.major = element_blank(), panel.grid.minor = element_blank(),\n",
    "                  panel.background = element_rect(fill = \"white\",colour = \"white\", size = 0.5, linetype = \"solid\"),\n",
    "                  axis.line.x = element_line(colour=\"black\", size=0.5), axis.title.x = element_blank(), \n",
    "                  axis.ticks.y = element_blank(), axis.text.y=element_blank(), axis.title.y = element_blank(),\n",
    "                  legend.position = \"none\")\n",
    "\n",
    "        ggsave(paste(out.name, \"_nolabel.png\", sep=\"\"), bar.plot, width=6, height=9, units=\"cm\")\n",
    "\n",
    "        bar.plot <- bar.plot +\n",
    "            geom_text_repel(aes(label=annoname), force=25, min.segment.length=0, max.overlaps = Inf)\n",
    "\n",
    "        ggsave(paste(out.name, \".pdf\", sep=\"\"), bar.plot, width=6, height=9, units=\"cm\")\n",
    "        ggsave(paste(out.name, \".png\", sep=\"\"), bar.plot, width=6, height=9, units=\"cm\")\n",
    "        \n",
    "        barplot.list[[complex.i]] <- bar.plot + ggtitle(complex.i) + theme(plot.title = element_text(hjust = 0.5))\n",
    "        n <- n + 1        \n",
    "    } \n",
    "    all.plots <- ggarrange(plotlist=barplot.list, ncol=6, nrow=5)\n",
    "    all.name <- file.path(wk.dir, paste(use_col,'_all-CRF','.pdf', sep=\"\"))\n",
    "    ggsave(all.name, device='pdf', width = 50, height = 60, dpi = 300, units = \"cm\")\n",
    "}\n",
    "\n"
   ]
  },
  {
   "cell_type": "code",
   "execution_count": 186,
   "metadata": {},
   "outputs": [],
   "source": []
  },
  {
   "cell_type": "code",
   "execution_count": null,
   "metadata": {},
   "outputs": [],
   "source": []
  }
 ],
 "metadata": {
  "kernelspec": {
   "display_name": "R",
   "language": "R",
   "name": "ir"
  },
  "language_info": {
   "codemirror_mode": "r",
   "file_extension": ".r",
   "mimetype": "text/x-r-source",
   "name": "R",
   "pygments_lexer": "r",
   "version": "3.6.3"
  }
 },
 "nbformat": 4,
 "nbformat_minor": 4
}
