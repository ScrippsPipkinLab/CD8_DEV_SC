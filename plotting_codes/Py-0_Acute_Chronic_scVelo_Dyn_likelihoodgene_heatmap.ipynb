{
 "cells": [
  {
   "cell_type": "code",
   "execution_count": 5,
   "metadata": {},
   "outputs": [
    {
     "data": {
      "text/html": [
       "<style>.container { width:90% !important; }</style>"
      ],
      "text/plain": [
       "<IPython.core.display.HTML object>"
      ]
     },
     "metadata": {},
     "output_type": "display_data"
    },
    {
     "name": "stdout",
     "output_type": "stream",
     "text": [
      "Running scvelo 0.2.2 (python 3.8.3) on 2021-05-22 09:26.\n"
     ]
    }
   ],
   "source": [
    "import os\n",
    "import pandas as pd\n",
    "import numpy as np\n",
    "import matplotlib.pyplot as plt\n",
    "import copy\n",
    "import sys\n",
    "from importlib import reload\n",
    "from pathlib import Path\n",
    "import scanpy as sc\n",
    "from pylab import rcParams\n",
    "from matplotlib.patches import Patch\n",
    "import re\n",
    "import seaborn as sns\n",
    "import glob\n",
    "import matplotlib\n",
    "from scipy.stats import zscore\n",
    "\n",
    "from IPython.core.display import display, HTML\n",
    "display(HTML(\"<style>.container { width:90% !important; }</style>\"))\n",
    "\n",
    "import scvelo as scv\n",
    "scv.logging.print_version()\n",
    "\n",
    "\n",
    "scv.settings.verbosity = 3  # show errors(0), warnings(1), info(2), hints(3)\n",
    "scv.settings.set_figure_params('scvelo')  # for beautified visualization\n",
    "\n",
    "%matplotlib inline"
   ]
  },
  {
   "cell_type": "code",
   "execution_count": 6,
   "metadata": {},
   "outputs": [],
   "source": [
    "def adata_louvain_name_convert(inputAdata, orderDf, louvainNewOrdered, louvainOldOrdered):\n",
    "    inputAdata.obs[\"louvain_celltype\"] = [\"%s_%s\"%(x,y) for index, (x,y) in enumerate(zip(inputAdata.obs['louvain'], inputAdata.obs['cell_type']))]\n",
    "    inputAdata.obs[\"celltype_general\"] = [x[0] for x in inputAdata.obs['cell_type']]\n",
    "    \n",
    "    #--- Match old & new louvain levels\n",
    "    inputAdata.obs['louvain_old'] = inputAdata.obs['louvain']\n",
    "    inputAdata.uns['louvain_old_colors'] = inputAdata.uns['louvain_colors']\n",
    "    inputAdata.obs['louvain'] = [ louvainNewOrdered[louvainOldOrdered.index(int(x))] for x in inputAdata.obs['louvain'] ]\n",
    "    category_order = orderDf.sort_values('louvain')['louvain_new_label'].tolist()\n",
    "    category_order = [x for x in category_order if x in np.unique(inputAdata.obs['louvain'])]\n",
    "    inputAdata.obs['louvain'] = pd.Categorical(inputAdata.obs['louvain'].tolist(), categories=category_order) # The key is to set categories according to original order...\n",
    "\n",
    "    inputAdata.obs['Infection type'] = [ 'Armstrong' if 'A' in x else 'Clone13' if 'C' in x else 'Naive' for x in inputAdata.obs['cell_type']]\n",
    "    inputAdata.obs['cell_id'] = inputAdata.obs.index.tolist()"
   ]
  },
  {
   "cell_type": "code",
   "execution_count": 7,
   "metadata": {},
   "outputs": [
    {
     "name": "stdout",
     "output_type": "stream",
     "text": [
      "Start\n"
     ]
    }
   ],
   "source": [
    "###----- Get dir & load / reload packages\n",
    "try:\n",
    "    code_dir\n",
    "except NameError:\n",
    "    print(\"Start\")\n",
    "    code_dir = os.getcwd()\n",
    "    base_dir = code_dir.replace(\"/plotting_codes\",\"\")\n",
    "    tools_dir = base_dir + \"/tools\"\n",
    "\n",
    "    sys.path.insert(1, tools_dir)\n",
    "    import sc_addons\n",
    "    import sc_pl_addons\n",
    "else:\n",
    "    print(\"Reload\")\n",
    "    reload(sc_addons)\n",
    "    reload(sc_pl_addons)"
   ]
  },
  {
   "cell_type": "code",
   "execution_count": 8,
   "metadata": {},
   "outputs": [
    {
     "name": "stdout",
     "output_type": "stream",
     "text": [
      "0_Acute-Chronic\n"
     ]
    }
   ],
   "source": [
    "## ----- Setup working dir\n",
    "sp_name = \"0_Acute-Chronic\"\n",
    "analysis_name = [\"0\", \"resampled\"] \n",
    "\n",
    "wk_dir = base_dir + \"/9_Figures/%s/%s_%s/scVelo\"%(sp_name, analysis_name[0], analysis_name[1])\n",
    "Path(wk_dir).mkdir(parents=True, exist_ok=True)\n",
    "os.chdir(wk_dir)\n",
    "\n",
    "print(sp_name)"
   ]
  },
  {
   "cell_type": "code",
   "execution_count": 9,
   "metadata": {},
   "outputs": [],
   "source": [
    "###----- old - new cluster names\n",
    "order_file ='%s/%s/2_scVelo'%(base_dir, sp_name) + '/%s_scVelo_out_%sNoDyn/pt_ordered_cluster_avg.csv'%(analysis_name[0], analysis_name[1])\n",
    "order_df = pd.read_csv(order_file)\n",
    "louvain_new_ordered = order_df['louvain_new_label'].tolist()\n",
    "louvain_old_ordered = order_df['louvain'].tolist()"
   ]
  },
  {
   "cell_type": "code",
   "execution_count": 10,
   "metadata": {},
   "outputs": [],
   "source": [
    "resampled_h5ad = '/media/pipkin/ROCKET-PRO/CD8_DEV_SC/0_Acute-Chronic/2_scVelo/0_scVelo_out_resampled/0_Acute-Chronic_scVelo_postPT.h5ad'\n",
    "adata = scv.read(resampled_h5ad)\n",
    "adata_louvain_name_convert(adata, order_df, louvain_new_ordered, louvain_old_ordered)"
   ]
  },
  {
   "cell_type": "code",
   "execution_count": 39,
   "metadata": {},
   "outputs": [],
   "source": [
    "adata_act_arm = adata[[True if x != 'NP14B' else False for x in adata.obs['cell_type']]]\n",
    "adata_act_arm = adata_act_arm[[True if 'C' not in x else False for x in adata_act_arm.obs['cell_type']]]\n",
    "\n",
    "adata_act_cl13 = adata[[True if x != 'NP14B' else False for x in adata.obs['cell_type']]]\n",
    "adata_act_cl13 = adata_act_cl13[[True if 'A' not in x else False for x in adata_act_cl13.obs['cell_type']]]"
   ]
  },
  {
   "cell_type": "code",
   "execution_count": 40,
   "metadata": {},
   "outputs": [],
   "source": [
    "paga_xmax, paga_ymax = np.amax(adata.obsm['paga'], axis=0)\n",
    "paga_xmin, paga_ymin = np.amin(adata.obsm['paga'], axis=0)\n",
    "paga_dx, paga_dy = paga_xmax - paga_xmin, paga_ymax - paga_ymin\n",
    "paga_xmax, paga_xmin = paga_xmax + paga_dx*0.1, paga_xmin - paga_dx*0.1\n",
    "paga_ymax, paga_ymin = paga_ymax + paga_dy*0.1, paga_ymin - paga_dy*0.1"
   ]
  },
  {
   "cell_type": "code",
   "execution_count": 41,
   "metadata": {},
   "outputs": [],
   "source": [
    "### Intersect chromatin regulators & TF & cell surface receptors\n",
    "surface_df = pd.read_csv('https://raw.githubusercontent.com/Yolanda-HT/SurfaceMarkers_Cytokines/master/2_compiled/MM_MARKERS.csv')\n",
    "surface_genes = surface_df['gene_name'].tolist()\n",
    "crf_df = pd.read_csv('https://raw.githubusercontent.com/ScrippsPipkinLab/CRF_Screen/master/Ref/CRF_all.csv')\n",
    "crf_genes = crf_df['gene_name'].tolist() + [x for x in crf_df['Alternative'].tolist() if str(x) != 'nan']\n",
    "tf_df = pd.read_csv('https://raw.githubusercontent.com/Yolanda-HT/TFclassDataCollection/master/Ravasi_TF.csv')\n",
    "tf_genes = tf_df['symbol'].tolist()\n",
    "all_genes = list(set(surface_genes + crf_genes + tf_genes))\n",
    "\n",
    "### Gene signature genes\n",
    "gs_plot_use_file = '/media/pipkin/ROCKET-PRO/T_cell_signature_Reference/Y_annotated/anno_plotuse_gs_20200928.csv'\n",
    "gs_plot_use_df = pd.read_csv(gs_plot_use_file)\n",
    "gs_use = gs_plot_use_df[gs_plot_use_df['plot_use'].notnull()]['gs_name'].tolist()\n",
    "\n",
    "gs_file = '/media/pipkin/ROCKET-PRO/T_cell_signature_Reference/X_GeneSignatures_mm/all_mouse_T_cell_signatures.csv'\n",
    "gs_df = pd.read_csv(gs_file)\n",
    "gs_df_use = gs_df[[True if x in gs_use else False for x in gs_df['gs_name']]]\n",
    "genes_use = list(set(gs_df_use['gene_symbol'].tolist()))\n",
    "\n",
    "genes_use = [i for i in genes_use if i in all_genes]\n",
    "#genes_use = all_genes"
   ]
  },
  {
   "cell_type": "code",
   "execution_count": 42,
   "metadata": {},
   "outputs": [],
   "source": [
    "out_dir = wk_dir + '/trajectory_drivers'\n",
    "Path(out_dir).mkdir(parents=True, exist_ok=True)\n",
    "\n",
    "out_dir = wk_dir + '/likelihood_genes_drivers'\n",
    "Path(out_dir).mkdir(parents=True, exist_ok=True)\n",
    "\n",
    "out_dir = wk_dir + '/pairwise_transition_prob'\n",
    "Path(out_dir).mkdir(parents=True, exist_ok=True)"
   ]
  },
  {
   "cell_type": "code",
   "execution_count": 43,
   "metadata": {},
   "outputs": [],
   "source": [
    "def extract_avg(adata_use, gene_list, layer):\n",
    "    df = pd.DataFrame(adata_ij.layers[layer])\n",
    "    df.columns = adata_use.var.index\n",
    "    return(df[gene_list].mean(axis=0).tolist())"
   ]
  },
  {
   "cell_type": "markdown",
   "metadata": {},
   "source": [
    "# Driver gene heatmap for each trajectories"
   ]
  },
  {
   "cell_type": "code",
   "execution_count": 70,
   "metadata": {},
   "outputs": [],
   "source": [
    "drivers_heatmap_dir = wk_dir + '/likelihood_genes_heatmap'\n",
    "Path(drivers_heatmap_dir).mkdir(parents=True, exist_ok=True)"
   ]
  },
  {
   "cell_type": "code",
   "execution_count": 148,
   "metadata": {
    "scrolled": true
   },
   "outputs": [
    {
     "name": "stderr",
     "output_type": "stream",
     "text": [
      "Trying to set attribute `.obs` of view, copying.\n",
      "Trying to set attribute `.obs` of view, copying.\n",
      "Trying to set attribute `.obs` of view, copying.\n",
      "Trying to set attribute `.obs` of view, copying.\n",
      "Trying to set attribute `.obs` of view, copying.\n"
     ]
    }
   ],
   "source": [
    "trajectory_clusters = [['P2', 'P5', 'P3'], ['P2', 'P5', 'P6'], ['P2', 'P7', 'P9', 'P10'], ['P2', 'P4', 'P9','P10'], ['P2','P6','P8','P9','P10']]\n",
    "trajectory_clusters = [['P2', 'P5', 'P3']] # Test only\n",
    "\n",
    "for subset_clusters in trajectory_clusters:\n",
    "    subset_name = drivers_heatmap_dir + '/' + \"-\".join(subset_clusters)\n",
    "    adata_subset = adata[[True if x in subset_clusters else False for x in adata.obs['louvain'] ]]\n",
    "    order_dict = {subset_clusters[x]:x*0.1 for x in range(len(subset_clusters))}\n",
    "    adata_subset.obs['louvain_order'] = [order_dict[x] for x in adata_subset.obs['louvain']]\n",
    "\n",
    "    layer_use_dict = {'Ms':'viridis', 'Mu':'viridis', 'velocity':'icefire'}\n",
    "    celltype_use_dict = {'Arm': ['A'], 'Cl13': ['C'], 'AllAct':['A','C']}\n",
    "    \n",
    "    layer_use_dict = {'velocity':'icefire'} # Test only\n",
    "    celltype_use_dict = {'Arm': ['A']} # Test only\n",
    "\n",
    "    for layer_use, layer_use_col in layer_use_dict.items():\n",
    "        for celltype_name, celltype_use in celltype_use_dict.items():\n",
    "            adata_plot = adata_subset.copy()\n",
    "            adata_plot = adata_plot[[True if x in celltype_use else False for x in adata_plot.obs['celltype_general']]]\n",
    "            if layer_use == 'velocity':\n",
    "                not_na_axis0 = [ not np.isnan(x) for x in adata_plot.layers['velocity'].sum(axis=0)]\n",
    "                adata_plot = adata_plot[:, not_na_axis0]\n",
    "            hm = scv.pl.heatmap(adata_plot, var_names=list(drivers_all), sortby='louvain_order', col_color='louvain', layer=layer_use, show=False,color_map=layer_use_col)\n",
    "            hm.savefig(subset_name +  \"_\" + celltype_name +  \"_\" + layer_use + '.png')\n",
    "            \n",
    "            # Cell type average value\n",
    "            mean_df = layer_group_average_slt_genes(adata_plot, layer_use, list(drivers_all), 'louvain', subset_clusters, celltype_name)\n",
    "            mean_df = mean_df.loc[hm.data.index.tolist()]\n",
    "            \n",
    "            mean_df.to_csv(subset_name +  \"_\" + celltype_name +  \"_\" + layer_use + '.csv')\n",
    "            plt.close()"
   ]
  },
  {
   "cell_type": "code",
   "execution_count": 166,
   "metadata": {},
   "outputs": [],
   "source": [
    "if False:\n",
    "    cbar1 = drivers_heatmap_dir + '/icefire.png'\n",
    "    fig, ax = plt.subplots()\n",
    "    fig2, ax2 = plt.subplots()\n",
    "    newhm = sns.heatmap(hm.data2d, vmax = 1, vmin=0, cmap='icefire', ax=ax2, cbar_ax=ax)\n",
    "    fig.savefig(cbar1)"
   ]
  },
  {
   "cell_type": "code",
   "execution_count": 165,
   "metadata": {},
   "outputs": [],
   "source": [
    "if False:\n",
    "    cbar1 = drivers_heatmap_dir + '/viridis.png'\n",
    "    fig, ax = plt.subplots()\n",
    "    fig2, ax2 = plt.subplots()\n",
    "    newhm = sns.heatmap(hm.data2d, vmax = 1, vmin=0, cmap='viridis', ax=ax2, cbar_ax=ax)\n",
    "    fig.savefig(cbar1)"
   ]
  },
  {
   "cell_type": "markdown",
   "metadata": {},
   "source": [
    "## Annotate genes"
   ]
  },
  {
   "cell_type": "code",
   "execution_count": 72,
   "metadata": {},
   "outputs": [],
   "source": [
    "drivers_heatmap_dir = wk_dir + '/likelihood_genes_heatmap_relabel_genes'\n",
    "Path(drivers_heatmap_dir).mkdir(parents=True, exist_ok=True)"
   ]
  },
  {
   "cell_type": "code",
   "execution_count": 18,
   "metadata": {
    "scrolled": true
   },
   "outputs": [
    {
     "name": "stderr",
     "output_type": "stream",
     "text": [
      "Trying to set attribute `.obs` of view, copying.\n",
      "Trying to set attribute `.obs` of view, copying.\n",
      "Trying to set attribute `.obs` of view, copying.\n",
      "Trying to set attribute `.obs` of view, copying.\n",
      "Trying to set attribute `.obs` of view, copying.\n",
      "Trying to set attribute `.obs` of view, copying.\n",
      "Trying to set attribute `.obs` of view, copying.\n",
      "Trying to set attribute `.obs` of view, copying.\n",
      "Trying to set attribute `.obs` of view, copying.\n",
      "Trying to set attribute `.obs` of view, copying.\n",
      "Trying to set attribute `.obs` of view, copying.\n",
      "Trying to set attribute `.obs` of view, copying.\n",
      "Trying to set attribute `.obs` of view, copying.\n",
      "Trying to set attribute `.obs` of view, copying.\n",
      "Trying to set attribute `.obs` of view, copying.\n",
      "Trying to set attribute `.obs` of view, copying.\n",
      "Trying to set attribute `.obs` of view, copying.\n",
      "Trying to set attribute `.obs` of view, copying.\n",
      "Trying to set attribute `.obs` of view, copying.\n",
      "Trying to set attribute `.obs` of view, copying.\n",
      "Trying to set attribute `.obs` of view, copying.\n",
      "Trying to set attribute `.obs` of view, copying.\n",
      "Trying to set attribute `.obs` of view, copying.\n",
      "Trying to set attribute `.obs` of view, copying.\n",
      "Trying to set attribute `.obs` of view, copying.\n",
      "Trying to set attribute `.obs` of view, copying.\n",
      "Trying to set attribute `.obs` of view, copying.\n",
      "Trying to set attribute `.obs` of view, copying.\n",
      "Trying to set attribute `.obs` of view, copying.\n",
      "Trying to set attribute `.obs` of view, copying.\n",
      "Trying to set attribute `.obs` of view, copying.\n",
      "Trying to set attribute `.obs` of view, copying.\n",
      "Trying to set attribute `.obs` of view, copying.\n",
      "Trying to set attribute `.obs` of view, copying.\n",
      "Trying to set attribute `.obs` of view, copying.\n",
      "Trying to set attribute `.obs` of view, copying.\n",
      "Trying to set attribute `.obs` of view, copying.\n",
      "Trying to set attribute `.obs` of view, copying.\n",
      "Trying to set attribute `.obs` of view, copying.\n",
      "Trying to set attribute `.obs` of view, copying.\n",
      "Trying to set attribute `.obs` of view, copying.\n",
      "Trying to set attribute `.obs` of view, copying.\n",
      "Trying to set attribute `.obs` of view, copying.\n",
      "Trying to set attribute `.obs` of view, copying.\n",
      "Trying to set attribute `.obs` of view, copying.\n"
     ]
    }
   ],
   "source": [
    "trajectory_clusters = [['P2', 'P5', 'P3'], ['P2', 'P5', 'P6'], ['P2', 'P7', 'P9', 'P10'], \n",
    "                       ['P2', 'P4', 'P9','P10'], ['P2','P6','P8','P9','P10']]\n",
    "# trajectory_clusters = [['P2', 'P5', 'P3']] # Test only\n",
    "\n",
    "label_list = [\"Zeb2\", \"Tbx21\", \"Id2\", \"Prdm1\", \"Sell\", \"Slamf6\", \"Id3\", \"Tcf7\",\n",
    "             \"Cd69\", \"Itgae\", \"Ccr9\", \"Runx3\"]\n",
    "\n",
    "for subset_clusters in trajectory_clusters:\n",
    "    subset_name = drivers_heatmap_dir + '/' + \"-\".join(subset_clusters)\n",
    "    adata_subset = adata[[True if x in subset_clusters else False for x in adata.obs['louvain'] ]]\n",
    "    order_dict = {subset_clusters[x]:x*0.1 for x in range(len(subset_clusters))}\n",
    "    adata_subset.obs['louvain_order'] = [order_dict[x] for x in adata_subset.obs['louvain']]\n",
    "\n",
    "    layer_use_dict = {'velocity':'icefire'} # 'Ms':'viridis', 'Mu':'viridis', \n",
    "    celltype_use_dict = {'Arm': ['A'], 'Cl13': ['C']}\n",
    "    \n",
    "    # layer_use_dict = {'Ms':'viridis'} # Test only\n",
    "    # celltype_use_dict = {'Arm': ['A']} # Test only\n",
    "\n",
    "    for layer_use, layer_use_col in layer_use_dict.items():\n",
    "        for celltype_name, celltype_use in celltype_use_dict.items():\n",
    "            adata_plot = adata_subset.copy()\n",
    "            adata_plot = adata_plot[[True if x in celltype_use else False for x in adata_plot.obs['celltype_general']]]\n",
    "            if layer_use == 'velocity':\n",
    "                not_na_axis0 = [ not np.isnan(x) for x in adata_plot.layers['velocity'].sum(axis=0)]\n",
    "                adata_plot = adata_plot[:, not_na_axis0]\n",
    "            \n",
    "            hm = scv.pl.heatmap(adata_plot, var_names=list(drivers_all), sortby='louvain_order', \n",
    "                                col_color='louvain', layer=layer_use, show=False,color_map=layer_use_col)\n",
    "            \n",
    "            label_list = [x for x in hm.data2d.index if x in label_list]\n",
    "            label_loc = [hm.data.index.tolist().index(x) + 0.5 for x in label_list]\n",
    "\n",
    "            ax = hm.ax_heatmap\n",
    "            ax.yaxis.set_ticks(label_loc)\n",
    "            ax.set_yticklabels(label_list)\n",
    "            hm.savefig(subset_name +  \"_\" + celltype_name +  \"_\" + layer_use + '.png')\n",
    "            ax.set_yticklabels([\"\" for x in label_list])\n",
    "            hm.savefig(subset_name +  \"_\" + celltype_name +  \"_\" + layer_use + '_nolabels.png')\n",
    "            plt.close()\n",
    "            \n",
    "            # Cell type average value for labeled gene\n",
    "            mean_df = layer_group_average_slt_genes(adata_plot, layer_use, list(drivers_all), 'louvain', subset_clusters, celltype_name)\n",
    "            mean_df = mean_df.loc[hm.data.index.tolist()]\n",
    "            \n",
    "            label_df = pd.DataFrame({'annotated_genes': label_list})\n",
    "            label_df = label_df.set_index('annotated_genes').join(mean_df, how='left') # only labeled genes\n",
    "            \n",
    "            plt.figure(figsize = (5,10))\n",
    "            sns.heatmap(label_df, cmap='vlag', vmax=1, vmin=-1)\n",
    "            plt.savefig(subset_name +  \"_\" + celltype_name +  \"_\" + layer_use + '_avg.png') # save avg heatmap\n",
    "            \n",
    "            label_df['order - total %s'% len(hm.data)] = [hm.data.index.tolist().index(x) + 1 for x in label_list]\n",
    "            label_df.to_csv(subset_name +  \"_\" + celltype_name +  \"_\" + layer_use + '.csv')"
   ]
  },
  {
   "cell_type": "code",
   "execution_count": null,
   "metadata": {},
   "outputs": [],
   "source": [
    "\n",
    "    \n"
   ]
  },
  {
   "cell_type": "code",
   "execution_count": null,
   "metadata": {
    "scrolled": true
   },
   "outputs": [],
   "source": []
  },
  {
   "cell_type": "code",
   "execution_count": null,
   "metadata": {},
   "outputs": [],
   "source": []
  },
  {
   "cell_type": "code",
   "execution_count": 33,
   "metadata": {},
   "outputs": [],
   "source": []
  },
  {
   "cell_type": "code",
   "execution_count": 34,
   "metadata": {},
   "outputs": [
    {
     "data": {
      "text/html": [
       "<div>\n",
       "<style scoped>\n",
       "    .dataframe tbody tr th:only-of-type {\n",
       "        vertical-align: middle;\n",
       "    }\n",
       "\n",
       "    .dataframe tbody tr th {\n",
       "        vertical-align: top;\n",
       "    }\n",
       "\n",
       "    .dataframe thead th {\n",
       "        text-align: right;\n",
       "    }\n",
       "</style>\n",
       "<table border=\"1\" class=\"dataframe\">\n",
       "  <thead>\n",
       "    <tr style=\"text-align: right;\">\n",
       "      <th></th>\n",
       "      <th>Cl13_P2</th>\n",
       "      <th>Cl13_P6</th>\n",
       "      <th>Cl13_P8</th>\n",
       "      <th>Cl13_P9</th>\n",
       "      <th>Cl13_P10</th>\n",
       "    </tr>\n",
       "  </thead>\n",
       "  <tbody>\n",
       "    <tr>\n",
       "      <th>Foxp1</th>\n",
       "      <td>-0.067417</td>\n",
       "      <td>-0.088733</td>\n",
       "      <td>-0.081198</td>\n",
       "      <td>-0.103892</td>\n",
       "      <td>-0.116543</td>\n",
       "    </tr>\n",
       "    <tr>\n",
       "      <th>Cd55</th>\n",
       "      <td>-0.016700</td>\n",
       "      <td>-0.054678</td>\n",
       "      <td>-0.054267</td>\n",
       "      <td>-0.032691</td>\n",
       "      <td>-0.050580</td>\n",
       "    </tr>\n",
       "    <tr>\n",
       "      <th>Foxm1</th>\n",
       "      <td>0.033839</td>\n",
       "      <td>0.001858</td>\n",
       "      <td>0.017334</td>\n",
       "      <td>0.026224</td>\n",
       "      <td>0.032578</td>\n",
       "    </tr>\n",
       "    <tr>\n",
       "      <th>Treml2</th>\n",
       "      <td>0.174560</td>\n",
       "      <td>0.040258</td>\n",
       "      <td>0.000922</td>\n",
       "      <td>-0.013716</td>\n",
       "      <td>0.000000</td>\n",
       "    </tr>\n",
       "    <tr>\n",
       "      <th>Klrd1</th>\n",
       "      <td>0.269517</td>\n",
       "      <td>-0.040026</td>\n",
       "      <td>0.072878</td>\n",
       "      <td>-0.652999</td>\n",
       "      <td>-0.116160</td>\n",
       "    </tr>\n",
       "    <tr>\n",
       "      <th>...</th>\n",
       "      <td>...</td>\n",
       "      <td>...</td>\n",
       "      <td>...</td>\n",
       "      <td>...</td>\n",
       "      <td>...</td>\n",
       "    </tr>\n",
       "    <tr>\n",
       "      <th>Slc3a2</th>\n",
       "      <td>-0.064850</td>\n",
       "      <td>0.018579</td>\n",
       "      <td>-0.051713</td>\n",
       "      <td>0.070782</td>\n",
       "      <td>0.041483</td>\n",
       "    </tr>\n",
       "    <tr>\n",
       "      <th>Rbbp7</th>\n",
       "      <td>0.041107</td>\n",
       "      <td>0.054939</td>\n",
       "      <td>-0.309959</td>\n",
       "      <td>0.257367</td>\n",
       "      <td>0.440128</td>\n",
       "    </tr>\n",
       "    <tr>\n",
       "      <th>Brd9</th>\n",
       "      <td>0.034774</td>\n",
       "      <td>0.001347</td>\n",
       "      <td>-0.028489</td>\n",
       "      <td>0.081589</td>\n",
       "      <td>0.078523</td>\n",
       "    </tr>\n",
       "    <tr>\n",
       "      <th>Prmt1</th>\n",
       "      <td>0.017961</td>\n",
       "      <td>-0.024582</td>\n",
       "      <td>-0.149717</td>\n",
       "      <td>0.069749</td>\n",
       "      <td>0.208329</td>\n",
       "    </tr>\n",
       "    <tr>\n",
       "      <th>Pcgf5</th>\n",
       "      <td>-0.049119</td>\n",
       "      <td>-0.046356</td>\n",
       "      <td>-0.046079</td>\n",
       "      <td>-0.041315</td>\n",
       "      <td>-0.019660</td>\n",
       "    </tr>\n",
       "  </tbody>\n",
       "</table>\n",
       "<p>320 rows × 5 columns</p>\n",
       "</div>"
      ],
      "text/plain": [
       "         Cl13_P2   Cl13_P6   Cl13_P8   Cl13_P9  Cl13_P10\n",
       "Foxp1  -0.067417 -0.088733 -0.081198 -0.103892 -0.116543\n",
       "Cd55   -0.016700 -0.054678 -0.054267 -0.032691 -0.050580\n",
       "Foxm1   0.033839  0.001858  0.017334  0.026224  0.032578\n",
       "Treml2  0.174560  0.040258  0.000922 -0.013716  0.000000\n",
       "Klrd1   0.269517 -0.040026  0.072878 -0.652999 -0.116160\n",
       "...          ...       ...       ...       ...       ...\n",
       "Slc3a2 -0.064850  0.018579 -0.051713  0.070782  0.041483\n",
       "Rbbp7   0.041107  0.054939 -0.309959  0.257367  0.440128\n",
       "Brd9    0.034774  0.001347 -0.028489  0.081589  0.078523\n",
       "Prmt1   0.017961 -0.024582 -0.149717  0.069749  0.208329\n",
       "Pcgf5  -0.049119 -0.046356 -0.046079 -0.041315 -0.019660\n",
       "\n",
       "[320 rows x 5 columns]"
      ]
     },
     "execution_count": 34,
     "metadata": {},
     "output_type": "execute_result"
    }
   ],
   "source": [
    "mean_df"
   ]
  },
  {
   "cell_type": "code",
   "execution_count": null,
   "metadata": {},
   "outputs": [],
   "source": []
  }
 ],
 "metadata": {
  "kernelspec": {
   "display_name": "Python 3",
   "language": "python",
   "name": "python3"
  },
  "language_info": {
   "codemirror_mode": {
    "name": "ipython",
    "version": 3
   },
   "file_extension": ".py",
   "mimetype": "text/x-python",
   "name": "python",
   "nbconvert_exporter": "python",
   "pygments_lexer": "ipython3",
   "version": "3.8.3"
  }
 },
 "nbformat": 4,
 "nbformat_minor": 4
}
