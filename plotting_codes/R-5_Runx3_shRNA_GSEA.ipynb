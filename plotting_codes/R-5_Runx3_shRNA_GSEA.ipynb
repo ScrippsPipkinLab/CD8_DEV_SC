{
 "cells": [
  {
   "cell_type": "code",
   "execution_count": 2,
   "metadata": {
    "scrolled": true
   },
   "outputs": [
    {
     "data": {
      "text/html": [
       "'/media/pipkin/ROCKET-PRO/CD8_DEV_SC'"
      ],
      "text/latex": [
       "'/media/pipkin/ROCKET-PRO/CD8\\_DEV\\_SC'"
      ],
      "text/markdown": [
       "'/media/pipkin/ROCKET-PRO/CD8_DEV_SC'"
      ],
      "text/plain": [
       "[1] \"/media/pipkin/ROCKET-PRO/CD8_DEV_SC\""
      ]
     },
     "metadata": {},
     "output_type": "display_data"
    }
   ],
   "source": [
    "##########----- Reused code -----##########\n",
    "# Last update: Sept 13, 2020\n",
    "# By: Huitian Diao\n",
    "###########################################\n",
    "\n",
    "library(stringr)\n",
    "library(cowplot)\n",
    "library(ggpubr)\n",
    "\n",
    "code_dir <- getwd()\n",
    "tool_dir <- unlist(strsplit(code_dir,\"/\"))\n",
    "tool_dir <- head(tool_dir, length(tool_dir)-1)\n",
    "tool_dir <- paste(c(tool_dir, \"tools\"), collapse=\"/\")\n",
    "source(file.path(tool_dir, \"function_GSEA.R\"))\n",
    "base_dir <- gsub(\"/plotting_codes\", \"\", code_dir)\n",
    "base_dir"
   ]
  },
  {
   "cell_type": "code",
   "execution_count": 3,
   "metadata": {},
   "outputs": [],
   "source": [
    "out.path <-'/media/pipkin/ROCKET-PRO/CD8_DEV_SC/9_Figures/4_Runx3_Brg1_Meta/GSEA_sum'\n",
    "setwd(out.path)"
   ]
  },
  {
   "cell_type": "markdown",
   "metadata": {},
   "source": [
    "### Summarize GSEA signatures"
   ]
  },
  {
   "cell_type": "code",
   "execution_count": 4,
   "metadata": {
    "scrolled": true
   },
   "outputs": [
    {
     "name": "stderr",
     "output_type": "stream",
     "text": [
      "\n",
      "\u001b[36m──\u001b[39m \u001b[1m\u001b[1mColumn specification\u001b[1m\u001b[22m \u001b[36m───────────────────────────────────────────────────────\u001b[39m\n",
      "cols(\n",
      "  ID = \u001b[31mcol_character()\u001b[39m,\n",
      "  Description = \u001b[31mcol_character()\u001b[39m,\n",
      "  setSize = \u001b[32mcol_double()\u001b[39m,\n",
      "  enrichmentScore = \u001b[32mcol_double()\u001b[39m,\n",
      "  NES = \u001b[32mcol_double()\u001b[39m,\n",
      "  pvalue = \u001b[32mcol_double()\u001b[39m,\n",
      "  p.adjust = \u001b[32mcol_double()\u001b[39m,\n",
      "  qvalues = \u001b[32mcol_double()\u001b[39m,\n",
      "  rank = \u001b[32mcol_double()\u001b[39m,\n",
      "  leading_edge = \u001b[31mcol_character()\u001b[39m,\n",
      "  core_enrichment = \u001b[31mcol_character()\u001b[39m\n",
      ")\n",
      "\n",
      "\n",
      "\n",
      "\u001b[36m──\u001b[39m \u001b[1m\u001b[1mColumn specification\u001b[1m\u001b[22m \u001b[36m───────────────────────────────────────────────────────\u001b[39m\n",
      "cols(\n",
      "  ID = \u001b[31mcol_character()\u001b[39m,\n",
      "  Description = \u001b[31mcol_character()\u001b[39m,\n",
      "  setSize = \u001b[32mcol_double()\u001b[39m,\n",
      "  enrichmentScore = \u001b[32mcol_double()\u001b[39m,\n",
      "  NES = \u001b[32mcol_double()\u001b[39m,\n",
      "  pvalue = \u001b[32mcol_double()\u001b[39m,\n",
      "  p.adjust = \u001b[32mcol_double()\u001b[39m,\n",
      "  qvalues = \u001b[32mcol_double()\u001b[39m,\n",
      "  rank = \u001b[32mcol_double()\u001b[39m,\n",
      "  leading_edge = \u001b[31mcol_character()\u001b[39m,\n",
      "  core_enrichment = \u001b[31mcol_character()\u001b[39m\n",
      ")\n",
      "\n",
      "\n"
     ]
    },
    {
     "name": "stdout",
     "output_type": "stream",
     "text": [
      "\u001b[38;5;246m# A tibble: 6 x 8\u001b[39m\n",
      "  comparison pathway   NES    padj    pval leadingEdge_sig… mlog10padj\n",
      "  \u001b[3m\u001b[38;5;246m<chr>\u001b[39m\u001b[23m      \u001b[3m\u001b[38;5;246m<chr>\u001b[39m\u001b[23m   \u001b[3m\u001b[38;5;246m<dbl>\u001b[39m\u001b[23m   \u001b[3m\u001b[38;5;246m<dbl>\u001b[39m\u001b[23m   \u001b[3m\u001b[38;5;246m<dbl>\u001b[39m\u001b[23m            \u001b[3m\u001b[38;5;246m<dbl>\u001b[39m\u001b[23m      \u001b[3m\u001b[38;5;246m<dbl>\u001b[39m\u001b[23m\n",
      "\u001b[38;5;250m1\u001b[39m WangDapen… 2018_I…  2.23 2.79\u001b[38;5;246me\u001b[39m\u001b[31m-4\u001b[39m 1.64\u001b[38;5;246me\u001b[39m\u001b[31m-4\u001b[39m               31       3.55\n",
      "\u001b[38;5;250m2\u001b[39m WangDapen… 2018_I…  2.32 2.79\u001b[38;5;246me\u001b[39m\u001b[31m-4\u001b[39m 1.69\u001b[38;5;246me\u001b[39m\u001b[31m-4\u001b[39m               33       3.55\n",
      "\u001b[38;5;250m3\u001b[39m WangDapen… 2018_I…  2.05 2.79\u001b[38;5;246me\u001b[39m\u001b[31m-4\u001b[39m 1.69\u001b[38;5;246me\u001b[39m\u001b[31m-4\u001b[39m               32       3.55\n",
      "\u001b[38;5;250m4\u001b[39m WangDapen… 2018_I…  2.07 2.79\u001b[38;5;246me\u001b[39m\u001b[31m-4\u001b[39m 1.77\u001b[38;5;246me\u001b[39m\u001b[31m-4\u001b[39m               31       3.55\n",
      "\u001b[38;5;250m5\u001b[39m WangDapen… 2018_I…  2.18 2.79\u001b[38;5;246me\u001b[39m\u001b[31m-4\u001b[39m 1.81\u001b[38;5;246me\u001b[39m\u001b[31m-4\u001b[39m               40       3.55\n",
      "\u001b[38;5;250m6\u001b[39m WangDapen… 2018_I…  2.31 2.79\u001b[38;5;246me\u001b[39m\u001b[31m-4\u001b[39m 1.81\u001b[38;5;246me\u001b[39m\u001b[31m-4\u001b[39m               52       3.55\n",
      "\u001b[38;5;246m# … with 1 more variable: mlog10pval \u001b[3m\u001b[38;5;246m<dbl>\u001b[38;5;246m\u001b[23m\u001b[39m\n"
     ]
    },
    {
     "name": "stderr",
     "output_type": "stream",
     "text": [
      "\n",
      "\u001b[36m──\u001b[39m \u001b[1m\u001b[1mColumn specification\u001b[1m\u001b[22m \u001b[36m───────────────────────────────────────────────────────\u001b[39m\n",
      "cols(\n",
      "  ID = \u001b[31mcol_character()\u001b[39m,\n",
      "  Description = \u001b[31mcol_character()\u001b[39m,\n",
      "  setSize = \u001b[32mcol_double()\u001b[39m,\n",
      "  enrichmentScore = \u001b[32mcol_double()\u001b[39m,\n",
      "  NES = \u001b[32mcol_double()\u001b[39m,\n",
      "  pvalue = \u001b[32mcol_double()\u001b[39m,\n",
      "  p.adjust = \u001b[32mcol_double()\u001b[39m,\n",
      "  qvalues = \u001b[32mcol_double()\u001b[39m,\n",
      "  rank = \u001b[32mcol_double()\u001b[39m,\n",
      "  leading_edge = \u001b[31mcol_character()\u001b[39m,\n",
      "  core_enrichment = \u001b[31mcol_character()\u001b[39m\n",
      ")\n",
      "\n",
      "\n",
      "\n",
      "\u001b[36m──\u001b[39m \u001b[1m\u001b[1mColumn specification\u001b[1m\u001b[22m \u001b[36m───────────────────────────────────────────────────────\u001b[39m\n",
      "cols(\n",
      "  ID = \u001b[31mcol_character()\u001b[39m,\n",
      "  Description = \u001b[31mcol_character()\u001b[39m,\n",
      "  setSize = \u001b[32mcol_double()\u001b[39m,\n",
      "  enrichmentScore = \u001b[32mcol_double()\u001b[39m,\n",
      "  NES = \u001b[32mcol_double()\u001b[39m,\n",
      "  pvalue = \u001b[32mcol_double()\u001b[39m,\n",
      "  p.adjust = \u001b[32mcol_double()\u001b[39m,\n",
      "  qvalues = \u001b[32mcol_double()\u001b[39m,\n",
      "  rank = \u001b[32mcol_double()\u001b[39m,\n",
      "  leading_edge = \u001b[31mcol_character()\u001b[39m,\n",
      "  core_enrichment = \u001b[31mcol_character()\u001b[39m\n",
      ")\n",
      "\n",
      "\n"
     ]
    },
    {
     "name": "stdout",
     "output_type": "stream",
     "text": [
      "\u001b[38;5;246m# A tibble: 6 x 8\u001b[39m\n",
      "  comparison pathway    NES    padj    pval leadingEdge_sig… mlog10padj\n",
      "  \u001b[3m\u001b[38;5;246m<chr>\u001b[39m\u001b[23m      \u001b[3m\u001b[38;5;246m<chr>\u001b[39m\u001b[23m    \u001b[3m\u001b[38;5;246m<dbl>\u001b[39m\u001b[23m   \u001b[3m\u001b[38;5;246m<dbl>\u001b[39m\u001b[23m   \u001b[3m\u001b[38;5;246m<dbl>\u001b[39m\u001b[23m            \u001b[3m\u001b[38;5;246m<dbl>\u001b[39m\u001b[23m      \u001b[3m\u001b[38;5;246m<dbl>\u001b[39m\u001b[23m\n",
      "\u001b[38;5;250m1\u001b[39m WangDapen… genera…  1.93  9.01\u001b[38;5;246me\u001b[39m\u001b[31m-4\u001b[39m 1.79\u001b[38;5;246me\u001b[39m\u001b[31m-4\u001b[39m               36    3.05   \n",
      "\u001b[38;5;250m2\u001b[39m WangDapen… genera… -\u001b[31m1\u001b[39m\u001b[31m.\u001b[39m\u001b[31m49\u001b[39m  9.01\u001b[38;5;246me\u001b[39m\u001b[31m-4\u001b[39m 3.00\u001b[38;5;246me\u001b[39m\u001b[31m-4\u001b[39m               36    3.05   \n",
      "\u001b[38;5;250m3\u001b[39m WangDapen… P2_Il2… -\u001b[31m1\u001b[39m\u001b[31m.\u001b[39m\u001b[31m72\u001b[39m  2.51\u001b[38;5;246me\u001b[39m\u001b[31m-3\u001b[39m 1.25\u001b[38;5;246me\u001b[39m\u001b[31m-3\u001b[39m               56    2.60   \n",
      "\u001b[38;5;250m4\u001b[39m WangDapen… P2_Il2… -\u001b[31m1\u001b[39m\u001b[31m.\u001b[39m\u001b[31m47\u001b[39m  5.21\u001b[38;5;246me\u001b[39m\u001b[31m-2\u001b[39m 3.63\u001b[38;5;246me\u001b[39m\u001b[31m-2\u001b[39m               25    1.28   \n",
      "\u001b[38;5;250m5\u001b[39m WangDapen… P1_Il2…  1.13  5.21\u001b[38;5;246me\u001b[39m\u001b[31m-2\u001b[39m 4.34\u001b[38;5;246me\u001b[39m\u001b[31m-2\u001b[39m               23    1.28   \n",
      "\u001b[38;5;250m6\u001b[39m WangDapen… P1_Il2…  0.895 9.90\u001b[38;5;246me\u001b[39m\u001b[31m-1\u001b[39m 9.90\u001b[38;5;246me\u001b[39m\u001b[31m-1\u001b[39m               22    0.004\u001b[4m3\u001b[24m\u001b[4m3\u001b[24m\n",
      "\u001b[38;5;246m# … with 1 more variable: mlog10pval \u001b[3m\u001b[38;5;246m<dbl>\u001b[38;5;246m\u001b[23m\u001b[39m\n"
     ]
    },
    {
     "name": "stderr",
     "output_type": "stream",
     "text": [
      "\n",
      "\u001b[36m──\u001b[39m \u001b[1m\u001b[1mColumn specification\u001b[1m\u001b[22m \u001b[36m───────────────────────────────────────────────────────\u001b[39m\n",
      "cols(\n",
      "  ID = \u001b[31mcol_character()\u001b[39m,\n",
      "  Description = \u001b[31mcol_character()\u001b[39m,\n",
      "  setSize = \u001b[32mcol_double()\u001b[39m,\n",
      "  enrichmentScore = \u001b[32mcol_double()\u001b[39m,\n",
      "  NES = \u001b[32mcol_double()\u001b[39m,\n",
      "  pvalue = \u001b[32mcol_double()\u001b[39m,\n",
      "  p.adjust = \u001b[32mcol_double()\u001b[39m,\n",
      "  qvalues = \u001b[32mcol_double()\u001b[39m,\n",
      "  rank = \u001b[32mcol_double()\u001b[39m,\n",
      "  leading_edge = \u001b[31mcol_character()\u001b[39m,\n",
      "  core_enrichment = \u001b[31mcol_character()\u001b[39m\n",
      ")\n",
      "\n",
      "\n",
      "\n",
      "\u001b[36m──\u001b[39m \u001b[1m\u001b[1mColumn specification\u001b[1m\u001b[22m \u001b[36m───────────────────────────────────────────────────────\u001b[39m\n",
      "cols(\n",
      "  ID = \u001b[31mcol_character()\u001b[39m,\n",
      "  Description = \u001b[31mcol_character()\u001b[39m,\n",
      "  setSize = \u001b[32mcol_double()\u001b[39m,\n",
      "  enrichmentScore = \u001b[32mcol_double()\u001b[39m,\n",
      "  NES = \u001b[32mcol_double()\u001b[39m,\n",
      "  pvalue = \u001b[32mcol_double()\u001b[39m,\n",
      "  p.adjust = \u001b[32mcol_double()\u001b[39m,\n",
      "  qvalues = \u001b[32mcol_double()\u001b[39m,\n",
      "  rank = \u001b[32mcol_double()\u001b[39m,\n",
      "  leading_edge = \u001b[31mcol_character()\u001b[39m,\n",
      "  core_enrichment = \u001b[31mcol_character()\u001b[39m\n",
      ")\n",
      "\n",
      "\n"
     ]
    },
    {
     "name": "stdout",
     "output_type": "stream",
     "text": [
      "\u001b[38;5;246m# A tibble: 6 x 8\u001b[39m\n",
      "  comparison pathway   NES    padj    pval leadingEdge_sig… mlog10padj\n",
      "  \u001b[3m\u001b[38;5;246m<chr>\u001b[39m\u001b[23m      \u001b[3m\u001b[38;5;246m<chr>\u001b[39m\u001b[23m   \u001b[3m\u001b[38;5;246m<dbl>\u001b[39m\u001b[23m   \u001b[3m\u001b[38;5;246m<dbl>\u001b[39m\u001b[23m   \u001b[3m\u001b[38;5;246m<dbl>\u001b[39m\u001b[23m            \u001b[3m\u001b[38;5;246m<dbl>\u001b[39m\u001b[23m      \u001b[3m\u001b[38;5;246m<dbl>\u001b[39m\u001b[23m\n",
      "\u001b[38;5;250m1\u001b[39m WangDapen… Exp391…  1.88 5.43\u001b[38;5;246me\u001b[39m\u001b[31m-4\u001b[39m 1.48\u001b[38;5;246me\u001b[39m\u001b[31m-4\u001b[39m               29       3.27\n",
      "\u001b[38;5;250m2\u001b[39m WangDapen… Exp391…  2.10 5.43\u001b[38;5;246me\u001b[39m\u001b[31m-4\u001b[39m 1.62\u001b[38;5;246me\u001b[39m\u001b[31m-4\u001b[39m               34       3.27\n",
      "\u001b[38;5;250m3\u001b[39m WangDapen… Exp391…  2.68 5.43\u001b[38;5;246me\u001b[39m\u001b[31m-4\u001b[39m 1.65\u001b[38;5;246me\u001b[39m\u001b[31m-4\u001b[39m               67       3.27\n",
      "\u001b[38;5;250m4\u001b[39m WangDapen… Exp391…  2.02 5.43\u001b[38;5;246me\u001b[39m\u001b[31m-4\u001b[39m 1.70\u001b[38;5;246me\u001b[39m\u001b[31m-4\u001b[39m               40       3.27\n",
      "\u001b[38;5;250m5\u001b[39m WangDapen… Exp391…  1.84 5.43\u001b[38;5;246me\u001b[39m\u001b[31m-4\u001b[39m 1.70\u001b[38;5;246me\u001b[39m\u001b[31m-4\u001b[39m               42       3.27\n",
      "\u001b[38;5;250m6\u001b[39m WangDapen… Exp391…  2.04 5.43\u001b[38;5;246me\u001b[39m\u001b[31m-4\u001b[39m 1.78\u001b[38;5;246me\u001b[39m\u001b[31m-4\u001b[39m               38       3.27\n",
      "\u001b[38;5;246m# … with 1 more variable: mlog10pval \u001b[3m\u001b[38;5;246m<dbl>\u001b[38;5;246m\u001b[23m\u001b[39m\n"
     ]
    },
    {
     "name": "stderr",
     "output_type": "stream",
     "text": [
      "\n",
      "\u001b[36m──\u001b[39m \u001b[1m\u001b[1mColumn specification\u001b[1m\u001b[22m \u001b[36m───────────────────────────────────────────────────────\u001b[39m\n",
      "cols(\n",
      "  ID = \u001b[31mcol_character()\u001b[39m,\n",
      "  Description = \u001b[31mcol_character()\u001b[39m,\n",
      "  setSize = \u001b[32mcol_double()\u001b[39m,\n",
      "  enrichmentScore = \u001b[32mcol_double()\u001b[39m,\n",
      "  NES = \u001b[32mcol_double()\u001b[39m,\n",
      "  pvalue = \u001b[32mcol_double()\u001b[39m,\n",
      "  p.adjust = \u001b[32mcol_double()\u001b[39m,\n",
      "  qvalues = \u001b[33mcol_logical()\u001b[39m,\n",
      "  rank = \u001b[32mcol_double()\u001b[39m,\n",
      "  leading_edge = \u001b[31mcol_character()\u001b[39m,\n",
      "  core_enrichment = \u001b[31mcol_character()\u001b[39m\n",
      ")\n",
      "\n",
      "\n",
      "\n",
      "\u001b[36m──\u001b[39m \u001b[1m\u001b[1mColumn specification\u001b[1m\u001b[22m \u001b[36m───────────────────────────────────────────────────────\u001b[39m\n",
      "cols(\n",
      "  ID = \u001b[31mcol_character()\u001b[39m,\n",
      "  Description = \u001b[31mcol_character()\u001b[39m,\n",
      "  setSize = \u001b[32mcol_double()\u001b[39m,\n",
      "  enrichmentScore = \u001b[32mcol_double()\u001b[39m,\n",
      "  NES = \u001b[32mcol_double()\u001b[39m,\n",
      "  pvalue = \u001b[32mcol_double()\u001b[39m,\n",
      "  p.adjust = \u001b[32mcol_double()\u001b[39m,\n",
      "  qvalues = \u001b[33mcol_logical()\u001b[39m,\n",
      "  rank = \u001b[32mcol_double()\u001b[39m,\n",
      "  leading_edge = \u001b[31mcol_character()\u001b[39m,\n",
      "  core_enrichment = \u001b[31mcol_character()\u001b[39m\n",
      ")\n",
      "\n",
      "\n"
     ]
    },
    {
     "name": "stdout",
     "output_type": "stream",
     "text": [
      "\u001b[38;5;246m# A tibble: 4 x 8\u001b[39m\n",
      "  comparison pathway   NES    padj    pval leadingEdge_sig… mlog10padj\n",
      "  \u001b[3m\u001b[38;5;246m<chr>\u001b[39m\u001b[23m      \u001b[3m\u001b[38;5;246m<chr>\u001b[39m\u001b[23m   \u001b[3m\u001b[38;5;246m<dbl>\u001b[39m\u001b[23m   \u001b[3m\u001b[38;5;246m<dbl>\u001b[39m\u001b[23m   \u001b[3m\u001b[38;5;246m<dbl>\u001b[39m\u001b[23m            \u001b[3m\u001b[38;5;246m<dbl>\u001b[39m\u001b[23m      \u001b[3m\u001b[38;5;246m<dbl>\u001b[39m\u001b[23m\n",
      "\u001b[38;5;250m1\u001b[39m WangDapen… 48h_IL…  2.15 2.25\u001b[38;5;246me\u001b[39m\u001b[31m-4\u001b[39m 1.78\u001b[38;5;246me\u001b[39m\u001b[31m-4\u001b[39m               48       3.65\n",
      "\u001b[38;5;250m2\u001b[39m WangDapen… 48h_IL… -\u001b[31m1\u001b[39m\u001b[31m.\u001b[39m\u001b[31m62\u001b[39m 2.25\u001b[38;5;246me\u001b[39m\u001b[31m-4\u001b[39m 2.25\u001b[38;5;246me\u001b[39m\u001b[31m-4\u001b[39m               33       3.65\n",
      "\u001b[38;5;250m3\u001b[39m WangDapen… 48h_IL… -\u001b[31m1\u001b[39m\u001b[31m.\u001b[39m\u001b[31m59\u001b[39m 2.05\u001b[38;5;246me\u001b[39m\u001b[31m-4\u001b[39m 1.92\u001b[38;5;246me\u001b[39m\u001b[31m-4\u001b[39m               36       3.69\n",
      "\u001b[38;5;250m4\u001b[39m WangDapen… 48h_IL…  1.98 2.05\u001b[38;5;246me\u001b[39m\u001b[31m-4\u001b[39m 2.05\u001b[38;5;246me\u001b[39m\u001b[31m-4\u001b[39m               39       3.69\n",
      "\u001b[38;5;246m# … with 1 more variable: mlog10pval \u001b[3m\u001b[38;5;246m<dbl>\u001b[38;5;246m\u001b[23m\u001b[39m\n"
     ]
    }
   ],
   "source": [
    "eec.shRNA.gsea.dir <- '/media/pipkin/ROCKET-PRO/CD8_DEV_SC/4_Runx3_Brg1_Meta/1_Runx3KO_RNA/DE_GSEA/WangDapeng_D5EEC---Runx3KO_vs_WT_gn_sep'\n",
    "slec.shRNA.gsea.dir <- '/media/pipkin/ROCKET-PRO/CD8_DEV_SC/4_Runx3_Brg1_Meta/1_Runx3KO_RNA/DE_GSEA/WangDapeng_D5SLEC---Runx3KO_vs_WT_gn_sep'\n",
    "\n",
    "gsea.sig.sets <- c('2020_mouse_CD8', 'D6-5_IL2_dependent', 'Exp391_CD8', 'IL2_dependent')\n",
    "\n",
    "for (gsea.sig.set in gsea.sig.sets) {\n",
    "    eec.gsea.file <- paste('WangDapeng_D5EEC---Runx3KO_vs_WT_gn---', gsea.sig.set, '_mm_sigs.csv', sep=\"\")\n",
    "    eec.gsea.file <- file.path(eec.shRNA.gsea.dir, gsea.sig.set, eec.gsea.file)\n",
    "\n",
    "    slec.gsea.file <- paste('WangDapeng_D5SLEC---Runx3KO_vs_WT_gn---', gsea.sig.set, '_mm_sigs.csv', sep=\"\")\n",
    "    slec.gsea.file <- file.path(slec.shRNA.gsea.dir, gsea.sig.set, slec.gsea.file)\n",
    "    \n",
    "    files.vec <- c(eec.gsea.file, slec.gsea.file)\n",
    "    out.name <- paste('Runx3_KO-WT_', gsea.sig.set, sep=\"\")\n",
    "    \n",
    "    GSEA_sum(files.vec, out.name, 50, 18, FALSE,NA,FALSE, NA,FALSE,NA,FALSE)\n",
    "}"
   ]
  },
  {
   "cell_type": "code",
   "execution_count": 5,
   "metadata": {},
   "outputs": [
    {
     "name": "stderr",
     "output_type": "stream",
     "text": [
      "\n",
      "\u001b[36m──\u001b[39m \u001b[1m\u001b[1mColumn specification\u001b[1m\u001b[22m \u001b[36m───────────────────────────────────────────────────────\u001b[39m\n",
      "cols(\n",
      "  comparison = \u001b[31mcol_character()\u001b[39m,\n",
      "  pathway = \u001b[31mcol_character()\u001b[39m,\n",
      "  NES = \u001b[32mcol_double()\u001b[39m,\n",
      "  padj = \u001b[32mcol_double()\u001b[39m,\n",
      "  pval = \u001b[32mcol_double()\u001b[39m,\n",
      "  leadingEdge_signal = \u001b[32mcol_double()\u001b[39m,\n",
      "  mlog10padj = \u001b[32mcol_double()\u001b[39m,\n",
      "  mlog10pval = \u001b[32mcol_double()\u001b[39m\n",
      ")\n",
      "\n",
      "\n",
      "\n",
      "\u001b[36m──\u001b[39m \u001b[1m\u001b[1mColumn specification\u001b[1m\u001b[22m \u001b[36m───────────────────────────────────────────────────────\u001b[39m\n",
      "cols(\n",
      "  comparison = \u001b[31mcol_character()\u001b[39m,\n",
      "  pathway = \u001b[31mcol_character()\u001b[39m,\n",
      "  NES = \u001b[32mcol_double()\u001b[39m,\n",
      "  padj = \u001b[32mcol_double()\u001b[39m,\n",
      "  pval = \u001b[32mcol_double()\u001b[39m,\n",
      "  leadingEdge_signal = \u001b[32mcol_double()\u001b[39m,\n",
      "  mlog10padj = \u001b[32mcol_double()\u001b[39m,\n",
      "  mlog10pval = \u001b[32mcol_double()\u001b[39m\n",
      ")\n",
      "\n",
      "\n",
      "\n",
      "\u001b[36m──\u001b[39m \u001b[1m\u001b[1mColumn specification\u001b[1m\u001b[22m \u001b[36m───────────────────────────────────────────────────────\u001b[39m\n",
      "cols(\n",
      "  comparison = \u001b[31mcol_character()\u001b[39m,\n",
      "  pathway = \u001b[31mcol_character()\u001b[39m,\n",
      "  NES = \u001b[32mcol_double()\u001b[39m,\n",
      "  padj = \u001b[32mcol_double()\u001b[39m,\n",
      "  pval = \u001b[32mcol_double()\u001b[39m,\n",
      "  leadingEdge_signal = \u001b[32mcol_double()\u001b[39m,\n",
      "  mlog10padj = \u001b[32mcol_double()\u001b[39m,\n",
      "  mlog10pval = \u001b[32mcol_double()\u001b[39m\n",
      ")\n",
      "\n",
      "\n",
      "\n",
      "\u001b[36m──\u001b[39m \u001b[1m\u001b[1mColumn specification\u001b[1m\u001b[22m \u001b[36m───────────────────────────────────────────────────────\u001b[39m\n",
      "cols(\n",
      "  comparison = \u001b[31mcol_character()\u001b[39m,\n",
      "  pathway = \u001b[31mcol_character()\u001b[39m,\n",
      "  NES = \u001b[32mcol_double()\u001b[39m,\n",
      "  padj = \u001b[32mcol_double()\u001b[39m,\n",
      "  pval = \u001b[32mcol_double()\u001b[39m,\n",
      "  leadingEdge_signal = \u001b[32mcol_double()\u001b[39m,\n",
      "  mlog10padj = \u001b[32mcol_double()\u001b[39m,\n",
      "  mlog10pval = \u001b[32mcol_double()\u001b[39m\n",
      ")\n",
      "\n",
      "\n"
     ]
    }
   ],
   "source": [
    "input.files <- list.files(out.path, pattern='.csv', full.name=TRUE)\n",
    "input.files <- input.files[grepl('Runx3_KO-WT', input.files)]\n",
    "\n",
    "###----- Combine all leiden cluster GSEA outputs\n",
    "df_all <- read_csv(input.files[1])\n",
    "for (file in input.files[2:length(input.files)]){\n",
    "    df_all <- df_all %>% bind_rows(read_csv(file))\n",
    "}\n",
    "\n",
    "out.name <- 'Runx3_GSEA_all.csv'\n",
    "\n",
    "write_csv(df_all, out.name)"
   ]
  },
  {
   "cell_type": "code",
   "execution_count": 6,
   "metadata": {},
   "outputs": [
    {
     "name": "stdout",
     "output_type": "stream",
     "text": [
      " [1] \"2016_SCIENCE_Mackay---TCM_vs_TEM-TRM\"               \n",
      " [2] \"2016_SCIENCE_Mackay---TEM_vs_TCM-TRM\"               \n",
      " [3] \"2016_SCIENCE_Mackay---TRM_vs_TCM-TEM\"               \n",
      " [4] \"2018_IMMUNITY_Wang---D5KLRG1hi_vs_Naive_dn\"         \n",
      " [5] \"2018_IMMUNITY_Wang---D5KLRG1hi_vs_Naive_up\"         \n",
      " [6] \"2018_IMMUNITY_Wang---D5KLRG1lo_vs_Naive_dn\"         \n",
      " [7] \"2018_IMMUNITY_Wang---D5KLRG1lo_vs_Naive_up\"         \n",
      " [8] \"2018_IMMUNITY_Wang---D8EE_vs_D5KLRG1hi_dn\"          \n",
      " [9] \"2018_IMMUNITY_Wang---D8EE_vs_D5KLRG1hi_up\"          \n",
      "[10] \"2018_IMMUNITY_Wang---D8EE_vs_D5KLRG1lo_dn\"          \n",
      "[11] \"2018_IMMUNITY_Wang---D8EE_vs_D5KLRG1lo_up\"          \n",
      "[12] \"2018_IMMUNITY_Wang---D8MP_vs_D5KLRG1hi_dn\"          \n",
      "[13] \"2018_IMMUNITY_Wang---D8MP_vs_D5KLRG1hi_up\"          \n",
      "[14] \"2018_IMMUNITY_Wang---D8MP_vs_D5KLRG1lo_dn\"          \n",
      "[15] \"2018_IMMUNITY_Wang---D8MP_vs_D5KLRG1lo_up\"          \n",
      "[16] \"2018_IMMUNITY_Wang---D8TE_vs_D5KLRG1hi_dn\"          \n",
      "[17] \"2018_IMMUNITY_Wang---D8TE_vs_D5KLRG1hi_up\"          \n",
      "[18] \"2018_IMMUNITY_Wang---D8TE_vs_D5KLRG1lo_dn\"          \n",
      "[19] \"2018_IMMUNITY_Wang---D8TE_vs_D5KLRG1lo_up\"          \n",
      "[20] \"48h_IL2_promoted\"                                   \n",
      "[21] \"48h_IL2_repressed\"                                  \n",
      "[22] \"Exp391_CD8---Act48h_dn\"                             \n",
      "[23] \"Exp391_CD8---Act48h_up\"                             \n",
      "[24] \"Exp391_CD8---best_cluster_10\"                       \n",
      "[25] \"Exp391_CD8---best_cluster_2\"                        \n",
      "[26] \"Exp391_CD8---best_cluster_3\"                        \n",
      "[27] \"Exp391_CD8---best_cluster_4\"                        \n",
      "[28] \"Exp391_CD8---best_cluster_6\"                        \n",
      "[29] \"Exp391_CD8---best_cluster_7\"                        \n",
      "[30] \"Exp391_CD8---best_cluster_8\"                        \n",
      "[31] \"Exp391_CD8---best_cluster_9\"                        \n",
      "[32] \"Exp391_CD8---d5_KLRG1hi_Runx3_promoted\"             \n",
      "[33] \"Exp391_CD8---d5_KLRG1hi_Runx3_repressed\"            \n",
      "[34] \"Exp391_CD8---d5_KLRG1lo_Runx3_promoted\"             \n",
      "[35] \"Exp391_CD8---d5_KLRG1lo_Runx3_repressed\"            \n",
      "[36] \"Exp391_CD8---DP_up\"                                 \n",
      "[37] \"Exp391_CD8---EE_dn\"                                 \n",
      "[38] \"Exp391_CD8---EE_up\"                                 \n",
      "[39] \"Exp391_CD8---EXH_dn\"                                \n",
      "[40] \"Exp391_CD8---EXH_up\"                                \n",
      "[41] \"Exp391_CD8---GSE132110_Tim3pos_vs_Tim3neg---Tim3neg\"\n",
      "[42] \"Exp391_CD8---GSE132110_Tim3pos_vs_Tim3neg---Tim3pos\"\n",
      "[43] \"Exp391_CD8---GSE68056_WT_vs_Blimp1KO---Blimp1KO\"    \n",
      "[44] \"Exp391_CD8---GSE68056_WT_vs_Blimp1KO---WT\"          \n",
      "[45] \"Exp391_CD8---GSE68056_WT_vs_Il2raKO---Il2raKO\"      \n",
      "[46] \"Exp391_CD8---GSE68056_WT_vs_Il2raKO---WT\"           \n",
      "[47] \"Exp391_CD8---GSE68056_WT_vs_Tbx21KO---Tbx21KO\"      \n",
      "[48] \"Exp391_CD8---GSE68056_WT_vs_Tbx21KO---WT\"           \n",
      "[49] \"Exp391_CD8---JJM_CirculatingSignature\"              \n",
      "[50] \"Exp391_CD8---JJM_TrmSignature\"                      \n",
      "[51] \"Exp391_CD8---klf2_promoted\"                         \n",
      "[52] \"Exp391_CD8---klf2_repressed\"                        \n",
      "[53] \"Exp391_CD8---MEM_dn\"                                \n",
      "[54] \"Exp391_CD8---MEM_up\"                                \n",
      "[55] \"Exp391_CD8---MP_dn\"                                 \n",
      "[56] \"Exp391_CD8---MP_up\"                                 \n",
      "[57] \"Exp391_CD8---NAV_dn\"                                \n",
      "[58] \"Exp391_CD8---NAV_up\"                                \n",
      "[59] \"Exp391_CD8---Tcf7_promoted\"                         \n",
      "[60] \"Exp391_CD8---Tcf7_repressed\"                        \n",
      "[61] \"Exp391_CD8---TE_biased\"                             \n",
      "[62] \"Exp391_CD8---TE_up\"                                 \n",
      "[63] \"Exp391_CD8---Texint_dn\"                             \n",
      "[64] \"Exp391_CD8---Texint_up\"                             \n",
      "[65] \"Exp391_CD8---Texprog1_dn\"                           \n",
      "[66] \"Exp391_CD8---Texprog1_up\"                           \n",
      "[67] \"Exp391_CD8---Texprog2_dn\"                           \n",
      "[68] \"Exp391_CD8---Texprog2_up\"                           \n",
      "[69] \"Exp391_CD8---Texterm_dn\"                            \n",
      "[70] \"Exp391_CD8---Tim3negBlimp1neg\"                      \n",
      "[71] \"Exp391_CD8---Tim3posBlimp1pos\"                      \n",
      "[72] \"Exp391_CD8---Tox_promoted\"                          \n",
      "[73] \"Exp391_CD8---Tox_repressed\"                         \n",
      "[74] \"Exp391_CD8---TRM_biased\"                            \n",
      "[75] \"Exp391_CD8---Yao_EXH\"                               \n",
      "[76] \"Exp391_CD8---Yao_MP\"                                \n",
      "[77] \"Exp391_CD8---Yao_PRO\"                               \n",
      "[78] \"general_Il2raKO_down\"                               \n",
      "[79] \"general_Il2raKO_up\"                                 \n",
      "[80] \"P1_Il2raKO_down\"                                    \n",
      "[81] \"P1_Il2raKO_up\"                                      \n",
      "[82] \"P2_Il2raKO_down\"                                    \n",
      "[83] \"P2_Il2raKO_up\"                                      \n"
     ]
    }
   ],
   "source": [
    "sig.pathways <- df_all %>% filter(pval < 0.05) %>% .$pathway\n",
    "sig.pathways <- sort(unique(sig.pathways))\n",
    "print(sig.pathways)"
   ]
  },
  {
   "cell_type": "code",
   "execution_count": 7,
   "metadata": {
    "scrolled": true
   },
   "outputs": [
    {
     "data": {
      "image/png": "[encoded data removed]",
      "text/plain": [
       "plot without title"
      ]
     },
     "metadata": {
      "image/png": {
       "height": 420,
       "width": 420
      }
     },
     "output_type": "display_data"
    }
   ],
   "source": [
    "use.key = 'Runx3'\n",
    "font_size = 7\n",
    "\n",
    "use.pathways <- c(\"Exp391_CD8---Tox_promoted\", \"Exp391_CD8---Tox_repressed\",\n",
    "                  \"Exp391_CD8---Tcf7_promoted\", \"Exp391_CD8---Tcf7_repressed\",\n",
    "                 \"48h_IL2_promoted\", \"48h_IL2_repressed\" )\n",
    "df_plot <- df_all %>% filter(pathway %in% use.pathways)\n",
    "df_plot$pathway <- factor(df_plot$pathway, levels=rev(use.pathways))\n",
    "\n",
    "bbplot <- ggplot(df_plot, aes(comparison, pathway)) +\n",
    "    geom_point(aes(size=mlog10pval, color=NES)) +\n",
    "    scale_color_gradient2(low=\"blue\", mid=\"white\", high=\"red\", midpoint=0, limits=c(-3,3)) +\n",
    "    scale_size(range=c(0,4), breaks = c(0,1,2,3),labels=c('0','1','2', '>=3')) +\n",
    "    theme(axis.title.x=element_blank(), \n",
    "          axis.title.y=element_blank(), \n",
    "          text=element_text(size=font_size, family='mono'),\n",
    "          axis.text.x = element_text(angle = 45, hjust=1, vjust=1))\n",
    "bbplot\n",
    "leg <- get_legend(bbplot)\n",
    "bbplot_leg <- as_ggplot(leg)\n",
    "\n",
    "bbplot <- bbplot + theme(legend.position='none')\n",
    "\n",
    "#--- Save output plot\n",
    "wid = length(unique(df_plot$comparison)) * 3\n",
    "hei = length(unique(df_plot$pathway)) * 0.45 + 0.5*font_size\n",
    "\n",
    "outname_pdf = paste(use.key, \".pdf\", sep=\"\")\n",
    "outname_pdf_leg = paste(use.key, \"_legend.pdf\", sep=\"\")\n",
    "ggsave(outname_pdf, bbplot, device=\"pdf\", width=wid, height=hei, units=\"cm\")\n",
    "ggsave(outname_pdf_leg, bbplot_leg, device=\"pdf\", width=wid, height=hei, units=\"cm\")\n",
    "\n",
    "outname_pdf = paste(use.key, \".png\", sep=\"\")\n",
    "outname_pdf_leg = paste(use.key, \"_legend.png\", sep=\"\")    \n",
    "ggsave(outname_pdf, bbplot, device=\"png\", width=wid, height=hei, units=\"cm\")\n",
    "ggsave(outname_pdf_leg, bbplot_leg, device=\"png\", width=wid, height=hei, units=\"cm\")"
   ]
  },
  {
   "cell_type": "code",
   "execution_count": null,
   "metadata": {},
   "outputs": [],
   "source": []
  }
 ],
 "metadata": {
  "kernelspec": {
   "display_name": "R",
   "language": "R",
   "name": "ir"
  },
  "language_info": {
   "codemirror_mode": "r",
   "file_extension": ".r",
   "mimetype": "text/x-r-source",
   "name": "R",
   "pygments_lexer": "r",
   "version": "3.6.3"
  }
 },
 "nbformat": 4,
 "nbformat_minor": 4
}
