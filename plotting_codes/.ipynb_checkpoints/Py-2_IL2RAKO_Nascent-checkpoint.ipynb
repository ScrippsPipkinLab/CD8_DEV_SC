{
 "cells": [
  {
   "cell_type": "code",
   "execution_count": 178,
   "metadata": {},
   "outputs": [],
   "source": [
    "import pandas as pd\n",
    "import matplotlib.pyplot as plt\n",
    "import os\n",
    "%matplotlib inline"
   ]
  },
  {
   "cell_type": "code",
   "execution_count": 200,
   "metadata": {},
   "outputs": [],
   "source": [
    "de_dir = '/media/pipkin/ROCKET-PRO/CD8_DEV_SC/3_IL2RAKO_Nascent/2_DE/0_original_GN'\n",
    "out_dir = '/media/pipkin/ROCKET-PRO/CD8_DEV_SC/9_Figures/2_IL2RAKO_Nascent'"
   ]
  },
  {
   "cell_type": "markdown",
   "metadata": {},
   "source": [
    "### Create summary plot"
   ]
  },
  {
   "cell_type": "code",
   "execution_count": 159,
   "metadata": {},
   "outputs": [
    {
     "data": {
      "text/html": [
       "<div>\n",
       "<style scoped>\n",
       "    .dataframe tbody tr th:only-of-type {\n",
       "        vertical-align: middle;\n",
       "    }\n",
       "\n",
       "    .dataframe tbody tr th {\n",
       "        vertical-align: top;\n",
       "    }\n",
       "\n",
       "    .dataframe thead th {\n",
       "        text-align: right;\n",
       "    }\n",
       "</style>\n",
       "<table border=\"1\" class=\"dataframe\">\n",
       "  <thead>\n",
       "    <tr style=\"text-align: right;\">\n",
       "      <th></th>\n",
       "      <th>hour</th>\n",
       "      <th>WT-KO_up</th>\n",
       "      <th>WT-KO_dn</th>\n",
       "      <th>WT-nav_up</th>\n",
       "      <th>WT-nav_dn</th>\n",
       "      <th>KO-nav_up</th>\n",
       "      <th>KO_nav_dn</th>\n",
       "      <th>WT-KO_up_and_WT-nav_up</th>\n",
       "      <th>WT-KO_dn_and_WT-nav_dn</th>\n",
       "      <th>WT-KO_up_and_WT-nav_up_pctg</th>\n",
       "      <th>WT-KO_dn_and_WT-nav_dn_pctg</th>\n",
       "    </tr>\n",
       "  </thead>\n",
       "  <tbody>\n",
       "    <tr>\n",
       "      <th>0</th>\n",
       "      <td>0</td>\n",
       "      <td>49</td>\n",
       "      <td>177</td>\n",
       "      <td>0</td>\n",
       "      <td>0</td>\n",
       "      <td>0</td>\n",
       "      <td>0</td>\n",
       "      <td>0</td>\n",
       "      <td>0</td>\n",
       "      <td>0.000000</td>\n",
       "      <td>0.000000</td>\n",
       "    </tr>\n",
       "    <tr>\n",
       "      <th>1</th>\n",
       "      <td>6</td>\n",
       "      <td>159</td>\n",
       "      <td>156</td>\n",
       "      <td>13376</td>\n",
       "      <td>15034</td>\n",
       "      <td>10893</td>\n",
       "      <td>10893</td>\n",
       "      <td>104</td>\n",
       "      <td>123</td>\n",
       "      <td>0.777512</td>\n",
       "      <td>0.818146</td>\n",
       "    </tr>\n",
       "    <tr>\n",
       "      <th>2</th>\n",
       "      <td>24</td>\n",
       "      <td>354</td>\n",
       "      <td>428</td>\n",
       "      <td>14218</td>\n",
       "      <td>15028</td>\n",
       "      <td>13238</td>\n",
       "      <td>13238</td>\n",
       "      <td>217</td>\n",
       "      <td>248</td>\n",
       "      <td>1.526234</td>\n",
       "      <td>1.650253</td>\n",
       "    </tr>\n",
       "    <tr>\n",
       "      <th>3</th>\n",
       "      <td>48</td>\n",
       "      <td>1951</td>\n",
       "      <td>1957</td>\n",
       "      <td>14371</td>\n",
       "      <td>13857</td>\n",
       "      <td>11942</td>\n",
       "      <td>11942</td>\n",
       "      <td>1421</td>\n",
       "      <td>1258</td>\n",
       "      <td>9.887969</td>\n",
       "      <td>9.078444</td>\n",
       "    </tr>\n",
       "  </tbody>\n",
       "</table>\n",
       "</div>"
      ],
      "text/plain": [
       "   hour  WT-KO_up  WT-KO_dn  WT-nav_up  WT-nav_dn  KO-nav_up  KO_nav_dn  \\\n",
       "0     0        49       177          0          0          0          0   \n",
       "1     6       159       156      13376      15034      10893      10893   \n",
       "2    24       354       428      14218      15028      13238      13238   \n",
       "3    48      1951      1957      14371      13857      11942      11942   \n",
       "\n",
       "   WT-KO_up_and_WT-nav_up  WT-KO_dn_and_WT-nav_dn  \\\n",
       "0                       0                       0   \n",
       "1                     104                     123   \n",
       "2                     217                     248   \n",
       "3                    1421                    1258   \n",
       "\n",
       "   WT-KO_up_and_WT-nav_up_pctg  WT-KO_dn_and_WT-nav_dn_pctg  \n",
       "0                     0.000000                     0.000000  \n",
       "1                     0.777512                     0.818146  \n",
       "2                     1.526234                     1.650253  \n",
       "3                     9.887969                     9.078444  "
      ]
     },
     "execution_count": 159,
     "metadata": {},
     "output_type": "execute_result"
    }
   ],
   "source": [
    "sum_df = pd.DataFrame({\"hour\":[], \"WT-KO_up\":[], \"WT-KO_dn\":[], \n",
    "                       \"WT-nav_up\":[], \"WT-nav_dn\":[], \"KO-nav_up\":[], \"KO_nav_dn\":[],\n",
    "                       \"WT-KO_up_and_WT-nav_up\":[], \"WT-KO_dn_and_WT-nav_dn\":[],\n",
    "                      \"WT-KO_up_and_WT-nav_up_pctg\":[],\"WT-KO_dn_and_WT-nav_dn_pctg\":[]})\n",
    "for hour in [0, 6, 24, 48]:\n",
    "    wt_ko_file = de_dir + \"/nondupr_WT_%sh_vs_KO_%sh_addGN.csv\"%(hour, hour)\n",
    "    wt_ko_df = pd.read_csv(wt_ko_file)\n",
    "    wt_ko_df.columns = [\"ENSEMBL\"] + wt_ko_df.columns.tolist()[1:]\n",
    "    \n",
    "    wt_ko_df_sig = wt_ko_df[wt_ko_df['padj']<= 0.05]\n",
    "    wt_ko_df_up = wt_ko_df_sig[wt_ko_df_sig['log2FoldChange'] > 0]\n",
    "    wt_ko_df_dn = wt_ko_df_sig[wt_ko_df_sig['log2FoldChange'] < 0]\n",
    "    wt_ko_up = len(set(wt_ko_df_up['ENSEMBL'].tolist()))\n",
    "    wt_ko_dn = len(set(wt_ko_df_dn['ENSEMBL'].tolist()))\n",
    "    if hour != 0:\n",
    "        wt_nav_file = de_dir + \"/nondupr_WT_%sh_vs_WT_0h_addGN.csv\"%(hour)\n",
    "        wt_nav_df = pd.read_csv(wt_nav_file)\n",
    "        wt_nav_df.columns = [\"ENSEMBL\"] + wt_nav_df.columns.tolist()[1:]\n",
    "        wt_nav_df_sig = wt_nav_df[wt_nav_df['padj'] <= 0.05]\n",
    "        wt_nav_df_up = wt_nav_df_sig[wt_nav_df_sig['log2FoldChange'] > 0]\n",
    "        wt_nav_df_dn = wt_nav_df_sig[wt_nav_df_sig['log2FoldChange'] < 0]\n",
    "        wt_up = len(set(wt_nav_df_up['ENSEMBL'].tolist()))\n",
    "        wt_dn = len(set(wt_nav_df_dn['ENSEMBL'].tolist()))\n",
    "\n",
    "        ko_nav_file = de_dir + \"/nondupr_KO_%sh_vs_ko_0h_addGN.csv\"%(hour)\n",
    "        ko_nav_df = pd.read_csv(ko_nav_file)\n",
    "        ko_nav_df.columns = [\"ENSEMBL\"] + ko_nav_df.columns.tolist()[1:]\n",
    "        ko_nav_df_sig = ko_nav_df[ko_nav_df['padj'] <= 0.05]\n",
    "        ko_nav_df_up = ko_nav_df_sig[ko_nav_df_sig['log2FoldChange'] > 0]\n",
    "        ko_nav_df_dn = ko_nav_df_sig[ko_nav_df_sig['log2FoldChange'] < 0]\n",
    "        ko_up = len(set(ko_nav_df_up['ENSEMBL'].tolist()))\n",
    "        ko_dn = len(set(ko_nav_df_up['ENSEMBL'].tolist()))\n",
    "        \n",
    "        up_overlap = len(set(wt_ko_df_up['ENSEMBL'].tolist()) & set(wt_nav_df_up['ENSEMBL'].tolist()))\n",
    "        dn_overlap = len(set(wt_ko_df_dn['ENSEMBL'].tolist()) & set(wt_nav_df_dn['ENSEMBL'].tolist()))\n",
    "        \n",
    "        hour_row = {\"hour\":hour, \"WT-KO_up\":wt_ko_up, \"WT-KO_dn\":wt_ko_dn,\n",
    "                    \"WT-nav_up\":wt_up, \"WT-nav_dn\":wt_dn, \"KO-nav_up\":ko_up, \"KO_nav_dn\":ko_dn,\n",
    "                    \"WT-KO_up_and_WT-nav_up\":up_overlap, \"WT-KO_dn_and_WT-nav_dn\":dn_overlap,\n",
    "                    \"WT-KO_up_and_WT-nav_up_pctg\":up_overlap/wt_up*100, \n",
    "                    \"WT-KO_dn_and_WT-nav_dn_pctg\":dn_overlap/wt_dn*100}\n",
    "    else:\n",
    "        wt_up, wt_dn, ko_up, ko_dn, up_overlap, dn_overlap = 0,0,0,0,0,0\n",
    "        \n",
    "        hour_row = {\"hour\":hour, \"WT-KO_up\":wt_ko_up, \"WT-KO_dn\":wt_ko_dn,\n",
    "                    \"WT-nav_up\":wt_up, \"WT-nav_dn\":wt_dn, \"KO-nav_up\":ko_up, \"KO_nav_dn\":ko_dn,\n",
    "                    \"WT-KO_up_and_WT-nav_up\":up_overlap, \"WT-KO_dn_and_WT-nav_dn\":dn_overlap,\n",
    "                    \"WT-KO_up_and_WT-nav_up_pctg\":0, \n",
    "                    \"WT-KO_dn_and_WT-nav_dn_pctg\":0}\n",
    "\n",
    "    sum_df = sum_df.append(hour_row, ignore_index=True)\n",
    "\n",
    "sum_df = sum_df.astype({\"hour\": int, \"WT-KO_up\":int, \"WT-KO_dn\":int, \n",
    "                       \"WT-nav_up\":int, \"WT-nav_dn\":int, \"KO-nav_up\":int, \"KO_nav_dn\":int,\n",
    "                       \"WT-KO_up_and_WT-nav_up\":int, \"WT-KO_dn_and_WT-nav_dn\":int,\n",
    "                      \"WT-KO_up_and_WT-nav_up_pctg\":float,\"WT-KO_dn_and_WT-nav_dn_pctg\":float})\n",
    "sum_df.to_csv(\"%s/diff_numbers.csv\"%out_dir, index=False)\n",
    "sum_df"
   ]
  },
  {
   "cell_type": "code",
   "execution_count": 160,
   "metadata": {},
   "outputs": [],
   "source": [
    "sum_df_plot = sum_df.copy()\n",
    "sum_df_plot['hour_str'] = [\"%sh\"%x for x in sum_df_plot['hour']]\n",
    "sum_df_plot['WT-KO_dn'] = -sum_df_plot['WT-KO_dn']\n",
    "sum_df_plot['WT-KO_dn_and_WT-nav_dn'] = -sum_df_plot['WT-KO_dn_and_WT-nav_dn']"
   ]
  },
  {
   "cell_type": "code",
   "execution_count": 172,
   "metadata": {},
   "outputs": [
    {
     "data": {
      "image/png": "[encoded data removed]",
      "text/plain": [
       "<Figure size 576x360 with 1 Axes>"
      ]
     },
     "metadata": {
      "needs_background": "light"
     },
     "output_type": "display_data"
    }
   ],
   "source": [
    "fig, ax = plt.subplots(figsize=(8,5))\n",
    "\n",
    "ax.fill_between(x=sum_df_plot['hour_str'], y1=sum_df_plot['WT-KO_up'], color='lightcoral', \n",
    "                alpha=0.6, linewidth=0)\n",
    "ax.fill_between(x=sum_df_plot['hour_str'], y1=sum_df_plot['WT-KO_dn'], color='cornflowerblue', \n",
    "                alpha=0.6, linewidth=0)\n",
    "ax.fill_between(x=sum_df_plot['hour_str'], y1=sum_df_plot['WT-KO_up_and_WT-nav_up'], color='firebrick', \n",
    "                alpha=0.6, linewidth=0)\n",
    "ax.fill_between(x=sum_df_plot['hour_str'], y1=sum_df_plot['WT-KO_dn_and_WT-nav_dn'], color='royalblue', \n",
    "                alpha=0.6, linewidth=0)\n",
    "ax.scatter(x=sum_df_plot['hour_str'], y=sum_df_plot['WT-KO_up'], color='lightcoral', s=12)\n",
    "ax.scatter(x=sum_df_plot['hour_str'], y=sum_df_plot['WT-KO_dn'], color='cornflowerblue', s=12)\n",
    "ax.scatter(x=sum_df_plot['hour_str'], y=sum_df_plot['WT-KO_up_and_WT-nav_up'], color='firebrick', s=12)\n",
    "ax.scatter(x=sum_df_plot['hour_str'], y=sum_df_plot['WT-KO_dn_and_WT-nav_dn'], color='royalblue', s=12)\n",
    "ax.axhline(y=0, color='black', linewidth=2)\n",
    "ax.spines['top'].set_visible(False)\n",
    "ax.spines['bottom'].set_visible(False)\n",
    "ax.spines['right'].set_visible(False)\n",
    "ax.spines['left'].set_linewidth(2)\n",
    "ax.xaxis.set_tick_params(width=2)\n",
    "ax.yaxis.set_tick_params(width=2)\n",
    "\n",
    "fig.savefig(\"%s/differential_dynamics.png\"%out_dir)\n",
    "\n",
    "ax.get_xaxis().set_ticklabels([])\n",
    "ax.get_yaxis().set_ticklabels([])\n",
    "fig.savefig(\"%s/differential_dynamics_nolabel.png\"%out_dir)"
   ]
  },
  {
   "cell_type": "markdown",
   "metadata": {},
   "source": [
    "### Create signature"
   ]
  },
  {
   "cell_type": "code",
   "execution_count": 175,
   "metadata": {},
   "outputs": [],
   "source": [
    "wt_ko_48_file = '/media/pipkin/ROCKET-PRO/CD8_DEV_SC/3_IL2RAKO_Nascent/2_DE/0_original_GN/nondupr_WT_48h_vs_KO_48h_addGN.csv'\n",
    "wt_ko_48_df = pd.read_csv(wt_ko_48_file)"
   ]
  },
  {
   "cell_type": "code",
   "execution_count": 210,
   "metadata": {},
   "outputs": [],
   "source": [
    "wt_ko_48_df_sig = wt_ko_48_df[wt_ko_48_df['padj'] <= 0.05]\n",
    "wt_ko_48_df_sig_up = wt_ko_48_df_sig[wt_ko_48_df_sig['log2FoldChange'] > 2]\n",
    "wt_ko_48_df_sig_dn = wt_ko_48_df_sig[wt_ko_48_df_sig['log2FoldChange'] < -2]\n",
    "\n",
    "wt_ko_48_df_sig_up_gns = list(set(wt_ko_48_df_sig_up['gene_name'].tolist()))\n",
    "wt_ko_48_df_sig_dn_gns = list(set(wt_ko_48_df_sig_dn['gene_name'].tolist()))\n",
    "\n",
    "gs_df = pd.DataFrame({\"gs_name\": [\"48h_IL2_promoted\" for x in wt_ko_48_df_sig_up_gns] +\n",
    "                                     [\"48h_IL2_repressed\" for x in wt_ko_48_df_sig_dn_gns],\n",
    "                      \"gene_symbol\": wt_ko_48_df_sig_up_gns + wt_ko_48_df_sig_dn_gns, })\n",
    "\n",
    "gs_df.to_csv(\"%s/IL2_dependent_mm_sigs.csv\"%out_dir, index=False)"
   ]
  },
  {
   "cell_type": "code",
   "execution_count": null,
   "metadata": {},
   "outputs": [],
   "source": []
  }
 ],
 "metadata": {
  "kernelspec": {
   "display_name": "Python 3",
   "language": "python",
   "name": "python3"
  },
  "language_info": {
   "codemirror_mode": {
    "name": "ipython",
    "version": 3
   },
   "file_extension": ".py",
   "mimetype": "text/x-python",
   "name": "python",
   "nbconvert_exporter": "python",
   "pygments_lexer": "ipython3",
   "version": "3.8.3"
  }
 },
 "nbformat": 4,
 "nbformat_minor": 4
}
