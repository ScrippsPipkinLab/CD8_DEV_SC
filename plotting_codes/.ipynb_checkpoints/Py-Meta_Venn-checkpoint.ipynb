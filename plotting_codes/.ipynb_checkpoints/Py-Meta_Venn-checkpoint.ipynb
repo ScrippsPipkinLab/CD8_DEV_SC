{
 "cells": [
  {
   "cell_type": "code",
   "execution_count": 1,
   "metadata": {},
   "outputs": [],
   "source": [
    "import matplotlib.pyplot as plt\n",
    "from matplotlib_venn import venn2\n",
    "import pandas as pd\n",
    "import numpy as np\n",
    "\n",
    "%matplotlib inline"
   ]
  },
  {
   "cell_type": "code",
   "execution_count": 2,
   "metadata": {},
   "outputs": [],
   "source": [
    "stat3_cd4_file = '/media/pipkin/Rocket2/T_Cell_ChIP/202012_ChIP/3_peak_annotations/2017_PNAS_Li___STAT3_IL21-CD4_annoDf.csv'\n",
    "stat3_cd4_df = pd.read_csv(stat3_cd4_file, index_col=0)\n",
    "stat3_cd4_genes = set([x for x in stat3_cd4_df['SYMBOL'] if str(x) != 'nan'])"
   ]
  },
  {
   "cell_type": "code",
   "execution_count": 3,
   "metadata": {},
   "outputs": [],
   "source": [
    "il2_stat5_repressed_file = '/media/pipkin/ROCKET-PRO/CD8_DEV_SC/9_Figures/9_Meta/Il2-stat5_direct_repressed.csv'\n",
    "il2_stat5_promoted_file = '/media/pipkin/ROCKET-PRO/CD8_DEV_SC/9_Figures/9_Meta/Il2-stat5_direct_promoted.csv'\n",
    "\n",
    "il2_stat5_repressed_df = pd.read_csv(il2_stat5_repressed_file, index_col=0)\n",
    "il2_stat5_promoted_df = pd.read_csv(il2_stat5_promoted_file, index_col=0)\n",
    "\n",
    "il2_stat5_repressed = set([x for x in il2_stat5_repressed_df['gene_name'] if str(x) != 'nan'])\n",
    "il2_stat5_promoted = set([x for x in il2_stat5_promoted_df['gene_name'] if str(x) != 'nan'])"
   ]
  },
  {
   "cell_type": "code",
   "execution_count": 4,
   "metadata": {},
   "outputs": [
    {
     "name": "stderr",
     "output_type": "stream",
     "text": [
      "<ipython-input-4-813462d7c12d>:4: UserWarning: Boolean Series key will be reindexed to match DataFrame index.\n",
      "  a_genes = set(avc_df_sig[avc_df['t-test_logfc'] > 0]['gene_names'].tolist())\n",
      "<ipython-input-4-813462d7c12d>:5: UserWarning: Boolean Series key will be reindexed to match DataFrame index.\n",
      "  c_genes = set(avc_df_sig[avc_df['t-test_logfc'] < 0]['gene_names'].tolist())\n"
     ]
    }
   ],
   "source": [
    "avc_file = '/media/pipkin/ROCKET-PRO/CD8_DEV_SC/0_Acute-Chronic/1_Scanpy/0_Scanpy_out_resampled/2_DE/Arm_vs_Cl13/A/A_vs_C_differential.csv'\n",
    "avc_df = pd.read_csv(avc_file)\n",
    "avc_df_sig = avc_df[avc_df['t-test_padj'] <= 0.05]\n",
    "a_genes = set(avc_df_sig[avc_df['t-test_logfc'] > 0]['gene_names'].tolist())\n",
    "c_genes = set(avc_df_sig[avc_df['t-test_logfc'] < 0]['gene_names'].tolist())\n",
    "\n",
    "il2_stat5_promoted_a_genes = il2_stat5_promoted & a_genes\n",
    "il2_stat5_repressed_c_genes = il2_stat5_repressed & c_genes"
   ]
  },
  {
   "cell_type": "code",
   "execution_count": 5,
   "metadata": {},
   "outputs": [
    {
     "data": {
      "text/plain": [
       "{'Adar',\n",
       " 'Cactin',\n",
       " 'Cdc37',\n",
       " 'Cnot7',\n",
       " 'Dcst1',\n",
       " 'Fadd',\n",
       " 'Gm45717',\n",
       " 'Hsp84-2',\n",
       " 'Ifitm1',\n",
       " 'Ifitm2',\n",
       " 'Ifitm3',\n",
       " 'Ifitm6',\n",
       " 'Ifitm7',\n",
       " 'Ifna1',\n",
       " 'Ifnar1',\n",
       " 'Ifnar2',\n",
       " 'Ifnb1',\n",
       " 'Ikbke',\n",
       " 'Irak1',\n",
       " 'Irf3',\n",
       " 'Irf7',\n",
       " 'Isg15',\n",
       " 'Lsm14a',\n",
       " 'Mavs',\n",
       " 'Mettl3',\n",
       " 'Mmp12',\n",
       " 'Mul1',\n",
       " 'Myd88',\n",
       " 'Nlrc5',\n",
       " 'Oas2',\n",
       " 'Oas3',\n",
       " 'Ptpn2',\n",
       " 'Samhd1',\n",
       " 'Setd2',\n",
       " 'Shfl',\n",
       " 'Shmt2',\n",
       " 'Smpd1',\n",
       " 'Stat1',\n",
       " 'Stat2',\n",
       " 'Tbk1',\n",
       " 'Trex1',\n",
       " 'Trim56',\n",
       " 'Trim6',\n",
       " 'Ttll12',\n",
       " 'Ube2k',\n",
       " 'Usp18',\n",
       " 'Wnt5a',\n",
       " 'Ythdf2',\n",
       " 'Ythdf3',\n",
       " 'Zbp1'}"
      ]
     },
     "execution_count": 5,
     "metadata": {},
     "output_type": "execute_result"
    }
   ],
   "source": [
    "go_type1_ifn_file1 = '/media/pipkin/ROCKET-PRO/CD8_DEV_SC/9_Figures/9_Meta/GO_term_0034340.txt'\n",
    "go_type1_ifn_file2 = '/media/pipkin/ROCKET-PRO/CD8_DEV_SC/9_Figures/9_Meta/GO_term_0060337.txt'\n",
    "go_type1_ifn_df1 = pd.read_csv(go_type1_ifn_file1, sep='\\t')\n",
    "go_type1_ifn_df2 = pd.read_csv(go_type1_ifn_file2, sep='\\t')\n",
    "type1_ifn_genes = go_type1_ifn_df1.iloc[:, 0].tolist() + go_type1_ifn_df2.iloc[:, 0].tolist()\n",
    "type1_ifn_genes = set(type1_ifn_genes)\n",
    "type1_ifn_genes"
   ]
  },
  {
   "cell_type": "markdown",
   "metadata": {},
   "source": [
    "## Stat3 binding genes & Il2-stat5 promoted overlap"
   ]
  },
  {
   "cell_type": "code",
   "execution_count": 6,
   "metadata": {
    "scrolled": true
   },
   "outputs": [
    {
     "data": {
      "text/plain": [
       "<matplotlib_venn._common.VennDiagram at 0x7fbaf5a77d30>"
      ]
     },
     "execution_count": 6,
     "metadata": {},
     "output_type": "execute_result"
    },
    {
     "data": {
      "image/png": "[encoded data removed]",
      "text/plain": [
       "<Figure size 432x288 with 1 Axes>"
      ]
     },
     "metadata": {},
     "output_type": "display_data"
    }
   ],
   "source": [
    "venn2([stat3_cd4_genes, il2_stat5_promoted])"
   ]
  },
  {
   "cell_type": "markdown",
   "metadata": {},
   "source": [
    "## Stat3 binding genes & Il2-stat5 repressed overlap"
   ]
  },
  {
   "cell_type": "code",
   "execution_count": 7,
   "metadata": {},
   "outputs": [
    {
     "data": {
      "text/plain": [
       "<matplotlib_venn._common.VennDiagram at 0x7fbaf39b5e20>"
      ]
     },
     "execution_count": 7,
     "metadata": {},
     "output_type": "execute_result"
    },
    {
     "data": {
      "image/png": "[encoded data removed]",
      "text/plain": [
       "<Figure size 432x288 with 1 Axes>"
      ]
     },
     "metadata": {},
     "output_type": "display_data"
    }
   ],
   "source": [
    "venn2([stat3_cd4_genes, il2_stat5_repressed])"
   ]
  },
  {
   "cell_type": "markdown",
   "metadata": {},
   "source": [
    "## Stat3 binding genes & Il2-stat5 promoted in Arm overlap"
   ]
  },
  {
   "cell_type": "code",
   "execution_count": 11,
   "metadata": {},
   "outputs": [
    {
     "name": "stdout",
     "output_type": "stream",
     "text": [
      "Il2 stat5 promoted & Stat3 binding Overlap:\n",
      "{'Atp11b', 'F2rl2', 'Il7r', 'Dpy19l3', 'Rgs1', 'Rap1gds1', 'Gng12', 'Eps8', 'Chd7', 'Gzmb', 'Slc4a7', 'Crim1', 'Wwp1', 'Spef2', 'Klf7', 'Znrf2', 'Ccr5', 'Batf3', 'Tgfbr3', 'Atp2b4', 'Diaph1', 'Slco3a1', 'Treml2', 'Slc2a3'}\n",
      "----------\n",
      "Il2 stat5 promoted but not Stat3 binding:\n",
      "{'Dipk2a', 'Nedd4l', 'Tmem108', 'Rhoq', 'Acsl4', 'Rev3l', 'Golim4', 'Lamc1', 'Pde7a', 'Notch2', 'Ankib1', 'Fnip1', 'Emilin2', 'Ctla2a', 'Tle1'}\n"
     ]
    },
    {
     "data": {
      "image/png": "[encoded data removed]",
      "text/plain": [
       "<Figure size 432x288 with 1 Axes>"
      ]
     },
     "metadata": {},
     "output_type": "display_data"
    }
   ],
   "source": [
    "venn2([stat3_cd4_genes, il2_stat5_promoted_a_genes])\n",
    "print(\"Il2 stat5 promoted in Arm & Stat3 binding Overlap:\")\n",
    "print(stat3_cd4_genes & il2_stat5_promoted_a_genes)\n",
    "print(\"----------\")\n",
    "print(\"Il2 stat5 promoted in Arm but not Stat3 binding:\")\n",
    "print(il2_stat5_promoted_a_genes - stat3_cd4_genes)"
   ]
  },
  {
   "cell_type": "markdown",
   "metadata": {},
   "source": [
    "## Stat3 binding genes & Il2-stat5 repressed in Cl13 overlap"
   ]
  },
  {
   "cell_type": "code",
   "execution_count": 12,
   "metadata": {},
   "outputs": [
    {
     "name": "stdout",
     "output_type": "stream",
     "text": [
      "Il2 stat5 repressed and highly expressed in Cl13 & Stat3 binding Overlap:\n",
      "{'Ppp1r16b', 'Ifi213', 'Il6st', 'Gbp4', 'Tnfsf8', 'Ttc39b', 'Tox2', 'Bcl3', 'Ifit3', 'Bcl6', 'Myo1e', 'Gpr18', 'Slamf6', 'Ifit3b', 'Serpinb9', 'Traf1', 'Bcl2l11', 'Slfn2', 'Adora2a', 'Irf9', 'Id3'}\n",
      "----------\n",
      "Il2 stat5 repressed and highly expressed in Cl13 but not Stat3 binding:\n",
      "{'Tnfsf11', 'Pou2f2', 'Mcoln2', 'Gfod1', 'Atg16l2', 'Wars', 'Nrip1', 'Rasgef1b', 'Frmd4a', 'Atp9a'}\n"
     ]
    },
    {
     "data": {
      "image/png": "[encoded data removed]",
      "text/plain": [
       "<Figure size 432x288 with 1 Axes>"
      ]
     },
     "metadata": {},
     "output_type": "display_data"
    }
   ],
   "source": [
    "venn2([stat3_cd4_genes, il2_stat5_repressed_c_genes])\n",
    "print(\"Il2 stat5 repressed and highly expressed in Cl13 & Stat3 binding Overlap:\")\n",
    "print(stat3_cd4_genes & il2_stat5_repressed_c_genes)\n",
    "print(\"----------\")\n",
    "print(\"Il2 stat5 repressed and highly expressed in Cl13 but not Stat3 binding:\")\n",
    "print(il2_stat5_repressed_c_genes - stat3_cd4_genes)"
   ]
  },
  {
   "cell_type": "markdown",
   "metadata": {},
   "source": [
    "## Type1 interferon related genes & Il2-stat5 promoted overlap"
   ]
  },
  {
   "cell_type": "code",
   "execution_count": 14,
   "metadata": {
    "scrolled": true
   },
   "outputs": [
    {
     "data": {
      "text/plain": [
       "<matplotlib_venn._common.VennDiagram at 0x7fbaf37bea30>"
      ]
     },
     "execution_count": 14,
     "metadata": {},
     "output_type": "execute_result"
    },
    {
     "data": {
      "image/png": "[encoded data removed]",
      "text/plain": [
       "<Figure size 432x288 with 1 Axes>"
      ]
     },
     "metadata": {},
     "output_type": "display_data"
    }
   ],
   "source": [
    "venn2([type1_ifn_genes, il2_stat5_promoted])"
   ]
  },
  {
   "cell_type": "markdown",
   "metadata": {},
   "source": [
    "## Type1 interferon related genes & Il2-stat5 repressed overlap"
   ]
  },
  {
   "cell_type": "code",
   "execution_count": 15,
   "metadata": {},
   "outputs": [
    {
     "data": {
      "text/plain": [
       "<matplotlib_venn._common.VennDiagram at 0x7fbaf3782f40>"
      ]
     },
     "execution_count": 15,
     "metadata": {},
     "output_type": "execute_result"
    },
    {
     "data": {
      "image/png": "[encoded data removed]",
      "text/plain": [
       "<Figure size 432x288 with 1 Axes>"
      ]
     },
     "metadata": {},
     "output_type": "display_data"
    }
   ],
   "source": [
    "venn2([type1_ifn_genes, il2_stat5_repressed])"
   ]
  },
  {
   "cell_type": "code",
   "execution_count": null,
   "metadata": {},
   "outputs": [],
   "source": []
  },
  {
   "cell_type": "code",
   "execution_count": null,
   "metadata": {},
   "outputs": [],
   "source": []
  }
 ],
 "metadata": {
  "kernelspec": {
   "display_name": "Python 3",
   "language": "python",
   "name": "python3"
  },
  "language_info": {
   "codemirror_mode": {
    "name": "ipython",
    "version": 3
   },
   "file_extension": ".py",
   "mimetype": "text/x-python",
   "name": "python",
   "nbconvert_exporter": "python",
   "pygments_lexer": "ipython3",
   "version": "3.8.3"
  }
 },
 "nbformat": 4,
 "nbformat_minor": 4
}
