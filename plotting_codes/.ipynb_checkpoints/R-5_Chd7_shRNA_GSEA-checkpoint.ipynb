{
 "cells": [
  {
   "cell_type": "code",
   "execution_count": 2,
   "metadata": {},
   "outputs": [
    {
     "data": {
      "text/html": [
       "'/media/pipkin/ROCKET-PRO/CD8_DEV_SC'"
      ],
      "text/latex": [
       "'/media/pipkin/ROCKET-PRO/CD8\\_DEV\\_SC'"
      ],
      "text/markdown": [
       "'/media/pipkin/ROCKET-PRO/CD8_DEV_SC'"
      ],
      "text/plain": [
       "[1] \"/media/pipkin/ROCKET-PRO/CD8_DEV_SC\""
      ]
     },
     "metadata": {},
     "output_type": "display_data"
    }
   ],
   "source": [
    "##########----- Reused code -----##########\n",
    "# Last update: Sept 13, 2020\n",
    "# By: Huitian Diao\n",
    "###########################################\n",
    "\n",
    "library(stringr)\n",
    "library(cowplot)\n",
    "library(ggpubr)\n",
    "\n",
    "code_dir <- getwd()\n",
    "tool_dir <- unlist(strsplit(code_dir,\"/\"))\n",
    "tool_dir <- head(tool_dir, length(tool_dir)-1)\n",
    "tool_dir <- paste(c(tool_dir, \"tools\"), collapse=\"/\")\n",
    "source(file.path(tool_dir, \"function_GSEA.R\"))\n",
    "base_dir <- gsub(\"/plotting_codes\", \"\", code_dir)\n",
    "base_dir"
   ]
  },
  {
   "cell_type": "code",
   "execution_count": 3,
   "metadata": {},
   "outputs": [],
   "source": [
    "out.path <- '/media/pipkin/ROCKET-PRO/CD8_DEV_SC/9_Figures/5_Chd7_RNA_meta/GSEA_sum'\n",
    "setwd(out.path)"
   ]
  },
  {
   "cell_type": "markdown",
   "metadata": {},
   "source": [
    "### Summarize GSEA signatures"
   ]
  },
  {
   "cell_type": "code",
   "execution_count": 4,
   "metadata": {},
   "outputs": [
    {
     "name": "stderr",
     "output_type": "stream",
     "text": [
      "\n",
      "\u001b[36m──\u001b[39m \u001b[1m\u001b[1mColumn specification\u001b[1m\u001b[22m \u001b[36m────────────────────────────────────────────────────────\u001b[39m\n",
      "cols(\n",
      "  ID = \u001b[31mcol_character()\u001b[39m,\n",
      "  Description = \u001b[31mcol_character()\u001b[39m,\n",
      "  setSize = \u001b[32mcol_double()\u001b[39m,\n",
      "  enrichmentScore = \u001b[32mcol_double()\u001b[39m,\n",
      "  NES = \u001b[32mcol_double()\u001b[39m,\n",
      "  pvalue = \u001b[32mcol_double()\u001b[39m,\n",
      "  p.adjust = \u001b[32mcol_double()\u001b[39m,\n",
      "  qvalues = \u001b[32mcol_double()\u001b[39m,\n",
      "  rank = \u001b[32mcol_double()\u001b[39m,\n",
      "  leading_edge = \u001b[31mcol_character()\u001b[39m,\n",
      "  core_enrichment = \u001b[31mcol_character()\u001b[39m\n",
      ")\n",
      "\n",
      "\n",
      "\n",
      "\u001b[36m──\u001b[39m \u001b[1m\u001b[1mColumn specification\u001b[1m\u001b[22m \u001b[36m────────────────────────────────────────────────────────\u001b[39m\n",
      "cols(\n",
      "  ID = \u001b[31mcol_character()\u001b[39m,\n",
      "  Description = \u001b[31mcol_character()\u001b[39m,\n",
      "  setSize = \u001b[32mcol_double()\u001b[39m,\n",
      "  enrichmentScore = \u001b[32mcol_double()\u001b[39m,\n",
      "  NES = \u001b[32mcol_double()\u001b[39m,\n",
      "  pvalue = \u001b[32mcol_double()\u001b[39m,\n",
      "  p.adjust = \u001b[32mcol_double()\u001b[39m,\n",
      "  qvalues = \u001b[32mcol_double()\u001b[39m,\n",
      "  rank = \u001b[32mcol_double()\u001b[39m,\n",
      "  leading_edge = \u001b[31mcol_character()\u001b[39m,\n",
      "  core_enrichment = \u001b[31mcol_character()\u001b[39m\n",
      ")\n",
      "\n",
      "\n"
     ]
    },
    {
     "name": "stdout",
     "output_type": "stream",
     "text": [
      "\u001b[38;5;246m# A tibble: 6 x 8\u001b[39m\n",
      "  comparison  pathway    NES  padj   pval leadingEdge_sig… mlog10padj mlog10pval\n",
      "  \u001b[3m\u001b[38;5;246m<chr>\u001b[39m\u001b[23m       \u001b[3m\u001b[38;5;246m<chr>\u001b[39m\u001b[23m    \u001b[3m\u001b[38;5;246m<dbl>\u001b[39m\u001b[23m \u001b[3m\u001b[38;5;246m<dbl>\u001b[39m\u001b[23m  \u001b[3m\u001b[38;5;246m<dbl>\u001b[39m\u001b[23m            \u001b[3m\u001b[38;5;246m<dbl>\u001b[39m\u001b[23m      \u001b[3m\u001b[38;5;246m<dbl>\u001b[39m\u001b[23m      \u001b[3m\u001b[38;5;246m<dbl>\u001b[39m\u001b[23m\n",
      "\u001b[38;5;250m1\u001b[39m Chd7_vs_Ct… 2018_IM…  1.24 0.190 0.011\u001b[4m4\u001b[24m               21      0.721      1.94 \n",
      "\u001b[38;5;250m2\u001b[39m Chd7_vs_Ct… 2018_IM…  1.28 0.190 0.020\u001b[4m0\u001b[24m               29      0.721      1.70 \n",
      "\u001b[38;5;250m3\u001b[39m Chd7_vs_Ct… 2018_IM…  1.25 0.332 0.052\u001b[4m4\u001b[24m               11      0.479      1.28 \n",
      "\u001b[38;5;250m4\u001b[39m Chd7_vs_Ct… 2018_IM…  1.15 0.662 0.147                15      0.179      0.833\n",
      "\u001b[38;5;250m5\u001b[39m Chd7_vs_Ct… 2018_IM…  1.09 0.662 0.226                11      0.179      0.646\n",
      "\u001b[38;5;250m6\u001b[39m Chd7_vs_Ct… 2018_IM…  1.07 0.662 0.234                10      0.179      0.630\n"
     ]
    },
    {
     "name": "stderr",
     "output_type": "stream",
     "text": [
      "\n",
      "\u001b[36m──\u001b[39m \u001b[1m\u001b[1mColumn specification\u001b[1m\u001b[22m \u001b[36m────────────────────────────────────────────────────────\u001b[39m\n",
      "cols(\n",
      "  ID = \u001b[31mcol_character()\u001b[39m,\n",
      "  Description = \u001b[31mcol_character()\u001b[39m,\n",
      "  setSize = \u001b[32mcol_double()\u001b[39m,\n",
      "  enrichmentScore = \u001b[32mcol_double()\u001b[39m,\n",
      "  NES = \u001b[32mcol_double()\u001b[39m,\n",
      "  pvalue = \u001b[32mcol_double()\u001b[39m,\n",
      "  p.adjust = \u001b[32mcol_double()\u001b[39m,\n",
      "  qvalues = \u001b[32mcol_double()\u001b[39m,\n",
      "  rank = \u001b[32mcol_double()\u001b[39m,\n",
      "  leading_edge = \u001b[31mcol_character()\u001b[39m,\n",
      "  core_enrichment = \u001b[31mcol_character()\u001b[39m\n",
      ")\n",
      "\n",
      "\n",
      "\n",
      "\u001b[36m──\u001b[39m \u001b[1m\u001b[1mColumn specification\u001b[1m\u001b[22m \u001b[36m────────────────────────────────────────────────────────\u001b[39m\n",
      "cols(\n",
      "  ID = \u001b[31mcol_character()\u001b[39m,\n",
      "  Description = \u001b[31mcol_character()\u001b[39m,\n",
      "  setSize = \u001b[32mcol_double()\u001b[39m,\n",
      "  enrichmentScore = \u001b[32mcol_double()\u001b[39m,\n",
      "  NES = \u001b[32mcol_double()\u001b[39m,\n",
      "  pvalue = \u001b[32mcol_double()\u001b[39m,\n",
      "  p.adjust = \u001b[32mcol_double()\u001b[39m,\n",
      "  qvalues = \u001b[32mcol_double()\u001b[39m,\n",
      "  rank = \u001b[32mcol_double()\u001b[39m,\n",
      "  leading_edge = \u001b[31mcol_character()\u001b[39m,\n",
      "  core_enrichment = \u001b[31mcol_character()\u001b[39m\n",
      ")\n",
      "\n",
      "\n"
     ]
    },
    {
     "name": "stdout",
     "output_type": "stream",
     "text": [
      "\u001b[38;5;246m# A tibble: 6 x 8\u001b[39m\n",
      "  comparison pathway    NES   padj    pval leadingEdge_sig… mlog10padj\n",
      "  \u001b[3m\u001b[38;5;246m<chr>\u001b[39m\u001b[23m      \u001b[3m\u001b[38;5;246m<chr>\u001b[39m\u001b[23m    \u001b[3m\u001b[38;5;246m<dbl>\u001b[39m\u001b[23m  \u001b[3m\u001b[38;5;246m<dbl>\u001b[39m\u001b[23m   \u001b[3m\u001b[38;5;246m<dbl>\u001b[39m\u001b[23m            \u001b[3m\u001b[38;5;246m<dbl>\u001b[39m\u001b[23m      \u001b[3m\u001b[38;5;246m<dbl>\u001b[39m\u001b[23m\n",
      "\u001b[38;5;250m1\u001b[39m Chd7_vs_C… P1_Il2… -\u001b[31m0\u001b[39m\u001b[31m.\u001b[39m\u001b[31m810\u001b[39m 1      0.967                 27      0    \n",
      "\u001b[38;5;250m2\u001b[39m Chd7_vs_C… genera… -\u001b[31m0\u001b[39m\u001b[31m.\u001b[39m\u001b[31m762\u001b[39m 1      0.996                 19      0    \n",
      "\u001b[38;5;250m3\u001b[39m Chd7_vs_C… genera…  0.646 1      0.997                 24      0    \n",
      "\u001b[38;5;250m4\u001b[39m Chd7_vs_C… P1_Il2… -\u001b[31m0\u001b[39m\u001b[31m.\u001b[39m\u001b[31m594\u001b[39m 1      1                     24      0    \n",
      "\u001b[38;5;250m5\u001b[39m shBrg1_vs… genera…  1.48  0.027\u001b[4m5\u001b[24m 0.006\u001b[4m8\u001b[24m\u001b[4m8\u001b[24m               38      1.56 \n",
      "\u001b[38;5;250m6\u001b[39m shBrg1_vs… genera… -\u001b[31m1\u001b[39m\u001b[31m.\u001b[39m\u001b[31m0\u001b[39m\u001b[31m2\u001b[39m  0.745  0.372                 26      0.128\n",
      "\u001b[38;5;246m# … with 1 more variable: mlog10pval \u001b[3m\u001b[38;5;246m<dbl>\u001b[38;5;246m\u001b[23m\u001b[39m\n"
     ]
    },
    {
     "name": "stderr",
     "output_type": "stream",
     "text": [
      "\n",
      "\u001b[36m──\u001b[39m \u001b[1m\u001b[1mColumn specification\u001b[1m\u001b[22m \u001b[36m────────────────────────────────────────────────────────\u001b[39m\n",
      "cols(\n",
      "  ID = \u001b[31mcol_character()\u001b[39m,\n",
      "  Description = \u001b[31mcol_character()\u001b[39m,\n",
      "  setSize = \u001b[32mcol_double()\u001b[39m,\n",
      "  enrichmentScore = \u001b[32mcol_double()\u001b[39m,\n",
      "  NES = \u001b[32mcol_double()\u001b[39m,\n",
      "  pvalue = \u001b[32mcol_double()\u001b[39m,\n",
      "  p.adjust = \u001b[32mcol_double()\u001b[39m,\n",
      "  qvalues = \u001b[32mcol_double()\u001b[39m,\n",
      "  rank = \u001b[32mcol_double()\u001b[39m,\n",
      "  leading_edge = \u001b[31mcol_character()\u001b[39m,\n",
      "  core_enrichment = \u001b[31mcol_character()\u001b[39m\n",
      ")\n",
      "\n",
      "\n",
      "\n",
      "\u001b[36m──\u001b[39m \u001b[1m\u001b[1mColumn specification\u001b[1m\u001b[22m \u001b[36m────────────────────────────────────────────────────────\u001b[39m\n",
      "cols(\n",
      "  ID = \u001b[31mcol_character()\u001b[39m,\n",
      "  Description = \u001b[31mcol_character()\u001b[39m,\n",
      "  setSize = \u001b[32mcol_double()\u001b[39m,\n",
      "  enrichmentScore = \u001b[32mcol_double()\u001b[39m,\n",
      "  NES = \u001b[32mcol_double()\u001b[39m,\n",
      "  pvalue = \u001b[32mcol_double()\u001b[39m,\n",
      "  p.adjust = \u001b[32mcol_double()\u001b[39m,\n",
      "  qvalues = \u001b[32mcol_double()\u001b[39m,\n",
      "  rank = \u001b[32mcol_double()\u001b[39m,\n",
      "  leading_edge = \u001b[31mcol_character()\u001b[39m,\n",
      "  core_enrichment = \u001b[31mcol_character()\u001b[39m\n",
      ")\n",
      "\n",
      "\n"
     ]
    },
    {
     "name": "stdout",
     "output_type": "stream",
     "text": [
      "\u001b[38;5;246m# A tibble: 6 x 8\u001b[39m\n",
      "  comparison pathway   NES   padj    pval leadingEdge_sig… mlog10padj mlog10pval\n",
      "  \u001b[3m\u001b[38;5;246m<chr>\u001b[39m\u001b[23m      \u001b[3m\u001b[38;5;246m<chr>\u001b[39m\u001b[23m   \u001b[3m\u001b[38;5;246m<dbl>\u001b[39m\u001b[23m  \u001b[3m\u001b[38;5;246m<dbl>\u001b[39m\u001b[23m   \u001b[3m\u001b[38;5;246m<dbl>\u001b[39m\u001b[23m            \u001b[3m\u001b[38;5;246m<dbl>\u001b[39m\u001b[23m      \u001b[3m\u001b[38;5;246m<dbl>\u001b[39m\u001b[23m      \u001b[3m\u001b[38;5;246m<dbl>\u001b[39m\u001b[23m\n",
      "\u001b[38;5;250m1\u001b[39m Chd7_vs_C… Exp391… -\u001b[31m1\u001b[39m\u001b[31m.\u001b[39m\u001b[31m68\u001b[39m 0.018\u001b[4m6\u001b[24m 3.26\u001b[38;5;246me\u001b[39m\u001b[31m-4\u001b[39m               40      1.73        3.49\n",
      "\u001b[38;5;250m2\u001b[39m Chd7_vs_C… Exp391… -\u001b[31m1\u001b[39m\u001b[31m.\u001b[39m\u001b[31m62\u001b[39m 0.018\u001b[4m6\u001b[24m 6.10\u001b[38;5;246me\u001b[39m\u001b[31m-4\u001b[39m               34      1.73        3.21\n",
      "\u001b[38;5;250m3\u001b[39m Chd7_vs_C… Exp391… -\u001b[31m1\u001b[39m\u001b[31m.\u001b[39m\u001b[31m63\u001b[39m 0.101  4.98\u001b[38;5;246me\u001b[39m\u001b[31m-3\u001b[39m               49      0.994       2.30\n",
      "\u001b[38;5;250m4\u001b[39m Chd7_vs_C… Exp391…  1.33 0.149  1.20\u001b[38;5;246me\u001b[39m\u001b[31m-2\u001b[39m               20      0.825       1.92\n",
      "\u001b[38;5;250m5\u001b[39m Chd7_vs_C… Exp391… -\u001b[31m1\u001b[39m\u001b[31m.\u001b[39m\u001b[31m28\u001b[39m 0.149  1.23\u001b[38;5;246me\u001b[39m\u001b[31m-2\u001b[39m               27      0.825       1.91\n",
      "\u001b[38;5;250m6\u001b[39m Chd7_vs_C… Exp391…  1.29 0.192  1.89\u001b[38;5;246me\u001b[39m\u001b[31m-2\u001b[39m               20      0.716       1.72\n"
     ]
    },
    {
     "name": "stderr",
     "output_type": "stream",
     "text": [
      "\n",
      "\u001b[36m──\u001b[39m \u001b[1m\u001b[1mColumn specification\u001b[1m\u001b[22m \u001b[36m────────────────────────────────────────────────────────\u001b[39m\n",
      "cols(\n",
      "  ID = \u001b[31mcol_character()\u001b[39m,\n",
      "  Description = \u001b[31mcol_character()\u001b[39m,\n",
      "  setSize = \u001b[32mcol_double()\u001b[39m,\n",
      "  enrichmentScore = \u001b[32mcol_double()\u001b[39m,\n",
      "  NES = \u001b[32mcol_double()\u001b[39m,\n",
      "  pvalue = \u001b[32mcol_double()\u001b[39m,\n",
      "  p.adjust = \u001b[32mcol_double()\u001b[39m,\n",
      "  qvalues = \u001b[32mcol_double()\u001b[39m,\n",
      "  rank = \u001b[32mcol_double()\u001b[39m,\n",
      "  leading_edge = \u001b[31mcol_character()\u001b[39m,\n",
      "  core_enrichment = \u001b[31mcol_character()\u001b[39m\n",
      ")\n",
      "\n",
      "\n",
      "\n",
      "\u001b[36m──\u001b[39m \u001b[1m\u001b[1mColumn specification\u001b[1m\u001b[22m \u001b[36m────────────────────────────────────────────────────────\u001b[39m\n",
      "cols(\n",
      "  ID = \u001b[31mcol_character()\u001b[39m,\n",
      "  Description = \u001b[31mcol_character()\u001b[39m,\n",
      "  setSize = \u001b[32mcol_double()\u001b[39m,\n",
      "  enrichmentScore = \u001b[32mcol_double()\u001b[39m,\n",
      "  NES = \u001b[32mcol_double()\u001b[39m,\n",
      "  pvalue = \u001b[32mcol_double()\u001b[39m,\n",
      "  p.adjust = \u001b[32mcol_double()\u001b[39m,\n",
      "  qvalues = \u001b[32mcol_double()\u001b[39m,\n",
      "  rank = \u001b[32mcol_double()\u001b[39m,\n",
      "  leading_edge = \u001b[31mcol_character()\u001b[39m,\n",
      "  core_enrichment = \u001b[31mcol_character()\u001b[39m\n",
      ")\n",
      "\n",
      "\n"
     ]
    },
    {
     "name": "stdout",
     "output_type": "stream",
     "text": [
      "\u001b[38;5;246m# A tibble: 4 x 8\u001b[39m\n",
      "  comparison  pathway   NES   padj   pval leadingEdge_sig… mlog10padj mlog10pval\n",
      "  \u001b[3m\u001b[38;5;246m<chr>\u001b[39m\u001b[23m       \u001b[3m\u001b[38;5;246m<chr>\u001b[39m\u001b[23m   \u001b[3m\u001b[38;5;246m<dbl>\u001b[39m\u001b[23m  \u001b[3m\u001b[38;5;246m<dbl>\u001b[39m\u001b[23m  \u001b[3m\u001b[38;5;246m<dbl>\u001b[39m\u001b[23m            \u001b[3m\u001b[38;5;246m<dbl>\u001b[39m\u001b[23m      \u001b[3m\u001b[38;5;246m<dbl>\u001b[39m\u001b[23m      \u001b[3m\u001b[38;5;246m<dbl>\u001b[39m\u001b[23m\n",
      "\u001b[38;5;250m1\u001b[39m Chd7_vs_Ct… 48h_IL… 1.17  0.255  0.127                17    0.594      0.895  \n",
      "\u001b[38;5;250m2\u001b[39m Chd7_vs_Ct… 48h_IL… 0.795 0.979  0.979                13    0.009\u001b[4m0\u001b[24m\u001b[4m5\u001b[24m    0.009\u001b[4m0\u001b[24m\u001b[4m5\u001b[24m\n",
      "\u001b[38;5;250m3\u001b[39m shBrg1_vs_… 48h_IL… 1.27  0.063\u001b[4m0\u001b[24m 0.031\u001b[4m5\u001b[24m               28    1.20       1.50   \n",
      "\u001b[38;5;250m4\u001b[39m shBrg1_vs_… 48h_IL… 0.977 0.522  0.522                20    0.282      0.282  \n"
     ]
    }
   ],
   "source": [
    "chd7.shRNA.gsea.dir <- '/media/pipkin/ROCKET-PRO/CD8_DEV_SC/5_Chd7_shRNA_RNA/2_DE_GSEA/Chd7_vs_Ctrl_gn_sep'\n",
    "brg1.shRNA.gsea.dir <- '/media/pipkin/ROCKET-PRO/CD8_DEV_SC/4_Runx3_Brg1_Meta/1_Brg1_RNA/2_DE_GSEA/shBrg1_vs_shCd19_gn_sep'\n",
    "\n",
    "gsea.sig.sets <- c('2020_mouse_CD8', 'D6-5_IL2_dependent', 'Exp391_CD8', 'IL2_dependent')\n",
    "\n",
    "for (gsea.sig.set in gsea.sig.sets) {\n",
    "    chd7.gsea.file <- paste('Chd7_vs_Ctrl_gn---', gsea.sig.set, '_mm_sigs.csv', sep=\"\")\n",
    "    chd7.gsea.file <- file.path(chd7.shRNA.gsea.dir, gsea.sig.set, chd7.gsea.file)\n",
    "\n",
    "    brg1.gsea.file <- paste('shBrg1_vs_shCd19_gn---', gsea.sig.set, '_mm_sigs.csv', sep=\"\")\n",
    "    brg1.gsea.file <- file.path(brg1.shRNA.gsea.dir, gsea.sig.set, brg1.gsea.file)\n",
    "    \n",
    "    files.vec <- c(chd7.gsea.file, brg1.gsea.file)\n",
    "    out.name <- paste('Chd7-Brg1_', gsea.sig.set, sep=\"\")\n",
    "    \n",
    "    GSEA_sum(files.vec, out.name, 50, 18, FALSE,NA,FALSE, NA,FALSE,NA,FALSE)\n",
    "}\n"
   ]
  },
  {
   "cell_type": "code",
   "execution_count": 5,
   "metadata": {},
   "outputs": [
    {
     "name": "stderr",
     "output_type": "stream",
     "text": [
      "\n",
      "\u001b[36m──\u001b[39m \u001b[1m\u001b[1mColumn specification\u001b[1m\u001b[22m \u001b[36m────────────────────────────────────────────────────────\u001b[39m\n",
      "cols(\n",
      "  comparison = \u001b[31mcol_character()\u001b[39m,\n",
      "  pathway = \u001b[31mcol_character()\u001b[39m,\n",
      "  NES = \u001b[32mcol_double()\u001b[39m,\n",
      "  padj = \u001b[32mcol_double()\u001b[39m,\n",
      "  pval = \u001b[32mcol_double()\u001b[39m,\n",
      "  leadingEdge_signal = \u001b[32mcol_double()\u001b[39m,\n",
      "  mlog10padj = \u001b[32mcol_double()\u001b[39m,\n",
      "  mlog10pval = \u001b[32mcol_double()\u001b[39m\n",
      ")\n",
      "\n",
      "\n",
      "\n",
      "\u001b[36m──\u001b[39m \u001b[1m\u001b[1mColumn specification\u001b[1m\u001b[22m \u001b[36m────────────────────────────────────────────────────────\u001b[39m\n",
      "cols(\n",
      "  comparison = \u001b[31mcol_character()\u001b[39m,\n",
      "  pathway = \u001b[31mcol_character()\u001b[39m,\n",
      "  NES = \u001b[32mcol_double()\u001b[39m,\n",
      "  padj = \u001b[32mcol_double()\u001b[39m,\n",
      "  pval = \u001b[32mcol_double()\u001b[39m,\n",
      "  leadingEdge_signal = \u001b[32mcol_double()\u001b[39m,\n",
      "  mlog10padj = \u001b[32mcol_double()\u001b[39m,\n",
      "  mlog10pval = \u001b[32mcol_double()\u001b[39m\n",
      ")\n",
      "\n",
      "\n",
      "\n",
      "\u001b[36m──\u001b[39m \u001b[1m\u001b[1mColumn specification\u001b[1m\u001b[22m \u001b[36m────────────────────────────────────────────────────────\u001b[39m\n",
      "cols(\n",
      "  comparison = \u001b[31mcol_character()\u001b[39m,\n",
      "  pathway = \u001b[31mcol_character()\u001b[39m,\n",
      "  NES = \u001b[32mcol_double()\u001b[39m,\n",
      "  padj = \u001b[32mcol_double()\u001b[39m,\n",
      "  pval = \u001b[32mcol_double()\u001b[39m,\n",
      "  leadingEdge_signal = \u001b[32mcol_double()\u001b[39m,\n",
      "  mlog10padj = \u001b[32mcol_double()\u001b[39m,\n",
      "  mlog10pval = \u001b[32mcol_double()\u001b[39m\n",
      ")\n",
      "\n",
      "\n",
      "\n",
      "\u001b[36m──\u001b[39m \u001b[1m\u001b[1mColumn specification\u001b[1m\u001b[22m \u001b[36m────────────────────────────────────────────────────────\u001b[39m\n",
      "cols(\n",
      "  comparison = \u001b[31mcol_character()\u001b[39m,\n",
      "  pathway = \u001b[31mcol_character()\u001b[39m,\n",
      "  NES = \u001b[32mcol_double()\u001b[39m,\n",
      "  padj = \u001b[32mcol_double()\u001b[39m,\n",
      "  pval = \u001b[32mcol_double()\u001b[39m,\n",
      "  leadingEdge_signal = \u001b[32mcol_double()\u001b[39m,\n",
      "  mlog10padj = \u001b[32mcol_double()\u001b[39m,\n",
      "  mlog10pval = \u001b[32mcol_double()\u001b[39m\n",
      ")\n",
      "\n",
      "\n"
     ]
    }
   ],
   "source": [
    "input.files <- list.files(out.path, pattern='.csv', full.name=TRUE)\n",
    "input.files <- input.files[grepl('Chd7-Brg1', input.files)]\n",
    "\n",
    "###----- Combine all leiden cluster GSEA outputs\n",
    "df_all <- read_csv(input.files[1])\n",
    "for (file in input.files[2:length(input.files)]){\n",
    "    df_all <- df_all %>% bind_rows(read_csv(file))\n",
    "}\n",
    "\n",
    "out.name <- 'Chd7_Brg1_GSEA_all.csv'\n",
    "\n",
    "write_csv(df_all, out.name)"
   ]
  },
  {
   "cell_type": "code",
   "execution_count": 31,
   "metadata": {},
   "outputs": [
    {
     "name": "stdout",
     "output_type": "stream",
     "text": [
      " [1] \"2016_SCIENCE_Mackay---TEM_vs_TCM-TRM\"               \n",
      " [2] \"2016_SCIENCE_Mackay---TRM_vs_TCM-TEM\"               \n",
      " [3] \"2018_IMMUNITY_Wang---D5KLRG1hi_vs_Naive_up\"         \n",
      " [4] \"2018_IMMUNITY_Wang---D5KLRG1lo_vs_Naive_dn\"         \n",
      " [5] \"2018_IMMUNITY_Wang---D5KLRG1lo_vs_Naive_up\"         \n",
      " [6] \"2018_IMMUNITY_Wang---D8TE_vs_D5KLRG1lo_dn\"          \n",
      " [7] \"48h_IL2_promoted\"                                   \n",
      " [8] \"Exp391_CD8---best_cluster_10\"                       \n",
      " [9] \"Exp391_CD8---best_cluster_3\"                        \n",
      "[10] \"Exp391_CD8---best_cluster_4\"                        \n",
      "[11] \"Exp391_CD8---best_cluster_6\"                        \n",
      "[12] \"Exp391_CD8---best_cluster_7\"                        \n",
      "[13] \"Exp391_CD8---best_cluster_9\"                        \n",
      "[14] \"Exp391_CD8---d5_KLRG1lo_Runx3_promoted\"             \n",
      "[15] \"Exp391_CD8---DP_up\"                                 \n",
      "[16] \"Exp391_CD8---GSE132110_Tim3pos_vs_Tim3neg---Tim3neg\"\n",
      "[17] \"Exp391_CD8---GSE132110_Tim3pos_vs_Tim3neg---Tim3pos\"\n",
      "[18] \"Exp391_CD8---GSE68056_WT_vs_Blimp1KO---WT\"          \n",
      "[19] \"Exp391_CD8---GSE68056_WT_vs_Il2raKO---WT\"           \n",
      "[20] \"Exp391_CD8---GSE68056_WT_vs_Tbx21KO---WT\"           \n",
      "[21] \"Exp391_CD8---Tcf7_promoted\"                         \n",
      "[22] \"Exp391_CD8---TE_biased\"                             \n",
      "[23] \"Exp391_CD8---Texint_up\"                             \n",
      "[24] \"Exp391_CD8---Tim3negBlimp1neg\"                      \n",
      "[25] \"Exp391_CD8---Tim3posBlimp1pos\"                      \n",
      "[26] \"Exp391_CD8---Tox_promoted\"                          \n",
      "[27] \"Exp391_CD8---Yao_EXH\"                               \n",
      "[28] \"Exp391_CD8---Yao_MP\"                                \n",
      "[29] \"Exp391_CD8---Yao_PRO\"                               \n",
      "[30] \"general_Il2raKO_up\"                                 \n"
     ]
    }
   ],
   "source": [
    "sig.pathways <- df_all %>% filter(pval < 0.05) %>% .$pathway\n",
    "sig.pathways <- sort(unique(sig.pathways))\n",
    "print(sig.pathways)"
   ]
  },
  {
   "cell_type": "code",
   "execution_count": 43,
   "metadata": {
    "scrolled": true
   },
   "outputs": [
    {
     "data": {
      "image/png": "[encoded data removed]",
      "text/plain": [
       "plot without title"
      ]
     },
     "metadata": {
      "image/png": {
       "height": 420,
       "width": 420
      }
     },
     "output_type": "display_data"
    }
   ],
   "source": [
    "use.key = 'Chd7-Brg1'\n",
    "font_size = 7\n",
    "\n",
    "use.pathways <- c('general_Il2raKO_down', 'general_Il2raKO_up', \n",
    "                  'Exp391_CD8---GSE68056_WT_vs_Il2raKO---WT', 'Exp391_CD8---GSE68056_WT_vs_Il2raKO---Il2raKO', \n",
    "                  'Exp391_CD8---d5_KLRG1lo_Runx3_promoted','Exp391_CD8---Tox_promoted', \n",
    "                  \"Exp391_CD8---Tcf7_promoted\", 'Exp391_CD8---GSE68056_WT_vs_Tbx21KO---WT', \n",
    "                  'Exp391_CD8---GSE68056_WT_vs_Blimp1KO---WT', \n",
    "                  'Exp391_CD8---Yao_PRO', 'Exp391_CD8---TE_up','Exp391_CD8---DP_up','Exp391_CD8---MP_up',\n",
    "                  'Exp391_CD8---best_cluster_4', 'Exp391_CD8---best_cluster_3',\n",
    "                  'Exp391_CD8---best_cluster_6','Exp391_CD8---best_cluster_9')\n",
    "df_plot <- df_all %>% filter(pathway %in% use.pathways)\n",
    "df_plot$pathway <- factor(df_plot$pathway, levels=rev(use.pathways))\n",
    "\n",
    "bbplot <- ggplot(df_plot, aes(comparison, pathway)) +\n",
    "    geom_point(aes(size=mlog10pval, color=NES)) +\n",
    "    scale_color_gradient2(low=\"blue\", mid=\"white\", high=\"red\", midpoint=0, limits=c(-2,2)) +\n",
    "    scale_size(range=c(0,4), breaks = c(0,1,2,3),labels=c('0','1','2', '>=3')) +\n",
    "    theme(axis.title.x=element_blank(), \n",
    "          axis.title.y=element_blank(), \n",
    "          text=element_text(size=font_size, family='mono'),\n",
    "          axis.text.x = element_text(angle = 45, hjust=1, vjust=1))\n",
    "bbplot\n",
    "leg <- get_legend(bbplot)\n",
    "bbplot_leg <- as_ggplot(leg)\n",
    "\n",
    "bbplot <- bbplot + theme(legend.position='none')\n",
    "\n",
    "#--- Save output plot\n",
    "wid = length(unique(df_plot$comparison)) * 4\n",
    "hei = length(unique(df_plot$pathway)) * 0.4 + 0.5*font_size\n",
    "\n",
    "outname_pdf = paste(use.key, \".pdf\", sep=\"\")\n",
    "outname_pdf_leg = paste(use.key, \"_legend.pdf\", sep=\"\")\n",
    "ggsave(outname_pdf, bbplot, device=\"pdf\", width=wid, height=hei, units=\"cm\")\n",
    "ggsave(outname_pdf_leg, bbplot_leg, device=\"pdf\", width=wid, height=hei, units=\"cm\")\n",
    "\n",
    "outname_pdf = paste(use.key, \".png\", sep=\"\")\n",
    "outname_pdf_leg = paste(use.key, \"_legend.png\", sep=\"\")    \n",
    "ggsave(outname_pdf, bbplot, device=\"png\", width=wid, height=hei, units=\"cm\")\n",
    "ggsave(outname_pdf_leg, bbplot_leg, device=\"png\", width=wid, height=hei, units=\"cm\")"
   ]
  },
  {
   "cell_type": "code",
   "execution_count": null,
   "metadata": {},
   "outputs": [],
   "source": []
  }
 ],
 "metadata": {
  "kernelspec": {
   "display_name": "R",
   "language": "R",
   "name": "ir"
  },
  "language_info": {
   "codemirror_mode": "r",
   "file_extension": ".r",
   "mimetype": "text/x-r-source",
   "name": "R",
   "pygments_lexer": "r",
   "version": "3.6.3"
  }
 },
 "nbformat": 4,
 "nbformat_minor": 4
}
