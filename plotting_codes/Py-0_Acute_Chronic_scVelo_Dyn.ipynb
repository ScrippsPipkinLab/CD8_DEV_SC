{
 "cells": [
  {
   "cell_type": "code",
   "execution_count": 1,
   "metadata": {},
   "outputs": [
    {
     "data": {
      "text/html": [
       "<style>.container { width:90% !important; }</style>"
      ],
      "text/plain": [
       "<IPython.core.display.HTML object>"
      ]
     },
     "metadata": {},
     "output_type": "display_data"
    },
    {
     "name": "stdout",
     "output_type": "stream",
     "text": [
      "Running scvelo 0.2.2 (python 3.8.3) on 2020-10-19 10:51.\n"
     ]
    }
   ],
   "source": [
    "import os\n",
    "import pandas as pd\n",
    "import numpy as np\n",
    "import matplotlib.pyplot as plt\n",
    "import copy\n",
    "import sys\n",
    "from importlib import reload\n",
    "from pathlib import Path\n",
    "import scanpy as sc\n",
    "from pylab import rcParams\n",
    "from matplotlib.patches import Patch\n",
    "import re\n",
    "import seaborn as sns\n",
    "import glob\n",
    "\n",
    "from IPython.core.display import display, HTML\n",
    "display(HTML(\"<style>.container { width:90% !important; }</style>\"))\n",
    "\n",
    "import scvelo as scv\n",
    "scv.logging.print_version()\n",
    "\n",
    "\n",
    "scv.settings.verbosity = 3  # show errors(0), warnings(1), info(2), hints(3)\n",
    "scv.settings.set_figure_params('scvelo')  # for beautified visualization\n",
    "\n",
    "%matplotlib inline"
   ]
  },
  {
   "cell_type": "code",
   "execution_count": 2,
   "metadata": {},
   "outputs": [],
   "source": [
    "def adata_louvain_name_convert(inputAdata, orderDf, louvainNewOrdered, louvainOldOrdered):\n",
    "    inputAdata.obs[\"louvain_celltype\"] = [\"%s_%s\"%(x,y) for index, (x,y) in enumerate(zip(inputAdata.obs['louvain'], inputAdata.obs['cell_type']))]\n",
    "    inputAdata.obs[\"celltype_general\"] = [x[0] for x in inputAdata.obs['cell_type']]\n",
    "    \n",
    "    #--- Match old & new louvain levels\n",
    "    inputAdata.obs['louvain_old'] = inputAdata.obs['louvain']\n",
    "    inputAdata.uns['louvain_old_colors'] = inputAdata.uns['louvain_colors']\n",
    "    inputAdata.obs['louvain'] = [ louvainNewOrdered[louvainOldOrdered.index(int(x))] for x in inputAdata.obs['louvain'] ]\n",
    "    category_order = orderDf.sort_values('louvain')['louvain_new_label'].tolist()\n",
    "    category_order = [x for x in category_order if x in np.unique(inputAdata.obs['louvain'])]\n",
    "    inputAdata.obs['louvain'] = pd.Categorical(inputAdata.obs['louvain'].tolist(), categories=category_order) # The key is to set categories according to original order...\n",
    "\n",
    "    inputAdata.obs['Infection type'] = [ 'Armstrong' if 'A' in x else 'Clone13' if 'C' in x else 'Naive' for x in inputAdata.obs['cell_type']]\n",
    "    inputAdata.obs['cell_id'] = inputAdata.obs.index.tolist()"
   ]
  },
  {
   "cell_type": "code",
   "execution_count": 3,
   "metadata": {},
   "outputs": [
    {
     "name": "stdout",
     "output_type": "stream",
     "text": [
      "Start\n"
     ]
    }
   ],
   "source": [
    "###----- Get dir & load / reload packages\n",
    "try:\n",
    "    code_dir\n",
    "except NameError:\n",
    "    print(\"Start\")\n",
    "    code_dir = os.getcwd()\n",
    "    base_dir = code_dir.replace(\"/plotting_codes\",\"\")\n",
    "    tools_dir = base_dir + \"/tools\"\n",
    "\n",
    "    sys.path.insert(1, tools_dir)\n",
    "    import sc_addons\n",
    "    import sc_pl_addons\n",
    "else:\n",
    "    print(\"Reload\")\n",
    "    reload(sc_addons)\n",
    "    reload(sc_pl_addons)"
   ]
  },
  {
   "cell_type": "code",
   "execution_count": 4,
   "metadata": {},
   "outputs": [
    {
     "name": "stdout",
     "output_type": "stream",
     "text": [
      "0_Acute-Chronic\n"
     ]
    }
   ],
   "source": [
    "## ----- Setup working dir\n",
    "sp_name = \"0_Acute-Chronic\"\n",
    "analysis_name = [\"0\", \"resampled\"] \n",
    "\n",
    "wk_dir = base_dir + \"/9_Figures/%s/%s_%s/scVelo\"%(sp_name, analysis_name[0], analysis_name[1])\n",
    "Path(wk_dir).mkdir(parents=True, exist_ok=True)\n",
    "os.chdir(wk_dir)\n",
    "\n",
    "print(sp_name)"
   ]
  },
  {
   "cell_type": "code",
   "execution_count": 5,
   "metadata": {},
   "outputs": [],
   "source": [
    "###----- old - new cluster names\n",
    "order_file ='%s/%s/2_scVelo'%(base_dir, sp_name) + '/%s_scVelo_out_%sNoDyn/pt_ordered_cluster_avg.csv'%(analysis_name[0], analysis_name[1])\n",
    "order_df = pd.read_csv(order_file)\n",
    "louvain_new_ordered = order_df['louvain_new_label'].tolist()\n",
    "louvain_old_ordered = order_df['louvain'].tolist()"
   ]
  },
  {
   "cell_type": "code",
   "execution_count": 6,
   "metadata": {},
   "outputs": [],
   "source": [
    "resampled_h5ad = '/media/pipkin/ROCKET-PRO/CD8_DEV_SC/0_Acute-Chronic/2_scVelo/0_scVelo_out_resampled/0_Acute-Chronic_scVelo_postPT.h5ad'\n",
    "adata = scv.read(resampled_h5ad)\n",
    "\n",
    "adata_louvain_name_convert(adata, order_df, louvain_new_ordered, louvain_old_ordered)"
   ]
  },
  {
   "cell_type": "code",
   "execution_count": 7,
   "metadata": {},
   "outputs": [],
   "source": [
    "paga_xmax, paga_ymax = np.amax(adata.obsm['paga'], axis=0)\n",
    "paga_xmin, paga_ymin = np.amin(adata.obsm['paga'], axis=0)\n",
    "paga_dx, paga_dy = paga_xmax - paga_xmin, paga_ymax - paga_ymin\n",
    "paga_xmax, paga_xmin = paga_xmax + paga_dx*0.1, paga_xmin - paga_dx*0.1\n",
    "paga_ymax, paga_ymin = paga_ymax + paga_dy*0.1, paga_ymin - paga_dy*0.1"
   ]
  },
  {
   "cell_type": "code",
   "execution_count": 15,
   "metadata": {},
   "outputs": [],
   "source": [
    "### Intersect chromatin regulators & TF & cell surface receptors\n",
    "surface_df = pd.read_csv('https://raw.githubusercontent.com/Yolanda-HT/SurfaceMarkerSelect/master/MM_MARKERS.csv')\n",
    "surface_genes = surface_df['gene_name'].tolist()\n",
    "crf_df = pd.read_csv('https://raw.githubusercontent.com/ScrippsPipkinLab/CRF_Screen/master/Ref/CRF_all.csv?token=AGIX2OZNRQF2KWG2ZLZ6ZDC7S35MU')\n",
    "crf_genes = crf_df['gene_name'].tolist() + [x for x in crf_df['Alternative'].tolist() if str(x) != 'nan']\n",
    "tf_df = pd.read_csv('https://raw.githubusercontent.com/Yolanda-HT/TFclassDataCollection/master/Ravasi_TF.csv')\n",
    "tf_genes = tf_df['symbol'].tolist()\n",
    "all_genes = list(set(surface_genes + crf_genes + tf_genes))\n",
    "\n",
    "### Gene signature genes\n",
    "gs_plot_use_file = '/media/pipkin/ROCKET-PRO/T_cell_signature_Reference/Y_annotated/anno_plotuse_gs_20200928.csv'\n",
    "gs_plot_use_df = pd.read_csv(gs_plot_use_file)\n",
    "gs_use = gs_plot_use_df[gs_plot_use_df['plot_use'].notnull()]['gs_name'].tolist()\n",
    "\n",
    "gs_file = '/media/pipkin/ROCKET-PRO/T_cell_signature_Reference/X_GeneSignatures_mm/all_mouse_T_cell_signatures.csv'\n",
    "gs_df = pd.read_csv(gs_file)\n",
    "gs_df_use = gs_df[[True if x in gs_use else False for x in gs_df['gs_name']]]\n",
    "genes_use = list(set(gs_df_use['gene_symbol'].tolist()))\n",
    "\n",
    "genes_use = [i for i in genes_use if i in all_genes]"
   ]
  },
  {
   "cell_type": "code",
   "execution_count": 90,
   "metadata": {},
   "outputs": [],
   "source": [
    "out_dir = wk_dir + '/likelihood_genes'\n",
    "Path(out_dir).mkdir(parents=True, exist_ok=True)"
   ]
  },
  {
   "cell_type": "markdown",
   "metadata": {},
   "source": [
    "## Extract likelihood genes for all activated cells ARM v.s. CL13"
   ]
  },
  {
   "cell_type": "code",
   "execution_count": 91,
   "metadata": {},
   "outputs": [],
   "source": [
    "# Armstrong\n",
    "adata_ij_file = '/media/pipkin/ROCKET-PRO/CD8_DEV_SC/0_Acute-Chronic/2_scVelo/2_scVelo_out_actARMonly/0_Acute-Chronic_scVelo_postPT.h5ad'\n",
    "if os.path.exists(adata_ij_file):\n",
    "    adata_ij = scv.read(adata_ij_file)\n",
    "    top_genes = adata_ij.var['fit_likelihood'].sort_values(ascending=False).index\n",
    "    top_genes = [i for i in top_genes if i in genes_use]\n",
    "else:\n",
    "    top_genes = []\n",
    "arm_top_genes = top_genes[:50]\n",
    "\n",
    "# Armstrong\n",
    "adata_ij_file = '/media/pipkin/ROCKET-PRO/CD8_DEV_SC/0_Acute-Chronic/2_scVelo/3_scVelo_out_actCL13only/0_Acute-Chronic_scVelo_postPT.h5ad'\n",
    "if os.path.exists(adata_ij_file):\n",
    "    adata_ij = scv.read(adata_ij_file)\n",
    "    top_genes = adata_ij.var['fit_likelihood'].sort_values(ascending=False).index\n",
    "    top_genes = [i for i in top_genes if i in genes_use]\n",
    "else:\n",
    "    top_genes = []\n",
    "cl13_top_genes = top_genes[:50]\n",
    "\n",
    "#Create output df\n",
    "out_df = pd.DataFrame()\n",
    "arm_uniq = list(set(arm_top_genes) - (set(cl13_top_genes) & set(arm_top_genes)))\n",
    "cl13_uniq = list(set(cl13_top_genes) - (set(cl13_top_genes) & set(arm_top_genes)))\n",
    "common = list(set(cl13_top_genes) & set(arm_top_genes))\n",
    "out_df['Arm_ranked'] = pd.Series(arm_top_genes)\n",
    "out_df['Cl13_ranked'] = pd.Series(cl13_top_genes)\n",
    "out_df['Arm_unique'] = pd.Series(arm_uniq)\n",
    "out_df['Cl13_unique'] = pd.Series(cl13_uniq)\n",
    "out_df['Arm-Cl13_common'] = pd.Series(common)\n",
    "out_df.to_csv(\"likelihood_genes/act_Arm-Cl13_likelihood_genes.csv\", index=False)"
   ]
  },
  {
   "cell_type": "markdown",
   "metadata": {},
   "source": [
    "## Extract likelihood genes for pairwise clusters"
   ]
  },
  {
   "cell_type": "code",
   "execution_count": 28,
   "metadata": {},
   "outputs": [],
   "source": [
    "cluster_vs_cluster_scvelo_dir = '/media/pipkin/ROCKET-PRO/CD8_DEV_SC/0_Acute-Chronic/2_scVelo/4_scVelo_out_LouvainCluster'"
   ]
  },
  {
   "cell_type": "code",
   "execution_count": null,
   "metadata": {},
   "outputs": [],
   "source": [
    "cp_use = [ [\"P2\", \"P5\"], [\"P5\",\"P6\"], [\"P5\",\"P3\"],\n",
    "           [\"P2\", \"P7\"], [\"P7\",\"P8\"],\n",
    "           [\"P2\", \"P4\"], [\"P4\",\"P9\"], [\"P9\",\"P10\"] ]\n",
    "\n",
    "for cp_ij in cp_use:\n",
    "    cp_ij_old = [louvain_old_ordered[louvain_new_ordered.index(x)] for x in cp_ij]\n",
    "    if cp_ij_old[1] < cp_ij_old[0]:\n",
    "        cp_ij_old = [cp_ij_old[1], cp_ij_old[0]]\n",
    "        cp_ij = [cp_ij[1], cp_ij[0]]\n",
    "    \n",
    "    # Armstrong\n",
    "    use_type = \"ARM\"\n",
    "    adata_ij_file = cluster_vs_cluster_scvelo_dir + \"/%s-louvain--%s_%s_scVelo.h5ad\"%(use_type,cp_ij_old[0], cp_ij_old[1])\n",
    "    if os.path.exists(adata_ij_file):\n",
    "        adata_ij = scv.read(adata_ij_file)\n",
    "        top_genes = adata_ij.var['fit_likelihood'].sort_values(ascending=False).index\n",
    "        top_genes = [i for i in top_genes if i in genes_use]\n",
    "    else:\n",
    "        top_genes = []\n",
    "    arm_top_genes = top_genes[:50]\n",
    "    \n",
    "    # Armstrong\n",
    "    use_type = \"CL13\"\n",
    "    adata_ij_file = cluster_vs_cluster_scvelo_dir + \"/%s-louvain--%s_%s_scVelo.h5ad\"%(use_type,cp_ij_old[0], cp_ij_old[1])\n",
    "    if os.path.exists(adata_ij_file):\n",
    "        adata_ij = scv.read(adata_ij_file)\n",
    "        top_genes = adata_ij.var['fit_likelihood'].sort_values(ascending=False).index\n",
    "        top_genes = [i for i in top_genes if i in genes_use]\n",
    "    else:\n",
    "        top_genes = []\n",
    "    cl13_top_genes = top_genes[:50]\n",
    "    \n",
    "    #Create output df\n",
    "    out_df = pd.DataFrame()\n",
    "    arm_uniq = list(set(arm_top_genes) - (set(cl13_top_genes) & set(arm_top_genes)))\n",
    "    cl13_uniq = list(set(cl13_top_genes) - (set(cl13_top_genes) & set(arm_top_genes)))\n",
    "    common = list(set(cl13_top_genes) & set(arm_top_genes))\n",
    "    out_df['Arm_ranked'] = pd.Series(arm_top_genes)\n",
    "    out_df['Cl13_ranked'] = pd.Series(cl13_top_genes)\n",
    "    out_df['Arm_unique'] = pd.Series(arm_uniq)\n",
    "    out_df['Cl13_unique'] = pd.Series(cl13_uniq)\n",
    "    out_df['Arm-Cl13_common'] = pd.Series(common)\n",
    "    out_df.to_csv(\"likelihood_genes/%s-%s_Arm-Cl13_likelihood_genes.csv\"%(cp_ij[0], cp_ij[1]), index=False)"
   ]
  },
  {
   "cell_type": "code",
   "execution_count": null,
   "metadata": {},
   "outputs": [],
   "source": []
  }
 ],
 "metadata": {
  "kernelspec": {
   "display_name": "Python 3",
   "language": "python",
   "name": "python3"
  },
  "language_info": {
   "codemirror_mode": {
    "name": "ipython",
    "version": 3
   },
   "file_extension": ".py",
   "mimetype": "text/x-python",
   "name": "python",
   "nbconvert_exporter": "python",
   "pygments_lexer": "ipython3",
   "version": "3.8.3"
  }
 },
 "nbformat": 4,
 "nbformat_minor": 4
}
