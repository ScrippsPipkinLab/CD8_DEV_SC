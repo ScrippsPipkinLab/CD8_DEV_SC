{
 "cells": [
  {
   "cell_type": "code",
   "execution_count": 2,
   "metadata": {},
   "outputs": [
    {
     "data": {
      "text/html": [
       "'/media/pipkin/ROCKET-PRO/CD8_DEV_SC'"
      ],
      "text/latex": [
       "'/media/pipkin/ROCKET-PRO/CD8\\_DEV\\_SC'"
      ],
      "text/markdown": [
       "'/media/pipkin/ROCKET-PRO/CD8_DEV_SC'"
      ],
      "text/plain": [
       "[1] \"/media/pipkin/ROCKET-PRO/CD8_DEV_SC\""
      ]
     },
     "metadata": {},
     "output_type": "display_data"
    }
   ],
   "source": [
    "##########----- Reused code -----##########\n",
    "# Last update: Sept 13, 2020\n",
    "# By: Huitian Diao\n",
    "###########################################\n",
    "\n",
    "library(stringr)\n",
    "library(cowplot)\n",
    "library(ggpubr)\n",
    "\n",
    "code_dir <- getwd()\n",
    "tool_dir <- unlist(strsplit(code_dir,\"/\"))\n",
    "tool_dir <- head(tool_dir, length(tool_dir)-1)\n",
    "tool_dir <- paste(c(tool_dir, \"tools\"), collapse=\"/\")\n",
    "source(file.path(tool_dir, \"function_GSEA.R\"))\n",
    "base_dir <- gsub(\"/plotting_codes\", \"\", code_dir)\n",
    "base_dir"
   ]
  },
  {
   "cell_type": "code",
   "execution_count": 22,
   "metadata": {},
   "outputs": [],
   "source": [
    "out.path <- '/media/pipkin/ROCKET-PRO/CD8_DEV_SC/9_Figures/5_Chd7_RNA_meta/GSEA_sum'\n",
    "setwd(out.path)"
   ]
  },
  {
   "cell_type": "markdown",
   "metadata": {},
   "source": [
    "### Summarize GSEA signatures"
   ]
  },
  {
   "cell_type": "code",
   "execution_count": 24,
   "metadata": {},
   "outputs": [
    {
     "name": "stderr",
     "output_type": "stream",
     "text": [
      "\n",
      "\u001b[36m──\u001b[39m \u001b[1m\u001b[1mColumn specification\u001b[1m\u001b[22m \u001b[36m───────────────────────────────────────────\u001b[39m\n",
      "cols(\n",
      "  ID = \u001b[31mcol_character()\u001b[39m,\n",
      "  Description = \u001b[31mcol_character()\u001b[39m,\n",
      "  setSize = \u001b[32mcol_double()\u001b[39m,\n",
      "  enrichmentScore = \u001b[32mcol_double()\u001b[39m,\n",
      "  NES = \u001b[32mcol_double()\u001b[39m,\n",
      "  pvalue = \u001b[32mcol_double()\u001b[39m,\n",
      "  p.adjust = \u001b[32mcol_double()\u001b[39m,\n",
      "  qvalues = \u001b[32mcol_double()\u001b[39m,\n",
      "  rank = \u001b[32mcol_double()\u001b[39m,\n",
      "  leading_edge = \u001b[31mcol_character()\u001b[39m,\n",
      "  core_enrichment = \u001b[31mcol_character()\u001b[39m\n",
      ")\n",
      "\n",
      "\n",
      "\n",
      "\u001b[36m──\u001b[39m \u001b[1m\u001b[1mColumn specification\u001b[1m\u001b[22m \u001b[36m───────────────────────────────────────────\u001b[39m\n",
      "cols(\n",
      "  ID = \u001b[31mcol_character()\u001b[39m,\n",
      "  Description = \u001b[31mcol_character()\u001b[39m,\n",
      "  setSize = \u001b[32mcol_double()\u001b[39m,\n",
      "  enrichmentScore = \u001b[32mcol_double()\u001b[39m,\n",
      "  NES = \u001b[32mcol_double()\u001b[39m,\n",
      "  pvalue = \u001b[32mcol_double()\u001b[39m,\n",
      "  p.adjust = \u001b[32mcol_double()\u001b[39m,\n",
      "  qvalues = \u001b[32mcol_double()\u001b[39m,\n",
      "  rank = \u001b[32mcol_double()\u001b[39m,\n",
      "  leading_edge = \u001b[31mcol_character()\u001b[39m,\n",
      "  core_enrichment = \u001b[31mcol_character()\u001b[39m\n",
      ")\n",
      "\n",
      "\n"
     ]
    },
    {
     "name": "stdout",
     "output_type": "stream",
     "text": [
      "\u001b[38;5;246m# A tibble: 6 x 8\u001b[39m\n",
      "  comparison  pathway    NES  padj   pval leadingEdge_sig… mlog10padj mlog10pval\n",
      "  \u001b[3m\u001b[38;5;246m<chr>\u001b[39m\u001b[23m       \u001b[3m\u001b[38;5;246m<chr>\u001b[39m\u001b[23m    \u001b[3m\u001b[38;5;246m<dbl>\u001b[39m\u001b[23m \u001b[3m\u001b[38;5;246m<dbl>\u001b[39m\u001b[23m  \u001b[3m\u001b[38;5;246m<dbl>\u001b[39m\u001b[23m            \u001b[3m\u001b[38;5;246m<dbl>\u001b[39m\u001b[23m      \u001b[3m\u001b[38;5;246m<dbl>\u001b[39m\u001b[23m      \u001b[3m\u001b[38;5;246m<dbl>\u001b[39m\u001b[23m\n",
      "\u001b[38;5;250m1\u001b[39m Chd7_vs_Ct… 2018_IM…  1.24 0.190 0.011\u001b[4m4\u001b[24m               21      0.721      1.94 \n",
      "\u001b[38;5;250m2\u001b[39m Chd7_vs_Ct… 2018_IM…  1.28 0.190 0.020\u001b[4m0\u001b[24m               29      0.721      1.70 \n",
      "\u001b[38;5;250m3\u001b[39m Chd7_vs_Ct… 2018_IM…  1.25 0.332 0.052\u001b[4m4\u001b[24m               11      0.479      1.28 \n",
      "\u001b[38;5;250m4\u001b[39m Chd7_vs_Ct… 2018_IM…  1.15 0.662 0.147                15      0.179      0.833\n",
      "\u001b[38;5;250m5\u001b[39m Chd7_vs_Ct… 2018_IM…  1.09 0.662 0.226                11      0.179      0.646\n",
      "\u001b[38;5;250m6\u001b[39m Chd7_vs_Ct… 2018_IM…  1.07 0.662 0.234                10      0.179      0.630\n"
     ]
    },
    {
     "name": "stderr",
     "output_type": "stream",
     "text": [
      "\n",
      "\u001b[36m──\u001b[39m \u001b[1m\u001b[1mColumn specification\u001b[1m\u001b[22m \u001b[36m───────────────────────────────────────────\u001b[39m\n",
      "cols(\n",
      "  ID = \u001b[31mcol_character()\u001b[39m,\n",
      "  Description = \u001b[31mcol_character()\u001b[39m,\n",
      "  setSize = \u001b[32mcol_double()\u001b[39m,\n",
      "  enrichmentScore = \u001b[32mcol_double()\u001b[39m,\n",
      "  NES = \u001b[32mcol_double()\u001b[39m,\n",
      "  pvalue = \u001b[32mcol_double()\u001b[39m,\n",
      "  p.adjust = \u001b[32mcol_double()\u001b[39m,\n",
      "  qvalues = \u001b[32mcol_double()\u001b[39m,\n",
      "  rank = \u001b[32mcol_double()\u001b[39m,\n",
      "  leading_edge = \u001b[31mcol_character()\u001b[39m,\n",
      "  core_enrichment = \u001b[31mcol_character()\u001b[39m\n",
      ")\n",
      "\n",
      "\n",
      "\n",
      "\u001b[36m──\u001b[39m \u001b[1m\u001b[1mColumn specification\u001b[1m\u001b[22m \u001b[36m───────────────────────────────────────────\u001b[39m\n",
      "cols(\n",
      "  ID = \u001b[31mcol_character()\u001b[39m,\n",
      "  Description = \u001b[31mcol_character()\u001b[39m,\n",
      "  setSize = \u001b[32mcol_double()\u001b[39m,\n",
      "  enrichmentScore = \u001b[32mcol_double()\u001b[39m,\n",
      "  NES = \u001b[32mcol_double()\u001b[39m,\n",
      "  pvalue = \u001b[32mcol_double()\u001b[39m,\n",
      "  p.adjust = \u001b[32mcol_double()\u001b[39m,\n",
      "  qvalues = \u001b[32mcol_double()\u001b[39m,\n",
      "  rank = \u001b[32mcol_double()\u001b[39m,\n",
      "  leading_edge = \u001b[31mcol_character()\u001b[39m,\n",
      "  core_enrichment = \u001b[31mcol_character()\u001b[39m\n",
      ")\n",
      "\n",
      "\n"
     ]
    },
    {
     "name": "stdout",
     "output_type": "stream",
     "text": [
      "\u001b[38;5;246m# A tibble: 6 x 8\u001b[39m\n",
      "  comparison pathway    NES   padj    pval leadingEdge_sig… mlog10padj\n",
      "  \u001b[3m\u001b[38;5;246m<chr>\u001b[39m\u001b[23m      \u001b[3m\u001b[38;5;246m<chr>\u001b[39m\u001b[23m    \u001b[3m\u001b[38;5;246m<dbl>\u001b[39m\u001b[23m  \u001b[3m\u001b[38;5;246m<dbl>\u001b[39m\u001b[23m   \u001b[3m\u001b[38;5;246m<dbl>\u001b[39m\u001b[23m            \u001b[3m\u001b[38;5;246m<dbl>\u001b[39m\u001b[23m      \u001b[3m\u001b[38;5;246m<dbl>\u001b[39m\u001b[23m\n",
      "\u001b[38;5;250m1\u001b[39m Chd7_vs_C… P1_Il2… -\u001b[31m0\u001b[39m\u001b[31m.\u001b[39m\u001b[31m810\u001b[39m 1      0.967                 27      0    \n",
      "\u001b[38;5;250m2\u001b[39m Chd7_vs_C… genera… -\u001b[31m0\u001b[39m\u001b[31m.\u001b[39m\u001b[31m762\u001b[39m 1      0.996                 19      0    \n",
      "\u001b[38;5;250m3\u001b[39m Chd7_vs_C… genera…  0.646 1      0.997                 24      0    \n",
      "\u001b[38;5;250m4\u001b[39m Chd7_vs_C… P1_Il2… -\u001b[31m0\u001b[39m\u001b[31m.\u001b[39m\u001b[31m594\u001b[39m 1      1                     24      0    \n",
      "\u001b[38;5;250m5\u001b[39m shBrg1_vs… genera…  1.48  0.027\u001b[4m5\u001b[24m 0.006\u001b[4m8\u001b[24m\u001b[4m8\u001b[24m               38      1.56 \n",
      "\u001b[38;5;250m6\u001b[39m shBrg1_vs… genera… -\u001b[31m1\u001b[39m\u001b[31m.\u001b[39m\u001b[31m0\u001b[39m\u001b[31m2\u001b[39m  0.745  0.372                 26      0.128\n",
      "\u001b[38;5;246m# … with 1 more variable: mlog10pval \u001b[3m\u001b[38;5;246m<dbl>\u001b[38;5;246m\u001b[23m\u001b[39m\n"
     ]
    },
    {
     "name": "stderr",
     "output_type": "stream",
     "text": [
      "\n",
      "\u001b[36m──\u001b[39m \u001b[1m\u001b[1mColumn specification\u001b[1m\u001b[22m \u001b[36m───────────────────────────────────────────\u001b[39m\n",
      "cols(\n",
      "  ID = \u001b[31mcol_character()\u001b[39m,\n",
      "  Description = \u001b[31mcol_character()\u001b[39m,\n",
      "  setSize = \u001b[32mcol_double()\u001b[39m,\n",
      "  enrichmentScore = \u001b[32mcol_double()\u001b[39m,\n",
      "  NES = \u001b[32mcol_double()\u001b[39m,\n",
      "  pvalue = \u001b[32mcol_double()\u001b[39m,\n",
      "  p.adjust = \u001b[32mcol_double()\u001b[39m,\n",
      "  qvalues = \u001b[32mcol_double()\u001b[39m,\n",
      "  rank = \u001b[32mcol_double()\u001b[39m,\n",
      "  leading_edge = \u001b[31mcol_character()\u001b[39m,\n",
      "  core_enrichment = \u001b[31mcol_character()\u001b[39m\n",
      ")\n",
      "\n",
      "\n",
      "\n",
      "\u001b[36m──\u001b[39m \u001b[1m\u001b[1mColumn specification\u001b[1m\u001b[22m \u001b[36m───────────────────────────────────────────\u001b[39m\n",
      "cols(\n",
      "  ID = \u001b[31mcol_character()\u001b[39m,\n",
      "  Description = \u001b[31mcol_character()\u001b[39m,\n",
      "  setSize = \u001b[32mcol_double()\u001b[39m,\n",
      "  enrichmentScore = \u001b[32mcol_double()\u001b[39m,\n",
      "  NES = \u001b[32mcol_double()\u001b[39m,\n",
      "  pvalue = \u001b[32mcol_double()\u001b[39m,\n",
      "  p.adjust = \u001b[32mcol_double()\u001b[39m,\n",
      "  qvalues = \u001b[32mcol_double()\u001b[39m,\n",
      "  rank = \u001b[32mcol_double()\u001b[39m,\n",
      "  leading_edge = \u001b[31mcol_character()\u001b[39m,\n",
      "  core_enrichment = \u001b[31mcol_character()\u001b[39m\n",
      ")\n",
      "\n",
      "\n"
     ]
    },
    {
     "name": "stdout",
     "output_type": "stream",
     "text": [
      "\u001b[38;5;246m# A tibble: 6 x 8\u001b[39m\n",
      "  comparison pathway   NES   padj    pval leadingEdge_sig… mlog10padj mlog10pval\n",
      "  \u001b[3m\u001b[38;5;246m<chr>\u001b[39m\u001b[23m      \u001b[3m\u001b[38;5;246m<chr>\u001b[39m\u001b[23m   \u001b[3m\u001b[38;5;246m<dbl>\u001b[39m\u001b[23m  \u001b[3m\u001b[38;5;246m<dbl>\u001b[39m\u001b[23m   \u001b[3m\u001b[38;5;246m<dbl>\u001b[39m\u001b[23m            \u001b[3m\u001b[38;5;246m<dbl>\u001b[39m\u001b[23m      \u001b[3m\u001b[38;5;246m<dbl>\u001b[39m\u001b[23m      \u001b[3m\u001b[38;5;246m<dbl>\u001b[39m\u001b[23m\n",
      "\u001b[38;5;250m1\u001b[39m Chd7_vs_C… Exp391… -\u001b[31m1\u001b[39m\u001b[31m.\u001b[39m\u001b[31m68\u001b[39m 0.018\u001b[4m6\u001b[24m 3.26\u001b[38;5;246me\u001b[39m\u001b[31m-4\u001b[39m               40      1.73        3.49\n",
      "\u001b[38;5;250m2\u001b[39m Chd7_vs_C… Exp391… -\u001b[31m1\u001b[39m\u001b[31m.\u001b[39m\u001b[31m62\u001b[39m 0.018\u001b[4m6\u001b[24m 6.10\u001b[38;5;246me\u001b[39m\u001b[31m-4\u001b[39m               34      1.73        3.21\n",
      "\u001b[38;5;250m3\u001b[39m Chd7_vs_C… Exp391… -\u001b[31m1\u001b[39m\u001b[31m.\u001b[39m\u001b[31m63\u001b[39m 0.101  4.98\u001b[38;5;246me\u001b[39m\u001b[31m-3\u001b[39m               49      0.994       2.30\n",
      "\u001b[38;5;250m4\u001b[39m Chd7_vs_C… Exp391…  1.33 0.149  1.20\u001b[38;5;246me\u001b[39m\u001b[31m-2\u001b[39m               20      0.825       1.92\n",
      "\u001b[38;5;250m5\u001b[39m Chd7_vs_C… Exp391… -\u001b[31m1\u001b[39m\u001b[31m.\u001b[39m\u001b[31m28\u001b[39m 0.149  1.23\u001b[38;5;246me\u001b[39m\u001b[31m-2\u001b[39m               27      0.825       1.91\n",
      "\u001b[38;5;250m6\u001b[39m Chd7_vs_C… Exp391…  1.29 0.192  1.89\u001b[38;5;246me\u001b[39m\u001b[31m-2\u001b[39m               20      0.716       1.72\n"
     ]
    },
    {
     "name": "stderr",
     "output_type": "stream",
     "text": [
      "\n",
      "\u001b[36m──\u001b[39m \u001b[1m\u001b[1mColumn specification\u001b[1m\u001b[22m \u001b[36m───────────────────────────────────────────\u001b[39m\n",
      "cols(\n",
      "  ID = \u001b[31mcol_character()\u001b[39m,\n",
      "  Description = \u001b[31mcol_character()\u001b[39m,\n",
      "  setSize = \u001b[32mcol_double()\u001b[39m,\n",
      "  enrichmentScore = \u001b[32mcol_double()\u001b[39m,\n",
      "  NES = \u001b[32mcol_double()\u001b[39m,\n",
      "  pvalue = \u001b[32mcol_double()\u001b[39m,\n",
      "  p.adjust = \u001b[32mcol_double()\u001b[39m,\n",
      "  qvalues = \u001b[32mcol_double()\u001b[39m,\n",
      "  rank = \u001b[32mcol_double()\u001b[39m,\n",
      "  leading_edge = \u001b[31mcol_character()\u001b[39m,\n",
      "  core_enrichment = \u001b[31mcol_character()\u001b[39m\n",
      ")\n",
      "\n",
      "\n",
      "\n",
      "\u001b[36m──\u001b[39m \u001b[1m\u001b[1mColumn specification\u001b[1m\u001b[22m \u001b[36m───────────────────────────────────────────\u001b[39m\n",
      "cols(\n",
      "  ID = \u001b[31mcol_character()\u001b[39m,\n",
      "  Description = \u001b[31mcol_character()\u001b[39m,\n",
      "  setSize = \u001b[32mcol_double()\u001b[39m,\n",
      "  enrichmentScore = \u001b[32mcol_double()\u001b[39m,\n",
      "  NES = \u001b[32mcol_double()\u001b[39m,\n",
      "  pvalue = \u001b[32mcol_double()\u001b[39m,\n",
      "  p.adjust = \u001b[32mcol_double()\u001b[39m,\n",
      "  qvalues = \u001b[32mcol_double()\u001b[39m,\n",
      "  rank = \u001b[32mcol_double()\u001b[39m,\n",
      "  leading_edge = \u001b[31mcol_character()\u001b[39m,\n",
      "  core_enrichment = \u001b[31mcol_character()\u001b[39m\n",
      ")\n",
      "\n",
      "\n"
     ]
    },
    {
     "name": "stdout",
     "output_type": "stream",
     "text": [
      "\u001b[38;5;246m# A tibble: 4 x 8\u001b[39m\n",
      "  comparison  pathway   NES   padj   pval leadingEdge_sig… mlog10padj mlog10pval\n",
      "  \u001b[3m\u001b[38;5;246m<chr>\u001b[39m\u001b[23m       \u001b[3m\u001b[38;5;246m<chr>\u001b[39m\u001b[23m   \u001b[3m\u001b[38;5;246m<dbl>\u001b[39m\u001b[23m  \u001b[3m\u001b[38;5;246m<dbl>\u001b[39m\u001b[23m  \u001b[3m\u001b[38;5;246m<dbl>\u001b[39m\u001b[23m            \u001b[3m\u001b[38;5;246m<dbl>\u001b[39m\u001b[23m      \u001b[3m\u001b[38;5;246m<dbl>\u001b[39m\u001b[23m      \u001b[3m\u001b[38;5;246m<dbl>\u001b[39m\u001b[23m\n",
      "\u001b[38;5;250m1\u001b[39m Chd7_vs_Ct… 48h_IL… 1.17  0.255  0.127                17    0.594      0.895  \n",
      "\u001b[38;5;250m2\u001b[39m Chd7_vs_Ct… 48h_IL… 0.795 0.979  0.979                13    0.009\u001b[4m0\u001b[24m\u001b[4m5\u001b[24m    0.009\u001b[4m0\u001b[24m\u001b[4m5\u001b[24m\n",
      "\u001b[38;5;250m3\u001b[39m shBrg1_vs_… 48h_IL… 1.27  0.063\u001b[4m0\u001b[24m 0.031\u001b[4m5\u001b[24m               28    1.20       1.50   \n",
      "\u001b[38;5;250m4\u001b[39m shBrg1_vs_… 48h_IL… 0.977 0.522  0.522                20    0.282      0.282  \n"
     ]
    }
   ],
   "source": [
    "chd7.shRNA.gsea.dir <- '/media/pipkin/ROCKET-PRO/CD8_DEV_SC/5_Chd7_shRNA_RNA/2_DE_GSEA/Chd7_vs_Ctrl_gn_sep'\n",
    "brg1.shRNA.gsea.dir <- '/media/pipkin/ROCKET-PRO/CD8_DEV_SC/4_Runx3_Brg1_Meta/1_Brg1_RNA/2_DE_GSEA/shBrg1_vs_shCd19_gn_sep'\n",
    "\n",
    "gsea.sig.sets <- c('2020_mouse_CD8', 'D6-5_IL2_dependent', 'Exp391_CD8', 'IL2_dependent')\n",
    "\n",
    "for (gsea.sig.set in gsea.sig.sets) {\n",
    "    chd7.gsea.file <- paste('Chd7_vs_Ctrl_gn---', gsea.sig.set, '_mm_sigs.csv', sep=\"\")\n",
    "    chd7.gsea.file <- file.path(chd7.shRNA.gsea.dir, gsea.sig.set, chd7.gsea.file)\n",
    "\n",
    "    brg1.gsea.file <- paste('shBrg1_vs_shCd19_gn---', gsea.sig.set, '_mm_sigs.csv', sep=\"\")\n",
    "    brg1.gsea.file <- file.path(brg1.shRNA.gsea.dir, gsea.sig.set, brg1.gsea.file)\n",
    "    \n",
    "    files.vec <- c(chd7.gsea.file, brg1.gsea.file)\n",
    "    out.name <- paste('Chd7-Brg1_', gsea.sig.set, sep=\"\")\n",
    "    \n",
    "    GSEA_sum(files.vec, out.name, 50, 18, FALSE,NA,FALSE, NA,FALSE,NA,FALSE)\n",
    "}\n"
   ]
  },
  {
   "cell_type": "code",
   "execution_count": 29,
   "metadata": {},
   "outputs": [
    {
     "name": "stderr",
     "output_type": "stream",
     "text": [
      "\n",
      "\u001b[36m──\u001b[39m \u001b[1m\u001b[1mColumn specification\u001b[1m\u001b[22m \u001b[36m───────────────────────────────────────────\u001b[39m\n",
      "cols(\n",
      "  comparison = \u001b[31mcol_character()\u001b[39m,\n",
      "  pathway = \u001b[31mcol_character()\u001b[39m,\n",
      "  NES = \u001b[32mcol_double()\u001b[39m,\n",
      "  padj = \u001b[32mcol_double()\u001b[39m,\n",
      "  pval = \u001b[32mcol_double()\u001b[39m,\n",
      "  leadingEdge_signal = \u001b[32mcol_double()\u001b[39m,\n",
      "  mlog10padj = \u001b[32mcol_double()\u001b[39m,\n",
      "  mlog10pval = \u001b[32mcol_double()\u001b[39m\n",
      ")\n",
      "\n",
      "\n",
      "\n",
      "\u001b[36m──\u001b[39m \u001b[1m\u001b[1mColumn specification\u001b[1m\u001b[22m \u001b[36m───────────────────────────────────────────\u001b[39m\n",
      "cols(\n",
      "  comparison = \u001b[31mcol_character()\u001b[39m,\n",
      "  pathway = \u001b[31mcol_character()\u001b[39m,\n",
      "  NES = \u001b[32mcol_double()\u001b[39m,\n",
      "  padj = \u001b[32mcol_double()\u001b[39m,\n",
      "  pval = \u001b[32mcol_double()\u001b[39m,\n",
      "  leadingEdge_signal = \u001b[32mcol_double()\u001b[39m,\n",
      "  mlog10padj = \u001b[32mcol_double()\u001b[39m,\n",
      "  mlog10pval = \u001b[32mcol_double()\u001b[39m\n",
      ")\n",
      "\n",
      "\n",
      "\n",
      "\u001b[36m──\u001b[39m \u001b[1m\u001b[1mColumn specification\u001b[1m\u001b[22m \u001b[36m───────────────────────────────────────────\u001b[39m\n",
      "cols(\n",
      "  comparison = \u001b[31mcol_character()\u001b[39m,\n",
      "  pathway = \u001b[31mcol_character()\u001b[39m,\n",
      "  NES = \u001b[32mcol_double()\u001b[39m,\n",
      "  padj = \u001b[32mcol_double()\u001b[39m,\n",
      "  pval = \u001b[32mcol_double()\u001b[39m,\n",
      "  leadingEdge_signal = \u001b[32mcol_double()\u001b[39m,\n",
      "  mlog10padj = \u001b[32mcol_double()\u001b[39m,\n",
      "  mlog10pval = \u001b[32mcol_double()\u001b[39m\n",
      ")\n",
      "\n",
      "\n",
      "\n",
      "\u001b[36m──\u001b[39m \u001b[1m\u001b[1mColumn specification\u001b[1m\u001b[22m \u001b[36m───────────────────────────────────────────\u001b[39m\n",
      "cols(\n",
      "  comparison = \u001b[31mcol_character()\u001b[39m,\n",
      "  pathway = \u001b[31mcol_character()\u001b[39m,\n",
      "  NES = \u001b[32mcol_double()\u001b[39m,\n",
      "  padj = \u001b[32mcol_double()\u001b[39m,\n",
      "  pval = \u001b[32mcol_double()\u001b[39m,\n",
      "  leadingEdge_signal = \u001b[32mcol_double()\u001b[39m,\n",
      "  mlog10padj = \u001b[32mcol_double()\u001b[39m,\n",
      "  mlog10pval = \u001b[32mcol_double()\u001b[39m\n",
      ")\n",
      "\n",
      "\n"
     ]
    }
   ],
   "source": [
    "input.files <- list.files(out.path, pattern='.csv', full.name=TRUE)\n",
    "input.files <- input.files[grepl('Chd7-Brg1', input.files)]\n",
    "\n",
    "###----- Combine all leiden cluster GSEA outputs\n",
    "df_all <- read_csv(input.files[1])\n",
    "for (file in input.files[2:length(input.files)]){\n",
    "    df_all <- df_all %>% bind_rows(read_csv(file))\n",
    "}\n",
    "\n",
    "out.name <- 'Chd7_Brg1_GSEA_all.csv'\n",
    "\n",
    "write_csv(df_all, out.name)"
   ]
  },
  {
   "cell_type": "code",
   "execution_count": 36,
   "metadata": {},
   "outputs": [
    {
     "data": {
      "text/html": [
       "<style>\n",
       ".list-inline {list-style: none; margin:0; padding: 0}\n",
       ".list-inline>li {display: inline-block}\n",
       ".list-inline>li:not(:last-child)::after {content: \"\\00b7\"; padding: 0 .5ex}\n",
       "</style>\n",
       "<ol class=list-inline><li>'2018_IMMUNITY_Wang---D5KLRG1lo_vs_Naive_dn'</li><li>'2018_IMMUNITY_Wang---D8TE_vs_D5KLRG1lo_dn'</li><li>'2016_SCIENCE_Mackay---TRM_vs_TCM-TEM'</li><li>'2018_IMMUNITY_Wang---D5KLRG1hi_vs_Naive_up'</li><li>'2018_IMMUNITY_Wang---D5KLRG1lo_vs_Naive_up'</li><li>'2016_SCIENCE_Mackay---TEM_vs_TCM-TRM'</li><li>'general_Il2raKO_up'</li><li>'Exp391_CD8---Texint_up'</li><li>'Exp391_CD8---d5_KLRG1lo_Runx3_promoted'</li><li>'Exp391_CD8---best_cluster_6'</li><li>'Exp391_CD8---DP_up'</li><li>'Exp391_CD8---GSE68056_WT_vs_Il2raKO---WT'</li><li>'Exp391_CD8---Tox_promoted'</li><li>'Exp391_CD8---GSE132110_Tim3pos_vs_Tim3neg---Tim3neg'</li><li>'Exp391_CD8---best_cluster_7'</li><li>'Exp391_CD8---TE_biased'</li><li>'Exp391_CD8---Yao_MP'</li><li>'Exp391_CD8---Tim3negBlimp1neg'</li><li>'Exp391_CD8---Yao_PRO'</li><li>'Exp391_CD8---GSE68056_WT_vs_Tbx21KO---WT'</li><li>'Exp391_CD8---best_cluster_9'</li><li>'Exp391_CD8---GSE68056_WT_vs_Blimp1KO---WT'</li><li>'Exp391_CD8---best_cluster_3'</li><li>'Exp391_CD8---GSE132110_Tim3pos_vs_Tim3neg---Tim3pos'</li><li>'Exp391_CD8---Tcf7_promoted'</li><li>'Exp391_CD8---Tim3posBlimp1pos'</li><li>'Exp391_CD8---Yao_EXH'</li><li>'Exp391_CD8---best_cluster_4'</li><li>'Exp391_CD8---best_cluster_10'</li><li>'48h_IL2_promoted'</li></ol>\n"
      ],
      "text/latex": [
       "\\begin{enumerate*}\n",
       "\\item '2018\\_IMMUNITY\\_Wang---D5KLRG1lo\\_vs\\_Naive\\_dn'\n",
       "\\item '2018\\_IMMUNITY\\_Wang---D8TE\\_vs\\_D5KLRG1lo\\_dn'\n",
       "\\item '2016\\_SCIENCE\\_Mackay---TRM\\_vs\\_TCM-TEM'\n",
       "\\item '2018\\_IMMUNITY\\_Wang---D5KLRG1hi\\_vs\\_Naive\\_up'\n",
       "\\item '2018\\_IMMUNITY\\_Wang---D5KLRG1lo\\_vs\\_Naive\\_up'\n",
       "\\item '2016\\_SCIENCE\\_Mackay---TEM\\_vs\\_TCM-TRM'\n",
       "\\item 'general\\_Il2raKO\\_up'\n",
       "\\item 'Exp391\\_CD8---Texint\\_up'\n",
       "\\item 'Exp391\\_CD8---d5\\_KLRG1lo\\_Runx3\\_promoted'\n",
       "\\item 'Exp391\\_CD8---best\\_cluster\\_6'\n",
       "\\item 'Exp391\\_CD8---DP\\_up'\n",
       "\\item 'Exp391\\_CD8---GSE68056\\_WT\\_vs\\_Il2raKO---WT'\n",
       "\\item 'Exp391\\_CD8---Tox\\_promoted'\n",
       "\\item 'Exp391\\_CD8---GSE132110\\_Tim3pos\\_vs\\_Tim3neg---Tim3neg'\n",
       "\\item 'Exp391\\_CD8---best\\_cluster\\_7'\n",
       "\\item 'Exp391\\_CD8---TE\\_biased'\n",
       "\\item 'Exp391\\_CD8---Yao\\_MP'\n",
       "\\item 'Exp391\\_CD8---Tim3negBlimp1neg'\n",
       "\\item 'Exp391\\_CD8---Yao\\_PRO'\n",
       "\\item 'Exp391\\_CD8---GSE68056\\_WT\\_vs\\_Tbx21KO---WT'\n",
       "\\item 'Exp391\\_CD8---best\\_cluster\\_9'\n",
       "\\item 'Exp391\\_CD8---GSE68056\\_WT\\_vs\\_Blimp1KO---WT'\n",
       "\\item 'Exp391\\_CD8---best\\_cluster\\_3'\n",
       "\\item 'Exp391\\_CD8---GSE132110\\_Tim3pos\\_vs\\_Tim3neg---Tim3pos'\n",
       "\\item 'Exp391\\_CD8---Tcf7\\_promoted'\n",
       "\\item 'Exp391\\_CD8---Tim3posBlimp1pos'\n",
       "\\item 'Exp391\\_CD8---Yao\\_EXH'\n",
       "\\item 'Exp391\\_CD8---best\\_cluster\\_4'\n",
       "\\item 'Exp391\\_CD8---best\\_cluster\\_10'\n",
       "\\item '48h\\_IL2\\_promoted'\n",
       "\\end{enumerate*}\n"
      ],
      "text/markdown": [
       "1. '2018_IMMUNITY_Wang---D5KLRG1lo_vs_Naive_dn'\n",
       "2. '2018_IMMUNITY_Wang---D8TE_vs_D5KLRG1lo_dn'\n",
       "3. '2016_SCIENCE_Mackay---TRM_vs_TCM-TEM'\n",
       "4. '2018_IMMUNITY_Wang---D5KLRG1hi_vs_Naive_up'\n",
       "5. '2018_IMMUNITY_Wang---D5KLRG1lo_vs_Naive_up'\n",
       "6. '2016_SCIENCE_Mackay---TEM_vs_TCM-TRM'\n",
       "7. 'general_Il2raKO_up'\n",
       "8. 'Exp391_CD8---Texint_up'\n",
       "9. 'Exp391_CD8---d5_KLRG1lo_Runx3_promoted'\n",
       "10. 'Exp391_CD8---best_cluster_6'\n",
       "11. 'Exp391_CD8---DP_up'\n",
       "12. 'Exp391_CD8---GSE68056_WT_vs_Il2raKO---WT'\n",
       "13. 'Exp391_CD8---Tox_promoted'\n",
       "14. 'Exp391_CD8---GSE132110_Tim3pos_vs_Tim3neg---Tim3neg'\n",
       "15. 'Exp391_CD8---best_cluster_7'\n",
       "16. 'Exp391_CD8---TE_biased'\n",
       "17. 'Exp391_CD8---Yao_MP'\n",
       "18. 'Exp391_CD8---Tim3negBlimp1neg'\n",
       "19. 'Exp391_CD8---Yao_PRO'\n",
       "20. 'Exp391_CD8---GSE68056_WT_vs_Tbx21KO---WT'\n",
       "21. 'Exp391_CD8---best_cluster_9'\n",
       "22. 'Exp391_CD8---GSE68056_WT_vs_Blimp1KO---WT'\n",
       "23. 'Exp391_CD8---best_cluster_3'\n",
       "24. 'Exp391_CD8---GSE132110_Tim3pos_vs_Tim3neg---Tim3pos'\n",
       "25. 'Exp391_CD8---Tcf7_promoted'\n",
       "26. 'Exp391_CD8---Tim3posBlimp1pos'\n",
       "27. 'Exp391_CD8---Yao_EXH'\n",
       "28. 'Exp391_CD8---best_cluster_4'\n",
       "29. 'Exp391_CD8---best_cluster_10'\n",
       "30. '48h_IL2_promoted'\n",
       "\n",
       "\n"
      ],
      "text/plain": [
       " [1] \"2018_IMMUNITY_Wang---D5KLRG1lo_vs_Naive_dn\"         \n",
       " [2] \"2018_IMMUNITY_Wang---D8TE_vs_D5KLRG1lo_dn\"          \n",
       " [3] \"2016_SCIENCE_Mackay---TRM_vs_TCM-TEM\"               \n",
       " [4] \"2018_IMMUNITY_Wang---D5KLRG1hi_vs_Naive_up\"         \n",
       " [5] \"2018_IMMUNITY_Wang---D5KLRG1lo_vs_Naive_up\"         \n",
       " [6] \"2016_SCIENCE_Mackay---TEM_vs_TCM-TRM\"               \n",
       " [7] \"general_Il2raKO_up\"                                 \n",
       " [8] \"Exp391_CD8---Texint_up\"                             \n",
       " [9] \"Exp391_CD8---d5_KLRG1lo_Runx3_promoted\"             \n",
       "[10] \"Exp391_CD8---best_cluster_6\"                        \n",
       "[11] \"Exp391_CD8---DP_up\"                                 \n",
       "[12] \"Exp391_CD8---GSE68056_WT_vs_Il2raKO---WT\"           \n",
       "[13] \"Exp391_CD8---Tox_promoted\"                          \n",
       "[14] \"Exp391_CD8---GSE132110_Tim3pos_vs_Tim3neg---Tim3neg\"\n",
       "[15] \"Exp391_CD8---best_cluster_7\"                        \n",
       "[16] \"Exp391_CD8---TE_biased\"                             \n",
       "[17] \"Exp391_CD8---Yao_MP\"                                \n",
       "[18] \"Exp391_CD8---Tim3negBlimp1neg\"                      \n",
       "[19] \"Exp391_CD8---Yao_PRO\"                               \n",
       "[20] \"Exp391_CD8---GSE68056_WT_vs_Tbx21KO---WT\"           \n",
       "[21] \"Exp391_CD8---best_cluster_9\"                        \n",
       "[22] \"Exp391_CD8---GSE68056_WT_vs_Blimp1KO---WT\"          \n",
       "[23] \"Exp391_CD8---best_cluster_3\"                        \n",
       "[24] \"Exp391_CD8---GSE132110_Tim3pos_vs_Tim3neg---Tim3pos\"\n",
       "[25] \"Exp391_CD8---Tcf7_promoted\"                         \n",
       "[26] \"Exp391_CD8---Tim3posBlimp1pos\"                      \n",
       "[27] \"Exp391_CD8---Yao_EXH\"                               \n",
       "[28] \"Exp391_CD8---best_cluster_4\"                        \n",
       "[29] \"Exp391_CD8---best_cluster_10\"                       \n",
       "[30] \"48h_IL2_promoted\"                                   "
      ]
     },
     "metadata": {},
     "output_type": "display_data"
    }
   ],
   "source": [
    "df_all %>% filter(pval < 0.05) %>% .$pathway %>% unique(.)"
   ]
  },
  {
   "cell_type": "code",
   "execution_count": 76,
   "metadata": {},
   "outputs": [],
   "source": [
    "use.pathways <- c('48h_IL2_promoted',\n",
    "                  'general_Il2raKO_up', \n",
    "                  'Exp391_CD8---GSE68056_WT_vs_Il2raKO---WT', \n",
    "                  'Exp391_CD8---d5_KLRG1lo_Runx3_promoted', \n",
    "                  'Exp391_CD8---Tox_promoted', \n",
    "                  'Exp391_CD8---Tcf7_promoted',\n",
    "                  'Exp391_CD8---GSE68056_WT_vs_Tbx21KO---WT',\n",
    "                  'Exp391_CD8---GSE68056_WT_vs_Blimp1KO---WT',\n",
    "                  'Exp391_CD8---Yao_PRO','Exp391_CD8---Texint_up')\n",
    "df_plot <- df_all %>% filter(pathway %in% use.pathways)\n",
    "df_plot$pathway <- factor(df_plot$pathway, levels=rev(use.pathways))"
   ]
  },
  {
   "cell_type": "code",
   "execution_count": 77,
   "metadata": {},
   "outputs": [
    {
     "data": {
      "image/png": "[encoded data removed]",
      "text/plain": [
       "plot without title"
      ]
     },
     "metadata": {
      "image/png": {
       "height": 420,
       "width": 420
      }
     },
     "output_type": "display_data"
    }
   ],
   "source": [
    "bbplot <- ggplot(df_plot, aes(comparison, pathway)) +\n",
    "    geom_point(aes(size=mlog10padj, color=NES)) +\n",
    "    scale_color_gradient2(low=\"blue\", mid=\"white\", high=\"red\", midpoint=0, limits=c(-2,2)) +\n",
    "    scale_size(range=c(0,4), breaks = c(0,1,2,3),labels=c('0','1','2', '>=3')) +\n",
    "    theme(axis.title.x=element_blank(), \n",
    "          axis.title.y=element_blank(), \n",
    "          text=element_text(size=font_size, family='mono'),\n",
    "          axis.text.x = element_text(angle = 45, hjust=1, vjust=1))\n",
    "bbplot\n",
    "leg <- get_legend(bbplot)\n",
    "bbplot_leg <- as_ggplot(leg)\n",
    "\n",
    "bbplot <- bbplot + theme(legend.position='none')\n",
    "\n",
    "#--- Save output plot\n",
    "wid = length(unique(df_plot$comparison)) * 5\n",
    "hei = length(unique(df_plot$pathway)) * 0.4 + 0.4*font_size\n",
    "\n",
    "outname_pdf = paste(use.key, \".pdf\", sep=\"\")\n",
    "outname_pdf_leg = paste(use.key, \"_legend.pdf\", sep=\"\")\n",
    "ggsave(outname_pdf, bbplot, device=\"pdf\", width=wid, height=hei, units=\"cm\")\n",
    "ggsave(outname_pdf_leg, bbplot_leg, device=\"pdf\", width=10, height=20, units=\"cm\")\n",
    "\n",
    "outname_pdf = paste(use.key, \".png\", sep=\"\")\n",
    "outname_pdf_leg = paste(use.key, \"_legend.png\", sep=\"\")    \n",
    "ggsave(outname_pdf, bbplot, device=\"png\", width=wid, height=hei, units=\"cm\")\n",
    "ggsave(outname_pdf_leg, bbplot_leg, device=\"png\", width=10, height=20, units=\"cm\")"
   ]
  },
  {
   "cell_type": "code",
   "execution_count": null,
   "metadata": {},
   "outputs": [],
   "source": []
  }
 ],
 "metadata": {
  "kernelspec": {
   "display_name": "R",
   "language": "R",
   "name": "ir"
  },
  "language_info": {
   "codemirror_mode": "r",
   "file_extension": ".r",
   "mimetype": "text/x-r-source",
   "name": "R",
   "pygments_lexer": "r",
   "version": "3.6.3"
  }
 },
 "nbformat": 4,
 "nbformat_minor": 4
}
