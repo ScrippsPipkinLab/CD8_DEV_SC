{
 "cells": [
  {
   "cell_type": "code",
   "execution_count": 2,
   "metadata": {},
   "outputs": [
    {
     "data": {
      "text/html": [
       "'/media/pipkin/ROCKET-PRO/CD8_DEV_SC'"
      ],
      "text/latex": [
       "'/media/pipkin/ROCKET-PRO/CD8\\_DEV\\_SC'"
      ],
      "text/markdown": [
       "'/media/pipkin/ROCKET-PRO/CD8_DEV_SC'"
      ],
      "text/plain": [
       "[1] \"/media/pipkin/ROCKET-PRO/CD8_DEV_SC\""
      ]
     },
     "metadata": {},
     "output_type": "display_data"
    }
   ],
   "source": [
    "##########----- Reused code -----##########\n",
    "# Last update: Sept 13, 2020\n",
    "# By: Huitian Diao\n",
    "###########################################\n",
    "\n",
    "library(stringr)\n",
    "library(cowplot)\n",
    "library(ggpubr)\n",
    "\n",
    "code_dir <- getwd()\n",
    "tool_dir <- unlist(strsplit(code_dir,\"/\"))\n",
    "tool_dir <- head(tool_dir, length(tool_dir)-1)\n",
    "tool_dir <- paste(c(tool_dir, \"tools\"), collapse=\"/\")\n",
    "source(file.path(tool_dir, \"function_GSEA.R\"))\n",
    "base_dir <- gsub(\"/plotting_codes\", \"\", code_dir)\n",
    "base_dir"
   ]
  },
  {
   "cell_type": "markdown",
   "metadata": {},
   "source": [
    "## All louvain clusters - GSEA summary plots"
   ]
  },
  {
   "cell_type": "code",
   "execution_count": 7,
   "metadata": {},
   "outputs": [],
   "source": [
    "exp_name <- \"0_Acute-Chronic\"\n",
    "analysis_name <- c(\"0\", \"resampled\") "
   ]
  },
  {
   "cell_type": "code",
   "execution_count": 8,
   "metadata": {},
   "outputs": [
    {
     "name": "stderr",
     "output_type": "stream",
     "text": [
      "Parsed with column specification:\n",
      "cols(\n",
      "  louvain = \u001b[32mcol_double()\u001b[39m,\n",
      "  initial_size_spliced = \u001b[32mcol_double()\u001b[39m,\n",
      "  initial_size_unspliced = \u001b[32mcol_double()\u001b[39m,\n",
      "  initial_size = \u001b[32mcol_double()\u001b[39m,\n",
      "  n_counts = \u001b[32mcol_double()\u001b[39m,\n",
      "  dpt_pseudotime = \u001b[32mcol_double()\u001b[39m,\n",
      "  velocity_self_transition = \u001b[32mcol_double()\u001b[39m,\n",
      "  root_cells = \u001b[32mcol_double()\u001b[39m,\n",
      "  end_points = \u001b[32mcol_double()\u001b[39m,\n",
      "  velocity_pseudotime = \u001b[32mcol_double()\u001b[39m,\n",
      "  louvain_new_label = \u001b[31mcol_character()\u001b[39m\n",
      ")\n",
      "\n"
     ]
    },
    {
     "data": {
      "text/html": [
       "<style>\n",
       ".list-inline {list-style: none; margin:0; padding: 0}\n",
       ".list-inline>li {display: inline-block}\n",
       ".list-inline>li:not(:last-child)::after {content: \"\\00b7\"; padding: 0 .5ex}\n",
       "</style>\n",
       "<ol class=list-inline><li>'P0_A'</li><li>'P0_C'</li><li>'P1_A'</li><li>'P1_C'</li><li>'P2_A'</li><li>'P2_C'</li><li>'P3_A'</li><li>'P3_C'</li><li>'P4_A'</li><li>'P4_C'</li><li>'P5_A'</li><li>'P5_C'</li><li>'P6_A'</li><li>'P6_C'</li><li>'P7_A'</li><li>'P7_C'</li><li>'P8_A'</li><li>'P8_C'</li><li>'P9_A'</li><li>'P9_C'</li><li>'P10_A'</li><li>'P10_C'</li></ol>\n"
      ],
      "text/latex": [
       "\\begin{enumerate*}\n",
       "\\item 'P0\\_A'\n",
       "\\item 'P0\\_C'\n",
       "\\item 'P1\\_A'\n",
       "\\item 'P1\\_C'\n",
       "\\item 'P2\\_A'\n",
       "\\item 'P2\\_C'\n",
       "\\item 'P3\\_A'\n",
       "\\item 'P3\\_C'\n",
       "\\item 'P4\\_A'\n",
       "\\item 'P4\\_C'\n",
       "\\item 'P5\\_A'\n",
       "\\item 'P5\\_C'\n",
       "\\item 'P6\\_A'\n",
       "\\item 'P6\\_C'\n",
       "\\item 'P7\\_A'\n",
       "\\item 'P7\\_C'\n",
       "\\item 'P8\\_A'\n",
       "\\item 'P8\\_C'\n",
       "\\item 'P9\\_A'\n",
       "\\item 'P9\\_C'\n",
       "\\item 'P10\\_A'\n",
       "\\item 'P10\\_C'\n",
       "\\end{enumerate*}\n"
      ],
      "text/markdown": [
       "1. 'P0_A'\n",
       "2. 'P0_C'\n",
       "3. 'P1_A'\n",
       "4. 'P1_C'\n",
       "5. 'P2_A'\n",
       "6. 'P2_C'\n",
       "7. 'P3_A'\n",
       "8. 'P3_C'\n",
       "9. 'P4_A'\n",
       "10. 'P4_C'\n",
       "11. 'P5_A'\n",
       "12. 'P5_C'\n",
       "13. 'P6_A'\n",
       "14. 'P6_C'\n",
       "15. 'P7_A'\n",
       "16. 'P7_C'\n",
       "17. 'P8_A'\n",
       "18. 'P8_C'\n",
       "19. 'P9_A'\n",
       "20. 'P9_C'\n",
       "21. 'P10_A'\n",
       "22. 'P10_C'\n",
       "\n",
       "\n"
      ],
      "text/plain": [
       " [1] \"P0_A\"  \"P0_C\"  \"P1_A\"  \"P1_C\"  \"P2_A\"  \"P2_C\"  \"P3_A\"  \"P3_C\"  \"P4_A\" \n",
       "[10] \"P4_C\"  \"P5_A\"  \"P5_C\"  \"P6_A\"  \"P6_C\"  \"P7_A\"  \"P7_C\"  \"P8_A\"  \"P8_C\" \n",
       "[19] \"P9_A\"  \"P9_C\"  \"P10_A\" \"P10_C\""
      ]
     },
     "metadata": {},
     "output_type": "display_data"
    }
   ],
   "source": [
    "new_names <- file.path(base_dir,'/0_Acute-Chronic/2_scVelo/0_scVelo_out_resampledNoDyn/pt_ordered_cluster_avg.csv')\n",
    "new_names_df <- read_csv(new_names) %>% select(one_of('louvain', 'louvain_new_label'))\n",
    "colnames(new_names_df) <- c('comparison', 'louvain_new_label')\n",
    "cp_order <- new_names_df$louvain_new_label\n",
    "cp_order <- paste(rep(cp_order, each=2), rep(c(\"A\",\"C\"), length(cp_order)), sep=\"_\")\n",
    "cp_order"
   ]
  },
  {
   "cell_type": "code",
   "execution_count": 9,
   "metadata": {},
   "outputs": [
    {
     "name": "stderr",
     "output_type": "stream",
     "text": [
      "Parsed with column specification:\n",
      "cols(\n",
      "  comparison = \u001b[31mcol_character()\u001b[39m,\n",
      "  pathway = \u001b[31mcol_character()\u001b[39m,\n",
      "  NES = \u001b[32mcol_double()\u001b[39m,\n",
      "  padj = \u001b[32mcol_double()\u001b[39m,\n",
      "  leadingEdge_signal = \u001b[32mcol_double()\u001b[39m,\n",
      "  mlog10padj = \u001b[32mcol_double()\u001b[39m\n",
      ")\n",
      "\n",
      "Parsed with column specification:\n",
      "cols(\n",
      "  comparison = \u001b[31mcol_character()\u001b[39m,\n",
      "  pathway = \u001b[31mcol_character()\u001b[39m,\n",
      "  NES = \u001b[32mcol_double()\u001b[39m,\n",
      "  padj = \u001b[32mcol_double()\u001b[39m,\n",
      "  leadingEdge_signal = \u001b[32mcol_double()\u001b[39m,\n",
      "  mlog10padj = \u001b[32mcol_double()\u001b[39m\n",
      ")\n",
      "\n",
      "Parsed with column specification:\n",
      "cols(\n",
      "  comparison = \u001b[31mcol_character()\u001b[39m,\n",
      "  pathway = \u001b[31mcol_character()\u001b[39m,\n",
      "  NES = \u001b[32mcol_double()\u001b[39m,\n",
      "  padj = \u001b[32mcol_double()\u001b[39m,\n",
      "  leadingEdge_signal = \u001b[32mcol_double()\u001b[39m,\n",
      "  mlog10padj = \u001b[32mcol_double()\u001b[39m\n",
      ")\n",
      "\n",
      "Parsed with column specification:\n",
      "cols(\n",
      "  comparison = \u001b[31mcol_character()\u001b[39m,\n",
      "  pathway = \u001b[31mcol_character()\u001b[39m,\n",
      "  NES = \u001b[32mcol_double()\u001b[39m,\n",
      "  padj = \u001b[32mcol_double()\u001b[39m,\n",
      "  leadingEdge_signal = \u001b[32mcol_double()\u001b[39m,\n",
      "  mlog10padj = \u001b[32mcol_double()\u001b[39m\n",
      ")\n",
      "\n",
      "Parsed with column specification:\n",
      "cols(\n",
      "  comparison = \u001b[31mcol_character()\u001b[39m,\n",
      "  pathway = \u001b[31mcol_character()\u001b[39m,\n",
      "  NES = \u001b[32mcol_double()\u001b[39m,\n",
      "  padj = \u001b[32mcol_double()\u001b[39m,\n",
      "  leadingEdge_signal = \u001b[32mcol_double()\u001b[39m,\n",
      "  mlog10padj = \u001b[32mcol_double()\u001b[39m\n",
      ")\n",
      "\n"
     ]
    }
   ],
   "source": [
    "###----- Find all GSEA outputs for Louvain clusters\n",
    "sum.dir <- '/media/pipkin/ROCKET-PRO/CD8_DEV_SC/0_Acute-Chronic/1_Scanpy/0_Scanpy_out_resampled/3_GSEA'\n",
    "use.key <- 'louvain_celltype_general_withNAV'\n",
    "use.path <- file.path(base_dir, '9_Figures', exp_name, \n",
    "                      paste(analysis_name, collapse=\"_\"),\n",
    "                      paste(use.key, 'sum', 'plot', sep=\"_\"))\n",
    "dir.create(use.path, showWarnings = FALSE, recursive=TRUE)\n",
    "setwd(use.path)\n",
    "\n",
    "input.path <- sum.dir\n",
    "input.files <- list.files(input.path, pattern='.csv', full.name=TRUE)\n",
    "input.files <- input.files[grepl(paste(use.key, 'gsea', sep=\"_\"), input.files)]\n",
    "\n",
    "out.name <- paste(use.key, 'gsea', 'all.csv', sep=\"_\")\n",
    "\n",
    "###----- Combine all leiden cluster GSEA outputs\n",
    "df_all <- read_csv(input.files[1])\n",
    "for (file in input.files[2:length(input.files)]){\n",
    "    df_all <- df_all %>% bind_rows(read_csv(file))\n",
    "}\n",
    "\n",
    "df_all <- df_all %>% separate(comparison, c(\"comparison\", \"celltype\"))\n",
    "df_all$comparison <- as.numeric(df_all$comparison)\n",
    "\n",
    "###----- Rename\n",
    "df_all <- df_all %>% left_join(new_names_df, by=\"comparison\")\n",
    "df_all$old_names <- paste(df_all$comparison, df_all$celltype, sep=\"_\")\n",
    "df_all$comparison <- paste(df_all$louvain_new_label, df_all$celltype, sep=\"_\")\n",
    "df_all$louvain_new_label <- NULL\n",
    "df_all$celltype <- NULL\n",
    "\n",
    "write_csv(df_all, out.name)"
   ]
  },
  {
   "cell_type": "code",
   "execution_count": 10,
   "metadata": {},
   "outputs": [
    {
     "name": "stderr",
     "output_type": "stream",
     "text": [
      "Parsed with column specification:\n",
      "cols(\n",
      "  gs_name = \u001b[31mcol_character()\u001b[39m,\n",
      "  type = \u001b[31mcol_character()\u001b[39m,\n",
      "  use = \u001b[31mcol_character()\u001b[39m,\n",
      "  plot_use = \u001b[31mcol_character()\u001b[39m,\n",
      "  abbr = \u001b[31mcol_character()\u001b[39m,\n",
      "  order = \u001b[32mcol_double()\u001b[39m\n",
      ")\n",
      "\n"
     ]
    },
    {
     "name": "stdout",
     "output_type": "stream",
     "text": [
      "[1] \"Effector\" \"Tex\"      \"MEM\"      \"Best\"    \n"
     ]
    }
   ],
   "source": [
    "plot.use.gs <- '/media/pipkin/ROCKET-PRO/T_cell_signature_Reference/Y_annotated/anno_plotuse_gs_20200928.csv'\n",
    "plot.use.gs.df <- read_csv(plot.use.gs)\n",
    "\n",
    "use.types <- unique(plot.use.gs.df$plot_use)\n",
    "use.types <- use.types[!is.na(use.types)]\n",
    "print(use.types)"
   ]
  },
  {
   "cell_type": "code",
   "execution_count": null,
   "metadata": {},
   "outputs": [
    {
     "name": "stdout",
     "output_type": "stream",
     "text": [
      "[1] \"Effector\"\n",
      "[1] \"Tex\"\n",
      "[1] \"MEM\"\n",
      "[1] \"Best\"\n"
     ]
    }
   ],
   "source": [
    "###----- For each subset of Gene signatures, plot heatmap\n",
    "\n",
    "for (use_type in use.types) {\n",
    "    print(use_type)\n",
    "    use_type_gs_df <- plot.use.gs.df %>% filter(plot_use == use_type) %>% select(one_of(c(\"gs_name\", \"abbr\", 'order')))\n",
    "    colnames(use_type_gs_df) <- c(\"pathway\", \"abbr\", 'order')\n",
    "    \n",
    "\n",
    "    df_plot <- df_all %>% filter(pathway %in% use_type_gs_df$pathway) %>% left_join(use_type_gs_df, by='pathway')\n",
    "    df_plot$comparison <- factor(df_plot$comparison, levels=cp_order)\n",
    "    padding <- 25 - max(nchar(as.character(df_plot$abbr)))\n",
    "    padding <- paste(rep(\" \", padding), collapse=\"\")\n",
    "    df_plot$abbr <- paste(padding, df_plot$abbr)\n",
    "    use_type_gs_df$abbr <- paste(padding, use_type_gs_df$abbr)\n",
    "    gs_abbr_order <- use_type_gs_df %>% arrange(order) %>% .$abbr\n",
    "    df_plot$abbr <- factor(df_plot$abbr, levels=gs_abbr_order)\n",
    "    \n",
    "    #--- Plotting\n",
    "    \n",
    "    font_size = 10\n",
    "    bbplot <- ggplot(df_plot, aes(comparison, abbr)) +\n",
    "        geom_point(aes(size=mlog10padj, color=NES)) +\n",
    "        scale_color_gradient2(low=\"blue\", mid=\"white\", high=\"red\", midpoint=0, limits=c(-4,4)) +\n",
    "        scale_size(range=c(0,4), breaks = c(0,1,2,3),labels=c('0','1','2', '>=3')) +\n",
    "        theme(axis.title.x=element_blank(), \n",
    "              axis.title.y=element_blank(), \n",
    "              text=element_text(size=font_size, family='mono'),\n",
    "              axis.text.x = element_text(angle = 45, hjust=1, vjust=1))\n",
    "    leg <- get_legend(bbplot)\n",
    "    bbplot_leg <- as_ggplot(leg)\n",
    "    \n",
    "    bbplot <- bbplot + theme(legend.position='none')\n",
    "    \n",
    "    #--- Save output plot\n",
    "    wid = length(unique(df_plot$comparison)) * 0.9\n",
    "    hei = length(unique(df_plot$abbr)) * 0.4 + 0.2*font_size\n",
    "    \n",
    "    outname_pdf = paste(use.key, \"_\",use_type, \".pdf\", sep=\"\")\n",
    "    outname_pdf_leg = paste(use.key, \"_\",use_type, \"_legend.pdf\", sep=\"\")\n",
    "    ggsave(outname_pdf, bbplot, device=\"pdf\", width=wid, height=hei, units=\"cm\")\n",
    "    ggsave(outname_pdf_leg, bbplot_leg, device=\"pdf\", width=5, height=10, units=\"cm\")\n",
    "    \n",
    "    outname_pdf = paste(use.key, \"_\",use_type, \".png\", sep=\"\")\n",
    "    outname_pdf_leg = paste(use.key, \"_\",use_type, \"_legend.png\", sep=\"\")    \n",
    "    ggsave(outname_pdf, bbplot, device=\"png\", width=wid, height=hei, units=\"cm\")\n",
    "    ggsave(outname_pdf_leg, bbplot_leg, device=\"png\", width=5, height=10, units=\"cm\")\n",
    "}"
   ]
  },
  {
   "cell_type": "code",
   "execution_count": null,
   "metadata": {},
   "outputs": [],
   "source": []
  },
  {
   "cell_type": "code",
   "execution_count": null,
   "metadata": {},
   "outputs": [],
   "source": []
  }
 ],
 "metadata": {
  "kernelspec": {
   "display_name": "R",
   "language": "R",
   "name": "ir"
  },
  "language_info": {
   "codemirror_mode": "r",
   "file_extension": ".r",
   "mimetype": "text/x-r-source",
   "name": "R",
   "pygments_lexer": "r",
   "version": "3.6.3"
  }
 },
 "nbformat": 4,
 "nbformat_minor": 4
}
