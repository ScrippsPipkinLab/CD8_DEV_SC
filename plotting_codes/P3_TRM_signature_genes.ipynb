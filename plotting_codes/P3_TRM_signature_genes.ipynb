{
 "cells": [
  {
   "cell_type": "code",
   "execution_count": 34,
   "metadata": {},
   "outputs": [],
   "source": [
    "import pandas as pd\n",
    "import numpy as np"
   ]
  },
  {
   "cell_type": "code",
   "execution_count": 5,
   "metadata": {},
   "outputs": [],
   "source": [
    "p3_gsea_file = '/media/pipkin/ROCKET-PRO/CD8_DEV_SC/0_Acute-Chronic/1_Scanpy/0_Scanpy_out_resampled/3_GSEA/louvain_celltype_general_withNAV_sep/2020_mouse_CD8/1_A---2020_mouse_CD8_mm_sigs.csv'\n",
    "signature_genes_file = '/media/pipkin/ROCKET-PRO/CD8_DEV_SC/9_Figures/0_Acute-Chronic/0_resampled/louvain_signature_genes_neworder.csv'"
   ]
  },
  {
   "cell_type": "code",
   "execution_count": 12,
   "metadata": {},
   "outputs": [],
   "source": [
    "signature_genes_df = pd.read_csv(signature_genes_file)\n",
    "p3_gsea_df = pd.read_csv(p3_gsea_file)"
   ]
  },
  {
   "cell_type": "code",
   "execution_count": 10,
   "metadata": {},
   "outputs": [],
   "source": [
    "p3_sig_genes = [str(x) for x in signature_genes_df['P3'] if str(x) != 'nan']"
   ]
  },
  {
   "cell_type": "code",
   "execution_count": 17,
   "metadata": {},
   "outputs": [],
   "source": [
    "p3_gsea_trm_genes = p3_gsea_df['core_enrichment'][0].split(\"/\")"
   ]
  },
  {
   "cell_type": "code",
   "execution_count": 18,
   "metadata": {},
   "outputs": [
    {
     "data": {
      "text/plain": [
       "{'Aurkb', 'H1f0', 'Havcr2', 'Hmmr', 'Hnrnpab'}"
      ]
     },
     "execution_count": 18,
     "metadata": {},
     "output_type": "execute_result"
    }
   ],
   "source": [
    "set(p3_sig_genes) & set(p3_gsea_trm_genes)"
   ]
  },
  {
   "cell_type": "code",
   "execution_count": null,
   "metadata": {},
   "outputs": [],
   "source": []
  },
  {
   "cell_type": "markdown",
   "metadata": {},
   "source": [
    "## P3 differential vs all others"
   ]
  },
  {
   "cell_type": "code",
   "execution_count": 41,
   "metadata": {},
   "outputs": [],
   "source": [
    "p3_diff_file = '/media/pipkin/ROCKET-PRO/CD8_DEV_SC/0_Acute-Chronic/1_Scanpy/1_Scanpy_out_resampled_ARM-NAV/2_DE/eachCluster_vs_All/1_differential.csv'\n",
    "p3_diff_df = pd.read_csv(p3_diff_file)"
   ]
  },
  {
   "cell_type": "code",
   "execution_count": 42,
   "metadata": {},
   "outputs": [],
   "source": [
    "p3_diff_df_sig = p3_diff_df[p3_diff_df['t-test_overestim_var_padj'] < 0.05]\n",
    "p3_genes = p3_diff_df_sig[p3_diff_df_sig['t-test_logfc'] > 0]['gene_names'].tolist()"
   ]
  },
  {
   "cell_type": "code",
   "execution_count": 43,
   "metadata": {},
   "outputs": [],
   "source": [
    "signature_file = '/media/pipkin/ROCKET-PRO/T_cell_signature_Reference/X_GeneSignatures_mm/all_mouse_T_cell_signatures_with_il2.csv'\n",
    "signature_df = pd.read_csv(signature_file)\n",
    "trm_signature = signature_df[signature_df['gs_name']=='2016_SCIENCE_Mackay---TRM_vs_TCM-TEM']['gene_symbol'].tolist()"
   ]
  },
  {
   "cell_type": "code",
   "execution_count": 45,
   "metadata": {},
   "outputs": [],
   "source": [
    "p3_trm_genes = set(p3_genes) & set(trm_signature)"
   ]
  },
  {
   "cell_type": "code",
   "execution_count": 47,
   "metadata": {},
   "outputs": [
    {
     "data": {
      "text/plain": [
       "383"
      ]
     },
     "execution_count": 47,
     "metadata": {},
     "output_type": "execute_result"
    }
   ],
   "source": [
    "len(p3_trm_genes)"
   ]
  },
  {
   "cell_type": "code",
   "execution_count": 49,
   "metadata": {},
   "outputs": [
    {
     "data": {
      "text/plain": [
       "2435"
      ]
     },
     "execution_count": 49,
     "metadata": {},
     "output_type": "execute_result"
    }
   ],
   "source": [
    "len(trm_signature)"
   ]
  },
  {
   "cell_type": "code",
   "execution_count": 50,
   "metadata": {},
   "outputs": [
    {
     "data": {
      "text/plain": [
       "46770    9430020K01Rik\n",
       "46771            Fcgbp\n",
       "46772          Ugt2b34\n",
       "46773            Ptprf\n",
       "46774         Tmem191c\n",
       "             ...      \n",
       "49200             Pld1\n",
       "49201           Cxcl12\n",
       "49202           Prr15l\n",
       "49203            Cxadr\n",
       "49204           Sh2d2a\n",
       "Name: gene_symbol, Length: 2435, dtype: object"
      ]
     },
     "execution_count": 50,
     "metadata": {},
     "output_type": "execute_result"
    }
   ],
   "source": [
    "signature_df[signature_df['gs_name']=='2016_SCIENCE_Mackay---TRM_vs_TCM-TEM']['gene_symbol']"
   ]
  },
  {
   "cell_type": "code",
   "execution_count": null,
   "metadata": {},
   "outputs": [],
   "source": []
  }
 ],
 "metadata": {
  "kernelspec": {
   "display_name": "Python 3",
   "language": "python",
   "name": "python3"
  },
  "language_info": {
   "codemirror_mode": {
    "name": "ipython",
    "version": 3
   },
   "file_extension": ".py",
   "mimetype": "text/x-python",
   "name": "python",
   "nbconvert_exporter": "python",
   "pygments_lexer": "ipython3",
   "version": "3.8.3"
  }
 },
 "nbformat": 4,
 "nbformat_minor": 4
}
