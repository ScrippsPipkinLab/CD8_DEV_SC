{
 "cells": [
  {
   "cell_type": "code",
   "execution_count": 1,
   "metadata": {},
   "outputs": [],
   "source": [
    "import harmonypy as hm\n",
    "import numpy as np\n",
    "import pandas as pd\n",
    "from sklearn.decomposition import PCA\n",
    "import matplotlib.pyplot as plt\n",
    "import os\n",
    "import umap\n",
    "import glob\n",
    "from pathlib import Path\n",
    "\n",
    "%matplotlib inline"
   ]
  },
  {
   "cell_type": "code",
   "execution_count": 2,
   "metadata": {},
   "outputs": [
    {
     "name": "stdout",
     "output_type": "stream",
     "text": [
      "Start\n"
     ]
    }
   ],
   "source": [
    "###----- Get dir & load / reload packages\n",
    "try:\n",
    "    code_dir\n",
    "except NameError:\n",
    "    print(\"Start\")\n",
    "    code_dir = os.getcwd()\n",
    "    base_dir = code_dir.replace(\"/codes_local\",\"\")\n",
    "    root_dir = \"/\".join(base_dir.split(\"/\")[:-1])\n",
    "\n",
    "    wk_dir = base_dir + \"/1_Harmony\"\n",
    "    Path(wk_dir).mkdir(parents=True, exist_ok=True)\n",
    "else:\n",
    "    print(\"Reload\")"
   ]
  },
  {
   "cell_type": "code",
   "execution_count": 7,
   "metadata": {},
   "outputs": [],
   "source": [
    "os.chdir(wk_dir)\n",
    "input_dir = base_dir + '/0_input'\n",
    "root_dir = '/media/pipkin/ROCKET-PRO/CD8_DEV_SC'"
   ]
  },
  {
   "cell_type": "markdown",
   "metadata": {},
   "source": [
    "---\n",
    "## 0. Pre Process Inputs"
   ]
  },
  {
   "cell_type": "code",
   "execution_count": 69,
   "metadata": {},
   "outputs": [],
   "source": [
    "###----- Normalized to 10e4 per cell --> Log natural base (x+1)\n",
    "JC_expr_scaled_file = input_dir + '/all_norm_counts_named_log_scaled.csv'\n",
    "exp391_expr_scaled_file = root_dir + \\\n",
    "    '/0_Acute-Chronic/1_Scanpy/0_Scanpy_out_resampled/counts_XL_folder/all_norm_counts_named_log_scaled.csv'\n",
    "\n",
    "JC_expr_scaled_tb = pd.read_csv(JC_expr_scaled_file)\n",
    "exp391_expr_scaled_tb = pd.read_csv(exp391_expr_scaled_file)\n",
    "\n",
    "# Unify column names\n",
    "JC_expr_scaled_tb.columns = [\"cell_id\"] + list(JC_expr_scaled_tb.columns)[1:]\n",
    "exp391_expr_scaled_tb.columns = [\"cell_id\"] +  list(exp391_expr_scaled_tb.columns)[1:]"
   ]
  },
  {
   "cell_type": "code",
   "execution_count": 78,
   "metadata": {},
   "outputs": [],
   "source": [
    "###----- Read obs files, select highly variable genes & used cells\n",
    "# Analyzed cells\n",
    "exp391_obs = '/media/pipkin/ROCKET-PRO/CD8_DEV_SC/0_Acute-Chronic/1_Scanpy/0_Scanpy_out_resampled/0_Acute-Chronic_paga/obs.csv'\n",
    "exp391_obs_tb = pd.read_csv(exp391_obs)\n",
    "exp391_obs_tb.columns = ['cell_id'] + list(exp391_obs_tb.columns)[1:]\n",
    "exp391_obs_tb = exp391_obs_tb[['cell_id','cell_type','louvain']]\n",
    "exp391_obs_tb['dataset'] = ['Exp391' for x in exp391_obs_tb['cell_id']]\n",
    "\n",
    "exp391_expr_scaled_tb = exp391_expr_scaled_tb.loc[exp391_expr_scaled_tb['cell_id'].\n",
    "                                                  isin(list(exp391_obs_tb['cell_id']))]\n",
    "\n",
    "# Common genes in datasets"
   ]
  },
  {
   "cell_type": "code",
   "execution_count": null,
   "metadata": {},
   "outputs": [],
   "source": []
  }
 ],
 "metadata": {
  "kernelspec": {
   "display_name": "Python 3",
   "language": "python",
   "name": "python3"
  },
  "language_info": {
   "codemirror_mode": {
    "name": "ipython",
    "version": 3
   },
   "file_extension": ".py",
   "mimetype": "text/x-python",
   "name": "python",
   "nbconvert_exporter": "python",
   "pygments_lexer": "ipython3",
   "version": "3.8.3"
  }
 },
 "nbformat": 4,
 "nbformat_minor": 4
}
