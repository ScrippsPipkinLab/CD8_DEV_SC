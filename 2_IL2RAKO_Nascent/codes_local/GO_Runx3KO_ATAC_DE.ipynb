{
 "cells": [
  {
   "cell_type": "code",
   "execution_count": 2,
   "metadata": {},
   "outputs": [
    {
     "data": {
      "text/html": [
       "'/media/pipkin/ROCKET-PRO/CD8_DEV_SC/2_IL2RAKO_Nascent'"
      ],
      "text/latex": [
       "'/media/pipkin/ROCKET-PRO/CD8\\_DEV\\_SC/2\\_IL2RAKO\\_Nascent'"
      ],
      "text/markdown": [
       "'/media/pipkin/ROCKET-PRO/CD8_DEV_SC/2_IL2RAKO_Nascent'"
      ],
      "text/plain": [
       "[1] \"/media/pipkin/ROCKET-PRO/CD8_DEV_SC/2_IL2RAKO_Nascent\""
      ]
     },
     "metadata": {},
     "output_type": "display_data"
    }
   ],
   "source": [
    "##########----- Reused code -----##########\n",
    "# Last update: Sept 13, 2020\n",
    "# By: Huitian Diao\n",
    "###########################################\n",
    "\n",
    "library(stringr)\n",
    "\n",
    "code_dir <- getwd()\n",
    "tool_dir <- unlist(strsplit(code_dir,\"/\"))\n",
    "tool_dir <- head(tool_dir, length(tool_dir)-2)\n",
    "tool_dir <- paste(c(tool_dir, \"tools\"), collapse=\"/\")\n",
    "source(file.path(tool_dir, \"function_GSEA.R\"))\n",
    "base_dir <- gsub(\"/codes_local\", \"\", code_dir)\n",
    "base_dir"
   ]
  },
  {
   "cell_type": "markdown",
   "metadata": {},
   "source": [
    "## 1. GSEA analysis for each set of comparison"
   ]
  },
  {
   "cell_type": "code",
   "execution_count": 5,
   "metadata": {},
   "outputs": [],
   "source": [
    "###----- Create reverse comparison for each, because GO term is one sided\n",
    "if (FALSE) {\n",
    "    ###----- Find all de files\n",
    "    de.out.dir <- '/media/pipkin/ROCKET-PRO/CD8_DEV_SC/2_IL2RAKO_Nascent/Runx3KO_ATAC/DEseq2_GN'\n",
    "    de.files <- list.files(de.out.dir, pattern=\"*.csv\", full.names=TRUE,recursive=TRUE)\n",
    "\n",
    "    use.cols <- c(\"gene_name\", \"log2FoldChange\", \"padj\")\n",
    "\n",
    "    for (de.file in de.files) {\n",
    "        reverse.name <- gsub(\".csv\",\"_rev.csv\", de.file)\n",
    "        print(reverse.name)\n",
    "        de.df <- read_csv(de.file)\n",
    "        de.df$log2FoldChange <- -de.df$log2FoldChange\n",
    "        write_csv(de.df, reverse.name)\n",
    "    }\n",
    "}"
   ]
  },
  {
   "cell_type": "code",
   "execution_count": 6,
   "metadata": {
    "scrolled": true
   },
   "outputs": [],
   "source": [
    "##########----- Parameters-----##########\n",
    "genome <- \"mm\"\n",
    "#########################################\n",
    "sum.dir <- '/media/pipkin/ROCKET-PRO/CD8_DEV_SC/2_IL2RAKO_Nascent/Runx3KO_ATAC/DE_GO'\n",
    "dir.create(sum.dir, showWarnings = FALSE, recursive=TRUE)\n",
    "setwd(sum.dir)\n",
    "\n",
    "###----- Find all de files\n",
    "de.out.dir <- '/media/pipkin/ROCKET-PRO/CD8_DEV_SC/2_IL2RAKO_Nascent/Runx3KO_ATAC/DEseq2_GN'\n",
    "de.files <- list.files(de.out.dir, pattern=\"*.csv\", full.names=TRUE,recursive=TRUE)\n",
    "\n",
    "use.cols <- c(\"gene_name\", \"log2FoldChange\", \"padj\")"
   ]
  },
  {
   "cell_type": "code",
   "execution_count": 7,
   "metadata": {},
   "outputs": [
    {
     "data": {
      "text/html": [
       "<style>\n",
       ".list-inline {list-style: none; margin:0; padding: 0}\n",
       ".list-inline>li {display: inline-block}\n",
       ".list-inline>li:not(:last-child)::after {content: \"\\00b7\"; padding: 0 .5ex}\n",
       "</style>\n",
       "<ol class=list-inline><li>'/media/pipkin/ROCKET-PRO/CD8_DEV_SC/2_IL2RAKO_Nascent/Runx3KO_ATAC/DEseq2_GN/0h_Runx3KO_vs_WT_pval-0.01_rev.csv'</li><li>'/media/pipkin/ROCKET-PRO/CD8_DEV_SC/2_IL2RAKO_Nascent/Runx3KO_ATAC/DEseq2_GN/0h_Runx3KO_vs_WT_pval-0.01.csv'</li><li>'/media/pipkin/ROCKET-PRO/CD8_DEV_SC/2_IL2RAKO_Nascent/Runx3KO_ATAC/DEseq2_GN/12h_Runx3KO_vs_WT_pval-0.01_rev.csv'</li><li>'/media/pipkin/ROCKET-PRO/CD8_DEV_SC/2_IL2RAKO_Nascent/Runx3KO_ATAC/DEseq2_GN/12h_Runx3KO_vs_WT_pval-0.01.csv'</li><li>'/media/pipkin/ROCKET-PRO/CD8_DEV_SC/2_IL2RAKO_Nascent/Runx3KO_ATAC/DEseq2_GN/24h_Runx3KO_vs_WT_pval-0.01_rev.csv'</li><li>'/media/pipkin/ROCKET-PRO/CD8_DEV_SC/2_IL2RAKO_Nascent/Runx3KO_ATAC/DEseq2_GN/24h_Runx3KO_vs_WT_pval-0.01.csv'</li><li>'/media/pipkin/ROCKET-PRO/CD8_DEV_SC/2_IL2RAKO_Nascent/Runx3KO_ATAC/DEseq2_GN/2h_Runx3KO_vs_WT_pval-0.01_rev.csv'</li><li>'/media/pipkin/ROCKET-PRO/CD8_DEV_SC/2_IL2RAKO_Nascent/Runx3KO_ATAC/DEseq2_GN/2h_Runx3KO_vs_WT_pval-0.01.csv'</li><li>'/media/pipkin/ROCKET-PRO/CD8_DEV_SC/2_IL2RAKO_Nascent/Runx3KO_ATAC/DEseq2_GN/6h_Runx3KO_vs_WT_pval-0.01_rev.csv'</li><li>'/media/pipkin/ROCKET-PRO/CD8_DEV_SC/2_IL2RAKO_Nascent/Runx3KO_ATAC/DEseq2_GN/6h_Runx3KO_vs_WT_pval-0.01.csv'</li></ol>\n"
      ],
      "text/latex": [
       "\\begin{enumerate*}\n",
       "\\item '/media/pipkin/ROCKET-PRO/CD8\\_DEV\\_SC/2\\_IL2RAKO\\_Nascent/Runx3KO\\_ATAC/DEseq2\\_GN/0h\\_Runx3KO\\_vs\\_WT\\_pval-0.01\\_rev.csv'\n",
       "\\item '/media/pipkin/ROCKET-PRO/CD8\\_DEV\\_SC/2\\_IL2RAKO\\_Nascent/Runx3KO\\_ATAC/DEseq2\\_GN/0h\\_Runx3KO\\_vs\\_WT\\_pval-0.01.csv'\n",
       "\\item '/media/pipkin/ROCKET-PRO/CD8\\_DEV\\_SC/2\\_IL2RAKO\\_Nascent/Runx3KO\\_ATAC/DEseq2\\_GN/12h\\_Runx3KO\\_vs\\_WT\\_pval-0.01\\_rev.csv'\n",
       "\\item '/media/pipkin/ROCKET-PRO/CD8\\_DEV\\_SC/2\\_IL2RAKO\\_Nascent/Runx3KO\\_ATAC/DEseq2\\_GN/12h\\_Runx3KO\\_vs\\_WT\\_pval-0.01.csv'\n",
       "\\item '/media/pipkin/ROCKET-PRO/CD8\\_DEV\\_SC/2\\_IL2RAKO\\_Nascent/Runx3KO\\_ATAC/DEseq2\\_GN/24h\\_Runx3KO\\_vs\\_WT\\_pval-0.01\\_rev.csv'\n",
       "\\item '/media/pipkin/ROCKET-PRO/CD8\\_DEV\\_SC/2\\_IL2RAKO\\_Nascent/Runx3KO\\_ATAC/DEseq2\\_GN/24h\\_Runx3KO\\_vs\\_WT\\_pval-0.01.csv'\n",
       "\\item '/media/pipkin/ROCKET-PRO/CD8\\_DEV\\_SC/2\\_IL2RAKO\\_Nascent/Runx3KO\\_ATAC/DEseq2\\_GN/2h\\_Runx3KO\\_vs\\_WT\\_pval-0.01\\_rev.csv'\n",
       "\\item '/media/pipkin/ROCKET-PRO/CD8\\_DEV\\_SC/2\\_IL2RAKO\\_Nascent/Runx3KO\\_ATAC/DEseq2\\_GN/2h\\_Runx3KO\\_vs\\_WT\\_pval-0.01.csv'\n",
       "\\item '/media/pipkin/ROCKET-PRO/CD8\\_DEV\\_SC/2\\_IL2RAKO\\_Nascent/Runx3KO\\_ATAC/DEseq2\\_GN/6h\\_Runx3KO\\_vs\\_WT\\_pval-0.01\\_rev.csv'\n",
       "\\item '/media/pipkin/ROCKET-PRO/CD8\\_DEV\\_SC/2\\_IL2RAKO\\_Nascent/Runx3KO\\_ATAC/DEseq2\\_GN/6h\\_Runx3KO\\_vs\\_WT\\_pval-0.01.csv'\n",
       "\\end{enumerate*}\n"
      ],
      "text/markdown": [
       "1. '/media/pipkin/ROCKET-PRO/CD8_DEV_SC/2_IL2RAKO_Nascent/Runx3KO_ATAC/DEseq2_GN/0h_Runx3KO_vs_WT_pval-0.01_rev.csv'\n",
       "2. '/media/pipkin/ROCKET-PRO/CD8_DEV_SC/2_IL2RAKO_Nascent/Runx3KO_ATAC/DEseq2_GN/0h_Runx3KO_vs_WT_pval-0.01.csv'\n",
       "3. '/media/pipkin/ROCKET-PRO/CD8_DEV_SC/2_IL2RAKO_Nascent/Runx3KO_ATAC/DEseq2_GN/12h_Runx3KO_vs_WT_pval-0.01_rev.csv'\n",
       "4. '/media/pipkin/ROCKET-PRO/CD8_DEV_SC/2_IL2RAKO_Nascent/Runx3KO_ATAC/DEseq2_GN/12h_Runx3KO_vs_WT_pval-0.01.csv'\n",
       "5. '/media/pipkin/ROCKET-PRO/CD8_DEV_SC/2_IL2RAKO_Nascent/Runx3KO_ATAC/DEseq2_GN/24h_Runx3KO_vs_WT_pval-0.01_rev.csv'\n",
       "6. '/media/pipkin/ROCKET-PRO/CD8_DEV_SC/2_IL2RAKO_Nascent/Runx3KO_ATAC/DEseq2_GN/24h_Runx3KO_vs_WT_pval-0.01.csv'\n",
       "7. '/media/pipkin/ROCKET-PRO/CD8_DEV_SC/2_IL2RAKO_Nascent/Runx3KO_ATAC/DEseq2_GN/2h_Runx3KO_vs_WT_pval-0.01_rev.csv'\n",
       "8. '/media/pipkin/ROCKET-PRO/CD8_DEV_SC/2_IL2RAKO_Nascent/Runx3KO_ATAC/DEseq2_GN/2h_Runx3KO_vs_WT_pval-0.01.csv'\n",
       "9. '/media/pipkin/ROCKET-PRO/CD8_DEV_SC/2_IL2RAKO_Nascent/Runx3KO_ATAC/DEseq2_GN/6h_Runx3KO_vs_WT_pval-0.01_rev.csv'\n",
       "10. '/media/pipkin/ROCKET-PRO/CD8_DEV_SC/2_IL2RAKO_Nascent/Runx3KO_ATAC/DEseq2_GN/6h_Runx3KO_vs_WT_pval-0.01.csv'\n",
       "\n",
       "\n"
      ],
      "text/plain": [
       " [1] \"/media/pipkin/ROCKET-PRO/CD8_DEV_SC/2_IL2RAKO_Nascent/Runx3KO_ATAC/DEseq2_GN/0h_Runx3KO_vs_WT_pval-0.01_rev.csv\" \n",
       " [2] \"/media/pipkin/ROCKET-PRO/CD8_DEV_SC/2_IL2RAKO_Nascent/Runx3KO_ATAC/DEseq2_GN/0h_Runx3KO_vs_WT_pval-0.01.csv\"     \n",
       " [3] \"/media/pipkin/ROCKET-PRO/CD8_DEV_SC/2_IL2RAKO_Nascent/Runx3KO_ATAC/DEseq2_GN/12h_Runx3KO_vs_WT_pval-0.01_rev.csv\"\n",
       " [4] \"/media/pipkin/ROCKET-PRO/CD8_DEV_SC/2_IL2RAKO_Nascent/Runx3KO_ATAC/DEseq2_GN/12h_Runx3KO_vs_WT_pval-0.01.csv\"    \n",
       " [5] \"/media/pipkin/ROCKET-PRO/CD8_DEV_SC/2_IL2RAKO_Nascent/Runx3KO_ATAC/DEseq2_GN/24h_Runx3KO_vs_WT_pval-0.01_rev.csv\"\n",
       " [6] \"/media/pipkin/ROCKET-PRO/CD8_DEV_SC/2_IL2RAKO_Nascent/Runx3KO_ATAC/DEseq2_GN/24h_Runx3KO_vs_WT_pval-0.01.csv\"    \n",
       " [7] \"/media/pipkin/ROCKET-PRO/CD8_DEV_SC/2_IL2RAKO_Nascent/Runx3KO_ATAC/DEseq2_GN/2h_Runx3KO_vs_WT_pval-0.01_rev.csv\" \n",
       " [8] \"/media/pipkin/ROCKET-PRO/CD8_DEV_SC/2_IL2RAKO_Nascent/Runx3KO_ATAC/DEseq2_GN/2h_Runx3KO_vs_WT_pval-0.01.csv\"     \n",
       " [9] \"/media/pipkin/ROCKET-PRO/CD8_DEV_SC/2_IL2RAKO_Nascent/Runx3KO_ATAC/DEseq2_GN/6h_Runx3KO_vs_WT_pval-0.01_rev.csv\" \n",
       "[10] \"/media/pipkin/ROCKET-PRO/CD8_DEV_SC/2_IL2RAKO_Nascent/Runx3KO_ATAC/DEseq2_GN/6h_Runx3KO_vs_WT_pval-0.01.csv\"     "
      ]
     },
     "metadata": {},
     "output_type": "display_data"
    }
   ],
   "source": [
    "de.files"
   ]
  },
  {
   "cell_type": "code",
   "execution_count": 5,
   "metadata": {
    "scrolled": true
   },
   "outputs": [
    {
     "name": "stderr",
     "output_type": "stream",
     "text": [
      "Parsed with column specification:\n",
      "cols(\n",
      "  peak_name = \u001b[31mcol_character()\u001b[39m,\n",
      "  baseMean = \u001b[32mcol_double()\u001b[39m,\n",
      "  log2FoldChange = \u001b[32mcol_double()\u001b[39m,\n",
      "  lfcSE = \u001b[32mcol_double()\u001b[39m,\n",
      "  stat = \u001b[32mcol_double()\u001b[39m,\n",
      "  pvalue = \u001b[32mcol_double()\u001b[39m,\n",
      "  padj = \u001b[32mcol_double()\u001b[39m,\n",
      "  gene_name = \u001b[31mcol_character()\u001b[39m\n",
      ")\n",
      "\n",
      "Warning message:\n",
      "“Unknown columns: `gene_names`”\n"
     ]
    },
    {
     "name": "stdout",
     "output_type": "stream",
     "text": [
      "[1] \"0h_Runx3KO_vs_WT_pval-0.01    Gene number: 59\"\n"
     ]
    },
    {
     "name": "stderr",
     "output_type": "stream",
     "text": [
      "'select()' returned many:1 mapping between keys and columns\n",
      "\n",
      "Parsed with column specification:\n",
      "cols(\n",
      "  peak_name = \u001b[31mcol_character()\u001b[39m,\n",
      "  baseMean = \u001b[32mcol_double()\u001b[39m,\n",
      "  log2FoldChange = \u001b[32mcol_double()\u001b[39m,\n",
      "  lfcSE = \u001b[32mcol_double()\u001b[39m,\n",
      "  stat = \u001b[32mcol_double()\u001b[39m,\n",
      "  pvalue = \u001b[32mcol_double()\u001b[39m,\n",
      "  padj = \u001b[32mcol_double()\u001b[39m,\n",
      "  gene_name = \u001b[31mcol_character()\u001b[39m\n",
      ")\n",
      "\n",
      "Warning message:\n",
      "“Unknown columns: `gene_names`”\n"
     ]
    },
    {
     "name": "stdout",
     "output_type": "stream",
     "text": [
      "[1] \"12h_Runx3KO_vs_WT_pval-0.01    Gene number: 5219\"\n"
     ]
    },
    {
     "name": "stderr",
     "output_type": "stream",
     "text": [
      "'select()' returned many:many mapping between keys and columns\n",
      "\n",
      "Parsed with column specification:\n",
      "cols(\n",
      "  peak_name = \u001b[31mcol_character()\u001b[39m,\n",
      "  baseMean = \u001b[32mcol_double()\u001b[39m,\n",
      "  log2FoldChange = \u001b[32mcol_double()\u001b[39m,\n",
      "  lfcSE = \u001b[32mcol_double()\u001b[39m,\n",
      "  stat = \u001b[32mcol_double()\u001b[39m,\n",
      "  pvalue = \u001b[32mcol_double()\u001b[39m,\n",
      "  padj = \u001b[32mcol_double()\u001b[39m,\n",
      "  gene_name = \u001b[31mcol_character()\u001b[39m\n",
      ")\n",
      "\n",
      "Warning message:\n",
      "“Unknown columns: `gene_names`”\n"
     ]
    },
    {
     "name": "stdout",
     "output_type": "stream",
     "text": [
      "[1] \"24h_Runx3KO_vs_WT_pval-0.01    Gene number: 11281\"\n"
     ]
    },
    {
     "name": "stderr",
     "output_type": "stream",
     "text": [
      "'select()' returned many:many mapping between keys and columns\n",
      "\n",
      "Parsed with column specification:\n",
      "cols(\n",
      "  peak_name = \u001b[31mcol_character()\u001b[39m,\n",
      "  baseMean = \u001b[32mcol_double()\u001b[39m,\n",
      "  log2FoldChange = \u001b[32mcol_double()\u001b[39m,\n",
      "  lfcSE = \u001b[32mcol_double()\u001b[39m,\n",
      "  stat = \u001b[32mcol_double()\u001b[39m,\n",
      "  pvalue = \u001b[32mcol_double()\u001b[39m,\n",
      "  padj = \u001b[32mcol_double()\u001b[39m,\n",
      "  gene_name = \u001b[31mcol_character()\u001b[39m\n",
      ")\n",
      "\n",
      "Warning message:\n",
      "“Unknown columns: `gene_names`”\n"
     ]
    },
    {
     "name": "stdout",
     "output_type": "stream",
     "text": [
      "[1] \"2h_Runx3KO_vs_WT_pval-0.01    Gene number: 8469\"\n"
     ]
    },
    {
     "name": "stderr",
     "output_type": "stream",
     "text": [
      "'select()' returned many:many mapping between keys and columns\n",
      "\n",
      "Parsed with column specification:\n",
      "cols(\n",
      "  peak_name = \u001b[31mcol_character()\u001b[39m,\n",
      "  baseMean = \u001b[32mcol_double()\u001b[39m,\n",
      "  log2FoldChange = \u001b[32mcol_double()\u001b[39m,\n",
      "  lfcSE = \u001b[32mcol_double()\u001b[39m,\n",
      "  stat = \u001b[32mcol_double()\u001b[39m,\n",
      "  pvalue = \u001b[32mcol_double()\u001b[39m,\n",
      "  padj = \u001b[32mcol_double()\u001b[39m,\n",
      "  gene_name = \u001b[31mcol_character()\u001b[39m\n",
      ")\n",
      "\n",
      "Warning message:\n",
      "“Unknown columns: `gene_names`”\n"
     ]
    },
    {
     "name": "stdout",
     "output_type": "stream",
     "text": [
      "[1] \"6h_Runx3KO_vs_WT_pval-0.01    Gene number: 7004\"\n"
     ]
    },
    {
     "name": "stderr",
     "output_type": "stream",
     "text": [
      "'select()' returned many:many mapping between keys and columns\n",
      "\n"
     ]
    }
   ],
   "source": [
    "for (file.i in de.files) {\n",
    "    \n",
    "    ###----- Create output names & output directory\n",
    "    file.i.outpath <- gsub(de.out.dir, \"\", file.i)\n",
    "    file.i.outpath <- gsub(\".csv\", \"\", file.i.outpath)\n",
    "    file.i.outpath <- gsub(\"^/\", \"\",file.i.outpath)\n",
    "\n",
    "    file.i.simp.name <- tail(unlist(strsplit( file.i.outpath, \"/\")), 1)\n",
    "    file.i.simp.name <- gsub(\"_differential\", \"\", file.i.simp.name)\n",
    "    file.i.simp.vec <- unlist(strsplit(file.i.simp.name, \"_vs_\"))\n",
    "\n",
    "    # Create output directory\n",
    "    wk.dir <- file.path(sum.dir, file.i.outpath)\n",
    "    dir.create(wk.dir, showWarnings = FALSE, recursive=TRUE)\n",
    "    setwd(wk.dir)\n",
    "    \n",
    "    # Run GO\n",
    "    useGroup <- \"log2FoldChange\"\n",
    "    outName <- file.i.simp.name\n",
    "\n",
    "    success <- \"yes\"\n",
    "    gsea <- tryCatch({\n",
    "        GO_run(file.i, useGroup, outName, 1, FALSE)\n",
    "    }, error=function(cond) {\n",
    "        message(paste(file.i, \"failed\",sep='; '))\n",
    "        return(\"no\")\n",
    "    })\n",
    "}"
   ]
  },
  {
   "cell_type": "code",
   "execution_count": null,
   "metadata": {},
   "outputs": [],
   "source": []
  }
 ],
 "metadata": {
  "kernelspec": {
   "display_name": "R",
   "language": "R",
   "name": "ir"
  },
  "language_info": {
   "codemirror_mode": "r",
   "file_extension": ".r",
   "mimetype": "text/x-r-source",
   "name": "R",
   "pygments_lexer": "r",
   "version": "3.6.3"
  }
 },
 "nbformat": 4,
 "nbformat_minor": 4
}
