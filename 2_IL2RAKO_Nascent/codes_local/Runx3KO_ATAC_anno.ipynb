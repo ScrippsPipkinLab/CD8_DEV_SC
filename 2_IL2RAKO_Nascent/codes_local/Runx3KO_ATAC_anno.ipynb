{
 "cells": [
  {
   "cell_type": "code",
   "execution_count": 71,
   "metadata": {},
   "outputs": [],
   "source": [
    "import pandas as pd\n",
    "import csv\n",
    "import os"
   ]
  },
  {
   "cell_type": "code",
   "execution_count": 44,
   "metadata": {},
   "outputs": [],
   "source": [
    "runx3_atac_dir = '/media/pipkin/ROCKET-PRO/CD8_DEV_SC/2_IL2RAKO_Nascent/Runx3KO_ATAC'\n",
    "anno_file = '%s/ann.csv'%runx3_atac_dir\n",
    "anno_df = pd.read_csv(anno_file)\n",
    "\n",
    "pval_cutoff = 0.01"
   ]
  },
  {
   "cell_type": "code",
   "execution_count": 82,
   "metadata": {},
   "outputs": [],
   "source": [
    "for i in [0, 2,6,12,24]:\n",
    "    ko_wt_file = '%s/DEseq2/Exp169_Runx3_cord_KO-WT-%sh_c5_X%sh_KO_X%sh_WT.csv_pvaluesig0_05.csv'%(runx3_atac_dir,i,i,i)\n",
    "    ko_wt_df = pd.read_csv(ko_wt_file)\n",
    "    ko_wt_df.columns = ['peak_name'] + ko_wt_df.columns.tolist()[1:]\n",
    "    \n",
    "    ko_wt_df = ko_wt_df.merge(anno_df, on=\"peak_name\", how='left')\n",
    "    \n",
    "    outname = \"%s/DEseq2_GN/%sh_Runx3KO_vs_WT_pval-%s.csv\"%(runx3_atac_dir,i, pval_cutoff)\n",
    "\n",
    "    ko_wt_df = ko_wt_df[ko_wt_df['pvalue'] <= pval_cutoff]\n",
    "    ko_wt_df.index = list(range(0,len(ko_wt_df)))\n",
    "    \n",
    "    with open(outname, \"w\") as fout:\n",
    "        wfout = csv.writer(fout, delimiter=\",\")\n",
    "        wfout.writerow(ko_wt_df.columns.tolist())\n",
    "        for i in range(0, len(ko_wt_df)):\n",
    "            row_i = ko_wt_df.loc[i,:].tolist()\n",
    "            if str(row_i[-1]) != \"nan\":\n",
    "                row_i_gns = row_i[-1].split(\",\")\n",
    "                for gn in row_i_gns:\n",
    "                    row_gn = row_i[:-1] + [gn]\n",
    "                    wfout.writerow(row_gn)"
   ]
  },
  {
   "cell_type": "code",
   "execution_count": null,
   "metadata": {},
   "outputs": [],
   "source": []
  }
 ],
 "metadata": {
  "kernelspec": {
   "display_name": "Python 3",
   "language": "python",
   "name": "python3"
  },
  "language_info": {
   "codemirror_mode": {
    "name": "ipython",
    "version": 3
   },
   "file_extension": ".py",
   "mimetype": "text/x-python",
   "name": "python",
   "nbconvert_exporter": "python",
   "pygments_lexer": "ipython3",
   "version": "3.8.3"
  }
 },
 "nbformat": 4,
 "nbformat_minor": 4
}
