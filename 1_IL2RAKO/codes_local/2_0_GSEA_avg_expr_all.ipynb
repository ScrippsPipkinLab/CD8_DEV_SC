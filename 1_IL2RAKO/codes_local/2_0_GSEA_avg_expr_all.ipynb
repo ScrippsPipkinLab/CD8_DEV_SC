{
 "cells": [
  {
   "cell_type": "code",
   "execution_count": 2,
   "metadata": {},
   "outputs": [
    {
     "data": {
      "text/html": [
       "'/media/pipkin/ROCKET-PRO/CD8_DEV_SC/1_IL2RAKO'"
      ],
      "text/latex": [
       "'/media/pipkin/ROCKET-PRO/CD8\\_DEV\\_SC/1\\_IL2RAKO'"
      ],
      "text/markdown": [
       "'/media/pipkin/ROCKET-PRO/CD8_DEV_SC/1_IL2RAKO'"
      ],
      "text/plain": [
       "[1] \"/media/pipkin/ROCKET-PRO/CD8_DEV_SC/1_IL2RAKO\""
      ]
     },
     "metadata": {},
     "output_type": "display_data"
    }
   ],
   "source": [
    "##########----- Reused code -----##########\n",
    "# Last update: Sept 13, 2020\n",
    "# By: Huitian Diao\n",
    "###########################################\n",
    "\n",
    "library(stringr)\n",
    "\n",
    "code_dir <- getwd()\n",
    "tool_dir <- unlist(strsplit(code_dir,\"/\"))\n",
    "tool_dir <- head(tool_dir, length(tool_dir)-2)\n",
    "tool_dir <- paste(c(tool_dir, \"tools\"), collapse=\"/\")\n",
    "source(file.path(tool_dir, \"function_GSEA.R\"))\n",
    "base_dir <- gsub(\"/codes_local\", \"\", code_dir)\n",
    "base_dir"
   ]
  },
  {
   "cell_type": "markdown",
   "metadata": {},
   "source": [
    "## Resampled Louvain cluster GSEA"
   ]
  },
  {
   "cell_type": "code",
   "execution_count": 3,
   "metadata": {},
   "outputs": [
    {
     "data": {
      "text/html": [
       "<style>\n",
       ".list-inline {list-style: none; margin:0; padding: 0}\n",
       ".list-inline>li {display: inline-block}\n",
       ".list-inline>li:not(:last-child)::after {content: \"\\00b7\"; padding: 0 .5ex}\n",
       "</style>\n",
       "<ol class=list-inline><li>'/media/pipkin/ROCKET-PRO/T_cell_signature_Reference/X_GeneSignatures_mm/2020_mouse_CD8_mm_sigs.csv'</li><li>'/media/pipkin/ROCKET-PRO/T_cell_signature_Reference/X_GeneSignatures_mm/CD4_mm_sigs.csv'</li><li>'/media/pipkin/ROCKET-PRO/T_cell_signature_Reference/X_GeneSignatures_mm/CD8_mm_sigs.csv'</li><li>'/media/pipkin/ROCKET-PRO/T_cell_signature_Reference/X_GeneSignatures_mm/Exp391_CD8_mm_sigs.csv'</li><li>'/media/pipkin/ROCKET-PRO/T_cell_signature_Reference/X_GeneSignatures_mm/Wolski_curated_CD8_mm_sigs.csv'</li></ol>\n"
      ],
      "text/latex": [
       "\\begin{enumerate*}\n",
       "\\item '/media/pipkin/ROCKET-PRO/T\\_cell\\_signature\\_Reference/X\\_GeneSignatures\\_mm/2020\\_mouse\\_CD8\\_mm\\_sigs.csv'\n",
       "\\item '/media/pipkin/ROCKET-PRO/T\\_cell\\_signature\\_Reference/X\\_GeneSignatures\\_mm/CD4\\_mm\\_sigs.csv'\n",
       "\\item '/media/pipkin/ROCKET-PRO/T\\_cell\\_signature\\_Reference/X\\_GeneSignatures\\_mm/CD8\\_mm\\_sigs.csv'\n",
       "\\item '/media/pipkin/ROCKET-PRO/T\\_cell\\_signature\\_Reference/X\\_GeneSignatures\\_mm/Exp391\\_CD8\\_mm\\_sigs.csv'\n",
       "\\item '/media/pipkin/ROCKET-PRO/T\\_cell\\_signature\\_Reference/X\\_GeneSignatures\\_mm/Wolski\\_curated\\_CD8\\_mm\\_sigs.csv'\n",
       "\\end{enumerate*}\n"
      ],
      "text/markdown": [
       "1. '/media/pipkin/ROCKET-PRO/T_cell_signature_Reference/X_GeneSignatures_mm/2020_mouse_CD8_mm_sigs.csv'\n",
       "2. '/media/pipkin/ROCKET-PRO/T_cell_signature_Reference/X_GeneSignatures_mm/CD4_mm_sigs.csv'\n",
       "3. '/media/pipkin/ROCKET-PRO/T_cell_signature_Reference/X_GeneSignatures_mm/CD8_mm_sigs.csv'\n",
       "4. '/media/pipkin/ROCKET-PRO/T_cell_signature_Reference/X_GeneSignatures_mm/Exp391_CD8_mm_sigs.csv'\n",
       "5. '/media/pipkin/ROCKET-PRO/T_cell_signature_Reference/X_GeneSignatures_mm/Wolski_curated_CD8_mm_sigs.csv'\n",
       "\n",
       "\n"
      ],
      "text/plain": [
       "[1] \"/media/pipkin/ROCKET-PRO/T_cell_signature_Reference/X_GeneSignatures_mm/2020_mouse_CD8_mm_sigs.csv\"    \n",
       "[2] \"/media/pipkin/ROCKET-PRO/T_cell_signature_Reference/X_GeneSignatures_mm/CD4_mm_sigs.csv\"               \n",
       "[3] \"/media/pipkin/ROCKET-PRO/T_cell_signature_Reference/X_GeneSignatures_mm/CD8_mm_sigs.csv\"               \n",
       "[4] \"/media/pipkin/ROCKET-PRO/T_cell_signature_Reference/X_GeneSignatures_mm/Exp391_CD8_mm_sigs.csv\"        \n",
       "[5] \"/media/pipkin/ROCKET-PRO/T_cell_signature_Reference/X_GeneSignatures_mm/Wolski_curated_CD8_mm_sigs.csv\""
      ]
     },
     "metadata": {},
     "output_type": "display_data"
    }
   ],
   "source": [
    "##########----- Parameters-----##########\n",
    "analysis_name <- c(\"0\", \"all\")\n",
    "genome <- \"mm\"\n",
    "#########################################\n",
    "analysis_subdir <- paste(paste(analysis_name[1], analysis_name[2], sep=\"-\"), \"Scanpy_out\", sep=\"_\")\n",
    "sum.dir <- file.path(base_dir, '1_Scanpy', analysis_subdir, \"3_GSEA\")\n",
    "dir.create(sum.dir, showWarnings = FALSE, recursive=TRUE)\n",
    "setwd(sum.dir)\n",
    "\n",
    "\n",
    "###----- Select gene signature\n",
    "gs.dir <- file.path('/media/pipkin/ROCKET-PRO/T_cell_signature_Reference/X_GeneSignatures_mm')\n",
    "gs.pattern <- paste(\"_\", genome, \"_sigs.csv\", sep=\"\")\n",
    "gs.files <- list.files(gs.dir, pattern=gs.pattern, full.names=TRUE)\n",
    "gs.files"
   ]
  },
  {
   "cell_type": "code",
   "execution_count": 4,
   "metadata": {},
   "outputs": [],
   "source": [
    "###----- Il2 dependent analysis\n",
    "gs.files <- c('/media/pipkin/ROCKET-PRO/CD8_DEV_SC/9_Figures/2_IL2RAKO_Nascent/IL2_dependent_mm_sigs.csv')"
   ]
  },
  {
   "cell_type": "code",
   "execution_count": null,
   "metadata": {},
   "outputs": [
    {
     "name": "stderr",
     "output_type": "stream",
     "text": [
      "Parsed with column specification:\n",
      "cols(\n",
      "  gene_name = \u001b[31mcol_character()\u001b[39m,\n",
      "  `0` = \u001b[32mcol_double()\u001b[39m,\n",
      "  `1` = \u001b[32mcol_double()\u001b[39m,\n",
      "  `2` = \u001b[32mcol_double()\u001b[39m,\n",
      "  `3` = \u001b[32mcol_double()\u001b[39m,\n",
      "  `4` = \u001b[32mcol_double()\u001b[39m,\n",
      "  `5` = \u001b[32mcol_double()\u001b[39m,\n",
      "  `6` = \u001b[32mcol_double()\u001b[39m,\n",
      "  `7` = \u001b[32mcol_double()\u001b[39m,\n",
      "  `8` = \u001b[32mcol_double()\u001b[39m,\n",
      "  `9` = \u001b[32mcol_double()\u001b[39m\n",
      ")\n",
      "\n",
      "Parsed with column specification:\n",
      "cols(\n",
      "  gene_name = \u001b[31mcol_character()\u001b[39m,\n",
      "  `0` = \u001b[32mcol_double()\u001b[39m,\n",
      "  `1` = \u001b[32mcol_double()\u001b[39m,\n",
      "  `2` = \u001b[32mcol_double()\u001b[39m,\n",
      "  `3` = \u001b[32mcol_double()\u001b[39m,\n",
      "  `4` = \u001b[32mcol_double()\u001b[39m,\n",
      "  `5` = \u001b[32mcol_double()\u001b[39m,\n",
      "  `6` = \u001b[32mcol_double()\u001b[39m,\n",
      "  `7` = \u001b[32mcol_double()\u001b[39m,\n",
      "  `8` = \u001b[32mcol_double()\u001b[39m,\n",
      "  `9` = \u001b[32mcol_double()\u001b[39m\n",
      ")\n",
      "\n",
      "Warning message:\n",
      "“Unknown columns: `gene_names`”\n",
      "Parsed with column specification:\n",
      "cols(\n",
      "  gs_name = \u001b[31mcol_character()\u001b[39m,\n",
      "  gene_symbol = \u001b[31mcol_character()\u001b[39m\n",
      ")\n",
      "\n",
      "preparing geneSet collections...\n",
      "\n",
      "calculating observed enrichment scores...\n",
      "\n",
      "calculating permutation scores...\n",
      "\n",
      "calculating p values...\n",
      "\n",
      "leading edge analysis...\n",
      "\n",
      "done...\n",
      "\n",
      "Parsed with column specification:\n",
      "cols(\n",
      "  gene_name = \u001b[31mcol_character()\u001b[39m,\n",
      "  `0` = \u001b[32mcol_double()\u001b[39m,\n",
      "  `1` = \u001b[32mcol_double()\u001b[39m,\n",
      "  `2` = \u001b[32mcol_double()\u001b[39m,\n",
      "  `3` = \u001b[32mcol_double()\u001b[39m,\n",
      "  `4` = \u001b[32mcol_double()\u001b[39m,\n",
      "  `5` = \u001b[32mcol_double()\u001b[39m,\n",
      "  `6` = \u001b[32mcol_double()\u001b[39m,\n",
      "  `7` = \u001b[32mcol_double()\u001b[39m,\n",
      "  `8` = \u001b[32mcol_double()\u001b[39m,\n",
      "  `9` = \u001b[32mcol_double()\u001b[39m\n",
      ")\n",
      "\n",
      "Warning message:\n",
      "“Unknown columns: `gene_names`”\n",
      "Parsed with column specification:\n",
      "cols(\n",
      "  gs_name = \u001b[31mcol_character()\u001b[39m,\n",
      "  gene_symbol = \u001b[31mcol_character()\u001b[39m\n",
      ")\n",
      "\n",
      "preparing geneSet collections...\n",
      "\n",
      "calculating observed enrichment scores...\n",
      "\n",
      "calculating permutation scores...\n",
      "\n",
      "calculating p values...\n",
      "\n",
      "leading edge analysis...\n",
      "\n",
      "done...\n",
      "\n",
      "Parsed with column specification:\n",
      "cols(\n",
      "  gene_name = \u001b[31mcol_character()\u001b[39m,\n",
      "  `0` = \u001b[32mcol_double()\u001b[39m,\n",
      "  `1` = \u001b[32mcol_double()\u001b[39m,\n",
      "  `2` = \u001b[32mcol_double()\u001b[39m,\n",
      "  `3` = \u001b[32mcol_double()\u001b[39m,\n",
      "  `4` = \u001b[32mcol_double()\u001b[39m,\n",
      "  `5` = \u001b[32mcol_double()\u001b[39m,\n",
      "  `6` = \u001b[32mcol_double()\u001b[39m,\n",
      "  `7` = \u001b[32mcol_double()\u001b[39m,\n",
      "  `8` = \u001b[32mcol_double()\u001b[39m,\n",
      "  `9` = \u001b[32mcol_double()\u001b[39m\n",
      ")\n",
      "\n",
      "Warning message:\n",
      "“Unknown columns: `gene_names`”\n",
      "Parsed with column specification:\n",
      "cols(\n",
      "  gs_name = \u001b[31mcol_character()\u001b[39m,\n",
      "  gene_symbol = \u001b[31mcol_character()\u001b[39m\n",
      ")\n",
      "\n",
      "preparing geneSet collections...\n",
      "\n",
      "calculating observed enrichment scores...\n",
      "\n",
      "calculating permutation scores...\n",
      "\n",
      "calculating p values...\n",
      "\n",
      "leading edge analysis...\n",
      "\n",
      "done...\n",
      "\n"
     ]
    }
   ],
   "source": [
    "z.use.keys <- c('louvain', 'cell_type', 'louvain_celltype', 'louvain_celltype_general_withNAV')  \n",
    "\n",
    "#####---------- For each classification method\n",
    "for (z.use.key in z.use.keys) {\n",
    "    z.file.name <- paste(z.use.key, 'mean_scaled_expr_z.csv', sep=\"_\")\n",
    "    z.file <- file.path(base_dir, '1_Scanpy', analysis_subdir, \"1_avg_expr\", z.file.name)\n",
    "    z.tb <- read_csv(z.file)\n",
    "    \n",
    "    #####---------- For each signature collection, calculate GSEA & summarize\n",
    "    for (gs.file in gs.files) {\n",
    "        # Create sub directory for signature group\n",
    "        gs.file.base <- gsub(gs.pattern, \"\",basename(gs.file))\n",
    "\n",
    "        sep.dir <- paste(z.use.key, \"sep\", sep=\"_\")\n",
    "        wk.dir <- file.path(sum.dir, sep.dir, gs.file.base)\n",
    "        dir.create(wk.dir, showWarnings = FALSE, recursive=TRUE)\n",
    "        setwd(wk.dir)\n",
    "\n",
    "        ###----- Run GSEA\n",
    "        for (i in tail(colnames(z.tb), -1)){\n",
    "            useGroup <- i\n",
    "            outName <- i\n",
    "            gsea <- tryCatch({\n",
    "                    GSEA_analysis(z.file, useGroup, outName, gs.file, 1)\n",
    "                }, error=function(cond) {\n",
    "                    message(paste(z.use.key, gs.file, i, sep='; '))\n",
    "                })\n",
    "        }\n",
    "\n",
    "        ###----- Summarize\n",
    "        setwd(sum.dir)\n",
    "\n",
    "        gsea.sum.name <- paste(z.use.key, \"gsea\", gs.file.base, sep=\"_\")\n",
    "\n",
    "        gs.all.tb <- read_csv(gs.file)\n",
    "        path.order <- str_sort(unique(gs.all.tb$gs_name), numeric = TRUE)\n",
    "        gs.file.ext <- basename(gs.file)\n",
    "        gs.file.ext <- paste(\"---\", gs.file.ext, sep=\"\")\n",
    "\n",
    "        comp.order <- sort(tail(colnames(z.tb), -1))\n",
    "\n",
    "        gsea.files <- list.files(path = wk.dir, pattern = \"*.csv\", full.names = TRUE)\n",
    "        gsea.file.base <- gsub(gs.file.ext, \"\", basename(gsea.files))\n",
    "        comp.order <- intersect(comp.order, gsea.file.base)\n",
    "        comp.order <- str_sort(comp.order, numeric = TRUE)\n",
    "        print(comp.order)\n",
    "\n",
    "        sum_df <- GSEA_sum(gsea.files, gsea.sum.name, 40, 20, TRUE, comp.order, TRUE, path.order)\n",
    "    }\n",
    "}"
   ]
  },
  {
   "cell_type": "code",
   "execution_count": null,
   "metadata": {},
   "outputs": [],
   "source": []
  }
 ],
 "metadata": {
  "kernelspec": {
   "display_name": "R",
   "language": "R",
   "name": "ir"
  },
  "language_info": {
   "codemirror_mode": "r",
   "file_extension": ".r",
   "mimetype": "text/x-r-source",
   "name": "R",
   "pygments_lexer": "r",
   "version": "3.6.3"
  }
 },
 "nbformat": 4,
 "nbformat_minor": 4
}
