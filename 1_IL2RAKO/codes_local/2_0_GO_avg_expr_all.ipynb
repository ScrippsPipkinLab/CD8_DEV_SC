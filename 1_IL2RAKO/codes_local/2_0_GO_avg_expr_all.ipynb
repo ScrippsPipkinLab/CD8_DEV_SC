{
 "cells": [
  {
   "cell_type": "code",
   "execution_count": 2,
   "metadata": {},
   "outputs": [
    {
     "data": {
      "text/html": [
       "'/media/pipkin/ROCKET-PRO/CD8_DEV_SC/1_IL2RAKO'"
      ],
      "text/latex": [
       "'/media/pipkin/ROCKET-PRO/CD8\\_DEV\\_SC/1\\_IL2RAKO'"
      ],
      "text/markdown": [
       "'/media/pipkin/ROCKET-PRO/CD8_DEV_SC/1_IL2RAKO'"
      ],
      "text/plain": [
       "[1] \"/media/pipkin/ROCKET-PRO/CD8_DEV_SC/1_IL2RAKO\""
      ]
     },
     "metadata": {},
     "output_type": "display_data"
    }
   ],
   "source": [
    "##########----- Reused code -----##########\n",
    "# Last update: Sept 13, 2020\n",
    "# By: Huitian Diao\n",
    "###########################################\n",
    "\n",
    "library(stringr)\n",
    "\n",
    "code_dir <- getwd()\n",
    "tool_dir <- unlist(strsplit(code_dir,\"/\"))\n",
    "tool_dir <- head(tool_dir, length(tool_dir)-2)\n",
    "tool_dir <- paste(c(tool_dir, \"tools\"), collapse=\"/\")\n",
    "source(file.path(tool_dir, \"function_GSEA.R\"))\n",
    "base_dir <- gsub(\"/codes_local\", \"\", code_dir)\n",
    "base_dir"
   ]
  },
  {
   "cell_type": "markdown",
   "metadata": {},
   "source": [
    "## Resampled Louvain cluster GSEA"
   ]
  },
  {
   "cell_type": "code",
   "execution_count": 3,
   "metadata": {},
   "outputs": [],
   "source": [
    "##########----- Parameters-----##########\n",
    "analysis_name <- c(\"0\", \"all\")\n",
    "genome <- \"mm\"\n",
    "#########################################\n",
    "analysis_subdir <- paste(paste(analysis_name[1], analysis_name[2], sep=\"-\"), \"Scanpy_out\", sep=\"_\")\n",
    "sum.dir <- file.path(base_dir, '1_Scanpy', analysis_subdir, \"3_GO\")\n",
    "dir.create(sum.dir, showWarnings = FALSE, recursive=TRUE)\n",
    "setwd(sum.dir)"
   ]
  },
  {
   "cell_type": "code",
   "execution_count": 4,
   "metadata": {},
   "outputs": [
    {
     "name": "stderr",
     "output_type": "stream",
     "text": [
      "Parsed with column specification:\n",
      "cols(\n",
      "  gene_name = \u001b[31mcol_character()\u001b[39m,\n",
      "  `0` = \u001b[32mcol_double()\u001b[39m,\n",
      "  `1` = \u001b[32mcol_double()\u001b[39m,\n",
      "  `2` = \u001b[32mcol_double()\u001b[39m,\n",
      "  `3` = \u001b[32mcol_double()\u001b[39m,\n",
      "  `4` = \u001b[32mcol_double()\u001b[39m,\n",
      "  `5` = \u001b[32mcol_double()\u001b[39m,\n",
      "  `6` = \u001b[32mcol_double()\u001b[39m,\n",
      "  `7` = \u001b[32mcol_double()\u001b[39m,\n",
      "  `8` = \u001b[32mcol_double()\u001b[39m,\n",
      "  `9` = \u001b[32mcol_double()\u001b[39m\n",
      ")\n",
      "\n",
      "Parsed with column specification:\n",
      "cols(\n",
      "  gene_name = \u001b[31mcol_character()\u001b[39m,\n",
      "  `0` = \u001b[32mcol_double()\u001b[39m,\n",
      "  `1` = \u001b[32mcol_double()\u001b[39m,\n",
      "  `2` = \u001b[32mcol_double()\u001b[39m,\n",
      "  `3` = \u001b[32mcol_double()\u001b[39m,\n",
      "  `4` = \u001b[32mcol_double()\u001b[39m,\n",
      "  `5` = \u001b[32mcol_double()\u001b[39m,\n",
      "  `6` = \u001b[32mcol_double()\u001b[39m,\n",
      "  `7` = \u001b[32mcol_double()\u001b[39m,\n",
      "  `8` = \u001b[32mcol_double()\u001b[39m,\n",
      "  `9` = \u001b[32mcol_double()\u001b[39m\n",
      ")\n",
      "\n",
      "Warning message:\n",
      "“Unknown columns: `gene_names`”\n"
     ]
    },
    {
     "name": "stdout",
     "output_type": "stream",
     "text": [
      "[1] \"0    Gene number: 409\"\n"
     ]
    },
    {
     "name": "stderr",
     "output_type": "stream",
     "text": [
      "'select()' returned 1:many mapping between keys and columns\n",
      "\n",
      "Parsed with column specification:\n",
      "cols(\n",
      "  gene_name = \u001b[31mcol_character()\u001b[39m,\n",
      "  `0` = \u001b[32mcol_double()\u001b[39m,\n",
      "  `1` = \u001b[32mcol_double()\u001b[39m,\n",
      "  `2` = \u001b[32mcol_double()\u001b[39m,\n",
      "  `3` = \u001b[32mcol_double()\u001b[39m,\n",
      "  `4` = \u001b[32mcol_double()\u001b[39m,\n",
      "  `5` = \u001b[32mcol_double()\u001b[39m,\n",
      "  `6` = \u001b[32mcol_double()\u001b[39m,\n",
      "  `7` = \u001b[32mcol_double()\u001b[39m,\n",
      "  `8` = \u001b[32mcol_double()\u001b[39m,\n",
      "  `9` = \u001b[32mcol_double()\u001b[39m\n",
      ")\n",
      "\n",
      "Warning message:\n",
      "“Unknown columns: `gene_names`”\n"
     ]
    },
    {
     "name": "stdout",
     "output_type": "stream",
     "text": [
      "[1] \"1    Gene number: 338\"\n"
     ]
    },
    {
     "name": "stderr",
     "output_type": "stream",
     "text": [
      "'select()' returned 1:many mapping between keys and columns\n",
      "\n",
      "Parsed with column specification:\n",
      "cols(\n",
      "  gene_name = \u001b[31mcol_character()\u001b[39m,\n",
      "  `0` = \u001b[32mcol_double()\u001b[39m,\n",
      "  `1` = \u001b[32mcol_double()\u001b[39m,\n",
      "  `2` = \u001b[32mcol_double()\u001b[39m,\n",
      "  `3` = \u001b[32mcol_double()\u001b[39m,\n",
      "  `4` = \u001b[32mcol_double()\u001b[39m,\n",
      "  `5` = \u001b[32mcol_double()\u001b[39m,\n",
      "  `6` = \u001b[32mcol_double()\u001b[39m,\n",
      "  `7` = \u001b[32mcol_double()\u001b[39m,\n",
      "  `8` = \u001b[32mcol_double()\u001b[39m,\n",
      "  `9` = \u001b[32mcol_double()\u001b[39m\n",
      ")\n",
      "\n",
      "Warning message:\n",
      "“Unknown columns: `gene_names`”\n"
     ]
    },
    {
     "name": "stdout",
     "output_type": "stream",
     "text": [
      "[1] \"2    Gene number: 388\"\n"
     ]
    },
    {
     "name": "stderr",
     "output_type": "stream",
     "text": [
      "'select()' returned 1:many mapping between keys and columns\n",
      "\n",
      "Parsed with column specification:\n",
      "cols(\n",
      "  gene_name = \u001b[31mcol_character()\u001b[39m,\n",
      "  `0` = \u001b[32mcol_double()\u001b[39m,\n",
      "  `1` = \u001b[32mcol_double()\u001b[39m,\n",
      "  `2` = \u001b[32mcol_double()\u001b[39m,\n",
      "  `3` = \u001b[32mcol_double()\u001b[39m,\n",
      "  `4` = \u001b[32mcol_double()\u001b[39m,\n",
      "  `5` = \u001b[32mcol_double()\u001b[39m,\n",
      "  `6` = \u001b[32mcol_double()\u001b[39m,\n",
      "  `7` = \u001b[32mcol_double()\u001b[39m,\n",
      "  `8` = \u001b[32mcol_double()\u001b[39m,\n",
      "  `9` = \u001b[32mcol_double()\u001b[39m\n",
      ")\n",
      "\n",
      "Warning message:\n",
      "“Unknown columns: `gene_names`”\n"
     ]
    },
    {
     "name": "stdout",
     "output_type": "stream",
     "text": [
      "[1] \"3    Gene number: 244\"\n"
     ]
    },
    {
     "name": "stderr",
     "output_type": "stream",
     "text": [
      "'select()' returned 1:many mapping between keys and columns\n",
      "\n",
      "Parsed with column specification:\n",
      "cols(\n",
      "  gene_name = \u001b[31mcol_character()\u001b[39m,\n",
      "  `0` = \u001b[32mcol_double()\u001b[39m,\n",
      "  `1` = \u001b[32mcol_double()\u001b[39m,\n",
      "  `2` = \u001b[32mcol_double()\u001b[39m,\n",
      "  `3` = \u001b[32mcol_double()\u001b[39m,\n",
      "  `4` = \u001b[32mcol_double()\u001b[39m,\n",
      "  `5` = \u001b[32mcol_double()\u001b[39m,\n",
      "  `6` = \u001b[32mcol_double()\u001b[39m,\n",
      "  `7` = \u001b[32mcol_double()\u001b[39m,\n",
      "  `8` = \u001b[32mcol_double()\u001b[39m,\n",
      "  `9` = \u001b[32mcol_double()\u001b[39m\n",
      ")\n",
      "\n",
      "Warning message:\n",
      "“Unknown columns: `gene_names`”\n"
     ]
    },
    {
     "name": "stdout",
     "output_type": "stream",
     "text": [
      "[1] \"4    Gene number: 358\"\n"
     ]
    },
    {
     "name": "stderr",
     "output_type": "stream",
     "text": [
      "'select()' returned 1:many mapping between keys and columns\n",
      "\n",
      "Parsed with column specification:\n",
      "cols(\n",
      "  gene_name = \u001b[31mcol_character()\u001b[39m,\n",
      "  `0` = \u001b[32mcol_double()\u001b[39m,\n",
      "  `1` = \u001b[32mcol_double()\u001b[39m,\n",
      "  `2` = \u001b[32mcol_double()\u001b[39m,\n",
      "  `3` = \u001b[32mcol_double()\u001b[39m,\n",
      "  `4` = \u001b[32mcol_double()\u001b[39m,\n",
      "  `5` = \u001b[32mcol_double()\u001b[39m,\n",
      "  `6` = \u001b[32mcol_double()\u001b[39m,\n",
      "  `7` = \u001b[32mcol_double()\u001b[39m,\n",
      "  `8` = \u001b[32mcol_double()\u001b[39m,\n",
      "  `9` = \u001b[32mcol_double()\u001b[39m\n",
      ")\n",
      "\n",
      "Warning message:\n",
      "“Unknown columns: `gene_names`”\n"
     ]
    },
    {
     "name": "stdout",
     "output_type": "stream",
     "text": [
      "[1] \"5    Gene number: 511\"\n"
     ]
    },
    {
     "name": "stderr",
     "output_type": "stream",
     "text": [
      "'select()' returned 1:many mapping between keys and columns\n",
      "\n",
      "Parsed with column specification:\n",
      "cols(\n",
      "  gene_name = \u001b[31mcol_character()\u001b[39m,\n",
      "  `0` = \u001b[32mcol_double()\u001b[39m,\n",
      "  `1` = \u001b[32mcol_double()\u001b[39m,\n",
      "  `2` = \u001b[32mcol_double()\u001b[39m,\n",
      "  `3` = \u001b[32mcol_double()\u001b[39m,\n",
      "  `4` = \u001b[32mcol_double()\u001b[39m,\n",
      "  `5` = \u001b[32mcol_double()\u001b[39m,\n",
      "  `6` = \u001b[32mcol_double()\u001b[39m,\n",
      "  `7` = \u001b[32mcol_double()\u001b[39m,\n",
      "  `8` = \u001b[32mcol_double()\u001b[39m,\n",
      "  `9` = \u001b[32mcol_double()\u001b[39m\n",
      ")\n",
      "\n",
      "Warning message:\n",
      "“Unknown columns: `gene_names`”\n"
     ]
    },
    {
     "name": "stdout",
     "output_type": "stream",
     "text": [
      "[1] \"6    Gene number: 534\"\n"
     ]
    },
    {
     "name": "stderr",
     "output_type": "stream",
     "text": [
      "'select()' returned 1:many mapping between keys and columns\n",
      "\n",
      "Parsed with column specification:\n",
      "cols(\n",
      "  gene_name = \u001b[31mcol_character()\u001b[39m,\n",
      "  `0` = \u001b[32mcol_double()\u001b[39m,\n",
      "  `1` = \u001b[32mcol_double()\u001b[39m,\n",
      "  `2` = \u001b[32mcol_double()\u001b[39m,\n",
      "  `3` = \u001b[32mcol_double()\u001b[39m,\n",
      "  `4` = \u001b[32mcol_double()\u001b[39m,\n",
      "  `5` = \u001b[32mcol_double()\u001b[39m,\n",
      "  `6` = \u001b[32mcol_double()\u001b[39m,\n",
      "  `7` = \u001b[32mcol_double()\u001b[39m,\n",
      "  `8` = \u001b[32mcol_double()\u001b[39m,\n",
      "  `9` = \u001b[32mcol_double()\u001b[39m\n",
      ")\n",
      "\n",
      "Warning message:\n",
      "“Unknown columns: `gene_names`”\n"
     ]
    },
    {
     "name": "stdout",
     "output_type": "stream",
     "text": [
      "[1] \"7    Gene number: 353\"\n"
     ]
    },
    {
     "name": "stderr",
     "output_type": "stream",
     "text": [
      "'select()' returned 1:many mapping between keys and columns\n",
      "\n",
      "Parsed with column specification:\n",
      "cols(\n",
      "  gene_name = \u001b[31mcol_character()\u001b[39m,\n",
      "  `0` = \u001b[32mcol_double()\u001b[39m,\n",
      "  `1` = \u001b[32mcol_double()\u001b[39m,\n",
      "  `2` = \u001b[32mcol_double()\u001b[39m,\n",
      "  `3` = \u001b[32mcol_double()\u001b[39m,\n",
      "  `4` = \u001b[32mcol_double()\u001b[39m,\n",
      "  `5` = \u001b[32mcol_double()\u001b[39m,\n",
      "  `6` = \u001b[32mcol_double()\u001b[39m,\n",
      "  `7` = \u001b[32mcol_double()\u001b[39m,\n",
      "  `8` = \u001b[32mcol_double()\u001b[39m,\n",
      "  `9` = \u001b[32mcol_double()\u001b[39m\n",
      ")\n",
      "\n",
      "Warning message:\n",
      "“Unknown columns: `gene_names`”\n"
     ]
    },
    {
     "name": "stdout",
     "output_type": "stream",
     "text": [
      "[1] \"8    Gene number: 389\"\n"
     ]
    },
    {
     "name": "stderr",
     "output_type": "stream",
     "text": [
      "'select()' returned 1:many mapping between keys and columns\n",
      "\n",
      "Parsed with column specification:\n",
      "cols(\n",
      "  gene_name = \u001b[31mcol_character()\u001b[39m,\n",
      "  `0` = \u001b[32mcol_double()\u001b[39m,\n",
      "  `1` = \u001b[32mcol_double()\u001b[39m,\n",
      "  `2` = \u001b[32mcol_double()\u001b[39m,\n",
      "  `3` = \u001b[32mcol_double()\u001b[39m,\n",
      "  `4` = \u001b[32mcol_double()\u001b[39m,\n",
      "  `5` = \u001b[32mcol_double()\u001b[39m,\n",
      "  `6` = \u001b[32mcol_double()\u001b[39m,\n",
      "  `7` = \u001b[32mcol_double()\u001b[39m,\n",
      "  `8` = \u001b[32mcol_double()\u001b[39m,\n",
      "  `9` = \u001b[32mcol_double()\u001b[39m\n",
      ")\n",
      "\n",
      "Warning message:\n",
      "“Unknown columns: `gene_names`”\n"
     ]
    },
    {
     "name": "stdout",
     "output_type": "stream",
     "text": [
      "[1] \"9    Gene number: 267\"\n"
     ]
    },
    {
     "name": "stderr",
     "output_type": "stream",
     "text": [
      "'select()' returned 1:many mapping between keys and columns\n",
      "\n",
      "Parsed with column specification:\n",
      "cols(\n",
      "  gene_name = \u001b[31mcol_character()\u001b[39m,\n",
      "  CD25KO = \u001b[32mcol_double()\u001b[39m,\n",
      "  CD25WT = \u001b[32mcol_double()\u001b[39m,\n",
      "  P14NAV = \u001b[32mcol_double()\u001b[39m\n",
      ")\n",
      "\n",
      "Parsed with column specification:\n",
      "cols(\n",
      "  gene_name = \u001b[31mcol_character()\u001b[39m,\n",
      "  CD25KO = \u001b[32mcol_double()\u001b[39m,\n",
      "  CD25WT = \u001b[32mcol_double()\u001b[39m,\n",
      "  P14NAV = \u001b[32mcol_double()\u001b[39m\n",
      ")\n",
      "\n",
      "Warning message:\n",
      "“Unknown columns: `gene_names`”\n"
     ]
    },
    {
     "name": "stdout",
     "output_type": "stream",
     "text": [
      "[1] \"CD25KO    Gene number: 499\"\n"
     ]
    },
    {
     "name": "stderr",
     "output_type": "stream",
     "text": [
      "'select()' returned 1:many mapping between keys and columns\n",
      "\n",
      "Parsed with column specification:\n",
      "cols(\n",
      "  gene_name = \u001b[31mcol_character()\u001b[39m,\n",
      "  CD25KO = \u001b[32mcol_double()\u001b[39m,\n",
      "  CD25WT = \u001b[32mcol_double()\u001b[39m,\n",
      "  P14NAV = \u001b[32mcol_double()\u001b[39m\n",
      ")\n",
      "\n",
      "Warning message:\n",
      "“Unknown columns: `gene_names`”\n"
     ]
    },
    {
     "name": "stdout",
     "output_type": "stream",
     "text": [
      "[1] \"CD25WT    Gene number: 405\"\n"
     ]
    },
    {
     "name": "stderr",
     "output_type": "stream",
     "text": [
      "'select()' returned 1:many mapping between keys and columns\n",
      "\n",
      "Parsed with column specification:\n",
      "cols(\n",
      "  gene_name = \u001b[31mcol_character()\u001b[39m,\n",
      "  CD25KO = \u001b[32mcol_double()\u001b[39m,\n",
      "  CD25WT = \u001b[32mcol_double()\u001b[39m,\n",
      "  P14NAV = \u001b[32mcol_double()\u001b[39m\n",
      ")\n",
      "\n",
      "Warning message:\n",
      "“Unknown columns: `gene_names`”\n"
     ]
    },
    {
     "name": "stdout",
     "output_type": "stream",
     "text": [
      "[1] \"P14NAV    Gene number: 389\"\n"
     ]
    },
    {
     "name": "stderr",
     "output_type": "stream",
     "text": [
      "'select()' returned 1:many mapping between keys and columns\n",
      "\n",
      "Parsed with column specification:\n",
      "cols(\n",
      "  .default = col_double(),\n",
      "  gene_name = \u001b[31mcol_character()\u001b[39m\n",
      ")\n",
      "\n",
      "See spec(...) for full column specifications.\n",
      "\n",
      "Parsed with column specification:\n",
      "cols(\n",
      "  .default = col_double(),\n",
      "  gene_name = \u001b[31mcol_character()\u001b[39m\n",
      ")\n",
      "\n",
      "See spec(...) for full column specifications.\n",
      "\n",
      "Warning message:\n",
      "“Unknown columns: `gene_names`”\n"
     ]
    },
    {
     "name": "stdout",
     "output_type": "stream",
     "text": [
      "[1] \"0_CD25KO    Gene number: 633\"\n"
     ]
    },
    {
     "name": "stderr",
     "output_type": "stream",
     "text": [
      "'select()' returned 1:many mapping between keys and columns\n",
      "\n",
      "Parsed with column specification:\n",
      "cols(\n",
      "  .default = col_double(),\n",
      "  gene_name = \u001b[31mcol_character()\u001b[39m\n",
      ")\n",
      "\n",
      "See spec(...) for full column specifications.\n",
      "\n",
      "Warning message:\n",
      "“Unknown columns: `gene_names`”\n"
     ]
    },
    {
     "name": "stdout",
     "output_type": "stream",
     "text": [
      "[1] \"0_CD25WT    Gene number: 564\"\n"
     ]
    },
    {
     "name": "stderr",
     "output_type": "stream",
     "text": [
      "'select()' returned 1:many mapping between keys and columns\n",
      "\n",
      "Parsed with column specification:\n",
      "cols(\n",
      "  .default = col_double(),\n",
      "  gene_name = \u001b[31mcol_character()\u001b[39m\n",
      ")\n",
      "\n",
      "See spec(...) for full column specifications.\n",
      "\n",
      "Warning message:\n",
      "“Unknown columns: `gene_names`”\n"
     ]
    },
    {
     "name": "stdout",
     "output_type": "stream",
     "text": [
      "[1] \"0_P14NAV    Gene number: 407\"\n"
     ]
    },
    {
     "name": "stderr",
     "output_type": "stream",
     "text": [
      "'select()' returned 1:many mapping between keys and columns\n",
      "\n",
      "Parsed with column specification:\n",
      "cols(\n",
      "  .default = col_double(),\n",
      "  gene_name = \u001b[31mcol_character()\u001b[39m\n",
      ")\n",
      "\n",
      "See spec(...) for full column specifications.\n",
      "\n",
      "Warning message:\n",
      "“Unknown columns: `gene_names`”\n"
     ]
    },
    {
     "name": "stdout",
     "output_type": "stream",
     "text": [
      "[1] \"1_CD25KO    Gene number: 377\"\n"
     ]
    },
    {
     "name": "stderr",
     "output_type": "stream",
     "text": [
      "'select()' returned 1:many mapping between keys and columns\n",
      "\n",
      "Parsed with column specification:\n",
      "cols(\n",
      "  .default = col_double(),\n",
      "  gene_name = \u001b[31mcol_character()\u001b[39m\n",
      ")\n",
      "\n",
      "See spec(...) for full column specifications.\n",
      "\n",
      "Warning message:\n",
      "“Unknown columns: `gene_names`”\n"
     ]
    },
    {
     "name": "stdout",
     "output_type": "stream",
     "text": [
      "[1] \"1_CD25WT    Gene number: 644\"\n"
     ]
    },
    {
     "name": "stderr",
     "output_type": "stream",
     "text": [
      "'select()' returned 1:many mapping between keys and columns\n",
      "\n",
      "Parsed with column specification:\n",
      "cols(\n",
      "  .default = col_double(),\n",
      "  gene_name = \u001b[31mcol_character()\u001b[39m\n",
      ")\n",
      "\n",
      "See spec(...) for full column specifications.\n",
      "\n",
      "Warning message:\n",
      "“Unknown columns: `gene_names`”\n"
     ]
    },
    {
     "name": "stdout",
     "output_type": "stream",
     "text": [
      "[1] \"1_P14NAV    Gene number: 651\"\n"
     ]
    },
    {
     "name": "stderr",
     "output_type": "stream",
     "text": [
      "'select()' returned 1:many mapping between keys and columns\n",
      "\n",
      "Parsed with column specification:\n",
      "cols(\n",
      "  .default = col_double(),\n",
      "  gene_name = \u001b[31mcol_character()\u001b[39m\n",
      ")\n",
      "\n",
      "See spec(...) for full column specifications.\n",
      "\n",
      "Warning message:\n",
      "“Unknown columns: `gene_names`”\n"
     ]
    },
    {
     "name": "stdout",
     "output_type": "stream",
     "text": [
      "[1] \"2_CD25KO    Gene number: 414\"\n"
     ]
    },
    {
     "name": "stderr",
     "output_type": "stream",
     "text": [
      "'select()' returned 1:many mapping between keys and columns\n",
      "\n",
      "Parsed with column specification:\n",
      "cols(\n",
      "  .default = col_double(),\n",
      "  gene_name = \u001b[31mcol_character()\u001b[39m\n",
      ")\n",
      "\n",
      "See spec(...) for full column specifications.\n",
      "\n",
      "Warning message:\n",
      "“Unknown columns: `gene_names`”\n"
     ]
    },
    {
     "name": "stdout",
     "output_type": "stream",
     "text": [
      "[1] \"2_CD25WT    Gene number: 406\"\n"
     ]
    },
    {
     "name": "stderr",
     "output_type": "stream",
     "text": [
      "'select()' returned 1:many mapping between keys and columns\n",
      "\n",
      "Parsed with column specification:\n",
      "cols(\n",
      "  .default = col_double(),\n",
      "  gene_name = \u001b[31mcol_character()\u001b[39m\n",
      ")\n",
      "\n",
      "See spec(...) for full column specifications.\n",
      "\n",
      "Warning message:\n",
      "“Unknown columns: `gene_names`”\n"
     ]
    },
    {
     "name": "stdout",
     "output_type": "stream",
     "text": [
      "[1] \"2_P14NAV    Gene number: 534\"\n"
     ]
    },
    {
     "name": "stderr",
     "output_type": "stream",
     "text": [
      "'select()' returned 1:many mapping between keys and columns\n",
      "\n",
      "Parsed with column specification:\n",
      "cols(\n",
      "  .default = col_double(),\n",
      "  gene_name = \u001b[31mcol_character()\u001b[39m\n",
      ")\n",
      "\n",
      "See spec(...) for full column specifications.\n",
      "\n",
      "Warning message:\n",
      "“Unknown columns: `gene_names`”\n"
     ]
    },
    {
     "name": "stdout",
     "output_type": "stream",
     "text": [
      "[1] \"3_CD25KO    Gene number: 301\"\n"
     ]
    },
    {
     "name": "stderr",
     "output_type": "stream",
     "text": [
      "'select()' returned 1:many mapping between keys and columns\n",
      "\n",
      "Parsed with column specification:\n",
      "cols(\n",
      "  .default = col_double(),\n",
      "  gene_name = \u001b[31mcol_character()\u001b[39m\n",
      ")\n",
      "\n",
      "See spec(...) for full column specifications.\n",
      "\n",
      "Warning message:\n",
      "“Unknown columns: `gene_names`”\n"
     ]
    },
    {
     "name": "stdout",
     "output_type": "stream",
     "text": [
      "[1] \"3_CD25WT    Gene number: 246\"\n"
     ]
    },
    {
     "name": "stderr",
     "output_type": "stream",
     "text": [
      "'select()' returned 1:many mapping between keys and columns\n",
      "\n",
      "Parsed with column specification:\n",
      "cols(\n",
      "  .default = col_double(),\n",
      "  gene_name = \u001b[31mcol_character()\u001b[39m\n",
      ")\n",
      "\n",
      "See spec(...) for full column specifications.\n",
      "\n",
      "Warning message:\n",
      "“Unknown columns: `gene_names`”\n"
     ]
    },
    {
     "name": "stdout",
     "output_type": "stream",
     "text": [
      "[1] \"3_P14NAV    Gene number: 530\"\n"
     ]
    },
    {
     "name": "stderr",
     "output_type": "stream",
     "text": [
      "'select()' returned 1:many mapping between keys and columns\n",
      "\n",
      "Parsed with column specification:\n",
      "cols(\n",
      "  .default = col_double(),\n",
      "  gene_name = \u001b[31mcol_character()\u001b[39m\n",
      ")\n",
      "\n",
      "See spec(...) for full column specifications.\n",
      "\n",
      "Warning message:\n",
      "“Unknown columns: `gene_names`”\n"
     ]
    },
    {
     "name": "stdout",
     "output_type": "stream",
     "text": [
      "[1] \"4_CD25KO    Gene number: 429\"\n"
     ]
    },
    {
     "name": "stderr",
     "output_type": "stream",
     "text": [
      "'select()' returned 1:many mapping between keys and columns\n",
      "\n",
      "Parsed with column specification:\n",
      "cols(\n",
      "  .default = col_double(),\n",
      "  gene_name = \u001b[31mcol_character()\u001b[39m\n",
      ")\n",
      "\n",
      "See spec(...) for full column specifications.\n",
      "\n",
      "Warning message:\n",
      "“Unknown columns: `gene_names`”\n"
     ]
    },
    {
     "name": "stdout",
     "output_type": "stream",
     "text": [
      "[1] \"4_CD25WT    Gene number: 377\"\n"
     ]
    },
    {
     "name": "stderr",
     "output_type": "stream",
     "text": [
      "'select()' returned 1:many mapping between keys and columns\n",
      "\n",
      "Parsed with column specification:\n",
      "cols(\n",
      "  .default = col_double(),\n",
      "  gene_name = \u001b[31mcol_character()\u001b[39m\n",
      ")\n",
      "\n",
      "See spec(...) for full column specifications.\n",
      "\n",
      "Warning message:\n",
      "“Unknown columns: `gene_names`”\n"
     ]
    },
    {
     "name": "stdout",
     "output_type": "stream",
     "text": [
      "[1] \"4_P14NAV    Gene number: 520\"\n"
     ]
    },
    {
     "name": "stderr",
     "output_type": "stream",
     "text": [
      "'select()' returned 1:many mapping between keys and columns\n",
      "\n",
      "Parsed with column specification:\n",
      "cols(\n",
      "  .default = col_double(),\n",
      "  gene_name = \u001b[31mcol_character()\u001b[39m\n",
      ")\n",
      "\n",
      "See spec(...) for full column specifications.\n",
      "\n",
      "Warning message:\n",
      "“Unknown columns: `gene_names`”\n"
     ]
    },
    {
     "name": "stdout",
     "output_type": "stream",
     "text": [
      "[1] \"5_CD25WT    Gene number: 619\"\n"
     ]
    },
    {
     "name": "stderr",
     "output_type": "stream",
     "text": [
      "'select()' returned 1:many mapping between keys and columns\n",
      "\n",
      "Parsed with column specification:\n",
      "cols(\n",
      "  .default = col_double(),\n",
      "  gene_name = \u001b[31mcol_character()\u001b[39m\n",
      ")\n",
      "\n",
      "See spec(...) for full column specifications.\n",
      "\n",
      "Warning message:\n",
      "“Unknown columns: `gene_names`”\n"
     ]
    },
    {
     "name": "stdout",
     "output_type": "stream",
     "text": [
      "[1] \"5_P14NAV    Gene number: 512\"\n"
     ]
    },
    {
     "name": "stderr",
     "output_type": "stream",
     "text": [
      "'select()' returned 1:many mapping between keys and columns\n",
      "\n",
      "Parsed with column specification:\n",
      "cols(\n",
      "  .default = col_double(),\n",
      "  gene_name = \u001b[31mcol_character()\u001b[39m\n",
      ")\n",
      "\n",
      "See spec(...) for full column specifications.\n",
      "\n",
      "Warning message:\n",
      "“Unknown columns: `gene_names`”\n"
     ]
    },
    {
     "name": "stdout",
     "output_type": "stream",
     "text": [
      "[1] \"6_CD25KO    Gene number: 674\"\n"
     ]
    },
    {
     "name": "stderr",
     "output_type": "stream",
     "text": [
      "'select()' returned 1:many mapping between keys and columns\n",
      "\n",
      "Parsed with column specification:\n",
      "cols(\n",
      "  .default = col_double(),\n",
      "  gene_name = \u001b[31mcol_character()\u001b[39m\n",
      ")\n",
      "\n",
      "See spec(...) for full column specifications.\n",
      "\n",
      "Warning message:\n",
      "“Unknown columns: `gene_names`”\n"
     ]
    },
    {
     "name": "stdout",
     "output_type": "stream",
     "text": [
      "[1] \"6_CD25WT    Gene number: 586\"\n"
     ]
    },
    {
     "name": "stderr",
     "output_type": "stream",
     "text": [
      "'select()' returned 1:many mapping between keys and columns\n",
      "\n",
      "Parsed with column specification:\n",
      "cols(\n",
      "  .default = col_double(),\n",
      "  gene_name = \u001b[31mcol_character()\u001b[39m\n",
      ")\n",
      "\n",
      "See spec(...) for full column specifications.\n",
      "\n",
      "Warning message:\n",
      "“Unknown columns: `gene_names`”\n"
     ]
    },
    {
     "name": "stdout",
     "output_type": "stream",
     "text": [
      "[1] \"6_P14NAV    Gene number: 547\"\n"
     ]
    },
    {
     "name": "stderr",
     "output_type": "stream",
     "text": [
      "'select()' returned 1:many mapping between keys and columns\n",
      "\n",
      "Parsed with column specification:\n",
      "cols(\n",
      "  .default = col_double(),\n",
      "  gene_name = \u001b[31mcol_character()\u001b[39m\n",
      ")\n",
      "\n",
      "See spec(...) for full column specifications.\n",
      "\n",
      "Warning message:\n",
      "“Unknown columns: `gene_names`”\n"
     ]
    },
    {
     "name": "stdout",
     "output_type": "stream",
     "text": [
      "[1] \"7_CD25KO    Gene number: 435\"\n"
     ]
    },
    {
     "name": "stderr",
     "output_type": "stream",
     "text": [
      "'select()' returned 1:many mapping between keys and columns\n",
      "\n",
      "Parsed with column specification:\n",
      "cols(\n",
      "  .default = col_double(),\n",
      "  gene_name = \u001b[31mcol_character()\u001b[39m\n",
      ")\n",
      "\n",
      "See spec(...) for full column specifications.\n",
      "\n",
      "Warning message:\n",
      "“Unknown columns: `gene_names`”\n"
     ]
    },
    {
     "name": "stdout",
     "output_type": "stream",
     "text": [
      "[1] \"7_CD25WT    Gene number: 383\"\n"
     ]
    },
    {
     "name": "stderr",
     "output_type": "stream",
     "text": [
      "'select()' returned 1:many mapping between keys and columns\n",
      "\n",
      "Parsed with column specification:\n",
      "cols(\n",
      "  .default = col_double(),\n",
      "  gene_name = \u001b[31mcol_character()\u001b[39m\n",
      ")\n",
      "\n",
      "See spec(...) for full column specifications.\n",
      "\n",
      "Warning message:\n",
      "“Unknown columns: `gene_names`”\n"
     ]
    },
    {
     "name": "stdout",
     "output_type": "stream",
     "text": [
      "[1] \"7_P14NAV    Gene number: 494\"\n"
     ]
    },
    {
     "name": "stderr",
     "output_type": "stream",
     "text": [
      "'select()' returned 1:many mapping between keys and columns\n",
      "\n",
      "Parsed with column specification:\n",
      "cols(\n",
      "  .default = col_double(),\n",
      "  gene_name = \u001b[31mcol_character()\u001b[39m\n",
      ")\n",
      "\n",
      "See spec(...) for full column specifications.\n",
      "\n",
      "Warning message:\n",
      "“Unknown columns: `gene_names`”\n"
     ]
    },
    {
     "name": "stdout",
     "output_type": "stream",
     "text": [
      "[1] \"8_CD25KO    Gene number: 459\"\n"
     ]
    },
    {
     "name": "stderr",
     "output_type": "stream",
     "text": [
      "'select()' returned 1:many mapping between keys and columns\n",
      "\n",
      "Parsed with column specification:\n",
      "cols(\n",
      "  .default = col_double(),\n",
      "  gene_name = \u001b[31mcol_character()\u001b[39m\n",
      ")\n",
      "\n",
      "See spec(...) for full column specifications.\n",
      "\n",
      "Warning message:\n",
      "“Unknown columns: `gene_names`”\n"
     ]
    },
    {
     "name": "stdout",
     "output_type": "stream",
     "text": [
      "[1] \"8_CD25WT    Gene number: 542\"\n"
     ]
    },
    {
     "name": "stderr",
     "output_type": "stream",
     "text": [
      "'select()' returned 1:many mapping between keys and columns\n",
      "\n",
      "Parsed with column specification:\n",
      "cols(\n",
      "  .default = col_double(),\n",
      "  gene_name = \u001b[31mcol_character()\u001b[39m\n",
      ")\n",
      "\n",
      "See spec(...) for full column specifications.\n",
      "\n",
      "Warning message:\n",
      "“Unknown columns: `gene_names`”\n"
     ]
    },
    {
     "name": "stdout",
     "output_type": "stream",
     "text": [
      "[1] \"9_CD25KO    Gene number: 422\"\n"
     ]
    },
    {
     "name": "stderr",
     "output_type": "stream",
     "text": [
      "'select()' returned 1:many mapping between keys and columns\n",
      "\n",
      "Parsed with column specification:\n",
      "cols(\n",
      "  .default = col_double(),\n",
      "  gene_name = \u001b[31mcol_character()\u001b[39m\n",
      ")\n",
      "\n",
      "See spec(...) for full column specifications.\n",
      "\n",
      "Warning message:\n",
      "“Unknown columns: `gene_names`”\n"
     ]
    },
    {
     "name": "stdout",
     "output_type": "stream",
     "text": [
      "[1] \"9_CD25WT    Gene number: 303\"\n"
     ]
    },
    {
     "name": "stderr",
     "output_type": "stream",
     "text": [
      "'select()' returned 1:many mapping between keys and columns\n",
      "\n",
      "Parsed with column specification:\n",
      "cols(\n",
      "  .default = col_double(),\n",
      "  gene_name = \u001b[31mcol_character()\u001b[39m\n",
      ")\n",
      "\n",
      "See spec(...) for full column specifications.\n",
      "\n",
      "Warning message:\n",
      "“Unknown columns: `gene_names`”\n"
     ]
    },
    {
     "name": "stdout",
     "output_type": "stream",
     "text": [
      "[1] \"9_P14NAV    Gene number: 650\"\n"
     ]
    },
    {
     "name": "stderr",
     "output_type": "stream",
     "text": [
      "'select()' returned 1:many mapping between keys and columns\n",
      "\n",
      "Parsed with column specification:\n",
      "cols(\n",
      "  .default = col_double(),\n",
      "  gene_name = \u001b[31mcol_character()\u001b[39m\n",
      ")\n",
      "\n",
      "See spec(...) for full column specifications.\n",
      "\n",
      "Parsed with column specification:\n",
      "cols(\n",
      "  .default = col_double(),\n",
      "  gene_name = \u001b[31mcol_character()\u001b[39m\n",
      ")\n",
      "\n",
      "See spec(...) for full column specifications.\n",
      "\n",
      "Warning message:\n",
      "“Unknown columns: `gene_names`”\n"
     ]
    },
    {
     "name": "stdout",
     "output_type": "stream",
     "text": [
      "[1] \"0_KO-NAV    Gene number: 409\"\n"
     ]
    },
    {
     "name": "stderr",
     "output_type": "stream",
     "text": [
      "'select()' returned 1:many mapping between keys and columns\n",
      "\n",
      "Parsed with column specification:\n",
      "cols(\n",
      "  .default = col_double(),\n",
      "  gene_name = \u001b[31mcol_character()\u001b[39m\n",
      ")\n",
      "\n",
      "See spec(...) for full column specifications.\n",
      "\n",
      "Warning message:\n",
      "“Unknown columns: `gene_names`”\n"
     ]
    },
    {
     "name": "stdout",
     "output_type": "stream",
     "text": [
      "[1] \"1_KO-NAV    Gene number: 347\"\n"
     ]
    },
    {
     "name": "stderr",
     "output_type": "stream",
     "text": [
      "'select()' returned 1:many mapping between keys and columns\n",
      "\n",
      "Parsed with column specification:\n",
      "cols(\n",
      "  .default = col_double(),\n",
      "  gene_name = \u001b[31mcol_character()\u001b[39m\n",
      ")\n",
      "\n",
      "See spec(...) for full column specifications.\n",
      "\n",
      "Warning message:\n",
      "“Unknown columns: `gene_names`”\n"
     ]
    },
    {
     "name": "stdout",
     "output_type": "stream",
     "text": [
      "[1] \"2_KO-NAV    Gene number: 431\"\n"
     ]
    },
    {
     "name": "stderr",
     "output_type": "stream",
     "text": [
      "'select()' returned 1:many mapping between keys and columns\n",
      "\n",
      "Parsed with column specification:\n",
      "cols(\n",
      "  .default = col_double(),\n",
      "  gene_name = \u001b[31mcol_character()\u001b[39m\n",
      ")\n",
      "\n",
      "See spec(...) for full column specifications.\n",
      "\n",
      "Warning message:\n",
      "“Unknown columns: `gene_names`”\n"
     ]
    },
    {
     "name": "stdout",
     "output_type": "stream",
     "text": [
      "[1] \"3_KO-NAV    Gene number: 299\"\n"
     ]
    },
    {
     "name": "stderr",
     "output_type": "stream",
     "text": [
      "'select()' returned 1:many mapping between keys and columns\n",
      "\n",
      "Parsed with column specification:\n",
      "cols(\n",
      "  .default = col_double(),\n",
      "  gene_name = \u001b[31mcol_character()\u001b[39m\n",
      ")\n",
      "\n",
      "See spec(...) for full column specifications.\n",
      "\n",
      "Warning message:\n",
      "“Unknown columns: `gene_names`”\n"
     ]
    },
    {
     "name": "stdout",
     "output_type": "stream",
     "text": [
      "[1] \"4_KO-NAV    Gene number: 427\"\n"
     ]
    },
    {
     "name": "stderr",
     "output_type": "stream",
     "text": [
      "'select()' returned 1:many mapping between keys and columns\n",
      "\n",
      "Parsed with column specification:\n",
      "cols(\n",
      "  .default = col_double(),\n",
      "  gene_name = \u001b[31mcol_character()\u001b[39m\n",
      ")\n",
      "\n",
      "See spec(...) for full column specifications.\n",
      "\n",
      "Warning message:\n",
      "“Unknown columns: `gene_names`”\n"
     ]
    },
    {
     "name": "stdout",
     "output_type": "stream",
     "text": [
      "[1] \"5_KO-NAV    Gene number: 512\"\n"
     ]
    },
    {
     "name": "stderr",
     "output_type": "stream",
     "text": [
      "'select()' returned 1:many mapping between keys and columns\n",
      "\n",
      "Parsed with column specification:\n",
      "cols(\n",
      "  .default = col_double(),\n",
      "  gene_name = \u001b[31mcol_character()\u001b[39m\n",
      ")\n",
      "\n",
      "See spec(...) for full column specifications.\n",
      "\n",
      "Warning message:\n",
      "“Unknown columns: `gene_names`”\n"
     ]
    },
    {
     "name": "stdout",
     "output_type": "stream",
     "text": [
      "[1] \"6_KO-NAV    Gene number: 517\"\n"
     ]
    },
    {
     "name": "stderr",
     "output_type": "stream",
     "text": [
      "'select()' returned 1:many mapping between keys and columns\n",
      "\n",
      "Parsed with column specification:\n",
      "cols(\n",
      "  .default = col_double(),\n",
      "  gene_name = \u001b[31mcol_character()\u001b[39m\n",
      ")\n",
      "\n",
      "See spec(...) for full column specifications.\n",
      "\n",
      "Warning message:\n",
      "“Unknown columns: `gene_names`”\n"
     ]
    },
    {
     "name": "stdout",
     "output_type": "stream",
     "text": [
      "[1] \"7_KO-NAV    Gene number: 433\"\n"
     ]
    },
    {
     "name": "stderr",
     "output_type": "stream",
     "text": [
      "'select()' returned 1:many mapping between keys and columns\n",
      "\n",
      "Parsed with column specification:\n",
      "cols(\n",
      "  .default = col_double(),\n",
      "  gene_name = \u001b[31mcol_character()\u001b[39m\n",
      ")\n",
      "\n",
      "See spec(...) for full column specifications.\n",
      "\n",
      "Warning message:\n",
      "“Unknown columns: `gene_names`”\n"
     ]
    },
    {
     "name": "stdout",
     "output_type": "stream",
     "text": [
      "[1] \"8_KO-NAV    Gene number: 459\"\n"
     ]
    },
    {
     "name": "stderr",
     "output_type": "stream",
     "text": [
      "'select()' returned 1:many mapping between keys and columns\n",
      "\n",
      "Parsed with column specification:\n",
      "cols(\n",
      "  .default = col_double(),\n",
      "  gene_name = \u001b[31mcol_character()\u001b[39m\n",
      ")\n",
      "\n",
      "See spec(...) for full column specifications.\n",
      "\n",
      "Warning message:\n",
      "“Unknown columns: `gene_names`”\n"
     ]
    },
    {
     "name": "stdout",
     "output_type": "stream",
     "text": [
      "[1] \"9_KO-NAV    Gene number: 410\"\n"
     ]
    },
    {
     "name": "stderr",
     "output_type": "stream",
     "text": [
      "'select()' returned 1:many mapping between keys and columns\n",
      "\n",
      "Parsed with column specification:\n",
      "cols(\n",
      "  .default = col_double(),\n",
      "  gene_name = \u001b[31mcol_character()\u001b[39m\n",
      ")\n",
      "\n",
      "See spec(...) for full column specifications.\n",
      "\n",
      "Warning message:\n",
      "“Unknown columns: `gene_names`”\n"
     ]
    },
    {
     "name": "stdout",
     "output_type": "stream",
     "text": [
      "[1] \"0_WT-NAV    Gene number: 401\"\n"
     ]
    },
    {
     "name": "stderr",
     "output_type": "stream",
     "text": [
      "'select()' returned 1:many mapping between keys and columns\n",
      "\n",
      "Parsed with column specification:\n",
      "cols(\n",
      "  .default = col_double(),\n",
      "  gene_name = \u001b[31mcol_character()\u001b[39m\n",
      ")\n",
      "\n",
      "See spec(...) for full column specifications.\n",
      "\n",
      "Warning message:\n",
      "“Unknown columns: `gene_names`”\n"
     ]
    },
    {
     "name": "stdout",
     "output_type": "stream",
     "text": [
      "[1] \"1_WT-NAV    Gene number: 546\"\n"
     ]
    },
    {
     "name": "stderr",
     "output_type": "stream",
     "text": [
      "'select()' returned 1:many mapping between keys and columns\n",
      "\n",
      "Parsed with column specification:\n",
      "cols(\n",
      "  .default = col_double(),\n",
      "  gene_name = \u001b[31mcol_character()\u001b[39m\n",
      ")\n",
      "\n",
      "See spec(...) for full column specifications.\n",
      "\n",
      "Warning message:\n",
      "“Unknown columns: `gene_names`”\n"
     ]
    },
    {
     "name": "stdout",
     "output_type": "stream",
     "text": [
      "[1] \"2_WT-NAV    Gene number: 423\"\n"
     ]
    },
    {
     "name": "stderr",
     "output_type": "stream",
     "text": [
      "'select()' returned 1:many mapping between keys and columns\n",
      "\n",
      "Parsed with column specification:\n",
      "cols(\n",
      "  .default = col_double(),\n",
      "  gene_name = \u001b[31mcol_character()\u001b[39m\n",
      ")\n",
      "\n",
      "See spec(...) for full column specifications.\n",
      "\n",
      "Warning message:\n",
      "“Unknown columns: `gene_names`”\n"
     ]
    },
    {
     "name": "stdout",
     "output_type": "stream",
     "text": [
      "[1] \"3_WT-NAV    Gene number: 240\"\n"
     ]
    },
    {
     "name": "stderr",
     "output_type": "stream",
     "text": [
      "'select()' returned 1:many mapping between keys and columns\n",
      "\n",
      "Parsed with column specification:\n",
      "cols(\n",
      "  .default = col_double(),\n",
      "  gene_name = \u001b[31mcol_character()\u001b[39m\n",
      ")\n",
      "\n",
      "See spec(...) for full column specifications.\n",
      "\n",
      "Warning message:\n",
      "“Unknown columns: `gene_names`”\n"
     ]
    },
    {
     "name": "stdout",
     "output_type": "stream",
     "text": [
      "[1] \"4_WT-NAV    Gene number: 381\"\n"
     ]
    },
    {
     "name": "stderr",
     "output_type": "stream",
     "text": [
      "'select()' returned 1:many mapping between keys and columns\n",
      "\n",
      "Parsed with column specification:\n",
      "cols(\n",
      "  .default = col_double(),\n",
      "  gene_name = \u001b[31mcol_character()\u001b[39m\n",
      ")\n",
      "\n",
      "See spec(...) for full column specifications.\n",
      "\n",
      "Warning message:\n",
      "“Unknown columns: `gene_names`”\n"
     ]
    },
    {
     "name": "stdout",
     "output_type": "stream",
     "text": [
      "[1] \"5_WT-NAV    Gene number: 511\"\n"
     ]
    },
    {
     "name": "stderr",
     "output_type": "stream",
     "text": [
      "'select()' returned 1:many mapping between keys and columns\n",
      "\n",
      "Parsed with column specification:\n",
      "cols(\n",
      "  .default = col_double(),\n",
      "  gene_name = \u001b[31mcol_character()\u001b[39m\n",
      ")\n",
      "\n",
      "See spec(...) for full column specifications.\n",
      "\n",
      "Warning message:\n",
      "“Unknown columns: `gene_names`”\n"
     ]
    },
    {
     "name": "stdout",
     "output_type": "stream",
     "text": [
      "[1] \"6_WT-NAV    Gene number: 563\"\n"
     ]
    },
    {
     "name": "stderr",
     "output_type": "stream",
     "text": [
      "'select()' returned 1:many mapping between keys and columns\n",
      "\n",
      "Parsed with column specification:\n",
      "cols(\n",
      "  .default = col_double(),\n",
      "  gene_name = \u001b[31mcol_character()\u001b[39m\n",
      ")\n",
      "\n",
      "See spec(...) for full column specifications.\n",
      "\n",
      "Warning message:\n",
      "“Unknown columns: `gene_names`”\n"
     ]
    },
    {
     "name": "stdout",
     "output_type": "stream",
     "text": [
      "[1] \"7_WT-NAV    Gene number: 384\"\n"
     ]
    },
    {
     "name": "stderr",
     "output_type": "stream",
     "text": [
      "'select()' returned 1:many mapping between keys and columns\n",
      "\n",
      "Parsed with column specification:\n",
      "cols(\n",
      "  .default = col_double(),\n",
      "  gene_name = \u001b[31mcol_character()\u001b[39m\n",
      ")\n",
      "\n",
      "See spec(...) for full column specifications.\n",
      "\n",
      "Warning message:\n",
      "“Unknown columns: `gene_names`”\n"
     ]
    },
    {
     "name": "stdout",
     "output_type": "stream",
     "text": [
      "[1] \"8_WT-NAV    Gene number: 542\"\n"
     ]
    },
    {
     "name": "stderr",
     "output_type": "stream",
     "text": [
      "'select()' returned 1:many mapping between keys and columns\n",
      "\n",
      "Parsed with column specification:\n",
      "cols(\n",
      "  .default = col_double(),\n",
      "  gene_name = \u001b[31mcol_character()\u001b[39m\n",
      ")\n",
      "\n",
      "See spec(...) for full column specifications.\n",
      "\n",
      "Warning message:\n",
      "“Unknown columns: `gene_names`”\n"
     ]
    },
    {
     "name": "stdout",
     "output_type": "stream",
     "text": [
      "[1] \"9_WT-NAV    Gene number: 343\"\n"
     ]
    },
    {
     "name": "stderr",
     "output_type": "stream",
     "text": [
      "'select()' returned 1:many mapping between keys and columns\n",
      "\n"
     ]
    },
    {
     "ename": "ERROR",
     "evalue": "Error: '/media/pipkin/ROCKET-PRO/CD8_DEV_SC/1_IL2RAKO/1_SCANPY/0-all_Scanpy_out/1_avg_expr/louvain_celltype_general_mean_scaled_expr_z.csv' does not exist.\n",
     "output_type": "error",
     "traceback": [
      "Error: '/media/pipkin/ROCKET-PRO/CD8_DEV_SC/1_IL2RAKO/1_SCANPY/0-all_Scanpy_out/1_avg_expr/louvain_celltype_general_mean_scaled_expr_z.csv' does not exist.\nTraceback:\n",
      "1. read_csv(z.file)",
      "2. read_delimited(file, tokenizer, col_names = col_names, col_types = col_types, \n .     locale = locale, skip = skip, skip_empty_rows = skip_empty_rows, \n .     comment = comment, n_max = n_max, guess_max = guess_max, \n .     progress = progress)",
      "3. standardise_path(file)",
      "4. check_path(path)",
      "5. stop(\"'\", path, \"' does not exist\", if (!is_absolute_path(path)) paste0(\" in current working directory ('\", \n .     getwd(), \"')\"), \".\", call. = FALSE)"
     ]
    }
   ],
   "source": [
    "z.use.keys <- c('louvain', 'cell_type', 'louvain_celltype', 'louvain_celltype_general_withNAV',\n",
    "               'louvain_celltype_general')  \n",
    "\n",
    "#####---------- For each classification method\n",
    "for (z.use.key in z.use.keys) {\n",
    "    z.file.name <- paste(z.use.key, 'mean_scaled_expr_z.csv', sep=\"_\")\n",
    "    z.file <- file.path(base_dir, '1_SCANPY', analysis_subdir, \"1_avg_expr\", z.file.name)\n",
    "    z.tb <- read_csv(z.file)\n",
    "    \n",
    "    #####---------- For each signature collection, calculate GSEA & summarize\n",
    "    wk.dir <- file.path(sum.dir, z.use.key)\n",
    "    dir.create(wk.dir, showWarnings = FALSE, recursive=TRUE)\n",
    "    setwd(wk.dir)\n",
    "\n",
    "    ###----- Run GO\n",
    "    for (i in tail(colnames(z.tb), -1)){\n",
    "        useGroup <- i\n",
    "        outName <- i\n",
    "        GO <- tryCatch({\n",
    "                GO_run(z.file, useGroup, outName, 1, TRUE)\n",
    "            }, error=function(cond) {\n",
    "                message(paste(z.use.key, i, sep='; '))\n",
    "            })\n",
    "    }\n",
    "\n",
    "}"
   ]
  },
  {
   "cell_type": "code",
   "execution_count": null,
   "metadata": {},
   "outputs": [],
   "source": []
  }
 ],
 "metadata": {
  "kernelspec": {
   "display_name": "R",
   "language": "R",
   "name": "ir"
  },
  "language_info": {
   "codemirror_mode": "r",
   "file_extension": ".r",
   "mimetype": "text/x-r-source",
   "name": "R",
   "pygments_lexer": "r",
   "version": "3.6.3"
  }
 },
 "nbformat": 4,
 "nbformat_minor": 4
}
