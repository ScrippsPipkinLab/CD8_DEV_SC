{
 "cells": [
  {
   "cell_type": "code",
   "execution_count": 2,
   "metadata": {},
   "outputs": [
    {
     "data": {
      "text/html": [
       "'/media/pipkin/ROCKET-PRO/CD8_DEV_SC/1_IL2RAKO'"
      ],
      "text/latex": [
       "'/media/pipkin/ROCKET-PRO/CD8\\_DEV\\_SC/1\\_IL2RAKO'"
      ],
      "text/markdown": [
       "'/media/pipkin/ROCKET-PRO/CD8_DEV_SC/1_IL2RAKO'"
      ],
      "text/plain": [
       "[1] \"/media/pipkin/ROCKET-PRO/CD8_DEV_SC/1_IL2RAKO\""
      ]
     },
     "metadata": {},
     "output_type": "display_data"
    }
   ],
   "source": [
    "##########----- Reused code -----##########\n",
    "# Last update: Sept 13, 2020\n",
    "# By: Huitian Diao\n",
    "###########################################\n",
    "\n",
    "library(stringr)\n",
    "\n",
    "code_dir <- getwd()\n",
    "tool_dir <- unlist(strsplit(code_dir,\"/\"))\n",
    "tool_dir <- head(tool_dir, length(tool_dir)-2)\n",
    "tool_dir <- paste(c(tool_dir, \"tools\"), collapse=\"/\")\n",
    "source(file.path(tool_dir, \"function_GSEA.R\"))\n",
    "base_dir <- gsub(\"/codes_local\", \"\", code_dir)\n",
    "base_dir"
   ]
  },
  {
   "cell_type": "markdown",
   "metadata": {},
   "source": [
    "## 1. GSEA analysis for each set of comparison"
   ]
  },
  {
   "cell_type": "code",
   "execution_count": 3,
   "metadata": {
    "scrolled": true
   },
   "outputs": [],
   "source": [
    "##########----- Parameters-----##########\n",
    "analysis_name <- c(\"0\", \"all\")\n",
    "genome <- \"mm\"\n",
    "#########################################\n",
    "analysis_subdir <- paste(paste(analysis_name[1], analysis_name[2], sep=\"-\"), \"Scanpy_out\", sep=\"_\")\n",
    "sum.dir <- file.path(base_dir, '1_Scanpy', analysis_subdir, \"4_DE_GO\")\n",
    "dir.create(sum.dir, showWarnings = FALSE, recursive=TRUE)\n",
    "setwd(sum.dir)\n",
    "\n",
    "###----- Find all de files\n",
    "de.out.dir <- file.path(base_dir, '1_Scanpy', analysis_subdir, \"2_DE\")\n",
    "de.files <- list.files(de.out.dir, pattern=\"*differential.csv\", full.names=TRUE,recursive=TRUE)\n",
    "\n",
    "use.cols <- c(\"gene_names\", \"t-test_overestim_var_logfc\", \"t-test_overestim_var_padj\")"
   ]
  },
  {
   "cell_type": "code",
   "execution_count": null,
   "metadata": {
    "scrolled": true
   },
   "outputs": [
    {
     "name": "stderr",
     "output_type": "stream",
     "text": [
      "Parsed with column specification:\n",
      "cols(\n",
      "  gene_names = \u001b[31mcol_character()\u001b[39m,\n",
      "  `0` = \u001b[32mcol_double()\u001b[39m,\n",
      "  `1` = \u001b[32mcol_double()\u001b[39m,\n",
      "  wilcoxon_logfc = \u001b[32mcol_double()\u001b[39m,\n",
      "  wilcoxon_padj = \u001b[32mcol_double()\u001b[39m,\n",
      "  wilcoxon_score = \u001b[32mcol_double()\u001b[39m,\n",
      "  `t-test_logfc` = \u001b[32mcol_double()\u001b[39m,\n",
      "  `t-test_padj` = \u001b[32mcol_double()\u001b[39m,\n",
      "  `t-test_score` = \u001b[32mcol_double()\u001b[39m,\n",
      "  `t-test_overestim_var_logfc` = \u001b[32mcol_double()\u001b[39m,\n",
      "  `t-test_overestim_var_padj` = \u001b[32mcol_double()\u001b[39m,\n",
      "  `t-test_overestim_var_score` = \u001b[32mcol_double()\u001b[39m\n",
      ")\n",
      "\n",
      "Warning message:\n",
      "“Unknown columns: `gene_name`”\n"
     ]
    },
    {
     "name": "stdout",
     "output_type": "stream",
     "text": [
      "[1] \"0_vs_1    Gene number: 1962\"\n"
     ]
    },
    {
     "name": "stderr",
     "output_type": "stream",
     "text": [
      "'select()' returned 1:many mapping between keys and columns\n",
      "\n",
      "Parsed with column specification:\n",
      "cols(\n",
      "  gene_names = \u001b[31mcol_character()\u001b[39m,\n",
      "  `0` = \u001b[32mcol_double()\u001b[39m,\n",
      "  `2` = \u001b[32mcol_double()\u001b[39m,\n",
      "  wilcoxon_logfc = \u001b[32mcol_double()\u001b[39m,\n",
      "  wilcoxon_padj = \u001b[32mcol_double()\u001b[39m,\n",
      "  wilcoxon_score = \u001b[32mcol_double()\u001b[39m,\n",
      "  `t-test_logfc` = \u001b[32mcol_double()\u001b[39m,\n",
      "  `t-test_padj` = \u001b[32mcol_double()\u001b[39m,\n",
      "  `t-test_score` = \u001b[32mcol_double()\u001b[39m,\n",
      "  `t-test_overestim_var_logfc` = \u001b[32mcol_double()\u001b[39m,\n",
      "  `t-test_overestim_var_padj` = \u001b[32mcol_double()\u001b[39m,\n",
      "  `t-test_overestim_var_score` = \u001b[32mcol_double()\u001b[39m\n",
      ")\n",
      "\n",
      "Warning message:\n",
      "“Unknown columns: `gene_name`”\n"
     ]
    },
    {
     "name": "stdout",
     "output_type": "stream",
     "text": [
      "[1] \"0_vs_2    Gene number: 1874\"\n"
     ]
    },
    {
     "name": "stderr",
     "output_type": "stream",
     "text": [
      "'select()' returned 1:many mapping between keys and columns\n",
      "\n",
      "Parsed with column specification:\n",
      "cols(\n",
      "  gene_names = \u001b[31mcol_character()\u001b[39m,\n",
      "  `0` = \u001b[32mcol_double()\u001b[39m,\n",
      "  `3` = \u001b[32mcol_double()\u001b[39m,\n",
      "  wilcoxon_logfc = \u001b[32mcol_double()\u001b[39m,\n",
      "  wilcoxon_padj = \u001b[32mcol_double()\u001b[39m,\n",
      "  wilcoxon_score = \u001b[32mcol_double()\u001b[39m,\n",
      "  `t-test_logfc` = \u001b[32mcol_double()\u001b[39m,\n",
      "  `t-test_padj` = \u001b[32mcol_double()\u001b[39m,\n",
      "  `t-test_score` = \u001b[32mcol_double()\u001b[39m,\n",
      "  `t-test_overestim_var_logfc` = \u001b[32mcol_double()\u001b[39m,\n",
      "  `t-test_overestim_var_padj` = \u001b[32mcol_double()\u001b[39m,\n",
      "  `t-test_overestim_var_score` = \u001b[32mcol_double()\u001b[39m\n",
      ")\n",
      "\n",
      "Warning message:\n",
      "“Unknown columns: `gene_name`”\n"
     ]
    },
    {
     "name": "stdout",
     "output_type": "stream",
     "text": [
      "[1] \"0_vs_3    Gene number: 1834\"\n"
     ]
    },
    {
     "name": "stderr",
     "output_type": "stream",
     "text": [
      "'select()' returned 1:many mapping between keys and columns\n",
      "\n",
      "Parsed with column specification:\n",
      "cols(\n",
      "  gene_names = \u001b[31mcol_character()\u001b[39m,\n",
      "  `0` = \u001b[32mcol_double()\u001b[39m,\n",
      "  `4` = \u001b[32mcol_double()\u001b[39m,\n",
      "  wilcoxon_logfc = \u001b[32mcol_double()\u001b[39m,\n",
      "  wilcoxon_padj = \u001b[32mcol_double()\u001b[39m,\n",
      "  wilcoxon_score = \u001b[32mcol_double()\u001b[39m,\n",
      "  `t-test_logfc` = \u001b[32mcol_double()\u001b[39m,\n",
      "  `t-test_padj` = \u001b[32mcol_double()\u001b[39m,\n",
      "  `t-test_score` = \u001b[32mcol_double()\u001b[39m,\n",
      "  `t-test_overestim_var_logfc` = \u001b[32mcol_double()\u001b[39m,\n",
      "  `t-test_overestim_var_padj` = \u001b[32mcol_double()\u001b[39m,\n",
      "  `t-test_overestim_var_score` = \u001b[32mcol_double()\u001b[39m\n",
      ")\n",
      "\n",
      "Warning message:\n",
      "“Unknown columns: `gene_name`”\n"
     ]
    },
    {
     "name": "stdout",
     "output_type": "stream",
     "text": [
      "[1] \"0_vs_4    Gene number: 1652\"\n"
     ]
    },
    {
     "name": "stderr",
     "output_type": "stream",
     "text": [
      "'select()' returned 1:many mapping between keys and columns\n",
      "\n",
      "Parsed with column specification:\n",
      "cols(\n",
      "  gene_names = \u001b[31mcol_character()\u001b[39m,\n",
      "  `0` = \u001b[32mcol_double()\u001b[39m,\n",
      "  `5` = \u001b[32mcol_double()\u001b[39m,\n",
      "  wilcoxon_logfc = \u001b[32mcol_double()\u001b[39m,\n",
      "  wilcoxon_padj = \u001b[32mcol_double()\u001b[39m,\n",
      "  wilcoxon_score = \u001b[32mcol_double()\u001b[39m,\n",
      "  `t-test_logfc` = \u001b[32mcol_double()\u001b[39m,\n",
      "  `t-test_padj` = \u001b[32mcol_double()\u001b[39m,\n",
      "  `t-test_score` = \u001b[32mcol_double()\u001b[39m,\n",
      "  `t-test_overestim_var_logfc` = \u001b[32mcol_double()\u001b[39m,\n",
      "  `t-test_overestim_var_padj` = \u001b[32mcol_double()\u001b[39m,\n",
      "  `t-test_overestim_var_score` = \u001b[32mcol_double()\u001b[39m\n",
      ")\n",
      "\n",
      "Warning message:\n",
      "“Unknown columns: `gene_name`”\n"
     ]
    },
    {
     "name": "stdout",
     "output_type": "stream",
     "text": [
      "[1] \"0_vs_5    Gene number: 1730\"\n"
     ]
    },
    {
     "name": "stderr",
     "output_type": "stream",
     "text": [
      "'select()' returned 1:many mapping between keys and columns\n",
      "\n",
      "Parsed with column specification:\n",
      "cols(\n",
      "  gene_names = \u001b[31mcol_character()\u001b[39m,\n",
      "  `0` = \u001b[32mcol_double()\u001b[39m,\n",
      "  `6` = \u001b[32mcol_double()\u001b[39m,\n",
      "  wilcoxon_logfc = \u001b[32mcol_double()\u001b[39m,\n",
      "  wilcoxon_padj = \u001b[32mcol_double()\u001b[39m,\n",
      "  wilcoxon_score = \u001b[32mcol_double()\u001b[39m,\n",
      "  `t-test_logfc` = \u001b[32mcol_double()\u001b[39m,\n",
      "  `t-test_padj` = \u001b[32mcol_double()\u001b[39m,\n",
      "  `t-test_score` = \u001b[32mcol_double()\u001b[39m,\n",
      "  `t-test_overestim_var_logfc` = \u001b[32mcol_double()\u001b[39m,\n",
      "  `t-test_overestim_var_padj` = \u001b[32mcol_double()\u001b[39m,\n",
      "  `t-test_overestim_var_score` = \u001b[32mcol_double()\u001b[39m\n",
      ")\n",
      "\n",
      "Warning message:\n",
      "“Unknown columns: `gene_name`”\n"
     ]
    },
    {
     "name": "stdout",
     "output_type": "stream",
     "text": [
      "[1] \"0_vs_6    Gene number: 2181\"\n"
     ]
    },
    {
     "name": "stderr",
     "output_type": "stream",
     "text": [
      "'select()' returned 1:many mapping between keys and columns\n",
      "\n",
      "Parsed with column specification:\n",
      "cols(\n",
      "  gene_names = \u001b[31mcol_character()\u001b[39m,\n",
      "  `0` = \u001b[32mcol_double()\u001b[39m,\n",
      "  `7` = \u001b[32mcol_double()\u001b[39m,\n",
      "  wilcoxon_logfc = \u001b[32mcol_double()\u001b[39m,\n",
      "  wilcoxon_padj = \u001b[32mcol_double()\u001b[39m,\n",
      "  wilcoxon_score = \u001b[32mcol_double()\u001b[39m,\n",
      "  `t-test_logfc` = \u001b[32mcol_double()\u001b[39m,\n",
      "  `t-test_padj` = \u001b[32mcol_double()\u001b[39m,\n",
      "  `t-test_score` = \u001b[32mcol_double()\u001b[39m,\n",
      "  `t-test_overestim_var_logfc` = \u001b[32mcol_double()\u001b[39m,\n",
      "  `t-test_overestim_var_padj` = \u001b[32mcol_double()\u001b[39m,\n",
      "  `t-test_overestim_var_score` = \u001b[32mcol_double()\u001b[39m\n",
      ")\n",
      "\n",
      "Warning message:\n",
      "“Unknown columns: `gene_name`”\n"
     ]
    },
    {
     "name": "stdout",
     "output_type": "stream",
     "text": [
      "[1] \"0_vs_7    Gene number: 2543\"\n"
     ]
    },
    {
     "name": "stderr",
     "output_type": "stream",
     "text": [
      "'select()' returned 1:many mapping between keys and columns\n",
      "\n",
      "Parsed with column specification:\n",
      "cols(\n",
      "  gene_names = \u001b[31mcol_character()\u001b[39m,\n",
      "  `0` = \u001b[32mcol_double()\u001b[39m,\n",
      "  `8` = \u001b[32mcol_double()\u001b[39m,\n",
      "  wilcoxon_logfc = \u001b[32mcol_double()\u001b[39m,\n",
      "  wilcoxon_padj = \u001b[32mcol_double()\u001b[39m,\n",
      "  wilcoxon_score = \u001b[32mcol_double()\u001b[39m,\n",
      "  `t-test_logfc` = \u001b[32mcol_double()\u001b[39m,\n",
      "  `t-test_padj` = \u001b[32mcol_double()\u001b[39m,\n",
      "  `t-test_score` = \u001b[32mcol_double()\u001b[39m,\n",
      "  `t-test_overestim_var_logfc` = \u001b[32mcol_double()\u001b[39m,\n",
      "  `t-test_overestim_var_padj` = \u001b[32mcol_double()\u001b[39m,\n",
      "  `t-test_overestim_var_score` = \u001b[32mcol_double()\u001b[39m\n",
      ")\n",
      "\n",
      "Warning message:\n",
      "“Unknown columns: `gene_name`”\n"
     ]
    },
    {
     "name": "stdout",
     "output_type": "stream",
     "text": [
      "[1] \"0_vs_8    Gene number: 1830\"\n"
     ]
    },
    {
     "name": "stderr",
     "output_type": "stream",
     "text": [
      "'select()' returned 1:many mapping between keys and columns\n",
      "\n",
      "Parsed with column specification:\n",
      "cols(\n",
      "  gene_names = \u001b[31mcol_character()\u001b[39m,\n",
      "  `0` = \u001b[32mcol_double()\u001b[39m,\n",
      "  `9` = \u001b[32mcol_double()\u001b[39m,\n",
      "  wilcoxon_logfc = \u001b[32mcol_double()\u001b[39m,\n",
      "  wilcoxon_padj = \u001b[32mcol_double()\u001b[39m,\n",
      "  wilcoxon_score = \u001b[32mcol_double()\u001b[39m,\n",
      "  `t-test_logfc` = \u001b[32mcol_double()\u001b[39m,\n",
      "  `t-test_padj` = \u001b[32mcol_double()\u001b[39m,\n",
      "  `t-test_score` = \u001b[32mcol_double()\u001b[39m,\n",
      "  `t-test_overestim_var_logfc` = \u001b[32mcol_double()\u001b[39m,\n",
      "  `t-test_overestim_var_padj` = \u001b[32mcol_double()\u001b[39m,\n",
      "  `t-test_overestim_var_score` = \u001b[32mcol_double()\u001b[39m\n",
      ")\n",
      "\n",
      "Warning message:\n",
      "“Unknown columns: `gene_name`”\n"
     ]
    },
    {
     "name": "stdout",
     "output_type": "stream",
     "text": [
      "[1] \"0_vs_9    Gene number: 1520\"\n"
     ]
    },
    {
     "name": "stderr",
     "output_type": "stream",
     "text": [
      "'select()' returned 1:many mapping between keys and columns\n",
      "\n",
      "Parsed with column specification:\n",
      "cols(\n",
      "  gene_names = \u001b[31mcol_character()\u001b[39m,\n",
      "  `0` = \u001b[32mcol_double()\u001b[39m,\n",
      "  `1` = \u001b[32mcol_double()\u001b[39m,\n",
      "  wilcoxon_logfc = \u001b[32mcol_double()\u001b[39m,\n",
      "  wilcoxon_padj = \u001b[32mcol_double()\u001b[39m,\n",
      "  wilcoxon_score = \u001b[32mcol_double()\u001b[39m,\n",
      "  `t-test_logfc` = \u001b[32mcol_double()\u001b[39m,\n",
      "  `t-test_padj` = \u001b[32mcol_double()\u001b[39m,\n",
      "  `t-test_score` = \u001b[32mcol_double()\u001b[39m,\n",
      "  `t-test_overestim_var_logfc` = \u001b[32mcol_double()\u001b[39m,\n",
      "  `t-test_overestim_var_padj` = \u001b[32mcol_double()\u001b[39m,\n",
      "  `t-test_overestim_var_score` = \u001b[32mcol_double()\u001b[39m\n",
      ")\n",
      "\n",
      "Warning message:\n",
      "“Unknown columns: `gene_name`”\n"
     ]
    },
    {
     "name": "stdout",
     "output_type": "stream",
     "text": [
      "[1] \"1_vs_0    Gene number: 989\"\n"
     ]
    },
    {
     "name": "stderr",
     "output_type": "stream",
     "text": [
      "'select()' returned 1:many mapping between keys and columns\n",
      "\n",
      "Parsed with column specification:\n",
      "cols(\n",
      "  gene_names = \u001b[31mcol_character()\u001b[39m,\n",
      "  `1` = \u001b[32mcol_double()\u001b[39m,\n",
      "  `2` = \u001b[32mcol_double()\u001b[39m,\n",
      "  wilcoxon_logfc = \u001b[32mcol_double()\u001b[39m,\n",
      "  wilcoxon_padj = \u001b[32mcol_double()\u001b[39m,\n",
      "  wilcoxon_score = \u001b[32mcol_double()\u001b[39m,\n",
      "  `t-test_logfc` = \u001b[32mcol_double()\u001b[39m,\n",
      "  `t-test_padj` = \u001b[32mcol_double()\u001b[39m,\n",
      "  `t-test_score` = \u001b[32mcol_double()\u001b[39m,\n",
      "  `t-test_overestim_var_logfc` = \u001b[32mcol_double()\u001b[39m,\n",
      "  `t-test_overestim_var_padj` = \u001b[32mcol_double()\u001b[39m,\n",
      "  `t-test_overestim_var_score` = \u001b[32mcol_double()\u001b[39m\n",
      ")\n",
      "\n",
      "Warning message:\n",
      "“Unknown columns: `gene_name`”\n"
     ]
    },
    {
     "name": "stdout",
     "output_type": "stream",
     "text": [
      "[1] \"1_vs_2    Gene number: 1480\"\n"
     ]
    },
    {
     "name": "stderr",
     "output_type": "stream",
     "text": [
      "'select()' returned 1:many mapping between keys and columns\n",
      "\n",
      "Parsed with column specification:\n",
      "cols(\n",
      "  gene_names = \u001b[31mcol_character()\u001b[39m,\n",
      "  `1` = \u001b[32mcol_double()\u001b[39m,\n",
      "  `3` = \u001b[32mcol_double()\u001b[39m,\n",
      "  wilcoxon_logfc = \u001b[32mcol_double()\u001b[39m,\n",
      "  wilcoxon_padj = \u001b[32mcol_double()\u001b[39m,\n",
      "  wilcoxon_score = \u001b[32mcol_double()\u001b[39m,\n",
      "  `t-test_logfc` = \u001b[32mcol_double()\u001b[39m,\n",
      "  `t-test_padj` = \u001b[32mcol_double()\u001b[39m,\n",
      "  `t-test_score` = \u001b[32mcol_double()\u001b[39m,\n",
      "  `t-test_overestim_var_logfc` = \u001b[32mcol_double()\u001b[39m,\n",
      "  `t-test_overestim_var_padj` = \u001b[32mcol_double()\u001b[39m,\n",
      "  `t-test_overestim_var_score` = \u001b[32mcol_double()\u001b[39m\n",
      ")\n",
      "\n",
      "Warning message:\n",
      "“Unknown columns: `gene_name`”\n"
     ]
    },
    {
     "name": "stdout",
     "output_type": "stream",
     "text": [
      "[1] \"1_vs_3    Gene number: 1561\"\n"
     ]
    },
    {
     "name": "stderr",
     "output_type": "stream",
     "text": [
      "'select()' returned 1:many mapping between keys and columns\n",
      "\n",
      "Parsed with column specification:\n",
      "cols(\n",
      "  gene_names = \u001b[31mcol_character()\u001b[39m,\n",
      "  `1` = \u001b[32mcol_double()\u001b[39m,\n",
      "  `4` = \u001b[32mcol_double()\u001b[39m,\n",
      "  wilcoxon_logfc = \u001b[32mcol_double()\u001b[39m,\n",
      "  wilcoxon_padj = \u001b[32mcol_double()\u001b[39m,\n",
      "  wilcoxon_score = \u001b[32mcol_double()\u001b[39m,\n",
      "  `t-test_logfc` = \u001b[32mcol_double()\u001b[39m,\n",
      "  `t-test_padj` = \u001b[32mcol_double()\u001b[39m,\n",
      "  `t-test_score` = \u001b[32mcol_double()\u001b[39m,\n",
      "  `t-test_overestim_var_logfc` = \u001b[32mcol_double()\u001b[39m,\n",
      "  `t-test_overestim_var_padj` = \u001b[32mcol_double()\u001b[39m,\n",
      "  `t-test_overestim_var_score` = \u001b[32mcol_double()\u001b[39m\n",
      ")\n",
      "\n",
      "Warning message:\n",
      "“Unknown columns: `gene_name`”\n"
     ]
    },
    {
     "name": "stdout",
     "output_type": "stream",
     "text": [
      "[1] \"1_vs_4    Gene number: 1368\"\n"
     ]
    },
    {
     "name": "stderr",
     "output_type": "stream",
     "text": [
      "'select()' returned 1:many mapping between keys and columns\n",
      "\n",
      "Parsed with column specification:\n",
      "cols(\n",
      "  gene_names = \u001b[31mcol_character()\u001b[39m,\n",
      "  `1` = \u001b[32mcol_double()\u001b[39m,\n",
      "  `5` = \u001b[32mcol_double()\u001b[39m,\n",
      "  wilcoxon_logfc = \u001b[32mcol_double()\u001b[39m,\n",
      "  wilcoxon_padj = \u001b[32mcol_double()\u001b[39m,\n",
      "  wilcoxon_score = \u001b[32mcol_double()\u001b[39m,\n",
      "  `t-test_logfc` = \u001b[32mcol_double()\u001b[39m,\n",
      "  `t-test_padj` = \u001b[32mcol_double()\u001b[39m,\n",
      "  `t-test_score` = \u001b[32mcol_double()\u001b[39m,\n",
      "  `t-test_overestim_var_logfc` = \u001b[32mcol_double()\u001b[39m,\n",
      "  `t-test_overestim_var_padj` = \u001b[32mcol_double()\u001b[39m,\n",
      "  `t-test_overestim_var_score` = \u001b[32mcol_double()\u001b[39m\n",
      ")\n",
      "\n",
      "Warning message:\n",
      "“Unknown columns: `gene_name`”\n"
     ]
    },
    {
     "name": "stdout",
     "output_type": "stream",
     "text": [
      "[1] \"1_vs_5    Gene number: 1365\"\n"
     ]
    },
    {
     "name": "stderr",
     "output_type": "stream",
     "text": [
      "'select()' returned 1:many mapping between keys and columns\n",
      "\n",
      "Parsed with column specification:\n",
      "cols(\n",
      "  gene_names = \u001b[31mcol_character()\u001b[39m,\n",
      "  `1` = \u001b[32mcol_double()\u001b[39m,\n",
      "  `6` = \u001b[32mcol_double()\u001b[39m,\n",
      "  wilcoxon_logfc = \u001b[32mcol_double()\u001b[39m,\n",
      "  wilcoxon_padj = \u001b[32mcol_double()\u001b[39m,\n",
      "  wilcoxon_score = \u001b[32mcol_double()\u001b[39m,\n",
      "  `t-test_logfc` = \u001b[32mcol_double()\u001b[39m,\n",
      "  `t-test_padj` = \u001b[32mcol_double()\u001b[39m,\n",
      "  `t-test_score` = \u001b[32mcol_double()\u001b[39m,\n",
      "  `t-test_overestim_var_logfc` = \u001b[32mcol_double()\u001b[39m,\n",
      "  `t-test_overestim_var_padj` = \u001b[32mcol_double()\u001b[39m,\n",
      "  `t-test_overestim_var_score` = \u001b[32mcol_double()\u001b[39m\n",
      ")\n",
      "\n",
      "Warning message:\n",
      "“Unknown columns: `gene_name`”\n"
     ]
    },
    {
     "name": "stdout",
     "output_type": "stream",
     "text": [
      "[1] \"1_vs_6    Gene number: 1670\"\n"
     ]
    },
    {
     "name": "stderr",
     "output_type": "stream",
     "text": [
      "'select()' returned 1:many mapping between keys and columns\n",
      "\n",
      "Parsed with column specification:\n",
      "cols(\n",
      "  gene_names = \u001b[31mcol_character()\u001b[39m,\n",
      "  `1` = \u001b[32mcol_double()\u001b[39m,\n",
      "  `7` = \u001b[32mcol_double()\u001b[39m,\n",
      "  wilcoxon_logfc = \u001b[32mcol_double()\u001b[39m,\n",
      "  wilcoxon_padj = \u001b[32mcol_double()\u001b[39m,\n",
      "  wilcoxon_score = \u001b[32mcol_double()\u001b[39m,\n",
      "  `t-test_logfc` = \u001b[32mcol_double()\u001b[39m,\n",
      "  `t-test_padj` = \u001b[32mcol_double()\u001b[39m,\n",
      "  `t-test_score` = \u001b[32mcol_double()\u001b[39m,\n",
      "  `t-test_overestim_var_logfc` = \u001b[32mcol_double()\u001b[39m,\n",
      "  `t-test_overestim_var_padj` = \u001b[32mcol_double()\u001b[39m,\n",
      "  `t-test_overestim_var_score` = \u001b[32mcol_double()\u001b[39m\n",
      ")\n",
      "\n",
      "Warning message:\n",
      "“Unknown columns: `gene_name`”\n"
     ]
    },
    {
     "name": "stdout",
     "output_type": "stream",
     "text": [
      "[1] \"1_vs_7    Gene number: 2108\"\n"
     ]
    },
    {
     "name": "stderr",
     "output_type": "stream",
     "text": [
      "'select()' returned 1:many mapping between keys and columns\n",
      "\n",
      "Parsed with column specification:\n",
      "cols(\n",
      "  gene_names = \u001b[31mcol_character()\u001b[39m,\n",
      "  `1` = \u001b[32mcol_double()\u001b[39m,\n",
      "  `8` = \u001b[32mcol_double()\u001b[39m,\n",
      "  wilcoxon_logfc = \u001b[32mcol_double()\u001b[39m,\n",
      "  wilcoxon_padj = \u001b[32mcol_double()\u001b[39m,\n",
      "  wilcoxon_score = \u001b[32mcol_double()\u001b[39m,\n",
      "  `t-test_logfc` = \u001b[32mcol_double()\u001b[39m,\n",
      "  `t-test_padj` = \u001b[32mcol_double()\u001b[39m,\n",
      "  `t-test_score` = \u001b[32mcol_double()\u001b[39m,\n",
      "  `t-test_overestim_var_logfc` = \u001b[32mcol_double()\u001b[39m,\n",
      "  `t-test_overestim_var_padj` = \u001b[32mcol_double()\u001b[39m,\n",
      "  `t-test_overestim_var_score` = \u001b[32mcol_double()\u001b[39m\n",
      ")\n",
      "\n",
      "Warning message:\n",
      "“Unknown columns: `gene_name`”\n"
     ]
    },
    {
     "name": "stdout",
     "output_type": "stream",
     "text": [
      "[1] \"1_vs_8    Gene number: 1393\"\n"
     ]
    },
    {
     "name": "stderr",
     "output_type": "stream",
     "text": [
      "'select()' returned 1:many mapping between keys and columns\n",
      "\n",
      "Parsed with column specification:\n",
      "cols(\n",
      "  gene_names = \u001b[31mcol_character()\u001b[39m,\n",
      "  `1` = \u001b[32mcol_double()\u001b[39m,\n",
      "  `9` = \u001b[32mcol_double()\u001b[39m,\n",
      "  wilcoxon_logfc = \u001b[32mcol_double()\u001b[39m,\n",
      "  wilcoxon_padj = \u001b[32mcol_double()\u001b[39m,\n",
      "  wilcoxon_score = \u001b[32mcol_double()\u001b[39m,\n",
      "  `t-test_logfc` = \u001b[32mcol_double()\u001b[39m,\n",
      "  `t-test_padj` = \u001b[32mcol_double()\u001b[39m,\n",
      "  `t-test_score` = \u001b[32mcol_double()\u001b[39m,\n",
      "  `t-test_overestim_var_logfc` = \u001b[32mcol_double()\u001b[39m,\n",
      "  `t-test_overestim_var_padj` = \u001b[32mcol_double()\u001b[39m,\n",
      "  `t-test_overestim_var_score` = \u001b[32mcol_double()\u001b[39m\n",
      ")\n",
      "\n",
      "Warning message:\n",
      "“Unknown columns: `gene_name`”\n"
     ]
    },
    {
     "name": "stdout",
     "output_type": "stream",
     "text": [
      "[1] \"1_vs_9    Gene number: 1202\"\n"
     ]
    },
    {
     "name": "stderr",
     "output_type": "stream",
     "text": [
      "'select()' returned 1:many mapping between keys and columns\n",
      "\n",
      "Parsed with column specification:\n",
      "cols(\n",
      "  gene_names = \u001b[31mcol_character()\u001b[39m,\n",
      "  `0` = \u001b[32mcol_double()\u001b[39m,\n",
      "  `2` = \u001b[32mcol_double()\u001b[39m,\n",
      "  wilcoxon_logfc = \u001b[32mcol_double()\u001b[39m,\n",
      "  wilcoxon_padj = \u001b[32mcol_double()\u001b[39m,\n",
      "  wilcoxon_score = \u001b[32mcol_double()\u001b[39m,\n",
      "  `t-test_logfc` = \u001b[32mcol_double()\u001b[39m,\n",
      "  `t-test_padj` = \u001b[32mcol_double()\u001b[39m,\n",
      "  `t-test_score` = \u001b[32mcol_double()\u001b[39m,\n",
      "  `t-test_overestim_var_logfc` = \u001b[32mcol_double()\u001b[39m,\n",
      "  `t-test_overestim_var_padj` = \u001b[32mcol_double()\u001b[39m,\n",
      "  `t-test_overestim_var_score` = \u001b[32mcol_double()\u001b[39m\n",
      ")\n",
      "\n",
      "Warning message:\n",
      "“Unknown columns: `gene_name`”\n"
     ]
    },
    {
     "name": "stdout",
     "output_type": "stream",
     "text": [
      "[1] \"2_vs_0    Gene number: 3076\"\n"
     ]
    },
    {
     "name": "stderr",
     "output_type": "stream",
     "text": [
      "'select()' returned 1:many mapping between keys and columns\n",
      "\n",
      "Parsed with column specification:\n",
      "cols(\n",
      "  gene_names = \u001b[31mcol_character()\u001b[39m,\n",
      "  `1` = \u001b[32mcol_double()\u001b[39m,\n",
      "  `2` = \u001b[32mcol_double()\u001b[39m,\n",
      "  wilcoxon_logfc = \u001b[32mcol_double()\u001b[39m,\n",
      "  wilcoxon_padj = \u001b[32mcol_double()\u001b[39m,\n",
      "  wilcoxon_score = \u001b[32mcol_double()\u001b[39m,\n",
      "  `t-test_logfc` = \u001b[32mcol_double()\u001b[39m,\n",
      "  `t-test_padj` = \u001b[32mcol_double()\u001b[39m,\n",
      "  `t-test_score` = \u001b[32mcol_double()\u001b[39m,\n",
      "  `t-test_overestim_var_logfc` = \u001b[32mcol_double()\u001b[39m,\n",
      "  `t-test_overestim_var_padj` = \u001b[32mcol_double()\u001b[39m,\n",
      "  `t-test_overestim_var_score` = \u001b[32mcol_double()\u001b[39m\n",
      ")\n",
      "\n",
      "Warning message:\n",
      "“Unknown columns: `gene_name`”\n"
     ]
    },
    {
     "name": "stdout",
     "output_type": "stream",
     "text": [
      "[1] \"2_vs_1    Gene number: 3828\"\n"
     ]
    },
    {
     "name": "stderr",
     "output_type": "stream",
     "text": [
      "'select()' returned 1:many mapping between keys and columns\n",
      "\n",
      "Parsed with column specification:\n",
      "cols(\n",
      "  gene_names = \u001b[31mcol_character()\u001b[39m,\n",
      "  `2` = \u001b[32mcol_double()\u001b[39m,\n",
      "  `3` = \u001b[32mcol_double()\u001b[39m,\n",
      "  wilcoxon_logfc = \u001b[32mcol_double()\u001b[39m,\n",
      "  wilcoxon_padj = \u001b[32mcol_double()\u001b[39m,\n",
      "  wilcoxon_score = \u001b[32mcol_double()\u001b[39m,\n",
      "  `t-test_logfc` = \u001b[32mcol_double()\u001b[39m,\n",
      "  `t-test_padj` = \u001b[32mcol_double()\u001b[39m,\n",
      "  `t-test_score` = \u001b[32mcol_double()\u001b[39m,\n",
      "  `t-test_overestim_var_logfc` = \u001b[32mcol_double()\u001b[39m,\n",
      "  `t-test_overestim_var_padj` = \u001b[32mcol_double()\u001b[39m,\n",
      "  `t-test_overestim_var_score` = \u001b[32mcol_double()\u001b[39m\n",
      ")\n",
      "\n",
      "Warning message:\n",
      "“Unknown columns: `gene_name`”\n"
     ]
    },
    {
     "name": "stdout",
     "output_type": "stream",
     "text": [
      "[1] \"2_vs_3    Gene number: 1519\"\n"
     ]
    },
    {
     "name": "stderr",
     "output_type": "stream",
     "text": [
      "'select()' returned 1:many mapping between keys and columns\n",
      "\n",
      "Parsed with column specification:\n",
      "cols(\n",
      "  gene_names = \u001b[31mcol_character()\u001b[39m,\n",
      "  `2` = \u001b[32mcol_double()\u001b[39m,\n",
      "  `4` = \u001b[32mcol_double()\u001b[39m,\n",
      "  wilcoxon_logfc = \u001b[32mcol_double()\u001b[39m,\n",
      "  wilcoxon_padj = \u001b[32mcol_double()\u001b[39m,\n",
      "  wilcoxon_score = \u001b[32mcol_double()\u001b[39m,\n",
      "  `t-test_logfc` = \u001b[32mcol_double()\u001b[39m,\n",
      "  `t-test_padj` = \u001b[32mcol_double()\u001b[39m,\n",
      "  `t-test_score` = \u001b[32mcol_double()\u001b[39m,\n",
      "  `t-test_overestim_var_logfc` = \u001b[32mcol_double()\u001b[39m,\n",
      "  `t-test_overestim_var_padj` = \u001b[32mcol_double()\u001b[39m,\n",
      "  `t-test_overestim_var_score` = \u001b[32mcol_double()\u001b[39m\n",
      ")\n",
      "\n",
      "Warning message:\n",
      "“Unknown columns: `gene_name`”\n"
     ]
    },
    {
     "name": "stdout",
     "output_type": "stream",
     "text": [
      "[1] \"2_vs_4    Gene number: 1375\"\n"
     ]
    },
    {
     "name": "stderr",
     "output_type": "stream",
     "text": [
      "'select()' returned 1:many mapping between keys and columns\n",
      "\n",
      "Parsed with column specification:\n",
      "cols(\n",
      "  gene_names = \u001b[31mcol_character()\u001b[39m,\n",
      "  `2` = \u001b[32mcol_double()\u001b[39m,\n",
      "  `5` = \u001b[32mcol_double()\u001b[39m,\n",
      "  wilcoxon_logfc = \u001b[32mcol_double()\u001b[39m,\n",
      "  wilcoxon_padj = \u001b[32mcol_double()\u001b[39m,\n",
      "  wilcoxon_score = \u001b[32mcol_double()\u001b[39m,\n",
      "  `t-test_logfc` = \u001b[32mcol_double()\u001b[39m,\n",
      "  `t-test_padj` = \u001b[32mcol_double()\u001b[39m,\n",
      "  `t-test_score` = \u001b[32mcol_double()\u001b[39m,\n",
      "  `t-test_overestim_var_logfc` = \u001b[32mcol_double()\u001b[39m,\n",
      "  `t-test_overestim_var_padj` = \u001b[32mcol_double()\u001b[39m,\n",
      "  `t-test_overestim_var_score` = \u001b[32mcol_double()\u001b[39m\n",
      ")\n",
      "\n",
      "Warning message:\n",
      "“Unknown columns: `gene_name`”\n"
     ]
    },
    {
     "name": "stdout",
     "output_type": "stream",
     "text": [
      "[1] \"2_vs_5    Gene number: 2883\"\n"
     ]
    },
    {
     "name": "stderr",
     "output_type": "stream",
     "text": [
      "'select()' returned 1:many mapping between keys and columns\n",
      "\n",
      "Parsed with column specification:\n",
      "cols(\n",
      "  gene_names = \u001b[31mcol_character()\u001b[39m,\n",
      "  `2` = \u001b[32mcol_double()\u001b[39m,\n",
      "  `6` = \u001b[32mcol_double()\u001b[39m,\n",
      "  wilcoxon_logfc = \u001b[32mcol_double()\u001b[39m,\n",
      "  wilcoxon_padj = \u001b[32mcol_double()\u001b[39m,\n",
      "  wilcoxon_score = \u001b[32mcol_double()\u001b[39m,\n",
      "  `t-test_logfc` = \u001b[32mcol_double()\u001b[39m,\n",
      "  `t-test_padj` = \u001b[32mcol_double()\u001b[39m,\n",
      "  `t-test_score` = \u001b[32mcol_double()\u001b[39m,\n",
      "  `t-test_overestim_var_logfc` = \u001b[32mcol_double()\u001b[39m,\n",
      "  `t-test_overestim_var_padj` = \u001b[32mcol_double()\u001b[39m,\n",
      "  `t-test_overestim_var_score` = \u001b[32mcol_double()\u001b[39m\n",
      ")\n",
      "\n",
      "Warning message:\n",
      "“Unknown columns: `gene_name`”\n"
     ]
    },
    {
     "name": "stdout",
     "output_type": "stream",
     "text": [
      "[1] \"2_vs_6    Gene number: 3884\"\n"
     ]
    },
    {
     "name": "stderr",
     "output_type": "stream",
     "text": [
      "'select()' returned 1:many mapping between keys and columns\n",
      "\n",
      "Parsed with column specification:\n",
      "cols(\n",
      "  gene_names = \u001b[31mcol_character()\u001b[39m,\n",
      "  `2` = \u001b[32mcol_double()\u001b[39m,\n",
      "  `7` = \u001b[32mcol_double()\u001b[39m,\n",
      "  wilcoxon_logfc = \u001b[32mcol_double()\u001b[39m,\n",
      "  wilcoxon_padj = \u001b[32mcol_double()\u001b[39m,\n",
      "  wilcoxon_score = \u001b[32mcol_double()\u001b[39m,\n",
      "  `t-test_logfc` = \u001b[32mcol_double()\u001b[39m,\n",
      "  `t-test_padj` = \u001b[32mcol_double()\u001b[39m,\n",
      "  `t-test_score` = \u001b[32mcol_double()\u001b[39m,\n",
      "  `t-test_overestim_var_logfc` = \u001b[32mcol_double()\u001b[39m,\n",
      "  `t-test_overestim_var_padj` = \u001b[32mcol_double()\u001b[39m,\n",
      "  `t-test_overestim_var_score` = \u001b[32mcol_double()\u001b[39m\n",
      ")\n",
      "\n",
      "Warning message:\n",
      "“Unknown columns: `gene_name`”\n"
     ]
    },
    {
     "name": "stdout",
     "output_type": "stream",
     "text": [
      "[1] \"2_vs_7    Gene number: 2244\"\n"
     ]
    },
    {
     "name": "stderr",
     "output_type": "stream",
     "text": [
      "'select()' returned 1:many mapping between keys and columns\n",
      "\n",
      "Parsed with column specification:\n",
      "cols(\n",
      "  gene_names = \u001b[31mcol_character()\u001b[39m,\n",
      "  `2` = \u001b[32mcol_double()\u001b[39m,\n",
      "  `8` = \u001b[32mcol_double()\u001b[39m,\n",
      "  wilcoxon_logfc = \u001b[32mcol_double()\u001b[39m,\n",
      "  wilcoxon_padj = \u001b[32mcol_double()\u001b[39m,\n",
      "  wilcoxon_score = \u001b[32mcol_double()\u001b[39m,\n",
      "  `t-test_logfc` = \u001b[32mcol_double()\u001b[39m,\n",
      "  `t-test_padj` = \u001b[32mcol_double()\u001b[39m,\n",
      "  `t-test_score` = \u001b[32mcol_double()\u001b[39m,\n",
      "  `t-test_overestim_var_logfc` = \u001b[32mcol_double()\u001b[39m,\n",
      "  `t-test_overestim_var_padj` = \u001b[32mcol_double()\u001b[39m,\n",
      "  `t-test_overestim_var_score` = \u001b[32mcol_double()\u001b[39m\n",
      ")\n",
      "\n",
      "Warning message:\n",
      "“Unknown columns: `gene_name`”\n"
     ]
    },
    {
     "name": "stdout",
     "output_type": "stream",
     "text": [
      "[1] \"2_vs_8    Gene number: 1750\"\n"
     ]
    },
    {
     "name": "stderr",
     "output_type": "stream",
     "text": [
      "'select()' returned 1:many mapping between keys and columns\n",
      "\n",
      "Parsed with column specification:\n",
      "cols(\n",
      "  gene_names = \u001b[31mcol_character()\u001b[39m,\n",
      "  `2` = \u001b[32mcol_double()\u001b[39m,\n",
      "  `9` = \u001b[32mcol_double()\u001b[39m,\n",
      "  wilcoxon_logfc = \u001b[32mcol_double()\u001b[39m,\n",
      "  wilcoxon_padj = \u001b[32mcol_double()\u001b[39m,\n",
      "  wilcoxon_score = \u001b[32mcol_double()\u001b[39m,\n",
      "  `t-test_logfc` = \u001b[32mcol_double()\u001b[39m,\n",
      "  `t-test_padj` = \u001b[32mcol_double()\u001b[39m,\n",
      "  `t-test_score` = \u001b[32mcol_double()\u001b[39m,\n",
      "  `t-test_overestim_var_logfc` = \u001b[32mcol_double()\u001b[39m,\n",
      "  `t-test_overestim_var_padj` = \u001b[32mcol_double()\u001b[39m,\n",
      "  `t-test_overestim_var_score` = \u001b[32mcol_double()\u001b[39m\n",
      ")\n",
      "\n",
      "Warning message:\n",
      "“Unknown columns: `gene_name`”\n"
     ]
    },
    {
     "name": "stdout",
     "output_type": "stream",
     "text": [
      "[1] \"2_vs_9    Gene number: 1612\"\n"
     ]
    },
    {
     "name": "stderr",
     "output_type": "stream",
     "text": [
      "'select()' returned 1:many mapping between keys and columns\n",
      "\n",
      "Parsed with column specification:\n",
      "cols(\n",
      "  gene_names = \u001b[31mcol_character()\u001b[39m,\n",
      "  `0` = \u001b[32mcol_double()\u001b[39m,\n",
      "  `3` = \u001b[32mcol_double()\u001b[39m,\n",
      "  wilcoxon_logfc = \u001b[32mcol_double()\u001b[39m,\n",
      "  wilcoxon_padj = \u001b[32mcol_double()\u001b[39m,\n",
      "  wilcoxon_score = \u001b[32mcol_double()\u001b[39m,\n",
      "  `t-test_logfc` = \u001b[32mcol_double()\u001b[39m,\n",
      "  `t-test_padj` = \u001b[32mcol_double()\u001b[39m,\n",
      "  `t-test_score` = \u001b[32mcol_double()\u001b[39m,\n",
      "  `t-test_overestim_var_logfc` = \u001b[32mcol_double()\u001b[39m,\n",
      "  `t-test_overestim_var_padj` = \u001b[32mcol_double()\u001b[39m,\n",
      "  `t-test_overestim_var_score` = \u001b[32mcol_double()\u001b[39m\n",
      ")\n",
      "\n",
      "Warning message:\n",
      "“Unknown columns: `gene_name`”\n"
     ]
    },
    {
     "name": "stdout",
     "output_type": "stream",
     "text": [
      "[1] \"3_vs_0    Gene number: 4432\"\n"
     ]
    },
    {
     "name": "stderr",
     "output_type": "stream",
     "text": [
      "'select()' returned 1:many mapping between keys and columns\n",
      "\n",
      "Parsed with column specification:\n",
      "cols(\n",
      "  gene_names = \u001b[31mcol_character()\u001b[39m,\n",
      "  `1` = \u001b[32mcol_double()\u001b[39m,\n",
      "  `3` = \u001b[32mcol_double()\u001b[39m,\n",
      "  wilcoxon_logfc = \u001b[32mcol_double()\u001b[39m,\n",
      "  wilcoxon_padj = \u001b[32mcol_double()\u001b[39m,\n",
      "  wilcoxon_score = \u001b[32mcol_double()\u001b[39m,\n",
      "  `t-test_logfc` = \u001b[32mcol_double()\u001b[39m,\n",
      "  `t-test_padj` = \u001b[32mcol_double()\u001b[39m,\n",
      "  `t-test_score` = \u001b[32mcol_double()\u001b[39m,\n",
      "  `t-test_overestim_var_logfc` = \u001b[32mcol_double()\u001b[39m,\n",
      "  `t-test_overestim_var_padj` = \u001b[32mcol_double()\u001b[39m,\n",
      "  `t-test_overestim_var_score` = \u001b[32mcol_double()\u001b[39m\n",
      ")\n",
      "\n",
      "Warning message:\n",
      "“Unknown columns: `gene_name`”\n"
     ]
    },
    {
     "name": "stdout",
     "output_type": "stream",
     "text": [
      "[1] \"3_vs_1    Gene number: 5258\"\n"
     ]
    },
    {
     "name": "stderr",
     "output_type": "stream",
     "text": [
      "'select()' returned 1:many mapping between keys and columns\n",
      "\n",
      "Parsed with column specification:\n",
      "cols(\n",
      "  gene_names = \u001b[31mcol_character()\u001b[39m,\n",
      "  `2` = \u001b[32mcol_double()\u001b[39m,\n",
      "  `3` = \u001b[32mcol_double()\u001b[39m,\n",
      "  wilcoxon_logfc = \u001b[32mcol_double()\u001b[39m,\n",
      "  wilcoxon_padj = \u001b[32mcol_double()\u001b[39m,\n",
      "  wilcoxon_score = \u001b[32mcol_double()\u001b[39m,\n",
      "  `t-test_logfc` = \u001b[32mcol_double()\u001b[39m,\n",
      "  `t-test_padj` = \u001b[32mcol_double()\u001b[39m,\n",
      "  `t-test_score` = \u001b[32mcol_double()\u001b[39m,\n",
      "  `t-test_overestim_var_logfc` = \u001b[32mcol_double()\u001b[39m,\n",
      "  `t-test_overestim_var_padj` = \u001b[32mcol_double()\u001b[39m,\n",
      "  `t-test_overestim_var_score` = \u001b[32mcol_double()\u001b[39m\n",
      ")\n",
      "\n",
      "Warning message:\n",
      "“Unknown columns: `gene_name`”\n"
     ]
    },
    {
     "name": "stdout",
     "output_type": "stream",
     "text": [
      "[1] \"3_vs_2    Gene number: 2451\"\n"
     ]
    },
    {
     "name": "stderr",
     "output_type": "stream",
     "text": [
      "'select()' returned 1:many mapping between keys and columns\n",
      "\n",
      "Parsed with column specification:\n",
      "cols(\n",
      "  gene_names = \u001b[31mcol_character()\u001b[39m,\n",
      "  `3` = \u001b[32mcol_double()\u001b[39m,\n",
      "  `4` = \u001b[32mcol_double()\u001b[39m,\n",
      "  wilcoxon_logfc = \u001b[32mcol_double()\u001b[39m,\n",
      "  wilcoxon_padj = \u001b[32mcol_double()\u001b[39m,\n",
      "  wilcoxon_score = \u001b[32mcol_double()\u001b[39m,\n",
      "  `t-test_logfc` = \u001b[32mcol_double()\u001b[39m,\n",
      "  `t-test_padj` = \u001b[32mcol_double()\u001b[39m,\n",
      "  `t-test_score` = \u001b[32mcol_double()\u001b[39m,\n",
      "  `t-test_overestim_var_logfc` = \u001b[32mcol_double()\u001b[39m,\n",
      "  `t-test_overestim_var_padj` = \u001b[32mcol_double()\u001b[39m,\n",
      "  `t-test_overestim_var_score` = \u001b[32mcol_double()\u001b[39m\n",
      ")\n",
      "\n",
      "Warning message:\n",
      "“Unknown columns: `gene_name`”\n"
     ]
    },
    {
     "name": "stdout",
     "output_type": "stream",
     "text": [
      "[1] \"3_vs_4    Gene number: 1395\"\n"
     ]
    },
    {
     "name": "stderr",
     "output_type": "stream",
     "text": [
      "'select()' returned 1:many mapping between keys and columns\n",
      "\n"
     ]
    }
   ],
   "source": [
    "for (file.i in de.files) {\n",
    "    \n",
    "    ###----- Create output names & output directory\n",
    "    file.i.outpath <- gsub(de.out.dir, \"\", file.i)\n",
    "    file.i.outpath <- gsub(\".csv\", \"\", file.i.outpath)\n",
    "    file.i.outpath <- gsub(\"^/\", \"\",file.i.outpath)\n",
    "\n",
    "    file.i.simp.name <- tail(unlist(strsplit( file.i.outpath, \"/\")), 1)\n",
    "    file.i.simp.name <- gsub(\"_differential\", \"\", file.i.simp.name)\n",
    "    file.i.simp.vec <- unlist(strsplit(file.i.simp.name, \"_vs_\"))\n",
    "\n",
    "    # Create output directory\n",
    "    wk.dir <- file.path(sum.dir, file.i.outpath)\n",
    "    dir.create(wk.dir, showWarnings = FALSE, recursive=TRUE)\n",
    "    setwd(wk.dir)\n",
    "    \n",
    "    # Run GO\n",
    "    useGroup <- \"t-test_overestim_var_logfc\"\n",
    "    outName <- file.i.simp.name\n",
    "\n",
    "    success <- \"yes\"\n",
    "    gsea <- tryCatch({\n",
    "        GO_run(file.i, useGroup, outName, 1, FALSE)\n",
    "    }, error=function(cond) {\n",
    "        message(paste(file.i, \"failed\",sep='; '))\n",
    "        return(\"no\")\n",
    "    })\n",
    "}"
   ]
  },
  {
   "cell_type": "code",
   "execution_count": null,
   "metadata": {},
   "outputs": [],
   "source": []
  }
 ],
 "metadata": {
  "kernelspec": {
   "display_name": "R",
   "language": "R",
   "name": "ir"
  },
  "language_info": {
   "codemirror_mode": "r",
   "file_extension": ".r",
   "mimetype": "text/x-r-source",
   "name": "R",
   "pygments_lexer": "r",
   "version": "3.6.3"
  }
 },
 "nbformat": 4,
 "nbformat_minor": 4
}
