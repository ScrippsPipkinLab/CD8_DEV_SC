{
 "cells": [
  {
   "cell_type": "code",
   "execution_count": 2,
   "metadata": {},
   "outputs": [
    {
     "data": {
      "text/html": [
       "'/media/pipkin/ROCKET-PRO/CD8_DEV_SC/1_IL2RAKO'"
      ],
      "text/latex": [
       "'/media/pipkin/ROCKET-PRO/CD8\\_DEV\\_SC/1\\_IL2RAKO'"
      ],
      "text/markdown": [
       "'/media/pipkin/ROCKET-PRO/CD8_DEV_SC/1_IL2RAKO'"
      ],
      "text/plain": [
       "[1] \"/media/pipkin/ROCKET-PRO/CD8_DEV_SC/1_IL2RAKO\""
      ]
     },
     "metadata": {},
     "output_type": "display_data"
    }
   ],
   "source": [
    "##########----- Reused code -----##########\n",
    "# Last update: Sept 13, 2020\n",
    "# By: Huitian Diao\n",
    "###########################################\n",
    "\n",
    "library(stringr)\n",
    "\n",
    "code_dir <- getwd()\n",
    "tool_dir <- unlist(strsplit(code_dir,\"/\"))\n",
    "tool_dir <- head(tool_dir, length(tool_dir)-2)\n",
    "tool_dir <- paste(c(tool_dir, \"tools\"), collapse=\"/\")\n",
    "source(file.path(tool_dir, \"function_GSEA.R\"))\n",
    "base_dir <- gsub(\"/codes_local\", \"\", code_dir)\n",
    "base_dir"
   ]
  },
  {
   "cell_type": "markdown",
   "metadata": {},
   "source": [
    "## 1. GSEA analysis for each set of comparison"
   ]
  },
  {
   "cell_type": "code",
   "execution_count": 3,
   "metadata": {
    "scrolled": true
   },
   "outputs": [],
   "source": [
    "##########----- Parameters-----##########\n",
    "analysis_name <- c(\"0\", \"all\")\n",
    "genome <- \"mm\"\n",
    "#########################################\n",
    "analysis_subdir <- paste(paste(analysis_name[1], analysis_name[2], sep=\"-\"), \"Scanpy_out\", sep=\"_\")\n",
    "sum.dir <- file.path(base_dir, '1_Scanpy', analysis_subdir, \"4_DE_GO\")\n",
    "dir.create(sum.dir, showWarnings = FALSE, recursive=TRUE)\n",
    "setwd(sum.dir)\n",
    "\n",
    "###----- Find all de files\n",
    "de.out.dir <- file.path(base_dir, '1_Scanpy', analysis_subdir, \"2_DE\")\n",
    "de.files <- list.files(de.out.dir, pattern=\"*differential.csv\", full.names=TRUE,recursive=TRUE)\n",
    "\n",
    "use.cols <- c(\"gene_names\", \"t-test_overestim_var_logfc\", \"t-test_overestim_var_padj\")"
   ]
  },
  {
   "cell_type": "code",
   "execution_count": 4,
   "metadata": {
    "scrolled": true
   },
   "outputs": [
    {
     "name": "stderr",
     "output_type": "stream",
     "text": [
      "Parsed with column specification:\n",
      "cols(\n",
      "  gene_names = \u001b[31mcol_character()\u001b[39m,\n",
      "  `0` = \u001b[32mcol_double()\u001b[39m,\n",
      "  `1` = \u001b[32mcol_double()\u001b[39m,\n",
      "  wilcoxon_logfc = \u001b[32mcol_double()\u001b[39m,\n",
      "  wilcoxon_padj = \u001b[32mcol_double()\u001b[39m,\n",
      "  wilcoxon_score = \u001b[32mcol_double()\u001b[39m,\n",
      "  `t-test_logfc` = \u001b[32mcol_double()\u001b[39m,\n",
      "  `t-test_padj` = \u001b[32mcol_double()\u001b[39m,\n",
      "  `t-test_score` = \u001b[32mcol_double()\u001b[39m,\n",
      "  `t-test_overestim_var_logfc` = \u001b[32mcol_double()\u001b[39m,\n",
      "  `t-test_overestim_var_padj` = \u001b[32mcol_double()\u001b[39m,\n",
      "  `t-test_overestim_var_score` = \u001b[32mcol_double()\u001b[39m\n",
      ")\n",
      "\n",
      "Warning message:\n",
      "“Unknown columns: `gene_name`”\n"
     ]
    },
    {
     "name": "stdout",
     "output_type": "stream",
     "text": [
      "[1] \"0_vs_1    Gene number: 1962\"\n"
     ]
    },
    {
     "name": "stderr",
     "output_type": "stream",
     "text": [
      "'select()' returned 1:many mapping between keys and columns\n",
      "\n",
      "Parsed with column specification:\n",
      "cols(\n",
      "  gene_names = \u001b[31mcol_character()\u001b[39m,\n",
      "  `0` = \u001b[32mcol_double()\u001b[39m,\n",
      "  `2` = \u001b[32mcol_double()\u001b[39m,\n",
      "  wilcoxon_logfc = \u001b[32mcol_double()\u001b[39m,\n",
      "  wilcoxon_padj = \u001b[32mcol_double()\u001b[39m,\n",
      "  wilcoxon_score = \u001b[32mcol_double()\u001b[39m,\n",
      "  `t-test_logfc` = \u001b[32mcol_double()\u001b[39m,\n",
      "  `t-test_padj` = \u001b[32mcol_double()\u001b[39m,\n",
      "  `t-test_score` = \u001b[32mcol_double()\u001b[39m,\n",
      "  `t-test_overestim_var_logfc` = \u001b[32mcol_double()\u001b[39m,\n",
      "  `t-test_overestim_var_padj` = \u001b[32mcol_double()\u001b[39m,\n",
      "  `t-test_overestim_var_score` = \u001b[32mcol_double()\u001b[39m\n",
      ")\n",
      "\n",
      "Warning message:\n",
      "“Unknown columns: `gene_name`”\n"
     ]
    },
    {
     "name": "stdout",
     "output_type": "stream",
     "text": [
      "[1] \"0_vs_2    Gene number: 1874\"\n"
     ]
    },
    {
     "name": "stderr",
     "output_type": "stream",
     "text": [
      "'select()' returned 1:many mapping between keys and columns\n",
      "\n",
      "Parsed with column specification:\n",
      "cols(\n",
      "  gene_names = \u001b[31mcol_character()\u001b[39m,\n",
      "  `0` = \u001b[32mcol_double()\u001b[39m,\n",
      "  `3` = \u001b[32mcol_double()\u001b[39m,\n",
      "  wilcoxon_logfc = \u001b[32mcol_double()\u001b[39m,\n",
      "  wilcoxon_padj = \u001b[32mcol_double()\u001b[39m,\n",
      "  wilcoxon_score = \u001b[32mcol_double()\u001b[39m,\n",
      "  `t-test_logfc` = \u001b[32mcol_double()\u001b[39m,\n",
      "  `t-test_padj` = \u001b[32mcol_double()\u001b[39m,\n",
      "  `t-test_score` = \u001b[32mcol_double()\u001b[39m,\n",
      "  `t-test_overestim_var_logfc` = \u001b[32mcol_double()\u001b[39m,\n",
      "  `t-test_overestim_var_padj` = \u001b[32mcol_double()\u001b[39m,\n",
      "  `t-test_overestim_var_score` = \u001b[32mcol_double()\u001b[39m\n",
      ")\n",
      "\n",
      "Warning message:\n",
      "“Unknown columns: `gene_name`”\n"
     ]
    },
    {
     "name": "stdout",
     "output_type": "stream",
     "text": [
      "[1] \"0_vs_3    Gene number: 1834\"\n"
     ]
    },
    {
     "name": "stderr",
     "output_type": "stream",
     "text": [
      "'select()' returned 1:many mapping between keys and columns\n",
      "\n",
      "Parsed with column specification:\n",
      "cols(\n",
      "  gene_names = \u001b[31mcol_character()\u001b[39m,\n",
      "  `0` = \u001b[32mcol_double()\u001b[39m,\n",
      "  `4` = \u001b[32mcol_double()\u001b[39m,\n",
      "  wilcoxon_logfc = \u001b[32mcol_double()\u001b[39m,\n",
      "  wilcoxon_padj = \u001b[32mcol_double()\u001b[39m,\n",
      "  wilcoxon_score = \u001b[32mcol_double()\u001b[39m,\n",
      "  `t-test_logfc` = \u001b[32mcol_double()\u001b[39m,\n",
      "  `t-test_padj` = \u001b[32mcol_double()\u001b[39m,\n",
      "  `t-test_score` = \u001b[32mcol_double()\u001b[39m,\n",
      "  `t-test_overestim_var_logfc` = \u001b[32mcol_double()\u001b[39m,\n",
      "  `t-test_overestim_var_padj` = \u001b[32mcol_double()\u001b[39m,\n",
      "  `t-test_overestim_var_score` = \u001b[32mcol_double()\u001b[39m\n",
      ")\n",
      "\n",
      "Warning message:\n",
      "“Unknown columns: `gene_name`”\n"
     ]
    },
    {
     "name": "stdout",
     "output_type": "stream",
     "text": [
      "[1] \"0_vs_4    Gene number: 1652\"\n"
     ]
    },
    {
     "name": "stderr",
     "output_type": "stream",
     "text": [
      "'select()' returned 1:many mapping between keys and columns\n",
      "\n",
      "Parsed with column specification:\n",
      "cols(\n",
      "  gene_names = \u001b[31mcol_character()\u001b[39m,\n",
      "  `0` = \u001b[32mcol_double()\u001b[39m,\n",
      "  `5` = \u001b[32mcol_double()\u001b[39m,\n",
      "  wilcoxon_logfc = \u001b[32mcol_double()\u001b[39m,\n",
      "  wilcoxon_padj = \u001b[32mcol_double()\u001b[39m,\n",
      "  wilcoxon_score = \u001b[32mcol_double()\u001b[39m,\n",
      "  `t-test_logfc` = \u001b[32mcol_double()\u001b[39m,\n",
      "  `t-test_padj` = \u001b[32mcol_double()\u001b[39m,\n",
      "  `t-test_score` = \u001b[32mcol_double()\u001b[39m,\n",
      "  `t-test_overestim_var_logfc` = \u001b[32mcol_double()\u001b[39m,\n",
      "  `t-test_overestim_var_padj` = \u001b[32mcol_double()\u001b[39m,\n",
      "  `t-test_overestim_var_score` = \u001b[32mcol_double()\u001b[39m\n",
      ")\n",
      "\n",
      "Warning message:\n",
      "“Unknown columns: `gene_name`”\n"
     ]
    },
    {
     "name": "stdout",
     "output_type": "stream",
     "text": [
      "[1] \"0_vs_5    Gene number: 1730\"\n"
     ]
    },
    {
     "name": "stderr",
     "output_type": "stream",
     "text": [
      "'select()' returned 1:many mapping between keys and columns\n",
      "\n",
      "Parsed with column specification:\n",
      "cols(\n",
      "  gene_names = \u001b[31mcol_character()\u001b[39m,\n",
      "  `0` = \u001b[32mcol_double()\u001b[39m,\n",
      "  `6` = \u001b[32mcol_double()\u001b[39m,\n",
      "  wilcoxon_logfc = \u001b[32mcol_double()\u001b[39m,\n",
      "  wilcoxon_padj = \u001b[32mcol_double()\u001b[39m,\n",
      "  wilcoxon_score = \u001b[32mcol_double()\u001b[39m,\n",
      "  `t-test_logfc` = \u001b[32mcol_double()\u001b[39m,\n",
      "  `t-test_padj` = \u001b[32mcol_double()\u001b[39m,\n",
      "  `t-test_score` = \u001b[32mcol_double()\u001b[39m,\n",
      "  `t-test_overestim_var_logfc` = \u001b[32mcol_double()\u001b[39m,\n",
      "  `t-test_overestim_var_padj` = \u001b[32mcol_double()\u001b[39m,\n",
      "  `t-test_overestim_var_score` = \u001b[32mcol_double()\u001b[39m\n",
      ")\n",
      "\n",
      "Warning message:\n",
      "“Unknown columns: `gene_name`”\n"
     ]
    },
    {
     "name": "stdout",
     "output_type": "stream",
     "text": [
      "[1] \"0_vs_6    Gene number: 2181\"\n"
     ]
    },
    {
     "name": "stderr",
     "output_type": "stream",
     "text": [
      "'select()' returned 1:many mapping between keys and columns\n",
      "\n",
      "Parsed with column specification:\n",
      "cols(\n",
      "  gene_names = \u001b[31mcol_character()\u001b[39m,\n",
      "  `0` = \u001b[32mcol_double()\u001b[39m,\n",
      "  `7` = \u001b[32mcol_double()\u001b[39m,\n",
      "  wilcoxon_logfc = \u001b[32mcol_double()\u001b[39m,\n",
      "  wilcoxon_padj = \u001b[32mcol_double()\u001b[39m,\n",
      "  wilcoxon_score = \u001b[32mcol_double()\u001b[39m,\n",
      "  `t-test_logfc` = \u001b[32mcol_double()\u001b[39m,\n",
      "  `t-test_padj` = \u001b[32mcol_double()\u001b[39m,\n",
      "  `t-test_score` = \u001b[32mcol_double()\u001b[39m,\n",
      "  `t-test_overestim_var_logfc` = \u001b[32mcol_double()\u001b[39m,\n",
      "  `t-test_overestim_var_padj` = \u001b[32mcol_double()\u001b[39m,\n",
      "  `t-test_overestim_var_score` = \u001b[32mcol_double()\u001b[39m\n",
      ")\n",
      "\n",
      "Warning message:\n",
      "“Unknown columns: `gene_name`”\n"
     ]
    },
    {
     "name": "stdout",
     "output_type": "stream",
     "text": [
      "[1] \"0_vs_7    Gene number: 2543\"\n"
     ]
    },
    {
     "name": "stderr",
     "output_type": "stream",
     "text": [
      "'select()' returned 1:many mapping between keys and columns\n",
      "\n",
      "Parsed with column specification:\n",
      "cols(\n",
      "  gene_names = \u001b[31mcol_character()\u001b[39m,\n",
      "  `0` = \u001b[32mcol_double()\u001b[39m,\n",
      "  `8` = \u001b[32mcol_double()\u001b[39m,\n",
      "  wilcoxon_logfc = \u001b[32mcol_double()\u001b[39m,\n",
      "  wilcoxon_padj = \u001b[32mcol_double()\u001b[39m,\n",
      "  wilcoxon_score = \u001b[32mcol_double()\u001b[39m,\n",
      "  `t-test_logfc` = \u001b[32mcol_double()\u001b[39m,\n",
      "  `t-test_padj` = \u001b[32mcol_double()\u001b[39m,\n",
      "  `t-test_score` = \u001b[32mcol_double()\u001b[39m,\n",
      "  `t-test_overestim_var_logfc` = \u001b[32mcol_double()\u001b[39m,\n",
      "  `t-test_overestim_var_padj` = \u001b[32mcol_double()\u001b[39m,\n",
      "  `t-test_overestim_var_score` = \u001b[32mcol_double()\u001b[39m\n",
      ")\n",
      "\n",
      "Warning message:\n",
      "“Unknown columns: `gene_name`”\n"
     ]
    },
    {
     "name": "stdout",
     "output_type": "stream",
     "text": [
      "[1] \"0_vs_8    Gene number: 1830\"\n"
     ]
    },
    {
     "name": "stderr",
     "output_type": "stream",
     "text": [
      "'select()' returned 1:many mapping between keys and columns\n",
      "\n",
      "Parsed with column specification:\n",
      "cols(\n",
      "  gene_names = \u001b[31mcol_character()\u001b[39m,\n",
      "  `0` = \u001b[32mcol_double()\u001b[39m,\n",
      "  `9` = \u001b[32mcol_double()\u001b[39m,\n",
      "  wilcoxon_logfc = \u001b[32mcol_double()\u001b[39m,\n",
      "  wilcoxon_padj = \u001b[32mcol_double()\u001b[39m,\n",
      "  wilcoxon_score = \u001b[32mcol_double()\u001b[39m,\n",
      "  `t-test_logfc` = \u001b[32mcol_double()\u001b[39m,\n",
      "  `t-test_padj` = \u001b[32mcol_double()\u001b[39m,\n",
      "  `t-test_score` = \u001b[32mcol_double()\u001b[39m,\n",
      "  `t-test_overestim_var_logfc` = \u001b[32mcol_double()\u001b[39m,\n",
      "  `t-test_overestim_var_padj` = \u001b[32mcol_double()\u001b[39m,\n",
      "  `t-test_overestim_var_score` = \u001b[32mcol_double()\u001b[39m\n",
      ")\n",
      "\n",
      "Warning message:\n",
      "“Unknown columns: `gene_name`”\n"
     ]
    },
    {
     "name": "stdout",
     "output_type": "stream",
     "text": [
      "[1] \"0_vs_9    Gene number: 1520\"\n"
     ]
    },
    {
     "name": "stderr",
     "output_type": "stream",
     "text": [
      "'select()' returned 1:many mapping between keys and columns\n",
      "\n",
      "Parsed with column specification:\n",
      "cols(\n",
      "  gene_names = \u001b[31mcol_character()\u001b[39m,\n",
      "  `0` = \u001b[32mcol_double()\u001b[39m,\n",
      "  `1` = \u001b[32mcol_double()\u001b[39m,\n",
      "  wilcoxon_logfc = \u001b[32mcol_double()\u001b[39m,\n",
      "  wilcoxon_padj = \u001b[32mcol_double()\u001b[39m,\n",
      "  wilcoxon_score = \u001b[32mcol_double()\u001b[39m,\n",
      "  `t-test_logfc` = \u001b[32mcol_double()\u001b[39m,\n",
      "  `t-test_padj` = \u001b[32mcol_double()\u001b[39m,\n",
      "  `t-test_score` = \u001b[32mcol_double()\u001b[39m,\n",
      "  `t-test_overestim_var_logfc` = \u001b[32mcol_double()\u001b[39m,\n",
      "  `t-test_overestim_var_padj` = \u001b[32mcol_double()\u001b[39m,\n",
      "  `t-test_overestim_var_score` = \u001b[32mcol_double()\u001b[39m\n",
      ")\n",
      "\n",
      "Warning message:\n",
      "“Unknown columns: `gene_name`”\n"
     ]
    },
    {
     "name": "stdout",
     "output_type": "stream",
     "text": [
      "[1] \"1_vs_0    Gene number: 989\"\n"
     ]
    },
    {
     "name": "stderr",
     "output_type": "stream",
     "text": [
      "'select()' returned 1:many mapping between keys and columns\n",
      "\n",
      "Parsed with column specification:\n",
      "cols(\n",
      "  gene_names = \u001b[31mcol_character()\u001b[39m,\n",
      "  `1` = \u001b[32mcol_double()\u001b[39m,\n",
      "  `2` = \u001b[32mcol_double()\u001b[39m,\n",
      "  wilcoxon_logfc = \u001b[32mcol_double()\u001b[39m,\n",
      "  wilcoxon_padj = \u001b[32mcol_double()\u001b[39m,\n",
      "  wilcoxon_score = \u001b[32mcol_double()\u001b[39m,\n",
      "  `t-test_logfc` = \u001b[32mcol_double()\u001b[39m,\n",
      "  `t-test_padj` = \u001b[32mcol_double()\u001b[39m,\n",
      "  `t-test_score` = \u001b[32mcol_double()\u001b[39m,\n",
      "  `t-test_overestim_var_logfc` = \u001b[32mcol_double()\u001b[39m,\n",
      "  `t-test_overestim_var_padj` = \u001b[32mcol_double()\u001b[39m,\n",
      "  `t-test_overestim_var_score` = \u001b[32mcol_double()\u001b[39m\n",
      ")\n",
      "\n",
      "Warning message:\n",
      "“Unknown columns: `gene_name`”\n"
     ]
    },
    {
     "name": "stdout",
     "output_type": "stream",
     "text": [
      "[1] \"1_vs_2    Gene number: 1480\"\n"
     ]
    },
    {
     "name": "stderr",
     "output_type": "stream",
     "text": [
      "'select()' returned 1:many mapping between keys and columns\n",
      "\n",
      "Parsed with column specification:\n",
      "cols(\n",
      "  gene_names = \u001b[31mcol_character()\u001b[39m,\n",
      "  `1` = \u001b[32mcol_double()\u001b[39m,\n",
      "  `3` = \u001b[32mcol_double()\u001b[39m,\n",
      "  wilcoxon_logfc = \u001b[32mcol_double()\u001b[39m,\n",
      "  wilcoxon_padj = \u001b[32mcol_double()\u001b[39m,\n",
      "  wilcoxon_score = \u001b[32mcol_double()\u001b[39m,\n",
      "  `t-test_logfc` = \u001b[32mcol_double()\u001b[39m,\n",
      "  `t-test_padj` = \u001b[32mcol_double()\u001b[39m,\n",
      "  `t-test_score` = \u001b[32mcol_double()\u001b[39m,\n",
      "  `t-test_overestim_var_logfc` = \u001b[32mcol_double()\u001b[39m,\n",
      "  `t-test_overestim_var_padj` = \u001b[32mcol_double()\u001b[39m,\n",
      "  `t-test_overestim_var_score` = \u001b[32mcol_double()\u001b[39m\n",
      ")\n",
      "\n",
      "Warning message:\n",
      "“Unknown columns: `gene_name`”\n"
     ]
    },
    {
     "name": "stdout",
     "output_type": "stream",
     "text": [
      "[1] \"1_vs_3    Gene number: 1561\"\n"
     ]
    },
    {
     "name": "stderr",
     "output_type": "stream",
     "text": [
      "'select()' returned 1:many mapping between keys and columns\n",
      "\n",
      "Parsed with column specification:\n",
      "cols(\n",
      "  gene_names = \u001b[31mcol_character()\u001b[39m,\n",
      "  `1` = \u001b[32mcol_double()\u001b[39m,\n",
      "  `4` = \u001b[32mcol_double()\u001b[39m,\n",
      "  wilcoxon_logfc = \u001b[32mcol_double()\u001b[39m,\n",
      "  wilcoxon_padj = \u001b[32mcol_double()\u001b[39m,\n",
      "  wilcoxon_score = \u001b[32mcol_double()\u001b[39m,\n",
      "  `t-test_logfc` = \u001b[32mcol_double()\u001b[39m,\n",
      "  `t-test_padj` = \u001b[32mcol_double()\u001b[39m,\n",
      "  `t-test_score` = \u001b[32mcol_double()\u001b[39m,\n",
      "  `t-test_overestim_var_logfc` = \u001b[32mcol_double()\u001b[39m,\n",
      "  `t-test_overestim_var_padj` = \u001b[32mcol_double()\u001b[39m,\n",
      "  `t-test_overestim_var_score` = \u001b[32mcol_double()\u001b[39m\n",
      ")\n",
      "\n",
      "Warning message:\n",
      "“Unknown columns: `gene_name`”\n"
     ]
    },
    {
     "name": "stdout",
     "output_type": "stream",
     "text": [
      "[1] \"1_vs_4    Gene number: 1368\"\n"
     ]
    },
    {
     "name": "stderr",
     "output_type": "stream",
     "text": [
      "'select()' returned 1:many mapping between keys and columns\n",
      "\n",
      "Parsed with column specification:\n",
      "cols(\n",
      "  gene_names = \u001b[31mcol_character()\u001b[39m,\n",
      "  `1` = \u001b[32mcol_double()\u001b[39m,\n",
      "  `5` = \u001b[32mcol_double()\u001b[39m,\n",
      "  wilcoxon_logfc = \u001b[32mcol_double()\u001b[39m,\n",
      "  wilcoxon_padj = \u001b[32mcol_double()\u001b[39m,\n",
      "  wilcoxon_score = \u001b[32mcol_double()\u001b[39m,\n",
      "  `t-test_logfc` = \u001b[32mcol_double()\u001b[39m,\n",
      "  `t-test_padj` = \u001b[32mcol_double()\u001b[39m,\n",
      "  `t-test_score` = \u001b[32mcol_double()\u001b[39m,\n",
      "  `t-test_overestim_var_logfc` = \u001b[32mcol_double()\u001b[39m,\n",
      "  `t-test_overestim_var_padj` = \u001b[32mcol_double()\u001b[39m,\n",
      "  `t-test_overestim_var_score` = \u001b[32mcol_double()\u001b[39m\n",
      ")\n",
      "\n",
      "Warning message:\n",
      "“Unknown columns: `gene_name`”\n"
     ]
    },
    {
     "name": "stdout",
     "output_type": "stream",
     "text": [
      "[1] \"1_vs_5    Gene number: 1365\"\n"
     ]
    },
    {
     "name": "stderr",
     "output_type": "stream",
     "text": [
      "'select()' returned 1:many mapping between keys and columns\n",
      "\n",
      "Parsed with column specification:\n",
      "cols(\n",
      "  gene_names = \u001b[31mcol_character()\u001b[39m,\n",
      "  `1` = \u001b[32mcol_double()\u001b[39m,\n",
      "  `6` = \u001b[32mcol_double()\u001b[39m,\n",
      "  wilcoxon_logfc = \u001b[32mcol_double()\u001b[39m,\n",
      "  wilcoxon_padj = \u001b[32mcol_double()\u001b[39m,\n",
      "  wilcoxon_score = \u001b[32mcol_double()\u001b[39m,\n",
      "  `t-test_logfc` = \u001b[32mcol_double()\u001b[39m,\n",
      "  `t-test_padj` = \u001b[32mcol_double()\u001b[39m,\n",
      "  `t-test_score` = \u001b[32mcol_double()\u001b[39m,\n",
      "  `t-test_overestim_var_logfc` = \u001b[32mcol_double()\u001b[39m,\n",
      "  `t-test_overestim_var_padj` = \u001b[32mcol_double()\u001b[39m,\n",
      "  `t-test_overestim_var_score` = \u001b[32mcol_double()\u001b[39m\n",
      ")\n",
      "\n",
      "Warning message:\n",
      "“Unknown columns: `gene_name`”\n"
     ]
    },
    {
     "name": "stdout",
     "output_type": "stream",
     "text": [
      "[1] \"1_vs_6    Gene number: 1670\"\n"
     ]
    },
    {
     "name": "stderr",
     "output_type": "stream",
     "text": [
      "'select()' returned 1:many mapping between keys and columns\n",
      "\n",
      "Parsed with column specification:\n",
      "cols(\n",
      "  gene_names = \u001b[31mcol_character()\u001b[39m,\n",
      "  `1` = \u001b[32mcol_double()\u001b[39m,\n",
      "  `7` = \u001b[32mcol_double()\u001b[39m,\n",
      "  wilcoxon_logfc = \u001b[32mcol_double()\u001b[39m,\n",
      "  wilcoxon_padj = \u001b[32mcol_double()\u001b[39m,\n",
      "  wilcoxon_score = \u001b[32mcol_double()\u001b[39m,\n",
      "  `t-test_logfc` = \u001b[32mcol_double()\u001b[39m,\n",
      "  `t-test_padj` = \u001b[32mcol_double()\u001b[39m,\n",
      "  `t-test_score` = \u001b[32mcol_double()\u001b[39m,\n",
      "  `t-test_overestim_var_logfc` = \u001b[32mcol_double()\u001b[39m,\n",
      "  `t-test_overestim_var_padj` = \u001b[32mcol_double()\u001b[39m,\n",
      "  `t-test_overestim_var_score` = \u001b[32mcol_double()\u001b[39m\n",
      ")\n",
      "\n",
      "Warning message:\n",
      "“Unknown columns: `gene_name`”\n"
     ]
    },
    {
     "name": "stdout",
     "output_type": "stream",
     "text": [
      "[1] \"1_vs_7    Gene number: 2108\"\n"
     ]
    },
    {
     "name": "stderr",
     "output_type": "stream",
     "text": [
      "'select()' returned 1:many mapping between keys and columns\n",
      "\n",
      "Parsed with column specification:\n",
      "cols(\n",
      "  gene_names = \u001b[31mcol_character()\u001b[39m,\n",
      "  `1` = \u001b[32mcol_double()\u001b[39m,\n",
      "  `8` = \u001b[32mcol_double()\u001b[39m,\n",
      "  wilcoxon_logfc = \u001b[32mcol_double()\u001b[39m,\n",
      "  wilcoxon_padj = \u001b[32mcol_double()\u001b[39m,\n",
      "  wilcoxon_score = \u001b[32mcol_double()\u001b[39m,\n",
      "  `t-test_logfc` = \u001b[32mcol_double()\u001b[39m,\n",
      "  `t-test_padj` = \u001b[32mcol_double()\u001b[39m,\n",
      "  `t-test_score` = \u001b[32mcol_double()\u001b[39m,\n",
      "  `t-test_overestim_var_logfc` = \u001b[32mcol_double()\u001b[39m,\n",
      "  `t-test_overestim_var_padj` = \u001b[32mcol_double()\u001b[39m,\n",
      "  `t-test_overestim_var_score` = \u001b[32mcol_double()\u001b[39m\n",
      ")\n",
      "\n",
      "Warning message:\n",
      "“Unknown columns: `gene_name`”\n"
     ]
    },
    {
     "name": "stdout",
     "output_type": "stream",
     "text": [
      "[1] \"1_vs_8    Gene number: 1393\"\n"
     ]
    },
    {
     "name": "stderr",
     "output_type": "stream",
     "text": [
      "'select()' returned 1:many mapping between keys and columns\n",
      "\n",
      "Parsed with column specification:\n",
      "cols(\n",
      "  gene_names = \u001b[31mcol_character()\u001b[39m,\n",
      "  `1` = \u001b[32mcol_double()\u001b[39m,\n",
      "  `9` = \u001b[32mcol_double()\u001b[39m,\n",
      "  wilcoxon_logfc = \u001b[32mcol_double()\u001b[39m,\n",
      "  wilcoxon_padj = \u001b[32mcol_double()\u001b[39m,\n",
      "  wilcoxon_score = \u001b[32mcol_double()\u001b[39m,\n",
      "  `t-test_logfc` = \u001b[32mcol_double()\u001b[39m,\n",
      "  `t-test_padj` = \u001b[32mcol_double()\u001b[39m,\n",
      "  `t-test_score` = \u001b[32mcol_double()\u001b[39m,\n",
      "  `t-test_overestim_var_logfc` = \u001b[32mcol_double()\u001b[39m,\n",
      "  `t-test_overestim_var_padj` = \u001b[32mcol_double()\u001b[39m,\n",
      "  `t-test_overestim_var_score` = \u001b[32mcol_double()\u001b[39m\n",
      ")\n",
      "\n",
      "Warning message:\n",
      "“Unknown columns: `gene_name`”\n"
     ]
    },
    {
     "name": "stdout",
     "output_type": "stream",
     "text": [
      "[1] \"1_vs_9    Gene number: 1202\"\n"
     ]
    },
    {
     "name": "stderr",
     "output_type": "stream",
     "text": [
      "'select()' returned 1:many mapping between keys and columns\n",
      "\n",
      "Parsed with column specification:\n",
      "cols(\n",
      "  gene_names = \u001b[31mcol_character()\u001b[39m,\n",
      "  `0` = \u001b[32mcol_double()\u001b[39m,\n",
      "  `2` = \u001b[32mcol_double()\u001b[39m,\n",
      "  wilcoxon_logfc = \u001b[32mcol_double()\u001b[39m,\n",
      "  wilcoxon_padj = \u001b[32mcol_double()\u001b[39m,\n",
      "  wilcoxon_score = \u001b[32mcol_double()\u001b[39m,\n",
      "  `t-test_logfc` = \u001b[32mcol_double()\u001b[39m,\n",
      "  `t-test_padj` = \u001b[32mcol_double()\u001b[39m,\n",
      "  `t-test_score` = \u001b[32mcol_double()\u001b[39m,\n",
      "  `t-test_overestim_var_logfc` = \u001b[32mcol_double()\u001b[39m,\n",
      "  `t-test_overestim_var_padj` = \u001b[32mcol_double()\u001b[39m,\n",
      "  `t-test_overestim_var_score` = \u001b[32mcol_double()\u001b[39m\n",
      ")\n",
      "\n",
      "Warning message:\n",
      "“Unknown columns: `gene_name`”\n"
     ]
    },
    {
     "name": "stdout",
     "output_type": "stream",
     "text": [
      "[1] \"2_vs_0    Gene number: 3076\"\n"
     ]
    },
    {
     "name": "stderr",
     "output_type": "stream",
     "text": [
      "'select()' returned 1:many mapping between keys and columns\n",
      "\n",
      "Parsed with column specification:\n",
      "cols(\n",
      "  gene_names = \u001b[31mcol_character()\u001b[39m,\n",
      "  `1` = \u001b[32mcol_double()\u001b[39m,\n",
      "  `2` = \u001b[32mcol_double()\u001b[39m,\n",
      "  wilcoxon_logfc = \u001b[32mcol_double()\u001b[39m,\n",
      "  wilcoxon_padj = \u001b[32mcol_double()\u001b[39m,\n",
      "  wilcoxon_score = \u001b[32mcol_double()\u001b[39m,\n",
      "  `t-test_logfc` = \u001b[32mcol_double()\u001b[39m,\n",
      "  `t-test_padj` = \u001b[32mcol_double()\u001b[39m,\n",
      "  `t-test_score` = \u001b[32mcol_double()\u001b[39m,\n",
      "  `t-test_overestim_var_logfc` = \u001b[32mcol_double()\u001b[39m,\n",
      "  `t-test_overestim_var_padj` = \u001b[32mcol_double()\u001b[39m,\n",
      "  `t-test_overestim_var_score` = \u001b[32mcol_double()\u001b[39m\n",
      ")\n",
      "\n",
      "Warning message:\n",
      "“Unknown columns: `gene_name`”\n"
     ]
    },
    {
     "name": "stdout",
     "output_type": "stream",
     "text": [
      "[1] \"2_vs_1    Gene number: 3828\"\n"
     ]
    },
    {
     "name": "stderr",
     "output_type": "stream",
     "text": [
      "'select()' returned 1:many mapping between keys and columns\n",
      "\n",
      "Parsed with column specification:\n",
      "cols(\n",
      "  gene_names = \u001b[31mcol_character()\u001b[39m,\n",
      "  `2` = \u001b[32mcol_double()\u001b[39m,\n",
      "  `3` = \u001b[32mcol_double()\u001b[39m,\n",
      "  wilcoxon_logfc = \u001b[32mcol_double()\u001b[39m,\n",
      "  wilcoxon_padj = \u001b[32mcol_double()\u001b[39m,\n",
      "  wilcoxon_score = \u001b[32mcol_double()\u001b[39m,\n",
      "  `t-test_logfc` = \u001b[32mcol_double()\u001b[39m,\n",
      "  `t-test_padj` = \u001b[32mcol_double()\u001b[39m,\n",
      "  `t-test_score` = \u001b[32mcol_double()\u001b[39m,\n",
      "  `t-test_overestim_var_logfc` = \u001b[32mcol_double()\u001b[39m,\n",
      "  `t-test_overestim_var_padj` = \u001b[32mcol_double()\u001b[39m,\n",
      "  `t-test_overestim_var_score` = \u001b[32mcol_double()\u001b[39m\n",
      ")\n",
      "\n",
      "Warning message:\n",
      "“Unknown columns: `gene_name`”\n"
     ]
    },
    {
     "name": "stdout",
     "output_type": "stream",
     "text": [
      "[1] \"2_vs_3    Gene number: 1519\"\n"
     ]
    },
    {
     "name": "stderr",
     "output_type": "stream",
     "text": [
      "'select()' returned 1:many mapping between keys and columns\n",
      "\n",
      "Parsed with column specification:\n",
      "cols(\n",
      "  gene_names = \u001b[31mcol_character()\u001b[39m,\n",
      "  `2` = \u001b[32mcol_double()\u001b[39m,\n",
      "  `4` = \u001b[32mcol_double()\u001b[39m,\n",
      "  wilcoxon_logfc = \u001b[32mcol_double()\u001b[39m,\n",
      "  wilcoxon_padj = \u001b[32mcol_double()\u001b[39m,\n",
      "  wilcoxon_score = \u001b[32mcol_double()\u001b[39m,\n",
      "  `t-test_logfc` = \u001b[32mcol_double()\u001b[39m,\n",
      "  `t-test_padj` = \u001b[32mcol_double()\u001b[39m,\n",
      "  `t-test_score` = \u001b[32mcol_double()\u001b[39m,\n",
      "  `t-test_overestim_var_logfc` = \u001b[32mcol_double()\u001b[39m,\n",
      "  `t-test_overestim_var_padj` = \u001b[32mcol_double()\u001b[39m,\n",
      "  `t-test_overestim_var_score` = \u001b[32mcol_double()\u001b[39m\n",
      ")\n",
      "\n",
      "Warning message:\n",
      "“Unknown columns: `gene_name`”\n"
     ]
    },
    {
     "name": "stdout",
     "output_type": "stream",
     "text": [
      "[1] \"2_vs_4    Gene number: 1375\"\n"
     ]
    },
    {
     "name": "stderr",
     "output_type": "stream",
     "text": [
      "'select()' returned 1:many mapping between keys and columns\n",
      "\n",
      "Parsed with column specification:\n",
      "cols(\n",
      "  gene_names = \u001b[31mcol_character()\u001b[39m,\n",
      "  `2` = \u001b[32mcol_double()\u001b[39m,\n",
      "  `5` = \u001b[32mcol_double()\u001b[39m,\n",
      "  wilcoxon_logfc = \u001b[32mcol_double()\u001b[39m,\n",
      "  wilcoxon_padj = \u001b[32mcol_double()\u001b[39m,\n",
      "  wilcoxon_score = \u001b[32mcol_double()\u001b[39m,\n",
      "  `t-test_logfc` = \u001b[32mcol_double()\u001b[39m,\n",
      "  `t-test_padj` = \u001b[32mcol_double()\u001b[39m,\n",
      "  `t-test_score` = \u001b[32mcol_double()\u001b[39m,\n",
      "  `t-test_overestim_var_logfc` = \u001b[32mcol_double()\u001b[39m,\n",
      "  `t-test_overestim_var_padj` = \u001b[32mcol_double()\u001b[39m,\n",
      "  `t-test_overestim_var_score` = \u001b[32mcol_double()\u001b[39m\n",
      ")\n",
      "\n",
      "Warning message:\n",
      "“Unknown columns: `gene_name`”\n"
     ]
    },
    {
     "name": "stdout",
     "output_type": "stream",
     "text": [
      "[1] \"2_vs_5    Gene number: 2883\"\n"
     ]
    },
    {
     "name": "stderr",
     "output_type": "stream",
     "text": [
      "'select()' returned 1:many mapping between keys and columns\n",
      "\n",
      "Parsed with column specification:\n",
      "cols(\n",
      "  gene_names = \u001b[31mcol_character()\u001b[39m,\n",
      "  `2` = \u001b[32mcol_double()\u001b[39m,\n",
      "  `6` = \u001b[32mcol_double()\u001b[39m,\n",
      "  wilcoxon_logfc = \u001b[32mcol_double()\u001b[39m,\n",
      "  wilcoxon_padj = \u001b[32mcol_double()\u001b[39m,\n",
      "  wilcoxon_score = \u001b[32mcol_double()\u001b[39m,\n",
      "  `t-test_logfc` = \u001b[32mcol_double()\u001b[39m,\n",
      "  `t-test_padj` = \u001b[32mcol_double()\u001b[39m,\n",
      "  `t-test_score` = \u001b[32mcol_double()\u001b[39m,\n",
      "  `t-test_overestim_var_logfc` = \u001b[32mcol_double()\u001b[39m,\n",
      "  `t-test_overestim_var_padj` = \u001b[32mcol_double()\u001b[39m,\n",
      "  `t-test_overestim_var_score` = \u001b[32mcol_double()\u001b[39m\n",
      ")\n",
      "\n",
      "Warning message:\n",
      "“Unknown columns: `gene_name`”\n"
     ]
    },
    {
     "name": "stdout",
     "output_type": "stream",
     "text": [
      "[1] \"2_vs_6    Gene number: 3884\"\n"
     ]
    },
    {
     "name": "stderr",
     "output_type": "stream",
     "text": [
      "'select()' returned 1:many mapping between keys and columns\n",
      "\n",
      "Parsed with column specification:\n",
      "cols(\n",
      "  gene_names = \u001b[31mcol_character()\u001b[39m,\n",
      "  `2` = \u001b[32mcol_double()\u001b[39m,\n",
      "  `7` = \u001b[32mcol_double()\u001b[39m,\n",
      "  wilcoxon_logfc = \u001b[32mcol_double()\u001b[39m,\n",
      "  wilcoxon_padj = \u001b[32mcol_double()\u001b[39m,\n",
      "  wilcoxon_score = \u001b[32mcol_double()\u001b[39m,\n",
      "  `t-test_logfc` = \u001b[32mcol_double()\u001b[39m,\n",
      "  `t-test_padj` = \u001b[32mcol_double()\u001b[39m,\n",
      "  `t-test_score` = \u001b[32mcol_double()\u001b[39m,\n",
      "  `t-test_overestim_var_logfc` = \u001b[32mcol_double()\u001b[39m,\n",
      "  `t-test_overestim_var_padj` = \u001b[32mcol_double()\u001b[39m,\n",
      "  `t-test_overestim_var_score` = \u001b[32mcol_double()\u001b[39m\n",
      ")\n",
      "\n",
      "Warning message:\n",
      "“Unknown columns: `gene_name`”\n"
     ]
    },
    {
     "name": "stdout",
     "output_type": "stream",
     "text": [
      "[1] \"2_vs_7    Gene number: 2244\"\n"
     ]
    },
    {
     "name": "stderr",
     "output_type": "stream",
     "text": [
      "'select()' returned 1:many mapping between keys and columns\n",
      "\n",
      "Parsed with column specification:\n",
      "cols(\n",
      "  gene_names = \u001b[31mcol_character()\u001b[39m,\n",
      "  `2` = \u001b[32mcol_double()\u001b[39m,\n",
      "  `8` = \u001b[32mcol_double()\u001b[39m,\n",
      "  wilcoxon_logfc = \u001b[32mcol_double()\u001b[39m,\n",
      "  wilcoxon_padj = \u001b[32mcol_double()\u001b[39m,\n",
      "  wilcoxon_score = \u001b[32mcol_double()\u001b[39m,\n",
      "  `t-test_logfc` = \u001b[32mcol_double()\u001b[39m,\n",
      "  `t-test_padj` = \u001b[32mcol_double()\u001b[39m,\n",
      "  `t-test_score` = \u001b[32mcol_double()\u001b[39m,\n",
      "  `t-test_overestim_var_logfc` = \u001b[32mcol_double()\u001b[39m,\n",
      "  `t-test_overestim_var_padj` = \u001b[32mcol_double()\u001b[39m,\n",
      "  `t-test_overestim_var_score` = \u001b[32mcol_double()\u001b[39m\n",
      ")\n",
      "\n",
      "Warning message:\n",
      "“Unknown columns: `gene_name`”\n"
     ]
    },
    {
     "name": "stdout",
     "output_type": "stream",
     "text": [
      "[1] \"2_vs_8    Gene number: 1750\"\n"
     ]
    },
    {
     "name": "stderr",
     "output_type": "stream",
     "text": [
      "'select()' returned 1:many mapping between keys and columns\n",
      "\n",
      "Parsed with column specification:\n",
      "cols(\n",
      "  gene_names = \u001b[31mcol_character()\u001b[39m,\n",
      "  `2` = \u001b[32mcol_double()\u001b[39m,\n",
      "  `9` = \u001b[32mcol_double()\u001b[39m,\n",
      "  wilcoxon_logfc = \u001b[32mcol_double()\u001b[39m,\n",
      "  wilcoxon_padj = \u001b[32mcol_double()\u001b[39m,\n",
      "  wilcoxon_score = \u001b[32mcol_double()\u001b[39m,\n",
      "  `t-test_logfc` = \u001b[32mcol_double()\u001b[39m,\n",
      "  `t-test_padj` = \u001b[32mcol_double()\u001b[39m,\n",
      "  `t-test_score` = \u001b[32mcol_double()\u001b[39m,\n",
      "  `t-test_overestim_var_logfc` = \u001b[32mcol_double()\u001b[39m,\n",
      "  `t-test_overestim_var_padj` = \u001b[32mcol_double()\u001b[39m,\n",
      "  `t-test_overestim_var_score` = \u001b[32mcol_double()\u001b[39m\n",
      ")\n",
      "\n",
      "Warning message:\n",
      "“Unknown columns: `gene_name`”\n"
     ]
    },
    {
     "name": "stdout",
     "output_type": "stream",
     "text": [
      "[1] \"2_vs_9    Gene number: 1612\"\n"
     ]
    },
    {
     "name": "stderr",
     "output_type": "stream",
     "text": [
      "'select()' returned 1:many mapping between keys and columns\n",
      "\n",
      "Parsed with column specification:\n",
      "cols(\n",
      "  gene_names = \u001b[31mcol_character()\u001b[39m,\n",
      "  `0` = \u001b[32mcol_double()\u001b[39m,\n",
      "  `3` = \u001b[32mcol_double()\u001b[39m,\n",
      "  wilcoxon_logfc = \u001b[32mcol_double()\u001b[39m,\n",
      "  wilcoxon_padj = \u001b[32mcol_double()\u001b[39m,\n",
      "  wilcoxon_score = \u001b[32mcol_double()\u001b[39m,\n",
      "  `t-test_logfc` = \u001b[32mcol_double()\u001b[39m,\n",
      "  `t-test_padj` = \u001b[32mcol_double()\u001b[39m,\n",
      "  `t-test_score` = \u001b[32mcol_double()\u001b[39m,\n",
      "  `t-test_overestim_var_logfc` = \u001b[32mcol_double()\u001b[39m,\n",
      "  `t-test_overestim_var_padj` = \u001b[32mcol_double()\u001b[39m,\n",
      "  `t-test_overestim_var_score` = \u001b[32mcol_double()\u001b[39m\n",
      ")\n",
      "\n",
      "Warning message:\n",
      "“Unknown columns: `gene_name`”\n"
     ]
    },
    {
     "name": "stdout",
     "output_type": "stream",
     "text": [
      "[1] \"3_vs_0    Gene number: 4432\"\n"
     ]
    },
    {
     "name": "stderr",
     "output_type": "stream",
     "text": [
      "'select()' returned 1:many mapping between keys and columns\n",
      "\n",
      "Parsed with column specification:\n",
      "cols(\n",
      "  gene_names = \u001b[31mcol_character()\u001b[39m,\n",
      "  `1` = \u001b[32mcol_double()\u001b[39m,\n",
      "  `3` = \u001b[32mcol_double()\u001b[39m,\n",
      "  wilcoxon_logfc = \u001b[32mcol_double()\u001b[39m,\n",
      "  wilcoxon_padj = \u001b[32mcol_double()\u001b[39m,\n",
      "  wilcoxon_score = \u001b[32mcol_double()\u001b[39m,\n",
      "  `t-test_logfc` = \u001b[32mcol_double()\u001b[39m,\n",
      "  `t-test_padj` = \u001b[32mcol_double()\u001b[39m,\n",
      "  `t-test_score` = \u001b[32mcol_double()\u001b[39m,\n",
      "  `t-test_overestim_var_logfc` = \u001b[32mcol_double()\u001b[39m,\n",
      "  `t-test_overestim_var_padj` = \u001b[32mcol_double()\u001b[39m,\n",
      "  `t-test_overestim_var_score` = \u001b[32mcol_double()\u001b[39m\n",
      ")\n",
      "\n",
      "Warning message:\n",
      "“Unknown columns: `gene_name`”\n"
     ]
    },
    {
     "name": "stdout",
     "output_type": "stream",
     "text": [
      "[1] \"3_vs_1    Gene number: 5258\"\n"
     ]
    },
    {
     "name": "stderr",
     "output_type": "stream",
     "text": [
      "'select()' returned 1:many mapping between keys and columns\n",
      "\n",
      "Parsed with column specification:\n",
      "cols(\n",
      "  gene_names = \u001b[31mcol_character()\u001b[39m,\n",
      "  `2` = \u001b[32mcol_double()\u001b[39m,\n",
      "  `3` = \u001b[32mcol_double()\u001b[39m,\n",
      "  wilcoxon_logfc = \u001b[32mcol_double()\u001b[39m,\n",
      "  wilcoxon_padj = \u001b[32mcol_double()\u001b[39m,\n",
      "  wilcoxon_score = \u001b[32mcol_double()\u001b[39m,\n",
      "  `t-test_logfc` = \u001b[32mcol_double()\u001b[39m,\n",
      "  `t-test_padj` = \u001b[32mcol_double()\u001b[39m,\n",
      "  `t-test_score` = \u001b[32mcol_double()\u001b[39m,\n",
      "  `t-test_overestim_var_logfc` = \u001b[32mcol_double()\u001b[39m,\n",
      "  `t-test_overestim_var_padj` = \u001b[32mcol_double()\u001b[39m,\n",
      "  `t-test_overestim_var_score` = \u001b[32mcol_double()\u001b[39m\n",
      ")\n",
      "\n",
      "Warning message:\n",
      "“Unknown columns: `gene_name`”\n"
     ]
    },
    {
     "name": "stdout",
     "output_type": "stream",
     "text": [
      "[1] \"3_vs_2    Gene number: 2451\"\n"
     ]
    },
    {
     "name": "stderr",
     "output_type": "stream",
     "text": [
      "'select()' returned 1:many mapping between keys and columns\n",
      "\n",
      "Parsed with column specification:\n",
      "cols(\n",
      "  gene_names = \u001b[31mcol_character()\u001b[39m,\n",
      "  `3` = \u001b[32mcol_double()\u001b[39m,\n",
      "  `4` = \u001b[32mcol_double()\u001b[39m,\n",
      "  wilcoxon_logfc = \u001b[32mcol_double()\u001b[39m,\n",
      "  wilcoxon_padj = \u001b[32mcol_double()\u001b[39m,\n",
      "  wilcoxon_score = \u001b[32mcol_double()\u001b[39m,\n",
      "  `t-test_logfc` = \u001b[32mcol_double()\u001b[39m,\n",
      "  `t-test_padj` = \u001b[32mcol_double()\u001b[39m,\n",
      "  `t-test_score` = \u001b[32mcol_double()\u001b[39m,\n",
      "  `t-test_overestim_var_logfc` = \u001b[32mcol_double()\u001b[39m,\n",
      "  `t-test_overestim_var_padj` = \u001b[32mcol_double()\u001b[39m,\n",
      "  `t-test_overestim_var_score` = \u001b[32mcol_double()\u001b[39m\n",
      ")\n",
      "\n",
      "Warning message:\n",
      "“Unknown columns: `gene_name`”\n"
     ]
    },
    {
     "name": "stdout",
     "output_type": "stream",
     "text": [
      "[1] \"3_vs_4    Gene number: 1395\"\n"
     ]
    },
    {
     "name": "stderr",
     "output_type": "stream",
     "text": [
      "'select()' returned 1:many mapping between keys and columns\n",
      "\n",
      "Parsed with column specification:\n",
      "cols(\n",
      "  gene_names = \u001b[31mcol_character()\u001b[39m,\n",
      "  `3` = \u001b[32mcol_double()\u001b[39m,\n",
      "  `5` = \u001b[32mcol_double()\u001b[39m,\n",
      "  wilcoxon_logfc = \u001b[32mcol_double()\u001b[39m,\n",
      "  wilcoxon_padj = \u001b[32mcol_double()\u001b[39m,\n",
      "  wilcoxon_score = \u001b[32mcol_double()\u001b[39m,\n",
      "  `t-test_logfc` = \u001b[32mcol_double()\u001b[39m,\n",
      "  `t-test_padj` = \u001b[32mcol_double()\u001b[39m,\n",
      "  `t-test_score` = \u001b[32mcol_double()\u001b[39m,\n",
      "  `t-test_overestim_var_logfc` = \u001b[32mcol_double()\u001b[39m,\n",
      "  `t-test_overestim_var_padj` = \u001b[32mcol_double()\u001b[39m,\n",
      "  `t-test_overestim_var_score` = \u001b[32mcol_double()\u001b[39m\n",
      ")\n",
      "\n",
      "Warning message:\n",
      "“Unknown columns: `gene_name`”\n"
     ]
    },
    {
     "name": "stdout",
     "output_type": "stream",
     "text": [
      "[1] \"3_vs_5    Gene number: 4059\"\n"
     ]
    },
    {
     "name": "stderr",
     "output_type": "stream",
     "text": [
      "'select()' returned 1:many mapping between keys and columns\n",
      "\n",
      "Parsed with column specification:\n",
      "cols(\n",
      "  gene_names = \u001b[31mcol_character()\u001b[39m,\n",
      "  `3` = \u001b[32mcol_double()\u001b[39m,\n",
      "  `6` = \u001b[32mcol_double()\u001b[39m,\n",
      "  wilcoxon_logfc = \u001b[32mcol_double()\u001b[39m,\n",
      "  wilcoxon_padj = \u001b[32mcol_double()\u001b[39m,\n",
      "  wilcoxon_score = \u001b[32mcol_double()\u001b[39m,\n",
      "  `t-test_logfc` = \u001b[32mcol_double()\u001b[39m,\n",
      "  `t-test_padj` = \u001b[32mcol_double()\u001b[39m,\n",
      "  `t-test_score` = \u001b[32mcol_double()\u001b[39m,\n",
      "  `t-test_overestim_var_logfc` = \u001b[32mcol_double()\u001b[39m,\n",
      "  `t-test_overestim_var_padj` = \u001b[32mcol_double()\u001b[39m,\n",
      "  `t-test_overestim_var_score` = \u001b[32mcol_double()\u001b[39m\n",
      ")\n",
      "\n",
      "Warning message:\n",
      "“Unknown columns: `gene_name`”\n"
     ]
    },
    {
     "name": "stdout",
     "output_type": "stream",
     "text": [
      "[1] \"3_vs_6    Gene number: 5186\"\n"
     ]
    },
    {
     "name": "stderr",
     "output_type": "stream",
     "text": [
      "'select()' returned 1:many mapping between keys and columns\n",
      "\n",
      "Parsed with column specification:\n",
      "cols(\n",
      "  gene_names = \u001b[31mcol_character()\u001b[39m,\n",
      "  `3` = \u001b[32mcol_double()\u001b[39m,\n",
      "  `7` = \u001b[32mcol_double()\u001b[39m,\n",
      "  wilcoxon_logfc = \u001b[32mcol_double()\u001b[39m,\n",
      "  wilcoxon_padj = \u001b[32mcol_double()\u001b[39m,\n",
      "  wilcoxon_score = \u001b[32mcol_double()\u001b[39m,\n",
      "  `t-test_logfc` = \u001b[32mcol_double()\u001b[39m,\n",
      "  `t-test_padj` = \u001b[32mcol_double()\u001b[39m,\n",
      "  `t-test_score` = \u001b[32mcol_double()\u001b[39m,\n",
      "  `t-test_overestim_var_logfc` = \u001b[32mcol_double()\u001b[39m,\n",
      "  `t-test_overestim_var_padj` = \u001b[32mcol_double()\u001b[39m,\n",
      "  `t-test_overestim_var_score` = \u001b[32mcol_double()\u001b[39m\n",
      ")\n",
      "\n",
      "Warning message:\n",
      "“Unknown columns: `gene_name`”\n"
     ]
    },
    {
     "name": "stdout",
     "output_type": "stream",
     "text": [
      "[1] \"3_vs_7    Gene number: 2944\"\n"
     ]
    },
    {
     "name": "stderr",
     "output_type": "stream",
     "text": [
      "'select()' returned 1:many mapping between keys and columns\n",
      "\n",
      "Parsed with column specification:\n",
      "cols(\n",
      "  gene_names = \u001b[31mcol_character()\u001b[39m,\n",
      "  `3` = \u001b[32mcol_double()\u001b[39m,\n",
      "  `8` = \u001b[32mcol_double()\u001b[39m,\n",
      "  wilcoxon_logfc = \u001b[32mcol_double()\u001b[39m,\n",
      "  wilcoxon_padj = \u001b[32mcol_double()\u001b[39m,\n",
      "  wilcoxon_score = \u001b[32mcol_double()\u001b[39m,\n",
      "  `t-test_logfc` = \u001b[32mcol_double()\u001b[39m,\n",
      "  `t-test_padj` = \u001b[32mcol_double()\u001b[39m,\n",
      "  `t-test_score` = \u001b[32mcol_double()\u001b[39m,\n",
      "  `t-test_overestim_var_logfc` = \u001b[32mcol_double()\u001b[39m,\n",
      "  `t-test_overestim_var_padj` = \u001b[32mcol_double()\u001b[39m,\n",
      "  `t-test_overestim_var_score` = \u001b[32mcol_double()\u001b[39m\n",
      ")\n",
      "\n",
      "Warning message:\n",
      "“Unknown columns: `gene_name`”\n"
     ]
    },
    {
     "name": "stdout",
     "output_type": "stream",
     "text": [
      "[1] \"3_vs_8    Gene number: 2776\"\n"
     ]
    },
    {
     "name": "stderr",
     "output_type": "stream",
     "text": [
      "'select()' returned 1:many mapping between keys and columns\n",
      "\n",
      "Parsed with column specification:\n",
      "cols(\n",
      "  gene_names = \u001b[31mcol_character()\u001b[39m,\n",
      "  `3` = \u001b[32mcol_double()\u001b[39m,\n",
      "  `9` = \u001b[32mcol_double()\u001b[39m,\n",
      "  wilcoxon_logfc = \u001b[32mcol_double()\u001b[39m,\n",
      "  wilcoxon_padj = \u001b[32mcol_double()\u001b[39m,\n",
      "  wilcoxon_score = \u001b[32mcol_double()\u001b[39m,\n",
      "  `t-test_logfc` = \u001b[32mcol_double()\u001b[39m,\n",
      "  `t-test_padj` = \u001b[32mcol_double()\u001b[39m,\n",
      "  `t-test_score` = \u001b[32mcol_double()\u001b[39m,\n",
      "  `t-test_overestim_var_logfc` = \u001b[32mcol_double()\u001b[39m,\n",
      "  `t-test_overestim_var_padj` = \u001b[32mcol_double()\u001b[39m,\n",
      "  `t-test_overestim_var_score` = \u001b[32mcol_double()\u001b[39m\n",
      ")\n",
      "\n",
      "Warning message:\n",
      "“Unknown columns: `gene_name`”\n"
     ]
    },
    {
     "name": "stdout",
     "output_type": "stream",
     "text": [
      "[1] \"3_vs_9    Gene number: 1490\"\n"
     ]
    },
    {
     "name": "stderr",
     "output_type": "stream",
     "text": [
      "'select()' returned 1:many mapping between keys and columns\n",
      "\n",
      "Parsed with column specification:\n",
      "cols(\n",
      "  gene_names = \u001b[31mcol_character()\u001b[39m,\n",
      "  `0` = \u001b[32mcol_double()\u001b[39m,\n",
      "  `4` = \u001b[32mcol_double()\u001b[39m,\n",
      "  wilcoxon_logfc = \u001b[32mcol_double()\u001b[39m,\n",
      "  wilcoxon_padj = \u001b[32mcol_double()\u001b[39m,\n",
      "  wilcoxon_score = \u001b[32mcol_double()\u001b[39m,\n",
      "  `t-test_logfc` = \u001b[32mcol_double()\u001b[39m,\n",
      "  `t-test_padj` = \u001b[32mcol_double()\u001b[39m,\n",
      "  `t-test_score` = \u001b[32mcol_double()\u001b[39m,\n",
      "  `t-test_overestim_var_logfc` = \u001b[32mcol_double()\u001b[39m,\n",
      "  `t-test_overestim_var_padj` = \u001b[32mcol_double()\u001b[39m,\n",
      "  `t-test_overestim_var_score` = \u001b[32mcol_double()\u001b[39m\n",
      ")\n",
      "\n",
      "Warning message:\n",
      "“Unknown columns: `gene_name`”\n"
     ]
    },
    {
     "name": "stdout",
     "output_type": "stream",
     "text": [
      "[1] \"4_vs_0    Gene number: 4175\"\n"
     ]
    },
    {
     "name": "stderr",
     "output_type": "stream",
     "text": [
      "'select()' returned 1:many mapping between keys and columns\n",
      "\n",
      "Parsed with column specification:\n",
      "cols(\n",
      "  gene_names = \u001b[31mcol_character()\u001b[39m,\n",
      "  `1` = \u001b[32mcol_double()\u001b[39m,\n",
      "  `4` = \u001b[32mcol_double()\u001b[39m,\n",
      "  wilcoxon_logfc = \u001b[32mcol_double()\u001b[39m,\n",
      "  wilcoxon_padj = \u001b[32mcol_double()\u001b[39m,\n",
      "  wilcoxon_score = \u001b[32mcol_double()\u001b[39m,\n",
      "  `t-test_logfc` = \u001b[32mcol_double()\u001b[39m,\n",
      "  `t-test_padj` = \u001b[32mcol_double()\u001b[39m,\n",
      "  `t-test_score` = \u001b[32mcol_double()\u001b[39m,\n",
      "  `t-test_overestim_var_logfc` = \u001b[32mcol_double()\u001b[39m,\n",
      "  `t-test_overestim_var_padj` = \u001b[32mcol_double()\u001b[39m,\n",
      "  `t-test_overestim_var_score` = \u001b[32mcol_double()\u001b[39m\n",
      ")\n",
      "\n",
      "Warning message:\n",
      "“Unknown columns: `gene_name`”\n"
     ]
    },
    {
     "name": "stdout",
     "output_type": "stream",
     "text": [
      "[1] \"4_vs_1    Gene number: 5051\"\n"
     ]
    },
    {
     "name": "stderr",
     "output_type": "stream",
     "text": [
      "'select()' returned 1:many mapping between keys and columns\n",
      "\n",
      "Parsed with column specification:\n",
      "cols(\n",
      "  gene_names = \u001b[31mcol_character()\u001b[39m,\n",
      "  `2` = \u001b[32mcol_double()\u001b[39m,\n",
      "  `4` = \u001b[32mcol_double()\u001b[39m,\n",
      "  wilcoxon_logfc = \u001b[32mcol_double()\u001b[39m,\n",
      "  wilcoxon_padj = \u001b[32mcol_double()\u001b[39m,\n",
      "  wilcoxon_score = \u001b[32mcol_double()\u001b[39m,\n",
      "  `t-test_logfc` = \u001b[32mcol_double()\u001b[39m,\n",
      "  `t-test_padj` = \u001b[32mcol_double()\u001b[39m,\n",
      "  `t-test_score` = \u001b[32mcol_double()\u001b[39m,\n",
      "  `t-test_overestim_var_logfc` = \u001b[32mcol_double()\u001b[39m,\n",
      "  `t-test_overestim_var_padj` = \u001b[32mcol_double()\u001b[39m,\n",
      "  `t-test_overestim_var_score` = \u001b[32mcol_double()\u001b[39m\n",
      ")\n",
      "\n",
      "Warning message:\n",
      "“Unknown columns: `gene_name`”\n"
     ]
    },
    {
     "name": "stdout",
     "output_type": "stream",
     "text": [
      "[1] \"4_vs_2    Gene number: 2401\"\n"
     ]
    },
    {
     "name": "stderr",
     "output_type": "stream",
     "text": [
      "'select()' returned 1:many mapping between keys and columns\n",
      "\n",
      "Parsed with column specification:\n",
      "cols(\n",
      "  gene_names = \u001b[31mcol_character()\u001b[39m,\n",
      "  `3` = \u001b[32mcol_double()\u001b[39m,\n",
      "  `4` = \u001b[32mcol_double()\u001b[39m,\n",
      "  wilcoxon_logfc = \u001b[32mcol_double()\u001b[39m,\n",
      "  wilcoxon_padj = \u001b[32mcol_double()\u001b[39m,\n",
      "  wilcoxon_score = \u001b[32mcol_double()\u001b[39m,\n",
      "  `t-test_logfc` = \u001b[32mcol_double()\u001b[39m,\n",
      "  `t-test_padj` = \u001b[32mcol_double()\u001b[39m,\n",
      "  `t-test_score` = \u001b[32mcol_double()\u001b[39m,\n",
      "  `t-test_overestim_var_logfc` = \u001b[32mcol_double()\u001b[39m,\n",
      "  `t-test_overestim_var_padj` = \u001b[32mcol_double()\u001b[39m,\n",
      "  `t-test_overestim_var_score` = \u001b[32mcol_double()\u001b[39m\n",
      ")\n",
      "\n",
      "Warning message:\n",
      "“Unknown columns: `gene_name`”\n"
     ]
    },
    {
     "name": "stdout",
     "output_type": "stream",
     "text": [
      "[1] \"4_vs_3    Gene number: 1311\"\n"
     ]
    },
    {
     "name": "stderr",
     "output_type": "stream",
     "text": [
      "'select()' returned 1:many mapping between keys and columns\n",
      "\n",
      "Parsed with column specification:\n",
      "cols(\n",
      "  gene_names = \u001b[31mcol_character()\u001b[39m,\n",
      "  `4` = \u001b[32mcol_double()\u001b[39m,\n",
      "  `5` = \u001b[32mcol_double()\u001b[39m,\n",
      "  wilcoxon_logfc = \u001b[32mcol_double()\u001b[39m,\n",
      "  wilcoxon_padj = \u001b[32mcol_double()\u001b[39m,\n",
      "  wilcoxon_score = \u001b[32mcol_double()\u001b[39m,\n",
      "  `t-test_logfc` = \u001b[32mcol_double()\u001b[39m,\n",
      "  `t-test_padj` = \u001b[32mcol_double()\u001b[39m,\n",
      "  `t-test_score` = \u001b[32mcol_double()\u001b[39m,\n",
      "  `t-test_overestim_var_logfc` = \u001b[32mcol_double()\u001b[39m,\n",
      "  `t-test_overestim_var_padj` = \u001b[32mcol_double()\u001b[39m,\n",
      "  `t-test_overestim_var_score` = \u001b[32mcol_double()\u001b[39m\n",
      ")\n",
      "\n",
      "Warning message:\n",
      "“Unknown columns: `gene_name`”\n"
     ]
    },
    {
     "name": "stdout",
     "output_type": "stream",
     "text": [
      "[1] \"4_vs_5    Gene number: 4040\"\n"
     ]
    },
    {
     "name": "stderr",
     "output_type": "stream",
     "text": [
      "'select()' returned 1:many mapping between keys and columns\n",
      "\n",
      "Parsed with column specification:\n",
      "cols(\n",
      "  gene_names = \u001b[31mcol_character()\u001b[39m,\n",
      "  `4` = \u001b[32mcol_double()\u001b[39m,\n",
      "  `6` = \u001b[32mcol_double()\u001b[39m,\n",
      "  wilcoxon_logfc = \u001b[32mcol_double()\u001b[39m,\n",
      "  wilcoxon_padj = \u001b[32mcol_double()\u001b[39m,\n",
      "  wilcoxon_score = \u001b[32mcol_double()\u001b[39m,\n",
      "  `t-test_logfc` = \u001b[32mcol_double()\u001b[39m,\n",
      "  `t-test_padj` = \u001b[32mcol_double()\u001b[39m,\n",
      "  `t-test_score` = \u001b[32mcol_double()\u001b[39m,\n",
      "  `t-test_overestim_var_logfc` = \u001b[32mcol_double()\u001b[39m,\n",
      "  `t-test_overestim_var_padj` = \u001b[32mcol_double()\u001b[39m,\n",
      "  `t-test_overestim_var_score` = \u001b[32mcol_double()\u001b[39m\n",
      ")\n",
      "\n",
      "Warning message:\n",
      "“Unknown columns: `gene_name`”\n"
     ]
    },
    {
     "name": "stdout",
     "output_type": "stream",
     "text": [
      "[1] \"4_vs_6    Gene number: 5119\"\n"
     ]
    },
    {
     "name": "stderr",
     "output_type": "stream",
     "text": [
      "'select()' returned 1:many mapping between keys and columns\n",
      "\n",
      "Parsed with column specification:\n",
      "cols(\n",
      "  gene_names = \u001b[31mcol_character()\u001b[39m,\n",
      "  `4` = \u001b[32mcol_double()\u001b[39m,\n",
      "  `7` = \u001b[32mcol_double()\u001b[39m,\n",
      "  wilcoxon_logfc = \u001b[32mcol_double()\u001b[39m,\n",
      "  wilcoxon_padj = \u001b[32mcol_double()\u001b[39m,\n",
      "  wilcoxon_score = \u001b[32mcol_double()\u001b[39m,\n",
      "  `t-test_logfc` = \u001b[32mcol_double()\u001b[39m,\n",
      "  `t-test_padj` = \u001b[32mcol_double()\u001b[39m,\n",
      "  `t-test_score` = \u001b[32mcol_double()\u001b[39m,\n",
      "  `t-test_overestim_var_logfc` = \u001b[32mcol_double()\u001b[39m,\n",
      "  `t-test_overestim_var_padj` = \u001b[32mcol_double()\u001b[39m,\n",
      "  `t-test_overestim_var_score` = \u001b[32mcol_double()\u001b[39m\n",
      ")\n",
      "\n",
      "Warning message:\n",
      "“Unknown columns: `gene_name`”\n"
     ]
    },
    {
     "name": "stdout",
     "output_type": "stream",
     "text": [
      "[1] \"4_vs_7    Gene number: 2733\"\n"
     ]
    },
    {
     "name": "stderr",
     "output_type": "stream",
     "text": [
      "'select()' returned 1:many mapping between keys and columns\n",
      "\n",
      "Parsed with column specification:\n",
      "cols(\n",
      "  gene_names = \u001b[31mcol_character()\u001b[39m,\n",
      "  `4` = \u001b[32mcol_double()\u001b[39m,\n",
      "  `8` = \u001b[32mcol_double()\u001b[39m,\n",
      "  wilcoxon_logfc = \u001b[32mcol_double()\u001b[39m,\n",
      "  wilcoxon_padj = \u001b[32mcol_double()\u001b[39m,\n",
      "  wilcoxon_score = \u001b[32mcol_double()\u001b[39m,\n",
      "  `t-test_logfc` = \u001b[32mcol_double()\u001b[39m,\n",
      "  `t-test_padj` = \u001b[32mcol_double()\u001b[39m,\n",
      "  `t-test_score` = \u001b[32mcol_double()\u001b[39m,\n",
      "  `t-test_overestim_var_logfc` = \u001b[32mcol_double()\u001b[39m,\n",
      "  `t-test_overestim_var_padj` = \u001b[32mcol_double()\u001b[39m,\n",
      "  `t-test_overestim_var_score` = \u001b[32mcol_double()\u001b[39m\n",
      ")\n",
      "\n",
      "Warning message:\n",
      "“Unknown columns: `gene_name`”\n"
     ]
    },
    {
     "name": "stdout",
     "output_type": "stream",
     "text": [
      "[1] \"4_vs_8    Gene number: 2613\"\n"
     ]
    },
    {
     "name": "stderr",
     "output_type": "stream",
     "text": [
      "'select()' returned 1:many mapping between keys and columns\n",
      "\n",
      "Parsed with column specification:\n",
      "cols(\n",
      "  gene_names = \u001b[31mcol_character()\u001b[39m,\n",
      "  `4` = \u001b[32mcol_double()\u001b[39m,\n",
      "  `9` = \u001b[32mcol_double()\u001b[39m,\n",
      "  wilcoxon_logfc = \u001b[32mcol_double()\u001b[39m,\n",
      "  wilcoxon_padj = \u001b[32mcol_double()\u001b[39m,\n",
      "  wilcoxon_score = \u001b[32mcol_double()\u001b[39m,\n",
      "  `t-test_logfc` = \u001b[32mcol_double()\u001b[39m,\n",
      "  `t-test_padj` = \u001b[32mcol_double()\u001b[39m,\n",
      "  `t-test_score` = \u001b[32mcol_double()\u001b[39m,\n",
      "  `t-test_overestim_var_logfc` = \u001b[32mcol_double()\u001b[39m,\n",
      "  `t-test_overestim_var_padj` = \u001b[32mcol_double()\u001b[39m,\n",
      "  `t-test_overestim_var_score` = \u001b[32mcol_double()\u001b[39m\n",
      ")\n",
      "\n",
      "Warning message:\n",
      "“Unknown columns: `gene_name`”\n"
     ]
    },
    {
     "name": "stdout",
     "output_type": "stream",
     "text": [
      "[1] \"4_vs_9    Gene number: 1363\"\n"
     ]
    },
    {
     "name": "stderr",
     "output_type": "stream",
     "text": [
      "'select()' returned 1:many mapping between keys and columns\n",
      "\n",
      "Parsed with column specification:\n",
      "cols(\n",
      "  gene_names = \u001b[31mcol_character()\u001b[39m,\n",
      "  `0` = \u001b[32mcol_double()\u001b[39m,\n",
      "  `5` = \u001b[32mcol_double()\u001b[39m,\n",
      "  wilcoxon_logfc = \u001b[32mcol_double()\u001b[39m,\n",
      "  wilcoxon_padj = \u001b[32mcol_double()\u001b[39m,\n",
      "  wilcoxon_score = \u001b[32mcol_double()\u001b[39m,\n",
      "  `t-test_logfc` = \u001b[32mcol_double()\u001b[39m,\n",
      "  `t-test_padj` = \u001b[32mcol_double()\u001b[39m,\n",
      "  `t-test_score` = \u001b[32mcol_double()\u001b[39m,\n",
      "  `t-test_overestim_var_logfc` = \u001b[32mcol_double()\u001b[39m,\n",
      "  `t-test_overestim_var_padj` = \u001b[32mcol_double()\u001b[39m,\n",
      "  `t-test_overestim_var_score` = \u001b[32mcol_double()\u001b[39m\n",
      ")\n",
      "\n",
      "Warning message:\n",
      "“Unknown columns: `gene_name`”\n"
     ]
    },
    {
     "name": "stdout",
     "output_type": "stream",
     "text": [
      "[1] \"5_vs_0    Gene number: 1978\"\n"
     ]
    },
    {
     "name": "stderr",
     "output_type": "stream",
     "text": [
      "'select()' returned 1:many mapping between keys and columns\n",
      "\n",
      "Parsed with column specification:\n",
      "cols(\n",
      "  gene_names = \u001b[31mcol_character()\u001b[39m,\n",
      "  `1` = \u001b[32mcol_double()\u001b[39m,\n",
      "  `5` = \u001b[32mcol_double()\u001b[39m,\n",
      "  wilcoxon_logfc = \u001b[32mcol_double()\u001b[39m,\n",
      "  wilcoxon_padj = \u001b[32mcol_double()\u001b[39m,\n",
      "  wilcoxon_score = \u001b[32mcol_double()\u001b[39m,\n",
      "  `t-test_logfc` = \u001b[32mcol_double()\u001b[39m,\n",
      "  `t-test_padj` = \u001b[32mcol_double()\u001b[39m,\n",
      "  `t-test_score` = \u001b[32mcol_double()\u001b[39m,\n",
      "  `t-test_overestim_var_logfc` = \u001b[32mcol_double()\u001b[39m,\n",
      "  `t-test_overestim_var_padj` = \u001b[32mcol_double()\u001b[39m,\n",
      "  `t-test_overestim_var_score` = \u001b[32mcol_double()\u001b[39m\n",
      ")\n",
      "\n",
      "Warning message:\n",
      "“Unknown columns: `gene_name`”\n"
     ]
    },
    {
     "name": "stdout",
     "output_type": "stream",
     "text": [
      "[1] \"5_vs_1    Gene number: 2828\"\n"
     ]
    },
    {
     "name": "stderr",
     "output_type": "stream",
     "text": [
      "'select()' returned 1:many mapping between keys and columns\n",
      "\n",
      "Parsed with column specification:\n",
      "cols(\n",
      "  gene_names = \u001b[31mcol_character()\u001b[39m,\n",
      "  `2` = \u001b[32mcol_double()\u001b[39m,\n",
      "  `5` = \u001b[32mcol_double()\u001b[39m,\n",
      "  wilcoxon_logfc = \u001b[32mcol_double()\u001b[39m,\n",
      "  wilcoxon_padj = \u001b[32mcol_double()\u001b[39m,\n",
      "  wilcoxon_score = \u001b[32mcol_double()\u001b[39m,\n",
      "  `t-test_logfc` = \u001b[32mcol_double()\u001b[39m,\n",
      "  `t-test_padj` = \u001b[32mcol_double()\u001b[39m,\n",
      "  `t-test_score` = \u001b[32mcol_double()\u001b[39m,\n",
      "  `t-test_overestim_var_logfc` = \u001b[32mcol_double()\u001b[39m,\n",
      "  `t-test_overestim_var_padj` = \u001b[32mcol_double()\u001b[39m,\n",
      "  `t-test_overestim_var_score` = \u001b[32mcol_double()\u001b[39m\n",
      ")\n",
      "\n",
      "Warning message:\n",
      "“Unknown columns: `gene_name`”\n"
     ]
    },
    {
     "name": "stdout",
     "output_type": "stream",
     "text": [
      "[1] \"5_vs_2    Gene number: 2113\"\n"
     ]
    },
    {
     "name": "stderr",
     "output_type": "stream",
     "text": [
      "'select()' returned 1:many mapping between keys and columns\n",
      "\n",
      "Parsed with column specification:\n",
      "cols(\n",
      "  gene_names = \u001b[31mcol_character()\u001b[39m,\n",
      "  `3` = \u001b[32mcol_double()\u001b[39m,\n",
      "  `5` = \u001b[32mcol_double()\u001b[39m,\n",
      "  wilcoxon_logfc = \u001b[32mcol_double()\u001b[39m,\n",
      "  wilcoxon_padj = \u001b[32mcol_double()\u001b[39m,\n",
      "  wilcoxon_score = \u001b[32mcol_double()\u001b[39m,\n",
      "  `t-test_logfc` = \u001b[32mcol_double()\u001b[39m,\n",
      "  `t-test_padj` = \u001b[32mcol_double()\u001b[39m,\n",
      "  `t-test_score` = \u001b[32mcol_double()\u001b[39m,\n",
      "  `t-test_overestim_var_logfc` = \u001b[32mcol_double()\u001b[39m,\n",
      "  `t-test_overestim_var_padj` = \u001b[32mcol_double()\u001b[39m,\n",
      "  `t-test_overestim_var_score` = \u001b[32mcol_double()\u001b[39m\n",
      ")\n",
      "\n",
      "Warning message:\n",
      "“Unknown columns: `gene_name`”\n"
     ]
    },
    {
     "name": "stdout",
     "output_type": "stream",
     "text": [
      "[1] \"5_vs_3    Gene number: 1992\"\n"
     ]
    },
    {
     "name": "stderr",
     "output_type": "stream",
     "text": [
      "'select()' returned 1:many mapping between keys and columns\n",
      "\n",
      "Parsed with column specification:\n",
      "cols(\n",
      "  gene_names = \u001b[31mcol_character()\u001b[39m,\n",
      "  `4` = \u001b[32mcol_double()\u001b[39m,\n",
      "  `5` = \u001b[32mcol_double()\u001b[39m,\n",
      "  wilcoxon_logfc = \u001b[32mcol_double()\u001b[39m,\n",
      "  wilcoxon_padj = \u001b[32mcol_double()\u001b[39m,\n",
      "  wilcoxon_score = \u001b[32mcol_double()\u001b[39m,\n",
      "  `t-test_logfc` = \u001b[32mcol_double()\u001b[39m,\n",
      "  `t-test_padj` = \u001b[32mcol_double()\u001b[39m,\n",
      "  `t-test_score` = \u001b[32mcol_double()\u001b[39m,\n",
      "  `t-test_overestim_var_logfc` = \u001b[32mcol_double()\u001b[39m,\n",
      "  `t-test_overestim_var_padj` = \u001b[32mcol_double()\u001b[39m,\n",
      "  `t-test_overestim_var_score` = \u001b[32mcol_double()\u001b[39m\n",
      ")\n",
      "\n",
      "Warning message:\n",
      "“Unknown columns: `gene_name`”\n"
     ]
    },
    {
     "name": "stdout",
     "output_type": "stream",
     "text": [
      "[1] \"5_vs_4    Gene number: 1989\"\n"
     ]
    },
    {
     "name": "stderr",
     "output_type": "stream",
     "text": [
      "'select()' returned 1:many mapping between keys and columns\n",
      "\n",
      "Parsed with column specification:\n",
      "cols(\n",
      "  gene_names = \u001b[31mcol_character()\u001b[39m,\n",
      "  `5` = \u001b[32mcol_double()\u001b[39m,\n",
      "  `6` = \u001b[32mcol_double()\u001b[39m,\n",
      "  wilcoxon_logfc = \u001b[32mcol_double()\u001b[39m,\n",
      "  wilcoxon_padj = \u001b[32mcol_double()\u001b[39m,\n",
      "  wilcoxon_score = \u001b[32mcol_double()\u001b[39m,\n",
      "  `t-test_logfc` = \u001b[32mcol_double()\u001b[39m,\n",
      "  `t-test_padj` = \u001b[32mcol_double()\u001b[39m,\n",
      "  `t-test_score` = \u001b[32mcol_double()\u001b[39m,\n",
      "  `t-test_overestim_var_logfc` = \u001b[32mcol_double()\u001b[39m,\n",
      "  `t-test_overestim_var_padj` = \u001b[32mcol_double()\u001b[39m,\n",
      "  `t-test_overestim_var_score` = \u001b[32mcol_double()\u001b[39m\n",
      ")\n",
      "\n",
      "Warning message:\n",
      "“Unknown columns: `gene_name`”\n"
     ]
    },
    {
     "name": "stdout",
     "output_type": "stream",
     "text": [
      "[1] \"5_vs_6    Gene number: 2574\"\n"
     ]
    },
    {
     "name": "stderr",
     "output_type": "stream",
     "text": [
      "'select()' returned 1:many mapping between keys and columns\n",
      "\n",
      "Parsed with column specification:\n",
      "cols(\n",
      "  gene_names = \u001b[31mcol_character()\u001b[39m,\n",
      "  `5` = \u001b[32mcol_double()\u001b[39m,\n",
      "  `7` = \u001b[32mcol_double()\u001b[39m,\n",
      "  wilcoxon_logfc = \u001b[32mcol_double()\u001b[39m,\n",
      "  wilcoxon_padj = \u001b[32mcol_double()\u001b[39m,\n",
      "  wilcoxon_score = \u001b[32mcol_double()\u001b[39m,\n",
      "  `t-test_logfc` = \u001b[32mcol_double()\u001b[39m,\n",
      "  `t-test_padj` = \u001b[32mcol_double()\u001b[39m,\n",
      "  `t-test_score` = \u001b[32mcol_double()\u001b[39m,\n",
      "  `t-test_overestim_var_logfc` = \u001b[32mcol_double()\u001b[39m,\n",
      "  `t-test_overestim_var_padj` = \u001b[32mcol_double()\u001b[39m,\n",
      "  `t-test_overestim_var_score` = \u001b[32mcol_double()\u001b[39m\n",
      ")\n",
      "\n",
      "Warning message:\n",
      "“Unknown columns: `gene_name`”\n"
     ]
    },
    {
     "name": "stdout",
     "output_type": "stream",
     "text": [
      "[1] \"5_vs_7    Gene number: 2512\"\n"
     ]
    },
    {
     "name": "stderr",
     "output_type": "stream",
     "text": [
      "'select()' returned 1:many mapping between keys and columns\n",
      "\n",
      "Parsed with column specification:\n",
      "cols(\n",
      "  gene_names = \u001b[31mcol_character()\u001b[39m,\n",
      "  `5` = \u001b[32mcol_double()\u001b[39m,\n",
      "  `8` = \u001b[32mcol_double()\u001b[39m,\n",
      "  wilcoxon_logfc = \u001b[32mcol_double()\u001b[39m,\n",
      "  wilcoxon_padj = \u001b[32mcol_double()\u001b[39m,\n",
      "  wilcoxon_score = \u001b[32mcol_double()\u001b[39m,\n",
      "  `t-test_logfc` = \u001b[32mcol_double()\u001b[39m,\n",
      "  `t-test_padj` = \u001b[32mcol_double()\u001b[39m,\n",
      "  `t-test_score` = \u001b[32mcol_double()\u001b[39m,\n",
      "  `t-test_overestim_var_logfc` = \u001b[32mcol_double()\u001b[39m,\n",
      "  `t-test_overestim_var_padj` = \u001b[32mcol_double()\u001b[39m,\n",
      "  `t-test_overestim_var_score` = \u001b[32mcol_double()\u001b[39m\n",
      ")\n",
      "\n",
      "Warning message:\n",
      "“Unknown columns: `gene_name`”\n"
     ]
    },
    {
     "name": "stdout",
     "output_type": "stream",
     "text": [
      "[1] \"5_vs_8    Gene number: 1915\"\n"
     ]
    },
    {
     "name": "stderr",
     "output_type": "stream",
     "text": [
      "'select()' returned 1:many mapping between keys and columns\n",
      "\n",
      "Parsed with column specification:\n",
      "cols(\n",
      "  gene_names = \u001b[31mcol_character()\u001b[39m,\n",
      "  `5` = \u001b[32mcol_double()\u001b[39m,\n",
      "  `9` = \u001b[32mcol_double()\u001b[39m,\n",
      "  wilcoxon_logfc = \u001b[32mcol_double()\u001b[39m,\n",
      "  wilcoxon_padj = \u001b[32mcol_double()\u001b[39m,\n",
      "  wilcoxon_score = \u001b[32mcol_double()\u001b[39m,\n",
      "  `t-test_logfc` = \u001b[32mcol_double()\u001b[39m,\n",
      "  `t-test_padj` = \u001b[32mcol_double()\u001b[39m,\n",
      "  `t-test_score` = \u001b[32mcol_double()\u001b[39m,\n",
      "  `t-test_overestim_var_logfc` = \u001b[32mcol_double()\u001b[39m,\n",
      "  `t-test_overestim_var_padj` = \u001b[32mcol_double()\u001b[39m,\n",
      "  `t-test_overestim_var_score` = \u001b[32mcol_double()\u001b[39m\n",
      ")\n",
      "\n",
      "Warning message:\n",
      "“Unknown columns: `gene_name`”\n"
     ]
    },
    {
     "name": "stdout",
     "output_type": "stream",
     "text": [
      "[1] \"5_vs_9    Gene number: 1697\"\n"
     ]
    },
    {
     "name": "stderr",
     "output_type": "stream",
     "text": [
      "'select()' returned 1:many mapping between keys and columns\n",
      "\n",
      "Parsed with column specification:\n",
      "cols(\n",
      "  gene_names = \u001b[31mcol_character()\u001b[39m,\n",
      "  `0` = \u001b[32mcol_double()\u001b[39m,\n",
      "  `6` = \u001b[32mcol_double()\u001b[39m,\n",
      "  wilcoxon_logfc = \u001b[32mcol_double()\u001b[39m,\n",
      "  wilcoxon_padj = \u001b[32mcol_double()\u001b[39m,\n",
      "  wilcoxon_score = \u001b[32mcol_double()\u001b[39m,\n",
      "  `t-test_logfc` = \u001b[32mcol_double()\u001b[39m,\n",
      "  `t-test_padj` = \u001b[32mcol_double()\u001b[39m,\n",
      "  `t-test_score` = \u001b[32mcol_double()\u001b[39m,\n",
      "  `t-test_overestim_var_logfc` = \u001b[32mcol_double()\u001b[39m,\n",
      "  `t-test_overestim_var_padj` = \u001b[32mcol_double()\u001b[39m,\n",
      "  `t-test_overestim_var_score` = \u001b[32mcol_double()\u001b[39m\n",
      ")\n",
      "\n",
      "Warning message:\n",
      "“Unknown columns: `gene_name`”\n"
     ]
    },
    {
     "name": "stdout",
     "output_type": "stream",
     "text": [
      "[1] \"6_vs_0    Gene number: 1156\"\n"
     ]
    },
    {
     "name": "stderr",
     "output_type": "stream",
     "text": [
      "'select()' returned 1:many mapping between keys and columns\n",
      "\n",
      "Parsed with column specification:\n",
      "cols(\n",
      "  gene_names = \u001b[31mcol_character()\u001b[39m,\n",
      "  `1` = \u001b[32mcol_double()\u001b[39m,\n",
      "  `6` = \u001b[32mcol_double()\u001b[39m,\n",
      "  wilcoxon_logfc = \u001b[32mcol_double()\u001b[39m,\n",
      "  wilcoxon_padj = \u001b[32mcol_double()\u001b[39m,\n",
      "  wilcoxon_score = \u001b[32mcol_double()\u001b[39m,\n",
      "  `t-test_logfc` = \u001b[32mcol_double()\u001b[39m,\n",
      "  `t-test_padj` = \u001b[32mcol_double()\u001b[39m,\n",
      "  `t-test_score` = \u001b[32mcol_double()\u001b[39m,\n",
      "  `t-test_overestim_var_logfc` = \u001b[32mcol_double()\u001b[39m,\n",
      "  `t-test_overestim_var_padj` = \u001b[32mcol_double()\u001b[39m,\n",
      "  `t-test_overestim_var_score` = \u001b[32mcol_double()\u001b[39m\n",
      ")\n",
      "\n",
      "Warning message:\n",
      "“Unknown columns: `gene_name`”\n"
     ]
    },
    {
     "name": "stdout",
     "output_type": "stream",
     "text": [
      "[1] \"6_vs_1    Gene number: 1628\"\n"
     ]
    },
    {
     "name": "stderr",
     "output_type": "stream",
     "text": [
      "'select()' returned 1:many mapping between keys and columns\n",
      "\n",
      "Parsed with column specification:\n",
      "cols(\n",
      "  gene_names = \u001b[31mcol_character()\u001b[39m,\n",
      "  `2` = \u001b[32mcol_double()\u001b[39m,\n",
      "  `6` = \u001b[32mcol_double()\u001b[39m,\n",
      "  wilcoxon_logfc = \u001b[32mcol_double()\u001b[39m,\n",
      "  wilcoxon_padj = \u001b[32mcol_double()\u001b[39m,\n",
      "  wilcoxon_score = \u001b[32mcol_double()\u001b[39m,\n",
      "  `t-test_logfc` = \u001b[32mcol_double()\u001b[39m,\n",
      "  `t-test_padj` = \u001b[32mcol_double()\u001b[39m,\n",
      "  `t-test_score` = \u001b[32mcol_double()\u001b[39m,\n",
      "  `t-test_overestim_var_logfc` = \u001b[32mcol_double()\u001b[39m,\n",
      "  `t-test_overestim_var_padj` = \u001b[32mcol_double()\u001b[39m,\n",
      "  `t-test_overestim_var_score` = \u001b[32mcol_double()\u001b[39m\n",
      ")\n",
      "\n",
      "Warning message:\n",
      "“Unknown columns: `gene_name`”\n"
     ]
    },
    {
     "name": "stdout",
     "output_type": "stream",
     "text": [
      "[1] \"6_vs_2    Gene number: 1608\"\n"
     ]
    },
    {
     "name": "stderr",
     "output_type": "stream",
     "text": [
      "'select()' returned 1:many mapping between keys and columns\n",
      "\n",
      "Parsed with column specification:\n",
      "cols(\n",
      "  gene_names = \u001b[31mcol_character()\u001b[39m,\n",
      "  `3` = \u001b[32mcol_double()\u001b[39m,\n",
      "  `6` = \u001b[32mcol_double()\u001b[39m,\n",
      "  wilcoxon_logfc = \u001b[32mcol_double()\u001b[39m,\n",
      "  wilcoxon_padj = \u001b[32mcol_double()\u001b[39m,\n",
      "  wilcoxon_score = \u001b[32mcol_double()\u001b[39m,\n",
      "  `t-test_logfc` = \u001b[32mcol_double()\u001b[39m,\n",
      "  `t-test_padj` = \u001b[32mcol_double()\u001b[39m,\n",
      "  `t-test_score` = \u001b[32mcol_double()\u001b[39m,\n",
      "  `t-test_overestim_var_logfc` = \u001b[32mcol_double()\u001b[39m,\n",
      "  `t-test_overestim_var_padj` = \u001b[32mcol_double()\u001b[39m,\n",
      "  `t-test_overestim_var_score` = \u001b[32mcol_double()\u001b[39m\n",
      ")\n",
      "\n",
      "Warning message:\n",
      "“Unknown columns: `gene_name`”\n"
     ]
    },
    {
     "name": "stdout",
     "output_type": "stream",
     "text": [
      "[1] \"6_vs_3    Gene number: 1517\"\n"
     ]
    },
    {
     "name": "stderr",
     "output_type": "stream",
     "text": [
      "'select()' returned 1:many mapping between keys and columns\n",
      "\n",
      "Parsed with column specification:\n",
      "cols(\n",
      "  gene_names = \u001b[31mcol_character()\u001b[39m,\n",
      "  `4` = \u001b[32mcol_double()\u001b[39m,\n",
      "  `6` = \u001b[32mcol_double()\u001b[39m,\n",
      "  wilcoxon_logfc = \u001b[32mcol_double()\u001b[39m,\n",
      "  wilcoxon_padj = \u001b[32mcol_double()\u001b[39m,\n",
      "  wilcoxon_score = \u001b[32mcol_double()\u001b[39m,\n",
      "  `t-test_logfc` = \u001b[32mcol_double()\u001b[39m,\n",
      "  `t-test_padj` = \u001b[32mcol_double()\u001b[39m,\n",
      "  `t-test_score` = \u001b[32mcol_double()\u001b[39m,\n",
      "  `t-test_overestim_var_logfc` = \u001b[32mcol_double()\u001b[39m,\n",
      "  `t-test_overestim_var_padj` = \u001b[32mcol_double()\u001b[39m,\n",
      "  `t-test_overestim_var_score` = \u001b[32mcol_double()\u001b[39m\n",
      ")\n",
      "\n",
      "Warning message:\n",
      "“Unknown columns: `gene_name`”\n"
     ]
    },
    {
     "name": "stdout",
     "output_type": "stream",
     "text": [
      "[1] \"6_vs_4    Gene number: 1482\"\n"
     ]
    },
    {
     "name": "stderr",
     "output_type": "stream",
     "text": [
      "'select()' returned 1:many mapping between keys and columns\n",
      "\n",
      "Parsed with column specification:\n",
      "cols(\n",
      "  gene_names = \u001b[31mcol_character()\u001b[39m,\n",
      "  `5` = \u001b[32mcol_double()\u001b[39m,\n",
      "  `6` = \u001b[32mcol_double()\u001b[39m,\n",
      "  wilcoxon_logfc = \u001b[32mcol_double()\u001b[39m,\n",
      "  wilcoxon_padj = \u001b[32mcol_double()\u001b[39m,\n",
      "  wilcoxon_score = \u001b[32mcol_double()\u001b[39m,\n",
      "  `t-test_logfc` = \u001b[32mcol_double()\u001b[39m,\n",
      "  `t-test_padj` = \u001b[32mcol_double()\u001b[39m,\n",
      "  `t-test_score` = \u001b[32mcol_double()\u001b[39m,\n",
      "  `t-test_overestim_var_logfc` = \u001b[32mcol_double()\u001b[39m,\n",
      "  `t-test_overestim_var_padj` = \u001b[32mcol_double()\u001b[39m,\n",
      "  `t-test_overestim_var_score` = \u001b[32mcol_double()\u001b[39m\n",
      ")\n",
      "\n",
      "Warning message:\n",
      "“Unknown columns: `gene_name`”\n"
     ]
    },
    {
     "name": "stdout",
     "output_type": "stream",
     "text": [
      "[1] \"6_vs_5    Gene number: 1276\"\n"
     ]
    },
    {
     "name": "stderr",
     "output_type": "stream",
     "text": [
      "'select()' returned 1:many mapping between keys and columns\n",
      "\n",
      "Parsed with column specification:\n",
      "cols(\n",
      "  gene_names = \u001b[31mcol_character()\u001b[39m,\n",
      "  `6` = \u001b[32mcol_double()\u001b[39m,\n",
      "  `7` = \u001b[32mcol_double()\u001b[39m,\n",
      "  wilcoxon_logfc = \u001b[32mcol_double()\u001b[39m,\n",
      "  wilcoxon_padj = \u001b[32mcol_double()\u001b[39m,\n",
      "  wilcoxon_score = \u001b[32mcol_double()\u001b[39m,\n",
      "  `t-test_logfc` = \u001b[32mcol_double()\u001b[39m,\n",
      "  `t-test_padj` = \u001b[32mcol_double()\u001b[39m,\n",
      "  `t-test_score` = \u001b[32mcol_double()\u001b[39m,\n",
      "  `t-test_overestim_var_logfc` = \u001b[32mcol_double()\u001b[39m,\n",
      "  `t-test_overestim_var_padj` = \u001b[32mcol_double()\u001b[39m,\n",
      "  `t-test_overestim_var_score` = \u001b[32mcol_double()\u001b[39m\n",
      ")\n",
      "\n",
      "Warning message:\n",
      "“Unknown columns: `gene_name`”\n"
     ]
    },
    {
     "name": "stdout",
     "output_type": "stream",
     "text": [
      "[1] \"6_vs_7    Gene number: 2038\"\n"
     ]
    },
    {
     "name": "stderr",
     "output_type": "stream",
     "text": [
      "'select()' returned 1:many mapping between keys and columns\n",
      "\n",
      "Parsed with column specification:\n",
      "cols(\n",
      "  gene_names = \u001b[31mcol_character()\u001b[39m,\n",
      "  `6` = \u001b[32mcol_double()\u001b[39m,\n",
      "  `8` = \u001b[32mcol_double()\u001b[39m,\n",
      "  wilcoxon_logfc = \u001b[32mcol_double()\u001b[39m,\n",
      "  wilcoxon_padj = \u001b[32mcol_double()\u001b[39m,\n",
      "  wilcoxon_score = \u001b[32mcol_double()\u001b[39m,\n",
      "  `t-test_logfc` = \u001b[32mcol_double()\u001b[39m,\n",
      "  `t-test_padj` = \u001b[32mcol_double()\u001b[39m,\n",
      "  `t-test_score` = \u001b[32mcol_double()\u001b[39m,\n",
      "  `t-test_overestim_var_logfc` = \u001b[32mcol_double()\u001b[39m,\n",
      "  `t-test_overestim_var_padj` = \u001b[32mcol_double()\u001b[39m,\n",
      "  `t-test_overestim_var_score` = \u001b[32mcol_double()\u001b[39m\n",
      ")\n",
      "\n",
      "Warning message:\n",
      "“Unknown columns: `gene_name`”\n"
     ]
    },
    {
     "name": "stdout",
     "output_type": "stream",
     "text": [
      "[1] \"6_vs_8    Gene number: 1420\"\n"
     ]
    },
    {
     "name": "stderr",
     "output_type": "stream",
     "text": [
      "'select()' returned 1:many mapping between keys and columns\n",
      "\n",
      "Parsed with column specification:\n",
      "cols(\n",
      "  gene_names = \u001b[31mcol_character()\u001b[39m,\n",
      "  `6` = \u001b[32mcol_double()\u001b[39m,\n",
      "  `9` = \u001b[32mcol_double()\u001b[39m,\n",
      "  wilcoxon_logfc = \u001b[32mcol_double()\u001b[39m,\n",
      "  wilcoxon_padj = \u001b[32mcol_double()\u001b[39m,\n",
      "  wilcoxon_score = \u001b[32mcol_double()\u001b[39m,\n",
      "  `t-test_logfc` = \u001b[32mcol_double()\u001b[39m,\n",
      "  `t-test_padj` = \u001b[32mcol_double()\u001b[39m,\n",
      "  `t-test_score` = \u001b[32mcol_double()\u001b[39m,\n",
      "  `t-test_overestim_var_logfc` = \u001b[32mcol_double()\u001b[39m,\n",
      "  `t-test_overestim_var_padj` = \u001b[32mcol_double()\u001b[39m,\n",
      "  `t-test_overestim_var_score` = \u001b[32mcol_double()\u001b[39m\n",
      ")\n",
      "\n",
      "Warning message:\n",
      "“Unknown columns: `gene_name`”\n"
     ]
    },
    {
     "name": "stdout",
     "output_type": "stream",
     "text": [
      "[1] \"6_vs_9    Gene number: 1227\"\n"
     ]
    },
    {
     "name": "stderr",
     "output_type": "stream",
     "text": [
      "'select()' returned 1:many mapping between keys and columns\n",
      "\n",
      "Parsed with column specification:\n",
      "cols(\n",
      "  gene_names = \u001b[31mcol_character()\u001b[39m,\n",
      "  `0` = \u001b[32mcol_double()\u001b[39m,\n",
      "  `7` = \u001b[32mcol_double()\u001b[39m,\n",
      "  wilcoxon_logfc = \u001b[32mcol_double()\u001b[39m,\n",
      "  wilcoxon_padj = \u001b[32mcol_double()\u001b[39m,\n",
      "  wilcoxon_score = \u001b[32mcol_double()\u001b[39m,\n",
      "  `t-test_logfc` = \u001b[32mcol_double()\u001b[39m,\n",
      "  `t-test_padj` = \u001b[32mcol_double()\u001b[39m,\n",
      "  `t-test_score` = \u001b[32mcol_double()\u001b[39m,\n",
      "  `t-test_overestim_var_logfc` = \u001b[32mcol_double()\u001b[39m,\n",
      "  `t-test_overestim_var_padj` = \u001b[32mcol_double()\u001b[39m,\n",
      "  `t-test_overestim_var_score` = \u001b[32mcol_double()\u001b[39m\n",
      ")\n",
      "\n",
      "Warning message:\n",
      "“Unknown columns: `gene_name`”\n"
     ]
    },
    {
     "name": "stdout",
     "output_type": "stream",
     "text": [
      "[1] \"7_vs_0    Gene number: 3388\"\n"
     ]
    },
    {
     "name": "stderr",
     "output_type": "stream",
     "text": [
      "'select()' returned 1:many mapping between keys and columns\n",
      "\n",
      "Parsed with column specification:\n",
      "cols(\n",
      "  gene_names = \u001b[31mcol_character()\u001b[39m,\n",
      "  `1` = \u001b[32mcol_double()\u001b[39m,\n",
      "  `7` = \u001b[32mcol_double()\u001b[39m,\n",
      "  wilcoxon_logfc = \u001b[32mcol_double()\u001b[39m,\n",
      "  wilcoxon_padj = \u001b[32mcol_double()\u001b[39m,\n",
      "  wilcoxon_score = \u001b[32mcol_double()\u001b[39m,\n",
      "  `t-test_logfc` = \u001b[32mcol_double()\u001b[39m,\n",
      "  `t-test_padj` = \u001b[32mcol_double()\u001b[39m,\n",
      "  `t-test_score` = \u001b[32mcol_double()\u001b[39m,\n",
      "  `t-test_overestim_var_logfc` = \u001b[32mcol_double()\u001b[39m,\n",
      "  `t-test_overestim_var_padj` = \u001b[32mcol_double()\u001b[39m,\n",
      "  `t-test_overestim_var_score` = \u001b[32mcol_double()\u001b[39m\n",
      ")\n",
      "\n",
      "Warning message:\n",
      "“Unknown columns: `gene_name`”\n"
     ]
    },
    {
     "name": "stdout",
     "output_type": "stream",
     "text": [
      "[1] \"7_vs_1    Gene number: 4055\"\n"
     ]
    },
    {
     "name": "stderr",
     "output_type": "stream",
     "text": [
      "'select()' returned 1:many mapping between keys and columns\n",
      "\n",
      "Parsed with column specification:\n",
      "cols(\n",
      "  gene_names = \u001b[31mcol_character()\u001b[39m,\n",
      "  `2` = \u001b[32mcol_double()\u001b[39m,\n",
      "  `7` = \u001b[32mcol_double()\u001b[39m,\n",
      "  wilcoxon_logfc = \u001b[32mcol_double()\u001b[39m,\n",
      "  wilcoxon_padj = \u001b[32mcol_double()\u001b[39m,\n",
      "  wilcoxon_score = \u001b[32mcol_double()\u001b[39m,\n",
      "  `t-test_logfc` = \u001b[32mcol_double()\u001b[39m,\n",
      "  `t-test_padj` = \u001b[32mcol_double()\u001b[39m,\n",
      "  `t-test_score` = \u001b[32mcol_double()\u001b[39m,\n",
      "  `t-test_overestim_var_logfc` = \u001b[32mcol_double()\u001b[39m,\n",
      "  `t-test_overestim_var_padj` = \u001b[32mcol_double()\u001b[39m,\n",
      "  `t-test_overestim_var_score` = \u001b[32mcol_double()\u001b[39m\n",
      ")\n",
      "\n",
      "Warning message:\n",
      "“Unknown columns: `gene_name`”\n"
     ]
    },
    {
     "name": "stdout",
     "output_type": "stream",
     "text": [
      "[1] \"7_vs_2    Gene number: 1541\"\n"
     ]
    },
    {
     "name": "stderr",
     "output_type": "stream",
     "text": [
      "'select()' returned 1:many mapping between keys and columns\n",
      "\n",
      "Parsed with column specification:\n",
      "cols(\n",
      "  gene_names = \u001b[31mcol_character()\u001b[39m,\n",
      "  `3` = \u001b[32mcol_double()\u001b[39m,\n",
      "  `7` = \u001b[32mcol_double()\u001b[39m,\n",
      "  wilcoxon_logfc = \u001b[32mcol_double()\u001b[39m,\n",
      "  wilcoxon_padj = \u001b[32mcol_double()\u001b[39m,\n",
      "  wilcoxon_score = \u001b[32mcol_double()\u001b[39m,\n",
      "  `t-test_logfc` = \u001b[32mcol_double()\u001b[39m,\n",
      "  `t-test_padj` = \u001b[32mcol_double()\u001b[39m,\n",
      "  `t-test_score` = \u001b[32mcol_double()\u001b[39m,\n",
      "  `t-test_overestim_var_logfc` = \u001b[32mcol_double()\u001b[39m,\n",
      "  `t-test_overestim_var_padj` = \u001b[32mcol_double()\u001b[39m,\n",
      "  `t-test_overestim_var_score` = \u001b[32mcol_double()\u001b[39m\n",
      ")\n",
      "\n",
      "Warning message:\n",
      "“Unknown columns: `gene_name`”\n"
     ]
    },
    {
     "name": "stdout",
     "output_type": "stream",
     "text": [
      "[1] \"7_vs_3    Gene number: 1049\"\n"
     ]
    },
    {
     "name": "stderr",
     "output_type": "stream",
     "text": [
      "'select()' returned 1:many mapping between keys and columns\n",
      "\n",
      "Parsed with column specification:\n",
      "cols(\n",
      "  gene_names = \u001b[31mcol_character()\u001b[39m,\n",
      "  `4` = \u001b[32mcol_double()\u001b[39m,\n",
      "  `7` = \u001b[32mcol_double()\u001b[39m,\n",
      "  wilcoxon_logfc = \u001b[32mcol_double()\u001b[39m,\n",
      "  wilcoxon_padj = \u001b[32mcol_double()\u001b[39m,\n",
      "  wilcoxon_score = \u001b[32mcol_double()\u001b[39m,\n",
      "  `t-test_logfc` = \u001b[32mcol_double()\u001b[39m,\n",
      "  `t-test_padj` = \u001b[32mcol_double()\u001b[39m,\n",
      "  `t-test_score` = \u001b[32mcol_double()\u001b[39m,\n",
      "  `t-test_overestim_var_logfc` = \u001b[32mcol_double()\u001b[39m,\n",
      "  `t-test_overestim_var_padj` = \u001b[32mcol_double()\u001b[39m,\n",
      "  `t-test_overestim_var_score` = \u001b[32mcol_double()\u001b[39m\n",
      ")\n",
      "\n",
      "Warning message:\n",
      "“Unknown columns: `gene_name`”\n"
     ]
    },
    {
     "name": "stdout",
     "output_type": "stream",
     "text": [
      "[1] \"7_vs_4    Gene number: 1092\"\n"
     ]
    },
    {
     "name": "stderr",
     "output_type": "stream",
     "text": [
      "'select()' returned 1:many mapping between keys and columns\n",
      "\n",
      "Parsed with column specification:\n",
      "cols(\n",
      "  gene_names = \u001b[31mcol_character()\u001b[39m,\n",
      "  `5` = \u001b[32mcol_double()\u001b[39m,\n",
      "  `7` = \u001b[32mcol_double()\u001b[39m,\n",
      "  wilcoxon_logfc = \u001b[32mcol_double()\u001b[39m,\n",
      "  wilcoxon_padj = \u001b[32mcol_double()\u001b[39m,\n",
      "  wilcoxon_score = \u001b[32mcol_double()\u001b[39m,\n",
      "  `t-test_logfc` = \u001b[32mcol_double()\u001b[39m,\n",
      "  `t-test_padj` = \u001b[32mcol_double()\u001b[39m,\n",
      "  `t-test_score` = \u001b[32mcol_double()\u001b[39m,\n",
      "  `t-test_overestim_var_logfc` = \u001b[32mcol_double()\u001b[39m,\n",
      "  `t-test_overestim_var_padj` = \u001b[32mcol_double()\u001b[39m,\n",
      "  `t-test_overestim_var_score` = \u001b[32mcol_double()\u001b[39m\n",
      ")\n",
      "\n",
      "Warning message:\n",
      "“Unknown columns: `gene_name`”\n"
     ]
    },
    {
     "name": "stdout",
     "output_type": "stream",
     "text": [
      "[1] \"7_vs_5    Gene number: 2919\"\n"
     ]
    },
    {
     "name": "stderr",
     "output_type": "stream",
     "text": [
      "'select()' returned 1:many mapping between keys and columns\n",
      "\n",
      "Parsed with column specification:\n",
      "cols(\n",
      "  gene_names = \u001b[31mcol_character()\u001b[39m,\n",
      "  `6` = \u001b[32mcol_double()\u001b[39m,\n",
      "  `7` = \u001b[32mcol_double()\u001b[39m,\n",
      "  wilcoxon_logfc = \u001b[32mcol_double()\u001b[39m,\n",
      "  wilcoxon_padj = \u001b[32mcol_double()\u001b[39m,\n",
      "  wilcoxon_score = \u001b[32mcol_double()\u001b[39m,\n",
      "  `t-test_logfc` = \u001b[32mcol_double()\u001b[39m,\n",
      "  `t-test_padj` = \u001b[32mcol_double()\u001b[39m,\n",
      "  `t-test_score` = \u001b[32mcol_double()\u001b[39m,\n",
      "  `t-test_overestim_var_logfc` = \u001b[32mcol_double()\u001b[39m,\n",
      "  `t-test_overestim_var_padj` = \u001b[32mcol_double()\u001b[39m,\n",
      "  `t-test_overestim_var_score` = \u001b[32mcol_double()\u001b[39m\n",
      ")\n",
      "\n",
      "Warning message:\n",
      "“Unknown columns: `gene_name`”\n"
     ]
    },
    {
     "name": "stdout",
     "output_type": "stream",
     "text": [
      "[1] \"7_vs_6    Gene number: 3910\"\n"
     ]
    },
    {
     "name": "stderr",
     "output_type": "stream",
     "text": [
      "'select()' returned 1:many mapping between keys and columns\n",
      "\n",
      "Parsed with column specification:\n",
      "cols(\n",
      "  gene_names = \u001b[31mcol_character()\u001b[39m,\n",
      "  `7` = \u001b[32mcol_double()\u001b[39m,\n",
      "  `8` = \u001b[32mcol_double()\u001b[39m,\n",
      "  wilcoxon_logfc = \u001b[32mcol_double()\u001b[39m,\n",
      "  wilcoxon_padj = \u001b[32mcol_double()\u001b[39m,\n",
      "  wilcoxon_score = \u001b[32mcol_double()\u001b[39m,\n",
      "  `t-test_logfc` = \u001b[32mcol_double()\u001b[39m,\n",
      "  `t-test_padj` = \u001b[32mcol_double()\u001b[39m,\n",
      "  `t-test_score` = \u001b[32mcol_double()\u001b[39m,\n",
      "  `t-test_overestim_var_logfc` = \u001b[32mcol_double()\u001b[39m,\n",
      "  `t-test_overestim_var_padj` = \u001b[32mcol_double()\u001b[39m,\n",
      "  `t-test_overestim_var_score` = \u001b[32mcol_double()\u001b[39m\n",
      ")\n",
      "\n",
      "Warning message:\n",
      "“Unknown columns: `gene_name`”\n"
     ]
    },
    {
     "name": "stdout",
     "output_type": "stream",
     "text": [
      "[1] \"7_vs_8    Gene number: 1766\"\n"
     ]
    },
    {
     "name": "stderr",
     "output_type": "stream",
     "text": [
      "'select()' returned 1:many mapping between keys and columns\n",
      "\n",
      "Parsed with column specification:\n",
      "cols(\n",
      "  gene_names = \u001b[31mcol_character()\u001b[39m,\n",
      "  `7` = \u001b[32mcol_double()\u001b[39m,\n",
      "  `9` = \u001b[32mcol_double()\u001b[39m,\n",
      "  wilcoxon_logfc = \u001b[32mcol_double()\u001b[39m,\n",
      "  wilcoxon_padj = \u001b[32mcol_double()\u001b[39m,\n",
      "  wilcoxon_score = \u001b[32mcol_double()\u001b[39m,\n",
      "  `t-test_logfc` = \u001b[32mcol_double()\u001b[39m,\n",
      "  `t-test_padj` = \u001b[32mcol_double()\u001b[39m,\n",
      "  `t-test_score` = \u001b[32mcol_double()\u001b[39m,\n",
      "  `t-test_overestim_var_logfc` = \u001b[32mcol_double()\u001b[39m,\n",
      "  `t-test_overestim_var_padj` = \u001b[32mcol_double()\u001b[39m,\n",
      "  `t-test_overestim_var_score` = \u001b[32mcol_double()\u001b[39m\n",
      ")\n",
      "\n",
      "Warning message:\n",
      "“Unknown columns: `gene_name`”\n"
     ]
    },
    {
     "name": "stdout",
     "output_type": "stream",
     "text": [
      "[1] \"7_vs_9    Gene number: 1157\"\n"
     ]
    },
    {
     "name": "stderr",
     "output_type": "stream",
     "text": [
      "'select()' returned 1:many mapping between keys and columns\n",
      "\n",
      "Parsed with column specification:\n",
      "cols(\n",
      "  gene_names = \u001b[31mcol_character()\u001b[39m,\n",
      "  `0` = \u001b[32mcol_double()\u001b[39m,\n",
      "  `8` = \u001b[32mcol_double()\u001b[39m,\n",
      "  wilcoxon_logfc = \u001b[32mcol_double()\u001b[39m,\n",
      "  wilcoxon_padj = \u001b[32mcol_double()\u001b[39m,\n",
      "  wilcoxon_score = \u001b[32mcol_double()\u001b[39m,\n",
      "  `t-test_logfc` = \u001b[32mcol_double()\u001b[39m,\n",
      "  `t-test_padj` = \u001b[32mcol_double()\u001b[39m,\n",
      "  `t-test_score` = \u001b[32mcol_double()\u001b[39m,\n",
      "  `t-test_overestim_var_logfc` = \u001b[32mcol_double()\u001b[39m,\n",
      "  `t-test_overestim_var_padj` = \u001b[32mcol_double()\u001b[39m,\n",
      "  `t-test_overestim_var_score` = \u001b[32mcol_double()\u001b[39m\n",
      ")\n",
      "\n",
      "Warning message:\n",
      "“Unknown columns: `gene_name`”\n"
     ]
    },
    {
     "name": "stdout",
     "output_type": "stream",
     "text": [
      "[1] \"8_vs_0    Gene number: 3078\"\n"
     ]
    },
    {
     "name": "stderr",
     "output_type": "stream",
     "text": [
      "'select()' returned 1:many mapping between keys and columns\n",
      "\n",
      "Parsed with column specification:\n",
      "cols(\n",
      "  gene_names = \u001b[31mcol_character()\u001b[39m,\n",
      "  `1` = \u001b[32mcol_double()\u001b[39m,\n",
      "  `8` = \u001b[32mcol_double()\u001b[39m,\n",
      "  wilcoxon_logfc = \u001b[32mcol_double()\u001b[39m,\n",
      "  wilcoxon_padj = \u001b[32mcol_double()\u001b[39m,\n",
      "  wilcoxon_score = \u001b[32mcol_double()\u001b[39m,\n",
      "  `t-test_logfc` = \u001b[32mcol_double()\u001b[39m,\n",
      "  `t-test_padj` = \u001b[32mcol_double()\u001b[39m,\n",
      "  `t-test_score` = \u001b[32mcol_double()\u001b[39m,\n",
      "  `t-test_overestim_var_logfc` = \u001b[32mcol_double()\u001b[39m,\n",
      "  `t-test_overestim_var_padj` = \u001b[32mcol_double()\u001b[39m,\n",
      "  `t-test_overestim_var_score` = \u001b[32mcol_double()\u001b[39m\n",
      ")\n",
      "\n",
      "Warning message:\n",
      "“Unknown columns: `gene_name`”\n"
     ]
    },
    {
     "name": "stdout",
     "output_type": "stream",
     "text": [
      "[1] \"8_vs_1    Gene number: 3878\"\n"
     ]
    },
    {
     "name": "stderr",
     "output_type": "stream",
     "text": [
      "'select()' returned 1:many mapping between keys and columns\n",
      "\n",
      "Parsed with column specification:\n",
      "cols(\n",
      "  gene_names = \u001b[31mcol_character()\u001b[39m,\n",
      "  `2` = \u001b[32mcol_double()\u001b[39m,\n",
      "  `8` = \u001b[32mcol_double()\u001b[39m,\n",
      "  wilcoxon_logfc = \u001b[32mcol_double()\u001b[39m,\n",
      "  wilcoxon_padj = \u001b[32mcol_double()\u001b[39m,\n",
      "  wilcoxon_score = \u001b[32mcol_double()\u001b[39m,\n",
      "  `t-test_logfc` = \u001b[32mcol_double()\u001b[39m,\n",
      "  `t-test_padj` = \u001b[32mcol_double()\u001b[39m,\n",
      "  `t-test_score` = \u001b[32mcol_double()\u001b[39m,\n",
      "  `t-test_overestim_var_logfc` = \u001b[32mcol_double()\u001b[39m,\n",
      "  `t-test_overestim_var_padj` = \u001b[32mcol_double()\u001b[39m,\n",
      "  `t-test_overestim_var_score` = \u001b[32mcol_double()\u001b[39m\n",
      ")\n",
      "\n",
      "Warning message:\n",
      "“Unknown columns: `gene_name`”\n"
     ]
    },
    {
     "name": "stdout",
     "output_type": "stream",
     "text": [
      "[1] \"8_vs_2    Gene number: 1604\"\n"
     ]
    },
    {
     "name": "stderr",
     "output_type": "stream",
     "text": [
      "'select()' returned 1:many mapping between keys and columns\n",
      "\n",
      "Parsed with column specification:\n",
      "cols(\n",
      "  gene_names = \u001b[31mcol_character()\u001b[39m,\n",
      "  `3` = \u001b[32mcol_double()\u001b[39m,\n",
      "  `8` = \u001b[32mcol_double()\u001b[39m,\n",
      "  wilcoxon_logfc = \u001b[32mcol_double()\u001b[39m,\n",
      "  wilcoxon_padj = \u001b[32mcol_double()\u001b[39m,\n",
      "  wilcoxon_score = \u001b[32mcol_double()\u001b[39m,\n",
      "  `t-test_logfc` = \u001b[32mcol_double()\u001b[39m,\n",
      "  `t-test_padj` = \u001b[32mcol_double()\u001b[39m,\n",
      "  `t-test_score` = \u001b[32mcol_double()\u001b[39m,\n",
      "  `t-test_overestim_var_logfc` = \u001b[32mcol_double()\u001b[39m,\n",
      "  `t-test_overestim_var_padj` = \u001b[32mcol_double()\u001b[39m,\n",
      "  `t-test_overestim_var_score` = \u001b[32mcol_double()\u001b[39m\n",
      ")\n",
      "\n",
      "Warning message:\n",
      "“Unknown columns: `gene_name`”\n"
     ]
    },
    {
     "name": "stdout",
     "output_type": "stream",
     "text": [
      "[1] \"8_vs_3    Gene number: 1803\"\n"
     ]
    },
    {
     "name": "stderr",
     "output_type": "stream",
     "text": [
      "'select()' returned 1:many mapping between keys and columns\n",
      "\n",
      "Parsed with column specification:\n",
      "cols(\n",
      "  gene_names = \u001b[31mcol_character()\u001b[39m,\n",
      "  `4` = \u001b[32mcol_double()\u001b[39m,\n",
      "  `8` = \u001b[32mcol_double()\u001b[39m,\n",
      "  wilcoxon_logfc = \u001b[32mcol_double()\u001b[39m,\n",
      "  wilcoxon_padj = \u001b[32mcol_double()\u001b[39m,\n",
      "  wilcoxon_score = \u001b[32mcol_double()\u001b[39m,\n",
      "  `t-test_logfc` = \u001b[32mcol_double()\u001b[39m,\n",
      "  `t-test_padj` = \u001b[32mcol_double()\u001b[39m,\n",
      "  `t-test_score` = \u001b[32mcol_double()\u001b[39m,\n",
      "  `t-test_overestim_var_logfc` = \u001b[32mcol_double()\u001b[39m,\n",
      "  `t-test_overestim_var_padj` = \u001b[32mcol_double()\u001b[39m,\n",
      "  `t-test_overestim_var_score` = \u001b[32mcol_double()\u001b[39m\n",
      ")\n",
      "\n",
      "Warning message:\n",
      "“Unknown columns: `gene_name`”\n"
     ]
    },
    {
     "name": "stdout",
     "output_type": "stream",
     "text": [
      "[1] \"8_vs_4    Gene number: 1668\"\n"
     ]
    },
    {
     "name": "stderr",
     "output_type": "stream",
     "text": [
      "'select()' returned 1:many mapping between keys and columns\n",
      "\n",
      "Parsed with column specification:\n",
      "cols(\n",
      "  gene_names = \u001b[31mcol_character()\u001b[39m,\n",
      "  `5` = \u001b[32mcol_double()\u001b[39m,\n",
      "  `8` = \u001b[32mcol_double()\u001b[39m,\n",
      "  wilcoxon_logfc = \u001b[32mcol_double()\u001b[39m,\n",
      "  wilcoxon_padj = \u001b[32mcol_double()\u001b[39m,\n",
      "  wilcoxon_score = \u001b[32mcol_double()\u001b[39m,\n",
      "  `t-test_logfc` = \u001b[32mcol_double()\u001b[39m,\n",
      "  `t-test_padj` = \u001b[32mcol_double()\u001b[39m,\n",
      "  `t-test_score` = \u001b[32mcol_double()\u001b[39m,\n",
      "  `t-test_overestim_var_logfc` = \u001b[32mcol_double()\u001b[39m,\n",
      "  `t-test_overestim_var_padj` = \u001b[32mcol_double()\u001b[39m,\n",
      "  `t-test_overestim_var_score` = \u001b[32mcol_double()\u001b[39m\n",
      ")\n",
      "\n",
      "Warning message:\n",
      "“Unknown columns: `gene_name`”\n"
     ]
    },
    {
     "name": "stdout",
     "output_type": "stream",
     "text": [
      "[1] \"8_vs_5    Gene number: 2779\"\n"
     ]
    },
    {
     "name": "stderr",
     "output_type": "stream",
     "text": [
      "'select()' returned 1:many mapping between keys and columns\n",
      "\n",
      "Parsed with column specification:\n",
      "cols(\n",
      "  gene_names = \u001b[31mcol_character()\u001b[39m,\n",
      "  `6` = \u001b[32mcol_double()\u001b[39m,\n",
      "  `8` = \u001b[32mcol_double()\u001b[39m,\n",
      "  wilcoxon_logfc = \u001b[32mcol_double()\u001b[39m,\n",
      "  wilcoxon_padj = \u001b[32mcol_double()\u001b[39m,\n",
      "  wilcoxon_score = \u001b[32mcol_double()\u001b[39m,\n",
      "  `t-test_logfc` = \u001b[32mcol_double()\u001b[39m,\n",
      "  `t-test_padj` = \u001b[32mcol_double()\u001b[39m,\n",
      "  `t-test_score` = \u001b[32mcol_double()\u001b[39m,\n",
      "  `t-test_overestim_var_logfc` = \u001b[32mcol_double()\u001b[39m,\n",
      "  `t-test_overestim_var_padj` = \u001b[32mcol_double()\u001b[39m,\n",
      "  `t-test_overestim_var_score` = \u001b[32mcol_double()\u001b[39m\n",
      ")\n",
      "\n",
      "Warning message:\n",
      "“Unknown columns: `gene_name`”\n"
     ]
    },
    {
     "name": "stdout",
     "output_type": "stream",
     "text": [
      "[1] \"8_vs_6    Gene number: 3760\"\n"
     ]
    },
    {
     "name": "stderr",
     "output_type": "stream",
     "text": [
      "'select()' returned 1:many mapping between keys and columns\n",
      "\n",
      "Parsed with column specification:\n",
      "cols(\n",
      "  gene_names = \u001b[31mcol_character()\u001b[39m,\n",
      "  `7` = \u001b[32mcol_double()\u001b[39m,\n",
      "  `8` = \u001b[32mcol_double()\u001b[39m,\n",
      "  wilcoxon_logfc = \u001b[32mcol_double()\u001b[39m,\n",
      "  wilcoxon_padj = \u001b[32mcol_double()\u001b[39m,\n",
      "  wilcoxon_score = \u001b[32mcol_double()\u001b[39m,\n",
      "  `t-test_logfc` = \u001b[32mcol_double()\u001b[39m,\n",
      "  `t-test_padj` = \u001b[32mcol_double()\u001b[39m,\n",
      "  `t-test_score` = \u001b[32mcol_double()\u001b[39m,\n",
      "  `t-test_overestim_var_logfc` = \u001b[32mcol_double()\u001b[39m,\n",
      "  `t-test_overestim_var_padj` = \u001b[32mcol_double()\u001b[39m,\n",
      "  `t-test_overestim_var_score` = \u001b[32mcol_double()\u001b[39m\n",
      ")\n",
      "\n",
      "Warning message:\n",
      "“Unknown columns: `gene_name`”\n"
     ]
    },
    {
     "name": "stdout",
     "output_type": "stream",
     "text": [
      "[1] \"8_vs_7    Gene number: 2444\"\n"
     ]
    },
    {
     "name": "stderr",
     "output_type": "stream",
     "text": [
      "'select()' returned 1:many mapping between keys and columns\n",
      "\n",
      "Parsed with column specification:\n",
      "cols(\n",
      "  gene_names = \u001b[31mcol_character()\u001b[39m,\n",
      "  `8` = \u001b[32mcol_double()\u001b[39m,\n",
      "  `9` = \u001b[32mcol_double()\u001b[39m,\n",
      "  wilcoxon_logfc = \u001b[32mcol_double()\u001b[39m,\n",
      "  wilcoxon_padj = \u001b[32mcol_double()\u001b[39m,\n",
      "  wilcoxon_score = \u001b[32mcol_double()\u001b[39m,\n",
      "  `t-test_logfc` = \u001b[32mcol_double()\u001b[39m,\n",
      "  `t-test_padj` = \u001b[32mcol_double()\u001b[39m,\n",
      "  `t-test_score` = \u001b[32mcol_double()\u001b[39m,\n",
      "  `t-test_overestim_var_logfc` = \u001b[32mcol_double()\u001b[39m,\n",
      "  `t-test_overestim_var_padj` = \u001b[32mcol_double()\u001b[39m,\n",
      "  `t-test_overestim_var_score` = \u001b[32mcol_double()\u001b[39m\n",
      ")\n",
      "\n",
      "Warning message:\n",
      "“Unknown columns: `gene_name`”\n"
     ]
    },
    {
     "name": "stdout",
     "output_type": "stream",
     "text": [
      "[1] \"8_vs_9    Gene number: 1510\"\n"
     ]
    },
    {
     "name": "stderr",
     "output_type": "stream",
     "text": [
      "'select()' returned 1:many mapping between keys and columns\n",
      "\n",
      "Parsed with column specification:\n",
      "cols(\n",
      "  gene_names = \u001b[31mcol_character()\u001b[39m,\n",
      "  `0` = \u001b[32mcol_double()\u001b[39m,\n",
      "  `9` = \u001b[32mcol_double()\u001b[39m,\n",
      "  wilcoxon_logfc = \u001b[32mcol_double()\u001b[39m,\n",
      "  wilcoxon_padj = \u001b[32mcol_double()\u001b[39m,\n",
      "  wilcoxon_score = \u001b[32mcol_double()\u001b[39m,\n",
      "  `t-test_logfc` = \u001b[32mcol_double()\u001b[39m,\n",
      "  `t-test_padj` = \u001b[32mcol_double()\u001b[39m,\n",
      "  `t-test_score` = \u001b[32mcol_double()\u001b[39m,\n",
      "  `t-test_overestim_var_logfc` = \u001b[32mcol_double()\u001b[39m,\n",
      "  `t-test_overestim_var_padj` = \u001b[32mcol_double()\u001b[39m,\n",
      "  `t-test_overestim_var_score` = \u001b[32mcol_double()\u001b[39m\n",
      ")\n",
      "\n",
      "Warning message:\n",
      "“Unknown columns: `gene_name`”\n"
     ]
    },
    {
     "name": "stdout",
     "output_type": "stream",
     "text": [
      "[1] \"9_vs_0    Gene number: 4221\"\n"
     ]
    },
    {
     "name": "stderr",
     "output_type": "stream",
     "text": [
      "'select()' returned 1:many mapping between keys and columns\n",
      "\n",
      "Parsed with column specification:\n",
      "cols(\n",
      "  gene_names = \u001b[31mcol_character()\u001b[39m,\n",
      "  `1` = \u001b[32mcol_double()\u001b[39m,\n",
      "  `9` = \u001b[32mcol_double()\u001b[39m,\n",
      "  wilcoxon_logfc = \u001b[32mcol_double()\u001b[39m,\n",
      "  wilcoxon_padj = \u001b[32mcol_double()\u001b[39m,\n",
      "  wilcoxon_score = \u001b[32mcol_double()\u001b[39m,\n",
      "  `t-test_logfc` = \u001b[32mcol_double()\u001b[39m,\n",
      "  `t-test_padj` = \u001b[32mcol_double()\u001b[39m,\n",
      "  `t-test_score` = \u001b[32mcol_double()\u001b[39m,\n",
      "  `t-test_overestim_var_logfc` = \u001b[32mcol_double()\u001b[39m,\n",
      "  `t-test_overestim_var_padj` = \u001b[32mcol_double()\u001b[39m,\n",
      "  `t-test_overestim_var_score` = \u001b[32mcol_double()\u001b[39m\n",
      ")\n",
      "\n",
      "Warning message:\n",
      "“Unknown columns: `gene_name`”\n"
     ]
    },
    {
     "name": "stdout",
     "output_type": "stream",
     "text": [
      "[1] \"9_vs_1    Gene number: 5000\"\n"
     ]
    },
    {
     "name": "stderr",
     "output_type": "stream",
     "text": [
      "'select()' returned 1:many mapping between keys and columns\n",
      "\n",
      "Parsed with column specification:\n",
      "cols(\n",
      "  gene_names = \u001b[31mcol_character()\u001b[39m,\n",
      "  `2` = \u001b[32mcol_double()\u001b[39m,\n",
      "  `9` = \u001b[32mcol_double()\u001b[39m,\n",
      "  wilcoxon_logfc = \u001b[32mcol_double()\u001b[39m,\n",
      "  wilcoxon_padj = \u001b[32mcol_double()\u001b[39m,\n",
      "  wilcoxon_score = \u001b[32mcol_double()\u001b[39m,\n",
      "  `t-test_logfc` = \u001b[32mcol_double()\u001b[39m,\n",
      "  `t-test_padj` = \u001b[32mcol_double()\u001b[39m,\n",
      "  `t-test_score` = \u001b[32mcol_double()\u001b[39m,\n",
      "  `t-test_overestim_var_logfc` = \u001b[32mcol_double()\u001b[39m,\n",
      "  `t-test_overestim_var_padj` = \u001b[32mcol_double()\u001b[39m,\n",
      "  `t-test_overestim_var_score` = \u001b[32mcol_double()\u001b[39m\n",
      ")\n",
      "\n",
      "Warning message:\n",
      "“Unknown columns: `gene_name`”\n"
     ]
    },
    {
     "name": "stdout",
     "output_type": "stream",
     "text": [
      "[1] \"9_vs_2    Gene number: 2876\"\n"
     ]
    },
    {
     "name": "stderr",
     "output_type": "stream",
     "text": [
      "'select()' returned 1:many mapping between keys and columns\n",
      "\n",
      "Parsed with column specification:\n",
      "cols(\n",
      "  gene_names = \u001b[31mcol_character()\u001b[39m,\n",
      "  `3` = \u001b[32mcol_double()\u001b[39m,\n",
      "  `9` = \u001b[32mcol_double()\u001b[39m,\n",
      "  wilcoxon_logfc = \u001b[32mcol_double()\u001b[39m,\n",
      "  wilcoxon_padj = \u001b[32mcol_double()\u001b[39m,\n",
      "  wilcoxon_score = \u001b[32mcol_double()\u001b[39m,\n",
      "  `t-test_logfc` = \u001b[32mcol_double()\u001b[39m,\n",
      "  `t-test_padj` = \u001b[32mcol_double()\u001b[39m,\n",
      "  `t-test_score` = \u001b[32mcol_double()\u001b[39m,\n",
      "  `t-test_overestim_var_logfc` = \u001b[32mcol_double()\u001b[39m,\n",
      "  `t-test_overestim_var_padj` = \u001b[32mcol_double()\u001b[39m,\n",
      "  `t-test_overestim_var_score` = \u001b[32mcol_double()\u001b[39m\n",
      ")\n",
      "\n",
      "Warning message:\n",
      "“Unknown columns: `gene_name`”\n"
     ]
    },
    {
     "name": "stdout",
     "output_type": "stream",
     "text": [
      "[1] \"9_vs_3    Gene number: 1688\"\n"
     ]
    },
    {
     "name": "stderr",
     "output_type": "stream",
     "text": [
      "'select()' returned 1:many mapping between keys and columns\n",
      "\n",
      "Parsed with column specification:\n",
      "cols(\n",
      "  gene_names = \u001b[31mcol_character()\u001b[39m,\n",
      "  `4` = \u001b[32mcol_double()\u001b[39m,\n",
      "  `9` = \u001b[32mcol_double()\u001b[39m,\n",
      "  wilcoxon_logfc = \u001b[32mcol_double()\u001b[39m,\n",
      "  wilcoxon_padj = \u001b[32mcol_double()\u001b[39m,\n",
      "  wilcoxon_score = \u001b[32mcol_double()\u001b[39m,\n",
      "  `t-test_logfc` = \u001b[32mcol_double()\u001b[39m,\n",
      "  `t-test_padj` = \u001b[32mcol_double()\u001b[39m,\n",
      "  `t-test_score` = \u001b[32mcol_double()\u001b[39m,\n",
      "  `t-test_overestim_var_logfc` = \u001b[32mcol_double()\u001b[39m,\n",
      "  `t-test_overestim_var_padj` = \u001b[32mcol_double()\u001b[39m,\n",
      "  `t-test_overestim_var_score` = \u001b[32mcol_double()\u001b[39m\n",
      ")\n",
      "\n",
      "Warning message:\n",
      "“Unknown columns: `gene_name`”\n"
     ]
    },
    {
     "name": "stdout",
     "output_type": "stream",
     "text": [
      "[1] \"9_vs_4    Gene number: 1601\"\n"
     ]
    },
    {
     "name": "stderr",
     "output_type": "stream",
     "text": [
      "'select()' returned 1:many mapping between keys and columns\n",
      "\n",
      "Parsed with column specification:\n",
      "cols(\n",
      "  gene_names = \u001b[31mcol_character()\u001b[39m,\n",
      "  `5` = \u001b[32mcol_double()\u001b[39m,\n",
      "  `9` = \u001b[32mcol_double()\u001b[39m,\n",
      "  wilcoxon_logfc = \u001b[32mcol_double()\u001b[39m,\n",
      "  wilcoxon_padj = \u001b[32mcol_double()\u001b[39m,\n",
      "  wilcoxon_score = \u001b[32mcol_double()\u001b[39m,\n",
      "  `t-test_logfc` = \u001b[32mcol_double()\u001b[39m,\n",
      "  `t-test_padj` = \u001b[32mcol_double()\u001b[39m,\n",
      "  `t-test_score` = \u001b[32mcol_double()\u001b[39m,\n",
      "  `t-test_overestim_var_logfc` = \u001b[32mcol_double()\u001b[39m,\n",
      "  `t-test_overestim_var_padj` = \u001b[32mcol_double()\u001b[39m,\n",
      "  `t-test_overestim_var_score` = \u001b[32mcol_double()\u001b[39m\n",
      ")\n",
      "\n",
      "Warning message:\n",
      "“Unknown columns: `gene_name`”\n"
     ]
    },
    {
     "name": "stdout",
     "output_type": "stream",
     "text": [
      "[1] \"9_vs_5    Gene number: 3790\"\n"
     ]
    },
    {
     "name": "stderr",
     "output_type": "stream",
     "text": [
      "'select()' returned 1:many mapping between keys and columns\n",
      "\n",
      "Parsed with column specification:\n",
      "cols(\n",
      "  gene_names = \u001b[31mcol_character()\u001b[39m,\n",
      "  `6` = \u001b[32mcol_double()\u001b[39m,\n",
      "  `9` = \u001b[32mcol_double()\u001b[39m,\n",
      "  wilcoxon_logfc = \u001b[32mcol_double()\u001b[39m,\n",
      "  wilcoxon_padj = \u001b[32mcol_double()\u001b[39m,\n",
      "  wilcoxon_score = \u001b[32mcol_double()\u001b[39m,\n",
      "  `t-test_logfc` = \u001b[32mcol_double()\u001b[39m,\n",
      "  `t-test_padj` = \u001b[32mcol_double()\u001b[39m,\n",
      "  `t-test_score` = \u001b[32mcol_double()\u001b[39m,\n",
      "  `t-test_overestim_var_logfc` = \u001b[32mcol_double()\u001b[39m,\n",
      "  `t-test_overestim_var_padj` = \u001b[32mcol_double()\u001b[39m,\n",
      "  `t-test_overestim_var_score` = \u001b[32mcol_double()\u001b[39m\n",
      ")\n",
      "\n",
      "Warning message:\n",
      "“Unknown columns: `gene_name`”\n"
     ]
    },
    {
     "name": "stdout",
     "output_type": "stream",
     "text": [
      "[1] \"9_vs_6    Gene number: 4967\"\n"
     ]
    },
    {
     "name": "stderr",
     "output_type": "stream",
     "text": [
      "'select()' returned 1:many mapping between keys and columns\n",
      "\n",
      "Parsed with column specification:\n",
      "cols(\n",
      "  gene_names = \u001b[31mcol_character()\u001b[39m,\n",
      "  `7` = \u001b[32mcol_double()\u001b[39m,\n",
      "  `9` = \u001b[32mcol_double()\u001b[39m,\n",
      "  wilcoxon_logfc = \u001b[32mcol_double()\u001b[39m,\n",
      "  wilcoxon_padj = \u001b[32mcol_double()\u001b[39m,\n",
      "  wilcoxon_score = \u001b[32mcol_double()\u001b[39m,\n",
      "  `t-test_logfc` = \u001b[32mcol_double()\u001b[39m,\n",
      "  `t-test_padj` = \u001b[32mcol_double()\u001b[39m,\n",
      "  `t-test_score` = \u001b[32mcol_double()\u001b[39m,\n",
      "  `t-test_overestim_var_logfc` = \u001b[32mcol_double()\u001b[39m,\n",
      "  `t-test_overestim_var_padj` = \u001b[32mcol_double()\u001b[39m,\n",
      "  `t-test_overestim_var_score` = \u001b[32mcol_double()\u001b[39m\n",
      ")\n",
      "\n",
      "Warning message:\n",
      "“Unknown columns: `gene_name`”\n"
     ]
    },
    {
     "name": "stdout",
     "output_type": "stream",
     "text": [
      "[1] \"9_vs_7    Gene number: 3064\"\n"
     ]
    },
    {
     "name": "stderr",
     "output_type": "stream",
     "text": [
      "'select()' returned 1:many mapping between keys and columns\n",
      "\n",
      "Parsed with column specification:\n",
      "cols(\n",
      "  gene_names = \u001b[31mcol_character()\u001b[39m,\n",
      "  `8` = \u001b[32mcol_double()\u001b[39m,\n",
      "  `9` = \u001b[32mcol_double()\u001b[39m,\n",
      "  wilcoxon_logfc = \u001b[32mcol_double()\u001b[39m,\n",
      "  wilcoxon_padj = \u001b[32mcol_double()\u001b[39m,\n",
      "  wilcoxon_score = \u001b[32mcol_double()\u001b[39m,\n",
      "  `t-test_logfc` = \u001b[32mcol_double()\u001b[39m,\n",
      "  `t-test_padj` = \u001b[32mcol_double()\u001b[39m,\n",
      "  `t-test_score` = \u001b[32mcol_double()\u001b[39m,\n",
      "  `t-test_overestim_var_logfc` = \u001b[32mcol_double()\u001b[39m,\n",
      "  `t-test_overestim_var_padj` = \u001b[32mcol_double()\u001b[39m,\n",
      "  `t-test_overestim_var_score` = \u001b[32mcol_double()\u001b[39m\n",
      ")\n",
      "\n",
      "Warning message:\n",
      "“Unknown columns: `gene_name`”\n"
     ]
    },
    {
     "name": "stdout",
     "output_type": "stream",
     "text": [
      "[1] \"9_vs_8    Gene number: 2654\"\n"
     ]
    },
    {
     "name": "stderr",
     "output_type": "stream",
     "text": [
      "'select()' returned 1:many mapping between keys and columns\n",
      "\n",
      "Parsed with column specification:\n",
      "cols(\n",
      "  gene_names = \u001b[31mcol_character()\u001b[39m,\n",
      "  wilcoxon_logfc = \u001b[32mcol_double()\u001b[39m,\n",
      "  wilcoxon_padj = \u001b[32mcol_double()\u001b[39m,\n",
      "  wilcoxon_score = \u001b[32mcol_double()\u001b[39m,\n",
      "  `t-test_logfc` = \u001b[32mcol_double()\u001b[39m,\n",
      "  `t-test_padj` = \u001b[32mcol_double()\u001b[39m,\n",
      "  `t-test_score` = \u001b[32mcol_double()\u001b[39m,\n",
      "  `t-test_overestim_var_logfc` = \u001b[32mcol_double()\u001b[39m,\n",
      "  `t-test_overestim_var_padj` = \u001b[32mcol_double()\u001b[39m,\n",
      "  `t-test_overestim_var_score` = \u001b[32mcol_double()\u001b[39m,\n",
      "  logreg_score = \u001b[32mcol_double()\u001b[39m\n",
      ")\n",
      "\n",
      "Warning message:\n",
      "“Unknown columns: `gene_name`”\n"
     ]
    },
    {
     "name": "stdout",
     "output_type": "stream",
     "text": [
      "[1] \"0    Gene number: 835\"\n"
     ]
    },
    {
     "name": "stderr",
     "output_type": "stream",
     "text": [
      "'select()' returned 1:many mapping between keys and columns\n",
      "\n",
      "Parsed with column specification:\n",
      "cols(\n",
      "  gene_names = \u001b[31mcol_character()\u001b[39m,\n",
      "  wilcoxon_logfc = \u001b[32mcol_double()\u001b[39m,\n",
      "  wilcoxon_padj = \u001b[32mcol_double()\u001b[39m,\n",
      "  wilcoxon_score = \u001b[32mcol_double()\u001b[39m,\n",
      "  `t-test_logfc` = \u001b[32mcol_double()\u001b[39m,\n",
      "  `t-test_padj` = \u001b[32mcol_double()\u001b[39m,\n",
      "  `t-test_score` = \u001b[32mcol_double()\u001b[39m,\n",
      "  `t-test_overestim_var_logfc` = \u001b[32mcol_double()\u001b[39m,\n",
      "  `t-test_overestim_var_padj` = \u001b[32mcol_double()\u001b[39m,\n",
      "  `t-test_overestim_var_score` = \u001b[32mcol_double()\u001b[39m,\n",
      "  logreg_score = \u001b[32mcol_double()\u001b[39m\n",
      ")\n",
      "\n",
      "Warning message:\n",
      "“Unknown columns: `gene_name`”\n"
     ]
    },
    {
     "name": "stdout",
     "output_type": "stream",
     "text": [
      "[1] \"1    Gene number: 679\"\n"
     ]
    },
    {
     "name": "stderr",
     "output_type": "stream",
     "text": [
      "'select()' returned 1:many mapping between keys and columns\n",
      "\n",
      "Parsed with column specification:\n",
      "cols(\n",
      "  gene_names = \u001b[31mcol_character()\u001b[39m,\n",
      "  wilcoxon_logfc = \u001b[32mcol_double()\u001b[39m,\n",
      "  wilcoxon_padj = \u001b[32mcol_double()\u001b[39m,\n",
      "  wilcoxon_score = \u001b[32mcol_double()\u001b[39m,\n",
      "  `t-test_logfc` = \u001b[32mcol_double()\u001b[39m,\n",
      "  `t-test_padj` = \u001b[32mcol_double()\u001b[39m,\n",
      "  `t-test_score` = \u001b[32mcol_double()\u001b[39m,\n",
      "  `t-test_overestim_var_logfc` = \u001b[32mcol_double()\u001b[39m,\n",
      "  `t-test_overestim_var_padj` = \u001b[32mcol_double()\u001b[39m,\n",
      "  `t-test_overestim_var_score` = \u001b[32mcol_double()\u001b[39m,\n",
      "  logreg_score = \u001b[32mcol_double()\u001b[39m\n",
      ")\n",
      "\n",
      "Warning message:\n",
      "“Unknown columns: `gene_name`”\n"
     ]
    },
    {
     "name": "stdout",
     "output_type": "stream",
     "text": [
      "[1] \"2    Gene number: 1327\"\n"
     ]
    },
    {
     "name": "stderr",
     "output_type": "stream",
     "text": [
      "'select()' returned 1:many mapping between keys and columns\n",
      "\n",
      "Parsed with column specification:\n",
      "cols(\n",
      "  gene_names = \u001b[31mcol_character()\u001b[39m,\n",
      "  wilcoxon_logfc = \u001b[32mcol_double()\u001b[39m,\n",
      "  wilcoxon_padj = \u001b[32mcol_double()\u001b[39m,\n",
      "  wilcoxon_score = \u001b[32mcol_double()\u001b[39m,\n",
      "  `t-test_logfc` = \u001b[32mcol_double()\u001b[39m,\n",
      "  `t-test_padj` = \u001b[32mcol_double()\u001b[39m,\n",
      "  `t-test_score` = \u001b[32mcol_double()\u001b[39m,\n",
      "  `t-test_overestim_var_logfc` = \u001b[32mcol_double()\u001b[39m,\n",
      "  `t-test_overestim_var_padj` = \u001b[32mcol_double()\u001b[39m,\n",
      "  `t-test_overestim_var_score` = \u001b[32mcol_double()\u001b[39m,\n",
      "  logreg_score = \u001b[32mcol_double()\u001b[39m\n",
      ")\n",
      "\n",
      "Warning message:\n",
      "“Unknown columns: `gene_name`”\n"
     ]
    },
    {
     "name": "stdout",
     "output_type": "stream",
     "text": [
      "[1] \"3    Gene number: 2142\"\n"
     ]
    },
    {
     "name": "stderr",
     "output_type": "stream",
     "text": [
      "'select()' returned many:many mapping between keys and columns\n",
      "\n",
      "Parsed with column specification:\n",
      "cols(\n",
      "  gene_names = \u001b[31mcol_character()\u001b[39m,\n",
      "  wilcoxon_logfc = \u001b[32mcol_double()\u001b[39m,\n",
      "  wilcoxon_padj = \u001b[32mcol_double()\u001b[39m,\n",
      "  wilcoxon_score = \u001b[32mcol_double()\u001b[39m,\n",
      "  `t-test_logfc` = \u001b[32mcol_double()\u001b[39m,\n",
      "  `t-test_padj` = \u001b[32mcol_double()\u001b[39m,\n",
      "  `t-test_score` = \u001b[32mcol_double()\u001b[39m,\n",
      "  `t-test_overestim_var_logfc` = \u001b[32mcol_double()\u001b[39m,\n",
      "  `t-test_overestim_var_padj` = \u001b[32mcol_double()\u001b[39m,\n",
      "  `t-test_overestim_var_score` = \u001b[32mcol_double()\u001b[39m,\n",
      "  logreg_score = \u001b[32mcol_double()\u001b[39m\n",
      ")\n",
      "\n",
      "Warning message:\n",
      "“Unknown columns: `gene_name`”\n"
     ]
    },
    {
     "name": "stdout",
     "output_type": "stream",
     "text": [
      "[1] \"4    Gene number: 1761\"\n"
     ]
    },
    {
     "name": "stderr",
     "output_type": "stream",
     "text": [
      "'select()' returned many:many mapping between keys and columns\n",
      "\n",
      "Parsed with column specification:\n",
      "cols(\n",
      "  gene_names = \u001b[31mcol_character()\u001b[39m,\n",
      "  wilcoxon_logfc = \u001b[32mcol_double()\u001b[39m,\n",
      "  wilcoxon_padj = \u001b[32mcol_double()\u001b[39m,\n",
      "  wilcoxon_score = \u001b[32mcol_double()\u001b[39m,\n",
      "  `t-test_logfc` = \u001b[32mcol_double()\u001b[39m,\n",
      "  `t-test_padj` = \u001b[32mcol_double()\u001b[39m,\n",
      "  `t-test_score` = \u001b[32mcol_double()\u001b[39m,\n",
      "  `t-test_overestim_var_logfc` = \u001b[32mcol_double()\u001b[39m,\n",
      "  `t-test_overestim_var_padj` = \u001b[32mcol_double()\u001b[39m,\n",
      "  `t-test_overestim_var_score` = \u001b[32mcol_double()\u001b[39m,\n",
      "  logreg_score = \u001b[32mcol_double()\u001b[39m\n",
      ")\n",
      "\n",
      "Warning message:\n",
      "“Unknown columns: `gene_name`”\n"
     ]
    },
    {
     "name": "stdout",
     "output_type": "stream",
     "text": [
      "[1] \"5    Gene number: 1414\"\n"
     ]
    },
    {
     "name": "stderr",
     "output_type": "stream",
     "text": [
      "'select()' returned many:many mapping between keys and columns\n",
      "\n",
      "Parsed with column specification:\n",
      "cols(\n",
      "  gene_names = \u001b[31mcol_character()\u001b[39m,\n",
      "  wilcoxon_logfc = \u001b[32mcol_double()\u001b[39m,\n",
      "  wilcoxon_padj = \u001b[32mcol_double()\u001b[39m,\n",
      "  wilcoxon_score = \u001b[32mcol_double()\u001b[39m,\n",
      "  `t-test_logfc` = \u001b[32mcol_double()\u001b[39m,\n",
      "  `t-test_padj` = \u001b[32mcol_double()\u001b[39m,\n",
      "  `t-test_score` = \u001b[32mcol_double()\u001b[39m,\n",
      "  `t-test_overestim_var_logfc` = \u001b[32mcol_double()\u001b[39m,\n",
      "  `t-test_overestim_var_padj` = \u001b[32mcol_double()\u001b[39m,\n",
      "  `t-test_overestim_var_score` = \u001b[32mcol_double()\u001b[39m,\n",
      "  logreg_score = \u001b[32mcol_double()\u001b[39m\n",
      ")\n",
      "\n",
      "Warning message:\n",
      "“Unknown columns: `gene_name`”\n"
     ]
    },
    {
     "name": "stdout",
     "output_type": "stream",
     "text": [
      "[1] \"6    Gene number: 853\"\n"
     ]
    },
    {
     "name": "stderr",
     "output_type": "stream",
     "text": [
      "'select()' returned many:many mapping between keys and columns\n",
      "\n",
      "Parsed with column specification:\n",
      "cols(\n",
      "  gene_names = \u001b[31mcol_character()\u001b[39m,\n",
      "  wilcoxon_logfc = \u001b[32mcol_double()\u001b[39m,\n",
      "  wilcoxon_padj = \u001b[32mcol_double()\u001b[39m,\n",
      "  wilcoxon_score = \u001b[32mcol_double()\u001b[39m,\n",
      "  `t-test_logfc` = \u001b[32mcol_double()\u001b[39m,\n",
      "  `t-test_padj` = \u001b[32mcol_double()\u001b[39m,\n",
      "  `t-test_score` = \u001b[32mcol_double()\u001b[39m,\n",
      "  `t-test_overestim_var_logfc` = \u001b[32mcol_double()\u001b[39m,\n",
      "  `t-test_overestim_var_padj` = \u001b[32mcol_double()\u001b[39m,\n",
      "  `t-test_overestim_var_score` = \u001b[32mcol_double()\u001b[39m,\n",
      "  logreg_score = \u001b[32mcol_double()\u001b[39m\n",
      ")\n",
      "\n",
      "Warning message:\n",
      "“Unknown columns: `gene_name`”\n"
     ]
    },
    {
     "name": "stdout",
     "output_type": "stream",
     "text": [
      "[1] \"7    Gene number: 1347\"\n"
     ]
    },
    {
     "name": "stderr",
     "output_type": "stream",
     "text": [
      "'select()' returned many:many mapping between keys and columns\n",
      "\n",
      "Parsed with column specification:\n",
      "cols(\n",
      "  gene_names = \u001b[31mcol_character()\u001b[39m,\n",
      "  wilcoxon_logfc = \u001b[32mcol_double()\u001b[39m,\n",
      "  wilcoxon_padj = \u001b[32mcol_double()\u001b[39m,\n",
      "  wilcoxon_score = \u001b[32mcol_double()\u001b[39m,\n",
      "  `t-test_logfc` = \u001b[32mcol_double()\u001b[39m,\n",
      "  `t-test_padj` = \u001b[32mcol_double()\u001b[39m,\n",
      "  `t-test_score` = \u001b[32mcol_double()\u001b[39m,\n",
      "  `t-test_overestim_var_logfc` = \u001b[32mcol_double()\u001b[39m,\n",
      "  `t-test_overestim_var_padj` = \u001b[32mcol_double()\u001b[39m,\n",
      "  `t-test_overestim_var_score` = \u001b[32mcol_double()\u001b[39m,\n",
      "  logreg_score = \u001b[32mcol_double()\u001b[39m\n",
      ")\n",
      "\n",
      "Warning message:\n",
      "“Unknown columns: `gene_name`”\n"
     ]
    },
    {
     "name": "stdout",
     "output_type": "stream",
     "text": [
      "[1] \"8    Gene number: 1356\"\n"
     ]
    },
    {
     "name": "stderr",
     "output_type": "stream",
     "text": [
      "'select()' returned 1:many mapping between keys and columns\n",
      "\n",
      "Parsed with column specification:\n",
      "cols(\n",
      "  gene_names = \u001b[31mcol_character()\u001b[39m,\n",
      "  wilcoxon_logfc = \u001b[32mcol_double()\u001b[39m,\n",
      "  wilcoxon_padj = \u001b[32mcol_double()\u001b[39m,\n",
      "  wilcoxon_score = \u001b[32mcol_double()\u001b[39m,\n",
      "  `t-test_logfc` = \u001b[32mcol_double()\u001b[39m,\n",
      "  `t-test_padj` = \u001b[32mcol_double()\u001b[39m,\n",
      "  `t-test_score` = \u001b[32mcol_double()\u001b[39m,\n",
      "  `t-test_overestim_var_logfc` = \u001b[32mcol_double()\u001b[39m,\n",
      "  `t-test_overestim_var_padj` = \u001b[32mcol_double()\u001b[39m,\n",
      "  `t-test_overestim_var_score` = \u001b[32mcol_double()\u001b[39m,\n",
      "  logreg_score = \u001b[32mcol_double()\u001b[39m\n",
      ")\n",
      "\n",
      "Warning message:\n",
      "“Unknown columns: `gene_name`”\n"
     ]
    },
    {
     "name": "stdout",
     "output_type": "stream",
     "text": [
      "[1] \"9    Gene number: 1956\"\n"
     ]
    },
    {
     "name": "stderr",
     "output_type": "stream",
     "text": [
      "'select()' returned many:many mapping between keys and columns\n",
      "\n",
      "Parsed with column specification:\n",
      "cols(\n",
      "  gene_names = \u001b[31mcol_character()\u001b[39m,\n",
      "  CD25KO = \u001b[32mcol_double()\u001b[39m,\n",
      "  CD25WT = \u001b[32mcol_double()\u001b[39m,\n",
      "  wilcoxon_logfc = \u001b[32mcol_double()\u001b[39m,\n",
      "  wilcoxon_padj = \u001b[32mcol_double()\u001b[39m,\n",
      "  wilcoxon_score = \u001b[32mcol_double()\u001b[39m,\n",
      "  `t-test_logfc` = \u001b[32mcol_double()\u001b[39m,\n",
      "  `t-test_padj` = \u001b[32mcol_double()\u001b[39m,\n",
      "  `t-test_score` = \u001b[32mcol_double()\u001b[39m,\n",
      "  `t-test_overestim_var_logfc` = \u001b[32mcol_double()\u001b[39m,\n",
      "  `t-test_overestim_var_padj` = \u001b[32mcol_double()\u001b[39m,\n",
      "  `t-test_overestim_var_score` = \u001b[32mcol_double()\u001b[39m\n",
      ")\n",
      "\n",
      "Warning message:\n",
      "“Unknown columns: `gene_name`”\n"
     ]
    },
    {
     "name": "stdout",
     "output_type": "stream",
     "text": [
      "[1] \"CD25KO_vs_CD25WT    Gene number: 888\"\n"
     ]
    },
    {
     "name": "stderr",
     "output_type": "stream",
     "text": [
      "'select()' returned 1:many mapping between keys and columns\n",
      "\n",
      "Parsed with column specification:\n",
      "cols(\n",
      "  gene_names = \u001b[31mcol_character()\u001b[39m,\n",
      "  CD25KO = \u001b[32mcol_double()\u001b[39m,\n",
      "  P14NAV = \u001b[32mcol_double()\u001b[39m,\n",
      "  wilcoxon_logfc = \u001b[32mcol_double()\u001b[39m,\n",
      "  wilcoxon_padj = \u001b[32mcol_double()\u001b[39m,\n",
      "  wilcoxon_score = \u001b[32mcol_double()\u001b[39m,\n",
      "  `t-test_logfc` = \u001b[32mcol_double()\u001b[39m,\n",
      "  `t-test_padj` = \u001b[32mcol_double()\u001b[39m,\n",
      "  `t-test_score` = \u001b[32mcol_double()\u001b[39m,\n",
      "  `t-test_overestim_var_logfc` = \u001b[32mcol_double()\u001b[39m,\n",
      "  `t-test_overestim_var_padj` = \u001b[32mcol_double()\u001b[39m,\n",
      "  `t-test_overestim_var_score` = \u001b[32mcol_double()\u001b[39m\n",
      ")\n",
      "\n",
      "Warning message:\n",
      "“Unknown columns: `gene_name`”\n"
     ]
    },
    {
     "name": "stdout",
     "output_type": "stream",
     "text": [
      "[1] \"CD25KO_vs_P14NAV    Gene number: 2639\"\n"
     ]
    },
    {
     "name": "stderr",
     "output_type": "stream",
     "text": [
      "'select()' returned 1:many mapping between keys and columns\n",
      "\n",
      "Parsed with column specification:\n",
      "cols(\n",
      "  gene_names = \u001b[31mcol_character()\u001b[39m,\n",
      "  CD25KO = \u001b[32mcol_double()\u001b[39m,\n",
      "  CD25WT = \u001b[32mcol_double()\u001b[39m,\n",
      "  wilcoxon_logfc = \u001b[32mcol_double()\u001b[39m,\n",
      "  wilcoxon_padj = \u001b[32mcol_double()\u001b[39m,\n",
      "  wilcoxon_score = \u001b[32mcol_double()\u001b[39m,\n",
      "  `t-test_logfc` = \u001b[32mcol_double()\u001b[39m,\n",
      "  `t-test_padj` = \u001b[32mcol_double()\u001b[39m,\n",
      "  `t-test_score` = \u001b[32mcol_double()\u001b[39m,\n",
      "  `t-test_overestim_var_logfc` = \u001b[32mcol_double()\u001b[39m,\n",
      "  `t-test_overestim_var_padj` = \u001b[32mcol_double()\u001b[39m,\n",
      "  `t-test_overestim_var_score` = \u001b[32mcol_double()\u001b[39m\n",
      ")\n",
      "\n",
      "Warning message:\n",
      "“Unknown columns: `gene_name`”\n"
     ]
    },
    {
     "name": "stdout",
     "output_type": "stream",
     "text": [
      "[1] \"CD25WT_vs_CD25KO    Gene number: 1072\"\n"
     ]
    },
    {
     "name": "stderr",
     "output_type": "stream",
     "text": [
      "'select()' returned 1:many mapping between keys and columns\n",
      "\n",
      "Parsed with column specification:\n",
      "cols(\n",
      "  gene_names = \u001b[31mcol_character()\u001b[39m,\n",
      "  CD25WT = \u001b[32mcol_double()\u001b[39m,\n",
      "  P14NAV = \u001b[32mcol_double()\u001b[39m,\n",
      "  wilcoxon_logfc = \u001b[32mcol_double()\u001b[39m,\n",
      "  wilcoxon_padj = \u001b[32mcol_double()\u001b[39m,\n",
      "  wilcoxon_score = \u001b[32mcol_double()\u001b[39m,\n",
      "  `t-test_logfc` = \u001b[32mcol_double()\u001b[39m,\n",
      "  `t-test_padj` = \u001b[32mcol_double()\u001b[39m,\n",
      "  `t-test_score` = \u001b[32mcol_double()\u001b[39m,\n",
      "  `t-test_overestim_var_logfc` = \u001b[32mcol_double()\u001b[39m,\n",
      "  `t-test_overestim_var_padj` = \u001b[32mcol_double()\u001b[39m,\n",
      "  `t-test_overestim_var_score` = \u001b[32mcol_double()\u001b[39m\n",
      ")\n",
      "\n",
      "Warning message:\n",
      "“Unknown columns: `gene_name`”\n"
     ]
    },
    {
     "name": "stdout",
     "output_type": "stream",
     "text": [
      "[1] \"CD25WT_vs_P14NAV    Gene number: 3702\"\n"
     ]
    },
    {
     "name": "stderr",
     "output_type": "stream",
     "text": [
      "'select()' returned 1:many mapping between keys and columns\n",
      "\n",
      "Parsed with column specification:\n",
      "cols(\n",
      "  gene_names = \u001b[31mcol_character()\u001b[39m,\n",
      "  CD25KO = \u001b[32mcol_double()\u001b[39m,\n",
      "  P14NAV = \u001b[32mcol_double()\u001b[39m,\n",
      "  wilcoxon_logfc = \u001b[32mcol_double()\u001b[39m,\n",
      "  wilcoxon_padj = \u001b[32mcol_double()\u001b[39m,\n",
      "  wilcoxon_score = \u001b[32mcol_double()\u001b[39m,\n",
      "  `t-test_logfc` = \u001b[32mcol_double()\u001b[39m,\n",
      "  `t-test_padj` = \u001b[32mcol_double()\u001b[39m,\n",
      "  `t-test_score` = \u001b[32mcol_double()\u001b[39m,\n",
      "  `t-test_overestim_var_logfc` = \u001b[32mcol_double()\u001b[39m,\n",
      "  `t-test_overestim_var_padj` = \u001b[32mcol_double()\u001b[39m,\n",
      "  `t-test_overestim_var_score` = \u001b[32mcol_double()\u001b[39m\n",
      ")\n",
      "\n",
      "Warning message:\n",
      "“Unknown columns: `gene_name`”\n"
     ]
    },
    {
     "name": "stdout",
     "output_type": "stream",
     "text": [
      "[1] \"P14NAV_vs_CD25KO    Gene number: 1232\"\n"
     ]
    },
    {
     "name": "stderr",
     "output_type": "stream",
     "text": [
      "'select()' returned 1:many mapping between keys and columns\n",
      "\n",
      "Parsed with column specification:\n",
      "cols(\n",
      "  gene_names = \u001b[31mcol_character()\u001b[39m,\n",
      "  CD25WT = \u001b[32mcol_double()\u001b[39m,\n",
      "  P14NAV = \u001b[32mcol_double()\u001b[39m,\n",
      "  wilcoxon_logfc = \u001b[32mcol_double()\u001b[39m,\n",
      "  wilcoxon_padj = \u001b[32mcol_double()\u001b[39m,\n",
      "  wilcoxon_score = \u001b[32mcol_double()\u001b[39m,\n",
      "  `t-test_logfc` = \u001b[32mcol_double()\u001b[39m,\n",
      "  `t-test_padj` = \u001b[32mcol_double()\u001b[39m,\n",
      "  `t-test_score` = \u001b[32mcol_double()\u001b[39m,\n",
      "  `t-test_overestim_var_logfc` = \u001b[32mcol_double()\u001b[39m,\n",
      "  `t-test_overestim_var_padj` = \u001b[32mcol_double()\u001b[39m,\n",
      "  `t-test_overestim_var_score` = \u001b[32mcol_double()\u001b[39m\n",
      ")\n",
      "\n",
      "Warning message:\n",
      "“Unknown columns: `gene_name`”\n"
     ]
    },
    {
     "name": "stdout",
     "output_type": "stream",
     "text": [
      "[1] \"P14NAV_vs_CD25WT    Gene number: 1477\"\n"
     ]
    },
    {
     "name": "stderr",
     "output_type": "stream",
     "text": [
      "'select()' returned 1:many mapping between keys and columns\n",
      "\n",
      "Parsed with column specification:\n",
      "cols(\n",
      "  gene_names = \u001b[31mcol_character()\u001b[39m,\n",
      "  CD25KO = \u001b[32mcol_double()\u001b[39m,\n",
      "  CD25WT = \u001b[32mcol_double()\u001b[39m,\n",
      "  wilcoxon_logfc = \u001b[32mcol_double()\u001b[39m,\n",
      "  wilcoxon_padj = \u001b[32mcol_double()\u001b[39m,\n",
      "  wilcoxon_score = \u001b[32mcol_double()\u001b[39m,\n",
      "  `t-test_logfc` = \u001b[32mcol_double()\u001b[39m,\n",
      "  `t-test_padj` = \u001b[32mcol_double()\u001b[39m,\n",
      "  `t-test_score` = \u001b[32mcol_double()\u001b[39m,\n",
      "  `t-test_overestim_var_logfc` = \u001b[32mcol_double()\u001b[39m,\n",
      "  `t-test_overestim_var_padj` = \u001b[32mcol_double()\u001b[39m,\n",
      "  `t-test_overestim_var_score` = \u001b[32mcol_double()\u001b[39m\n",
      ")\n",
      "\n",
      "Warning message:\n",
      "“Unknown columns: `gene_name`”\n"
     ]
    },
    {
     "name": "stdout",
     "output_type": "stream",
     "text": [
      "[1] \"CD25KO_vs_CD25WT    Gene number: 3876\"\n"
     ]
    },
    {
     "name": "stderr",
     "output_type": "stream",
     "text": [
      "'select()' returned 1:many mapping between keys and columns\n",
      "\n",
      "Parsed with column specification:\n",
      "cols(\n",
      "  gene_names = \u001b[31mcol_character()\u001b[39m,\n",
      "  CD25KO = \u001b[32mcol_double()\u001b[39m,\n",
      "  CD25WT = \u001b[32mcol_double()\u001b[39m,\n",
      "  wilcoxon_logfc = \u001b[32mcol_double()\u001b[39m,\n",
      "  wilcoxon_padj = \u001b[32mcol_double()\u001b[39m,\n",
      "  wilcoxon_score = \u001b[32mcol_double()\u001b[39m,\n",
      "  `t-test_logfc` = \u001b[32mcol_double()\u001b[39m,\n",
      "  `t-test_padj` = \u001b[32mcol_double()\u001b[39m,\n",
      "  `t-test_score` = \u001b[32mcol_double()\u001b[39m,\n",
      "  `t-test_overestim_var_logfc` = \u001b[32mcol_double()\u001b[39m,\n",
      "  `t-test_overestim_var_padj` = \u001b[32mcol_double()\u001b[39m,\n",
      "  `t-test_overestim_var_score` = \u001b[32mcol_double()\u001b[39m\n",
      ")\n",
      "\n",
      "Warning message:\n",
      "“Unknown columns: `gene_name`”\n"
     ]
    },
    {
     "name": "stdout",
     "output_type": "stream",
     "text": [
      "[1] \"CD25WT_vs_CD25KO    Gene number: 1627\"\n"
     ]
    },
    {
     "name": "stderr",
     "output_type": "stream",
     "text": [
      "'select()' returned 1:many mapping between keys and columns\n",
      "\n",
      "Parsed with column specification:\n",
      "cols(\n",
      "  gene_names = \u001b[31mcol_character()\u001b[39m,\n",
      "  CD25KO = \u001b[32mcol_double()\u001b[39m,\n",
      "  CD25WT = \u001b[32mcol_double()\u001b[39m,\n",
      "  wilcoxon_logfc = \u001b[32mcol_double()\u001b[39m,\n",
      "  wilcoxon_padj = \u001b[32mcol_double()\u001b[39m,\n",
      "  wilcoxon_score = \u001b[32mcol_double()\u001b[39m,\n",
      "  `t-test_logfc` = \u001b[32mcol_double()\u001b[39m,\n",
      "  `t-test_padj` = \u001b[32mcol_double()\u001b[39m,\n",
      "  `t-test_score` = \u001b[32mcol_double()\u001b[39m,\n",
      "  `t-test_overestim_var_logfc` = \u001b[32mcol_double()\u001b[39m,\n",
      "  `t-test_overestim_var_padj` = \u001b[32mcol_double()\u001b[39m,\n",
      "  `t-test_overestim_var_score` = \u001b[32mcol_double()\u001b[39m\n",
      ")\n",
      "\n",
      "Warning message:\n",
      "“Unknown columns: `gene_name`”\n"
     ]
    },
    {
     "name": "stdout",
     "output_type": "stream",
     "text": [
      "[1] \"CD25KO_vs_CD25WT    Gene number: 1508\"\n"
     ]
    },
    {
     "name": "stderr",
     "output_type": "stream",
     "text": [
      "'select()' returned 1:many mapping between keys and columns\n",
      "\n",
      "Parsed with column specification:\n",
      "cols(\n",
      "  gene_names = \u001b[31mcol_character()\u001b[39m,\n",
      "  CD25KO = \u001b[32mcol_double()\u001b[39m,\n",
      "  CD25WT = \u001b[32mcol_double()\u001b[39m,\n",
      "  wilcoxon_logfc = \u001b[32mcol_double()\u001b[39m,\n",
      "  wilcoxon_padj = \u001b[32mcol_double()\u001b[39m,\n",
      "  wilcoxon_score = \u001b[32mcol_double()\u001b[39m,\n",
      "  `t-test_logfc` = \u001b[32mcol_double()\u001b[39m,\n",
      "  `t-test_padj` = \u001b[32mcol_double()\u001b[39m,\n",
      "  `t-test_score` = \u001b[32mcol_double()\u001b[39m,\n",
      "  `t-test_overestim_var_logfc` = \u001b[32mcol_double()\u001b[39m,\n",
      "  `t-test_overestim_var_padj` = \u001b[32mcol_double()\u001b[39m,\n",
      "  `t-test_overestim_var_score` = \u001b[32mcol_double()\u001b[39m\n",
      ")\n",
      "\n",
      "Warning message:\n",
      "“Unknown columns: `gene_name`”\n"
     ]
    },
    {
     "name": "stdout",
     "output_type": "stream",
     "text": [
      "[1] \"CD25WT_vs_CD25KO    Gene number: 1577\"\n"
     ]
    },
    {
     "name": "stderr",
     "output_type": "stream",
     "text": [
      "'select()' returned 1:many mapping between keys and columns\n",
      "\n",
      "Parsed with column specification:\n",
      "cols(\n",
      "  gene_names = \u001b[31mcol_character()\u001b[39m,\n",
      "  CD25KO = \u001b[32mcol_double()\u001b[39m,\n",
      "  CD25WT = \u001b[32mcol_double()\u001b[39m,\n",
      "  wilcoxon_logfc = \u001b[32mcol_double()\u001b[39m,\n",
      "  wilcoxon_padj = \u001b[32mcol_double()\u001b[39m,\n",
      "  wilcoxon_score = \u001b[32mcol_double()\u001b[39m,\n",
      "  `t-test_logfc` = \u001b[32mcol_double()\u001b[39m,\n",
      "  `t-test_padj` = \u001b[32mcol_double()\u001b[39m,\n",
      "  `t-test_score` = \u001b[32mcol_double()\u001b[39m,\n",
      "  `t-test_overestim_var_logfc` = \u001b[32mcol_double()\u001b[39m,\n",
      "  `t-test_overestim_var_padj` = \u001b[32mcol_double()\u001b[39m,\n",
      "  `t-test_overestim_var_score` = \u001b[32mcol_double()\u001b[39m\n",
      ")\n",
      "\n",
      "Warning message:\n",
      "“Unknown columns: `gene_name`”\n"
     ]
    },
    {
     "name": "stdout",
     "output_type": "stream",
     "text": [
      "[1] \"CD25KO_vs_CD25WT    Gene number: 942\"\n"
     ]
    },
    {
     "name": "stderr",
     "output_type": "stream",
     "text": [
      "'select()' returned 1:many mapping between keys and columns\n",
      "\n",
      "Parsed with column specification:\n",
      "cols(\n",
      "  gene_names = \u001b[31mcol_character()\u001b[39m,\n",
      "  CD25KO = \u001b[32mcol_double()\u001b[39m,\n",
      "  CD25WT = \u001b[32mcol_double()\u001b[39m,\n",
      "  wilcoxon_logfc = \u001b[32mcol_double()\u001b[39m,\n",
      "  wilcoxon_padj = \u001b[32mcol_double()\u001b[39m,\n",
      "  wilcoxon_score = \u001b[32mcol_double()\u001b[39m,\n",
      "  `t-test_logfc` = \u001b[32mcol_double()\u001b[39m,\n",
      "  `t-test_padj` = \u001b[32mcol_double()\u001b[39m,\n",
      "  `t-test_score` = \u001b[32mcol_double()\u001b[39m,\n",
      "  `t-test_overestim_var_logfc` = \u001b[32mcol_double()\u001b[39m,\n",
      "  `t-test_overestim_var_padj` = \u001b[32mcol_double()\u001b[39m,\n",
      "  `t-test_overestim_var_score` = \u001b[32mcol_double()\u001b[39m\n",
      ")\n",
      "\n",
      "Warning message:\n",
      "“Unknown columns: `gene_name`”\n"
     ]
    },
    {
     "name": "stdout",
     "output_type": "stream",
     "text": [
      "[1] \"CD25WT_vs_CD25KO    Gene number: 1521\"\n"
     ]
    },
    {
     "name": "stderr",
     "output_type": "stream",
     "text": [
      "'select()' returned 1:many mapping between keys and columns\n",
      "\n",
      "Parsed with column specification:\n",
      "cols(\n",
      "  gene_names = \u001b[31mcol_character()\u001b[39m,\n",
      "  CD25KO = \u001b[32mcol_double()\u001b[39m,\n",
      "  CD25WT = \u001b[32mcol_double()\u001b[39m,\n",
      "  wilcoxon_logfc = \u001b[32mcol_double()\u001b[39m,\n",
      "  wilcoxon_padj = \u001b[32mcol_double()\u001b[39m,\n",
      "  wilcoxon_score = \u001b[32mcol_double()\u001b[39m,\n",
      "  `t-test_logfc` = \u001b[32mcol_double()\u001b[39m,\n",
      "  `t-test_padj` = \u001b[32mcol_double()\u001b[39m,\n",
      "  `t-test_score` = \u001b[32mcol_double()\u001b[39m,\n",
      "  `t-test_overestim_var_logfc` = \u001b[32mcol_double()\u001b[39m,\n",
      "  `t-test_overestim_var_padj` = \u001b[32mcol_double()\u001b[39m,\n",
      "  `t-test_overestim_var_score` = \u001b[32mcol_double()\u001b[39m\n",
      ")\n",
      "\n",
      "Warning message:\n",
      "“Unknown columns: `gene_name`”\n"
     ]
    },
    {
     "name": "stdout",
     "output_type": "stream",
     "text": [
      "[1] \"CD25KO_vs_CD25WT    Gene number: 1085\"\n"
     ]
    },
    {
     "name": "stderr",
     "output_type": "stream",
     "text": [
      "'select()' returned 1:many mapping between keys and columns\n",
      "\n",
      "Parsed with column specification:\n",
      "cols(\n",
      "  gene_names = \u001b[31mcol_character()\u001b[39m,\n",
      "  CD25KO = \u001b[32mcol_double()\u001b[39m,\n",
      "  CD25WT = \u001b[32mcol_double()\u001b[39m,\n",
      "  wilcoxon_logfc = \u001b[32mcol_double()\u001b[39m,\n",
      "  wilcoxon_padj = \u001b[32mcol_double()\u001b[39m,\n",
      "  wilcoxon_score = \u001b[32mcol_double()\u001b[39m,\n",
      "  `t-test_logfc` = \u001b[32mcol_double()\u001b[39m,\n",
      "  `t-test_padj` = \u001b[32mcol_double()\u001b[39m,\n",
      "  `t-test_score` = \u001b[32mcol_double()\u001b[39m,\n",
      "  `t-test_overestim_var_logfc` = \u001b[32mcol_double()\u001b[39m,\n",
      "  `t-test_overestim_var_padj` = \u001b[32mcol_double()\u001b[39m,\n",
      "  `t-test_overestim_var_score` = \u001b[32mcol_double()\u001b[39m\n",
      ")\n",
      "\n",
      "Warning message:\n",
      "“Unknown columns: `gene_name`”\n"
     ]
    },
    {
     "name": "stdout",
     "output_type": "stream",
     "text": [
      "[1] \"CD25WT_vs_CD25KO    Gene number: 1413\"\n"
     ]
    },
    {
     "name": "stderr",
     "output_type": "stream",
     "text": [
      "'select()' returned 1:many mapping between keys and columns\n",
      "\n",
      "Parsed with column specification:\n",
      "cols(\n",
      "  gene_names = \u001b[31mcol_character()\u001b[39m,\n",
      "  CD25KO = \u001b[32mcol_double()\u001b[39m,\n",
      "  CD25WT = \u001b[32mcol_double()\u001b[39m,\n",
      "  wilcoxon_logfc = \u001b[32mcol_double()\u001b[39m,\n",
      "  wilcoxon_padj = \u001b[32mcol_double()\u001b[39m,\n",
      "  wilcoxon_score = \u001b[32mcol_double()\u001b[39m,\n",
      "  `t-test_logfc` = \u001b[32mcol_double()\u001b[39m,\n",
      "  `t-test_padj` = \u001b[32mcol_double()\u001b[39m,\n",
      "  `t-test_score` = \u001b[32mcol_double()\u001b[39m,\n",
      "  `t-test_overestim_var_logfc` = \u001b[32mcol_double()\u001b[39m,\n",
      "  `t-test_overestim_var_padj` = \u001b[32mcol_double()\u001b[39m,\n",
      "  `t-test_overestim_var_score` = \u001b[32mcol_double()\u001b[39m\n",
      ")\n",
      "\n",
      "Warning message:\n",
      "“Unknown columns: `gene_name`”\n"
     ]
    },
    {
     "name": "stdout",
     "output_type": "stream",
     "text": [
      "[1] \"CD25KO_vs_CD25WT    Gene number: 1703\"\n"
     ]
    },
    {
     "name": "stderr",
     "output_type": "stream",
     "text": [
      "'select()' returned 1:many mapping between keys and columns\n",
      "\n",
      "Parsed with column specification:\n",
      "cols(\n",
      "  gene_names = \u001b[31mcol_character()\u001b[39m,\n",
      "  CD25KO = \u001b[32mcol_double()\u001b[39m,\n",
      "  CD25WT = \u001b[32mcol_double()\u001b[39m,\n",
      "  wilcoxon_logfc = \u001b[32mcol_double()\u001b[39m,\n",
      "  wilcoxon_padj = \u001b[32mcol_double()\u001b[39m,\n",
      "  wilcoxon_score = \u001b[32mcol_double()\u001b[39m,\n",
      "  `t-test_logfc` = \u001b[32mcol_double()\u001b[39m,\n",
      "  `t-test_padj` = \u001b[32mcol_double()\u001b[39m,\n",
      "  `t-test_score` = \u001b[32mcol_double()\u001b[39m,\n",
      "  `t-test_overestim_var_logfc` = \u001b[32mcol_double()\u001b[39m,\n",
      "  `t-test_overestim_var_padj` = \u001b[32mcol_double()\u001b[39m,\n",
      "  `t-test_overestim_var_score` = \u001b[32mcol_double()\u001b[39m\n",
      ")\n",
      "\n",
      "Warning message:\n",
      "“Unknown columns: `gene_name`”\n"
     ]
    },
    {
     "name": "stdout",
     "output_type": "stream",
     "text": [
      "[1] \"CD25WT_vs_CD25KO    Gene number: 1765\"\n"
     ]
    },
    {
     "name": "stderr",
     "output_type": "stream",
     "text": [
      "'select()' returned 1:many mapping between keys and columns\n",
      "\n",
      "Parsed with column specification:\n",
      "cols(\n",
      "  gene_names = \u001b[31mcol_character()\u001b[39m,\n",
      "  CD25KO = \u001b[32mcol_double()\u001b[39m,\n",
      "  CD25WT = \u001b[32mcol_double()\u001b[39m,\n",
      "  wilcoxon_logfc = \u001b[32mcol_double()\u001b[39m,\n",
      "  wilcoxon_padj = \u001b[32mcol_double()\u001b[39m,\n",
      "  wilcoxon_score = \u001b[32mcol_double()\u001b[39m,\n",
      "  `t-test_logfc` = \u001b[32mcol_double()\u001b[39m,\n",
      "  `t-test_padj` = \u001b[32mcol_double()\u001b[39m,\n",
      "  `t-test_score` = \u001b[32mcol_double()\u001b[39m,\n",
      "  `t-test_overestim_var_logfc` = \u001b[32mcol_double()\u001b[39m,\n",
      "  `t-test_overestim_var_padj` = \u001b[32mcol_double()\u001b[39m,\n",
      "  `t-test_overestim_var_score` = \u001b[32mcol_double()\u001b[39m\n",
      ")\n",
      "\n",
      "Warning message:\n",
      "“Unknown columns: `gene_name`”\n"
     ]
    },
    {
     "name": "stdout",
     "output_type": "stream",
     "text": [
      "[1] \"CD25KO_vs_CD25WT    Gene number: 1864\"\n"
     ]
    },
    {
     "name": "stderr",
     "output_type": "stream",
     "text": [
      "'select()' returned 1:many mapping between keys and columns\n",
      "\n",
      "Parsed with column specification:\n",
      "cols(\n",
      "  gene_names = \u001b[31mcol_character()\u001b[39m,\n",
      "  CD25KO = \u001b[32mcol_double()\u001b[39m,\n",
      "  CD25WT = \u001b[32mcol_double()\u001b[39m,\n",
      "  wilcoxon_logfc = \u001b[32mcol_double()\u001b[39m,\n",
      "  wilcoxon_padj = \u001b[32mcol_double()\u001b[39m,\n",
      "  wilcoxon_score = \u001b[32mcol_double()\u001b[39m,\n",
      "  `t-test_logfc` = \u001b[32mcol_double()\u001b[39m,\n",
      "  `t-test_padj` = \u001b[32mcol_double()\u001b[39m,\n",
      "  `t-test_score` = \u001b[32mcol_double()\u001b[39m,\n",
      "  `t-test_overestim_var_logfc` = \u001b[32mcol_double()\u001b[39m,\n",
      "  `t-test_overestim_var_padj` = \u001b[32mcol_double()\u001b[39m,\n",
      "  `t-test_overestim_var_score` = \u001b[32mcol_double()\u001b[39m\n",
      ")\n",
      "\n",
      "Warning message:\n",
      "“Unknown columns: `gene_name`”\n"
     ]
    },
    {
     "name": "stdout",
     "output_type": "stream",
     "text": [
      "[1] \"CD25WT_vs_CD25KO    Gene number: 1672\"\n"
     ]
    },
    {
     "name": "stderr",
     "output_type": "stream",
     "text": [
      "'select()' returned 1:many mapping between keys and columns\n",
      "\n",
      "Parsed with column specification:\n",
      "cols(\n",
      "  gene_names = \u001b[31mcol_character()\u001b[39m,\n",
      "  CD25KO = \u001b[32mcol_double()\u001b[39m,\n",
      "  CD25WT = \u001b[32mcol_double()\u001b[39m,\n",
      "  wilcoxon_logfc = \u001b[32mcol_double()\u001b[39m,\n",
      "  wilcoxon_padj = \u001b[32mcol_double()\u001b[39m,\n",
      "  wilcoxon_score = \u001b[32mcol_double()\u001b[39m,\n",
      "  `t-test_logfc` = \u001b[32mcol_double()\u001b[39m,\n",
      "  `t-test_padj` = \u001b[32mcol_double()\u001b[39m,\n",
      "  `t-test_score` = \u001b[32mcol_double()\u001b[39m,\n",
      "  `t-test_overestim_var_logfc` = \u001b[32mcol_double()\u001b[39m,\n",
      "  `t-test_overestim_var_padj` = \u001b[32mcol_double()\u001b[39m,\n",
      "  `t-test_overestim_var_score` = \u001b[32mcol_double()\u001b[39m\n",
      ")\n",
      "\n",
      "Warning message:\n",
      "“Unknown columns: `gene_name`”\n"
     ]
    },
    {
     "name": "stdout",
     "output_type": "stream",
     "text": [
      "[1] \"CD25KO_vs_CD25WT    Gene number: 1543\"\n"
     ]
    },
    {
     "name": "stderr",
     "output_type": "stream",
     "text": [
      "'select()' returned 1:many mapping between keys and columns\n",
      "\n",
      "Parsed with column specification:\n",
      "cols(\n",
      "  gene_names = \u001b[31mcol_character()\u001b[39m,\n",
      "  CD25KO = \u001b[32mcol_double()\u001b[39m,\n",
      "  CD25WT = \u001b[32mcol_double()\u001b[39m,\n",
      "  wilcoxon_logfc = \u001b[32mcol_double()\u001b[39m,\n",
      "  wilcoxon_padj = \u001b[32mcol_double()\u001b[39m,\n",
      "  wilcoxon_score = \u001b[32mcol_double()\u001b[39m,\n",
      "  `t-test_logfc` = \u001b[32mcol_double()\u001b[39m,\n",
      "  `t-test_padj` = \u001b[32mcol_double()\u001b[39m,\n",
      "  `t-test_score` = \u001b[32mcol_double()\u001b[39m,\n",
      "  `t-test_overestim_var_logfc` = \u001b[32mcol_double()\u001b[39m,\n",
      "  `t-test_overestim_var_padj` = \u001b[32mcol_double()\u001b[39m,\n",
      "  `t-test_overestim_var_score` = \u001b[32mcol_double()\u001b[39m\n",
      ")\n",
      "\n",
      "Warning message:\n",
      "“Unknown columns: `gene_name`”\n"
     ]
    },
    {
     "name": "stdout",
     "output_type": "stream",
     "text": [
      "[1] \"CD25WT_vs_CD25KO    Gene number: 2181\"\n"
     ]
    },
    {
     "name": "stderr",
     "output_type": "stream",
     "text": [
      "'select()' returned 1:many mapping between keys and columns\n",
      "\n"
     ]
    }
   ],
   "source": [
    "for (file.i in de.files) {\n",
    "    \n",
    "    ###----- Create output names & output directory\n",
    "    file.i.outpath <- gsub(de.out.dir, \"\", file.i)\n",
    "    file.i.outpath <- gsub(\".csv\", \"\", file.i.outpath)\n",
    "    file.i.outpath <- gsub(\"^/\", \"\",file.i.outpath)\n",
    "\n",
    "    file.i.simp.name <- tail(unlist(strsplit( file.i.outpath, \"/\")), 1)\n",
    "    file.i.simp.name <- gsub(\"_differential\", \"\", file.i.simp.name)\n",
    "    file.i.simp.vec <- unlist(strsplit(file.i.simp.name, \"_vs_\"))\n",
    "\n",
    "    # Create output directory\n",
    "    wk.dir <- file.path(sum.dir, file.i.outpath)\n",
    "    dir.create(wk.dir, showWarnings = FALSE, recursive=TRUE)\n",
    "    setwd(wk.dir)\n",
    "    \n",
    "    # Run GO\n",
    "    useGroup <- \"t-test_overestim_var_logfc\"\n",
    "    outName <- file.i.simp.name\n",
    "\n",
    "    success <- \"yes\"\n",
    "    gsea <- tryCatch({\n",
    "        GO_run(file.i, useGroup, outName, 1, FALSE)\n",
    "    }, error=function(cond) {\n",
    "        message(paste(file.i, \"failed\",sep='; '))\n",
    "        return(\"no\")\n",
    "    })\n",
    "}"
   ]
  },
  {
   "cell_type": "code",
   "execution_count": null,
   "metadata": {},
   "outputs": [],
   "source": []
  }
 ],
 "metadata": {
  "kernelspec": {
   "display_name": "R",
   "language": "R",
   "name": "ir"
  },
  "language_info": {
   "codemirror_mode": "r",
   "file_extension": ".r",
   "mimetype": "text/x-r-source",
   "name": "R",
   "pygments_lexer": "r",
   "version": "3.6.3"
  }
 },
 "nbformat": 4,
 "nbformat_minor": 4
}
