{
 "cells": [
  {
   "cell_type": "code",
   "execution_count": 9,
   "metadata": {},
   "outputs": [],
   "source": [
    "import csv\n",
    "import numpy as np\n",
    "import os\n",
    "import pandas as pd\n",
    "\n",
    "try:\n",
    "    code_dir\n",
    "except NameError:\n",
    "    code_dir = os.getcwd()\n",
    "    de_analysis_dir = code_dir.replace(\"codes_local\", \"1_DE_analysis\")"
   ]
  },
  {
   "cell_type": "code",
   "execution_count": 18,
   "metadata": {},
   "outputs": [],
   "source": [
    "chd7_de_out_dir = \"/Volumes/Huitian/Projects/CD8_DEV_SC/5_Chd7_RNA/0_salmon_DE_out/2_DEseq/gene_name\"\n",
    "il2_de_out_dir = \"/Volumes/Huitian/Projects/CD8_DEV_SC/2_IL2RAKO_Nascent/2_DE/0_original_GN\""
   ]
  },
  {
   "cell_type": "code",
   "execution_count": 68,
   "metadata": {},
   "outputs": [],
   "source": [
    "cp = [\"KO_TE\", \"WT_TE\"]\n",
    "cp_file = \"%s/%s-%s-Salmon_gn.csv\"%(chd7_de_out_dir, cp[0], cp[1])\n",
    "\n",
    "cp_df = pd.read_csv(cp_file)\n",
    "cp_df_sig = cp_df[cp_df['pvalue'] < 0.05]\n",
    "chd7_promoted = cp_df_sig[cp_df_sig['log2FoldChange'] < 0]['external_gene_name'].tolist()\n",
    "chd7_repressed = cp_df_sig[cp_df_sig['log2FoldChange'] > 0]['external_gene_name'].tolist()\n",
    "chd7_promoted = set(x for x in chd7_promoted if str(x) != 'nan')\n",
    "chd7_repressed = set(x for x in chd7_repressed if str(x) != 'nan')"
   ]
  },
  {
   "cell_type": "code",
   "execution_count": 47,
   "metadata": {},
   "outputs": [],
   "source": [
    "cp = [\"WT_48h\", \"WT_NAV\"]\n",
    "cp_file = \"%s/%s-%s-Salmon_gn.csv\"%(chd7_de_out_dir, cp[0], cp[1])\n",
    "\n",
    "cp_df = pd.read_csv(cp_file)\n",
    "cp_df_sig = cp_df[cp_df['pvalue'] < 0.05]\n",
    "act_promoted = cp_df_sig[cp_df_sig['log2FoldChange'] < 0]['external_gene_name'].tolist()\n",
    "act_repressed = cp_df_sig[cp_df_sig['log2FoldChange'] > 0]['external_gene_name'].tolist()\n",
    "act_promoted = set(x for x in act_promoted if str(x) != 'nan')\n",
    "act_repressed = set(x for x in act_repressed if str(x) != 'nan')"
   ]
  },
  {
   "cell_type": "code",
   "execution_count": 43,
   "metadata": {},
   "outputs": [],
   "source": [
    "cp = [\"WT_48h\", \"KO_48h\"]\n",
    "cp_file = \"%s/nondupr_%s_vs_%s_addGN.csv\"%(il2_de_out_dir, cp[0], cp[1])\n",
    "\n",
    "cp_df = pd.read_csv(cp_file)\n",
    "cp_df_sig = cp_df[cp_df['pvalue'] < 0.05]\n",
    "il2_promoted = cp_df_sig[cp_df_sig['log2FoldChange'] > 0]['gene_name'].tolist()\n",
    "il2_repressed = cp_df_sig[cp_df_sig['log2FoldChange'] < 0]['gene_name'].tolist()\n",
    "il2_promoted = set(x for x in il2_promoted if str(x) != 'nan')\n",
    "il2_repressed = set(x for x in il2_repressed if str(x) != 'nan')"
   ]
  },
  {
   "cell_type": "code",
   "execution_count": 46,
   "metadata": {},
   "outputs": [],
   "source": [
    "cp = [\"WT_48h\", \"WT_0h\"]\n",
    "cp_file = \"%s/nondupr_%s_vs_%s_addGN.csv\"%(il2_de_out_dir, cp[0], cp[1])\n",
    "\n",
    "cp_df = pd.read_csv(cp_file)\n",
    "cp_df_sig = cp_df[cp_df['pvalue'] < 0.05]\n",
    "act_nasc_promoted = cp_df_sig[cp_df_sig['log2FoldChange'] > 0]['gene_name'].tolist()\n",
    "act_nasc_repressed = cp_df_sig[cp_df_sig['log2FoldChange'] < 0]['gene_name'].tolist()\n",
    "act_nasc_promoted = set(x for x in act_nasc_promoted if str(x) != 'nan')\n",
    "act_nasc_repressed = set(x for x in act_nasc_repressed if str(x) != 'nan')"
   ]
  },
  {
   "cell_type": "code",
   "execution_count": 69,
   "metadata": {},
   "outputs": [
    {
     "data": {
      "text/plain": [
       "(578, 886)"
      ]
     },
     "execution_count": 69,
     "metadata": {},
     "output_type": "execute_result"
    }
   ],
   "source": [
    "len(chd7_promoted), len(chd7_repressed)"
   ]
  },
  {
   "cell_type": "code",
   "execution_count": 70,
   "metadata": {},
   "outputs": [
    {
     "data": {
      "text/plain": [
       "58"
      ]
     },
     "execution_count": 70,
     "metadata": {},
     "output_type": "execute_result"
    }
   ],
   "source": [
    "len(chd7_promoted & il2_promoted)"
   ]
  },
  {
   "cell_type": "code",
   "execution_count": 71,
   "metadata": {},
   "outputs": [
    {
     "data": {
      "text/plain": [
       "132"
      ]
     },
     "execution_count": 71,
     "metadata": {},
     "output_type": "execute_result"
    }
   ],
   "source": [
    "len(chd7_repressed & il2_repressed)"
   ]
  },
  {
   "cell_type": "code",
   "execution_count": 72,
   "metadata": {},
   "outputs": [
    {
     "data": {
      "text/plain": [
       "120"
      ]
     },
     "execution_count": 72,
     "metadata": {},
     "output_type": "execute_result"
    }
   ],
   "source": [
    "len(chd7_promoted & act_promoted)"
   ]
  },
  {
   "cell_type": "code",
   "execution_count": 73,
   "metadata": {},
   "outputs": [
    {
     "data": {
      "text/plain": [
       "1206"
      ]
     },
     "execution_count": 73,
     "metadata": {},
     "output_type": "execute_result"
    }
   ],
   "source": [
    "len(il2_promoted & act_nasc_promoted)"
   ]
  },
  {
   "cell_type": "code",
   "execution_count": 74,
   "metadata": {},
   "outputs": [
    {
     "data": {
      "text/plain": [
       "{'Miga1', 'Tle1', 'Tmem108'}"
      ]
     },
     "execution_count": 74,
     "metadata": {},
     "output_type": "execute_result"
    }
   ],
   "source": [
    "(chd7_promoted & act_promoted) & (il2_promoted & act_nasc_promoted)"
   ]
  },
  {
   "cell_type": "code",
   "execution_count": 77,
   "metadata": {},
   "outputs": [
    {
     "data": {
      "text/plain": [
       "{'1500011B03Rik',\n",
       " '2010300C02Rik',\n",
       " '9130208D14Rik',\n",
       " 'Abi3',\n",
       " 'Abtb1',\n",
       " 'Aff3',\n",
       " 'Apol7e',\n",
       " 'Atp8a2',\n",
       " 'Axl',\n",
       " 'B4galnt1',\n",
       " 'Bin2',\n",
       " 'Capg',\n",
       " 'Car2',\n",
       " 'Ccdc125',\n",
       " 'Ccm2',\n",
       " 'Cd1d1',\n",
       " 'Cd27',\n",
       " 'Cd44',\n",
       " 'Cd7',\n",
       " 'Cd86',\n",
       " 'Cd99l2',\n",
       " 'Cdc42se2',\n",
       " 'Chd3',\n",
       " 'Chmp1a',\n",
       " 'Chst12',\n",
       " 'Cnp',\n",
       " 'Coro1b',\n",
       " 'Cpm',\n",
       " 'Creb3',\n",
       " 'Crtam',\n",
       " 'Csrp1',\n",
       " 'Cxcr3',\n",
       " 'Cxcr6',\n",
       " 'Ddb2',\n",
       " 'Dedd2',\n",
       " 'Dmac2',\n",
       " 'Fam169b',\n",
       " 'Fam32a',\n",
       " 'Fam78a',\n",
       " 'Fbxw10',\n",
       " 'Gbp10',\n",
       " 'Gdpd5',\n",
       " 'Gimap6',\n",
       " 'Glrx',\n",
       " 'Gm11346',\n",
       " 'Gm5815',\n",
       " 'Gm8979',\n",
       " 'Gsdmd',\n",
       " 'Gtf2i',\n",
       " 'Hagh',\n",
       " 'Hdac8',\n",
       " 'Hdhd5',\n",
       " 'Hpcal1',\n",
       " 'Hsh2d',\n",
       " 'Hvcn1',\n",
       " 'Igfbp7',\n",
       " 'Igtp',\n",
       " 'Il16',\n",
       " 'Inpp1',\n",
       " 'Inpp5k',\n",
       " 'Irf1',\n",
       " 'Kcnip2',\n",
       " 'Lcp1',\n",
       " 'Lgals8',\n",
       " 'Lhfpl3',\n",
       " 'Limd2',\n",
       " 'Lsp1',\n",
       " 'Maf1',\n",
       " 'Mob2',\n",
       " 'Mxd1',\n",
       " 'Myo1h',\n",
       " 'N4bp2l1',\n",
       " 'Nod2',\n",
       " 'Nrgn',\n",
       " 'Nsun2',\n",
       " 'Nxpe1-ps',\n",
       " 'Pglyrp1',\n",
       " 'Pias1',\n",
       " 'Plin2',\n",
       " 'Qpct',\n",
       " 'Rcsd1',\n",
       " 'Rnf144a',\n",
       " 'Rnf167',\n",
       " 'Rnf43',\n",
       " 'Rpgrip1',\n",
       " 'Samhd1',\n",
       " 'Sash3',\n",
       " 'Scpep1',\n",
       " 'Serp2',\n",
       " 'Serpina3g',\n",
       " 'Serpine2',\n",
       " 'Sit1',\n",
       " 'Slamf6',\n",
       " 'Slfn1',\n",
       " 'Slfn2',\n",
       " 'Smim24',\n",
       " 'Snx9',\n",
       " 'Socs5',\n",
       " 'Sorl1',\n",
       " 'Sp100',\n",
       " 'Spns1',\n",
       " 'Stim2',\n",
       " 'Stk4',\n",
       " 'Stx5a',\n",
       " 'Tbc1d10c',\n",
       " 'Tbc1d4',\n",
       " 'Tbxa2r',\n",
       " 'Tcf7',\n",
       " 'Tcp11l2',\n",
       " 'Tha1',\n",
       " 'Tjp2',\n",
       " 'Tlr6',\n",
       " 'Tmem140',\n",
       " 'Tmem63a',\n",
       " 'Tmem9',\n",
       " 'Tmub2',\n",
       " 'Tpra1',\n",
       " 'Traf1',\n",
       " 'Traj35',\n",
       " 'Trbj2-1',\n",
       " 'Trim21',\n",
       " 'Trim34b',\n",
       " 'Trpm1',\n",
       " 'Tspan14',\n",
       " 'Tspan3',\n",
       " 'Ttc5',\n",
       " 'Ttn',\n",
       " 'Ubald1',\n",
       " 'Unc93b1',\n",
       " 'Vsir',\n",
       " 'Wars',\n",
       " 'Zcwpw1'}"
      ]
     },
     "execution_count": 77,
     "metadata": {},
     "output_type": "execute_result"
    }
   ],
   "source": [
    "chd7_repressed & il2_repressed"
   ]
  },
  {
   "cell_type": "code",
   "execution_count": null,
   "metadata": {},
   "outputs": [],
   "source": []
  }
 ],
 "metadata": {
  "kernelspec": {
   "display_name": "Python 3",
   "language": "python",
   "name": "python3"
  },
  "language_info": {
   "codemirror_mode": {
    "name": "ipython",
    "version": 3
   },
   "file_extension": ".py",
   "mimetype": "text/x-python",
   "name": "python",
   "nbconvert_exporter": "python",
   "pygments_lexer": "ipython3",
   "version": "3.8.5"
  }
 },
 "nbformat": 4,
 "nbformat_minor": 4
}
