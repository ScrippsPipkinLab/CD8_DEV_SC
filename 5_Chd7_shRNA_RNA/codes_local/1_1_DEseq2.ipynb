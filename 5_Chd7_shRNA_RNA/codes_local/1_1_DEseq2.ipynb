{
 "cells": [
  {
   "cell_type": "code",
   "execution_count": 4,
   "metadata": {},
   "outputs": [],
   "source": [
    "library(tidyverse)\n",
    "library(readr)\n",
    "library(GenomicFeatures)\n",
    "library(DESeq2)\n",
    "library(org.Mm.eg.db)\n",
    "library(rjson)\n",
    "library(tximport)\n",
    "library(DBI)\n",
    "library(rje)\n",
    "library(plyr)\n",
    "\n",
    "code.dir <- getwd()\n",
    "base.dir <- gsub(\"/codes_local\", \"\", code.dir)"
   ]
  },
  {
   "cell_type": "code",
   "execution_count": 5,
   "metadata": {},
   "outputs": [
    {
     "name": "stderr",
     "output_type": "stream",
     "text": [
      "\n",
      "\u001b[36m──\u001b[39m \u001b[1m\u001b[1mColumn specification\u001b[1m\u001b[22m \u001b[36m────────────────────────────────────────────\u001b[39m\n",
      "cols(\n",
      "  ensembl_stable_ID = \u001b[31mcol_character()\u001b[39m,\n",
      "  gene_name = \u001b[31mcol_character()\u001b[39m\n",
      ")\n",
      "\n",
      "\n",
      "'select()' returned 1:many mapping between keys and columns\n",
      "\n"
     ]
    }
   ],
   "source": [
    "######################################## Convert ENSEMBL ID to gene symbols ########################################\n",
    "# Download convert table from:http://useast.ensembl.org/biomart/martview/8c1957c27101a044a318d51140a289e1\n",
    "\n",
    "cv_file <- '/home/pipkin/references/mm_BioMart_GeneStableID_GeneName.txt'\n",
    "cv_tb <- read_csv(cv_file)\n",
    "\n",
    "matchGN <- function(input, outfilename, cvTb=cv_tb){\n",
    "    colnames(input) <- c(\"ensembl_stable_ID\", colnames(input)[2:length(colnames(input))])\n",
    "    output <- cvTb %>% right_join(input, by=\"ensembl_stable_ID\")\n",
    "    output$ensembl_stable_ID <- NULL\n",
    "    write_csv(output, outfilename)\n",
    "}\n",
    "\n",
    "\n",
    "###--- Make reference\n",
    "#txdb <- makeTxDbFromGFF('/home/pipkin/references/GRCm38.99/Mus_musculus.GRCm38.99.gtf')\n",
    "#saveDb(txdb, file='/home/pipkin/references/GRCm38.99/Mus_musculus.GRCm38.99')\n",
    "mmRef <- '/home/pipkin/references/GRCm38.100/Mus_musculus.GRCm38.100'\n",
    "\n",
    "###--- Convert transcript ID to gene ID\n",
    "txdb <- loadDb(mmRef)\n",
    "k <- keys(txdb, \"GENEID\")\n",
    "res <- AnnotationDbi::select(txdb, k, \"TXNAME\", \"GENEID\")\n",
    "tx2gene <- res[,2:1]"
   ]
  },
  {
   "cell_type": "code",
   "execution_count": 14,
   "metadata": {},
   "outputs": [],
   "source": [
    "salmon_out_dir <- file.path(base.dir, \"0_salmon\")\n",
    "deseq_out_dir <- file.path(base.dir, \"1_DEseq2_merge_shChd7\")\n",
    "deseq_compiled_dir <- file.path(base.dir, \"1_DEseq2_compiled\")"
   ]
  },
  {
   "cell_type": "code",
   "execution_count": 7,
   "metadata": {},
   "outputs": [
    {
     "name": "stderr",
     "output_type": "stream",
     "text": [
      "\n",
      "\u001b[36m──\u001b[39m \u001b[1m\u001b[1mColumn specification\u001b[1m\u001b[22m \u001b[36m────────────────────────────────────────────\u001b[39m\n",
      "cols(\n",
      "  Samples = \u001b[31mcol_character()\u001b[39m,\n",
      "  Cond = \u001b[31mcol_character()\u001b[39m,\n",
      "  Names = \u001b[31mcol_character()\u001b[39m\n",
      ")\n",
      "\n",
      "\n",
      "reading in files with read_tsv\n",
      "\n",
      "1 \n",
      "2 \n",
      "3 \n",
      "4 \n",
      "5 \n",
      "6 \n",
      "7 \n",
      "8 \n",
      "9 \n",
      "\n",
      "\n",
      "transcripts missing from tx2gene: 176\n",
      "\n",
      "summarizing abundance\n",
      "\n",
      "summarizing counts\n",
      "\n",
      "summarizing length\n",
      "\n",
      "using counts and average transcript lengths from tximport\n",
      "\n"
     ]
    },
    {
     "data": {
      "text/html": [
       "'DESeqDataSet object of length 35734 with 0 metadata columns'"
      ],
      "text/latex": [
       "'DESeqDataSet object of length 35734 with 0 metadata columns'"
      ],
      "text/markdown": [
       "'DESeqDataSet object of length 35734 with 0 metadata columns'"
      ],
      "text/plain": [
       "[1] \"DESeqDataSet object of length 35734 with 0 metadata columns\""
      ]
     },
     "metadata": {},
     "output_type": "display_data"
    },
    {
     "name": "stderr",
     "output_type": "stream",
     "text": [
      "estimating size factors\n",
      "\n",
      "using 'avgTxLength' from assays(dds), correcting for library size\n",
      "\n",
      "estimating dispersions\n",
      "\n",
      "gene-wise dispersion estimates\n",
      "\n",
      "mean-dispersion relationship\n",
      "\n",
      "final dispersion estimates\n",
      "\n",
      "fitting model and testing\n",
      "\n"
     ]
    }
   ],
   "source": [
    "##########---------- Read Quant Files\n",
    "meta.file <- file.path(base.dir, \"meta_merge_shChd7.csv\")\n",
    "meta.df <- read_csv(meta.file)\n",
    "\n",
    "files <- file.path(file.path(base.dir, \"0_salmon\") ,meta.df$Samples, \"quant.sf\")\n",
    "names(files) <- meta.df$Names\n",
    "\n",
    "# Drop in freps TURE = ignore verison  # Ignore TX verison stringsplits on . \n",
    "txi <- tximport(files, type=\"salmon\", tx2gene=tx2gene, ignoreTxVersion = TRUE, dropInfReps = TRUE) #dropInfReps = TRUE, \n",
    "\n",
    "# Construct sampleTable\n",
    "sampleTable <- data.frame(condition = factor(meta.df$Cond))\n",
    "rownames(sampleTable) <- colnames(txi$counts)\n",
    "\n",
    "#import into DESEQ2 framework\n",
    "dds <- DESeqDataSetFromTximport(txi, sampleTable, ~ condition)\n",
    "summary(dds)\n",
    "\n",
    "dds <- DESeq(dds) #RunDESEQ"
   ]
  },
  {
   "cell_type": "code",
   "execution_count": 16,
   "metadata": {},
   "outputs": [
    {
     "name": "stderr",
     "output_type": "stream",
     "text": [
      "Warning message:\n",
      "“Missing column names filled in: 'X1' [1]”\n",
      "\n",
      "\u001b[36m──\u001b[39m \u001b[1m\u001b[1mColumn specification\u001b[1m\u001b[22m \u001b[36m────────────────────────────────────────────\u001b[39m\n",
      "cols(\n",
      "  X1 = \u001b[31mcol_character()\u001b[39m,\n",
      "  Cd4_1_1 = \u001b[32mcol_double()\u001b[39m,\n",
      "  Chd7_1_1 = \u001b[32mcol_double()\u001b[39m,\n",
      "  Chd7_2_1 = \u001b[32mcol_double()\u001b[39m,\n",
      "  Chd7_3_1 = \u001b[32mcol_double()\u001b[39m,\n",
      "  Cd4_1_2 = \u001b[32mcol_double()\u001b[39m,\n",
      "  Chd7_1_2 = \u001b[32mcol_double()\u001b[39m,\n",
      "  Chd7_2_2 = \u001b[32mcol_double()\u001b[39m,\n",
      "  Chd7_3_2 = \u001b[32mcol_double()\u001b[39m,\n",
      "  Cd19_1_1 = \u001b[32mcol_double()\u001b[39m\n",
      ")\n",
      "\n",
      "\n"
     ]
    }
   ],
   "source": [
    "norm.df <- data.frame(counts(dds, normalized=T))\n",
    "norm.name <- file.path(deseq_compiled_dir, \"DESeq2_normalized_counts_bysample.csv\")\n",
    "norm.name.gn <- file.path(deseq_compiled_dir, \"DESeq2_normalized_counts_bysample_gn.csv\")\n",
    "write.csv(norm.df, norm.name)\n",
    "\n",
    "matchGN(read_csv(norm.name), norm.name.gn)"
   ]
  },
  {
   "cell_type": "code",
   "execution_count": 50,
   "metadata": {
    "scrolled": true
   },
   "outputs": [],
   "source": [
    "for (i in meta.df$Cond) {\n",
    "    for (j in meta.df$Cond) {\n",
    "        if (i != j ){\n",
    "            contrast <- c(\"condition\", i, j)\n",
    "            out_name <- paste(i, \"_vs_\", j, \".csv\", sep=\"\")\n",
    "            out_name <- file.path(deseq_out_dir, out_name)\n",
    "            out_name_gn <- gsub(\".csv\",\"_gn.csv\",  out_name)\n",
    "            results <- as_tibble(results(dds, contrast = contrast), rownames='ensembl_id')\n",
    "            write_csv(results, out_name)\n",
    "            matchGN(results, out_name_gn)\n",
    "        }\n",
    "    }\n",
    "}"
   ]
  },
  {
   "cell_type": "code",
   "execution_count": null,
   "metadata": {},
   "outputs": [],
   "source": []
  },
  {
   "cell_type": "code",
   "execution_count": null,
   "metadata": {},
   "outputs": [],
   "source": []
  }
 ],
 "metadata": {
  "kernelspec": {
   "display_name": "R",
   "language": "R",
   "name": "ir"
  },
  "language_info": {
   "codemirror_mode": "r",
   "file_extension": ".r",
   "mimetype": "text/x-r-source",
   "name": "R",
   "pygments_lexer": "r",
   "version": "3.6.3"
  }
 },
 "nbformat": 4,
 "nbformat_minor": 4
}
