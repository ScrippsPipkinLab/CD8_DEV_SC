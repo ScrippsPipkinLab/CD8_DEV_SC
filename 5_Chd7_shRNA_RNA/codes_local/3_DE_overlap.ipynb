{
 "cells": [
  {
   "cell_type": "code",
   "execution_count": 1,
   "metadata": {},
   "outputs": [
    {
     "data": {
      "text/plain": [
       "'/media/pipkin/ROCKET-PRO/CD8_DEV_SC/5_Chd7_shRNA_RNA'"
      ]
     },
     "execution_count": 1,
     "metadata": {},
     "output_type": "execute_result"
    }
   ],
   "source": [
    "import os\n",
    "import pandas as pd\n",
    "from sklearn.decomposition import PCA\n",
    "from sklearn.manifold import MDS\n",
    "from sklearn.metrics.pairwise import cosine_distances\n",
    "from scipy.stats import zscore\n",
    "import matplotlib.pyplot as plt\n",
    "import numpy as np\n",
    "import seaborn as sns\n",
    "from scipy import spatial\n",
    "\n",
    "%matplotlib inline\n",
    "\n",
    "try:\n",
    "    code_dir\n",
    "except NameError:\n",
    "    code_dir = os.getcwd()\n",
    "    base_dir = code_dir.replace(\"/codes_local\", \"\")\n",
    "    deseq2_dir = base_dir + \"/1_DEseq2\"\n",
    "    deseq2_compile_dir = base_dir + \"/1_DEseq2_compiled\"\n",
    "    deseq2_compile_sep_dir = base_dir + \"/1_DEseq2_compiled/sep_Chd7_shRNAs\"\n",
    "    root_dir = \"/\".join(base_dir.split(\"/\")[:-1])\n",
    "base_dir"
   ]
  },
  {
   "cell_type": "code",
   "execution_count": 4,
   "metadata": {},
   "outputs": [],
   "source": [
    "Chd7RNAi_de_dir = root_dir + '/5_Chd7_shRNA_RNA/1_DEseq2'\n",
    "conds = ['Chd7_1','Chd7_2', 'Chd7_3']\n",
    "Chd7RNAi_v_ctrl_files = {i:\"%s/%s_vs_Ctrl_gn.csv\"%(Chd7RNAi_de_dir, i) for i in conds}"
   ]
  },
  {
   "cell_type": "code",
   "execution_count": 10,
   "metadata": {},
   "outputs": [],
   "source": [
    "de_dict = {}\n",
    "for key, value in Chd7RNAi_v_ctrl_files.items():\n",
    "    df = pd.read_csv(value, index_col=0)\n",
    "    df_sig = df[df['pvalue'] < 0.05]\n",
    "    df_sig_up = df_sig[df_sig['log2FoldChange']>0]\n",
    "    df_sig_dn = df_sig[df_sig['log2FoldChange']<0]\n",
    "    de_dict[\"%s_up\"%key] = set(df_sig_up.index)\n",
    "    de_dict[\"%s_dn\"%key] = set(df_sig_dn.index)"
   ]
  },
  {
   "cell_type": "code",
   "execution_count": 12,
   "metadata": {},
   "outputs": [
    {
     "data": {
      "text/plain": [
       "dict_keys(['Chd7_1_up', 'Chd7_1_dn', 'Chd7_2_up', 'Chd7_2_dn', 'Chd7_3_up', 'Chd7_3_dn'])"
      ]
     },
     "execution_count": 12,
     "metadata": {},
     "output_type": "execute_result"
    }
   ],
   "source": [
    "de_dict.keys()"
   ]
  },
  {
   "cell_type": "code",
   "execution_count": 14,
   "metadata": {},
   "outputs": [
    {
     "data": {
      "text/plain": [
       "{'1300017J02Rik',\n",
       " 'Abca3',\n",
       " 'Adam19',\n",
       " 'Bcl2',\n",
       " 'Cd86',\n",
       " 'Eif4ebp2',\n",
       " 'Gm12070',\n",
       " 'Gm49378',\n",
       " 'Gm9027',\n",
       " 'Ifi47',\n",
       " 'Ifit1bl1',\n",
       " 'Igf2r',\n",
       " 'Il10ra',\n",
       " 'Klra9',\n",
       " 'P4ha1',\n",
       " 'Pak6',\n",
       " 'Pitpnm2',\n",
       " 'Ppm1e',\n",
       " 'Rasl12',\n",
       " 'Serpina3g',\n",
       " 'Setbp1',\n",
       " 'Slc4a7',\n",
       " 'Spred1',\n",
       " 'Tnfrsf25',\n",
       " 'Tspan3',\n",
       " 'Tspoap1',\n",
       " 'Zfp236',\n",
       " 'Zfp827'}"
      ]
     },
     "execution_count": 14,
     "metadata": {},
     "output_type": "execute_result"
    }
   ],
   "source": [
    "de_dict['Chd7_1_up'] & de_dict['Chd7_2_up'] & de_dict['Chd7_3_up']"
   ]
  },
  {
   "cell_type": "code",
   "execution_count": 15,
   "metadata": {},
   "outputs": [
    {
     "data": {
      "text/plain": [
       "{'Anxa1',\n",
       " 'Apobec2',\n",
       " 'Chit1',\n",
       " 'Cpd',\n",
       " 'Esm1',\n",
       " 'Fam219b',\n",
       " 'Gab2',\n",
       " 'Gm2026',\n",
       " 'Gm43951',\n",
       " 'Gpc1',\n",
       " 'Gpr55',\n",
       " 'Gzma',\n",
       " 'Havcr2',\n",
       " 'Ifngr1',\n",
       " 'Ighm',\n",
       " 'Il12rb2',\n",
       " 'Itga1',\n",
       " 'Itgb1',\n",
       " 'Klrg1',\n",
       " 'Lancl3',\n",
       " 'Ly6a2',\n",
       " 'Med12l',\n",
       " 'Mmp16',\n",
       " 'Mt1',\n",
       " 'Nhsl2',\n",
       " 'Palm',\n",
       " 'Rcn3',\n",
       " 'Samd4',\n",
       " 'Sept8',\n",
       " 'Tle1',\n",
       " 'Tnfrsf13b',\n",
       " 'Uap1l1',\n",
       " 'Unc93b1',\n",
       " nan}"
      ]
     },
     "execution_count": 15,
     "metadata": {},
     "output_type": "execute_result"
    }
   ],
   "source": [
    "de_dict['Chd7_1_dn'] & de_dict['Chd7_2_dn'] & de_dict['Chd7_3_dn']"
   ]
  },
  {
   "cell_type": "code",
   "execution_count": null,
   "metadata": {},
   "outputs": [],
   "source": []
  }
 ],
 "metadata": {
  "kernelspec": {
   "display_name": "Python 3",
   "language": "python",
   "name": "python3"
  },
  "language_info": {
   "codemirror_mode": {
    "name": "ipython",
    "version": 3
   },
   "file_extension": ".py",
   "mimetype": "text/x-python",
   "name": "python",
   "nbconvert_exporter": "python",
   "pygments_lexer": "ipython3",
   "version": "3.8.3"
  }
 },
 "nbformat": 4,
 "nbformat_minor": 4
}
