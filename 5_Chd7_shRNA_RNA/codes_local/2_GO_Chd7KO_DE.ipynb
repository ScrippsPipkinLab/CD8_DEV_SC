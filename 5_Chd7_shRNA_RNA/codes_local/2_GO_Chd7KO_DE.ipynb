{
 "cells": [
  {
   "cell_type": "code",
   "execution_count": 2,
   "metadata": {},
   "outputs": [
    {
     "data": {
      "text/html": [
       "'/media/pipkin/ROCKET-PRO/CD8_DEV_SC/5_Chd7_KO_RNA'"
      ],
      "text/latex": [
       "'/media/pipkin/ROCKET-PRO/CD8\\_DEV\\_SC/5\\_Chd7\\_KO\\_RNA'"
      ],
      "text/markdown": [
       "'/media/pipkin/ROCKET-PRO/CD8_DEV_SC/5_Chd7_KO_RNA'"
      ],
      "text/plain": [
       "[1] \"/media/pipkin/ROCKET-PRO/CD8_DEV_SC/5_Chd7_KO_RNA\""
      ]
     },
     "metadata": {},
     "output_type": "display_data"
    }
   ],
   "source": [
    "##########----- Reused code -----##########\n",
    "# Last update: Sept 13, 2020\n",
    "# By: Huitian Diao\n",
    "###########################################\n",
    "\n",
    "library(stringr)\n",
    "\n",
    "code_dir <- getwd()\n",
    "tool_dir <- unlist(strsplit(code_dir,\"/\"))\n",
    "tool_dir <- head(tool_dir, length(tool_dir)-2)\n",
    "tool_dir <- paste(c(tool_dir, \"tools\"), collapse=\"/\")\n",
    "source(file.path(tool_dir, \"function_GSEA.R\"))\n",
    "base_dir <- gsub(\"/codes_local\", \"\", code_dir)\n",
    "base_dir"
   ]
  },
  {
   "cell_type": "markdown",
   "metadata": {},
   "source": [
    "## 1. GO term analysis for each set of comparison"
   ]
  },
  {
   "cell_type": "code",
   "execution_count": 3,
   "metadata": {},
   "outputs": [],
   "source": [
    "###----- Create reverse comparison for each, because GO term is one sided\n",
    "if (FALSE) {\n",
    "    ###----- Find all de files\n",
    "    de.out.dir <- '/media/pipkin/ROCKET-PRO/CD8_DEV_SC/5_Chd7_KO_RNA/0_salmon_DE_out/2_DEseq/gene_name'\n",
    "    de.files <- list.files(de.out.dir, pattern=\"*gn.csv\", full.names=TRUE,recursive=TRUE)\n",
    "\n",
    "    use.cols <- c(\"gene_name\", \"log2FoldChange\", \"padj\")\n",
    "\n",
    "    for (de.file in de.files) {\n",
    "        reverse.name <- gsub(\".csv\",\"_rev.csv\", de.file)\n",
    "        print(reverse.name)\n",
    "        de.df <- read_csv(de.file)\n",
    "        de.df$log2FoldChange <- -de.df$log2FoldChange\n",
    "        de.df$stat <- -de.df$stat\n",
    "        write_csv(de.df, reverse.name)\n",
    "    }\n",
    "}"
   ]
  },
  {
   "cell_type": "code",
   "execution_count": 4,
   "metadata": {
    "scrolled": true
   },
   "outputs": [],
   "source": [
    "##########----- Parameters-----##########\n",
    "genome <- \"mm\"\n",
    "#########################################\n",
    "sum.dir <- '/media/pipkin/ROCKET-PRO/CD8_DEV_SC/5_Chd7_KO_RNA/2_DE_GO'\n",
    "dir.create(sum.dir, showWarnings = FALSE, recursive=TRUE)\n",
    "setwd(sum.dir)\n",
    "\n",
    "###----- Find all de files\n",
    "de.out.dir <- '/media/pipkin/ROCKET-PRO/CD8_DEV_SC/5_Chd7_KO_RNA/0_salmon_DE_out/2_DEseq/gene_name'\n",
    "de.files <- list.files(de.out.dir, pattern=\"*.csv\", full.names=TRUE,recursive=TRUE)\n",
    "\n",
    "use.cols <- c(\"gene_name\", \"log2FoldChange\", \"padj\")"
   ]
  },
  {
   "cell_type": "code",
   "execution_count": 5,
   "metadata": {},
   "outputs": [
    {
     "name": "stdout",
     "output_type": "stream",
     "text": [
      "[1] 56\n"
     ]
    },
    {
     "data": {
      "text/html": [
       "<style>\n",
       ".list-inline {list-style: none; margin:0; padding: 0}\n",
       ".list-inline>li {display: inline-block}\n",
       ".list-inline>li:not(:last-child)::after {content: \"\\00b7\"; padding: 0 .5ex}\n",
       "</style>\n",
       "<ol class=list-inline><li>'/media/pipkin/ROCKET-PRO/CD8_DEV_SC/5_Chd7_KO_RNA/0_salmon_DE_out/2_DEseq/gene_name/KO_48h-KO_Naive-Salmon_gn.csv'</li><li>'/media/pipkin/ROCKET-PRO/CD8_DEV_SC/5_Chd7_KO_RNA/0_salmon_DE_out/2_DEseq/gene_name/KO_48h-WT_48h-Salmon_gn.csv'</li><li>'/media/pipkin/ROCKET-PRO/CD8_DEV_SC/5_Chd7_KO_RNA/0_salmon_DE_out/2_DEseq/gene_name/KO_DP-KO_EE-Salmon_gn.csv'</li><li>'/media/pipkin/ROCKET-PRO/CD8_DEV_SC/5_Chd7_KO_RNA/0_salmon_DE_out/2_DEseq/gene_name/KO_DP-KO_MP-Salmon_gn.csv'</li><li>'/media/pipkin/ROCKET-PRO/CD8_DEV_SC/5_Chd7_KO_RNA/0_salmon_DE_out/2_DEseq/gene_name/KO_DP-KO_Naive-Salmon_gn.csv'</li><li>'/media/pipkin/ROCKET-PRO/CD8_DEV_SC/5_Chd7_KO_RNA/0_salmon_DE_out/2_DEseq/gene_name/KO_DP-KO_TE-Salmon_gn.csv'</li><li>'/media/pipkin/ROCKET-PRO/CD8_DEV_SC/5_Chd7_KO_RNA/0_salmon_DE_out/2_DEseq/gene_name/KO_DP-WT_DP-Salmon_gn.csv'</li><li>'/media/pipkin/ROCKET-PRO/CD8_DEV_SC/5_Chd7_KO_RNA/0_salmon_DE_out/2_DEseq/gene_name/KO_EE-KO_DP-Salmon_gn.csv'</li><li>'/media/pipkin/ROCKET-PRO/CD8_DEV_SC/5_Chd7_KO_RNA/0_salmon_DE_out/2_DEseq/gene_name/KO_EE-KO_MP-Salmon_gn.csv'</li><li>'/media/pipkin/ROCKET-PRO/CD8_DEV_SC/5_Chd7_KO_RNA/0_salmon_DE_out/2_DEseq/gene_name/KO_EE-KO_Naive-Salmon_gn.csv'</li><li>'/media/pipkin/ROCKET-PRO/CD8_DEV_SC/5_Chd7_KO_RNA/0_salmon_DE_out/2_DEseq/gene_name/KO_EE-KO_TE-Salmon_gn.csv'</li><li>'/media/pipkin/ROCKET-PRO/CD8_DEV_SC/5_Chd7_KO_RNA/0_salmon_DE_out/2_DEseq/gene_name/KO_EE-WT_EE-Salmon_gn.csv'</li><li>'/media/pipkin/ROCKET-PRO/CD8_DEV_SC/5_Chd7_KO_RNA/0_salmon_DE_out/2_DEseq/gene_name/KO_MP-KO_DP-Salmon_gn.csv'</li><li>'/media/pipkin/ROCKET-PRO/CD8_DEV_SC/5_Chd7_KO_RNA/0_salmon_DE_out/2_DEseq/gene_name/KO_MP-KO_EE-Salmon_gn.csv'</li><li>'/media/pipkin/ROCKET-PRO/CD8_DEV_SC/5_Chd7_KO_RNA/0_salmon_DE_out/2_DEseq/gene_name/KO_MP-KO_Naive-Salmon_gn.csv'</li><li>'/media/pipkin/ROCKET-PRO/CD8_DEV_SC/5_Chd7_KO_RNA/0_salmon_DE_out/2_DEseq/gene_name/KO_MP-KO_TE-Salmon_gn.csv'</li><li>'/media/pipkin/ROCKET-PRO/CD8_DEV_SC/5_Chd7_KO_RNA/0_salmon_DE_out/2_DEseq/gene_name/KO_MP-WT_MP-Salmon_gn.csv'</li><li>'/media/pipkin/ROCKET-PRO/CD8_DEV_SC/5_Chd7_KO_RNA/0_salmon_DE_out/2_DEseq/gene_name/KO_Naive-KO_48h-Salmon_gn.csv'</li><li>'/media/pipkin/ROCKET-PRO/CD8_DEV_SC/5_Chd7_KO_RNA/0_salmon_DE_out/2_DEseq/gene_name/KO_Naive-KO_DP-Salmon_gn.csv'</li><li>'/media/pipkin/ROCKET-PRO/CD8_DEV_SC/5_Chd7_KO_RNA/0_salmon_DE_out/2_DEseq/gene_name/KO_Naive-KO_EE-Salmon_gn.csv'</li><li>'/media/pipkin/ROCKET-PRO/CD8_DEV_SC/5_Chd7_KO_RNA/0_salmon_DE_out/2_DEseq/gene_name/KO_Naive-KO_MP-Salmon_gn.csv'</li><li>'/media/pipkin/ROCKET-PRO/CD8_DEV_SC/5_Chd7_KO_RNA/0_salmon_DE_out/2_DEseq/gene_name/KO_Naive-KO_TE-Salmon_gn.csv'</li><li>'/media/pipkin/ROCKET-PRO/CD8_DEV_SC/5_Chd7_KO_RNA/0_salmon_DE_out/2_DEseq/gene_name/KO_Naive-WT_Naive-Salmon_gn.csv'</li><li>'/media/pipkin/ROCKET-PRO/CD8_DEV_SC/5_Chd7_KO_RNA/0_salmon_DE_out/2_DEseq/gene_name/KO_TE-KO_DP-Salmon_gn.csv'</li><li>'/media/pipkin/ROCKET-PRO/CD8_DEV_SC/5_Chd7_KO_RNA/0_salmon_DE_out/2_DEseq/gene_name/KO_TE-KO_EE-Salmon_gn.csv'</li><li>'/media/pipkin/ROCKET-PRO/CD8_DEV_SC/5_Chd7_KO_RNA/0_salmon_DE_out/2_DEseq/gene_name/KO_TE-KO_MP-Salmon_gn.csv'</li><li>'/media/pipkin/ROCKET-PRO/CD8_DEV_SC/5_Chd7_KO_RNA/0_salmon_DE_out/2_DEseq/gene_name/KO_TE-KO_Naive-Salmon_gn.csv'</li><li>'/media/pipkin/ROCKET-PRO/CD8_DEV_SC/5_Chd7_KO_RNA/0_salmon_DE_out/2_DEseq/gene_name/KO_TE-WT_TE-Salmon_gn.csv'</li><li>'/media/pipkin/ROCKET-PRO/CD8_DEV_SC/5_Chd7_KO_RNA/0_salmon_DE_out/2_DEseq/gene_name/WT_48h-KO_48h-Salmon_gn.csv'</li><li>'/media/pipkin/ROCKET-PRO/CD8_DEV_SC/5_Chd7_KO_RNA/0_salmon_DE_out/2_DEseq/gene_name/WT_48h-WT_Naive-Salmon_gn.csv'</li><li>'/media/pipkin/ROCKET-PRO/CD8_DEV_SC/5_Chd7_KO_RNA/0_salmon_DE_out/2_DEseq/gene_name/WT_DP-KO_DP-Salmon_gn.csv'</li><li>'/media/pipkin/ROCKET-PRO/CD8_DEV_SC/5_Chd7_KO_RNA/0_salmon_DE_out/2_DEseq/gene_name/WT_DP-WT_EE-Salmon_gn.csv'</li><li>'/media/pipkin/ROCKET-PRO/CD8_DEV_SC/5_Chd7_KO_RNA/0_salmon_DE_out/2_DEseq/gene_name/WT_DP-WT_MP-Salmon_gn.csv'</li><li>'/media/pipkin/ROCKET-PRO/CD8_DEV_SC/5_Chd7_KO_RNA/0_salmon_DE_out/2_DEseq/gene_name/WT_DP-WT_Naive-Salmon_gn.csv'</li><li>'/media/pipkin/ROCKET-PRO/CD8_DEV_SC/5_Chd7_KO_RNA/0_salmon_DE_out/2_DEseq/gene_name/WT_DP-WT_TE-Salmon_gn.csv'</li><li>'/media/pipkin/ROCKET-PRO/CD8_DEV_SC/5_Chd7_KO_RNA/0_salmon_DE_out/2_DEseq/gene_name/WT_EE-KO_EE-Salmon_gn.csv'</li><li>'/media/pipkin/ROCKET-PRO/CD8_DEV_SC/5_Chd7_KO_RNA/0_salmon_DE_out/2_DEseq/gene_name/WT_EE-WT_DP-Salmon_gn.csv'</li><li>'/media/pipkin/ROCKET-PRO/CD8_DEV_SC/5_Chd7_KO_RNA/0_salmon_DE_out/2_DEseq/gene_name/WT_EE-WT_MP-Salmon_gn.csv'</li><li>'/media/pipkin/ROCKET-PRO/CD8_DEV_SC/5_Chd7_KO_RNA/0_salmon_DE_out/2_DEseq/gene_name/WT_EE-WT_Naive-Salmon_gn.csv'</li><li>'/media/pipkin/ROCKET-PRO/CD8_DEV_SC/5_Chd7_KO_RNA/0_salmon_DE_out/2_DEseq/gene_name/WT_EE-WT_TE-Salmon_gn.csv'</li><li>'/media/pipkin/ROCKET-PRO/CD8_DEV_SC/5_Chd7_KO_RNA/0_salmon_DE_out/2_DEseq/gene_name/WT_MP-KO_MP-Salmon_gn.csv'</li><li>'/media/pipkin/ROCKET-PRO/CD8_DEV_SC/5_Chd7_KO_RNA/0_salmon_DE_out/2_DEseq/gene_name/WT_MP-WT_DP-Salmon_gn.csv'</li><li>'/media/pipkin/ROCKET-PRO/CD8_DEV_SC/5_Chd7_KO_RNA/0_salmon_DE_out/2_DEseq/gene_name/WT_MP-WT_EE-Salmon_gn.csv'</li><li>'/media/pipkin/ROCKET-PRO/CD8_DEV_SC/5_Chd7_KO_RNA/0_salmon_DE_out/2_DEseq/gene_name/WT_MP-WT_Naive-Salmon_gn.csv'</li><li>'/media/pipkin/ROCKET-PRO/CD8_DEV_SC/5_Chd7_KO_RNA/0_salmon_DE_out/2_DEseq/gene_name/WT_MP-WT_TE-Salmon_gn.csv'</li><li>'/media/pipkin/ROCKET-PRO/CD8_DEV_SC/5_Chd7_KO_RNA/0_salmon_DE_out/2_DEseq/gene_name/WT_Naive-KO_Naive-Salmon_gn.csv'</li><li>'/media/pipkin/ROCKET-PRO/CD8_DEV_SC/5_Chd7_KO_RNA/0_salmon_DE_out/2_DEseq/gene_name/WT_Naive-WT_48h-Salmon_gn.csv'</li><li>'/media/pipkin/ROCKET-PRO/CD8_DEV_SC/5_Chd7_KO_RNA/0_salmon_DE_out/2_DEseq/gene_name/WT_Naive-WT_DP-Salmon_gn.csv'</li><li>'/media/pipkin/ROCKET-PRO/CD8_DEV_SC/5_Chd7_KO_RNA/0_salmon_DE_out/2_DEseq/gene_name/WT_Naive-WT_EE-Salmon_gn.csv'</li><li>'/media/pipkin/ROCKET-PRO/CD8_DEV_SC/5_Chd7_KO_RNA/0_salmon_DE_out/2_DEseq/gene_name/WT_Naive-WT_MP-Salmon_gn.csv'</li><li>'/media/pipkin/ROCKET-PRO/CD8_DEV_SC/5_Chd7_KO_RNA/0_salmon_DE_out/2_DEseq/gene_name/WT_Naive-WT_TE-Salmon_gn.csv'</li><li>'/media/pipkin/ROCKET-PRO/CD8_DEV_SC/5_Chd7_KO_RNA/0_salmon_DE_out/2_DEseq/gene_name/WT_TE-KO_TE-Salmon_gn.csv'</li><li>'/media/pipkin/ROCKET-PRO/CD8_DEV_SC/5_Chd7_KO_RNA/0_salmon_DE_out/2_DEseq/gene_name/WT_TE-WT_DP-Salmon_gn.csv'</li><li>'/media/pipkin/ROCKET-PRO/CD8_DEV_SC/5_Chd7_KO_RNA/0_salmon_DE_out/2_DEseq/gene_name/WT_TE-WT_EE-Salmon_gn.csv'</li><li>'/media/pipkin/ROCKET-PRO/CD8_DEV_SC/5_Chd7_KO_RNA/0_salmon_DE_out/2_DEseq/gene_name/WT_TE-WT_MP-Salmon_gn.csv'</li><li>'/media/pipkin/ROCKET-PRO/CD8_DEV_SC/5_Chd7_KO_RNA/0_salmon_DE_out/2_DEseq/gene_name/WT_TE-WT_Naive-Salmon_gn.csv'</li></ol>\n"
      ],
      "text/latex": [
       "\\begin{enumerate*}\n",
       "\\item '/media/pipkin/ROCKET-PRO/CD8\\_DEV\\_SC/5\\_Chd7\\_KO\\_RNA/0\\_salmon\\_DE\\_out/2\\_DEseq/gene\\_name/KO\\_48h-KO\\_Naive-Salmon\\_gn.csv'\n",
       "\\item '/media/pipkin/ROCKET-PRO/CD8\\_DEV\\_SC/5\\_Chd7\\_KO\\_RNA/0\\_salmon\\_DE\\_out/2\\_DEseq/gene\\_name/KO\\_48h-WT\\_48h-Salmon\\_gn.csv'\n",
       "\\item '/media/pipkin/ROCKET-PRO/CD8\\_DEV\\_SC/5\\_Chd7\\_KO\\_RNA/0\\_salmon\\_DE\\_out/2\\_DEseq/gene\\_name/KO\\_DP-KO\\_EE-Salmon\\_gn.csv'\n",
       "\\item '/media/pipkin/ROCKET-PRO/CD8\\_DEV\\_SC/5\\_Chd7\\_KO\\_RNA/0\\_salmon\\_DE\\_out/2\\_DEseq/gene\\_name/KO\\_DP-KO\\_MP-Salmon\\_gn.csv'\n",
       "\\item '/media/pipkin/ROCKET-PRO/CD8\\_DEV\\_SC/5\\_Chd7\\_KO\\_RNA/0\\_salmon\\_DE\\_out/2\\_DEseq/gene\\_name/KO\\_DP-KO\\_Naive-Salmon\\_gn.csv'\n",
       "\\item '/media/pipkin/ROCKET-PRO/CD8\\_DEV\\_SC/5\\_Chd7\\_KO\\_RNA/0\\_salmon\\_DE\\_out/2\\_DEseq/gene\\_name/KO\\_DP-KO\\_TE-Salmon\\_gn.csv'\n",
       "\\item '/media/pipkin/ROCKET-PRO/CD8\\_DEV\\_SC/5\\_Chd7\\_KO\\_RNA/0\\_salmon\\_DE\\_out/2\\_DEseq/gene\\_name/KO\\_DP-WT\\_DP-Salmon\\_gn.csv'\n",
       "\\item '/media/pipkin/ROCKET-PRO/CD8\\_DEV\\_SC/5\\_Chd7\\_KO\\_RNA/0\\_salmon\\_DE\\_out/2\\_DEseq/gene\\_name/KO\\_EE-KO\\_DP-Salmon\\_gn.csv'\n",
       "\\item '/media/pipkin/ROCKET-PRO/CD8\\_DEV\\_SC/5\\_Chd7\\_KO\\_RNA/0\\_salmon\\_DE\\_out/2\\_DEseq/gene\\_name/KO\\_EE-KO\\_MP-Salmon\\_gn.csv'\n",
       "\\item '/media/pipkin/ROCKET-PRO/CD8\\_DEV\\_SC/5\\_Chd7\\_KO\\_RNA/0\\_salmon\\_DE\\_out/2\\_DEseq/gene\\_name/KO\\_EE-KO\\_Naive-Salmon\\_gn.csv'\n",
       "\\item '/media/pipkin/ROCKET-PRO/CD8\\_DEV\\_SC/5\\_Chd7\\_KO\\_RNA/0\\_salmon\\_DE\\_out/2\\_DEseq/gene\\_name/KO\\_EE-KO\\_TE-Salmon\\_gn.csv'\n",
       "\\item '/media/pipkin/ROCKET-PRO/CD8\\_DEV\\_SC/5\\_Chd7\\_KO\\_RNA/0\\_salmon\\_DE\\_out/2\\_DEseq/gene\\_name/KO\\_EE-WT\\_EE-Salmon\\_gn.csv'\n",
       "\\item '/media/pipkin/ROCKET-PRO/CD8\\_DEV\\_SC/5\\_Chd7\\_KO\\_RNA/0\\_salmon\\_DE\\_out/2\\_DEseq/gene\\_name/KO\\_MP-KO\\_DP-Salmon\\_gn.csv'\n",
       "\\item '/media/pipkin/ROCKET-PRO/CD8\\_DEV\\_SC/5\\_Chd7\\_KO\\_RNA/0\\_salmon\\_DE\\_out/2\\_DEseq/gene\\_name/KO\\_MP-KO\\_EE-Salmon\\_gn.csv'\n",
       "\\item '/media/pipkin/ROCKET-PRO/CD8\\_DEV\\_SC/5\\_Chd7\\_KO\\_RNA/0\\_salmon\\_DE\\_out/2\\_DEseq/gene\\_name/KO\\_MP-KO\\_Naive-Salmon\\_gn.csv'\n",
       "\\item '/media/pipkin/ROCKET-PRO/CD8\\_DEV\\_SC/5\\_Chd7\\_KO\\_RNA/0\\_salmon\\_DE\\_out/2\\_DEseq/gene\\_name/KO\\_MP-KO\\_TE-Salmon\\_gn.csv'\n",
       "\\item '/media/pipkin/ROCKET-PRO/CD8\\_DEV\\_SC/5\\_Chd7\\_KO\\_RNA/0\\_salmon\\_DE\\_out/2\\_DEseq/gene\\_name/KO\\_MP-WT\\_MP-Salmon\\_gn.csv'\n",
       "\\item '/media/pipkin/ROCKET-PRO/CD8\\_DEV\\_SC/5\\_Chd7\\_KO\\_RNA/0\\_salmon\\_DE\\_out/2\\_DEseq/gene\\_name/KO\\_Naive-KO\\_48h-Salmon\\_gn.csv'\n",
       "\\item '/media/pipkin/ROCKET-PRO/CD8\\_DEV\\_SC/5\\_Chd7\\_KO\\_RNA/0\\_salmon\\_DE\\_out/2\\_DEseq/gene\\_name/KO\\_Naive-KO\\_DP-Salmon\\_gn.csv'\n",
       "\\item '/media/pipkin/ROCKET-PRO/CD8\\_DEV\\_SC/5\\_Chd7\\_KO\\_RNA/0\\_salmon\\_DE\\_out/2\\_DEseq/gene\\_name/KO\\_Naive-KO\\_EE-Salmon\\_gn.csv'\n",
       "\\item '/media/pipkin/ROCKET-PRO/CD8\\_DEV\\_SC/5\\_Chd7\\_KO\\_RNA/0\\_salmon\\_DE\\_out/2\\_DEseq/gene\\_name/KO\\_Naive-KO\\_MP-Salmon\\_gn.csv'\n",
       "\\item '/media/pipkin/ROCKET-PRO/CD8\\_DEV\\_SC/5\\_Chd7\\_KO\\_RNA/0\\_salmon\\_DE\\_out/2\\_DEseq/gene\\_name/KO\\_Naive-KO\\_TE-Salmon\\_gn.csv'\n",
       "\\item '/media/pipkin/ROCKET-PRO/CD8\\_DEV\\_SC/5\\_Chd7\\_KO\\_RNA/0\\_salmon\\_DE\\_out/2\\_DEseq/gene\\_name/KO\\_Naive-WT\\_Naive-Salmon\\_gn.csv'\n",
       "\\item '/media/pipkin/ROCKET-PRO/CD8\\_DEV\\_SC/5\\_Chd7\\_KO\\_RNA/0\\_salmon\\_DE\\_out/2\\_DEseq/gene\\_name/KO\\_TE-KO\\_DP-Salmon\\_gn.csv'\n",
       "\\item '/media/pipkin/ROCKET-PRO/CD8\\_DEV\\_SC/5\\_Chd7\\_KO\\_RNA/0\\_salmon\\_DE\\_out/2\\_DEseq/gene\\_name/KO\\_TE-KO\\_EE-Salmon\\_gn.csv'\n",
       "\\item '/media/pipkin/ROCKET-PRO/CD8\\_DEV\\_SC/5\\_Chd7\\_KO\\_RNA/0\\_salmon\\_DE\\_out/2\\_DEseq/gene\\_name/KO\\_TE-KO\\_MP-Salmon\\_gn.csv'\n",
       "\\item '/media/pipkin/ROCKET-PRO/CD8\\_DEV\\_SC/5\\_Chd7\\_KO\\_RNA/0\\_salmon\\_DE\\_out/2\\_DEseq/gene\\_name/KO\\_TE-KO\\_Naive-Salmon\\_gn.csv'\n",
       "\\item '/media/pipkin/ROCKET-PRO/CD8\\_DEV\\_SC/5\\_Chd7\\_KO\\_RNA/0\\_salmon\\_DE\\_out/2\\_DEseq/gene\\_name/KO\\_TE-WT\\_TE-Salmon\\_gn.csv'\n",
       "\\item '/media/pipkin/ROCKET-PRO/CD8\\_DEV\\_SC/5\\_Chd7\\_KO\\_RNA/0\\_salmon\\_DE\\_out/2\\_DEseq/gene\\_name/WT\\_48h-KO\\_48h-Salmon\\_gn.csv'\n",
       "\\item '/media/pipkin/ROCKET-PRO/CD8\\_DEV\\_SC/5\\_Chd7\\_KO\\_RNA/0\\_salmon\\_DE\\_out/2\\_DEseq/gene\\_name/WT\\_48h-WT\\_Naive-Salmon\\_gn.csv'\n",
       "\\item '/media/pipkin/ROCKET-PRO/CD8\\_DEV\\_SC/5\\_Chd7\\_KO\\_RNA/0\\_salmon\\_DE\\_out/2\\_DEseq/gene\\_name/WT\\_DP-KO\\_DP-Salmon\\_gn.csv'\n",
       "\\item '/media/pipkin/ROCKET-PRO/CD8\\_DEV\\_SC/5\\_Chd7\\_KO\\_RNA/0\\_salmon\\_DE\\_out/2\\_DEseq/gene\\_name/WT\\_DP-WT\\_EE-Salmon\\_gn.csv'\n",
       "\\item '/media/pipkin/ROCKET-PRO/CD8\\_DEV\\_SC/5\\_Chd7\\_KO\\_RNA/0\\_salmon\\_DE\\_out/2\\_DEseq/gene\\_name/WT\\_DP-WT\\_MP-Salmon\\_gn.csv'\n",
       "\\item '/media/pipkin/ROCKET-PRO/CD8\\_DEV\\_SC/5\\_Chd7\\_KO\\_RNA/0\\_salmon\\_DE\\_out/2\\_DEseq/gene\\_name/WT\\_DP-WT\\_Naive-Salmon\\_gn.csv'\n",
       "\\item '/media/pipkin/ROCKET-PRO/CD8\\_DEV\\_SC/5\\_Chd7\\_KO\\_RNA/0\\_salmon\\_DE\\_out/2\\_DEseq/gene\\_name/WT\\_DP-WT\\_TE-Salmon\\_gn.csv'\n",
       "\\item '/media/pipkin/ROCKET-PRO/CD8\\_DEV\\_SC/5\\_Chd7\\_KO\\_RNA/0\\_salmon\\_DE\\_out/2\\_DEseq/gene\\_name/WT\\_EE-KO\\_EE-Salmon\\_gn.csv'\n",
       "\\item '/media/pipkin/ROCKET-PRO/CD8\\_DEV\\_SC/5\\_Chd7\\_KO\\_RNA/0\\_salmon\\_DE\\_out/2\\_DEseq/gene\\_name/WT\\_EE-WT\\_DP-Salmon\\_gn.csv'\n",
       "\\item '/media/pipkin/ROCKET-PRO/CD8\\_DEV\\_SC/5\\_Chd7\\_KO\\_RNA/0\\_salmon\\_DE\\_out/2\\_DEseq/gene\\_name/WT\\_EE-WT\\_MP-Salmon\\_gn.csv'\n",
       "\\item '/media/pipkin/ROCKET-PRO/CD8\\_DEV\\_SC/5\\_Chd7\\_KO\\_RNA/0\\_salmon\\_DE\\_out/2\\_DEseq/gene\\_name/WT\\_EE-WT\\_Naive-Salmon\\_gn.csv'\n",
       "\\item '/media/pipkin/ROCKET-PRO/CD8\\_DEV\\_SC/5\\_Chd7\\_KO\\_RNA/0\\_salmon\\_DE\\_out/2\\_DEseq/gene\\_name/WT\\_EE-WT\\_TE-Salmon\\_gn.csv'\n",
       "\\item '/media/pipkin/ROCKET-PRO/CD8\\_DEV\\_SC/5\\_Chd7\\_KO\\_RNA/0\\_salmon\\_DE\\_out/2\\_DEseq/gene\\_name/WT\\_MP-KO\\_MP-Salmon\\_gn.csv'\n",
       "\\item '/media/pipkin/ROCKET-PRO/CD8\\_DEV\\_SC/5\\_Chd7\\_KO\\_RNA/0\\_salmon\\_DE\\_out/2\\_DEseq/gene\\_name/WT\\_MP-WT\\_DP-Salmon\\_gn.csv'\n",
       "\\item '/media/pipkin/ROCKET-PRO/CD8\\_DEV\\_SC/5\\_Chd7\\_KO\\_RNA/0\\_salmon\\_DE\\_out/2\\_DEseq/gene\\_name/WT\\_MP-WT\\_EE-Salmon\\_gn.csv'\n",
       "\\item '/media/pipkin/ROCKET-PRO/CD8\\_DEV\\_SC/5\\_Chd7\\_KO\\_RNA/0\\_salmon\\_DE\\_out/2\\_DEseq/gene\\_name/WT\\_MP-WT\\_Naive-Salmon\\_gn.csv'\n",
       "\\item '/media/pipkin/ROCKET-PRO/CD8\\_DEV\\_SC/5\\_Chd7\\_KO\\_RNA/0\\_salmon\\_DE\\_out/2\\_DEseq/gene\\_name/WT\\_MP-WT\\_TE-Salmon\\_gn.csv'\n",
       "\\item '/media/pipkin/ROCKET-PRO/CD8\\_DEV\\_SC/5\\_Chd7\\_KO\\_RNA/0\\_salmon\\_DE\\_out/2\\_DEseq/gene\\_name/WT\\_Naive-KO\\_Naive-Salmon\\_gn.csv'\n",
       "\\item '/media/pipkin/ROCKET-PRO/CD8\\_DEV\\_SC/5\\_Chd7\\_KO\\_RNA/0\\_salmon\\_DE\\_out/2\\_DEseq/gene\\_name/WT\\_Naive-WT\\_48h-Salmon\\_gn.csv'\n",
       "\\item '/media/pipkin/ROCKET-PRO/CD8\\_DEV\\_SC/5\\_Chd7\\_KO\\_RNA/0\\_salmon\\_DE\\_out/2\\_DEseq/gene\\_name/WT\\_Naive-WT\\_DP-Salmon\\_gn.csv'\n",
       "\\item '/media/pipkin/ROCKET-PRO/CD8\\_DEV\\_SC/5\\_Chd7\\_KO\\_RNA/0\\_salmon\\_DE\\_out/2\\_DEseq/gene\\_name/WT\\_Naive-WT\\_EE-Salmon\\_gn.csv'\n",
       "\\item '/media/pipkin/ROCKET-PRO/CD8\\_DEV\\_SC/5\\_Chd7\\_KO\\_RNA/0\\_salmon\\_DE\\_out/2\\_DEseq/gene\\_name/WT\\_Naive-WT\\_MP-Salmon\\_gn.csv'\n",
       "\\item '/media/pipkin/ROCKET-PRO/CD8\\_DEV\\_SC/5\\_Chd7\\_KO\\_RNA/0\\_salmon\\_DE\\_out/2\\_DEseq/gene\\_name/WT\\_Naive-WT\\_TE-Salmon\\_gn.csv'\n",
       "\\item '/media/pipkin/ROCKET-PRO/CD8\\_DEV\\_SC/5\\_Chd7\\_KO\\_RNA/0\\_salmon\\_DE\\_out/2\\_DEseq/gene\\_name/WT\\_TE-KO\\_TE-Salmon\\_gn.csv'\n",
       "\\item '/media/pipkin/ROCKET-PRO/CD8\\_DEV\\_SC/5\\_Chd7\\_KO\\_RNA/0\\_salmon\\_DE\\_out/2\\_DEseq/gene\\_name/WT\\_TE-WT\\_DP-Salmon\\_gn.csv'\n",
       "\\item '/media/pipkin/ROCKET-PRO/CD8\\_DEV\\_SC/5\\_Chd7\\_KO\\_RNA/0\\_salmon\\_DE\\_out/2\\_DEseq/gene\\_name/WT\\_TE-WT\\_EE-Salmon\\_gn.csv'\n",
       "\\item '/media/pipkin/ROCKET-PRO/CD8\\_DEV\\_SC/5\\_Chd7\\_KO\\_RNA/0\\_salmon\\_DE\\_out/2\\_DEseq/gene\\_name/WT\\_TE-WT\\_MP-Salmon\\_gn.csv'\n",
       "\\item '/media/pipkin/ROCKET-PRO/CD8\\_DEV\\_SC/5\\_Chd7\\_KO\\_RNA/0\\_salmon\\_DE\\_out/2\\_DEseq/gene\\_name/WT\\_TE-WT\\_Naive-Salmon\\_gn.csv'\n",
       "\\end{enumerate*}\n"
      ],
      "text/markdown": [
       "1. '/media/pipkin/ROCKET-PRO/CD8_DEV_SC/5_Chd7_KO_RNA/0_salmon_DE_out/2_DEseq/gene_name/KO_48h-KO_Naive-Salmon_gn.csv'\n",
       "2. '/media/pipkin/ROCKET-PRO/CD8_DEV_SC/5_Chd7_KO_RNA/0_salmon_DE_out/2_DEseq/gene_name/KO_48h-WT_48h-Salmon_gn.csv'\n",
       "3. '/media/pipkin/ROCKET-PRO/CD8_DEV_SC/5_Chd7_KO_RNA/0_salmon_DE_out/2_DEseq/gene_name/KO_DP-KO_EE-Salmon_gn.csv'\n",
       "4. '/media/pipkin/ROCKET-PRO/CD8_DEV_SC/5_Chd7_KO_RNA/0_salmon_DE_out/2_DEseq/gene_name/KO_DP-KO_MP-Salmon_gn.csv'\n",
       "5. '/media/pipkin/ROCKET-PRO/CD8_DEV_SC/5_Chd7_KO_RNA/0_salmon_DE_out/2_DEseq/gene_name/KO_DP-KO_Naive-Salmon_gn.csv'\n",
       "6. '/media/pipkin/ROCKET-PRO/CD8_DEV_SC/5_Chd7_KO_RNA/0_salmon_DE_out/2_DEseq/gene_name/KO_DP-KO_TE-Salmon_gn.csv'\n",
       "7. '/media/pipkin/ROCKET-PRO/CD8_DEV_SC/5_Chd7_KO_RNA/0_salmon_DE_out/2_DEseq/gene_name/KO_DP-WT_DP-Salmon_gn.csv'\n",
       "8. '/media/pipkin/ROCKET-PRO/CD8_DEV_SC/5_Chd7_KO_RNA/0_salmon_DE_out/2_DEseq/gene_name/KO_EE-KO_DP-Salmon_gn.csv'\n",
       "9. '/media/pipkin/ROCKET-PRO/CD8_DEV_SC/5_Chd7_KO_RNA/0_salmon_DE_out/2_DEseq/gene_name/KO_EE-KO_MP-Salmon_gn.csv'\n",
       "10. '/media/pipkin/ROCKET-PRO/CD8_DEV_SC/5_Chd7_KO_RNA/0_salmon_DE_out/2_DEseq/gene_name/KO_EE-KO_Naive-Salmon_gn.csv'\n",
       "11. '/media/pipkin/ROCKET-PRO/CD8_DEV_SC/5_Chd7_KO_RNA/0_salmon_DE_out/2_DEseq/gene_name/KO_EE-KO_TE-Salmon_gn.csv'\n",
       "12. '/media/pipkin/ROCKET-PRO/CD8_DEV_SC/5_Chd7_KO_RNA/0_salmon_DE_out/2_DEseq/gene_name/KO_EE-WT_EE-Salmon_gn.csv'\n",
       "13. '/media/pipkin/ROCKET-PRO/CD8_DEV_SC/5_Chd7_KO_RNA/0_salmon_DE_out/2_DEseq/gene_name/KO_MP-KO_DP-Salmon_gn.csv'\n",
       "14. '/media/pipkin/ROCKET-PRO/CD8_DEV_SC/5_Chd7_KO_RNA/0_salmon_DE_out/2_DEseq/gene_name/KO_MP-KO_EE-Salmon_gn.csv'\n",
       "15. '/media/pipkin/ROCKET-PRO/CD8_DEV_SC/5_Chd7_KO_RNA/0_salmon_DE_out/2_DEseq/gene_name/KO_MP-KO_Naive-Salmon_gn.csv'\n",
       "16. '/media/pipkin/ROCKET-PRO/CD8_DEV_SC/5_Chd7_KO_RNA/0_salmon_DE_out/2_DEseq/gene_name/KO_MP-KO_TE-Salmon_gn.csv'\n",
       "17. '/media/pipkin/ROCKET-PRO/CD8_DEV_SC/5_Chd7_KO_RNA/0_salmon_DE_out/2_DEseq/gene_name/KO_MP-WT_MP-Salmon_gn.csv'\n",
       "18. '/media/pipkin/ROCKET-PRO/CD8_DEV_SC/5_Chd7_KO_RNA/0_salmon_DE_out/2_DEseq/gene_name/KO_Naive-KO_48h-Salmon_gn.csv'\n",
       "19. '/media/pipkin/ROCKET-PRO/CD8_DEV_SC/5_Chd7_KO_RNA/0_salmon_DE_out/2_DEseq/gene_name/KO_Naive-KO_DP-Salmon_gn.csv'\n",
       "20. '/media/pipkin/ROCKET-PRO/CD8_DEV_SC/5_Chd7_KO_RNA/0_salmon_DE_out/2_DEseq/gene_name/KO_Naive-KO_EE-Salmon_gn.csv'\n",
       "21. '/media/pipkin/ROCKET-PRO/CD8_DEV_SC/5_Chd7_KO_RNA/0_salmon_DE_out/2_DEseq/gene_name/KO_Naive-KO_MP-Salmon_gn.csv'\n",
       "22. '/media/pipkin/ROCKET-PRO/CD8_DEV_SC/5_Chd7_KO_RNA/0_salmon_DE_out/2_DEseq/gene_name/KO_Naive-KO_TE-Salmon_gn.csv'\n",
       "23. '/media/pipkin/ROCKET-PRO/CD8_DEV_SC/5_Chd7_KO_RNA/0_salmon_DE_out/2_DEseq/gene_name/KO_Naive-WT_Naive-Salmon_gn.csv'\n",
       "24. '/media/pipkin/ROCKET-PRO/CD8_DEV_SC/5_Chd7_KO_RNA/0_salmon_DE_out/2_DEseq/gene_name/KO_TE-KO_DP-Salmon_gn.csv'\n",
       "25. '/media/pipkin/ROCKET-PRO/CD8_DEV_SC/5_Chd7_KO_RNA/0_salmon_DE_out/2_DEseq/gene_name/KO_TE-KO_EE-Salmon_gn.csv'\n",
       "26. '/media/pipkin/ROCKET-PRO/CD8_DEV_SC/5_Chd7_KO_RNA/0_salmon_DE_out/2_DEseq/gene_name/KO_TE-KO_MP-Salmon_gn.csv'\n",
       "27. '/media/pipkin/ROCKET-PRO/CD8_DEV_SC/5_Chd7_KO_RNA/0_salmon_DE_out/2_DEseq/gene_name/KO_TE-KO_Naive-Salmon_gn.csv'\n",
       "28. '/media/pipkin/ROCKET-PRO/CD8_DEV_SC/5_Chd7_KO_RNA/0_salmon_DE_out/2_DEseq/gene_name/KO_TE-WT_TE-Salmon_gn.csv'\n",
       "29. '/media/pipkin/ROCKET-PRO/CD8_DEV_SC/5_Chd7_KO_RNA/0_salmon_DE_out/2_DEseq/gene_name/WT_48h-KO_48h-Salmon_gn.csv'\n",
       "30. '/media/pipkin/ROCKET-PRO/CD8_DEV_SC/5_Chd7_KO_RNA/0_salmon_DE_out/2_DEseq/gene_name/WT_48h-WT_Naive-Salmon_gn.csv'\n",
       "31. '/media/pipkin/ROCKET-PRO/CD8_DEV_SC/5_Chd7_KO_RNA/0_salmon_DE_out/2_DEseq/gene_name/WT_DP-KO_DP-Salmon_gn.csv'\n",
       "32. '/media/pipkin/ROCKET-PRO/CD8_DEV_SC/5_Chd7_KO_RNA/0_salmon_DE_out/2_DEseq/gene_name/WT_DP-WT_EE-Salmon_gn.csv'\n",
       "33. '/media/pipkin/ROCKET-PRO/CD8_DEV_SC/5_Chd7_KO_RNA/0_salmon_DE_out/2_DEseq/gene_name/WT_DP-WT_MP-Salmon_gn.csv'\n",
       "34. '/media/pipkin/ROCKET-PRO/CD8_DEV_SC/5_Chd7_KO_RNA/0_salmon_DE_out/2_DEseq/gene_name/WT_DP-WT_Naive-Salmon_gn.csv'\n",
       "35. '/media/pipkin/ROCKET-PRO/CD8_DEV_SC/5_Chd7_KO_RNA/0_salmon_DE_out/2_DEseq/gene_name/WT_DP-WT_TE-Salmon_gn.csv'\n",
       "36. '/media/pipkin/ROCKET-PRO/CD8_DEV_SC/5_Chd7_KO_RNA/0_salmon_DE_out/2_DEseq/gene_name/WT_EE-KO_EE-Salmon_gn.csv'\n",
       "37. '/media/pipkin/ROCKET-PRO/CD8_DEV_SC/5_Chd7_KO_RNA/0_salmon_DE_out/2_DEseq/gene_name/WT_EE-WT_DP-Salmon_gn.csv'\n",
       "38. '/media/pipkin/ROCKET-PRO/CD8_DEV_SC/5_Chd7_KO_RNA/0_salmon_DE_out/2_DEseq/gene_name/WT_EE-WT_MP-Salmon_gn.csv'\n",
       "39. '/media/pipkin/ROCKET-PRO/CD8_DEV_SC/5_Chd7_KO_RNA/0_salmon_DE_out/2_DEseq/gene_name/WT_EE-WT_Naive-Salmon_gn.csv'\n",
       "40. '/media/pipkin/ROCKET-PRO/CD8_DEV_SC/5_Chd7_KO_RNA/0_salmon_DE_out/2_DEseq/gene_name/WT_EE-WT_TE-Salmon_gn.csv'\n",
       "41. '/media/pipkin/ROCKET-PRO/CD8_DEV_SC/5_Chd7_KO_RNA/0_salmon_DE_out/2_DEseq/gene_name/WT_MP-KO_MP-Salmon_gn.csv'\n",
       "42. '/media/pipkin/ROCKET-PRO/CD8_DEV_SC/5_Chd7_KO_RNA/0_salmon_DE_out/2_DEseq/gene_name/WT_MP-WT_DP-Salmon_gn.csv'\n",
       "43. '/media/pipkin/ROCKET-PRO/CD8_DEV_SC/5_Chd7_KO_RNA/0_salmon_DE_out/2_DEseq/gene_name/WT_MP-WT_EE-Salmon_gn.csv'\n",
       "44. '/media/pipkin/ROCKET-PRO/CD8_DEV_SC/5_Chd7_KO_RNA/0_salmon_DE_out/2_DEseq/gene_name/WT_MP-WT_Naive-Salmon_gn.csv'\n",
       "45. '/media/pipkin/ROCKET-PRO/CD8_DEV_SC/5_Chd7_KO_RNA/0_salmon_DE_out/2_DEseq/gene_name/WT_MP-WT_TE-Salmon_gn.csv'\n",
       "46. '/media/pipkin/ROCKET-PRO/CD8_DEV_SC/5_Chd7_KO_RNA/0_salmon_DE_out/2_DEseq/gene_name/WT_Naive-KO_Naive-Salmon_gn.csv'\n",
       "47. '/media/pipkin/ROCKET-PRO/CD8_DEV_SC/5_Chd7_KO_RNA/0_salmon_DE_out/2_DEseq/gene_name/WT_Naive-WT_48h-Salmon_gn.csv'\n",
       "48. '/media/pipkin/ROCKET-PRO/CD8_DEV_SC/5_Chd7_KO_RNA/0_salmon_DE_out/2_DEseq/gene_name/WT_Naive-WT_DP-Salmon_gn.csv'\n",
       "49. '/media/pipkin/ROCKET-PRO/CD8_DEV_SC/5_Chd7_KO_RNA/0_salmon_DE_out/2_DEseq/gene_name/WT_Naive-WT_EE-Salmon_gn.csv'\n",
       "50. '/media/pipkin/ROCKET-PRO/CD8_DEV_SC/5_Chd7_KO_RNA/0_salmon_DE_out/2_DEseq/gene_name/WT_Naive-WT_MP-Salmon_gn.csv'\n",
       "51. '/media/pipkin/ROCKET-PRO/CD8_DEV_SC/5_Chd7_KO_RNA/0_salmon_DE_out/2_DEseq/gene_name/WT_Naive-WT_TE-Salmon_gn.csv'\n",
       "52. '/media/pipkin/ROCKET-PRO/CD8_DEV_SC/5_Chd7_KO_RNA/0_salmon_DE_out/2_DEseq/gene_name/WT_TE-KO_TE-Salmon_gn.csv'\n",
       "53. '/media/pipkin/ROCKET-PRO/CD8_DEV_SC/5_Chd7_KO_RNA/0_salmon_DE_out/2_DEseq/gene_name/WT_TE-WT_DP-Salmon_gn.csv'\n",
       "54. '/media/pipkin/ROCKET-PRO/CD8_DEV_SC/5_Chd7_KO_RNA/0_salmon_DE_out/2_DEseq/gene_name/WT_TE-WT_EE-Salmon_gn.csv'\n",
       "55. '/media/pipkin/ROCKET-PRO/CD8_DEV_SC/5_Chd7_KO_RNA/0_salmon_DE_out/2_DEseq/gene_name/WT_TE-WT_MP-Salmon_gn.csv'\n",
       "56. '/media/pipkin/ROCKET-PRO/CD8_DEV_SC/5_Chd7_KO_RNA/0_salmon_DE_out/2_DEseq/gene_name/WT_TE-WT_Naive-Salmon_gn.csv'\n",
       "\n",
       "\n"
      ],
      "text/plain": [
       " [1] \"/media/pipkin/ROCKET-PRO/CD8_DEV_SC/5_Chd7_KO_RNA/0_salmon_DE_out/2_DEseq/gene_name/KO_48h-KO_Naive-Salmon_gn.csv\"  \n",
       " [2] \"/media/pipkin/ROCKET-PRO/CD8_DEV_SC/5_Chd7_KO_RNA/0_salmon_DE_out/2_DEseq/gene_name/KO_48h-WT_48h-Salmon_gn.csv\"    \n",
       " [3] \"/media/pipkin/ROCKET-PRO/CD8_DEV_SC/5_Chd7_KO_RNA/0_salmon_DE_out/2_DEseq/gene_name/KO_DP-KO_EE-Salmon_gn.csv\"      \n",
       " [4] \"/media/pipkin/ROCKET-PRO/CD8_DEV_SC/5_Chd7_KO_RNA/0_salmon_DE_out/2_DEseq/gene_name/KO_DP-KO_MP-Salmon_gn.csv\"      \n",
       " [5] \"/media/pipkin/ROCKET-PRO/CD8_DEV_SC/5_Chd7_KO_RNA/0_salmon_DE_out/2_DEseq/gene_name/KO_DP-KO_Naive-Salmon_gn.csv\"   \n",
       " [6] \"/media/pipkin/ROCKET-PRO/CD8_DEV_SC/5_Chd7_KO_RNA/0_salmon_DE_out/2_DEseq/gene_name/KO_DP-KO_TE-Salmon_gn.csv\"      \n",
       " [7] \"/media/pipkin/ROCKET-PRO/CD8_DEV_SC/5_Chd7_KO_RNA/0_salmon_DE_out/2_DEseq/gene_name/KO_DP-WT_DP-Salmon_gn.csv\"      \n",
       " [8] \"/media/pipkin/ROCKET-PRO/CD8_DEV_SC/5_Chd7_KO_RNA/0_salmon_DE_out/2_DEseq/gene_name/KO_EE-KO_DP-Salmon_gn.csv\"      \n",
       " [9] \"/media/pipkin/ROCKET-PRO/CD8_DEV_SC/5_Chd7_KO_RNA/0_salmon_DE_out/2_DEseq/gene_name/KO_EE-KO_MP-Salmon_gn.csv\"      \n",
       "[10] \"/media/pipkin/ROCKET-PRO/CD8_DEV_SC/5_Chd7_KO_RNA/0_salmon_DE_out/2_DEseq/gene_name/KO_EE-KO_Naive-Salmon_gn.csv\"   \n",
       "[11] \"/media/pipkin/ROCKET-PRO/CD8_DEV_SC/5_Chd7_KO_RNA/0_salmon_DE_out/2_DEseq/gene_name/KO_EE-KO_TE-Salmon_gn.csv\"      \n",
       "[12] \"/media/pipkin/ROCKET-PRO/CD8_DEV_SC/5_Chd7_KO_RNA/0_salmon_DE_out/2_DEseq/gene_name/KO_EE-WT_EE-Salmon_gn.csv\"      \n",
       "[13] \"/media/pipkin/ROCKET-PRO/CD8_DEV_SC/5_Chd7_KO_RNA/0_salmon_DE_out/2_DEseq/gene_name/KO_MP-KO_DP-Salmon_gn.csv\"      \n",
       "[14] \"/media/pipkin/ROCKET-PRO/CD8_DEV_SC/5_Chd7_KO_RNA/0_salmon_DE_out/2_DEseq/gene_name/KO_MP-KO_EE-Salmon_gn.csv\"      \n",
       "[15] \"/media/pipkin/ROCKET-PRO/CD8_DEV_SC/5_Chd7_KO_RNA/0_salmon_DE_out/2_DEseq/gene_name/KO_MP-KO_Naive-Salmon_gn.csv\"   \n",
       "[16] \"/media/pipkin/ROCKET-PRO/CD8_DEV_SC/5_Chd7_KO_RNA/0_salmon_DE_out/2_DEseq/gene_name/KO_MP-KO_TE-Salmon_gn.csv\"      \n",
       "[17] \"/media/pipkin/ROCKET-PRO/CD8_DEV_SC/5_Chd7_KO_RNA/0_salmon_DE_out/2_DEseq/gene_name/KO_MP-WT_MP-Salmon_gn.csv\"      \n",
       "[18] \"/media/pipkin/ROCKET-PRO/CD8_DEV_SC/5_Chd7_KO_RNA/0_salmon_DE_out/2_DEseq/gene_name/KO_Naive-KO_48h-Salmon_gn.csv\"  \n",
       "[19] \"/media/pipkin/ROCKET-PRO/CD8_DEV_SC/5_Chd7_KO_RNA/0_salmon_DE_out/2_DEseq/gene_name/KO_Naive-KO_DP-Salmon_gn.csv\"   \n",
       "[20] \"/media/pipkin/ROCKET-PRO/CD8_DEV_SC/5_Chd7_KO_RNA/0_salmon_DE_out/2_DEseq/gene_name/KO_Naive-KO_EE-Salmon_gn.csv\"   \n",
       "[21] \"/media/pipkin/ROCKET-PRO/CD8_DEV_SC/5_Chd7_KO_RNA/0_salmon_DE_out/2_DEseq/gene_name/KO_Naive-KO_MP-Salmon_gn.csv\"   \n",
       "[22] \"/media/pipkin/ROCKET-PRO/CD8_DEV_SC/5_Chd7_KO_RNA/0_salmon_DE_out/2_DEseq/gene_name/KO_Naive-KO_TE-Salmon_gn.csv\"   \n",
       "[23] \"/media/pipkin/ROCKET-PRO/CD8_DEV_SC/5_Chd7_KO_RNA/0_salmon_DE_out/2_DEseq/gene_name/KO_Naive-WT_Naive-Salmon_gn.csv\"\n",
       "[24] \"/media/pipkin/ROCKET-PRO/CD8_DEV_SC/5_Chd7_KO_RNA/0_salmon_DE_out/2_DEseq/gene_name/KO_TE-KO_DP-Salmon_gn.csv\"      \n",
       "[25] \"/media/pipkin/ROCKET-PRO/CD8_DEV_SC/5_Chd7_KO_RNA/0_salmon_DE_out/2_DEseq/gene_name/KO_TE-KO_EE-Salmon_gn.csv\"      \n",
       "[26] \"/media/pipkin/ROCKET-PRO/CD8_DEV_SC/5_Chd7_KO_RNA/0_salmon_DE_out/2_DEseq/gene_name/KO_TE-KO_MP-Salmon_gn.csv\"      \n",
       "[27] \"/media/pipkin/ROCKET-PRO/CD8_DEV_SC/5_Chd7_KO_RNA/0_salmon_DE_out/2_DEseq/gene_name/KO_TE-KO_Naive-Salmon_gn.csv\"   \n",
       "[28] \"/media/pipkin/ROCKET-PRO/CD8_DEV_SC/5_Chd7_KO_RNA/0_salmon_DE_out/2_DEseq/gene_name/KO_TE-WT_TE-Salmon_gn.csv\"      \n",
       "[29] \"/media/pipkin/ROCKET-PRO/CD8_DEV_SC/5_Chd7_KO_RNA/0_salmon_DE_out/2_DEseq/gene_name/WT_48h-KO_48h-Salmon_gn.csv\"    \n",
       "[30] \"/media/pipkin/ROCKET-PRO/CD8_DEV_SC/5_Chd7_KO_RNA/0_salmon_DE_out/2_DEseq/gene_name/WT_48h-WT_Naive-Salmon_gn.csv\"  \n",
       "[31] \"/media/pipkin/ROCKET-PRO/CD8_DEV_SC/5_Chd7_KO_RNA/0_salmon_DE_out/2_DEseq/gene_name/WT_DP-KO_DP-Salmon_gn.csv\"      \n",
       "[32] \"/media/pipkin/ROCKET-PRO/CD8_DEV_SC/5_Chd7_KO_RNA/0_salmon_DE_out/2_DEseq/gene_name/WT_DP-WT_EE-Salmon_gn.csv\"      \n",
       "[33] \"/media/pipkin/ROCKET-PRO/CD8_DEV_SC/5_Chd7_KO_RNA/0_salmon_DE_out/2_DEseq/gene_name/WT_DP-WT_MP-Salmon_gn.csv\"      \n",
       "[34] \"/media/pipkin/ROCKET-PRO/CD8_DEV_SC/5_Chd7_KO_RNA/0_salmon_DE_out/2_DEseq/gene_name/WT_DP-WT_Naive-Salmon_gn.csv\"   \n",
       "[35] \"/media/pipkin/ROCKET-PRO/CD8_DEV_SC/5_Chd7_KO_RNA/0_salmon_DE_out/2_DEseq/gene_name/WT_DP-WT_TE-Salmon_gn.csv\"      \n",
       "[36] \"/media/pipkin/ROCKET-PRO/CD8_DEV_SC/5_Chd7_KO_RNA/0_salmon_DE_out/2_DEseq/gene_name/WT_EE-KO_EE-Salmon_gn.csv\"      \n",
       "[37] \"/media/pipkin/ROCKET-PRO/CD8_DEV_SC/5_Chd7_KO_RNA/0_salmon_DE_out/2_DEseq/gene_name/WT_EE-WT_DP-Salmon_gn.csv\"      \n",
       "[38] \"/media/pipkin/ROCKET-PRO/CD8_DEV_SC/5_Chd7_KO_RNA/0_salmon_DE_out/2_DEseq/gene_name/WT_EE-WT_MP-Salmon_gn.csv\"      \n",
       "[39] \"/media/pipkin/ROCKET-PRO/CD8_DEV_SC/5_Chd7_KO_RNA/0_salmon_DE_out/2_DEseq/gene_name/WT_EE-WT_Naive-Salmon_gn.csv\"   \n",
       "[40] \"/media/pipkin/ROCKET-PRO/CD8_DEV_SC/5_Chd7_KO_RNA/0_salmon_DE_out/2_DEseq/gene_name/WT_EE-WT_TE-Salmon_gn.csv\"      \n",
       "[41] \"/media/pipkin/ROCKET-PRO/CD8_DEV_SC/5_Chd7_KO_RNA/0_salmon_DE_out/2_DEseq/gene_name/WT_MP-KO_MP-Salmon_gn.csv\"      \n",
       "[42] \"/media/pipkin/ROCKET-PRO/CD8_DEV_SC/5_Chd7_KO_RNA/0_salmon_DE_out/2_DEseq/gene_name/WT_MP-WT_DP-Salmon_gn.csv\"      \n",
       "[43] \"/media/pipkin/ROCKET-PRO/CD8_DEV_SC/5_Chd7_KO_RNA/0_salmon_DE_out/2_DEseq/gene_name/WT_MP-WT_EE-Salmon_gn.csv\"      \n",
       "[44] \"/media/pipkin/ROCKET-PRO/CD8_DEV_SC/5_Chd7_KO_RNA/0_salmon_DE_out/2_DEseq/gene_name/WT_MP-WT_Naive-Salmon_gn.csv\"   \n",
       "[45] \"/media/pipkin/ROCKET-PRO/CD8_DEV_SC/5_Chd7_KO_RNA/0_salmon_DE_out/2_DEseq/gene_name/WT_MP-WT_TE-Salmon_gn.csv\"      \n",
       "[46] \"/media/pipkin/ROCKET-PRO/CD8_DEV_SC/5_Chd7_KO_RNA/0_salmon_DE_out/2_DEseq/gene_name/WT_Naive-KO_Naive-Salmon_gn.csv\"\n",
       "[47] \"/media/pipkin/ROCKET-PRO/CD8_DEV_SC/5_Chd7_KO_RNA/0_salmon_DE_out/2_DEseq/gene_name/WT_Naive-WT_48h-Salmon_gn.csv\"  \n",
       "[48] \"/media/pipkin/ROCKET-PRO/CD8_DEV_SC/5_Chd7_KO_RNA/0_salmon_DE_out/2_DEseq/gene_name/WT_Naive-WT_DP-Salmon_gn.csv\"   \n",
       "[49] \"/media/pipkin/ROCKET-PRO/CD8_DEV_SC/5_Chd7_KO_RNA/0_salmon_DE_out/2_DEseq/gene_name/WT_Naive-WT_EE-Salmon_gn.csv\"   \n",
       "[50] \"/media/pipkin/ROCKET-PRO/CD8_DEV_SC/5_Chd7_KO_RNA/0_salmon_DE_out/2_DEseq/gene_name/WT_Naive-WT_MP-Salmon_gn.csv\"   \n",
       "[51] \"/media/pipkin/ROCKET-PRO/CD8_DEV_SC/5_Chd7_KO_RNA/0_salmon_DE_out/2_DEseq/gene_name/WT_Naive-WT_TE-Salmon_gn.csv\"   \n",
       "[52] \"/media/pipkin/ROCKET-PRO/CD8_DEV_SC/5_Chd7_KO_RNA/0_salmon_DE_out/2_DEseq/gene_name/WT_TE-KO_TE-Salmon_gn.csv\"      \n",
       "[53] \"/media/pipkin/ROCKET-PRO/CD8_DEV_SC/5_Chd7_KO_RNA/0_salmon_DE_out/2_DEseq/gene_name/WT_TE-WT_DP-Salmon_gn.csv\"      \n",
       "[54] \"/media/pipkin/ROCKET-PRO/CD8_DEV_SC/5_Chd7_KO_RNA/0_salmon_DE_out/2_DEseq/gene_name/WT_TE-WT_EE-Salmon_gn.csv\"      \n",
       "[55] \"/media/pipkin/ROCKET-PRO/CD8_DEV_SC/5_Chd7_KO_RNA/0_salmon_DE_out/2_DEseq/gene_name/WT_TE-WT_MP-Salmon_gn.csv\"      \n",
       "[56] \"/media/pipkin/ROCKET-PRO/CD8_DEV_SC/5_Chd7_KO_RNA/0_salmon_DE_out/2_DEseq/gene_name/WT_TE-WT_Naive-Salmon_gn.csv\"   "
      ]
     },
     "metadata": {},
     "output_type": "display_data"
    }
   ],
   "source": [
    "###----- Select comparisons\n",
    "timepoints <- c(\"Naive\",\"48h\",\"EE\",\"DP\",\"MP\",\"TE\")\n",
    "de.use.files <- c()\n",
    "\n",
    "# Per timepoint KO vs WT\n",
    "for (i in timepoints) {\n",
    "    # i timepoint KO vs WT\n",
    "    de.use.files <- c(de.use.files, file.path(de.out.dir,  paste(\"KO_\", i, \"-WT_\", i, \"-Salmon_gn.csv\", sep=\"\")))\n",
    "    de.use.files <- c(de.use.files, file.path(de.out.dir,  paste(\"WT_\", i, \"-KO_\", i, \"-Salmon_gn.csv\", sep=\"\")))\n",
    "}\n",
    "\n",
    "# Act timepoint vs naive\n",
    "act.timepoints <- c(\"48h\",\"EE\",\"DP\",\"MP\",\"TE\")\n",
    "for (i in act.timepoints){\n",
    "    for (j in c(\"Naive\")){\n",
    "        if (i != j) {\n",
    "            de.use.files <- c(de.use.files, file.path(de.out.dir,  paste(\"KO_\", i, \"-KO_\", j, \"-Salmon_gn.csv\", sep=\"\")))\n",
    "            de.use.files <- c(de.use.files, file.path(de.out.dir,  paste(\"WT_\", i, \"-WT_\", j, \"-Salmon_gn.csv\", sep=\"\")))\n",
    "            de.use.files <- c(de.use.files, file.path(de.out.dir,  paste(\"KO_\", j, \"-KO_\", i, \"-Salmon_gn.csv\", sep=\"\")))\n",
    "            de.use.files <- c(de.use.files, file.path(de.out.dir,  paste(\"WT_\", j, \"-WT_\", i, \"-Salmon_gn.csv\", sep=\"\")))\n",
    "        }\n",
    "    }\n",
    "}\n",
    "\n",
    "# D8 one versus another\n",
    "d8.timepoints <- c(\"EE\",\"DP\",\"MP\",\"TE\")\n",
    "for (i_idx in c(1:4)){\n",
    "    for (j_idx in c(1:4)){\n",
    "        if (i_idx != j_idx) {\n",
    "            i <- d8.timepoints[i_idx]\n",
    "            j <- d8.timepoints[j_idx]\n",
    "            de.use.files <- c(de.use.files, file.path(de.out.dir,  paste(\"KO_\", i, \"-KO_\", j, \"-Salmon_gn.csv\", sep=\"\")))\n",
    "            de.use.files <- c(de.use.files, file.path(de.out.dir,  paste(\"WT_\", i, \"-WT_\", j, \"-Salmon_gn.csv\", sep=\"\")))\n",
    "        }\n",
    "    }\n",
    "}\n",
    "\n",
    "de.files.slt <- intersect(de.files, de.use.files)\n",
    "print(length(de.files.slt ))\n",
    "de.files.slt"
   ]
  },
  {
   "cell_type": "code",
   "execution_count": 7,
   "metadata": {
    "scrolled": true
   },
   "outputs": [
    {
     "name": "stderr",
     "output_type": "stream",
     "text": [
      "\n",
      "\u001b[36m──\u001b[39m \u001b[1m\u001b[1mColumn specification\u001b[1m\u001b[22m \u001b[36m───────────────────────────────────\u001b[39m\n",
      "cols(\n",
      "  gene_name = \u001b[31mcol_character()\u001b[39m,\n",
      "  baseMean = \u001b[32mcol_double()\u001b[39m,\n",
      "  log2FoldChange = \u001b[32mcol_double()\u001b[39m,\n",
      "  lfcSE = \u001b[32mcol_double()\u001b[39m,\n",
      "  stat = \u001b[32mcol_double()\u001b[39m,\n",
      "  pvalue = \u001b[32mcol_double()\u001b[39m,\n",
      "  padj = \u001b[32mcol_double()\u001b[39m\n",
      ")\n",
      "\n",
      "\n",
      "Warning message:\n",
      "“Unknown columns: `gene_names`”\n"
     ]
    },
    {
     "name": "stdout",
     "output_type": "stream",
     "text": [
      "[1] \"KO_48h-KO_Naive-Salmon_gn    Gene number: 6076\"\n"
     ]
    },
    {
     "name": "stderr",
     "output_type": "stream",
     "text": [
      "'select()' returned many:many mapping between keys and columns\n",
      "\n",
      "\n",
      "\u001b[36m──\u001b[39m \u001b[1m\u001b[1mColumn specification\u001b[1m\u001b[22m \u001b[36m───────────────────────────────────\u001b[39m\n",
      "cols(\n",
      "  gene_name = \u001b[31mcol_character()\u001b[39m,\n",
      "  baseMean = \u001b[32mcol_double()\u001b[39m,\n",
      "  log2FoldChange = \u001b[32mcol_double()\u001b[39m,\n",
      "  lfcSE = \u001b[32mcol_double()\u001b[39m,\n",
      "  stat = \u001b[32mcol_double()\u001b[39m,\n",
      "  pvalue = \u001b[32mcol_double()\u001b[39m,\n",
      "  padj = \u001b[32mcol_double()\u001b[39m\n",
      ")\n",
      "\n",
      "\n",
      "Warning message:\n",
      "“Unknown columns: `gene_names`”\n"
     ]
    },
    {
     "name": "stdout",
     "output_type": "stream",
     "text": [
      "[1] \"KO_48h-WT_48h-Salmon_gn    Gene number: 4448\"\n"
     ]
    },
    {
     "name": "stderr",
     "output_type": "stream",
     "text": [
      "'select()' returned many:many mapping between keys and columns\n",
      "\n",
      "\n",
      "\u001b[36m──\u001b[39m \u001b[1m\u001b[1mColumn specification\u001b[1m\u001b[22m \u001b[36m───────────────────────────────────\u001b[39m\n",
      "cols(\n",
      "  gene_name = \u001b[31mcol_character()\u001b[39m,\n",
      "  baseMean = \u001b[32mcol_double()\u001b[39m,\n",
      "  log2FoldChange = \u001b[32mcol_double()\u001b[39m,\n",
      "  lfcSE = \u001b[32mcol_double()\u001b[39m,\n",
      "  stat = \u001b[32mcol_double()\u001b[39m,\n",
      "  pvalue = \u001b[32mcol_double()\u001b[39m,\n",
      "  padj = \u001b[32mcol_double()\u001b[39m\n",
      ")\n",
      "\n",
      "\n",
      "Warning message:\n",
      "“Unknown columns: `gene_names`”\n"
     ]
    },
    {
     "name": "stdout",
     "output_type": "stream",
     "text": [
      "[1] \"KO_DP-KO_EE-Salmon_gn    Gene number: 4099\"\n"
     ]
    },
    {
     "name": "stderr",
     "output_type": "stream",
     "text": [
      "'select()' returned 1:many mapping between keys and columns\n",
      "\n",
      "\n",
      "\u001b[36m──\u001b[39m \u001b[1m\u001b[1mColumn specification\u001b[1m\u001b[22m \u001b[36m───────────────────────────────────\u001b[39m\n",
      "cols(\n",
      "  gene_name = \u001b[31mcol_character()\u001b[39m,\n",
      "  baseMean = \u001b[32mcol_double()\u001b[39m,\n",
      "  log2FoldChange = \u001b[32mcol_double()\u001b[39m,\n",
      "  lfcSE = \u001b[32mcol_double()\u001b[39m,\n",
      "  stat = \u001b[32mcol_double()\u001b[39m,\n",
      "  pvalue = \u001b[32mcol_double()\u001b[39m,\n",
      "  padj = \u001b[32mcol_double()\u001b[39m\n",
      ")\n",
      "\n",
      "\n",
      "Warning message:\n",
      "“Unknown columns: `gene_names`”\n"
     ]
    },
    {
     "name": "stdout",
     "output_type": "stream",
     "text": [
      "[1] \"KO_DP-KO_MP-Salmon_gn    Gene number: 3073\"\n"
     ]
    },
    {
     "name": "stderr",
     "output_type": "stream",
     "text": [
      "'select()' returned 1:many mapping between keys and columns\n",
      "\n",
      "\n",
      "\u001b[36m──\u001b[39m \u001b[1m\u001b[1mColumn specification\u001b[1m\u001b[22m \u001b[36m───────────────────────────────────\u001b[39m\n",
      "cols(\n",
      "  gene_name = \u001b[31mcol_character()\u001b[39m,\n",
      "  baseMean = \u001b[32mcol_double()\u001b[39m,\n",
      "  log2FoldChange = \u001b[32mcol_double()\u001b[39m,\n",
      "  lfcSE = \u001b[32mcol_double()\u001b[39m,\n",
      "  stat = \u001b[32mcol_double()\u001b[39m,\n",
      "  pvalue = \u001b[32mcol_double()\u001b[39m,\n",
      "  padj = \u001b[32mcol_double()\u001b[39m\n",
      ")\n",
      "\n",
      "\n",
      "Warning message:\n",
      "“Unknown columns: `gene_names`”\n"
     ]
    },
    {
     "name": "stdout",
     "output_type": "stream",
     "text": [
      "[1] \"KO_DP-KO_Naive-Salmon_gn    Gene number: 5195\"\n"
     ]
    },
    {
     "name": "stderr",
     "output_type": "stream",
     "text": [
      "'select()' returned many:many mapping between keys and columns\n",
      "\n",
      "\n",
      "\u001b[36m──\u001b[39m \u001b[1m\u001b[1mColumn specification\u001b[1m\u001b[22m \u001b[36m───────────────────────────────────\u001b[39m\n",
      "cols(\n",
      "  gene_name = \u001b[31mcol_character()\u001b[39m,\n",
      "  baseMean = \u001b[32mcol_double()\u001b[39m,\n",
      "  log2FoldChange = \u001b[32mcol_double()\u001b[39m,\n",
      "  lfcSE = \u001b[32mcol_double()\u001b[39m,\n",
      "  stat = \u001b[32mcol_double()\u001b[39m,\n",
      "  pvalue = \u001b[32mcol_double()\u001b[39m,\n",
      "  padj = \u001b[32mcol_double()\u001b[39m\n",
      ")\n",
      "\n",
      "\n",
      "Warning message:\n",
      "“Unknown columns: `gene_names`”\n"
     ]
    },
    {
     "name": "stdout",
     "output_type": "stream",
     "text": [
      "[1] \"KO_DP-KO_TE-Salmon_gn    Gene number: 4423\"\n"
     ]
    },
    {
     "name": "stderr",
     "output_type": "stream",
     "text": [
      "'select()' returned 1:many mapping between keys and columns\n",
      "\n",
      "\n",
      "\u001b[36m──\u001b[39m \u001b[1m\u001b[1mColumn specification\u001b[1m\u001b[22m \u001b[36m───────────────────────────────────\u001b[39m\n",
      "cols(\n",
      "  gene_name = \u001b[31mcol_character()\u001b[39m,\n",
      "  baseMean = \u001b[32mcol_double()\u001b[39m,\n",
      "  log2FoldChange = \u001b[32mcol_double()\u001b[39m,\n",
      "  lfcSE = \u001b[32mcol_double()\u001b[39m,\n",
      "  stat = \u001b[32mcol_double()\u001b[39m,\n",
      "  pvalue = \u001b[32mcol_double()\u001b[39m,\n",
      "  padj = \u001b[32mcol_double()\u001b[39m\n",
      ")\n",
      "\n",
      "\n",
      "Warning message:\n",
      "“Unknown columns: `gene_names`”\n"
     ]
    },
    {
     "name": "stdout",
     "output_type": "stream",
     "text": [
      "[1] \"KO_DP-WT_DP-Salmon_gn    Gene number: 3499\"\n"
     ]
    },
    {
     "name": "stderr",
     "output_type": "stream",
     "text": [
      "'select()' returned many:many mapping between keys and columns\n",
      "\n",
      "\n",
      "\u001b[36m──\u001b[39m \u001b[1m\u001b[1mColumn specification\u001b[1m\u001b[22m \u001b[36m───────────────────────────────────\u001b[39m\n",
      "cols(\n",
      "  gene_name = \u001b[31mcol_character()\u001b[39m,\n",
      "  baseMean = \u001b[32mcol_double()\u001b[39m,\n",
      "  log2FoldChange = \u001b[32mcol_double()\u001b[39m,\n",
      "  lfcSE = \u001b[32mcol_double()\u001b[39m,\n",
      "  stat = \u001b[32mcol_double()\u001b[39m,\n",
      "  pvalue = \u001b[32mcol_double()\u001b[39m,\n",
      "  padj = \u001b[32mcol_double()\u001b[39m\n",
      ")\n",
      "\n",
      "\n",
      "Warning message:\n",
      "“Unknown columns: `gene_names`”\n"
     ]
    },
    {
     "name": "stdout",
     "output_type": "stream",
     "text": [
      "[1] \"KO_EE-KO_DP-Salmon_gn    Gene number: 3241\"\n"
     ]
    },
    {
     "name": "stderr",
     "output_type": "stream",
     "text": [
      "'select()' returned 1:many mapping between keys and columns\n",
      "\n",
      "\n",
      "\u001b[36m──\u001b[39m \u001b[1m\u001b[1mColumn specification\u001b[1m\u001b[22m \u001b[36m───────────────────────────────────\u001b[39m\n",
      "cols(\n",
      "  gene_name = \u001b[31mcol_character()\u001b[39m,\n",
      "  baseMean = \u001b[32mcol_double()\u001b[39m,\n",
      "  log2FoldChange = \u001b[32mcol_double()\u001b[39m,\n",
      "  lfcSE = \u001b[32mcol_double()\u001b[39m,\n",
      "  stat = \u001b[32mcol_double()\u001b[39m,\n",
      "  pvalue = \u001b[32mcol_double()\u001b[39m,\n",
      "  padj = \u001b[32mcol_double()\u001b[39m\n",
      ")\n",
      "\n",
      "\n",
      "Warning message:\n",
      "“Unknown columns: `gene_names`”\n"
     ]
    },
    {
     "name": "stdout",
     "output_type": "stream",
     "text": [
      "[1] \"KO_EE-KO_MP-Salmon_gn    Gene number: 2826\"\n"
     ]
    },
    {
     "name": "stderr",
     "output_type": "stream",
     "text": [
      "'select()' returned 1:many mapping between keys and columns\n",
      "\n",
      "\n",
      "\u001b[36m──\u001b[39m \u001b[1m\u001b[1mColumn specification\u001b[1m\u001b[22m \u001b[36m───────────────────────────────────\u001b[39m\n",
      "cols(\n",
      "  gene_name = \u001b[31mcol_character()\u001b[39m,\n",
      "  baseMean = \u001b[32mcol_double()\u001b[39m,\n",
      "  log2FoldChange = \u001b[32mcol_double()\u001b[39m,\n",
      "  lfcSE = \u001b[32mcol_double()\u001b[39m,\n",
      "  stat = \u001b[32mcol_double()\u001b[39m,\n",
      "  pvalue = \u001b[32mcol_double()\u001b[39m,\n",
      "  padj = \u001b[32mcol_double()\u001b[39m\n",
      ")\n",
      "\n",
      "\n",
      "Warning message:\n",
      "“Unknown columns: `gene_names`”\n"
     ]
    },
    {
     "name": "stdout",
     "output_type": "stream",
     "text": [
      "[1] \"KO_EE-KO_Naive-Salmon_gn    Gene number: 4640\"\n"
     ]
    },
    {
     "name": "stderr",
     "output_type": "stream",
     "text": [
      "'select()' returned many:many mapping between keys and columns\n",
      "\n",
      "\n",
      "\u001b[36m──\u001b[39m \u001b[1m\u001b[1mColumn specification\u001b[1m\u001b[22m \u001b[36m───────────────────────────────────\u001b[39m\n",
      "cols(\n",
      "  gene_name = \u001b[31mcol_character()\u001b[39m,\n",
      "  baseMean = \u001b[32mcol_double()\u001b[39m,\n",
      "  log2FoldChange = \u001b[32mcol_double()\u001b[39m,\n",
      "  lfcSE = \u001b[32mcol_double()\u001b[39m,\n",
      "  stat = \u001b[32mcol_double()\u001b[39m,\n",
      "  pvalue = \u001b[32mcol_double()\u001b[39m,\n",
      "  padj = \u001b[32mcol_double()\u001b[39m\n",
      ")\n",
      "\n",
      "\n",
      "Warning message:\n",
      "“Unknown columns: `gene_names`”\n"
     ]
    },
    {
     "name": "stdout",
     "output_type": "stream",
     "text": [
      "[1] \"KO_EE-KO_TE-Salmon_gn    Gene number: 3570\"\n"
     ]
    },
    {
     "name": "stderr",
     "output_type": "stream",
     "text": [
      "'select()' returned many:many mapping between keys and columns\n",
      "\n",
      "\n",
      "\u001b[36m──\u001b[39m \u001b[1m\u001b[1mColumn specification\u001b[1m\u001b[22m \u001b[36m───────────────────────────────────\u001b[39m\n",
      "cols(\n",
      "  gene_name = \u001b[31mcol_character()\u001b[39m,\n",
      "  baseMean = \u001b[32mcol_double()\u001b[39m,\n",
      "  log2FoldChange = \u001b[32mcol_double()\u001b[39m,\n",
      "  lfcSE = \u001b[32mcol_double()\u001b[39m,\n",
      "  stat = \u001b[32mcol_double()\u001b[39m,\n",
      "  pvalue = \u001b[32mcol_double()\u001b[39m,\n",
      "  padj = \u001b[32mcol_double()\u001b[39m\n",
      ")\n",
      "\n",
      "\n",
      "Warning message:\n",
      "“Unknown columns: `gene_names`”\n"
     ]
    },
    {
     "name": "stdout",
     "output_type": "stream",
     "text": [
      "[1] \"KO_EE-WT_EE-Salmon_gn    Gene number: 3370\"\n"
     ]
    },
    {
     "name": "stderr",
     "output_type": "stream",
     "text": [
      "'select()' returned many:many mapping between keys and columns\n",
      "\n",
      "\n",
      "\u001b[36m──\u001b[39m \u001b[1m\u001b[1mColumn specification\u001b[1m\u001b[22m \u001b[36m───────────────────────────────────\u001b[39m\n",
      "cols(\n",
      "  gene_name = \u001b[31mcol_character()\u001b[39m,\n",
      "  baseMean = \u001b[32mcol_double()\u001b[39m,\n",
      "  log2FoldChange = \u001b[32mcol_double()\u001b[39m,\n",
      "  lfcSE = \u001b[32mcol_double()\u001b[39m,\n",
      "  stat = \u001b[32mcol_double()\u001b[39m,\n",
      "  pvalue = \u001b[32mcol_double()\u001b[39m,\n",
      "  padj = \u001b[32mcol_double()\u001b[39m\n",
      ")\n",
      "\n",
      "\n",
      "Warning message:\n",
      "“Unknown columns: `gene_names`”\n"
     ]
    },
    {
     "name": "stdout",
     "output_type": "stream",
     "text": [
      "[1] \"KO_MP-KO_DP-Salmon_gn    Gene number: 4289\"\n"
     ]
    },
    {
     "name": "stderr",
     "output_type": "stream",
     "text": [
      "'select()' returned many:many mapping between keys and columns\n",
      "\n",
      "\n",
      "\u001b[36m──\u001b[39m \u001b[1m\u001b[1mColumn specification\u001b[1m\u001b[22m \u001b[36m───────────────────────────────────\u001b[39m\n",
      "cols(\n",
      "  gene_name = \u001b[31mcol_character()\u001b[39m,\n",
      "  baseMean = \u001b[32mcol_double()\u001b[39m,\n",
      "  log2FoldChange = \u001b[32mcol_double()\u001b[39m,\n",
      "  lfcSE = \u001b[32mcol_double()\u001b[39m,\n",
      "  stat = \u001b[32mcol_double()\u001b[39m,\n",
      "  pvalue = \u001b[32mcol_double()\u001b[39m,\n",
      "  padj = \u001b[32mcol_double()\u001b[39m\n",
      ")\n",
      "\n",
      "\n",
      "Warning message:\n",
      "“Unknown columns: `gene_names`”\n"
     ]
    },
    {
     "name": "stdout",
     "output_type": "stream",
     "text": [
      "[1] \"KO_MP-KO_EE-Salmon_gn    Gene number: 4833\"\n"
     ]
    },
    {
     "name": "stderr",
     "output_type": "stream",
     "text": [
      "'select()' returned many:many mapping between keys and columns\n",
      "\n",
      "\n",
      "\u001b[36m──\u001b[39m \u001b[1m\u001b[1mColumn specification\u001b[1m\u001b[22m \u001b[36m───────────────────────────────────\u001b[39m\n",
      "cols(\n",
      "  gene_name = \u001b[31mcol_character()\u001b[39m,\n",
      "  baseMean = \u001b[32mcol_double()\u001b[39m,\n",
      "  log2FoldChange = \u001b[32mcol_double()\u001b[39m,\n",
      "  lfcSE = \u001b[32mcol_double()\u001b[39m,\n",
      "  stat = \u001b[32mcol_double()\u001b[39m,\n",
      "  pvalue = \u001b[32mcol_double()\u001b[39m,\n",
      "  padj = \u001b[32mcol_double()\u001b[39m\n",
      ")\n",
      "\n",
      "\n",
      "Warning message:\n",
      "“Unknown columns: `gene_names`”\n"
     ]
    },
    {
     "name": "stdout",
     "output_type": "stream",
     "text": [
      "[1] \"KO_MP-KO_Naive-Salmon_gn    Gene number: 5534\"\n"
     ]
    },
    {
     "name": "stderr",
     "output_type": "stream",
     "text": [
      "'select()' returned many:many mapping between keys and columns\n",
      "\n",
      "\n",
      "\u001b[36m──\u001b[39m \u001b[1m\u001b[1mColumn specification\u001b[1m\u001b[22m \u001b[36m───────────────────────────────────\u001b[39m\n",
      "cols(\n",
      "  gene_name = \u001b[31mcol_character()\u001b[39m,\n",
      "  baseMean = \u001b[32mcol_double()\u001b[39m,\n",
      "  log2FoldChange = \u001b[32mcol_double()\u001b[39m,\n",
      "  lfcSE = \u001b[32mcol_double()\u001b[39m,\n",
      "  stat = \u001b[32mcol_double()\u001b[39m,\n",
      "  pvalue = \u001b[32mcol_double()\u001b[39m,\n",
      "  padj = \u001b[32mcol_double()\u001b[39m\n",
      ")\n",
      "\n",
      "\n",
      "Warning message:\n",
      "“Unknown columns: `gene_names`”\n"
     ]
    },
    {
     "name": "stdout",
     "output_type": "stream",
     "text": [
      "[1] \"KO_MP-KO_TE-Salmon_gn    Gene number: 5301\"\n"
     ]
    },
    {
     "name": "stderr",
     "output_type": "stream",
     "text": [
      "'select()' returned many:many mapping between keys and columns\n",
      "\n",
      "\n",
      "\u001b[36m──\u001b[39m \u001b[1m\u001b[1mColumn specification\u001b[1m\u001b[22m \u001b[36m───────────────────────────────────\u001b[39m\n",
      "cols(\n",
      "  gene_name = \u001b[31mcol_character()\u001b[39m,\n",
      "  baseMean = \u001b[32mcol_double()\u001b[39m,\n",
      "  log2FoldChange = \u001b[32mcol_double()\u001b[39m,\n",
      "  lfcSE = \u001b[32mcol_double()\u001b[39m,\n",
      "  stat = \u001b[32mcol_double()\u001b[39m,\n",
      "  pvalue = \u001b[32mcol_double()\u001b[39m,\n",
      "  padj = \u001b[32mcol_double()\u001b[39m\n",
      ")\n",
      "\n",
      "\n",
      "Warning message:\n",
      "“Unknown columns: `gene_names`”\n"
     ]
    },
    {
     "name": "stdout",
     "output_type": "stream",
     "text": [
      "[1] \"KO_MP-WT_MP-Salmon_gn    Gene number: 2874\"\n"
     ]
    },
    {
     "name": "stderr",
     "output_type": "stream",
     "text": [
      "'select()' returned many:many mapping between keys and columns\n",
      "\n",
      "\n",
      "\u001b[36m──\u001b[39m \u001b[1m\u001b[1mColumn specification\u001b[1m\u001b[22m \u001b[36m───────────────────────────────────\u001b[39m\n",
      "cols(\n",
      "  gene_name = \u001b[31mcol_character()\u001b[39m,\n",
      "  baseMean = \u001b[32mcol_double()\u001b[39m,\n",
      "  log2FoldChange = \u001b[32mcol_double()\u001b[39m,\n",
      "  lfcSE = \u001b[32mcol_double()\u001b[39m,\n",
      "  stat = \u001b[32mcol_double()\u001b[39m,\n",
      "  pvalue = \u001b[32mcol_double()\u001b[39m,\n",
      "  padj = \u001b[32mcol_double()\u001b[39m\n",
      ")\n",
      "\n",
      "\n",
      "Warning message:\n",
      "“Unknown columns: `gene_names`”\n"
     ]
    },
    {
     "name": "stdout",
     "output_type": "stream",
     "text": [
      "[1] \"KO_Naive-KO_48h-Salmon_gn    Gene number: 8467\"\n"
     ]
    },
    {
     "name": "stderr",
     "output_type": "stream",
     "text": [
      "'select()' returned many:many mapping between keys and columns\n",
      "\n",
      "\n",
      "\u001b[36m──\u001b[39m \u001b[1m\u001b[1mColumn specification\u001b[1m\u001b[22m \u001b[36m───────────────────────────────────\u001b[39m\n",
      "cols(\n",
      "  gene_name = \u001b[31mcol_character()\u001b[39m,\n",
      "  baseMean = \u001b[32mcol_double()\u001b[39m,\n",
      "  log2FoldChange = \u001b[32mcol_double()\u001b[39m,\n",
      "  lfcSE = \u001b[32mcol_double()\u001b[39m,\n",
      "  stat = \u001b[32mcol_double()\u001b[39m,\n",
      "  pvalue = \u001b[32mcol_double()\u001b[39m,\n",
      "  padj = \u001b[32mcol_double()\u001b[39m\n",
      ")\n",
      "\n",
      "\n",
      "Warning message:\n",
      "“Unknown columns: `gene_names`”\n"
     ]
    },
    {
     "name": "stdout",
     "output_type": "stream",
     "text": [
      "[1] \"KO_Naive-KO_DP-Salmon_gn    Gene number: 9565\"\n"
     ]
    },
    {
     "name": "stderr",
     "output_type": "stream",
     "text": [
      "'select()' returned many:many mapping between keys and columns\n",
      "\n",
      "\n",
      "\u001b[36m──\u001b[39m \u001b[1m\u001b[1mColumn specification\u001b[1m\u001b[22m \u001b[36m───────────────────────────────────\u001b[39m\n",
      "cols(\n",
      "  gene_name = \u001b[31mcol_character()\u001b[39m,\n",
      "  baseMean = \u001b[32mcol_double()\u001b[39m,\n",
      "  log2FoldChange = \u001b[32mcol_double()\u001b[39m,\n",
      "  lfcSE = \u001b[32mcol_double()\u001b[39m,\n",
      "  stat = \u001b[32mcol_double()\u001b[39m,\n",
      "  pvalue = \u001b[32mcol_double()\u001b[39m,\n",
      "  padj = \u001b[32mcol_double()\u001b[39m\n",
      ")\n",
      "\n",
      "\n",
      "Warning message:\n",
      "“Unknown columns: `gene_names`”\n"
     ]
    },
    {
     "name": "stdout",
     "output_type": "stream",
     "text": [
      "[1] \"KO_Naive-KO_EE-Salmon_gn    Gene number: 9366\"\n"
     ]
    },
    {
     "name": "stderr",
     "output_type": "stream",
     "text": [
      "'select()' returned many:many mapping between keys and columns\n",
      "\n",
      "\n",
      "\u001b[36m──\u001b[39m \u001b[1m\u001b[1mColumn specification\u001b[1m\u001b[22m \u001b[36m───────────────────────────────────\u001b[39m\n",
      "cols(\n",
      "  gene_name = \u001b[31mcol_character()\u001b[39m,\n",
      "  baseMean = \u001b[32mcol_double()\u001b[39m,\n",
      "  log2FoldChange = \u001b[32mcol_double()\u001b[39m,\n",
      "  lfcSE = \u001b[32mcol_double()\u001b[39m,\n",
      "  stat = \u001b[32mcol_double()\u001b[39m,\n",
      "  pvalue = \u001b[32mcol_double()\u001b[39m,\n",
      "  padj = \u001b[32mcol_double()\u001b[39m\n",
      ")\n",
      "\n",
      "\n",
      "Warning message:\n",
      "“Unknown columns: `gene_names`”\n"
     ]
    },
    {
     "name": "stdout",
     "output_type": "stream",
     "text": [
      "[1] \"KO_Naive-KO_MP-Salmon_gn    Gene number: 8904\"\n"
     ]
    },
    {
     "name": "stderr",
     "output_type": "stream",
     "text": [
      "'select()' returned many:many mapping between keys and columns\n",
      "\n",
      "\n",
      "\u001b[36m──\u001b[39m \u001b[1m\u001b[1mColumn specification\u001b[1m\u001b[22m \u001b[36m───────────────────────────────────\u001b[39m\n",
      "cols(\n",
      "  gene_name = \u001b[31mcol_character()\u001b[39m,\n",
      "  baseMean = \u001b[32mcol_double()\u001b[39m,\n",
      "  log2FoldChange = \u001b[32mcol_double()\u001b[39m,\n",
      "  lfcSE = \u001b[32mcol_double()\u001b[39m,\n",
      "  stat = \u001b[32mcol_double()\u001b[39m,\n",
      "  pvalue = \u001b[32mcol_double()\u001b[39m,\n",
      "  padj = \u001b[32mcol_double()\u001b[39m\n",
      ")\n",
      "\n",
      "\n",
      "Warning message:\n",
      "“Unknown columns: `gene_names`”\n"
     ]
    },
    {
     "name": "stdout",
     "output_type": "stream",
     "text": [
      "[1] \"KO_Naive-KO_TE-Salmon_gn    Gene number: 9968\"\n"
     ]
    },
    {
     "name": "stderr",
     "output_type": "stream",
     "text": [
      "'select()' returned many:many mapping between keys and columns\n",
      "\n",
      "\n",
      "\u001b[36m──\u001b[39m \u001b[1m\u001b[1mColumn specification\u001b[1m\u001b[22m \u001b[36m───────────────────────────────────\u001b[39m\n",
      "cols(\n",
      "  gene_name = \u001b[31mcol_character()\u001b[39m,\n",
      "  baseMean = \u001b[32mcol_double()\u001b[39m,\n",
      "  log2FoldChange = \u001b[32mcol_double()\u001b[39m,\n",
      "  lfcSE = \u001b[32mcol_double()\u001b[39m,\n",
      "  stat = \u001b[32mcol_double()\u001b[39m,\n",
      "  pvalue = \u001b[32mcol_double()\u001b[39m,\n",
      "  padj = \u001b[32mcol_double()\u001b[39m\n",
      ")\n",
      "\n",
      "\n",
      "Warning message:\n",
      "“Unknown columns: `gene_names`”\n"
     ]
    },
    {
     "name": "stdout",
     "output_type": "stream",
     "text": [
      "[1] \"KO_Naive-WT_Naive-Salmon_gn    Gene number: 5161\"\n"
     ]
    },
    {
     "name": "stderr",
     "output_type": "stream",
     "text": [
      "'select()' returned many:many mapping between keys and columns\n",
      "\n",
      "\n",
      "\u001b[36m──\u001b[39m \u001b[1m\u001b[1mColumn specification\u001b[1m\u001b[22m \u001b[36m───────────────────────────────────\u001b[39m\n",
      "cols(\n",
      "  gene_name = \u001b[31mcol_character()\u001b[39m,\n",
      "  baseMean = \u001b[32mcol_double()\u001b[39m,\n",
      "  log2FoldChange = \u001b[32mcol_double()\u001b[39m,\n",
      "  lfcSE = \u001b[32mcol_double()\u001b[39m,\n",
      "  stat = \u001b[32mcol_double()\u001b[39m,\n",
      "  pvalue = \u001b[32mcol_double()\u001b[39m,\n",
      "  padj = \u001b[32mcol_double()\u001b[39m\n",
      ")\n",
      "\n",
      "\n",
      "Warning message:\n",
      "“Unknown columns: `gene_names`”\n"
     ]
    },
    {
     "name": "stdout",
     "output_type": "stream",
     "text": [
      "[1] \"KO_TE-KO_DP-Salmon_gn    Gene number: 2604\"\n"
     ]
    },
    {
     "name": "stderr",
     "output_type": "stream",
     "text": [
      "'select()' returned many:many mapping between keys and columns\n",
      "\n",
      "\n",
      "\u001b[36m──\u001b[39m \u001b[1m\u001b[1mColumn specification\u001b[1m\u001b[22m \u001b[36m───────────────────────────────────\u001b[39m\n",
      "cols(\n",
      "  gene_name = \u001b[31mcol_character()\u001b[39m,\n",
      "  baseMean = \u001b[32mcol_double()\u001b[39m,\n",
      "  log2FoldChange = \u001b[32mcol_double()\u001b[39m,\n",
      "  lfcSE = \u001b[32mcol_double()\u001b[39m,\n",
      "  stat = \u001b[32mcol_double()\u001b[39m,\n",
      "  pvalue = \u001b[32mcol_double()\u001b[39m,\n",
      "  padj = \u001b[32mcol_double()\u001b[39m\n",
      ")\n",
      "\n",
      "\n",
      "Warning message:\n",
      "“Unknown columns: `gene_names`”\n"
     ]
    },
    {
     "name": "stdout",
     "output_type": "stream",
     "text": [
      "[1] \"KO_TE-KO_EE-Salmon_gn    Gene number: 2759\"\n"
     ]
    },
    {
     "name": "stderr",
     "output_type": "stream",
     "text": [
      "'select()' returned many:many mapping between keys and columns\n",
      "\n",
      "\n",
      "\u001b[36m──\u001b[39m \u001b[1m\u001b[1mColumn specification\u001b[1m\u001b[22m \u001b[36m───────────────────────────────────\u001b[39m\n",
      "cols(\n",
      "  gene_name = \u001b[31mcol_character()\u001b[39m,\n",
      "  baseMean = \u001b[32mcol_double()\u001b[39m,\n",
      "  log2FoldChange = \u001b[32mcol_double()\u001b[39m,\n",
      "  lfcSE = \u001b[32mcol_double()\u001b[39m,\n",
      "  stat = \u001b[32mcol_double()\u001b[39m,\n",
      "  pvalue = \u001b[32mcol_double()\u001b[39m,\n",
      "  padj = \u001b[32mcol_double()\u001b[39m\n",
      ")\n",
      "\n",
      "\n",
      "Warning message:\n",
      "“Unknown columns: `gene_names`”\n"
     ]
    },
    {
     "name": "stdout",
     "output_type": "stream",
     "text": [
      "[1] \"KO_TE-KO_MP-Salmon_gn    Gene number: 2310\"\n"
     ]
    },
    {
     "name": "stderr",
     "output_type": "stream",
     "text": [
      "'select()' returned many:many mapping between keys and columns\n",
      "\n",
      "\n",
      "\u001b[36m──\u001b[39m \u001b[1m\u001b[1mColumn specification\u001b[1m\u001b[22m \u001b[36m───────────────────────────────────\u001b[39m\n",
      "cols(\n",
      "  gene_name = \u001b[31mcol_character()\u001b[39m,\n",
      "  baseMean = \u001b[32mcol_double()\u001b[39m,\n",
      "  log2FoldChange = \u001b[32mcol_double()\u001b[39m,\n",
      "  lfcSE = \u001b[32mcol_double()\u001b[39m,\n",
      "  stat = \u001b[32mcol_double()\u001b[39m,\n",
      "  pvalue = \u001b[32mcol_double()\u001b[39m,\n",
      "  padj = \u001b[32mcol_double()\u001b[39m\n",
      ")\n",
      "\n",
      "\n",
      "Warning message:\n",
      "“Unknown columns: `gene_names`”\n"
     ]
    },
    {
     "name": "stdout",
     "output_type": "stream",
     "text": [
      "[1] \"KO_TE-KO_Naive-Salmon_gn    Gene number: 4516\"\n"
     ]
    },
    {
     "name": "stderr",
     "output_type": "stream",
     "text": [
      "'select()' returned many:many mapping between keys and columns\n",
      "\n",
      "\n",
      "\u001b[36m──\u001b[39m \u001b[1m\u001b[1mColumn specification\u001b[1m\u001b[22m \u001b[36m───────────────────────────────────\u001b[39m\n",
      "cols(\n",
      "  gene_name = \u001b[31mcol_character()\u001b[39m,\n",
      "  baseMean = \u001b[32mcol_double()\u001b[39m,\n",
      "  log2FoldChange = \u001b[32mcol_double()\u001b[39m,\n",
      "  lfcSE = \u001b[32mcol_double()\u001b[39m,\n",
      "  stat = \u001b[32mcol_double()\u001b[39m,\n",
      "  pvalue = \u001b[32mcol_double()\u001b[39m,\n",
      "  padj = \u001b[32mcol_double()\u001b[39m\n",
      ")\n",
      "\n",
      "\n",
      "Warning message:\n",
      "“Unknown columns: `gene_names`”\n"
     ]
    },
    {
     "name": "stdout",
     "output_type": "stream",
     "text": [
      "[1] \"KO_TE-WT_TE-Salmon_gn    Gene number: 2977\"\n"
     ]
    },
    {
     "name": "stderr",
     "output_type": "stream",
     "text": [
      "'select()' returned many:many mapping between keys and columns\n",
      "\n",
      "\n",
      "\u001b[36m──\u001b[39m \u001b[1m\u001b[1mColumn specification\u001b[1m\u001b[22m \u001b[36m───────────────────────────────────\u001b[39m\n",
      "cols(\n",
      "  gene_name = \u001b[31mcol_character()\u001b[39m,\n",
      "  baseMean = \u001b[32mcol_double()\u001b[39m,\n",
      "  log2FoldChange = \u001b[32mcol_double()\u001b[39m,\n",
      "  lfcSE = \u001b[32mcol_double()\u001b[39m,\n",
      "  stat = \u001b[32mcol_double()\u001b[39m,\n",
      "  pvalue = \u001b[32mcol_double()\u001b[39m,\n",
      "  padj = \u001b[32mcol_double()\u001b[39m\n",
      ")\n",
      "\n",
      "\n",
      "Warning message:\n",
      "“Unknown columns: `gene_names`”\n"
     ]
    },
    {
     "name": "stdout",
     "output_type": "stream",
     "text": [
      "[1] \"WT_48h-KO_48h-Salmon_gn    Gene number: 3318\"\n"
     ]
    },
    {
     "name": "stderr",
     "output_type": "stream",
     "text": [
      "'select()' returned 1:many mapping between keys and columns\n",
      "\n",
      "\n",
      "\u001b[36m──\u001b[39m \u001b[1m\u001b[1mColumn specification\u001b[1m\u001b[22m \u001b[36m───────────────────────────────────\u001b[39m\n",
      "cols(\n",
      "  gene_name = \u001b[31mcol_character()\u001b[39m,\n",
      "  baseMean = \u001b[32mcol_double()\u001b[39m,\n",
      "  log2FoldChange = \u001b[32mcol_double()\u001b[39m,\n",
      "  lfcSE = \u001b[32mcol_double()\u001b[39m,\n",
      "  stat = \u001b[32mcol_double()\u001b[39m,\n",
      "  pvalue = \u001b[32mcol_double()\u001b[39m,\n",
      "  padj = \u001b[32mcol_double()\u001b[39m\n",
      ")\n",
      "\n",
      "\n",
      "Warning message:\n",
      "“Unknown columns: `gene_names`”\n"
     ]
    },
    {
     "name": "stdout",
     "output_type": "stream",
     "text": [
      "[1] \"WT_48h-WT_Naive-Salmon_gn    Gene number: 5905\"\n"
     ]
    },
    {
     "name": "stderr",
     "output_type": "stream",
     "text": [
      "'select()' returned 1:many mapping between keys and columns\n",
      "\n",
      "\n",
      "\u001b[36m──\u001b[39m \u001b[1m\u001b[1mColumn specification\u001b[1m\u001b[22m \u001b[36m───────────────────────────────────\u001b[39m\n",
      "cols(\n",
      "  gene_name = \u001b[31mcol_character()\u001b[39m,\n",
      "  baseMean = \u001b[32mcol_double()\u001b[39m,\n",
      "  log2FoldChange = \u001b[32mcol_double()\u001b[39m,\n",
      "  lfcSE = \u001b[32mcol_double()\u001b[39m,\n",
      "  stat = \u001b[32mcol_double()\u001b[39m,\n",
      "  pvalue = \u001b[32mcol_double()\u001b[39m,\n",
      "  padj = \u001b[32mcol_double()\u001b[39m\n",
      ")\n",
      "\n",
      "\n",
      "Warning message:\n",
      "“Unknown columns: `gene_names`”\n"
     ]
    },
    {
     "name": "stdout",
     "output_type": "stream",
     "text": [
      "[1] \"WT_DP-KO_DP-Salmon_gn    Gene number: 3477\"\n"
     ]
    },
    {
     "name": "stderr",
     "output_type": "stream",
     "text": [
      "'select()' returned many:many mapping between keys and columns\n",
      "\n",
      "\n",
      "\u001b[36m──\u001b[39m \u001b[1m\u001b[1mColumn specification\u001b[1m\u001b[22m \u001b[36m───────────────────────────────────\u001b[39m\n",
      "cols(\n",
      "  gene_name = \u001b[31mcol_character()\u001b[39m,\n",
      "  baseMean = \u001b[32mcol_double()\u001b[39m,\n",
      "  log2FoldChange = \u001b[32mcol_double()\u001b[39m,\n",
      "  lfcSE = \u001b[32mcol_double()\u001b[39m,\n",
      "  stat = \u001b[32mcol_double()\u001b[39m,\n",
      "  pvalue = \u001b[32mcol_double()\u001b[39m,\n",
      "  padj = \u001b[32mcol_double()\u001b[39m\n",
      ")\n",
      "\n",
      "\n",
      "Warning message:\n",
      "“Unknown columns: `gene_names`”\n"
     ]
    },
    {
     "name": "stdout",
     "output_type": "stream",
     "text": [
      "[1] \"WT_DP-WT_EE-Salmon_gn    Gene number: 3988\"\n"
     ]
    },
    {
     "name": "stderr",
     "output_type": "stream",
     "text": [
      "'select()' returned many:many mapping between keys and columns\n",
      "\n",
      "\n",
      "\u001b[36m──\u001b[39m \u001b[1m\u001b[1mColumn specification\u001b[1m\u001b[22m \u001b[36m───────────────────────────────────\u001b[39m\n",
      "cols(\n",
      "  gene_name = \u001b[31mcol_character()\u001b[39m,\n",
      "  baseMean = \u001b[32mcol_double()\u001b[39m,\n",
      "  log2FoldChange = \u001b[32mcol_double()\u001b[39m,\n",
      "  lfcSE = \u001b[32mcol_double()\u001b[39m,\n",
      "  stat = \u001b[32mcol_double()\u001b[39m,\n",
      "  pvalue = \u001b[32mcol_double()\u001b[39m,\n",
      "  padj = \u001b[32mcol_double()\u001b[39m\n",
      ")\n",
      "\n",
      "\n",
      "Warning message:\n",
      "“Unknown columns: `gene_names`”\n"
     ]
    },
    {
     "name": "stdout",
     "output_type": "stream",
     "text": [
      "[1] \"WT_DP-WT_MP-Salmon_gn    Gene number: 2209\"\n"
     ]
    },
    {
     "name": "stderr",
     "output_type": "stream",
     "text": [
      "'select()' returned 1:many mapping between keys and columns\n",
      "\n",
      "\n",
      "\u001b[36m──\u001b[39m \u001b[1m\u001b[1mColumn specification\u001b[1m\u001b[22m \u001b[36m───────────────────────────────────\u001b[39m\n",
      "cols(\n",
      "  gene_name = \u001b[31mcol_character()\u001b[39m,\n",
      "  baseMean = \u001b[32mcol_double()\u001b[39m,\n",
      "  log2FoldChange = \u001b[32mcol_double()\u001b[39m,\n",
      "  lfcSE = \u001b[32mcol_double()\u001b[39m,\n",
      "  stat = \u001b[32mcol_double()\u001b[39m,\n",
      "  pvalue = \u001b[32mcol_double()\u001b[39m,\n",
      "  padj = \u001b[32mcol_double()\u001b[39m\n",
      ")\n",
      "\n",
      "\n",
      "Warning message:\n",
      "“Unknown columns: `gene_names`”\n"
     ]
    },
    {
     "name": "stdout",
     "output_type": "stream",
     "text": [
      "[1] \"WT_DP-WT_Naive-Salmon_gn    Gene number: 5269\"\n"
     ]
    },
    {
     "name": "stderr",
     "output_type": "stream",
     "text": [
      "'select()' returned many:many mapping between keys and columns\n",
      "\n",
      "\n",
      "\u001b[36m──\u001b[39m \u001b[1m\u001b[1mColumn specification\u001b[1m\u001b[22m \u001b[36m───────────────────────────────────\u001b[39m\n",
      "cols(\n",
      "  gene_name = \u001b[31mcol_character()\u001b[39m,\n",
      "  baseMean = \u001b[32mcol_double()\u001b[39m,\n",
      "  log2FoldChange = \u001b[32mcol_double()\u001b[39m,\n",
      "  lfcSE = \u001b[32mcol_double()\u001b[39m,\n",
      "  stat = \u001b[32mcol_double()\u001b[39m,\n",
      "  pvalue = \u001b[32mcol_double()\u001b[39m,\n",
      "  padj = \u001b[32mcol_double()\u001b[39m\n",
      ")\n",
      "\n",
      "\n",
      "Warning message:\n",
      "“Unknown columns: `gene_names`”\n"
     ]
    },
    {
     "name": "stdout",
     "output_type": "stream",
     "text": [
      "[1] \"WT_DP-WT_TE-Salmon_gn    Gene number: 3891\"\n"
     ]
    },
    {
     "name": "stderr",
     "output_type": "stream",
     "text": [
      "'select()' returned many:many mapping between keys and columns\n",
      "\n",
      "\n",
      "\u001b[36m──\u001b[39m \u001b[1m\u001b[1mColumn specification\u001b[1m\u001b[22m \u001b[36m───────────────────────────────────\u001b[39m\n",
      "cols(\n",
      "  gene_name = \u001b[31mcol_character()\u001b[39m,\n",
      "  baseMean = \u001b[32mcol_double()\u001b[39m,\n",
      "  log2FoldChange = \u001b[32mcol_double()\u001b[39m,\n",
      "  lfcSE = \u001b[32mcol_double()\u001b[39m,\n",
      "  stat = \u001b[32mcol_double()\u001b[39m,\n",
      "  pvalue = \u001b[32mcol_double()\u001b[39m,\n",
      "  padj = \u001b[32mcol_double()\u001b[39m\n",
      ")\n",
      "\n",
      "\n",
      "Warning message:\n",
      "“Unknown columns: `gene_names`”\n"
     ]
    },
    {
     "name": "stdout",
     "output_type": "stream",
     "text": [
      "[1] \"WT_EE-KO_EE-Salmon_gn    Gene number: 3365\"\n"
     ]
    },
    {
     "name": "stderr",
     "output_type": "stream",
     "text": [
      "'select()' returned 1:many mapping between keys and columns\n",
      "\n",
      "\n",
      "\u001b[36m──\u001b[39m \u001b[1m\u001b[1mColumn specification\u001b[1m\u001b[22m \u001b[36m───────────────────────────────────\u001b[39m\n",
      "cols(\n",
      "  gene_name = \u001b[31mcol_character()\u001b[39m,\n",
      "  baseMean = \u001b[32mcol_double()\u001b[39m,\n",
      "  log2FoldChange = \u001b[32mcol_double()\u001b[39m,\n",
      "  lfcSE = \u001b[32mcol_double()\u001b[39m,\n",
      "  stat = \u001b[32mcol_double()\u001b[39m,\n",
      "  pvalue = \u001b[32mcol_double()\u001b[39m,\n",
      "  padj = \u001b[32mcol_double()\u001b[39m\n",
      ")\n",
      "\n",
      "\n",
      "Warning message:\n",
      "“Unknown columns: `gene_names`”\n"
     ]
    },
    {
     "name": "stdout",
     "output_type": "stream",
     "text": [
      "[1] \"WT_EE-WT_DP-Salmon_gn    Gene number: 2975\"\n"
     ]
    },
    {
     "name": "stderr",
     "output_type": "stream",
     "text": [
      "'select()' returned 1:many mapping between keys and columns\n",
      "\n",
      "\n",
      "\u001b[36m──\u001b[39m \u001b[1m\u001b[1mColumn specification\u001b[1m\u001b[22m \u001b[36m───────────────────────────────────\u001b[39m\n",
      "cols(\n",
      "  gene_name = \u001b[31mcol_character()\u001b[39m,\n",
      "  baseMean = \u001b[32mcol_double()\u001b[39m,\n",
      "  log2FoldChange = \u001b[32mcol_double()\u001b[39m,\n",
      "  lfcSE = \u001b[32mcol_double()\u001b[39m,\n",
      "  stat = \u001b[32mcol_double()\u001b[39m,\n",
      "  pvalue = \u001b[32mcol_double()\u001b[39m,\n",
      "  padj = \u001b[32mcol_double()\u001b[39m\n",
      ")\n",
      "\n",
      "\n",
      "Warning message:\n",
      "“Unknown columns: `gene_names`”\n"
     ]
    },
    {
     "name": "stdout",
     "output_type": "stream",
     "text": [
      "[1] \"WT_EE-WT_MP-Salmon_gn    Gene number: 1908\"\n"
     ]
    },
    {
     "name": "stderr",
     "output_type": "stream",
     "text": [
      "'select()' returned 1:many mapping between keys and columns\n",
      "\n",
      "\n",
      "\u001b[36m──\u001b[39m \u001b[1m\u001b[1mColumn specification\u001b[1m\u001b[22m \u001b[36m───────────────────────────────────\u001b[39m\n",
      "cols(\n",
      "  gene_name = \u001b[31mcol_character()\u001b[39m,\n",
      "  baseMean = \u001b[32mcol_double()\u001b[39m,\n",
      "  log2FoldChange = \u001b[32mcol_double()\u001b[39m,\n",
      "  lfcSE = \u001b[32mcol_double()\u001b[39m,\n",
      "  stat = \u001b[32mcol_double()\u001b[39m,\n",
      "  pvalue = \u001b[32mcol_double()\u001b[39m,\n",
      "  padj = \u001b[32mcol_double()\u001b[39m\n",
      ")\n",
      "\n",
      "\n",
      "Warning message:\n",
      "“Unknown columns: `gene_names`”\n"
     ]
    },
    {
     "name": "stdout",
     "output_type": "stream",
     "text": [
      "[1] \"WT_EE-WT_Naive-Salmon_gn    Gene number: 5101\"\n"
     ]
    },
    {
     "name": "stderr",
     "output_type": "stream",
     "text": [
      "'select()' returned many:many mapping between keys and columns\n",
      "\n",
      "\n",
      "\u001b[36m──\u001b[39m \u001b[1m\u001b[1mColumn specification\u001b[1m\u001b[22m \u001b[36m───────────────────────────────────\u001b[39m\n",
      "cols(\n",
      "  gene_name = \u001b[31mcol_character()\u001b[39m,\n",
      "  baseMean = \u001b[32mcol_double()\u001b[39m,\n",
      "  log2FoldChange = \u001b[32mcol_double()\u001b[39m,\n",
      "  lfcSE = \u001b[32mcol_double()\u001b[39m,\n",
      "  stat = \u001b[32mcol_double()\u001b[39m,\n",
      "  pvalue = \u001b[32mcol_double()\u001b[39m,\n",
      "  padj = \u001b[32mcol_double()\u001b[39m\n",
      ")\n",
      "\n",
      "\n",
      "Warning message:\n",
      "“Unknown columns: `gene_names`”\n"
     ]
    },
    {
     "name": "stdout",
     "output_type": "stream",
     "text": [
      "[1] \"WT_EE-WT_TE-Salmon_gn    Gene number: 3283\"\n"
     ]
    },
    {
     "name": "stderr",
     "output_type": "stream",
     "text": [
      "'select()' returned 1:many mapping between keys and columns\n",
      "\n",
      "\n",
      "\u001b[36m──\u001b[39m \u001b[1m\u001b[1mColumn specification\u001b[1m\u001b[22m \u001b[36m───────────────────────────────────\u001b[39m\n",
      "cols(\n",
      "  gene_name = \u001b[31mcol_character()\u001b[39m,\n",
      "  baseMean = \u001b[32mcol_double()\u001b[39m,\n",
      "  log2FoldChange = \u001b[32mcol_double()\u001b[39m,\n",
      "  lfcSE = \u001b[32mcol_double()\u001b[39m,\n",
      "  stat = \u001b[32mcol_double()\u001b[39m,\n",
      "  pvalue = \u001b[32mcol_double()\u001b[39m,\n",
      "  padj = \u001b[32mcol_double()\u001b[39m\n",
      ")\n",
      "\n",
      "\n",
      "Warning message:\n",
      "“Unknown columns: `gene_names`”\n"
     ]
    },
    {
     "name": "stdout",
     "output_type": "stream",
     "text": [
      "[1] \"WT_MP-KO_MP-Salmon_gn    Gene number: 7017\"\n"
     ]
    },
    {
     "name": "stderr",
     "output_type": "stream",
     "text": [
      "'select()' returned many:many mapping between keys and columns\n",
      "\n",
      "\n",
      "\u001b[36m──\u001b[39m \u001b[1m\u001b[1mColumn specification\u001b[1m\u001b[22m \u001b[36m───────────────────────────────────\u001b[39m\n",
      "cols(\n",
      "  gene_name = \u001b[31mcol_character()\u001b[39m,\n",
      "  baseMean = \u001b[32mcol_double()\u001b[39m,\n",
      "  log2FoldChange = \u001b[32mcol_double()\u001b[39m,\n",
      "  lfcSE = \u001b[32mcol_double()\u001b[39m,\n",
      "  stat = \u001b[32mcol_double()\u001b[39m,\n",
      "  pvalue = \u001b[32mcol_double()\u001b[39m,\n",
      "  padj = \u001b[32mcol_double()\u001b[39m\n",
      ")\n",
      "\n",
      "\n",
      "Warning message:\n",
      "“Unknown columns: `gene_names`”\n"
     ]
    },
    {
     "name": "stdout",
     "output_type": "stream",
     "text": [
      "[1] \"WT_MP-WT_DP-Salmon_gn    Gene number: 7346\"\n"
     ]
    },
    {
     "name": "stderr",
     "output_type": "stream",
     "text": [
      "'select()' returned many:many mapping between keys and columns\n",
      "\n",
      "\n",
      "\u001b[36m──\u001b[39m \u001b[1m\u001b[1mColumn specification\u001b[1m\u001b[22m \u001b[36m───────────────────────────────────\u001b[39m\n",
      "cols(\n",
      "  gene_name = \u001b[31mcol_character()\u001b[39m,\n",
      "  baseMean = \u001b[32mcol_double()\u001b[39m,\n",
      "  log2FoldChange = \u001b[32mcol_double()\u001b[39m,\n",
      "  lfcSE = \u001b[32mcol_double()\u001b[39m,\n",
      "  stat = \u001b[32mcol_double()\u001b[39m,\n",
      "  pvalue = \u001b[32mcol_double()\u001b[39m,\n",
      "  padj = \u001b[32mcol_double()\u001b[39m\n",
      ")\n",
      "\n",
      "\n",
      "Warning message:\n",
      "“Unknown columns: `gene_names`”\n"
     ]
    },
    {
     "name": "stdout",
     "output_type": "stream",
     "text": [
      "[1] \"WT_MP-WT_EE-Salmon_gn    Gene number: 7964\"\n"
     ]
    },
    {
     "name": "stderr",
     "output_type": "stream",
     "text": [
      "'select()' returned many:many mapping between keys and columns\n",
      "\n",
      "\n",
      "\u001b[36m──\u001b[39m \u001b[1m\u001b[1mColumn specification\u001b[1m\u001b[22m \u001b[36m───────────────────────────────────\u001b[39m\n",
      "cols(\n",
      "  gene_name = \u001b[31mcol_character()\u001b[39m,\n",
      "  baseMean = \u001b[32mcol_double()\u001b[39m,\n",
      "  log2FoldChange = \u001b[32mcol_double()\u001b[39m,\n",
      "  lfcSE = \u001b[32mcol_double()\u001b[39m,\n",
      "  stat = \u001b[32mcol_double()\u001b[39m,\n",
      "  pvalue = \u001b[32mcol_double()\u001b[39m,\n",
      "  padj = \u001b[32mcol_double()\u001b[39m\n",
      ")\n",
      "\n",
      "\n",
      "Warning message:\n",
      "“Unknown columns: `gene_names`”\n"
     ]
    },
    {
     "name": "stdout",
     "output_type": "stream",
     "text": [
      "[1] \"WT_MP-WT_Naive-Salmon_gn    Gene number: 8015\"\n"
     ]
    },
    {
     "name": "stderr",
     "output_type": "stream",
     "text": [
      "'select()' returned many:many mapping between keys and columns\n",
      "\n",
      "\n",
      "\u001b[36m──\u001b[39m \u001b[1m\u001b[1mColumn specification\u001b[1m\u001b[22m \u001b[36m───────────────────────────────────\u001b[39m\n",
      "cols(\n",
      "  gene_name = \u001b[31mcol_character()\u001b[39m,\n",
      "  baseMean = \u001b[32mcol_double()\u001b[39m,\n",
      "  log2FoldChange = \u001b[32mcol_double()\u001b[39m,\n",
      "  lfcSE = \u001b[32mcol_double()\u001b[39m,\n",
      "  stat = \u001b[32mcol_double()\u001b[39m,\n",
      "  pvalue = \u001b[32mcol_double()\u001b[39m,\n",
      "  padj = \u001b[32mcol_double()\u001b[39m\n",
      ")\n",
      "\n",
      "\n",
      "Warning message:\n",
      "“Unknown columns: `gene_names`”\n"
     ]
    },
    {
     "name": "stdout",
     "output_type": "stream",
     "text": [
      "[1] \"WT_MP-WT_TE-Salmon_gn    Gene number: 8117\"\n"
     ]
    },
    {
     "name": "stderr",
     "output_type": "stream",
     "text": [
      "'select()' returned many:many mapping between keys and columns\n",
      "\n",
      "\n",
      "\u001b[36m──\u001b[39m \u001b[1m\u001b[1mColumn specification\u001b[1m\u001b[22m \u001b[36m───────────────────────────────────\u001b[39m\n",
      "cols(\n",
      "  gene_name = \u001b[31mcol_character()\u001b[39m,\n",
      "  baseMean = \u001b[32mcol_double()\u001b[39m,\n",
      "  log2FoldChange = \u001b[32mcol_double()\u001b[39m,\n",
      "  lfcSE = \u001b[32mcol_double()\u001b[39m,\n",
      "  stat = \u001b[32mcol_double()\u001b[39m,\n",
      "  pvalue = \u001b[32mcol_double()\u001b[39m,\n",
      "  padj = \u001b[32mcol_double()\u001b[39m\n",
      ")\n",
      "\n",
      "\n",
      "Warning message:\n",
      "“Unknown columns: `gene_names`”\n"
     ]
    },
    {
     "name": "stdout",
     "output_type": "stream",
     "text": [
      "[1] \"WT_Naive-KO_Naive-Salmon_gn    Gene number: 5170\"\n"
     ]
    },
    {
     "name": "stderr",
     "output_type": "stream",
     "text": [
      "'select()' returned many:many mapping between keys and columns\n",
      "\n",
      "\n",
      "\u001b[36m──\u001b[39m \u001b[1m\u001b[1mColumn specification\u001b[1m\u001b[22m \u001b[36m───────────────────────────────────\u001b[39m\n",
      "cols(\n",
      "  gene_name = \u001b[31mcol_character()\u001b[39m,\n",
      "  baseMean = \u001b[32mcol_double()\u001b[39m,\n",
      "  log2FoldChange = \u001b[32mcol_double()\u001b[39m,\n",
      "  lfcSE = \u001b[32mcol_double()\u001b[39m,\n",
      "  stat = \u001b[32mcol_double()\u001b[39m,\n",
      "  pvalue = \u001b[32mcol_double()\u001b[39m,\n",
      "  padj = \u001b[32mcol_double()\u001b[39m\n",
      ")\n",
      "\n",
      "\n",
      "Warning message:\n",
      "“Unknown columns: `gene_names`”\n"
     ]
    },
    {
     "name": "stdout",
     "output_type": "stream",
     "text": [
      "[1] \"WT_Naive-WT_48h-Salmon_gn    Gene number: 9116\"\n"
     ]
    },
    {
     "name": "stderr",
     "output_type": "stream",
     "text": [
      "'select()' returned many:many mapping between keys and columns\n",
      "\n",
      "\n",
      "\u001b[36m──\u001b[39m \u001b[1m\u001b[1mColumn specification\u001b[1m\u001b[22m \u001b[36m───────────────────────────────────\u001b[39m\n",
      "cols(\n",
      "  gene_name = \u001b[31mcol_character()\u001b[39m,\n",
      "  baseMean = \u001b[32mcol_double()\u001b[39m,\n",
      "  log2FoldChange = \u001b[32mcol_double()\u001b[39m,\n",
      "  lfcSE = \u001b[32mcol_double()\u001b[39m,\n",
      "  stat = \u001b[32mcol_double()\u001b[39m,\n",
      "  pvalue = \u001b[32mcol_double()\u001b[39m,\n",
      "  padj = \u001b[32mcol_double()\u001b[39m\n",
      ")\n",
      "\n",
      "\n",
      "Warning message:\n",
      "“Unknown columns: `gene_names`”\n"
     ]
    },
    {
     "name": "stdout",
     "output_type": "stream",
     "text": [
      "[1] \"WT_Naive-WT_DP-Salmon_gn    Gene number: 9662\"\n"
     ]
    },
    {
     "name": "stderr",
     "output_type": "stream",
     "text": [
      "'select()' returned many:many mapping between keys and columns\n",
      "\n",
      "\n",
      "\u001b[36m──\u001b[39m \u001b[1m\u001b[1mColumn specification\u001b[1m\u001b[22m \u001b[36m───────────────────────────────────\u001b[39m\n",
      "cols(\n",
      "  gene_name = \u001b[31mcol_character()\u001b[39m,\n",
      "  baseMean = \u001b[32mcol_double()\u001b[39m,\n",
      "  log2FoldChange = \u001b[32mcol_double()\u001b[39m,\n",
      "  lfcSE = \u001b[32mcol_double()\u001b[39m,\n",
      "  stat = \u001b[32mcol_double()\u001b[39m,\n",
      "  pvalue = \u001b[32mcol_double()\u001b[39m,\n",
      "  padj = \u001b[32mcol_double()\u001b[39m\n",
      ")\n",
      "\n",
      "\n",
      "Warning message:\n",
      "“Unknown columns: `gene_names`”\n"
     ]
    },
    {
     "name": "stdout",
     "output_type": "stream",
     "text": [
      "[1] \"WT_Naive-WT_EE-Salmon_gn    Gene number: 10095\"\n"
     ]
    },
    {
     "name": "stderr",
     "output_type": "stream",
     "text": [
      "'select()' returned many:many mapping between keys and columns\n",
      "\n",
      "\n",
      "\u001b[36m──\u001b[39m \u001b[1m\u001b[1mColumn specification\u001b[1m\u001b[22m \u001b[36m───────────────────────────────────\u001b[39m\n",
      "cols(\n",
      "  gene_name = \u001b[31mcol_character()\u001b[39m,\n",
      "  baseMean = \u001b[32mcol_double()\u001b[39m,\n",
      "  log2FoldChange = \u001b[32mcol_double()\u001b[39m,\n",
      "  lfcSE = \u001b[32mcol_double()\u001b[39m,\n",
      "  stat = \u001b[32mcol_double()\u001b[39m,\n",
      "  pvalue = \u001b[32mcol_double()\u001b[39m,\n",
      "  padj = \u001b[32mcol_double()\u001b[39m\n",
      ")\n",
      "\n",
      "\n",
      "Warning message:\n",
      "“Unknown columns: `gene_names`”\n"
     ]
    },
    {
     "name": "stdout",
     "output_type": "stream",
     "text": [
      "[1] \"WT_Naive-WT_MP-Salmon_gn    Gene number: 7174\"\n"
     ]
    },
    {
     "name": "stderr",
     "output_type": "stream",
     "text": [
      "'select()' returned many:many mapping between keys and columns\n",
      "\n",
      "\n",
      "\u001b[36m──\u001b[39m \u001b[1m\u001b[1mColumn specification\u001b[1m\u001b[22m \u001b[36m───────────────────────────────────\u001b[39m\n",
      "cols(\n",
      "  gene_name = \u001b[31mcol_character()\u001b[39m,\n",
      "  baseMean = \u001b[32mcol_double()\u001b[39m,\n",
      "  log2FoldChange = \u001b[32mcol_double()\u001b[39m,\n",
      "  lfcSE = \u001b[32mcol_double()\u001b[39m,\n",
      "  stat = \u001b[32mcol_double()\u001b[39m,\n",
      "  pvalue = \u001b[32mcol_double()\u001b[39m,\n",
      "  padj = \u001b[32mcol_double()\u001b[39m\n",
      ")\n",
      "\n",
      "\n",
      "Warning message:\n",
      "“Unknown columns: `gene_names`”\n"
     ]
    },
    {
     "name": "stdout",
     "output_type": "stream",
     "text": [
      "[1] \"WT_Naive-WT_TE-Salmon_gn    Gene number: 9781\"\n"
     ]
    },
    {
     "name": "stderr",
     "output_type": "stream",
     "text": [
      "'select()' returned many:many mapping between keys and columns\n",
      "\n",
      "\n",
      "\u001b[36m──\u001b[39m \u001b[1m\u001b[1mColumn specification\u001b[1m\u001b[22m \u001b[36m───────────────────────────────────\u001b[39m\n",
      "cols(\n",
      "  gene_name = \u001b[31mcol_character()\u001b[39m,\n",
      "  baseMean = \u001b[32mcol_double()\u001b[39m,\n",
      "  log2FoldChange = \u001b[32mcol_double()\u001b[39m,\n",
      "  lfcSE = \u001b[32mcol_double()\u001b[39m,\n",
      "  stat = \u001b[32mcol_double()\u001b[39m,\n",
      "  pvalue = \u001b[32mcol_double()\u001b[39m,\n",
      "  padj = \u001b[32mcol_double()\u001b[39m\n",
      ")\n",
      "\n",
      "\n",
      "Warning message:\n",
      "“Unknown columns: `gene_names`”\n"
     ]
    },
    {
     "name": "stdout",
     "output_type": "stream",
     "text": [
      "[1] \"WT_TE-KO_TE-Salmon_gn    Gene number: 3803\"\n"
     ]
    },
    {
     "name": "stderr",
     "output_type": "stream",
     "text": [
      "'select()' returned many:many mapping between keys and columns\n",
      "\n",
      "\n",
      "\u001b[36m──\u001b[39m \u001b[1m\u001b[1mColumn specification\u001b[1m\u001b[22m \u001b[36m───────────────────────────────────\u001b[39m\n",
      "cols(\n",
      "  gene_name = \u001b[31mcol_character()\u001b[39m,\n",
      "  baseMean = \u001b[32mcol_double()\u001b[39m,\n",
      "  log2FoldChange = \u001b[32mcol_double()\u001b[39m,\n",
      "  lfcSE = \u001b[32mcol_double()\u001b[39m,\n",
      "  stat = \u001b[32mcol_double()\u001b[39m,\n",
      "  pvalue = \u001b[32mcol_double()\u001b[39m,\n",
      "  padj = \u001b[32mcol_double()\u001b[39m\n",
      ")\n",
      "\n",
      "\n",
      "Warning message:\n",
      "“Unknown columns: `gene_names`”\n"
     ]
    },
    {
     "name": "stdout",
     "output_type": "stream",
     "text": [
      "[1] \"WT_TE-WT_DP-Salmon_gn    Gene number: 2918\"\n"
     ]
    },
    {
     "name": "stderr",
     "output_type": "stream",
     "text": [
      "'select()' returned 1:many mapping between keys and columns\n",
      "\n",
      "\n",
      "\u001b[36m──\u001b[39m \u001b[1m\u001b[1mColumn specification\u001b[1m\u001b[22m \u001b[36m───────────────────────────────────\u001b[39m\n",
      "cols(\n",
      "  gene_name = \u001b[31mcol_character()\u001b[39m,\n",
      "  baseMean = \u001b[32mcol_double()\u001b[39m,\n",
      "  log2FoldChange = \u001b[32mcol_double()\u001b[39m,\n",
      "  lfcSE = \u001b[32mcol_double()\u001b[39m,\n",
      "  stat = \u001b[32mcol_double()\u001b[39m,\n",
      "  pvalue = \u001b[32mcol_double()\u001b[39m,\n",
      "  padj = \u001b[32mcol_double()\u001b[39m\n",
      ")\n",
      "\n",
      "\n",
      "Warning message:\n",
      "“Unknown columns: `gene_names`”\n"
     ]
    },
    {
     "name": "stdout",
     "output_type": "stream",
     "text": [
      "[1] \"WT_TE-WT_EE-Salmon_gn    Gene number: 3341\"\n"
     ]
    },
    {
     "name": "stderr",
     "output_type": "stream",
     "text": [
      "'select()' returned many:many mapping between keys and columns\n",
      "\n",
      "\n",
      "\u001b[36m──\u001b[39m \u001b[1m\u001b[1mColumn specification\u001b[1m\u001b[22m \u001b[36m───────────────────────────────────\u001b[39m\n",
      "cols(\n",
      "  gene_name = \u001b[31mcol_character()\u001b[39m,\n",
      "  baseMean = \u001b[32mcol_double()\u001b[39m,\n",
      "  log2FoldChange = \u001b[32mcol_double()\u001b[39m,\n",
      "  lfcSE = \u001b[32mcol_double()\u001b[39m,\n",
      "  stat = \u001b[32mcol_double()\u001b[39m,\n",
      "  pvalue = \u001b[32mcol_double()\u001b[39m,\n",
      "  padj = \u001b[32mcol_double()\u001b[39m\n",
      ")\n",
      "\n",
      "\n",
      "Warning message:\n",
      "“Unknown columns: `gene_names`”\n"
     ]
    },
    {
     "name": "stdout",
     "output_type": "stream",
     "text": [
      "[1] \"WT_TE-WT_MP-Salmon_gn    Gene number: 2052\"\n"
     ]
    },
    {
     "name": "stderr",
     "output_type": "stream",
     "text": [
      "'select()' returned 1:many mapping between keys and columns\n",
      "\n",
      "\n",
      "\u001b[36m──\u001b[39m \u001b[1m\u001b[1mColumn specification\u001b[1m\u001b[22m \u001b[36m───────────────────────────────────\u001b[39m\n",
      "cols(\n",
      "  gene_name = \u001b[31mcol_character()\u001b[39m,\n",
      "  baseMean = \u001b[32mcol_double()\u001b[39m,\n",
      "  log2FoldChange = \u001b[32mcol_double()\u001b[39m,\n",
      "  lfcSE = \u001b[32mcol_double()\u001b[39m,\n",
      "  stat = \u001b[32mcol_double()\u001b[39m,\n",
      "  pvalue = \u001b[32mcol_double()\u001b[39m,\n",
      "  padj = \u001b[32mcol_double()\u001b[39m\n",
      ")\n",
      "\n",
      "\n",
      "Warning message:\n",
      "“Unknown columns: `gene_names`”\n"
     ]
    },
    {
     "name": "stdout",
     "output_type": "stream",
     "text": [
      "[1] \"WT_TE-WT_Naive-Salmon_gn    Gene number: 4906\"\n"
     ]
    },
    {
     "name": "stderr",
     "output_type": "stream",
     "text": [
      "'select()' returned many:many mapping between keys and columns\n",
      "\n"
     ]
    }
   ],
   "source": [
    "for (file.i in de.files.slt) {\n",
    "    \n",
    "    ###----- Create output names & output directory\n",
    "    file.i.outpath <- gsub(de.out.dir, \"\", file.i)\n",
    "    file.i.outpath <- gsub(\".csv\", \"\", file.i.outpath)\n",
    "    file.i.outpath <- gsub(\"^/\", \"\",file.i.outpath)\n",
    "\n",
    "    file.i.simp.name <- tail(unlist(strsplit( file.i.outpath, \"/\")), 1)\n",
    "    file.i.simp.name <- gsub(\"_differential\", \"\", file.i.simp.name)\n",
    "    file.i.simp.vec <- unlist(strsplit(file.i.simp.name, \"_vs_\"))\n",
    "\n",
    "    # Create output directory\n",
    "    wk.dir <- file.path(sum.dir, file.i.outpath)\n",
    "    dir.create(wk.dir, showWarnings = FALSE, recursive=TRUE)\n",
    "    setwd(wk.dir)\n",
    "    \n",
    "    # Run GO\n",
    "    useGroup <- \"log2FoldChange\"\n",
    "    outName <- file.i.simp.name\n",
    "\n",
    "    success <- \"yes\"\n",
    "    gsea <- tryCatch({\n",
    "        GO_run(file.i, useGroup, outName, 1, FALSE)\n",
    "        message(paste(file.i, \"failed\",sep='; '))\n",
    "        return(\"no\")\n",
    "    })\n",
    "}"
   ]
  },
  {
   "cell_type": "code",
   "execution_count": null,
   "metadata": {},
   "outputs": [],
   "source": []
  }
 ],
 "metadata": {
  "kernelspec": {
   "display_name": "R",
   "language": "R",
   "name": "ir"
  },
  "language_info": {
   "codemirror_mode": "r",
   "file_extension": ".r",
   "mimetype": "text/x-r-source",
   "name": "R",
   "pygments_lexer": "r",
   "version": "3.6.3"
  }
 },
 "nbformat": 4,
 "nbformat_minor": 4
}
