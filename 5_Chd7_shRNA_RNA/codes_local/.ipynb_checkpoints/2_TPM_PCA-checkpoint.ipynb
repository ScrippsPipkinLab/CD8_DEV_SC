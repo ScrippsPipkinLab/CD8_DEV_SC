{
 "cells": [
  {
   "cell_type": "code",
   "execution_count": 251,
   "metadata": {},
   "outputs": [
    {
     "data": {
      "text/plain": [
       "'/media/pipkin/ROCKET-PRO/CD8_DEV_SC/5_Chd7_shRNA_RNA'"
      ]
     },
     "execution_count": 251,
     "metadata": {},
     "output_type": "execute_result"
    }
   ],
   "source": [
    "import os\n",
    "import pandas as pd\n",
    "from sklearn.decomposition import PCA\n",
    "from sklearn.manifold import MDS\n",
    "from scipy.stats import zscore\n",
    "import matplotlib.pyplot as plt\n",
    "import numpy as np\n",
    "import seaborn as sns\n",
    "from scipy import spatial\n",
    "\n",
    "%matplotlib inline\n",
    "\n",
    "try:\n",
    "    code_dir\n",
    "except NameError:\n",
    "    code_dir = os.getcwd()\n",
    "    base_dir = code_dir.replace(\"/codes_local\", \"\")\n",
    "    salmon_dir = base_dir + \"/0_salmon\"\n",
    "    deseq2_dir1 = base_dir + \"/1_DEseq2\"\n",
    "    deseq2_dir2 = base_dir + \"/1_DEseq2_merge_shChd7\"\n",
    "    deseq2_compile_dir = base_dir + \"/1_DEseq2_compiled\"\n",
    "base_dir"
   ]
  },
  {
   "cell_type": "markdown",
   "metadata": {},
   "source": [
    "### 0. Preprocessing"
   ]
  },
  {
   "cell_type": "code",
   "execution_count": 279,
   "metadata": {},
   "outputs": [],
   "source": [
    "tpm_file = base_dir + '/1_DEseq2_compiled/gene_tpm_bysample.csv'\n",
    "tpm_df = pd.read_csv(tpm_file, index_col=0)\n",
    "\n",
    "\n",
    "if False:\n",
    "    ###----- Define highly expressed & variable genes\n",
    "    pval_file = base_dir + '/1_DEseq2_compiled/sep_Chd7_shRNAs/DESeq2_pvalue.csv'\n",
    "    pval_df = pd.read_csv(pval_file, index_col=0)\n",
    "\n",
    "    fc_file = base_dir + '/1_DEseq2_compiled/sep_Chd7_shRNAs/DESeq2_log2FoldChange.csv'\n",
    "    fc_df = pd.read_csv(fc_file, index_col=0)\n",
    "\n",
    "    pval_min = pval_df.min(axis=1)\n",
    "    pval_slt_df = pval_df[pval_min < 0.05]\n",
    "\n",
    "    fc_abs_max = fc_df.abs().max(axis=1)\n",
    "    fc_slt_df = fc_df[fc_abs_max > 0.5]\n",
    "\n",
    "    hv_genes = set(fc_slt_df.index) & set(pval_slt_df.index)\n",
    "\n",
    "    ###--- Select highly variable genes\n",
    "    tpm_hv_df = tpm_df.loc[hv_genes]\n",
    "    tpm_hv_he_df = tpm_hv_df[tpm_hv_df.max(axis=1) > 5]\n",
    "    print(tpm_hv_he_df.shape)\n",
    "\n",
    "    ###--- Convert to z score\n",
    "    tpm_hv_he_df_z = tpm_hv_he_df.transpose().apply(zscore).transpose()\n",
    "    tpm_hv_he_df_z.head()"
   ]
  },
  {
   "cell_type": "code",
   "execution_count": 290,
   "metadata": {},
   "outputs": [
    {
     "data": {
      "text/plain": [
       "(691, 9)"
      ]
     },
     "execution_count": 290,
     "metadata": {},
     "output_type": "execute_result"
    }
   ],
   "source": [
    "tpm_he_df = tpm_df[tpm_df.max(axis=1) > 250]\n",
    "tpm_he_df.shape"
   ]
  },
  {
   "cell_type": "code",
   "execution_count": 291,
   "metadata": {},
   "outputs": [
    {
     "data": {
      "text/plain": [
       "(611, 9)"
      ]
     },
     "execution_count": 291,
     "metadata": {},
     "output_type": "execute_result"
    }
   ],
   "source": [
    "tpm_z_he_df = tpm_he_df.transpose().apply(zscore).transpose()\n",
    "tpm_z_he_df_maxz = tpm_z_he_df.abs().max(axis=1)\n",
    "tpm_z_he_hv_df = tpm_z_he_df[tpm_z_he_df_maxz > 1.5]\n",
    "tpm_z_he_hv_df.shape"
   ]
  },
  {
   "cell_type": "code",
   "execution_count": 292,
   "metadata": {},
   "outputs": [
    {
     "data": {
      "text/html": [
       "<div>\n",
       "<style scoped>\n",
       "    .dataframe tbody tr th:only-of-type {\n",
       "        vertical-align: middle;\n",
       "    }\n",
       "\n",
       "    .dataframe tbody tr th {\n",
       "        vertical-align: top;\n",
       "    }\n",
       "\n",
       "    .dataframe thead th {\n",
       "        text-align: right;\n",
       "    }\n",
       "</style>\n",
       "<table border=\"1\" class=\"dataframe\">\n",
       "  <thead>\n",
       "    <tr style=\"text-align: right;\">\n",
       "      <th>gene_name</th>\n",
       "      <th>Ablim1</th>\n",
       "      <th>Abracl</th>\n",
       "      <th>Actb</th>\n",
       "      <th>Actg1</th>\n",
       "      <th>Actr3</th>\n",
       "      <th>Adgre5</th>\n",
       "      <th>Aes</th>\n",
       "      <th>Ahnak</th>\n",
       "      <th>Aldoa</th>\n",
       "      <th>Anapc5</th>\n",
       "      <th>...</th>\n",
       "      <th>Ywhaq</th>\n",
       "      <th>Ywhaz</th>\n",
       "      <th>Zc3h7a</th>\n",
       "      <th>Zfp36l2</th>\n",
       "      <th>mt-Atp6</th>\n",
       "      <th>mt-Atp8</th>\n",
       "      <th>mt-Co1</th>\n",
       "      <th>mt-Co3</th>\n",
       "      <th>mt-Cytb</th>\n",
       "      <th>mt-Nd1</th>\n",
       "    </tr>\n",
       "  </thead>\n",
       "  <tbody>\n",
       "    <tr>\n",
       "      <th>Cd4_1_1</th>\n",
       "      <td>-1.657468</td>\n",
       "      <td>0.289576</td>\n",
       "      <td>-0.330162</td>\n",
       "      <td>-0.599896</td>\n",
       "      <td>-0.185030</td>\n",
       "      <td>-0.481054</td>\n",
       "      <td>0.141863</td>\n",
       "      <td>0.656345</td>\n",
       "      <td>0.809954</td>\n",
       "      <td>1.910102</td>\n",
       "      <td>...</td>\n",
       "      <td>1.335254</td>\n",
       "      <td>-0.545669</td>\n",
       "      <td>-0.695339</td>\n",
       "      <td>-0.937885</td>\n",
       "      <td>1.483963</td>\n",
       "      <td>-0.368885</td>\n",
       "      <td>0.217622</td>\n",
       "      <td>1.892809</td>\n",
       "      <td>0.620407</td>\n",
       "      <td>0.704995</td>\n",
       "    </tr>\n",
       "    <tr>\n",
       "      <th>Chd7_1_1</th>\n",
       "      <td>-0.706285</td>\n",
       "      <td>-0.880500</td>\n",
       "      <td>1.598598</td>\n",
       "      <td>1.013287</td>\n",
       "      <td>-1.293031</td>\n",
       "      <td>-0.905617</td>\n",
       "      <td>1.316997</td>\n",
       "      <td>-1.573789</td>\n",
       "      <td>0.277303</td>\n",
       "      <td>0.705523</td>\n",
       "      <td>...</td>\n",
       "      <td>0.214090</td>\n",
       "      <td>0.529025</td>\n",
       "      <td>-1.574890</td>\n",
       "      <td>-0.663108</td>\n",
       "      <td>-1.502937</td>\n",
       "      <td>-0.840361</td>\n",
       "      <td>-1.315625</td>\n",
       "      <td>-0.268967</td>\n",
       "      <td>-0.672620</td>\n",
       "      <td>-1.020419</td>\n",
       "    </tr>\n",
       "    <tr>\n",
       "      <th>Chd7_2_1</th>\n",
       "      <td>-0.592472</td>\n",
       "      <td>-1.223811</td>\n",
       "      <td>-0.821195</td>\n",
       "      <td>-1.617529</td>\n",
       "      <td>-0.342215</td>\n",
       "      <td>-1.233826</td>\n",
       "      <td>-0.856912</td>\n",
       "      <td>-0.835355</td>\n",
       "      <td>0.442699</td>\n",
       "      <td>0.725744</td>\n",
       "      <td>...</td>\n",
       "      <td>-0.461432</td>\n",
       "      <td>-0.030334</td>\n",
       "      <td>-0.469875</td>\n",
       "      <td>-0.975536</td>\n",
       "      <td>0.734459</td>\n",
       "      <td>-0.134782</td>\n",
       "      <td>0.315104</td>\n",
       "      <td>0.088909</td>\n",
       "      <td>0.527409</td>\n",
       "      <td>0.517485</td>\n",
       "    </tr>\n",
       "    <tr>\n",
       "      <th>Chd7_3_1</th>\n",
       "      <td>-0.591799</td>\n",
       "      <td>0.263656</td>\n",
       "      <td>1.758724</td>\n",
       "      <td>0.473909</td>\n",
       "      <td>-0.353184</td>\n",
       "      <td>-1.162385</td>\n",
       "      <td>1.347129</td>\n",
       "      <td>-0.964084</td>\n",
       "      <td>0.784151</td>\n",
       "      <td>0.349102</td>\n",
       "      <td>...</td>\n",
       "      <td>1.827728</td>\n",
       "      <td>-0.650472</td>\n",
       "      <td>-0.693851</td>\n",
       "      <td>-0.340659</td>\n",
       "      <td>-0.620004</td>\n",
       "      <td>-0.732994</td>\n",
       "      <td>-0.723819</td>\n",
       "      <td>-0.460168</td>\n",
       "      <td>-0.611828</td>\n",
       "      <td>-0.637483</td>\n",
       "    </tr>\n",
       "    <tr>\n",
       "      <th>Cd4_1_2</th>\n",
       "      <td>0.279540</td>\n",
       "      <td>0.506885</td>\n",
       "      <td>0.064764</td>\n",
       "      <td>-0.175128</td>\n",
       "      <td>-1.393750</td>\n",
       "      <td>0.621781</td>\n",
       "      <td>0.373428</td>\n",
       "      <td>1.796834</td>\n",
       "      <td>0.479208</td>\n",
       "      <td>-0.910185</td>\n",
       "      <td>...</td>\n",
       "      <td>-0.103969</td>\n",
       "      <td>-0.753312</td>\n",
       "      <td>-0.127442</td>\n",
       "      <td>0.244966</td>\n",
       "      <td>-1.088089</td>\n",
       "      <td>-0.947228</td>\n",
       "      <td>-1.327284</td>\n",
       "      <td>-1.428594</td>\n",
       "      <td>-1.454725</td>\n",
       "      <td>-1.548417</td>\n",
       "    </tr>\n",
       "    <tr>\n",
       "      <th>Chd7_1_2</th>\n",
       "      <td>1.790815</td>\n",
       "      <td>1.423177</td>\n",
       "      <td>0.280867</td>\n",
       "      <td>1.984078</td>\n",
       "      <td>1.931487</td>\n",
       "      <td>0.781755</td>\n",
       "      <td>0.676994</td>\n",
       "      <td>0.334176</td>\n",
       "      <td>0.989409</td>\n",
       "      <td>-0.888416</td>\n",
       "      <td>...</td>\n",
       "      <td>-1.513073</td>\n",
       "      <td>1.124249</td>\n",
       "      <td>0.659588</td>\n",
       "      <td>0.124236</td>\n",
       "      <td>0.247370</td>\n",
       "      <td>1.132334</td>\n",
       "      <td>1.303105</td>\n",
       "      <td>-1.044131</td>\n",
       "      <td>1.393682</td>\n",
       "      <td>1.081060</td>\n",
       "    </tr>\n",
       "    <tr>\n",
       "      <th>Chd7_2_2</th>\n",
       "      <td>0.130767</td>\n",
       "      <td>-1.504912</td>\n",
       "      <td>-0.799799</td>\n",
       "      <td>-0.832534</td>\n",
       "      <td>0.560249</td>\n",
       "      <td>-0.028926</td>\n",
       "      <td>-0.767859</td>\n",
       "      <td>-0.592218</td>\n",
       "      <td>-0.702887</td>\n",
       "      <td>0.325496</td>\n",
       "      <td>...</td>\n",
       "      <td>-0.927241</td>\n",
       "      <td>-1.815967</td>\n",
       "      <td>-0.205346</td>\n",
       "      <td>-0.201511</td>\n",
       "      <td>-0.062157</td>\n",
       "      <td>-0.101381</td>\n",
       "      <td>0.403445</td>\n",
       "      <td>1.177150</td>\n",
       "      <td>-0.397220</td>\n",
       "      <td>-0.277422</td>\n",
       "    </tr>\n",
       "    <tr>\n",
       "      <th>Chd7_3_2</th>\n",
       "      <td>1.322827</td>\n",
       "      <td>-0.271498</td>\n",
       "      <td>-1.270138</td>\n",
       "      <td>-0.325249</td>\n",
       "      <td>0.044482</td>\n",
       "      <td>1.971111</td>\n",
       "      <td>-1.829561</td>\n",
       "      <td>0.388838</td>\n",
       "      <td>-2.250862</td>\n",
       "      <td>-1.001109</td>\n",
       "      <td>...</td>\n",
       "      <td>-0.626601</td>\n",
       "      <td>0.535478</td>\n",
       "      <td>1.635263</td>\n",
       "      <td>0.209197</td>\n",
       "      <td>-0.606318</td>\n",
       "      <td>-0.312160</td>\n",
       "      <td>-0.518046</td>\n",
       "      <td>-0.529673</td>\n",
       "      <td>-0.950926</td>\n",
       "      <td>-0.516214</td>\n",
       "    </tr>\n",
       "    <tr>\n",
       "      <th>Cd19_1_1</th>\n",
       "      <td>0.024073</td>\n",
       "      <td>1.397427</td>\n",
       "      <td>-0.481658</td>\n",
       "      <td>0.079062</td>\n",
       "      <td>1.030992</td>\n",
       "      <td>0.437161</td>\n",
       "      <td>-0.402078</td>\n",
       "      <td>0.789254</td>\n",
       "      <td>-0.828976</td>\n",
       "      <td>-1.216258</td>\n",
       "      <td>...</td>\n",
       "      <td>0.255243</td>\n",
       "      <td>1.607002</td>\n",
       "      <td>1.471892</td>\n",
       "      <td>2.540301</td>\n",
       "      <td>1.413713</td>\n",
       "      <td>2.305456</td>\n",
       "      <td>1.645497</td>\n",
       "      <td>0.572664</td>\n",
       "      <td>1.545821</td>\n",
       "      <td>1.696416</td>\n",
       "    </tr>\n",
       "  </tbody>\n",
       "</table>\n",
       "<p>9 rows × 611 columns</p>\n",
       "</div>"
      ],
      "text/plain": [
       "gene_name    Ablim1    Abracl      Actb     Actg1     Actr3    Adgre5  \\\n",
       "Cd4_1_1   -1.657468  0.289576 -0.330162 -0.599896 -0.185030 -0.481054   \n",
       "Chd7_1_1  -0.706285 -0.880500  1.598598  1.013287 -1.293031 -0.905617   \n",
       "Chd7_2_1  -0.592472 -1.223811 -0.821195 -1.617529 -0.342215 -1.233826   \n",
       "Chd7_3_1  -0.591799  0.263656  1.758724  0.473909 -0.353184 -1.162385   \n",
       "Cd4_1_2    0.279540  0.506885  0.064764 -0.175128 -1.393750  0.621781   \n",
       "Chd7_1_2   1.790815  1.423177  0.280867  1.984078  1.931487  0.781755   \n",
       "Chd7_2_2   0.130767 -1.504912 -0.799799 -0.832534  0.560249 -0.028926   \n",
       "Chd7_3_2   1.322827 -0.271498 -1.270138 -0.325249  0.044482  1.971111   \n",
       "Cd19_1_1   0.024073  1.397427 -0.481658  0.079062  1.030992  0.437161   \n",
       "\n",
       "gene_name       Aes     Ahnak     Aldoa    Anapc5  ...     Ywhaq     Ywhaz  \\\n",
       "Cd4_1_1    0.141863  0.656345  0.809954  1.910102  ...  1.335254 -0.545669   \n",
       "Chd7_1_1   1.316997 -1.573789  0.277303  0.705523  ...  0.214090  0.529025   \n",
       "Chd7_2_1  -0.856912 -0.835355  0.442699  0.725744  ... -0.461432 -0.030334   \n",
       "Chd7_3_1   1.347129 -0.964084  0.784151  0.349102  ...  1.827728 -0.650472   \n",
       "Cd4_1_2    0.373428  1.796834  0.479208 -0.910185  ... -0.103969 -0.753312   \n",
       "Chd7_1_2   0.676994  0.334176  0.989409 -0.888416  ... -1.513073  1.124249   \n",
       "Chd7_2_2  -0.767859 -0.592218 -0.702887  0.325496  ... -0.927241 -1.815967   \n",
       "Chd7_3_2  -1.829561  0.388838 -2.250862 -1.001109  ... -0.626601  0.535478   \n",
       "Cd19_1_1  -0.402078  0.789254 -0.828976 -1.216258  ...  0.255243  1.607002   \n",
       "\n",
       "gene_name    Zc3h7a   Zfp36l2   mt-Atp6   mt-Atp8    mt-Co1    mt-Co3  \\\n",
       "Cd4_1_1   -0.695339 -0.937885  1.483963 -0.368885  0.217622  1.892809   \n",
       "Chd7_1_1  -1.574890 -0.663108 -1.502937 -0.840361 -1.315625 -0.268967   \n",
       "Chd7_2_1  -0.469875 -0.975536  0.734459 -0.134782  0.315104  0.088909   \n",
       "Chd7_3_1  -0.693851 -0.340659 -0.620004 -0.732994 -0.723819 -0.460168   \n",
       "Cd4_1_2   -0.127442  0.244966 -1.088089 -0.947228 -1.327284 -1.428594   \n",
       "Chd7_1_2   0.659588  0.124236  0.247370  1.132334  1.303105 -1.044131   \n",
       "Chd7_2_2  -0.205346 -0.201511 -0.062157 -0.101381  0.403445  1.177150   \n",
       "Chd7_3_2   1.635263  0.209197 -0.606318 -0.312160 -0.518046 -0.529673   \n",
       "Cd19_1_1   1.471892  2.540301  1.413713  2.305456  1.645497  0.572664   \n",
       "\n",
       "gene_name   mt-Cytb    mt-Nd1  \n",
       "Cd4_1_1    0.620407  0.704995  \n",
       "Chd7_1_1  -0.672620 -1.020419  \n",
       "Chd7_2_1   0.527409  0.517485  \n",
       "Chd7_3_1  -0.611828 -0.637483  \n",
       "Cd4_1_2   -1.454725 -1.548417  \n",
       "Chd7_1_2   1.393682  1.081060  \n",
       "Chd7_2_2  -0.397220 -0.277422  \n",
       "Chd7_3_2  -0.950926 -0.516214  \n",
       "Cd19_1_1   1.545821  1.696416  \n",
       "\n",
       "[9 rows x 611 columns]"
      ]
     },
     "execution_count": 292,
     "metadata": {},
     "output_type": "execute_result"
    }
   ],
   "source": [
    "tpm_z_he_hv_df.T"
   ]
  },
  {
   "cell_type": "markdown",
   "metadata": {},
   "source": [
    "### 1. PCA"
   ]
  },
  {
   "cell_type": "code",
   "execution_count": 293,
   "metadata": {},
   "outputs": [],
   "source": [
    "embedding = MDS(n_components=2)\n",
    "X_transformed = embedding.fit_transform(tpm_z_he_hv_df.T)"
   ]
  },
  {
   "cell_type": "code",
   "execution_count": 248,
   "metadata": {},
   "outputs": [
    {
     "name": "stdout",
     "output_type": "stream",
     "text": [
      "[0.98626959 0.0075342  0.00232745 0.00135564]\n"
     ]
    }
   ],
   "source": [
    "pca = PCA(n_components=4)\n",
    "pca.fit(tpm_he_df)\n",
    "\n",
    "print(pca.explained_variance_ratio_)"
   ]
  },
  {
   "cell_type": "code",
   "execution_count": 294,
   "metadata": {},
   "outputs": [
    {
     "data": {
      "text/plain": [
       "<matplotlib.collections.PathCollection at 0x7f2d6557fdc0>"
      ]
     },
     "execution_count": 294,
     "metadata": {},
     "output_type": "execute_result"
    },
    {
     "data": {
      "image/png": "[encoded data removed]",
      "text/plain": [
       "<Figure size 432x288 with 1 Axes>"
      ]
     },
     "metadata": {
      "needs_background": "light"
     },
     "output_type": "display_data"
    }
   ],
   "source": [
    "plt.scatter(X_transformed[:,0], X_transformed[:,1], c=colors)"
   ]
  },
  {
   "cell_type": "code",
   "execution_count": 249,
   "metadata": {},
   "outputs": [],
   "source": [
    "pca_out_df = pd.DataFrame(pca.components_.T)\n",
    "pca_out_df['types'] = meta_df['Cond'].tolist()\n",
    "colors = [\"black\", \"red\", \"orange\", \"yellow\", \"black\", \"red\", \"orange\", \"yellow\", \"black\"]"
   ]
  },
  {
   "cell_type": "code",
   "execution_count": 250,
   "metadata": {},
   "outputs": [
    {
     "data": {
      "text/plain": [
       "<matplotlib.collections.PathCollection at 0x7f2d677518b0>"
      ]
     },
     "execution_count": 250,
     "metadata": {},
     "output_type": "execute_result"
    },
    {
     "data": {
      "image/png": "[encoded data removed]",
      "text/plain": [
       "<Figure size 432x288 with 1 Axes>"
      ]
     },
     "metadata": {
      "needs_background": "light"
     },
     "output_type": "display_data"
    }
   ],
   "source": [
    "plt.scatter(pca_out_df[0], pca_out_df[1], c=colors)"
   ]
  },
  {
   "cell_type": "code",
   "execution_count": 247,
   "metadata": {},
   "outputs": [
    {
     "data": {
      "text/plain": [
       "<matplotlib.collections.PathCollection at 0x7f2d6805e160>"
      ]
     },
     "execution_count": 247,
     "metadata": {},
     "output_type": "execute_result"
    },
    {
     "data": {
      "image/png": "[encoded data removed]",
      "text/plain": [
       "<Figure size 432x288 with 1 Axes>"
      ]
     },
     "metadata": {
      "needs_background": "light"
     },
     "output_type": "display_data"
    }
   ],
   "source": [
    "plt.scatter(pca_out_df[1], pca_out_df[2], c=colors)"
   ]
  },
  {
   "cell_type": "markdown",
   "metadata": {},
   "source": [
    "### 2. Sample similarity"
   ]
  },
  {
   "cell_type": "code",
   "execution_count": 215,
   "metadata": {},
   "outputs": [],
   "source": [
    "sp_order = ['Cd4_1_1', 'Cd4_1_2', 'Cd19_1_1',  \n",
    "            'Chd7_1_1',  'Chd7_1_2',  'Chd7_2_1','Chd7_2_2','Chd7_3_1','Chd7_3_2']\n",
    "\n",
    "dist_df = pd.DataFrame({\"sample\": sp_order}).set_index(\"sample\")\n",
    "for i in sp_order:\n",
    "    i_col = []\n",
    "    for j in sp_order:\n",
    "        i_col.append(spatial.distance.cosine(tpm_hv_he_df_z[i], tpm_hv_he_df_z[j]))\n",
    "    dist_df[i] = i_col"
   ]
  },
  {
   "cell_type": "code",
   "execution_count": 216,
   "metadata": {},
   "outputs": [
    {
     "data": {
      "text/plain": [
       "<AxesSubplot:ylabel='sample'>"
      ]
     },
     "execution_count": 216,
     "metadata": {},
     "output_type": "execute_result"
    },
    {
     "data": {
      "image/png": "[encoded data removed]",
      "text/plain": [
       "<Figure size 432x288 with 2 Axes>"
      ]
     },
     "metadata": {
      "needs_background": "light"
     },
     "output_type": "display_data"
    }
   ],
   "source": [
    "sns.heatmap(dist_df, cmap=\"YlGnBu\", vmin=0, vmax=1)"
   ]
  },
  {
   "cell_type": "code",
   "execution_count": null,
   "metadata": {},
   "outputs": [],
   "source": []
  },
  {
   "cell_type": "code",
   "execution_count": null,
   "metadata": {},
   "outputs": [],
   "source": []
  }
 ],
 "metadata": {
  "kernelspec": {
   "display_name": "Python 3",
   "language": "python",
   "name": "python3"
  },
  "language_info": {
   "codemirror_mode": {
    "name": "ipython",
    "version": 3
   },
   "file_extension": ".py",
   "mimetype": "text/x-python",
   "name": "python",
   "nbconvert_exporter": "python",
   "pygments_lexer": "ipython3",
   "version": "3.8.3"
  }
 },
 "nbformat": 4,
 "nbformat_minor": 4
}
