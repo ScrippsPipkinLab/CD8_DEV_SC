{
 "cells": [
  {
   "cell_type": "code",
   "execution_count": 1,
   "metadata": {},
   "outputs": [
    {
     "data": {
      "text/plain": [
       "'/media/pipkin/ROCKET-PRO/CD8_DEV_SC/5_Chd7_shRNA_RNA'"
      ]
     },
     "execution_count": 1,
     "metadata": {},
     "output_type": "execute_result"
    }
   ],
   "source": [
    "import pandas as pd\n",
    "import os\n",
    "import glob\n",
    "try:\n",
    "    code_dir\n",
    "except NameError:\n",
    "    code_dir = os.getcwd()\n",
    "    base_dir = code_dir.replace(\"/codes_local\", \"\")\n",
    "    salmon_dir = base_dir + \"/0_salmon\"\n",
    "    deseq2_dir1 = base_dir + \"/1_DEseq2\"\n",
    "    deseq2_dir2 = base_dir + \"/1_DEseq2_merge_shChd7\"\n",
    "    deseq2_compile_dir = base_dir + \"/1_DEseq2_compiled\"\n",
    "base_dir"
   ]
  },
  {
   "cell_type": "code",
   "execution_count": 2,
   "metadata": {},
   "outputs": [],
   "source": [
    "tx2genes = '/home/pipkin/references/GRCm38.102/tx2gene.csv'\n",
    "tx2genes_df = pd.read_csv(tx2genes)\n",
    "tx2genes_df = tx2genes_df.set_index(\"GENEID\")\n",
    "\n",
    "id2gn = '/home/pipkin/references/mm_BioMart_GeneStableID_GeneName.txt'\n",
    "id2gn_df = pd.read_csv(id2gn, index_col=0)\n",
    "\n",
    "tx2gn_df = tx2genes_df.join(id2gn_df)\n",
    "tx2gn_df = tx2gn_df[[True if str(x) != 'nan' else False for x in tx2gn_df['gene_name']]]\n",
    "tx2gn_df = tx2gn_df.set_index('TXNAME')"
   ]
  },
  {
   "cell_type": "code",
   "execution_count": 40,
   "metadata": {},
   "outputs": [],
   "source": [
    "meta_file = base_dir + '/meta.csv'\n",
    "meta_df = pd.read_csv(meta_file)\n",
    "\n",
    "# Dictionaries for sample ID, sample names and conditions\n",
    "spID_sp_dict = {x:y for index, (x,y) in enumerate(zip(meta_df['Samples'].tolist(),\n",
    "                                                   meta_df['Names'].tolist()))}\n",
    "spID_cond_dict = {x:y for index, (x,y) in enumerate(zip(meta_df['Samples'].tolist(),\n",
    "                                                   meta_df['Cond'].tolist()))}\n",
    "spID_mergedCond_dict = {x:y.split(\"_\")[0] for index, (x,y) in enumerate(zip(meta_df['Samples'].tolist(),\n",
    "                                                   meta_df['Cond'].tolist()))}\n",
    "sp_cond_dict = {x:y for index, (x,y) in enumerate(zip(meta_df['Names'].tolist(),\n",
    "                                                   meta_df['Cond'].tolist()))}\n",
    "sp_mergedCond_dict = {x:y.split(\"_\")[0] for index, (x,y) in enumerate(zip(meta_df['Names'].tolist(),\n",
    "                                                   meta_df['Cond'].tolist()))}"
   ]
  },
  {
   "cell_type": "markdown",
   "metadata": {},
   "source": [
    "# TPM"
   ]
  },
  {
   "cell_type": "code",
   "execution_count": 29,
   "metadata": {},
   "outputs": [],
   "source": [
    "###----- Compile TPM and calculate average TPM\n",
    "# Per transcript tpm compilation\n",
    "quant_sf_files = glob.glob(\"%s/*/quant.sf\"%salmon_dir)\n",
    "\n",
    "tx_tpm_file = deseq2_compile_dir + \"/transcript_tpm_bysample.csv\"\n",
    "tx_tpm_df = pd.read_csv(quant_sf_files[0], sep=\"\\t\", index_col=0)[[]]\n",
    "for quant_sf_file in quant_sf_files:\n",
    "    quant_sf_sp = quant_sf_file.split(\"/\")[-2]\n",
    "    quant_sf_sp = quant_sf_sp.replace(\"naive\",\"Naive\")\n",
    "    quant_sf_df = pd.read_csv(quant_sf_file, sep=\"\\t\", index_col=0)[['TPM']]\n",
    "    quant_sf_df.columns = [quant_sf_sp]\n",
    "    tx_tpm_df = tx_tpm_df.join(quant_sf_df)\n",
    "tx_tpm_df.index = [x.split(\".\")[0] for x in tx_tpm_df.index]\n",
    "tx_tpm_df_gn = tx2gn_df.join(tx_tpm_df, how='inner')\n",
    "tx_tpm_df_gn.columns = [tx_tpm_df_gn.columns[0]] + [spID_sp_dict[x] for x in tx_tpm_df_gn.columns.tolist()[1:]]\n",
    "tx_tpm_df_gn.to_csv(tx_tpm_file)\n",
    "\n",
    "# Per gene tpm\n",
    "gn_tpm_file = deseq2_compile_dir + \"/gene_tpm_bysample.csv\"\n",
    "tx_tpm_df_gn = tx2gn_df.join(tx_tpm_df, how='inner')\n",
    "gn_tpm_df = tx_tpm_df_gn.groupby(\"gene_name\").sum()\n",
    "gn_tpm_df_named = gn_tpm_df.copy()\n",
    "gn_tpm_df_named.columns = [spID_sp_dict[x] for x in gn_tpm_df_named.columns]\n",
    "gn_tpm_df_named.to_csv(gn_tpm_file)"
   ]
  },
  {
   "cell_type": "code",
   "execution_count": 30,
   "metadata": {},
   "outputs": [],
   "source": [
    "#----- Conditions: shChd7.1, shChd7.2, shChd7.3, Control\n",
    "# Per condition average - transcript tpm\n",
    "tx_tpm_file = deseq2_compile_dir + \"/transcript_tpm_condAvg.csv\"\n",
    "tx_tpm_df_t = tx_tpm_df.copy().transpose()\n",
    "tx_tpm_df_t['cond'] = [spID_cond_dict[x] for x in tx_tpm_df_t.index]\n",
    "tx_tpm_cond_df = tx_tpm_df_t.groupby(\"cond\").mean().transpose()\n",
    "tx_tpm_cond_df.columns.name = ''\n",
    "tx_tpm_cond_df_gn = tx2gn_df.join(tx_tpm_cond_df, how='inner')\n",
    "tx_tpm_cond_df_gn.to_csv(tx_tpm_file)\n",
    "\n",
    "# Per condition average - gene tpm\n",
    "gn_tpm_file = deseq2_compile_dir + \"/gene_tpm_condAvg.csv\"\n",
    "gn_tpm_df_t = gn_tpm_df.copy().transpose()\n",
    "gn_tpm_df_t['cond'] = [spID_cond_dict[x] for x in gn_tpm_df_t.index]\n",
    "gn_tpm_cond_df = gn_tpm_df_t.groupby(\"cond\").mean().transpose()\n",
    "gn_tpm_cond_df.columns.name = ''\n",
    "gn_tpm_cond_df.to_csv(gn_tpm_file)\n",
    "\n",
    "#----- Conditions: shChd7, Control\n",
    "# Per condition average - transcript tpm\n",
    "tx_tpm_file = deseq2_compile_dir + \"/transcript_tpm_mergedCondAvg.csv\"\n",
    "tx_tpm_df_t = tx_tpm_df.copy().transpose()\n",
    "tx_tpm_df_t['cond'] = [spID_mergedCond_dict[x] for x in tx_tpm_df_t.index]\n",
    "tx_tpm_cond_df = tx_tpm_df_t.groupby(\"cond\").mean().transpose()\n",
    "tx_tpm_cond_df.columns.name = ''\n",
    "tx_tpm_cond_df_gn = tx2gn_df.join(tx_tpm_cond_df, how='inner')\n",
    "tx_tpm_cond_df_gn.to_csv(tx_tpm_file)\n",
    "\n",
    "# Per condition average - gene tpm\n",
    "gn_tpm_file = deseq2_compile_dir + \"/gene_tpm_mergedCondAvg.csv\"\n",
    "gn_tpm_df_t = gn_tpm_df.copy().transpose()\n",
    "gn_tpm_df_t['cond'] = [spID_mergedCond_dict[x] for x in gn_tpm_df_t.index]\n",
    "gn_tpm_cond_df = gn_tpm_df_t.groupby(\"cond\").mean().transpose()\n",
    "gn_tpm_cond_df.columns.name = ''\n",
    "gn_tpm_cond_df.to_csv(gn_tpm_file)"
   ]
  },
  {
   "cell_type": "markdown",
   "metadata": {},
   "source": [
    "# Normalized counts"
   ]
  },
  {
   "cell_type": "code",
   "execution_count": 46,
   "metadata": {},
   "outputs": [],
   "source": [
    "###----- Calculate averge normalized count\n",
    "norm_count_file = deseq2_compile_dir + \"/DESeq2_normalized_counts_bysample_gn.csv\"\n",
    "norm_count_df = pd.read_csv(norm_count_file, index_col=0)\n",
    "norm_count_df = norm_count_df[[True if str(x) != 'nan' else False for x in norm_count_df.index]]\n",
    "\n",
    "\n",
    "# Per condition average - gene tpm\n",
    "norm_count_avg_file = deseq2_compile_dir + \"/DESeq2_normalized_counts_condAvg_gn.csv\"\n",
    "norm_count_df_t = norm_count_df.copy().transpose()\n",
    "norm_count_df_t['cond'] = [sp_cond_dict[x] for x in norm_count_df_t.index]\n",
    "norm_count_cond_df = norm_count_df_t.groupby(\"cond\").mean().transpose()\n",
    "norm_count_cond_df.columns.name = ''\n",
    "norm_count_cond_df.to_csv(norm_count_avg_file)\n",
    "\n",
    "# Per condition average - gene tpm\n",
    "norm_count_avg_file = deseq2_compile_dir + \"/DESeq2_normalized_counts_mergedCondAvg_gn.csv\"\n",
    "norm_count_df_t = norm_count_df.copy().transpose()\n",
    "norm_count_df_t['cond'] = [sp_mergedCond_dict[x] for x in norm_count_df_t.index]\n",
    "norm_count_cond_df = norm_count_df_t.groupby(\"cond\").mean().transpose()\n",
    "norm_count_cond_df.columns.name = ''\n",
    "norm_count_cond_df.to_csv(norm_count_avg_file)"
   ]
  },
  {
   "cell_type": "markdown",
   "metadata": {},
   "source": [
    "# Compile DESEQ outputs"
   ]
  },
  {
   "cell_type": "code",
   "execution_count": 59,
   "metadata": {
    "scrolled": true
   },
   "outputs": [],
   "source": [
    "###----- Compile DEseq output\n",
    "deseq2_files = glob.glob(\"%s/*gn.csv\"%deseq2_dir1)\n",
    "deseq2_compile_dir = base_dir + \"/1_DEseq2_compiled/sep_Chd7_shRNAs\"\n",
    "\n",
    "all_genes = pd.read_csv(deseq2_files[0])['gene_name']\n",
    "all_genes = [x for x in all_genes if str(x) != 'nan']\n",
    "all_genes = list(set(all_genes))\n",
    "\n",
    "for i in ['log2FoldChange','stat', 'pvalue', 'padj']:\n",
    "    i_df = pd.DataFrame({\"gene_name\": all_genes}).set_index(\"gene_name\")\n",
    "    for deseq2_file in deseq2_files:\n",
    "        # Label name\n",
    "        deseq2_file_name_simp = deseq2_file.split(\"/\")[-1].replace(\".csv\",\"\").replace(\"-Salmon\",\"\").replace(\"_gn\", \"\")\n",
    "        # Uniform dataframe\n",
    "        deseq2_df = pd.read_csv(deseq2_file)\n",
    "        deseq2_df.columns = [\"gene_name\"] + deseq2_df.columns.tolist()[1:]\n",
    "        deseq2_i_df = deseq2_df[['gene_name', i]]\n",
    "        deseq2_i_df.columns = ['gene_name', deseq2_file_name_simp]\n",
    "        # Remove none gene name match\n",
    "        deseq2_i_df =  deseq2_i_df[[True if str(x) != 'nan' else False for x in deseq2_i_df['gene_name']]]\n",
    "        # Remove duplicated genes\n",
    "        deseq2_i_df = deseq2_i_df.drop_duplicates(subset=['gene_name'])\n",
    "        # Reduce float point precision\n",
    "        deseq2_i_df = deseq2_i_df.round(3)\n",
    "        deseq2_i_df = deseq2_i_df.set_index(\"gene_name\")\n",
    "\n",
    "        i_df = i_df.join(deseq2_i_df)\n",
    "        del deseq2_df\n",
    "        del deseq2_i_df\n",
    "    i_df_name = deseq2_compile_dir + \"/DESeq2_%s.csv\"%i\n",
    "    i_df.to_csv(i_df_name)"
   ]
  },
  {
   "cell_type": "code",
   "execution_count": 61,
   "metadata": {},
   "outputs": [],
   "source": [
    "###----- Compile DEseq output\n",
    "deseq2_files = glob.glob(\"%s/*gn.csv\"%deseq2_dir2)\n",
    "deseq2_compile_dir = base_dir + \"/1_DEseq2_compiled/merge_Chd7_shRNAs\"\n",
    "\n",
    "all_genes = pd.read_csv(deseq2_files[0])['gene_name']\n",
    "all_genes = [x for x in all_genes if str(x) != 'nan']\n",
    "all_genes = list(set(all_genes))\n",
    "\n",
    "for i in ['log2FoldChange','stat', 'pvalue', 'padj']:\n",
    "    i_df = pd.DataFrame({\"gene_name\": all_genes}).set_index(\"gene_name\")\n",
    "    for deseq2_file in deseq2_files:\n",
    "        # Label name\n",
    "        deseq2_file_name_simp = deseq2_file.split(\"/\")[-1].replace(\".csv\",\"\").replace(\"-Salmon\",\"\").replace(\"_gn\", \"\")\n",
    "        # Uniform dataframe\n",
    "        deseq2_df = pd.read_csv(deseq2_file)\n",
    "        deseq2_df.columns = [\"gene_name\"] + deseq2_df.columns.tolist()[1:]\n",
    "        deseq2_i_df = deseq2_df[['gene_name', i]]\n",
    "        deseq2_i_df.columns = ['gene_name', deseq2_file_name_simp]\n",
    "        # Remove none gene name match\n",
    "        deseq2_i_df =  deseq2_i_df[[True if str(x) != 'nan' else False for x in deseq2_i_df['gene_name']]]\n",
    "        # Remove duplicated genes\n",
    "        deseq2_i_df = deseq2_i_df.drop_duplicates(subset=['gene_name'])\n",
    "        # Reduce float point precision\n",
    "        deseq2_i_df = deseq2_i_df.round(3)\n",
    "        deseq2_i_df = deseq2_i_df.set_index(\"gene_name\")\n",
    "\n",
    "        i_df = i_df.join(deseq2_i_df)\n",
    "        del deseq2_df\n",
    "        del deseq2_i_df\n",
    "    i_df_name = deseq2_compile_dir + \"/DESeq2_%s.csv\"%i\n",
    "    i_df.to_csv(i_df_name)"
   ]
  },
  {
   "cell_type": "code",
   "execution_count": null,
   "metadata": {},
   "outputs": [],
   "source": []
  },
  {
   "cell_type": "code",
   "execution_count": null,
   "metadata": {},
   "outputs": [],
   "source": []
  },
  {
   "cell_type": "code",
   "execution_count": null,
   "metadata": {},
   "outputs": [],
   "source": []
  }
 ],
 "metadata": {
  "kernelspec": {
   "display_name": "Python 3",
   "language": "python",
   "name": "python3"
  },
  "language_info": {
   "codemirror_mode": {
    "name": "ipython",
    "version": 3
   },
   "file_extension": ".py",
   "mimetype": "text/x-python",
   "name": "python",
   "nbconvert_exporter": "python",
   "pygments_lexer": "ipython3",
   "version": "3.8.3"
  }
 },
 "nbformat": 4,
 "nbformat_minor": 4
}
