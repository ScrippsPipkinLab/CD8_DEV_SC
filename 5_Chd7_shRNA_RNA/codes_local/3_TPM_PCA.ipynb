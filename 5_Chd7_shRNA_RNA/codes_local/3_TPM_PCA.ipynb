{
 "cells": [
  {
   "cell_type": "code",
   "execution_count": 251,
   "metadata": {},
   "outputs": [
    {
     "data": {
      "text/plain": [
       "'/media/pipkin/ROCKET-PRO/CD8_DEV_SC/5_Chd7_shRNA_RNA'"
      ]
     },
     "execution_count": 251,
     "metadata": {},
     "output_type": "execute_result"
    }
   ],
   "source": [
    "import os\n",
    "import pandas as pd\n",
    "from sklearn.decomposition import PCA\n",
    "from sklearn.manifold import MDS\n",
    "from scipy.stats import zscore\n",
    "import matplotlib.pyplot as plt\n",
    "import numpy as np\n",
    "import seaborn as sns\n",
    "from scipy import spatial\n",
    "\n",
    "%matplotlib inline\n",
    "\n",
    "try:\n",
    "    code_dir\n",
    "except NameError:\n",
    "    code_dir = os.getcwd()\n",
    "    base_dir = code_dir.replace(\"/codes_local\", \"\")\n",
    "    salmon_dir = base_dir + \"/0_salmon\"\n",
    "    deseq2_dir1 = base_dir + \"/1_DEseq2\"\n",
    "    deseq2_dir2 = base_dir + \"/1_DEseq2_merge_shChd7\"\n",
    "    deseq2_compile_dir = base_dir + \"/1_DEseq2_compiled\"\n",
    "base_dir"
   ]
  },
  {
   "cell_type": "markdown",
   "metadata": {},
   "source": [
    "### 0. Preprocessing"
   ]
  },
  {
   "cell_type": "code",
   "execution_count": 279,
   "metadata": {},
   "outputs": [],
   "source": [
    "tpm_file = base_dir + '/1_DEseq2_compiled/gene_tpm_bysample.csv'\n",
    "tpm_df = pd.read_csv(tpm_file, index_col=0)\n",
    "\n",
    "\n",
    "if False:\n",
    "    ###----- Define highly expressed & variable genes\n",
    "    pval_file = base_dir + '/1_DEseq2_compiled/sep_Chd7_shRNAs/DESeq2_pvalue.csv'\n",
    "    pval_df = pd.read_csv(pval_file, index_col=0)\n",
    "\n",
    "    fc_file = base_dir + '/1_DEseq2_compiled/sep_Chd7_shRNAs/DESeq2_log2FoldChange.csv'\n",
    "    fc_df = pd.read_csv(fc_file, index_col=0)\n",
    "\n",
    "    pval_min = pval_df.min(axis=1)\n",
    "    pval_slt_df = pval_df[pval_min < 0.05]\n",
    "\n",
    "    fc_abs_max = fc_df.abs().max(axis=1)\n",
    "    fc_slt_df = fc_df[fc_abs_max > 0.5]\n",
    "\n",
    "    hv_genes = set(fc_slt_df.index) & set(pval_slt_df.index)\n",
    "\n",
    "    ###--- Select highly variable genes\n",
    "    tpm_hv_df = tpm_df.loc[hv_genes]\n",
    "    tpm_hv_he_df = tpm_hv_df[tpm_hv_df.max(axis=1) > 5]\n",
    "    print(tpm_hv_he_df.shape)\n",
    "\n",
    "    ###--- Convert to z score\n",
    "    tpm_hv_he_df_z = tpm_hv_he_df.transpose().apply(zscore).transpose()\n",
    "    tpm_hv_he_df_z.head()"
   ]
  },
  {
   "cell_type": "code",
   "execution_count": 306,
   "metadata": {},
   "outputs": [
    {
     "data": {
      "text/plain": [
       "(3820, 9)"
      ]
     },
     "execution_count": 306,
     "metadata": {},
     "output_type": "execute_result"
    }
   ],
   "source": [
    "tpm_he_df = tpm_df[tpm_df.max(axis=1) > 50]\n",
    "tpm_he_df.shape"
   ]
  },
  {
   "cell_type": "code",
   "execution_count": 308,
   "metadata": {},
   "outputs": [],
   "source": [
    "tpm_he_z_df = tpm_he_df.transpose().apply(zscore).transpose()\n",
    "tpm_he_z_df_maxz = tpm_he_z_df.abs().max(axis=1)\n",
    "tpm_he_z_hv_df = tpm_he_z_df[tpm_he_z_df_maxz > 1.5]\n",
    "tpm_he_hv_df = tpm_he_df[tpm_he_z_df_maxz > 1.5]"
   ]
  },
  {
   "cell_type": "code",
   "execution_count": 309,
   "metadata": {},
   "outputs": [
    {
     "data": {
      "text/html": [
       "<div>\n",
       "<style scoped>\n",
       "    .dataframe tbody tr th:only-of-type {\n",
       "        vertical-align: middle;\n",
       "    }\n",
       "\n",
       "    .dataframe tbody tr th {\n",
       "        vertical-align: top;\n",
       "    }\n",
       "\n",
       "    .dataframe thead th {\n",
       "        text-align: right;\n",
       "    }\n",
       "</style>\n",
       "<table border=\"1\" class=\"dataframe\">\n",
       "  <thead>\n",
       "    <tr style=\"text-align: right;\">\n",
       "      <th>gene_name</th>\n",
       "      <th>0610010K14Rik</th>\n",
       "      <th>1110004F10Rik</th>\n",
       "      <th>1110008P14Rik</th>\n",
       "      <th>1500009L16Rik</th>\n",
       "      <th>1600014C10Rik</th>\n",
       "      <th>1810009A15Rik</th>\n",
       "      <th>1810013L24Rik</th>\n",
       "      <th>1810022K09Rik</th>\n",
       "      <th>1810037I17Rik</th>\n",
       "      <th>1810058I24Rik</th>\n",
       "      <th>...</th>\n",
       "      <th>mt-Co1</th>\n",
       "      <th>mt-Co2</th>\n",
       "      <th>mt-Co3</th>\n",
       "      <th>mt-Cytb</th>\n",
       "      <th>mt-Nd1</th>\n",
       "      <th>mt-Nd2</th>\n",
       "      <th>mt-Nd3</th>\n",
       "      <th>mt-Nd4</th>\n",
       "      <th>mt-Nd4l</th>\n",
       "      <th>mt-Nd5</th>\n",
       "    </tr>\n",
       "  </thead>\n",
       "  <tbody>\n",
       "    <tr>\n",
       "      <th>Cd4_1_1</th>\n",
       "      <td>-0.952074</td>\n",
       "      <td>0.354226</td>\n",
       "      <td>-0.595548</td>\n",
       "      <td>2.102593</td>\n",
       "      <td>-1.969315</td>\n",
       "      <td>0.213996</td>\n",
       "      <td>-0.706895</td>\n",
       "      <td>0.271556</td>\n",
       "      <td>0.219917</td>\n",
       "      <td>-0.444123</td>\n",
       "      <td>...</td>\n",
       "      <td>0.217622</td>\n",
       "      <td>0.507511</td>\n",
       "      <td>1.892809</td>\n",
       "      <td>0.620407</td>\n",
       "      <td>0.704995</td>\n",
       "      <td>0.095949</td>\n",
       "      <td>-1.526801</td>\n",
       "      <td>-0.048081</td>\n",
       "      <td>-0.647385</td>\n",
       "      <td>0.562611</td>\n",
       "    </tr>\n",
       "    <tr>\n",
       "      <th>Chd7_1_1</th>\n",
       "      <td>1.658488</td>\n",
       "      <td>-0.604876</td>\n",
       "      <td>-0.237466</td>\n",
       "      <td>-0.370166</td>\n",
       "      <td>-0.082154</td>\n",
       "      <td>-0.479736</td>\n",
       "      <td>-0.833906</td>\n",
       "      <td>-1.071514</td>\n",
       "      <td>0.935631</td>\n",
       "      <td>-1.723594</td>\n",
       "      <td>...</td>\n",
       "      <td>-1.315625</td>\n",
       "      <td>-1.503860</td>\n",
       "      <td>-0.268967</td>\n",
       "      <td>-0.672620</td>\n",
       "      <td>-1.020419</td>\n",
       "      <td>-0.460943</td>\n",
       "      <td>-0.802184</td>\n",
       "      <td>-0.483295</td>\n",
       "      <td>-0.072574</td>\n",
       "      <td>0.031371</td>\n",
       "    </tr>\n",
       "    <tr>\n",
       "      <th>Chd7_2_1</th>\n",
       "      <td>-1.184401</td>\n",
       "      <td>-0.755655</td>\n",
       "      <td>-1.428559</td>\n",
       "      <td>0.653617</td>\n",
       "      <td>-0.335621</td>\n",
       "      <td>0.905850</td>\n",
       "      <td>-1.211412</td>\n",
       "      <td>-0.628195</td>\n",
       "      <td>0.790383</td>\n",
       "      <td>0.140428</td>\n",
       "      <td>...</td>\n",
       "      <td>0.315104</td>\n",
       "      <td>1.958058</td>\n",
       "      <td>0.088909</td>\n",
       "      <td>0.527409</td>\n",
       "      <td>0.517485</td>\n",
       "      <td>2.111093</td>\n",
       "      <td>0.374519</td>\n",
       "      <td>0.160453</td>\n",
       "      <td>1.204044</td>\n",
       "      <td>1.439969</td>\n",
       "    </tr>\n",
       "    <tr>\n",
       "      <th>Chd7_3_1</th>\n",
       "      <td>0.574786</td>\n",
       "      <td>0.113698</td>\n",
       "      <td>0.375697</td>\n",
       "      <td>-0.159963</td>\n",
       "      <td>-0.543024</td>\n",
       "      <td>1.809994</td>\n",
       "      <td>-0.857127</td>\n",
       "      <td>-1.540490</td>\n",
       "      <td>1.268356</td>\n",
       "      <td>-0.498830</td>\n",
       "      <td>...</td>\n",
       "      <td>-0.723819</td>\n",
       "      <td>-0.533348</td>\n",
       "      <td>-0.460168</td>\n",
       "      <td>-0.611828</td>\n",
       "      <td>-0.637483</td>\n",
       "      <td>-0.362963</td>\n",
       "      <td>1.488067</td>\n",
       "      <td>-0.915765</td>\n",
       "      <td>-1.117392</td>\n",
       "      <td>0.503139</td>\n",
       "    </tr>\n",
       "    <tr>\n",
       "      <th>Cd4_1_2</th>\n",
       "      <td>1.250916</td>\n",
       "      <td>-1.160493</td>\n",
       "      <td>1.931176</td>\n",
       "      <td>0.545887</td>\n",
       "      <td>1.370982</td>\n",
       "      <td>0.985852</td>\n",
       "      <td>0.371968</td>\n",
       "      <td>-0.605380</td>\n",
       "      <td>-1.302475</td>\n",
       "      <td>1.914439</td>\n",
       "      <td>...</td>\n",
       "      <td>-1.327284</td>\n",
       "      <td>-1.154112</td>\n",
       "      <td>-1.428594</td>\n",
       "      <td>-1.454725</td>\n",
       "      <td>-1.548417</td>\n",
       "      <td>-1.406391</td>\n",
       "      <td>-0.683086</td>\n",
       "      <td>-1.767035</td>\n",
       "      <td>-0.419662</td>\n",
       "      <td>-2.167087</td>\n",
       "    </tr>\n",
       "    <tr>\n",
       "      <th>Chd7_1_2</th>\n",
       "      <td>-1.223024</td>\n",
       "      <td>0.674941</td>\n",
       "      <td>1.395149</td>\n",
       "      <td>-0.626923</td>\n",
       "      <td>0.984721</td>\n",
       "      <td>-1.211680</td>\n",
       "      <td>1.261228</td>\n",
       "      <td>1.815015</td>\n",
       "      <td>0.814806</td>\n",
       "      <td>0.069601</td>\n",
       "      <td>...</td>\n",
       "      <td>1.303105</td>\n",
       "      <td>-0.440543</td>\n",
       "      <td>-1.044131</td>\n",
       "      <td>1.393682</td>\n",
       "      <td>1.081060</td>\n",
       "      <td>0.448592</td>\n",
       "      <td>-0.461809</td>\n",
       "      <td>1.136196</td>\n",
       "      <td>-1.438767</td>\n",
       "      <td>0.695883</td>\n",
       "    </tr>\n",
       "    <tr>\n",
       "      <th>Chd7_2_2</th>\n",
       "      <td>-0.071003</td>\n",
       "      <td>-0.062538</td>\n",
       "      <td>-0.631301</td>\n",
       "      <td>0.148258</td>\n",
       "      <td>1.045065</td>\n",
       "      <td>-0.456107</td>\n",
       "      <td>-0.586353</td>\n",
       "      <td>0.367019</td>\n",
       "      <td>-0.531728</td>\n",
       "      <td>-0.827069</td>\n",
       "      <td>...</td>\n",
       "      <td>0.403445</td>\n",
       "      <td>-0.054830</td>\n",
       "      <td>1.177150</td>\n",
       "      <td>-0.397220</td>\n",
       "      <td>-0.277422</td>\n",
       "      <td>-0.633155</td>\n",
       "      <td>0.812576</td>\n",
       "      <td>-0.271149</td>\n",
       "      <td>0.062804</td>\n",
       "      <td>-0.903033</td>\n",
       "    </tr>\n",
       "    <tr>\n",
       "      <th>Chd7_3_2</th>\n",
       "      <td>0.494081</td>\n",
       "      <td>-0.873501</td>\n",
       "      <td>-0.455661</td>\n",
       "      <td>-1.715268</td>\n",
       "      <td>0.337099</td>\n",
       "      <td>-1.340209</td>\n",
       "      <td>0.930071</td>\n",
       "      <td>0.345214</td>\n",
       "      <td>-1.726310</td>\n",
       "      <td>0.315669</td>\n",
       "      <td>...</td>\n",
       "      <td>-0.518046</td>\n",
       "      <td>0.401090</td>\n",
       "      <td>-0.529673</td>\n",
       "      <td>-0.950926</td>\n",
       "      <td>-0.516214</td>\n",
       "      <td>-0.787220</td>\n",
       "      <td>-0.603546</td>\n",
       "      <td>0.380995</td>\n",
       "      <td>0.632499</td>\n",
       "      <td>-0.497707</td>\n",
       "    </tr>\n",
       "    <tr>\n",
       "      <th>Cd19_1_1</th>\n",
       "      <td>-0.547771</td>\n",
       "      <td>2.314197</td>\n",
       "      <td>-0.353487</td>\n",
       "      <td>-0.578036</td>\n",
       "      <td>-0.807753</td>\n",
       "      <td>-0.427960</td>\n",
       "      <td>1.632426</td>\n",
       "      <td>1.046775</td>\n",
       "      <td>-0.468580</td>\n",
       "      <td>1.053478</td>\n",
       "      <td>...</td>\n",
       "      <td>1.645497</td>\n",
       "      <td>0.820034</td>\n",
       "      <td>0.572664</td>\n",
       "      <td>1.545821</td>\n",
       "      <td>1.696416</td>\n",
       "      <td>0.995037</td>\n",
       "      <td>1.402265</td>\n",
       "      <td>1.807681</td>\n",
       "      <td>1.796433</td>\n",
       "      <td>0.334854</td>\n",
       "    </tr>\n",
       "  </tbody>\n",
       "</table>\n",
       "<p>9 rows × 3469 columns</p>\n",
       "</div>"
      ],
      "text/plain": [
       "gene_name  0610010K14Rik  1110004F10Rik  1110008P14Rik  1500009L16Rik  \\\n",
       "Cd4_1_1        -0.952074       0.354226      -0.595548       2.102593   \n",
       "Chd7_1_1        1.658488      -0.604876      -0.237466      -0.370166   \n",
       "Chd7_2_1       -1.184401      -0.755655      -1.428559       0.653617   \n",
       "Chd7_3_1        0.574786       0.113698       0.375697      -0.159963   \n",
       "Cd4_1_2         1.250916      -1.160493       1.931176       0.545887   \n",
       "Chd7_1_2       -1.223024       0.674941       1.395149      -0.626923   \n",
       "Chd7_2_2       -0.071003      -0.062538      -0.631301       0.148258   \n",
       "Chd7_3_2        0.494081      -0.873501      -0.455661      -1.715268   \n",
       "Cd19_1_1       -0.547771       2.314197      -0.353487      -0.578036   \n",
       "\n",
       "gene_name  1600014C10Rik  1810009A15Rik  1810013L24Rik  1810022K09Rik  \\\n",
       "Cd4_1_1        -1.969315       0.213996      -0.706895       0.271556   \n",
       "Chd7_1_1       -0.082154      -0.479736      -0.833906      -1.071514   \n",
       "Chd7_2_1       -0.335621       0.905850      -1.211412      -0.628195   \n",
       "Chd7_3_1       -0.543024       1.809994      -0.857127      -1.540490   \n",
       "Cd4_1_2         1.370982       0.985852       0.371968      -0.605380   \n",
       "Chd7_1_2        0.984721      -1.211680       1.261228       1.815015   \n",
       "Chd7_2_2        1.045065      -0.456107      -0.586353       0.367019   \n",
       "Chd7_3_2        0.337099      -1.340209       0.930071       0.345214   \n",
       "Cd19_1_1       -0.807753      -0.427960       1.632426       1.046775   \n",
       "\n",
       "gene_name  1810037I17Rik  1810058I24Rik  ...    mt-Co1    mt-Co2    mt-Co3  \\\n",
       "Cd4_1_1         0.219917      -0.444123  ...  0.217622  0.507511  1.892809   \n",
       "Chd7_1_1        0.935631      -1.723594  ... -1.315625 -1.503860 -0.268967   \n",
       "Chd7_2_1        0.790383       0.140428  ...  0.315104  1.958058  0.088909   \n",
       "Chd7_3_1        1.268356      -0.498830  ... -0.723819 -0.533348 -0.460168   \n",
       "Cd4_1_2        -1.302475       1.914439  ... -1.327284 -1.154112 -1.428594   \n",
       "Chd7_1_2        0.814806       0.069601  ...  1.303105 -0.440543 -1.044131   \n",
       "Chd7_2_2       -0.531728      -0.827069  ...  0.403445 -0.054830  1.177150   \n",
       "Chd7_3_2       -1.726310       0.315669  ... -0.518046  0.401090 -0.529673   \n",
       "Cd19_1_1       -0.468580       1.053478  ...  1.645497  0.820034  0.572664   \n",
       "\n",
       "gene_name   mt-Cytb    mt-Nd1    mt-Nd2    mt-Nd3    mt-Nd4   mt-Nd4l  \\\n",
       "Cd4_1_1    0.620407  0.704995  0.095949 -1.526801 -0.048081 -0.647385   \n",
       "Chd7_1_1  -0.672620 -1.020419 -0.460943 -0.802184 -0.483295 -0.072574   \n",
       "Chd7_2_1   0.527409  0.517485  2.111093  0.374519  0.160453  1.204044   \n",
       "Chd7_3_1  -0.611828 -0.637483 -0.362963  1.488067 -0.915765 -1.117392   \n",
       "Cd4_1_2   -1.454725 -1.548417 -1.406391 -0.683086 -1.767035 -0.419662   \n",
       "Chd7_1_2   1.393682  1.081060  0.448592 -0.461809  1.136196 -1.438767   \n",
       "Chd7_2_2  -0.397220 -0.277422 -0.633155  0.812576 -0.271149  0.062804   \n",
       "Chd7_3_2  -0.950926 -0.516214 -0.787220 -0.603546  0.380995  0.632499   \n",
       "Cd19_1_1   1.545821  1.696416  0.995037  1.402265  1.807681  1.796433   \n",
       "\n",
       "gene_name    mt-Nd5  \n",
       "Cd4_1_1    0.562611  \n",
       "Chd7_1_1   0.031371  \n",
       "Chd7_2_1   1.439969  \n",
       "Chd7_3_1   0.503139  \n",
       "Cd4_1_2   -2.167087  \n",
       "Chd7_1_2   0.695883  \n",
       "Chd7_2_2  -0.903033  \n",
       "Chd7_3_2  -0.497707  \n",
       "Cd19_1_1   0.334854  \n",
       "\n",
       "[9 rows x 3469 columns]"
      ]
     },
     "execution_count": 309,
     "metadata": {},
     "output_type": "execute_result"
    }
   ],
   "source": [
    "tpm_z_he_hv_df.T"
   ]
  },
  {
   "cell_type": "markdown",
   "metadata": {},
   "source": [
    "### 1. PCA"
   ]
  },
  {
   "cell_type": "code",
   "execution_count": 310,
   "metadata": {},
   "outputs": [],
   "source": [
    "embedding = MDS(n_components=2)\n",
    "X_transformed = embedding.fit_transform(tpm_he_hv_df.T)"
   ]
  },
  {
   "cell_type": "code",
   "execution_count": 318,
   "metadata": {},
   "outputs": [
    {
     "name": "stdout",
     "output_type": "stream",
     "text": [
      "[9.79492657e-01 1.65821338e-02 2.25702246e-03 8.48555123e-04]\n"
     ]
    },
    {
     "data": {
      "text/plain": [
       "0.9991803681506415"
      ]
     },
     "execution_count": 318,
     "metadata": {},
     "output_type": "execute_result"
    }
   ],
   "source": [
    "pca = PCA(n_components=4)\n",
    "pca.fit(tpm_he_hv_df)\n",
    "\n",
    "print(pca.explained_variance_ratio_)\n",
    "sum(pca.explained_variance_ratio_)"
   ]
  },
  {
   "cell_type": "code",
   "execution_count": 312,
   "metadata": {},
   "outputs": [
    {
     "data": {
      "text/plain": [
       "<matplotlib.collections.PathCollection at 0x7f2d6545e9a0>"
      ]
     },
     "execution_count": 312,
     "metadata": {},
     "output_type": "execute_result"
    },
    {
     "data": {
      "image/png": "[encoded data removed]",
      "text/plain": [
       "<Figure size 432x288 with 1 Axes>"
      ]
     },
     "metadata": {
      "needs_background": "light"
     },
     "output_type": "display_data"
    }
   ],
   "source": [
    "plt.scatter(X_transformed[:,0], X_transformed[:,1], c=colors)"
   ]
  },
  {
   "cell_type": "code",
   "execution_count": 313,
   "metadata": {},
   "outputs": [],
   "source": [
    "pca_out_df = pd.DataFrame(pca.components_.T)\n",
    "pca_out_df['types'] = meta_df['Cond'].tolist()\n",
    "colors = [\"black\", \"red\", \"orange\", \"yellow\", \"black\", \"red\", \"orange\", \"yellow\", \"black\"]"
   ]
  },
  {
   "cell_type": "code",
   "execution_count": 314,
   "metadata": {},
   "outputs": [
    {
     "data": {
      "text/plain": [
       "<matplotlib.collections.PathCollection at 0x7f2d65480f70>"
      ]
     },
     "execution_count": 314,
     "metadata": {},
     "output_type": "execute_result"
    },
    {
     "data": {
      "image/png": "[encoded data removed]",
      "text/plain": [
       "<Figure size 432x288 with 1 Axes>"
      ]
     },
     "metadata": {
      "needs_background": "light"
     },
     "output_type": "display_data"
    }
   ],
   "source": [
    "plt.scatter(pca_out_df[0], pca_out_df[1], c=colors)"
   ]
  },
  {
   "cell_type": "code",
   "execution_count": 315,
   "metadata": {},
   "outputs": [
    {
     "data": {
      "text/plain": [
       "<matplotlib.collections.PathCollection at 0x7f2d6543b3a0>"
      ]
     },
     "execution_count": 315,
     "metadata": {},
     "output_type": "execute_result"
    },
    {
     "data": {
      "image/png": "[encoded data removed]",
      "text/plain": [
       "<Figure size 432x288 with 1 Axes>"
      ]
     },
     "metadata": {
      "needs_background": "light"
     },
     "output_type": "display_data"
    }
   ],
   "source": [
    "plt.scatter(pca_out_df[1], pca_out_df[2], c=colors)"
   ]
  },
  {
   "cell_type": "markdown",
   "metadata": {},
   "source": [
    "### 2. Sample similarity"
   ]
  },
  {
   "cell_type": "code",
   "execution_count": 316,
   "metadata": {},
   "outputs": [],
   "source": [
    "sp_order = ['Cd4_1_1', 'Cd4_1_2', 'Cd19_1_1',  \n",
    "            'Chd7_1_1',  'Chd7_1_2',  'Chd7_2_1','Chd7_2_2','Chd7_3_1','Chd7_3_2']\n",
    "\n",
    "dist_df = pd.DataFrame({\"sample\": sp_order}).set_index(\"sample\")\n",
    "for i in sp_order:\n",
    "    i_col = []\n",
    "    for j in sp_order:\n",
    "        i_col.append(spatial.distance.cosine(tpm_hv_he_df_z[i], tpm_hv_he_df_z[j]))\n",
    "    dist_df[i] = i_col"
   ]
  },
  {
   "cell_type": "code",
   "execution_count": 317,
   "metadata": {},
   "outputs": [
    {
     "data": {
      "text/plain": [
       "<AxesSubplot:ylabel='sample'>"
      ]
     },
     "execution_count": 317,
     "metadata": {},
     "output_type": "execute_result"
    },
    {
     "data": {
      "image/png": "[encoded data removed]",
      "text/plain": [
       "<Figure size 432x288 with 2 Axes>"
      ]
     },
     "metadata": {
      "needs_background": "light"
     },
     "output_type": "display_data"
    }
   ],
   "source": [
    "sns.heatmap(dist_df, cmap=\"YlGnBu\", vmin=0, vmax=1)"
   ]
  },
  {
   "cell_type": "code",
   "execution_count": null,
   "metadata": {},
   "outputs": [],
   "source": []
  },
  {
   "cell_type": "code",
   "execution_count": null,
   "metadata": {},
   "outputs": [],
   "source": []
  }
 ],
 "metadata": {
  "kernelspec": {
   "display_name": "Python 3",
   "language": "python",
   "name": "python3"
  },
  "language_info": {
   "codemirror_mode": {
    "name": "ipython",
    "version": 3
   },
   "file_extension": ".py",
   "mimetype": "text/x-python",
   "name": "python",
   "nbconvert_exporter": "python",
   "pygments_lexer": "ipython3",
   "version": "3.8.3"
  }
 },
 "nbformat": 4,
 "nbformat_minor": 4
}
