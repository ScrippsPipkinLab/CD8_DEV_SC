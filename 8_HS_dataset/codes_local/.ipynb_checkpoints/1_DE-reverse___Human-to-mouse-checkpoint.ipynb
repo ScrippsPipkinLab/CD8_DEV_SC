{
 "cells": [
  {
   "cell_type": "code",
   "execution_count": 20,
   "metadata": {},
   "outputs": [],
   "source": [
    "import pandas as pd\n",
    "import os\n",
    "import glob\n",
    "try:\n",
    "    code_dir\n",
    "except NameError:\n",
    "    code_dir = os.getcwd()\n",
    "    base_dir = code_dir.replace(\"/codes_local\", \"\")\n",
    "    de_dir = base_dir + \"/0_CD8_AIM+\"\n",
    "    de_dir_mm = base_dir + \"/0_CD8_AIM+_mm\""
   ]
  },
  {
   "cell_type": "code",
   "execution_count": 13,
   "metadata": {},
   "outputs": [],
   "source": [
    "hs_mm_ref = 'https://raw.githubusercontent.com/TCellResearchTeam/T_cell_signature_Reference/master/Human_to_Mouse_geneNames.csv'\n",
    "hs_mm_df = pd.read_csv(hs_mm_ref)\n",
    "hs_to_mm_dict = {x:y for index, (x,y) in \n",
    "                 enumerate(zip(hs_mm_df['human_geneName'].tolist(),\n",
    "                               hs_mm_df['mouse_geneName'].tolist()))}"
   ]
  },
  {
   "cell_type": "markdown",
   "metadata": {},
   "source": [
    "## Create reverse direction comparison files"
   ]
  },
  {
   "cell_type": "code",
   "execution_count": 43,
   "metadata": {},
   "outputs": [],
   "source": [
    "de_files = glob.glob(\"%s/*_differential.csv\"%de_dir)\n",
    "\n",
    "### Create reverse direction files\n",
    "for de_file in de_files:\n",
    "    de_df = pd.read_csv(de_file)\n",
    "    \n",
    "    # Create reverse direction file name\n",
    "    de_file_dir = \"/\".join(de_file.split(\"/\")[:-1])\n",
    "    de_file_cp = de_file.split(\"/\")[-1].replace(\"_differential.csv\", \"\").split(\"_vs_\")\n",
    "    de_file_cp_rev = de_file_cp\n",
    "    de_file_cp_rev.reverse()\n",
    "    de_file_rev = de_file_dir + \"/\" + \"_vs_\".join(de_file_cp_rev) + \"_differential.csv\"\n",
    "    \n",
    "    # Reverse fc\n",
    "    de_rev_df = de_df.copy()\n",
    "    for i in de_rev_df.columns:\n",
    "        if \"logfc\" in i:\n",
    "            de_rev_df[i] = - de_rev_df[i]\n",
    "    \n",
    "    # Save\n",
    "    de_rev_df.to_csv(de_file_rev, index=False)"
   ]
  },
  {
   "cell_type": "markdown",
   "metadata": {},
   "source": [
    "## Human to mouse genename"
   ]
  },
  {
   "cell_type": "code",
   "execution_count": 58,
   "metadata": {},
   "outputs": [],
   "source": [
    "de_files = glob.glob(\"%s/*_differential.csv\"%de_dir)"
   ]
  },
  {
   "cell_type": "code",
   "execution_count": 80,
   "metadata": {},
   "outputs": [],
   "source": [
    "# Convert human gene names to mouse gene names\n",
    "for de_file in de_files:\n",
    "    de_df = pd.read_csv(de_file, index_col=0)\n",
    "    cvt_genes = list(set(de_df.index) & set(hs_to_mm_dict.keys())) # Find all convertable genes\n",
    "    de_df = de_df.loc[cvt_genes]\n",
    "    de_df.index = [hs_to_mm_dict[x] for x in de_df.index.tolist()] # Convert to mouse gene names\n",
    "    \n",
    "    # Save converted\n",
    "    de_file_name = de_file.split(\"/\")[-1]\n",
    "    de_mm_file_name = de_dir_mm + \"/\" + de_file_name\n",
    "    de_df.to_csv(de_mm_file_name)"
   ]
  },
  {
   "cell_type": "code",
   "execution_count": null,
   "metadata": {},
   "outputs": [],
   "source": []
  }
 ],
 "metadata": {
  "kernelspec": {
   "display_name": "Python 3",
   "language": "python",
   "name": "python3"
  },
  "language_info": {
   "codemirror_mode": {
    "name": "ipython",
    "version": 3
   },
   "file_extension": ".py",
   "mimetype": "text/x-python",
   "name": "python",
   "nbconvert_exporter": "python",
   "pygments_lexer": "ipython3",
   "version": "3.8.3"
  }
 },
 "nbformat": 4,
 "nbformat_minor": 4
}
