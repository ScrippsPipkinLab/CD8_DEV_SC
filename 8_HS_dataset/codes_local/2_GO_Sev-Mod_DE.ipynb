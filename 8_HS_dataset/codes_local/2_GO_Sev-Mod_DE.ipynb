{
 "cells": [
  {
   "cell_type": "code",
   "execution_count": 2,
   "metadata": {},
   "outputs": [
    {
     "data": {
      "text/html": [
       "'/media/pipkin/ROCKET-PRO/CD8_DEV_SC/8_HS_dataset'"
      ],
      "text/latex": [
       "'/media/pipkin/ROCKET-PRO/CD8\\_DEV\\_SC/8\\_HS\\_dataset'"
      ],
      "text/markdown": [
       "'/media/pipkin/ROCKET-PRO/CD8_DEV_SC/8_HS_dataset'"
      ],
      "text/plain": [
       "[1] \"/media/pipkin/ROCKET-PRO/CD8_DEV_SC/8_HS_dataset\""
      ]
     },
     "metadata": {},
     "output_type": "display_data"
    }
   ],
   "source": [
    "##########----- Reused code -----##########\n",
    "# Last update: Sept 13, 2020\n",
    "# By: Huitian Diao\n",
    "###########################################\n",
    "\n",
    "library(stringr)\n",
    "\n",
    "code_dir <- getwd()\n",
    "tool_dir <- unlist(strsplit(code_dir,\"/\"))\n",
    "tool_dir <- head(tool_dir, length(tool_dir)-2)\n",
    "tool_dir <- paste(c(tool_dir, \"tools\"), collapse=\"/\")\n",
    "source(file.path(tool_dir, \"function_GSEA.R\"))\n",
    "base_dir <- gsub(\"/codes_local\", \"\", code_dir)\n",
    "base_dir"
   ]
  },
  {
   "cell_type": "markdown",
   "metadata": {},
   "source": [
    "## 1. GO term analysis for each set of comparison"
   ]
  },
  {
   "cell_type": "code",
   "execution_count": 40,
   "metadata": {
    "scrolled": true
   },
   "outputs": [],
   "source": [
    "##########----- Parameters-----##########\n",
    "genome <- \"mm\"\n",
    "#########################################\n",
    "sum.dir <- file.path(base_dir, '1_DE_GO')\n",
    "dir.create(sum.dir, showWarnings = FALSE, recursive=TRUE)\n",
    "setwd(sum.dir)\n",
    "\n",
    "###----- Find all de files\n",
    "de.out.dir <- file.path(base_dir, '0_CD8_AIM+_mm_slt')\n",
    "de.files <- list.files(de.out.dir, pattern=\"*.csv\", full.names=TRUE,recursive=TRUE)"
   ]
  },
  {
   "cell_type": "code",
   "execution_count": 42,
   "metadata": {
    "scrolled": true
   },
   "outputs": [
    {
     "name": "stderr",
     "output_type": "stream",
     "text": [
      "Warning message:\n",
      "“Missing column names filled in: 'X1' [1]”\n",
      "\n",
      "\u001b[36m──\u001b[39m \u001b[1m\u001b[1mColumn specification\u001b[1m\u001b[22m \u001b[36m───────────────────────────────────────────\u001b[39m\n",
      "cols(\n",
      "  X1 = \u001b[31mcol_character()\u001b[39m,\n",
      "  moderate = \u001b[32mcol_double()\u001b[39m,\n",
      "  none = \u001b[32mcol_double()\u001b[39m,\n",
      "  sev = \u001b[32mcol_double()\u001b[39m,\n",
      "  wilcoxon_logfc = \u001b[32mcol_double()\u001b[39m,\n",
      "  wilcoxon_padj = \u001b[32mcol_double()\u001b[39m,\n",
      "  wilcoxon_score = \u001b[32mcol_double()\u001b[39m,\n",
      "  `t-test_logfc` = \u001b[32mcol_double()\u001b[39m,\n",
      "  `t-test_padj` = \u001b[32mcol_double()\u001b[39m,\n",
      "  `t-test_score` = \u001b[32mcol_double()\u001b[39m,\n",
      "  `t-test_overestim_var_logfc` = \u001b[32mcol_double()\u001b[39m,\n",
      "  `t-test_overestim_var_padj` = \u001b[32mcol_double()\u001b[39m,\n",
      "  `t-test_overestim_var_score` = \u001b[32mcol_double()\u001b[39m\n",
      ")\n",
      "\n",
      "\n",
      "Warning message:\n",
      "“Unknown columns: `gene_names`”\n"
     ]
    },
    {
     "name": "stdout",
     "output_type": "stream",
     "text": [
      "[1] \"moderate_vs_sev    Gene number: 3452\"\n"
     ]
    },
    {
     "name": "stderr",
     "output_type": "stream",
     "text": [
      "'select()' returned many:many mapping between keys and columns\n",
      "\n",
      "Warning message:\n",
      "“Missing column names filled in: 'X1' [1]”\n",
      "\n",
      "\u001b[36m──\u001b[39m \u001b[1m\u001b[1mColumn specification\u001b[1m\u001b[22m \u001b[36m───────────────────────────────────────────\u001b[39m\n",
      "cols(\n",
      "  X1 = \u001b[31mcol_character()\u001b[39m,\n",
      "  moderate = \u001b[32mcol_double()\u001b[39m,\n",
      "  none = \u001b[32mcol_double()\u001b[39m,\n",
      "  sev = \u001b[32mcol_double()\u001b[39m,\n",
      "  wilcoxon_logfc = \u001b[32mcol_double()\u001b[39m,\n",
      "  wilcoxon_padj = \u001b[32mcol_double()\u001b[39m,\n",
      "  wilcoxon_score = \u001b[32mcol_double()\u001b[39m,\n",
      "  `t-test_logfc` = \u001b[32mcol_double()\u001b[39m,\n",
      "  `t-test_padj` = \u001b[32mcol_double()\u001b[39m,\n",
      "  `t-test_score` = \u001b[32mcol_double()\u001b[39m,\n",
      "  `t-test_overestim_var_logfc` = \u001b[32mcol_double()\u001b[39m,\n",
      "  `t-test_overestim_var_padj` = \u001b[32mcol_double()\u001b[39m,\n",
      "  `t-test_overestim_var_score` = \u001b[32mcol_double()\u001b[39m\n",
      ")\n",
      "\n",
      "\n",
      "Warning message:\n",
      "“Unknown columns: `gene_names`”\n"
     ]
    },
    {
     "name": "stdout",
     "output_type": "stream",
     "text": [
      "[1] \"sev_vs_moderate    Gene number: 3452\"\n"
     ]
    },
    {
     "name": "stderr",
     "output_type": "stream",
     "text": [
      "'select()' returned many:many mapping between keys and columns\n",
      "\n"
     ]
    }
   ],
   "source": [
    "for (file.i in de.files) {\n",
    "    \n",
    "    ###----- Create output names & output directory\n",
    "    file.i.outpath <- basename(file.i)\n",
    "    file.i.outpath <- gsub(\".csv\", \"\", file.i.outpath)\n",
    "    file.i.outpath <- gsub(\"^/\", \"\",file.i.outpath)\n",
    "\n",
    "    file.i.simp.name <- tail(unlist(strsplit( file.i.outpath, \"/\")), 1)\n",
    "    file.i.simp.name <- gsub(\"_differential\", \"\", file.i.simp.name)\n",
    "    file.i.simp.vec <- unlist(strsplit(file.i.simp.name, \"_vs_\"))\n",
    "\n",
    "    # Create output directory\n",
    "    wk.dir <- file.path(sum.dir, file.i.outpath)\n",
    "    dir.create(wk.dir, showWarnings = FALSE, recursive=TRUE)\n",
    "    setwd(wk.dir)\n",
    "    \n",
    "    # Run GO\n",
    "    useGroup <- \"t-test_overestim_var_score\"\n",
    "    outName <- file.i.simp.name\n",
    "\n",
    "    success <- \"yes\"\n",
    "    gsea <- tryCatch({\n",
    "        GO_run(file.i, useGroup, outName, 1, FALSE)\n",
    "    }, error=function(cond) {\n",
    "        message(paste(file.i, \"failed\",sep='; '))\n",
    "        return(\"no\")\n",
    "    })\n",
    "}"
   ]
  },
  {
   "cell_type": "code",
   "execution_count": null,
   "metadata": {},
   "outputs": [],
   "source": []
  }
 ],
 "metadata": {
  "kernelspec": {
   "display_name": "R",
   "language": "R",
   "name": "ir"
  },
  "language_info": {
   "codemirror_mode": "r",
   "file_extension": ".r",
   "mimetype": "text/x-r-source",
   "name": "R",
   "pygments_lexer": "r",
   "version": "3.6.3"
  }
 },
 "nbformat": 4,
 "nbformat_minor": 4
}
