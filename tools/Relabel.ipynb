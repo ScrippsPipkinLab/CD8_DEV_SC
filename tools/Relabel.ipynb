{
 "cells": [
  {
   "cell_type": "code",
   "execution_count": 3,
   "metadata": {},
   "outputs": [],
   "source": [
    "import os\n",
    "import pandas as pd\n",
    "from pathlib import Path\n",
    "\n"
   ]
  },
  {
   "cell_type": "code",
   "execution_count": 50,
   "metadata": {},
   "outputs": [],
   "source": [
    "input_dir = \"/Volumes/Huitian/Projects/CD8_DEV_SC/0_Acute-Chronic/1_Scanpy/0_Scanpy_out_resampled/2_DE/Cluster_vs_Cluster\"\n",
    "label_file = \"/Volumes/Huitian/Projects/CD8_DEV_SC/6_Harmony/0_Combined/Exp391_newLabels.csv\"\n",
    "label_df = pd.read_csv(label_file)\n",
    "\n",
    "n = 0\n",
    "label_dict = {str(x):str(y) for index, (x,y) in \n",
    "              enumerate(zip(label_df['old_label'].tolist(), \n",
    "                            label_df['new_label'].tolist()))}\n",
    "for path in Path(input_dir).rglob('*.csv'):\n",
    "    if n < 10:\n",
    "        n += 1\n",
    "        # Relabel the path containing the file\n",
    "        relative_path = str(path.resolve()).replace(input_dir, \"\")\n",
    "        relative_path_list = relative_path.split(\"/\")\n",
    "        new_relative_path_list = []\n",
    "        for name_i in relative_path_list:\n",
    "            name_i_list = name_i.split(\"_\")\n",
    "            name_i_list = [label_dict[x] if x in label_dict.keys() \n",
    "                              else x for x in name_i_list]\n",
    "            new_relative_path_list.append(\"_\".join(name_i_list)) \n",
    "        new_relative_path = \"/\".join(new_relative_path_list)\n",
    "        new_folder = input_dir+\"/\".join(new_relative_path_list[:-1])\n",
    "        Path(new_folder).mkdir(parents=True, exist_ok=True)\n",
    "        \n",
    "        # Relabel column and index\n",
    "        df = pd.read_csv(path)\n",
    "        df_cols = [label_dict[x] if x in label_dict.keys()\n",
    "                   else x for x in df.columns]\n",
    "        df_firstcol = [label_dict[x] if x in label_dict.keys()\n",
    "                       else x for x in df.iloc[:,0]]\n",
    "        df.columns = df_cols\n",
    "        df.iloc[:,0] = df_firstcol\n",
    "        df.to_csv(input_dir+new_relative_path, index=False)"
   ]
  }
 ],
 "metadata": {
  "kernelspec": {
   "display_name": "Python 3",
   "language": "python",
   "name": "python3"
  },
  "language_info": {
   "codemirror_mode": {
    "name": "ipython",
    "version": 3
   },
   "file_extension": ".py",
   "mimetype": "text/x-python",
   "name": "python",
   "nbconvert_exporter": "python",
   "pygments_lexer": "ipython3",
   "version": "3.8.5"
  }
 },
 "nbformat": 4,
 "nbformat_minor": 4
}
