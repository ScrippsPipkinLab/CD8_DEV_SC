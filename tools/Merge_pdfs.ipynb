{
 "cells": [
  {
   "cell_type": "code",
   "execution_count": 1,
   "id": "d5d8f707",
   "metadata": {},
   "outputs": [],
   "source": [
    "import os\n",
    "import glob\n",
    "from PyPDF4 import PdfFileReader, PdfFileWriter"
   ]
  },
  {
   "cell_type": "code",
   "execution_count": 2,
   "id": "766a1c0a",
   "metadata": {},
   "outputs": [
    {
     "data": {
      "text/plain": [
       "['/Volumes/Yolanda1TB/CD8_DEV_SC/z_update_figures/20210729_version/Figure1S-1_20210802.pdf',\n",
       " '/Volumes/Yolanda1TB/CD8_DEV_SC/z_update_figures/20210729_version/Figure1S-2_20210802.pdf',\n",
       " '/Volumes/Yolanda1TB/CD8_DEV_SC/z_update_figures/20210729_version/Figure1_20210729.pdf',\n",
       " '/Volumes/Yolanda1TB/CD8_DEV_SC/z_update_figures/20210729_version/Figure2S-1_20210802.pdf',\n",
       " '/Volumes/Yolanda1TB/CD8_DEV_SC/z_update_figures/20210729_version/Figure2_20210729.pdf',\n",
       " '/Volumes/Yolanda1TB/CD8_DEV_SC/z_update_figures/20210729_version/Figure3S-1_20210809.pdf',\n",
       " '/Volumes/Yolanda1TB/CD8_DEV_SC/z_update_figures/20210729_version/Figure3S-2_20210809.pdf',\n",
       " '/Volumes/Yolanda1TB/CD8_DEV_SC/z_update_figures/20210729_version/Figure3_20210729.pdf',\n",
       " '/Volumes/Yolanda1TB/CD8_DEV_SC/z_update_figures/20210729_version/Figure4S-1_20210809.pdf',\n",
       " '/Volumes/Yolanda1TB/CD8_DEV_SC/z_update_figures/20210729_version/Figure4_20210729.pdf']"
      ]
     },
     "execution_count": 2,
     "metadata": {},
     "output_type": "execute_result"
    }
   ],
   "source": [
    "base_dir = os.getcwd().replace(\"/tools\",\"\")\n",
    "figures_dir = base_dir + '/z_update_figures/20210729_version'\n",
    "pdf_files = glob.glob(\"%s/Figure*.pdf\"%figures_dir)\n",
    "pdf_files.sort()\n",
    "pdf_files"
   ]
  },
  {
   "cell_type": "code",
   "execution_count": 3,
   "id": "035bf923",
   "metadata": {},
   "outputs": [
    {
     "name": "stdout",
     "output_type": "stream",
     "text": [
      "/Volumes/Yolanda1TB/CD8_DEV_SC/z_update_figures/20210729_version/Figure1_20210729.pdf\n",
      "/Volumes/Yolanda1TB/CD8_DEV_SC/z_update_figures/20210729_version/Figure2_20210729.pdf\n",
      "/Volumes/Yolanda1TB/CD8_DEV_SC/z_update_figures/20210729_version/Figure3_20210729.pdf\n",
      "/Volumes/Yolanda1TB/CD8_DEV_SC/z_update_figures/20210729_version/Figure4_20210729.pdf\n"
     ]
    }
   ],
   "source": [
    "main_figures = [x for x in pdf_files if \"S\" not in x.split(\"/\")[-1]]\n",
    "out_filename = figures_dir + '/All_Figures_main.pdf'\n",
    "with open(out_filename, 'wb') as f:\n",
    "    pdf_writer = PdfFileWriter()\n",
    "    for i in main_figures:\n",
    "        print(i)\n",
    "        pdf = PdfFileReader(i)\n",
    "        pdf_writer.addPage(pdf.getPage(0))\n",
    "    pdf_writer.write(f)"
   ]
  },
  {
   "cell_type": "code",
   "execution_count": 4,
   "id": "42685d90",
   "metadata": {},
   "outputs": [
    {
     "name": "stdout",
     "output_type": "stream",
     "text": [
      "/Volumes/Yolanda1TB/CD8_DEV_SC/z_update_figures/20210729_version/Figure1S-1_20210802.pdf\n",
      "/Volumes/Yolanda1TB/CD8_DEV_SC/z_update_figures/20210729_version/Figure1S-2_20210802.pdf\n",
      "/Volumes/Yolanda1TB/CD8_DEV_SC/z_update_figures/20210729_version/Figure2S-1_20210802.pdf\n",
      "/Volumes/Yolanda1TB/CD8_DEV_SC/z_update_figures/20210729_version/Figure3S-1_20210809.pdf\n",
      "/Volumes/Yolanda1TB/CD8_DEV_SC/z_update_figures/20210729_version/Figure3S-2_20210809.pdf\n",
      "/Volumes/Yolanda1TB/CD8_DEV_SC/z_update_figures/20210729_version/Figure4S-1_20210809.pdf\n"
     ]
    }
   ],
   "source": [
    "sup_figures = [x for x in pdf_files if \"S\" in x.split(\"/\")[-1]]\n",
    "out_filename = figures_dir + '/All_Figures_sup.pdf'\n",
    "with open(out_filename, 'wb') as f:\n",
    "    pdf_writer = PdfFileWriter()\n",
    "    for i in sup_figures:\n",
    "        print(i)\n",
    "        pdf = PdfFileReader(i)\n",
    "        pdf_writer.addPage(pdf.getPage(0))\n",
    "    pdf_writer.write(f)"
   ]
  },
  {
   "cell_type": "code",
   "execution_count": 6,
   "id": "96b1783d",
   "metadata": {},
   "outputs": [
    {
     "name": "stdout",
     "output_type": "stream",
     "text": [
      "/Volumes/Yolanda1TB/CD8_DEV_SC/z_update_figures/20210729_version/Figure1_20210729.pdf\n",
      "/Volumes/Yolanda1TB/CD8_DEV_SC/z_update_figures/20210729_version/Figure2_20210729.pdf\n",
      "/Volumes/Yolanda1TB/CD8_DEV_SC/z_update_figures/20210729_version/Figure3_20210729.pdf\n",
      "/Volumes/Yolanda1TB/CD8_DEV_SC/z_update_figures/20210729_version/Figure4_20210729.pdf\n",
      "/Volumes/Yolanda1TB/CD8_DEV_SC/z_update_figures/20210729_version/Figure1S-1_20210802.pdf\n",
      "/Volumes/Yolanda1TB/CD8_DEV_SC/z_update_figures/20210729_version/Figure1S-2_20210802.pdf\n",
      "/Volumes/Yolanda1TB/CD8_DEV_SC/z_update_figures/20210729_version/Figure2S-1_20210802.pdf\n",
      "/Volumes/Yolanda1TB/CD8_DEV_SC/z_update_figures/20210729_version/Figure3S-1_20210809.pdf\n",
      "/Volumes/Yolanda1TB/CD8_DEV_SC/z_update_figures/20210729_version/Figure3S-2_20210809.pdf\n",
      "/Volumes/Yolanda1TB/CD8_DEV_SC/z_update_figures/20210729_version/Figure4S-1_20210809.pdf\n"
     ]
    }
   ],
   "source": [
    "out_filename = figures_dir + '/All_Figures.pdf'\n",
    "with open(out_filename, 'wb') as f:\n",
    "    pdf_writer = PdfFileWriter()\n",
    "    for i in main_figures:\n",
    "        print(i)\n",
    "        pdf = PdfFileReader(i)\n",
    "        pdf_writer.addPage(pdf.getPage(0))\n",
    "    for i in sup_figures:\n",
    "        print(i)\n",
    "        pdf = PdfFileReader(i)\n",
    "        pdf_writer.addPage(pdf.getPage(0))\n",
    "    pdf_writer.write(f)"
   ]
  },
  {
   "cell_type": "code",
   "execution_count": null,
   "id": "c1920168",
   "metadata": {},
   "outputs": [],
   "source": []
  }
 ],
 "metadata": {
  "kernelspec": {
   "display_name": "Python 3",
   "language": "python",
   "name": "python3"
  },
  "language_info": {
   "codemirror_mode": {
    "name": "ipython",
    "version": 3
   },
   "file_extension": ".py",
   "mimetype": "text/x-python",
   "name": "python",
   "nbconvert_exporter": "python",
   "pygments_lexer": "ipython3",
   "version": "3.8.5"
  }
 },
 "nbformat": 4,
 "nbformat_minor": 5
}
