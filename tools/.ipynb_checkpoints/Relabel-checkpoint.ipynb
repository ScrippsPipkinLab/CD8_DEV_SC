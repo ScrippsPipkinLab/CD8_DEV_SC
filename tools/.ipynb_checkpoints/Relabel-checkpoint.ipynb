{
 "cells": [
  {
   "cell_type": "code",
   "execution_count": 3,
   "metadata": {},
   "outputs": [],
   "source": [
    "import os\n",
    "import pandas as pd\n",
    "from pathlib import Path\n",
    "\n"
   ]
  },
  {
   "cell_type": "code",
   "execution_count": 29,
   "metadata": {},
   "outputs": [
    {
     "name": "stdout",
     "output_type": "stream",
     "text": [
      "/P9/P9_vs_P4_differential.csv\n",
      "/P9/P9_vs_P4_venn.csv\n",
      "/P9/P9_vs_P3_differential.csv\n",
      "/P9/P9_vs_P3_venn.csv\n",
      "/P9/P9_vs_P10_differential.csv\n",
      "/P9/P9_vs_P10_venn.csv\n",
      "/P9/P9_vs_P0_differential.csv\n",
      "/P9/P9_vs_P0_venn.csv\n",
      "/P9/P9_vs_P5_differential.csv\n",
      "/P9/P9_vs_P5_venn.csv\n"
     ]
    }
   ],
   "source": [
    "input_dir = \"/Volumes/Huitian/Projects/CD8_DEV_SC/0_Acute-Chronic/1_Scanpy/0_Scanpy_out_resampled/2_DE/Cluster_vs_Cluster\"\n",
    "label_file = \"/Volumes/Huitian/Projects/CD8_DEV_SC/6_Harmony/0_Combined/Exp391_newLabels.csv\"\n",
    "label_df = pd.read_csv(label_file)\n",
    "\n",
    "n = 0\n",
    "label_dict = {str(x):str(y) for index, (x,y) in \n",
    "              enumerate(zip(label_df['old_label'].tolist(), \n",
    "                            label_df['new_label'].tolist()))}\n",
    "for path in Path(input_dir).rglob('*.csv'):\n",
    "    if n < 10:\n",
    "        n += 1\n",
    "        relative_path = str(path.resolve()).replace(input_dir, \"\")\n",
    "        relative_path_list = relative_path.split(\"/\")\n",
    "        new_relative_path_list = []\n",
    "        for name_i in relative_path_list:\n",
    "            name_i_list = name_i.split(\"_\")\n",
    "            name_i_list = [label_dict[x] if x in label_dict.keys() \n",
    "                              else x for x in name_i_list]\n",
    "            new_relative_path_list.append(\"_\".join(name_i_list)) \n",
    "        new_relative_path = \"/\".join(new_relative_path_list)\n",
    "        \n",
    "        "
   ]
  },
  {
   "cell_type": "code",
   "execution_count": 20,
   "metadata": {},
   "outputs": [
    {
     "data": {
      "text/plain": [
       "True"
      ]
     },
     "execution_count": 20,
     "metadata": {},
     "output_type": "execute_result"
    }
   ],
   "source": [
    "'3' in label_dict.keys()"
   ]
  },
  {
   "cell_type": "code",
   "execution_count": 13,
   "metadata": {},
   "outputs": [
    {
     "data": {
      "text/plain": [
       "{'3': 'P0',\n",
       " '9': 'P1',\n",
       " '6': 'P2',\n",
       " '1': 'P3',\n",
       " '10': 'P4',\n",
       " '4': 'P5',\n",
       " '5': 'P6',\n",
       " '7': 'P7',\n",
       " '8': 'P8',\n",
       " '0': 'P9',\n",
       " '2': 'P10'}"
      ]
     },
     "execution_count": 13,
     "metadata": {},
     "output_type": "execute_result"
    }
   ],
   "source": [
    "label_dict"
   ]
  },
  {
   "cell_type": "code",
   "execution_count": null,
   "metadata": {},
   "outputs": [],
   "source": []
  }
 ],
 "metadata": {
  "kernelspec": {
   "display_name": "Python 3",
   "language": "python",
   "name": "python3"
  },
  "language_info": {
   "codemirror_mode": {
    "name": "ipython",
    "version": 3
   },
   "file_extension": ".py",
   "mimetype": "text/x-python",
   "name": "python",
   "nbconvert_exporter": "python",
   "pygments_lexer": "ipython3",
   "version": "3.8.5"
  }
 },
 "nbformat": 4,
 "nbformat_minor": 4
}
