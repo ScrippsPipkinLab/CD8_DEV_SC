{
 "cells": [
  {
   "cell_type": "code",
   "execution_count": 1,
   "id": "d5d8f707",
   "metadata": {},
   "outputs": [],
   "source": [
    "import os\n",
    "import glob\n",
    "from PyPDF4 import PdfFileReader, PdfFileWriter\n",
    "import pandas as pd"
   ]
  },
  {
   "cell_type": "code",
   "execution_count": 2,
   "id": "766a1c0a",
   "metadata": {},
   "outputs": [
    {
     "data": {
      "text/plain": [
       "['/Volumes/Yolanda1TB/CD8_DEV_SC/z_update_figures/20210729_version/Figure1S-1_20210802.pdf',\n",
       " '/Volumes/Yolanda1TB/CD8_DEV_SC/z_update_figures/20210729_version/Figure1S-2_20210802.pdf',\n",
       " '/Volumes/Yolanda1TB/CD8_DEV_SC/z_update_figures/20210729_version/Figure1_20210729.pdf',\n",
       " '/Volumes/Yolanda1TB/CD8_DEV_SC/z_update_figures/20210729_version/Figure2S-1_20210802.pdf',\n",
       " '/Volumes/Yolanda1TB/CD8_DEV_SC/z_update_figures/20210729_version/Figure2_20210729.pdf',\n",
       " '/Volumes/Yolanda1TB/CD8_DEV_SC/z_update_figures/20210729_version/Figure3S-1_20210809.pdf',\n",
       " '/Volumes/Yolanda1TB/CD8_DEV_SC/z_update_figures/20210729_version/Figure3S-2_20210809.pdf',\n",
       " '/Volumes/Yolanda1TB/CD8_DEV_SC/z_update_figures/20210729_version/Figure3_20210729.pdf',\n",
       " '/Volumes/Yolanda1TB/CD8_DEV_SC/z_update_figures/20210729_version/Figure4S-1_20210809.pdf',\n",
       " '/Volumes/Yolanda1TB/CD8_DEV_SC/z_update_figures/20210729_version/Figure4S-2_20210813.pdf',\n",
       " '/Volumes/Yolanda1TB/CD8_DEV_SC/z_update_figures/20210729_version/Figure4S-3_20210813.pdf',\n",
       " '/Volumes/Yolanda1TB/CD8_DEV_SC/z_update_figures/20210729_version/Figure4_20210729.pdf']"
      ]
     },
     "execution_count": 2,
     "metadata": {},
     "output_type": "execute_result"
    }
   ],
   "source": [
    "base_dir = os.getcwd().replace(\"/tools\",\"\")\n",
    "figures_dir = base_dir + '/z_update_figures/20210729_version'\n",
    "pdf_files = glob.glob(\"%s/Figure*.pdf\"%figures_dir)\n",
    "pdf_files.sort()\n",
    "pdf_files"
   ]
  },
  {
   "cell_type": "code",
   "execution_count": 3,
   "id": "035bf923",
   "metadata": {},
   "outputs": [
    {
     "name": "stdout",
     "output_type": "stream",
     "text": [
      "/Volumes/Yolanda1TB/CD8_DEV_SC/z_update_figures/20210729_version/Figure1_20210729.pdf\n",
      "/Volumes/Yolanda1TB/CD8_DEV_SC/z_update_figures/20210729_version/Figure2_20210729.pdf\n",
      "/Volumes/Yolanda1TB/CD8_DEV_SC/z_update_figures/20210729_version/Figure3_20210729.pdf\n",
      "/Volumes/Yolanda1TB/CD8_DEV_SC/z_update_figures/20210729_version/Figure4_20210729.pdf\n"
     ]
    }
   ],
   "source": [
    "main_figures = [x for x in pdf_files if \"S\" not in x.split(\"/\")[-1]]\n",
    "out_filename = figures_dir + '/All_Figures_main.pdf'\n",
    "with open(out_filename, 'wb') as f:\n",
    "    pdf_writer = PdfFileWriter()\n",
    "    for i in main_figures:\n",
    "        print(i)\n",
    "        pdf = PdfFileReader(i)\n",
    "        pdf_writer.addPage(pdf.getPage(0))\n",
    "    pdf_writer.write(f)"
   ]
  },
  {
   "cell_type": "code",
   "execution_count": 4,
   "id": "42685d90",
   "metadata": {},
   "outputs": [
    {
     "name": "stdout",
     "output_type": "stream",
     "text": [
      "/Volumes/Yolanda1TB/CD8_DEV_SC/z_update_figures/20210729_version/Figure1S-1_20210802.pdf\n",
      "/Volumes/Yolanda1TB/CD8_DEV_SC/z_update_figures/20210729_version/Figure1S-2_20210802.pdf\n",
      "/Volumes/Yolanda1TB/CD8_DEV_SC/z_update_figures/20210729_version/Figure2S-1_20210802.pdf\n",
      "/Volumes/Yolanda1TB/CD8_DEV_SC/z_update_figures/20210729_version/Figure3S-1_20210809.pdf\n",
      "/Volumes/Yolanda1TB/CD8_DEV_SC/z_update_figures/20210729_version/Figure3S-2_20210809.pdf\n",
      "/Volumes/Yolanda1TB/CD8_DEV_SC/z_update_figures/20210729_version/Figure4S-1_20210809.pdf\n",
      "/Volumes/Yolanda1TB/CD8_DEV_SC/z_update_figures/20210729_version/Figure4S-2_20210813.pdf\n",
      "/Volumes/Yolanda1TB/CD8_DEV_SC/z_update_figures/20210729_version/Figure4S-3_20210813.pdf\n"
     ]
    }
   ],
   "source": [
    "sup_figures = [x for x in pdf_files if \"S\" in x.split(\"/\")[-1]]\n",
    "out_filename = figures_dir + '/All_Figures_sup.pdf'\n",
    "with open(out_filename, 'wb') as f:\n",
    "    pdf_writer = PdfFileWriter()\n",
    "    for i in sup_figures:\n",
    "        print(i)\n",
    "        pdf = PdfFileReader(i)\n",
    "        pdf_writer.addPage(pdf.getPage(0))\n",
    "    pdf_writer.write(f)"
   ]
  },
  {
   "cell_type": "code",
   "execution_count": 5,
   "id": "96b1783d",
   "metadata": {},
   "outputs": [
    {
     "name": "stdout",
     "output_type": "stream",
     "text": [
      "/Volumes/Yolanda1TB/CD8_DEV_SC/z_update_figures/20210729_version/Figure1_20210729.pdf\n",
      "/Volumes/Yolanda1TB/CD8_DEV_SC/z_update_figures/20210729_version/Figure2_20210729.pdf\n",
      "/Volumes/Yolanda1TB/CD8_DEV_SC/z_update_figures/20210729_version/Figure3_20210729.pdf\n",
      "/Volumes/Yolanda1TB/CD8_DEV_SC/z_update_figures/20210729_version/Figure4_20210729.pdf\n",
      "/Volumes/Yolanda1TB/CD8_DEV_SC/z_update_figures/20210729_version/Figure1S-1_20210802.pdf\n",
      "/Volumes/Yolanda1TB/CD8_DEV_SC/z_update_figures/20210729_version/Figure1S-2_20210802.pdf\n",
      "/Volumes/Yolanda1TB/CD8_DEV_SC/z_update_figures/20210729_version/Figure2S-1_20210802.pdf\n",
      "/Volumes/Yolanda1TB/CD8_DEV_SC/z_update_figures/20210729_version/Figure3S-1_20210809.pdf\n",
      "/Volumes/Yolanda1TB/CD8_DEV_SC/z_update_figures/20210729_version/Figure3S-2_20210809.pdf\n",
      "/Volumes/Yolanda1TB/CD8_DEV_SC/z_update_figures/20210729_version/Figure4S-1_20210809.pdf\n",
      "/Volumes/Yolanda1TB/CD8_DEV_SC/z_update_figures/20210729_version/Figure4S-2_20210813.pdf\n",
      "/Volumes/Yolanda1TB/CD8_DEV_SC/z_update_figures/20210729_version/Figure4S-3_20210813.pdf\n"
     ]
    }
   ],
   "source": [
    "out_filename = figures_dir + '/All_Figures.pdf'\n",
    "with open(out_filename, 'wb') as f:\n",
    "    pdf_writer = PdfFileWriter()\n",
    "    for i in main_figures:\n",
    "        print(i)\n",
    "        pdf = PdfFileReader(i)\n",
    "        pdf_writer.addPage(pdf.getPage(0))\n",
    "    for i in sup_figures:\n",
    "        print(i)\n",
    "        pdf = PdfFileReader(i)\n",
    "        pdf_writer.addPage(pdf.getPage(0))\n",
    "    pdf_writer.write(f)"
   ]
  },
  {
   "cell_type": "markdown",
   "id": "ff78ea46",
   "metadata": {},
   "source": [
    "## Compile Nature Format"
   ]
  },
  {
   "cell_type": "code",
   "execution_count": 6,
   "id": "5084b321",
   "metadata": {},
   "outputs": [],
   "source": [
    "nature_v_dir = '/Volumes/Yolanda1TB/CD8_DEV_SC/z_update_figures/20210816_Nature_Submission'"
   ]
  },
  {
   "cell_type": "markdown",
   "id": "e953f770",
   "metadata": {},
   "source": [
    "### Compile Figure with legends"
   ]
  },
  {
   "cell_type": "code",
   "execution_count": 7,
   "id": "42143e0b",
   "metadata": {},
   "outputs": [
    {
     "name": "stdout",
     "output_type": "stream",
     "text": [
      "Figure Legend page number:  9\n"
     ]
    },
    {
     "data": {
      "text/html": [
       "<div>\n",
       "<style scoped>\n",
       "    .dataframe tbody tr th:only-of-type {\n",
       "        vertical-align: middle;\n",
       "    }\n",
       "\n",
       "    .dataframe tbody tr th {\n",
       "        vertical-align: top;\n",
       "    }\n",
       "\n",
       "    .dataframe thead th {\n",
       "        text-align: right;\n",
       "    }\n",
       "</style>\n",
       "<table border=\"1\" class=\"dataframe\">\n",
       "  <thead>\n",
       "    <tr style=\"text-align: right;\">\n",
       "      <th></th>\n",
       "      <th>Info</th>\n",
       "    </tr>\n",
       "    <tr>\n",
       "      <th>Page</th>\n",
       "      <th></th>\n",
       "    </tr>\n",
       "  </thead>\n",
       "  <tbody>\n",
       "    <tr>\n",
       "      <th>0</th>\n",
       "      <td>Figure1</td>\n",
       "    </tr>\n",
       "    <tr>\n",
       "      <th>1</th>\n",
       "      <td>Figure2</td>\n",
       "    </tr>\n",
       "    <tr>\n",
       "      <th>2</th>\n",
       "      <td>Figure3</td>\n",
       "    </tr>\n",
       "    <tr>\n",
       "      <th>3</th>\n",
       "      <td>Figure4</td>\n",
       "    </tr>\n",
       "    <tr>\n",
       "      <th>4</th>\n",
       "      <td>Figure1S</td>\n",
       "    </tr>\n",
       "    <tr>\n",
       "      <th>5</th>\n",
       "      <td>Figure2S</td>\n",
       "    </tr>\n",
       "    <tr>\n",
       "      <th>6</th>\n",
       "      <td>Figure3S</td>\n",
       "    </tr>\n",
       "    <tr>\n",
       "      <th>7</th>\n",
       "      <td>Figure4S</td>\n",
       "    </tr>\n",
       "    <tr>\n",
       "      <th>8</th>\n",
       "      <td>Tables</td>\n",
       "    </tr>\n",
       "  </tbody>\n",
       "</table>\n",
       "</div>"
      ],
      "text/plain": [
       "          Info\n",
       "Page          \n",
       "0      Figure1\n",
       "1      Figure2\n",
       "2      Figure3\n",
       "3      Figure4\n",
       "4     Figure1S\n",
       "5     Figure2S\n",
       "6     Figure3S\n",
       "7     Figure4S\n",
       "8       Tables"
      ]
     },
     "execution_count": 7,
     "metadata": {},
     "output_type": "execute_result"
    }
   ],
   "source": [
    "legends_file = nature_v_dir + '/20210816_Nature_Chromatin_Regulator_Trajectory_Figure_legends.pdf'\n",
    "legends_pdf = PdfFileReader(legends_file)\n",
    "print(\"Figure Legend page number: \",legends_pdf.getNumPages())\n",
    "\n",
    "legends_info = nature_v_dir + '/20210816_Nature_Chromatin_Regulator_Trajectory_Figure_legends.csv'\n",
    "legends_info_df = pd.read_csv(legends_info, index_col=0)\n",
    "legends_info_df"
   ]
  },
  {
   "cell_type": "code",
   "execution_count": 8,
   "id": "f68d6d6b",
   "metadata": {},
   "outputs": [],
   "source": [
    "legend_figs_file = nature_v_dir + '/20210816_Nature_Chromatin_Regulator_Trajectory_Figure_legends_with_figures.pdf'\n",
    "with open(legend_figs_file, 'wb') as f:\n",
    "    pdf_writer = PdfFileWriter()\n",
    "    for idx, fig in enumerate(legends_info_df['Info'].tolist()):\n",
    "        # Find all associated supp figures\n",
    "        fig_files = glob.glob(\"%s/%s_*.pdf\"%(figures_dir, fig))\n",
    "        fig_files += glob.glob(\"%s/%s-*.pdf\"%(figures_dir, fig))\n",
    "        fig_files.sort()\n",
    "        \n",
    "        # Write figures and legends in new file\n",
    "        if len(fig_files) > 0:\n",
    "            for i in fig_files:\n",
    "                fig_i = PdfFileReader(i)\n",
    "                pdf_writer.addPage(fig_i.getPage(0))\n",
    "        pdf_writer.addPage(legends_pdf.getPage(idx))\n",
    "    pdf_writer.write(f)"
   ]
  },
  {
   "cell_type": "markdown",
   "id": "edce4772",
   "metadata": {},
   "source": [
    "### Compile All"
   ]
  },
  {
   "cell_type": "code",
   "execution_count": 9,
   "id": "69f9c175",
   "metadata": {},
   "outputs": [
    {
     "name": "stdout",
     "output_type": "stream",
     "text": [
      "Text - page number:  19\n",
      "Legends Figures - page number:  21\n"
     ]
    }
   ],
   "source": [
    "text_file = nature_v_dir + '/20210816_Nature_Chromatin_Regulator_Trajectory_without_Figure_legends.pdf'\n",
    "text_pdf = PdfFileReader(text_file)\n",
    "print(\"Text - page number: \", text_pdf.getNumPages())\n",
    "\n",
    "legend_figs_file = nature_v_dir + '/20210816_Nature_Chromatin_Regulator_Trajectory_Figure_legends_with_figures.pdf'\n",
    "legend_figs_pdf = PdfFileReader(legend_figs_file)\n",
    "print(\"Legends Figures - page number: \", legend_figs_pdf.getNumPages())"
   ]
  },
  {
   "cell_type": "code",
   "execution_count": 10,
   "id": "33aa6878",
   "metadata": {},
   "outputs": [],
   "source": [
    "complete_file = nature_v_dir + '/20210816_Nature_Chromatin_Regulator_Trajectory_complete.pdf'\n",
    "with open(complete_file, 'wb') as f:\n",
    "    pdf_writer = PdfFileWriter()\n",
    "    for idx in range(text_pdf.getNumPages()):\n",
    "        pdf_writer.addPage(text_pdf.getPage(idx))\n",
    "    for idx in range(legend_figs_pdf.getNumPages()):\n",
    "        pdf_writer.addPage(legend_figs_pdf.getPage(idx))\n",
    "    pdf_writer.write(f)"
   ]
  },
  {
   "cell_type": "code",
   "execution_count": null,
   "id": "ca2d8d43",
   "metadata": {},
   "outputs": [],
   "source": []
  },
  {
   "cell_type": "code",
   "execution_count": null,
   "id": "57ded391",
   "metadata": {},
   "outputs": [],
   "source": []
  }
 ],
 "metadata": {
  "kernelspec": {
   "display_name": "Python 3",
   "language": "python",
   "name": "python3"
  },
  "language_info": {
   "codemirror_mode": {
    "name": "ipython",
    "version": 3
   },
   "file_extension": ".py",
   "mimetype": "text/x-python",
   "name": "python",
   "nbconvert_exporter": "python",
   "pygments_lexer": "ipython3",
   "version": "3.8.5"
  }
 },
 "nbformat": 4,
 "nbformat_minor": 5
}
