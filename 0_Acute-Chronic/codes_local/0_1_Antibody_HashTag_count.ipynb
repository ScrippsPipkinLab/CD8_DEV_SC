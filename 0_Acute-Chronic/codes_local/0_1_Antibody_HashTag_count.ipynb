{
 "cells": [
  {
   "cell_type": "markdown",
   "metadata": {},
   "source": [
    "# Process antibody hashtag reads and assign to cells\n",
    "(Pre-processing step for Scanpy)"
   ]
  },
  {
   "cell_type": "code",
   "execution_count": 1,
   "metadata": {},
   "outputs": [],
   "source": [
    "import numpy as np\n",
    "import pandas as pd\n",
    "import scanpy as sc\n",
    "import os\n",
    "import csv\n",
    "from pathlib import Path\n",
    "from importlib import reload\n",
    "import sys"
   ]
  },
  {
   "cell_type": "code",
   "execution_count": 2,
   "metadata": {},
   "outputs": [],
   "source": [
    "code_dir = os.getcwd()\n",
    "base_dir = code_dir.replace(\"/codes_local\",\"\")\n",
    "parent_dir = \"/\".join(base_dir.split(\"/\")[:-1])\n",
    "tools_dir = parent_dir + \"/tools\"\n",
    "\n",
    "sys.path.insert(1, tools_dir)\n",
    "import preprocess_hashtag_count as preprocess\n",
    "#reload(preprocess)"
   ]
  },
  {
   "cell_type": "code",
   "execution_count": 2,
   "metadata": {},
   "outputs": [],
   "source": [
    "wk_dir = base_dir + \"/0_cellranger_outs_XL_folder/Hashtag_count\"\n",
    "Path(wk_dir).mkdir(parents=True, exist_ok=True)\n",
    "os.chdir(wk_dir)"
   ]
  },
  {
   "cell_type": "code",
   "execution_count": 3,
   "metadata": {},
   "outputs": [
    {
     "name": "stdout",
     "output_type": "stream",
     "text": [
      "            sample  total_cell_number  negative_percentage  \\\n",
      "0  0_Acute-Chronic              18353                 0.03   \n",
      "\n",
      "   doublet_percentage  NP14B   C8P   A8P   A8T    C5P    A5P   NWT    A5T  \n",
      "0               20.45   5.37  4.89  6.55  8.66  13.49  18.41  4.32  17.82  \n"
     ]
    }
   ],
   "source": [
    "sp_name = base_dir.split(\"/\")[-1]\n",
    "\n",
    "ft_tsv = base_dir + \"/0_cellranger_outs_XL_folder/outs/filtered_feature_bc_matrix/features.tsv\"\n",
    "mtx_mtx =  base_dir + \"/0_cellranger_outs_XL_folder/outs/filtered_feature_bc_matrix/matrix.mtx\"\n",
    "\n",
    "\n",
    "preprocess.cellAbReads(sp_name, ft_tsv, mtx_mtx)\n",
    "celltypes = preprocess.cellType(sp_name, 20, 0.9)"
   ]
  },
  {
   "cell_type": "code",
   "execution_count": null,
   "metadata": {},
   "outputs": [],
   "source": []
  }
 ],
 "metadata": {
  "kernelspec": {
   "display_name": "Python 3",
   "language": "python",
   "name": "python3"
  },
  "language_info": {
   "codemirror_mode": {
    "name": "ipython",
    "version": 3
   },
   "file_extension": ".py",
   "mimetype": "text/x-python",
   "name": "python",
   "nbconvert_exporter": "python",
   "pygments_lexer": "ipython3",
   "version": "3.8.3"
  }
 },
 "nbformat": 4,
 "nbformat_minor": 2
}
