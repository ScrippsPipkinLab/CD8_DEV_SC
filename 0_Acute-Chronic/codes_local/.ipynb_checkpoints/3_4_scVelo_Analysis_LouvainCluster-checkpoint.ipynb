{
 "cells": [
  {
   "cell_type": "markdown",
   "metadata": {},
   "source": [
    "<h1 align=\"center\"><font size=\"8\"> scVelo Analysis </font></h1>\n",
    "\n",
    "> Huitian (Yolanda) Diao, March 31th 2020 <br>\n",
    "> Source: [Velocyto notebook](https://github.com/velocyto-team/velocyto-notebooks.git)\n",
    "\n",
    "\n",
    "- vlm object:\n",
    "    - Gene IDs: vlm.ra['Gene']\n",
    "    - Cell IDs: vlm.ca['CellID']"
   ]
  },
  {
   "cell_type": "code",
   "execution_count": 1,
   "metadata": {},
   "outputs": [
    {
     "data": {
      "text/html": [
       "<style>.container { width:90% !important; }</style>"
      ],
      "text/plain": [
       "<IPython.core.display.HTML object>"
      ]
     },
     "metadata": {},
     "output_type": "display_data"
    },
    {
     "name": "stdout",
     "output_type": "stream",
     "text": [
      "Running scvelo 0.2.2 (python 3.8.3) on 2020-09-15 16:00.\n"
     ]
    }
   ],
   "source": [
    "import os\n",
    "import pandas as pd\n",
    "import numpy as np\n",
    "from sklearn.manifold import TSNE\n",
    "import matplotlib.pyplot as plt\n",
    "from sklearn.neighbors import NearestNeighbors\n",
    "import copy\n",
    "import sys\n",
    "from importlib import reload\n",
    "from pathlib import Path\n",
    "\n",
    "from IPython.core.display import display, HTML\n",
    "display(HTML(\"<style>.container { width:90% !important; }</style>\"))\n",
    "\n",
    "import scvelo as scv\n",
    "scv.logging.print_version()\n",
    "\n",
    "\n",
    "scv.settings.verbosity = 3  # show errors(0), warnings(1), info(2), hints(3)\n",
    "scv.settings.set_figure_params('scvelo')  # for beautified visualization\n",
    "\n",
    "%matplotlib inline"
   ]
  },
  {
   "cell_type": "code",
   "execution_count": 2,
   "metadata": {},
   "outputs": [
    {
     "name": "stdout",
     "output_type": "stream",
     "text": [
      "0_Acute-Chronic ['4', 'LouvainCluster']\n"
     ]
    }
   ],
   "source": [
    "code_dir = os.getcwd()\n",
    "base_dir = code_dir.replace(\"/codes_local\",\"\")\n",
    "parent_dir = \"/\".join(base_dir.split(\"/\")[:-1])\n",
    "tools_dir = parent_dir + \"/tools\"\n",
    "\n",
    "sys.path.insert(1, tools_dir)\n",
    "import sc_addons\n",
    "reload(sc_addons)\n",
    "\n",
    "sp_name = base_dir.split(\"/\")[-1]\n",
    "analysis_name = [\"4\", \"LouvainCluster\"] ### Analysis name here\n",
    "\n",
    "wk_dir = base_dir + \"/2_scVelo/%s_scVelo_out_%s\"%(analysis_name[0],analysis_name[1])\n",
    "Path(wk_dir).mkdir(parents=True, exist_ok=True)\n",
    "os.chdir(wk_dir)\n",
    "\n",
    "print(sp_name, analysis_name)"
   ]
  },
  {
   "cell_type": "markdown",
   "metadata": {},
   "source": [
    "## 0. Read input"
   ]
  },
  {
   "cell_type": "code",
   "execution_count": 3,
   "metadata": {},
   "outputs": [],
   "source": [
    "adata = scv.read(base_dir + '/2_scVelo/0_scVelo_out_resampled/0_Acute-Chronic_scVelo_preNN.h5ad')"
   ]
  },
  {
   "cell_type": "code",
   "execution_count": 6,
   "metadata": {},
   "outputs": [],
   "source": [
    "obs_useCol = 'louvain'\n",
    "obs_useCol_unique = np.unique(adata.obs[obs_useCol])"
   ]
  },
  {
   "cell_type": "code",
   "execution_count": 10,
   "metadata": {},
   "outputs": [],
   "source": [
    "for i in obs_useCol_unique:\n",
    "    for j in obs_useCol_unique:\n",
    "        if i < j:\n",
    "            adata_ij = adata.copy()\n",
    "            adata_ij = adata[[x in [i,j] for x in adata.obs[obs_useCol]]]\n",
    "            \n",
    "            scv.pp.moments(adata_ij, n_pcs=30, n_neighbors=30)\n",
    "            scv.pp.neighbors(adata_ij, n_pcs=30, n_neighbors=30)\n",
    "\n",
    "            scv.tl.velocity(adata_ij)\n",
    "            scv.tl.velocity_graph(adata_ij)\n",
    "\n",
    "            scv.pl.velocity_embedding_stream(adata_ij, basis='paga', color=['louvain'], dpi=100, save=\"%s--%s_%s_stream.png\"%(obs_useCol, i,j))\n",
    "\n",
    "            scv.tl.recover_dynamics(adata_ij)\n",
    "\n",
    "            adata_ij.write('%s--%s_%s_scVelo.h5ad'%(obs_useCol, i, j), compression='gzip')\n",
    "            adata_ij.write_csvs('%s--%s_%s_scVelo'%(obs_useCol, i, j))\n",
    "            "
   ]
  },
  {
   "cell_type": "code",
   "execution_count": null,
   "metadata": {},
   "outputs": [],
   "source": []
  }
 ],
 "metadata": {
  "kernelspec": {
   "display_name": "Python 3",
   "language": "python",
   "name": "python3"
  },
  "language_info": {
   "codemirror_mode": {
    "name": "ipython",
    "version": 3
   },
   "file_extension": ".py",
   "mimetype": "text/x-python",
   "name": "python",
   "nbconvert_exporter": "python",
   "pygments_lexer": "ipython3",
   "version": "3.8.3"
  }
 },
 "nbformat": 4,
 "nbformat_minor": 4
}
