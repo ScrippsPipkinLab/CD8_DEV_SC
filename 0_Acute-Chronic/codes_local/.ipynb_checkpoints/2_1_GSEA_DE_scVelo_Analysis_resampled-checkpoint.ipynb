{
 "cells": [
  {
   "cell_type": "code",
   "execution_count": 2,
   "metadata": {},
   "outputs": [
    {
     "data": {
      "text/html": [
       "'/media/pipkin/ROCKET-PRO/CD8_DEV_SC/0_Acute-Chronic'"
      ],
      "text/latex": [
       "'/media/pipkin/ROCKET-PRO/CD8\\_DEV\\_SC/0\\_Acute-Chronic'"
      ],
      "text/markdown": [
       "'/media/pipkin/ROCKET-PRO/CD8_DEV_SC/0_Acute-Chronic'"
      ],
      "text/plain": [
       "[1] \"/media/pipkin/ROCKET-PRO/CD8_DEV_SC/0_Acute-Chronic\""
      ]
     },
     "metadata": {},
     "output_type": "display_data"
    }
   ],
   "source": [
    "##########----- Reused code -----##########\n",
    "# Last update: Sept 13, 2020\n",
    "# By: Huitian Diao\n",
    "###########################################\n",
    "\n",
    "library(stringr)\n",
    "\n",
    "code_dir <- getwd()\n",
    "tool_dir <- unlist(strsplit(code_dir,\"/\"))\n",
    "tool_dir <- head(tool_dir, length(tool_dir)-2)\n",
    "tool_dir <- paste(c(tool_dir, \"tools\"), collapse=\"/\")\n",
    "source(file.path(tool_dir, \"function_GSEA.R\"))\n",
    "base_dir <- gsub(\"/codes_local\", \"\", code_dir)\n",
    "base_dir"
   ]
  },
  {
   "cell_type": "markdown",
   "metadata": {},
   "source": [
    "## 1. GSEA analysis for each set of comparison"
   ]
  },
  {
   "cell_type": "code",
   "execution_count": 4,
   "metadata": {
    "scrolled": true
   },
   "outputs": [
    {
     "data": {
      "text/html": [
       "'/media/pipkin/ROCKET-PRO/CD8_DEV_SC/9_Figures/2_IL2RAKO_Nascent/IL2_dependent_mm_sigs.csv'"
      ],
      "text/latex": [
       "'/media/pipkin/ROCKET-PRO/CD8\\_DEV\\_SC/9\\_Figures/2\\_IL2RAKO\\_Nascent/IL2\\_dependent\\_mm\\_sigs.csv'"
      ],
      "text/markdown": [
       "'/media/pipkin/ROCKET-PRO/CD8_DEV_SC/9_Figures/2_IL2RAKO_Nascent/IL2_dependent_mm_sigs.csv'"
      ],
      "text/plain": [
       "[1] \"/media/pipkin/ROCKET-PRO/CD8_DEV_SC/9_Figures/2_IL2RAKO_Nascent/IL2_dependent_mm_sigs.csv\""
      ]
     },
     "metadata": {},
     "output_type": "display_data"
    }
   ],
   "source": [
    "##########----- Parameters-----##########\n",
    "analysis_name <- c(\"0\", \"resampled\")\n",
    "genome <- \"mm\"\n",
    "#########################################\n",
    "analysis_subdir <- '/media/pipkin/ROCKET-PRO/CD8_DEV_SC/0_Acute-Chronic/2_scVelo/0_scVelo_out_resampled/'\n",
    "sum.dir <- file.path(analysis_subdir, \"4_DE_GSEA\")\n",
    "dir.create(sum.dir, showWarnings = FALSE, recursive=TRUE)\n",
    "setwd(sum.dir)\n",
    "\n",
    "###----- Find all de files\n",
    "de.out.dir <- file.path('/media/pipkin/ROCKET-PRO/CD8_DEV_SC/0_Acute-Chronic/2_scVelo/0_scVelo_out_resampled/2_DE')\n",
    "de.files <- list.files(de.out.dir, pattern=\"*Arm-vs-Cl13_diffVelocity.csv\", full.names=TRUE,recursive=TRUE)\n",
    "use.cols <- c(\"gene_names\", \"t-test_overestim_var_logfc\", \"t-test_overestim_var_padj\")\n",
    "\n",
    "###----- Select gene signature\n",
    "gs.dir <- file.path('/media/pipkin/ROCKET-PRO/T_cell_signature_Reference/X_GeneSignatures_mm')\n",
    "gs.pattern <- paste(\"_\", genome, \"_sigs.csv\", sep=\"\")\n",
    "gs.files <- list.files(gs.dir, pattern=gs.pattern, full.names=TRUE)\n",
    "gs.files <- c('/media/pipkin/ROCKET-PRO/CD8_DEV_SC/9_Figures/2_IL2RAKO_Nascent/IL2_dependent_mm_sigs.csv') #, gs.files\n",
    "gs.files"
   ]
  },
  {
   "cell_type": "code",
   "execution_count": 5,
   "metadata": {
    "scrolled": true
   },
   "outputs": [
    {
     "name": "stderr",
     "output_type": "stream",
     "text": [
      "\n",
      "\u001b[36m──\u001b[39m \u001b[1m\u001b[1mColumn specification\u001b[1m\u001b[22m \u001b[36m────────────────────────────────────────────────────────\u001b[39m\n",
      "cols(\n",
      "  gene_names = \u001b[31mcol_character()\u001b[39m,\n",
      "  scores = \u001b[32mcol_double()\u001b[39m\n",
      ")\n",
      "\n",
      "\n",
      "Warning message:\n",
      "“Unknown columns: `gene_name`”\n"
     ]
    },
    {
     "name": "stdout",
     "output_type": "stream",
     "text": [
      "[1] 479\n"
     ]
    },
    {
     "name": "stderr",
     "output_type": "stream",
     "text": [
      "\n",
      "\u001b[36m──\u001b[39m \u001b[1m\u001b[1mColumn specification\u001b[1m\u001b[22m \u001b[36m────────────────────────────────────────────────────────\u001b[39m\n",
      "cols(\n",
      "  gs_name = \u001b[31mcol_character()\u001b[39m,\n",
      "  gene_symbol = \u001b[31mcol_character()\u001b[39m\n",
      ")\n",
      "\n",
      "\n",
      "preparing geneSet collections...\n",
      "\n",
      "calculating observed enrichment scores...\n",
      "\n",
      "calculating permutation scores...\n",
      "\n",
      "calculating p values...\n",
      "\n",
      "leading edge analysis...\n",
      "\n",
      "done...\n",
      "\n",
      "\n",
      "\u001b[36m──\u001b[39m \u001b[1m\u001b[1mColumn specification\u001b[1m\u001b[22m \u001b[36m────────────────────────────────────────────────────────\u001b[39m\n",
      "cols(\n",
      "  gene_names = \u001b[31mcol_character()\u001b[39m,\n",
      "  scores = \u001b[32mcol_double()\u001b[39m\n",
      ")\n",
      "\n",
      "\n",
      "Warning message:\n",
      "“Unknown columns: `gene_name`”\n"
     ]
    },
    {
     "name": "stdout",
     "output_type": "stream",
     "text": [
      "[1] 784\n"
     ]
    },
    {
     "name": "stderr",
     "output_type": "stream",
     "text": [
      "\n",
      "\u001b[36m──\u001b[39m \u001b[1m\u001b[1mColumn specification\u001b[1m\u001b[22m \u001b[36m────────────────────────────────────────────────────────\u001b[39m\n",
      "cols(\n",
      "  gs_name = \u001b[31mcol_character()\u001b[39m,\n",
      "  gene_symbol = \u001b[31mcol_character()\u001b[39m\n",
      ")\n",
      "\n",
      "\n",
      "preparing geneSet collections...\n",
      "\n",
      "calculating observed enrichment scores...\n",
      "\n",
      "calculating permutation scores...\n",
      "\n",
      "calculating p values...\n",
      "\n",
      "leading edge analysis...\n",
      "\n",
      "done...\n",
      "\n",
      "\n",
      "\u001b[36m──\u001b[39m \u001b[1m\u001b[1mColumn specification\u001b[1m\u001b[22m \u001b[36m────────────────────────────────────────────────────────\u001b[39m\n",
      "cols(\n",
      "  gene_names = \u001b[31mcol_character()\u001b[39m,\n",
      "  scores = \u001b[32mcol_double()\u001b[39m\n",
      ")\n",
      "\n",
      "\n",
      "Warning message:\n",
      "“Unknown columns: `gene_name`”\n"
     ]
    },
    {
     "name": "stdout",
     "output_type": "stream",
     "text": [
      "[1] 731\n"
     ]
    },
    {
     "name": "stderr",
     "output_type": "stream",
     "text": [
      "\n",
      "\u001b[36m──\u001b[39m \u001b[1m\u001b[1mColumn specification\u001b[1m\u001b[22m \u001b[36m────────────────────────────────────────────────────────\u001b[39m\n",
      "cols(\n",
      "  gs_name = \u001b[31mcol_character()\u001b[39m,\n",
      "  gene_symbol = \u001b[31mcol_character()\u001b[39m\n",
      ")\n",
      "\n",
      "\n",
      "preparing geneSet collections...\n",
      "\n",
      "calculating observed enrichment scores...\n",
      "\n",
      "calculating permutation scores...\n",
      "\n",
      "calculating p values...\n",
      "\n",
      "leading edge analysis...\n",
      "\n",
      "done...\n",
      "\n",
      "\n",
      "\u001b[36m──\u001b[39m \u001b[1m\u001b[1mColumn specification\u001b[1m\u001b[22m \u001b[36m────────────────────────────────────────────────────────\u001b[39m\n",
      "cols(\n",
      "  gene_names = \u001b[31mcol_character()\u001b[39m,\n",
      "  scores = \u001b[32mcol_double()\u001b[39m\n",
      ")\n",
      "\n",
      "\n",
      "Warning message:\n",
      "“Unknown columns: `gene_name`”\n"
     ]
    },
    {
     "name": "stdout",
     "output_type": "stream",
     "text": [
      "[1] 707\n"
     ]
    },
    {
     "name": "stderr",
     "output_type": "stream",
     "text": [
      "\n",
      "\u001b[36m──\u001b[39m \u001b[1m\u001b[1mColumn specification\u001b[1m\u001b[22m \u001b[36m────────────────────────────────────────────────────────\u001b[39m\n",
      "cols(\n",
      "  gs_name = \u001b[31mcol_character()\u001b[39m,\n",
      "  gene_symbol = \u001b[31mcol_character()\u001b[39m\n",
      ")\n",
      "\n",
      "\n",
      "preparing geneSet collections...\n",
      "\n",
      "calculating observed enrichment scores...\n",
      "\n",
      "calculating permutation scores...\n",
      "\n",
      "calculating p values...\n",
      "\n",
      "leading edge analysis...\n",
      "\n",
      "done...\n",
      "\n",
      "\n",
      "\u001b[36m──\u001b[39m \u001b[1m\u001b[1mColumn specification\u001b[1m\u001b[22m \u001b[36m────────────────────────────────────────────────────────\u001b[39m\n",
      "cols(\n",
      "  gene_names = \u001b[31mcol_character()\u001b[39m,\n",
      "  scores = \u001b[32mcol_double()\u001b[39m\n",
      ")\n",
      "\n",
      "\n",
      "Warning message:\n",
      "“Unknown columns: `gene_name`”\n"
     ]
    },
    {
     "name": "stdout",
     "output_type": "stream",
     "text": [
      "[1] 675\n"
     ]
    },
    {
     "name": "stderr",
     "output_type": "stream",
     "text": [
      "\n",
      "\u001b[36m──\u001b[39m \u001b[1m\u001b[1mColumn specification\u001b[1m\u001b[22m \u001b[36m────────────────────────────────────────────────────────\u001b[39m\n",
      "cols(\n",
      "  gs_name = \u001b[31mcol_character()\u001b[39m,\n",
      "  gene_symbol = \u001b[31mcol_character()\u001b[39m\n",
      ")\n",
      "\n",
      "\n",
      "preparing geneSet collections...\n",
      "\n",
      "calculating observed enrichment scores...\n",
      "\n",
      "calculating permutation scores...\n",
      "\n",
      "calculating p values...\n",
      "\n",
      "leading edge analysis...\n",
      "\n",
      "done...\n",
      "\n",
      "\n",
      "\u001b[36m──\u001b[39m \u001b[1m\u001b[1mColumn specification\u001b[1m\u001b[22m \u001b[36m────────────────────────────────────────────────────────\u001b[39m\n",
      "cols(\n",
      "  gene_names = \u001b[31mcol_character()\u001b[39m,\n",
      "  scores = \u001b[32mcol_double()\u001b[39m\n",
      ")\n",
      "\n",
      "\n",
      "Warning message:\n",
      "“Unknown columns: `gene_name`”\n"
     ]
    },
    {
     "name": "stdout",
     "output_type": "stream",
     "text": [
      "[1] 766\n"
     ]
    },
    {
     "name": "stderr",
     "output_type": "stream",
     "text": [
      "\n",
      "\u001b[36m──\u001b[39m \u001b[1m\u001b[1mColumn specification\u001b[1m\u001b[22m \u001b[36m────────────────────────────────────────────────────────\u001b[39m\n",
      "cols(\n",
      "  gs_name = \u001b[31mcol_character()\u001b[39m,\n",
      "  gene_symbol = \u001b[31mcol_character()\u001b[39m\n",
      ")\n",
      "\n",
      "\n",
      "preparing geneSet collections...\n",
      "\n",
      "calculating observed enrichment scores...\n",
      "\n",
      "calculating permutation scores...\n",
      "\n",
      "calculating p values...\n",
      "\n",
      "leading edge analysis...\n",
      "\n",
      "done...\n",
      "\n",
      "\n",
      "\u001b[36m──\u001b[39m \u001b[1m\u001b[1mColumn specification\u001b[1m\u001b[22m \u001b[36m────────────────────────────────────────────────────────\u001b[39m\n",
      "cols(\n",
      "  gene_names = \u001b[31mcol_character()\u001b[39m,\n",
      "  scores = \u001b[32mcol_double()\u001b[39m\n",
      ")\n",
      "\n",
      "\n",
      "Warning message:\n",
      "“Unknown columns: `gene_name`”\n"
     ]
    },
    {
     "name": "stdout",
     "output_type": "stream",
     "text": [
      "[1] 596\n"
     ]
    },
    {
     "name": "stderr",
     "output_type": "stream",
     "text": [
      "\n",
      "\u001b[36m──\u001b[39m \u001b[1m\u001b[1mColumn specification\u001b[1m\u001b[22m \u001b[36m────────────────────────────────────────────────────────\u001b[39m\n",
      "cols(\n",
      "  gs_name = \u001b[31mcol_character()\u001b[39m,\n",
      "  gene_symbol = \u001b[31mcol_character()\u001b[39m\n",
      ")\n",
      "\n",
      "\n",
      "preparing geneSet collections...\n",
      "\n",
      "calculating observed enrichment scores...\n",
      "\n",
      "calculating permutation scores...\n",
      "\n",
      "calculating p values...\n",
      "\n",
      "leading edge analysis...\n",
      "\n",
      "done...\n",
      "\n"
     ]
    }
   ],
   "source": [
    "completed.df <- data.frame()\n",
    "for (gs.file.i in c(\"file\", gs.files)) {\n",
    "    gs.file.base <- gsub(gs.pattern, \"\",basename(gs.file.i))\n",
    "    completed.df[gs.file.base] <- character(0)\n",
    "}\n",
    "completed.name <- file.path(sum.dir, \"completed.csv\")\n",
    "\n",
    "for (file.i in de.files) {\n",
    "    file.i.qc.row <- c(file.i)\n",
    "    \n",
    "    ###----- Create output names & output directory\n",
    "    file.i.outpath <- gsub(de.out.dir, \"\", file.i)\n",
    "    file.i.outpath <- gsub(\".csv\", \"\", file.i.outpath)\n",
    "    file.i.outpath <- gsub(\"^/\", \"\",file.i.outpath)\n",
    "\n",
    "    file.i.simp.name <- tail(unlist(strsplit( file.i.outpath, \"/\")), 1)\n",
    "    file.i.simp.name <- gsub(\"_diffVelocity\", \"\", file.i.simp.name)\n",
    "    file.i.simp.vec <- unlist(strsplit(file.i.simp.name, \"_vs_\"))\n",
    "\n",
    "    # Create output directory\n",
    "    file.i.dir <- file.path(sum.dir, paste(file.i.outpath, \"_sep\", sep=\"\"))\n",
    "    dir.create(file.i.dir, recursive=TRUE, showWarnings=FALSE)\n",
    "    \n",
    "    for (gs.file.i in gs.files) {\n",
    "        gs.file.base <- gsub(gs.pattern, \"\",basename(gs.file.i))\n",
    "        file.i.gs.dir <- file.path(file.i.dir, gs.file.base)\n",
    "        dir.create(file.i.gs.dir, recursive=TRUE, showWarnings=FALSE)\n",
    "        setwd(file.i.gs.dir)\n",
    "        \n",
    "        # Run GSEA analysis\n",
    "        useGroup <- \"scores\"\n",
    "        outName <- file.i.simp.name\n",
    "        \n",
    "        success <- \"yes\"\n",
    "        gsea <- tryCatch({\n",
    "            GSEA_analysis(file.i, useGroup, outName, gs.file.i, 0)\n",
    "        }, error=function(cond) {\n",
    "            message(paste(file.i, gs.file.i,sep='; '))\n",
    "            return(\"no\")\n",
    "        })\n",
    "        \n",
    "        if (!is.null(gsea)){\n",
    "            success <- \"\"\n",
    "        }\n",
    "        \n",
    "        file.i.qc.row <- c(file.i.qc.row, success)\n",
    "    }\n",
    "    \n",
    "    completed.df[nrow(completed.df) +1, ] <- file.i.qc.row\n",
    "    write.csv(completed.df, completed.name, row.names=TRUE)\n",
    "}"
   ]
  },
  {
   "cell_type": "code",
   "execution_count": null,
   "metadata": {},
   "outputs": [],
   "source": []
  }
 ],
 "metadata": {
  "kernelspec": {
   "display_name": "R",
   "language": "R",
   "name": "ir"
  },
  "language_info": {
   "codemirror_mode": "r",
   "file_extension": ".r",
   "mimetype": "text/x-r-source",
   "name": "R",
   "pygments_lexer": "r",
   "version": "3.6.3"
  }
 },
 "nbformat": 4,
 "nbformat_minor": 4
}
