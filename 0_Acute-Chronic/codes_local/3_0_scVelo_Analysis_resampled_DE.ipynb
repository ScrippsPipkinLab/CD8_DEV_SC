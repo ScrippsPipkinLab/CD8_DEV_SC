{
 "cells": [
  {
   "cell_type": "markdown",
   "metadata": {},
   "source": [
    "<h1 align=\"center\"><font size=\"8\"> scVelo Analysis </font></h1>\n",
    "\n",
    "> Huitian (Yolanda) Diao, Sept. 14 2020 <br>\n",
    "> Source: [Velocyto notebook](https://github.com/velocyto-team/velocyto-notebooks.git)\n",
    "\n",
    "\n",
    "- vlm object:\n",
    "    - Gene IDs: vlm.ra['Gene']\n",
    "    - Cell IDs: vlm.ca['CellID']"
   ]
  },
  {
   "cell_type": "code",
   "execution_count": 1,
   "metadata": {},
   "outputs": [
    {
     "data": {
      "text/html": [
       "<style>.container { width:90% !important; }</style>"
      ],
      "text/plain": [
       "<IPython.core.display.HTML object>"
      ]
     },
     "metadata": {},
     "output_type": "display_data"
    },
    {
     "name": "stdout",
     "output_type": "stream",
     "text": [
      "Running scvelo 0.2.2 (python 3.8.3) on 2021-02-19 11:54.\n"
     ]
    }
   ],
   "source": [
    "import os\n",
    "import pandas as pd\n",
    "import numpy as np\n",
    "from sklearn.manifold import TSNE\n",
    "import matplotlib.pyplot as plt\n",
    "from sklearn.neighbors import NearestNeighbors\n",
    "import copy\n",
    "import sys\n",
    "from importlib import reload\n",
    "from pathlib import Path\n",
    "\n",
    "from IPython.core.display import display, HTML\n",
    "display(HTML(\"<style>.container { width:90% !important; }</style>\"))\n",
    "\n",
    "import scvelo as scv\n",
    "scv.logging.print_version()\n",
    "\n",
    "\n",
    "scv.settings.verbosity = 3  # show errors(0), warnings(1), info(2), hints(3)\n",
    "scv.settings.set_figure_params('scvelo')  # for beautified visualization\n",
    "\n",
    "%matplotlib inline"
   ]
  },
  {
   "cell_type": "code",
   "execution_count": 2,
   "metadata": {},
   "outputs": [
    {
     "name": "stdout",
     "output_type": "stream",
     "text": [
      "0_Acute-Chronic ['0', 'resampled']\n"
     ]
    }
   ],
   "source": [
    "code_dir = os.getcwd()\n",
    "base_dir = code_dir.replace(\"/codes_local\",\"\")\n",
    "parent_dir = \"/\".join(base_dir.split(\"/\")[:-1])\n",
    "tools_dir = parent_dir + \"/tools\"\n",
    "\n",
    "sys.path.insert(1, tools_dir)\n",
    "import sc_addons\n",
    "reload(sc_addons)\n",
    "\n",
    "sp_name = base_dir.split(\"/\")[-1]\n",
    "analysis_name = [\"0\", \"resampled\"]\n",
    "\n",
    "wk_dir = base_dir + \"/2_scVelo/%s_scVelo_out_%s\"%(analysis_name[0],analysis_name[1])\n",
    "Path(wk_dir).mkdir(parents=True, exist_ok=True)\n",
    "os.chdir(wk_dir)\n",
    "\n",
    "print(sp_name, analysis_name)"
   ]
  },
  {
   "cell_type": "code",
   "execution_count": 3,
   "metadata": {},
   "outputs": [],
   "source": [
    "de_dir = wk_dir + '/2_DE'\n",
    "Path(de_dir).mkdir(parents=True, exist_ok=True)"
   ]
  },
  {
   "cell_type": "markdown",
   "metadata": {},
   "source": [
    "## Read input"
   ]
  },
  {
   "cell_type": "code",
   "execution_count": 5,
   "metadata": {},
   "outputs": [
    {
     "data": {
      "text/plain": [
       "9043"
      ]
     },
     "execution_count": 5,
     "metadata": {},
     "output_type": "execute_result"
    }
   ],
   "source": [
    "adata = scv.read('%s_scVelo_postPT.h5ad'%sp_name, compression='gzip')\n",
    "adata.obs['cell_type_general'] = [x[0] for x in adata.obs['cell_type']]\n",
    "adata.obs['cell_type_general'] = adata.obs['cell_type_general'].astype('category')\n",
    "adata_act = adata[adata.obs['cell_type_general'] != \"N\"]\n",
    "\n",
    "gene_n = len(adata.var)\n",
    "gene_n"
   ]
  },
  {
   "cell_type": "markdown",
   "metadata": {},
   "source": [
    "### Per Cluster Arm v.s. Cl13"
   ]
  },
  {
   "cell_type": "markdown",
   "metadata": {},
   "source": [
    "*Velocity*"
   ]
  },
  {
   "cell_type": "code",
   "execution_count": 52,
   "metadata": {},
   "outputs": [
    {
     "name": "stdout",
     "output_type": "stream",
     "text": [
      "ranking velocity genes\n"
     ]
    },
    {
     "name": "stderr",
     "output_type": "stream",
     "text": [
      "Trying to set attribute `.var` of view, copying.\n"
     ]
    },
    {
     "name": "stdout",
     "output_type": "stream",
     "text": [
      "    finished (0:00:02) --> added \n",
      "    'rank_velocity_genes', sorted scores by group ids (adata.uns) \n",
      "    'spearmans_score', spearmans correlation scores (adata.var)\n",
      "ranking velocity genes\n"
     ]
    },
    {
     "name": "stderr",
     "output_type": "stream",
     "text": [
      "Trying to set attribute `.var` of view, copying.\n"
     ]
    },
    {
     "name": "stdout",
     "output_type": "stream",
     "text": [
      "    finished (0:00:02) --> added \n",
      "    'rank_velocity_genes', sorted scores by group ids (adata.uns) \n",
      "    'spearmans_score', spearmans correlation scores (adata.var)\n",
      "ranking velocity genes\n"
     ]
    },
    {
     "name": "stderr",
     "output_type": "stream",
     "text": [
      "Trying to set attribute `.var` of view, copying.\n"
     ]
    },
    {
     "name": "stdout",
     "output_type": "stream",
     "text": [
      "    finished (0:00:01) --> added \n",
      "    'rank_velocity_genes', sorted scores by group ids (adata.uns) \n",
      "    'spearmans_score', spearmans correlation scores (adata.var)\n",
      "ranking velocity genes\n"
     ]
    },
    {
     "name": "stderr",
     "output_type": "stream",
     "text": [
      "Trying to set attribute `.var` of view, copying.\n"
     ]
    },
    {
     "name": "stdout",
     "output_type": "stream",
     "text": [
      "    finished (0:00:02) --> added \n",
      "    'rank_velocity_genes', sorted scores by group ids (adata.uns) \n",
      "    'spearmans_score', spearmans correlation scores (adata.var)\n",
      "ranking velocity genes\n"
     ]
    },
    {
     "name": "stderr",
     "output_type": "stream",
     "text": [
      "Trying to set attribute `.var` of view, copying.\n"
     ]
    },
    {
     "name": "stdout",
     "output_type": "stream",
     "text": [
      "    finished (0:00:02) --> added \n",
      "    'rank_velocity_genes', sorted scores by group ids (adata.uns) \n",
      "    'spearmans_score', spearmans correlation scores (adata.var)\n",
      "ranking velocity genes\n"
     ]
    },
    {
     "name": "stderr",
     "output_type": "stream",
     "text": [
      "Trying to set attribute `.var` of view, copying.\n"
     ]
    },
    {
     "name": "stdout",
     "output_type": "stream",
     "text": [
      "    finished (0:00:01) --> added \n",
      "    'rank_velocity_genes', sorted scores by group ids (adata.uns) \n",
      "    'spearmans_score', spearmans correlation scores (adata.var)\n",
      "ranking velocity genes\n"
     ]
    },
    {
     "name": "stderr",
     "output_type": "stream",
     "text": [
      "Trying to set attribute `.var` of view, copying.\n"
     ]
    },
    {
     "name": "stdout",
     "output_type": "stream",
     "text": [
      "    finished (0:00:01) --> added \n",
      "    'rank_velocity_genes', sorted scores by group ids (adata.uns) \n",
      "    'spearmans_score', spearmans correlation scores (adata.var)\n"
     ]
    }
   ],
   "source": [
    "louvain_unique = np.unique(adata.obs['louvain'])\n",
    "for i in louvain_unique:\n",
    "    adata_i = adata_act.copy()\n",
    "    adata_i = adata_i[adata_i.obs['louvain'] == i]\n",
    "    \n",
    "    types_sum_i = adata_i.obs.groupby('cell_type_general').count()\n",
    "    types_count_i = list(types_sum_i.iloc[:,1])\n",
    "    if  len(types_count_i) > 1 and min(types_count_i) > 10:\n",
    "        scv.tl.rank_velocity_genes(adata_i, n_genes=gene_n, groupby=\"cell_type_general\")\n",
    "        gn_df = pd.DataFrame(adata_i.uns['rank_velocity_genes']['names'])\n",
    "        score_df = pd.DataFrame(adata_i.uns['rank_velocity_genes']['scores'])\n",
    "\n",
    "        a_df = pd.DataFrame({'gene_names': gn_df['A'].tolist(), 'scores': score_df['A'].tolist()})\n",
    "        c_df = pd.DataFrame({'gene_names': gn_df['C'].tolist(), 'scores': score_df['C'].tolist()})\n",
    "\n",
    "        a_df.to_csv(\"%s/%s_Arm-vs-Cl13_diffVelocity.csv\"%(de_dir, i), index=False)\n",
    "        c_df.to_csv(\"%s/%s_Cl13-vs-Arm_diffVelocity.csv\"%(de_dir, i), index=False)"
   ]
  },
  {
   "cell_type": "markdown",
   "metadata": {},
   "source": [
    "*Unspliced*"
   ]
  },
  {
   "cell_type": "code",
   "execution_count": 41,
   "metadata": {},
   "outputs": [
    {
     "name": "stdout",
     "output_type": "stream",
     "text": [
      "ranking velocity genes\n"
     ]
    },
    {
     "name": "stderr",
     "output_type": "stream",
     "text": [
      "Trying to set attribute `.var` of view, copying.\n"
     ]
    },
    {
     "name": "stdout",
     "output_type": "stream",
     "text": [
      "    finished (0:00:04) --> added \n",
      "    'rank_velocity_genes', sorted scores by group ids (adata.uns) \n",
      "    'spearmans_score', spearmans correlation scores (adata.var)\n",
      "ranking velocity genes\n"
     ]
    },
    {
     "name": "stderr",
     "output_type": "stream",
     "text": [
      "Trying to set attribute `.var` of view, copying.\n"
     ]
    },
    {
     "name": "stdout",
     "output_type": "stream",
     "text": [
      "    finished (0:00:04) --> added \n",
      "    'rank_velocity_genes', sorted scores by group ids (adata.uns) \n",
      "    'spearmans_score', spearmans correlation scores (adata.var)\n",
      "ranking velocity genes\n"
     ]
    },
    {
     "name": "stderr",
     "output_type": "stream",
     "text": [
      "Trying to set attribute `.var` of view, copying.\n"
     ]
    },
    {
     "name": "stdout",
     "output_type": "stream",
     "text": [
      "    finished (0:00:02) --> added \n",
      "    'rank_velocity_genes', sorted scores by group ids (adata.uns) \n",
      "    'spearmans_score', spearmans correlation scores (adata.var)\n",
      "ranking velocity genes\n"
     ]
    },
    {
     "name": "stderr",
     "output_type": "stream",
     "text": [
      "Trying to set attribute `.var` of view, copying.\n"
     ]
    },
    {
     "name": "stdout",
     "output_type": "stream",
     "text": [
      "    finished (0:00:03) --> added \n",
      "    'rank_velocity_genes', sorted scores by group ids (adata.uns) \n",
      "    'spearmans_score', spearmans correlation scores (adata.var)\n",
      "ranking velocity genes\n"
     ]
    },
    {
     "name": "stderr",
     "output_type": "stream",
     "text": [
      "Trying to set attribute `.var` of view, copying.\n"
     ]
    },
    {
     "name": "stdout",
     "output_type": "stream",
     "text": [
      "    finished (0:00:03) --> added \n",
      "    'rank_velocity_genes', sorted scores by group ids (adata.uns) \n",
      "    'spearmans_score', spearmans correlation scores (adata.var)\n",
      "ranking velocity genes\n"
     ]
    },
    {
     "name": "stderr",
     "output_type": "stream",
     "text": [
      "Trying to set attribute `.var` of view, copying.\n"
     ]
    },
    {
     "name": "stdout",
     "output_type": "stream",
     "text": [
      "    finished (0:00:03) --> added \n",
      "    'rank_velocity_genes', sorted scores by group ids (adata.uns) \n",
      "    'spearmans_score', spearmans correlation scores (adata.var)\n",
      "ranking velocity genes\n"
     ]
    },
    {
     "name": "stderr",
     "output_type": "stream",
     "text": [
      "Trying to set attribute `.var` of view, copying.\n"
     ]
    },
    {
     "name": "stdout",
     "output_type": "stream",
     "text": [
      "    finished (0:00:02) --> added \n",
      "    'rank_velocity_genes', sorted scores by group ids (adata.uns) \n",
      "    'spearmans_score', spearmans correlation scores (adata.var)\n"
     ]
    }
   ],
   "source": [
    "louvain_unique = np.unique(adata.obs['louvain'])\n",
    "for i in louvain_unique:\n",
    "    adata_i = adata_act.copy()\n",
    "    adata_i = adata_i[adata_i.obs['louvain'] == i]\n",
    "    \n",
    "    types_sum_i = adata_i.obs.groupby('cell_type_general').count()\n",
    "    types_count_i = list(types_sum_i.iloc[:,1])\n",
    "    if  len(types_count_i) > 1 and min(types_count_i) > 10:\n",
    "        scv.tl.rank_velocity_genes(adata_i, n_genes=gene_n, groupby=\"cell_type_general\", vkey='Mu')\n",
    "        gn_df = pd.DataFrame(adata_i.uns['rank_velocity_genes']['names'])\n",
    "        score_df = pd.DataFrame(adata_i.uns['rank_velocity_genes']['scores'])\n",
    "\n",
    "        a_df = pd.DataFrame({'gene_names': gn_df['A'].tolist(), 'scores': score_df['A'].tolist()})\n",
    "        c_df = pd.DataFrame({'gene_names': gn_df['C'].tolist(), 'scores': score_df['C'].tolist()})\n",
    "\n",
    "        a_df.to_csv(\"%s/%s_Arm-vs-Cl13_diffMu.csv\"%(de_dir, i), index=False)\n",
    "        c_df.to_csv(\"%s/%s_Cl13-vs-Arm_diffMu.csv\"%(de_dir, i), index=False)"
   ]
  },
  {
   "cell_type": "markdown",
   "metadata": {},
   "source": [
    "*Spliced*"
   ]
  },
  {
   "cell_type": "code",
   "execution_count": 42,
   "metadata": {},
   "outputs": [
    {
     "name": "stdout",
     "output_type": "stream",
     "text": [
      "ranking velocity genes\n"
     ]
    },
    {
     "name": "stderr",
     "output_type": "stream",
     "text": [
      "Trying to set attribute `.var` of view, copying.\n"
     ]
    },
    {
     "name": "stdout",
     "output_type": "stream",
     "text": [
      "    finished (0:00:03) --> added \n",
      "    'rank_velocity_genes', sorted scores by group ids (adata.uns) \n",
      "    'spearmans_score', spearmans correlation scores (adata.var)\n",
      "ranking velocity genes\n"
     ]
    },
    {
     "name": "stderr",
     "output_type": "stream",
     "text": [
      "Trying to set attribute `.var` of view, copying.\n"
     ]
    },
    {
     "name": "stdout",
     "output_type": "stream",
     "text": [
      "    finished (0:00:02) --> added \n",
      "    'rank_velocity_genes', sorted scores by group ids (adata.uns) \n",
      "    'spearmans_score', spearmans correlation scores (adata.var)\n",
      "ranking velocity genes\n"
     ]
    },
    {
     "name": "stderr",
     "output_type": "stream",
     "text": [
      "Trying to set attribute `.var` of view, copying.\n"
     ]
    },
    {
     "name": "stdout",
     "output_type": "stream",
     "text": [
      "    finished (0:00:01) --> added \n",
      "    'rank_velocity_genes', sorted scores by group ids (adata.uns) \n",
      "    'spearmans_score', spearmans correlation scores (adata.var)\n",
      "ranking velocity genes\n"
     ]
    },
    {
     "name": "stderr",
     "output_type": "stream",
     "text": [
      "Trying to set attribute `.var` of view, copying.\n"
     ]
    },
    {
     "name": "stdout",
     "output_type": "stream",
     "text": [
      "    finished (0:00:02) --> added \n",
      "    'rank_velocity_genes', sorted scores by group ids (adata.uns) \n",
      "    'spearmans_score', spearmans correlation scores (adata.var)\n",
      "ranking velocity genes\n"
     ]
    },
    {
     "name": "stderr",
     "output_type": "stream",
     "text": [
      "Trying to set attribute `.var` of view, copying.\n"
     ]
    },
    {
     "name": "stdout",
     "output_type": "stream",
     "text": [
      "    finished (0:00:02) --> added \n",
      "    'rank_velocity_genes', sorted scores by group ids (adata.uns) \n",
      "    'spearmans_score', spearmans correlation scores (adata.var)\n",
      "ranking velocity genes\n"
     ]
    },
    {
     "name": "stderr",
     "output_type": "stream",
     "text": [
      "Trying to set attribute `.var` of view, copying.\n"
     ]
    },
    {
     "name": "stdout",
     "output_type": "stream",
     "text": [
      "    finished (0:00:01) --> added \n",
      "    'rank_velocity_genes', sorted scores by group ids (adata.uns) \n",
      "    'spearmans_score', spearmans correlation scores (adata.var)\n",
      "ranking velocity genes\n"
     ]
    },
    {
     "name": "stderr",
     "output_type": "stream",
     "text": [
      "Trying to set attribute `.var` of view, copying.\n"
     ]
    },
    {
     "name": "stdout",
     "output_type": "stream",
     "text": [
      "    finished (0:00:04) --> added \n",
      "    'rank_velocity_genes', sorted scores by group ids (adata.uns) \n",
      "    'spearmans_score', spearmans correlation scores (adata.var)\n"
     ]
    }
   ],
   "source": [
    "louvain_unique = np.unique(adata.obs['louvain'])\n",
    "for i in louvain_unique:\n",
    "    adata_i = adata_act.copy()\n",
    "    adata_i = adata_i[adata_i.obs['louvain'] == i]\n",
    "    \n",
    "    types_sum_i = adata_i.obs.groupby('cell_type_general').count()\n",
    "    types_count_i = list(types_sum_i.iloc[:,1])\n",
    "    if  len(types_count_i) > 1 and min(types_count_i) > 10:\n",
    "        scv.tl.rank_velocity_genes(adata_i, n_genes=gene_n, groupby=\"cell_type_general\", vkey='Ms')\n",
    "        gn_df = pd.DataFrame(adata_i.uns['rank_velocity_genes']['names'])\n",
    "        score_df = pd.DataFrame(adata_i.uns['rank_velocity_genes']['scores'])\n",
    "\n",
    "        a_df = pd.DataFrame({'gene_names': gn_df['A'].tolist(), 'scores': score_df['A'].tolist()})\n",
    "        c_df = pd.DataFrame({'gene_names': gn_df['C'].tolist(), 'scores': score_df['C'].tolist()})\n",
    "\n",
    "        a_df.to_csv(\"%s/%s_Arm-vs-Cl13_diffMs.csv\"%(de_dir, i), index=False)\n",
    "        c_df.to_csv(\"%s/%s_Cl13-vs-Arm_diffMs.csv\"%(de_dir, i), index=False)"
   ]
  },
  {
   "cell_type": "code",
   "execution_count": null,
   "metadata": {},
   "outputs": [],
   "source": []
  }
 ],
 "metadata": {
  "kernelspec": {
   "display_name": "Python 3",
   "language": "python",
   "name": "python3"
  },
  "language_info": {
   "codemirror_mode": {
    "name": "ipython",
    "version": 3
   },
   "file_extension": ".py",
   "mimetype": "text/x-python",
   "name": "python",
   "nbconvert_exporter": "python",
   "pygments_lexer": "ipython3",
   "version": "3.8.3"
  }
 },
 "nbformat": 4,
 "nbformat_minor": 4
}
