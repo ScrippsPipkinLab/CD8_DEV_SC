{
 "cells": [
  {
   "cell_type": "code",
   "execution_count": 65,
   "metadata": {},
   "outputs": [],
   "source": [
    "import os\n",
    "import pandas as pd\n",
    "import numpy as np"
   ]
  },
  {
   "cell_type": "code",
   "execution_count": 152,
   "metadata": {},
   "outputs": [],
   "source": [
    "wkdir = '/media/pipkin/Yolanda/Exp391_Acute-Chronic_SC/3_Scribe'\n",
    "os.chdir(wkdir)"
   ]
  },
  {
   "cell_type": "markdown",
   "metadata": {},
   "source": [
    "### Read TF list from reference articles"
   ]
  },
  {
   "cell_type": "code",
   "execution_count": 133,
   "metadata": {
    "scrolled": true
   },
   "outputs": [
    {
     "data": {
      "text/plain": [
       "['mafa',\n",
       " 'bcl6',\n",
       " 'oct',\n",
       " 'batf',\n",
       " 'gsc',\n",
       " 'fosl2',\n",
       " 'rfx',\n",
       " 'halfsite',\n",
       " 'ap1',\n",
       " 'etv2']"
      ]
     },
     "execution_count": 133,
     "metadata": {},
     "output_type": "execute_result"
    }
   ],
   "source": [
    "tstem_mtf_file = '/media/pipkin/Yolanda/Exp391_Acute-Chronic_SC/z_References/Tstem_PNAS/Motifs.csv'\n",
    "runx3_mtf_file = '/media/pipkin/Yolanda/Exp391_Acute-Chronic_SC/z_References/Runx3_Immunity/TopMotifs.csv'\n",
    "tstem_mtf_df = pd.read_csv(tstem_mtf_file)\n",
    "runx3_mtf_df = pd.read_csv(runx3_mtf_file)\n",
    "\n",
    "tstem_mtfs = [x.split(\"(\")[0] for x in tstem_mtf_df['Motif']]\n",
    "runx3_mtfs = [x.split(\"(\")[0] for x in runx3_mtf_df['Motif']]\n",
    "\n",
    "all_mtfs = list(set(tstem_mtfs + runx3_mtfs))\n",
    "all_mtfs = [x.split(\") \")[-1] for x in all_mtfs]\n",
    "all_mtfs = \"|\".join(all_mtfs).replace(\"−\", \"|\").replace(\"-\", \"|\").replace(\":\", \"|\").lower()\n",
    "all_mtfs = list(set(all_mtfs.split(\"|\")))\n",
    "\n",
    "all_mtfs[:10]"
   ]
  },
  {
   "cell_type": "markdown",
   "metadata": {},
   "source": [
    "## Read TF class database info"
   ]
  },
  {
   "cell_type": "code",
   "execution_count": 131,
   "metadata": {},
   "outputs": [],
   "source": [
    "tfclass_db = \"https://raw.githubusercontent.com/Yolanda-HT/TFclassDataCollection/master/MouseTFclassification_noISO_gn_alt.csv\"\n",
    "tfclass_df = pd.read_csv(tfclass_db)\n",
    "tfclass_df.head()\n",
    "\n",
    "###----- Build consensus motif dataframe\n",
    "isMotifs = [True if str(x) != 'nan' else False for x in tfclass_df['ConsensusMotif'].values]\n",
    "motifs_df = tfclass_df[isMotifs]\n",
    "\n",
    "###----- Remove all the redudant consensus motifs\n",
    "index_all = \"|\".join(motifs_df['Index'])\n",
    "nonredundant_index = [False if \"%s.\"%x in index_all else True for x in motifs_df['Index'].values]\n",
    "motifs_df = motifs_df[nonredundant_index]\n",
    "\n",
    "###----- Find all gene names associated with a certain motif\n",
    "motifs_df_gnames = list(motifs_df['Names'])\n",
    "motifs_df_indexes = list(motifs_df['Index'])\n",
    "tfclass_df_indexes = list(tfclass_df['Index'])\n",
    "gnames = []\n",
    "for row_i in range(0, len(motifs_df)):\n",
    "    gname_i = []\n",
    "    index_i = motifs_df_indexes[row_i]\n",
    "    if str(motifs_df_gnames[row_i]) != 'nan':\n",
    "        gname_i.append(motifs_df_gnames[row_i])\n",
    "    use_idx = [True if x.startswith(\"%s.\"%index_i) else False for x in tfclass_df_indexes ]\n",
    "    row_i_df = tfclass_df[use_idx]\n",
    "    row_i_df_gn = [True if str(x) != 'nan' else False for x in row_i_df['Names']]\n",
    "    row_i_df = row_i_df[row_i_df_gn]\n",
    "    if len(row_i_df) > 0:\n",
    "        gname_i += \", \".join(row_i_df['Names']).split(\", \")\n",
    "        gnames.append(gname_i)\n",
    "    else:\n",
    "        gnames.append([])\n",
    "gnames = [\"|\".join(x) for x in gnames]\n",
    "motifs_df['Names'] = gnames"
   ]
  },
  {
   "cell_type": "code",
   "execution_count": 142,
   "metadata": {},
   "outputs": [],
   "source": [
    "###----- Find all tf names with same consensus motifs as tfs in the list\n",
    "alternative_tfs = [x for x in motifs_df['Names'].values if np.any(np.in1d(np.array(x.split(\"|\")), np.array(all_mtfs)))]"
   ]
  },
  {
   "cell_type": "markdown",
   "metadata": {},
   "source": [
    "## Generate gene list"
   ]
  },
  {
   "cell_type": "code",
   "execution_count": 153,
   "metadata": {},
   "outputs": [],
   "source": [
    "all_genes = all_mtfs + \"|\".join(alternative_tfs).split(\"|\")\n",
    "all_genes = list(set(all_genes))\n",
    "all_genes = [x.capitalize() for x in all_genes]\n",
    "all_genes_df = pd.DataFrame({\"gene_name\": all_genes})\n",
    "all_genes_df.to_csv(\"use_TF_list.csv\")"
   ]
  },
  {
   "cell_type": "code",
   "execution_count": null,
   "metadata": {},
   "outputs": [],
   "source": []
  },
  {
   "cell_type": "code",
   "execution_count": null,
   "metadata": {},
   "outputs": [],
   "source": []
  },
  {
   "cell_type": "code",
   "execution_count": null,
   "metadata": {},
   "outputs": [],
   "source": []
  },
  {
   "cell_type": "code",
   "execution_count": null,
   "metadata": {},
   "outputs": [],
   "source": []
  },
  {
   "cell_type": "code",
   "execution_count": null,
   "metadata": {},
   "outputs": [],
   "source": []
  },
  {
   "cell_type": "code",
   "execution_count": null,
   "metadata": {},
   "outputs": [],
   "source": []
  },
  {
   "cell_type": "code",
   "execution_count": null,
   "metadata": {},
   "outputs": [],
   "source": []
  }
 ],
 "metadata": {
  "kernelspec": {
   "display_name": "Python 3",
   "language": "python",
   "name": "python3"
  },
  "language_info": {
   "codemirror_mode": {
    "name": "ipython",
    "version": 3
   },
   "file_extension": ".py",
   "mimetype": "text/x-python",
   "name": "python",
   "nbconvert_exporter": "python",
   "pygments_lexer": "ipython3",
   "version": "3.7.6"
  }
 },
 "nbformat": 4,
 "nbformat_minor": 4
}
