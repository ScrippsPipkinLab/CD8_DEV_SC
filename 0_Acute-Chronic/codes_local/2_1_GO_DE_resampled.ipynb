{
 "cells": [
  {
   "cell_type": "code",
   "execution_count": 2,
   "metadata": {},
   "outputs": [
    {
     "data": {
      "text/html": [
       "'/media/pipkin/ROCKET-PRO/CD8_DEV_SC/0_Acute-Chronic'"
      ],
      "text/latex": [
       "'/media/pipkin/ROCKET-PRO/CD8\\_DEV\\_SC/0\\_Acute-Chronic'"
      ],
      "text/markdown": [
       "'/media/pipkin/ROCKET-PRO/CD8_DEV_SC/0_Acute-Chronic'"
      ],
      "text/plain": [
       "[1] \"/media/pipkin/ROCKET-PRO/CD8_DEV_SC/0_Acute-Chronic\""
      ]
     },
     "metadata": {},
     "output_type": "display_data"
    }
   ],
   "source": [
    "##########----- Reused code -----##########\n",
    "# Last update: Sept 13, 2020\n",
    "# By: Huitian Diao\n",
    "###########################################\n",
    "\n",
    "library(stringr)\n",
    "\n",
    "code_dir <- getwd()\n",
    "tool_dir <- unlist(strsplit(code_dir,\"/\"))\n",
    "tool_dir <- head(tool_dir, length(tool_dir)-2)\n",
    "tool_dir <- paste(c(tool_dir, \"tools\"), collapse=\"/\")\n",
    "source(file.path(tool_dir, \"function_GSEA.R\"))\n",
    "base_dir <- gsub(\"/codes_local\", \"\", code_dir)\n",
    "base_dir"
   ]
  },
  {
   "cell_type": "markdown",
   "metadata": {},
   "source": [
    "## 1. GSEA analysis for each set of comparison"
   ]
  },
  {
   "cell_type": "code",
   "execution_count": 3,
   "metadata": {
    "scrolled": true
   },
   "outputs": [],
   "source": [
    "##########----- Parameters-----##########\n",
    "analysis_name <- c(\"0\", \"resampled\")\n",
    "genome <- \"mm\"\n",
    "#########################################\n",
    "analysis_subdir <- paste(analysis_name[1], \"Scanpy_out\", analysis_name[2], sep=\"_\")\n",
    "sum.dir <- file.path(base_dir, '1_Scanpy', analysis_subdir, \"4_DE_GO\")\n",
    "dir.create(sum.dir, showWarnings = FALSE, recursive=TRUE)\n",
    "setwd(sum.dir)\n",
    "\n",
    "###----- Find all de files\n",
    "de.out.dir <- file.path(base_dir, '1_Scanpy', analysis_subdir, \"2_DE\")\n",
    "de.files <- list.files(de.out.dir, pattern=\"*differential.csv\", full.names=TRUE,recursive=TRUE)\n",
    "\n",
    "use.cols <- c(\"gene_names\", \"t-test_overestim_var_logfc\", \"t-test_overestim_var_padj\")"
   ]
  },
  {
   "cell_type": "code",
   "execution_count": 5,
   "metadata": {
    "scrolled": true
   },
   "outputs": [
    {
     "name": "stderr",
     "output_type": "stream",
     "text": [
      "Parsed with column specification:\n",
      "cols(\n",
      "  gene_names = \u001b[31mcol_character()\u001b[39m,\n",
      "  A = \u001b[32mcol_double()\u001b[39m,\n",
      "  C = \u001b[32mcol_double()\u001b[39m,\n",
      "  wilcoxon_logfc = \u001b[32mcol_double()\u001b[39m,\n",
      "  wilcoxon_padj = \u001b[32mcol_double()\u001b[39m,\n",
      "  wilcoxon_score = \u001b[32mcol_double()\u001b[39m,\n",
      "  `t-test_logfc` = \u001b[32mcol_double()\u001b[39m,\n",
      "  `t-test_padj` = \u001b[32mcol_double()\u001b[39m,\n",
      "  `t-test_score` = \u001b[32mcol_double()\u001b[39m,\n",
      "  `t-test_overestim_var_logfc` = \u001b[32mcol_double()\u001b[39m,\n",
      "  `t-test_overestim_var_padj` = \u001b[32mcol_double()\u001b[39m,\n",
      "  `t-test_overestim_var_score` = \u001b[32mcol_double()\u001b[39m\n",
      ")\n",
      "\n",
      "Warning message:\n",
      "“Unknown columns: `gene_name`”\n"
     ]
    },
    {
     "name": "stdout",
     "output_type": "stream",
     "text": [
      "[1] \"A_vs_C    Gene number: 1493\"\n"
     ]
    },
    {
     "name": "stderr",
     "output_type": "stream",
     "text": [
      "'select()' returned 1:many mapping between keys and columns\n",
      "\n",
      "Parsed with column specification:\n",
      "cols(\n",
      "  gene_names = \u001b[31mcol_character()\u001b[39m,\n",
      "  A = \u001b[32mcol_double()\u001b[39m,\n",
      "  N = \u001b[32mcol_double()\u001b[39m,\n",
      "  wilcoxon_logfc = \u001b[32mcol_double()\u001b[39m,\n",
      "  wilcoxon_padj = \u001b[32mcol_double()\u001b[39m,\n",
      "  wilcoxon_score = \u001b[32mcol_double()\u001b[39m,\n",
      "  `t-test_logfc` = \u001b[32mcol_double()\u001b[39m,\n",
      "  `t-test_padj` = \u001b[32mcol_double()\u001b[39m,\n",
      "  `t-test_score` = \u001b[32mcol_double()\u001b[39m,\n",
      "  `t-test_overestim_var_logfc` = \u001b[32mcol_double()\u001b[39m,\n",
      "  `t-test_overestim_var_padj` = \u001b[32mcol_double()\u001b[39m,\n",
      "  `t-test_overestim_var_score` = \u001b[32mcol_double()\u001b[39m\n",
      ")\n",
      "\n",
      "Warning message:\n",
      "“Unknown columns: `gene_name`”\n"
     ]
    },
    {
     "name": "stdout",
     "output_type": "stream",
     "text": [
      "[1] \"A_vs_N    Gene number: 4720\"\n"
     ]
    },
    {
     "name": "stderr",
     "output_type": "stream",
     "text": [
      "'select()' returned 1:many mapping between keys and columns\n",
      "\n",
      "Parsed with column specification:\n",
      "cols(\n",
      "  gene_names = \u001b[31mcol_character()\u001b[39m,\n",
      "  A = \u001b[32mcol_double()\u001b[39m,\n",
      "  C = \u001b[32mcol_double()\u001b[39m,\n",
      "  wilcoxon_logfc = \u001b[32mcol_double()\u001b[39m,\n",
      "  wilcoxon_padj = \u001b[32mcol_double()\u001b[39m,\n",
      "  wilcoxon_score = \u001b[32mcol_double()\u001b[39m,\n",
      "  `t-test_logfc` = \u001b[32mcol_double()\u001b[39m,\n",
      "  `t-test_padj` = \u001b[32mcol_double()\u001b[39m,\n",
      "  `t-test_score` = \u001b[32mcol_double()\u001b[39m,\n",
      "  `t-test_overestim_var_logfc` = \u001b[32mcol_double()\u001b[39m,\n",
      "  `t-test_overestim_var_padj` = \u001b[32mcol_double()\u001b[39m,\n",
      "  `t-test_overestim_var_score` = \u001b[32mcol_double()\u001b[39m\n",
      ")\n",
      "\n",
      "Warning message:\n",
      "“Unknown columns: `gene_name`”\n"
     ]
    },
    {
     "name": "stdout",
     "output_type": "stream",
     "text": [
      "[1] \"C_vs_A    Gene number: 1210\"\n"
     ]
    },
    {
     "name": "stderr",
     "output_type": "stream",
     "text": [
      "'select()' returned 1:many mapping between keys and columns\n",
      "\n",
      "Parsed with column specification:\n",
      "cols(\n",
      "  gene_names = \u001b[31mcol_character()\u001b[39m,\n",
      "  C = \u001b[32mcol_double()\u001b[39m,\n",
      "  N = \u001b[32mcol_double()\u001b[39m,\n",
      "  wilcoxon_logfc = \u001b[32mcol_double()\u001b[39m,\n",
      "  wilcoxon_padj = \u001b[32mcol_double()\u001b[39m,\n",
      "  wilcoxon_score = \u001b[32mcol_double()\u001b[39m,\n",
      "  `t-test_logfc` = \u001b[32mcol_double()\u001b[39m,\n",
      "  `t-test_padj` = \u001b[32mcol_double()\u001b[39m,\n",
      "  `t-test_score` = \u001b[32mcol_double()\u001b[39m,\n",
      "  `t-test_overestim_var_logfc` = \u001b[32mcol_double()\u001b[39m,\n",
      "  `t-test_overestim_var_padj` = \u001b[32mcol_double()\u001b[39m,\n",
      "  `t-test_overestim_var_score` = \u001b[32mcol_double()\u001b[39m\n",
      ")\n",
      "\n",
      "Warning message:\n",
      "“Unknown columns: `gene_name`”\n"
     ]
    },
    {
     "name": "stdout",
     "output_type": "stream",
     "text": [
      "[1] \"C_vs_N    Gene number: 4961\"\n"
     ]
    },
    {
     "name": "stderr",
     "output_type": "stream",
     "text": [
      "'select()' returned 1:many mapping between keys and columns\n",
      "\n",
      "Parsed with column specification:\n",
      "cols(\n",
      "  gene_names = \u001b[31mcol_character()\u001b[39m,\n",
      "  A = \u001b[32mcol_double()\u001b[39m,\n",
      "  N = \u001b[32mcol_double()\u001b[39m,\n",
      "  wilcoxon_logfc = \u001b[32mcol_double()\u001b[39m,\n",
      "  wilcoxon_padj = \u001b[32mcol_double()\u001b[39m,\n",
      "  wilcoxon_score = \u001b[32mcol_double()\u001b[39m,\n",
      "  `t-test_logfc` = \u001b[32mcol_double()\u001b[39m,\n",
      "  `t-test_padj` = \u001b[32mcol_double()\u001b[39m,\n",
      "  `t-test_score` = \u001b[32mcol_double()\u001b[39m,\n",
      "  `t-test_overestim_var_logfc` = \u001b[32mcol_double()\u001b[39m,\n",
      "  `t-test_overestim_var_padj` = \u001b[32mcol_double()\u001b[39m,\n",
      "  `t-test_overestim_var_score` = \u001b[32mcol_double()\u001b[39m\n",
      ")\n",
      "\n",
      "Warning message:\n",
      "“Unknown columns: `gene_name`”\n"
     ]
    },
    {
     "name": "stdout",
     "output_type": "stream",
     "text": [
      "[1] \"N_vs_A    Gene number: 1718\"\n"
     ]
    },
    {
     "name": "stderr",
     "output_type": "stream",
     "text": [
      "'select()' returned 1:many mapping between keys and columns\n",
      "\n",
      "Parsed with column specification:\n",
      "cols(\n",
      "  gene_names = \u001b[31mcol_character()\u001b[39m,\n",
      "  C = \u001b[32mcol_double()\u001b[39m,\n",
      "  N = \u001b[32mcol_double()\u001b[39m,\n",
      "  wilcoxon_logfc = \u001b[32mcol_double()\u001b[39m,\n",
      "  wilcoxon_padj = \u001b[32mcol_double()\u001b[39m,\n",
      "  wilcoxon_score = \u001b[32mcol_double()\u001b[39m,\n",
      "  `t-test_logfc` = \u001b[32mcol_double()\u001b[39m,\n",
      "  `t-test_padj` = \u001b[32mcol_double()\u001b[39m,\n",
      "  `t-test_score` = \u001b[32mcol_double()\u001b[39m,\n",
      "  `t-test_overestim_var_logfc` = \u001b[32mcol_double()\u001b[39m,\n",
      "  `t-test_overestim_var_padj` = \u001b[32mcol_double()\u001b[39m,\n",
      "  `t-test_overestim_var_score` = \u001b[32mcol_double()\u001b[39m\n",
      ")\n",
      "\n",
      "Warning message:\n",
      "“Unknown columns: `gene_name`”\n"
     ]
    },
    {
     "name": "stdout",
     "output_type": "stream",
     "text": [
      "[1] \"N_vs_C    Gene number: 1737\"\n"
     ]
    },
    {
     "name": "stderr",
     "output_type": "stream",
     "text": [
      "'select()' returned 1:many mapping between keys and columns\n",
      "\n",
      "Parsed with column specification:\n",
      "cols(\n",
      "  gene_names = \u001b[31mcol_character()\u001b[39m,\n",
      "  A5P = \u001b[32mcol_double()\u001b[39m,\n",
      "  A5T = \u001b[32mcol_double()\u001b[39m,\n",
      "  wilcoxon_logfc = \u001b[32mcol_double()\u001b[39m,\n",
      "  wilcoxon_padj = \u001b[32mcol_double()\u001b[39m,\n",
      "  wilcoxon_score = \u001b[32mcol_double()\u001b[39m,\n",
      "  `t-test_logfc` = \u001b[32mcol_double()\u001b[39m,\n",
      "  `t-test_padj` = \u001b[32mcol_double()\u001b[39m,\n",
      "  `t-test_score` = \u001b[32mcol_double()\u001b[39m,\n",
      "  `t-test_overestim_var_logfc` = \u001b[32mcol_double()\u001b[39m,\n",
      "  `t-test_overestim_var_padj` = \u001b[32mcol_double()\u001b[39m,\n",
      "  `t-test_overestim_var_score` = \u001b[32mcol_double()\u001b[39m\n",
      ")\n",
      "\n",
      "Warning message:\n",
      "“Unknown columns: `gene_name`”\n"
     ]
    },
    {
     "name": "stdout",
     "output_type": "stream",
     "text": [
      "[1] \"A5P_vs_A5T    Gene number: 1418\"\n"
     ]
    },
    {
     "name": "stderr",
     "output_type": "stream",
     "text": [
      "'select()' returned 1:many mapping between keys and columns\n",
      "\n",
      "Parsed with column specification:\n",
      "cols(\n",
      "  gene_names = \u001b[31mcol_character()\u001b[39m,\n",
      "  A5P = \u001b[32mcol_double()\u001b[39m,\n",
      "  A8P = \u001b[32mcol_double()\u001b[39m,\n",
      "  wilcoxon_logfc = \u001b[32mcol_double()\u001b[39m,\n",
      "  wilcoxon_padj = \u001b[32mcol_double()\u001b[39m,\n",
      "  wilcoxon_score = \u001b[32mcol_double()\u001b[39m,\n",
      "  `t-test_logfc` = \u001b[32mcol_double()\u001b[39m,\n",
      "  `t-test_padj` = \u001b[32mcol_double()\u001b[39m,\n",
      "  `t-test_score` = \u001b[32mcol_double()\u001b[39m,\n",
      "  `t-test_overestim_var_logfc` = \u001b[32mcol_double()\u001b[39m,\n",
      "  `t-test_overestim_var_padj` = \u001b[32mcol_double()\u001b[39m,\n",
      "  `t-test_overestim_var_score` = \u001b[32mcol_double()\u001b[39m\n",
      ")\n",
      "\n",
      "Warning message:\n",
      "“Unknown columns: `gene_name`”\n"
     ]
    },
    {
     "name": "stdout",
     "output_type": "stream",
     "text": [
      "[1] \"A5P_vs_A8P    Gene number: 4763\"\n"
     ]
    },
    {
     "name": "stderr",
     "output_type": "stream",
     "text": [
      "'select()' returned 1:many mapping between keys and columns\n",
      "\n",
      "Parsed with column specification:\n",
      "cols(\n",
      "  gene_names = \u001b[31mcol_character()\u001b[39m,\n",
      "  A5P = \u001b[32mcol_double()\u001b[39m,\n",
      "  A8T = \u001b[32mcol_double()\u001b[39m,\n",
      "  wilcoxon_logfc = \u001b[32mcol_double()\u001b[39m,\n",
      "  wilcoxon_padj = \u001b[32mcol_double()\u001b[39m,\n",
      "  wilcoxon_score = \u001b[32mcol_double()\u001b[39m,\n",
      "  `t-test_logfc` = \u001b[32mcol_double()\u001b[39m,\n",
      "  `t-test_padj` = \u001b[32mcol_double()\u001b[39m,\n",
      "  `t-test_score` = \u001b[32mcol_double()\u001b[39m,\n",
      "  `t-test_overestim_var_logfc` = \u001b[32mcol_double()\u001b[39m,\n",
      "  `t-test_overestim_var_padj` = \u001b[32mcol_double()\u001b[39m,\n",
      "  `t-test_overestim_var_score` = \u001b[32mcol_double()\u001b[39m\n",
      ")\n",
      "\n",
      "Warning message:\n",
      "“Unknown columns: `gene_name`”\n"
     ]
    },
    {
     "name": "stdout",
     "output_type": "stream",
     "text": [
      "[1] \"A5P_vs_A8T    Gene number: 4379\"\n"
     ]
    },
    {
     "name": "stderr",
     "output_type": "stream",
     "text": [
      "'select()' returned 1:many mapping between keys and columns\n",
      "\n",
      "Parsed with column specification:\n",
      "cols(\n",
      "  gene_names = \u001b[31mcol_character()\u001b[39m,\n",
      "  A5P = \u001b[32mcol_double()\u001b[39m,\n",
      "  C5P = \u001b[32mcol_double()\u001b[39m,\n",
      "  wilcoxon_logfc = \u001b[32mcol_double()\u001b[39m,\n",
      "  wilcoxon_padj = \u001b[32mcol_double()\u001b[39m,\n",
      "  wilcoxon_score = \u001b[32mcol_double()\u001b[39m,\n",
      "  `t-test_logfc` = \u001b[32mcol_double()\u001b[39m,\n",
      "  `t-test_padj` = \u001b[32mcol_double()\u001b[39m,\n",
      "  `t-test_score` = \u001b[32mcol_double()\u001b[39m,\n",
      "  `t-test_overestim_var_logfc` = \u001b[32mcol_double()\u001b[39m,\n",
      "  `t-test_overestim_var_padj` = \u001b[32mcol_double()\u001b[39m,\n",
      "  `t-test_overestim_var_score` = \u001b[32mcol_double()\u001b[39m\n",
      ")\n",
      "\n",
      "Warning message:\n",
      "“Unknown columns: `gene_name`”\n"
     ]
    },
    {
     "name": "stdout",
     "output_type": "stream",
     "text": [
      "[1] \"A5P_vs_C5P    Gene number: 1528\"\n"
     ]
    },
    {
     "name": "stderr",
     "output_type": "stream",
     "text": [
      "'select()' returned 1:many mapping between keys and columns\n",
      "\n",
      "Parsed with column specification:\n",
      "cols(\n",
      "  gene_names = \u001b[31mcol_character()\u001b[39m,\n",
      "  A5P = \u001b[32mcol_double()\u001b[39m,\n",
      "  C8P = \u001b[32mcol_double()\u001b[39m,\n",
      "  wilcoxon_logfc = \u001b[32mcol_double()\u001b[39m,\n",
      "  wilcoxon_padj = \u001b[32mcol_double()\u001b[39m,\n",
      "  wilcoxon_score = \u001b[32mcol_double()\u001b[39m,\n",
      "  `t-test_logfc` = \u001b[32mcol_double()\u001b[39m,\n",
      "  `t-test_padj` = \u001b[32mcol_double()\u001b[39m,\n",
      "  `t-test_score` = \u001b[32mcol_double()\u001b[39m,\n",
      "  `t-test_overestim_var_logfc` = \u001b[32mcol_double()\u001b[39m,\n",
      "  `t-test_overestim_var_padj` = \u001b[32mcol_double()\u001b[39m,\n",
      "  `t-test_overestim_var_score` = \u001b[32mcol_double()\u001b[39m\n",
      ")\n",
      "\n",
      "Warning message:\n",
      "“Unknown columns: `gene_name`”\n"
     ]
    },
    {
     "name": "stdout",
     "output_type": "stream",
     "text": [
      "[1] \"A5P_vs_C8P    Gene number: 2518\"\n"
     ]
    },
    {
     "name": "stderr",
     "output_type": "stream",
     "text": [
      "'select()' returned 1:many mapping between keys and columns\n",
      "\n",
      "Parsed with column specification:\n",
      "cols(\n",
      "  gene_names = \u001b[31mcol_character()\u001b[39m,\n",
      "  A5P = \u001b[32mcol_double()\u001b[39m,\n",
      "  NP14B = \u001b[32mcol_double()\u001b[39m,\n",
      "  wilcoxon_logfc = \u001b[32mcol_double()\u001b[39m,\n",
      "  wilcoxon_padj = \u001b[32mcol_double()\u001b[39m,\n",
      "  wilcoxon_score = \u001b[32mcol_double()\u001b[39m,\n",
      "  `t-test_logfc` = \u001b[32mcol_double()\u001b[39m,\n",
      "  `t-test_padj` = \u001b[32mcol_double()\u001b[39m,\n",
      "  `t-test_score` = \u001b[32mcol_double()\u001b[39m,\n",
      "  `t-test_overestim_var_logfc` = \u001b[32mcol_double()\u001b[39m,\n",
      "  `t-test_overestim_var_padj` = \u001b[32mcol_double()\u001b[39m,\n",
      "  `t-test_overestim_var_score` = \u001b[32mcol_double()\u001b[39m\n",
      ")\n",
      "\n",
      "Warning message:\n",
      "“Unknown columns: `gene_name`”\n"
     ]
    },
    {
     "name": "stdout",
     "output_type": "stream",
     "text": [
      "[1] \"A5P_vs_NP14B    Gene number: 5576\"\n"
     ]
    },
    {
     "name": "stderr",
     "output_type": "stream",
     "text": [
      "'select()' returned 1:many mapping between keys and columns\n",
      "\n",
      "Parsed with column specification:\n",
      "cols(\n",
      "  gene_names = \u001b[31mcol_character()\u001b[39m,\n",
      "  A5P = \u001b[32mcol_double()\u001b[39m,\n",
      "  A5T = \u001b[32mcol_double()\u001b[39m,\n",
      "  wilcoxon_logfc = \u001b[32mcol_double()\u001b[39m,\n",
      "  wilcoxon_padj = \u001b[32mcol_double()\u001b[39m,\n",
      "  wilcoxon_score = \u001b[32mcol_double()\u001b[39m,\n",
      "  `t-test_logfc` = \u001b[32mcol_double()\u001b[39m,\n",
      "  `t-test_padj` = \u001b[32mcol_double()\u001b[39m,\n",
      "  `t-test_score` = \u001b[32mcol_double()\u001b[39m,\n",
      "  `t-test_overestim_var_logfc` = \u001b[32mcol_double()\u001b[39m,\n",
      "  `t-test_overestim_var_padj` = \u001b[32mcol_double()\u001b[39m,\n",
      "  `t-test_overestim_var_score` = \u001b[32mcol_double()\u001b[39m\n",
      ")\n",
      "\n",
      "Warning message:\n",
      "“Unknown columns: `gene_name`”\n"
     ]
    },
    {
     "name": "stdout",
     "output_type": "stream",
     "text": [
      "[1] \"A5T_vs_A5P    Gene number: 1536\"\n"
     ]
    },
    {
     "name": "stderr",
     "output_type": "stream",
     "text": [
      "'select()' returned 1:many mapping between keys and columns\n",
      "\n",
      "Parsed with column specification:\n",
      "cols(\n",
      "  gene_names = \u001b[31mcol_character()\u001b[39m,\n",
      "  A5T = \u001b[32mcol_double()\u001b[39m,\n",
      "  A8P = \u001b[32mcol_double()\u001b[39m,\n",
      "  wilcoxon_logfc = \u001b[32mcol_double()\u001b[39m,\n",
      "  wilcoxon_padj = \u001b[32mcol_double()\u001b[39m,\n",
      "  wilcoxon_score = \u001b[32mcol_double()\u001b[39m,\n",
      "  `t-test_logfc` = \u001b[32mcol_double()\u001b[39m,\n",
      "  `t-test_padj` = \u001b[32mcol_double()\u001b[39m,\n",
      "  `t-test_score` = \u001b[32mcol_double()\u001b[39m,\n",
      "  `t-test_overestim_var_logfc` = \u001b[32mcol_double()\u001b[39m,\n",
      "  `t-test_overestim_var_padj` = \u001b[32mcol_double()\u001b[39m,\n",
      "  `t-test_overestim_var_score` = \u001b[32mcol_double()\u001b[39m\n",
      ")\n",
      "\n",
      "Warning message:\n",
      "“Unknown columns: `gene_name`”\n"
     ]
    },
    {
     "name": "stdout",
     "output_type": "stream",
     "text": [
      "[1] \"A5T_vs_A8P    Gene number: 3655\"\n"
     ]
    },
    {
     "name": "stderr",
     "output_type": "stream",
     "text": [
      "'select()' returned 1:many mapping between keys and columns\n",
      "\n",
      "Parsed with column specification:\n",
      "cols(\n",
      "  gene_names = \u001b[31mcol_character()\u001b[39m,\n",
      "  A5T = \u001b[32mcol_double()\u001b[39m,\n",
      "  A8T = \u001b[32mcol_double()\u001b[39m,\n",
      "  wilcoxon_logfc = \u001b[32mcol_double()\u001b[39m,\n",
      "  wilcoxon_padj = \u001b[32mcol_double()\u001b[39m,\n",
      "  wilcoxon_score = \u001b[32mcol_double()\u001b[39m,\n",
      "  `t-test_logfc` = \u001b[32mcol_double()\u001b[39m,\n",
      "  `t-test_padj` = \u001b[32mcol_double()\u001b[39m,\n",
      "  `t-test_score` = \u001b[32mcol_double()\u001b[39m,\n",
      "  `t-test_overestim_var_logfc` = \u001b[32mcol_double()\u001b[39m,\n",
      "  `t-test_overestim_var_padj` = \u001b[32mcol_double()\u001b[39m,\n",
      "  `t-test_overestim_var_score` = \u001b[32mcol_double()\u001b[39m\n",
      ")\n",
      "\n",
      "Warning message:\n",
      "“Unknown columns: `gene_name`”\n"
     ]
    },
    {
     "name": "stdout",
     "output_type": "stream",
     "text": [
      "[1] \"A5T_vs_A8T    Gene number: 3118\"\n"
     ]
    },
    {
     "name": "stderr",
     "output_type": "stream",
     "text": [
      "'select()' returned 1:many mapping between keys and columns\n",
      "\n",
      "Parsed with column specification:\n",
      "cols(\n",
      "  gene_names = \u001b[31mcol_character()\u001b[39m,\n",
      "  A5T = \u001b[32mcol_double()\u001b[39m,\n",
      "  C5P = \u001b[32mcol_double()\u001b[39m,\n",
      "  wilcoxon_logfc = \u001b[32mcol_double()\u001b[39m,\n",
      "  wilcoxon_padj = \u001b[32mcol_double()\u001b[39m,\n",
      "  wilcoxon_score = \u001b[32mcol_double()\u001b[39m,\n",
      "  `t-test_logfc` = \u001b[32mcol_double()\u001b[39m,\n",
      "  `t-test_padj` = \u001b[32mcol_double()\u001b[39m,\n",
      "  `t-test_score` = \u001b[32mcol_double()\u001b[39m,\n",
      "  `t-test_overestim_var_logfc` = \u001b[32mcol_double()\u001b[39m,\n",
      "  `t-test_overestim_var_padj` = \u001b[32mcol_double()\u001b[39m,\n",
      "  `t-test_overestim_var_score` = \u001b[32mcol_double()\u001b[39m\n",
      ")\n",
      "\n",
      "Warning message:\n",
      "“Unknown columns: `gene_name`”\n"
     ]
    },
    {
     "name": "stdout",
     "output_type": "stream",
     "text": [
      "[1] \"A5T_vs_C5P    Gene number: 1745\"\n"
     ]
    },
    {
     "name": "stderr",
     "output_type": "stream",
     "text": [
      "'select()' returned 1:many mapping between keys and columns\n",
      "\n",
      "Parsed with column specification:\n",
      "cols(\n",
      "  gene_names = \u001b[31mcol_character()\u001b[39m,\n",
      "  A5T = \u001b[32mcol_double()\u001b[39m,\n",
      "  C8P = \u001b[32mcol_double()\u001b[39m,\n",
      "  wilcoxon_logfc = \u001b[32mcol_double()\u001b[39m,\n",
      "  wilcoxon_padj = \u001b[32mcol_double()\u001b[39m,\n",
      "  wilcoxon_score = \u001b[32mcol_double()\u001b[39m,\n",
      "  `t-test_logfc` = \u001b[32mcol_double()\u001b[39m,\n",
      "  `t-test_padj` = \u001b[32mcol_double()\u001b[39m,\n",
      "  `t-test_score` = \u001b[32mcol_double()\u001b[39m,\n",
      "  `t-test_overestim_var_logfc` = \u001b[32mcol_double()\u001b[39m,\n",
      "  `t-test_overestim_var_padj` = \u001b[32mcol_double()\u001b[39m,\n",
      "  `t-test_overestim_var_score` = \u001b[32mcol_double()\u001b[39m\n",
      ")\n",
      "\n",
      "Warning message:\n",
      "“Unknown columns: `gene_name`”\n"
     ]
    },
    {
     "name": "stdout",
     "output_type": "stream",
     "text": [
      "[1] \"A5T_vs_C8P    Gene number: 1874\"\n"
     ]
    },
    {
     "name": "stderr",
     "output_type": "stream",
     "text": [
      "'select()' returned 1:many mapping between keys and columns\n",
      "\n",
      "Parsed with column specification:\n",
      "cols(\n",
      "  gene_names = \u001b[31mcol_character()\u001b[39m,\n",
      "  A5T = \u001b[32mcol_double()\u001b[39m,\n",
      "  NP14B = \u001b[32mcol_double()\u001b[39m,\n",
      "  wilcoxon_logfc = \u001b[32mcol_double()\u001b[39m,\n",
      "  wilcoxon_padj = \u001b[32mcol_double()\u001b[39m,\n",
      "  wilcoxon_score = \u001b[32mcol_double()\u001b[39m,\n",
      "  `t-test_logfc` = \u001b[32mcol_double()\u001b[39m,\n",
      "  `t-test_padj` = \u001b[32mcol_double()\u001b[39m,\n",
      "  `t-test_score` = \u001b[32mcol_double()\u001b[39m,\n",
      "  `t-test_overestim_var_logfc` = \u001b[32mcol_double()\u001b[39m,\n",
      "  `t-test_overestim_var_padj` = \u001b[32mcol_double()\u001b[39m,\n",
      "  `t-test_overestim_var_score` = \u001b[32mcol_double()\u001b[39m\n",
      ")\n",
      "\n",
      "Warning message:\n",
      "“Unknown columns: `gene_name`”\n"
     ]
    },
    {
     "name": "stdout",
     "output_type": "stream",
     "text": [
      "[1] \"A5T_vs_NP14B    Gene number: 4436\"\n"
     ]
    },
    {
     "name": "stderr",
     "output_type": "stream",
     "text": [
      "'select()' returned 1:many mapping between keys and columns\n",
      "\n",
      "Parsed with column specification:\n",
      "cols(\n",
      "  gene_names = \u001b[31mcol_character()\u001b[39m,\n",
      "  A5P = \u001b[32mcol_double()\u001b[39m,\n",
      "  A8P = \u001b[32mcol_double()\u001b[39m,\n",
      "  wilcoxon_logfc = \u001b[32mcol_double()\u001b[39m,\n",
      "  wilcoxon_padj = \u001b[32mcol_double()\u001b[39m,\n",
      "  wilcoxon_score = \u001b[32mcol_double()\u001b[39m,\n",
      "  `t-test_logfc` = \u001b[32mcol_double()\u001b[39m,\n",
      "  `t-test_padj` = \u001b[32mcol_double()\u001b[39m,\n",
      "  `t-test_score` = \u001b[32mcol_double()\u001b[39m,\n",
      "  `t-test_overestim_var_logfc` = \u001b[32mcol_double()\u001b[39m,\n",
      "  `t-test_overestim_var_padj` = \u001b[32mcol_double()\u001b[39m,\n",
      "  `t-test_overestim_var_score` = \u001b[32mcol_double()\u001b[39m\n",
      ")\n",
      "\n",
      "Warning message:\n",
      "“Unknown columns: `gene_name`”\n"
     ]
    },
    {
     "name": "stdout",
     "output_type": "stream",
     "text": [
      "[1] \"A8P_vs_A5P    Gene number: 1458\"\n"
     ]
    },
    {
     "name": "stderr",
     "output_type": "stream",
     "text": [
      "'select()' returned 1:many mapping between keys and columns\n",
      "\n",
      "Parsed with column specification:\n",
      "cols(\n",
      "  gene_names = \u001b[31mcol_character()\u001b[39m,\n",
      "  A5T = \u001b[32mcol_double()\u001b[39m,\n",
      "  A8P = \u001b[32mcol_double()\u001b[39m,\n",
      "  wilcoxon_logfc = \u001b[32mcol_double()\u001b[39m,\n",
      "  wilcoxon_padj = \u001b[32mcol_double()\u001b[39m,\n",
      "  wilcoxon_score = \u001b[32mcol_double()\u001b[39m,\n",
      "  `t-test_logfc` = \u001b[32mcol_double()\u001b[39m,\n",
      "  `t-test_padj` = \u001b[32mcol_double()\u001b[39m,\n",
      "  `t-test_score` = \u001b[32mcol_double()\u001b[39m,\n",
      "  `t-test_overestim_var_logfc` = \u001b[32mcol_double()\u001b[39m,\n",
      "  `t-test_overestim_var_padj` = \u001b[32mcol_double()\u001b[39m,\n",
      "  `t-test_overestim_var_score` = \u001b[32mcol_double()\u001b[39m\n",
      ")\n",
      "\n",
      "Warning message:\n",
      "“Unknown columns: `gene_name`”\n"
     ]
    },
    {
     "name": "stdout",
     "output_type": "stream",
     "text": [
      "[1] \"A8P_vs_A5T    Gene number: 968\"\n"
     ]
    },
    {
     "name": "stderr",
     "output_type": "stream",
     "text": [
      "'select()' returned 1:many mapping between keys and columns\n",
      "\n",
      "Parsed with column specification:\n",
      "cols(\n",
      "  gene_names = \u001b[31mcol_character()\u001b[39m,\n",
      "  A8P = \u001b[32mcol_double()\u001b[39m,\n",
      "  A8T = \u001b[32mcol_double()\u001b[39m,\n",
      "  wilcoxon_logfc = \u001b[32mcol_double()\u001b[39m,\n",
      "  wilcoxon_padj = \u001b[32mcol_double()\u001b[39m,\n",
      "  wilcoxon_score = \u001b[32mcol_double()\u001b[39m,\n",
      "  `t-test_logfc` = \u001b[32mcol_double()\u001b[39m,\n",
      "  `t-test_padj` = \u001b[32mcol_double()\u001b[39m,\n",
      "  `t-test_score` = \u001b[32mcol_double()\u001b[39m,\n",
      "  `t-test_overestim_var_logfc` = \u001b[32mcol_double()\u001b[39m,\n",
      "  `t-test_overestim_var_padj` = \u001b[32mcol_double()\u001b[39m,\n",
      "  `t-test_overestim_var_score` = \u001b[32mcol_double()\u001b[39m\n",
      ")\n",
      "\n",
      "Warning message:\n",
      "“Unknown columns: `gene_name`”\n"
     ]
    },
    {
     "name": "stdout",
     "output_type": "stream",
     "text": [
      "[1] \"A8P_vs_A8T    Gene number: 876\"\n"
     ]
    },
    {
     "name": "stderr",
     "output_type": "stream",
     "text": [
      "'select()' returned 1:many mapping between keys and columns\n",
      "\n",
      "Parsed with column specification:\n",
      "cols(\n",
      "  gene_names = \u001b[31mcol_character()\u001b[39m,\n",
      "  A8P = \u001b[32mcol_double()\u001b[39m,\n",
      "  C5P = \u001b[32mcol_double()\u001b[39m,\n",
      "  wilcoxon_logfc = \u001b[32mcol_double()\u001b[39m,\n",
      "  wilcoxon_padj = \u001b[32mcol_double()\u001b[39m,\n",
      "  wilcoxon_score = \u001b[32mcol_double()\u001b[39m,\n",
      "  `t-test_logfc` = \u001b[32mcol_double()\u001b[39m,\n",
      "  `t-test_padj` = \u001b[32mcol_double()\u001b[39m,\n",
      "  `t-test_score` = \u001b[32mcol_double()\u001b[39m,\n",
      "  `t-test_overestim_var_logfc` = \u001b[32mcol_double()\u001b[39m,\n",
      "  `t-test_overestim_var_padj` = \u001b[32mcol_double()\u001b[39m,\n",
      "  `t-test_overestim_var_score` = \u001b[32mcol_double()\u001b[39m\n",
      ")\n",
      "\n",
      "Warning message:\n",
      "“Unknown columns: `gene_name`”\n"
     ]
    },
    {
     "name": "stdout",
     "output_type": "stream",
     "text": [
      "[1] \"A8P_vs_C5P    Gene number: 1322\"\n"
     ]
    },
    {
     "name": "stderr",
     "output_type": "stream",
     "text": [
      "'select()' returned 1:many mapping between keys and columns\n",
      "\n",
      "Parsed with column specification:\n",
      "cols(\n",
      "  gene_names = \u001b[31mcol_character()\u001b[39m,\n",
      "  A8P = \u001b[32mcol_double()\u001b[39m,\n",
      "  C8P = \u001b[32mcol_double()\u001b[39m,\n",
      "  wilcoxon_logfc = \u001b[32mcol_double()\u001b[39m,\n",
      "  wilcoxon_padj = \u001b[32mcol_double()\u001b[39m,\n",
      "  wilcoxon_score = \u001b[32mcol_double()\u001b[39m,\n",
      "  `t-test_logfc` = \u001b[32mcol_double()\u001b[39m,\n",
      "  `t-test_padj` = \u001b[32mcol_double()\u001b[39m,\n",
      "  `t-test_score` = \u001b[32mcol_double()\u001b[39m,\n",
      "  `t-test_overestim_var_logfc` = \u001b[32mcol_double()\u001b[39m,\n",
      "  `t-test_overestim_var_padj` = \u001b[32mcol_double()\u001b[39m,\n",
      "  `t-test_overestim_var_score` = \u001b[32mcol_double()\u001b[39m\n",
      ")\n",
      "\n",
      "Warning message:\n",
      "“Unknown columns: `gene_name`”\n"
     ]
    },
    {
     "name": "stdout",
     "output_type": "stream",
     "text": [
      "[1] \"A8P_vs_C8P    Gene number: 965\"\n"
     ]
    },
    {
     "name": "stderr",
     "output_type": "stream",
     "text": [
      "'select()' returned 1:many mapping between keys and columns\n",
      "\n",
      "Parsed with column specification:\n",
      "cols(\n",
      "  gene_names = \u001b[31mcol_character()\u001b[39m,\n",
      "  A8P = \u001b[32mcol_double()\u001b[39m,\n",
      "  NP14B = \u001b[32mcol_double()\u001b[39m,\n",
      "  wilcoxon_logfc = \u001b[32mcol_double()\u001b[39m,\n",
      "  wilcoxon_padj = \u001b[32mcol_double()\u001b[39m,\n",
      "  wilcoxon_score = \u001b[32mcol_double()\u001b[39m,\n",
      "  `t-test_logfc` = \u001b[32mcol_double()\u001b[39m,\n",
      "  `t-test_padj` = \u001b[32mcol_double()\u001b[39m,\n",
      "  `t-test_score` = \u001b[32mcol_double()\u001b[39m,\n",
      "  `t-test_overestim_var_logfc` = \u001b[32mcol_double()\u001b[39m,\n",
      "  `t-test_overestim_var_padj` = \u001b[32mcol_double()\u001b[39m,\n",
      "  `t-test_overestim_var_score` = \u001b[32mcol_double()\u001b[39m\n",
      ")\n",
      "\n",
      "Warning message:\n",
      "“Unknown columns: `gene_name`”\n"
     ]
    },
    {
     "name": "stdout",
     "output_type": "stream",
     "text": [
      "[1] \"A8P_vs_NP14B    Gene number: 2493\"\n"
     ]
    },
    {
     "name": "stderr",
     "output_type": "stream",
     "text": [
      "'select()' returned 1:many mapping between keys and columns\n",
      "\n",
      "Parsed with column specification:\n",
      "cols(\n",
      "  gene_names = \u001b[31mcol_character()\u001b[39m,\n",
      "  A5P = \u001b[32mcol_double()\u001b[39m,\n",
      "  A8T = \u001b[32mcol_double()\u001b[39m,\n",
      "  wilcoxon_logfc = \u001b[32mcol_double()\u001b[39m,\n",
      "  wilcoxon_padj = \u001b[32mcol_double()\u001b[39m,\n",
      "  wilcoxon_score = \u001b[32mcol_double()\u001b[39m,\n",
      "  `t-test_logfc` = \u001b[32mcol_double()\u001b[39m,\n",
      "  `t-test_padj` = \u001b[32mcol_double()\u001b[39m,\n",
      "  `t-test_score` = \u001b[32mcol_double()\u001b[39m,\n",
      "  `t-test_overestim_var_logfc` = \u001b[32mcol_double()\u001b[39m,\n",
      "  `t-test_overestim_var_padj` = \u001b[32mcol_double()\u001b[39m,\n",
      "  `t-test_overestim_var_score` = \u001b[32mcol_double()\u001b[39m\n",
      ")\n",
      "\n",
      "Warning message:\n",
      "“Unknown columns: `gene_name`”\n"
     ]
    },
    {
     "name": "stdout",
     "output_type": "stream",
     "text": [
      "[1] \"A8T_vs_A5P    Gene number: 1636\"\n"
     ]
    },
    {
     "name": "stderr",
     "output_type": "stream",
     "text": [
      "'select()' returned 1:many mapping between keys and columns\n",
      "\n",
      "Parsed with column specification:\n",
      "cols(\n",
      "  gene_names = \u001b[31mcol_character()\u001b[39m,\n",
      "  A5T = \u001b[32mcol_double()\u001b[39m,\n",
      "  A8T = \u001b[32mcol_double()\u001b[39m,\n",
      "  wilcoxon_logfc = \u001b[32mcol_double()\u001b[39m,\n",
      "  wilcoxon_padj = \u001b[32mcol_double()\u001b[39m,\n",
      "  wilcoxon_score = \u001b[32mcol_double()\u001b[39m,\n",
      "  `t-test_logfc` = \u001b[32mcol_double()\u001b[39m,\n",
      "  `t-test_padj` = \u001b[32mcol_double()\u001b[39m,\n",
      "  `t-test_score` = \u001b[32mcol_double()\u001b[39m,\n",
      "  `t-test_overestim_var_logfc` = \u001b[32mcol_double()\u001b[39m,\n",
      "  `t-test_overestim_var_padj` = \u001b[32mcol_double()\u001b[39m,\n",
      "  `t-test_overestim_var_score` = \u001b[32mcol_double()\u001b[39m\n",
      ")\n",
      "\n",
      "Warning message:\n",
      "“Unknown columns: `gene_name`”\n"
     ]
    },
    {
     "name": "stdout",
     "output_type": "stream",
     "text": [
      "[1] \"A8T_vs_A5T    Gene number: 945\"\n"
     ]
    },
    {
     "name": "stderr",
     "output_type": "stream",
     "text": [
      "'select()' returned 1:many mapping between keys and columns\n",
      "\n",
      "Parsed with column specification:\n",
      "cols(\n",
      "  gene_names = \u001b[31mcol_character()\u001b[39m,\n",
      "  A8P = \u001b[32mcol_double()\u001b[39m,\n",
      "  A8T = \u001b[32mcol_double()\u001b[39m,\n",
      "  wilcoxon_logfc = \u001b[32mcol_double()\u001b[39m,\n",
      "  wilcoxon_padj = \u001b[32mcol_double()\u001b[39m,\n",
      "  wilcoxon_score = \u001b[32mcol_double()\u001b[39m,\n",
      "  `t-test_logfc` = \u001b[32mcol_double()\u001b[39m,\n",
      "  `t-test_padj` = \u001b[32mcol_double()\u001b[39m,\n",
      "  `t-test_score` = \u001b[32mcol_double()\u001b[39m,\n",
      "  `t-test_overestim_var_logfc` = \u001b[32mcol_double()\u001b[39m,\n",
      "  `t-test_overestim_var_padj` = \u001b[32mcol_double()\u001b[39m,\n",
      "  `t-test_overestim_var_score` = \u001b[32mcol_double()\u001b[39m\n",
      ")\n",
      "\n",
      "Warning message:\n",
      "“Unknown columns: `gene_name`”\n"
     ]
    },
    {
     "name": "stdout",
     "output_type": "stream",
     "text": [
      "[1] \"A8T_vs_A8P    Gene number: 1426\"\n"
     ]
    },
    {
     "name": "stderr",
     "output_type": "stream",
     "text": [
      "'select()' returned 1:many mapping between keys and columns\n",
      "\n",
      "Parsed with column specification:\n",
      "cols(\n",
      "  gene_names = \u001b[31mcol_character()\u001b[39m,\n",
      "  A8T = \u001b[32mcol_double()\u001b[39m,\n",
      "  C5P = \u001b[32mcol_double()\u001b[39m,\n",
      "  wilcoxon_logfc = \u001b[32mcol_double()\u001b[39m,\n",
      "  wilcoxon_padj = \u001b[32mcol_double()\u001b[39m,\n",
      "  wilcoxon_score = \u001b[32mcol_double()\u001b[39m,\n",
      "  `t-test_logfc` = \u001b[32mcol_double()\u001b[39m,\n",
      "  `t-test_padj` = \u001b[32mcol_double()\u001b[39m,\n",
      "  `t-test_score` = \u001b[32mcol_double()\u001b[39m,\n",
      "  `t-test_overestim_var_logfc` = \u001b[32mcol_double()\u001b[39m,\n",
      "  `t-test_overestim_var_padj` = \u001b[32mcol_double()\u001b[39m,\n",
      "  `t-test_overestim_var_score` = \u001b[32mcol_double()\u001b[39m\n",
      ")\n",
      "\n",
      "Warning message:\n",
      "“Unknown columns: `gene_name`”\n"
     ]
    },
    {
     "name": "stdout",
     "output_type": "stream",
     "text": [
      "[1] \"A8T_vs_C5P    Gene number: 1471\"\n"
     ]
    },
    {
     "name": "stderr",
     "output_type": "stream",
     "text": [
      "'select()' returned 1:many mapping between keys and columns\n",
      "\n",
      "Parsed with column specification:\n",
      "cols(\n",
      "  gene_names = \u001b[31mcol_character()\u001b[39m,\n",
      "  A8T = \u001b[32mcol_double()\u001b[39m,\n",
      "  C8P = \u001b[32mcol_double()\u001b[39m,\n",
      "  wilcoxon_logfc = \u001b[32mcol_double()\u001b[39m,\n",
      "  wilcoxon_padj = \u001b[32mcol_double()\u001b[39m,\n",
      "  wilcoxon_score = \u001b[32mcol_double()\u001b[39m,\n",
      "  `t-test_logfc` = \u001b[32mcol_double()\u001b[39m,\n",
      "  `t-test_padj` = \u001b[32mcol_double()\u001b[39m,\n",
      "  `t-test_score` = \u001b[32mcol_double()\u001b[39m,\n",
      "  `t-test_overestim_var_logfc` = \u001b[32mcol_double()\u001b[39m,\n",
      "  `t-test_overestim_var_padj` = \u001b[32mcol_double()\u001b[39m,\n",
      "  `t-test_overestim_var_score` = \u001b[32mcol_double()\u001b[39m\n",
      ")\n",
      "\n",
      "Warning message:\n",
      "“Unknown columns: `gene_name`”\n"
     ]
    },
    {
     "name": "stdout",
     "output_type": "stream",
     "text": [
      "[1] \"A8T_vs_C8P    Gene number: 1155\"\n"
     ]
    },
    {
     "name": "stderr",
     "output_type": "stream",
     "text": [
      "'select()' returned 1:many mapping between keys and columns\n",
      "\n",
      "Parsed with column specification:\n",
      "cols(\n",
      "  gene_names = \u001b[31mcol_character()\u001b[39m,\n",
      "  A8T = \u001b[32mcol_double()\u001b[39m,\n",
      "  NP14B = \u001b[32mcol_double()\u001b[39m,\n",
      "  wilcoxon_logfc = \u001b[32mcol_double()\u001b[39m,\n",
      "  wilcoxon_padj = \u001b[32mcol_double()\u001b[39m,\n",
      "  wilcoxon_score = \u001b[32mcol_double()\u001b[39m,\n",
      "  `t-test_logfc` = \u001b[32mcol_double()\u001b[39m,\n",
      "  `t-test_padj` = \u001b[32mcol_double()\u001b[39m,\n",
      "  `t-test_score` = \u001b[32mcol_double()\u001b[39m,\n",
      "  `t-test_overestim_var_logfc` = \u001b[32mcol_double()\u001b[39m,\n",
      "  `t-test_overestim_var_padj` = \u001b[32mcol_double()\u001b[39m,\n",
      "  `t-test_overestim_var_score` = \u001b[32mcol_double()\u001b[39m\n",
      ")\n",
      "\n",
      "Warning message:\n",
      "“Unknown columns: `gene_name`”\n"
     ]
    },
    {
     "name": "stdout",
     "output_type": "stream",
     "text": [
      "[1] \"A8T_vs_NP14B    Gene number: 2615\"\n"
     ]
    },
    {
     "name": "stderr",
     "output_type": "stream",
     "text": [
      "'select()' returned 1:many mapping between keys and columns\n",
      "\n",
      "Parsed with column specification:\n",
      "cols(\n",
      "  gene_names = \u001b[31mcol_character()\u001b[39m,\n",
      "  A5P = \u001b[32mcol_double()\u001b[39m,\n",
      "  C5P = \u001b[32mcol_double()\u001b[39m,\n",
      "  wilcoxon_logfc = \u001b[32mcol_double()\u001b[39m,\n",
      "  wilcoxon_padj = \u001b[32mcol_double()\u001b[39m,\n",
      "  wilcoxon_score = \u001b[32mcol_double()\u001b[39m,\n",
      "  `t-test_logfc` = \u001b[32mcol_double()\u001b[39m,\n",
      "  `t-test_padj` = \u001b[32mcol_double()\u001b[39m,\n",
      "  `t-test_score` = \u001b[32mcol_double()\u001b[39m,\n",
      "  `t-test_overestim_var_logfc` = \u001b[32mcol_double()\u001b[39m,\n",
      "  `t-test_overestim_var_padj` = \u001b[32mcol_double()\u001b[39m,\n",
      "  `t-test_overestim_var_score` = \u001b[32mcol_double()\u001b[39m\n",
      ")\n",
      "\n",
      "Warning message:\n",
      "“Unknown columns: `gene_name`”\n"
     ]
    },
    {
     "name": "stdout",
     "output_type": "stream",
     "text": [
      "[1] \"C5P_vs_A5P    Gene number: 1024\"\n"
     ]
    },
    {
     "name": "stderr",
     "output_type": "stream",
     "text": [
      "'select()' returned 1:many mapping between keys and columns\n",
      "\n",
      "Parsed with column specification:\n",
      "cols(\n",
      "  gene_names = \u001b[31mcol_character()\u001b[39m,\n",
      "  A5T = \u001b[32mcol_double()\u001b[39m,\n",
      "  C5P = \u001b[32mcol_double()\u001b[39m,\n",
      "  wilcoxon_logfc = \u001b[32mcol_double()\u001b[39m,\n",
      "  wilcoxon_padj = \u001b[32mcol_double()\u001b[39m,\n",
      "  wilcoxon_score = \u001b[32mcol_double()\u001b[39m,\n",
      "  `t-test_logfc` = \u001b[32mcol_double()\u001b[39m,\n",
      "  `t-test_padj` = \u001b[32mcol_double()\u001b[39m,\n",
      "  `t-test_score` = \u001b[32mcol_double()\u001b[39m,\n",
      "  `t-test_overestim_var_logfc` = \u001b[32mcol_double()\u001b[39m,\n",
      "  `t-test_overestim_var_padj` = \u001b[32mcol_double()\u001b[39m,\n",
      "  `t-test_overestim_var_score` = \u001b[32mcol_double()\u001b[39m\n",
      ")\n",
      "\n",
      "Warning message:\n",
      "“Unknown columns: `gene_name`”\n"
     ]
    },
    {
     "name": "stdout",
     "output_type": "stream",
     "text": [
      "[1] \"C5P_vs_A5T    Gene number: 1219\"\n"
     ]
    },
    {
     "name": "stderr",
     "output_type": "stream",
     "text": [
      "'select()' returned 1:many mapping between keys and columns\n",
      "\n",
      "Parsed with column specification:\n",
      "cols(\n",
      "  gene_names = \u001b[31mcol_character()\u001b[39m,\n",
      "  A8P = \u001b[32mcol_double()\u001b[39m,\n",
      "  C5P = \u001b[32mcol_double()\u001b[39m,\n",
      "  wilcoxon_logfc = \u001b[32mcol_double()\u001b[39m,\n",
      "  wilcoxon_padj = \u001b[32mcol_double()\u001b[39m,\n",
      "  wilcoxon_score = \u001b[32mcol_double()\u001b[39m,\n",
      "  `t-test_logfc` = \u001b[32mcol_double()\u001b[39m,\n",
      "  `t-test_padj` = \u001b[32mcol_double()\u001b[39m,\n",
      "  `t-test_score` = \u001b[32mcol_double()\u001b[39m,\n",
      "  `t-test_overestim_var_logfc` = \u001b[32mcol_double()\u001b[39m,\n",
      "  `t-test_overestim_var_padj` = \u001b[32mcol_double()\u001b[39m,\n",
      "  `t-test_overestim_var_score` = \u001b[32mcol_double()\u001b[39m\n",
      ")\n",
      "\n",
      "Warning message:\n",
      "“Unknown columns: `gene_name`”\n"
     ]
    },
    {
     "name": "stdout",
     "output_type": "stream",
     "text": [
      "[1] \"C5P_vs_A8P    Gene number: 3807\"\n"
     ]
    },
    {
     "name": "stderr",
     "output_type": "stream",
     "text": [
      "'select()' returned 1:many mapping between keys and columns\n",
      "\n",
      "Parsed with column specification:\n",
      "cols(\n",
      "  gene_names = \u001b[31mcol_character()\u001b[39m,\n",
      "  A8T = \u001b[32mcol_double()\u001b[39m,\n",
      "  C5P = \u001b[32mcol_double()\u001b[39m,\n",
      "  wilcoxon_logfc = \u001b[32mcol_double()\u001b[39m,\n",
      "  wilcoxon_padj = \u001b[32mcol_double()\u001b[39m,\n",
      "  wilcoxon_score = \u001b[32mcol_double()\u001b[39m,\n",
      "  `t-test_logfc` = \u001b[32mcol_double()\u001b[39m,\n",
      "  `t-test_padj` = \u001b[32mcol_double()\u001b[39m,\n",
      "  `t-test_score` = \u001b[32mcol_double()\u001b[39m,\n",
      "  `t-test_overestim_var_logfc` = \u001b[32mcol_double()\u001b[39m,\n",
      "  `t-test_overestim_var_padj` = \u001b[32mcol_double()\u001b[39m,\n",
      "  `t-test_overestim_var_score` = \u001b[32mcol_double()\u001b[39m\n",
      ")\n",
      "\n",
      "Warning message:\n",
      "“Unknown columns: `gene_name`”\n"
     ]
    },
    {
     "name": "stdout",
     "output_type": "stream",
     "text": [
      "[1] \"C5P_vs_A8T    Gene number: 3393\"\n"
     ]
    },
    {
     "name": "stderr",
     "output_type": "stream",
     "text": [
      "'select()' returned 1:many mapping between keys and columns\n",
      "\n",
      "Parsed with column specification:\n",
      "cols(\n",
      "  gene_names = \u001b[31mcol_character()\u001b[39m,\n",
      "  C5P = \u001b[32mcol_double()\u001b[39m,\n",
      "  C8P = \u001b[32mcol_double()\u001b[39m,\n",
      "  wilcoxon_logfc = \u001b[32mcol_double()\u001b[39m,\n",
      "  wilcoxon_padj = \u001b[32mcol_double()\u001b[39m,\n",
      "  wilcoxon_score = \u001b[32mcol_double()\u001b[39m,\n",
      "  `t-test_logfc` = \u001b[32mcol_double()\u001b[39m,\n",
      "  `t-test_padj` = \u001b[32mcol_double()\u001b[39m,\n",
      "  `t-test_score` = \u001b[32mcol_double()\u001b[39m,\n",
      "  `t-test_overestim_var_logfc` = \u001b[32mcol_double()\u001b[39m,\n",
      "  `t-test_overestim_var_padj` = \u001b[32mcol_double()\u001b[39m,\n",
      "  `t-test_overestim_var_score` = \u001b[32mcol_double()\u001b[39m\n",
      ")\n",
      "\n",
      "Warning message:\n",
      "“Unknown columns: `gene_name`”\n"
     ]
    },
    {
     "name": "stdout",
     "output_type": "stream",
     "text": [
      "[1] \"C5P_vs_C8P    Gene number: 1602\"\n"
     ]
    },
    {
     "name": "stderr",
     "output_type": "stream",
     "text": [
      "'select()' returned 1:many mapping between keys and columns\n",
      "\n",
      "Parsed with column specification:\n",
      "cols(\n",
      "  gene_names = \u001b[31mcol_character()\u001b[39m,\n",
      "  C5P = \u001b[32mcol_double()\u001b[39m,\n",
      "  NP14B = \u001b[32mcol_double()\u001b[39m,\n",
      "  wilcoxon_logfc = \u001b[32mcol_double()\u001b[39m,\n",
      "  wilcoxon_padj = \u001b[32mcol_double()\u001b[39m,\n",
      "  wilcoxon_score = \u001b[32mcol_double()\u001b[39m,\n",
      "  `t-test_logfc` = \u001b[32mcol_double()\u001b[39m,\n",
      "  `t-test_padj` = \u001b[32mcol_double()\u001b[39m,\n",
      "  `t-test_score` = \u001b[32mcol_double()\u001b[39m,\n",
      "  `t-test_overestim_var_logfc` = \u001b[32mcol_double()\u001b[39m,\n",
      "  `t-test_overestim_var_padj` = \u001b[32mcol_double()\u001b[39m,\n",
      "  `t-test_overestim_var_score` = \u001b[32mcol_double()\u001b[39m\n",
      ")\n",
      "\n",
      "Warning message:\n",
      "“Unknown columns: `gene_name`”\n"
     ]
    },
    {
     "name": "stdout",
     "output_type": "stream",
     "text": [
      "[1] \"C5P_vs_NP14B    Gene number: 4863\"\n"
     ]
    },
    {
     "name": "stderr",
     "output_type": "stream",
     "text": [
      "'select()' returned 1:many mapping between keys and columns\n",
      "\n",
      "Parsed with column specification:\n",
      "cols(\n",
      "  gene_names = \u001b[31mcol_character()\u001b[39m,\n",
      "  A5P = \u001b[32mcol_double()\u001b[39m,\n",
      "  C8P = \u001b[32mcol_double()\u001b[39m,\n",
      "  wilcoxon_logfc = \u001b[32mcol_double()\u001b[39m,\n",
      "  wilcoxon_padj = \u001b[32mcol_double()\u001b[39m,\n",
      "  wilcoxon_score = \u001b[32mcol_double()\u001b[39m,\n",
      "  `t-test_logfc` = \u001b[32mcol_double()\u001b[39m,\n",
      "  `t-test_padj` = \u001b[32mcol_double()\u001b[39m,\n",
      "  `t-test_score` = \u001b[32mcol_double()\u001b[39m,\n",
      "  `t-test_overestim_var_logfc` = \u001b[32mcol_double()\u001b[39m,\n",
      "  `t-test_overestim_var_padj` = \u001b[32mcol_double()\u001b[39m,\n",
      "  `t-test_overestim_var_score` = \u001b[32mcol_double()\u001b[39m\n",
      ")\n",
      "\n",
      "Warning message:\n",
      "“Unknown columns: `gene_name`”\n"
     ]
    },
    {
     "name": "stdout",
     "output_type": "stream",
     "text": [
      "[1] \"C8P_vs_A5P    Gene number: 2006\"\n"
     ]
    },
    {
     "name": "stderr",
     "output_type": "stream",
     "text": [
      "'select()' returned 1:many mapping between keys and columns\n",
      "\n",
      "Parsed with column specification:\n",
      "cols(\n",
      "  gene_names = \u001b[31mcol_character()\u001b[39m,\n",
      "  A5T = \u001b[32mcol_double()\u001b[39m,\n",
      "  C8P = \u001b[32mcol_double()\u001b[39m,\n",
      "  wilcoxon_logfc = \u001b[32mcol_double()\u001b[39m,\n",
      "  wilcoxon_padj = \u001b[32mcol_double()\u001b[39m,\n",
      "  wilcoxon_score = \u001b[32mcol_double()\u001b[39m,\n",
      "  `t-test_logfc` = \u001b[32mcol_double()\u001b[39m,\n",
      "  `t-test_padj` = \u001b[32mcol_double()\u001b[39m,\n",
      "  `t-test_score` = \u001b[32mcol_double()\u001b[39m,\n",
      "  `t-test_overestim_var_logfc` = \u001b[32mcol_double()\u001b[39m,\n",
      "  `t-test_overestim_var_padj` = \u001b[32mcol_double()\u001b[39m,\n",
      "  `t-test_overestim_var_score` = \u001b[32mcol_double()\u001b[39m\n",
      ")\n",
      "\n",
      "Warning message:\n",
      "“Unknown columns: `gene_name`”\n"
     ]
    },
    {
     "name": "stdout",
     "output_type": "stream",
     "text": [
      "[1] \"C8P_vs_A5T    Gene number: 1711\"\n"
     ]
    },
    {
     "name": "stderr",
     "output_type": "stream",
     "text": [
      "'select()' returned 1:many mapping between keys and columns\n",
      "\n",
      "Parsed with column specification:\n",
      "cols(\n",
      "  gene_names = \u001b[31mcol_character()\u001b[39m,\n",
      "  A8P = \u001b[32mcol_double()\u001b[39m,\n",
      "  C8P = \u001b[32mcol_double()\u001b[39m,\n",
      "  wilcoxon_logfc = \u001b[32mcol_double()\u001b[39m,\n",
      "  wilcoxon_padj = \u001b[32mcol_double()\u001b[39m,\n",
      "  wilcoxon_score = \u001b[32mcol_double()\u001b[39m,\n",
      "  `t-test_logfc` = \u001b[32mcol_double()\u001b[39m,\n",
      "  `t-test_padj` = \u001b[32mcol_double()\u001b[39m,\n",
      "  `t-test_score` = \u001b[32mcol_double()\u001b[39m,\n",
      "  `t-test_overestim_var_logfc` = \u001b[32mcol_double()\u001b[39m,\n",
      "  `t-test_overestim_var_padj` = \u001b[32mcol_double()\u001b[39m,\n",
      "  `t-test_overestim_var_score` = \u001b[32mcol_double()\u001b[39m\n",
      ")\n",
      "\n",
      "Warning message:\n",
      "“Unknown columns: `gene_name`”\n"
     ]
    },
    {
     "name": "stdout",
     "output_type": "stream",
     "text": [
      "[1] \"C8P_vs_A8P    Gene number: 3002\"\n"
     ]
    },
    {
     "name": "stderr",
     "output_type": "stream",
     "text": [
      "'select()' returned 1:many mapping between keys and columns\n",
      "\n",
      "Parsed with column specification:\n",
      "cols(\n",
      "  gene_names = \u001b[31mcol_character()\u001b[39m,\n",
      "  A8T = \u001b[32mcol_double()\u001b[39m,\n",
      "  C8P = \u001b[32mcol_double()\u001b[39m,\n",
      "  wilcoxon_logfc = \u001b[32mcol_double()\u001b[39m,\n",
      "  wilcoxon_padj = \u001b[32mcol_double()\u001b[39m,\n",
      "  wilcoxon_score = \u001b[32mcol_double()\u001b[39m,\n",
      "  `t-test_logfc` = \u001b[32mcol_double()\u001b[39m,\n",
      "  `t-test_padj` = \u001b[32mcol_double()\u001b[39m,\n",
      "  `t-test_score` = \u001b[32mcol_double()\u001b[39m,\n",
      "  `t-test_overestim_var_logfc` = \u001b[32mcol_double()\u001b[39m,\n",
      "  `t-test_overestim_var_padj` = \u001b[32mcol_double()\u001b[39m,\n",
      "  `t-test_overestim_var_score` = \u001b[32mcol_double()\u001b[39m\n",
      ")\n",
      "\n",
      "Warning message:\n",
      "“Unknown columns: `gene_name`”\n"
     ]
    },
    {
     "name": "stdout",
     "output_type": "stream",
     "text": [
      "[1] \"C8P_vs_A8T    Gene number: 2689\"\n"
     ]
    },
    {
     "name": "stderr",
     "output_type": "stream",
     "text": [
      "'select()' returned 1:many mapping between keys and columns\n",
      "\n",
      "Parsed with column specification:\n",
      "cols(\n",
      "  gene_names = \u001b[31mcol_character()\u001b[39m,\n",
      "  C5P = \u001b[32mcol_double()\u001b[39m,\n",
      "  C8P = \u001b[32mcol_double()\u001b[39m,\n",
      "  wilcoxon_logfc = \u001b[32mcol_double()\u001b[39m,\n",
      "  wilcoxon_padj = \u001b[32mcol_double()\u001b[39m,\n",
      "  wilcoxon_score = \u001b[32mcol_double()\u001b[39m,\n",
      "  `t-test_logfc` = \u001b[32mcol_double()\u001b[39m,\n",
      "  `t-test_padj` = \u001b[32mcol_double()\u001b[39m,\n",
      "  `t-test_score` = \u001b[32mcol_double()\u001b[39m,\n",
      "  `t-test_overestim_var_logfc` = \u001b[32mcol_double()\u001b[39m,\n",
      "  `t-test_overestim_var_padj` = \u001b[32mcol_double()\u001b[39m,\n",
      "  `t-test_overestim_var_score` = \u001b[32mcol_double()\u001b[39m\n",
      ")\n",
      "\n",
      "Warning message:\n",
      "“Unknown columns: `gene_name`”\n"
     ]
    },
    {
     "name": "stdout",
     "output_type": "stream",
     "text": [
      "[1] \"C8P_vs_C5P    Gene number: 1817\"\n"
     ]
    },
    {
     "name": "stderr",
     "output_type": "stream",
     "text": [
      "'select()' returned 1:many mapping between keys and columns\n",
      "\n",
      "Parsed with column specification:\n",
      "cols(\n",
      "  gene_names = \u001b[31mcol_character()\u001b[39m,\n",
      "  C8P = \u001b[32mcol_double()\u001b[39m,\n",
      "  NP14B = \u001b[32mcol_double()\u001b[39m,\n",
      "  wilcoxon_logfc = \u001b[32mcol_double()\u001b[39m,\n",
      "  wilcoxon_padj = \u001b[32mcol_double()\u001b[39m,\n",
      "  wilcoxon_score = \u001b[32mcol_double()\u001b[39m,\n",
      "  `t-test_logfc` = \u001b[32mcol_double()\u001b[39m,\n",
      "  `t-test_padj` = \u001b[32mcol_double()\u001b[39m,\n",
      "  `t-test_score` = \u001b[32mcol_double()\u001b[39m,\n",
      "  `t-test_overestim_var_logfc` = \u001b[32mcol_double()\u001b[39m,\n",
      "  `t-test_overestim_var_padj` = \u001b[32mcol_double()\u001b[39m,\n",
      "  `t-test_overestim_var_score` = \u001b[32mcol_double()\u001b[39m\n",
      ")\n",
      "\n",
      "Warning message:\n",
      "“Unknown columns: `gene_name`”\n"
     ]
    },
    {
     "name": "stdout",
     "output_type": "stream",
     "text": [
      "[1] \"C8P_vs_NP14B    Gene number: 3899\"\n"
     ]
    },
    {
     "name": "stderr",
     "output_type": "stream",
     "text": [
      "'select()' returned 1:many mapping between keys and columns\n",
      "\n",
      "Parsed with column specification:\n",
      "cols(\n",
      "  gene_names = \u001b[31mcol_character()\u001b[39m,\n",
      "  A5P = \u001b[32mcol_double()\u001b[39m,\n",
      "  NP14B = \u001b[32mcol_double()\u001b[39m,\n",
      "  wilcoxon_logfc = \u001b[32mcol_double()\u001b[39m,\n",
      "  wilcoxon_padj = \u001b[32mcol_double()\u001b[39m,\n",
      "  wilcoxon_score = \u001b[32mcol_double()\u001b[39m,\n",
      "  `t-test_logfc` = \u001b[32mcol_double()\u001b[39m,\n",
      "  `t-test_padj` = \u001b[32mcol_double()\u001b[39m,\n",
      "  `t-test_score` = \u001b[32mcol_double()\u001b[39m,\n",
      "  `t-test_overestim_var_logfc` = \u001b[32mcol_double()\u001b[39m,\n",
      "  `t-test_overestim_var_padj` = \u001b[32mcol_double()\u001b[39m,\n",
      "  `t-test_overestim_var_score` = \u001b[32mcol_double()\u001b[39m\n",
      ")\n",
      "\n",
      "Warning message:\n",
      "“Unknown columns: `gene_name`”\n"
     ]
    },
    {
     "name": "stdout",
     "output_type": "stream",
     "text": [
      "[1] \"NP14B_vs_A5P    Gene number: 2129\"\n"
     ]
    },
    {
     "name": "stderr",
     "output_type": "stream",
     "text": [
      "'select()' returned 1:many mapping between keys and columns\n",
      "\n",
      "Parsed with column specification:\n",
      "cols(\n",
      "  gene_names = \u001b[31mcol_character()\u001b[39m,\n",
      "  A5T = \u001b[32mcol_double()\u001b[39m,\n",
      "  NP14B = \u001b[32mcol_double()\u001b[39m,\n",
      "  wilcoxon_logfc = \u001b[32mcol_double()\u001b[39m,\n",
      "  wilcoxon_padj = \u001b[32mcol_double()\u001b[39m,\n",
      "  wilcoxon_score = \u001b[32mcol_double()\u001b[39m,\n",
      "  `t-test_logfc` = \u001b[32mcol_double()\u001b[39m,\n",
      "  `t-test_padj` = \u001b[32mcol_double()\u001b[39m,\n",
      "  `t-test_score` = \u001b[32mcol_double()\u001b[39m,\n",
      "  `t-test_overestim_var_logfc` = \u001b[32mcol_double()\u001b[39m,\n",
      "  `t-test_overestim_var_padj` = \u001b[32mcol_double()\u001b[39m,\n",
      "  `t-test_overestim_var_score` = \u001b[32mcol_double()\u001b[39m\n",
      ")\n",
      "\n",
      "Warning message:\n",
      "“Unknown columns: `gene_name`”\n"
     ]
    },
    {
     "name": "stdout",
     "output_type": "stream",
     "text": [
      "[1] \"NP14B_vs_A5T    Gene number: 1721\"\n"
     ]
    },
    {
     "name": "stderr",
     "output_type": "stream",
     "text": [
      "'select()' returned 1:many mapping between keys and columns\n",
      "\n",
      "Parsed with column specification:\n",
      "cols(\n",
      "  gene_names = \u001b[31mcol_character()\u001b[39m,\n",
      "  A8P = \u001b[32mcol_double()\u001b[39m,\n",
      "  NP14B = \u001b[32mcol_double()\u001b[39m,\n",
      "  wilcoxon_logfc = \u001b[32mcol_double()\u001b[39m,\n",
      "  wilcoxon_padj = \u001b[32mcol_double()\u001b[39m,\n",
      "  wilcoxon_score = \u001b[32mcol_double()\u001b[39m,\n",
      "  `t-test_logfc` = \u001b[32mcol_double()\u001b[39m,\n",
      "  `t-test_padj` = \u001b[32mcol_double()\u001b[39m,\n",
      "  `t-test_score` = \u001b[32mcol_double()\u001b[39m,\n",
      "  `t-test_overestim_var_logfc` = \u001b[32mcol_double()\u001b[39m,\n",
      "  `t-test_overestim_var_padj` = \u001b[32mcol_double()\u001b[39m,\n",
      "  `t-test_overestim_var_score` = \u001b[32mcol_double()\u001b[39m\n",
      ")\n",
      "\n",
      "Warning message:\n",
      "“Unknown columns: `gene_name`”\n"
     ]
    },
    {
     "name": "stdout",
     "output_type": "stream",
     "text": [
      "[1] \"NP14B_vs_A8P    Gene number: 2183\"\n"
     ]
    },
    {
     "name": "stderr",
     "output_type": "stream",
     "text": [
      "'select()' returned 1:many mapping between keys and columns\n",
      "\n",
      "Parsed with column specification:\n",
      "cols(\n",
      "  gene_names = \u001b[31mcol_character()\u001b[39m,\n",
      "  A8T = \u001b[32mcol_double()\u001b[39m,\n",
      "  NP14B = \u001b[32mcol_double()\u001b[39m,\n",
      "  wilcoxon_logfc = \u001b[32mcol_double()\u001b[39m,\n",
      "  wilcoxon_padj = \u001b[32mcol_double()\u001b[39m,\n",
      "  wilcoxon_score = \u001b[32mcol_double()\u001b[39m,\n",
      "  `t-test_logfc` = \u001b[32mcol_double()\u001b[39m,\n",
      "  `t-test_padj` = \u001b[32mcol_double()\u001b[39m,\n",
      "  `t-test_score` = \u001b[32mcol_double()\u001b[39m,\n",
      "  `t-test_overestim_var_logfc` = \u001b[32mcol_double()\u001b[39m,\n",
      "  `t-test_overestim_var_padj` = \u001b[32mcol_double()\u001b[39m,\n",
      "  `t-test_overestim_var_score` = \u001b[32mcol_double()\u001b[39m\n",
      ")\n",
      "\n",
      "Warning message:\n",
      "“Unknown columns: `gene_name`”\n"
     ]
    },
    {
     "name": "stdout",
     "output_type": "stream",
     "text": [
      "[1] \"NP14B_vs_A8T    Gene number: 1925\"\n"
     ]
    },
    {
     "name": "stderr",
     "output_type": "stream",
     "text": [
      "'select()' returned 1:many mapping between keys and columns\n",
      "\n",
      "Parsed with column specification:\n",
      "cols(\n",
      "  gene_names = \u001b[31mcol_character()\u001b[39m,\n",
      "  C5P = \u001b[32mcol_double()\u001b[39m,\n",
      "  NP14B = \u001b[32mcol_double()\u001b[39m,\n",
      "  wilcoxon_logfc = \u001b[32mcol_double()\u001b[39m,\n",
      "  wilcoxon_padj = \u001b[32mcol_double()\u001b[39m,\n",
      "  wilcoxon_score = \u001b[32mcol_double()\u001b[39m,\n",
      "  `t-test_logfc` = \u001b[32mcol_double()\u001b[39m,\n",
      "  `t-test_padj` = \u001b[32mcol_double()\u001b[39m,\n",
      "  `t-test_score` = \u001b[32mcol_double()\u001b[39m,\n",
      "  `t-test_overestim_var_logfc` = \u001b[32mcol_double()\u001b[39m,\n",
      "  `t-test_overestim_var_padj` = \u001b[32mcol_double()\u001b[39m,\n",
      "  `t-test_overestim_var_score` = \u001b[32mcol_double()\u001b[39m\n",
      ")\n",
      "\n",
      "Warning message:\n",
      "“Unknown columns: `gene_name`”\n"
     ]
    },
    {
     "name": "stdout",
     "output_type": "stream",
     "text": [
      "[1] \"NP14B_vs_C5P    Gene number: 2082\"\n"
     ]
    },
    {
     "name": "stderr",
     "output_type": "stream",
     "text": [
      "'select()' returned 1:many mapping between keys and columns\n",
      "\n",
      "Parsed with column specification:\n",
      "cols(\n",
      "  gene_names = \u001b[31mcol_character()\u001b[39m,\n",
      "  C8P = \u001b[32mcol_double()\u001b[39m,\n",
      "  NP14B = \u001b[32mcol_double()\u001b[39m,\n",
      "  wilcoxon_logfc = \u001b[32mcol_double()\u001b[39m,\n",
      "  wilcoxon_padj = \u001b[32mcol_double()\u001b[39m,\n",
      "  wilcoxon_score = \u001b[32mcol_double()\u001b[39m,\n",
      "  `t-test_logfc` = \u001b[32mcol_double()\u001b[39m,\n",
      "  `t-test_padj` = \u001b[32mcol_double()\u001b[39m,\n",
      "  `t-test_score` = \u001b[32mcol_double()\u001b[39m,\n",
      "  `t-test_overestim_var_logfc` = \u001b[32mcol_double()\u001b[39m,\n",
      "  `t-test_overestim_var_padj` = \u001b[32mcol_double()\u001b[39m,\n",
      "  `t-test_overestim_var_score` = \u001b[32mcol_double()\u001b[39m\n",
      ")\n",
      "\n",
      "Warning message:\n",
      "“Unknown columns: `gene_name`”\n"
     ]
    },
    {
     "name": "stdout",
     "output_type": "stream",
     "text": [
      "[1] \"NP14B_vs_C8P    Gene number: 1599\"\n"
     ]
    },
    {
     "name": "stderr",
     "output_type": "stream",
     "text": [
      "'select()' returned 1:many mapping between keys and columns\n",
      "\n",
      "Parsed with column specification:\n",
      "cols(\n",
      "  gene_names = \u001b[31mcol_character()\u001b[39m,\n",
      "  `0` = \u001b[32mcol_double()\u001b[39m,\n",
      "  `1` = \u001b[32mcol_double()\u001b[39m,\n",
      "  wilcoxon_logfc = \u001b[32mcol_double()\u001b[39m,\n",
      "  wilcoxon_padj = \u001b[32mcol_double()\u001b[39m,\n",
      "  wilcoxon_score = \u001b[32mcol_double()\u001b[39m,\n",
      "  `t-test_logfc` = \u001b[32mcol_double()\u001b[39m,\n",
      "  `t-test_padj` = \u001b[32mcol_double()\u001b[39m,\n",
      "  `t-test_score` = \u001b[32mcol_double()\u001b[39m,\n",
      "  `t-test_overestim_var_logfc` = \u001b[32mcol_double()\u001b[39m,\n",
      "  `t-test_overestim_var_padj` = \u001b[32mcol_double()\u001b[39m,\n",
      "  `t-test_overestim_var_score` = \u001b[32mcol_double()\u001b[39m\n",
      ")\n",
      "\n",
      "Warning message:\n",
      "“Unknown columns: `gene_name`”\n"
     ]
    },
    {
     "name": "stdout",
     "output_type": "stream",
     "text": [
      "[1] \"0_vs_1    Gene number: 1320\"\n"
     ]
    },
    {
     "name": "stderr",
     "output_type": "stream",
     "text": [
      "'select()' returned 1:many mapping between keys and columns\n",
      "\n",
      "Parsed with column specification:\n",
      "cols(\n",
      "  gene_names = \u001b[31mcol_character()\u001b[39m,\n",
      "  `0` = \u001b[32mcol_double()\u001b[39m,\n",
      "  `10` = \u001b[32mcol_double()\u001b[39m,\n",
      "  wilcoxon_logfc = \u001b[32mcol_double()\u001b[39m,\n",
      "  wilcoxon_padj = \u001b[32mcol_double()\u001b[39m,\n",
      "  wilcoxon_score = \u001b[32mcol_double()\u001b[39m,\n",
      "  `t-test_logfc` = \u001b[32mcol_double()\u001b[39m,\n",
      "  `t-test_padj` = \u001b[32mcol_double()\u001b[39m,\n",
      "  `t-test_score` = \u001b[32mcol_double()\u001b[39m,\n",
      "  `t-test_overestim_var_logfc` = \u001b[32mcol_double()\u001b[39m,\n",
      "  `t-test_overestim_var_padj` = \u001b[32mcol_double()\u001b[39m,\n",
      "  `t-test_overestim_var_score` = \u001b[32mcol_double()\u001b[39m\n",
      ")\n",
      "\n",
      "Warning message:\n",
      "“Unknown columns: `gene_name`”\n"
     ]
    },
    {
     "name": "stdout",
     "output_type": "stream",
     "text": [
      "[1] \"0_vs_10    Gene number: 1205\"\n"
     ]
    },
    {
     "name": "stderr",
     "output_type": "stream",
     "text": [
      "'select()' returned 1:many mapping between keys and columns\n",
      "\n",
      "Parsed with column specification:\n",
      "cols(\n",
      "  gene_names = \u001b[31mcol_character()\u001b[39m,\n",
      "  `0` = \u001b[32mcol_double()\u001b[39m,\n",
      "  `2` = \u001b[32mcol_double()\u001b[39m,\n",
      "  wilcoxon_logfc = \u001b[32mcol_double()\u001b[39m,\n",
      "  wilcoxon_padj = \u001b[32mcol_double()\u001b[39m,\n",
      "  wilcoxon_score = \u001b[32mcol_double()\u001b[39m,\n",
      "  `t-test_logfc` = \u001b[32mcol_double()\u001b[39m,\n",
      "  `t-test_padj` = \u001b[32mcol_double()\u001b[39m,\n",
      "  `t-test_score` = \u001b[32mcol_double()\u001b[39m,\n",
      "  `t-test_overestim_var_logfc` = \u001b[32mcol_double()\u001b[39m,\n",
      "  `t-test_overestim_var_padj` = \u001b[32mcol_double()\u001b[39m,\n",
      "  `t-test_overestim_var_score` = \u001b[32mcol_double()\u001b[39m\n",
      ")\n",
      "\n",
      "Warning message:\n",
      "“Unknown columns: `gene_name`”\n"
     ]
    },
    {
     "name": "stdout",
     "output_type": "stream",
     "text": [
      "[1] \"0_vs_2    Gene number: 1893\"\n"
     ]
    },
    {
     "name": "stderr",
     "output_type": "stream",
     "text": [
      "'select()' returned 1:many mapping between keys and columns\n",
      "\n",
      "Parsed with column specification:\n",
      "cols(\n",
      "  gene_names = \u001b[31mcol_character()\u001b[39m,\n",
      "  `0` = \u001b[32mcol_double()\u001b[39m,\n",
      "  `3` = \u001b[32mcol_double()\u001b[39m,\n",
      "  wilcoxon_logfc = \u001b[32mcol_double()\u001b[39m,\n",
      "  wilcoxon_padj = \u001b[32mcol_double()\u001b[39m,\n",
      "  wilcoxon_score = \u001b[32mcol_double()\u001b[39m,\n",
      "  `t-test_logfc` = \u001b[32mcol_double()\u001b[39m,\n",
      "  `t-test_padj` = \u001b[32mcol_double()\u001b[39m,\n",
      "  `t-test_score` = \u001b[32mcol_double()\u001b[39m,\n",
      "  `t-test_overestim_var_logfc` = \u001b[32mcol_double()\u001b[39m,\n",
      "  `t-test_overestim_var_padj` = \u001b[32mcol_double()\u001b[39m,\n",
      "  `t-test_overestim_var_score` = \u001b[32mcol_double()\u001b[39m\n",
      ")\n",
      "\n",
      "Warning message:\n",
      "“Unknown columns: `gene_name`”\n"
     ]
    },
    {
     "name": "stdout",
     "output_type": "stream",
     "text": [
      "[1] \"0_vs_3    Gene number: 2593\"\n"
     ]
    },
    {
     "name": "stderr",
     "output_type": "stream",
     "text": [
      "'select()' returned 1:many mapping between keys and columns\n",
      "\n",
      "Parsed with column specification:\n",
      "cols(\n",
      "  gene_names = \u001b[31mcol_character()\u001b[39m,\n",
      "  `0` = \u001b[32mcol_double()\u001b[39m,\n",
      "  `4` = \u001b[32mcol_double()\u001b[39m,\n",
      "  wilcoxon_logfc = \u001b[32mcol_double()\u001b[39m,\n",
      "  wilcoxon_padj = \u001b[32mcol_double()\u001b[39m,\n",
      "  wilcoxon_score = \u001b[32mcol_double()\u001b[39m,\n",
      "  `t-test_logfc` = \u001b[32mcol_double()\u001b[39m,\n",
      "  `t-test_padj` = \u001b[32mcol_double()\u001b[39m,\n",
      "  `t-test_score` = \u001b[32mcol_double()\u001b[39m,\n",
      "  `t-test_overestim_var_logfc` = \u001b[32mcol_double()\u001b[39m,\n",
      "  `t-test_overestim_var_padj` = \u001b[32mcol_double()\u001b[39m,\n",
      "  `t-test_overestim_var_score` = \u001b[32mcol_double()\u001b[39m\n",
      ")\n",
      "\n",
      "Warning message:\n",
      "“Unknown columns: `gene_name`”\n"
     ]
    },
    {
     "name": "stdout",
     "output_type": "stream",
     "text": [
      "[1] \"0_vs_4    Gene number: 1673\"\n"
     ]
    },
    {
     "name": "stderr",
     "output_type": "stream",
     "text": [
      "'select()' returned 1:many mapping between keys and columns\n",
      "\n",
      "Parsed with column specification:\n",
      "cols(\n",
      "  gene_names = \u001b[31mcol_character()\u001b[39m,\n",
      "  `0` = \u001b[32mcol_double()\u001b[39m,\n",
      "  `5` = \u001b[32mcol_double()\u001b[39m,\n",
      "  wilcoxon_logfc = \u001b[32mcol_double()\u001b[39m,\n",
      "  wilcoxon_padj = \u001b[32mcol_double()\u001b[39m,\n",
      "  wilcoxon_score = \u001b[32mcol_double()\u001b[39m,\n",
      "  `t-test_logfc` = \u001b[32mcol_double()\u001b[39m,\n",
      "  `t-test_padj` = \u001b[32mcol_double()\u001b[39m,\n",
      "  `t-test_score` = \u001b[32mcol_double()\u001b[39m,\n",
      "  `t-test_overestim_var_logfc` = \u001b[32mcol_double()\u001b[39m,\n",
      "  `t-test_overestim_var_padj` = \u001b[32mcol_double()\u001b[39m,\n",
      "  `t-test_overestim_var_score` = \u001b[32mcol_double()\u001b[39m\n",
      ")\n",
      "\n",
      "Warning message:\n",
      "“Unknown columns: `gene_name`”\n"
     ]
    },
    {
     "name": "stdout",
     "output_type": "stream",
     "text": [
      "[1] \"0_vs_5    Gene number: 1431\"\n"
     ]
    },
    {
     "name": "stderr",
     "output_type": "stream",
     "text": [
      "'select()' returned 1:many mapping between keys and columns\n",
      "\n",
      "Parsed with column specification:\n",
      "cols(\n",
      "  gene_names = \u001b[31mcol_character()\u001b[39m,\n",
      "  `0` = \u001b[32mcol_double()\u001b[39m,\n",
      "  `6` = \u001b[32mcol_double()\u001b[39m,\n",
      "  wilcoxon_logfc = \u001b[32mcol_double()\u001b[39m,\n",
      "  wilcoxon_padj = \u001b[32mcol_double()\u001b[39m,\n",
      "  wilcoxon_score = \u001b[32mcol_double()\u001b[39m,\n",
      "  `t-test_logfc` = \u001b[32mcol_double()\u001b[39m,\n",
      "  `t-test_padj` = \u001b[32mcol_double()\u001b[39m,\n",
      "  `t-test_score` = \u001b[32mcol_double()\u001b[39m,\n",
      "  `t-test_overestim_var_logfc` = \u001b[32mcol_double()\u001b[39m,\n",
      "  `t-test_overestim_var_padj` = \u001b[32mcol_double()\u001b[39m,\n",
      "  `t-test_overestim_var_score` = \u001b[32mcol_double()\u001b[39m\n",
      ")\n",
      "\n",
      "Warning message:\n",
      "“Unknown columns: `gene_name`”\n"
     ]
    },
    {
     "name": "stdout",
     "output_type": "stream",
     "text": [
      "[1] \"0_vs_6    Gene number: 1653\"\n"
     ]
    },
    {
     "name": "stderr",
     "output_type": "stream",
     "text": [
      "'select()' returned 1:many mapping between keys and columns\n",
      "\n",
      "Parsed with column specification:\n",
      "cols(\n",
      "  gene_names = \u001b[31mcol_character()\u001b[39m,\n",
      "  `0` = \u001b[32mcol_double()\u001b[39m,\n",
      "  `7` = \u001b[32mcol_double()\u001b[39m,\n",
      "  wilcoxon_logfc = \u001b[32mcol_double()\u001b[39m,\n",
      "  wilcoxon_padj = \u001b[32mcol_double()\u001b[39m,\n",
      "  wilcoxon_score = \u001b[32mcol_double()\u001b[39m,\n",
      "  `t-test_logfc` = \u001b[32mcol_double()\u001b[39m,\n",
      "  `t-test_padj` = \u001b[32mcol_double()\u001b[39m,\n",
      "  `t-test_score` = \u001b[32mcol_double()\u001b[39m,\n",
      "  `t-test_overestim_var_logfc` = \u001b[32mcol_double()\u001b[39m,\n",
      "  `t-test_overestim_var_padj` = \u001b[32mcol_double()\u001b[39m,\n",
      "  `t-test_overestim_var_score` = \u001b[32mcol_double()\u001b[39m\n",
      ")\n",
      "\n",
      "Warning message:\n",
      "“Unknown columns: `gene_name`”\n"
     ]
    },
    {
     "name": "stdout",
     "output_type": "stream",
     "text": [
      "[1] \"0_vs_7    Gene number: 1247\"\n"
     ]
    },
    {
     "name": "stderr",
     "output_type": "stream",
     "text": [
      "'select()' returned 1:many mapping between keys and columns\n",
      "\n",
      "Parsed with column specification:\n",
      "cols(\n",
      "  gene_names = \u001b[31mcol_character()\u001b[39m,\n",
      "  `0` = \u001b[32mcol_double()\u001b[39m,\n",
      "  `8` = \u001b[32mcol_double()\u001b[39m,\n",
      "  wilcoxon_logfc = \u001b[32mcol_double()\u001b[39m,\n",
      "  wilcoxon_padj = \u001b[32mcol_double()\u001b[39m,\n",
      "  wilcoxon_score = \u001b[32mcol_double()\u001b[39m,\n",
      "  `t-test_logfc` = \u001b[32mcol_double()\u001b[39m,\n",
      "  `t-test_padj` = \u001b[32mcol_double()\u001b[39m,\n",
      "  `t-test_score` = \u001b[32mcol_double()\u001b[39m,\n",
      "  `t-test_overestim_var_logfc` = \u001b[32mcol_double()\u001b[39m,\n",
      "  `t-test_overestim_var_padj` = \u001b[32mcol_double()\u001b[39m,\n",
      "  `t-test_overestim_var_score` = \u001b[32mcol_double()\u001b[39m\n",
      ")\n",
      "\n",
      "Warning message:\n",
      "“Unknown columns: `gene_name`”\n"
     ]
    },
    {
     "name": "stdout",
     "output_type": "stream",
     "text": [
      "[1] \"0_vs_8    Gene number: 1539\"\n"
     ]
    },
    {
     "name": "stderr",
     "output_type": "stream",
     "text": [
      "'select()' returned 1:many mapping between keys and columns\n",
      "\n",
      "Parsed with column specification:\n",
      "cols(\n",
      "  gene_names = \u001b[31mcol_character()\u001b[39m,\n",
      "  `0` = \u001b[32mcol_double()\u001b[39m,\n",
      "  `9` = \u001b[32mcol_double()\u001b[39m,\n",
      "  wilcoxon_logfc = \u001b[32mcol_double()\u001b[39m,\n",
      "  wilcoxon_padj = \u001b[32mcol_double()\u001b[39m,\n",
      "  wilcoxon_score = \u001b[32mcol_double()\u001b[39m,\n",
      "  `t-test_logfc` = \u001b[32mcol_double()\u001b[39m,\n",
      "  `t-test_padj` = \u001b[32mcol_double()\u001b[39m,\n",
      "  `t-test_score` = \u001b[32mcol_double()\u001b[39m,\n",
      "  `t-test_overestim_var_logfc` = \u001b[32mcol_double()\u001b[39m,\n",
      "  `t-test_overestim_var_padj` = \u001b[32mcol_double()\u001b[39m,\n",
      "  `t-test_overestim_var_score` = \u001b[32mcol_double()\u001b[39m\n",
      ")\n",
      "\n",
      "Warning message:\n",
      "“Unknown columns: `gene_name`”\n"
     ]
    },
    {
     "name": "stdout",
     "output_type": "stream",
     "text": [
      "[1] \"0_vs_9    Gene number: 2967\"\n"
     ]
    },
    {
     "name": "stderr",
     "output_type": "stream",
     "text": [
      "'select()' returned 1:many mapping between keys and columns\n",
      "\n",
      "Parsed with column specification:\n",
      "cols(\n",
      "  gene_names = \u001b[31mcol_character()\u001b[39m,\n",
      "  `0` = \u001b[32mcol_double()\u001b[39m,\n",
      "  `1` = \u001b[32mcol_double()\u001b[39m,\n",
      "  wilcoxon_logfc = \u001b[32mcol_double()\u001b[39m,\n",
      "  wilcoxon_padj = \u001b[32mcol_double()\u001b[39m,\n",
      "  wilcoxon_score = \u001b[32mcol_double()\u001b[39m,\n",
      "  `t-test_logfc` = \u001b[32mcol_double()\u001b[39m,\n",
      "  `t-test_padj` = \u001b[32mcol_double()\u001b[39m,\n",
      "  `t-test_score` = \u001b[32mcol_double()\u001b[39m,\n",
      "  `t-test_overestim_var_logfc` = \u001b[32mcol_double()\u001b[39m,\n",
      "  `t-test_overestim_var_padj` = \u001b[32mcol_double()\u001b[39m,\n",
      "  `t-test_overestim_var_score` = \u001b[32mcol_double()\u001b[39m\n",
      ")\n",
      "\n",
      "Warning message:\n",
      "“Unknown columns: `gene_name`”\n"
     ]
    },
    {
     "name": "stdout",
     "output_type": "stream",
     "text": [
      "[1] \"1_vs_0    Gene number: 3143\"\n"
     ]
    },
    {
     "name": "stderr",
     "output_type": "stream",
     "text": [
      "'select()' returned 1:many mapping between keys and columns\n",
      "\n",
      "Parsed with column specification:\n",
      "cols(\n",
      "  gene_names = \u001b[31mcol_character()\u001b[39m,\n",
      "  `1` = \u001b[32mcol_double()\u001b[39m,\n",
      "  `10` = \u001b[32mcol_double()\u001b[39m,\n",
      "  wilcoxon_logfc = \u001b[32mcol_double()\u001b[39m,\n",
      "  wilcoxon_padj = \u001b[32mcol_double()\u001b[39m,\n",
      "  wilcoxon_score = \u001b[32mcol_double()\u001b[39m,\n",
      "  `t-test_logfc` = \u001b[32mcol_double()\u001b[39m,\n",
      "  `t-test_padj` = \u001b[32mcol_double()\u001b[39m,\n",
      "  `t-test_score` = \u001b[32mcol_double()\u001b[39m,\n",
      "  `t-test_overestim_var_logfc` = \u001b[32mcol_double()\u001b[39m,\n",
      "  `t-test_overestim_var_padj` = \u001b[32mcol_double()\u001b[39m,\n",
      "  `t-test_overestim_var_score` = \u001b[32mcol_double()\u001b[39m\n",
      ")\n",
      "\n",
      "Warning message:\n",
      "“Unknown columns: `gene_name`”\n"
     ]
    },
    {
     "name": "stdout",
     "output_type": "stream",
     "text": [
      "[1] \"1_vs_10    Gene number: 1022\"\n"
     ]
    },
    {
     "name": "stderr",
     "output_type": "stream",
     "text": [
      "'select()' returned 1:many mapping between keys and columns\n",
      "\n",
      "Parsed with column specification:\n",
      "cols(\n",
      "  gene_names = \u001b[31mcol_character()\u001b[39m,\n",
      "  `1` = \u001b[32mcol_double()\u001b[39m,\n",
      "  `2` = \u001b[32mcol_double()\u001b[39m,\n",
      "  wilcoxon_logfc = \u001b[32mcol_double()\u001b[39m,\n",
      "  wilcoxon_padj = \u001b[32mcol_double()\u001b[39m,\n",
      "  wilcoxon_score = \u001b[32mcol_double()\u001b[39m,\n",
      "  `t-test_logfc` = \u001b[32mcol_double()\u001b[39m,\n",
      "  `t-test_padj` = \u001b[32mcol_double()\u001b[39m,\n",
      "  `t-test_score` = \u001b[32mcol_double()\u001b[39m,\n",
      "  `t-test_overestim_var_logfc` = \u001b[32mcol_double()\u001b[39m,\n",
      "  `t-test_overestim_var_padj` = \u001b[32mcol_double()\u001b[39m,\n",
      "  `t-test_overestim_var_score` = \u001b[32mcol_double()\u001b[39m\n",
      ")\n",
      "\n",
      "Warning message:\n",
      "“Unknown columns: `gene_name`”\n"
     ]
    },
    {
     "name": "stdout",
     "output_type": "stream",
     "text": [
      "[1] \"1_vs_2    Gene number: 4365\"\n"
     ]
    },
    {
     "name": "stderr",
     "output_type": "stream",
     "text": [
      "'select()' returned 1:many mapping between keys and columns\n",
      "\n",
      "Parsed with column specification:\n",
      "cols(\n",
      "  gene_names = \u001b[31mcol_character()\u001b[39m,\n",
      "  `1` = \u001b[32mcol_double()\u001b[39m,\n",
      "  `3` = \u001b[32mcol_double()\u001b[39m,\n",
      "  wilcoxon_logfc = \u001b[32mcol_double()\u001b[39m,\n",
      "  wilcoxon_padj = \u001b[32mcol_double()\u001b[39m,\n",
      "  wilcoxon_score = \u001b[32mcol_double()\u001b[39m,\n",
      "  `t-test_logfc` = \u001b[32mcol_double()\u001b[39m,\n",
      "  `t-test_padj` = \u001b[32mcol_double()\u001b[39m,\n",
      "  `t-test_score` = \u001b[32mcol_double()\u001b[39m,\n",
      "  `t-test_overestim_var_logfc` = \u001b[32mcol_double()\u001b[39m,\n",
      "  `t-test_overestim_var_padj` = \u001b[32mcol_double()\u001b[39m,\n",
      "  `t-test_overestim_var_score` = \u001b[32mcol_double()\u001b[39m\n",
      ")\n",
      "\n",
      "Warning message:\n",
      "“Unknown columns: `gene_name`”\n"
     ]
    },
    {
     "name": "stdout",
     "output_type": "stream",
     "text": [
      "[1] \"1_vs_3    Gene number: 4788\"\n"
     ]
    },
    {
     "name": "stderr",
     "output_type": "stream",
     "text": [
      "'select()' returned 1:many mapping between keys and columns\n",
      "\n",
      "Parsed with column specification:\n",
      "cols(\n",
      "  gene_names = \u001b[31mcol_character()\u001b[39m,\n",
      "  `1` = \u001b[32mcol_double()\u001b[39m,\n",
      "  `4` = \u001b[32mcol_double()\u001b[39m,\n",
      "  wilcoxon_logfc = \u001b[32mcol_double()\u001b[39m,\n",
      "  wilcoxon_padj = \u001b[32mcol_double()\u001b[39m,\n",
      "  wilcoxon_score = \u001b[32mcol_double()\u001b[39m,\n",
      "  `t-test_logfc` = \u001b[32mcol_double()\u001b[39m,\n",
      "  `t-test_padj` = \u001b[32mcol_double()\u001b[39m,\n",
      "  `t-test_score` = \u001b[32mcol_double()\u001b[39m,\n",
      "  `t-test_overestim_var_logfc` = \u001b[32mcol_double()\u001b[39m,\n",
      "  `t-test_overestim_var_padj` = \u001b[32mcol_double()\u001b[39m,\n",
      "  `t-test_overestim_var_score` = \u001b[32mcol_double()\u001b[39m\n",
      ")\n",
      "\n",
      "Warning message:\n",
      "“Unknown columns: `gene_name`”\n"
     ]
    },
    {
     "name": "stdout",
     "output_type": "stream",
     "text": [
      "[1] \"1_vs_4    Gene number: 1353\"\n"
     ]
    },
    {
     "name": "stderr",
     "output_type": "stream",
     "text": [
      "'select()' returned 1:many mapping between keys and columns\n",
      "\n",
      "Parsed with column specification:\n",
      "cols(\n",
      "  gene_names = \u001b[31mcol_character()\u001b[39m,\n",
      "  `1` = \u001b[32mcol_double()\u001b[39m,\n",
      "  `5` = \u001b[32mcol_double()\u001b[39m,\n",
      "  wilcoxon_logfc = \u001b[32mcol_double()\u001b[39m,\n",
      "  wilcoxon_padj = \u001b[32mcol_double()\u001b[39m,\n",
      "  wilcoxon_score = \u001b[32mcol_double()\u001b[39m,\n",
      "  `t-test_logfc` = \u001b[32mcol_double()\u001b[39m,\n",
      "  `t-test_padj` = \u001b[32mcol_double()\u001b[39m,\n",
      "  `t-test_score` = \u001b[32mcol_double()\u001b[39m,\n",
      "  `t-test_overestim_var_logfc` = \u001b[32mcol_double()\u001b[39m,\n",
      "  `t-test_overestim_var_padj` = \u001b[32mcol_double()\u001b[39m,\n",
      "  `t-test_overestim_var_score` = \u001b[32mcol_double()\u001b[39m\n",
      ")\n",
      "\n",
      "Warning message:\n",
      "“Unknown columns: `gene_name`”\n"
     ]
    },
    {
     "name": "stdout",
     "output_type": "stream",
     "text": [
      "[1] \"1_vs_5    Gene number: 1565\"\n"
     ]
    },
    {
     "name": "stderr",
     "output_type": "stream",
     "text": [
      "'select()' returned 1:many mapping between keys and columns\n",
      "\n",
      "Parsed with column specification:\n",
      "cols(\n",
      "  gene_names = \u001b[31mcol_character()\u001b[39m,\n",
      "  `1` = \u001b[32mcol_double()\u001b[39m,\n",
      "  `6` = \u001b[32mcol_double()\u001b[39m,\n",
      "  wilcoxon_logfc = \u001b[32mcol_double()\u001b[39m,\n",
      "  wilcoxon_padj = \u001b[32mcol_double()\u001b[39m,\n",
      "  wilcoxon_score = \u001b[32mcol_double()\u001b[39m,\n",
      "  `t-test_logfc` = \u001b[32mcol_double()\u001b[39m,\n",
      "  `t-test_padj` = \u001b[32mcol_double()\u001b[39m,\n",
      "  `t-test_score` = \u001b[32mcol_double()\u001b[39m,\n",
      "  `t-test_overestim_var_logfc` = \u001b[32mcol_double()\u001b[39m,\n",
      "  `t-test_overestim_var_padj` = \u001b[32mcol_double()\u001b[39m,\n",
      "  `t-test_overestim_var_score` = \u001b[32mcol_double()\u001b[39m\n",
      ")\n",
      "\n",
      "Warning message:\n",
      "“Unknown columns: `gene_name`”\n"
     ]
    },
    {
     "name": "stdout",
     "output_type": "stream",
     "text": [
      "[1] \"1_vs_6    Gene number: 1348\"\n"
     ]
    },
    {
     "name": "stderr",
     "output_type": "stream",
     "text": [
      "'select()' returned 1:many mapping between keys and columns\n",
      "\n",
      "Parsed with column specification:\n",
      "cols(\n",
      "  gene_names = \u001b[31mcol_character()\u001b[39m,\n",
      "  `1` = \u001b[32mcol_double()\u001b[39m,\n",
      "  `7` = \u001b[32mcol_double()\u001b[39m,\n",
      "  wilcoxon_logfc = \u001b[32mcol_double()\u001b[39m,\n",
      "  wilcoxon_padj = \u001b[32mcol_double()\u001b[39m,\n",
      "  wilcoxon_score = \u001b[32mcol_double()\u001b[39m,\n",
      "  `t-test_logfc` = \u001b[32mcol_double()\u001b[39m,\n",
      "  `t-test_padj` = \u001b[32mcol_double()\u001b[39m,\n",
      "  `t-test_score` = \u001b[32mcol_double()\u001b[39m,\n",
      "  `t-test_overestim_var_logfc` = \u001b[32mcol_double()\u001b[39m,\n",
      "  `t-test_overestim_var_padj` = \u001b[32mcol_double()\u001b[39m,\n",
      "  `t-test_overestim_var_score` = \u001b[32mcol_double()\u001b[39m\n",
      ")\n",
      "\n",
      "Warning message:\n",
      "“Unknown columns: `gene_name`”\n"
     ]
    },
    {
     "name": "stdout",
     "output_type": "stream",
     "text": [
      "[1] \"1_vs_7    Gene number: 2171\"\n"
     ]
    },
    {
     "name": "stderr",
     "output_type": "stream",
     "text": [
      "'select()' returned 1:many mapping between keys and columns\n",
      "\n",
      "Parsed with column specification:\n",
      "cols(\n",
      "  gene_names = \u001b[31mcol_character()\u001b[39m,\n",
      "  `1` = \u001b[32mcol_double()\u001b[39m,\n",
      "  `8` = \u001b[32mcol_double()\u001b[39m,\n",
      "  wilcoxon_logfc = \u001b[32mcol_double()\u001b[39m,\n",
      "  wilcoxon_padj = \u001b[32mcol_double()\u001b[39m,\n",
      "  wilcoxon_score = \u001b[32mcol_double()\u001b[39m,\n",
      "  `t-test_logfc` = \u001b[32mcol_double()\u001b[39m,\n",
      "  `t-test_padj` = \u001b[32mcol_double()\u001b[39m,\n",
      "  `t-test_score` = \u001b[32mcol_double()\u001b[39m,\n",
      "  `t-test_overestim_var_logfc` = \u001b[32mcol_double()\u001b[39m,\n",
      "  `t-test_overestim_var_padj` = \u001b[32mcol_double()\u001b[39m,\n",
      "  `t-test_overestim_var_score` = \u001b[32mcol_double()\u001b[39m\n",
      ")\n",
      "\n",
      "Warning message:\n",
      "“Unknown columns: `gene_name`”\n"
     ]
    },
    {
     "name": "stdout",
     "output_type": "stream",
     "text": [
      "[1] \"1_vs_8    Gene number: 2696\"\n"
     ]
    },
    {
     "name": "stderr",
     "output_type": "stream",
     "text": [
      "'select()' returned 1:many mapping between keys and columns\n",
      "\n",
      "Parsed with column specification:\n",
      "cols(\n",
      "  gene_names = \u001b[31mcol_character()\u001b[39m,\n",
      "  `1` = \u001b[32mcol_double()\u001b[39m,\n",
      "  `9` = \u001b[32mcol_double()\u001b[39m,\n",
      "  wilcoxon_logfc = \u001b[32mcol_double()\u001b[39m,\n",
      "  wilcoxon_padj = \u001b[32mcol_double()\u001b[39m,\n",
      "  wilcoxon_score = \u001b[32mcol_double()\u001b[39m,\n",
      "  `t-test_logfc` = \u001b[32mcol_double()\u001b[39m,\n",
      "  `t-test_padj` = \u001b[32mcol_double()\u001b[39m,\n",
      "  `t-test_score` = \u001b[32mcol_double()\u001b[39m,\n",
      "  `t-test_overestim_var_logfc` = \u001b[32mcol_double()\u001b[39m,\n",
      "  `t-test_overestim_var_padj` = \u001b[32mcol_double()\u001b[39m,\n",
      "  `t-test_overestim_var_score` = \u001b[32mcol_double()\u001b[39m\n",
      ")\n",
      "\n",
      "Warning message:\n",
      "“Unknown columns: `gene_name`”\n"
     ]
    },
    {
     "name": "stdout",
     "output_type": "stream",
     "text": [
      "[1] \"1_vs_9    Gene number: 5382\"\n"
     ]
    },
    {
     "name": "stderr",
     "output_type": "stream",
     "text": [
      "'select()' returned 1:many mapping between keys and columns\n",
      "\n",
      "Parsed with column specification:\n",
      "cols(\n",
      "  gene_names = \u001b[31mcol_character()\u001b[39m,\n",
      "  `0` = \u001b[32mcol_double()\u001b[39m,\n",
      "  `10` = \u001b[32mcol_double()\u001b[39m,\n",
      "  wilcoxon_logfc = \u001b[32mcol_double()\u001b[39m,\n",
      "  wilcoxon_padj = \u001b[32mcol_double()\u001b[39m,\n",
      "  wilcoxon_score = \u001b[32mcol_double()\u001b[39m,\n",
      "  `t-test_logfc` = \u001b[32mcol_double()\u001b[39m,\n",
      "  `t-test_padj` = \u001b[32mcol_double()\u001b[39m,\n",
      "  `t-test_score` = \u001b[32mcol_double()\u001b[39m,\n",
      "  `t-test_overestim_var_logfc` = \u001b[32mcol_double()\u001b[39m,\n",
      "  `t-test_overestim_var_padj` = \u001b[32mcol_double()\u001b[39m,\n",
      "  `t-test_overestim_var_score` = \u001b[32mcol_double()\u001b[39m\n",
      ")\n",
      "\n",
      "Warning message:\n",
      "“Unknown columns: `gene_name`”\n"
     ]
    },
    {
     "name": "stdout",
     "output_type": "stream",
     "text": [
      "[1] \"10_vs_0    Gene number: 4080\"\n"
     ]
    },
    {
     "name": "stderr",
     "output_type": "stream",
     "text": [
      "'select()' returned 1:many mapping between keys and columns\n",
      "\n",
      "Parsed with column specification:\n",
      "cols(\n",
      "  gene_names = \u001b[31mcol_character()\u001b[39m,\n",
      "  `1` = \u001b[32mcol_double()\u001b[39m,\n",
      "  `10` = \u001b[32mcol_double()\u001b[39m,\n",
      "  wilcoxon_logfc = \u001b[32mcol_double()\u001b[39m,\n",
      "  wilcoxon_padj = \u001b[32mcol_double()\u001b[39m,\n",
      "  wilcoxon_score = \u001b[32mcol_double()\u001b[39m,\n",
      "  `t-test_logfc` = \u001b[32mcol_double()\u001b[39m,\n",
      "  `t-test_padj` = \u001b[32mcol_double()\u001b[39m,\n",
      "  `t-test_score` = \u001b[32mcol_double()\u001b[39m,\n",
      "  `t-test_overestim_var_logfc` = \u001b[32mcol_double()\u001b[39m,\n",
      "  `t-test_overestim_var_padj` = \u001b[32mcol_double()\u001b[39m,\n",
      "  `t-test_overestim_var_score` = \u001b[32mcol_double()\u001b[39m\n",
      ")\n",
      "\n",
      "Warning message:\n",
      "“Unknown columns: `gene_name`”\n"
     ]
    },
    {
     "name": "stdout",
     "output_type": "stream",
     "text": [
      "[1] \"10_vs_1    Gene number: 1641\"\n"
     ]
    },
    {
     "name": "stderr",
     "output_type": "stream",
     "text": [
      "'select()' returned 1:many mapping between keys and columns\n",
      "\n",
      "Parsed with column specification:\n",
      "cols(\n",
      "  gene_names = \u001b[31mcol_character()\u001b[39m,\n",
      "  `10` = \u001b[32mcol_double()\u001b[39m,\n",
      "  `2` = \u001b[32mcol_double()\u001b[39m,\n",
      "  wilcoxon_logfc = \u001b[32mcol_double()\u001b[39m,\n",
      "  wilcoxon_padj = \u001b[32mcol_double()\u001b[39m,\n",
      "  wilcoxon_score = \u001b[32mcol_double()\u001b[39m,\n",
      "  `t-test_logfc` = \u001b[32mcol_double()\u001b[39m,\n",
      "  `t-test_padj` = \u001b[32mcol_double()\u001b[39m,\n",
      "  `t-test_score` = \u001b[32mcol_double()\u001b[39m,\n",
      "  `t-test_overestim_var_logfc` = \u001b[32mcol_double()\u001b[39m,\n",
      "  `t-test_overestim_var_padj` = \u001b[32mcol_double()\u001b[39m,\n",
      "  `t-test_overestim_var_score` = \u001b[32mcol_double()\u001b[39m\n",
      ")\n",
      "\n",
      "Warning message:\n",
      "“Unknown columns: `gene_name`”\n"
     ]
    },
    {
     "name": "stdout",
     "output_type": "stream",
     "text": [
      "[1] \"10_vs_2    Gene number: 5146\"\n"
     ]
    },
    {
     "name": "stderr",
     "output_type": "stream",
     "text": [
      "'select()' returned 1:many mapping between keys and columns\n",
      "\n",
      "Parsed with column specification:\n",
      "cols(\n",
      "  gene_names = \u001b[31mcol_character()\u001b[39m,\n",
      "  `10` = \u001b[32mcol_double()\u001b[39m,\n",
      "  `3` = \u001b[32mcol_double()\u001b[39m,\n",
      "  wilcoxon_logfc = \u001b[32mcol_double()\u001b[39m,\n",
      "  wilcoxon_padj = \u001b[32mcol_double()\u001b[39m,\n",
      "  wilcoxon_score = \u001b[32mcol_double()\u001b[39m,\n",
      "  `t-test_logfc` = \u001b[32mcol_double()\u001b[39m,\n",
      "  `t-test_padj` = \u001b[32mcol_double()\u001b[39m,\n",
      "  `t-test_score` = \u001b[32mcol_double()\u001b[39m,\n",
      "  `t-test_overestim_var_logfc` = \u001b[32mcol_double()\u001b[39m,\n",
      "  `t-test_overestim_var_padj` = \u001b[32mcol_double()\u001b[39m,\n",
      "  `t-test_overestim_var_score` = \u001b[32mcol_double()\u001b[39m\n",
      ")\n",
      "\n",
      "Warning message:\n",
      "“Unknown columns: `gene_name`”\n"
     ]
    },
    {
     "name": "stdout",
     "output_type": "stream",
     "text": [
      "[1] \"10_vs_3    Gene number: 5312\"\n"
     ]
    },
    {
     "name": "stderr",
     "output_type": "stream",
     "text": [
      "'select()' returned 1:many mapping between keys and columns\n",
      "\n",
      "Parsed with column specification:\n",
      "cols(\n",
      "  gene_names = \u001b[31mcol_character()\u001b[39m,\n",
      "  `10` = \u001b[32mcol_double()\u001b[39m,\n",
      "  `4` = \u001b[32mcol_double()\u001b[39m,\n",
      "  wilcoxon_logfc = \u001b[32mcol_double()\u001b[39m,\n",
      "  wilcoxon_padj = \u001b[32mcol_double()\u001b[39m,\n",
      "  wilcoxon_score = \u001b[32mcol_double()\u001b[39m,\n",
      "  `t-test_logfc` = \u001b[32mcol_double()\u001b[39m,\n",
      "  `t-test_padj` = \u001b[32mcol_double()\u001b[39m,\n",
      "  `t-test_score` = \u001b[32mcol_double()\u001b[39m,\n",
      "  `t-test_overestim_var_logfc` = \u001b[32mcol_double()\u001b[39m,\n",
      "  `t-test_overestim_var_padj` = \u001b[32mcol_double()\u001b[39m,\n",
      "  `t-test_overestim_var_score` = \u001b[32mcol_double()\u001b[39m\n",
      ")\n",
      "\n",
      "Warning message:\n",
      "“Unknown columns: `gene_name`”\n"
     ]
    },
    {
     "name": "stdout",
     "output_type": "stream",
     "text": [
      "[1] \"10_vs_4    Gene number: 1537\"\n"
     ]
    },
    {
     "name": "stderr",
     "output_type": "stream",
     "text": [
      "'select()' returned 1:many mapping between keys and columns\n",
      "\n",
      "Parsed with column specification:\n",
      "cols(\n",
      "  gene_names = \u001b[31mcol_character()\u001b[39m,\n",
      "  `10` = \u001b[32mcol_double()\u001b[39m,\n",
      "  `5` = \u001b[32mcol_double()\u001b[39m,\n",
      "  wilcoxon_logfc = \u001b[32mcol_double()\u001b[39m,\n",
      "  wilcoxon_padj = \u001b[32mcol_double()\u001b[39m,\n",
      "  wilcoxon_score = \u001b[32mcol_double()\u001b[39m,\n",
      "  `t-test_logfc` = \u001b[32mcol_double()\u001b[39m,\n",
      "  `t-test_padj` = \u001b[32mcol_double()\u001b[39m,\n",
      "  `t-test_score` = \u001b[32mcol_double()\u001b[39m,\n",
      "  `t-test_overestim_var_logfc` = \u001b[32mcol_double()\u001b[39m,\n",
      "  `t-test_overestim_var_padj` = \u001b[32mcol_double()\u001b[39m,\n",
      "  `t-test_overestim_var_score` = \u001b[32mcol_double()\u001b[39m\n",
      ")\n",
      "\n",
      "Warning message:\n",
      "“Unknown columns: `gene_name`”\n"
     ]
    },
    {
     "name": "stdout",
     "output_type": "stream",
     "text": [
      "[1] \"10_vs_5    Gene number: 1829\"\n"
     ]
    },
    {
     "name": "stderr",
     "output_type": "stream",
     "text": [
      "'select()' returned 1:many mapping between keys and columns\n",
      "\n",
      "Parsed with column specification:\n",
      "cols(\n",
      "  gene_names = \u001b[31mcol_character()\u001b[39m,\n",
      "  `10` = \u001b[32mcol_double()\u001b[39m,\n",
      "  `6` = \u001b[32mcol_double()\u001b[39m,\n",
      "  wilcoxon_logfc = \u001b[32mcol_double()\u001b[39m,\n",
      "  wilcoxon_padj = \u001b[32mcol_double()\u001b[39m,\n",
      "  wilcoxon_score = \u001b[32mcol_double()\u001b[39m,\n",
      "  `t-test_logfc` = \u001b[32mcol_double()\u001b[39m,\n",
      "  `t-test_padj` = \u001b[32mcol_double()\u001b[39m,\n",
      "  `t-test_score` = \u001b[32mcol_double()\u001b[39m,\n",
      "  `t-test_overestim_var_logfc` = \u001b[32mcol_double()\u001b[39m,\n",
      "  `t-test_overestim_var_padj` = \u001b[32mcol_double()\u001b[39m,\n",
      "  `t-test_overestim_var_score` = \u001b[32mcol_double()\u001b[39m\n",
      ")\n",
      "\n",
      "Warning message:\n",
      "“Unknown columns: `gene_name`”\n"
     ]
    },
    {
     "name": "stdout",
     "output_type": "stream",
     "text": [
      "[1] \"10_vs_6    Gene number: 1058\"\n"
     ]
    },
    {
     "name": "stderr",
     "output_type": "stream",
     "text": [
      "'select()' returned 1:many mapping between keys and columns\n",
      "\n",
      "Parsed with column specification:\n",
      "cols(\n",
      "  gene_names = \u001b[31mcol_character()\u001b[39m,\n",
      "  `10` = \u001b[32mcol_double()\u001b[39m,\n",
      "  `7` = \u001b[32mcol_double()\u001b[39m,\n",
      "  wilcoxon_logfc = \u001b[32mcol_double()\u001b[39m,\n",
      "  wilcoxon_padj = \u001b[32mcol_double()\u001b[39m,\n",
      "  wilcoxon_score = \u001b[32mcol_double()\u001b[39m,\n",
      "  `t-test_logfc` = \u001b[32mcol_double()\u001b[39m,\n",
      "  `t-test_padj` = \u001b[32mcol_double()\u001b[39m,\n",
      "  `t-test_score` = \u001b[32mcol_double()\u001b[39m,\n",
      "  `t-test_overestim_var_logfc` = \u001b[32mcol_double()\u001b[39m,\n",
      "  `t-test_overestim_var_padj` = \u001b[32mcol_double()\u001b[39m,\n",
      "  `t-test_overestim_var_score` = \u001b[32mcol_double()\u001b[39m\n",
      ")\n",
      "\n",
      "Warning message:\n",
      "“Unknown columns: `gene_name`”\n"
     ]
    },
    {
     "name": "stdout",
     "output_type": "stream",
     "text": [
      "[1] \"10_vs_7    Gene number: 2540\"\n"
     ]
    },
    {
     "name": "stderr",
     "output_type": "stream",
     "text": [
      "'select()' returned 1:many mapping between keys and columns\n",
      "\n",
      "Parsed with column specification:\n",
      "cols(\n",
      "  gene_names = \u001b[31mcol_character()\u001b[39m,\n",
      "  `10` = \u001b[32mcol_double()\u001b[39m,\n",
      "  `8` = \u001b[32mcol_double()\u001b[39m,\n",
      "  wilcoxon_logfc = \u001b[32mcol_double()\u001b[39m,\n",
      "  wilcoxon_padj = \u001b[32mcol_double()\u001b[39m,\n",
      "  wilcoxon_score = \u001b[32mcol_double()\u001b[39m,\n",
      "  `t-test_logfc` = \u001b[32mcol_double()\u001b[39m,\n",
      "  `t-test_padj` = \u001b[32mcol_double()\u001b[39m,\n",
      "  `t-test_score` = \u001b[32mcol_double()\u001b[39m,\n",
      "  `t-test_overestim_var_logfc` = \u001b[32mcol_double()\u001b[39m,\n",
      "  `t-test_overestim_var_padj` = \u001b[32mcol_double()\u001b[39m,\n",
      "  `t-test_overestim_var_score` = \u001b[32mcol_double()\u001b[39m\n",
      ")\n",
      "\n",
      "Warning message:\n",
      "“Unknown columns: `gene_name`”\n"
     ]
    },
    {
     "name": "stdout",
     "output_type": "stream",
     "text": [
      "[1] \"10_vs_8    Gene number: 3267\"\n"
     ]
    },
    {
     "name": "stderr",
     "output_type": "stream",
     "text": [
      "'select()' returned 1:many mapping between keys and columns\n",
      "\n",
      "Parsed with column specification:\n",
      "cols(\n",
      "  gene_names = \u001b[31mcol_character()\u001b[39m,\n",
      "  `10` = \u001b[32mcol_double()\u001b[39m,\n",
      "  `9` = \u001b[32mcol_double()\u001b[39m,\n",
      "  wilcoxon_logfc = \u001b[32mcol_double()\u001b[39m,\n",
      "  wilcoxon_padj = \u001b[32mcol_double()\u001b[39m,\n",
      "  wilcoxon_score = \u001b[32mcol_double()\u001b[39m,\n",
      "  `t-test_logfc` = \u001b[32mcol_double()\u001b[39m,\n",
      "  `t-test_padj` = \u001b[32mcol_double()\u001b[39m,\n",
      "  `t-test_score` = \u001b[32mcol_double()\u001b[39m,\n",
      "  `t-test_overestim_var_logfc` = \u001b[32mcol_double()\u001b[39m,\n",
      "  `t-test_overestim_var_padj` = \u001b[32mcol_double()\u001b[39m,\n",
      "  `t-test_overestim_var_score` = \u001b[32mcol_double()\u001b[39m\n",
      ")\n",
      "\n",
      "Warning message:\n",
      "“Unknown columns: `gene_name`”\n"
     ]
    },
    {
     "name": "stdout",
     "output_type": "stream",
     "text": [
      "[1] \"10_vs_9    Gene number: 5850\"\n"
     ]
    },
    {
     "name": "stderr",
     "output_type": "stream",
     "text": [
      "'select()' returned 1:many mapping between keys and columns\n",
      "\n",
      "Parsed with column specification:\n",
      "cols(\n",
      "  gene_names = \u001b[31mcol_character()\u001b[39m,\n",
      "  `0` = \u001b[32mcol_double()\u001b[39m,\n",
      "  `2` = \u001b[32mcol_double()\u001b[39m,\n",
      "  wilcoxon_logfc = \u001b[32mcol_double()\u001b[39m,\n",
      "  wilcoxon_padj = \u001b[32mcol_double()\u001b[39m,\n",
      "  wilcoxon_score = \u001b[32mcol_double()\u001b[39m,\n",
      "  `t-test_logfc` = \u001b[32mcol_double()\u001b[39m,\n",
      "  `t-test_padj` = \u001b[32mcol_double()\u001b[39m,\n",
      "  `t-test_score` = \u001b[32mcol_double()\u001b[39m,\n",
      "  `t-test_overestim_var_logfc` = \u001b[32mcol_double()\u001b[39m,\n",
      "  `t-test_overestim_var_padj` = \u001b[32mcol_double()\u001b[39m,\n",
      "  `t-test_overestim_var_score` = \u001b[32mcol_double()\u001b[39m\n",
      ")\n",
      "\n",
      "Warning message:\n",
      "“Unknown columns: `gene_name`”\n"
     ]
    },
    {
     "name": "stdout",
     "output_type": "stream",
     "text": [
      "[1] \"2_vs_0    Gene number: 832\"\n"
     ]
    },
    {
     "name": "stderr",
     "output_type": "stream",
     "text": [
      "'select()' returned 1:many mapping between keys and columns\n",
      "\n",
      "Parsed with column specification:\n",
      "cols(\n",
      "  gene_names = \u001b[31mcol_character()\u001b[39m,\n",
      "  `1` = \u001b[32mcol_double()\u001b[39m,\n",
      "  `2` = \u001b[32mcol_double()\u001b[39m,\n",
      "  wilcoxon_logfc = \u001b[32mcol_double()\u001b[39m,\n",
      "  wilcoxon_padj = \u001b[32mcol_double()\u001b[39m,\n",
      "  wilcoxon_score = \u001b[32mcol_double()\u001b[39m,\n",
      "  `t-test_logfc` = \u001b[32mcol_double()\u001b[39m,\n",
      "  `t-test_padj` = \u001b[32mcol_double()\u001b[39m,\n",
      "  `t-test_score` = \u001b[32mcol_double()\u001b[39m,\n",
      "  `t-test_overestim_var_logfc` = \u001b[32mcol_double()\u001b[39m,\n",
      "  `t-test_overestim_var_padj` = \u001b[32mcol_double()\u001b[39m,\n",
      "  `t-test_overestim_var_score` = \u001b[32mcol_double()\u001b[39m\n",
      ")\n",
      "\n",
      "Warning message:\n",
      "“Unknown columns: `gene_name`”\n"
     ]
    },
    {
     "name": "stdout",
     "output_type": "stream",
     "text": [
      "[1] \"2_vs_1    Gene number: 1078\"\n"
     ]
    },
    {
     "name": "stderr",
     "output_type": "stream",
     "text": [
      "'select()' returned 1:many mapping between keys and columns\n",
      "\n",
      "Parsed with column specification:\n",
      "cols(\n",
      "  gene_names = \u001b[31mcol_character()\u001b[39m,\n",
      "  `10` = \u001b[32mcol_double()\u001b[39m,\n",
      "  `2` = \u001b[32mcol_double()\u001b[39m,\n",
      "  wilcoxon_logfc = \u001b[32mcol_double()\u001b[39m,\n",
      "  wilcoxon_padj = \u001b[32mcol_double()\u001b[39m,\n",
      "  wilcoxon_score = \u001b[32mcol_double()\u001b[39m,\n",
      "  `t-test_logfc` = \u001b[32mcol_double()\u001b[39m,\n",
      "  `t-test_padj` = \u001b[32mcol_double()\u001b[39m,\n",
      "  `t-test_score` = \u001b[32mcol_double()\u001b[39m,\n",
      "  `t-test_overestim_var_logfc` = \u001b[32mcol_double()\u001b[39m,\n",
      "  `t-test_overestim_var_padj` = \u001b[32mcol_double()\u001b[39m,\n",
      "  `t-test_overestim_var_score` = \u001b[32mcol_double()\u001b[39m\n",
      ")\n",
      "\n",
      "Warning message:\n",
      "“Unknown columns: `gene_name`”\n"
     ]
    },
    {
     "name": "stdout",
     "output_type": "stream",
     "text": [
      "[1] \"2_vs_10    Gene number: 980\"\n"
     ]
    },
    {
     "name": "stderr",
     "output_type": "stream",
     "text": [
      "'select()' returned 1:many mapping between keys and columns\n",
      "\n",
      "Parsed with column specification:\n",
      "cols(\n",
      "  gene_names = \u001b[31mcol_character()\u001b[39m,\n",
      "  `2` = \u001b[32mcol_double()\u001b[39m,\n",
      "  `3` = \u001b[32mcol_double()\u001b[39m,\n",
      "  wilcoxon_logfc = \u001b[32mcol_double()\u001b[39m,\n",
      "  wilcoxon_padj = \u001b[32mcol_double()\u001b[39m,\n",
      "  wilcoxon_score = \u001b[32mcol_double()\u001b[39m,\n",
      "  `t-test_logfc` = \u001b[32mcol_double()\u001b[39m,\n",
      "  `t-test_padj` = \u001b[32mcol_double()\u001b[39m,\n",
      "  `t-test_score` = \u001b[32mcol_double()\u001b[39m,\n",
      "  `t-test_overestim_var_logfc` = \u001b[32mcol_double()\u001b[39m,\n",
      "  `t-test_overestim_var_padj` = \u001b[32mcol_double()\u001b[39m,\n",
      "  `t-test_overestim_var_score` = \u001b[32mcol_double()\u001b[39m\n",
      ")\n",
      "\n",
      "Warning message:\n",
      "“Unknown columns: `gene_name`”\n"
     ]
    },
    {
     "name": "stdout",
     "output_type": "stream",
     "text": [
      "[1] \"2_vs_3    Gene number: 1994\"\n"
     ]
    },
    {
     "name": "stderr",
     "output_type": "stream",
     "text": [
      "'select()' returned 1:many mapping between keys and columns\n",
      "\n",
      "Parsed with column specification:\n",
      "cols(\n",
      "  gene_names = \u001b[31mcol_character()\u001b[39m,\n",
      "  `2` = \u001b[32mcol_double()\u001b[39m,\n",
      "  `4` = \u001b[32mcol_double()\u001b[39m,\n",
      "  wilcoxon_logfc = \u001b[32mcol_double()\u001b[39m,\n",
      "  wilcoxon_padj = \u001b[32mcol_double()\u001b[39m,\n",
      "  wilcoxon_score = \u001b[32mcol_double()\u001b[39m,\n",
      "  `t-test_logfc` = \u001b[32mcol_double()\u001b[39m,\n",
      "  `t-test_padj` = \u001b[32mcol_double()\u001b[39m,\n",
      "  `t-test_score` = \u001b[32mcol_double()\u001b[39m,\n",
      "  `t-test_overestim_var_logfc` = \u001b[32mcol_double()\u001b[39m,\n",
      "  `t-test_overestim_var_padj` = \u001b[32mcol_double()\u001b[39m,\n",
      "  `t-test_overestim_var_score` = \u001b[32mcol_double()\u001b[39m\n",
      ")\n",
      "\n",
      "Warning message:\n",
      "“Unknown columns: `gene_name`”\n"
     ]
    },
    {
     "name": "stdout",
     "output_type": "stream",
     "text": [
      "[1] \"2_vs_4    Gene number: 1391\"\n"
     ]
    },
    {
     "name": "stderr",
     "output_type": "stream",
     "text": [
      "'select()' returned 1:many mapping between keys and columns\n",
      "\n",
      "Parsed with column specification:\n",
      "cols(\n",
      "  gene_names = \u001b[31mcol_character()\u001b[39m,\n",
      "  `2` = \u001b[32mcol_double()\u001b[39m,\n",
      "  `5` = \u001b[32mcol_double()\u001b[39m,\n",
      "  wilcoxon_logfc = \u001b[32mcol_double()\u001b[39m,\n",
      "  wilcoxon_padj = \u001b[32mcol_double()\u001b[39m,\n",
      "  wilcoxon_score = \u001b[32mcol_double()\u001b[39m,\n",
      "  `t-test_logfc` = \u001b[32mcol_double()\u001b[39m,\n",
      "  `t-test_padj` = \u001b[32mcol_double()\u001b[39m,\n",
      "  `t-test_score` = \u001b[32mcol_double()\u001b[39m,\n",
      "  `t-test_overestim_var_logfc` = \u001b[32mcol_double()\u001b[39m,\n",
      "  `t-test_overestim_var_padj` = \u001b[32mcol_double()\u001b[39m,\n",
      "  `t-test_overestim_var_score` = \u001b[32mcol_double()\u001b[39m\n",
      ")\n",
      "\n",
      "Warning message:\n",
      "“Unknown columns: `gene_name`”\n"
     ]
    },
    {
     "name": "stdout",
     "output_type": "stream",
     "text": [
      "[1] \"2_vs_5    Gene number: 1205\"\n"
     ]
    },
    {
     "name": "stderr",
     "output_type": "stream",
     "text": [
      "'select()' returned 1:many mapping between keys and columns\n",
      "\n",
      "Parsed with column specification:\n",
      "cols(\n",
      "  gene_names = \u001b[31mcol_character()\u001b[39m,\n",
      "  `2` = \u001b[32mcol_double()\u001b[39m,\n",
      "  `6` = \u001b[32mcol_double()\u001b[39m,\n",
      "  wilcoxon_logfc = \u001b[32mcol_double()\u001b[39m,\n",
      "  wilcoxon_padj = \u001b[32mcol_double()\u001b[39m,\n",
      "  wilcoxon_score = \u001b[32mcol_double()\u001b[39m,\n",
      "  `t-test_logfc` = \u001b[32mcol_double()\u001b[39m,\n",
      "  `t-test_padj` = \u001b[32mcol_double()\u001b[39m,\n",
      "  `t-test_score` = \u001b[32mcol_double()\u001b[39m,\n",
      "  `t-test_overestim_var_logfc` = \u001b[32mcol_double()\u001b[39m,\n",
      "  `t-test_overestim_var_padj` = \u001b[32mcol_double()\u001b[39m,\n",
      "  `t-test_overestim_var_score` = \u001b[32mcol_double()\u001b[39m\n",
      ")\n",
      "\n",
      "Warning message:\n",
      "“Unknown columns: `gene_name`”\n"
     ]
    },
    {
     "name": "stdout",
     "output_type": "stream",
     "text": [
      "[1] \"2_vs_6    Gene number: 1373\"\n"
     ]
    },
    {
     "name": "stderr",
     "output_type": "stream",
     "text": [
      "'select()' returned 1:many mapping between keys and columns\n",
      "\n",
      "Parsed with column specification:\n",
      "cols(\n",
      "  gene_names = \u001b[31mcol_character()\u001b[39m,\n",
      "  `2` = \u001b[32mcol_double()\u001b[39m,\n",
      "  `7` = \u001b[32mcol_double()\u001b[39m,\n",
      "  wilcoxon_logfc = \u001b[32mcol_double()\u001b[39m,\n",
      "  wilcoxon_padj = \u001b[32mcol_double()\u001b[39m,\n",
      "  wilcoxon_score = \u001b[32mcol_double()\u001b[39m,\n",
      "  `t-test_logfc` = \u001b[32mcol_double()\u001b[39m,\n",
      "  `t-test_padj` = \u001b[32mcol_double()\u001b[39m,\n",
      "  `t-test_score` = \u001b[32mcol_double()\u001b[39m,\n",
      "  `t-test_overestim_var_logfc` = \u001b[32mcol_double()\u001b[39m,\n",
      "  `t-test_overestim_var_padj` = \u001b[32mcol_double()\u001b[39m,\n",
      "  `t-test_overestim_var_score` = \u001b[32mcol_double()\u001b[39m\n",
      ")\n",
      "\n",
      "Warning message:\n",
      "“Unknown columns: `gene_name`”\n"
     ]
    },
    {
     "name": "stdout",
     "output_type": "stream",
     "text": [
      "[1] \"2_vs_7    Gene number: 1069\"\n"
     ]
    },
    {
     "name": "stderr",
     "output_type": "stream",
     "text": [
      "'select()' returned 1:many mapping between keys and columns\n",
      "\n",
      "Parsed with column specification:\n",
      "cols(\n",
      "  gene_names = \u001b[31mcol_character()\u001b[39m,\n",
      "  `2` = \u001b[32mcol_double()\u001b[39m,\n",
      "  `8` = \u001b[32mcol_double()\u001b[39m,\n",
      "  wilcoxon_logfc = \u001b[32mcol_double()\u001b[39m,\n",
      "  wilcoxon_padj = \u001b[32mcol_double()\u001b[39m,\n",
      "  wilcoxon_score = \u001b[32mcol_double()\u001b[39m,\n",
      "  `t-test_logfc` = \u001b[32mcol_double()\u001b[39m,\n",
      "  `t-test_padj` = \u001b[32mcol_double()\u001b[39m,\n",
      "  `t-test_score` = \u001b[32mcol_double()\u001b[39m,\n",
      "  `t-test_overestim_var_logfc` = \u001b[32mcol_double()\u001b[39m,\n",
      "  `t-test_overestim_var_padj` = \u001b[32mcol_double()\u001b[39m,\n",
      "  `t-test_overestim_var_score` = \u001b[32mcol_double()\u001b[39m\n",
      ")\n",
      "\n",
      "Warning message:\n",
      "“Unknown columns: `gene_name`”\n"
     ]
    },
    {
     "name": "stdout",
     "output_type": "stream",
     "text": [
      "[1] \"2_vs_8    Gene number: 1138\"\n"
     ]
    },
    {
     "name": "stderr",
     "output_type": "stream",
     "text": [
      "'select()' returned 1:many mapping between keys and columns\n",
      "\n",
      "Parsed with column specification:\n",
      "cols(\n",
      "  gene_names = \u001b[31mcol_character()\u001b[39m,\n",
      "  `2` = \u001b[32mcol_double()\u001b[39m,\n",
      "  `9` = \u001b[32mcol_double()\u001b[39m,\n",
      "  wilcoxon_logfc = \u001b[32mcol_double()\u001b[39m,\n",
      "  wilcoxon_padj = \u001b[32mcol_double()\u001b[39m,\n",
      "  wilcoxon_score = \u001b[32mcol_double()\u001b[39m,\n",
      "  `t-test_logfc` = \u001b[32mcol_double()\u001b[39m,\n",
      "  `t-test_padj` = \u001b[32mcol_double()\u001b[39m,\n",
      "  `t-test_score` = \u001b[32mcol_double()\u001b[39m,\n",
      "  `t-test_overestim_var_logfc` = \u001b[32mcol_double()\u001b[39m,\n",
      "  `t-test_overestim_var_padj` = \u001b[32mcol_double()\u001b[39m,\n",
      "  `t-test_overestim_var_score` = \u001b[32mcol_double()\u001b[39m\n",
      ")\n",
      "\n",
      "Warning message:\n",
      "“Unknown columns: `gene_name`”\n"
     ]
    },
    {
     "name": "stdout",
     "output_type": "stream",
     "text": [
      "[1] \"2_vs_9    Gene number: 2307\"\n"
     ]
    },
    {
     "name": "stderr",
     "output_type": "stream",
     "text": [
      "'select()' returned 1:many mapping between keys and columns\n",
      "\n",
      "Parsed with column specification:\n",
      "cols(\n",
      "  gene_names = \u001b[31mcol_character()\u001b[39m,\n",
      "  `0` = \u001b[32mcol_double()\u001b[39m,\n",
      "  `3` = \u001b[32mcol_double()\u001b[39m,\n",
      "  wilcoxon_logfc = \u001b[32mcol_double()\u001b[39m,\n",
      "  wilcoxon_padj = \u001b[32mcol_double()\u001b[39m,\n",
      "  wilcoxon_score = \u001b[32mcol_double()\u001b[39m,\n",
      "  `t-test_logfc` = \u001b[32mcol_double()\u001b[39m,\n",
      "  `t-test_padj` = \u001b[32mcol_double()\u001b[39m,\n",
      "  `t-test_score` = \u001b[32mcol_double()\u001b[39m,\n",
      "  `t-test_overestim_var_logfc` = \u001b[32mcol_double()\u001b[39m,\n",
      "  `t-test_overestim_var_padj` = \u001b[32mcol_double()\u001b[39m,\n",
      "  `t-test_overestim_var_score` = \u001b[32mcol_double()\u001b[39m\n",
      ")\n",
      "\n",
      "Warning message:\n",
      "“Unknown columns: `gene_name`”\n"
     ]
    },
    {
     "name": "stdout",
     "output_type": "stream",
     "text": [
      "[1] \"3_vs_0    Gene number: 2063\"\n"
     ]
    },
    {
     "name": "stderr",
     "output_type": "stream",
     "text": [
      "'select()' returned 1:many mapping between keys and columns\n",
      "\n",
      "Parsed with column specification:\n",
      "cols(\n",
      "  gene_names = \u001b[31mcol_character()\u001b[39m,\n",
      "  `1` = \u001b[32mcol_double()\u001b[39m,\n",
      "  `3` = \u001b[32mcol_double()\u001b[39m,\n",
      "  wilcoxon_logfc = \u001b[32mcol_double()\u001b[39m,\n",
      "  wilcoxon_padj = \u001b[32mcol_double()\u001b[39m,\n",
      "  wilcoxon_score = \u001b[32mcol_double()\u001b[39m,\n",
      "  `t-test_logfc` = \u001b[32mcol_double()\u001b[39m,\n",
      "  `t-test_padj` = \u001b[32mcol_double()\u001b[39m,\n",
      "  `t-test_score` = \u001b[32mcol_double()\u001b[39m,\n",
      "  `t-test_overestim_var_logfc` = \u001b[32mcol_double()\u001b[39m,\n",
      "  `t-test_overestim_var_padj` = \u001b[32mcol_double()\u001b[39m,\n",
      "  `t-test_overestim_var_score` = \u001b[32mcol_double()\u001b[39m\n",
      ")\n",
      "\n",
      "Warning message:\n",
      "“Unknown columns: `gene_name`”\n"
     ]
    },
    {
     "name": "stdout",
     "output_type": "stream",
     "text": [
      "[1] \"3_vs_1    Gene number: 2202\"\n"
     ]
    },
    {
     "name": "stderr",
     "output_type": "stream",
     "text": [
      "'select()' returned 1:many mapping between keys and columns\n",
      "\n",
      "Parsed with column specification:\n",
      "cols(\n",
      "  gene_names = \u001b[31mcol_character()\u001b[39m,\n",
      "  `10` = \u001b[32mcol_double()\u001b[39m,\n",
      "  `3` = \u001b[32mcol_double()\u001b[39m,\n",
      "  wilcoxon_logfc = \u001b[32mcol_double()\u001b[39m,\n",
      "  wilcoxon_padj = \u001b[32mcol_double()\u001b[39m,\n",
      "  wilcoxon_score = \u001b[32mcol_double()\u001b[39m,\n",
      "  `t-test_logfc` = \u001b[32mcol_double()\u001b[39m,\n",
      "  `t-test_padj` = \u001b[32mcol_double()\u001b[39m,\n",
      "  `t-test_score` = \u001b[32mcol_double()\u001b[39m,\n",
      "  `t-test_overestim_var_logfc` = \u001b[32mcol_double()\u001b[39m,\n",
      "  `t-test_overestim_var_padj` = \u001b[32mcol_double()\u001b[39m,\n",
      "  `t-test_overestim_var_score` = \u001b[32mcol_double()\u001b[39m\n",
      ")\n",
      "\n",
      "Warning message:\n",
      "“Unknown columns: `gene_name`”\n"
     ]
    },
    {
     "name": "stdout",
     "output_type": "stream",
     "text": [
      "[1] \"3_vs_10    Gene number: 1900\"\n"
     ]
    },
    {
     "name": "stderr",
     "output_type": "stream",
     "text": [
      "'select()' returned 1:many mapping between keys and columns\n",
      "\n",
      "Parsed with column specification:\n",
      "cols(\n",
      "  gene_names = \u001b[31mcol_character()\u001b[39m,\n",
      "  `2` = \u001b[32mcol_double()\u001b[39m,\n",
      "  `3` = \u001b[32mcol_double()\u001b[39m,\n",
      "  wilcoxon_logfc = \u001b[32mcol_double()\u001b[39m,\n",
      "  wilcoxon_padj = \u001b[32mcol_double()\u001b[39m,\n",
      "  wilcoxon_score = \u001b[32mcol_double()\u001b[39m,\n",
      "  `t-test_logfc` = \u001b[32mcol_double()\u001b[39m,\n",
      "  `t-test_padj` = \u001b[32mcol_double()\u001b[39m,\n",
      "  `t-test_score` = \u001b[32mcol_double()\u001b[39m,\n",
      "  `t-test_overestim_var_logfc` = \u001b[32mcol_double()\u001b[39m,\n",
      "  `t-test_overestim_var_padj` = \u001b[32mcol_double()\u001b[39m,\n",
      "  `t-test_overestim_var_score` = \u001b[32mcol_double()\u001b[39m\n",
      ")\n",
      "\n",
      "Warning message:\n",
      "“Unknown columns: `gene_name`”\n"
     ]
    },
    {
     "name": "stdout",
     "output_type": "stream",
     "text": [
      "[1] \"3_vs_2    Gene number: 2664\"\n"
     ]
    },
    {
     "name": "stderr",
     "output_type": "stream",
     "text": [
      "'select()' returned 1:many mapping between keys and columns\n",
      "\n",
      "Parsed with column specification:\n",
      "cols(\n",
      "  gene_names = \u001b[31mcol_character()\u001b[39m,\n",
      "  `3` = \u001b[32mcol_double()\u001b[39m,\n",
      "  `4` = \u001b[32mcol_double()\u001b[39m,\n",
      "  wilcoxon_logfc = \u001b[32mcol_double()\u001b[39m,\n",
      "  wilcoxon_padj = \u001b[32mcol_double()\u001b[39m,\n",
      "  wilcoxon_score = \u001b[32mcol_double()\u001b[39m,\n",
      "  `t-test_logfc` = \u001b[32mcol_double()\u001b[39m,\n",
      "  `t-test_padj` = \u001b[32mcol_double()\u001b[39m,\n",
      "  `t-test_score` = \u001b[32mcol_double()\u001b[39m,\n",
      "  `t-test_overestim_var_logfc` = \u001b[32mcol_double()\u001b[39m,\n",
      "  `t-test_overestim_var_padj` = \u001b[32mcol_double()\u001b[39m,\n",
      "  `t-test_overestim_var_score` = \u001b[32mcol_double()\u001b[39m\n",
      ")\n",
      "\n",
      "Warning message:\n",
      "“Unknown columns: `gene_name`”\n"
     ]
    },
    {
     "name": "stdout",
     "output_type": "stream",
     "text": [
      "[1] \"3_vs_4    Gene number: 2302\"\n"
     ]
    },
    {
     "name": "stderr",
     "output_type": "stream",
     "text": [
      "'select()' returned 1:many mapping between keys and columns\n",
      "\n",
      "Parsed with column specification:\n",
      "cols(\n",
      "  gene_names = \u001b[31mcol_character()\u001b[39m,\n",
      "  `3` = \u001b[32mcol_double()\u001b[39m,\n",
      "  `5` = \u001b[32mcol_double()\u001b[39m,\n",
      "  wilcoxon_logfc = \u001b[32mcol_double()\u001b[39m,\n",
      "  wilcoxon_padj = \u001b[32mcol_double()\u001b[39m,\n",
      "  wilcoxon_score = \u001b[32mcol_double()\u001b[39m,\n",
      "  `t-test_logfc` = \u001b[32mcol_double()\u001b[39m,\n",
      "  `t-test_padj` = \u001b[32mcol_double()\u001b[39m,\n",
      "  `t-test_score` = \u001b[32mcol_double()\u001b[39m,\n",
      "  `t-test_overestim_var_logfc` = \u001b[32mcol_double()\u001b[39m,\n",
      "  `t-test_overestim_var_padj` = \u001b[32mcol_double()\u001b[39m,\n",
      "  `t-test_overestim_var_score` = \u001b[32mcol_double()\u001b[39m\n",
      ")\n",
      "\n",
      "Warning message:\n",
      "“Unknown columns: `gene_name`”\n"
     ]
    },
    {
     "name": "stdout",
     "output_type": "stream",
     "text": [
      "[1] \"3_vs_5    Gene number: 2240\"\n"
     ]
    },
    {
     "name": "stderr",
     "output_type": "stream",
     "text": [
      "'select()' returned 1:many mapping between keys and columns\n",
      "\n",
      "Parsed with column specification:\n",
      "cols(\n",
      "  gene_names = \u001b[31mcol_character()\u001b[39m,\n",
      "  `3` = \u001b[32mcol_double()\u001b[39m,\n",
      "  `6` = \u001b[32mcol_double()\u001b[39m,\n",
      "  wilcoxon_logfc = \u001b[32mcol_double()\u001b[39m,\n",
      "  wilcoxon_padj = \u001b[32mcol_double()\u001b[39m,\n",
      "  wilcoxon_score = \u001b[32mcol_double()\u001b[39m,\n",
      "  `t-test_logfc` = \u001b[32mcol_double()\u001b[39m,\n",
      "  `t-test_padj` = \u001b[32mcol_double()\u001b[39m,\n",
      "  `t-test_score` = \u001b[32mcol_double()\u001b[39m,\n",
      "  `t-test_overestim_var_logfc` = \u001b[32mcol_double()\u001b[39m,\n",
      "  `t-test_overestim_var_padj` = \u001b[32mcol_double()\u001b[39m,\n",
      "  `t-test_overestim_var_score` = \u001b[32mcol_double()\u001b[39m\n",
      ")\n",
      "\n",
      "Warning message:\n",
      "“Unknown columns: `gene_name`”\n"
     ]
    },
    {
     "name": "stdout",
     "output_type": "stream",
     "text": [
      "[1] \"3_vs_6    Gene number: 2012\"\n"
     ]
    },
    {
     "name": "stderr",
     "output_type": "stream",
     "text": [
      "'select()' returned 1:many mapping between keys and columns\n",
      "\n",
      "Parsed with column specification:\n",
      "cols(\n",
      "  gene_names = \u001b[31mcol_character()\u001b[39m,\n",
      "  `3` = \u001b[32mcol_double()\u001b[39m,\n",
      "  `7` = \u001b[32mcol_double()\u001b[39m,\n",
      "  wilcoxon_logfc = \u001b[32mcol_double()\u001b[39m,\n",
      "  wilcoxon_padj = \u001b[32mcol_double()\u001b[39m,\n",
      "  wilcoxon_score = \u001b[32mcol_double()\u001b[39m,\n",
      "  `t-test_logfc` = \u001b[32mcol_double()\u001b[39m,\n",
      "  `t-test_padj` = \u001b[32mcol_double()\u001b[39m,\n",
      "  `t-test_score` = \u001b[32mcol_double()\u001b[39m,\n",
      "  `t-test_overestim_var_logfc` = \u001b[32mcol_double()\u001b[39m,\n",
      "  `t-test_overestim_var_padj` = \u001b[32mcol_double()\u001b[39m,\n",
      "  `t-test_overestim_var_score` = \u001b[32mcol_double()\u001b[39m\n",
      ")\n",
      "\n",
      "Warning message:\n",
      "“Unknown columns: `gene_name`”\n"
     ]
    },
    {
     "name": "stdout",
     "output_type": "stream",
     "text": [
      "[1] \"3_vs_7    Gene number: 1617\"\n"
     ]
    },
    {
     "name": "stderr",
     "output_type": "stream",
     "text": [
      "'select()' returned 1:many mapping between keys and columns\n",
      "\n",
      "Parsed with column specification:\n",
      "cols(\n",
      "  gene_names = \u001b[31mcol_character()\u001b[39m,\n",
      "  `3` = \u001b[32mcol_double()\u001b[39m,\n",
      "  `8` = \u001b[32mcol_double()\u001b[39m,\n",
      "  wilcoxon_logfc = \u001b[32mcol_double()\u001b[39m,\n",
      "  wilcoxon_padj = \u001b[32mcol_double()\u001b[39m,\n",
      "  wilcoxon_score = \u001b[32mcol_double()\u001b[39m,\n",
      "  `t-test_logfc` = \u001b[32mcol_double()\u001b[39m,\n",
      "  `t-test_padj` = \u001b[32mcol_double()\u001b[39m,\n",
      "  `t-test_score` = \u001b[32mcol_double()\u001b[39m,\n",
      "  `t-test_overestim_var_logfc` = \u001b[32mcol_double()\u001b[39m,\n",
      "  `t-test_overestim_var_padj` = \u001b[32mcol_double()\u001b[39m,\n",
      "  `t-test_overestim_var_score` = \u001b[32mcol_double()\u001b[39m\n",
      ")\n",
      "\n",
      "Warning message:\n",
      "“Unknown columns: `gene_name`”\n"
     ]
    },
    {
     "name": "stdout",
     "output_type": "stream",
     "text": [
      "[1] \"3_vs_8    Gene number: 2021\"\n"
     ]
    },
    {
     "name": "stderr",
     "output_type": "stream",
     "text": [
      "'select()' returned 1:many mapping between keys and columns\n",
      "\n",
      "Parsed with column specification:\n",
      "cols(\n",
      "  gene_names = \u001b[31mcol_character()\u001b[39m,\n",
      "  `3` = \u001b[32mcol_double()\u001b[39m,\n",
      "  `9` = \u001b[32mcol_double()\u001b[39m,\n",
      "  wilcoxon_logfc = \u001b[32mcol_double()\u001b[39m,\n",
      "  wilcoxon_padj = \u001b[32mcol_double()\u001b[39m,\n",
      "  wilcoxon_score = \u001b[32mcol_double()\u001b[39m,\n",
      "  `t-test_logfc` = \u001b[32mcol_double()\u001b[39m,\n",
      "  `t-test_padj` = \u001b[32mcol_double()\u001b[39m,\n",
      "  `t-test_score` = \u001b[32mcol_double()\u001b[39m,\n",
      "  `t-test_overestim_var_logfc` = \u001b[32mcol_double()\u001b[39m,\n",
      "  `t-test_overestim_var_padj` = \u001b[32mcol_double()\u001b[39m,\n",
      "  `t-test_overestim_var_score` = \u001b[32mcol_double()\u001b[39m\n",
      ")\n",
      "\n",
      "Warning message:\n",
      "“Unknown columns: `gene_name`”\n"
     ]
    },
    {
     "name": "stdout",
     "output_type": "stream",
     "text": [
      "[1] \"3_vs_9    Gene number: 2012\"\n"
     ]
    },
    {
     "name": "stderr",
     "output_type": "stream",
     "text": [
      "'select()' returned 1:many mapping between keys and columns\n",
      "\n",
      "Parsed with column specification:\n",
      "cols(\n",
      "  gene_names = \u001b[31mcol_character()\u001b[39m,\n",
      "  `0` = \u001b[32mcol_double()\u001b[39m,\n",
      "  `4` = \u001b[32mcol_double()\u001b[39m,\n",
      "  wilcoxon_logfc = \u001b[32mcol_double()\u001b[39m,\n",
      "  wilcoxon_padj = \u001b[32mcol_double()\u001b[39m,\n",
      "  wilcoxon_score = \u001b[32mcol_double()\u001b[39m,\n",
      "  `t-test_logfc` = \u001b[32mcol_double()\u001b[39m,\n",
      "  `t-test_padj` = \u001b[32mcol_double()\u001b[39m,\n",
      "  `t-test_score` = \u001b[32mcol_double()\u001b[39m,\n",
      "  `t-test_overestim_var_logfc` = \u001b[32mcol_double()\u001b[39m,\n",
      "  `t-test_overestim_var_padj` = \u001b[32mcol_double()\u001b[39m,\n",
      "  `t-test_overestim_var_score` = \u001b[32mcol_double()\u001b[39m\n",
      ")\n",
      "\n",
      "Warning message:\n",
      "“Unknown columns: `gene_name`”\n"
     ]
    },
    {
     "name": "stdout",
     "output_type": "stream",
     "text": [
      "[1] \"4_vs_0    Gene number: 3403\"\n"
     ]
    },
    {
     "name": "stderr",
     "output_type": "stream",
     "text": [
      "'select()' returned 1:many mapping between keys and columns\n",
      "\n",
      "Parsed with column specification:\n",
      "cols(\n",
      "  gene_names = \u001b[31mcol_character()\u001b[39m,\n",
      "  `1` = \u001b[32mcol_double()\u001b[39m,\n",
      "  `4` = \u001b[32mcol_double()\u001b[39m,\n",
      "  wilcoxon_logfc = \u001b[32mcol_double()\u001b[39m,\n",
      "  wilcoxon_padj = \u001b[32mcol_double()\u001b[39m,\n",
      "  wilcoxon_score = \u001b[32mcol_double()\u001b[39m,\n",
      "  `t-test_logfc` = \u001b[32mcol_double()\u001b[39m,\n",
      "  `t-test_padj` = \u001b[32mcol_double()\u001b[39m,\n",
      "  `t-test_score` = \u001b[32mcol_double()\u001b[39m,\n",
      "  `t-test_overestim_var_logfc` = \u001b[32mcol_double()\u001b[39m,\n",
      "  `t-test_overestim_var_padj` = \u001b[32mcol_double()\u001b[39m,\n",
      "  `t-test_overestim_var_score` = \u001b[32mcol_double()\u001b[39m\n",
      ")\n",
      "\n",
      "Warning message:\n",
      "“Unknown columns: `gene_name`”\n"
     ]
    },
    {
     "name": "stdout",
     "output_type": "stream",
     "text": [
      "[1] \"4_vs_1    Gene number: 1216\"\n"
     ]
    },
    {
     "name": "stderr",
     "output_type": "stream",
     "text": [
      "'select()' returned 1:many mapping between keys and columns\n",
      "\n",
      "Parsed with column specification:\n",
      "cols(\n",
      "  gene_names = \u001b[31mcol_character()\u001b[39m,\n",
      "  `10` = \u001b[32mcol_double()\u001b[39m,\n",
      "  `4` = \u001b[32mcol_double()\u001b[39m,\n",
      "  wilcoxon_logfc = \u001b[32mcol_double()\u001b[39m,\n",
      "  wilcoxon_padj = \u001b[32mcol_double()\u001b[39m,\n",
      "  wilcoxon_score = \u001b[32mcol_double()\u001b[39m,\n",
      "  `t-test_logfc` = \u001b[32mcol_double()\u001b[39m,\n",
      "  `t-test_padj` = \u001b[32mcol_double()\u001b[39m,\n",
      "  `t-test_score` = \u001b[32mcol_double()\u001b[39m,\n",
      "  `t-test_overestim_var_logfc` = \u001b[32mcol_double()\u001b[39m,\n",
      "  `t-test_overestim_var_padj` = \u001b[32mcol_double()\u001b[39m,\n",
      "  `t-test_overestim_var_score` = \u001b[32mcol_double()\u001b[39m\n",
      ")\n",
      "\n",
      "Warning message:\n",
      "“Unknown columns: `gene_name`”\n"
     ]
    },
    {
     "name": "stdout",
     "output_type": "stream",
     "text": [
      "[1] \"4_vs_10    Gene number: 896\"\n"
     ]
    },
    {
     "name": "stderr",
     "output_type": "stream",
     "text": [
      "'select()' returned 1:many mapping between keys and columns\n",
      "\n",
      "Parsed with column specification:\n",
      "cols(\n",
      "  gene_names = \u001b[31mcol_character()\u001b[39m,\n",
      "  `2` = \u001b[32mcol_double()\u001b[39m,\n",
      "  `4` = \u001b[32mcol_double()\u001b[39m,\n",
      "  wilcoxon_logfc = \u001b[32mcol_double()\u001b[39m,\n",
      "  wilcoxon_padj = \u001b[32mcol_double()\u001b[39m,\n",
      "  wilcoxon_score = \u001b[32mcol_double()\u001b[39m,\n",
      "  `t-test_logfc` = \u001b[32mcol_double()\u001b[39m,\n",
      "  `t-test_padj` = \u001b[32mcol_double()\u001b[39m,\n",
      "  `t-test_score` = \u001b[32mcol_double()\u001b[39m,\n",
      "  `t-test_overestim_var_logfc` = \u001b[32mcol_double()\u001b[39m,\n",
      "  `t-test_overestim_var_padj` = \u001b[32mcol_double()\u001b[39m,\n",
      "  `t-test_overestim_var_score` = \u001b[32mcol_double()\u001b[39m\n",
      ")\n",
      "\n",
      "Warning message:\n",
      "“Unknown columns: `gene_name`”\n"
     ]
    },
    {
     "name": "stdout",
     "output_type": "stream",
     "text": [
      "[1] \"4_vs_2    Gene number: 4479\"\n"
     ]
    },
    {
     "name": "stderr",
     "output_type": "stream",
     "text": [
      "'select()' returned 1:many mapping between keys and columns\n",
      "\n",
      "Parsed with column specification:\n",
      "cols(\n",
      "  gene_names = \u001b[31mcol_character()\u001b[39m,\n",
      "  `3` = \u001b[32mcol_double()\u001b[39m,\n",
      "  `4` = \u001b[32mcol_double()\u001b[39m,\n",
      "  wilcoxon_logfc = \u001b[32mcol_double()\u001b[39m,\n",
      "  wilcoxon_padj = \u001b[32mcol_double()\u001b[39m,\n",
      "  wilcoxon_score = \u001b[32mcol_double()\u001b[39m,\n",
      "  `t-test_logfc` = \u001b[32mcol_double()\u001b[39m,\n",
      "  `t-test_padj` = \u001b[32mcol_double()\u001b[39m,\n",
      "  `t-test_score` = \u001b[32mcol_double()\u001b[39m,\n",
      "  `t-test_overestim_var_logfc` = \u001b[32mcol_double()\u001b[39m,\n",
      "  `t-test_overestim_var_padj` = \u001b[32mcol_double()\u001b[39m,\n",
      "  `t-test_overestim_var_score` = \u001b[32mcol_double()\u001b[39m\n",
      ")\n",
      "\n",
      "Warning message:\n",
      "“Unknown columns: `gene_name`”\n"
     ]
    },
    {
     "name": "stdout",
     "output_type": "stream",
     "text": [
      "[1] \"4_vs_3    Gene number: 4636\"\n"
     ]
    },
    {
     "name": "stderr",
     "output_type": "stream",
     "text": [
      "'select()' returned 1:many mapping between keys and columns\n",
      "\n",
      "Parsed with column specification:\n",
      "cols(\n",
      "  gene_names = \u001b[31mcol_character()\u001b[39m,\n",
      "  `4` = \u001b[32mcol_double()\u001b[39m,\n",
      "  `5` = \u001b[32mcol_double()\u001b[39m,\n",
      "  wilcoxon_logfc = \u001b[32mcol_double()\u001b[39m,\n",
      "  wilcoxon_padj = \u001b[32mcol_double()\u001b[39m,\n",
      "  wilcoxon_score = \u001b[32mcol_double()\u001b[39m,\n",
      "  `t-test_logfc` = \u001b[32mcol_double()\u001b[39m,\n",
      "  `t-test_padj` = \u001b[32mcol_double()\u001b[39m,\n",
      "  `t-test_score` = \u001b[32mcol_double()\u001b[39m,\n",
      "  `t-test_overestim_var_logfc` = \u001b[32mcol_double()\u001b[39m,\n",
      "  `t-test_overestim_var_padj` = \u001b[32mcol_double()\u001b[39m,\n",
      "  `t-test_overestim_var_score` = \u001b[32mcol_double()\u001b[39m\n",
      ")\n",
      "\n",
      "Warning message:\n",
      "“Unknown columns: `gene_name`”\n"
     ]
    },
    {
     "name": "stdout",
     "output_type": "stream",
     "text": [
      "[1] \"4_vs_5    Gene number: 1394\"\n"
     ]
    },
    {
     "name": "stderr",
     "output_type": "stream",
     "text": [
      "'select()' returned 1:many mapping between keys and columns\n",
      "\n",
      "Parsed with column specification:\n",
      "cols(\n",
      "  gene_names = \u001b[31mcol_character()\u001b[39m,\n",
      "  `4` = \u001b[32mcol_double()\u001b[39m,\n",
      "  `6` = \u001b[32mcol_double()\u001b[39m,\n",
      "  wilcoxon_logfc = \u001b[32mcol_double()\u001b[39m,\n",
      "  wilcoxon_padj = \u001b[32mcol_double()\u001b[39m,\n",
      "  wilcoxon_score = \u001b[32mcol_double()\u001b[39m,\n",
      "  `t-test_logfc` = \u001b[32mcol_double()\u001b[39m,\n",
      "  `t-test_padj` = \u001b[32mcol_double()\u001b[39m,\n",
      "  `t-test_score` = \u001b[32mcol_double()\u001b[39m,\n",
      "  `t-test_overestim_var_logfc` = \u001b[32mcol_double()\u001b[39m,\n",
      "  `t-test_overestim_var_padj` = \u001b[32mcol_double()\u001b[39m,\n",
      "  `t-test_overestim_var_score` = \u001b[32mcol_double()\u001b[39m\n",
      ")\n",
      "\n",
      "Warning message:\n",
      "“Unknown columns: `gene_name`”\n"
     ]
    },
    {
     "name": "stdout",
     "output_type": "stream",
     "text": [
      "[1] \"4_vs_6    Gene number: 787\"\n"
     ]
    },
    {
     "name": "stderr",
     "output_type": "stream",
     "text": [
      "'select()' returned 1:many mapping between keys and columns\n",
      "\n",
      "Parsed with column specification:\n",
      "cols(\n",
      "  gene_names = \u001b[31mcol_character()\u001b[39m,\n",
      "  `4` = \u001b[32mcol_double()\u001b[39m,\n",
      "  `7` = \u001b[32mcol_double()\u001b[39m,\n",
      "  wilcoxon_logfc = \u001b[32mcol_double()\u001b[39m,\n",
      "  wilcoxon_padj = \u001b[32mcol_double()\u001b[39m,\n",
      "  wilcoxon_score = \u001b[32mcol_double()\u001b[39m,\n",
      "  `t-test_logfc` = \u001b[32mcol_double()\u001b[39m,\n",
      "  `t-test_padj` = \u001b[32mcol_double()\u001b[39m,\n",
      "  `t-test_score` = \u001b[32mcol_double()\u001b[39m,\n",
      "  `t-test_overestim_var_logfc` = \u001b[32mcol_double()\u001b[39m,\n",
      "  `t-test_overestim_var_padj` = \u001b[32mcol_double()\u001b[39m,\n",
      "  `t-test_overestim_var_score` = \u001b[32mcol_double()\u001b[39m\n",
      ")\n",
      "\n",
      "Warning message:\n",
      "“Unknown columns: `gene_name`”\n"
     ]
    },
    {
     "name": "stdout",
     "output_type": "stream",
     "text": [
      "[1] \"4_vs_7    Gene number: 2171\"\n"
     ]
    },
    {
     "name": "stderr",
     "output_type": "stream",
     "text": [
      "'select()' returned 1:many mapping between keys and columns\n",
      "\n",
      "Parsed with column specification:\n",
      "cols(\n",
      "  gene_names = \u001b[31mcol_character()\u001b[39m,\n",
      "  `4` = \u001b[32mcol_double()\u001b[39m,\n",
      "  `8` = \u001b[32mcol_double()\u001b[39m,\n",
      "  wilcoxon_logfc = \u001b[32mcol_double()\u001b[39m,\n",
      "  wilcoxon_padj = \u001b[32mcol_double()\u001b[39m,\n",
      "  wilcoxon_score = \u001b[32mcol_double()\u001b[39m,\n",
      "  `t-test_logfc` = \u001b[32mcol_double()\u001b[39m,\n",
      "  `t-test_padj` = \u001b[32mcol_double()\u001b[39m,\n",
      "  `t-test_score` = \u001b[32mcol_double()\u001b[39m,\n",
      "  `t-test_overestim_var_logfc` = \u001b[32mcol_double()\u001b[39m,\n",
      "  `t-test_overestim_var_padj` = \u001b[32mcol_double()\u001b[39m,\n",
      "  `t-test_overestim_var_score` = \u001b[32mcol_double()\u001b[39m\n",
      ")\n",
      "\n",
      "Warning message:\n",
      "“Unknown columns: `gene_name`”\n"
     ]
    },
    {
     "name": "stdout",
     "output_type": "stream",
     "text": [
      "[1] \"4_vs_8    Gene number: 2786\"\n"
     ]
    },
    {
     "name": "stderr",
     "output_type": "stream",
     "text": [
      "'select()' returned 1:many mapping between keys and columns\n",
      "\n",
      "Parsed with column specification:\n",
      "cols(\n",
      "  gene_names = \u001b[31mcol_character()\u001b[39m,\n",
      "  `4` = \u001b[32mcol_double()\u001b[39m,\n",
      "  `9` = \u001b[32mcol_double()\u001b[39m,\n",
      "  wilcoxon_logfc = \u001b[32mcol_double()\u001b[39m,\n",
      "  wilcoxon_padj = \u001b[32mcol_double()\u001b[39m,\n",
      "  wilcoxon_score = \u001b[32mcol_double()\u001b[39m,\n",
      "  `t-test_logfc` = \u001b[32mcol_double()\u001b[39m,\n",
      "  `t-test_padj` = \u001b[32mcol_double()\u001b[39m,\n",
      "  `t-test_score` = \u001b[32mcol_double()\u001b[39m,\n",
      "  `t-test_overestim_var_logfc` = \u001b[32mcol_double()\u001b[39m,\n",
      "  `t-test_overestim_var_padj` = \u001b[32mcol_double()\u001b[39m,\n",
      "  `t-test_overestim_var_score` = \u001b[32mcol_double()\u001b[39m\n",
      ")\n",
      "\n",
      "Warning message:\n",
      "“Unknown columns: `gene_name`”\n"
     ]
    },
    {
     "name": "stdout",
     "output_type": "stream",
     "text": [
      "[1] \"4_vs_9    Gene number: 5215\"\n"
     ]
    },
    {
     "name": "stderr",
     "output_type": "stream",
     "text": [
      "'select()' returned 1:many mapping between keys and columns\n",
      "\n",
      "Parsed with column specification:\n",
      "cols(\n",
      "  gene_names = \u001b[31mcol_character()\u001b[39m,\n",
      "  `0` = \u001b[32mcol_double()\u001b[39m,\n",
      "  `5` = \u001b[32mcol_double()\u001b[39m,\n",
      "  wilcoxon_logfc = \u001b[32mcol_double()\u001b[39m,\n",
      "  wilcoxon_padj = \u001b[32mcol_double()\u001b[39m,\n",
      "  wilcoxon_score = \u001b[32mcol_double()\u001b[39m,\n",
      "  `t-test_logfc` = \u001b[32mcol_double()\u001b[39m,\n",
      "  `t-test_padj` = \u001b[32mcol_double()\u001b[39m,\n",
      "  `t-test_score` = \u001b[32mcol_double()\u001b[39m,\n",
      "  `t-test_overestim_var_logfc` = \u001b[32mcol_double()\u001b[39m,\n",
      "  `t-test_overestim_var_padj` = \u001b[32mcol_double()\u001b[39m,\n",
      "  `t-test_overestim_var_score` = \u001b[32mcol_double()\u001b[39m\n",
      ")\n",
      "\n",
      "Warning message:\n",
      "“Unknown columns: `gene_name`”\n"
     ]
    },
    {
     "name": "stdout",
     "output_type": "stream",
     "text": [
      "[1] \"5_vs_0    Gene number: 2952\"\n"
     ]
    },
    {
     "name": "stderr",
     "output_type": "stream",
     "text": [
      "'select()' returned 1:many mapping between keys and columns\n",
      "\n",
      "Parsed with column specification:\n",
      "cols(\n",
      "  gene_names = \u001b[31mcol_character()\u001b[39m,\n",
      "  `1` = \u001b[32mcol_double()\u001b[39m,\n",
      "  `5` = \u001b[32mcol_double()\u001b[39m,\n",
      "  wilcoxon_logfc = \u001b[32mcol_double()\u001b[39m,\n",
      "  wilcoxon_padj = \u001b[32mcol_double()\u001b[39m,\n",
      "  wilcoxon_score = \u001b[32mcol_double()\u001b[39m,\n",
      "  `t-test_logfc` = \u001b[32mcol_double()\u001b[39m,\n",
      "  `t-test_padj` = \u001b[32mcol_double()\u001b[39m,\n",
      "  `t-test_score` = \u001b[32mcol_double()\u001b[39m,\n",
      "  `t-test_overestim_var_logfc` = \u001b[32mcol_double()\u001b[39m,\n",
      "  `t-test_overestim_var_padj` = \u001b[32mcol_double()\u001b[39m,\n",
      "  `t-test_overestim_var_score` = \u001b[32mcol_double()\u001b[39m\n",
      ")\n",
      "\n",
      "Warning message:\n",
      "“Unknown columns: `gene_name`”\n"
     ]
    },
    {
     "name": "stdout",
     "output_type": "stream",
     "text": [
      "[1] \"5_vs_1    Gene number: 1113\"\n"
     ]
    },
    {
     "name": "stderr",
     "output_type": "stream",
     "text": [
      "'select()' returned 1:many mapping between keys and columns\n",
      "\n",
      "Parsed with column specification:\n",
      "cols(\n",
      "  gene_names = \u001b[31mcol_character()\u001b[39m,\n",
      "  `10` = \u001b[32mcol_double()\u001b[39m,\n",
      "  `5` = \u001b[32mcol_double()\u001b[39m,\n",
      "  wilcoxon_logfc = \u001b[32mcol_double()\u001b[39m,\n",
      "  wilcoxon_padj = \u001b[32mcol_double()\u001b[39m,\n",
      "  wilcoxon_score = \u001b[32mcol_double()\u001b[39m,\n",
      "  `t-test_logfc` = \u001b[32mcol_double()\u001b[39m,\n",
      "  `t-test_padj` = \u001b[32mcol_double()\u001b[39m,\n",
      "  `t-test_score` = \u001b[32mcol_double()\u001b[39m,\n",
      "  `t-test_overestim_var_logfc` = \u001b[32mcol_double()\u001b[39m,\n",
      "  `t-test_overestim_var_padj` = \u001b[32mcol_double()\u001b[39m,\n",
      "  `t-test_overestim_var_score` = \u001b[32mcol_double()\u001b[39m\n",
      ")\n",
      "\n",
      "Warning message:\n",
      "“Unknown columns: `gene_name`”\n"
     ]
    },
    {
     "name": "stdout",
     "output_type": "stream",
     "text": [
      "[1] \"5_vs_10    Gene number: 906\"\n"
     ]
    },
    {
     "name": "stderr",
     "output_type": "stream",
     "text": [
      "'select()' returned 1:many mapping between keys and columns\n",
      "\n",
      "Parsed with column specification:\n",
      "cols(\n",
      "  gene_names = \u001b[31mcol_character()\u001b[39m,\n",
      "  `2` = \u001b[32mcol_double()\u001b[39m,\n",
      "  `5` = \u001b[32mcol_double()\u001b[39m,\n",
      "  wilcoxon_logfc = \u001b[32mcol_double()\u001b[39m,\n",
      "  wilcoxon_padj = \u001b[32mcol_double()\u001b[39m,\n",
      "  wilcoxon_score = \u001b[32mcol_double()\u001b[39m,\n",
      "  `t-test_logfc` = \u001b[32mcol_double()\u001b[39m,\n",
      "  `t-test_padj` = \u001b[32mcol_double()\u001b[39m,\n",
      "  `t-test_score` = \u001b[32mcol_double()\u001b[39m,\n",
      "  `t-test_overestim_var_logfc` = \u001b[32mcol_double()\u001b[39m,\n",
      "  `t-test_overestim_var_padj` = \u001b[32mcol_double()\u001b[39m,\n",
      "  `t-test_overestim_var_score` = \u001b[32mcol_double()\u001b[39m\n",
      ")\n",
      "\n",
      "Warning message:\n",
      "“Unknown columns: `gene_name`”\n"
     ]
    },
    {
     "name": "stdout",
     "output_type": "stream",
     "text": [
      "[1] \"5_vs_2    Gene number: 4146\"\n"
     ]
    },
    {
     "name": "stderr",
     "output_type": "stream",
     "text": [
      "'select()' returned 1:many mapping between keys and columns\n",
      "\n",
      "Parsed with column specification:\n",
      "cols(\n",
      "  gene_names = \u001b[31mcol_character()\u001b[39m,\n",
      "  `3` = \u001b[32mcol_double()\u001b[39m,\n",
      "  `5` = \u001b[32mcol_double()\u001b[39m,\n",
      "  wilcoxon_logfc = \u001b[32mcol_double()\u001b[39m,\n",
      "  wilcoxon_padj = \u001b[32mcol_double()\u001b[39m,\n",
      "  wilcoxon_score = \u001b[32mcol_double()\u001b[39m,\n",
      "  `t-test_logfc` = \u001b[32mcol_double()\u001b[39m,\n",
      "  `t-test_padj` = \u001b[32mcol_double()\u001b[39m,\n",
      "  `t-test_score` = \u001b[32mcol_double()\u001b[39m,\n",
      "  `t-test_overestim_var_logfc` = \u001b[32mcol_double()\u001b[39m,\n",
      "  `t-test_overestim_var_padj` = \u001b[32mcol_double()\u001b[39m,\n",
      "  `t-test_overestim_var_score` = \u001b[32mcol_double()\u001b[39m\n",
      ")\n",
      "\n",
      "Warning message:\n",
      "“Unknown columns: `gene_name`”\n"
     ]
    },
    {
     "name": "stdout",
     "output_type": "stream",
     "text": [
      "[1] \"5_vs_3    Gene number: 4503\"\n"
     ]
    },
    {
     "name": "stderr",
     "output_type": "stream",
     "text": [
      "'select()' returned 1:many mapping between keys and columns\n",
      "\n",
      "Parsed with column specification:\n",
      "cols(\n",
      "  gene_names = \u001b[31mcol_character()\u001b[39m,\n",
      "  `4` = \u001b[32mcol_double()\u001b[39m,\n",
      "  `5` = \u001b[32mcol_double()\u001b[39m,\n",
      "  wilcoxon_logfc = \u001b[32mcol_double()\u001b[39m,\n",
      "  wilcoxon_padj = \u001b[32mcol_double()\u001b[39m,\n",
      "  wilcoxon_score = \u001b[32mcol_double()\u001b[39m,\n",
      "  `t-test_logfc` = \u001b[32mcol_double()\u001b[39m,\n",
      "  `t-test_padj` = \u001b[32mcol_double()\u001b[39m,\n",
      "  `t-test_score` = \u001b[32mcol_double()\u001b[39m,\n",
      "  `t-test_overestim_var_logfc` = \u001b[32mcol_double()\u001b[39m,\n",
      "  `t-test_overestim_var_padj` = \u001b[32mcol_double()\u001b[39m,\n",
      "  `t-test_overestim_var_score` = \u001b[32mcol_double()\u001b[39m\n",
      ")\n",
      "\n",
      "Warning message:\n",
      "“Unknown columns: `gene_name`”\n"
     ]
    },
    {
     "name": "stdout",
     "output_type": "stream",
     "text": [
      "[1] \"5_vs_4    Gene number: 1094\"\n"
     ]
    },
    {
     "name": "stderr",
     "output_type": "stream",
     "text": [
      "'select()' returned 1:many mapping between keys and columns\n",
      "\n",
      "Parsed with column specification:\n",
      "cols(\n",
      "  gene_names = \u001b[31mcol_character()\u001b[39m,\n",
      "  `5` = \u001b[32mcol_double()\u001b[39m,\n",
      "  `6` = \u001b[32mcol_double()\u001b[39m,\n",
      "  wilcoxon_logfc = \u001b[32mcol_double()\u001b[39m,\n",
      "  wilcoxon_padj = \u001b[32mcol_double()\u001b[39m,\n",
      "  wilcoxon_score = \u001b[32mcol_double()\u001b[39m,\n",
      "  `t-test_logfc` = \u001b[32mcol_double()\u001b[39m,\n",
      "  `t-test_padj` = \u001b[32mcol_double()\u001b[39m,\n",
      "  `t-test_score` = \u001b[32mcol_double()\u001b[39m,\n",
      "  `t-test_overestim_var_logfc` = \u001b[32mcol_double()\u001b[39m,\n",
      "  `t-test_overestim_var_padj` = \u001b[32mcol_double()\u001b[39m,\n",
      "  `t-test_overestim_var_score` = \u001b[32mcol_double()\u001b[39m\n",
      ")\n",
      "\n",
      "Warning message:\n",
      "“Unknown columns: `gene_name`”\n"
     ]
    },
    {
     "name": "stdout",
     "output_type": "stream",
     "text": [
      "[1] \"5_vs_6    Gene number: 993\"\n"
     ]
    },
    {
     "name": "stderr",
     "output_type": "stream",
     "text": [
      "'select()' returned 1:many mapping between keys and columns\n",
      "\n",
      "Parsed with column specification:\n",
      "cols(\n",
      "  gene_names = \u001b[31mcol_character()\u001b[39m,\n",
      "  `5` = \u001b[32mcol_double()\u001b[39m,\n",
      "  `7` = \u001b[32mcol_double()\u001b[39m,\n",
      "  wilcoxon_logfc = \u001b[32mcol_double()\u001b[39m,\n",
      "  wilcoxon_padj = \u001b[32mcol_double()\u001b[39m,\n",
      "  wilcoxon_score = \u001b[32mcol_double()\u001b[39m,\n",
      "  `t-test_logfc` = \u001b[32mcol_double()\u001b[39m,\n",
      "  `t-test_padj` = \u001b[32mcol_double()\u001b[39m,\n",
      "  `t-test_score` = \u001b[32mcol_double()\u001b[39m,\n",
      "  `t-test_overestim_var_logfc` = \u001b[32mcol_double()\u001b[39m,\n",
      "  `t-test_overestim_var_padj` = \u001b[32mcol_double()\u001b[39m,\n",
      "  `t-test_overestim_var_score` = \u001b[32mcol_double()\u001b[39m\n",
      ")\n",
      "\n",
      "Warning message:\n",
      "“Unknown columns: `gene_name`”\n"
     ]
    },
    {
     "name": "stdout",
     "output_type": "stream",
     "text": [
      "[1] \"5_vs_7    Gene number: 1798\"\n"
     ]
    },
    {
     "name": "stderr",
     "output_type": "stream",
     "text": [
      "'select()' returned 1:many mapping between keys and columns\n",
      "\n",
      "Parsed with column specification:\n",
      "cols(\n",
      "  gene_names = \u001b[31mcol_character()\u001b[39m,\n",
      "  `5` = \u001b[32mcol_double()\u001b[39m,\n",
      "  `8` = \u001b[32mcol_double()\u001b[39m,\n",
      "  wilcoxon_logfc = \u001b[32mcol_double()\u001b[39m,\n",
      "  wilcoxon_padj = \u001b[32mcol_double()\u001b[39m,\n",
      "  wilcoxon_score = \u001b[32mcol_double()\u001b[39m,\n",
      "  `t-test_logfc` = \u001b[32mcol_double()\u001b[39m,\n",
      "  `t-test_padj` = \u001b[32mcol_double()\u001b[39m,\n",
      "  `t-test_score` = \u001b[32mcol_double()\u001b[39m,\n",
      "  `t-test_overestim_var_logfc` = \u001b[32mcol_double()\u001b[39m,\n",
      "  `t-test_overestim_var_padj` = \u001b[32mcol_double()\u001b[39m,\n",
      "  `t-test_overestim_var_score` = \u001b[32mcol_double()\u001b[39m\n",
      ")\n",
      "\n",
      "Warning message:\n",
      "“Unknown columns: `gene_name`”\n"
     ]
    },
    {
     "name": "stdout",
     "output_type": "stream",
     "text": [
      "[1] \"5_vs_8    Gene number: 2322\"\n"
     ]
    },
    {
     "name": "stderr",
     "output_type": "stream",
     "text": [
      "'select()' returned 1:many mapping between keys and columns\n",
      "\n",
      "Parsed with column specification:\n",
      "cols(\n",
      "  gene_names = \u001b[31mcol_character()\u001b[39m,\n",
      "  `5` = \u001b[32mcol_double()\u001b[39m,\n",
      "  `9` = \u001b[32mcol_double()\u001b[39m,\n",
      "  wilcoxon_logfc = \u001b[32mcol_double()\u001b[39m,\n",
      "  wilcoxon_padj = \u001b[32mcol_double()\u001b[39m,\n",
      "  wilcoxon_score = \u001b[32mcol_double()\u001b[39m,\n",
      "  `t-test_logfc` = \u001b[32mcol_double()\u001b[39m,\n",
      "  `t-test_padj` = \u001b[32mcol_double()\u001b[39m,\n",
      "  `t-test_score` = \u001b[32mcol_double()\u001b[39m,\n",
      "  `t-test_overestim_var_logfc` = \u001b[32mcol_double()\u001b[39m,\n",
      "  `t-test_overestim_var_padj` = \u001b[32mcol_double()\u001b[39m,\n",
      "  `t-test_overestim_var_score` = \u001b[32mcol_double()\u001b[39m\n",
      ")\n",
      "\n",
      "Warning message:\n",
      "“Unknown columns: `gene_name`”\n"
     ]
    },
    {
     "name": "stdout",
     "output_type": "stream",
     "text": [
      "[1] \"5_vs_9    Gene number: 5069\"\n"
     ]
    },
    {
     "name": "stderr",
     "output_type": "stream",
     "text": [
      "'select()' returned 1:many mapping between keys and columns\n",
      "\n",
      "Parsed with column specification:\n",
      "cols(\n",
      "  gene_names = \u001b[31mcol_character()\u001b[39m,\n",
      "  `0` = \u001b[32mcol_double()\u001b[39m,\n",
      "  `6` = \u001b[32mcol_double()\u001b[39m,\n",
      "  wilcoxon_logfc = \u001b[32mcol_double()\u001b[39m,\n",
      "  wilcoxon_padj = \u001b[32mcol_double()\u001b[39m,\n",
      "  wilcoxon_score = \u001b[32mcol_double()\u001b[39m,\n",
      "  `t-test_logfc` = \u001b[32mcol_double()\u001b[39m,\n",
      "  `t-test_padj` = \u001b[32mcol_double()\u001b[39m,\n",
      "  `t-test_score` = \u001b[32mcol_double()\u001b[39m,\n",
      "  `t-test_overestim_var_logfc` = \u001b[32mcol_double()\u001b[39m,\n",
      "  `t-test_overestim_var_padj` = \u001b[32mcol_double()\u001b[39m,\n",
      "  `t-test_overestim_var_score` = \u001b[32mcol_double()\u001b[39m\n",
      ")\n",
      "\n",
      "Warning message:\n",
      "“Unknown columns: `gene_name`”\n"
     ]
    },
    {
     "name": "stdout",
     "output_type": "stream",
     "text": [
      "[1] \"6_vs_0    Gene number: 4819\"\n"
     ]
    },
    {
     "name": "stderr",
     "output_type": "stream",
     "text": [
      "'select()' returned 1:many mapping between keys and columns\n",
      "\n",
      "Parsed with column specification:\n",
      "cols(\n",
      "  gene_names = \u001b[31mcol_character()\u001b[39m,\n",
      "  `1` = \u001b[32mcol_double()\u001b[39m,\n",
      "  `6` = \u001b[32mcol_double()\u001b[39m,\n",
      "  wilcoxon_logfc = \u001b[32mcol_double()\u001b[39m,\n",
      "  wilcoxon_padj = \u001b[32mcol_double()\u001b[39m,\n",
      "  wilcoxon_score = \u001b[32mcol_double()\u001b[39m,\n",
      "  `t-test_logfc` = \u001b[32mcol_double()\u001b[39m,\n",
      "  `t-test_padj` = \u001b[32mcol_double()\u001b[39m,\n",
      "  `t-test_score` = \u001b[32mcol_double()\u001b[39m,\n",
      "  `t-test_overestim_var_logfc` = \u001b[32mcol_double()\u001b[39m,\n",
      "  `t-test_overestim_var_padj` = \u001b[32mcol_double()\u001b[39m,\n",
      "  `t-test_overestim_var_score` = \u001b[32mcol_double()\u001b[39m\n",
      ")\n",
      "\n",
      "Warning message:\n",
      "“Unknown columns: `gene_name`”\n"
     ]
    },
    {
     "name": "stdout",
     "output_type": "stream",
     "text": [
      "[1] \"6_vs_1    Gene number: 2533\"\n"
     ]
    },
    {
     "name": "stderr",
     "output_type": "stream",
     "text": [
      "'select()' returned 1:many mapping between keys and columns\n",
      "\n",
      "Parsed with column specification:\n",
      "cols(\n",
      "  gene_names = \u001b[31mcol_character()\u001b[39m,\n",
      "  `10` = \u001b[32mcol_double()\u001b[39m,\n",
      "  `6` = \u001b[32mcol_double()\u001b[39m,\n",
      "  wilcoxon_logfc = \u001b[32mcol_double()\u001b[39m,\n",
      "  wilcoxon_padj = \u001b[32mcol_double()\u001b[39m,\n",
      "  wilcoxon_score = \u001b[32mcol_double()\u001b[39m,\n",
      "  `t-test_logfc` = \u001b[32mcol_double()\u001b[39m,\n",
      "  `t-test_padj` = \u001b[32mcol_double()\u001b[39m,\n",
      "  `t-test_score` = \u001b[32mcol_double()\u001b[39m,\n",
      "  `t-test_overestim_var_logfc` = \u001b[32mcol_double()\u001b[39m,\n",
      "  `t-test_overestim_var_padj` = \u001b[32mcol_double()\u001b[39m,\n",
      "  `t-test_overestim_var_score` = \u001b[32mcol_double()\u001b[39m\n",
      ")\n",
      "\n",
      "Warning message:\n",
      "“Unknown columns: `gene_name`”\n"
     ]
    },
    {
     "name": "stdout",
     "output_type": "stream",
     "text": [
      "[1] \"6_vs_10    Gene number: 1546\"\n"
     ]
    },
    {
     "name": "stderr",
     "output_type": "stream",
     "text": [
      "'select()' returned 1:many mapping between keys and columns\n",
      "\n",
      "Parsed with column specification:\n",
      "cols(\n",
      "  gene_names = \u001b[31mcol_character()\u001b[39m,\n",
      "  `2` = \u001b[32mcol_double()\u001b[39m,\n",
      "  `6` = \u001b[32mcol_double()\u001b[39m,\n",
      "  wilcoxon_logfc = \u001b[32mcol_double()\u001b[39m,\n",
      "  wilcoxon_padj = \u001b[32mcol_double()\u001b[39m,\n",
      "  wilcoxon_score = \u001b[32mcol_double()\u001b[39m,\n",
      "  `t-test_logfc` = \u001b[32mcol_double()\u001b[39m,\n",
      "  `t-test_padj` = \u001b[32mcol_double()\u001b[39m,\n",
      "  `t-test_score` = \u001b[32mcol_double()\u001b[39m,\n",
      "  `t-test_overestim_var_logfc` = \u001b[32mcol_double()\u001b[39m,\n",
      "  `t-test_overestim_var_padj` = \u001b[32mcol_double()\u001b[39m,\n",
      "  `t-test_overestim_var_score` = \u001b[32mcol_double()\u001b[39m\n",
      ")\n",
      "\n",
      "Warning message:\n",
      "“Unknown columns: `gene_name`”\n"
     ]
    },
    {
     "name": "stdout",
     "output_type": "stream",
     "text": [
      "[1] \"6_vs_2    Gene number: 5713\"\n"
     ]
    },
    {
     "name": "stderr",
     "output_type": "stream",
     "text": [
      "'select()' returned 1:many mapping between keys and columns\n",
      "\n",
      "Parsed with column specification:\n",
      "cols(\n",
      "  gene_names = \u001b[31mcol_character()\u001b[39m,\n",
      "  `3` = \u001b[32mcol_double()\u001b[39m,\n",
      "  `6` = \u001b[32mcol_double()\u001b[39m,\n",
      "  wilcoxon_logfc = \u001b[32mcol_double()\u001b[39m,\n",
      "  wilcoxon_padj = \u001b[32mcol_double()\u001b[39m,\n",
      "  wilcoxon_score = \u001b[32mcol_double()\u001b[39m,\n",
      "  `t-test_logfc` = \u001b[32mcol_double()\u001b[39m,\n",
      "  `t-test_padj` = \u001b[32mcol_double()\u001b[39m,\n",
      "  `t-test_score` = \u001b[32mcol_double()\u001b[39m,\n",
      "  `t-test_overestim_var_logfc` = \u001b[32mcol_double()\u001b[39m,\n",
      "  `t-test_overestim_var_padj` = \u001b[32mcol_double()\u001b[39m,\n",
      "  `t-test_overestim_var_score` = \u001b[32mcol_double()\u001b[39m\n",
      ")\n",
      "\n",
      "Warning message:\n",
      "“Unknown columns: `gene_name`”\n"
     ]
    },
    {
     "name": "stdout",
     "output_type": "stream",
     "text": [
      "[1] \"6_vs_3    Gene number: 5589\"\n"
     ]
    },
    {
     "name": "stderr",
     "output_type": "stream",
     "text": [
      "'select()' returned 1:many mapping between keys and columns\n",
      "\n",
      "Parsed with column specification:\n",
      "cols(\n",
      "  gene_names = \u001b[31mcol_character()\u001b[39m,\n",
      "  `4` = \u001b[32mcol_double()\u001b[39m,\n",
      "  `6` = \u001b[32mcol_double()\u001b[39m,\n",
      "  wilcoxon_logfc = \u001b[32mcol_double()\u001b[39m,\n",
      "  wilcoxon_padj = \u001b[32mcol_double()\u001b[39m,\n",
      "  wilcoxon_score = \u001b[32mcol_double()\u001b[39m,\n",
      "  `t-test_logfc` = \u001b[32mcol_double()\u001b[39m,\n",
      "  `t-test_padj` = \u001b[32mcol_double()\u001b[39m,\n",
      "  `t-test_score` = \u001b[32mcol_double()\u001b[39m,\n",
      "  `t-test_overestim_var_logfc` = \u001b[32mcol_double()\u001b[39m,\n",
      "  `t-test_overestim_var_padj` = \u001b[32mcol_double()\u001b[39m,\n",
      "  `t-test_overestim_var_score` = \u001b[32mcol_double()\u001b[39m\n",
      ")\n",
      "\n",
      "Warning message:\n",
      "“Unknown columns: `gene_name`”\n"
     ]
    },
    {
     "name": "stdout",
     "output_type": "stream",
     "text": [
      "[1] \"6_vs_4    Gene number: 1978\"\n"
     ]
    },
    {
     "name": "stderr",
     "output_type": "stream",
     "text": [
      "'select()' returned 1:many mapping between keys and columns\n",
      "\n",
      "Parsed with column specification:\n",
      "cols(\n",
      "  gene_names = \u001b[31mcol_character()\u001b[39m,\n",
      "  `5` = \u001b[32mcol_double()\u001b[39m,\n",
      "  `6` = \u001b[32mcol_double()\u001b[39m,\n",
      "  wilcoxon_logfc = \u001b[32mcol_double()\u001b[39m,\n",
      "  wilcoxon_padj = \u001b[32mcol_double()\u001b[39m,\n",
      "  wilcoxon_score = \u001b[32mcol_double()\u001b[39m,\n",
      "  `t-test_logfc` = \u001b[32mcol_double()\u001b[39m,\n",
      "  `t-test_padj` = \u001b[32mcol_double()\u001b[39m,\n",
      "  `t-test_score` = \u001b[32mcol_double()\u001b[39m,\n",
      "  `t-test_overestim_var_logfc` = \u001b[32mcol_double()\u001b[39m,\n",
      "  `t-test_overestim_var_padj` = \u001b[32mcol_double()\u001b[39m,\n",
      "  `t-test_overestim_var_score` = \u001b[32mcol_double()\u001b[39m\n",
      ")\n",
      "\n",
      "Warning message:\n",
      "“Unknown columns: `gene_name`”\n"
     ]
    },
    {
     "name": "stdout",
     "output_type": "stream",
     "text": [
      "[1] \"6_vs_5    Gene number: 2533\"\n"
     ]
    },
    {
     "name": "stderr",
     "output_type": "stream",
     "text": [
      "'select()' returned 1:many mapping between keys and columns\n",
      "\n",
      "Parsed with column specification:\n",
      "cols(\n",
      "  gene_names = \u001b[31mcol_character()\u001b[39m,\n",
      "  `6` = \u001b[32mcol_double()\u001b[39m,\n",
      "  `7` = \u001b[32mcol_double()\u001b[39m,\n",
      "  wilcoxon_logfc = \u001b[32mcol_double()\u001b[39m,\n",
      "  wilcoxon_padj = \u001b[32mcol_double()\u001b[39m,\n",
      "  wilcoxon_score = \u001b[32mcol_double()\u001b[39m,\n",
      "  `t-test_logfc` = \u001b[32mcol_double()\u001b[39m,\n",
      "  `t-test_padj` = \u001b[32mcol_double()\u001b[39m,\n",
      "  `t-test_score` = \u001b[32mcol_double()\u001b[39m,\n",
      "  `t-test_overestim_var_logfc` = \u001b[32mcol_double()\u001b[39m,\n",
      "  `t-test_overestim_var_padj` = \u001b[32mcol_double()\u001b[39m,\n",
      "  `t-test_overestim_var_score` = \u001b[32mcol_double()\u001b[39m\n",
      ")\n",
      "\n",
      "Warning message:\n",
      "“Unknown columns: `gene_name`”\n"
     ]
    },
    {
     "name": "stdout",
     "output_type": "stream",
     "text": [
      "[1] \"6_vs_7    Gene number: 3111\"\n"
     ]
    },
    {
     "name": "stderr",
     "output_type": "stream",
     "text": [
      "'select()' returned 1:many mapping between keys and columns\n",
      "\n",
      "Parsed with column specification:\n",
      "cols(\n",
      "  gene_names = \u001b[31mcol_character()\u001b[39m,\n",
      "  `6` = \u001b[32mcol_double()\u001b[39m,\n",
      "  `8` = \u001b[32mcol_double()\u001b[39m,\n",
      "  wilcoxon_logfc = \u001b[32mcol_double()\u001b[39m,\n",
      "  wilcoxon_padj = \u001b[32mcol_double()\u001b[39m,\n",
      "  wilcoxon_score = \u001b[32mcol_double()\u001b[39m,\n",
      "  `t-test_logfc` = \u001b[32mcol_double()\u001b[39m,\n",
      "  `t-test_padj` = \u001b[32mcol_double()\u001b[39m,\n",
      "  `t-test_score` = \u001b[32mcol_double()\u001b[39m,\n",
      "  `t-test_overestim_var_logfc` = \u001b[32mcol_double()\u001b[39m,\n",
      "  `t-test_overestim_var_padj` = \u001b[32mcol_double()\u001b[39m,\n",
      "  `t-test_overestim_var_score` = \u001b[32mcol_double()\u001b[39m\n",
      ")\n",
      "\n",
      "Warning message:\n",
      "“Unknown columns: `gene_name`”\n"
     ]
    },
    {
     "name": "stdout",
     "output_type": "stream",
     "text": [
      "[1] \"6_vs_8    Gene number: 4063\"\n"
     ]
    },
    {
     "name": "stderr",
     "output_type": "stream",
     "text": [
      "'select()' returned 1:many mapping between keys and columns\n",
      "\n",
      "Parsed with column specification:\n",
      "cols(\n",
      "  gene_names = \u001b[31mcol_character()\u001b[39m,\n",
      "  `6` = \u001b[32mcol_double()\u001b[39m,\n",
      "  `9` = \u001b[32mcol_double()\u001b[39m,\n",
      "  wilcoxon_logfc = \u001b[32mcol_double()\u001b[39m,\n",
      "  wilcoxon_padj = \u001b[32mcol_double()\u001b[39m,\n",
      "  wilcoxon_score = \u001b[32mcol_double()\u001b[39m,\n",
      "  `t-test_logfc` = \u001b[32mcol_double()\u001b[39m,\n",
      "  `t-test_padj` = \u001b[32mcol_double()\u001b[39m,\n",
      "  `t-test_score` = \u001b[32mcol_double()\u001b[39m,\n",
      "  `t-test_overestim_var_logfc` = \u001b[32mcol_double()\u001b[39m,\n",
      "  `t-test_overestim_var_padj` = \u001b[32mcol_double()\u001b[39m,\n",
      "  `t-test_overestim_var_score` = \u001b[32mcol_double()\u001b[39m\n",
      ")\n",
      "\n",
      "Warning message:\n",
      "“Unknown columns: `gene_name`”\n"
     ]
    },
    {
     "name": "stdout",
     "output_type": "stream",
     "text": [
      "[1] \"6_vs_9    Gene number: 6285\"\n"
     ]
    },
    {
     "name": "stderr",
     "output_type": "stream",
     "text": [
      "'select()' returned 1:many mapping between keys and columns\n",
      "\n",
      "Parsed with column specification:\n",
      "cols(\n",
      "  gene_names = \u001b[31mcol_character()\u001b[39m,\n",
      "  `0` = \u001b[32mcol_double()\u001b[39m,\n",
      "  `7` = \u001b[32mcol_double()\u001b[39m,\n",
      "  wilcoxon_logfc = \u001b[32mcol_double()\u001b[39m,\n",
      "  wilcoxon_padj = \u001b[32mcol_double()\u001b[39m,\n",
      "  wilcoxon_score = \u001b[32mcol_double()\u001b[39m,\n",
      "  `t-test_logfc` = \u001b[32mcol_double()\u001b[39m,\n",
      "  `t-test_padj` = \u001b[32mcol_double()\u001b[39m,\n",
      "  `t-test_score` = \u001b[32mcol_double()\u001b[39m,\n",
      "  `t-test_overestim_var_logfc` = \u001b[32mcol_double()\u001b[39m,\n",
      "  `t-test_overestim_var_padj` = \u001b[32mcol_double()\u001b[39m,\n",
      "  `t-test_overestim_var_score` = \u001b[32mcol_double()\u001b[39m\n",
      ")\n",
      "\n",
      "Warning message:\n",
      "“Unknown columns: `gene_name`”\n"
     ]
    },
    {
     "name": "stdout",
     "output_type": "stream",
     "text": [
      "[1] \"7_vs_0    Gene number: 2537\"\n"
     ]
    },
    {
     "name": "stderr",
     "output_type": "stream",
     "text": [
      "'select()' returned 1:many mapping between keys and columns\n",
      "\n",
      "Parsed with column specification:\n",
      "cols(\n",
      "  gene_names = \u001b[31mcol_character()\u001b[39m,\n",
      "  `1` = \u001b[32mcol_double()\u001b[39m,\n",
      "  `7` = \u001b[32mcol_double()\u001b[39m,\n",
      "  wilcoxon_logfc = \u001b[32mcol_double()\u001b[39m,\n",
      "  wilcoxon_padj = \u001b[32mcol_double()\u001b[39m,\n",
      "  wilcoxon_score = \u001b[32mcol_double()\u001b[39m,\n",
      "  `t-test_logfc` = \u001b[32mcol_double()\u001b[39m,\n",
      "  `t-test_padj` = \u001b[32mcol_double()\u001b[39m,\n",
      "  `t-test_score` = \u001b[32mcol_double()\u001b[39m,\n",
      "  `t-test_overestim_var_logfc` = \u001b[32mcol_double()\u001b[39m,\n",
      "  `t-test_overestim_var_padj` = \u001b[32mcol_double()\u001b[39m,\n",
      "  `t-test_overestim_var_score` = \u001b[32mcol_double()\u001b[39m\n",
      ")\n",
      "\n",
      "Warning message:\n",
      "“Unknown columns: `gene_name`”\n"
     ]
    },
    {
     "name": "stdout",
     "output_type": "stream",
     "text": [
      "[1] \"7_vs_1    Gene number: 1905\"\n"
     ]
    },
    {
     "name": "stderr",
     "output_type": "stream",
     "text": [
      "'select()' returned 1:many mapping between keys and columns\n",
      "\n",
      "Parsed with column specification:\n",
      "cols(\n",
      "  gene_names = \u001b[31mcol_character()\u001b[39m,\n",
      "  `10` = \u001b[32mcol_double()\u001b[39m,\n",
      "  `7` = \u001b[32mcol_double()\u001b[39m,\n",
      "  wilcoxon_logfc = \u001b[32mcol_double()\u001b[39m,\n",
      "  wilcoxon_padj = \u001b[32mcol_double()\u001b[39m,\n",
      "  wilcoxon_score = \u001b[32mcol_double()\u001b[39m,\n",
      "  `t-test_logfc` = \u001b[32mcol_double()\u001b[39m,\n",
      "  `t-test_padj` = \u001b[32mcol_double()\u001b[39m,\n",
      "  `t-test_score` = \u001b[32mcol_double()\u001b[39m,\n",
      "  `t-test_overestim_var_logfc` = \u001b[32mcol_double()\u001b[39m,\n",
      "  `t-test_overestim_var_padj` = \u001b[32mcol_double()\u001b[39m,\n",
      "  `t-test_overestim_var_score` = \u001b[32mcol_double()\u001b[39m\n",
      ")\n",
      "\n",
      "Warning message:\n",
      "“Unknown columns: `gene_name`”\n"
     ]
    },
    {
     "name": "stdout",
     "output_type": "stream",
     "text": [
      "[1] \"7_vs_10    Gene number: 1389\"\n"
     ]
    },
    {
     "name": "stderr",
     "output_type": "stream",
     "text": [
      "'select()' returned 1:many mapping between keys and columns\n",
      "\n",
      "Parsed with column specification:\n",
      "cols(\n",
      "  gene_names = \u001b[31mcol_character()\u001b[39m,\n",
      "  `2` = \u001b[32mcol_double()\u001b[39m,\n",
      "  `7` = \u001b[32mcol_double()\u001b[39m,\n",
      "  wilcoxon_logfc = \u001b[32mcol_double()\u001b[39m,\n",
      "  wilcoxon_padj = \u001b[32mcol_double()\u001b[39m,\n",
      "  wilcoxon_score = \u001b[32mcol_double()\u001b[39m,\n",
      "  `t-test_logfc` = \u001b[32mcol_double()\u001b[39m,\n",
      "  `t-test_padj` = \u001b[32mcol_double()\u001b[39m,\n",
      "  `t-test_score` = \u001b[32mcol_double()\u001b[39m,\n",
      "  `t-test_overestim_var_logfc` = \u001b[32mcol_double()\u001b[39m,\n",
      "  `t-test_overestim_var_padj` = \u001b[32mcol_double()\u001b[39m,\n",
      "  `t-test_overestim_var_score` = \u001b[32mcol_double()\u001b[39m\n",
      ")\n",
      "\n",
      "Warning message:\n",
      "“Unknown columns: `gene_name`”\n"
     ]
    },
    {
     "name": "stdout",
     "output_type": "stream",
     "text": [
      "[1] \"7_vs_2    Gene number: 3701\"\n"
     ]
    },
    {
     "name": "stderr",
     "output_type": "stream",
     "text": [
      "'select()' returned 1:many mapping between keys and columns\n",
      "\n",
      "Parsed with column specification:\n",
      "cols(\n",
      "  gene_names = \u001b[31mcol_character()\u001b[39m,\n",
      "  `3` = \u001b[32mcol_double()\u001b[39m,\n",
      "  `7` = \u001b[32mcol_double()\u001b[39m,\n",
      "  wilcoxon_logfc = \u001b[32mcol_double()\u001b[39m,\n",
      "  wilcoxon_padj = \u001b[32mcol_double()\u001b[39m,\n",
      "  wilcoxon_score = \u001b[32mcol_double()\u001b[39m,\n",
      "  `t-test_logfc` = \u001b[32mcol_double()\u001b[39m,\n",
      "  `t-test_padj` = \u001b[32mcol_double()\u001b[39m,\n",
      "  `t-test_score` = \u001b[32mcol_double()\u001b[39m,\n",
      "  `t-test_overestim_var_logfc` = \u001b[32mcol_double()\u001b[39m,\n",
      "  `t-test_overestim_var_padj` = \u001b[32mcol_double()\u001b[39m,\n",
      "  `t-test_overestim_var_score` = \u001b[32mcol_double()\u001b[39m\n",
      ")\n",
      "\n",
      "Warning message:\n",
      "“Unknown columns: `gene_name`”\n"
     ]
    },
    {
     "name": "stdout",
     "output_type": "stream",
     "text": [
      "[1] \"7_vs_3    Gene number: 3696\"\n"
     ]
    },
    {
     "name": "stderr",
     "output_type": "stream",
     "text": [
      "'select()' returned 1:many mapping between keys and columns\n",
      "\n",
      "Parsed with column specification:\n",
      "cols(\n",
      "  gene_names = \u001b[31mcol_character()\u001b[39m,\n",
      "  `4` = \u001b[32mcol_double()\u001b[39m,\n",
      "  `7` = \u001b[32mcol_double()\u001b[39m,\n",
      "  wilcoxon_logfc = \u001b[32mcol_double()\u001b[39m,\n",
      "  wilcoxon_padj = \u001b[32mcol_double()\u001b[39m,\n",
      "  wilcoxon_score = \u001b[32mcol_double()\u001b[39m,\n",
      "  `t-test_logfc` = \u001b[32mcol_double()\u001b[39m,\n",
      "  `t-test_padj` = \u001b[32mcol_double()\u001b[39m,\n",
      "  `t-test_score` = \u001b[32mcol_double()\u001b[39m,\n",
      "  `t-test_overestim_var_logfc` = \u001b[32mcol_double()\u001b[39m,\n",
      "  `t-test_overestim_var_padj` = \u001b[32mcol_double()\u001b[39m,\n",
      "  `t-test_overestim_var_score` = \u001b[32mcol_double()\u001b[39m\n",
      ")\n",
      "\n",
      "Warning message:\n",
      "“Unknown columns: `gene_name`”\n"
     ]
    },
    {
     "name": "stdout",
     "output_type": "stream",
     "text": [
      "[1] \"7_vs_4    Gene number: 1985\"\n"
     ]
    },
    {
     "name": "stderr",
     "output_type": "stream",
     "text": [
      "'select()' returned 1:many mapping between keys and columns\n",
      "\n",
      "Parsed with column specification:\n",
      "cols(\n",
      "  gene_names = \u001b[31mcol_character()\u001b[39m,\n",
      "  `5` = \u001b[32mcol_double()\u001b[39m,\n",
      "  `7` = \u001b[32mcol_double()\u001b[39m,\n",
      "  wilcoxon_logfc = \u001b[32mcol_double()\u001b[39m,\n",
      "  wilcoxon_padj = \u001b[32mcol_double()\u001b[39m,\n",
      "  wilcoxon_score = \u001b[32mcol_double()\u001b[39m,\n",
      "  `t-test_logfc` = \u001b[32mcol_double()\u001b[39m,\n",
      "  `t-test_padj` = \u001b[32mcol_double()\u001b[39m,\n",
      "  `t-test_score` = \u001b[32mcol_double()\u001b[39m,\n",
      "  `t-test_overestim_var_logfc` = \u001b[32mcol_double()\u001b[39m,\n",
      "  `t-test_overestim_var_padj` = \u001b[32mcol_double()\u001b[39m,\n",
      "  `t-test_overestim_var_score` = \u001b[32mcol_double()\u001b[39m\n",
      ")\n",
      "\n",
      "Warning message:\n",
      "“Unknown columns: `gene_name`”\n"
     ]
    },
    {
     "name": "stdout",
     "output_type": "stream",
     "text": [
      "[1] \"7_vs_5    Gene number: 1912\"\n"
     ]
    },
    {
     "name": "stderr",
     "output_type": "stream",
     "text": [
      "'select()' returned 1:many mapping between keys and columns\n",
      "\n",
      "Parsed with column specification:\n",
      "cols(\n",
      "  gene_names = \u001b[31mcol_character()\u001b[39m,\n",
      "  `6` = \u001b[32mcol_double()\u001b[39m,\n",
      "  `7` = \u001b[32mcol_double()\u001b[39m,\n",
      "  wilcoxon_logfc = \u001b[32mcol_double()\u001b[39m,\n",
      "  wilcoxon_padj = \u001b[32mcol_double()\u001b[39m,\n",
      "  wilcoxon_score = \u001b[32mcol_double()\u001b[39m,\n",
      "  `t-test_logfc` = \u001b[32mcol_double()\u001b[39m,\n",
      "  `t-test_padj` = \u001b[32mcol_double()\u001b[39m,\n",
      "  `t-test_score` = \u001b[32mcol_double()\u001b[39m,\n",
      "  `t-test_overestim_var_logfc` = \u001b[32mcol_double()\u001b[39m,\n",
      "  `t-test_overestim_var_padj` = \u001b[32mcol_double()\u001b[39m,\n",
      "  `t-test_overestim_var_score` = \u001b[32mcol_double()\u001b[39m\n",
      ")\n",
      "\n",
      "Warning message:\n",
      "“Unknown columns: `gene_name`”\n"
     ]
    },
    {
     "name": "stdout",
     "output_type": "stream",
     "text": [
      "[1] \"7_vs_6    Gene number: 1631\"\n"
     ]
    },
    {
     "name": "stderr",
     "output_type": "stream",
     "text": [
      "'select()' returned 1:many mapping between keys and columns\n",
      "\n",
      "Parsed with column specification:\n",
      "cols(\n",
      "  gene_names = \u001b[31mcol_character()\u001b[39m,\n",
      "  `7` = \u001b[32mcol_double()\u001b[39m,\n",
      "  `8` = \u001b[32mcol_double()\u001b[39m,\n",
      "  wilcoxon_logfc = \u001b[32mcol_double()\u001b[39m,\n",
      "  wilcoxon_padj = \u001b[32mcol_double()\u001b[39m,\n",
      "  wilcoxon_score = \u001b[32mcol_double()\u001b[39m,\n",
      "  `t-test_logfc` = \u001b[32mcol_double()\u001b[39m,\n",
      "  `t-test_padj` = \u001b[32mcol_double()\u001b[39m,\n",
      "  `t-test_score` = \u001b[32mcol_double()\u001b[39m,\n",
      "  `t-test_overestim_var_logfc` = \u001b[32mcol_double()\u001b[39m,\n",
      "  `t-test_overestim_var_padj` = \u001b[32mcol_double()\u001b[39m,\n",
      "  `t-test_overestim_var_score` = \u001b[32mcol_double()\u001b[39m\n",
      ")\n",
      "\n",
      "Warning message:\n",
      "“Unknown columns: `gene_name`”\n"
     ]
    },
    {
     "name": "stdout",
     "output_type": "stream",
     "text": [
      "[1] \"7_vs_8    Gene number: 2009\"\n"
     ]
    },
    {
     "name": "stderr",
     "output_type": "stream",
     "text": [
      "'select()' returned 1:many mapping between keys and columns\n",
      "\n",
      "Parsed with column specification:\n",
      "cols(\n",
      "  gene_names = \u001b[31mcol_character()\u001b[39m,\n",
      "  `7` = \u001b[32mcol_double()\u001b[39m,\n",
      "  `9` = \u001b[32mcol_double()\u001b[39m,\n",
      "  wilcoxon_logfc = \u001b[32mcol_double()\u001b[39m,\n",
      "  wilcoxon_padj = \u001b[32mcol_double()\u001b[39m,\n",
      "  wilcoxon_score = \u001b[32mcol_double()\u001b[39m,\n",
      "  `t-test_logfc` = \u001b[32mcol_double()\u001b[39m,\n",
      "  `t-test_padj` = \u001b[32mcol_double()\u001b[39m,\n",
      "  `t-test_score` = \u001b[32mcol_double()\u001b[39m,\n",
      "  `t-test_overestim_var_logfc` = \u001b[32mcol_double()\u001b[39m,\n",
      "  `t-test_overestim_var_padj` = \u001b[32mcol_double()\u001b[39m,\n",
      "  `t-test_overestim_var_score` = \u001b[32mcol_double()\u001b[39m\n",
      ")\n",
      "\n",
      "Warning message:\n",
      "“Unknown columns: `gene_name`”\n"
     ]
    },
    {
     "name": "stdout",
     "output_type": "stream",
     "text": [
      "[1] \"7_vs_9    Gene number: 4244\"\n"
     ]
    },
    {
     "name": "stderr",
     "output_type": "stream",
     "text": [
      "'select()' returned 1:many mapping between keys and columns\n",
      "\n",
      "Parsed with column specification:\n",
      "cols(\n",
      "  gene_names = \u001b[31mcol_character()\u001b[39m,\n",
      "  `0` = \u001b[32mcol_double()\u001b[39m,\n",
      "  `8` = \u001b[32mcol_double()\u001b[39m,\n",
      "  wilcoxon_logfc = \u001b[32mcol_double()\u001b[39m,\n",
      "  wilcoxon_padj = \u001b[32mcol_double()\u001b[39m,\n",
      "  wilcoxon_score = \u001b[32mcol_double()\u001b[39m,\n",
      "  `t-test_logfc` = \u001b[32mcol_double()\u001b[39m,\n",
      "  `t-test_padj` = \u001b[32mcol_double()\u001b[39m,\n",
      "  `t-test_score` = \u001b[32mcol_double()\u001b[39m,\n",
      "  `t-test_overestim_var_logfc` = \u001b[32mcol_double()\u001b[39m,\n",
      "  `t-test_overestim_var_padj` = \u001b[32mcol_double()\u001b[39m,\n",
      "  `t-test_overestim_var_score` = \u001b[32mcol_double()\u001b[39m\n",
      ")\n",
      "\n",
      "Warning message:\n",
      "“Unknown columns: `gene_name`”\n"
     ]
    },
    {
     "name": "stdout",
     "output_type": "stream",
     "text": [
      "[1] \"8_vs_0    Gene number: 1828\"\n"
     ]
    },
    {
     "name": "stderr",
     "output_type": "stream",
     "text": [
      "'select()' returned 1:many mapping between keys and columns\n",
      "\n",
      "Parsed with column specification:\n",
      "cols(\n",
      "  gene_names = \u001b[31mcol_character()\u001b[39m,\n",
      "  `1` = \u001b[32mcol_double()\u001b[39m,\n",
      "  `8` = \u001b[32mcol_double()\u001b[39m,\n",
      "  wilcoxon_logfc = \u001b[32mcol_double()\u001b[39m,\n",
      "  wilcoxon_padj = \u001b[32mcol_double()\u001b[39m,\n",
      "  wilcoxon_score = \u001b[32mcol_double()\u001b[39m,\n",
      "  `t-test_logfc` = \u001b[32mcol_double()\u001b[39m,\n",
      "  `t-test_padj` = \u001b[32mcol_double()\u001b[39m,\n",
      "  `t-test_score` = \u001b[32mcol_double()\u001b[39m,\n",
      "  `t-test_overestim_var_logfc` = \u001b[32mcol_double()\u001b[39m,\n",
      "  `t-test_overestim_var_padj` = \u001b[32mcol_double()\u001b[39m,\n",
      "  `t-test_overestim_var_score` = \u001b[32mcol_double()\u001b[39m\n",
      ")\n",
      "\n",
      "Warning message:\n",
      "“Unknown columns: `gene_name`”\n"
     ]
    },
    {
     "name": "stdout",
     "output_type": "stream",
     "text": [
      "[1] \"8_vs_1    Gene number: 1369\"\n"
     ]
    },
    {
     "name": "stderr",
     "output_type": "stream",
     "text": [
      "'select()' returned 1:many mapping between keys and columns\n",
      "\n",
      "Parsed with column specification:\n",
      "cols(\n",
      "  gene_names = \u001b[31mcol_character()\u001b[39m,\n",
      "  `10` = \u001b[32mcol_double()\u001b[39m,\n",
      "  `8` = \u001b[32mcol_double()\u001b[39m,\n",
      "  wilcoxon_logfc = \u001b[32mcol_double()\u001b[39m,\n",
      "  wilcoxon_padj = \u001b[32mcol_double()\u001b[39m,\n",
      "  wilcoxon_score = \u001b[32mcol_double()\u001b[39m,\n",
      "  `t-test_logfc` = \u001b[32mcol_double()\u001b[39m,\n",
      "  `t-test_padj` = \u001b[32mcol_double()\u001b[39m,\n",
      "  `t-test_score` = \u001b[32mcol_double()\u001b[39m,\n",
      "  `t-test_overestim_var_logfc` = \u001b[32mcol_double()\u001b[39m,\n",
      "  `t-test_overestim_var_padj` = \u001b[32mcol_double()\u001b[39m,\n",
      "  `t-test_overestim_var_score` = \u001b[32mcol_double()\u001b[39m\n",
      ")\n",
      "\n",
      "Warning message:\n",
      "“Unknown columns: `gene_name`”\n"
     ]
    },
    {
     "name": "stdout",
     "output_type": "stream",
     "text": [
      "[1] \"8_vs_10    Gene number: 1197\"\n"
     ]
    },
    {
     "name": "stderr",
     "output_type": "stream",
     "text": [
      "'select()' returned 1:many mapping between keys and columns\n",
      "\n",
      "Parsed with column specification:\n",
      "cols(\n",
      "  gene_names = \u001b[31mcol_character()\u001b[39m,\n",
      "  `2` = \u001b[32mcol_double()\u001b[39m,\n",
      "  `8` = \u001b[32mcol_double()\u001b[39m,\n",
      "  wilcoxon_logfc = \u001b[32mcol_double()\u001b[39m,\n",
      "  wilcoxon_padj = \u001b[32mcol_double()\u001b[39m,\n",
      "  wilcoxon_score = \u001b[32mcol_double()\u001b[39m,\n",
      "  `t-test_logfc` = \u001b[32mcol_double()\u001b[39m,\n",
      "  `t-test_padj` = \u001b[32mcol_double()\u001b[39m,\n",
      "  `t-test_score` = \u001b[32mcol_double()\u001b[39m,\n",
      "  `t-test_overestim_var_logfc` = \u001b[32mcol_double()\u001b[39m,\n",
      "  `t-test_overestim_var_padj` = \u001b[32mcol_double()\u001b[39m,\n",
      "  `t-test_overestim_var_score` = \u001b[32mcol_double()\u001b[39m\n",
      ")\n",
      "\n",
      "Warning message:\n",
      "“Unknown columns: `gene_name`”\n"
     ]
    },
    {
     "name": "stdout",
     "output_type": "stream",
     "text": [
      "[1] \"8_vs_2    Gene number: 2707\"\n"
     ]
    },
    {
     "name": "stderr",
     "output_type": "stream",
     "text": [
      "'select()' returned 1:many mapping between keys and columns\n",
      "\n",
      "Parsed with column specification:\n",
      "cols(\n",
      "  gene_names = \u001b[31mcol_character()\u001b[39m,\n",
      "  `3` = \u001b[32mcol_double()\u001b[39m,\n",
      "  `8` = \u001b[32mcol_double()\u001b[39m,\n",
      "  wilcoxon_logfc = \u001b[32mcol_double()\u001b[39m,\n",
      "  wilcoxon_padj = \u001b[32mcol_double()\u001b[39m,\n",
      "  wilcoxon_score = \u001b[32mcol_double()\u001b[39m,\n",
      "  `t-test_logfc` = \u001b[32mcol_double()\u001b[39m,\n",
      "  `t-test_padj` = \u001b[32mcol_double()\u001b[39m,\n",
      "  `t-test_score` = \u001b[32mcol_double()\u001b[39m,\n",
      "  `t-test_overestim_var_logfc` = \u001b[32mcol_double()\u001b[39m,\n",
      "  `t-test_overestim_var_padj` = \u001b[32mcol_double()\u001b[39m,\n",
      "  `t-test_overestim_var_score` = \u001b[32mcol_double()\u001b[39m\n",
      ")\n",
      "\n",
      "Warning message:\n",
      "“Unknown columns: `gene_name`”\n"
     ]
    },
    {
     "name": "stdout",
     "output_type": "stream",
     "text": [
      "[1] \"8_vs_3    Gene number: 3109\"\n"
     ]
    },
    {
     "name": "stderr",
     "output_type": "stream",
     "text": [
      "'select()' returned 1:many mapping between keys and columns\n",
      "\n",
      "Parsed with column specification:\n",
      "cols(\n",
      "  gene_names = \u001b[31mcol_character()\u001b[39m,\n",
      "  `4` = \u001b[32mcol_double()\u001b[39m,\n",
      "  `8` = \u001b[32mcol_double()\u001b[39m,\n",
      "  wilcoxon_logfc = \u001b[32mcol_double()\u001b[39m,\n",
      "  wilcoxon_padj = \u001b[32mcol_double()\u001b[39m,\n",
      "  wilcoxon_score = \u001b[32mcol_double()\u001b[39m,\n",
      "  `t-test_logfc` = \u001b[32mcol_double()\u001b[39m,\n",
      "  `t-test_padj` = \u001b[32mcol_double()\u001b[39m,\n",
      "  `t-test_score` = \u001b[32mcol_double()\u001b[39m,\n",
      "  `t-test_overestim_var_logfc` = \u001b[32mcol_double()\u001b[39m,\n",
      "  `t-test_overestim_var_padj` = \u001b[32mcol_double()\u001b[39m,\n",
      "  `t-test_overestim_var_score` = \u001b[32mcol_double()\u001b[39m\n",
      ")\n",
      "\n",
      "Warning message:\n",
      "“Unknown columns: `gene_name`”\n"
     ]
    },
    {
     "name": "stdout",
     "output_type": "stream",
     "text": [
      "[1] \"8_vs_4    Gene number: 1653\"\n"
     ]
    },
    {
     "name": "stderr",
     "output_type": "stream",
     "text": [
      "'select()' returned 1:many mapping between keys and columns\n",
      "\n",
      "Parsed with column specification:\n",
      "cols(\n",
      "  gene_names = \u001b[31mcol_character()\u001b[39m,\n",
      "  `5` = \u001b[32mcol_double()\u001b[39m,\n",
      "  `8` = \u001b[32mcol_double()\u001b[39m,\n",
      "  wilcoxon_logfc = \u001b[32mcol_double()\u001b[39m,\n",
      "  wilcoxon_padj = \u001b[32mcol_double()\u001b[39m,\n",
      "  wilcoxon_score = \u001b[32mcol_double()\u001b[39m,\n",
      "  `t-test_logfc` = \u001b[32mcol_double()\u001b[39m,\n",
      "  `t-test_padj` = \u001b[32mcol_double()\u001b[39m,\n",
      "  `t-test_score` = \u001b[32mcol_double()\u001b[39m,\n",
      "  `t-test_overestim_var_logfc` = \u001b[32mcol_double()\u001b[39m,\n",
      "  `t-test_overestim_var_padj` = \u001b[32mcol_double()\u001b[39m,\n",
      "  `t-test_overestim_var_score` = \u001b[32mcol_double()\u001b[39m\n",
      ")\n",
      "\n",
      "Warning message:\n",
      "“Unknown columns: `gene_name`”\n"
     ]
    },
    {
     "name": "stdout",
     "output_type": "stream",
     "text": [
      "[1] \"8_vs_5    Gene number: 1517\"\n"
     ]
    },
    {
     "name": "stderr",
     "output_type": "stream",
     "text": [
      "'select()' returned 1:many mapping between keys and columns\n",
      "\n",
      "Parsed with column specification:\n",
      "cols(\n",
      "  gene_names = \u001b[31mcol_character()\u001b[39m,\n",
      "  `6` = \u001b[32mcol_double()\u001b[39m,\n",
      "  `8` = \u001b[32mcol_double()\u001b[39m,\n",
      "  wilcoxon_logfc = \u001b[32mcol_double()\u001b[39m,\n",
      "  wilcoxon_padj = \u001b[32mcol_double()\u001b[39m,\n",
      "  wilcoxon_score = \u001b[32mcol_double()\u001b[39m,\n",
      "  `t-test_logfc` = \u001b[32mcol_double()\u001b[39m,\n",
      "  `t-test_padj` = \u001b[32mcol_double()\u001b[39m,\n",
      "  `t-test_score` = \u001b[32mcol_double()\u001b[39m,\n",
      "  `t-test_overestim_var_logfc` = \u001b[32mcol_double()\u001b[39m,\n",
      "  `t-test_overestim_var_padj` = \u001b[32mcol_double()\u001b[39m,\n",
      "  `t-test_overestim_var_score` = \u001b[32mcol_double()\u001b[39m\n",
      ")\n",
      "\n",
      "Warning message:\n",
      "“Unknown columns: `gene_name`”\n"
     ]
    },
    {
     "name": "stdout",
     "output_type": "stream",
     "text": [
      "[1] \"8_vs_6    Gene number: 1544\"\n"
     ]
    },
    {
     "name": "stderr",
     "output_type": "stream",
     "text": [
      "'select()' returned 1:many mapping between keys and columns\n",
      "\n",
      "Parsed with column specification:\n",
      "cols(\n",
      "  gene_names = \u001b[31mcol_character()\u001b[39m,\n",
      "  `7` = \u001b[32mcol_double()\u001b[39m,\n",
      "  `8` = \u001b[32mcol_double()\u001b[39m,\n",
      "  wilcoxon_logfc = \u001b[32mcol_double()\u001b[39m,\n",
      "  wilcoxon_padj = \u001b[32mcol_double()\u001b[39m,\n",
      "  wilcoxon_score = \u001b[32mcol_double()\u001b[39m,\n",
      "  `t-test_logfc` = \u001b[32mcol_double()\u001b[39m,\n",
      "  `t-test_padj` = \u001b[32mcol_double()\u001b[39m,\n",
      "  `t-test_score` = \u001b[32mcol_double()\u001b[39m,\n",
      "  `t-test_overestim_var_logfc` = \u001b[32mcol_double()\u001b[39m,\n",
      "  `t-test_overestim_var_padj` = \u001b[32mcol_double()\u001b[39m,\n",
      "  `t-test_overestim_var_score` = \u001b[32mcol_double()\u001b[39m\n",
      ")\n",
      "\n",
      "Warning message:\n",
      "“Unknown columns: `gene_name`”\n"
     ]
    },
    {
     "name": "stdout",
     "output_type": "stream",
     "text": [
      "[1] \"8_vs_7    Gene number: 1160\"\n"
     ]
    },
    {
     "name": "stderr",
     "output_type": "stream",
     "text": [
      "'select()' returned 1:many mapping between keys and columns\n",
      "\n",
      "Parsed with column specification:\n",
      "cols(\n",
      "  gene_names = \u001b[31mcol_character()\u001b[39m,\n",
      "  `8` = \u001b[32mcol_double()\u001b[39m,\n",
      "  `9` = \u001b[32mcol_double()\u001b[39m,\n",
      "  wilcoxon_logfc = \u001b[32mcol_double()\u001b[39m,\n",
      "  wilcoxon_padj = \u001b[32mcol_double()\u001b[39m,\n",
      "  wilcoxon_score = \u001b[32mcol_double()\u001b[39m,\n",
      "  `t-test_logfc` = \u001b[32mcol_double()\u001b[39m,\n",
      "  `t-test_padj` = \u001b[32mcol_double()\u001b[39m,\n",
      "  `t-test_score` = \u001b[32mcol_double()\u001b[39m,\n",
      "  `t-test_overestim_var_logfc` = \u001b[32mcol_double()\u001b[39m,\n",
      "  `t-test_overestim_var_padj` = \u001b[32mcol_double()\u001b[39m,\n",
      "  `t-test_overestim_var_score` = \u001b[32mcol_double()\u001b[39m\n",
      ")\n",
      "\n",
      "Warning message:\n",
      "“Unknown columns: `gene_name`”\n"
     ]
    },
    {
     "name": "stdout",
     "output_type": "stream",
     "text": [
      "[1] \"8_vs_9    Gene number: 3644\"\n"
     ]
    },
    {
     "name": "stderr",
     "output_type": "stream",
     "text": [
      "'select()' returned 1:many mapping between keys and columns\n",
      "\n",
      "Parsed with column specification:\n",
      "cols(\n",
      "  gene_names = \u001b[31mcol_character()\u001b[39m,\n",
      "  `0` = \u001b[32mcol_double()\u001b[39m,\n",
      "  `9` = \u001b[32mcol_double()\u001b[39m,\n",
      "  wilcoxon_logfc = \u001b[32mcol_double()\u001b[39m,\n",
      "  wilcoxon_padj = \u001b[32mcol_double()\u001b[39m,\n",
      "  wilcoxon_score = \u001b[32mcol_double()\u001b[39m,\n",
      "  `t-test_logfc` = \u001b[32mcol_double()\u001b[39m,\n",
      "  `t-test_padj` = \u001b[32mcol_double()\u001b[39m,\n",
      "  `t-test_score` = \u001b[32mcol_double()\u001b[39m,\n",
      "  `t-test_overestim_var_logfc` = \u001b[32mcol_double()\u001b[39m,\n",
      "  `t-test_overestim_var_padj` = \u001b[32mcol_double()\u001b[39m,\n",
      "  `t-test_overestim_var_score` = \u001b[32mcol_double()\u001b[39m\n",
      ")\n",
      "\n",
      "Warning message:\n",
      "“Unknown columns: `gene_name`”\n"
     ]
    },
    {
     "name": "stdout",
     "output_type": "stream",
     "text": [
      "[1] \"9_vs_0    Gene number: 1415\"\n"
     ]
    },
    {
     "name": "stderr",
     "output_type": "stream",
     "text": [
      "'select()' returned 1:many mapping between keys and columns\n",
      "\n",
      "Parsed with column specification:\n",
      "cols(\n",
      "  gene_names = \u001b[31mcol_character()\u001b[39m,\n",
      "  `1` = \u001b[32mcol_double()\u001b[39m,\n",
      "  `9` = \u001b[32mcol_double()\u001b[39m,\n",
      "  wilcoxon_logfc = \u001b[32mcol_double()\u001b[39m,\n",
      "  wilcoxon_padj = \u001b[32mcol_double()\u001b[39m,\n",
      "  wilcoxon_score = \u001b[32mcol_double()\u001b[39m,\n",
      "  `t-test_logfc` = \u001b[32mcol_double()\u001b[39m,\n",
      "  `t-test_padj` = \u001b[32mcol_double()\u001b[39m,\n",
      "  `t-test_score` = \u001b[32mcol_double()\u001b[39m,\n",
      "  `t-test_overestim_var_logfc` = \u001b[32mcol_double()\u001b[39m,\n",
      "  `t-test_overestim_var_padj` = \u001b[32mcol_double()\u001b[39m,\n",
      "  `t-test_overestim_var_score` = \u001b[32mcol_double()\u001b[39m\n",
      ")\n",
      "\n",
      "Warning message:\n",
      "“Unknown columns: `gene_name`”\n"
     ]
    },
    {
     "name": "stdout",
     "output_type": "stream",
     "text": [
      "[1] \"9_vs_1    Gene number: 1622\"\n"
     ]
    },
    {
     "name": "stderr",
     "output_type": "stream",
     "text": [
      "'select()' returned 1:many mapping between keys and columns\n",
      "\n",
      "Parsed with column specification:\n",
      "cols(\n",
      "  gene_names = \u001b[31mcol_character()\u001b[39m,\n",
      "  `10` = \u001b[32mcol_double()\u001b[39m,\n",
      "  `9` = \u001b[32mcol_double()\u001b[39m,\n",
      "  wilcoxon_logfc = \u001b[32mcol_double()\u001b[39m,\n",
      "  wilcoxon_padj = \u001b[32mcol_double()\u001b[39m,\n",
      "  wilcoxon_score = \u001b[32mcol_double()\u001b[39m,\n",
      "  `t-test_logfc` = \u001b[32mcol_double()\u001b[39m,\n",
      "  `t-test_padj` = \u001b[32mcol_double()\u001b[39m,\n",
      "  `t-test_score` = \u001b[32mcol_double()\u001b[39m,\n",
      "  `t-test_overestim_var_logfc` = \u001b[32mcol_double()\u001b[39m,\n",
      "  `t-test_overestim_var_padj` = \u001b[32mcol_double()\u001b[39m,\n",
      "  `t-test_overestim_var_score` = \u001b[32mcol_double()\u001b[39m\n",
      ")\n",
      "\n",
      "Warning message:\n",
      "“Unknown columns: `gene_name`”\n"
     ]
    },
    {
     "name": "stdout",
     "output_type": "stream",
     "text": [
      "[1] \"9_vs_10    Gene number: 1374\"\n"
     ]
    },
    {
     "name": "stderr",
     "output_type": "stream",
     "text": [
      "'select()' returned 1:many mapping between keys and columns\n",
      "\n",
      "Parsed with column specification:\n",
      "cols(\n",
      "  gene_names = \u001b[31mcol_character()\u001b[39m,\n",
      "  `2` = \u001b[32mcol_double()\u001b[39m,\n",
      "  `9` = \u001b[32mcol_double()\u001b[39m,\n",
      "  wilcoxon_logfc = \u001b[32mcol_double()\u001b[39m,\n",
      "  wilcoxon_padj = \u001b[32mcol_double()\u001b[39m,\n",
      "  wilcoxon_score = \u001b[32mcol_double()\u001b[39m,\n",
      "  `t-test_logfc` = \u001b[32mcol_double()\u001b[39m,\n",
      "  `t-test_padj` = \u001b[32mcol_double()\u001b[39m,\n",
      "  `t-test_score` = \u001b[32mcol_double()\u001b[39m,\n",
      "  `t-test_overestim_var_logfc` = \u001b[32mcol_double()\u001b[39m,\n",
      "  `t-test_overestim_var_padj` = \u001b[32mcol_double()\u001b[39m,\n",
      "  `t-test_overestim_var_score` = \u001b[32mcol_double()\u001b[39m\n",
      ")\n",
      "\n",
      "Warning message:\n",
      "“Unknown columns: `gene_name`”\n"
     ]
    },
    {
     "name": "stdout",
     "output_type": "stream",
     "text": [
      "[1] \"9_vs_2    Gene number: 2010\"\n"
     ]
    },
    {
     "name": "stderr",
     "output_type": "stream",
     "text": [
      "'select()' returned 1:many mapping between keys and columns\n",
      "\n",
      "Parsed with column specification:\n",
      "cols(\n",
      "  gene_names = \u001b[31mcol_character()\u001b[39m,\n",
      "  `3` = \u001b[32mcol_double()\u001b[39m,\n",
      "  `9` = \u001b[32mcol_double()\u001b[39m,\n",
      "  wilcoxon_logfc = \u001b[32mcol_double()\u001b[39m,\n",
      "  wilcoxon_padj = \u001b[32mcol_double()\u001b[39m,\n",
      "  wilcoxon_score = \u001b[32mcol_double()\u001b[39m,\n",
      "  `t-test_logfc` = \u001b[32mcol_double()\u001b[39m,\n",
      "  `t-test_padj` = \u001b[32mcol_double()\u001b[39m,\n",
      "  `t-test_score` = \u001b[32mcol_double()\u001b[39m,\n",
      "  `t-test_overestim_var_logfc` = \u001b[32mcol_double()\u001b[39m,\n",
      "  `t-test_overestim_var_padj` = \u001b[32mcol_double()\u001b[39m,\n",
      "  `t-test_overestim_var_score` = \u001b[32mcol_double()\u001b[39m\n",
      ")\n",
      "\n",
      "Warning message:\n",
      "“Unknown columns: `gene_name`”\n"
     ]
    },
    {
     "name": "stdout",
     "output_type": "stream",
     "text": [
      "[1] \"9_vs_3    Gene number: 1141\"\n"
     ]
    },
    {
     "name": "stderr",
     "output_type": "stream",
     "text": [
      "'select()' returned 1:many mapping between keys and columns\n",
      "\n",
      "Parsed with column specification:\n",
      "cols(\n",
      "  gene_names = \u001b[31mcol_character()\u001b[39m,\n",
      "  `4` = \u001b[32mcol_double()\u001b[39m,\n",
      "  `9` = \u001b[32mcol_double()\u001b[39m,\n",
      "  wilcoxon_logfc = \u001b[32mcol_double()\u001b[39m,\n",
      "  wilcoxon_padj = \u001b[32mcol_double()\u001b[39m,\n",
      "  wilcoxon_score = \u001b[32mcol_double()\u001b[39m,\n",
      "  `t-test_logfc` = \u001b[32mcol_double()\u001b[39m,\n",
      "  `t-test_padj` = \u001b[32mcol_double()\u001b[39m,\n",
      "  `t-test_score` = \u001b[32mcol_double()\u001b[39m,\n",
      "  `t-test_overestim_var_logfc` = \u001b[32mcol_double()\u001b[39m,\n",
      "  `t-test_overestim_var_padj` = \u001b[32mcol_double()\u001b[39m,\n",
      "  `t-test_overestim_var_score` = \u001b[32mcol_double()\u001b[39m\n",
      ")\n",
      "\n",
      "Warning message:\n",
      "“Unknown columns: `gene_name`”\n"
     ]
    },
    {
     "name": "stdout",
     "output_type": "stream",
     "text": [
      "[1] \"9_vs_4    Gene number: 1733\"\n"
     ]
    },
    {
     "name": "stderr",
     "output_type": "stream",
     "text": [
      "'select()' returned 1:many mapping between keys and columns\n",
      "\n",
      "Parsed with column specification:\n",
      "cols(\n",
      "  gene_names = \u001b[31mcol_character()\u001b[39m,\n",
      "  `5` = \u001b[32mcol_double()\u001b[39m,\n",
      "  `9` = \u001b[32mcol_double()\u001b[39m,\n",
      "  wilcoxon_logfc = \u001b[32mcol_double()\u001b[39m,\n",
      "  wilcoxon_padj = \u001b[32mcol_double()\u001b[39m,\n",
      "  wilcoxon_score = \u001b[32mcol_double()\u001b[39m,\n",
      "  `t-test_logfc` = \u001b[32mcol_double()\u001b[39m,\n",
      "  `t-test_padj` = \u001b[32mcol_double()\u001b[39m,\n",
      "  `t-test_score` = \u001b[32mcol_double()\u001b[39m,\n",
      "  `t-test_overestim_var_logfc` = \u001b[32mcol_double()\u001b[39m,\n",
      "  `t-test_overestim_var_padj` = \u001b[32mcol_double()\u001b[39m,\n",
      "  `t-test_overestim_var_score` = \u001b[32mcol_double()\u001b[39m\n",
      ")\n",
      "\n",
      "Warning message:\n",
      "“Unknown columns: `gene_name`”\n"
     ]
    },
    {
     "name": "stdout",
     "output_type": "stream",
     "text": [
      "[1] \"9_vs_5    Gene number: 1710\"\n"
     ]
    },
    {
     "name": "stderr",
     "output_type": "stream",
     "text": [
      "'select()' returned 1:many mapping between keys and columns\n",
      "\n",
      "Parsed with column specification:\n",
      "cols(\n",
      "  gene_names = \u001b[31mcol_character()\u001b[39m,\n",
      "  `6` = \u001b[32mcol_double()\u001b[39m,\n",
      "  `9` = \u001b[32mcol_double()\u001b[39m,\n",
      "  wilcoxon_logfc = \u001b[32mcol_double()\u001b[39m,\n",
      "  wilcoxon_padj = \u001b[32mcol_double()\u001b[39m,\n",
      "  wilcoxon_score = \u001b[32mcol_double()\u001b[39m,\n",
      "  `t-test_logfc` = \u001b[32mcol_double()\u001b[39m,\n",
      "  `t-test_padj` = \u001b[32mcol_double()\u001b[39m,\n",
      "  `t-test_score` = \u001b[32mcol_double()\u001b[39m,\n",
      "  `t-test_overestim_var_logfc` = \u001b[32mcol_double()\u001b[39m,\n",
      "  `t-test_overestim_var_padj` = \u001b[32mcol_double()\u001b[39m,\n",
      "  `t-test_overestim_var_score` = \u001b[32mcol_double()\u001b[39m\n",
      ")\n",
      "\n",
      "Warning message:\n",
      "“Unknown columns: `gene_name`”\n"
     ]
    },
    {
     "name": "stdout",
     "output_type": "stream",
     "text": [
      "[1] \"9_vs_6    Gene number: 1579\"\n"
     ]
    },
    {
     "name": "stderr",
     "output_type": "stream",
     "text": [
      "'select()' returned 1:many mapping between keys and columns\n",
      "\n",
      "Parsed with column specification:\n",
      "cols(\n",
      "  gene_names = \u001b[31mcol_character()\u001b[39m,\n",
      "  `7` = \u001b[32mcol_double()\u001b[39m,\n",
      "  `9` = \u001b[32mcol_double()\u001b[39m,\n",
      "  wilcoxon_logfc = \u001b[32mcol_double()\u001b[39m,\n",
      "  wilcoxon_padj = \u001b[32mcol_double()\u001b[39m,\n",
      "  wilcoxon_score = \u001b[32mcol_double()\u001b[39m,\n",
      "  `t-test_logfc` = \u001b[32mcol_double()\u001b[39m,\n",
      "  `t-test_padj` = \u001b[32mcol_double()\u001b[39m,\n",
      "  `t-test_score` = \u001b[32mcol_double()\u001b[39m,\n",
      "  `t-test_overestim_var_logfc` = \u001b[32mcol_double()\u001b[39m,\n",
      "  `t-test_overestim_var_padj` = \u001b[32mcol_double()\u001b[39m,\n",
      "  `t-test_overestim_var_score` = \u001b[32mcol_double()\u001b[39m\n",
      ")\n",
      "\n",
      "Warning message:\n",
      "“Unknown columns: `gene_name`”\n"
     ]
    },
    {
     "name": "stdout",
     "output_type": "stream",
     "text": [
      "[1] \"9_vs_7    Gene number: 1153\"\n"
     ]
    },
    {
     "name": "stderr",
     "output_type": "stream",
     "text": [
      "'select()' returned 1:many mapping between keys and columns\n",
      "\n",
      "Parsed with column specification:\n",
      "cols(\n",
      "  gene_names = \u001b[31mcol_character()\u001b[39m,\n",
      "  `8` = \u001b[32mcol_double()\u001b[39m,\n",
      "  `9` = \u001b[32mcol_double()\u001b[39m,\n",
      "  wilcoxon_logfc = \u001b[32mcol_double()\u001b[39m,\n",
      "  wilcoxon_padj = \u001b[32mcol_double()\u001b[39m,\n",
      "  wilcoxon_score = \u001b[32mcol_double()\u001b[39m,\n",
      "  `t-test_logfc` = \u001b[32mcol_double()\u001b[39m,\n",
      "  `t-test_padj` = \u001b[32mcol_double()\u001b[39m,\n",
      "  `t-test_score` = \u001b[32mcol_double()\u001b[39m,\n",
      "  `t-test_overestim_var_logfc` = \u001b[32mcol_double()\u001b[39m,\n",
      "  `t-test_overestim_var_padj` = \u001b[32mcol_double()\u001b[39m,\n",
      "  `t-test_overestim_var_score` = \u001b[32mcol_double()\u001b[39m\n",
      ")\n",
      "\n",
      "Warning message:\n",
      "“Unknown columns: `gene_name`”\n"
     ]
    },
    {
     "name": "stdout",
     "output_type": "stream",
     "text": [
      "[1] \"9_vs_8    Gene number: 1504\"\n"
     ]
    },
    {
     "name": "stderr",
     "output_type": "stream",
     "text": [
      "'select()' returned 1:many mapping between keys and columns\n",
      "\n",
      "Parsed with column specification:\n",
      "cols(\n",
      "  gene_names = \u001b[31mcol_character()\u001b[39m,\n",
      "  wilcoxon_logfc = \u001b[32mcol_double()\u001b[39m,\n",
      "  wilcoxon_padj = \u001b[32mcol_double()\u001b[39m,\n",
      "  wilcoxon_score = \u001b[32mcol_double()\u001b[39m,\n",
      "  `t-test_logfc` = \u001b[32mcol_double()\u001b[39m,\n",
      "  `t-test_padj` = \u001b[32mcol_double()\u001b[39m,\n",
      "  `t-test_score` = \u001b[32mcol_double()\u001b[39m,\n",
      "  `t-test_overestim_var_logfc` = \u001b[32mcol_double()\u001b[39m,\n",
      "  `t-test_overestim_var_padj` = \u001b[32mcol_double()\u001b[39m,\n",
      "  `t-test_overestim_var_score` = \u001b[32mcol_double()\u001b[39m,\n",
      "  logreg_score = \u001b[32mcol_double()\u001b[39m\n",
      ")\n",
      "\n",
      "Warning message:\n",
      "“Unknown columns: `gene_name`”\n"
     ]
    },
    {
     "name": "stdout",
     "output_type": "stream",
     "text": [
      "[1] \"0    Gene number: 645\"\n"
     ]
    },
    {
     "name": "stderr",
     "output_type": "stream",
     "text": [
      "'select()' returned 1:many mapping between keys and columns\n",
      "\n",
      "Parsed with column specification:\n",
      "cols(\n",
      "  gene_names = \u001b[31mcol_character()\u001b[39m,\n",
      "  wilcoxon_logfc = \u001b[32mcol_double()\u001b[39m,\n",
      "  wilcoxon_padj = \u001b[32mcol_double()\u001b[39m,\n",
      "  wilcoxon_score = \u001b[32mcol_double()\u001b[39m,\n",
      "  `t-test_logfc` = \u001b[32mcol_double()\u001b[39m,\n",
      "  `t-test_padj` = \u001b[32mcol_double()\u001b[39m,\n",
      "  `t-test_score` = \u001b[32mcol_double()\u001b[39m,\n",
      "  `t-test_overestim_var_logfc` = \u001b[32mcol_double()\u001b[39m,\n",
      "  `t-test_overestim_var_padj` = \u001b[32mcol_double()\u001b[39m,\n",
      "  `t-test_overestim_var_score` = \u001b[32mcol_double()\u001b[39m,\n",
      "  logreg_score = \u001b[32mcol_double()\u001b[39m\n",
      ")\n",
      "\n",
      "Warning message:\n",
      "“Unknown columns: `gene_name`”\n"
     ]
    },
    {
     "name": "stdout",
     "output_type": "stream",
     "text": [
      "[1] \"1    Gene number: 1155\"\n"
     ]
    },
    {
     "name": "stderr",
     "output_type": "stream",
     "text": [
      "'select()' returned many:many mapping between keys and columns\n",
      "\n",
      "Parsed with column specification:\n",
      "cols(\n",
      "  gene_names = \u001b[31mcol_character()\u001b[39m,\n",
      "  wilcoxon_logfc = \u001b[32mcol_double()\u001b[39m,\n",
      "  wilcoxon_padj = \u001b[32mcol_double()\u001b[39m,\n",
      "  wilcoxon_score = \u001b[32mcol_double()\u001b[39m,\n",
      "  `t-test_logfc` = \u001b[32mcol_double()\u001b[39m,\n",
      "  `t-test_padj` = \u001b[32mcol_double()\u001b[39m,\n",
      "  `t-test_score` = \u001b[32mcol_double()\u001b[39m,\n",
      "  `t-test_overestim_var_logfc` = \u001b[32mcol_double()\u001b[39m,\n",
      "  `t-test_overestim_var_padj` = \u001b[32mcol_double()\u001b[39m,\n",
      "  `t-test_overestim_var_score` = \u001b[32mcol_double()\u001b[39m,\n",
      "  logreg_score = \u001b[32mcol_double()\u001b[39m\n",
      ")\n",
      "\n",
      "Warning message:\n",
      "“Unknown columns: `gene_name`”\n"
     ]
    },
    {
     "name": "stdout",
     "output_type": "stream",
     "text": [
      "[1] \"10    Gene number: 1714\"\n"
     ]
    },
    {
     "name": "stderr",
     "output_type": "stream",
     "text": [
      "'select()' returned many:many mapping between keys and columns\n",
      "\n",
      "Parsed with column specification:\n",
      "cols(\n",
      "  gene_names = \u001b[31mcol_character()\u001b[39m,\n",
      "  wilcoxon_logfc = \u001b[32mcol_double()\u001b[39m,\n",
      "  wilcoxon_padj = \u001b[32mcol_double()\u001b[39m,\n",
      "  wilcoxon_score = \u001b[32mcol_double()\u001b[39m,\n",
      "  `t-test_logfc` = \u001b[32mcol_double()\u001b[39m,\n",
      "  `t-test_padj` = \u001b[32mcol_double()\u001b[39m,\n",
      "  `t-test_score` = \u001b[32mcol_double()\u001b[39m,\n",
      "  `t-test_overestim_var_logfc` = \u001b[32mcol_double()\u001b[39m,\n",
      "  `t-test_overestim_var_padj` = \u001b[32mcol_double()\u001b[39m,\n",
      "  `t-test_overestim_var_score` = \u001b[32mcol_double()\u001b[39m,\n",
      "  logreg_score = \u001b[32mcol_double()\u001b[39m\n",
      ")\n",
      "\n",
      "Warning message:\n",
      "“Unknown columns: `gene_name`”\n"
     ]
    },
    {
     "name": "stdout",
     "output_type": "stream",
     "text": [
      "[1] \"2    Gene number: 662\"\n"
     ]
    },
    {
     "name": "stderr",
     "output_type": "stream",
     "text": [
      "'select()' returned many:many mapping between keys and columns\n",
      "\n",
      "Parsed with column specification:\n",
      "cols(\n",
      "  gene_names = \u001b[31mcol_character()\u001b[39m,\n",
      "  wilcoxon_logfc = \u001b[32mcol_double()\u001b[39m,\n",
      "  wilcoxon_padj = \u001b[32mcol_double()\u001b[39m,\n",
      "  wilcoxon_score = \u001b[32mcol_double()\u001b[39m,\n",
      "  `t-test_logfc` = \u001b[32mcol_double()\u001b[39m,\n",
      "  `t-test_padj` = \u001b[32mcol_double()\u001b[39m,\n",
      "  `t-test_score` = \u001b[32mcol_double()\u001b[39m,\n",
      "  `t-test_overestim_var_logfc` = \u001b[32mcol_double()\u001b[39m,\n",
      "  `t-test_overestim_var_padj` = \u001b[32mcol_double()\u001b[39m,\n",
      "  `t-test_overestim_var_score` = \u001b[32mcol_double()\u001b[39m,\n",
      "  logreg_score = \u001b[32mcol_double()\u001b[39m\n",
      ")\n",
      "\n",
      "Warning message:\n",
      "“Unknown columns: `gene_name`”\n"
     ]
    },
    {
     "name": "stdout",
     "output_type": "stream",
     "text": [
      "[1] \"3    Gene number: 1699\"\n"
     ]
    },
    {
     "name": "stderr",
     "output_type": "stream",
     "text": [
      "'select()' returned many:many mapping between keys and columns\n",
      "\n",
      "Parsed with column specification:\n",
      "cols(\n",
      "  gene_names = \u001b[31mcol_character()\u001b[39m,\n",
      "  wilcoxon_logfc = \u001b[32mcol_double()\u001b[39m,\n",
      "  wilcoxon_padj = \u001b[32mcol_double()\u001b[39m,\n",
      "  wilcoxon_score = \u001b[32mcol_double()\u001b[39m,\n",
      "  `t-test_logfc` = \u001b[32mcol_double()\u001b[39m,\n",
      "  `t-test_padj` = \u001b[32mcol_double()\u001b[39m,\n",
      "  `t-test_score` = \u001b[32mcol_double()\u001b[39m,\n",
      "  `t-test_overestim_var_logfc` = \u001b[32mcol_double()\u001b[39m,\n",
      "  `t-test_overestim_var_padj` = \u001b[32mcol_double()\u001b[39m,\n",
      "  `t-test_overestim_var_score` = \u001b[32mcol_double()\u001b[39m,\n",
      "  logreg_score = \u001b[32mcol_double()\u001b[39m\n",
      ")\n",
      "\n",
      "Warning message:\n",
      "“Unknown columns: `gene_name`”\n"
     ]
    },
    {
     "name": "stdout",
     "output_type": "stream",
     "text": [
      "[1] \"4    Gene number: 1245\"\n"
     ]
    },
    {
     "name": "stderr",
     "output_type": "stream",
     "text": [
      "'select()' returned many:many mapping between keys and columns\n",
      "\n",
      "Parsed with column specification:\n",
      "cols(\n",
      "  gene_names = \u001b[31mcol_character()\u001b[39m,\n",
      "  wilcoxon_logfc = \u001b[32mcol_double()\u001b[39m,\n",
      "  wilcoxon_padj = \u001b[32mcol_double()\u001b[39m,\n",
      "  wilcoxon_score = \u001b[32mcol_double()\u001b[39m,\n",
      "  `t-test_logfc` = \u001b[32mcol_double()\u001b[39m,\n",
      "  `t-test_padj` = \u001b[32mcol_double()\u001b[39m,\n",
      "  `t-test_score` = \u001b[32mcol_double()\u001b[39m,\n",
      "  `t-test_overestim_var_logfc` = \u001b[32mcol_double()\u001b[39m,\n",
      "  `t-test_overestim_var_padj` = \u001b[32mcol_double()\u001b[39m,\n",
      "  `t-test_overestim_var_score` = \u001b[32mcol_double()\u001b[39m,\n",
      "  logreg_score = \u001b[32mcol_double()\u001b[39m\n",
      ")\n",
      "\n",
      "Warning message:\n",
      "“Unknown columns: `gene_name`”\n"
     ]
    },
    {
     "name": "stdout",
     "output_type": "stream",
     "text": [
      "[1] \"5    Gene number: 793\"\n"
     ]
    },
    {
     "name": "stderr",
     "output_type": "stream",
     "text": [
      "'select()' returned many:many mapping between keys and columns\n",
      "\n",
      "Parsed with column specification:\n",
      "cols(\n",
      "  gene_names = \u001b[31mcol_character()\u001b[39m,\n",
      "  wilcoxon_logfc = \u001b[32mcol_double()\u001b[39m,\n",
      "  wilcoxon_padj = \u001b[32mcol_double()\u001b[39m,\n",
      "  wilcoxon_score = \u001b[32mcol_double()\u001b[39m,\n",
      "  `t-test_logfc` = \u001b[32mcol_double()\u001b[39m,\n",
      "  `t-test_padj` = \u001b[32mcol_double()\u001b[39m,\n",
      "  `t-test_score` = \u001b[32mcol_double()\u001b[39m,\n",
      "  `t-test_overestim_var_logfc` = \u001b[32mcol_double()\u001b[39m,\n",
      "  `t-test_overestim_var_padj` = \u001b[32mcol_double()\u001b[39m,\n",
      "  `t-test_overestim_var_score` = \u001b[32mcol_double()\u001b[39m,\n",
      "  logreg_score = \u001b[32mcol_double()\u001b[39m\n",
      ")\n",
      "\n",
      "Warning message:\n",
      "“Unknown columns: `gene_name`”\n"
     ]
    },
    {
     "name": "stdout",
     "output_type": "stream",
     "text": [
      "[1] \"6    Gene number: 2733\"\n"
     ]
    },
    {
     "name": "stderr",
     "output_type": "stream",
     "text": [
      "'select()' returned many:many mapping between keys and columns\n",
      "\n",
      "Parsed with column specification:\n",
      "cols(\n",
      "  gene_names = \u001b[31mcol_character()\u001b[39m,\n",
      "  wilcoxon_logfc = \u001b[32mcol_double()\u001b[39m,\n",
      "  wilcoxon_padj = \u001b[32mcol_double()\u001b[39m,\n",
      "  wilcoxon_score = \u001b[32mcol_double()\u001b[39m,\n",
      "  `t-test_logfc` = \u001b[32mcol_double()\u001b[39m,\n",
      "  `t-test_padj` = \u001b[32mcol_double()\u001b[39m,\n",
      "  `t-test_score` = \u001b[32mcol_double()\u001b[39m,\n",
      "  `t-test_overestim_var_logfc` = \u001b[32mcol_double()\u001b[39m,\n",
      "  `t-test_overestim_var_padj` = \u001b[32mcol_double()\u001b[39m,\n",
      "  `t-test_overestim_var_score` = \u001b[32mcol_double()\u001b[39m,\n",
      "  logreg_score = \u001b[32mcol_double()\u001b[39m\n",
      ")\n",
      "\n",
      "Warning message:\n",
      "“Unknown columns: `gene_name`”\n"
     ]
    },
    {
     "name": "stdout",
     "output_type": "stream",
     "text": [
      "[1] \"7    Gene number: 1222\"\n"
     ]
    },
    {
     "name": "stderr",
     "output_type": "stream",
     "text": [
      "'select()' returned many:many mapping between keys and columns\n",
      "\n",
      "Parsed with column specification:\n",
      "cols(\n",
      "  gene_names = \u001b[31mcol_character()\u001b[39m,\n",
      "  wilcoxon_logfc = \u001b[32mcol_double()\u001b[39m,\n",
      "  wilcoxon_padj = \u001b[32mcol_double()\u001b[39m,\n",
      "  wilcoxon_score = \u001b[32mcol_double()\u001b[39m,\n",
      "  `t-test_logfc` = \u001b[32mcol_double()\u001b[39m,\n",
      "  `t-test_padj` = \u001b[32mcol_double()\u001b[39m,\n",
      "  `t-test_score` = \u001b[32mcol_double()\u001b[39m,\n",
      "  `t-test_overestim_var_logfc` = \u001b[32mcol_double()\u001b[39m,\n",
      "  `t-test_overestim_var_padj` = \u001b[32mcol_double()\u001b[39m,\n",
      "  `t-test_overestim_var_score` = \u001b[32mcol_double()\u001b[39m,\n",
      "  logreg_score = \u001b[32mcol_double()\u001b[39m\n",
      ")\n",
      "\n",
      "Warning message:\n",
      "“Unknown columns: `gene_name`”\n"
     ]
    },
    {
     "name": "stdout",
     "output_type": "stream",
     "text": [
      "[1] \"8    Gene number: 947\"\n"
     ]
    },
    {
     "name": "stderr",
     "output_type": "stream",
     "text": [
      "'select()' returned many:many mapping between keys and columns\n",
      "\n",
      "Parsed with column specification:\n",
      "cols(\n",
      "  gene_names = \u001b[31mcol_character()\u001b[39m,\n",
      "  wilcoxon_logfc = \u001b[32mcol_double()\u001b[39m,\n",
      "  wilcoxon_padj = \u001b[32mcol_double()\u001b[39m,\n",
      "  wilcoxon_score = \u001b[32mcol_double()\u001b[39m,\n",
      "  `t-test_logfc` = \u001b[32mcol_double()\u001b[39m,\n",
      "  `t-test_padj` = \u001b[32mcol_double()\u001b[39m,\n",
      "  `t-test_score` = \u001b[32mcol_double()\u001b[39m,\n",
      "  `t-test_overestim_var_logfc` = \u001b[32mcol_double()\u001b[39m,\n",
      "  `t-test_overestim_var_padj` = \u001b[32mcol_double()\u001b[39m,\n",
      "  `t-test_overestim_var_score` = \u001b[32mcol_double()\u001b[39m,\n",
      "  logreg_score = \u001b[32mcol_double()\u001b[39m\n",
      ")\n",
      "\n",
      "Warning message:\n",
      "“Unknown columns: `gene_name`”\n"
     ]
    },
    {
     "name": "stdout",
     "output_type": "stream",
     "text": [
      "[1] \"9    Gene number: 1090\"\n"
     ]
    },
    {
     "name": "stderr",
     "output_type": "stream",
     "text": [
      "'select()' returned many:many mapping between keys and columns\n",
      "\n",
      "Parsed with column specification:\n",
      "cols(\n",
      "  gene_names = \u001b[31mcol_character()\u001b[39m,\n",
      "  A = \u001b[32mcol_double()\u001b[39m,\n",
      "  C = \u001b[32mcol_double()\u001b[39m,\n",
      "  wilcoxon_logfc = \u001b[32mcol_double()\u001b[39m,\n",
      "  wilcoxon_padj = \u001b[32mcol_double()\u001b[39m,\n",
      "  wilcoxon_score = \u001b[32mcol_double()\u001b[39m,\n",
      "  `t-test_logfc` = \u001b[32mcol_double()\u001b[39m,\n",
      "  `t-test_padj` = \u001b[32mcol_double()\u001b[39m,\n",
      "  `t-test_score` = \u001b[32mcol_double()\u001b[39m,\n",
      "  `t-test_overestim_var_logfc` = \u001b[32mcol_double()\u001b[39m,\n",
      "  `t-test_overestim_var_padj` = \u001b[32mcol_double()\u001b[39m,\n",
      "  `t-test_overestim_var_score` = \u001b[32mcol_double()\u001b[39m\n",
      ")\n",
      "\n",
      "Warning message:\n",
      "“Unknown columns: `gene_name`”\n"
     ]
    },
    {
     "name": "stdout",
     "output_type": "stream",
     "text": [
      "[1] \"A_vs_C    Gene number: 3920\"\n"
     ]
    },
    {
     "name": "stderr",
     "output_type": "stream",
     "text": [
      "'select()' returned 1:many mapping between keys and columns\n",
      "\n",
      "Parsed with column specification:\n",
      "cols(\n",
      "  gene_names = \u001b[31mcol_character()\u001b[39m,\n",
      "  A = \u001b[32mcol_double()\u001b[39m,\n",
      "  C = \u001b[32mcol_double()\u001b[39m,\n",
      "  wilcoxon_logfc = \u001b[32mcol_double()\u001b[39m,\n",
      "  wilcoxon_padj = \u001b[32mcol_double()\u001b[39m,\n",
      "  wilcoxon_score = \u001b[32mcol_double()\u001b[39m,\n",
      "  `t-test_logfc` = \u001b[32mcol_double()\u001b[39m,\n",
      "  `t-test_padj` = \u001b[32mcol_double()\u001b[39m,\n",
      "  `t-test_score` = \u001b[32mcol_double()\u001b[39m,\n",
      "  `t-test_overestim_var_logfc` = \u001b[32mcol_double()\u001b[39m,\n",
      "  `t-test_overestim_var_padj` = \u001b[32mcol_double()\u001b[39m,\n",
      "  `t-test_overestim_var_score` = \u001b[32mcol_double()\u001b[39m\n",
      ")\n",
      "\n",
      "Warning message:\n",
      "“Unknown columns: `gene_name`”\n"
     ]
    },
    {
     "name": "stdout",
     "output_type": "stream",
     "text": [
      "[1] \"C_vs_A    Gene number: 1626\"\n"
     ]
    },
    {
     "name": "stderr",
     "output_type": "stream",
     "text": [
      "'select()' returned 1:many mapping between keys and columns\n",
      "\n",
      "Parsed with column specification:\n",
      "cols(\n",
      "  gene_names = \u001b[31mcol_character()\u001b[39m,\n",
      "  A = \u001b[32mcol_double()\u001b[39m,\n",
      "  C = \u001b[32mcol_double()\u001b[39m,\n",
      "  wilcoxon_logfc = \u001b[32mcol_double()\u001b[39m,\n",
      "  wilcoxon_padj = \u001b[32mcol_double()\u001b[39m,\n",
      "  wilcoxon_score = \u001b[32mcol_double()\u001b[39m,\n",
      "  `t-test_logfc` = \u001b[32mcol_double()\u001b[39m,\n",
      "  `t-test_padj` = \u001b[32mcol_double()\u001b[39m,\n",
      "  `t-test_score` = \u001b[32mcol_double()\u001b[39m,\n",
      "  `t-test_overestim_var_logfc` = \u001b[32mcol_double()\u001b[39m,\n",
      "  `t-test_overestim_var_padj` = \u001b[32mcol_double()\u001b[39m,\n",
      "  `t-test_overestim_var_score` = \u001b[32mcol_double()\u001b[39m\n",
      ")\n",
      "\n",
      "Warning message:\n",
      "“Unknown columns: `gene_name`”\n"
     ]
    },
    {
     "name": "stdout",
     "output_type": "stream",
     "text": [
      "[1] \"A_vs_C    Gene number: 1206\"\n"
     ]
    },
    {
     "name": "stderr",
     "output_type": "stream",
     "text": [
      "'select()' returned 1:many mapping between keys and columns\n",
      "\n",
      "Parsed with column specification:\n",
      "cols(\n",
      "  gene_names = \u001b[31mcol_character()\u001b[39m,\n",
      "  A = \u001b[32mcol_double()\u001b[39m,\n",
      "  C = \u001b[32mcol_double()\u001b[39m,\n",
      "  wilcoxon_logfc = \u001b[32mcol_double()\u001b[39m,\n",
      "  wilcoxon_padj = \u001b[32mcol_double()\u001b[39m,\n",
      "  wilcoxon_score = \u001b[32mcol_double()\u001b[39m,\n",
      "  `t-test_logfc` = \u001b[32mcol_double()\u001b[39m,\n",
      "  `t-test_padj` = \u001b[32mcol_double()\u001b[39m,\n",
      "  `t-test_score` = \u001b[32mcol_double()\u001b[39m,\n",
      "  `t-test_overestim_var_logfc` = \u001b[32mcol_double()\u001b[39m,\n",
      "  `t-test_overestim_var_padj` = \u001b[32mcol_double()\u001b[39m,\n",
      "  `t-test_overestim_var_score` = \u001b[32mcol_double()\u001b[39m\n",
      ")\n",
      "\n",
      "Warning message:\n",
      "“Unknown columns: `gene_name`”\n"
     ]
    },
    {
     "name": "stdout",
     "output_type": "stream",
     "text": [
      "[1] \"C_vs_A    Gene number: 1192\"\n"
     ]
    },
    {
     "name": "stderr",
     "output_type": "stream",
     "text": [
      "'select()' returned 1:many mapping between keys and columns\n",
      "\n",
      "Parsed with column specification:\n",
      "cols(\n",
      "  gene_names = \u001b[31mcol_character()\u001b[39m,\n",
      "  A = \u001b[32mcol_double()\u001b[39m,\n",
      "  C = \u001b[32mcol_double()\u001b[39m,\n",
      "  wilcoxon_logfc = \u001b[32mcol_double()\u001b[39m,\n",
      "  wilcoxon_padj = \u001b[32mcol_double()\u001b[39m,\n",
      "  wilcoxon_score = \u001b[32mcol_double()\u001b[39m,\n",
      "  `t-test_logfc` = \u001b[32mcol_double()\u001b[39m,\n",
      "  `t-test_padj` = \u001b[32mcol_double()\u001b[39m,\n",
      "  `t-test_score` = \u001b[32mcol_double()\u001b[39m,\n",
      "  `t-test_overestim_var_logfc` = \u001b[32mcol_double()\u001b[39m,\n",
      "  `t-test_overestim_var_padj` = \u001b[32mcol_double()\u001b[39m,\n",
      "  `t-test_overestim_var_score` = \u001b[32mcol_double()\u001b[39m\n",
      ")\n",
      "\n",
      "Warning message:\n",
      "“Unknown columns: `gene_name`”\n"
     ]
    },
    {
     "name": "stdout",
     "output_type": "stream",
     "text": [
      "[1] \"A_vs_C    Gene number: 2036\"\n"
     ]
    },
    {
     "name": "stderr",
     "output_type": "stream",
     "text": [
      "'select()' returned 1:many mapping between keys and columns\n",
      "\n",
      "Parsed with column specification:\n",
      "cols(\n",
      "  gene_names = \u001b[31mcol_character()\u001b[39m,\n",
      "  A = \u001b[32mcol_double()\u001b[39m,\n",
      "  C = \u001b[32mcol_double()\u001b[39m,\n",
      "  wilcoxon_logfc = \u001b[32mcol_double()\u001b[39m,\n",
      "  wilcoxon_padj = \u001b[32mcol_double()\u001b[39m,\n",
      "  wilcoxon_score = \u001b[32mcol_double()\u001b[39m,\n",
      "  `t-test_logfc` = \u001b[32mcol_double()\u001b[39m,\n",
      "  `t-test_padj` = \u001b[32mcol_double()\u001b[39m,\n",
      "  `t-test_score` = \u001b[32mcol_double()\u001b[39m,\n",
      "  `t-test_overestim_var_logfc` = \u001b[32mcol_double()\u001b[39m,\n",
      "  `t-test_overestim_var_padj` = \u001b[32mcol_double()\u001b[39m,\n",
      "  `t-test_overestim_var_score` = \u001b[32mcol_double()\u001b[39m\n",
      ")\n",
      "\n",
      "Warning message:\n",
      "“Unknown columns: `gene_name`”\n"
     ]
    },
    {
     "name": "stdout",
     "output_type": "stream",
     "text": [
      "[1] \"C_vs_A    Gene number: 909\"\n"
     ]
    },
    {
     "name": "stderr",
     "output_type": "stream",
     "text": [
      "'select()' returned 1:many mapping between keys and columns\n",
      "\n",
      "Parsed with column specification:\n",
      "cols(\n",
      "  gene_names = \u001b[31mcol_character()\u001b[39m,\n",
      "  A = \u001b[32mcol_double()\u001b[39m,\n",
      "  C = \u001b[32mcol_double()\u001b[39m,\n",
      "  wilcoxon_logfc = \u001b[32mcol_double()\u001b[39m,\n",
      "  wilcoxon_padj = \u001b[32mcol_double()\u001b[39m,\n",
      "  wilcoxon_score = \u001b[32mcol_double()\u001b[39m,\n",
      "  `t-test_logfc` = \u001b[32mcol_double()\u001b[39m,\n",
      "  `t-test_padj` = \u001b[32mcol_double()\u001b[39m,\n",
      "  `t-test_score` = \u001b[32mcol_double()\u001b[39m,\n",
      "  `t-test_overestim_var_logfc` = \u001b[32mcol_double()\u001b[39m,\n",
      "  `t-test_overestim_var_padj` = \u001b[32mcol_double()\u001b[39m,\n",
      "  `t-test_overestim_var_score` = \u001b[32mcol_double()\u001b[39m\n",
      ")\n",
      "\n",
      "Warning message:\n",
      "“Unknown columns: `gene_name`”\n"
     ]
    },
    {
     "name": "stdout",
     "output_type": "stream",
     "text": [
      "[1] \"A_vs_C    Gene number: 1505\"\n"
     ]
    },
    {
     "name": "stderr",
     "output_type": "stream",
     "text": [
      "'select()' returned 1:many mapping between keys and columns\n",
      "\n",
      "Parsed with column specification:\n",
      "cols(\n",
      "  gene_names = \u001b[31mcol_character()\u001b[39m,\n",
      "  A = \u001b[32mcol_double()\u001b[39m,\n",
      "  C = \u001b[32mcol_double()\u001b[39m,\n",
      "  wilcoxon_logfc = \u001b[32mcol_double()\u001b[39m,\n",
      "  wilcoxon_padj = \u001b[32mcol_double()\u001b[39m,\n",
      "  wilcoxon_score = \u001b[32mcol_double()\u001b[39m,\n",
      "  `t-test_logfc` = \u001b[32mcol_double()\u001b[39m,\n",
      "  `t-test_padj` = \u001b[32mcol_double()\u001b[39m,\n",
      "  `t-test_score` = \u001b[32mcol_double()\u001b[39m,\n",
      "  `t-test_overestim_var_logfc` = \u001b[32mcol_double()\u001b[39m,\n",
      "  `t-test_overestim_var_padj` = \u001b[32mcol_double()\u001b[39m,\n",
      "  `t-test_overestim_var_score` = \u001b[32mcol_double()\u001b[39m\n",
      ")\n",
      "\n",
      "Warning message:\n",
      "“Unknown columns: `gene_name`”\n"
     ]
    },
    {
     "name": "stdout",
     "output_type": "stream",
     "text": [
      "[1] \"C_vs_A    Gene number: 927\"\n"
     ]
    },
    {
     "name": "stderr",
     "output_type": "stream",
     "text": [
      "'select()' returned 1:many mapping between keys and columns\n",
      "\n",
      "Parsed with column specification:\n",
      "cols(\n",
      "  gene_names = \u001b[31mcol_character()\u001b[39m,\n",
      "  A = \u001b[32mcol_double()\u001b[39m,\n",
      "  C = \u001b[32mcol_double()\u001b[39m,\n",
      "  wilcoxon_logfc = \u001b[32mcol_double()\u001b[39m,\n",
      "  wilcoxon_padj = \u001b[32mcol_double()\u001b[39m,\n",
      "  wilcoxon_score = \u001b[32mcol_double()\u001b[39m,\n",
      "  `t-test_logfc` = \u001b[32mcol_double()\u001b[39m,\n",
      "  `t-test_padj` = \u001b[32mcol_double()\u001b[39m,\n",
      "  `t-test_score` = \u001b[32mcol_double()\u001b[39m,\n",
      "  `t-test_overestim_var_logfc` = \u001b[32mcol_double()\u001b[39m,\n",
      "  `t-test_overestim_var_padj` = \u001b[32mcol_double()\u001b[39m,\n",
      "  `t-test_overestim_var_score` = \u001b[32mcol_double()\u001b[39m\n",
      ")\n",
      "\n",
      "Warning message:\n",
      "“Unknown columns: `gene_name`”\n"
     ]
    },
    {
     "name": "stdout",
     "output_type": "stream",
     "text": [
      "[1] \"A_vs_C    Gene number: 1570\"\n"
     ]
    },
    {
     "name": "stderr",
     "output_type": "stream",
     "text": [
      "'select()' returned 1:many mapping between keys and columns\n",
      "\n",
      "Parsed with column specification:\n",
      "cols(\n",
      "  gene_names = \u001b[31mcol_character()\u001b[39m,\n",
      "  A = \u001b[32mcol_double()\u001b[39m,\n",
      "  C = \u001b[32mcol_double()\u001b[39m,\n",
      "  wilcoxon_logfc = \u001b[32mcol_double()\u001b[39m,\n",
      "  wilcoxon_padj = \u001b[32mcol_double()\u001b[39m,\n",
      "  wilcoxon_score = \u001b[32mcol_double()\u001b[39m,\n",
      "  `t-test_logfc` = \u001b[32mcol_double()\u001b[39m,\n",
      "  `t-test_padj` = \u001b[32mcol_double()\u001b[39m,\n",
      "  `t-test_score` = \u001b[32mcol_double()\u001b[39m,\n",
      "  `t-test_overestim_var_logfc` = \u001b[32mcol_double()\u001b[39m,\n",
      "  `t-test_overestim_var_padj` = \u001b[32mcol_double()\u001b[39m,\n",
      "  `t-test_overestim_var_score` = \u001b[32mcol_double()\u001b[39m\n",
      ")\n",
      "\n",
      "Warning message:\n",
      "“Unknown columns: `gene_name`”\n"
     ]
    },
    {
     "name": "stdout",
     "output_type": "stream",
     "text": [
      "[1] \"C_vs_A    Gene number: 963\"\n"
     ]
    },
    {
     "name": "stderr",
     "output_type": "stream",
     "text": [
      "'select()' returned 1:many mapping between keys and columns\n",
      "\n",
      "Parsed with column specification:\n",
      "cols(\n",
      "  gene_names = \u001b[31mcol_character()\u001b[39m,\n",
      "  A = \u001b[32mcol_double()\u001b[39m,\n",
      "  C = \u001b[32mcol_double()\u001b[39m,\n",
      "  wilcoxon_logfc = \u001b[32mcol_double()\u001b[39m,\n",
      "  wilcoxon_padj = \u001b[32mcol_double()\u001b[39m,\n",
      "  wilcoxon_score = \u001b[32mcol_double()\u001b[39m,\n",
      "  `t-test_logfc` = \u001b[32mcol_double()\u001b[39m,\n",
      "  `t-test_padj` = \u001b[32mcol_double()\u001b[39m,\n",
      "  `t-test_score` = \u001b[32mcol_double()\u001b[39m,\n",
      "  `t-test_overestim_var_logfc` = \u001b[32mcol_double()\u001b[39m,\n",
      "  `t-test_overestim_var_padj` = \u001b[32mcol_double()\u001b[39m,\n",
      "  `t-test_overestim_var_score` = \u001b[32mcol_double()\u001b[39m\n",
      ")\n",
      "\n",
      "Warning message:\n",
      "“Unknown columns: `gene_name`”\n"
     ]
    },
    {
     "name": "stdout",
     "output_type": "stream",
     "text": [
      "[1] \"A_vs_C    Gene number: 2313\"\n"
     ]
    },
    {
     "name": "stderr",
     "output_type": "stream",
     "text": [
      "'select()' returned 1:many mapping between keys and columns\n",
      "\n",
      "Parsed with column specification:\n",
      "cols(\n",
      "  gene_names = \u001b[31mcol_character()\u001b[39m,\n",
      "  A = \u001b[32mcol_double()\u001b[39m,\n",
      "  C = \u001b[32mcol_double()\u001b[39m,\n",
      "  wilcoxon_logfc = \u001b[32mcol_double()\u001b[39m,\n",
      "  wilcoxon_padj = \u001b[32mcol_double()\u001b[39m,\n",
      "  wilcoxon_score = \u001b[32mcol_double()\u001b[39m,\n",
      "  `t-test_logfc` = \u001b[32mcol_double()\u001b[39m,\n",
      "  `t-test_padj` = \u001b[32mcol_double()\u001b[39m,\n",
      "  `t-test_score` = \u001b[32mcol_double()\u001b[39m,\n",
      "  `t-test_overestim_var_logfc` = \u001b[32mcol_double()\u001b[39m,\n",
      "  `t-test_overestim_var_padj` = \u001b[32mcol_double()\u001b[39m,\n",
      "  `t-test_overestim_var_score` = \u001b[32mcol_double()\u001b[39m\n",
      ")\n",
      "\n",
      "Warning message:\n",
      "“Unknown columns: `gene_name`”\n"
     ]
    },
    {
     "name": "stdout",
     "output_type": "stream",
     "text": [
      "[1] \"C_vs_A    Gene number: 1152\"\n"
     ]
    },
    {
     "name": "stderr",
     "output_type": "stream",
     "text": [
      "'select()' returned 1:many mapping between keys and columns\n",
      "\n",
      "Parsed with column specification:\n",
      "cols(\n",
      "  gene_names = \u001b[31mcol_character()\u001b[39m,\n",
      "  A = \u001b[32mcol_double()\u001b[39m,\n",
      "  C = \u001b[32mcol_double()\u001b[39m,\n",
      "  wilcoxon_logfc = \u001b[32mcol_double()\u001b[39m,\n",
      "  wilcoxon_padj = \u001b[32mcol_double()\u001b[39m,\n",
      "  wilcoxon_score = \u001b[32mcol_double()\u001b[39m,\n",
      "  `t-test_logfc` = \u001b[32mcol_double()\u001b[39m,\n",
      "  `t-test_padj` = \u001b[32mcol_double()\u001b[39m,\n",
      "  `t-test_score` = \u001b[32mcol_double()\u001b[39m,\n",
      "  `t-test_overestim_var_logfc` = \u001b[32mcol_double()\u001b[39m,\n",
      "  `t-test_overestim_var_padj` = \u001b[32mcol_double()\u001b[39m,\n",
      "  `t-test_overestim_var_score` = \u001b[32mcol_double()\u001b[39m\n",
      ")\n",
      "\n",
      "Warning message:\n",
      "“Unknown columns: `gene_name`”\n"
     ]
    },
    {
     "name": "stdout",
     "output_type": "stream",
     "text": [
      "[1] \"A_vs_C    Gene number: 851\"\n"
     ]
    },
    {
     "name": "stderr",
     "output_type": "stream",
     "text": [
      "'select()' returned 1:many mapping between keys and columns\n",
      "\n",
      "Parsed with column specification:\n",
      "cols(\n",
      "  gene_names = \u001b[31mcol_character()\u001b[39m,\n",
      "  A = \u001b[32mcol_double()\u001b[39m,\n",
      "  C = \u001b[32mcol_double()\u001b[39m,\n",
      "  wilcoxon_logfc = \u001b[32mcol_double()\u001b[39m,\n",
      "  wilcoxon_padj = \u001b[32mcol_double()\u001b[39m,\n",
      "  wilcoxon_score = \u001b[32mcol_double()\u001b[39m,\n",
      "  `t-test_logfc` = \u001b[32mcol_double()\u001b[39m,\n",
      "  `t-test_padj` = \u001b[32mcol_double()\u001b[39m,\n",
      "  `t-test_score` = \u001b[32mcol_double()\u001b[39m,\n",
      "  `t-test_overestim_var_logfc` = \u001b[32mcol_double()\u001b[39m,\n",
      "  `t-test_overestim_var_padj` = \u001b[32mcol_double()\u001b[39m,\n",
      "  `t-test_overestim_var_score` = \u001b[32mcol_double()\u001b[39m\n",
      ")\n",
      "\n",
      "Warning message:\n",
      "“Unknown columns: `gene_name`”\n"
     ]
    },
    {
     "name": "stdout",
     "output_type": "stream",
     "text": [
      "[1] \"C_vs_A    Gene number: 2078\"\n"
     ]
    },
    {
     "name": "stderr",
     "output_type": "stream",
     "text": [
      "'select()' returned 1:many mapping between keys and columns\n",
      "\n",
      "Parsed with column specification:\n",
      "cols(\n",
      "  gene_names = \u001b[31mcol_character()\u001b[39m,\n",
      "  A = \u001b[32mcol_double()\u001b[39m,\n",
      "  C = \u001b[32mcol_double()\u001b[39m,\n",
      "  wilcoxon_logfc = \u001b[32mcol_double()\u001b[39m,\n",
      "  wilcoxon_padj = \u001b[32mcol_double()\u001b[39m,\n",
      "  wilcoxon_score = \u001b[32mcol_double()\u001b[39m,\n",
      "  `t-test_logfc` = \u001b[32mcol_double()\u001b[39m,\n",
      "  `t-test_padj` = \u001b[32mcol_double()\u001b[39m,\n",
      "  `t-test_score` = \u001b[32mcol_double()\u001b[39m,\n",
      "  `t-test_overestim_var_logfc` = \u001b[32mcol_double()\u001b[39m,\n",
      "  `t-test_overestim_var_padj` = \u001b[32mcol_double()\u001b[39m,\n",
      "  `t-test_overestim_var_score` = \u001b[32mcol_double()\u001b[39m\n",
      ")\n",
      "\n",
      "Warning message:\n",
      "“Unknown columns: `gene_name`”\n"
     ]
    },
    {
     "name": "stdout",
     "output_type": "stream",
     "text": [
      "[1] \"A_vs_C    Gene number: 1920\"\n"
     ]
    },
    {
     "name": "stderr",
     "output_type": "stream",
     "text": [
      "'select()' returned 1:many mapping between keys and columns\n",
      "\n",
      "Parsed with column specification:\n",
      "cols(\n",
      "  gene_names = \u001b[31mcol_character()\u001b[39m,\n",
      "  A = \u001b[32mcol_double()\u001b[39m,\n",
      "  C = \u001b[32mcol_double()\u001b[39m,\n",
      "  wilcoxon_logfc = \u001b[32mcol_double()\u001b[39m,\n",
      "  wilcoxon_padj = \u001b[32mcol_double()\u001b[39m,\n",
      "  wilcoxon_score = \u001b[32mcol_double()\u001b[39m,\n",
      "  `t-test_logfc` = \u001b[32mcol_double()\u001b[39m,\n",
      "  `t-test_padj` = \u001b[32mcol_double()\u001b[39m,\n",
      "  `t-test_score` = \u001b[32mcol_double()\u001b[39m,\n",
      "  `t-test_overestim_var_logfc` = \u001b[32mcol_double()\u001b[39m,\n",
      "  `t-test_overestim_var_padj` = \u001b[32mcol_double()\u001b[39m,\n",
      "  `t-test_overestim_var_score` = \u001b[32mcol_double()\u001b[39m\n",
      ")\n",
      "\n",
      "Warning message:\n",
      "“Unknown columns: `gene_name`”\n"
     ]
    },
    {
     "name": "stdout",
     "output_type": "stream",
     "text": [
      "[1] \"C_vs_A    Gene number: 842\"\n"
     ]
    },
    {
     "name": "stderr",
     "output_type": "stream",
     "text": [
      "'select()' returned 1:many mapping between keys and columns\n",
      "\n",
      "Parsed with column specification:\n",
      "cols(\n",
      "  gene_names = \u001b[31mcol_character()\u001b[39m,\n",
      "  A = \u001b[32mcol_double()\u001b[39m,\n",
      "  C = \u001b[32mcol_double()\u001b[39m,\n",
      "  wilcoxon_logfc = \u001b[32mcol_double()\u001b[39m,\n",
      "  wilcoxon_padj = \u001b[32mcol_double()\u001b[39m,\n",
      "  wilcoxon_score = \u001b[32mcol_double()\u001b[39m,\n",
      "  `t-test_logfc` = \u001b[32mcol_double()\u001b[39m,\n",
      "  `t-test_padj` = \u001b[32mcol_double()\u001b[39m,\n",
      "  `t-test_score` = \u001b[32mcol_double()\u001b[39m,\n",
      "  `t-test_overestim_var_logfc` = \u001b[32mcol_double()\u001b[39m,\n",
      "  `t-test_overestim_var_padj` = \u001b[32mcol_double()\u001b[39m,\n",
      "  `t-test_overestim_var_score` = \u001b[32mcol_double()\u001b[39m\n",
      ")\n",
      "\n",
      "Warning message:\n",
      "“Unknown columns: `gene_name`”\n"
     ]
    },
    {
     "name": "stdout",
     "output_type": "stream",
     "text": [
      "[1] \"A_vs_C    Gene number: 1335\"\n"
     ]
    },
    {
     "name": "stderr",
     "output_type": "stream",
     "text": [
      "'select()' returned 1:many mapping between keys and columns\n",
      "\n",
      "Parsed with column specification:\n",
      "cols(\n",
      "  gene_names = \u001b[31mcol_character()\u001b[39m,\n",
      "  A = \u001b[32mcol_double()\u001b[39m,\n",
      "  C = \u001b[32mcol_double()\u001b[39m,\n",
      "  wilcoxon_logfc = \u001b[32mcol_double()\u001b[39m,\n",
      "  wilcoxon_padj = \u001b[32mcol_double()\u001b[39m,\n",
      "  wilcoxon_score = \u001b[32mcol_double()\u001b[39m,\n",
      "  `t-test_logfc` = \u001b[32mcol_double()\u001b[39m,\n",
      "  `t-test_padj` = \u001b[32mcol_double()\u001b[39m,\n",
      "  `t-test_score` = \u001b[32mcol_double()\u001b[39m,\n",
      "  `t-test_overestim_var_logfc` = \u001b[32mcol_double()\u001b[39m,\n",
      "  `t-test_overestim_var_padj` = \u001b[32mcol_double()\u001b[39m,\n",
      "  `t-test_overestim_var_score` = \u001b[32mcol_double()\u001b[39m\n",
      ")\n",
      "\n",
      "Warning message:\n",
      "“Unknown columns: `gene_name`”\n"
     ]
    },
    {
     "name": "stdout",
     "output_type": "stream",
     "text": [
      "[1] \"C_vs_A    Gene number: 2643\"\n"
     ]
    },
    {
     "name": "stderr",
     "output_type": "stream",
     "text": [
      "'select()' returned 1:many mapping between keys and columns\n",
      "\n"
     ]
    }
   ],
   "source": [
    "for (file.i in de.files) {\n",
    "    \n",
    "    ###----- Create output names & output directory\n",
    "    file.i.outpath <- gsub(de.out.dir, \"\", file.i)\n",
    "    file.i.outpath <- gsub(\".csv\", \"\", file.i.outpath)\n",
    "    file.i.outpath <- gsub(\"^/\", \"\",file.i.outpath)\n",
    "\n",
    "    file.i.simp.name <- tail(unlist(strsplit( file.i.outpath, \"/\")), 1)\n",
    "    file.i.simp.name <- gsub(\"_differential\", \"\", file.i.simp.name)\n",
    "    file.i.simp.vec <- unlist(strsplit(file.i.simp.name, \"_vs_\"))\n",
    "\n",
    "    # Create output directory\n",
    "    wk.dir <- file.path(sum.dir, file.i.outpath)\n",
    "    dir.create(wk.dir, showWarnings = FALSE, recursive=TRUE)\n",
    "    setwd(wk.dir)\n",
    "    \n",
    "    # Run GO\n",
    "    useGroup <- \"t-test_overestim_var_logfc\"\n",
    "    outName <- file.i.simp.name\n",
    "\n",
    "    success <- \"yes\"\n",
    "    gsea <- tryCatch({\n",
    "        GO_run(file.i, useGroup, outName, 1, FALSE)\n",
    "    }, error=function(cond) {\n",
    "        message(paste(file.i, \"failed\",sep='; '))\n",
    "        return(\"no\")\n",
    "    })\n",
    "}"
   ]
  },
  {
   "cell_type": "code",
   "execution_count": null,
   "metadata": {},
   "outputs": [],
   "source": []
  }
 ],
 "metadata": {
  "kernelspec": {
   "display_name": "R",
   "language": "R",
   "name": "ir"
  },
  "language_info": {
   "codemirror_mode": "r",
   "file_extension": ".r",
   "mimetype": "text/x-r-source",
   "name": "R",
   "pygments_lexer": "r",
   "version": "3.6.3"
  }
 },
 "nbformat": 4,
 "nbformat_minor": 4
}
