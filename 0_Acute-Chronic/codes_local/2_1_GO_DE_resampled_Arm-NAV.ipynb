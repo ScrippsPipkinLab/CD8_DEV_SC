{
 "cells": [
  {
   "cell_type": "code",
   "execution_count": 2,
   "metadata": {},
   "outputs": [
    {
     "data": {
      "text/html": [
       "'/media/pipkin/ROCKET-PRO/CD8_DEV_SC/0_Acute-Chronic'"
      ],
      "text/latex": [
       "'/media/pipkin/ROCKET-PRO/CD8\\_DEV\\_SC/0\\_Acute-Chronic'"
      ],
      "text/markdown": [
       "'/media/pipkin/ROCKET-PRO/CD8_DEV_SC/0_Acute-Chronic'"
      ],
      "text/plain": [
       "[1] \"/media/pipkin/ROCKET-PRO/CD8_DEV_SC/0_Acute-Chronic\""
      ]
     },
     "metadata": {},
     "output_type": "display_data"
    }
   ],
   "source": [
    "##########----- Reused code -----##########\n",
    "# Last update: Sept 13, 2020\n",
    "# By: Huitian Diao\n",
    "###########################################\n",
    "\n",
    "library(stringr)\n",
    "\n",
    "code_dir <- getwd()\n",
    "tool_dir <- unlist(strsplit(code_dir,\"/\"))\n",
    "tool_dir <- head(tool_dir, length(tool_dir)-2)\n",
    "tool_dir <- paste(c(tool_dir, \"tools\"), collapse=\"/\")\n",
    "source(file.path(tool_dir, \"function_GSEA.R\"))\n",
    "base_dir <- gsub(\"/codes_local\", \"\", code_dir)\n",
    "base_dir"
   ]
  },
  {
   "cell_type": "markdown",
   "metadata": {},
   "source": [
    "## 1. GSEA analysis for each set of comparison"
   ]
  },
  {
   "cell_type": "code",
   "execution_count": 3,
   "metadata": {
    "scrolled": true
   },
   "outputs": [],
   "source": [
    "##########----- Parameters-----##########\n",
    "analysis_name <- c(\"1\", \"resampled_ARM-NAV\")\n",
    "genome <- \"mm\"\n",
    "#########################################\n",
    "analysis_subdir <- paste(analysis_name[1], \"Scanpy_out\", analysis_name[2], sep=\"_\")\n",
    "sum.dir <- file.path(base_dir, '1_Scanpy', analysis_subdir, \"4_DE_GO\")\n",
    "dir.create(sum.dir, showWarnings = FALSE, recursive=TRUE)\n",
    "setwd(sum.dir)\n",
    "\n",
    "###----- Find all de files\n",
    "de.out.dir <- file.path(base_dir, '1_Scanpy', analysis_subdir, \"2_DE\")\n",
    "de.files <- list.files(de.out.dir, pattern=\"*differential.csv\", full.names=TRUE,recursive=TRUE)\n",
    "\n",
    "use.cols <- c(\"gene_names\", \"t-test_overestim_var_logfc\", \"t-test_overestim_var_padj\")"
   ]
  },
  {
   "cell_type": "code",
   "execution_count": 4,
   "metadata": {
    "scrolled": true
   },
   "outputs": [
    {
     "name": "stderr",
     "output_type": "stream",
     "text": [
      "Parsed with column specification:\n",
      "cols(\n",
      "  gene_names = \u001b[31mcol_character()\u001b[39m,\n",
      "  `0` = \u001b[32mcol_double()\u001b[39m,\n",
      "  `1` = \u001b[32mcol_double()\u001b[39m,\n",
      "  wilcoxon_logfc = \u001b[32mcol_double()\u001b[39m,\n",
      "  wilcoxon_padj = \u001b[32mcol_double()\u001b[39m,\n",
      "  wilcoxon_score = \u001b[32mcol_double()\u001b[39m,\n",
      "  `t-test_logfc` = \u001b[32mcol_double()\u001b[39m,\n",
      "  `t-test_padj` = \u001b[32mcol_double()\u001b[39m,\n",
      "  `t-test_score` = \u001b[32mcol_double()\u001b[39m,\n",
      "  `t-test_overestim_var_logfc` = \u001b[32mcol_double()\u001b[39m,\n",
      "  `t-test_overestim_var_padj` = \u001b[32mcol_double()\u001b[39m,\n",
      "  `t-test_overestim_var_score` = \u001b[32mcol_double()\u001b[39m\n",
      ")\n",
      "\n",
      "Warning message:\n",
      "“Unknown columns: `gene_name`”\n"
     ]
    },
    {
     "name": "stdout",
     "output_type": "stream",
     "text": [
      "[1] \"0_vs_1    Gene number: 1443\"\n"
     ]
    },
    {
     "name": "stderr",
     "output_type": "stream",
     "text": [
      "'select()' returned 1:many mapping between keys and columns\n",
      "\n",
      "Parsed with column specification:\n",
      "cols(\n",
      "  gene_names = \u001b[31mcol_character()\u001b[39m,\n",
      "  `0` = \u001b[32mcol_double()\u001b[39m,\n",
      "  `10` = \u001b[32mcol_double()\u001b[39m,\n",
      "  wilcoxon_logfc = \u001b[32mcol_double()\u001b[39m,\n",
      "  wilcoxon_padj = \u001b[32mcol_double()\u001b[39m,\n",
      "  wilcoxon_score = \u001b[32mcol_double()\u001b[39m,\n",
      "  `t-test_logfc` = \u001b[32mcol_double()\u001b[39m,\n",
      "  `t-test_padj` = \u001b[32mcol_double()\u001b[39m,\n",
      "  `t-test_score` = \u001b[32mcol_double()\u001b[39m,\n",
      "  `t-test_overestim_var_logfc` = \u001b[32mcol_double()\u001b[39m,\n",
      "  `t-test_overestim_var_padj` = \u001b[32mcol_double()\u001b[39m,\n",
      "  `t-test_overestim_var_score` = \u001b[32mcol_double()\u001b[39m\n",
      ")\n",
      "\n",
      "Warning message:\n",
      "“Unknown columns: `gene_name`”\n"
     ]
    },
    {
     "name": "stdout",
     "output_type": "stream",
     "text": [
      "[1] \"0_vs_10    Gene number: 1249\"\n"
     ]
    },
    {
     "name": "stderr",
     "output_type": "stream",
     "text": [
      "'select()' returned 1:many mapping between keys and columns\n",
      "\n",
      "Parsed with column specification:\n",
      "cols(\n",
      "  gene_names = \u001b[31mcol_character()\u001b[39m,\n",
      "  `0` = \u001b[32mcol_double()\u001b[39m,\n",
      "  `2` = \u001b[32mcol_double()\u001b[39m,\n",
      "  wilcoxon_logfc = \u001b[32mcol_double()\u001b[39m,\n",
      "  wilcoxon_padj = \u001b[32mcol_double()\u001b[39m,\n",
      "  wilcoxon_score = \u001b[32mcol_double()\u001b[39m,\n",
      "  `t-test_logfc` = \u001b[32mcol_double()\u001b[39m,\n",
      "  `t-test_padj` = \u001b[32mcol_double()\u001b[39m,\n",
      "  `t-test_score` = \u001b[32mcol_double()\u001b[39m,\n",
      "  `t-test_overestim_var_logfc` = \u001b[32mcol_double()\u001b[39m,\n",
      "  `t-test_overestim_var_padj` = \u001b[32mcol_double()\u001b[39m,\n",
      "  `t-test_overestim_var_score` = \u001b[32mcol_double()\u001b[39m\n",
      ")\n",
      "\n",
      "Warning message:\n",
      "“Unknown columns: `gene_name`”\n"
     ]
    },
    {
     "name": "stdout",
     "output_type": "stream",
     "text": [
      "[1] \"0_vs_2    Gene number: 1839\"\n"
     ]
    },
    {
     "name": "stderr",
     "output_type": "stream",
     "text": [
      "'select()' returned 1:many mapping between keys and columns\n",
      "\n",
      "Parsed with column specification:\n",
      "cols(\n",
      "  gene_names = \u001b[31mcol_character()\u001b[39m,\n",
      "  `0` = \u001b[32mcol_double()\u001b[39m,\n",
      "  `3` = \u001b[32mcol_double()\u001b[39m,\n",
      "  wilcoxon_logfc = \u001b[32mcol_double()\u001b[39m,\n",
      "  wilcoxon_padj = \u001b[32mcol_double()\u001b[39m,\n",
      "  wilcoxon_score = \u001b[32mcol_double()\u001b[39m,\n",
      "  `t-test_logfc` = \u001b[32mcol_double()\u001b[39m,\n",
      "  `t-test_padj` = \u001b[32mcol_double()\u001b[39m,\n",
      "  `t-test_score` = \u001b[32mcol_double()\u001b[39m,\n",
      "  `t-test_overestim_var_logfc` = \u001b[32mcol_double()\u001b[39m,\n",
      "  `t-test_overestim_var_padj` = \u001b[32mcol_double()\u001b[39m,\n",
      "  `t-test_overestim_var_score` = \u001b[32mcol_double()\u001b[39m\n",
      ")\n",
      "\n",
      "Warning message:\n",
      "“Unknown columns: `gene_name`”\n"
     ]
    },
    {
     "name": "stdout",
     "output_type": "stream",
     "text": [
      "[1] \"0_vs_3    Gene number: 2560\"\n"
     ]
    },
    {
     "name": "stderr",
     "output_type": "stream",
     "text": [
      "'select()' returned 1:many mapping between keys and columns\n",
      "\n",
      "Parsed with column specification:\n",
      "cols(\n",
      "  gene_names = \u001b[31mcol_character()\u001b[39m,\n",
      "  `0` = \u001b[32mcol_double()\u001b[39m,\n",
      "  `4` = \u001b[32mcol_double()\u001b[39m,\n",
      "  wilcoxon_logfc = \u001b[32mcol_double()\u001b[39m,\n",
      "  wilcoxon_padj = \u001b[32mcol_double()\u001b[39m,\n",
      "  wilcoxon_score = \u001b[32mcol_double()\u001b[39m,\n",
      "  `t-test_logfc` = \u001b[32mcol_double()\u001b[39m,\n",
      "  `t-test_padj` = \u001b[32mcol_double()\u001b[39m,\n",
      "  `t-test_score` = \u001b[32mcol_double()\u001b[39m,\n",
      "  `t-test_overestim_var_logfc` = \u001b[32mcol_double()\u001b[39m,\n",
      "  `t-test_overestim_var_padj` = \u001b[32mcol_double()\u001b[39m,\n",
      "  `t-test_overestim_var_score` = \u001b[32mcol_double()\u001b[39m\n",
      ")\n",
      "\n",
      "Warning message:\n",
      "“Unknown columns: `gene_name`”\n"
     ]
    },
    {
     "name": "stdout",
     "output_type": "stream",
     "text": [
      "[1] \"0_vs_4    Gene number: 1758\"\n"
     ]
    },
    {
     "name": "stderr",
     "output_type": "stream",
     "text": [
      "'select()' returned 1:many mapping between keys and columns\n",
      "\n",
      "Parsed with column specification:\n",
      "cols(\n",
      "  gene_names = \u001b[31mcol_character()\u001b[39m,\n",
      "  `0` = \u001b[32mcol_double()\u001b[39m,\n",
      "  `5` = \u001b[32mcol_double()\u001b[39m,\n",
      "  wilcoxon_logfc = \u001b[32mcol_double()\u001b[39m,\n",
      "  wilcoxon_padj = \u001b[32mcol_double()\u001b[39m,\n",
      "  wilcoxon_score = \u001b[32mcol_double()\u001b[39m,\n",
      "  `t-test_logfc` = \u001b[32mcol_double()\u001b[39m,\n",
      "  `t-test_padj` = \u001b[32mcol_double()\u001b[39m,\n",
      "  `t-test_score` = \u001b[32mcol_double()\u001b[39m,\n",
      "  `t-test_overestim_var_logfc` = \u001b[32mcol_double()\u001b[39m,\n",
      "  `t-test_overestim_var_padj` = \u001b[32mcol_double()\u001b[39m,\n",
      "  `t-test_overestim_var_score` = \u001b[32mcol_double()\u001b[39m\n",
      ")\n",
      "\n",
      "Warning message:\n",
      "“Unknown columns: `gene_name`”\n"
     ]
    },
    {
     "name": "stdout",
     "output_type": "stream",
     "text": [
      "[1] \"0_vs_5    Gene number: 1575\"\n"
     ]
    },
    {
     "name": "stderr",
     "output_type": "stream",
     "text": [
      "'select()' returned 1:many mapping between keys and columns\n",
      "\n",
      "Parsed with column specification:\n",
      "cols(\n",
      "  gene_names = \u001b[31mcol_character()\u001b[39m,\n",
      "  `0` = \u001b[32mcol_double()\u001b[39m,\n",
      "  `6` = \u001b[32mcol_double()\u001b[39m,\n",
      "  wilcoxon_logfc = \u001b[32mcol_double()\u001b[39m,\n",
      "  wilcoxon_padj = \u001b[32mcol_double()\u001b[39m,\n",
      "  wilcoxon_score = \u001b[32mcol_double()\u001b[39m,\n",
      "  `t-test_logfc` = \u001b[32mcol_double()\u001b[39m,\n",
      "  `t-test_padj` = \u001b[32mcol_double()\u001b[39m,\n",
      "  `t-test_score` = \u001b[32mcol_double()\u001b[39m,\n",
      "  `t-test_overestim_var_logfc` = \u001b[32mcol_double()\u001b[39m,\n",
      "  `t-test_overestim_var_padj` = \u001b[32mcol_double()\u001b[39m,\n",
      "  `t-test_overestim_var_score` = \u001b[32mcol_double()\u001b[39m\n",
      ")\n",
      "\n",
      "Warning message:\n",
      "“Unknown columns: `gene_name`”\n"
     ]
    },
    {
     "name": "stdout",
     "output_type": "stream",
     "text": [
      "[1] \"0_vs_6    Gene number: 1680\"\n"
     ]
    },
    {
     "name": "stderr",
     "output_type": "stream",
     "text": [
      "'select()' returned 1:many mapping between keys and columns\n",
      "\n",
      "Parsed with column specification:\n",
      "cols(\n",
      "  gene_names = \u001b[31mcol_character()\u001b[39m,\n",
      "  `0` = \u001b[32mcol_double()\u001b[39m,\n",
      "  `7` = \u001b[32mcol_double()\u001b[39m,\n",
      "  wilcoxon_logfc = \u001b[32mcol_double()\u001b[39m,\n",
      "  wilcoxon_padj = \u001b[32mcol_double()\u001b[39m,\n",
      "  wilcoxon_score = \u001b[32mcol_double()\u001b[39m,\n",
      "  `t-test_logfc` = \u001b[32mcol_double()\u001b[39m,\n",
      "  `t-test_padj` = \u001b[32mcol_double()\u001b[39m,\n",
      "  `t-test_score` = \u001b[32mcol_double()\u001b[39m,\n",
      "  `t-test_overestim_var_logfc` = \u001b[32mcol_double()\u001b[39m,\n",
      "  `t-test_overestim_var_padj` = \u001b[32mcol_double()\u001b[39m,\n",
      "  `t-test_overestim_var_score` = \u001b[32mcol_double()\u001b[39m\n",
      ")\n",
      "\n",
      "Warning message:\n",
      "“Unknown columns: `gene_name`”\n"
     ]
    },
    {
     "name": "stdout",
     "output_type": "stream",
     "text": [
      "[1] \"0_vs_7    Gene number: 2073\"\n"
     ]
    },
    {
     "name": "stderr",
     "output_type": "stream",
     "text": [
      "'select()' returned 1:many mapping between keys and columns\n",
      "\n",
      "Parsed with column specification:\n",
      "cols(\n",
      "  gene_names = \u001b[31mcol_character()\u001b[39m,\n",
      "  `0` = \u001b[32mcol_double()\u001b[39m,\n",
      "  `8` = \u001b[32mcol_double()\u001b[39m,\n",
      "  wilcoxon_logfc = \u001b[32mcol_double()\u001b[39m,\n",
      "  wilcoxon_padj = \u001b[32mcol_double()\u001b[39m,\n",
      "  wilcoxon_score = \u001b[32mcol_double()\u001b[39m,\n",
      "  `t-test_logfc` = \u001b[32mcol_double()\u001b[39m,\n",
      "  `t-test_padj` = \u001b[32mcol_double()\u001b[39m,\n",
      "  `t-test_score` = \u001b[32mcol_double()\u001b[39m,\n",
      "  `t-test_overestim_var_logfc` = \u001b[32mcol_double()\u001b[39m,\n",
      "  `t-test_overestim_var_padj` = \u001b[32mcol_double()\u001b[39m,\n",
      "  `t-test_overestim_var_score` = \u001b[32mcol_double()\u001b[39m\n",
      ")\n",
      "\n",
      "Warning message:\n",
      "“Unknown columns: `gene_name`”\n"
     ]
    },
    {
     "name": "stdout",
     "output_type": "stream",
     "text": [
      "[1] \"0_vs_8    Gene number: 5588\"\n"
     ]
    },
    {
     "name": "stderr",
     "output_type": "stream",
     "text": [
      "'select()' returned 1:many mapping between keys and columns\n",
      "\n",
      "Parsed with column specification:\n",
      "cols(\n",
      "  gene_names = \u001b[31mcol_character()\u001b[39m,\n",
      "  `0` = \u001b[32mcol_double()\u001b[39m,\n",
      "  `9` = \u001b[32mcol_double()\u001b[39m,\n",
      "  wilcoxon_logfc = \u001b[32mcol_double()\u001b[39m,\n",
      "  wilcoxon_padj = \u001b[32mcol_double()\u001b[39m,\n",
      "  wilcoxon_score = \u001b[32mcol_double()\u001b[39m,\n",
      "  `t-test_logfc` = \u001b[32mcol_double()\u001b[39m,\n",
      "  `t-test_padj` = \u001b[32mcol_double()\u001b[39m,\n",
      "  `t-test_score` = \u001b[32mcol_double()\u001b[39m,\n",
      "  `t-test_overestim_var_logfc` = \u001b[32mcol_double()\u001b[39m,\n",
      "  `t-test_overestim_var_padj` = \u001b[32mcol_double()\u001b[39m,\n",
      "  `t-test_overestim_var_score` = \u001b[32mcol_double()\u001b[39m\n",
      ")\n",
      "\n",
      "Warning message:\n",
      "“Unknown columns: `gene_name`”\n"
     ]
    },
    {
     "name": "stdout",
     "output_type": "stream",
     "text": [
      "[1] \"0_vs_9    Gene number: 2924\"\n"
     ]
    },
    {
     "name": "stderr",
     "output_type": "stream",
     "text": [
      "'select()' returned 1:many mapping between keys and columns\n",
      "\n",
      "Parsed with column specification:\n",
      "cols(\n",
      "  gene_names = \u001b[31mcol_character()\u001b[39m,\n",
      "  `0` = \u001b[32mcol_double()\u001b[39m,\n",
      "  `1` = \u001b[32mcol_double()\u001b[39m,\n",
      "  wilcoxon_logfc = \u001b[32mcol_double()\u001b[39m,\n",
      "  wilcoxon_padj = \u001b[32mcol_double()\u001b[39m,\n",
      "  wilcoxon_score = \u001b[32mcol_double()\u001b[39m,\n",
      "  `t-test_logfc` = \u001b[32mcol_double()\u001b[39m,\n",
      "  `t-test_padj` = \u001b[32mcol_double()\u001b[39m,\n",
      "  `t-test_score` = \u001b[32mcol_double()\u001b[39m,\n",
      "  `t-test_overestim_var_logfc` = \u001b[32mcol_double()\u001b[39m,\n",
      "  `t-test_overestim_var_padj` = \u001b[32mcol_double()\u001b[39m,\n",
      "  `t-test_overestim_var_score` = \u001b[32mcol_double()\u001b[39m\n",
      ")\n",
      "\n",
      "Warning message:\n",
      "“Unknown columns: `gene_name`”\n"
     ]
    },
    {
     "name": "stdout",
     "output_type": "stream",
     "text": [
      "[1] \"1_vs_0    Gene number: 2790\"\n"
     ]
    },
    {
     "name": "stderr",
     "output_type": "stream",
     "text": [
      "'select()' returned 1:many mapping between keys and columns\n",
      "\n",
      "Parsed with column specification:\n",
      "cols(\n",
      "  gene_names = \u001b[31mcol_character()\u001b[39m,\n",
      "  `1` = \u001b[32mcol_double()\u001b[39m,\n",
      "  `10` = \u001b[32mcol_double()\u001b[39m,\n",
      "  wilcoxon_logfc = \u001b[32mcol_double()\u001b[39m,\n",
      "  wilcoxon_padj = \u001b[32mcol_double()\u001b[39m,\n",
      "  wilcoxon_score = \u001b[32mcol_double()\u001b[39m,\n",
      "  `t-test_logfc` = \u001b[32mcol_double()\u001b[39m,\n",
      "  `t-test_padj` = \u001b[32mcol_double()\u001b[39m,\n",
      "  `t-test_score` = \u001b[32mcol_double()\u001b[39m,\n",
      "  `t-test_overestim_var_logfc` = \u001b[32mcol_double()\u001b[39m,\n",
      "  `t-test_overestim_var_padj` = \u001b[32mcol_double()\u001b[39m,\n",
      "  `t-test_overestim_var_score` = \u001b[32mcol_double()\u001b[39m\n",
      ")\n",
      "\n",
      "Warning message:\n",
      "“Unknown columns: `gene_name`”\n"
     ]
    },
    {
     "name": "stdout",
     "output_type": "stream",
     "text": [
      "[1] \"1_vs_10    Gene number: 826\"\n"
     ]
    },
    {
     "name": "stderr",
     "output_type": "stream",
     "text": [
      "'select()' returned 1:many mapping between keys and columns\n",
      "\n",
      "Parsed with column specification:\n",
      "cols(\n",
      "  gene_names = \u001b[31mcol_character()\u001b[39m,\n",
      "  `1` = \u001b[32mcol_double()\u001b[39m,\n",
      "  `2` = \u001b[32mcol_double()\u001b[39m,\n",
      "  wilcoxon_logfc = \u001b[32mcol_double()\u001b[39m,\n",
      "  wilcoxon_padj = \u001b[32mcol_double()\u001b[39m,\n",
      "  wilcoxon_score = \u001b[32mcol_double()\u001b[39m,\n",
      "  `t-test_logfc` = \u001b[32mcol_double()\u001b[39m,\n",
      "  `t-test_padj` = \u001b[32mcol_double()\u001b[39m,\n",
      "  `t-test_score` = \u001b[32mcol_double()\u001b[39m,\n",
      "  `t-test_overestim_var_logfc` = \u001b[32mcol_double()\u001b[39m,\n",
      "  `t-test_overestim_var_padj` = \u001b[32mcol_double()\u001b[39m,\n",
      "  `t-test_overestim_var_score` = \u001b[32mcol_double()\u001b[39m\n",
      ")\n",
      "\n",
      "Warning message:\n",
      "“Unknown columns: `gene_name`”\n"
     ]
    },
    {
     "name": "stdout",
     "output_type": "stream",
     "text": [
      "[1] \"1_vs_2    Gene number: 3891\"\n"
     ]
    },
    {
     "name": "stderr",
     "output_type": "stream",
     "text": [
      "'select()' returned 1:many mapping between keys and columns\n",
      "\n",
      "Parsed with column specification:\n",
      "cols(\n",
      "  gene_names = \u001b[31mcol_character()\u001b[39m,\n",
      "  `1` = \u001b[32mcol_double()\u001b[39m,\n",
      "  `3` = \u001b[32mcol_double()\u001b[39m,\n",
      "  wilcoxon_logfc = \u001b[32mcol_double()\u001b[39m,\n",
      "  wilcoxon_padj = \u001b[32mcol_double()\u001b[39m,\n",
      "  wilcoxon_score = \u001b[32mcol_double()\u001b[39m,\n",
      "  `t-test_logfc` = \u001b[32mcol_double()\u001b[39m,\n",
      "  `t-test_padj` = \u001b[32mcol_double()\u001b[39m,\n",
      "  `t-test_score` = \u001b[32mcol_double()\u001b[39m,\n",
      "  `t-test_overestim_var_logfc` = \u001b[32mcol_double()\u001b[39m,\n",
      "  `t-test_overestim_var_padj` = \u001b[32mcol_double()\u001b[39m,\n",
      "  `t-test_overestim_var_score` = \u001b[32mcol_double()\u001b[39m\n",
      ")\n",
      "\n",
      "Warning message:\n",
      "“Unknown columns: `gene_name`”\n"
     ]
    },
    {
     "name": "stdout",
     "output_type": "stream",
     "text": [
      "[1] \"1_vs_3    Gene number: 4383\"\n"
     ]
    },
    {
     "name": "stderr",
     "output_type": "stream",
     "text": [
      "'select()' returned 1:many mapping between keys and columns\n",
      "\n",
      "Parsed with column specification:\n",
      "cols(\n",
      "  gene_names = \u001b[31mcol_character()\u001b[39m,\n",
      "  `1` = \u001b[32mcol_double()\u001b[39m,\n",
      "  `4` = \u001b[32mcol_double()\u001b[39m,\n",
      "  wilcoxon_logfc = \u001b[32mcol_double()\u001b[39m,\n",
      "  wilcoxon_padj = \u001b[32mcol_double()\u001b[39m,\n",
      "  wilcoxon_score = \u001b[32mcol_double()\u001b[39m,\n",
      "  `t-test_logfc` = \u001b[32mcol_double()\u001b[39m,\n",
      "  `t-test_padj` = \u001b[32mcol_double()\u001b[39m,\n",
      "  `t-test_score` = \u001b[32mcol_double()\u001b[39m,\n",
      "  `t-test_overestim_var_logfc` = \u001b[32mcol_double()\u001b[39m,\n",
      "  `t-test_overestim_var_padj` = \u001b[32mcol_double()\u001b[39m,\n",
      "  `t-test_overestim_var_score` = \u001b[32mcol_double()\u001b[39m\n",
      ")\n",
      "\n",
      "Warning message:\n",
      "“Unknown columns: `gene_name`”\n"
     ]
    },
    {
     "name": "stdout",
     "output_type": "stream",
     "text": [
      "[1] \"1_vs_4    Gene number: 1258\"\n"
     ]
    },
    {
     "name": "stderr",
     "output_type": "stream",
     "text": [
      "'select()' returned 1:many mapping between keys and columns\n",
      "\n",
      "Parsed with column specification:\n",
      "cols(\n",
      "  gene_names = \u001b[31mcol_character()\u001b[39m,\n",
      "  `1` = \u001b[32mcol_double()\u001b[39m,\n",
      "  `5` = \u001b[32mcol_double()\u001b[39m,\n",
      "  wilcoxon_logfc = \u001b[32mcol_double()\u001b[39m,\n",
      "  wilcoxon_padj = \u001b[32mcol_double()\u001b[39m,\n",
      "  wilcoxon_score = \u001b[32mcol_double()\u001b[39m,\n",
      "  `t-test_logfc` = \u001b[32mcol_double()\u001b[39m,\n",
      "  `t-test_padj` = \u001b[32mcol_double()\u001b[39m,\n",
      "  `t-test_score` = \u001b[32mcol_double()\u001b[39m,\n",
      "  `t-test_overestim_var_logfc` = \u001b[32mcol_double()\u001b[39m,\n",
      "  `t-test_overestim_var_padj` = \u001b[32mcol_double()\u001b[39m,\n",
      "  `t-test_overestim_var_score` = \u001b[32mcol_double()\u001b[39m\n",
      ")\n",
      "\n",
      "Warning message:\n",
      "“Unknown columns: `gene_name`”\n"
     ]
    },
    {
     "name": "stdout",
     "output_type": "stream",
     "text": [
      "[1] \"1_vs_5    Gene number: 1398\"\n"
     ]
    },
    {
     "name": "stderr",
     "output_type": "stream",
     "text": [
      "'select()' returned 1:many mapping between keys and columns\n",
      "\n",
      "Parsed with column specification:\n",
      "cols(\n",
      "  gene_names = \u001b[31mcol_character()\u001b[39m,\n",
      "  `1` = \u001b[32mcol_double()\u001b[39m,\n",
      "  `6` = \u001b[32mcol_double()\u001b[39m,\n",
      "  wilcoxon_logfc = \u001b[32mcol_double()\u001b[39m,\n",
      "  wilcoxon_padj = \u001b[32mcol_double()\u001b[39m,\n",
      "  wilcoxon_score = \u001b[32mcol_double()\u001b[39m,\n",
      "  `t-test_logfc` = \u001b[32mcol_double()\u001b[39m,\n",
      "  `t-test_padj` = \u001b[32mcol_double()\u001b[39m,\n",
      "  `t-test_score` = \u001b[32mcol_double()\u001b[39m,\n",
      "  `t-test_overestim_var_logfc` = \u001b[32mcol_double()\u001b[39m,\n",
      "  `t-test_overestim_var_padj` = \u001b[32mcol_double()\u001b[39m,\n",
      "  `t-test_overestim_var_score` = \u001b[32mcol_double()\u001b[39m\n",
      ")\n",
      "\n",
      "Warning message:\n",
      "“Unknown columns: `gene_name`”\n"
     ]
    },
    {
     "name": "stdout",
     "output_type": "stream",
     "text": [
      "[1] \"1_vs_6    Gene number: 1211\"\n"
     ]
    },
    {
     "name": "stderr",
     "output_type": "stream",
     "text": [
      "'select()' returned 1:many mapping between keys and columns\n",
      "\n",
      "Parsed with column specification:\n",
      "cols(\n",
      "  gene_names = \u001b[31mcol_character()\u001b[39m,\n",
      "  `1` = \u001b[32mcol_double()\u001b[39m,\n",
      "  `7` = \u001b[32mcol_double()\u001b[39m,\n",
      "  wilcoxon_logfc = \u001b[32mcol_double()\u001b[39m,\n",
      "  wilcoxon_padj = \u001b[32mcol_double()\u001b[39m,\n",
      "  wilcoxon_score = \u001b[32mcol_double()\u001b[39m,\n",
      "  `t-test_logfc` = \u001b[32mcol_double()\u001b[39m,\n",
      "  `t-test_padj` = \u001b[32mcol_double()\u001b[39m,\n",
      "  `t-test_score` = \u001b[32mcol_double()\u001b[39m,\n",
      "  `t-test_overestim_var_logfc` = \u001b[32mcol_double()\u001b[39m,\n",
      "  `t-test_overestim_var_padj` = \u001b[32mcol_double()\u001b[39m,\n",
      "  `t-test_overestim_var_score` = \u001b[32mcol_double()\u001b[39m\n",
      ")\n",
      "\n",
      "Warning message:\n",
      "“Unknown columns: `gene_name`”\n"
     ]
    },
    {
     "name": "stdout",
     "output_type": "stream",
     "text": [
      "[1] \"1_vs_7    Gene number: 2828\"\n"
     ]
    },
    {
     "name": "stderr",
     "output_type": "stream",
     "text": [
      "'select()' returned 1:many mapping between keys and columns\n",
      "\n",
      "Parsed with column specification:\n",
      "cols(\n",
      "  gene_names = \u001b[31mcol_character()\u001b[39m,\n",
      "  `1` = \u001b[32mcol_double()\u001b[39m,\n",
      "  `8` = \u001b[32mcol_double()\u001b[39m,\n",
      "  wilcoxon_logfc = \u001b[32mcol_double()\u001b[39m,\n",
      "  wilcoxon_padj = \u001b[32mcol_double()\u001b[39m,\n",
      "  wilcoxon_score = \u001b[32mcol_double()\u001b[39m,\n",
      "  `t-test_logfc` = \u001b[32mcol_double()\u001b[39m,\n",
      "  `t-test_padj` = \u001b[32mcol_double()\u001b[39m,\n",
      "  `t-test_score` = \u001b[32mcol_double()\u001b[39m,\n",
      "  `t-test_overestim_var_logfc` = \u001b[32mcol_double()\u001b[39m,\n",
      "  `t-test_overestim_var_padj` = \u001b[32mcol_double()\u001b[39m,\n",
      "  `t-test_overestim_var_score` = \u001b[32mcol_double()\u001b[39m\n",
      ")\n",
      "\n",
      "Warning message:\n",
      "“Unknown columns: `gene_name`”\n"
     ]
    },
    {
     "name": "stdout",
     "output_type": "stream",
     "text": [
      "[1] \"1_vs_8    Gene number: 6199\"\n"
     ]
    },
    {
     "name": "stderr",
     "output_type": "stream",
     "text": [
      "'select()' returned 1:many mapping between keys and columns\n",
      "\n",
      "Parsed with column specification:\n",
      "cols(\n",
      "  gene_names = \u001b[31mcol_character()\u001b[39m,\n",
      "  `1` = \u001b[32mcol_double()\u001b[39m,\n",
      "  `9` = \u001b[32mcol_double()\u001b[39m,\n",
      "  wilcoxon_logfc = \u001b[32mcol_double()\u001b[39m,\n",
      "  wilcoxon_padj = \u001b[32mcol_double()\u001b[39m,\n",
      "  wilcoxon_score = \u001b[32mcol_double()\u001b[39m,\n",
      "  `t-test_logfc` = \u001b[32mcol_double()\u001b[39m,\n",
      "  `t-test_padj` = \u001b[32mcol_double()\u001b[39m,\n",
      "  `t-test_score` = \u001b[32mcol_double()\u001b[39m,\n",
      "  `t-test_overestim_var_logfc` = \u001b[32mcol_double()\u001b[39m,\n",
      "  `t-test_overestim_var_padj` = \u001b[32mcol_double()\u001b[39m,\n",
      "  `t-test_overestim_var_score` = \u001b[32mcol_double()\u001b[39m\n",
      ")\n",
      "\n",
      "Warning message:\n",
      "“Unknown columns: `gene_name`”\n"
     ]
    },
    {
     "name": "stdout",
     "output_type": "stream",
     "text": [
      "[1] \"1_vs_9    Gene number: 4856\"\n"
     ]
    },
    {
     "name": "stderr",
     "output_type": "stream",
     "text": [
      "'select()' returned 1:many mapping between keys and columns\n",
      "\n",
      "Parsed with column specification:\n",
      "cols(\n",
      "  gene_names = \u001b[31mcol_character()\u001b[39m,\n",
      "  `0` = \u001b[32mcol_double()\u001b[39m,\n",
      "  `10` = \u001b[32mcol_double()\u001b[39m,\n",
      "  wilcoxon_logfc = \u001b[32mcol_double()\u001b[39m,\n",
      "  wilcoxon_padj = \u001b[32mcol_double()\u001b[39m,\n",
      "  wilcoxon_score = \u001b[32mcol_double()\u001b[39m,\n",
      "  `t-test_logfc` = \u001b[32mcol_double()\u001b[39m,\n",
      "  `t-test_padj` = \u001b[32mcol_double()\u001b[39m,\n",
      "  `t-test_score` = \u001b[32mcol_double()\u001b[39m,\n",
      "  `t-test_overestim_var_logfc` = \u001b[32mcol_double()\u001b[39m,\n",
      "  `t-test_overestim_var_padj` = \u001b[32mcol_double()\u001b[39m,\n",
      "  `t-test_overestim_var_score` = \u001b[32mcol_double()\u001b[39m\n",
      ")\n",
      "\n",
      "Warning message:\n",
      "“Unknown columns: `gene_name`”\n"
     ]
    },
    {
     "name": "stdout",
     "output_type": "stream",
     "text": [
      "[1] \"10_vs_0    Gene number: 3978\"\n"
     ]
    },
    {
     "name": "stderr",
     "output_type": "stream",
     "text": [
      "'select()' returned 1:many mapping between keys and columns\n",
      "\n",
      "Parsed with column specification:\n",
      "cols(\n",
      "  gene_names = \u001b[31mcol_character()\u001b[39m,\n",
      "  `1` = \u001b[32mcol_double()\u001b[39m,\n",
      "  `10` = \u001b[32mcol_double()\u001b[39m,\n",
      "  wilcoxon_logfc = \u001b[32mcol_double()\u001b[39m,\n",
      "  wilcoxon_padj = \u001b[32mcol_double()\u001b[39m,\n",
      "  wilcoxon_score = \u001b[32mcol_double()\u001b[39m,\n",
      "  `t-test_logfc` = \u001b[32mcol_double()\u001b[39m,\n",
      "  `t-test_padj` = \u001b[32mcol_double()\u001b[39m,\n",
      "  `t-test_score` = \u001b[32mcol_double()\u001b[39m,\n",
      "  `t-test_overestim_var_logfc` = \u001b[32mcol_double()\u001b[39m,\n",
      "  `t-test_overestim_var_padj` = \u001b[32mcol_double()\u001b[39m,\n",
      "  `t-test_overestim_var_score` = \u001b[32mcol_double()\u001b[39m\n",
      ")\n",
      "\n",
      "Warning message:\n",
      "“Unknown columns: `gene_name`”\n"
     ]
    },
    {
     "name": "stdout",
     "output_type": "stream",
     "text": [
      "[1] \"10_vs_1    Gene number: 1785\"\n"
     ]
    },
    {
     "name": "stderr",
     "output_type": "stream",
     "text": [
      "'select()' returned 1:many mapping between keys and columns\n",
      "\n",
      "Parsed with column specification:\n",
      "cols(\n",
      "  gene_names = \u001b[31mcol_character()\u001b[39m,\n",
      "  `10` = \u001b[32mcol_double()\u001b[39m,\n",
      "  `2` = \u001b[32mcol_double()\u001b[39m,\n",
      "  wilcoxon_logfc = \u001b[32mcol_double()\u001b[39m,\n",
      "  wilcoxon_padj = \u001b[32mcol_double()\u001b[39m,\n",
      "  wilcoxon_score = \u001b[32mcol_double()\u001b[39m,\n",
      "  `t-test_logfc` = \u001b[32mcol_double()\u001b[39m,\n",
      "  `t-test_padj` = \u001b[32mcol_double()\u001b[39m,\n",
      "  `t-test_score` = \u001b[32mcol_double()\u001b[39m,\n",
      "  `t-test_overestim_var_logfc` = \u001b[32mcol_double()\u001b[39m,\n",
      "  `t-test_overestim_var_padj` = \u001b[32mcol_double()\u001b[39m,\n",
      "  `t-test_overestim_var_score` = \u001b[32mcol_double()\u001b[39m\n",
      ")\n",
      "\n",
      "Warning message:\n",
      "“Unknown columns: `gene_name`”\n"
     ]
    },
    {
     "name": "stdout",
     "output_type": "stream",
     "text": [
      "[1] \"10_vs_2    Gene number: 4935\"\n"
     ]
    },
    {
     "name": "stderr",
     "output_type": "stream",
     "text": [
      "'select()' returned 1:many mapping between keys and columns\n",
      "\n",
      "Parsed with column specification:\n",
      "cols(\n",
      "  gene_names = \u001b[31mcol_character()\u001b[39m,\n",
      "  `10` = \u001b[32mcol_double()\u001b[39m,\n",
      "  `3` = \u001b[32mcol_double()\u001b[39m,\n",
      "  wilcoxon_logfc = \u001b[32mcol_double()\u001b[39m,\n",
      "  wilcoxon_padj = \u001b[32mcol_double()\u001b[39m,\n",
      "  wilcoxon_score = \u001b[32mcol_double()\u001b[39m,\n",
      "  `t-test_logfc` = \u001b[32mcol_double()\u001b[39m,\n",
      "  `t-test_padj` = \u001b[32mcol_double()\u001b[39m,\n",
      "  `t-test_score` = \u001b[32mcol_double()\u001b[39m,\n",
      "  `t-test_overestim_var_logfc` = \u001b[32mcol_double()\u001b[39m,\n",
      "  `t-test_overestim_var_padj` = \u001b[32mcol_double()\u001b[39m,\n",
      "  `t-test_overestim_var_score` = \u001b[32mcol_double()\u001b[39m\n",
      ")\n",
      "\n",
      "Warning message:\n",
      "“Unknown columns: `gene_name`”\n"
     ]
    },
    {
     "name": "stdout",
     "output_type": "stream",
     "text": [
      "[1] \"10_vs_3    Gene number: 5153\"\n"
     ]
    },
    {
     "name": "stderr",
     "output_type": "stream",
     "text": [
      "'select()' returned 1:many mapping between keys and columns\n",
      "\n",
      "Parsed with column specification:\n",
      "cols(\n",
      "  gene_names = \u001b[31mcol_character()\u001b[39m,\n",
      "  `10` = \u001b[32mcol_double()\u001b[39m,\n",
      "  `4` = \u001b[32mcol_double()\u001b[39m,\n",
      "  wilcoxon_logfc = \u001b[32mcol_double()\u001b[39m,\n",
      "  wilcoxon_padj = \u001b[32mcol_double()\u001b[39m,\n",
      "  wilcoxon_score = \u001b[32mcol_double()\u001b[39m,\n",
      "  `t-test_logfc` = \u001b[32mcol_double()\u001b[39m,\n",
      "  `t-test_padj` = \u001b[32mcol_double()\u001b[39m,\n",
      "  `t-test_score` = \u001b[32mcol_double()\u001b[39m,\n",
      "  `t-test_overestim_var_logfc` = \u001b[32mcol_double()\u001b[39m,\n",
      "  `t-test_overestim_var_padj` = \u001b[32mcol_double()\u001b[39m,\n",
      "  `t-test_overestim_var_score` = \u001b[32mcol_double()\u001b[39m\n",
      ")\n",
      "\n",
      "Warning message:\n",
      "“Unknown columns: `gene_name`”\n"
     ]
    },
    {
     "name": "stdout",
     "output_type": "stream",
     "text": [
      "[1] \"10_vs_4    Gene number: 1556\"\n"
     ]
    },
    {
     "name": "stderr",
     "output_type": "stream",
     "text": [
      "'select()' returned 1:many mapping between keys and columns\n",
      "\n",
      "Parsed with column specification:\n",
      "cols(\n",
      "  gene_names = \u001b[31mcol_character()\u001b[39m,\n",
      "  `10` = \u001b[32mcol_double()\u001b[39m,\n",
      "  `5` = \u001b[32mcol_double()\u001b[39m,\n",
      "  wilcoxon_logfc = \u001b[32mcol_double()\u001b[39m,\n",
      "  wilcoxon_padj = \u001b[32mcol_double()\u001b[39m,\n",
      "  wilcoxon_score = \u001b[32mcol_double()\u001b[39m,\n",
      "  `t-test_logfc` = \u001b[32mcol_double()\u001b[39m,\n",
      "  `t-test_padj` = \u001b[32mcol_double()\u001b[39m,\n",
      "  `t-test_score` = \u001b[32mcol_double()\u001b[39m,\n",
      "  `t-test_overestim_var_logfc` = \u001b[32mcol_double()\u001b[39m,\n",
      "  `t-test_overestim_var_padj` = \u001b[32mcol_double()\u001b[39m,\n",
      "  `t-test_overestim_var_score` = \u001b[32mcol_double()\u001b[39m\n",
      ")\n",
      "\n",
      "Warning message:\n",
      "“Unknown columns: `gene_name`”\n"
     ]
    },
    {
     "name": "stdout",
     "output_type": "stream",
     "text": [
      "[1] \"10_vs_5    Gene number: 1794\"\n"
     ]
    },
    {
     "name": "stderr",
     "output_type": "stream",
     "text": [
      "'select()' returned 1:many mapping between keys and columns\n",
      "\n",
      "Parsed with column specification:\n",
      "cols(\n",
      "  gene_names = \u001b[31mcol_character()\u001b[39m,\n",
      "  `10` = \u001b[32mcol_double()\u001b[39m,\n",
      "  `6` = \u001b[32mcol_double()\u001b[39m,\n",
      "  wilcoxon_logfc = \u001b[32mcol_double()\u001b[39m,\n",
      "  wilcoxon_padj = \u001b[32mcol_double()\u001b[39m,\n",
      "  wilcoxon_score = \u001b[32mcol_double()\u001b[39m,\n",
      "  `t-test_logfc` = \u001b[32mcol_double()\u001b[39m,\n",
      "  `t-test_padj` = \u001b[32mcol_double()\u001b[39m,\n",
      "  `t-test_score` = \u001b[32mcol_double()\u001b[39m,\n",
      "  `t-test_overestim_var_logfc` = \u001b[32mcol_double()\u001b[39m,\n",
      "  `t-test_overestim_var_padj` = \u001b[32mcol_double()\u001b[39m,\n",
      "  `t-test_overestim_var_score` = \u001b[32mcol_double()\u001b[39m\n",
      ")\n",
      "\n",
      "Warning message:\n",
      "“Unknown columns: `gene_name`”\n"
     ]
    },
    {
     "name": "stdout",
     "output_type": "stream",
     "text": [
      "[1] \"10_vs_6    Gene number: 1066\"\n"
     ]
    },
    {
     "name": "stderr",
     "output_type": "stream",
     "text": [
      "'select()' returned 1:many mapping between keys and columns\n",
      "\n",
      "Parsed with column specification:\n",
      "cols(\n",
      "  gene_names = \u001b[31mcol_character()\u001b[39m,\n",
      "  `10` = \u001b[32mcol_double()\u001b[39m,\n",
      "  `7` = \u001b[32mcol_double()\u001b[39m,\n",
      "  wilcoxon_logfc = \u001b[32mcol_double()\u001b[39m,\n",
      "  wilcoxon_padj = \u001b[32mcol_double()\u001b[39m,\n",
      "  wilcoxon_score = \u001b[32mcol_double()\u001b[39m,\n",
      "  `t-test_logfc` = \u001b[32mcol_double()\u001b[39m,\n",
      "  `t-test_padj` = \u001b[32mcol_double()\u001b[39m,\n",
      "  `t-test_score` = \u001b[32mcol_double()\u001b[39m,\n",
      "  `t-test_overestim_var_logfc` = \u001b[32mcol_double()\u001b[39m,\n",
      "  `t-test_overestim_var_padj` = \u001b[32mcol_double()\u001b[39m,\n",
      "  `t-test_overestim_var_score` = \u001b[32mcol_double()\u001b[39m\n",
      ")\n",
      "\n",
      "Warning message:\n",
      "“Unknown columns: `gene_name`”\n"
     ]
    },
    {
     "name": "stdout",
     "output_type": "stream",
     "text": [
      "[1] \"10_vs_7    Gene number: 3362\"\n"
     ]
    },
    {
     "name": "stderr",
     "output_type": "stream",
     "text": [
      "'select()' returned 1:many mapping between keys and columns\n",
      "\n",
      "Parsed with column specification:\n",
      "cols(\n",
      "  gene_names = \u001b[31mcol_character()\u001b[39m,\n",
      "  `10` = \u001b[32mcol_double()\u001b[39m,\n",
      "  `8` = \u001b[32mcol_double()\u001b[39m,\n",
      "  wilcoxon_logfc = \u001b[32mcol_double()\u001b[39m,\n",
      "  wilcoxon_padj = \u001b[32mcol_double()\u001b[39m,\n",
      "  wilcoxon_score = \u001b[32mcol_double()\u001b[39m,\n",
      "  `t-test_logfc` = \u001b[32mcol_double()\u001b[39m,\n",
      "  `t-test_padj` = \u001b[32mcol_double()\u001b[39m,\n",
      "  `t-test_score` = \u001b[32mcol_double()\u001b[39m,\n",
      "  `t-test_overestim_var_logfc` = \u001b[32mcol_double()\u001b[39m,\n",
      "  `t-test_overestim_var_padj` = \u001b[32mcol_double()\u001b[39m,\n",
      "  `t-test_overestim_var_score` = \u001b[32mcol_double()\u001b[39m\n",
      ")\n",
      "\n",
      "Warning message:\n",
      "“Unknown columns: `gene_name`”\n"
     ]
    },
    {
     "name": "stdout",
     "output_type": "stream",
     "text": [
      "[1] \"10_vs_8    Gene number: 6689\"\n"
     ]
    },
    {
     "name": "stderr",
     "output_type": "stream",
     "text": [
      "'select()' returned 1:many mapping between keys and columns\n",
      "\n",
      "Parsed with column specification:\n",
      "cols(\n",
      "  gene_names = \u001b[31mcol_character()\u001b[39m,\n",
      "  `10` = \u001b[32mcol_double()\u001b[39m,\n",
      "  `9` = \u001b[32mcol_double()\u001b[39m,\n",
      "  wilcoxon_logfc = \u001b[32mcol_double()\u001b[39m,\n",
      "  wilcoxon_padj = \u001b[32mcol_double()\u001b[39m,\n",
      "  wilcoxon_score = \u001b[32mcol_double()\u001b[39m,\n",
      "  `t-test_logfc` = \u001b[32mcol_double()\u001b[39m,\n",
      "  `t-test_padj` = \u001b[32mcol_double()\u001b[39m,\n",
      "  `t-test_score` = \u001b[32mcol_double()\u001b[39m,\n",
      "  `t-test_overestim_var_logfc` = \u001b[32mcol_double()\u001b[39m,\n",
      "  `t-test_overestim_var_padj` = \u001b[32mcol_double()\u001b[39m,\n",
      "  `t-test_overestim_var_score` = \u001b[32mcol_double()\u001b[39m\n",
      ")\n",
      "\n",
      "Warning message:\n",
      "“Unknown columns: `gene_name`”\n"
     ]
    },
    {
     "name": "stdout",
     "output_type": "stream",
     "text": [
      "[1] \"10_vs_9    Gene number: 5671\"\n"
     ]
    },
    {
     "name": "stderr",
     "output_type": "stream",
     "text": [
      "'select()' returned 1:many mapping between keys and columns\n",
      "\n",
      "Parsed with column specification:\n",
      "cols(\n",
      "  gene_names = \u001b[31mcol_character()\u001b[39m,\n",
      "  `0` = \u001b[32mcol_double()\u001b[39m,\n",
      "  `2` = \u001b[32mcol_double()\u001b[39m,\n",
      "  wilcoxon_logfc = \u001b[32mcol_double()\u001b[39m,\n",
      "  wilcoxon_padj = \u001b[32mcol_double()\u001b[39m,\n",
      "  wilcoxon_score = \u001b[32mcol_double()\u001b[39m,\n",
      "  `t-test_logfc` = \u001b[32mcol_double()\u001b[39m,\n",
      "  `t-test_padj` = \u001b[32mcol_double()\u001b[39m,\n",
      "  `t-test_score` = \u001b[32mcol_double()\u001b[39m,\n",
      "  `t-test_overestim_var_logfc` = \u001b[32mcol_double()\u001b[39m,\n",
      "  `t-test_overestim_var_padj` = \u001b[32mcol_double()\u001b[39m,\n",
      "  `t-test_overestim_var_score` = \u001b[32mcol_double()\u001b[39m\n",
      ")\n",
      "\n",
      "Warning message:\n",
      "“Unknown columns: `gene_name`”\n"
     ]
    },
    {
     "name": "stdout",
     "output_type": "stream",
     "text": [
      "[1] \"2_vs_0    Gene number: 842\"\n"
     ]
    },
    {
     "name": "stderr",
     "output_type": "stream",
     "text": [
      "'select()' returned 1:many mapping between keys and columns\n",
      "\n",
      "Parsed with column specification:\n",
      "cols(\n",
      "  gene_names = \u001b[31mcol_character()\u001b[39m,\n",
      "  `1` = \u001b[32mcol_double()\u001b[39m,\n",
      "  `2` = \u001b[32mcol_double()\u001b[39m,\n",
      "  wilcoxon_logfc = \u001b[32mcol_double()\u001b[39m,\n",
      "  wilcoxon_padj = \u001b[32mcol_double()\u001b[39m,\n",
      "  wilcoxon_score = \u001b[32mcol_double()\u001b[39m,\n",
      "  `t-test_logfc` = \u001b[32mcol_double()\u001b[39m,\n",
      "  `t-test_padj` = \u001b[32mcol_double()\u001b[39m,\n",
      "  `t-test_score` = \u001b[32mcol_double()\u001b[39m,\n",
      "  `t-test_overestim_var_logfc` = \u001b[32mcol_double()\u001b[39m,\n",
      "  `t-test_overestim_var_padj` = \u001b[32mcol_double()\u001b[39m,\n",
      "  `t-test_overestim_var_score` = \u001b[32mcol_double()\u001b[39m\n",
      ")\n",
      "\n",
      "Warning message:\n",
      "“Unknown columns: `gene_name`”\n"
     ]
    },
    {
     "name": "stdout",
     "output_type": "stream",
     "text": [
      "[1] \"2_vs_1    Gene number: 1158\"\n"
     ]
    },
    {
     "name": "stderr",
     "output_type": "stream",
     "text": [
      "'select()' returned 1:many mapping between keys and columns\n",
      "\n",
      "Parsed with column specification:\n",
      "cols(\n",
      "  gene_names = \u001b[31mcol_character()\u001b[39m,\n",
      "  `10` = \u001b[32mcol_double()\u001b[39m,\n",
      "  `2` = \u001b[32mcol_double()\u001b[39m,\n",
      "  wilcoxon_logfc = \u001b[32mcol_double()\u001b[39m,\n",
      "  wilcoxon_padj = \u001b[32mcol_double()\u001b[39m,\n",
      "  wilcoxon_score = \u001b[32mcol_double()\u001b[39m,\n",
      "  `t-test_logfc` = \u001b[32mcol_double()\u001b[39m,\n",
      "  `t-test_padj` = \u001b[32mcol_double()\u001b[39m,\n",
      "  `t-test_score` = \u001b[32mcol_double()\u001b[39m,\n",
      "  `t-test_overestim_var_logfc` = \u001b[32mcol_double()\u001b[39m,\n",
      "  `t-test_overestim_var_padj` = \u001b[32mcol_double()\u001b[39m,\n",
      "  `t-test_overestim_var_score` = \u001b[32mcol_double()\u001b[39m\n",
      ")\n",
      "\n",
      "Warning message:\n",
      "“Unknown columns: `gene_name`”\n"
     ]
    },
    {
     "name": "stdout",
     "output_type": "stream",
     "text": [
      "[1] \"2_vs_10    Gene number: 990\"\n"
     ]
    },
    {
     "name": "stderr",
     "output_type": "stream",
     "text": [
      "'select()' returned 1:many mapping between keys and columns\n",
      "\n",
      "Parsed with column specification:\n",
      "cols(\n",
      "  gene_names = \u001b[31mcol_character()\u001b[39m,\n",
      "  `2` = \u001b[32mcol_double()\u001b[39m,\n",
      "  `3` = \u001b[32mcol_double()\u001b[39m,\n",
      "  wilcoxon_logfc = \u001b[32mcol_double()\u001b[39m,\n",
      "  wilcoxon_padj = \u001b[32mcol_double()\u001b[39m,\n",
      "  wilcoxon_score = \u001b[32mcol_double()\u001b[39m,\n",
      "  `t-test_logfc` = \u001b[32mcol_double()\u001b[39m,\n",
      "  `t-test_padj` = \u001b[32mcol_double()\u001b[39m,\n",
      "  `t-test_score` = \u001b[32mcol_double()\u001b[39m,\n",
      "  `t-test_overestim_var_logfc` = \u001b[32mcol_double()\u001b[39m,\n",
      "  `t-test_overestim_var_padj` = \u001b[32mcol_double()\u001b[39m,\n",
      "  `t-test_overestim_var_score` = \u001b[32mcol_double()\u001b[39m\n",
      ")\n",
      "\n",
      "Warning message:\n",
      "“Unknown columns: `gene_name`”\n"
     ]
    },
    {
     "name": "stdout",
     "output_type": "stream",
     "text": [
      "[1] \"2_vs_3    Gene number: 1993\"\n"
     ]
    },
    {
     "name": "stderr",
     "output_type": "stream",
     "text": [
      "'select()' returned 1:many mapping between keys and columns\n",
      "\n",
      "Parsed with column specification:\n",
      "cols(\n",
      "  gene_names = \u001b[31mcol_character()\u001b[39m,\n",
      "  `2` = \u001b[32mcol_double()\u001b[39m,\n",
      "  `4` = \u001b[32mcol_double()\u001b[39m,\n",
      "  wilcoxon_logfc = \u001b[32mcol_double()\u001b[39m,\n",
      "  wilcoxon_padj = \u001b[32mcol_double()\u001b[39m,\n",
      "  wilcoxon_score = \u001b[32mcol_double()\u001b[39m,\n",
      "  `t-test_logfc` = \u001b[32mcol_double()\u001b[39m,\n",
      "  `t-test_padj` = \u001b[32mcol_double()\u001b[39m,\n",
      "  `t-test_score` = \u001b[32mcol_double()\u001b[39m,\n",
      "  `t-test_overestim_var_logfc` = \u001b[32mcol_double()\u001b[39m,\n",
      "  `t-test_overestim_var_padj` = \u001b[32mcol_double()\u001b[39m,\n",
      "  `t-test_overestim_var_score` = \u001b[32mcol_double()\u001b[39m\n",
      ")\n",
      "\n",
      "Warning message:\n",
      "“Unknown columns: `gene_name`”\n"
     ]
    },
    {
     "name": "stdout",
     "output_type": "stream",
     "text": [
      "[1] \"2_vs_4    Gene number: 1410\"\n"
     ]
    },
    {
     "name": "stderr",
     "output_type": "stream",
     "text": [
      "'select()' returned 1:many mapping between keys and columns\n",
      "\n",
      "Parsed with column specification:\n",
      "cols(\n",
      "  gene_names = \u001b[31mcol_character()\u001b[39m,\n",
      "  `2` = \u001b[32mcol_double()\u001b[39m,\n",
      "  `5` = \u001b[32mcol_double()\u001b[39m,\n",
      "  wilcoxon_logfc = \u001b[32mcol_double()\u001b[39m,\n",
      "  wilcoxon_padj = \u001b[32mcol_double()\u001b[39m,\n",
      "  wilcoxon_score = \u001b[32mcol_double()\u001b[39m,\n",
      "  `t-test_logfc` = \u001b[32mcol_double()\u001b[39m,\n",
      "  `t-test_padj` = \u001b[32mcol_double()\u001b[39m,\n",
      "  `t-test_score` = \u001b[32mcol_double()\u001b[39m,\n",
      "  `t-test_overestim_var_logfc` = \u001b[32mcol_double()\u001b[39m,\n",
      "  `t-test_overestim_var_padj` = \u001b[32mcol_double()\u001b[39m,\n",
      "  `t-test_overestim_var_score` = \u001b[32mcol_double()\u001b[39m\n",
      ")\n",
      "\n",
      "Warning message:\n",
      "“Unknown columns: `gene_name`”\n"
     ]
    },
    {
     "name": "stdout",
     "output_type": "stream",
     "text": [
      "[1] \"2_vs_5    Gene number: 1251\"\n"
     ]
    },
    {
     "name": "stderr",
     "output_type": "stream",
     "text": [
      "'select()' returned 1:many mapping between keys and columns\n",
      "\n",
      "Parsed with column specification:\n",
      "cols(\n",
      "  gene_names = \u001b[31mcol_character()\u001b[39m,\n",
      "  `2` = \u001b[32mcol_double()\u001b[39m,\n",
      "  `6` = \u001b[32mcol_double()\u001b[39m,\n",
      "  wilcoxon_logfc = \u001b[32mcol_double()\u001b[39m,\n",
      "  wilcoxon_padj = \u001b[32mcol_double()\u001b[39m,\n",
      "  wilcoxon_score = \u001b[32mcol_double()\u001b[39m,\n",
      "  `t-test_logfc` = \u001b[32mcol_double()\u001b[39m,\n",
      "  `t-test_padj` = \u001b[32mcol_double()\u001b[39m,\n",
      "  `t-test_score` = \u001b[32mcol_double()\u001b[39m,\n",
      "  `t-test_overestim_var_logfc` = \u001b[32mcol_double()\u001b[39m,\n",
      "  `t-test_overestim_var_padj` = \u001b[32mcol_double()\u001b[39m,\n",
      "  `t-test_overestim_var_score` = \u001b[32mcol_double()\u001b[39m\n",
      ")\n",
      "\n",
      "Warning message:\n",
      "“Unknown columns: `gene_name`”\n"
     ]
    },
    {
     "name": "stdout",
     "output_type": "stream",
     "text": [
      "[1] \"2_vs_6    Gene number: 1409\"\n"
     ]
    },
    {
     "name": "stderr",
     "output_type": "stream",
     "text": [
      "'select()' returned 1:many mapping between keys and columns\n",
      "\n",
      "Parsed with column specification:\n",
      "cols(\n",
      "  gene_names = \u001b[31mcol_character()\u001b[39m,\n",
      "  `2` = \u001b[32mcol_double()\u001b[39m,\n",
      "  `7` = \u001b[32mcol_double()\u001b[39m,\n",
      "  wilcoxon_logfc = \u001b[32mcol_double()\u001b[39m,\n",
      "  wilcoxon_padj = \u001b[32mcol_double()\u001b[39m,\n",
      "  wilcoxon_score = \u001b[32mcol_double()\u001b[39m,\n",
      "  `t-test_logfc` = \u001b[32mcol_double()\u001b[39m,\n",
      "  `t-test_padj` = \u001b[32mcol_double()\u001b[39m,\n",
      "  `t-test_score` = \u001b[32mcol_double()\u001b[39m,\n",
      "  `t-test_overestim_var_logfc` = \u001b[32mcol_double()\u001b[39m,\n",
      "  `t-test_overestim_var_padj` = \u001b[32mcol_double()\u001b[39m,\n",
      "  `t-test_overestim_var_score` = \u001b[32mcol_double()\u001b[39m\n",
      ")\n",
      "\n",
      "Warning message:\n",
      "“Unknown columns: `gene_name`”\n"
     ]
    },
    {
     "name": "stdout",
     "output_type": "stream",
     "text": [
      "[1] \"2_vs_7    Gene number: 1703\"\n"
     ]
    },
    {
     "name": "stderr",
     "output_type": "stream",
     "text": [
      "'select()' returned 1:many mapping between keys and columns\n",
      "\n",
      "Parsed with column specification:\n",
      "cols(\n",
      "  gene_names = \u001b[31mcol_character()\u001b[39m,\n",
      "  `2` = \u001b[32mcol_double()\u001b[39m,\n",
      "  `8` = \u001b[32mcol_double()\u001b[39m,\n",
      "  wilcoxon_logfc = \u001b[32mcol_double()\u001b[39m,\n",
      "  wilcoxon_padj = \u001b[32mcol_double()\u001b[39m,\n",
      "  wilcoxon_score = \u001b[32mcol_double()\u001b[39m,\n",
      "  `t-test_logfc` = \u001b[32mcol_double()\u001b[39m,\n",
      "  `t-test_padj` = \u001b[32mcol_double()\u001b[39m,\n",
      "  `t-test_score` = \u001b[32mcol_double()\u001b[39m,\n",
      "  `t-test_overestim_var_logfc` = \u001b[32mcol_double()\u001b[39m,\n",
      "  `t-test_overestim_var_padj` = \u001b[32mcol_double()\u001b[39m,\n",
      "  `t-test_overestim_var_score` = \u001b[32mcol_double()\u001b[39m\n",
      ")\n",
      "\n",
      "Warning message:\n",
      "“Unknown columns: `gene_name`”\n"
     ]
    },
    {
     "name": "stdout",
     "output_type": "stream",
     "text": [
      "[1] \"2_vs_8    Gene number: 4871\"\n"
     ]
    },
    {
     "name": "stderr",
     "output_type": "stream",
     "text": [
      "'select()' returned 1:many mapping between keys and columns\n",
      "\n",
      "Parsed with column specification:\n",
      "cols(\n",
      "  gene_names = \u001b[31mcol_character()\u001b[39m,\n",
      "  `2` = \u001b[32mcol_double()\u001b[39m,\n",
      "  `9` = \u001b[32mcol_double()\u001b[39m,\n",
      "  wilcoxon_logfc = \u001b[32mcol_double()\u001b[39m,\n",
      "  wilcoxon_padj = \u001b[32mcol_double()\u001b[39m,\n",
      "  wilcoxon_score = \u001b[32mcol_double()\u001b[39m,\n",
      "  `t-test_logfc` = \u001b[32mcol_double()\u001b[39m,\n",
      "  `t-test_padj` = \u001b[32mcol_double()\u001b[39m,\n",
      "  `t-test_score` = \u001b[32mcol_double()\u001b[39m,\n",
      "  `t-test_overestim_var_logfc` = \u001b[32mcol_double()\u001b[39m,\n",
      "  `t-test_overestim_var_padj` = \u001b[32mcol_double()\u001b[39m,\n",
      "  `t-test_overestim_var_score` = \u001b[32mcol_double()\u001b[39m\n",
      ")\n",
      "\n",
      "Warning message:\n",
      "“Unknown columns: `gene_name`”\n"
     ]
    },
    {
     "name": "stdout",
     "output_type": "stream",
     "text": [
      "[1] \"2_vs_9    Gene number: 2308\"\n"
     ]
    },
    {
     "name": "stderr",
     "output_type": "stream",
     "text": [
      "'select()' returned 1:many mapping between keys and columns\n",
      "\n",
      "Parsed with column specification:\n",
      "cols(\n",
      "  gene_names = \u001b[31mcol_character()\u001b[39m,\n",
      "  `0` = \u001b[32mcol_double()\u001b[39m,\n",
      "  `3` = \u001b[32mcol_double()\u001b[39m,\n",
      "  wilcoxon_logfc = \u001b[32mcol_double()\u001b[39m,\n",
      "  wilcoxon_padj = \u001b[32mcol_double()\u001b[39m,\n",
      "  wilcoxon_score = \u001b[32mcol_double()\u001b[39m,\n",
      "  `t-test_logfc` = \u001b[32mcol_double()\u001b[39m,\n",
      "  `t-test_padj` = \u001b[32mcol_double()\u001b[39m,\n",
      "  `t-test_score` = \u001b[32mcol_double()\u001b[39m,\n",
      "  `t-test_overestim_var_logfc` = \u001b[32mcol_double()\u001b[39m,\n",
      "  `t-test_overestim_var_padj` = \u001b[32mcol_double()\u001b[39m,\n",
      "  `t-test_overestim_var_score` = \u001b[32mcol_double()\u001b[39m\n",
      ")\n",
      "\n",
      "Warning message:\n",
      "“Unknown columns: `gene_name`”\n"
     ]
    },
    {
     "name": "stdout",
     "output_type": "stream",
     "text": [
      "[1] \"3_vs_0    Gene number: 2069\"\n"
     ]
    },
    {
     "name": "stderr",
     "output_type": "stream",
     "text": [
      "'select()' returned 1:many mapping between keys and columns\n",
      "\n",
      "Parsed with column specification:\n",
      "cols(\n",
      "  gene_names = \u001b[31mcol_character()\u001b[39m,\n",
      "  `1` = \u001b[32mcol_double()\u001b[39m,\n",
      "  `3` = \u001b[32mcol_double()\u001b[39m,\n",
      "  wilcoxon_logfc = \u001b[32mcol_double()\u001b[39m,\n",
      "  wilcoxon_padj = \u001b[32mcol_double()\u001b[39m,\n",
      "  wilcoxon_score = \u001b[32mcol_double()\u001b[39m,\n",
      "  `t-test_logfc` = \u001b[32mcol_double()\u001b[39m,\n",
      "  `t-test_padj` = \u001b[32mcol_double()\u001b[39m,\n",
      "  `t-test_score` = \u001b[32mcol_double()\u001b[39m,\n",
      "  `t-test_overestim_var_logfc` = \u001b[32mcol_double()\u001b[39m,\n",
      "  `t-test_overestim_var_padj` = \u001b[32mcol_double()\u001b[39m,\n",
      "  `t-test_overestim_var_score` = \u001b[32mcol_double()\u001b[39m\n",
      ")\n",
      "\n",
      "Warning message:\n",
      "“Unknown columns: `gene_name`”\n"
     ]
    },
    {
     "name": "stdout",
     "output_type": "stream",
     "text": [
      "[1] \"3_vs_1    Gene number: 2358\"\n"
     ]
    },
    {
     "name": "stderr",
     "output_type": "stream",
     "text": [
      "'select()' returned 1:many mapping between keys and columns\n",
      "\n",
      "Parsed with column specification:\n",
      "cols(\n",
      "  gene_names = \u001b[31mcol_character()\u001b[39m,\n",
      "  `10` = \u001b[32mcol_double()\u001b[39m,\n",
      "  `3` = \u001b[32mcol_double()\u001b[39m,\n",
      "  wilcoxon_logfc = \u001b[32mcol_double()\u001b[39m,\n",
      "  wilcoxon_padj = \u001b[32mcol_double()\u001b[39m,\n",
      "  wilcoxon_score = \u001b[32mcol_double()\u001b[39m,\n",
      "  `t-test_logfc` = \u001b[32mcol_double()\u001b[39m,\n",
      "  `t-test_padj` = \u001b[32mcol_double()\u001b[39m,\n",
      "  `t-test_score` = \u001b[32mcol_double()\u001b[39m,\n",
      "  `t-test_overestim_var_logfc` = \u001b[32mcol_double()\u001b[39m,\n",
      "  `t-test_overestim_var_padj` = \u001b[32mcol_double()\u001b[39m,\n",
      "  `t-test_overestim_var_score` = \u001b[32mcol_double()\u001b[39m\n",
      ")\n",
      "\n",
      "Warning message:\n",
      "“Unknown columns: `gene_name`”\n"
     ]
    },
    {
     "name": "stdout",
     "output_type": "stream",
     "text": [
      "[1] \"3_vs_10    Gene number: 1901\"\n"
     ]
    },
    {
     "name": "stderr",
     "output_type": "stream",
     "text": [
      "'select()' returned 1:many mapping between keys and columns\n",
      "\n",
      "Parsed with column specification:\n",
      "cols(\n",
      "  gene_names = \u001b[31mcol_character()\u001b[39m,\n",
      "  `2` = \u001b[32mcol_double()\u001b[39m,\n",
      "  `3` = \u001b[32mcol_double()\u001b[39m,\n",
      "  wilcoxon_logfc = \u001b[32mcol_double()\u001b[39m,\n",
      "  wilcoxon_padj = \u001b[32mcol_double()\u001b[39m,\n",
      "  wilcoxon_score = \u001b[32mcol_double()\u001b[39m,\n",
      "  `t-test_logfc` = \u001b[32mcol_double()\u001b[39m,\n",
      "  `t-test_padj` = \u001b[32mcol_double()\u001b[39m,\n",
      "  `t-test_score` = \u001b[32mcol_double()\u001b[39m,\n",
      "  `t-test_overestim_var_logfc` = \u001b[32mcol_double()\u001b[39m,\n",
      "  `t-test_overestim_var_padj` = \u001b[32mcol_double()\u001b[39m,\n",
      "  `t-test_overestim_var_score` = \u001b[32mcol_double()\u001b[39m\n",
      ")\n",
      "\n",
      "Warning message:\n",
      "“Unknown columns: `gene_name`”\n"
     ]
    },
    {
     "name": "stdout",
     "output_type": "stream",
     "text": [
      "[1] \"3_vs_2    Gene number: 2662\"\n"
     ]
    },
    {
     "name": "stderr",
     "output_type": "stream",
     "text": [
      "'select()' returned 1:many mapping between keys and columns\n",
      "\n",
      "Parsed with column specification:\n",
      "cols(\n",
      "  gene_names = \u001b[31mcol_character()\u001b[39m,\n",
      "  `3` = \u001b[32mcol_double()\u001b[39m,\n",
      "  `4` = \u001b[32mcol_double()\u001b[39m,\n",
      "  wilcoxon_logfc = \u001b[32mcol_double()\u001b[39m,\n",
      "  wilcoxon_padj = \u001b[32mcol_double()\u001b[39m,\n",
      "  wilcoxon_score = \u001b[32mcol_double()\u001b[39m,\n",
      "  `t-test_logfc` = \u001b[32mcol_double()\u001b[39m,\n",
      "  `t-test_padj` = \u001b[32mcol_double()\u001b[39m,\n",
      "  `t-test_score` = \u001b[32mcol_double()\u001b[39m,\n",
      "  `t-test_overestim_var_logfc` = \u001b[32mcol_double()\u001b[39m,\n",
      "  `t-test_overestim_var_padj` = \u001b[32mcol_double()\u001b[39m,\n",
      "  `t-test_overestim_var_score` = \u001b[32mcol_double()\u001b[39m\n",
      ")\n",
      "\n",
      "Warning message:\n",
      "“Unknown columns: `gene_name`”\n"
     ]
    },
    {
     "name": "stdout",
     "output_type": "stream",
     "text": [
      "[1] \"3_vs_4    Gene number: 2343\"\n"
     ]
    },
    {
     "name": "stderr",
     "output_type": "stream",
     "text": [
      "'select()' returned 1:many mapping between keys and columns\n",
      "\n",
      "Parsed with column specification:\n",
      "cols(\n",
      "  gene_names = \u001b[31mcol_character()\u001b[39m,\n",
      "  `3` = \u001b[32mcol_double()\u001b[39m,\n",
      "  `5` = \u001b[32mcol_double()\u001b[39m,\n",
      "  wilcoxon_logfc = \u001b[32mcol_double()\u001b[39m,\n",
      "  wilcoxon_padj = \u001b[32mcol_double()\u001b[39m,\n",
      "  wilcoxon_score = \u001b[32mcol_double()\u001b[39m,\n",
      "  `t-test_logfc` = \u001b[32mcol_double()\u001b[39m,\n",
      "  `t-test_padj` = \u001b[32mcol_double()\u001b[39m,\n",
      "  `t-test_score` = \u001b[32mcol_double()\u001b[39m,\n",
      "  `t-test_overestim_var_logfc` = \u001b[32mcol_double()\u001b[39m,\n",
      "  `t-test_overestim_var_padj` = \u001b[32mcol_double()\u001b[39m,\n",
      "  `t-test_overestim_var_score` = \u001b[32mcol_double()\u001b[39m\n",
      ")\n",
      "\n",
      "Warning message:\n",
      "“Unknown columns: `gene_name`”\n"
     ]
    },
    {
     "name": "stdout",
     "output_type": "stream",
     "text": [
      "[1] \"3_vs_5    Gene number: 2312\"\n"
     ]
    },
    {
     "name": "stderr",
     "output_type": "stream",
     "text": [
      "'select()' returned 1:many mapping between keys and columns\n",
      "\n",
      "Parsed with column specification:\n",
      "cols(\n",
      "  gene_names = \u001b[31mcol_character()\u001b[39m,\n",
      "  `3` = \u001b[32mcol_double()\u001b[39m,\n",
      "  `6` = \u001b[32mcol_double()\u001b[39m,\n",
      "  wilcoxon_logfc = \u001b[32mcol_double()\u001b[39m,\n",
      "  wilcoxon_padj = \u001b[32mcol_double()\u001b[39m,\n",
      "  wilcoxon_score = \u001b[32mcol_double()\u001b[39m,\n",
      "  `t-test_logfc` = \u001b[32mcol_double()\u001b[39m,\n",
      "  `t-test_padj` = \u001b[32mcol_double()\u001b[39m,\n",
      "  `t-test_score` = \u001b[32mcol_double()\u001b[39m,\n",
      "  `t-test_overestim_var_logfc` = \u001b[32mcol_double()\u001b[39m,\n",
      "  `t-test_overestim_var_padj` = \u001b[32mcol_double()\u001b[39m,\n",
      "  `t-test_overestim_var_score` = \u001b[32mcol_double()\u001b[39m\n",
      ")\n",
      "\n",
      "Warning message:\n",
      "“Unknown columns: `gene_name`”\n"
     ]
    },
    {
     "name": "stdout",
     "output_type": "stream",
     "text": [
      "[1] \"3_vs_6    Gene number: 2063\"\n"
     ]
    },
    {
     "name": "stderr",
     "output_type": "stream",
     "text": [
      "'select()' returned 1:many mapping between keys and columns\n",
      "\n",
      "Parsed with column specification:\n",
      "cols(\n",
      "  gene_names = \u001b[31mcol_character()\u001b[39m,\n",
      "  `3` = \u001b[32mcol_double()\u001b[39m,\n",
      "  `7` = \u001b[32mcol_double()\u001b[39m,\n",
      "  wilcoxon_logfc = \u001b[32mcol_double()\u001b[39m,\n",
      "  wilcoxon_padj = \u001b[32mcol_double()\u001b[39m,\n",
      "  wilcoxon_score = \u001b[32mcol_double()\u001b[39m,\n",
      "  `t-test_logfc` = \u001b[32mcol_double()\u001b[39m,\n",
      "  `t-test_padj` = \u001b[32mcol_double()\u001b[39m,\n",
      "  `t-test_score` = \u001b[32mcol_double()\u001b[39m,\n",
      "  `t-test_overestim_var_logfc` = \u001b[32mcol_double()\u001b[39m,\n",
      "  `t-test_overestim_var_padj` = \u001b[32mcol_double()\u001b[39m,\n",
      "  `t-test_overestim_var_score` = \u001b[32mcol_double()\u001b[39m\n",
      ")\n",
      "\n",
      "Warning message:\n",
      "“Unknown columns: `gene_name`”\n"
     ]
    },
    {
     "name": "stdout",
     "output_type": "stream",
     "text": [
      "[1] \"3_vs_7    Gene number: 2189\"\n"
     ]
    },
    {
     "name": "stderr",
     "output_type": "stream",
     "text": [
      "'select()' returned 1:many mapping between keys and columns\n",
      "\n",
      "Parsed with column specification:\n",
      "cols(\n",
      "  gene_names = \u001b[31mcol_character()\u001b[39m,\n",
      "  `3` = \u001b[32mcol_double()\u001b[39m,\n",
      "  `8` = \u001b[32mcol_double()\u001b[39m,\n",
      "  wilcoxon_logfc = \u001b[32mcol_double()\u001b[39m,\n",
      "  wilcoxon_padj = \u001b[32mcol_double()\u001b[39m,\n",
      "  wilcoxon_score = \u001b[32mcol_double()\u001b[39m,\n",
      "  `t-test_logfc` = \u001b[32mcol_double()\u001b[39m,\n",
      "  `t-test_padj` = \u001b[32mcol_double()\u001b[39m,\n",
      "  `t-test_score` = \u001b[32mcol_double()\u001b[39m,\n",
      "  `t-test_overestim_var_logfc` = \u001b[32mcol_double()\u001b[39m,\n",
      "  `t-test_overestim_var_padj` = \u001b[32mcol_double()\u001b[39m,\n",
      "  `t-test_overestim_var_score` = \u001b[32mcol_double()\u001b[39m\n",
      ")\n",
      "\n",
      "Warning message:\n",
      "“Unknown columns: `gene_name`”\n"
     ]
    },
    {
     "name": "stdout",
     "output_type": "stream",
     "text": [
      "[1] \"3_vs_8    Gene number: 5261\"\n"
     ]
    },
    {
     "name": "stderr",
     "output_type": "stream",
     "text": [
      "'select()' returned 1:many mapping between keys and columns\n",
      "\n",
      "Parsed with column specification:\n",
      "cols(\n",
      "  gene_names = \u001b[31mcol_character()\u001b[39m,\n",
      "  `3` = \u001b[32mcol_double()\u001b[39m,\n",
      "  `9` = \u001b[32mcol_double()\u001b[39m,\n",
      "  wilcoxon_logfc = \u001b[32mcol_double()\u001b[39m,\n",
      "  wilcoxon_padj = \u001b[32mcol_double()\u001b[39m,\n",
      "  wilcoxon_score = \u001b[32mcol_double()\u001b[39m,\n",
      "  `t-test_logfc` = \u001b[32mcol_double()\u001b[39m,\n",
      "  `t-test_padj` = \u001b[32mcol_double()\u001b[39m,\n",
      "  `t-test_score` = \u001b[32mcol_double()\u001b[39m,\n",
      "  `t-test_overestim_var_logfc` = \u001b[32mcol_double()\u001b[39m,\n",
      "  `t-test_overestim_var_padj` = \u001b[32mcol_double()\u001b[39m,\n",
      "  `t-test_overestim_var_score` = \u001b[32mcol_double()\u001b[39m\n",
      ")\n",
      "\n",
      "Warning message:\n",
      "“Unknown columns: `gene_name`”\n"
     ]
    },
    {
     "name": "stdout",
     "output_type": "stream",
     "text": [
      "[1] \"3_vs_9    Gene number: 2011\"\n"
     ]
    },
    {
     "name": "stderr",
     "output_type": "stream",
     "text": [
      "'select()' returned 1:many mapping between keys and columns\n",
      "\n",
      "Parsed with column specification:\n",
      "cols(\n",
      "  gene_names = \u001b[31mcol_character()\u001b[39m,\n",
      "  `0` = \u001b[32mcol_double()\u001b[39m,\n",
      "  `4` = \u001b[32mcol_double()\u001b[39m,\n",
      "  wilcoxon_logfc = \u001b[32mcol_double()\u001b[39m,\n",
      "  wilcoxon_padj = \u001b[32mcol_double()\u001b[39m,\n",
      "  wilcoxon_score = \u001b[32mcol_double()\u001b[39m,\n",
      "  `t-test_logfc` = \u001b[32mcol_double()\u001b[39m,\n",
      "  `t-test_padj` = \u001b[32mcol_double()\u001b[39m,\n",
      "  `t-test_score` = \u001b[32mcol_double()\u001b[39m,\n",
      "  `t-test_overestim_var_logfc` = \u001b[32mcol_double()\u001b[39m,\n",
      "  `t-test_overestim_var_padj` = \u001b[32mcol_double()\u001b[39m,\n",
      "  `t-test_overestim_var_score` = \u001b[32mcol_double()\u001b[39m\n",
      ")\n",
      "\n",
      "Warning message:\n",
      "“Unknown columns: `gene_name`”\n"
     ]
    },
    {
     "name": "stdout",
     "output_type": "stream",
     "text": [
      "[1] \"4_vs_0    Gene number: 3259\"\n"
     ]
    },
    {
     "name": "stderr",
     "output_type": "stream",
     "text": [
      "'select()' returned 1:many mapping between keys and columns\n",
      "\n",
      "Parsed with column specification:\n",
      "cols(\n",
      "  gene_names = \u001b[31mcol_character()\u001b[39m,\n",
      "  `1` = \u001b[32mcol_double()\u001b[39m,\n",
      "  `4` = \u001b[32mcol_double()\u001b[39m,\n",
      "  wilcoxon_logfc = \u001b[32mcol_double()\u001b[39m,\n",
      "  wilcoxon_padj = \u001b[32mcol_double()\u001b[39m,\n",
      "  wilcoxon_score = \u001b[32mcol_double()\u001b[39m,\n",
      "  `t-test_logfc` = \u001b[32mcol_double()\u001b[39m,\n",
      "  `t-test_padj` = \u001b[32mcol_double()\u001b[39m,\n",
      "  `t-test_score` = \u001b[32mcol_double()\u001b[39m,\n",
      "  `t-test_overestim_var_logfc` = \u001b[32mcol_double()\u001b[39m,\n",
      "  `t-test_overestim_var_padj` = \u001b[32mcol_double()\u001b[39m,\n",
      "  `t-test_overestim_var_score` = \u001b[32mcol_double()\u001b[39m\n",
      ")\n",
      "\n",
      "Warning message:\n",
      "“Unknown columns: `gene_name`”\n"
     ]
    },
    {
     "name": "stdout",
     "output_type": "stream",
     "text": [
      "[1] \"4_vs_1    Gene number: 1413\"\n"
     ]
    },
    {
     "name": "stderr",
     "output_type": "stream",
     "text": [
      "'select()' returned 1:many mapping between keys and columns\n",
      "\n",
      "Parsed with column specification:\n",
      "cols(\n",
      "  gene_names = \u001b[31mcol_character()\u001b[39m,\n",
      "  `10` = \u001b[32mcol_double()\u001b[39m,\n",
      "  `4` = \u001b[32mcol_double()\u001b[39m,\n",
      "  wilcoxon_logfc = \u001b[32mcol_double()\u001b[39m,\n",
      "  wilcoxon_padj = \u001b[32mcol_double()\u001b[39m,\n",
      "  wilcoxon_score = \u001b[32mcol_double()\u001b[39m,\n",
      "  `t-test_logfc` = \u001b[32mcol_double()\u001b[39m,\n",
      "  `t-test_padj` = \u001b[32mcol_double()\u001b[39m,\n",
      "  `t-test_score` = \u001b[32mcol_double()\u001b[39m,\n",
      "  `t-test_overestim_var_logfc` = \u001b[32mcol_double()\u001b[39m,\n",
      "  `t-test_overestim_var_padj` = \u001b[32mcol_double()\u001b[39m,\n",
      "  `t-test_overestim_var_score` = \u001b[32mcol_double()\u001b[39m\n",
      ")\n",
      "\n",
      "Warning message:\n",
      "“Unknown columns: `gene_name`”\n"
     ]
    },
    {
     "name": "stdout",
     "output_type": "stream",
     "text": [
      "[1] \"4_vs_10    Gene number: 848\"\n"
     ]
    },
    {
     "name": "stderr",
     "output_type": "stream",
     "text": [
      "'select()' returned 1:many mapping between keys and columns\n",
      "\n",
      "Parsed with column specification:\n",
      "cols(\n",
      "  gene_names = \u001b[31mcol_character()\u001b[39m,\n",
      "  `2` = \u001b[32mcol_double()\u001b[39m,\n",
      "  `4` = \u001b[32mcol_double()\u001b[39m,\n",
      "  wilcoxon_logfc = \u001b[32mcol_double()\u001b[39m,\n",
      "  wilcoxon_padj = \u001b[32mcol_double()\u001b[39m,\n",
      "  wilcoxon_score = \u001b[32mcol_double()\u001b[39m,\n",
      "  `t-test_logfc` = \u001b[32mcol_double()\u001b[39m,\n",
      "  `t-test_padj` = \u001b[32mcol_double()\u001b[39m,\n",
      "  `t-test_score` = \u001b[32mcol_double()\u001b[39m,\n",
      "  `t-test_overestim_var_logfc` = \u001b[32mcol_double()\u001b[39m,\n",
      "  `t-test_overestim_var_padj` = \u001b[32mcol_double()\u001b[39m,\n",
      "  `t-test_overestim_var_score` = \u001b[32mcol_double()\u001b[39m\n",
      ")\n",
      "\n",
      "Warning message:\n",
      "“Unknown columns: `gene_name`”\n"
     ]
    },
    {
     "name": "stdout",
     "output_type": "stream",
     "text": [
      "[1] \"4_vs_2    Gene number: 4268\"\n"
     ]
    },
    {
     "name": "stderr",
     "output_type": "stream",
     "text": [
      "'select()' returned 1:many mapping between keys and columns\n",
      "\n",
      "Parsed with column specification:\n",
      "cols(\n",
      "  gene_names = \u001b[31mcol_character()\u001b[39m,\n",
      "  `3` = \u001b[32mcol_double()\u001b[39m,\n",
      "  `4` = \u001b[32mcol_double()\u001b[39m,\n",
      "  wilcoxon_logfc = \u001b[32mcol_double()\u001b[39m,\n",
      "  wilcoxon_padj = \u001b[32mcol_double()\u001b[39m,\n",
      "  wilcoxon_score = \u001b[32mcol_double()\u001b[39m,\n",
      "  `t-test_logfc` = \u001b[32mcol_double()\u001b[39m,\n",
      "  `t-test_padj` = \u001b[32mcol_double()\u001b[39m,\n",
      "  `t-test_score` = \u001b[32mcol_double()\u001b[39m,\n",
      "  `t-test_overestim_var_logfc` = \u001b[32mcol_double()\u001b[39m,\n",
      "  `t-test_overestim_var_padj` = \u001b[32mcol_double()\u001b[39m,\n",
      "  `t-test_overestim_var_score` = \u001b[32mcol_double()\u001b[39m\n",
      ")\n",
      "\n",
      "Warning message:\n",
      "“Unknown columns: `gene_name`”\n"
     ]
    },
    {
     "name": "stdout",
     "output_type": "stream",
     "text": [
      "[1] \"4_vs_3    Gene number: 4446\"\n"
     ]
    },
    {
     "name": "stderr",
     "output_type": "stream",
     "text": [
      "'select()' returned 1:many mapping between keys and columns\n",
      "\n",
      "Parsed with column specification:\n",
      "cols(\n",
      "  gene_names = \u001b[31mcol_character()\u001b[39m,\n",
      "  `4` = \u001b[32mcol_double()\u001b[39m,\n",
      "  `5` = \u001b[32mcol_double()\u001b[39m,\n",
      "  wilcoxon_logfc = \u001b[32mcol_double()\u001b[39m,\n",
      "  wilcoxon_padj = \u001b[32mcol_double()\u001b[39m,\n",
      "  wilcoxon_score = \u001b[32mcol_double()\u001b[39m,\n",
      "  `t-test_logfc` = \u001b[32mcol_double()\u001b[39m,\n",
      "  `t-test_padj` = \u001b[32mcol_double()\u001b[39m,\n",
      "  `t-test_score` = \u001b[32mcol_double()\u001b[39m,\n",
      "  `t-test_overestim_var_logfc` = \u001b[32mcol_double()\u001b[39m,\n",
      "  `t-test_overestim_var_padj` = \u001b[32mcol_double()\u001b[39m,\n",
      "  `t-test_overestim_var_score` = \u001b[32mcol_double()\u001b[39m\n",
      ")\n",
      "\n",
      "Warning message:\n",
      "“Unknown columns: `gene_name`”\n"
     ]
    },
    {
     "name": "stdout",
     "output_type": "stream",
     "text": [
      "[1] \"4_vs_5    Gene number: 1341\"\n"
     ]
    },
    {
     "name": "stderr",
     "output_type": "stream",
     "text": [
      "'select()' returned 1:many mapping between keys and columns\n",
      "\n",
      "Parsed with column specification:\n",
      "cols(\n",
      "  gene_names = \u001b[31mcol_character()\u001b[39m,\n",
      "  `4` = \u001b[32mcol_double()\u001b[39m,\n",
      "  `6` = \u001b[32mcol_double()\u001b[39m,\n",
      "  wilcoxon_logfc = \u001b[32mcol_double()\u001b[39m,\n",
      "  wilcoxon_padj = \u001b[32mcol_double()\u001b[39m,\n",
      "  wilcoxon_score = \u001b[32mcol_double()\u001b[39m,\n",
      "  `t-test_logfc` = \u001b[32mcol_double()\u001b[39m,\n",
      "  `t-test_padj` = \u001b[32mcol_double()\u001b[39m,\n",
      "  `t-test_score` = \u001b[32mcol_double()\u001b[39m,\n",
      "  `t-test_overestim_var_logfc` = \u001b[32mcol_double()\u001b[39m,\n",
      "  `t-test_overestim_var_padj` = \u001b[32mcol_double()\u001b[39m,\n",
      "  `t-test_overestim_var_score` = \u001b[32mcol_double()\u001b[39m\n",
      ")\n",
      "\n",
      "Warning message:\n",
      "“Unknown columns: `gene_name`”\n"
     ]
    },
    {
     "name": "stdout",
     "output_type": "stream",
     "text": [
      "[1] \"4_vs_6    Gene number: 751\"\n"
     ]
    },
    {
     "name": "stderr",
     "output_type": "stream",
     "text": [
      "'select()' returned 1:many mapping between keys and columns\n",
      "\n",
      "Parsed with column specification:\n",
      "cols(\n",
      "  gene_names = \u001b[31mcol_character()\u001b[39m,\n",
      "  `4` = \u001b[32mcol_double()\u001b[39m,\n",
      "  `7` = \u001b[32mcol_double()\u001b[39m,\n",
      "  wilcoxon_logfc = \u001b[32mcol_double()\u001b[39m,\n",
      "  wilcoxon_padj = \u001b[32mcol_double()\u001b[39m,\n",
      "  wilcoxon_score = \u001b[32mcol_double()\u001b[39m,\n",
      "  `t-test_logfc` = \u001b[32mcol_double()\u001b[39m,\n",
      "  `t-test_padj` = \u001b[32mcol_double()\u001b[39m,\n",
      "  `t-test_score` = \u001b[32mcol_double()\u001b[39m,\n",
      "  `t-test_overestim_var_logfc` = \u001b[32mcol_double()\u001b[39m,\n",
      "  `t-test_overestim_var_padj` = \u001b[32mcol_double()\u001b[39m,\n",
      "  `t-test_overestim_var_score` = \u001b[32mcol_double()\u001b[39m\n",
      ")\n",
      "\n",
      "Warning message:\n",
      "“Unknown columns: `gene_name`”\n"
     ]
    },
    {
     "name": "stdout",
     "output_type": "stream",
     "text": [
      "[1] \"4_vs_7    Gene number: 2989\"\n"
     ]
    },
    {
     "name": "stderr",
     "output_type": "stream",
     "text": [
      "'select()' returned 1:many mapping between keys and columns\n",
      "\n",
      "Parsed with column specification:\n",
      "cols(\n",
      "  gene_names = \u001b[31mcol_character()\u001b[39m,\n",
      "  `4` = \u001b[32mcol_double()\u001b[39m,\n",
      "  `8` = \u001b[32mcol_double()\u001b[39m,\n",
      "  wilcoxon_logfc = \u001b[32mcol_double()\u001b[39m,\n",
      "  wilcoxon_padj = \u001b[32mcol_double()\u001b[39m,\n",
      "  wilcoxon_score = \u001b[32mcol_double()\u001b[39m,\n",
      "  `t-test_logfc` = \u001b[32mcol_double()\u001b[39m,\n",
      "  `t-test_padj` = \u001b[32mcol_double()\u001b[39m,\n",
      "  `t-test_score` = \u001b[32mcol_double()\u001b[39m,\n",
      "  `t-test_overestim_var_logfc` = \u001b[32mcol_double()\u001b[39m,\n",
      "  `t-test_overestim_var_padj` = \u001b[32mcol_double()\u001b[39m,\n",
      "  `t-test_overestim_var_score` = \u001b[32mcol_double()\u001b[39m\n",
      ")\n",
      "\n",
      "Warning message:\n",
      "“Unknown columns: `gene_name`”\n"
     ]
    },
    {
     "name": "stdout",
     "output_type": "stream",
     "text": [
      "[1] \"4_vs_8    Gene number: 6316\"\n"
     ]
    },
    {
     "name": "stderr",
     "output_type": "stream",
     "text": [
      "'select()' returned 1:many mapping between keys and columns\n",
      "\n",
      "Parsed with column specification:\n",
      "cols(\n",
      "  gene_names = \u001b[31mcol_character()\u001b[39m,\n",
      "  `4` = \u001b[32mcol_double()\u001b[39m,\n",
      "  `9` = \u001b[32mcol_double()\u001b[39m,\n",
      "  wilcoxon_logfc = \u001b[32mcol_double()\u001b[39m,\n",
      "  wilcoxon_padj = \u001b[32mcol_double()\u001b[39m,\n",
      "  wilcoxon_score = \u001b[32mcol_double()\u001b[39m,\n",
      "  `t-test_logfc` = \u001b[32mcol_double()\u001b[39m,\n",
      "  `t-test_padj` = \u001b[32mcol_double()\u001b[39m,\n",
      "  `t-test_score` = \u001b[32mcol_double()\u001b[39m,\n",
      "  `t-test_overestim_var_logfc` = \u001b[32mcol_double()\u001b[39m,\n",
      "  `t-test_overestim_var_padj` = \u001b[32mcol_double()\u001b[39m,\n",
      "  `t-test_overestim_var_score` = \u001b[32mcol_double()\u001b[39m\n",
      ")\n",
      "\n",
      "Warning message:\n",
      "“Unknown columns: `gene_name`”\n"
     ]
    },
    {
     "name": "stdout",
     "output_type": "stream",
     "text": [
      "[1] \"4_vs_9    Gene number: 4977\"\n"
     ]
    },
    {
     "name": "stderr",
     "output_type": "stream",
     "text": [
      "'select()' returned 1:many mapping between keys and columns\n",
      "\n",
      "Parsed with column specification:\n",
      "cols(\n",
      "  gene_names = \u001b[31mcol_character()\u001b[39m,\n",
      "  `0` = \u001b[32mcol_double()\u001b[39m,\n",
      "  `5` = \u001b[32mcol_double()\u001b[39m,\n",
      "  wilcoxon_logfc = \u001b[32mcol_double()\u001b[39m,\n",
      "  wilcoxon_padj = \u001b[32mcol_double()\u001b[39m,\n",
      "  wilcoxon_score = \u001b[32mcol_double()\u001b[39m,\n",
      "  `t-test_logfc` = \u001b[32mcol_double()\u001b[39m,\n",
      "  `t-test_padj` = \u001b[32mcol_double()\u001b[39m,\n",
      "  `t-test_score` = \u001b[32mcol_double()\u001b[39m,\n",
      "  `t-test_overestim_var_logfc` = \u001b[32mcol_double()\u001b[39m,\n",
      "  `t-test_overestim_var_padj` = \u001b[32mcol_double()\u001b[39m,\n",
      "  `t-test_overestim_var_score` = \u001b[32mcol_double()\u001b[39m\n",
      ")\n",
      "\n",
      "Warning message:\n",
      "“Unknown columns: `gene_name`”\n"
     ]
    },
    {
     "name": "stdout",
     "output_type": "stream",
     "text": [
      "[1] \"5_vs_0    Gene number: 2964\"\n"
     ]
    },
    {
     "name": "stderr",
     "output_type": "stream",
     "text": [
      "'select()' returned 1:many mapping between keys and columns\n",
      "\n",
      "Parsed with column specification:\n",
      "cols(\n",
      "  gene_names = \u001b[31mcol_character()\u001b[39m,\n",
      "  `1` = \u001b[32mcol_double()\u001b[39m,\n",
      "  `5` = \u001b[32mcol_double()\u001b[39m,\n",
      "  wilcoxon_logfc = \u001b[32mcol_double()\u001b[39m,\n",
      "  wilcoxon_padj = \u001b[32mcol_double()\u001b[39m,\n",
      "  wilcoxon_score = \u001b[32mcol_double()\u001b[39m,\n",
      "  `t-test_logfc` = \u001b[32mcol_double()\u001b[39m,\n",
      "  `t-test_padj` = \u001b[32mcol_double()\u001b[39m,\n",
      "  `t-test_score` = \u001b[32mcol_double()\u001b[39m,\n",
      "  `t-test_overestim_var_logfc` = \u001b[32mcol_double()\u001b[39m,\n",
      "  `t-test_overestim_var_padj` = \u001b[32mcol_double()\u001b[39m,\n",
      "  `t-test_overestim_var_score` = \u001b[32mcol_double()\u001b[39m\n",
      ")\n",
      "\n",
      "Warning message:\n",
      "“Unknown columns: `gene_name`”\n"
     ]
    },
    {
     "name": "stdout",
     "output_type": "stream",
     "text": [
      "[1] \"5_vs_1    Gene number: 1243\"\n"
     ]
    },
    {
     "name": "stderr",
     "output_type": "stream",
     "text": [
      "'select()' returned 1:many mapping between keys and columns\n",
      "\n",
      "Parsed with column specification:\n",
      "cols(\n",
      "  gene_names = \u001b[31mcol_character()\u001b[39m,\n",
      "  `10` = \u001b[32mcol_double()\u001b[39m,\n",
      "  `5` = \u001b[32mcol_double()\u001b[39m,\n",
      "  wilcoxon_logfc = \u001b[32mcol_double()\u001b[39m,\n",
      "  wilcoxon_padj = \u001b[32mcol_double()\u001b[39m,\n",
      "  wilcoxon_score = \u001b[32mcol_double()\u001b[39m,\n",
      "  `t-test_logfc` = \u001b[32mcol_double()\u001b[39m,\n",
      "  `t-test_padj` = \u001b[32mcol_double()\u001b[39m,\n",
      "  `t-test_score` = \u001b[32mcol_double()\u001b[39m,\n",
      "  `t-test_overestim_var_logfc` = \u001b[32mcol_double()\u001b[39m,\n",
      "  `t-test_overestim_var_padj` = \u001b[32mcol_double()\u001b[39m,\n",
      "  `t-test_overestim_var_score` = \u001b[32mcol_double()\u001b[39m\n",
      ")\n",
      "\n",
      "Warning message:\n",
      "“Unknown columns: `gene_name`”\n"
     ]
    },
    {
     "name": "stdout",
     "output_type": "stream",
     "text": [
      "[1] \"5_vs_10    Gene number: 864\"\n"
     ]
    },
    {
     "name": "stderr",
     "output_type": "stream",
     "text": [
      "'select()' returned 1:many mapping between keys and columns\n",
      "\n",
      "Parsed with column specification:\n",
      "cols(\n",
      "  gene_names = \u001b[31mcol_character()\u001b[39m,\n",
      "  `2` = \u001b[32mcol_double()\u001b[39m,\n",
      "  `5` = \u001b[32mcol_double()\u001b[39m,\n",
      "  wilcoxon_logfc = \u001b[32mcol_double()\u001b[39m,\n",
      "  wilcoxon_padj = \u001b[32mcol_double()\u001b[39m,\n",
      "  wilcoxon_score = \u001b[32mcol_double()\u001b[39m,\n",
      "  `t-test_logfc` = \u001b[32mcol_double()\u001b[39m,\n",
      "  `t-test_padj` = \u001b[32mcol_double()\u001b[39m,\n",
      "  `t-test_score` = \u001b[32mcol_double()\u001b[39m,\n",
      "  `t-test_overestim_var_logfc` = \u001b[32mcol_double()\u001b[39m,\n",
      "  `t-test_overestim_var_padj` = \u001b[32mcol_double()\u001b[39m,\n",
      "  `t-test_overestim_var_score` = \u001b[32mcol_double()\u001b[39m\n",
      ")\n",
      "\n",
      "Warning message:\n",
      "“Unknown columns: `gene_name`”\n"
     ]
    },
    {
     "name": "stdout",
     "output_type": "stream",
     "text": [
      "[1] \"5_vs_2    Gene number: 4005\"\n"
     ]
    },
    {
     "name": "stderr",
     "output_type": "stream",
     "text": [
      "'select()' returned 1:many mapping between keys and columns\n",
      "\n",
      "Parsed with column specification:\n",
      "cols(\n",
      "  gene_names = \u001b[31mcol_character()\u001b[39m,\n",
      "  `3` = \u001b[32mcol_double()\u001b[39m,\n",
      "  `5` = \u001b[32mcol_double()\u001b[39m,\n",
      "  wilcoxon_logfc = \u001b[32mcol_double()\u001b[39m,\n",
      "  wilcoxon_padj = \u001b[32mcol_double()\u001b[39m,\n",
      "  wilcoxon_score = \u001b[32mcol_double()\u001b[39m,\n",
      "  `t-test_logfc` = \u001b[32mcol_double()\u001b[39m,\n",
      "  `t-test_padj` = \u001b[32mcol_double()\u001b[39m,\n",
      "  `t-test_score` = \u001b[32mcol_double()\u001b[39m,\n",
      "  `t-test_overestim_var_logfc` = \u001b[32mcol_double()\u001b[39m,\n",
      "  `t-test_overestim_var_padj` = \u001b[32mcol_double()\u001b[39m,\n",
      "  `t-test_overestim_var_score` = \u001b[32mcol_double()\u001b[39m\n",
      ")\n",
      "\n",
      "Warning message:\n",
      "“Unknown columns: `gene_name`”\n"
     ]
    },
    {
     "name": "stdout",
     "output_type": "stream",
     "text": [
      "[1] \"5_vs_3    Gene number: 4372\"\n"
     ]
    },
    {
     "name": "stderr",
     "output_type": "stream",
     "text": [
      "'select()' returned 1:many mapping between keys and columns\n",
      "\n",
      "Parsed with column specification:\n",
      "cols(\n",
      "  gene_names = \u001b[31mcol_character()\u001b[39m,\n",
      "  `4` = \u001b[32mcol_double()\u001b[39m,\n",
      "  `5` = \u001b[32mcol_double()\u001b[39m,\n",
      "  wilcoxon_logfc = \u001b[32mcol_double()\u001b[39m,\n",
      "  wilcoxon_padj = \u001b[32mcol_double()\u001b[39m,\n",
      "  wilcoxon_score = \u001b[32mcol_double()\u001b[39m,\n",
      "  `t-test_logfc` = \u001b[32mcol_double()\u001b[39m,\n",
      "  `t-test_padj` = \u001b[32mcol_double()\u001b[39m,\n",
      "  `t-test_score` = \u001b[32mcol_double()\u001b[39m,\n",
      "  `t-test_overestim_var_logfc` = \u001b[32mcol_double()\u001b[39m,\n",
      "  `t-test_overestim_var_padj` = \u001b[32mcol_double()\u001b[39m,\n",
      "  `t-test_overestim_var_score` = \u001b[32mcol_double()\u001b[39m\n",
      ")\n",
      "\n",
      "Warning message:\n",
      "“Unknown columns: `gene_name`”\n"
     ]
    },
    {
     "name": "stdout",
     "output_type": "stream",
     "text": [
      "[1] \"5_vs_4    Gene number: 1116\"\n"
     ]
    },
    {
     "name": "stderr",
     "output_type": "stream",
     "text": [
      "'select()' returned 1:many mapping between keys and columns\n",
      "\n",
      "Parsed with column specification:\n",
      "cols(\n",
      "  gene_names = \u001b[31mcol_character()\u001b[39m,\n",
      "  `5` = \u001b[32mcol_double()\u001b[39m,\n",
      "  `6` = \u001b[32mcol_double()\u001b[39m,\n",
      "  wilcoxon_logfc = \u001b[32mcol_double()\u001b[39m,\n",
      "  wilcoxon_padj = \u001b[32mcol_double()\u001b[39m,\n",
      "  wilcoxon_score = \u001b[32mcol_double()\u001b[39m,\n",
      "  `t-test_logfc` = \u001b[32mcol_double()\u001b[39m,\n",
      "  `t-test_padj` = \u001b[32mcol_double()\u001b[39m,\n",
      "  `t-test_score` = \u001b[32mcol_double()\u001b[39m,\n",
      "  `t-test_overestim_var_logfc` = \u001b[32mcol_double()\u001b[39m,\n",
      "  `t-test_overestim_var_padj` = \u001b[32mcol_double()\u001b[39m,\n",
      "  `t-test_overestim_var_score` = \u001b[32mcol_double()\u001b[39m\n",
      ")\n",
      "\n",
      "Warning message:\n",
      "“Unknown columns: `gene_name`”\n"
     ]
    },
    {
     "name": "stdout",
     "output_type": "stream",
     "text": [
      "[1] \"5_vs_6    Gene number: 964\"\n"
     ]
    },
    {
     "name": "stderr",
     "output_type": "stream",
     "text": [
      "'select()' returned 1:many mapping between keys and columns\n",
      "\n",
      "Parsed with column specification:\n",
      "cols(\n",
      "  gene_names = \u001b[31mcol_character()\u001b[39m,\n",
      "  `5` = \u001b[32mcol_double()\u001b[39m,\n",
      "  `7` = \u001b[32mcol_double()\u001b[39m,\n",
      "  wilcoxon_logfc = \u001b[32mcol_double()\u001b[39m,\n",
      "  wilcoxon_padj = \u001b[32mcol_double()\u001b[39m,\n",
      "  wilcoxon_score = \u001b[32mcol_double()\u001b[39m,\n",
      "  `t-test_logfc` = \u001b[32mcol_double()\u001b[39m,\n",
      "  `t-test_padj` = \u001b[32mcol_double()\u001b[39m,\n",
      "  `t-test_score` = \u001b[32mcol_double()\u001b[39m,\n",
      "  `t-test_overestim_var_logfc` = \u001b[32mcol_double()\u001b[39m,\n",
      "  `t-test_overestim_var_padj` = \u001b[32mcol_double()\u001b[39m,\n",
      "  `t-test_overestim_var_score` = \u001b[32mcol_double()\u001b[39m\n",
      ")\n",
      "\n",
      "Warning message:\n",
      "“Unknown columns: `gene_name`”\n"
     ]
    },
    {
     "name": "stdout",
     "output_type": "stream",
     "text": [
      "[1] \"5_vs_7    Gene number: 2622\"\n"
     ]
    },
    {
     "name": "stderr",
     "output_type": "stream",
     "text": [
      "'select()' returned 1:many mapping between keys and columns\n",
      "\n",
      "Parsed with column specification:\n",
      "cols(\n",
      "  gene_names = \u001b[31mcol_character()\u001b[39m,\n",
      "  `5` = \u001b[32mcol_double()\u001b[39m,\n",
      "  `8` = \u001b[32mcol_double()\u001b[39m,\n",
      "  wilcoxon_logfc = \u001b[32mcol_double()\u001b[39m,\n",
      "  wilcoxon_padj = \u001b[32mcol_double()\u001b[39m,\n",
      "  wilcoxon_score = \u001b[32mcol_double()\u001b[39m,\n",
      "  `t-test_logfc` = \u001b[32mcol_double()\u001b[39m,\n",
      "  `t-test_padj` = \u001b[32mcol_double()\u001b[39m,\n",
      "  `t-test_score` = \u001b[32mcol_double()\u001b[39m,\n",
      "  `t-test_overestim_var_logfc` = \u001b[32mcol_double()\u001b[39m,\n",
      "  `t-test_overestim_var_padj` = \u001b[32mcol_double()\u001b[39m,\n",
      "  `t-test_overestim_var_score` = \u001b[32mcol_double()\u001b[39m\n",
      ")\n",
      "\n",
      "Warning message:\n",
      "“Unknown columns: `gene_name`”\n"
     ]
    },
    {
     "name": "stdout",
     "output_type": "stream",
     "text": [
      "[1] \"5_vs_8    Gene number: 6126\"\n"
     ]
    },
    {
     "name": "stderr",
     "output_type": "stream",
     "text": [
      "'select()' returned 1:many mapping between keys and columns\n",
      "\n",
      "Parsed with column specification:\n",
      "cols(\n",
      "  gene_names = \u001b[31mcol_character()\u001b[39m,\n",
      "  `5` = \u001b[32mcol_double()\u001b[39m,\n",
      "  `9` = \u001b[32mcol_double()\u001b[39m,\n",
      "  wilcoxon_logfc = \u001b[32mcol_double()\u001b[39m,\n",
      "  wilcoxon_padj = \u001b[32mcol_double()\u001b[39m,\n",
      "  wilcoxon_score = \u001b[32mcol_double()\u001b[39m,\n",
      "  `t-test_logfc` = \u001b[32mcol_double()\u001b[39m,\n",
      "  `t-test_padj` = \u001b[32mcol_double()\u001b[39m,\n",
      "  `t-test_score` = \u001b[32mcol_double()\u001b[39m,\n",
      "  `t-test_overestim_var_logfc` = \u001b[32mcol_double()\u001b[39m,\n",
      "  `t-test_overestim_var_padj` = \u001b[32mcol_double()\u001b[39m,\n",
      "  `t-test_overestim_var_score` = \u001b[32mcol_double()\u001b[39m\n",
      ")\n",
      "\n",
      "Warning message:\n",
      "“Unknown columns: `gene_name`”\n"
     ]
    },
    {
     "name": "stdout",
     "output_type": "stream",
     "text": [
      "[1] \"5_vs_9    Gene number: 4874\"\n"
     ]
    },
    {
     "name": "stderr",
     "output_type": "stream",
     "text": [
      "'select()' returned 1:many mapping between keys and columns\n",
      "\n",
      "Parsed with column specification:\n",
      "cols(\n",
      "  gene_names = \u001b[31mcol_character()\u001b[39m,\n",
      "  `0` = \u001b[32mcol_double()\u001b[39m,\n",
      "  `6` = \u001b[32mcol_double()\u001b[39m,\n",
      "  wilcoxon_logfc = \u001b[32mcol_double()\u001b[39m,\n",
      "  wilcoxon_padj = \u001b[32mcol_double()\u001b[39m,\n",
      "  wilcoxon_score = \u001b[32mcol_double()\u001b[39m,\n",
      "  `t-test_logfc` = \u001b[32mcol_double()\u001b[39m,\n",
      "  `t-test_padj` = \u001b[32mcol_double()\u001b[39m,\n",
      "  `t-test_score` = \u001b[32mcol_double()\u001b[39m,\n",
      "  `t-test_overestim_var_logfc` = \u001b[32mcol_double()\u001b[39m,\n",
      "  `t-test_overestim_var_padj` = \u001b[32mcol_double()\u001b[39m,\n",
      "  `t-test_overestim_var_score` = \u001b[32mcol_double()\u001b[39m\n",
      ")\n",
      "\n",
      "Warning message:\n",
      "“Unknown columns: `gene_name`”\n"
     ]
    },
    {
     "name": "stdout",
     "output_type": "stream",
     "text": [
      "[1] \"6_vs_0    Gene number: 4683\"\n"
     ]
    },
    {
     "name": "stderr",
     "output_type": "stream",
     "text": [
      "'select()' returned 1:many mapping between keys and columns\n",
      "\n",
      "Parsed with column specification:\n",
      "cols(\n",
      "  gene_names = \u001b[31mcol_character()\u001b[39m,\n",
      "  `1` = \u001b[32mcol_double()\u001b[39m,\n",
      "  `6` = \u001b[32mcol_double()\u001b[39m,\n",
      "  wilcoxon_logfc = \u001b[32mcol_double()\u001b[39m,\n",
      "  wilcoxon_padj = \u001b[32mcol_double()\u001b[39m,\n",
      "  wilcoxon_score = \u001b[32mcol_double()\u001b[39m,\n",
      "  `t-test_logfc` = \u001b[32mcol_double()\u001b[39m,\n",
      "  `t-test_padj` = \u001b[32mcol_double()\u001b[39m,\n",
      "  `t-test_score` = \u001b[32mcol_double()\u001b[39m,\n",
      "  `t-test_overestim_var_logfc` = \u001b[32mcol_double()\u001b[39m,\n",
      "  `t-test_overestim_var_padj` = \u001b[32mcol_double()\u001b[39m,\n",
      "  `t-test_overestim_var_score` = \u001b[32mcol_double()\u001b[39m\n",
      ")\n",
      "\n",
      "Warning message:\n",
      "“Unknown columns: `gene_name`”\n"
     ]
    },
    {
     "name": "stdout",
     "output_type": "stream",
     "text": [
      "[1] \"6_vs_1    Gene number: 2684\"\n"
     ]
    },
    {
     "name": "stderr",
     "output_type": "stream",
     "text": [
      "'select()' returned 1:many mapping between keys and columns\n",
      "\n",
      "Parsed with column specification:\n",
      "cols(\n",
      "  gene_names = \u001b[31mcol_character()\u001b[39m,\n",
      "  `10` = \u001b[32mcol_double()\u001b[39m,\n",
      "  `6` = \u001b[32mcol_double()\u001b[39m,\n",
      "  wilcoxon_logfc = \u001b[32mcol_double()\u001b[39m,\n",
      "  wilcoxon_padj = \u001b[32mcol_double()\u001b[39m,\n",
      "  wilcoxon_score = \u001b[32mcol_double()\u001b[39m,\n",
      "  `t-test_logfc` = \u001b[32mcol_double()\u001b[39m,\n",
      "  `t-test_padj` = \u001b[32mcol_double()\u001b[39m,\n",
      "  `t-test_score` = \u001b[32mcol_double()\u001b[39m,\n",
      "  `t-test_overestim_var_logfc` = \u001b[32mcol_double()\u001b[39m,\n",
      "  `t-test_overestim_var_padj` = \u001b[32mcol_double()\u001b[39m,\n",
      "  `t-test_overestim_var_score` = \u001b[32mcol_double()\u001b[39m\n",
      ")\n",
      "\n",
      "Warning message:\n",
      "“Unknown columns: `gene_name`”\n"
     ]
    },
    {
     "name": "stdout",
     "output_type": "stream",
     "text": [
      "[1] \"6_vs_10    Gene number: 1496\"\n"
     ]
    },
    {
     "name": "stderr",
     "output_type": "stream",
     "text": [
      "'select()' returned 1:many mapping between keys and columns\n",
      "\n",
      "Parsed with column specification:\n",
      "cols(\n",
      "  gene_names = \u001b[31mcol_character()\u001b[39m,\n",
      "  `2` = \u001b[32mcol_double()\u001b[39m,\n",
      "  `6` = \u001b[32mcol_double()\u001b[39m,\n",
      "  wilcoxon_logfc = \u001b[32mcol_double()\u001b[39m,\n",
      "  wilcoxon_padj = \u001b[32mcol_double()\u001b[39m,\n",
      "  wilcoxon_score = \u001b[32mcol_double()\u001b[39m,\n",
      "  `t-test_logfc` = \u001b[32mcol_double()\u001b[39m,\n",
      "  `t-test_padj` = \u001b[32mcol_double()\u001b[39m,\n",
      "  `t-test_score` = \u001b[32mcol_double()\u001b[39m,\n",
      "  `t-test_overestim_var_logfc` = \u001b[32mcol_double()\u001b[39m,\n",
      "  `t-test_overestim_var_padj` = \u001b[32mcol_double()\u001b[39m,\n",
      "  `t-test_overestim_var_score` = \u001b[32mcol_double()\u001b[39m\n",
      ")\n",
      "\n",
      "Warning message:\n",
      "“Unknown columns: `gene_name`”\n"
     ]
    },
    {
     "name": "stdout",
     "output_type": "stream",
     "text": [
      "[1] \"6_vs_2    Gene number: 5567\"\n"
     ]
    },
    {
     "name": "stderr",
     "output_type": "stream",
     "text": [
      "'select()' returned 1:many mapping between keys and columns\n",
      "\n",
      "Parsed with column specification:\n",
      "cols(\n",
      "  gene_names = \u001b[31mcol_character()\u001b[39m,\n",
      "  `3` = \u001b[32mcol_double()\u001b[39m,\n",
      "  `6` = \u001b[32mcol_double()\u001b[39m,\n",
      "  wilcoxon_logfc = \u001b[32mcol_double()\u001b[39m,\n",
      "  wilcoxon_padj = \u001b[32mcol_double()\u001b[39m,\n",
      "  wilcoxon_score = \u001b[32mcol_double()\u001b[39m,\n",
      "  `t-test_logfc` = \u001b[32mcol_double()\u001b[39m,\n",
      "  `t-test_padj` = \u001b[32mcol_double()\u001b[39m,\n",
      "  `t-test_score` = \u001b[32mcol_double()\u001b[39m,\n",
      "  `t-test_overestim_var_logfc` = \u001b[32mcol_double()\u001b[39m,\n",
      "  `t-test_overestim_var_padj` = \u001b[32mcol_double()\u001b[39m,\n",
      "  `t-test_overestim_var_score` = \u001b[32mcol_double()\u001b[39m\n",
      ")\n",
      "\n",
      "Warning message:\n",
      "“Unknown columns: `gene_name`”\n"
     ]
    },
    {
     "name": "stdout",
     "output_type": "stream",
     "text": [
      "[1] \"6_vs_3    Gene number: 5448\"\n"
     ]
    },
    {
     "name": "stderr",
     "output_type": "stream",
     "text": [
      "'select()' returned 1:many mapping between keys and columns\n",
      "\n",
      "Parsed with column specification:\n",
      "cols(\n",
      "  gene_names = \u001b[31mcol_character()\u001b[39m,\n",
      "  `4` = \u001b[32mcol_double()\u001b[39m,\n",
      "  `6` = \u001b[32mcol_double()\u001b[39m,\n",
      "  wilcoxon_logfc = \u001b[32mcol_double()\u001b[39m,\n",
      "  wilcoxon_padj = \u001b[32mcol_double()\u001b[39m,\n",
      "  wilcoxon_score = \u001b[32mcol_double()\u001b[39m,\n",
      "  `t-test_logfc` = \u001b[32mcol_double()\u001b[39m,\n",
      "  `t-test_padj` = \u001b[32mcol_double()\u001b[39m,\n",
      "  `t-test_score` = \u001b[32mcol_double()\u001b[39m,\n",
      "  `t-test_overestim_var_logfc` = \u001b[32mcol_double()\u001b[39m,\n",
      "  `t-test_overestim_var_padj` = \u001b[32mcol_double()\u001b[39m,\n",
      "  `t-test_overestim_var_score` = \u001b[32mcol_double()\u001b[39m\n",
      ")\n",
      "\n",
      "Warning message:\n",
      "“Unknown columns: `gene_name`”\n"
     ]
    },
    {
     "name": "stdout",
     "output_type": "stream",
     "text": [
      "[1] \"6_vs_4    Gene number: 1942\"\n"
     ]
    },
    {
     "name": "stderr",
     "output_type": "stream",
     "text": [
      "'select()' returned 1:many mapping between keys and columns\n",
      "\n",
      "Parsed with column specification:\n",
      "cols(\n",
      "  gene_names = \u001b[31mcol_character()\u001b[39m,\n",
      "  `5` = \u001b[32mcol_double()\u001b[39m,\n",
      "  `6` = \u001b[32mcol_double()\u001b[39m,\n",
      "  wilcoxon_logfc = \u001b[32mcol_double()\u001b[39m,\n",
      "  wilcoxon_padj = \u001b[32mcol_double()\u001b[39m,\n",
      "  wilcoxon_score = \u001b[32mcol_double()\u001b[39m,\n",
      "  `t-test_logfc` = \u001b[32mcol_double()\u001b[39m,\n",
      "  `t-test_padj` = \u001b[32mcol_double()\u001b[39m,\n",
      "  `t-test_score` = \u001b[32mcol_double()\u001b[39m,\n",
      "  `t-test_overestim_var_logfc` = \u001b[32mcol_double()\u001b[39m,\n",
      "  `t-test_overestim_var_padj` = \u001b[32mcol_double()\u001b[39m,\n",
      "  `t-test_overestim_var_score` = \u001b[32mcol_double()\u001b[39m\n",
      ")\n",
      "\n",
      "Warning message:\n",
      "“Unknown columns: `gene_name`”\n"
     ]
    },
    {
     "name": "stdout",
     "output_type": "stream",
     "text": [
      "[1] \"6_vs_5    Gene number: 2435\"\n"
     ]
    },
    {
     "name": "stderr",
     "output_type": "stream",
     "text": [
      "'select()' returned 1:many mapping between keys and columns\n",
      "\n",
      "Parsed with column specification:\n",
      "cols(\n",
      "  gene_names = \u001b[31mcol_character()\u001b[39m,\n",
      "  `6` = \u001b[32mcol_double()\u001b[39m,\n",
      "  `7` = \u001b[32mcol_double()\u001b[39m,\n",
      "  wilcoxon_logfc = \u001b[32mcol_double()\u001b[39m,\n",
      "  wilcoxon_padj = \u001b[32mcol_double()\u001b[39m,\n",
      "  wilcoxon_score = \u001b[32mcol_double()\u001b[39m,\n",
      "  `t-test_logfc` = \u001b[32mcol_double()\u001b[39m,\n",
      "  `t-test_padj` = \u001b[32mcol_double()\u001b[39m,\n",
      "  `t-test_score` = \u001b[32mcol_double()\u001b[39m,\n",
      "  `t-test_overestim_var_logfc` = \u001b[32mcol_double()\u001b[39m,\n",
      "  `t-test_overestim_var_padj` = \u001b[32mcol_double()\u001b[39m,\n",
      "  `t-test_overestim_var_score` = \u001b[32mcol_double()\u001b[39m\n",
      ")\n",
      "\n",
      "Warning message:\n",
      "“Unknown columns: `gene_name`”\n"
     ]
    },
    {
     "name": "stdout",
     "output_type": "stream",
     "text": [
      "[1] \"6_vs_7    Gene number: 4100\"\n"
     ]
    },
    {
     "name": "stderr",
     "output_type": "stream",
     "text": [
      "'select()' returned 1:many mapping between keys and columns\n",
      "\n",
      "Parsed with column specification:\n",
      "cols(\n",
      "  gene_names = \u001b[31mcol_character()\u001b[39m,\n",
      "  `6` = \u001b[32mcol_double()\u001b[39m,\n",
      "  `8` = \u001b[32mcol_double()\u001b[39m,\n",
      "  wilcoxon_logfc = \u001b[32mcol_double()\u001b[39m,\n",
      "  wilcoxon_padj = \u001b[32mcol_double()\u001b[39m,\n",
      "  wilcoxon_score = \u001b[32mcol_double()\u001b[39m,\n",
      "  `t-test_logfc` = \u001b[32mcol_double()\u001b[39m,\n",
      "  `t-test_padj` = \u001b[32mcol_double()\u001b[39m,\n",
      "  `t-test_score` = \u001b[32mcol_double()\u001b[39m,\n",
      "  `t-test_overestim_var_logfc` = \u001b[32mcol_double()\u001b[39m,\n",
      "  `t-test_overestim_var_padj` = \u001b[32mcol_double()\u001b[39m,\n",
      "  `t-test_overestim_var_score` = \u001b[32mcol_double()\u001b[39m\n",
      ")\n",
      "\n",
      "Warning message:\n",
      "“Unknown columns: `gene_name`”\n"
     ]
    },
    {
     "name": "stdout",
     "output_type": "stream",
     "text": [
      "[1] \"6_vs_8    Gene number: 7273\"\n"
     ]
    },
    {
     "name": "stderr",
     "output_type": "stream",
     "text": [
      "'select()' returned 1:many mapping between keys and columns\n",
      "\n",
      "Parsed with column specification:\n",
      "cols(\n",
      "  gene_names = \u001b[31mcol_character()\u001b[39m,\n",
      "  `6` = \u001b[32mcol_double()\u001b[39m,\n",
      "  `9` = \u001b[32mcol_double()\u001b[39m,\n",
      "  wilcoxon_logfc = \u001b[32mcol_double()\u001b[39m,\n",
      "  wilcoxon_padj = \u001b[32mcol_double()\u001b[39m,\n",
      "  wilcoxon_score = \u001b[32mcol_double()\u001b[39m,\n",
      "  `t-test_logfc` = \u001b[32mcol_double()\u001b[39m,\n",
      "  `t-test_padj` = \u001b[32mcol_double()\u001b[39m,\n",
      "  `t-test_score` = \u001b[32mcol_double()\u001b[39m,\n",
      "  `t-test_overestim_var_logfc` = \u001b[32mcol_double()\u001b[39m,\n",
      "  `t-test_overestim_var_padj` = \u001b[32mcol_double()\u001b[39m,\n",
      "  `t-test_overestim_var_score` = \u001b[32mcol_double()\u001b[39m\n",
      ")\n",
      "\n",
      "Warning message:\n",
      "“Unknown columns: `gene_name`”\n"
     ]
    },
    {
     "name": "stdout",
     "output_type": "stream",
     "text": [
      "[1] \"6_vs_9    Gene number: 6117\"\n"
     ]
    },
    {
     "name": "stderr",
     "output_type": "stream",
     "text": [
      "'select()' returned 1:many mapping between keys and columns\n",
      "\n",
      "Parsed with column specification:\n",
      "cols(\n",
      "  gene_names = \u001b[31mcol_character()\u001b[39m,\n",
      "  `0` = \u001b[32mcol_double()\u001b[39m,\n",
      "  `7` = \u001b[32mcol_double()\u001b[39m,\n",
      "  wilcoxon_logfc = \u001b[32mcol_double()\u001b[39m,\n",
      "  wilcoxon_padj = \u001b[32mcol_double()\u001b[39m,\n",
      "  wilcoxon_score = \u001b[32mcol_double()\u001b[39m,\n",
      "  `t-test_logfc` = \u001b[32mcol_double()\u001b[39m,\n",
      "  `t-test_padj` = \u001b[32mcol_double()\u001b[39m,\n",
      "  `t-test_score` = \u001b[32mcol_double()\u001b[39m,\n",
      "  `t-test_overestim_var_logfc` = \u001b[32mcol_double()\u001b[39m,\n",
      "  `t-test_overestim_var_padj` = \u001b[32mcol_double()\u001b[39m,\n",
      "  `t-test_overestim_var_score` = \u001b[32mcol_double()\u001b[39m\n",
      ")\n",
      "\n",
      "Warning message:\n",
      "“Unknown columns: `gene_name`”\n"
     ]
    },
    {
     "name": "stdout",
     "output_type": "stream",
     "text": [
      "[1] \"7_vs_0    Gene number: 1853\"\n"
     ]
    },
    {
     "name": "stderr",
     "output_type": "stream",
     "text": [
      "'select()' returned 1:many mapping between keys and columns\n",
      "\n",
      "Parsed with column specification:\n",
      "cols(\n",
      "  gene_names = \u001b[31mcol_character()\u001b[39m,\n",
      "  `1` = \u001b[32mcol_double()\u001b[39m,\n",
      "  `7` = \u001b[32mcol_double()\u001b[39m,\n",
      "  wilcoxon_logfc = \u001b[32mcol_double()\u001b[39m,\n",
      "  wilcoxon_padj = \u001b[32mcol_double()\u001b[39m,\n",
      "  wilcoxon_score = \u001b[32mcol_double()\u001b[39m,\n",
      "  `t-test_logfc` = \u001b[32mcol_double()\u001b[39m,\n",
      "  `t-test_padj` = \u001b[32mcol_double()\u001b[39m,\n",
      "  `t-test_score` = \u001b[32mcol_double()\u001b[39m,\n",
      "  `t-test_overestim_var_logfc` = \u001b[32mcol_double()\u001b[39m,\n",
      "  `t-test_overestim_var_padj` = \u001b[32mcol_double()\u001b[39m,\n",
      "  `t-test_overestim_var_score` = \u001b[32mcol_double()\u001b[39m\n",
      ")\n",
      "\n",
      "Warning message:\n",
      "“Unknown columns: `gene_name`”\n"
     ]
    },
    {
     "name": "stdout",
     "output_type": "stream",
     "text": [
      "[1] \"7_vs_1    Gene number: 1528\"\n"
     ]
    },
    {
     "name": "stderr",
     "output_type": "stream",
     "text": [
      "'select()' returned 1:many mapping between keys and columns\n",
      "\n",
      "Parsed with column specification:\n",
      "cols(\n",
      "  gene_names = \u001b[31mcol_character()\u001b[39m,\n",
      "  `10` = \u001b[32mcol_double()\u001b[39m,\n",
      "  `7` = \u001b[32mcol_double()\u001b[39m,\n",
      "  wilcoxon_logfc = \u001b[32mcol_double()\u001b[39m,\n",
      "  wilcoxon_padj = \u001b[32mcol_double()\u001b[39m,\n",
      "  wilcoxon_score = \u001b[32mcol_double()\u001b[39m,\n",
      "  `t-test_logfc` = \u001b[32mcol_double()\u001b[39m,\n",
      "  `t-test_padj` = \u001b[32mcol_double()\u001b[39m,\n",
      "  `t-test_score` = \u001b[32mcol_double()\u001b[39m,\n",
      "  `t-test_overestim_var_logfc` = \u001b[32mcol_double()\u001b[39m,\n",
      "  `t-test_overestim_var_padj` = \u001b[32mcol_double()\u001b[39m,\n",
      "  `t-test_overestim_var_score` = \u001b[32mcol_double()\u001b[39m\n",
      ")\n",
      "\n",
      "Warning message:\n",
      "“Unknown columns: `gene_name`”\n"
     ]
    },
    {
     "name": "stdout",
     "output_type": "stream",
     "text": [
      "[1] \"7_vs_10    Gene number: 1094\"\n"
     ]
    },
    {
     "name": "stderr",
     "output_type": "stream",
     "text": [
      "'select()' returned 1:many mapping between keys and columns\n",
      "\n",
      "Parsed with column specification:\n",
      "cols(\n",
      "  gene_names = \u001b[31mcol_character()\u001b[39m,\n",
      "  `2` = \u001b[32mcol_double()\u001b[39m,\n",
      "  `7` = \u001b[32mcol_double()\u001b[39m,\n",
      "  wilcoxon_logfc = \u001b[32mcol_double()\u001b[39m,\n",
      "  wilcoxon_padj = \u001b[32mcol_double()\u001b[39m,\n",
      "  wilcoxon_score = \u001b[32mcol_double()\u001b[39m,\n",
      "  `t-test_logfc` = \u001b[32mcol_double()\u001b[39m,\n",
      "  `t-test_padj` = \u001b[32mcol_double()\u001b[39m,\n",
      "  `t-test_score` = \u001b[32mcol_double()\u001b[39m,\n",
      "  `t-test_overestim_var_logfc` = \u001b[32mcol_double()\u001b[39m,\n",
      "  `t-test_overestim_var_padj` = \u001b[32mcol_double()\u001b[39m,\n",
      "  `t-test_overestim_var_score` = \u001b[32mcol_double()\u001b[39m\n",
      ")\n",
      "\n",
      "Warning message:\n",
      "“Unknown columns: `gene_name`”\n"
     ]
    },
    {
     "name": "stdout",
     "output_type": "stream",
     "text": [
      "[1] \"7_vs_2    Gene number: 2783\"\n"
     ]
    },
    {
     "name": "stderr",
     "output_type": "stream",
     "text": [
      "'select()' returned 1:many mapping between keys and columns\n",
      "\n",
      "Parsed with column specification:\n",
      "cols(\n",
      "  gene_names = \u001b[31mcol_character()\u001b[39m,\n",
      "  `3` = \u001b[32mcol_double()\u001b[39m,\n",
      "  `7` = \u001b[32mcol_double()\u001b[39m,\n",
      "  wilcoxon_logfc = \u001b[32mcol_double()\u001b[39m,\n",
      "  wilcoxon_padj = \u001b[32mcol_double()\u001b[39m,\n",
      "  wilcoxon_score = \u001b[32mcol_double()\u001b[39m,\n",
      "  `t-test_logfc` = \u001b[32mcol_double()\u001b[39m,\n",
      "  `t-test_padj` = \u001b[32mcol_double()\u001b[39m,\n",
      "  `t-test_score` = \u001b[32mcol_double()\u001b[39m,\n",
      "  `t-test_overestim_var_logfc` = \u001b[32mcol_double()\u001b[39m,\n",
      "  `t-test_overestim_var_padj` = \u001b[32mcol_double()\u001b[39m,\n",
      "  `t-test_overestim_var_score` = \u001b[32mcol_double()\u001b[39m\n",
      ")\n",
      "\n",
      "Warning message:\n",
      "“Unknown columns: `gene_name`”\n"
     ]
    },
    {
     "name": "stdout",
     "output_type": "stream",
     "text": [
      "[1] \"7_vs_3    Gene number: 2852\"\n"
     ]
    },
    {
     "name": "stderr",
     "output_type": "stream",
     "text": [
      "'select()' returned 1:many mapping between keys and columns\n",
      "\n",
      "Parsed with column specification:\n",
      "cols(\n",
      "  gene_names = \u001b[31mcol_character()\u001b[39m,\n",
      "  `4` = \u001b[32mcol_double()\u001b[39m,\n",
      "  `7` = \u001b[32mcol_double()\u001b[39m,\n",
      "  wilcoxon_logfc = \u001b[32mcol_double()\u001b[39m,\n",
      "  wilcoxon_padj = \u001b[32mcol_double()\u001b[39m,\n",
      "  wilcoxon_score = \u001b[32mcol_double()\u001b[39m,\n",
      "  `t-test_logfc` = \u001b[32mcol_double()\u001b[39m,\n",
      "  `t-test_padj` = \u001b[32mcol_double()\u001b[39m,\n",
      "  `t-test_score` = \u001b[32mcol_double()\u001b[39m,\n",
      "  `t-test_overestim_var_logfc` = \u001b[32mcol_double()\u001b[39m,\n",
      "  `t-test_overestim_var_padj` = \u001b[32mcol_double()\u001b[39m,\n",
      "  `t-test_overestim_var_score` = \u001b[32mcol_double()\u001b[39m\n",
      ")\n",
      "\n",
      "Warning message:\n",
      "“Unknown columns: `gene_name`”\n"
     ]
    },
    {
     "name": "stdout",
     "output_type": "stream",
     "text": [
      "[1] \"7_vs_4    Gene number: 1579\"\n"
     ]
    },
    {
     "name": "stderr",
     "output_type": "stream",
     "text": [
      "'select()' returned 1:many mapping between keys and columns\n",
      "\n",
      "Parsed with column specification:\n",
      "cols(\n",
      "  gene_names = \u001b[31mcol_character()\u001b[39m,\n",
      "  `5` = \u001b[32mcol_double()\u001b[39m,\n",
      "  `7` = \u001b[32mcol_double()\u001b[39m,\n",
      "  wilcoxon_logfc = \u001b[32mcol_double()\u001b[39m,\n",
      "  wilcoxon_padj = \u001b[32mcol_double()\u001b[39m,\n",
      "  wilcoxon_score = \u001b[32mcol_double()\u001b[39m,\n",
      "  `t-test_logfc` = \u001b[32mcol_double()\u001b[39m,\n",
      "  `t-test_padj` = \u001b[32mcol_double()\u001b[39m,\n",
      "  `t-test_score` = \u001b[32mcol_double()\u001b[39m,\n",
      "  `t-test_overestim_var_logfc` = \u001b[32mcol_double()\u001b[39m,\n",
      "  `t-test_overestim_var_padj` = \u001b[32mcol_double()\u001b[39m,\n",
      "  `t-test_overestim_var_score` = \u001b[32mcol_double()\u001b[39m\n",
      ")\n",
      "\n",
      "Warning message:\n",
      "“Unknown columns: `gene_name`”\n"
     ]
    },
    {
     "name": "stdout",
     "output_type": "stream",
     "text": [
      "[1] \"7_vs_5    Gene number: 1535\"\n"
     ]
    },
    {
     "name": "stderr",
     "output_type": "stream",
     "text": [
      "'select()' returned 1:many mapping between keys and columns\n",
      "\n",
      "Parsed with column specification:\n",
      "cols(\n",
      "  gene_names = \u001b[31mcol_character()\u001b[39m,\n",
      "  `6` = \u001b[32mcol_double()\u001b[39m,\n",
      "  `7` = \u001b[32mcol_double()\u001b[39m,\n",
      "  wilcoxon_logfc = \u001b[32mcol_double()\u001b[39m,\n",
      "  wilcoxon_padj = \u001b[32mcol_double()\u001b[39m,\n",
      "  wilcoxon_score = \u001b[32mcol_double()\u001b[39m,\n",
      "  `t-test_logfc` = \u001b[32mcol_double()\u001b[39m,\n",
      "  `t-test_padj` = \u001b[32mcol_double()\u001b[39m,\n",
      "  `t-test_score` = \u001b[32mcol_double()\u001b[39m,\n",
      "  `t-test_overestim_var_logfc` = \u001b[32mcol_double()\u001b[39m,\n",
      "  `t-test_overestim_var_padj` = \u001b[32mcol_double()\u001b[39m,\n",
      "  `t-test_overestim_var_score` = \u001b[32mcol_double()\u001b[39m\n",
      ")\n",
      "\n",
      "Warning message:\n",
      "“Unknown columns: `gene_name`”\n"
     ]
    },
    {
     "name": "stdout",
     "output_type": "stream",
     "text": [
      "[1] \"7_vs_6    Gene number: 1418\"\n"
     ]
    },
    {
     "name": "stderr",
     "output_type": "stream",
     "text": [
      "'select()' returned 1:many mapping between keys and columns\n",
      "\n",
      "Parsed with column specification:\n",
      "cols(\n",
      "  gene_names = \u001b[31mcol_character()\u001b[39m,\n",
      "  `7` = \u001b[32mcol_double()\u001b[39m,\n",
      "  `8` = \u001b[32mcol_double()\u001b[39m,\n",
      "  wilcoxon_logfc = \u001b[32mcol_double()\u001b[39m,\n",
      "  wilcoxon_padj = \u001b[32mcol_double()\u001b[39m,\n",
      "  wilcoxon_score = \u001b[32mcol_double()\u001b[39m,\n",
      "  `t-test_logfc` = \u001b[32mcol_double()\u001b[39m,\n",
      "  `t-test_padj` = \u001b[32mcol_double()\u001b[39m,\n",
      "  `t-test_score` = \u001b[32mcol_double()\u001b[39m,\n",
      "  `t-test_overestim_var_logfc` = \u001b[32mcol_double()\u001b[39m,\n",
      "  `t-test_overestim_var_padj` = \u001b[32mcol_double()\u001b[39m,\n",
      "  `t-test_overestim_var_score` = \u001b[32mcol_double()\u001b[39m\n",
      ")\n",
      "\n",
      "Warning message:\n",
      "“Unknown columns: `gene_name`”\n"
     ]
    },
    {
     "name": "stdout",
     "output_type": "stream",
     "text": [
      "[1] \"7_vs_8    Gene number: 4488\"\n"
     ]
    },
    {
     "name": "stderr",
     "output_type": "stream",
     "text": [
      "'select()' returned 1:many mapping between keys and columns\n",
      "\n",
      "Parsed with column specification:\n",
      "cols(\n",
      "  gene_names = \u001b[31mcol_character()\u001b[39m,\n",
      "  `7` = \u001b[32mcol_double()\u001b[39m,\n",
      "  `9` = \u001b[32mcol_double()\u001b[39m,\n",
      "  wilcoxon_logfc = \u001b[32mcol_double()\u001b[39m,\n",
      "  wilcoxon_padj = \u001b[32mcol_double()\u001b[39m,\n",
      "  wilcoxon_score = \u001b[32mcol_double()\u001b[39m,\n",
      "  `t-test_logfc` = \u001b[32mcol_double()\u001b[39m,\n",
      "  `t-test_padj` = \u001b[32mcol_double()\u001b[39m,\n",
      "  `t-test_score` = \u001b[32mcol_double()\u001b[39m,\n",
      "  `t-test_overestim_var_logfc` = \u001b[32mcol_double()\u001b[39m,\n",
      "  `t-test_overestim_var_padj` = \u001b[32mcol_double()\u001b[39m,\n",
      "  `t-test_overestim_var_score` = \u001b[32mcol_double()\u001b[39m\n",
      ")\n",
      "\n",
      "Warning message:\n",
      "“Unknown columns: `gene_name`”\n"
     ]
    },
    {
     "name": "stdout",
     "output_type": "stream",
     "text": [
      "[1] \"7_vs_9    Gene number: 3089\"\n"
     ]
    },
    {
     "name": "stderr",
     "output_type": "stream",
     "text": [
      "'select()' returned 1:many mapping between keys and columns\n",
      "\n",
      "Parsed with column specification:\n",
      "cols(\n",
      "  gene_names = \u001b[31mcol_character()\u001b[39m,\n",
      "  `0` = \u001b[32mcol_double()\u001b[39m,\n",
      "  `8` = \u001b[32mcol_double()\u001b[39m,\n",
      "  wilcoxon_logfc = \u001b[32mcol_double()\u001b[39m,\n",
      "  wilcoxon_padj = \u001b[32mcol_double()\u001b[39m,\n",
      "  wilcoxon_score = \u001b[32mcol_double()\u001b[39m,\n",
      "  `t-test_logfc` = \u001b[32mcol_double()\u001b[39m,\n",
      "  `t-test_padj` = \u001b[32mcol_double()\u001b[39m,\n",
      "  `t-test_score` = \u001b[32mcol_double()\u001b[39m,\n",
      "  `t-test_overestim_var_logfc` = \u001b[32mcol_double()\u001b[39m,\n",
      "  `t-test_overestim_var_padj` = \u001b[32mcol_double()\u001b[39m,\n",
      "  `t-test_overestim_var_score` = \u001b[32mcol_double()\u001b[39m\n",
      ")\n",
      "\n",
      "Warning message:\n",
      "“Unknown columns: `gene_name`”\n"
     ]
    },
    {
     "name": "stdout",
     "output_type": "stream",
     "text": [
      "[1] \"8_vs_0    Gene number: 1664\"\n"
     ]
    },
    {
     "name": "stderr",
     "output_type": "stream",
     "text": [
      "'select()' returned 1:many mapping between keys and columns\n",
      "\n",
      "Parsed with column specification:\n",
      "cols(\n",
      "  gene_names = \u001b[31mcol_character()\u001b[39m,\n",
      "  `1` = \u001b[32mcol_double()\u001b[39m,\n",
      "  `8` = \u001b[32mcol_double()\u001b[39m,\n",
      "  wilcoxon_logfc = \u001b[32mcol_double()\u001b[39m,\n",
      "  wilcoxon_padj = \u001b[32mcol_double()\u001b[39m,\n",
      "  wilcoxon_score = \u001b[32mcol_double()\u001b[39m,\n",
      "  `t-test_logfc` = \u001b[32mcol_double()\u001b[39m,\n",
      "  `t-test_padj` = \u001b[32mcol_double()\u001b[39m,\n",
      "  `t-test_score` = \u001b[32mcol_double()\u001b[39m,\n",
      "  `t-test_overestim_var_logfc` = \u001b[32mcol_double()\u001b[39m,\n",
      "  `t-test_overestim_var_padj` = \u001b[32mcol_double()\u001b[39m,\n",
      "  `t-test_overestim_var_score` = \u001b[32mcol_double()\u001b[39m\n",
      ")\n",
      "\n",
      "Warning message:\n",
      "“Unknown columns: `gene_name`”\n"
     ]
    },
    {
     "name": "stdout",
     "output_type": "stream",
     "text": [
      "[1] \"8_vs_1    Gene number: 1352\"\n"
     ]
    },
    {
     "name": "stderr",
     "output_type": "stream",
     "text": [
      "'select()' returned 1:many mapping between keys and columns\n",
      "\n",
      "Parsed with column specification:\n",
      "cols(\n",
      "  gene_names = \u001b[31mcol_character()\u001b[39m,\n",
      "  `10` = \u001b[32mcol_double()\u001b[39m,\n",
      "  `8` = \u001b[32mcol_double()\u001b[39m,\n",
      "  wilcoxon_logfc = \u001b[32mcol_double()\u001b[39m,\n",
      "  wilcoxon_padj = \u001b[32mcol_double()\u001b[39m,\n",
      "  wilcoxon_score = \u001b[32mcol_double()\u001b[39m,\n",
      "  `t-test_logfc` = \u001b[32mcol_double()\u001b[39m,\n",
      "  `t-test_padj` = \u001b[32mcol_double()\u001b[39m,\n",
      "  `t-test_score` = \u001b[32mcol_double()\u001b[39m,\n",
      "  `t-test_overestim_var_logfc` = \u001b[32mcol_double()\u001b[39m,\n",
      "  `t-test_overestim_var_padj` = \u001b[32mcol_double()\u001b[39m,\n",
      "  `t-test_overestim_var_score` = \u001b[32mcol_double()\u001b[39m\n",
      ")\n",
      "\n",
      "Warning message:\n",
      "“Unknown columns: `gene_name`”\n"
     ]
    },
    {
     "name": "stdout",
     "output_type": "stream",
     "text": [
      "[1] \"8_vs_10    Gene number: 1208\"\n"
     ]
    },
    {
     "name": "stderr",
     "output_type": "stream",
     "text": [
      "'select()' returned 1:many mapping between keys and columns\n",
      "\n",
      "Parsed with column specification:\n",
      "cols(\n",
      "  gene_names = \u001b[31mcol_character()\u001b[39m,\n",
      "  `2` = \u001b[32mcol_double()\u001b[39m,\n",
      "  `8` = \u001b[32mcol_double()\u001b[39m,\n",
      "  wilcoxon_logfc = \u001b[32mcol_double()\u001b[39m,\n",
      "  wilcoxon_padj = \u001b[32mcol_double()\u001b[39m,\n",
      "  wilcoxon_score = \u001b[32mcol_double()\u001b[39m,\n",
      "  `t-test_logfc` = \u001b[32mcol_double()\u001b[39m,\n",
      "  `t-test_padj` = \u001b[32mcol_double()\u001b[39m,\n",
      "  `t-test_score` = \u001b[32mcol_double()\u001b[39m,\n",
      "  `t-test_overestim_var_logfc` = \u001b[32mcol_double()\u001b[39m,\n",
      "  `t-test_overestim_var_padj` = \u001b[32mcol_double()\u001b[39m,\n",
      "  `t-test_overestim_var_score` = \u001b[32mcol_double()\u001b[39m\n",
      ")\n",
      "\n",
      "Warning message:\n",
      "“Unknown columns: `gene_name`”\n"
     ]
    },
    {
     "name": "stdout",
     "output_type": "stream",
     "text": [
      "[1] \"8_vs_2    Gene number: 2195\"\n"
     ]
    },
    {
     "name": "stderr",
     "output_type": "stream",
     "text": [
      "'select()' returned 1:many mapping between keys and columns\n",
      "\n",
      "Parsed with column specification:\n",
      "cols(\n",
      "  gene_names = \u001b[31mcol_character()\u001b[39m,\n",
      "  `3` = \u001b[32mcol_double()\u001b[39m,\n",
      "  `8` = \u001b[32mcol_double()\u001b[39m,\n",
      "  wilcoxon_logfc = \u001b[32mcol_double()\u001b[39m,\n",
      "  wilcoxon_padj = \u001b[32mcol_double()\u001b[39m,\n",
      "  wilcoxon_score = \u001b[32mcol_double()\u001b[39m,\n",
      "  `t-test_logfc` = \u001b[32mcol_double()\u001b[39m,\n",
      "  `t-test_padj` = \u001b[32mcol_double()\u001b[39m,\n",
      "  `t-test_score` = \u001b[32mcol_double()\u001b[39m,\n",
      "  `t-test_overestim_var_logfc` = \u001b[32mcol_double()\u001b[39m,\n",
      "  `t-test_overestim_var_padj` = \u001b[32mcol_double()\u001b[39m,\n",
      "  `t-test_overestim_var_score` = \u001b[32mcol_double()\u001b[39m\n",
      ")\n",
      "\n",
      "Warning message:\n",
      "“Unknown columns: `gene_name`”\n"
     ]
    },
    {
     "name": "stdout",
     "output_type": "stream",
     "text": [
      "[1] \"8_vs_3    Gene number: 2679\"\n"
     ]
    },
    {
     "name": "stderr",
     "output_type": "stream",
     "text": [
      "'select()' returned 1:many mapping between keys and columns\n",
      "\n",
      "Parsed with column specification:\n",
      "cols(\n",
      "  gene_names = \u001b[31mcol_character()\u001b[39m,\n",
      "  `4` = \u001b[32mcol_double()\u001b[39m,\n",
      "  `8` = \u001b[32mcol_double()\u001b[39m,\n",
      "  wilcoxon_logfc = \u001b[32mcol_double()\u001b[39m,\n",
      "  wilcoxon_padj = \u001b[32mcol_double()\u001b[39m,\n",
      "  wilcoxon_score = \u001b[32mcol_double()\u001b[39m,\n",
      "  `t-test_logfc` = \u001b[32mcol_double()\u001b[39m,\n",
      "  `t-test_padj` = \u001b[32mcol_double()\u001b[39m,\n",
      "  `t-test_score` = \u001b[32mcol_double()\u001b[39m,\n",
      "  `t-test_overestim_var_logfc` = \u001b[32mcol_double()\u001b[39m,\n",
      "  `t-test_overestim_var_padj` = \u001b[32mcol_double()\u001b[39m,\n",
      "  `t-test_overestim_var_score` = \u001b[32mcol_double()\u001b[39m\n",
      ")\n",
      "\n",
      "Warning message:\n",
      "“Unknown columns: `gene_name`”\n"
     ]
    },
    {
     "name": "stdout",
     "output_type": "stream",
     "text": [
      "[1] \"8_vs_4    Gene number: 1545\"\n"
     ]
    },
    {
     "name": "stderr",
     "output_type": "stream",
     "text": [
      "'select()' returned 1:many mapping between keys and columns\n",
      "\n",
      "Parsed with column specification:\n",
      "cols(\n",
      "  gene_names = \u001b[31mcol_character()\u001b[39m,\n",
      "  `5` = \u001b[32mcol_double()\u001b[39m,\n",
      "  `8` = \u001b[32mcol_double()\u001b[39m,\n",
      "  wilcoxon_logfc = \u001b[32mcol_double()\u001b[39m,\n",
      "  wilcoxon_padj = \u001b[32mcol_double()\u001b[39m,\n",
      "  wilcoxon_score = \u001b[32mcol_double()\u001b[39m,\n",
      "  `t-test_logfc` = \u001b[32mcol_double()\u001b[39m,\n",
      "  `t-test_padj` = \u001b[32mcol_double()\u001b[39m,\n",
      "  `t-test_score` = \u001b[32mcol_double()\u001b[39m,\n",
      "  `t-test_overestim_var_logfc` = \u001b[32mcol_double()\u001b[39m,\n",
      "  `t-test_overestim_var_padj` = \u001b[32mcol_double()\u001b[39m,\n",
      "  `t-test_overestim_var_score` = \u001b[32mcol_double()\u001b[39m\n",
      ")\n",
      "\n",
      "Warning message:\n",
      "“Unknown columns: `gene_name`”\n"
     ]
    },
    {
     "name": "stdout",
     "output_type": "stream",
     "text": [
      "[1] \"8_vs_5    Gene number: 1427\"\n"
     ]
    },
    {
     "name": "stderr",
     "output_type": "stream",
     "text": [
      "'select()' returned 1:many mapping between keys and columns\n",
      "\n",
      "Parsed with column specification:\n",
      "cols(\n",
      "  gene_names = \u001b[31mcol_character()\u001b[39m,\n",
      "  `6` = \u001b[32mcol_double()\u001b[39m,\n",
      "  `8` = \u001b[32mcol_double()\u001b[39m,\n",
      "  wilcoxon_logfc = \u001b[32mcol_double()\u001b[39m,\n",
      "  wilcoxon_padj = \u001b[32mcol_double()\u001b[39m,\n",
      "  wilcoxon_score = \u001b[32mcol_double()\u001b[39m,\n",
      "  `t-test_logfc` = \u001b[32mcol_double()\u001b[39m,\n",
      "  `t-test_padj` = \u001b[32mcol_double()\u001b[39m,\n",
      "  `t-test_score` = \u001b[32mcol_double()\u001b[39m,\n",
      "  `t-test_overestim_var_logfc` = \u001b[32mcol_double()\u001b[39m,\n",
      "  `t-test_overestim_var_padj` = \u001b[32mcol_double()\u001b[39m,\n",
      "  `t-test_overestim_var_score` = \u001b[32mcol_double()\u001b[39m\n",
      ")\n",
      "\n",
      "Warning message:\n",
      "“Unknown columns: `gene_name`”\n"
     ]
    },
    {
     "name": "stdout",
     "output_type": "stream",
     "text": [
      "[1] \"8_vs_6    Gene number: 1536\"\n"
     ]
    },
    {
     "name": "stderr",
     "output_type": "stream",
     "text": [
      "'select()' returned 1:many mapping between keys and columns\n",
      "\n",
      "Parsed with column specification:\n",
      "cols(\n",
      "  gene_names = \u001b[31mcol_character()\u001b[39m,\n",
      "  `7` = \u001b[32mcol_double()\u001b[39m,\n",
      "  `8` = \u001b[32mcol_double()\u001b[39m,\n",
      "  wilcoxon_logfc = \u001b[32mcol_double()\u001b[39m,\n",
      "  wilcoxon_padj = \u001b[32mcol_double()\u001b[39m,\n",
      "  wilcoxon_score = \u001b[32mcol_double()\u001b[39m,\n",
      "  `t-test_logfc` = \u001b[32mcol_double()\u001b[39m,\n",
      "  `t-test_padj` = \u001b[32mcol_double()\u001b[39m,\n",
      "  `t-test_score` = \u001b[32mcol_double()\u001b[39m,\n",
      "  `t-test_overestim_var_logfc` = \u001b[32mcol_double()\u001b[39m,\n",
      "  `t-test_overestim_var_padj` = \u001b[32mcol_double()\u001b[39m,\n",
      "  `t-test_overestim_var_score` = \u001b[32mcol_double()\u001b[39m\n",
      ")\n",
      "\n",
      "Warning message:\n",
      "“Unknown columns: `gene_name`”\n"
     ]
    },
    {
     "name": "stdout",
     "output_type": "stream",
     "text": [
      "[1] \"8_vs_7    Gene number: 1345\"\n"
     ]
    },
    {
     "name": "stderr",
     "output_type": "stream",
     "text": [
      "'select()' returned 1:many mapping between keys and columns\n",
      "\n",
      "Parsed with column specification:\n",
      "cols(\n",
      "  gene_names = \u001b[31mcol_character()\u001b[39m,\n",
      "  `8` = \u001b[32mcol_double()\u001b[39m,\n",
      "  `9` = \u001b[32mcol_double()\u001b[39m,\n",
      "  wilcoxon_logfc = \u001b[32mcol_double()\u001b[39m,\n",
      "  wilcoxon_padj = \u001b[32mcol_double()\u001b[39m,\n",
      "  wilcoxon_score = \u001b[32mcol_double()\u001b[39m,\n",
      "  `t-test_logfc` = \u001b[32mcol_double()\u001b[39m,\n",
      "  `t-test_padj` = \u001b[32mcol_double()\u001b[39m,\n",
      "  `t-test_score` = \u001b[32mcol_double()\u001b[39m,\n",
      "  `t-test_overestim_var_logfc` = \u001b[32mcol_double()\u001b[39m,\n",
      "  `t-test_overestim_var_padj` = \u001b[32mcol_double()\u001b[39m,\n",
      "  `t-test_overestim_var_score` = \u001b[32mcol_double()\u001b[39m\n",
      ")\n",
      "\n",
      "Warning message:\n",
      "“Unknown columns: `gene_name`”\n"
     ]
    },
    {
     "name": "stdout",
     "output_type": "stream",
     "text": [
      "[1] \"8_vs_9    Gene number: 2828\"\n"
     ]
    },
    {
     "name": "stderr",
     "output_type": "stream",
     "text": [
      "'select()' returned 1:many mapping between keys and columns\n",
      "\n",
      "Parsed with column specification:\n",
      "cols(\n",
      "  gene_names = \u001b[31mcol_character()\u001b[39m,\n",
      "  `0` = \u001b[32mcol_double()\u001b[39m,\n",
      "  `9` = \u001b[32mcol_double()\u001b[39m,\n",
      "  wilcoxon_logfc = \u001b[32mcol_double()\u001b[39m,\n",
      "  wilcoxon_padj = \u001b[32mcol_double()\u001b[39m,\n",
      "  wilcoxon_score = \u001b[32mcol_double()\u001b[39m,\n",
      "  `t-test_logfc` = \u001b[32mcol_double()\u001b[39m,\n",
      "  `t-test_padj` = \u001b[32mcol_double()\u001b[39m,\n",
      "  `t-test_score` = \u001b[32mcol_double()\u001b[39m,\n",
      "  `t-test_overestim_var_logfc` = \u001b[32mcol_double()\u001b[39m,\n",
      "  `t-test_overestim_var_padj` = \u001b[32mcol_double()\u001b[39m,\n",
      "  `t-test_overestim_var_score` = \u001b[32mcol_double()\u001b[39m\n",
      ")\n",
      "\n",
      "Warning message:\n",
      "“Unknown columns: `gene_name`”\n"
     ]
    },
    {
     "name": "stdout",
     "output_type": "stream",
     "text": [
      "[1] \"9_vs_0    Gene number: 1433\"\n"
     ]
    },
    {
     "name": "stderr",
     "output_type": "stream",
     "text": [
      "'select()' returned 1:many mapping between keys and columns\n",
      "\n",
      "Parsed with column specification:\n",
      "cols(\n",
      "  gene_names = \u001b[31mcol_character()\u001b[39m,\n",
      "  `1` = \u001b[32mcol_double()\u001b[39m,\n",
      "  `9` = \u001b[32mcol_double()\u001b[39m,\n",
      "  wilcoxon_logfc = \u001b[32mcol_double()\u001b[39m,\n",
      "  wilcoxon_padj = \u001b[32mcol_double()\u001b[39m,\n",
      "  wilcoxon_score = \u001b[32mcol_double()\u001b[39m,\n",
      "  `t-test_logfc` = \u001b[32mcol_double()\u001b[39m,\n",
      "  `t-test_padj` = \u001b[32mcol_double()\u001b[39m,\n",
      "  `t-test_score` = \u001b[32mcol_double()\u001b[39m,\n",
      "  `t-test_overestim_var_logfc` = \u001b[32mcol_double()\u001b[39m,\n",
      "  `t-test_overestim_var_padj` = \u001b[32mcol_double()\u001b[39m,\n",
      "  `t-test_overestim_var_score` = \u001b[32mcol_double()\u001b[39m\n",
      ")\n",
      "\n",
      "Warning message:\n",
      "“Unknown columns: `gene_name`”\n"
     ]
    },
    {
     "name": "stdout",
     "output_type": "stream",
     "text": [
      "[1] \"9_vs_1    Gene number: 1699\"\n"
     ]
    },
    {
     "name": "stderr",
     "output_type": "stream",
     "text": [
      "'select()' returned 1:many mapping between keys and columns\n",
      "\n",
      "Parsed with column specification:\n",
      "cols(\n",
      "  gene_names = \u001b[31mcol_character()\u001b[39m,\n",
      "  `10` = \u001b[32mcol_double()\u001b[39m,\n",
      "  `9` = \u001b[32mcol_double()\u001b[39m,\n",
      "  wilcoxon_logfc = \u001b[32mcol_double()\u001b[39m,\n",
      "  wilcoxon_padj = \u001b[32mcol_double()\u001b[39m,\n",
      "  wilcoxon_score = \u001b[32mcol_double()\u001b[39m,\n",
      "  `t-test_logfc` = \u001b[32mcol_double()\u001b[39m,\n",
      "  `t-test_padj` = \u001b[32mcol_double()\u001b[39m,\n",
      "  `t-test_score` = \u001b[32mcol_double()\u001b[39m,\n",
      "  `t-test_overestim_var_logfc` = \u001b[32mcol_double()\u001b[39m,\n",
      "  `t-test_overestim_var_padj` = \u001b[32mcol_double()\u001b[39m,\n",
      "  `t-test_overestim_var_score` = \u001b[32mcol_double()\u001b[39m\n",
      ")\n",
      "\n",
      "Warning message:\n",
      "“Unknown columns: `gene_name`”\n"
     ]
    },
    {
     "name": "stdout",
     "output_type": "stream",
     "text": [
      "[1] \"9_vs_10    Gene number: 1370\"\n"
     ]
    },
    {
     "name": "stderr",
     "output_type": "stream",
     "text": [
      "'select()' returned 1:many mapping between keys and columns\n",
      "\n",
      "Parsed with column specification:\n",
      "cols(\n",
      "  gene_names = \u001b[31mcol_character()\u001b[39m,\n",
      "  `2` = \u001b[32mcol_double()\u001b[39m,\n",
      "  `9` = \u001b[32mcol_double()\u001b[39m,\n",
      "  wilcoxon_logfc = \u001b[32mcol_double()\u001b[39m,\n",
      "  wilcoxon_padj = \u001b[32mcol_double()\u001b[39m,\n",
      "  wilcoxon_score = \u001b[32mcol_double()\u001b[39m,\n",
      "  `t-test_logfc` = \u001b[32mcol_double()\u001b[39m,\n",
      "  `t-test_padj` = \u001b[32mcol_double()\u001b[39m,\n",
      "  `t-test_score` = \u001b[32mcol_double()\u001b[39m,\n",
      "  `t-test_overestim_var_logfc` = \u001b[32mcol_double()\u001b[39m,\n",
      "  `t-test_overestim_var_padj` = \u001b[32mcol_double()\u001b[39m,\n",
      "  `t-test_overestim_var_score` = \u001b[32mcol_double()\u001b[39m\n",
      ")\n",
      "\n",
      "Warning message:\n",
      "“Unknown columns: `gene_name`”\n"
     ]
    },
    {
     "name": "stdout",
     "output_type": "stream",
     "text": [
      "[1] \"9_vs_2    Gene number: 2013\"\n"
     ]
    },
    {
     "name": "stderr",
     "output_type": "stream",
     "text": [
      "'select()' returned 1:many mapping between keys and columns\n",
      "\n",
      "Parsed with column specification:\n",
      "cols(\n",
      "  gene_names = \u001b[31mcol_character()\u001b[39m,\n",
      "  `3` = \u001b[32mcol_double()\u001b[39m,\n",
      "  `9` = \u001b[32mcol_double()\u001b[39m,\n",
      "  wilcoxon_logfc = \u001b[32mcol_double()\u001b[39m,\n",
      "  wilcoxon_padj = \u001b[32mcol_double()\u001b[39m,\n",
      "  wilcoxon_score = \u001b[32mcol_double()\u001b[39m,\n",
      "  `t-test_logfc` = \u001b[32mcol_double()\u001b[39m,\n",
      "  `t-test_padj` = \u001b[32mcol_double()\u001b[39m,\n",
      "  `t-test_score` = \u001b[32mcol_double()\u001b[39m,\n",
      "  `t-test_overestim_var_logfc` = \u001b[32mcol_double()\u001b[39m,\n",
      "  `t-test_overestim_var_padj` = \u001b[32mcol_double()\u001b[39m,\n",
      "  `t-test_overestim_var_score` = \u001b[32mcol_double()\u001b[39m\n",
      ")\n",
      "\n",
      "Warning message:\n",
      "“Unknown columns: `gene_name`”\n"
     ]
    },
    {
     "name": "stdout",
     "output_type": "stream",
     "text": [
      "[1] \"9_vs_3    Gene number: 1138\"\n"
     ]
    },
    {
     "name": "stderr",
     "output_type": "stream",
     "text": [
      "'select()' returned 1:many mapping between keys and columns\n",
      "\n",
      "Parsed with column specification:\n",
      "cols(\n",
      "  gene_names = \u001b[31mcol_character()\u001b[39m,\n",
      "  `4` = \u001b[32mcol_double()\u001b[39m,\n",
      "  `9` = \u001b[32mcol_double()\u001b[39m,\n",
      "  wilcoxon_logfc = \u001b[32mcol_double()\u001b[39m,\n",
      "  wilcoxon_padj = \u001b[32mcol_double()\u001b[39m,\n",
      "  wilcoxon_score = \u001b[32mcol_double()\u001b[39m,\n",
      "  `t-test_logfc` = \u001b[32mcol_double()\u001b[39m,\n",
      "  `t-test_padj` = \u001b[32mcol_double()\u001b[39m,\n",
      "  `t-test_score` = \u001b[32mcol_double()\u001b[39m,\n",
      "  `t-test_overestim_var_logfc` = \u001b[32mcol_double()\u001b[39m,\n",
      "  `t-test_overestim_var_padj` = \u001b[32mcol_double()\u001b[39m,\n",
      "  `t-test_overestim_var_score` = \u001b[32mcol_double()\u001b[39m\n",
      ")\n",
      "\n",
      "Warning message:\n",
      "“Unknown columns: `gene_name`”\n"
     ]
    },
    {
     "name": "stdout",
     "output_type": "stream",
     "text": [
      "[1] \"9_vs_4    Gene number: 1761\"\n"
     ]
    },
    {
     "name": "stderr",
     "output_type": "stream",
     "text": [
      "'select()' returned 1:many mapping between keys and columns\n",
      "\n",
      "Parsed with column specification:\n",
      "cols(\n",
      "  gene_names = \u001b[31mcol_character()\u001b[39m,\n",
      "  `5` = \u001b[32mcol_double()\u001b[39m,\n",
      "  `9` = \u001b[32mcol_double()\u001b[39m,\n",
      "  wilcoxon_logfc = \u001b[32mcol_double()\u001b[39m,\n",
      "  wilcoxon_padj = \u001b[32mcol_double()\u001b[39m,\n",
      "  wilcoxon_score = \u001b[32mcol_double()\u001b[39m,\n",
      "  `t-test_logfc` = \u001b[32mcol_double()\u001b[39m,\n",
      "  `t-test_padj` = \u001b[32mcol_double()\u001b[39m,\n",
      "  `t-test_score` = \u001b[32mcol_double()\u001b[39m,\n",
      "  `t-test_overestim_var_logfc` = \u001b[32mcol_double()\u001b[39m,\n",
      "  `t-test_overestim_var_padj` = \u001b[32mcol_double()\u001b[39m,\n",
      "  `t-test_overestim_var_score` = \u001b[32mcol_double()\u001b[39m\n",
      ")\n",
      "\n",
      "Warning message:\n",
      "“Unknown columns: `gene_name`”\n"
     ]
    },
    {
     "name": "stdout",
     "output_type": "stream",
     "text": [
      "[1] \"9_vs_5    Gene number: 1750\"\n"
     ]
    },
    {
     "name": "stderr",
     "output_type": "stream",
     "text": [
      "'select()' returned 1:many mapping between keys and columns\n",
      "\n",
      "Parsed with column specification:\n",
      "cols(\n",
      "  gene_names = \u001b[31mcol_character()\u001b[39m,\n",
      "  `6` = \u001b[32mcol_double()\u001b[39m,\n",
      "  `9` = \u001b[32mcol_double()\u001b[39m,\n",
      "  wilcoxon_logfc = \u001b[32mcol_double()\u001b[39m,\n",
      "  wilcoxon_padj = \u001b[32mcol_double()\u001b[39m,\n",
      "  wilcoxon_score = \u001b[32mcol_double()\u001b[39m,\n",
      "  `t-test_logfc` = \u001b[32mcol_double()\u001b[39m,\n",
      "  `t-test_padj` = \u001b[32mcol_double()\u001b[39m,\n",
      "  `t-test_score` = \u001b[32mcol_double()\u001b[39m,\n",
      "  `t-test_overestim_var_logfc` = \u001b[32mcol_double()\u001b[39m,\n",
      "  `t-test_overestim_var_padj` = \u001b[32mcol_double()\u001b[39m,\n",
      "  `t-test_overestim_var_score` = \u001b[32mcol_double()\u001b[39m\n",
      ")\n",
      "\n",
      "Warning message:\n",
      "“Unknown columns: `gene_name`”\n"
     ]
    },
    {
     "name": "stdout",
     "output_type": "stream",
     "text": [
      "[1] \"9_vs_6    Gene number: 1602\"\n"
     ]
    },
    {
     "name": "stderr",
     "output_type": "stream",
     "text": [
      "'select()' returned 1:many mapping between keys and columns\n",
      "\n",
      "Parsed with column specification:\n",
      "cols(\n",
      "  gene_names = \u001b[31mcol_character()\u001b[39m,\n",
      "  `7` = \u001b[32mcol_double()\u001b[39m,\n",
      "  `9` = \u001b[32mcol_double()\u001b[39m,\n",
      "  wilcoxon_logfc = \u001b[32mcol_double()\u001b[39m,\n",
      "  wilcoxon_padj = \u001b[32mcol_double()\u001b[39m,\n",
      "  wilcoxon_score = \u001b[32mcol_double()\u001b[39m,\n",
      "  `t-test_logfc` = \u001b[32mcol_double()\u001b[39m,\n",
      "  `t-test_padj` = \u001b[32mcol_double()\u001b[39m,\n",
      "  `t-test_score` = \u001b[32mcol_double()\u001b[39m,\n",
      "  `t-test_overestim_var_logfc` = \u001b[32mcol_double()\u001b[39m,\n",
      "  `t-test_overestim_var_padj` = \u001b[32mcol_double()\u001b[39m,\n",
      "  `t-test_overestim_var_score` = \u001b[32mcol_double()\u001b[39m\n",
      ")\n",
      "\n",
      "Warning message:\n",
      "“Unknown columns: `gene_name`”\n"
     ]
    },
    {
     "name": "stdout",
     "output_type": "stream",
     "text": [
      "[1] \"9_vs_7    Gene number: 1419\"\n"
     ]
    },
    {
     "name": "stderr",
     "output_type": "stream",
     "text": [
      "'select()' returned 1:many mapping between keys and columns\n",
      "\n",
      "Parsed with column specification:\n",
      "cols(\n",
      "  gene_names = \u001b[31mcol_character()\u001b[39m,\n",
      "  `8` = \u001b[32mcol_double()\u001b[39m,\n",
      "  `9` = \u001b[32mcol_double()\u001b[39m,\n",
      "  wilcoxon_logfc = \u001b[32mcol_double()\u001b[39m,\n",
      "  wilcoxon_padj = \u001b[32mcol_double()\u001b[39m,\n",
      "  wilcoxon_score = \u001b[32mcol_double()\u001b[39m,\n",
      "  `t-test_logfc` = \u001b[32mcol_double()\u001b[39m,\n",
      "  `t-test_padj` = \u001b[32mcol_double()\u001b[39m,\n",
      "  `t-test_score` = \u001b[32mcol_double()\u001b[39m,\n",
      "  `t-test_overestim_var_logfc` = \u001b[32mcol_double()\u001b[39m,\n",
      "  `t-test_overestim_var_padj` = \u001b[32mcol_double()\u001b[39m,\n",
      "  `t-test_overestim_var_score` = \u001b[32mcol_double()\u001b[39m\n",
      ")\n",
      "\n",
      "Warning message:\n",
      "“Unknown columns: `gene_name`”\n"
     ]
    },
    {
     "name": "stdout",
     "output_type": "stream",
     "text": [
      "[1] \"9_vs_8    Gene number: 4433\"\n"
     ]
    },
    {
     "name": "stderr",
     "output_type": "stream",
     "text": [
      "'select()' returned 1:many mapping between keys and columns\n",
      "\n",
      "Parsed with column specification:\n",
      "cols(\n",
      "  gene_names = \u001b[31mcol_character()\u001b[39m,\n",
      "  wilcoxon_logfc = \u001b[32mcol_double()\u001b[39m,\n",
      "  wilcoxon_padj = \u001b[32mcol_double()\u001b[39m,\n",
      "  wilcoxon_score = \u001b[32mcol_double()\u001b[39m,\n",
      "  `t-test_logfc` = \u001b[32mcol_double()\u001b[39m,\n",
      "  `t-test_padj` = \u001b[32mcol_double()\u001b[39m,\n",
      "  `t-test_score` = \u001b[32mcol_double()\u001b[39m,\n",
      "  `t-test_overestim_var_logfc` = \u001b[32mcol_double()\u001b[39m,\n",
      "  `t-test_overestim_var_padj` = \u001b[32mcol_double()\u001b[39m,\n",
      "  `t-test_overestim_var_score` = \u001b[32mcol_double()\u001b[39m,\n",
      "  logreg_score = \u001b[32mcol_double()\u001b[39m\n",
      ")\n",
      "\n",
      "Warning message:\n",
      "“Unknown columns: `gene_name`”\n"
     ]
    },
    {
     "name": "stdout",
     "output_type": "stream",
     "text": [
      "[1] \"0    Gene number: 712\"\n"
     ]
    },
    {
     "name": "stderr",
     "output_type": "stream",
     "text": [
      "'select()' returned 1:many mapping between keys and columns\n",
      "\n",
      "Parsed with column specification:\n",
      "cols(\n",
      "  gene_names = \u001b[31mcol_character()\u001b[39m,\n",
      "  wilcoxon_logfc = \u001b[32mcol_double()\u001b[39m,\n",
      "  wilcoxon_padj = \u001b[32mcol_double()\u001b[39m,\n",
      "  wilcoxon_score = \u001b[32mcol_double()\u001b[39m,\n",
      "  `t-test_logfc` = \u001b[32mcol_double()\u001b[39m,\n",
      "  `t-test_padj` = \u001b[32mcol_double()\u001b[39m,\n",
      "  `t-test_score` = \u001b[32mcol_double()\u001b[39m,\n",
      "  `t-test_overestim_var_logfc` = \u001b[32mcol_double()\u001b[39m,\n",
      "  `t-test_overestim_var_padj` = \u001b[32mcol_double()\u001b[39m,\n",
      "  `t-test_overestim_var_score` = \u001b[32mcol_double()\u001b[39m,\n",
      "  logreg_score = \u001b[32mcol_double()\u001b[39m\n",
      ")\n",
      "\n",
      "Warning message:\n",
      "“Unknown columns: `gene_name`”\n"
     ]
    },
    {
     "name": "stdout",
     "output_type": "stream",
     "text": [
      "[1] \"1    Gene number: 1289\"\n"
     ]
    },
    {
     "name": "stderr",
     "output_type": "stream",
     "text": [
      "'select()' returned many:many mapping between keys and columns\n",
      "\n",
      "Parsed with column specification:\n",
      "cols(\n",
      "  gene_names = \u001b[31mcol_character()\u001b[39m,\n",
      "  wilcoxon_logfc = \u001b[32mcol_double()\u001b[39m,\n",
      "  wilcoxon_padj = \u001b[32mcol_double()\u001b[39m,\n",
      "  wilcoxon_score = \u001b[32mcol_double()\u001b[39m,\n",
      "  `t-test_logfc` = \u001b[32mcol_double()\u001b[39m,\n",
      "  `t-test_padj` = \u001b[32mcol_double()\u001b[39m,\n",
      "  `t-test_score` = \u001b[32mcol_double()\u001b[39m,\n",
      "  `t-test_overestim_var_logfc` = \u001b[32mcol_double()\u001b[39m,\n",
      "  `t-test_overestim_var_padj` = \u001b[32mcol_double()\u001b[39m,\n",
      "  `t-test_overestim_var_score` = \u001b[32mcol_double()\u001b[39m,\n",
      "  logreg_score = \u001b[32mcol_double()\u001b[39m\n",
      ")\n",
      "\n",
      "Warning message:\n",
      "“Unknown columns: `gene_name`”\n"
     ]
    },
    {
     "name": "stdout",
     "output_type": "stream",
     "text": [
      "[1] \"10    Gene number: 2095\"\n"
     ]
    },
    {
     "name": "stderr",
     "output_type": "stream",
     "text": [
      "'select()' returned many:many mapping between keys and columns\n",
      "\n",
      "Parsed with column specification:\n",
      "cols(\n",
      "  gene_names = \u001b[31mcol_character()\u001b[39m,\n",
      "  wilcoxon_logfc = \u001b[32mcol_double()\u001b[39m,\n",
      "  wilcoxon_padj = \u001b[32mcol_double()\u001b[39m,\n",
      "  wilcoxon_score = \u001b[32mcol_double()\u001b[39m,\n",
      "  `t-test_logfc` = \u001b[32mcol_double()\u001b[39m,\n",
      "  `t-test_padj` = \u001b[32mcol_double()\u001b[39m,\n",
      "  `t-test_score` = \u001b[32mcol_double()\u001b[39m,\n",
      "  `t-test_overestim_var_logfc` = \u001b[32mcol_double()\u001b[39m,\n",
      "  `t-test_overestim_var_padj` = \u001b[32mcol_double()\u001b[39m,\n",
      "  `t-test_overestim_var_score` = \u001b[32mcol_double()\u001b[39m,\n",
      "  logreg_score = \u001b[32mcol_double()\u001b[39m\n",
      ")\n",
      "\n",
      "Warning message:\n",
      "“Unknown columns: `gene_name`”\n"
     ]
    },
    {
     "name": "stdout",
     "output_type": "stream",
     "text": [
      "[1] \"2    Gene number: 665\"\n"
     ]
    },
    {
     "name": "stderr",
     "output_type": "stream",
     "text": [
      "'select()' returned many:many mapping between keys and columns\n",
      "\n",
      "Parsed with column specification:\n",
      "cols(\n",
      "  gene_names = \u001b[31mcol_character()\u001b[39m,\n",
      "  wilcoxon_logfc = \u001b[32mcol_double()\u001b[39m,\n",
      "  wilcoxon_padj = \u001b[32mcol_double()\u001b[39m,\n",
      "  wilcoxon_score = \u001b[32mcol_double()\u001b[39m,\n",
      "  `t-test_logfc` = \u001b[32mcol_double()\u001b[39m,\n",
      "  `t-test_padj` = \u001b[32mcol_double()\u001b[39m,\n",
      "  `t-test_score` = \u001b[32mcol_double()\u001b[39m,\n",
      "  `t-test_overestim_var_logfc` = \u001b[32mcol_double()\u001b[39m,\n",
      "  `t-test_overestim_var_padj` = \u001b[32mcol_double()\u001b[39m,\n",
      "  `t-test_overestim_var_score` = \u001b[32mcol_double()\u001b[39m,\n",
      "  logreg_score = \u001b[32mcol_double()\u001b[39m\n",
      ")\n",
      "\n",
      "Warning message:\n",
      "“Unknown columns: `gene_name`”\n"
     ]
    },
    {
     "name": "stdout",
     "output_type": "stream",
     "text": [
      "[1] \"3    Gene number: 1748\"\n"
     ]
    },
    {
     "name": "stderr",
     "output_type": "stream",
     "text": [
      "'select()' returned many:many mapping between keys and columns\n",
      "\n",
      "Parsed with column specification:\n",
      "cols(\n",
      "  gene_names = \u001b[31mcol_character()\u001b[39m,\n",
      "  wilcoxon_logfc = \u001b[32mcol_double()\u001b[39m,\n",
      "  wilcoxon_padj = \u001b[32mcol_double()\u001b[39m,\n",
      "  wilcoxon_score = \u001b[32mcol_double()\u001b[39m,\n",
      "  `t-test_logfc` = \u001b[32mcol_double()\u001b[39m,\n",
      "  `t-test_padj` = \u001b[32mcol_double()\u001b[39m,\n",
      "  `t-test_score` = \u001b[32mcol_double()\u001b[39m,\n",
      "  `t-test_overestim_var_logfc` = \u001b[32mcol_double()\u001b[39m,\n",
      "  `t-test_overestim_var_padj` = \u001b[32mcol_double()\u001b[39m,\n",
      "  `t-test_overestim_var_score` = \u001b[32mcol_double()\u001b[39m,\n",
      "  logreg_score = \u001b[32mcol_double()\u001b[39m\n",
      ")\n",
      "\n",
      "Warning message:\n",
      "“Unknown columns: `gene_name`”\n"
     ]
    },
    {
     "name": "stdout",
     "output_type": "stream",
     "text": [
      "[1] \"4    Gene number: 1582\"\n"
     ]
    },
    {
     "name": "stderr",
     "output_type": "stream",
     "text": [
      "'select()' returned many:many mapping between keys and columns\n",
      "\n",
      "Parsed with column specification:\n",
      "cols(\n",
      "  gene_names = \u001b[31mcol_character()\u001b[39m,\n",
      "  wilcoxon_logfc = \u001b[32mcol_double()\u001b[39m,\n",
      "  wilcoxon_padj = \u001b[32mcol_double()\u001b[39m,\n",
      "  wilcoxon_score = \u001b[32mcol_double()\u001b[39m,\n",
      "  `t-test_logfc` = \u001b[32mcol_double()\u001b[39m,\n",
      "  `t-test_padj` = \u001b[32mcol_double()\u001b[39m,\n",
      "  `t-test_score` = \u001b[32mcol_double()\u001b[39m,\n",
      "  `t-test_overestim_var_logfc` = \u001b[32mcol_double()\u001b[39m,\n",
      "  `t-test_overestim_var_padj` = \u001b[32mcol_double()\u001b[39m,\n",
      "  `t-test_overestim_var_score` = \u001b[32mcol_double()\u001b[39m,\n",
      "  logreg_score = \u001b[32mcol_double()\u001b[39m\n",
      ")\n",
      "\n",
      "Warning message:\n",
      "“Unknown columns: `gene_name`”\n"
     ]
    },
    {
     "name": "stdout",
     "output_type": "stream",
     "text": [
      "[1] \"5    Gene number: 1112\"\n"
     ]
    },
    {
     "name": "stderr",
     "output_type": "stream",
     "text": [
      "'select()' returned many:many mapping between keys and columns\n",
      "\n",
      "Parsed with column specification:\n",
      "cols(\n",
      "  gene_names = \u001b[31mcol_character()\u001b[39m,\n",
      "  wilcoxon_logfc = \u001b[32mcol_double()\u001b[39m,\n",
      "  wilcoxon_padj = \u001b[32mcol_double()\u001b[39m,\n",
      "  wilcoxon_score = \u001b[32mcol_double()\u001b[39m,\n",
      "  `t-test_logfc` = \u001b[32mcol_double()\u001b[39m,\n",
      "  `t-test_padj` = \u001b[32mcol_double()\u001b[39m,\n",
      "  `t-test_score` = \u001b[32mcol_double()\u001b[39m,\n",
      "  `t-test_overestim_var_logfc` = \u001b[32mcol_double()\u001b[39m,\n",
      "  `t-test_overestim_var_padj` = \u001b[32mcol_double()\u001b[39m,\n",
      "  `t-test_overestim_var_score` = \u001b[32mcol_double()\u001b[39m,\n",
      "  logreg_score = \u001b[32mcol_double()\u001b[39m\n",
      ")\n",
      "\n",
      "Warning message:\n",
      "“Unknown columns: `gene_name`”\n"
     ]
    },
    {
     "name": "stdout",
     "output_type": "stream",
     "text": [
      "[1] \"6    Gene number: 3095\"\n"
     ]
    },
    {
     "name": "stderr",
     "output_type": "stream",
     "text": [
      "'select()' returned many:many mapping between keys and columns\n",
      "\n",
      "Parsed with column specification:\n",
      "cols(\n",
      "  gene_names = \u001b[31mcol_character()\u001b[39m,\n",
      "  wilcoxon_logfc = \u001b[32mcol_double()\u001b[39m,\n",
      "  wilcoxon_padj = \u001b[32mcol_double()\u001b[39m,\n",
      "  wilcoxon_score = \u001b[32mcol_double()\u001b[39m,\n",
      "  `t-test_logfc` = \u001b[32mcol_double()\u001b[39m,\n",
      "  `t-test_padj` = \u001b[32mcol_double()\u001b[39m,\n",
      "  `t-test_score` = \u001b[32mcol_double()\u001b[39m,\n",
      "  `t-test_overestim_var_logfc` = \u001b[32mcol_double()\u001b[39m,\n",
      "  `t-test_overestim_var_padj` = \u001b[32mcol_double()\u001b[39m,\n",
      "  `t-test_overestim_var_score` = \u001b[32mcol_double()\u001b[39m,\n",
      "  logreg_score = \u001b[32mcol_double()\u001b[39m\n",
      ")\n",
      "\n",
      "Warning message:\n",
      "“Unknown columns: `gene_name`”\n"
     ]
    },
    {
     "name": "stdout",
     "output_type": "stream",
     "text": [
      "[1] \"7    Gene number: 979\"\n"
     ]
    },
    {
     "name": "stderr",
     "output_type": "stream",
     "text": [
      "'select()' returned many:many mapping between keys and columns\n",
      "\n",
      "Parsed with column specification:\n",
      "cols(\n",
      "  gene_names = \u001b[31mcol_character()\u001b[39m,\n",
      "  wilcoxon_logfc = \u001b[32mcol_double()\u001b[39m,\n",
      "  wilcoxon_padj = \u001b[32mcol_double()\u001b[39m,\n",
      "  wilcoxon_score = \u001b[32mcol_double()\u001b[39m,\n",
      "  `t-test_logfc` = \u001b[32mcol_double()\u001b[39m,\n",
      "  `t-test_padj` = \u001b[32mcol_double()\u001b[39m,\n",
      "  `t-test_score` = \u001b[32mcol_double()\u001b[39m,\n",
      "  `t-test_overestim_var_logfc` = \u001b[32mcol_double()\u001b[39m,\n",
      "  `t-test_overestim_var_padj` = \u001b[32mcol_double()\u001b[39m,\n",
      "  `t-test_overestim_var_score` = \u001b[32mcol_double()\u001b[39m,\n",
      "  logreg_score = \u001b[32mcol_double()\u001b[39m\n",
      ")\n",
      "\n",
      "Warning message:\n",
      "“Unknown columns: `gene_name`”\n"
     ]
    },
    {
     "name": "stdout",
     "output_type": "stream",
     "text": [
      "[1] \"8    Gene number: 1422\"\n"
     ]
    },
    {
     "name": "stderr",
     "output_type": "stream",
     "text": [
      "'select()' returned many:many mapping between keys and columns\n",
      "\n",
      "Parsed with column specification:\n",
      "cols(\n",
      "  gene_names = \u001b[31mcol_character()\u001b[39m,\n",
      "  wilcoxon_logfc = \u001b[32mcol_double()\u001b[39m,\n",
      "  wilcoxon_padj = \u001b[32mcol_double()\u001b[39m,\n",
      "  wilcoxon_score = \u001b[32mcol_double()\u001b[39m,\n",
      "  `t-test_logfc` = \u001b[32mcol_double()\u001b[39m,\n",
      "  `t-test_padj` = \u001b[32mcol_double()\u001b[39m,\n",
      "  `t-test_score` = \u001b[32mcol_double()\u001b[39m,\n",
      "  `t-test_overestim_var_logfc` = \u001b[32mcol_double()\u001b[39m,\n",
      "  `t-test_overestim_var_padj` = \u001b[32mcol_double()\u001b[39m,\n",
      "  `t-test_overestim_var_score` = \u001b[32mcol_double()\u001b[39m,\n",
      "  logreg_score = \u001b[32mcol_double()\u001b[39m\n",
      ")\n",
      "\n",
      "Warning message:\n",
      "“Unknown columns: `gene_name`”\n"
     ]
    },
    {
     "name": "stdout",
     "output_type": "stream",
     "text": [
      "[1] \"9    Gene number: 1055\"\n"
     ]
    },
    {
     "name": "stderr",
     "output_type": "stream",
     "text": [
      "'select()' returned many:many mapping between keys and columns\n",
      "\n"
     ]
    }
   ],
   "source": [
    "for (file.i in de.files) {\n",
    "    \n",
    "    ###----- Create output names & output directory\n",
    "    file.i.outpath <- gsub(de.out.dir, \"\", file.i)\n",
    "    file.i.outpath <- gsub(\".csv\", \"\", file.i.outpath)\n",
    "    file.i.outpath <- gsub(\"^/\", \"\",file.i.outpath)\n",
    "\n",
    "    file.i.simp.name <- tail(unlist(strsplit( file.i.outpath, \"/\")), 1)\n",
    "    file.i.simp.name <- gsub(\"_differential\", \"\", file.i.simp.name)\n",
    "    file.i.simp.vec <- unlist(strsplit(file.i.simp.name, \"_vs_\"))\n",
    "\n",
    "    # Create output directory\n",
    "    wk.dir <- file.path(sum.dir, file.i.outpath)\n",
    "    dir.create(wk.dir, showWarnings = FALSE, recursive=TRUE)\n",
    "    setwd(wk.dir)\n",
    "    \n",
    "    # Run GO\n",
    "    useGroup <- \"t-test_overestim_var_logfc\"\n",
    "    outName <- file.i.simp.name\n",
    "\n",
    "    success <- \"yes\"\n",
    "    gsea <- tryCatch({\n",
    "        GO_run(file.i, useGroup, outName, 1, FALSE)\n",
    "    }, error=function(cond) {\n",
    "        message(paste(file.i, \"failed\",sep='; '))\n",
    "        return(\"no\")\n",
    "    })\n",
    "}"
   ]
  },
  {
   "cell_type": "code",
   "execution_count": null,
   "metadata": {},
   "outputs": [],
   "source": []
  }
 ],
 "metadata": {
  "kernelspec": {
   "display_name": "R",
   "language": "R",
   "name": "ir"
  },
  "language_info": {
   "codemirror_mode": "r",
   "file_extension": ".r",
   "mimetype": "text/x-r-source",
   "name": "R",
   "pygments_lexer": "r",
   "version": "3.6.3"
  }
 },
 "nbformat": 4,
 "nbformat_minor": 4
}
